{
 "cells": [
  {
   "cell_type": "code",
   "execution_count": 1,
   "id": "58695290",
   "metadata": {
    "execution": {
     "iopub.execute_input": "2022-11-11T13:04:08.692455Z",
     "iopub.status.busy": "2022-11-11T13:04:08.691708Z",
     "iopub.status.idle": "2022-11-11T13:04:08.697034Z",
     "shell.execute_reply": "2022-11-11T13:04:08.696091Z"
    },
    "papermill": {
     "duration": 0.012768,
     "end_time": "2022-11-11T13:04:08.699168",
     "exception": false,
     "start_time": "2022-11-11T13:04:08.686400",
     "status": "completed"
    },
    "tags": []
   },
   "outputs": [],
   "source": [
    "#https://torchmetrics.readthedocs.io/en/stable/audio/scale_invariant_signal_noise_ratio.html"
   ]
  },
  {
   "cell_type": "code",
   "execution_count": 2,
   "id": "c01d4048",
   "metadata": {
    "execution": {
     "iopub.execute_input": "2022-11-11T13:04:08.705568Z",
     "iopub.status.busy": "2022-11-11T13:04:08.704738Z",
     "iopub.status.idle": "2022-11-11T13:04:14.802600Z",
     "shell.execute_reply": "2022-11-11T13:04:14.801619Z"
    },
    "papermill": {
     "duration": 6.103529,
     "end_time": "2022-11-11T13:04:14.805113",
     "exception": false,
     "start_time": "2022-11-11T13:04:08.701584",
     "status": "completed"
    },
    "tags": []
   },
   "outputs": [],
   "source": [
    "from IPython import display as disp\n",
    "import torch\n",
    "import torchaudio\n",
    "import librosa \n",
    "import pandas as pd \n",
    "import numpy as np\n",
    "import os \n",
    "import glob\n",
    "from tqdm import tqdm\n",
    "import torchaudio.functional as F\n",
    "import torchaudio.transforms as T\n",
    "from torchmetrics.functional.audio import scale_invariant_signal_noise_ratio"
   ]
  },
  {
   "cell_type": "code",
   "execution_count": 3,
   "id": "2606e559",
   "metadata": {
    "execution": {
     "iopub.execute_input": "2022-11-11T13:04:14.811978Z",
     "iopub.status.busy": "2022-11-11T13:04:14.811085Z",
     "iopub.status.idle": "2022-11-11T13:04:15.603013Z",
     "shell.execute_reply": "2022-11-11T13:04:15.602197Z"
    },
    "papermill": {
     "duration": 0.797462,
     "end_time": "2022-11-11T13:04:15.605088",
     "exception": false,
     "start_time": "2022-11-11T13:04:14.807626",
     "status": "completed"
    },
    "tags": []
   },
   "outputs": [
    {
     "data": {
      "text/html": [
       "<div>\n",
       "<style scoped>\n",
       "    .dataframe tbody tr th:only-of-type {\n",
       "        vertical-align: middle;\n",
       "    }\n",
       "\n",
       "    .dataframe tbody tr th {\n",
       "        vertical-align: top;\n",
       "    }\n",
       "\n",
       "    .dataframe thead th {\n",
       "        text-align: right;\n",
       "    }\n",
       "</style>\n",
       "<table border=\"1\" class=\"dataframe\">\n",
       "  <thead>\n",
       "    <tr style=\"text-align: right;\">\n",
       "      <th></th>\n",
       "      <th>test</th>\n",
       "    </tr>\n",
       "  </thead>\n",
       "  <tbody>\n",
       "    <tr>\n",
       "      <th>4274</th>\n",
       "      <td>common_voice_bn_31638487.mp3</td>\n",
       "    </tr>\n",
       "  </tbody>\n",
       "</table>\n",
       "</div>"
      ],
      "text/plain": [
       "                              test\n",
       "4274  common_voice_bn_31638487.mp3"
      ]
     },
     "execution_count": 3,
     "metadata": {},
     "output_type": "execute_result"
    }
   ],
   "source": [
    "all_test = list_of_songs = glob.glob(\"/kaggle/input/dlsprint/validation_files/*.mp3\")\n",
    "\n",
    "df = pd.DataFrame()\n",
    "\n",
    "df['test'] = all_test\n",
    "\n",
    "df['test'] = df.test.apply(lambda x:  os.path.basename(x).split('/')[-1] )\n",
    "\n",
    "df[df.test.str.contains('common_voice_bn_31638487.mp3')]"
   ]
  },
  {
   "cell_type": "code",
   "execution_count": 4,
   "id": "6153be69",
   "metadata": {
    "execution": {
     "iopub.execute_input": "2022-11-11T13:04:15.612018Z",
     "iopub.status.busy": "2022-11-11T13:04:15.611412Z",
     "iopub.status.idle": "2022-11-11T13:04:15.616009Z",
     "shell.execute_reply": "2022-11-11T13:04:15.615041Z"
    },
    "papermill": {
     "duration": 0.010443,
     "end_time": "2022-11-11T13:04:15.618060",
     "exception": false,
     "start_time": "2022-11-11T13:04:15.607617",
     "status": "completed"
    },
    "tags": []
   },
   "outputs": [],
   "source": [
    "pred_location = '/kaggle/input/dlsprint/test_files/common_voice_bn_30993444.mp3'\n",
    "target_location = '/kaggle/input/denoised-bn-valid-and-test/denoised/test_files/denoised_common_voice_bn_30993444.mp3'"
   ]
  },
  {
   "cell_type": "code",
   "execution_count": 5,
   "id": "1787ef78",
   "metadata": {
    "execution": {
     "iopub.execute_input": "2022-11-11T13:04:15.624060Z",
     "iopub.status.busy": "2022-11-11T13:04:15.623739Z",
     "iopub.status.idle": "2022-11-11T13:04:15.630479Z",
     "shell.execute_reply": "2022-11-11T13:04:15.629470Z"
    },
    "papermill": {
     "duration": 0.012131,
     "end_time": "2022-11-11T13:04:15.632566",
     "exception": false,
     "start_time": "2022-11-11T13:04:15.620435",
     "status": "completed"
    },
    "tags": []
   },
   "outputs": [],
   "source": [
    "#pred_loc = noisy , target = no noise\n",
    "def si_snr(pred_location,target_location):\n",
    "    pred=torchaudio.load(pred_location)\n",
    "    target=torchaudio.load(target_location)\n",
    "    pred = F.resample(pred[0], pred[1], target[1], rolloff=0.99)\n",
    "    target = target[0]\n",
    "    if (len(pred[0]) - len(target[0])) < 0 :\n",
    "        target=target[:,:pred.size()[-1]]\n",
    "    else:\n",
    "        pred=pred[:,:target.size()[-1]]\n",
    "    return scale_invariant_signal_noise_ratio(pred, target)"
   ]
  },
  {
   "cell_type": "code",
   "execution_count": 6,
   "id": "d4719f3a",
   "metadata": {
    "execution": {
     "iopub.execute_input": "2022-11-11T13:04:15.639094Z",
     "iopub.status.busy": "2022-11-11T13:04:15.638371Z",
     "iopub.status.idle": "2022-11-11T13:04:15.741153Z",
     "shell.execute_reply": "2022-11-11T13:04:15.739819Z"
    },
    "papermill": {
     "duration": 0.108761,
     "end_time": "2022-11-11T13:04:15.743816",
     "exception": false,
     "start_time": "2022-11-11T13:04:15.635055",
     "status": "completed"
    },
    "tags": []
   },
   "outputs": [
    {
     "data": {
      "text/plain": [
       "12.924282"
      ]
     },
     "execution_count": 6,
     "metadata": {},
     "output_type": "execute_result"
    }
   ],
   "source": [
    "abs(si_snr(pred_location,target_location).numpy()[0])"
   ]
  }
 ],
 "metadata": {
  "kernelspec": {
   "display_name": "Python 3",
   "language": "python",
   "name": "python3"
  },
  "language_info": {
   "codemirror_mode": {
    "name": "ipython",
    "version": 3
   },
   "file_extension": ".py",
   "mimetype": "text/x-python",
   "name": "python",
   "nbconvert_exporter": "python",
   "pygments_lexer": "ipython3",
   "version": "3.7.12"
  },
  "papermill": {
   "default_parameters": {},
   "duration": 17.560278,
   "end_time": "2022-11-11T13:04:16.869435",
   "environment_variables": {},
   "exception": null,
   "input_path": "__notebook__.ipynb",
   "output_path": "__notebook__.ipynb",
   "parameters": {},
   "start_time": "2022-11-11T13:03:59.309157",
   "version": "2.3.4"
  }
 },
 "nbformat": 4,
 "nbformat_minor": 5
}
