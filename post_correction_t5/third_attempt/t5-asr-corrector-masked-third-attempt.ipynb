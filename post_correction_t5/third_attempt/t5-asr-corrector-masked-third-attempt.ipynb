{
 "cells": [
  {
   "cell_type": "code",
   "execution_count": 1,
   "id": "c6c30cd8",
   "metadata": {
    "_cell_guid": "b1076dfc-b9ad-4769-8c92-a6c4dae69d19",
    "_uuid": "8f2839f25d086af736a60e9eeb907d3b93b6e0e5",
    "execution": {
     "iopub.execute_input": "2023-02-18T05:23:17.793081Z",
     "iopub.status.busy": "2023-02-18T05:23:17.792264Z",
     "iopub.status.idle": "2023-02-18T05:23:17.797951Z",
     "shell.execute_reply": "2023-02-18T05:23:17.797010Z"
    },
    "papermill": {
     "duration": 0.018298,
     "end_time": "2023-02-18T05:23:17.800604",
     "exception": false,
     "start_time": "2023-02-18T05:23:17.782306",
     "status": "completed"
    },
    "tags": []
   },
   "outputs": [],
   "source": [
    "#!pip uninstall huggingface_hub -y && pip install git+https://github.com/huggingface/huggingface_hub\n",
    "#!pip install jiwer"
   ]
  },
  {
   "cell_type": "code",
   "execution_count": 2,
   "id": "8c93f486",
   "metadata": {
    "execution": {
     "iopub.execute_input": "2023-02-18T05:23:17.811214Z",
     "iopub.status.busy": "2023-02-18T05:23:17.810664Z",
     "iopub.status.idle": "2023-02-18T05:23:28.510540Z",
     "shell.execute_reply": "2023-02-18T05:23:28.509204Z"
    },
    "papermill": {
     "duration": 10.708248,
     "end_time": "2023-02-18T05:23:28.513503",
     "exception": false,
     "start_time": "2023-02-18T05:23:17.805255",
     "status": "completed"
    },
    "tags": []
   },
   "outputs": [
    {
     "name": "stdout",
     "output_type": "stream",
     "text": [
      "INFO: Pandarallel will run on 8 workers.\n",
      "INFO: Pandarallel will use Memory file system to transfer data between the main process and workers.\n"
     ]
    }
   ],
   "source": [
    "import argparse\n",
    "import glob\n",
    "import os\n",
    "import json\n",
    "import time\n",
    "import logging\n",
    "import random\n",
    "import re\n",
    "from itertools import chain\n",
    "from string import punctuation\n",
    "\n",
    "import pandas as pd\n",
    "import numpy as np\n",
    "import torch\n",
    "from torch.utils.data import Dataset, DataLoader\n",
    "from datasets import load_dataset, Dataset\n",
    "from tqdm import tqdm\n",
    "import datasets\n",
    "\n",
    "from pandarallel import pandarallel\n",
    "pandarallel.initialize(progress_bar=True,nb_workers=8)\n",
    "tqdm.pandas()\n",
    "\n",
    "from transformers import (\n",
    "    AdamW,\n",
    "    T5ForConditionalGeneration,\n",
    "    T5Tokenizer,\n",
    "    get_linear_schedule_with_warmup\n",
    ")"
   ]
  },
  {
   "cell_type": "code",
   "execution_count": 3,
   "id": "09343d9e",
   "metadata": {
    "execution": {
     "iopub.execute_input": "2023-02-18T05:23:28.526228Z",
     "iopub.status.busy": "2023-02-18T05:23:28.524580Z",
     "iopub.status.idle": "2023-02-18T05:23:29.392310Z",
     "shell.execute_reply": "2023-02-18T05:23:29.391384Z"
    },
    "papermill": {
     "duration": 0.875859,
     "end_time": "2023-02-18T05:23:29.394603",
     "exception": false,
     "start_time": "2023-02-18T05:23:28.518744",
     "status": "completed"
    },
    "tags": []
   },
   "outputs": [],
   "source": [
    "from transformers import (\n",
    "    T5ForConditionalGeneration, T5Tokenizer, \n",
    "    TrainingArguments, Trainer, DataCollatorForSeq2Seq,AutoTokenizer,FlaxT5ForConditionalGeneration,AutoModelForSeq2SeqLM\n",
    "  )\n"
   ]
  },
  {
   "cell_type": "code",
   "execution_count": 4,
   "id": "caca32ee",
   "metadata": {
    "execution": {
     "iopub.execute_input": "2023-02-18T05:23:29.406827Z",
     "iopub.status.busy": "2023-02-18T05:23:29.404615Z",
     "iopub.status.idle": "2023-02-18T05:24:08.698224Z",
     "shell.execute_reply": "2023-02-18T05:24:08.697174Z"
    },
    "papermill": {
     "duration": 39.301612,
     "end_time": "2023-02-18T05:24:08.700792",
     "exception": false,
     "start_time": "2023-02-18T05:23:29.399180",
     "status": "completed"
    },
    "tags": []
   },
   "outputs": [
    {
     "data": {
      "application/vnd.jupyter.widget-view+json": {
       "model_id": "8609b98bd6d54372a1f86c49ad75d594",
       "version_major": 2,
       "version_minor": 0
      },
      "text/plain": [
       "Downloading:   0%|          | 0.00/1.44k [00:00<?, ?B/s]"
      ]
     },
     "metadata": {},
     "output_type": "display_data"
    },
    {
     "data": {
      "application/vnd.jupyter.widget-view+json": {
       "model_id": "72849c429bf447baabea4f7e6d2ab4df",
       "version_major": 2,
       "version_minor": 0
      },
      "text/plain": [
       "Downloading:   0%|          | 0.00/1.05M [00:00<?, ?B/s]"
      ]
     },
     "metadata": {},
     "output_type": "display_data"
    },
    {
     "name": "stderr",
     "output_type": "stream",
     "text": [
      "Special tokens have been added in the vocabulary, make sure the associated word embeddings are fine-tuned or trained.\n"
     ]
    },
    {
     "data": {
      "application/vnd.jupyter.widget-view+json": {
       "model_id": "cca01aa2c741493887bdf047cf08736b",
       "version_major": 2,
       "version_minor": 0
      },
      "text/plain": [
       "Downloading:   0%|          | 0.00/944M [00:00<?, ?B/s]"
      ]
     },
     "metadata": {},
     "output_type": "display_data"
    }
   ],
   "source": [
    "model_name = 'flax-community/bengali-t5-base'\n",
    "tokenizer = AutoTokenizer.from_pretrained(model_name)\n",
    "model = AutoModelForSeq2SeqLM.from_pretrained(model_name)"
   ]
  },
  {
   "cell_type": "code",
   "execution_count": 5,
   "id": "ba509669",
   "metadata": {
    "execution": {
     "iopub.execute_input": "2023-02-18T05:24:08.712411Z",
     "iopub.status.busy": "2023-02-18T05:24:08.712100Z",
     "iopub.status.idle": "2023-02-18T05:24:13.439488Z",
     "shell.execute_reply": "2023-02-18T05:24:13.438436Z"
    },
    "papermill": {
     "duration": 4.736156,
     "end_time": "2023-02-18T05:24:13.442177",
     "exception": false,
     "start_time": "2023-02-18T05:24:08.706021",
     "status": "completed"
    },
    "tags": []
   },
   "outputs": [],
   "source": [
    "train_data = datasets.Dataset.load_from_disk('/kaggle/input/t5-asr-corrector-masked-third-attempt-dat/train')\n",
    "test_data  = datasets.Dataset.load_from_disk('/kaggle/input/t5-asr-corrector-masked-third-attempt-dat/test')"
   ]
  },
  {
   "cell_type": "code",
   "execution_count": 6,
   "id": "61f12a13",
   "metadata": {
    "execution": {
     "iopub.execute_input": "2023-02-18T05:24:13.453280Z",
     "iopub.status.busy": "2023-02-18T05:24:13.452992Z",
     "iopub.status.idle": "2023-02-18T05:24:13.457597Z",
     "shell.execute_reply": "2023-02-18T05:24:13.456566Z"
    },
    "papermill": {
     "duration": 0.012417,
     "end_time": "2023-02-18T05:24:13.459885",
     "exception": false,
     "start_time": "2023-02-18T05:24:13.447468",
     "status": "completed"
    },
    "tags": []
   },
   "outputs": [],
   "source": [
    "#test_data[0]"
   ]
  },
  {
   "cell_type": "code",
   "execution_count": 7,
   "id": "d8e96f11",
   "metadata": {
    "execution": {
     "iopub.execute_input": "2023-02-18T05:24:13.470466Z",
     "iopub.status.busy": "2023-02-18T05:24:13.470192Z",
     "iopub.status.idle": "2023-02-18T05:24:16.373504Z",
     "shell.execute_reply": "2023-02-18T05:24:16.372606Z"
    },
    "papermill": {
     "duration": 2.911231,
     "end_time": "2023-02-18T05:24:16.375916",
     "exception": false,
     "start_time": "2023-02-18T05:24:13.464685",
     "status": "completed"
    },
    "tags": []
   },
   "outputs": [
    {
     "data": {
      "text/plain": [
       "Dataset({\n",
       "    features: ['input', 'error_word', 'output', '__index_level_0__', 'input_ids', 'attention_mask', 'labels'],\n",
       "    num_rows: 12759\n",
       "})"
      ]
     },
     "execution_count": 7,
     "metadata": {},
     "output_type": "execute_result"
    }
   ],
   "source": [
    "test_data.save_to_disk('test')\n",
    "validation = datasets.Dataset.load_from_disk('test')\n",
    "validation = validation.train_test_split(0.0625)\n",
    "validation = validation['test']\n",
    "validation"
   ]
  },
  {
   "cell_type": "code",
   "execution_count": 8,
   "id": "4a3de5c3",
   "metadata": {
    "execution": {
     "iopub.execute_input": "2023-02-18T05:24:16.387887Z",
     "iopub.status.busy": "2023-02-18T05:24:16.387025Z",
     "iopub.status.idle": "2023-02-18T05:24:16.394972Z",
     "shell.execute_reply": "2023-02-18T05:24:16.393793Z"
    },
    "papermill": {
     "duration": 0.016315,
     "end_time": "2023-02-18T05:24:16.397292",
     "exception": false,
     "start_time": "2023-02-18T05:24:16.380977",
     "status": "completed"
    },
    "tags": []
   },
   "outputs": [
    {
     "data": {
      "text/plain": [
       "1"
      ]
     },
     "execution_count": 8,
     "metadata": {},
     "output_type": "execute_result"
    }
   ],
   "source": [
    "train_data.cleanup_cache_files()\n",
    "validation.cleanup_cache_files()"
   ]
  },
  {
   "cell_type": "code",
   "execution_count": 9,
   "id": "f6d4ebd9",
   "metadata": {
    "execution": {
     "iopub.execute_input": "2023-02-18T05:24:16.408629Z",
     "iopub.status.busy": "2023-02-18T05:24:16.408335Z",
     "iopub.status.idle": "2023-02-18T05:24:16.415987Z",
     "shell.execute_reply": "2023-02-18T05:24:16.414906Z"
    },
    "papermill": {
     "duration": 0.01574,
     "end_time": "2023-02-18T05:24:16.418142",
     "exception": false,
     "start_time": "2023-02-18T05:24:16.402402",
     "status": "completed"
    },
    "tags": []
   },
   "outputs": [
    {
     "data": {
      "text/plain": [
       "Dataset({\n",
       "    features: ['input_ids', 'attention_mask', 'labels'],\n",
       "    num_rows: 1837181\n",
       "})"
      ]
     },
     "execution_count": 9,
     "metadata": {},
     "output_type": "execute_result"
    }
   ],
   "source": [
    "train_data"
   ]
  },
  {
   "cell_type": "code",
   "execution_count": 10,
   "id": "1f275c9f",
   "metadata": {
    "execution": {
     "iopub.execute_input": "2023-02-18T05:24:16.429754Z",
     "iopub.status.busy": "2023-02-18T05:24:16.429461Z",
     "iopub.status.idle": "2023-02-18T05:24:16.434144Z",
     "shell.execute_reply": "2023-02-18T05:24:16.433086Z"
    },
    "papermill": {
     "duration": 0.013176,
     "end_time": "2023-02-18T05:24:16.436598",
     "exception": false,
     "start_time": "2023-02-18T05:24:16.423422",
     "status": "completed"
    },
    "tags": []
   },
   "outputs": [],
   "source": [
    "data_collator = DataCollatorForSeq2Seq(tokenizer, model=model, padding='longest', return_tensors='pt')"
   ]
  },
  {
   "cell_type": "code",
   "execution_count": 11,
   "id": "e9394588",
   "metadata": {
    "execution": {
     "iopub.execute_input": "2023-02-18T05:24:16.447731Z",
     "iopub.status.busy": "2023-02-18T05:24:16.447433Z",
     "iopub.status.idle": "2023-02-18T05:24:17.497930Z",
     "shell.execute_reply": "2023-02-18T05:24:17.496771Z"
    },
    "papermill": {
     "duration": 1.059247,
     "end_time": "2023-02-18T05:24:17.500604",
     "exception": false,
     "start_time": "2023-02-18T05:24:16.441357",
     "status": "completed"
    },
    "tags": []
   },
   "outputs": [
    {
     "name": "stdout",
     "output_type": "stream",
     "text": [
      "/bin/bash: /opt/conda/lib/libtinfo.so.6: no version information available (required by /bin/bash)\r\n"
     ]
    }
   ],
   "source": [
    "!mkdir -p t5-asr-corrector-bn"
   ]
  },
  {
   "cell_type": "code",
   "execution_count": 12,
   "id": "a6031377",
   "metadata": {
    "execution": {
     "iopub.execute_input": "2023-02-18T05:24:17.513920Z",
     "iopub.status.busy": "2023-02-18T05:24:17.513535Z",
     "iopub.status.idle": "2023-02-18T05:24:18.251902Z",
     "shell.execute_reply": "2023-02-18T05:24:18.250925Z"
    },
    "papermill": {
     "duration": 0.747827,
     "end_time": "2023-02-18T05:24:18.253846",
     "exception": false,
     "start_time": "2023-02-18T05:24:17.506019",
     "status": "completed"
    },
    "tags": []
   },
   "outputs": [
    {
     "name": "stderr",
     "output_type": "stream",
     "text": [
      "\u001b[34m\u001b[1mwandb\u001b[0m: W&B API key is configured. Use \u001b[1m`wandb login --relogin`\u001b[0m to force relogin\n",
      "\u001b[34m\u001b[1mwandb\u001b[0m: \u001b[33mWARNING\u001b[0m If you're specifying your api key in code, ensure this code is not shared publicly.\n",
      "\u001b[34m\u001b[1mwandb\u001b[0m: \u001b[33mWARNING\u001b[0m Consider setting the WANDB_API_KEY environment variable, or running `wandb login` from the command line.\n",
      "\u001b[34m\u001b[1mwandb\u001b[0m: Appending key for api.wandb.ai to your netrc file: /root/.netrc\n"
     ]
    },
    {
     "data": {
      "text/plain": [
       "True"
      ]
     },
     "execution_count": 12,
     "metadata": {},
     "output_type": "execute_result"
    }
   ],
   "source": [
    "from kaggle_secrets import UserSecretsClient\n",
    "import wandb\n",
    "import logging\n",
    "\n",
    "user_secrets = UserSecretsClient()\n",
    "secret_value_0 = user_secrets.get_secret(\"wandb_api\")\n",
    "\n",
    "wandb.login(key=secret_value_0)"
   ]
  },
  {
   "cell_type": "code",
   "execution_count": 13,
   "id": "3c7eee01",
   "metadata": {
    "execution": {
     "iopub.execute_input": "2023-02-18T05:24:18.267597Z",
     "iopub.status.busy": "2023-02-18T05:24:18.266570Z",
     "iopub.status.idle": "2023-02-18T05:24:18.279961Z",
     "shell.execute_reply": "2023-02-18T05:24:18.279048Z"
    },
    "papermill": {
     "duration": 0.022399,
     "end_time": "2023-02-18T05:24:18.282090",
     "exception": false,
     "start_time": "2023-02-18T05:24:18.259691",
     "status": "completed"
    },
    "tags": []
   },
   "outputs": [],
   "source": [
    "# defining training related arguments\n",
    "batch_size = 32\n",
    "args = TrainingArguments(output_dir=\"t5-asr-corrector-bn-masked\",\n",
    "                        evaluation_strategy=\"steps\",\n",
    "                        per_device_train_batch_size=batch_size,\n",
    "                        per_device_eval_batch_size=batch_size,\n",
    "                        learning_rate=1e-5,\n",
    "                        num_train_epochs=2,\n",
    "                        weight_decay=0.01,\n",
    "                        save_total_limit=2,\n",
    "                        fp16 = True,\n",
    "                        gradient_accumulation_steps = 4,\n",
    "                        eval_steps = 1000,\n",
    "                        save_steps = 1000,\n",
    "                        load_best_model_at_end=True,\n",
    "                        logging_dir=\"/kaggle/logs\",\n",
    "                        push_to_hub=False,\n",
    "                       )\n",
    "                                         "
   ]
  },
  {
   "cell_type": "code",
   "execution_count": 14,
   "id": "790bde98",
   "metadata": {
    "execution": {
     "iopub.execute_input": "2023-02-18T05:24:18.294188Z",
     "iopub.status.busy": "2023-02-18T05:24:18.293915Z",
     "iopub.status.idle": "2023-02-18T05:24:18.299790Z",
     "shell.execute_reply": "2023-02-18T05:24:18.298848Z"
    },
    "papermill": {
     "duration": 0.013864,
     "end_time": "2023-02-18T05:24:18.301774",
     "exception": false,
     "start_time": "2023-02-18T05:24:18.287910",
     "status": "completed"
    },
    "tags": []
   },
   "outputs": [
    {
     "data": {
      "text/plain": [
       "Dataset({\n",
       "    features: ['input', 'error_word', 'output', '__index_level_0__', 'input_ids', 'attention_mask', 'labels'],\n",
       "    num_rows: 12759\n",
       "})"
      ]
     },
     "execution_count": 14,
     "metadata": {},
     "output_type": "execute_result"
    }
   ],
   "source": [
    "validation"
   ]
  },
  {
   "cell_type": "code",
   "execution_count": null,
   "id": "406018a3",
   "metadata": {
    "papermill": {
     "duration": 0.004942,
     "end_time": "2023-02-18T05:24:18.311999",
     "exception": false,
     "start_time": "2023-02-18T05:24:18.307057",
     "status": "completed"
    },
    "tags": []
   },
   "outputs": [],
   "source": []
  },
  {
   "cell_type": "code",
   "execution_count": 15,
   "id": "0da43e07",
   "metadata": {
    "execution": {
     "iopub.execute_input": "2023-02-18T05:24:18.323775Z",
     "iopub.status.busy": "2023-02-18T05:24:18.323508Z",
     "iopub.status.idle": "2023-02-18T05:24:22.919933Z",
     "shell.execute_reply": "2023-02-18T05:24:22.918853Z"
    },
    "papermill": {
     "duration": 4.605047,
     "end_time": "2023-02-18T05:24:22.922420",
     "exception": false,
     "start_time": "2023-02-18T05:24:18.317373",
     "status": "completed"
    },
    "tags": []
   },
   "outputs": [
    {
     "name": "stderr",
     "output_type": "stream",
     "text": [
      "Using cuda_amp half precision backend\n"
     ]
    }
   ],
   "source": [
    "# defining trainer using 🤗\n",
    "trainer = Trainer(model=model, \n",
    "                args=args, \n",
    "                train_dataset= train_data,\n",
    "                eval_dataset=validation,\n",
    "                tokenizer=tokenizer,\n",
    "                data_collator=data_collator,\n",
    "                )"
   ]
  },
  {
   "cell_type": "code",
   "execution_count": 16,
   "id": "796ad8d5",
   "metadata": {
    "execution": {
     "iopub.execute_input": "2023-02-18T05:24:22.934843Z",
     "iopub.status.busy": "2023-02-18T05:24:22.934495Z",
     "iopub.status.idle": "2023-02-18T14:31:56.784432Z",
     "shell.execute_reply": "2023-02-18T14:31:56.783538Z"
    },
    "papermill": {
     "duration": 32853.860823,
     "end_time": "2023-02-18T14:31:56.789125",
     "exception": false,
     "start_time": "2023-02-18T05:24:22.928302",
     "status": "completed"
    },
    "tags": []
   },
   "outputs": [
    {
     "name": "stderr",
     "output_type": "stream",
     "text": [
      "/opt/conda/lib/python3.7/site-packages/transformers/optimization.py:310: FutureWarning: This implementation of AdamW is deprecated and will be removed in a future version. Use the PyTorch implementation torch.optim.AdamW instead, or set `no_deprecation_warning=True` to disable this warning\n",
      "  FutureWarning,\n",
      "***** Running training *****\n",
      "  Num examples = 1837181\n",
      "  Num Epochs = 2\n",
      "  Instantaneous batch size per device = 32\n",
      "  Total train batch size (w. parallel, distributed & accumulation) = 256\n",
      "  Gradient Accumulation steps = 4\n",
      "  Total optimization steps = 14352\n",
      "Automatic Weights & Biases logging enabled, to disable set os.environ[\"WANDB_DISABLED\"] = \"true\"\n",
      "\u001b[34m\u001b[1mwandb\u001b[0m: Currently logged in as: \u001b[33mmushrafi88\u001b[0m. Use \u001b[1m`wandb login --relogin`\u001b[0m to force relogin\n"
     ]
    },
    {
     "data": {
      "text/html": [
       "wandb version 0.13.10 is available!  To upgrade, please run:\n",
       " $ pip install wandb --upgrade"
      ],
      "text/plain": [
       "<IPython.core.display.HTML object>"
      ]
     },
     "metadata": {},
     "output_type": "display_data"
    },
    {
     "data": {
      "text/html": [
       "Tracking run with wandb version 0.12.21"
      ],
      "text/plain": [
       "<IPython.core.display.HTML object>"
      ]
     },
     "metadata": {},
     "output_type": "display_data"
    },
    {
     "data": {
      "text/html": [
       "Run data is saved locally in <code>/kaggle/working/wandb/run-20230218_052423-gz488kro</code>"
      ],
      "text/plain": [
       "<IPython.core.display.HTML object>"
      ]
     },
     "metadata": {},
     "output_type": "display_data"
    },
    {
     "data": {
      "text/html": [
       "Syncing run <strong><a href=\"https://wandb.ai/mushrafi88/huggingface/runs/gz488kro\" target=\"_blank\">t5-asr-corrector-bn-masked</a></strong> to <a href=\"https://wandb.ai/mushrafi88/huggingface\" target=\"_blank\">Weights & Biases</a> (<a href=\"https://wandb.me/run\" target=\"_blank\">docs</a>)<br/>"
      ],
      "text/plain": [
       "<IPython.core.display.HTML object>"
      ]
     },
     "metadata": {},
     "output_type": "display_data"
    },
    {
     "name": "stderr",
     "output_type": "stream",
     "text": [
      "/opt/conda/lib/python3.7/site-packages/torch/nn/parallel/_functions.py:68: UserWarning: Was asked to gather along dimension 0, but all input tensors were scalars; will instead unsqueeze and return a vector.\n",
      "  warnings.warn('Was asked to gather along dimension 0, but all '\n"
     ]
    },
    {
     "data": {
      "text/html": [
       "\n",
       "    <div>\n",
       "      \n",
       "      <progress value='14352' max='14352' style='width:300px; height:20px; vertical-align: middle;'></progress>\n",
       "      [14352/14352 9:07:16, Epoch 1/2]\n",
       "    </div>\n",
       "    <table border=\"1\" class=\"dataframe\">\n",
       "  <thead>\n",
       " <tr style=\"text-align: left;\">\n",
       "      <th>Step</th>\n",
       "      <th>Training Loss</th>\n",
       "      <th>Validation Loss</th>\n",
       "    </tr>\n",
       "  </thead>\n",
       "  <tbody>\n",
       "    <tr>\n",
       "      <td>1000</td>\n",
       "      <td>0.168400</td>\n",
       "      <td>0.157650</td>\n",
       "    </tr>\n",
       "    <tr>\n",
       "      <td>2000</td>\n",
       "      <td>0.145000</td>\n",
       "      <td>0.133346</td>\n",
       "    </tr>\n",
       "    <tr>\n",
       "      <td>3000</td>\n",
       "      <td>0.127200</td>\n",
       "      <td>0.114612</td>\n",
       "    </tr>\n",
       "    <tr>\n",
       "      <td>4000</td>\n",
       "      <td>0.114200</td>\n",
       "      <td>0.101210</td>\n",
       "    </tr>\n",
       "    <tr>\n",
       "      <td>5000</td>\n",
       "      <td>0.104900</td>\n",
       "      <td>0.091804</td>\n",
       "    </tr>\n",
       "    <tr>\n",
       "      <td>6000</td>\n",
       "      <td>0.097400</td>\n",
       "      <td>0.084531</td>\n",
       "    </tr>\n",
       "    <tr>\n",
       "      <td>7000</td>\n",
       "      <td>0.091700</td>\n",
       "      <td>0.079071</td>\n",
       "    </tr>\n",
       "    <tr>\n",
       "      <td>8000</td>\n",
       "      <td>0.086400</td>\n",
       "      <td>0.074968</td>\n",
       "    </tr>\n",
       "    <tr>\n",
       "      <td>9000</td>\n",
       "      <td>0.083500</td>\n",
       "      <td>0.071651</td>\n",
       "    </tr>\n",
       "    <tr>\n",
       "      <td>10000</td>\n",
       "      <td>0.080900</td>\n",
       "      <td>0.069227</td>\n",
       "    </tr>\n",
       "    <tr>\n",
       "      <td>11000</td>\n",
       "      <td>0.078500</td>\n",
       "      <td>0.067262</td>\n",
       "    </tr>\n",
       "    <tr>\n",
       "      <td>12000</td>\n",
       "      <td>0.077200</td>\n",
       "      <td>0.065909</td>\n",
       "    </tr>\n",
       "    <tr>\n",
       "      <td>13000</td>\n",
       "      <td>0.075800</td>\n",
       "      <td>0.065084</td>\n",
       "    </tr>\n",
       "    <tr>\n",
       "      <td>14000</td>\n",
       "      <td>0.075600</td>\n",
       "      <td>0.064665</td>\n",
       "    </tr>\n",
       "  </tbody>\n",
       "</table><p>"
      ],
      "text/plain": [
       "<IPython.core.display.HTML object>"
      ]
     },
     "metadata": {},
     "output_type": "display_data"
    },
    {
     "name": "stderr",
     "output_type": "stream",
     "text": [
      "The following columns in the evaluation set don't have a corresponding argument in `MT5ForConditionalGeneration.forward` and have been ignored: error_word, output, input, __index_level_0__. If error_word, output, input, __index_level_0__ are not expected by `MT5ForConditionalGeneration.forward`,  you can safely ignore this message.\n",
      "***** Running Evaluation *****\n",
      "  Num examples = 12759\n",
      "  Batch size = 64\n",
      "Saving model checkpoint to t5-asr-corrector-bn-masked/checkpoint-1000\n",
      "Configuration saved in t5-asr-corrector-bn-masked/checkpoint-1000/config.json\n",
      "Model weights saved in t5-asr-corrector-bn-masked/checkpoint-1000/pytorch_model.bin\n",
      "tokenizer config file saved in t5-asr-corrector-bn-masked/checkpoint-1000/tokenizer_config.json\n",
      "Special tokens file saved in t5-asr-corrector-bn-masked/checkpoint-1000/special_tokens_map.json\n",
      "/opt/conda/lib/python3.7/site-packages/torch/nn/parallel/_functions.py:68: UserWarning: Was asked to gather along dimension 0, but all input tensors were scalars; will instead unsqueeze and return a vector.\n",
      "  warnings.warn('Was asked to gather along dimension 0, but all '\n",
      "The following columns in the evaluation set don't have a corresponding argument in `MT5ForConditionalGeneration.forward` and have been ignored: error_word, output, input, __index_level_0__. If error_word, output, input, __index_level_0__ are not expected by `MT5ForConditionalGeneration.forward`,  you can safely ignore this message.\n",
      "***** Running Evaluation *****\n",
      "  Num examples = 12759\n",
      "  Batch size = 64\n",
      "Saving model checkpoint to t5-asr-corrector-bn-masked/checkpoint-2000\n",
      "Configuration saved in t5-asr-corrector-bn-masked/checkpoint-2000/config.json\n",
      "Model weights saved in t5-asr-corrector-bn-masked/checkpoint-2000/pytorch_model.bin\n",
      "tokenizer config file saved in t5-asr-corrector-bn-masked/checkpoint-2000/tokenizer_config.json\n",
      "Special tokens file saved in t5-asr-corrector-bn-masked/checkpoint-2000/special_tokens_map.json\n",
      "/opt/conda/lib/python3.7/site-packages/torch/nn/parallel/_functions.py:68: UserWarning: Was asked to gather along dimension 0, but all input tensors were scalars; will instead unsqueeze and return a vector.\n",
      "  warnings.warn('Was asked to gather along dimension 0, but all '\n",
      "The following columns in the evaluation set don't have a corresponding argument in `MT5ForConditionalGeneration.forward` and have been ignored: error_word, output, input, __index_level_0__. If error_word, output, input, __index_level_0__ are not expected by `MT5ForConditionalGeneration.forward`,  you can safely ignore this message.\n",
      "***** Running Evaluation *****\n",
      "  Num examples = 12759\n",
      "  Batch size = 64\n",
      "Saving model checkpoint to t5-asr-corrector-bn-masked/checkpoint-3000\n",
      "Configuration saved in t5-asr-corrector-bn-masked/checkpoint-3000/config.json\n",
      "Model weights saved in t5-asr-corrector-bn-masked/checkpoint-3000/pytorch_model.bin\n",
      "tokenizer config file saved in t5-asr-corrector-bn-masked/checkpoint-3000/tokenizer_config.json\n",
      "Special tokens file saved in t5-asr-corrector-bn-masked/checkpoint-3000/special_tokens_map.json\n",
      "Deleting older checkpoint [t5-asr-corrector-bn-masked/checkpoint-1000] due to args.save_total_limit\n",
      "/opt/conda/lib/python3.7/site-packages/torch/nn/parallel/_functions.py:68: UserWarning: Was asked to gather along dimension 0, but all input tensors were scalars; will instead unsqueeze and return a vector.\n",
      "  warnings.warn('Was asked to gather along dimension 0, but all '\n",
      "The following columns in the evaluation set don't have a corresponding argument in `MT5ForConditionalGeneration.forward` and have been ignored: error_word, output, input, __index_level_0__. If error_word, output, input, __index_level_0__ are not expected by `MT5ForConditionalGeneration.forward`,  you can safely ignore this message.\n",
      "***** Running Evaluation *****\n",
      "  Num examples = 12759\n",
      "  Batch size = 64\n",
      "Saving model checkpoint to t5-asr-corrector-bn-masked/checkpoint-4000\n",
      "Configuration saved in t5-asr-corrector-bn-masked/checkpoint-4000/config.json\n",
      "Model weights saved in t5-asr-corrector-bn-masked/checkpoint-4000/pytorch_model.bin\n",
      "tokenizer config file saved in t5-asr-corrector-bn-masked/checkpoint-4000/tokenizer_config.json\n",
      "Special tokens file saved in t5-asr-corrector-bn-masked/checkpoint-4000/special_tokens_map.json\n",
      "Deleting older checkpoint [t5-asr-corrector-bn-masked/checkpoint-2000] due to args.save_total_limit\n",
      "/opt/conda/lib/python3.7/site-packages/torch/nn/parallel/_functions.py:68: UserWarning: Was asked to gather along dimension 0, but all input tensors were scalars; will instead unsqueeze and return a vector.\n",
      "  warnings.warn('Was asked to gather along dimension 0, but all '\n",
      "The following columns in the evaluation set don't have a corresponding argument in `MT5ForConditionalGeneration.forward` and have been ignored: error_word, output, input, __index_level_0__. If error_word, output, input, __index_level_0__ are not expected by `MT5ForConditionalGeneration.forward`,  you can safely ignore this message.\n",
      "***** Running Evaluation *****\n",
      "  Num examples = 12759\n",
      "  Batch size = 64\n",
      "Saving model checkpoint to t5-asr-corrector-bn-masked/checkpoint-5000\n",
      "Configuration saved in t5-asr-corrector-bn-masked/checkpoint-5000/config.json\n",
      "Model weights saved in t5-asr-corrector-bn-masked/checkpoint-5000/pytorch_model.bin\n",
      "tokenizer config file saved in t5-asr-corrector-bn-masked/checkpoint-5000/tokenizer_config.json\n",
      "Special tokens file saved in t5-asr-corrector-bn-masked/checkpoint-5000/special_tokens_map.json\n",
      "Deleting older checkpoint [t5-asr-corrector-bn-masked/checkpoint-3000] due to args.save_total_limit\n",
      "/opt/conda/lib/python3.7/site-packages/torch/nn/parallel/_functions.py:68: UserWarning: Was asked to gather along dimension 0, but all input tensors were scalars; will instead unsqueeze and return a vector.\n",
      "  warnings.warn('Was asked to gather along dimension 0, but all '\n",
      "The following columns in the evaluation set don't have a corresponding argument in `MT5ForConditionalGeneration.forward` and have been ignored: error_word, output, input, __index_level_0__. If error_word, output, input, __index_level_0__ are not expected by `MT5ForConditionalGeneration.forward`,  you can safely ignore this message.\n",
      "***** Running Evaluation *****\n",
      "  Num examples = 12759\n",
      "  Batch size = 64\n",
      "Saving model checkpoint to t5-asr-corrector-bn-masked/checkpoint-6000\n",
      "Configuration saved in t5-asr-corrector-bn-masked/checkpoint-6000/config.json\n",
      "Model weights saved in t5-asr-corrector-bn-masked/checkpoint-6000/pytorch_model.bin\n",
      "tokenizer config file saved in t5-asr-corrector-bn-masked/checkpoint-6000/tokenizer_config.json\n",
      "Special tokens file saved in t5-asr-corrector-bn-masked/checkpoint-6000/special_tokens_map.json\n",
      "Deleting older checkpoint [t5-asr-corrector-bn-masked/checkpoint-4000] due to args.save_total_limit\n",
      "/opt/conda/lib/python3.7/site-packages/torch/nn/parallel/_functions.py:68: UserWarning: Was asked to gather along dimension 0, but all input tensors were scalars; will instead unsqueeze and return a vector.\n",
      "  warnings.warn('Was asked to gather along dimension 0, but all '\n",
      "The following columns in the evaluation set don't have a corresponding argument in `MT5ForConditionalGeneration.forward` and have been ignored: error_word, output, input, __index_level_0__. If error_word, output, input, __index_level_0__ are not expected by `MT5ForConditionalGeneration.forward`,  you can safely ignore this message.\n",
      "***** Running Evaluation *****\n",
      "  Num examples = 12759\n",
      "  Batch size = 64\n",
      "Saving model checkpoint to t5-asr-corrector-bn-masked/checkpoint-7000\n",
      "Configuration saved in t5-asr-corrector-bn-masked/checkpoint-7000/config.json\n",
      "Model weights saved in t5-asr-corrector-bn-masked/checkpoint-7000/pytorch_model.bin\n",
      "tokenizer config file saved in t5-asr-corrector-bn-masked/checkpoint-7000/tokenizer_config.json\n",
      "Special tokens file saved in t5-asr-corrector-bn-masked/checkpoint-7000/special_tokens_map.json\n",
      "Deleting older checkpoint [t5-asr-corrector-bn-masked/checkpoint-5000] due to args.save_total_limit\n",
      "/opt/conda/lib/python3.7/site-packages/torch/nn/parallel/_functions.py:68: UserWarning: Was asked to gather along dimension 0, but all input tensors were scalars; will instead unsqueeze and return a vector.\n",
      "  warnings.warn('Was asked to gather along dimension 0, but all '\n",
      "The following columns in the evaluation set don't have a corresponding argument in `MT5ForConditionalGeneration.forward` and have been ignored: error_word, output, input, __index_level_0__. If error_word, output, input, __index_level_0__ are not expected by `MT5ForConditionalGeneration.forward`,  you can safely ignore this message.\n",
      "***** Running Evaluation *****\n",
      "  Num examples = 12759\n",
      "  Batch size = 64\n",
      "Saving model checkpoint to t5-asr-corrector-bn-masked/checkpoint-8000\n",
      "Configuration saved in t5-asr-corrector-bn-masked/checkpoint-8000/config.json\n",
      "Model weights saved in t5-asr-corrector-bn-masked/checkpoint-8000/pytorch_model.bin\n",
      "tokenizer config file saved in t5-asr-corrector-bn-masked/checkpoint-8000/tokenizer_config.json\n",
      "Special tokens file saved in t5-asr-corrector-bn-masked/checkpoint-8000/special_tokens_map.json\n",
      "Deleting older checkpoint [t5-asr-corrector-bn-masked/checkpoint-6000] due to args.save_total_limit\n",
      "/opt/conda/lib/python3.7/site-packages/torch/nn/parallel/_functions.py:68: UserWarning: Was asked to gather along dimension 0, but all input tensors were scalars; will instead unsqueeze and return a vector.\n",
      "  warnings.warn('Was asked to gather along dimension 0, but all '\n",
      "The following columns in the evaluation set don't have a corresponding argument in `MT5ForConditionalGeneration.forward` and have been ignored: error_word, output, input, __index_level_0__. If error_word, output, input, __index_level_0__ are not expected by `MT5ForConditionalGeneration.forward`,  you can safely ignore this message.\n",
      "***** Running Evaluation *****\n",
      "  Num examples = 12759\n",
      "  Batch size = 64\n",
      "Saving model checkpoint to t5-asr-corrector-bn-masked/checkpoint-9000\n",
      "Configuration saved in t5-asr-corrector-bn-masked/checkpoint-9000/config.json\n",
      "Model weights saved in t5-asr-corrector-bn-masked/checkpoint-9000/pytorch_model.bin\n",
      "tokenizer config file saved in t5-asr-corrector-bn-masked/checkpoint-9000/tokenizer_config.json\n",
      "Special tokens file saved in t5-asr-corrector-bn-masked/checkpoint-9000/special_tokens_map.json\n",
      "Deleting older checkpoint [t5-asr-corrector-bn-masked/checkpoint-7000] due to args.save_total_limit\n",
      "/opt/conda/lib/python3.7/site-packages/torch/nn/parallel/_functions.py:68: UserWarning: Was asked to gather along dimension 0, but all input tensors were scalars; will instead unsqueeze and return a vector.\n",
      "  warnings.warn('Was asked to gather along dimension 0, but all '\n",
      "The following columns in the evaluation set don't have a corresponding argument in `MT5ForConditionalGeneration.forward` and have been ignored: error_word, output, input, __index_level_0__. If error_word, output, input, __index_level_0__ are not expected by `MT5ForConditionalGeneration.forward`,  you can safely ignore this message.\n",
      "***** Running Evaluation *****\n",
      "  Num examples = 12759\n",
      "  Batch size = 64\n",
      "Saving model checkpoint to t5-asr-corrector-bn-masked/checkpoint-10000\n",
      "Configuration saved in t5-asr-corrector-bn-masked/checkpoint-10000/config.json\n",
      "Model weights saved in t5-asr-corrector-bn-masked/checkpoint-10000/pytorch_model.bin\n",
      "tokenizer config file saved in t5-asr-corrector-bn-masked/checkpoint-10000/tokenizer_config.json\n",
      "Special tokens file saved in t5-asr-corrector-bn-masked/checkpoint-10000/special_tokens_map.json\n",
      "Deleting older checkpoint [t5-asr-corrector-bn-masked/checkpoint-8000] due to args.save_total_limit\n",
      "/opt/conda/lib/python3.7/site-packages/torch/nn/parallel/_functions.py:68: UserWarning: Was asked to gather along dimension 0, but all input tensors were scalars; will instead unsqueeze and return a vector.\n",
      "  warnings.warn('Was asked to gather along dimension 0, but all '\n",
      "The following columns in the evaluation set don't have a corresponding argument in `MT5ForConditionalGeneration.forward` and have been ignored: error_word, output, input, __index_level_0__. If error_word, output, input, __index_level_0__ are not expected by `MT5ForConditionalGeneration.forward`,  you can safely ignore this message.\n",
      "***** Running Evaluation *****\n",
      "  Num examples = 12759\n",
      "  Batch size = 64\n",
      "Saving model checkpoint to t5-asr-corrector-bn-masked/checkpoint-11000\n",
      "Configuration saved in t5-asr-corrector-bn-masked/checkpoint-11000/config.json\n",
      "Model weights saved in t5-asr-corrector-bn-masked/checkpoint-11000/pytorch_model.bin\n",
      "tokenizer config file saved in t5-asr-corrector-bn-masked/checkpoint-11000/tokenizer_config.json\n",
      "Special tokens file saved in t5-asr-corrector-bn-masked/checkpoint-11000/special_tokens_map.json\n",
      "Deleting older checkpoint [t5-asr-corrector-bn-masked/checkpoint-9000] due to args.save_total_limit\n",
      "/opt/conda/lib/python3.7/site-packages/torch/nn/parallel/_functions.py:68: UserWarning: Was asked to gather along dimension 0, but all input tensors were scalars; will instead unsqueeze and return a vector.\n",
      "  warnings.warn('Was asked to gather along dimension 0, but all '\n",
      "The following columns in the evaluation set don't have a corresponding argument in `MT5ForConditionalGeneration.forward` and have been ignored: error_word, output, input, __index_level_0__. If error_word, output, input, __index_level_0__ are not expected by `MT5ForConditionalGeneration.forward`,  you can safely ignore this message.\n",
      "***** Running Evaluation *****\n",
      "  Num examples = 12759\n",
      "  Batch size = 64\n",
      "Saving model checkpoint to t5-asr-corrector-bn-masked/checkpoint-12000\n",
      "Configuration saved in t5-asr-corrector-bn-masked/checkpoint-12000/config.json\n",
      "Model weights saved in t5-asr-corrector-bn-masked/checkpoint-12000/pytorch_model.bin\n",
      "tokenizer config file saved in t5-asr-corrector-bn-masked/checkpoint-12000/tokenizer_config.json\n",
      "Special tokens file saved in t5-asr-corrector-bn-masked/checkpoint-12000/special_tokens_map.json\n",
      "Deleting older checkpoint [t5-asr-corrector-bn-masked/checkpoint-10000] due to args.save_total_limit\n",
      "/opt/conda/lib/python3.7/site-packages/torch/nn/parallel/_functions.py:68: UserWarning: Was asked to gather along dimension 0, but all input tensors were scalars; will instead unsqueeze and return a vector.\n",
      "  warnings.warn('Was asked to gather along dimension 0, but all '\n",
      "The following columns in the evaluation set don't have a corresponding argument in `MT5ForConditionalGeneration.forward` and have been ignored: error_word, output, input, __index_level_0__. If error_word, output, input, __index_level_0__ are not expected by `MT5ForConditionalGeneration.forward`,  you can safely ignore this message.\n",
      "***** Running Evaluation *****\n",
      "  Num examples = 12759\n",
      "  Batch size = 64\n",
      "Saving model checkpoint to t5-asr-corrector-bn-masked/checkpoint-13000\n",
      "Configuration saved in t5-asr-corrector-bn-masked/checkpoint-13000/config.json\n",
      "Model weights saved in t5-asr-corrector-bn-masked/checkpoint-13000/pytorch_model.bin\n",
      "tokenizer config file saved in t5-asr-corrector-bn-masked/checkpoint-13000/tokenizer_config.json\n",
      "Special tokens file saved in t5-asr-corrector-bn-masked/checkpoint-13000/special_tokens_map.json\n",
      "Deleting older checkpoint [t5-asr-corrector-bn-masked/checkpoint-11000] due to args.save_total_limit\n",
      "/opt/conda/lib/python3.7/site-packages/torch/nn/parallel/_functions.py:68: UserWarning: Was asked to gather along dimension 0, but all input tensors were scalars; will instead unsqueeze and return a vector.\n",
      "  warnings.warn('Was asked to gather along dimension 0, but all '\n",
      "The following columns in the evaluation set don't have a corresponding argument in `MT5ForConditionalGeneration.forward` and have been ignored: error_word, output, input, __index_level_0__. If error_word, output, input, __index_level_0__ are not expected by `MT5ForConditionalGeneration.forward`,  you can safely ignore this message.\n",
      "***** Running Evaluation *****\n",
      "  Num examples = 12759\n",
      "  Batch size = 64\n",
      "Saving model checkpoint to t5-asr-corrector-bn-masked/checkpoint-14000\n",
      "Configuration saved in t5-asr-corrector-bn-masked/checkpoint-14000/config.json\n",
      "Model weights saved in t5-asr-corrector-bn-masked/checkpoint-14000/pytorch_model.bin\n",
      "tokenizer config file saved in t5-asr-corrector-bn-masked/checkpoint-14000/tokenizer_config.json\n",
      "Special tokens file saved in t5-asr-corrector-bn-masked/checkpoint-14000/special_tokens_map.json\n",
      "Deleting older checkpoint [t5-asr-corrector-bn-masked/checkpoint-12000] due to args.save_total_limit\n",
      "/opt/conda/lib/python3.7/site-packages/torch/nn/parallel/_functions.py:68: UserWarning: Was asked to gather along dimension 0, but all input tensors were scalars; will instead unsqueeze and return a vector.\n",
      "  warnings.warn('Was asked to gather along dimension 0, but all '\n",
      "\n",
      "\n",
      "Training completed. Do not forget to share your model on huggingface.co/models =)\n",
      "\n",
      "\n",
      "Loading best model from t5-asr-corrector-bn-masked/checkpoint-14000 (score: 0.06466541439294815).\n"
     ]
    },
    {
     "data": {
      "text/plain": [
       "TrainOutput(global_step=14352, training_loss=0.1314307711727776, metrics={'train_runtime': 32853.7953, 'train_samples_per_second': 111.84, 'train_steps_per_second': 0.437, 'total_flos': 3.144753711412347e+17, 'train_loss': 0.1314307711727776, 'epoch': 2.0})"
      ]
     },
     "execution_count": 16,
     "metadata": {},
     "output_type": "execute_result"
    }
   ],
   "source": [
    "trainer.train()"
   ]
  },
  {
   "cell_type": "code",
   "execution_count": 17,
   "id": "5c933060",
   "metadata": {
    "execution": {
     "iopub.execute_input": "2023-02-18T14:31:56.836264Z",
     "iopub.status.busy": "2023-02-18T14:31:56.835908Z",
     "iopub.status.idle": "2023-02-18T14:31:58.655187Z",
     "shell.execute_reply": "2023-02-18T14:31:58.654263Z"
    },
    "papermill": {
     "duration": 1.845391,
     "end_time": "2023-02-18T14:31:58.657339",
     "exception": false,
     "start_time": "2023-02-18T14:31:56.811948",
     "status": "completed"
    },
    "tags": []
   },
   "outputs": [
    {
     "name": "stderr",
     "output_type": "stream",
     "text": [
      "Saving model checkpoint to t5_asr_bn_corrector_third_attempt\n",
      "Configuration saved in t5_asr_bn_corrector_third_attempt/config.json\n",
      "Model weights saved in t5_asr_bn_corrector_third_attempt/pytorch_model.bin\n",
      "tokenizer config file saved in t5_asr_bn_corrector_third_attempt/tokenizer_config.json\n",
      "Special tokens file saved in t5_asr_bn_corrector_third_attempt/special_tokens_map.json\n"
     ]
    }
   ],
   "source": [
    "trainer.save_model('t5_asr_bn_corrector_third_attempt')"
   ]
  },
  {
   "cell_type": "code",
   "execution_count": null,
   "id": "af6e2b0d",
   "metadata": {
    "papermill": {
     "duration": 0.014504,
     "end_time": "2023-02-18T14:31:58.687681",
     "exception": false,
     "start_time": "2023-02-18T14:31:58.673177",
     "status": "completed"
    },
    "tags": []
   },
   "outputs": [],
   "source": []
  }
 ],
 "metadata": {
  "kernelspec": {
   "display_name": "Python 3",
   "language": "python",
   "name": "python3"
  },
  "language_info": {
   "codemirror_mode": {
    "name": "ipython",
    "version": 3
   },
   "file_extension": ".py",
   "mimetype": "text/x-python",
   "name": "python",
   "nbconvert_exporter": "python",
   "pygments_lexer": "ipython3",
   "version": "3.7.12"
  },
  "papermill": {
   "default_parameters": {},
   "duration": 32932.412361,
   "end_time": "2023-02-18T14:32:01.779897",
   "environment_variables": {},
   "exception": null,
   "input_path": "__notebook__.ipynb",
   "output_path": "__notebook__.ipynb",
   "parameters": {},
   "start_time": "2023-02-18T05:23:09.367536",
   "version": "2.3.4"
  },
  "widgets": {
   "application/vnd.jupyter.widget-state+json": {
    "state": {
     "0bf2a1a5cad549539bc071a6bc426217": {
      "model_module": "@jupyter-widgets/controls",
      "model_module_version": "1.5.0",
      "model_name": "HTMLModel",
      "state": {
       "_dom_classes": [],
       "_model_module": "@jupyter-widgets/controls",
       "_model_module_version": "1.5.0",
       "_model_name": "HTMLModel",
       "_view_count": null,
       "_view_module": "@jupyter-widgets/controls",
       "_view_module_version": "1.5.0",
       "_view_name": "HTMLView",
       "description": "",
       "description_tooltip": null,
       "layout": "IPY_MODEL_52dd6fc55668433492df13ddd795565a",
       "placeholder": "​",
       "style": "IPY_MODEL_0dc4a28496024c078d680b5726a2b563",
       "value": "Downloading: 100%"
      }
     },
     "0dc4a28496024c078d680b5726a2b563": {
      "model_module": "@jupyter-widgets/controls",
      "model_module_version": "1.5.0",
      "model_name": "DescriptionStyleModel",
      "state": {
       "_model_module": "@jupyter-widgets/controls",
       "_model_module_version": "1.5.0",
       "_model_name": "DescriptionStyleModel",
       "_view_count": null,
       "_view_module": "@jupyter-widgets/base",
       "_view_module_version": "1.2.0",
       "_view_name": "StyleView",
       "description_width": ""
      }
     },
     "10e4a08c7a564bad80574b7797c5fab2": {
      "model_module": "@jupyter-widgets/base",
      "model_module_version": "1.2.0",
      "model_name": "LayoutModel",
      "state": {
       "_model_module": "@jupyter-widgets/base",
       "_model_module_version": "1.2.0",
       "_model_name": "LayoutModel",
       "_view_count": null,
       "_view_module": "@jupyter-widgets/base",
       "_view_module_version": "1.2.0",
       "_view_name": "LayoutView",
       "align_content": null,
       "align_items": null,
       "align_self": null,
       "border": null,
       "bottom": null,
       "display": null,
       "flex": null,
       "flex_flow": null,
       "grid_area": null,
       "grid_auto_columns": null,
       "grid_auto_flow": null,
       "grid_auto_rows": null,
       "grid_column": null,
       "grid_gap": null,
       "grid_row": null,
       "grid_template_areas": null,
       "grid_template_columns": null,
       "grid_template_rows": null,
       "height": null,
       "justify_content": null,
       "justify_items": null,
       "left": null,
       "margin": null,
       "max_height": null,
       "max_width": null,
       "min_height": null,
       "min_width": null,
       "object_fit": null,
       "object_position": null,
       "order": null,
       "overflow": null,
       "overflow_x": null,
       "overflow_y": null,
       "padding": null,
       "right": null,
       "top": null,
       "visibility": null,
       "width": null
      }
     },
     "1348845c12c0446792331486479c61a6": {
      "model_module": "@jupyter-widgets/base",
      "model_module_version": "1.2.0",
      "model_name": "LayoutModel",
      "state": {
       "_model_module": "@jupyter-widgets/base",
       "_model_module_version": "1.2.0",
       "_model_name": "LayoutModel",
       "_view_count": null,
       "_view_module": "@jupyter-widgets/base",
       "_view_module_version": "1.2.0",
       "_view_name": "LayoutView",
       "align_content": null,
       "align_items": null,
       "align_self": null,
       "border": null,
       "bottom": null,
       "display": null,
       "flex": null,
       "flex_flow": null,
       "grid_area": null,
       "grid_auto_columns": null,
       "grid_auto_flow": null,
       "grid_auto_rows": null,
       "grid_column": null,
       "grid_gap": null,
       "grid_row": null,
       "grid_template_areas": null,
       "grid_template_columns": null,
       "grid_template_rows": null,
       "height": null,
       "justify_content": null,
       "justify_items": null,
       "left": null,
       "margin": null,
       "max_height": null,
       "max_width": null,
       "min_height": null,
       "min_width": null,
       "object_fit": null,
       "object_position": null,
       "order": null,
       "overflow": null,
       "overflow_x": null,
       "overflow_y": null,
       "padding": null,
       "right": null,
       "top": null,
       "visibility": null,
       "width": null
      }
     },
     "1883d35529804574872a983730bc8a24": {
      "model_module": "@jupyter-widgets/controls",
      "model_module_version": "1.5.0",
      "model_name": "FloatProgressModel",
      "state": {
       "_dom_classes": [],
       "_model_module": "@jupyter-widgets/controls",
       "_model_module_version": "1.5.0",
       "_model_name": "FloatProgressModel",
       "_view_count": null,
       "_view_module": "@jupyter-widgets/controls",
       "_view_module_version": "1.5.0",
       "_view_name": "ProgressView",
       "bar_style": "success",
       "description": "",
       "description_tooltip": null,
       "layout": "IPY_MODEL_8bd1a2137a91426a82e46c79f6868cbb",
       "max": 990271101.0,
       "min": 0.0,
       "orientation": "horizontal",
       "style": "IPY_MODEL_c31de1b88dba488c83ce8c5630b258e8",
       "value": 990271101.0
      }
     },
     "1b7b3578cf4342f7bedbba22ee680ada": {
      "model_module": "@jupyter-widgets/controls",
      "model_module_version": "1.5.0",
      "model_name": "DescriptionStyleModel",
      "state": {
       "_model_module": "@jupyter-widgets/controls",
       "_model_module_version": "1.5.0",
       "_model_name": "DescriptionStyleModel",
       "_view_count": null,
       "_view_module": "@jupyter-widgets/base",
       "_view_module_version": "1.2.0",
       "_view_name": "StyleView",
       "description_width": ""
      }
     },
     "1c943e56779246d8b4280308145b3525": {
      "model_module": "@jupyter-widgets/base",
      "model_module_version": "1.2.0",
      "model_name": "LayoutModel",
      "state": {
       "_model_module": "@jupyter-widgets/base",
       "_model_module_version": "1.2.0",
       "_model_name": "LayoutModel",
       "_view_count": null,
       "_view_module": "@jupyter-widgets/base",
       "_view_module_version": "1.2.0",
       "_view_name": "LayoutView",
       "align_content": null,
       "align_items": null,
       "align_self": null,
       "border": null,
       "bottom": null,
       "display": null,
       "flex": null,
       "flex_flow": null,
       "grid_area": null,
       "grid_auto_columns": null,
       "grid_auto_flow": null,
       "grid_auto_rows": null,
       "grid_column": null,
       "grid_gap": null,
       "grid_row": null,
       "grid_template_areas": null,
       "grid_template_columns": null,
       "grid_template_rows": null,
       "height": null,
       "justify_content": null,
       "justify_items": null,
       "left": null,
       "margin": null,
       "max_height": null,
       "max_width": null,
       "min_height": null,
       "min_width": null,
       "object_fit": null,
       "object_position": null,
       "order": null,
       "overflow": null,
       "overflow_x": null,
       "overflow_y": null,
       "padding": null,
       "right": null,
       "top": null,
       "visibility": null,
       "width": null
      }
     },
     "1ed0b71704ca4a0c91a3ea2bb5a5fe7c": {
      "model_module": "@jupyter-widgets/base",
      "model_module_version": "1.2.0",
      "model_name": "LayoutModel",
      "state": {
       "_model_module": "@jupyter-widgets/base",
       "_model_module_version": "1.2.0",
       "_model_name": "LayoutModel",
       "_view_count": null,
       "_view_module": "@jupyter-widgets/base",
       "_view_module_version": "1.2.0",
       "_view_name": "LayoutView",
       "align_content": null,
       "align_items": null,
       "align_self": null,
       "border": null,
       "bottom": null,
       "display": null,
       "flex": null,
       "flex_flow": null,
       "grid_area": null,
       "grid_auto_columns": null,
       "grid_auto_flow": null,
       "grid_auto_rows": null,
       "grid_column": null,
       "grid_gap": null,
       "grid_row": null,
       "grid_template_areas": null,
       "grid_template_columns": null,
       "grid_template_rows": null,
       "height": null,
       "justify_content": null,
       "justify_items": null,
       "left": null,
       "margin": null,
       "max_height": null,
       "max_width": null,
       "min_height": null,
       "min_width": null,
       "object_fit": null,
       "object_position": null,
       "order": null,
       "overflow": null,
       "overflow_x": null,
       "overflow_y": null,
       "padding": null,
       "right": null,
       "top": null,
       "visibility": null,
       "width": null
      }
     },
     "2c80cb63a5ca4861b18b7f7b6ec4c0a1": {
      "model_module": "@jupyter-widgets/base",
      "model_module_version": "1.2.0",
      "model_name": "LayoutModel",
      "state": {
       "_model_module": "@jupyter-widgets/base",
       "_model_module_version": "1.2.0",
       "_model_name": "LayoutModel",
       "_view_count": null,
       "_view_module": "@jupyter-widgets/base",
       "_view_module_version": "1.2.0",
       "_view_name": "LayoutView",
       "align_content": null,
       "align_items": null,
       "align_self": null,
       "border": null,
       "bottom": null,
       "display": null,
       "flex": null,
       "flex_flow": null,
       "grid_area": null,
       "grid_auto_columns": null,
       "grid_auto_flow": null,
       "grid_auto_rows": null,
       "grid_column": null,
       "grid_gap": null,
       "grid_row": null,
       "grid_template_areas": null,
       "grid_template_columns": null,
       "grid_template_rows": null,
       "height": null,
       "justify_content": null,
       "justify_items": null,
       "left": null,
       "margin": null,
       "max_height": null,
       "max_width": null,
       "min_height": null,
       "min_width": null,
       "object_fit": null,
       "object_position": null,
       "order": null,
       "overflow": null,
       "overflow_x": null,
       "overflow_y": null,
       "padding": null,
       "right": null,
       "top": null,
       "visibility": null,
       "width": null
      }
     },
     "2d57ad92c67a4690bf6d045f7c6c4a42": {
      "model_module": "@jupyter-widgets/base",
      "model_module_version": "1.2.0",
      "model_name": "LayoutModel",
      "state": {
       "_model_module": "@jupyter-widgets/base",
       "_model_module_version": "1.2.0",
       "_model_name": "LayoutModel",
       "_view_count": null,
       "_view_module": "@jupyter-widgets/base",
       "_view_module_version": "1.2.0",
       "_view_name": "LayoutView",
       "align_content": null,
       "align_items": null,
       "align_self": null,
       "border": null,
       "bottom": null,
       "display": null,
       "flex": null,
       "flex_flow": null,
       "grid_area": null,
       "grid_auto_columns": null,
       "grid_auto_flow": null,
       "grid_auto_rows": null,
       "grid_column": null,
       "grid_gap": null,
       "grid_row": null,
       "grid_template_areas": null,
       "grid_template_columns": null,
       "grid_template_rows": null,
       "height": null,
       "justify_content": null,
       "justify_items": null,
       "left": null,
       "margin": null,
       "max_height": null,
       "max_width": null,
       "min_height": null,
       "min_width": null,
       "object_fit": null,
       "object_position": null,
       "order": null,
       "overflow": null,
       "overflow_x": null,
       "overflow_y": null,
       "padding": null,
       "right": null,
       "top": null,
       "visibility": null,
       "width": null
      }
     },
     "323a56f9ef9c4254ae9ea52959a26a22": {
      "model_module": "@jupyter-widgets/base",
      "model_module_version": "1.2.0",
      "model_name": "LayoutModel",
      "state": {
       "_model_module": "@jupyter-widgets/base",
       "_model_module_version": "1.2.0",
       "_model_name": "LayoutModel",
       "_view_count": null,
       "_view_module": "@jupyter-widgets/base",
       "_view_module_version": "1.2.0",
       "_view_name": "LayoutView",
       "align_content": null,
       "align_items": null,
       "align_self": null,
       "border": null,
       "bottom": null,
       "display": null,
       "flex": null,
       "flex_flow": null,
       "grid_area": null,
       "grid_auto_columns": null,
       "grid_auto_flow": null,
       "grid_auto_rows": null,
       "grid_column": null,
       "grid_gap": null,
       "grid_row": null,
       "grid_template_areas": null,
       "grid_template_columns": null,
       "grid_template_rows": null,
       "height": null,
       "justify_content": null,
       "justify_items": null,
       "left": null,
       "margin": null,
       "max_height": null,
       "max_width": null,
       "min_height": null,
       "min_width": null,
       "object_fit": null,
       "object_position": null,
       "order": null,
       "overflow": null,
       "overflow_x": null,
       "overflow_y": null,
       "padding": null,
       "right": null,
       "top": null,
       "visibility": null,
       "width": null
      }
     },
     "4b8814875c7f48da9c7d1a33c0800b12": {
      "model_module": "@jupyter-widgets/controls",
      "model_module_version": "1.5.0",
      "model_name": "LabelModel",
      "state": {
       "_dom_classes": [],
       "_model_module": "@jupyter-widgets/controls",
       "_model_module_version": "1.5.0",
       "_model_name": "LabelModel",
       "_view_count": null,
       "_view_module": "@jupyter-widgets/controls",
       "_view_module_version": "1.5.0",
       "_view_name": "LabelView",
       "description": "",
       "description_tooltip": null,
       "layout": "IPY_MODEL_8de3e8345ddf4c0ea5d0017e97752b92",
       "placeholder": "​",
       "style": "IPY_MODEL_cbe488bc68214374ae68682995f5d529",
       "value": ""
      }
     },
     "4ba47af81fb549669dcdf74f0c3d80f1": {
      "model_module": "@jupyter-widgets/controls",
      "model_module_version": "1.5.0",
      "model_name": "FloatProgressModel",
      "state": {
       "_dom_classes": [],
       "_model_module": "@jupyter-widgets/controls",
       "_model_module_version": "1.5.0",
       "_model_name": "FloatProgressModel",
       "_view_count": null,
       "_view_module": "@jupyter-widgets/controls",
       "_view_module_version": "1.5.0",
       "_view_name": "ProgressView",
       "bar_style": "success",
       "description": "",
       "description_tooltip": null,
       "layout": "IPY_MODEL_1348845c12c0446792331486479c61a6",
       "max": 1104921.0,
       "min": 0.0,
       "orientation": "horizontal",
       "style": "IPY_MODEL_671d17e6144b4d93a02893296f5e6320",
       "value": 1104921.0
      }
     },
     "51d1df0a6cb04830954f6f26c69ea61c": {
      "model_module": "@jupyter-widgets/base",
      "model_module_version": "1.2.0",
      "model_name": "LayoutModel",
      "state": {
       "_model_module": "@jupyter-widgets/base",
       "_model_module_version": "1.2.0",
       "_model_name": "LayoutModel",
       "_view_count": null,
       "_view_module": "@jupyter-widgets/base",
       "_view_module_version": "1.2.0",
       "_view_name": "LayoutView",
       "align_content": null,
       "align_items": null,
       "align_self": null,
       "border": null,
       "bottom": null,
       "display": null,
       "flex": null,
       "flex_flow": null,
       "grid_area": null,
       "grid_auto_columns": null,
       "grid_auto_flow": null,
       "grid_auto_rows": null,
       "grid_column": null,
       "grid_gap": null,
       "grid_row": null,
       "grid_template_areas": null,
       "grid_template_columns": null,
       "grid_template_rows": null,
       "height": null,
       "justify_content": null,
       "justify_items": null,
       "left": null,
       "margin": null,
       "max_height": null,
       "max_width": null,
       "min_height": null,
       "min_width": null,
       "object_fit": null,
       "object_position": null,
       "order": null,
       "overflow": null,
       "overflow_x": null,
       "overflow_y": null,
       "padding": null,
       "right": null,
       "top": null,
       "visibility": null,
       "width": null
      }
     },
     "52dd6fc55668433492df13ddd795565a": {
      "model_module": "@jupyter-widgets/base",
      "model_module_version": "1.2.0",
      "model_name": "LayoutModel",
      "state": {
       "_model_module": "@jupyter-widgets/base",
       "_model_module_version": "1.2.0",
       "_model_name": "LayoutModel",
       "_view_count": null,
       "_view_module": "@jupyter-widgets/base",
       "_view_module_version": "1.2.0",
       "_view_name": "LayoutView",
       "align_content": null,
       "align_items": null,
       "align_self": null,
       "border": null,
       "bottom": null,
       "display": null,
       "flex": null,
       "flex_flow": null,
       "grid_area": null,
       "grid_auto_columns": null,
       "grid_auto_flow": null,
       "grid_auto_rows": null,
       "grid_column": null,
       "grid_gap": null,
       "grid_row": null,
       "grid_template_areas": null,
       "grid_template_columns": null,
       "grid_template_rows": null,
       "height": null,
       "justify_content": null,
       "justify_items": null,
       "left": null,
       "margin": null,
       "max_height": null,
       "max_width": null,
       "min_height": null,
       "min_width": null,
       "object_fit": null,
       "object_position": null,
       "order": null,
       "overflow": null,
       "overflow_x": null,
       "overflow_y": null,
       "padding": null,
       "right": null,
       "top": null,
       "visibility": null,
       "width": null
      }
     },
     "671d17e6144b4d93a02893296f5e6320": {
      "model_module": "@jupyter-widgets/controls",
      "model_module_version": "1.5.0",
      "model_name": "ProgressStyleModel",
      "state": {
       "_model_module": "@jupyter-widgets/controls",
       "_model_module_version": "1.5.0",
       "_model_name": "ProgressStyleModel",
       "_view_count": null,
       "_view_module": "@jupyter-widgets/base",
       "_view_module_version": "1.2.0",
       "_view_name": "StyleView",
       "bar_color": null,
       "description_width": ""
      }
     },
     "72849c429bf447baabea4f7e6d2ab4df": {
      "model_module": "@jupyter-widgets/controls",
      "model_module_version": "1.5.0",
      "model_name": "HBoxModel",
      "state": {
       "_dom_classes": [],
       "_model_module": "@jupyter-widgets/controls",
       "_model_module_version": "1.5.0",
       "_model_name": "HBoxModel",
       "_view_count": null,
       "_view_module": "@jupyter-widgets/controls",
       "_view_module_version": "1.5.0",
       "_view_name": "HBoxView",
       "box_style": "",
       "children": [
        "IPY_MODEL_d923a0491d5a40a8aafd9b69c0218693",
        "IPY_MODEL_4ba47af81fb549669dcdf74f0c3d80f1",
        "IPY_MODEL_8466bf061481410882c8e6b76a67028e"
       ],
       "layout": "IPY_MODEL_1c943e56779246d8b4280308145b3525"
      }
     },
     "73dd865fd4cd4733b04c3b4ead935b34": {
      "model_module": "@jupyter-widgets/controls",
      "model_module_version": "1.5.0",
      "model_name": "DescriptionStyleModel",
      "state": {
       "_model_module": "@jupyter-widgets/controls",
       "_model_module_version": "1.5.0",
       "_model_name": "DescriptionStyleModel",
       "_view_count": null,
       "_view_module": "@jupyter-widgets/base",
       "_view_module_version": "1.2.0",
       "_view_name": "StyleView",
       "description_width": ""
      }
     },
     "7a5a45bf3bb744d0ab331f3392f99fbf": {
      "model_module": "@jupyter-widgets/controls",
      "model_module_version": "1.5.0",
      "model_name": "DescriptionStyleModel",
      "state": {
       "_model_module": "@jupyter-widgets/controls",
       "_model_module_version": "1.5.0",
       "_model_name": "DescriptionStyleModel",
       "_view_count": null,
       "_view_module": "@jupyter-widgets/base",
       "_view_module_version": "1.2.0",
       "_view_name": "StyleView",
       "description_width": ""
      }
     },
     "7c861995d7144126b7f5ffc258efae91": {
      "model_module": "@jupyter-widgets/controls",
      "model_module_version": "1.5.0",
      "model_name": "LabelModel",
      "state": {
       "_dom_classes": [],
       "_model_module": "@jupyter-widgets/controls",
       "_model_module_version": "1.5.0",
       "_model_name": "LabelModel",
       "_view_count": null,
       "_view_module": "@jupyter-widgets/controls",
       "_view_module_version": "1.5.0",
       "_view_name": "LabelView",
       "description": "",
       "description_tooltip": null,
       "layout": "IPY_MODEL_b549776b893741f5b4d946deecdfd315",
       "placeholder": "​",
       "style": "IPY_MODEL_7a5a45bf3bb744d0ab331f3392f99fbf",
       "value": ""
      }
     },
     "8466bf061481410882c8e6b76a67028e": {
      "model_module": "@jupyter-widgets/controls",
      "model_module_version": "1.5.0",
      "model_name": "HTMLModel",
      "state": {
       "_dom_classes": [],
       "_model_module": "@jupyter-widgets/controls",
       "_model_module_version": "1.5.0",
       "_model_name": "HTMLModel",
       "_view_count": null,
       "_view_module": "@jupyter-widgets/controls",
       "_view_module_version": "1.5.0",
       "_view_name": "HTMLView",
       "description": "",
       "description_tooltip": null,
       "layout": "IPY_MODEL_a39eaf97d7c548dbaafd46dd7060ccf5",
       "placeholder": "​",
       "style": "IPY_MODEL_8661ee6aec264db2be9fe9d1f2505145",
       "value": " 1.05M/1.05M [00:00&lt;00:00, 1.07MB/s]"
      }
     },
     "8609b98bd6d54372a1f86c49ad75d594": {
      "model_module": "@jupyter-widgets/controls",
      "model_module_version": "1.5.0",
      "model_name": "HBoxModel",
      "state": {
       "_dom_classes": [],
       "_model_module": "@jupyter-widgets/controls",
       "_model_module_version": "1.5.0",
       "_model_name": "HBoxModel",
       "_view_count": null,
       "_view_module": "@jupyter-widgets/controls",
       "_view_module_version": "1.5.0",
       "_view_name": "HBoxView",
       "box_style": "",
       "children": [
        "IPY_MODEL_0bf2a1a5cad549539bc071a6bc426217",
        "IPY_MODEL_cba399af57024010a23eaafce30a883e",
        "IPY_MODEL_e6e49427615543e7bdf65aee192349e9"
       ],
       "layout": "IPY_MODEL_2d57ad92c67a4690bf6d045f7c6c4a42"
      }
     },
     "865153b38e93407ebbb6942e38f513fc": {
      "model_module": "@jupyter-widgets/base",
      "model_module_version": "1.2.0",
      "model_name": "LayoutModel",
      "state": {
       "_model_module": "@jupyter-widgets/base",
       "_model_module_version": "1.2.0",
       "_model_name": "LayoutModel",
       "_view_count": null,
       "_view_module": "@jupyter-widgets/base",
       "_view_module_version": "1.2.0",
       "_view_name": "LayoutView",
       "align_content": null,
       "align_items": null,
       "align_self": null,
       "border": null,
       "bottom": null,
       "display": null,
       "flex": null,
       "flex_flow": null,
       "grid_area": null,
       "grid_auto_columns": null,
       "grid_auto_flow": null,
       "grid_auto_rows": null,
       "grid_column": null,
       "grid_gap": null,
       "grid_row": null,
       "grid_template_areas": null,
       "grid_template_columns": null,
       "grid_template_rows": null,
       "height": null,
       "justify_content": null,
       "justify_items": null,
       "left": null,
       "margin": null,
       "max_height": null,
       "max_width": null,
       "min_height": null,
       "min_width": null,
       "object_fit": null,
       "object_position": null,
       "order": null,
       "overflow": null,
       "overflow_x": null,
       "overflow_y": null,
       "padding": null,
       "right": null,
       "top": null,
       "visibility": null,
       "width": null
      }
     },
     "8661ee6aec264db2be9fe9d1f2505145": {
      "model_module": "@jupyter-widgets/controls",
      "model_module_version": "1.5.0",
      "model_name": "DescriptionStyleModel",
      "state": {
       "_model_module": "@jupyter-widgets/controls",
       "_model_module_version": "1.5.0",
       "_model_name": "DescriptionStyleModel",
       "_view_count": null,
       "_view_module": "@jupyter-widgets/base",
       "_view_module_version": "1.2.0",
       "_view_name": "StyleView",
       "description_width": ""
      }
     },
     "8bd1a2137a91426a82e46c79f6868cbb": {
      "model_module": "@jupyter-widgets/base",
      "model_module_version": "1.2.0",
      "model_name": "LayoutModel",
      "state": {
       "_model_module": "@jupyter-widgets/base",
       "_model_module_version": "1.2.0",
       "_model_name": "LayoutModel",
       "_view_count": null,
       "_view_module": "@jupyter-widgets/base",
       "_view_module_version": "1.2.0",
       "_view_name": "LayoutView",
       "align_content": null,
       "align_items": null,
       "align_self": null,
       "border": null,
       "bottom": null,
       "display": null,
       "flex": null,
       "flex_flow": null,
       "grid_area": null,
       "grid_auto_columns": null,
       "grid_auto_flow": null,
       "grid_auto_rows": null,
       "grid_column": null,
       "grid_gap": null,
       "grid_row": null,
       "grid_template_areas": null,
       "grid_template_columns": null,
       "grid_template_rows": null,
       "height": null,
       "justify_content": null,
       "justify_items": null,
       "left": null,
       "margin": null,
       "max_height": null,
       "max_width": null,
       "min_height": null,
       "min_width": null,
       "object_fit": null,
       "object_position": null,
       "order": null,
       "overflow": null,
       "overflow_x": null,
       "overflow_y": null,
       "padding": null,
       "right": null,
       "top": null,
       "visibility": null,
       "width": null
      }
     },
     "8ccc7b56d5c1437f84831785d66abe28": {
      "model_module": "@jupyter-widgets/controls",
      "model_module_version": "1.5.0",
      "model_name": "FloatProgressModel",
      "state": {
       "_dom_classes": [],
       "_model_module": "@jupyter-widgets/controls",
       "_model_module_version": "1.5.0",
       "_model_name": "FloatProgressModel",
       "_view_count": null,
       "_view_module": "@jupyter-widgets/controls",
       "_view_module_version": "1.5.0",
       "_view_name": "ProgressView",
       "bar_style": "",
       "description": "",
       "description_tooltip": null,
       "layout": "IPY_MODEL_51d1df0a6cb04830954f6f26c69ea61c",
       "max": 1.0,
       "min": 0.0,
       "orientation": "horizontal",
       "style": "IPY_MODEL_acf7d95a7fc84699bf567ee6dcd7ec35",
       "value": 0.0
      }
     },
     "8de3e8345ddf4c0ea5d0017e97752b92": {
      "model_module": "@jupyter-widgets/base",
      "model_module_version": "1.2.0",
      "model_name": "LayoutModel",
      "state": {
       "_model_module": "@jupyter-widgets/base",
       "_model_module_version": "1.2.0",
       "_model_name": "LayoutModel",
       "_view_count": null,
       "_view_module": "@jupyter-widgets/base",
       "_view_module_version": "1.2.0",
       "_view_name": "LayoutView",
       "align_content": null,
       "align_items": null,
       "align_self": null,
       "border": null,
       "bottom": null,
       "display": null,
       "flex": null,
       "flex_flow": null,
       "grid_area": null,
       "grid_auto_columns": null,
       "grid_auto_flow": null,
       "grid_auto_rows": null,
       "grid_column": null,
       "grid_gap": null,
       "grid_row": null,
       "grid_template_areas": null,
       "grid_template_columns": null,
       "grid_template_rows": null,
       "height": null,
       "justify_content": null,
       "justify_items": null,
       "left": null,
       "margin": null,
       "max_height": null,
       "max_width": null,
       "min_height": null,
       "min_width": null,
       "object_fit": null,
       "object_position": null,
       "order": null,
       "overflow": null,
       "overflow_x": null,
       "overflow_y": null,
       "padding": null,
       "right": null,
       "top": null,
       "visibility": null,
       "width": null
      }
     },
     "9ba62fd17be843d5a62bf6cffb59c284": {
      "model_module": "@jupyter-widgets/base",
      "model_module_version": "1.2.0",
      "model_name": "LayoutModel",
      "state": {
       "_model_module": "@jupyter-widgets/base",
       "_model_module_version": "1.2.0",
       "_model_name": "LayoutModel",
       "_view_count": null,
       "_view_module": "@jupyter-widgets/base",
       "_view_module_version": "1.2.0",
       "_view_name": "LayoutView",
       "align_content": null,
       "align_items": null,
       "align_self": null,
       "border": null,
       "bottom": null,
       "display": null,
       "flex": null,
       "flex_flow": null,
       "grid_area": null,
       "grid_auto_columns": null,
       "grid_auto_flow": null,
       "grid_auto_rows": null,
       "grid_column": null,
       "grid_gap": null,
       "grid_row": null,
       "grid_template_areas": null,
       "grid_template_columns": null,
       "grid_template_rows": null,
       "height": null,
       "justify_content": null,
       "justify_items": null,
       "left": null,
       "margin": null,
       "max_height": null,
       "max_width": null,
       "min_height": null,
       "min_width": null,
       "object_fit": null,
       "object_position": null,
       "order": null,
       "overflow": null,
       "overflow_x": null,
       "overflow_y": null,
       "padding": null,
       "right": null,
       "top": null,
       "visibility": null,
       "width": null
      }
     },
     "9f684700bdba4630aaba4a83442413c4": {
      "model_module": "@jupyter-widgets/controls",
      "model_module_version": "1.5.0",
      "model_name": "HTMLModel",
      "state": {
       "_dom_classes": [],
       "_model_module": "@jupyter-widgets/controls",
       "_model_module_version": "1.5.0",
       "_model_name": "HTMLModel",
       "_view_count": null,
       "_view_module": "@jupyter-widgets/controls",
       "_view_module_version": "1.5.0",
       "_view_name": "HTMLView",
       "description": "",
       "description_tooltip": null,
       "layout": "IPY_MODEL_b2a8ea27c0744c92a6a1f09b5cbe1f2b",
       "placeholder": "​",
       "style": "IPY_MODEL_73dd865fd4cd4733b04c3b4ead935b34",
       "value": "Downloading: 100%"
      }
     },
     "a39eaf97d7c548dbaafd46dd7060ccf5": {
      "model_module": "@jupyter-widgets/base",
      "model_module_version": "1.2.0",
      "model_name": "LayoutModel",
      "state": {
       "_model_module": "@jupyter-widgets/base",
       "_model_module_version": "1.2.0",
       "_model_name": "LayoutModel",
       "_view_count": null,
       "_view_module": "@jupyter-widgets/base",
       "_view_module_version": "1.2.0",
       "_view_name": "LayoutView",
       "align_content": null,
       "align_items": null,
       "align_self": null,
       "border": null,
       "bottom": null,
       "display": null,
       "flex": null,
       "flex_flow": null,
       "grid_area": null,
       "grid_auto_columns": null,
       "grid_auto_flow": null,
       "grid_auto_rows": null,
       "grid_column": null,
       "grid_gap": null,
       "grid_row": null,
       "grid_template_areas": null,
       "grid_template_columns": null,
       "grid_template_rows": null,
       "height": null,
       "justify_content": null,
       "justify_items": null,
       "left": null,
       "margin": null,
       "max_height": null,
       "max_width": null,
       "min_height": null,
       "min_width": null,
       "object_fit": null,
       "object_position": null,
       "order": null,
       "overflow": null,
       "overflow_x": null,
       "overflow_y": null,
       "padding": null,
       "right": null,
       "top": null,
       "visibility": null,
       "width": null
      }
     },
     "acf7d95a7fc84699bf567ee6dcd7ec35": {
      "model_module": "@jupyter-widgets/controls",
      "model_module_version": "1.5.0",
      "model_name": "ProgressStyleModel",
      "state": {
       "_model_module": "@jupyter-widgets/controls",
       "_model_module_version": "1.5.0",
       "_model_name": "ProgressStyleModel",
       "_view_count": null,
       "_view_module": "@jupyter-widgets/base",
       "_view_module_version": "1.2.0",
       "_view_name": "StyleView",
       "bar_color": null,
       "description_width": ""
      }
     },
     "aed21c383fc14697bf5978b68f803004": {
      "model_module": "@jupyter-widgets/controls",
      "model_module_version": "1.5.0",
      "model_name": "ProgressStyleModel",
      "state": {
       "_model_module": "@jupyter-widgets/controls",
       "_model_module_version": "1.5.0",
       "_model_name": "ProgressStyleModel",
       "_view_count": null,
       "_view_module": "@jupyter-widgets/base",
       "_view_module_version": "1.2.0",
       "_view_name": "StyleView",
       "bar_color": null,
       "description_width": ""
      }
     },
     "b2a8ea27c0744c92a6a1f09b5cbe1f2b": {
      "model_module": "@jupyter-widgets/base",
      "model_module_version": "1.2.0",
      "model_name": "LayoutModel",
      "state": {
       "_model_module": "@jupyter-widgets/base",
       "_model_module_version": "1.2.0",
       "_model_name": "LayoutModel",
       "_view_count": null,
       "_view_module": "@jupyter-widgets/base",
       "_view_module_version": "1.2.0",
       "_view_name": "LayoutView",
       "align_content": null,
       "align_items": null,
       "align_self": null,
       "border": null,
       "bottom": null,
       "display": null,
       "flex": null,
       "flex_flow": null,
       "grid_area": null,
       "grid_auto_columns": null,
       "grid_auto_flow": null,
       "grid_auto_rows": null,
       "grid_column": null,
       "grid_gap": null,
       "grid_row": null,
       "grid_template_areas": null,
       "grid_template_columns": null,
       "grid_template_rows": null,
       "height": null,
       "justify_content": null,
       "justify_items": null,
       "left": null,
       "margin": null,
       "max_height": null,
       "max_width": null,
       "min_height": null,
       "min_width": null,
       "object_fit": null,
       "object_position": null,
       "order": null,
       "overflow": null,
       "overflow_x": null,
       "overflow_y": null,
       "padding": null,
       "right": null,
       "top": null,
       "visibility": null,
       "width": null
      }
     },
     "b549776b893741f5b4d946deecdfd315": {
      "model_module": "@jupyter-widgets/base",
      "model_module_version": "1.2.0",
      "model_name": "LayoutModel",
      "state": {
       "_model_module": "@jupyter-widgets/base",
       "_model_module_version": "1.2.0",
       "_model_name": "LayoutModel",
       "_view_count": null,
       "_view_module": "@jupyter-widgets/base",
       "_view_module_version": "1.2.0",
       "_view_name": "LayoutView",
       "align_content": null,
       "align_items": null,
       "align_self": null,
       "border": null,
       "bottom": null,
       "display": null,
       "flex": null,
       "flex_flow": null,
       "grid_area": null,
       "grid_auto_columns": null,
       "grid_auto_flow": null,
       "grid_auto_rows": null,
       "grid_column": null,
       "grid_gap": null,
       "grid_row": null,
       "grid_template_areas": null,
       "grid_template_columns": null,
       "grid_template_rows": null,
       "height": null,
       "justify_content": null,
       "justify_items": null,
       "left": null,
       "margin": null,
       "max_height": null,
       "max_width": null,
       "min_height": null,
       "min_width": null,
       "object_fit": null,
       "object_position": null,
       "order": null,
       "overflow": null,
       "overflow_x": null,
       "overflow_y": null,
       "padding": null,
       "right": null,
       "top": null,
       "visibility": null,
       "width": null
      }
     },
     "c31de1b88dba488c83ce8c5630b258e8": {
      "model_module": "@jupyter-widgets/controls",
      "model_module_version": "1.5.0",
      "model_name": "ProgressStyleModel",
      "state": {
       "_model_module": "@jupyter-widgets/controls",
       "_model_module_version": "1.5.0",
       "_model_name": "ProgressStyleModel",
       "_view_count": null,
       "_view_module": "@jupyter-widgets/base",
       "_view_module_version": "1.2.0",
       "_view_name": "StyleView",
       "bar_color": null,
       "description_width": ""
      }
     },
     "c78d72b5a7c94c519df2704d4e9be1cd": {
      "model_module": "@jupyter-widgets/controls",
      "model_module_version": "1.5.0",
      "model_name": "DescriptionStyleModel",
      "state": {
       "_model_module": "@jupyter-widgets/controls",
       "_model_module_version": "1.5.0",
       "_model_name": "DescriptionStyleModel",
       "_view_count": null,
       "_view_module": "@jupyter-widgets/base",
       "_view_module_version": "1.2.0",
       "_view_name": "StyleView",
       "description_width": ""
      }
     },
     "ca80c6fa631e46c6b836abbcd079de2f": {
      "model_module": "@jupyter-widgets/controls",
      "model_module_version": "1.5.0",
      "model_name": "VBoxModel",
      "state": {
       "_dom_classes": [],
       "_model_module": "@jupyter-widgets/controls",
       "_model_module_version": "1.5.0",
       "_model_name": "VBoxModel",
       "_view_count": null,
       "_view_module": "@jupyter-widgets/controls",
       "_view_module_version": "1.5.0",
       "_view_name": "VBoxView",
       "box_style": "",
       "children": [
        "IPY_MODEL_7c861995d7144126b7f5ffc258efae91",
        "IPY_MODEL_8ccc7b56d5c1437f84831785d66abe28"
       ],
       "layout": "IPY_MODEL_10e4a08c7a564bad80574b7797c5fab2"
      }
     },
     "cba399af57024010a23eaafce30a883e": {
      "model_module": "@jupyter-widgets/controls",
      "model_module_version": "1.5.0",
      "model_name": "FloatProgressModel",
      "state": {
       "_dom_classes": [],
       "_model_module": "@jupyter-widgets/controls",
       "_model_module_version": "1.5.0",
       "_model_name": "FloatProgressModel",
       "_view_count": null,
       "_view_module": "@jupyter-widgets/controls",
       "_view_module_version": "1.5.0",
       "_view_name": "ProgressView",
       "bar_style": "success",
       "description": "",
       "description_tooltip": null,
       "layout": "IPY_MODEL_e3039a138d424c92885510040275b763",
       "max": 1472.0,
       "min": 0.0,
       "orientation": "horizontal",
       "style": "IPY_MODEL_aed21c383fc14697bf5978b68f803004",
       "value": 1472.0
      }
     },
     "cbe488bc68214374ae68682995f5d529": {
      "model_module": "@jupyter-widgets/controls",
      "model_module_version": "1.5.0",
      "model_name": "DescriptionStyleModel",
      "state": {
       "_model_module": "@jupyter-widgets/controls",
       "_model_module_version": "1.5.0",
       "_model_name": "DescriptionStyleModel",
       "_view_count": null,
       "_view_module": "@jupyter-widgets/base",
       "_view_module_version": "1.2.0",
       "_view_name": "StyleView",
       "description_width": ""
      }
     },
     "cca01aa2c741493887bdf047cf08736b": {
      "model_module": "@jupyter-widgets/controls",
      "model_module_version": "1.5.0",
      "model_name": "HBoxModel",
      "state": {
       "_dom_classes": [],
       "_model_module": "@jupyter-widgets/controls",
       "_model_module_version": "1.5.0",
       "_model_name": "HBoxModel",
       "_view_count": null,
       "_view_module": "@jupyter-widgets/controls",
       "_view_module_version": "1.5.0",
       "_view_name": "HBoxView",
       "box_style": "",
       "children": [
        "IPY_MODEL_9f684700bdba4630aaba4a83442413c4",
        "IPY_MODEL_1883d35529804574872a983730bc8a24",
        "IPY_MODEL_f98095cec7954b3d810c3d364735663b"
       ],
       "layout": "IPY_MODEL_9ba62fd17be843d5a62bf6cffb59c284"
      }
     },
     "d38b54fa6d4a4a468a82702f0beefa30": {
      "model_module": "@jupyter-widgets/controls",
      "model_module_version": "1.5.0",
      "model_name": "ProgressStyleModel",
      "state": {
       "_model_module": "@jupyter-widgets/controls",
       "_model_module_version": "1.5.0",
       "_model_name": "ProgressStyleModel",
       "_view_count": null,
       "_view_module": "@jupyter-widgets/base",
       "_view_module_version": "1.2.0",
       "_view_name": "StyleView",
       "bar_color": null,
       "description_width": ""
      }
     },
     "d923a0491d5a40a8aafd9b69c0218693": {
      "model_module": "@jupyter-widgets/controls",
      "model_module_version": "1.5.0",
      "model_name": "HTMLModel",
      "state": {
       "_dom_classes": [],
       "_model_module": "@jupyter-widgets/controls",
       "_model_module_version": "1.5.0",
       "_model_name": "HTMLModel",
       "_view_count": null,
       "_view_module": "@jupyter-widgets/controls",
       "_view_module_version": "1.5.0",
       "_view_name": "HTMLView",
       "description": "",
       "description_tooltip": null,
       "layout": "IPY_MODEL_f1affc876bc04a43bff92d90ce072b12",
       "placeholder": "​",
       "style": "IPY_MODEL_c78d72b5a7c94c519df2704d4e9be1cd",
       "value": "Downloading: 100%"
      }
     },
     "da151986f15b4a3da716627bb6255196": {
      "model_module": "@jupyter-widgets/controls",
      "model_module_version": "1.5.0",
      "model_name": "VBoxModel",
      "state": {
       "_dom_classes": [],
       "_model_module": "@jupyter-widgets/controls",
       "_model_module_version": "1.5.0",
       "_model_name": "VBoxModel",
       "_view_count": null,
       "_view_module": "@jupyter-widgets/controls",
       "_view_module_version": "1.5.0",
       "_view_name": "VBoxView",
       "box_style": "",
       "children": [
        "IPY_MODEL_4b8814875c7f48da9c7d1a33c0800b12",
        "IPY_MODEL_e0fe042a97e548b3a64875b060dbcbe9"
       ],
       "layout": "IPY_MODEL_323a56f9ef9c4254ae9ea52959a26a22"
      }
     },
     "ddc6b0b1328649cbb22945c6dfb68f3d": {
      "model_module": "@jupyter-widgets/controls",
      "model_module_version": "1.5.0",
      "model_name": "DescriptionStyleModel",
      "state": {
       "_model_module": "@jupyter-widgets/controls",
       "_model_module_version": "1.5.0",
       "_model_name": "DescriptionStyleModel",
       "_view_count": null,
       "_view_module": "@jupyter-widgets/base",
       "_view_module_version": "1.2.0",
       "_view_name": "StyleView",
       "description_width": ""
      }
     },
     "e0fe042a97e548b3a64875b060dbcbe9": {
      "model_module": "@jupyter-widgets/controls",
      "model_module_version": "1.5.0",
      "model_name": "FloatProgressModel",
      "state": {
       "_dom_classes": [],
       "_model_module": "@jupyter-widgets/controls",
       "_model_module_version": "1.5.0",
       "_model_name": "FloatProgressModel",
       "_view_count": null,
       "_view_module": "@jupyter-widgets/controls",
       "_view_module_version": "1.5.0",
       "_view_name": "ProgressView",
       "bar_style": "",
       "description": "",
       "description_tooltip": null,
       "layout": "IPY_MODEL_865153b38e93407ebbb6942e38f513fc",
       "max": 1.0,
       "min": 0.0,
       "orientation": "horizontal",
       "style": "IPY_MODEL_d38b54fa6d4a4a468a82702f0beefa30",
       "value": 0.0
      }
     },
     "e3039a138d424c92885510040275b763": {
      "model_module": "@jupyter-widgets/base",
      "model_module_version": "1.2.0",
      "model_name": "LayoutModel",
      "state": {
       "_model_module": "@jupyter-widgets/base",
       "_model_module_version": "1.2.0",
       "_model_name": "LayoutModel",
       "_view_count": null,
       "_view_module": "@jupyter-widgets/base",
       "_view_module_version": "1.2.0",
       "_view_name": "LayoutView",
       "align_content": null,
       "align_items": null,
       "align_self": null,
       "border": null,
       "bottom": null,
       "display": null,
       "flex": null,
       "flex_flow": null,
       "grid_area": null,
       "grid_auto_columns": null,
       "grid_auto_flow": null,
       "grid_auto_rows": null,
       "grid_column": null,
       "grid_gap": null,
       "grid_row": null,
       "grid_template_areas": null,
       "grid_template_columns": null,
       "grid_template_rows": null,
       "height": null,
       "justify_content": null,
       "justify_items": null,
       "left": null,
       "margin": null,
       "max_height": null,
       "max_width": null,
       "min_height": null,
       "min_width": null,
       "object_fit": null,
       "object_position": null,
       "order": null,
       "overflow": null,
       "overflow_x": null,
       "overflow_y": null,
       "padding": null,
       "right": null,
       "top": null,
       "visibility": null,
       "width": null
      }
     },
     "e6e49427615543e7bdf65aee192349e9": {
      "model_module": "@jupyter-widgets/controls",
      "model_module_version": "1.5.0",
      "model_name": "HTMLModel",
      "state": {
       "_dom_classes": [],
       "_model_module": "@jupyter-widgets/controls",
       "_model_module_version": "1.5.0",
       "_model_name": "HTMLModel",
       "_view_count": null,
       "_view_module": "@jupyter-widgets/controls",
       "_view_module_version": "1.5.0",
       "_view_name": "HTMLView",
       "description": "",
       "description_tooltip": null,
       "layout": "IPY_MODEL_2c80cb63a5ca4861b18b7f7b6ec4c0a1",
       "placeholder": "​",
       "style": "IPY_MODEL_1b7b3578cf4342f7bedbba22ee680ada",
       "value": " 1.44k/1.44k [00:00&lt;00:00, 54.9kB/s]"
      }
     },
     "f1affc876bc04a43bff92d90ce072b12": {
      "model_module": "@jupyter-widgets/base",
      "model_module_version": "1.2.0",
      "model_name": "LayoutModel",
      "state": {
       "_model_module": "@jupyter-widgets/base",
       "_model_module_version": "1.2.0",
       "_model_name": "LayoutModel",
       "_view_count": null,
       "_view_module": "@jupyter-widgets/base",
       "_view_module_version": "1.2.0",
       "_view_name": "LayoutView",
       "align_content": null,
       "align_items": null,
       "align_self": null,
       "border": null,
       "bottom": null,
       "display": null,
       "flex": null,
       "flex_flow": null,
       "grid_area": null,
       "grid_auto_columns": null,
       "grid_auto_flow": null,
       "grid_auto_rows": null,
       "grid_column": null,
       "grid_gap": null,
       "grid_row": null,
       "grid_template_areas": null,
       "grid_template_columns": null,
       "grid_template_rows": null,
       "height": null,
       "justify_content": null,
       "justify_items": null,
       "left": null,
       "margin": null,
       "max_height": null,
       "max_width": null,
       "min_height": null,
       "min_width": null,
       "object_fit": null,
       "object_position": null,
       "order": null,
       "overflow": null,
       "overflow_x": null,
       "overflow_y": null,
       "padding": null,
       "right": null,
       "top": null,
       "visibility": null,
       "width": null
      }
     },
     "f98095cec7954b3d810c3d364735663b": {
      "model_module": "@jupyter-widgets/controls",
      "model_module_version": "1.5.0",
      "model_name": "HTMLModel",
      "state": {
       "_dom_classes": [],
       "_model_module": "@jupyter-widgets/controls",
       "_model_module_version": "1.5.0",
       "_model_name": "HTMLModel",
       "_view_count": null,
       "_view_module": "@jupyter-widgets/controls",
       "_view_module_version": "1.5.0",
       "_view_name": "HTMLView",
       "description": "",
       "description_tooltip": null,
       "layout": "IPY_MODEL_1ed0b71704ca4a0c91a3ea2bb5a5fe7c",
       "placeholder": "​",
       "style": "IPY_MODEL_ddc6b0b1328649cbb22945c6dfb68f3d",
       "value": " 944M/944M [00:33&lt;00:00, 28.4MB/s]"
      }
     }
    },
    "version_major": 2,
    "version_minor": 0
   }
  }
 },
 "nbformat": 4,
 "nbformat_minor": 5
}
