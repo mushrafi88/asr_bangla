{
 "cells": [
  {
   "cell_type": "code",
   "execution_count": 1,
   "id": "1adef761",
   "metadata": {
    "_cell_guid": "b1076dfc-b9ad-4769-8c92-a6c4dae69d19",
    "_uuid": "8f2839f25d086af736a60e9eeb907d3b93b6e0e5",
    "execution": {
     "iopub.execute_input": "2023-02-11T16:58:35.987888Z",
     "iopub.status.busy": "2023-02-11T16:58:35.987426Z",
     "iopub.status.idle": "2023-02-11T16:58:59.973327Z",
     "shell.execute_reply": "2023-02-11T16:58:59.971936Z"
    },
    "papermill": {
     "duration": 23.99814,
     "end_time": "2023-02-11T16:58:59.976281",
     "exception": false,
     "start_time": "2023-02-11T16:58:35.978141",
     "status": "completed"
    },
    "tags": []
   },
   "outputs": [
    {
     "name": "stdout",
     "output_type": "stream",
     "text": [
      "Collecting gdown\r\n",
      "  Downloading gdown-4.6.2-py3-none-any.whl (14 kB)\r\n",
      "Requirement already satisfied: filelock in /opt/conda/lib/python3.7/site-packages (from gdown) (3.7.1)\r\n",
      "Requirement already satisfied: beautifulsoup4 in /opt/conda/lib/python3.7/site-packages (from gdown) (4.11.1)\r\n",
      "Requirement already satisfied: requests[socks] in /opt/conda/lib/python3.7/site-packages (from gdown) (2.28.1)\r\n",
      "Requirement already satisfied: six in /opt/conda/lib/python3.7/site-packages (from gdown) (1.15.0)\r\n",
      "Requirement already satisfied: tqdm in /opt/conda/lib/python3.7/site-packages (from gdown) (4.64.0)\r\n",
      "Requirement already satisfied: soupsieve>1.2 in /opt/conda/lib/python3.7/site-packages (from beautifulsoup4->gdown) (2.3.1)\r\n",
      "Requirement already satisfied: certifi>=2017.4.17 in /opt/conda/lib/python3.7/site-packages (from requests[socks]->gdown) (2022.12.7)\r\n",
      "Requirement already satisfied: urllib3<1.27,>=1.21.1 in /opt/conda/lib/python3.7/site-packages (from requests[socks]->gdown) (1.26.14)\r\n",
      "Requirement already satisfied: charset-normalizer<3,>=2 in /opt/conda/lib/python3.7/site-packages (from requests[socks]->gdown) (2.1.0)\r\n",
      "Requirement already satisfied: idna<4,>=2.5 in /opt/conda/lib/python3.7/site-packages (from requests[socks]->gdown) (3.3)\r\n",
      "Requirement already satisfied: PySocks!=1.5.7,>=1.5.6 in /opt/conda/lib/python3.7/site-packages (from requests[socks]->gdown) (1.7.1)\r\n",
      "Installing collected packages: gdown\r\n",
      "Successfully installed gdown-4.6.2\r\n",
      "\u001b[33mWARNING: Running pip as the 'root' user can result in broken permissions and conflicting behaviour with the system package manager. It is recommended to use a virtual environment instead: https://pip.pypa.io/warnings/venv\u001b[0m\u001b[33m\r\n",
      "\u001b[0mRequirement already satisfied: pandarallel in /opt/conda/lib/python3.7/site-packages (1.6.4)\r\n",
      "Requirement already satisfied: pandas>=1 in /opt/conda/lib/python3.7/site-packages (from pandarallel) (1.3.5)\r\n",
      "Requirement already satisfied: dill>=0.3.1 in /opt/conda/lib/python3.7/site-packages (from pandarallel) (0.3.6)\r\n",
      "Requirement already satisfied: psutil in /opt/conda/lib/python3.7/site-packages (from pandarallel) (5.9.1)\r\n",
      "Requirement already satisfied: python-dateutil>=2.7.3 in /opt/conda/lib/python3.7/site-packages (from pandas>=1->pandarallel) (2.8.2)\r\n",
      "Requirement already satisfied: pytz>=2017.3 in /opt/conda/lib/python3.7/site-packages (from pandas>=1->pandarallel) (2022.1)\r\n",
      "Requirement already satisfied: numpy>=1.17.3 in /opt/conda/lib/python3.7/site-packages (from pandas>=1->pandarallel) (1.21.6)\r\n",
      "Requirement already satisfied: six>=1.5 in /opt/conda/lib/python3.7/site-packages (from python-dateutil>=2.7.3->pandas>=1->pandarallel) (1.15.0)\r\n",
      "\u001b[33mWARNING: Running pip as the 'root' user can result in broken permissions and conflicting behaviour with the system package manager. It is recommended to use a virtual environment instead: https://pip.pypa.io/warnings/venv\u001b[0m\u001b[33m\r\n",
      "\u001b[0m"
     ]
    }
   ],
   "source": [
    "!pip install gdown\n",
    "!pip install pandarallel"
   ]
  },
  {
   "cell_type": "code",
   "execution_count": 2,
   "id": "451fbc38",
   "metadata": {
    "execution": {
     "iopub.execute_input": "2023-02-11T16:58:59.992804Z",
     "iopub.status.busy": "2023-02-11T16:58:59.991993Z",
     "iopub.status.idle": "2023-02-11T16:59:08.317117Z",
     "shell.execute_reply": "2023-02-11T16:59:08.315736Z"
    },
    "papermill": {
     "duration": 8.336206,
     "end_time": "2023-02-11T16:59:08.319763",
     "exception": false,
     "start_time": "2023-02-11T16:58:59.983557",
     "status": "completed"
    },
    "tags": []
   },
   "outputs": [
    {
     "name": "stdout",
     "output_type": "stream",
     "text": [
      "INFO: Pandarallel will run on 8 workers.\n",
      "INFO: Pandarallel will use Memory file system to transfer data between the main process and workers.\n"
     ]
    }
   ],
   "source": [
    "import argparse\n",
    "import glob\n",
    "import os\n",
    "import json\n",
    "import time\n",
    "import logging\n",
    "import random\n",
    "import re\n",
    "from itertools import chain\n",
    "from string import punctuation\n",
    "\n",
    "import pandas as pd\n",
    "import numpy as np\n",
    "import torch\n",
    "from torch.utils.data import Dataset, DataLoader\n",
    "from datasets import load_dataset, Dataset\n",
    "from tqdm import tqdm\n",
    "import datasets\n",
    "\n",
    "from pandarallel import pandarallel\n",
    "pandarallel.initialize(progress_bar=True,nb_workers=8)\n",
    "tqdm.pandas()\n",
    "\n",
    "from transformers import (\n",
    "    AdamW,\n",
    "    T5ForConditionalGeneration,\n",
    "    T5Tokenizer,\n",
    "    get_linear_schedule_with_warmup\n",
    ")"
   ]
  },
  {
   "cell_type": "code",
   "execution_count": 3,
   "id": "56e4d35c",
   "metadata": {
    "execution": {
     "iopub.execute_input": "2023-02-11T16:59:08.335930Z",
     "iopub.status.busy": "2023-02-11T16:59:08.335530Z",
     "iopub.status.idle": "2023-02-11T16:59:10.600649Z",
     "shell.execute_reply": "2023-02-11T16:59:10.599492Z"
    },
    "papermill": {
     "duration": 2.276323,
     "end_time": "2023-02-11T16:59:10.603280",
     "exception": false,
     "start_time": "2023-02-11T16:59:08.326957",
     "status": "completed"
    },
    "tags": []
   },
   "outputs": [],
   "source": [
    "from transformers import (\n",
    "    T5ForConditionalGeneration, T5Tokenizer, \n",
    "    TrainingArguments, Trainer, DataCollatorForSeq2Seq,AutoTokenizer,FlaxT5ForConditionalGeneration,AutoModelForSeq2SeqLM\n",
    "  )\n"
   ]
  },
  {
   "cell_type": "code",
   "execution_count": 4,
   "id": "9a410ac1",
   "metadata": {
    "execution": {
     "iopub.execute_input": "2023-02-11T16:59:10.619691Z",
     "iopub.status.busy": "2023-02-11T16:59:10.618784Z",
     "iopub.status.idle": "2023-02-11T16:59:10.624047Z",
     "shell.execute_reply": "2023-02-11T16:59:10.623031Z"
    },
    "papermill": {
     "duration": 0.015841,
     "end_time": "2023-02-11T16:59:10.626393",
     "exception": false,
     "start_time": "2023-02-11T16:59:10.610552",
     "status": "completed"
    },
    "tags": []
   },
   "outputs": [],
   "source": [
    "url='https://drive.google.com/drive/folders/1QvhirnOFoLqPZYeBz8M9oMZh-hxnOCnt?usp=sharing'"
   ]
  },
  {
   "cell_type": "code",
   "execution_count": 5,
   "id": "9becb0d5",
   "metadata": {
    "execution": {
     "iopub.execute_input": "2023-02-11T16:59:10.642778Z",
     "iopub.status.busy": "2023-02-11T16:59:10.641609Z",
     "iopub.status.idle": "2023-02-11T17:00:36.734876Z",
     "shell.execute_reply": "2023-02-11T17:00:36.733727Z"
    },
    "papermill": {
     "duration": 86.111381,
     "end_time": "2023-02-11T17:00:36.744772",
     "exception": false,
     "start_time": "2023-02-11T16:59:10.633391",
     "status": "completed"
    },
    "tags": []
   },
   "outputs": [
    {
     "data": {
      "text/plain": [
       "['/kaggle/working/data_wav2vec2/benchmark.parquet',\n",
       " '/kaggle/working/data_wav2vec2/custom_data.parquet',\n",
       " '/kaggle/working/data_wav2vec2/data_sharded/test/cache-43f0f09683d0ab82.arrow',\n",
       " '/kaggle/working/data_wav2vec2/data_sharded/test/cache-a99e762e72e1079e.arrow',\n",
       " '/kaggle/working/data_wav2vec2/data_sharded/test/data-00000-of-00001.arrow',\n",
       " '/kaggle/working/data_wav2vec2/data_sharded/test/dataset_info.json',\n",
       " '/kaggle/working/data_wav2vec2/data_sharded/test/state.json',\n",
       " '/kaggle/working/data_wav2vec2/data_sharded/train/cache-bf7ee38c5d6c7cce.arrow',\n",
       " '/kaggle/working/data_wav2vec2/data_sharded/train/cache-c5e24c7182b4fbb4.arrow',\n",
       " '/kaggle/working/data_wav2vec2/data_sharded/train/data-00000-of-00005.arrow',\n",
       " '/kaggle/working/data_wav2vec2/data_sharded/train/data-00001-of-00005.arrow',\n",
       " '/kaggle/working/data_wav2vec2/data_sharded/train/data-00002-of-00005.arrow',\n",
       " '/kaggle/working/data_wav2vec2/data_sharded/train/data-00003-of-00005.arrow',\n",
       " '/kaggle/working/data_wav2vec2/data_sharded/train/data-00004-of-00005.arrow',\n",
       " '/kaggle/working/data_wav2vec2/data_sharded/train/dataset_info.json',\n",
       " '/kaggle/working/data_wav2vec2/data_sharded/train/state.json',\n",
       " '/kaggle/working/data_wav2vec2/wav2vec2_all.parquet',\n",
       " '/kaggle/working/data_wav2vec2/wav2vec2_masked.parquet']"
      ]
     },
     "execution_count": 5,
     "metadata": {},
     "output_type": "execute_result"
    }
   ],
   "source": [
    "import gdown\n",
    "gdown.download_folder(url, quiet=True)"
   ]
  },
  {
   "cell_type": "code",
   "execution_count": 6,
   "id": "a5ac131e",
   "metadata": {
    "execution": {
     "iopub.execute_input": "2023-02-11T17:00:36.761146Z",
     "iopub.status.busy": "2023-02-11T17:00:36.760387Z",
     "iopub.status.idle": "2023-02-11T17:00:46.184358Z",
     "shell.execute_reply": "2023-02-11T17:00:46.183463Z"
    },
    "papermill": {
     "duration": 9.43526,
     "end_time": "2023-02-11T17:00:46.187082",
     "exception": false,
     "start_time": "2023-02-11T17:00:36.751822",
     "status": "completed"
    },
    "tags": []
   },
   "outputs": [],
   "source": [
    "df_custom = pd.read_parquet('/kaggle/working/data_wav2vec2/custom_data.parquet')\n",
    "df_wav2vec2_all = pd.read_parquet('/kaggle/working/data_wav2vec2/wav2vec2_all.parquet')\n",
    "df_wav2vec2_masked = pd.read_parquet('/kaggle/working/data_wav2vec2/wav2vec2_masked.parquet')"
   ]
  },
  {
   "cell_type": "code",
   "execution_count": 7,
   "id": "4ecdeca1",
   "metadata": {
    "execution": {
     "iopub.execute_input": "2023-02-11T17:00:46.203204Z",
     "iopub.status.busy": "2023-02-11T17:00:46.202767Z",
     "iopub.status.idle": "2023-02-11T17:00:46.601777Z",
     "shell.execute_reply": "2023-02-11T17:00:46.600530Z"
    },
    "papermill": {
     "duration": 0.410301,
     "end_time": "2023-02-11T17:00:46.604636",
     "exception": false,
     "start_time": "2023-02-11T17:00:46.194335",
     "status": "completed"
    },
    "tags": []
   },
   "outputs": [
    {
     "data": {
      "text/html": [
       "<div>\n",
       "<style scoped>\n",
       "    .dataframe tbody tr th:only-of-type {\n",
       "        vertical-align: middle;\n",
       "    }\n",
       "\n",
       "    .dataframe tbody tr th {\n",
       "        vertical-align: top;\n",
       "    }\n",
       "\n",
       "    .dataframe thead th {\n",
       "        text-align: right;\n",
       "    }\n",
       "</style>\n",
       "<table border=\"1\" class=\"dataframe\">\n",
       "  <thead>\n",
       "    <tr style=\"text-align: right;\">\n",
       "      <th></th>\n",
       "      <th>masked_sen</th>\n",
       "      <th>correct_word</th>\n",
       "    </tr>\n",
       "  </thead>\n",
       "  <tbody>\n",
       "    <tr>\n",
       "      <th>0</th>\n",
       "      <td>আর জামিনের [MASK] করলেন না অর্পিতা</td>\n",
       "      <td>আবেদন</td>\n",
       "    </tr>\n",
       "    <tr>\n",
       "      <th>1</th>\n",
       "      <td>অর্পিতা মুখার্জি [MASK]</td>\n",
       "      <td>কারাগারেই</td>\n",
       "    </tr>\n",
       "    <tr>\n",
       "      <th>2</th>\n",
       "      <td>তাঁর [MASK] সংশয়ের আশঙ্কা রয়েছে</td>\n",
       "      <td>জীবন</td>\n",
       "    </tr>\n",
       "    <tr>\n",
       "      <th>3</th>\n",
       "      <td>আদালত শুনানি শেষে পার্থের জামিন আবেদন [MASK] ক...</td>\n",
       "      <td>খারিজ</td>\n",
       "    </tr>\n",
       "    <tr>\n",
       "      <th>4</th>\n",
       "      <td>অর্পিতাকেও দিনের জেল [MASK] রাখার আদেশ দেন</td>\n",
       "      <td>হেফাজতে</td>\n",
       "    </tr>\n",
       "    <tr>\n",
       "      <th>...</th>\n",
       "      <td>...</td>\n",
       "      <td>...</td>\n",
       "    </tr>\n",
       "    <tr>\n",
       "      <th>2992534</th>\n",
       "      <td>রায়ের পর প্রসিকিউটর রেজিয়া সুলতানা প্রথম [MASK...</td>\n",
       "      <td>আলোকে</td>\n",
       "    </tr>\n",
       "    <tr>\n",
       "      <th>2992535</th>\n",
       "      <td>খলিলুরের বিরুদ্ধে মুক্তিযুদ্ধকালে [MASK]</td>\n",
       "      <td>আটক</td>\n",
       "    </tr>\n",
       "    <tr>\n",
       "      <th>2992536</th>\n",
       "      <td>হত্যা ও গণহত্যাসহ মানবতাবিরোধী অপরাধের পাঁচটি ...</td>\n",
       "      <td>আনা</td>\n",
       "    </tr>\n",
       "    <tr>\n",
       "      <th>2992537</th>\n",
       "      <td>[MASK] অভিযোগই ট্রাইব্যুনালে প্রমাণিত হয়েছে</td>\n",
       "      <td>পাঁচটি</td>\n",
       "    </tr>\n",
       "    <tr>\n",
       "      <th>2992538</th>\n",
       "      <td>এর মধ্যে রাজনৈতিক গ্রুপকে গণহত্যার দায়ের বিষয়ট...</td>\n",
       "      <td>রয়েছে</td>\n",
       "    </tr>\n",
       "  </tbody>\n",
       "</table>\n",
       "<p>2992539 rows × 2 columns</p>\n",
       "</div>"
      ],
      "text/plain": [
       "                                                masked_sen correct_word\n",
       "0                       আর জামিনের [MASK] করলেন না অর্পিতা        আবেদন\n",
       "1                                  অর্পিতা মুখার্জি [MASK]    কারাগারেই\n",
       "2                          তাঁর [MASK] সংশয়ের আশঙ্কা রয়েছে         জীবন\n",
       "3        আদালত শুনানি শেষে পার্থের জামিন আবেদন [MASK] ক...        খারিজ\n",
       "4               অর্পিতাকেও দিনের জেল [MASK] রাখার আদেশ দেন      হেফাজতে\n",
       "...                                                    ...          ...\n",
       "2992534  রায়ের পর প্রসিকিউটর রেজিয়া সুলতানা প্রথম [MASK...        আলোকে\n",
       "2992535           খলিলুরের বিরুদ্ধে মুক্তিযুদ্ধকালে [MASK]          আটক\n",
       "2992536  হত্যা ও গণহত্যাসহ মানবতাবিরোধী অপরাধের পাঁচটি ...          আনা\n",
       "2992537        [MASK] অভিযোগই ট্রাইব্যুনালে প্রমাণিত হয়েছে       পাঁচটি\n",
       "2992538  এর মধ্যে রাজনৈতিক গ্রুপকে গণহত্যার দায়ের বিষয়ট...        রয়েছে\n",
       "\n",
       "[2992539 rows x 2 columns]"
      ]
     },
     "execution_count": 7,
     "metadata": {},
     "output_type": "execute_result"
    }
   ],
   "source": [
    "df_custom = df_custom[['masked_sen','correct_word']]\n",
    "df_custom"
   ]
  },
  {
   "cell_type": "code",
   "execution_count": 8,
   "id": "2bab39d1",
   "metadata": {
    "execution": {
     "iopub.execute_input": "2023-02-11T17:00:46.622217Z",
     "iopub.status.busy": "2023-02-11T17:00:46.621837Z",
     "iopub.status.idle": "2023-02-11T17:00:46.671211Z",
     "shell.execute_reply": "2023-02-11T17:00:46.670099Z"
    },
    "papermill": {
     "duration": 0.061338,
     "end_time": "2023-02-11T17:00:46.673538",
     "exception": false,
     "start_time": "2023-02-11T17:00:46.612200",
     "status": "completed"
    },
    "tags": []
   },
   "outputs": [
    {
     "data": {
      "text/html": [
       "<div>\n",
       "<style scoped>\n",
       "    .dataframe tbody tr th:only-of-type {\n",
       "        vertical-align: middle;\n",
       "    }\n",
       "\n",
       "    .dataframe tbody tr th {\n",
       "        vertical-align: top;\n",
       "    }\n",
       "\n",
       "    .dataframe thead th {\n",
       "        text-align: right;\n",
       "    }\n",
       "</style>\n",
       "<table border=\"1\" class=\"dataframe\">\n",
       "  <thead>\n",
       "    <tr style=\"text-align: right;\">\n",
       "      <th></th>\n",
       "      <th>masked_wav2vec2</th>\n",
       "      <th>correct_word</th>\n",
       "    </tr>\n",
       "  </thead>\n",
       "  <tbody>\n",
       "    <tr>\n",
       "      <th>0</th>\n",
       "      <td>হাসি [MASK] হয়েই আছে</td>\n",
       "      <td>বিষয়</td>\n",
       "    </tr>\n",
       "    <tr>\n",
       "      <th>1</th>\n",
       "      <td>শাক দেশ [MASK]</td>\n",
       "      <td></td>\n",
       "    </tr>\n",
       "    <tr>\n",
       "      <th>2</th>\n",
       "      <td>[MASK] জাদে</td>\n",
       "      <td>সহজেই</td>\n",
       "    </tr>\n",
       "    <tr>\n",
       "      <th>3</th>\n",
       "      <td>শহজি [MASK]</td>\n",
       "      <td>যাওয়া</td>\n",
       "    </tr>\n",
       "    <tr>\n",
       "      <th>4</th>\n",
       "      <td>অন্তর্ভুক্ত করেছে [MASK]</td>\n",
       "      <td>রাশিয়া</td>\n",
       "    </tr>\n",
       "    <tr>\n",
       "      <th>...</th>\n",
       "      <td>...</td>\n",
       "      <td>...</td>\n",
       "    </tr>\n",
       "    <tr>\n",
       "      <th>248769</th>\n",
       "      <td>রেডিও বিকিরণের একটি অংশ আপেক্ষিক জেট থেকে আসেয...</td>\n",
       "      <td>পশ্রন</td>\n",
       "    </tr>\n",
       "    <tr>\n",
       "      <th>248770</th>\n",
       "      <td>আব্দুল মালেক [MASK] জেলার মুক্তিযুদ্ধের সংগঠক ...</td>\n",
       "      <td>ময়মনসিংহ</td>\n",
       "    </tr>\n",
       "    <tr>\n",
       "      <th>248771</th>\n",
       "      <td>তার জয়ের মাধ্যমে প্রথমবারের মতো কোন তৃনমূল কংগ...</td>\n",
       "      <td>পথ্রী</td>\n",
       "    </tr>\n",
       "    <tr>\n",
       "      <th>248772</th>\n",
       "      <td>এখানে [MASK] ব্যাং্ক পরিষেবা বর্তমান</td>\n",
       "      <td>ল্বাড</td>\n",
       "    </tr>\n",
       "    <tr>\n",
       "      <th>248773</th>\n",
       "      <td>এখানে ল্বযাট [MASK] পরিষেবা বর্তমান</td>\n",
       "      <td>ব্যাঙ্ক</td>\n",
       "    </tr>\n",
       "  </tbody>\n",
       "</table>\n",
       "<p>248774 rows × 2 columns</p>\n",
       "</div>"
      ],
      "text/plain": [
       "                                          masked_wav2vec2 correct_word\n",
       "0                                    হাসি [MASK] হয়েই আছে         বিষয়\n",
       "1                                          শাক দেশ [MASK]             \n",
       "2                                             [MASK] জাদে        সহজেই\n",
       "3                                             শহজি [MASK]        যাওয়া\n",
       "4                                অন্তর্ভুক্ত করেছে [MASK]       রাশিয়া\n",
       "...                                                   ...          ...\n",
       "248769  রেডিও বিকিরণের একটি অংশ আপেক্ষিক জেট থেকে আসেয...        পশ্রন\n",
       "248770  আব্দুল মালেক [MASK] জেলার মুক্তিযুদ্ধের সংগঠক ...     ময়মনসিংহ\n",
       "248771  তার জয়ের মাধ্যমে প্রথমবারের মতো কোন তৃনমূল কংগ...        পথ্রী\n",
       "248772               এখানে [MASK] ব্যাং্ক পরিষেবা বর্তমান        ল্বাড\n",
       "248773                এখানে ল্বযাট [MASK] পরিষেবা বর্তমান      ব্যাঙ্ক\n",
       "\n",
       "[248774 rows x 2 columns]"
      ]
     },
     "execution_count": 8,
     "metadata": {},
     "output_type": "execute_result"
    }
   ],
   "source": [
    "df_wav2vec2_masked = df_wav2vec2_masked[['masked_wav2vec2','correct_word']]\n",
    "df_wav2vec2_masked"
   ]
  },
  {
   "cell_type": "code",
   "execution_count": 9,
   "id": "ceb95584",
   "metadata": {
    "execution": {
     "iopub.execute_input": "2023-02-11T17:00:46.695306Z",
     "iopub.status.busy": "2023-02-11T17:00:46.694164Z",
     "iopub.status.idle": "2023-02-11T17:00:46.708687Z",
     "shell.execute_reply": "2023-02-11T17:00:46.707579Z"
    },
    "papermill": {
     "duration": 0.029642,
     "end_time": "2023-02-11T17:00:46.711144",
     "exception": false,
     "start_time": "2023-02-11T17:00:46.681502",
     "status": "completed"
    },
    "tags": []
   },
   "outputs": [
    {
     "data": {
      "text/html": [
       "<div>\n",
       "<style scoped>\n",
       "    .dataframe tbody tr th:only-of-type {\n",
       "        vertical-align: middle;\n",
       "    }\n",
       "\n",
       "    .dataframe tbody tr th {\n",
       "        vertical-align: top;\n",
       "    }\n",
       "\n",
       "    .dataframe thead th {\n",
       "        text-align: right;\n",
       "    }\n",
       "</style>\n",
       "<table border=\"1\" class=\"dataframe\">\n",
       "  <thead>\n",
       "    <tr style=\"text-align: right;\">\n",
       "      <th></th>\n",
       "      <th>input</th>\n",
       "      <th>output</th>\n",
       "    </tr>\n",
       "  </thead>\n",
       "  <tbody>\n",
       "    <tr>\n",
       "      <th>0</th>\n",
       "      <td>আর জামিনের [MASK] করলেন না অর্পিতা</td>\n",
       "      <td>আবেদন</td>\n",
       "    </tr>\n",
       "    <tr>\n",
       "      <th>1</th>\n",
       "      <td>অর্পিতা মুখার্জি [MASK]</td>\n",
       "      <td>কারাগারেই</td>\n",
       "    </tr>\n",
       "    <tr>\n",
       "      <th>2</th>\n",
       "      <td>তাঁর [MASK] সংশয়ের আশঙ্কা রয়েছে</td>\n",
       "      <td>জীবন</td>\n",
       "    </tr>\n",
       "    <tr>\n",
       "      <th>3</th>\n",
       "      <td>আদালত শুনানি শেষে পার্থের জামিন আবেদন [MASK] ক...</td>\n",
       "      <td>খারিজ</td>\n",
       "    </tr>\n",
       "    <tr>\n",
       "      <th>4</th>\n",
       "      <td>অর্পিতাকেও দিনের জেল [MASK] রাখার আদেশ দেন</td>\n",
       "      <td>হেফাজতে</td>\n",
       "    </tr>\n",
       "    <tr>\n",
       "      <th>...</th>\n",
       "      <td>...</td>\n",
       "      <td>...</td>\n",
       "    </tr>\n",
       "    <tr>\n",
       "      <th>2992534</th>\n",
       "      <td>রায়ের পর প্রসিকিউটর রেজিয়া সুলতানা প্রথম [MASK...</td>\n",
       "      <td>আলোকে</td>\n",
       "    </tr>\n",
       "    <tr>\n",
       "      <th>2992535</th>\n",
       "      <td>খলিলুরের বিরুদ্ধে মুক্তিযুদ্ধকালে [MASK]</td>\n",
       "      <td>আটক</td>\n",
       "    </tr>\n",
       "    <tr>\n",
       "      <th>2992536</th>\n",
       "      <td>হত্যা ও গণহত্যাসহ মানবতাবিরোধী অপরাধের পাঁচটি ...</td>\n",
       "      <td>আনা</td>\n",
       "    </tr>\n",
       "    <tr>\n",
       "      <th>2992537</th>\n",
       "      <td>[MASK] অভিযোগই ট্রাইব্যুনালে প্রমাণিত হয়েছে</td>\n",
       "      <td>পাঁচটি</td>\n",
       "    </tr>\n",
       "    <tr>\n",
       "      <th>2992538</th>\n",
       "      <td>এর মধ্যে রাজনৈতিক গ্রুপকে গণহত্যার দায়ের বিষয়ট...</td>\n",
       "      <td>রয়েছে</td>\n",
       "    </tr>\n",
       "  </tbody>\n",
       "</table>\n",
       "<p>2992539 rows × 2 columns</p>\n",
       "</div>"
      ],
      "text/plain": [
       "                                                     input     output\n",
       "0                       আর জামিনের [MASK] করলেন না অর্পিতা      আবেদন\n",
       "1                                  অর্পিতা মুখার্জি [MASK]  কারাগারেই\n",
       "2                          তাঁর [MASK] সংশয়ের আশঙ্কা রয়েছে       জীবন\n",
       "3        আদালত শুনানি শেষে পার্থের জামিন আবেদন [MASK] ক...      খারিজ\n",
       "4               অর্পিতাকেও দিনের জেল [MASK] রাখার আদেশ দেন    হেফাজতে\n",
       "...                                                    ...        ...\n",
       "2992534  রায়ের পর প্রসিকিউটর রেজিয়া সুলতানা প্রথম [MASK...      আলোকে\n",
       "2992535           খলিলুরের বিরুদ্ধে মুক্তিযুদ্ধকালে [MASK]        আটক\n",
       "2992536  হত্যা ও গণহত্যাসহ মানবতাবিরোধী অপরাধের পাঁচটি ...        আনা\n",
       "2992537        [MASK] অভিযোগই ট্রাইব্যুনালে প্রমাণিত হয়েছে     পাঁচটি\n",
       "2992538  এর মধ্যে রাজনৈতিক গ্রুপকে গণহত্যার দায়ের বিষয়ট...      রয়েছে\n",
       "\n",
       "[2992539 rows x 2 columns]"
      ]
     },
     "execution_count": 9,
     "metadata": {},
     "output_type": "execute_result"
    }
   ],
   "source": [
    "df_custom.rename(columns = {'masked_sen':'input','correct_word':'output'},inplace=True)\n",
    "df_custom"
   ]
  },
  {
   "cell_type": "code",
   "execution_count": 10,
   "id": "891f3d7d",
   "metadata": {
    "execution": {
     "iopub.execute_input": "2023-02-11T17:00:46.729357Z",
     "iopub.status.busy": "2023-02-11T17:00:46.728395Z",
     "iopub.status.idle": "2023-02-11T17:00:46.741913Z",
     "shell.execute_reply": "2023-02-11T17:00:46.740872Z"
    },
    "papermill": {
     "duration": 0.025233,
     "end_time": "2023-02-11T17:00:46.744346",
     "exception": false,
     "start_time": "2023-02-11T17:00:46.719113",
     "status": "completed"
    },
    "tags": []
   },
   "outputs": [
    {
     "data": {
      "text/html": [
       "<div>\n",
       "<style scoped>\n",
       "    .dataframe tbody tr th:only-of-type {\n",
       "        vertical-align: middle;\n",
       "    }\n",
       "\n",
       "    .dataframe tbody tr th {\n",
       "        vertical-align: top;\n",
       "    }\n",
       "\n",
       "    .dataframe thead th {\n",
       "        text-align: right;\n",
       "    }\n",
       "</style>\n",
       "<table border=\"1\" class=\"dataframe\">\n",
       "  <thead>\n",
       "    <tr style=\"text-align: right;\">\n",
       "      <th></th>\n",
       "      <th>input</th>\n",
       "      <th>output</th>\n",
       "    </tr>\n",
       "  </thead>\n",
       "  <tbody>\n",
       "    <tr>\n",
       "      <th>0</th>\n",
       "      <td>হাসি [MASK] হয়েই আছে</td>\n",
       "      <td>বিষয়</td>\n",
       "    </tr>\n",
       "    <tr>\n",
       "      <th>1</th>\n",
       "      <td>শাক দেশ [MASK]</td>\n",
       "      <td></td>\n",
       "    </tr>\n",
       "    <tr>\n",
       "      <th>2</th>\n",
       "      <td>[MASK] জাদে</td>\n",
       "      <td>সহজেই</td>\n",
       "    </tr>\n",
       "    <tr>\n",
       "      <th>3</th>\n",
       "      <td>শহজি [MASK]</td>\n",
       "      <td>যাওয়া</td>\n",
       "    </tr>\n",
       "    <tr>\n",
       "      <th>4</th>\n",
       "      <td>অন্তর্ভুক্ত করেছে [MASK]</td>\n",
       "      <td>রাশিয়া</td>\n",
       "    </tr>\n",
       "    <tr>\n",
       "      <th>...</th>\n",
       "      <td>...</td>\n",
       "      <td>...</td>\n",
       "    </tr>\n",
       "    <tr>\n",
       "      <th>248769</th>\n",
       "      <td>রেডিও বিকিরণের একটি অংশ আপেক্ষিক জেট থেকে আসেয...</td>\n",
       "      <td>পশ্রন</td>\n",
       "    </tr>\n",
       "    <tr>\n",
       "      <th>248770</th>\n",
       "      <td>আব্দুল মালেক [MASK] জেলার মুক্তিযুদ্ধের সংগঠক ...</td>\n",
       "      <td>ময়মনসিংহ</td>\n",
       "    </tr>\n",
       "    <tr>\n",
       "      <th>248771</th>\n",
       "      <td>তার জয়ের মাধ্যমে প্রথমবারের মতো কোন তৃনমূল কংগ...</td>\n",
       "      <td>পথ্রী</td>\n",
       "    </tr>\n",
       "    <tr>\n",
       "      <th>248772</th>\n",
       "      <td>এখানে [MASK] ব্যাং্ক পরিষেবা বর্তমান</td>\n",
       "      <td>ল্বাড</td>\n",
       "    </tr>\n",
       "    <tr>\n",
       "      <th>248773</th>\n",
       "      <td>এখানে ল্বযাট [MASK] পরিষেবা বর্তমান</td>\n",
       "      <td>ব্যাঙ্ক</td>\n",
       "    </tr>\n",
       "  </tbody>\n",
       "</table>\n",
       "<p>248774 rows × 2 columns</p>\n",
       "</div>"
      ],
      "text/plain": [
       "                                                    input    output\n",
       "0                                    হাসি [MASK] হয়েই আছে      বিষয়\n",
       "1                                          শাক দেশ [MASK]          \n",
       "2                                             [MASK] জাদে     সহজেই\n",
       "3                                             শহজি [MASK]     যাওয়া\n",
       "4                                অন্তর্ভুক্ত করেছে [MASK]    রাশিয়া\n",
       "...                                                   ...       ...\n",
       "248769  রেডিও বিকিরণের একটি অংশ আপেক্ষিক জেট থেকে আসেয...     পশ্রন\n",
       "248770  আব্দুল মালেক [MASK] জেলার মুক্তিযুদ্ধের সংগঠক ...  ময়মনসিংহ\n",
       "248771  তার জয়ের মাধ্যমে প্রথমবারের মতো কোন তৃনমূল কংগ...     পথ্রী\n",
       "248772               এখানে [MASK] ব্যাং্ক পরিষেবা বর্তমান     ল্বাড\n",
       "248773                এখানে ল্বযাট [MASK] পরিষেবা বর্তমান   ব্যাঙ্ক\n",
       "\n",
       "[248774 rows x 2 columns]"
      ]
     },
     "execution_count": 10,
     "metadata": {},
     "output_type": "execute_result"
    }
   ],
   "source": [
    "df_wav2vec2_masked.rename(columns={'masked_wav2vec2':'input','correct_word':'output'},inplace=True)\n",
    "df_wav2vec2_masked"
   ]
  },
  {
   "cell_type": "code",
   "execution_count": 11,
   "id": "d7310ca8",
   "metadata": {
    "execution": {
     "iopub.execute_input": "2023-02-11T17:00:46.771068Z",
     "iopub.status.busy": "2023-02-11T17:00:46.770686Z",
     "iopub.status.idle": "2023-02-11T17:00:47.643875Z",
     "shell.execute_reply": "2023-02-11T17:00:47.643072Z"
    },
    "papermill": {
     "duration": 0.893341,
     "end_time": "2023-02-11T17:00:47.646032",
     "exception": false,
     "start_time": "2023-02-11T17:00:46.752691",
     "status": "completed"
    },
    "tags": []
   },
   "outputs": [
    {
     "data": {
      "text/html": [
       "<div>\n",
       "<style scoped>\n",
       "    .dataframe tbody tr th:only-of-type {\n",
       "        vertical-align: middle;\n",
       "    }\n",
       "\n",
       "    .dataframe tbody tr th {\n",
       "        vertical-align: top;\n",
       "    }\n",
       "\n",
       "    .dataframe thead th {\n",
       "        text-align: right;\n",
       "    }\n",
       "</style>\n",
       "<table border=\"1\" class=\"dataframe\">\n",
       "  <thead>\n",
       "    <tr style=\"text-align: right;\">\n",
       "      <th></th>\n",
       "      <th>input</th>\n",
       "      <th>output</th>\n",
       "    </tr>\n",
       "  </thead>\n",
       "  <tbody>\n",
       "    <tr>\n",
       "      <th>0</th>\n",
       "      <td>আর জামিনের [MASK] করলেন না অর্পিতা</td>\n",
       "      <td>আবেদন</td>\n",
       "    </tr>\n",
       "    <tr>\n",
       "      <th>1</th>\n",
       "      <td>অর্পিতা মুখার্জি [MASK]</td>\n",
       "      <td>কারাগারেই</td>\n",
       "    </tr>\n",
       "    <tr>\n",
       "      <th>2</th>\n",
       "      <td>তাঁর [MASK] সংশয়ের আশঙ্কা রয়েছে</td>\n",
       "      <td>জীবন</td>\n",
       "    </tr>\n",
       "    <tr>\n",
       "      <th>3</th>\n",
       "      <td>আদালত শুনানি শেষে পার্থের জামিন আবেদন [MASK] ক...</td>\n",
       "      <td>খারিজ</td>\n",
       "    </tr>\n",
       "    <tr>\n",
       "      <th>4</th>\n",
       "      <td>অর্পিতাকেও দিনের জেল [MASK] রাখার আদেশ দেন</td>\n",
       "      <td>হেফাজতে</td>\n",
       "    </tr>\n",
       "    <tr>\n",
       "      <th>...</th>\n",
       "      <td>...</td>\n",
       "      <td>...</td>\n",
       "    </tr>\n",
       "    <tr>\n",
       "      <th>248769</th>\n",
       "      <td>রেডিও বিকিরণের একটি অংশ আপেক্ষিক জেট থেকে আসেয...</td>\n",
       "      <td>পশ্রন</td>\n",
       "    </tr>\n",
       "    <tr>\n",
       "      <th>248770</th>\n",
       "      <td>আব্দুল মালেক [MASK] জেলার মুক্তিযুদ্ধের সংগঠক ...</td>\n",
       "      <td>ময়মনসিংহ</td>\n",
       "    </tr>\n",
       "    <tr>\n",
       "      <th>248771</th>\n",
       "      <td>তার জয়ের মাধ্যমে প্রথমবারের মতো কোন তৃনমূল কংগ...</td>\n",
       "      <td>পথ্রী</td>\n",
       "    </tr>\n",
       "    <tr>\n",
       "      <th>248772</th>\n",
       "      <td>এখানে [MASK] ব্যাং্ক পরিষেবা বর্তমান</td>\n",
       "      <td>ল্বাড</td>\n",
       "    </tr>\n",
       "    <tr>\n",
       "      <th>248773</th>\n",
       "      <td>এখানে ল্বযাট [MASK] পরিষেবা বর্তমান</td>\n",
       "      <td>ব্যাঙ্ক</td>\n",
       "    </tr>\n",
       "  </tbody>\n",
       "</table>\n",
       "<p>3241313 rows × 2 columns</p>\n",
       "</div>"
      ],
      "text/plain": [
       "                                                    input     output\n",
       "0                      আর জামিনের [MASK] করলেন না অর্পিতা      আবেদন\n",
       "1                                 অর্পিতা মুখার্জি [MASK]  কারাগারেই\n",
       "2                         তাঁর [MASK] সংশয়ের আশঙ্কা রয়েছে       জীবন\n",
       "3       আদালত শুনানি শেষে পার্থের জামিন আবেদন [MASK] ক...      খারিজ\n",
       "4              অর্পিতাকেও দিনের জেল [MASK] রাখার আদেশ দেন    হেফাজতে\n",
       "...                                                   ...        ...\n",
       "248769  রেডিও বিকিরণের একটি অংশ আপেক্ষিক জেট থেকে আসেয...      পশ্রন\n",
       "248770  আব্দুল মালেক [MASK] জেলার মুক্তিযুদ্ধের সংগঠক ...   ময়মনসিংহ\n",
       "248771  তার জয়ের মাধ্যমে প্রথমবারের মতো কোন তৃনমূল কংগ...      পথ্রী\n",
       "248772               এখানে [MASK] ব্যাং্ক পরিষেবা বর্তমান      ল্বাড\n",
       "248773                এখানে ল্বযাট [MASK] পরিষেবা বর্তমান    ব্যাঙ্ক\n",
       "\n",
       "[3241313 rows x 2 columns]"
      ]
     },
     "execution_count": 11,
     "metadata": {},
     "output_type": "execute_result"
    }
   ],
   "source": [
    "df = df_custom.append(df_wav2vec2_masked)\n",
    "df = df.dropna(how='any',axis=0) \n",
    "df"
   ]
  },
  {
   "cell_type": "code",
   "execution_count": 12,
   "id": "f1a7705c",
   "metadata": {
    "execution": {
     "iopub.execute_input": "2023-02-11T17:00:47.665069Z",
     "iopub.status.busy": "2023-02-11T17:00:47.664154Z",
     "iopub.status.idle": "2023-02-11T17:00:48.545200Z",
     "shell.execute_reply": "2023-02-11T17:00:48.544006Z"
    },
    "papermill": {
     "duration": 0.89304,
     "end_time": "2023-02-11T17:00:48.547727",
     "exception": false,
     "start_time": "2023-02-11T17:00:47.654687",
     "status": "completed"
    },
    "tags": []
   },
   "outputs": [
    {
     "data": {
      "text/html": [
       "<div>\n",
       "<style scoped>\n",
       "    .dataframe tbody tr th:only-of-type {\n",
       "        vertical-align: middle;\n",
       "    }\n",
       "\n",
       "    .dataframe tbody tr th {\n",
       "        vertical-align: top;\n",
       "    }\n",
       "\n",
       "    .dataframe thead th {\n",
       "        text-align: right;\n",
       "    }\n",
       "</style>\n",
       "<table border=\"1\" class=\"dataframe\">\n",
       "  <thead>\n",
       "    <tr style=\"text-align: right;\">\n",
       "      <th></th>\n",
       "      <th>input</th>\n",
       "      <th>output</th>\n",
       "    </tr>\n",
       "  </thead>\n",
       "  <tbody>\n",
       "    <tr>\n",
       "      <th>0</th>\n",
       "      <td>বার্তা সংস্থা এএফপি [MASK]</td>\n",
       "      <td>বলেছে</td>\n",
       "    </tr>\n",
       "    <tr>\n",
       "      <th>1</th>\n",
       "      <td>পুলিশ [MASK] কম্পিউটার জব্দ করে ব্ল্যাকমেলের স...</td>\n",
       "      <td>তাঁর</td>\n",
       "    </tr>\n",
       "    <tr>\n",
       "      <th>2</th>\n",
       "      <td>সাক্ষাৎকার নিয়েছেন ইফতেখার [MASK]</td>\n",
       "      <td>মাহমুদ</td>\n",
       "    </tr>\n",
       "    <tr>\n",
       "      <th>3</th>\n",
       "      <td>বিশ্ববিদ্যালয়ের মাধ্যমে আমার কন্যা [MASK] নিমন...</td>\n",
       "      <td>পূর্বা</td>\n",
       "    </tr>\n",
       "    <tr>\n",
       "      <th>4</th>\n",
       "      <td>দেশে প্রতিবছর মে মাস থেকে জুলাই [MASK] সময়কে আ...</td>\n",
       "      <td>পর্যন্ত</td>\n",
       "    </tr>\n",
       "    <tr>\n",
       "      <th>...</th>\n",
       "      <td>...</td>\n",
       "      <td>...</td>\n",
       "    </tr>\n",
       "    <tr>\n",
       "      <th>2041308</th>\n",
       "      <td>শীতলপাটির মধ্যে সবচেয়ে [MASK] বিক্রি হয় ফুট বা...</td>\n",
       "      <td>বেশি</td>\n",
       "    </tr>\n",
       "    <tr>\n",
       "      <th>2041309</th>\n",
       "      <td>[MASK] এজাহারে তিনি উল্লেখ করেন</td>\n",
       "      <td>মামলার</td>\n",
       "    </tr>\n",
       "    <tr>\n",
       "      <th>2041310</th>\n",
       "      <td>এ সময় করোনা [MASK] হয়েছে জনের</td>\n",
       "      <td>শনাক্ত</td>\n",
       "    </tr>\n",
       "    <tr>\n",
       "      <th>2041311</th>\n",
       "      <td>বৃষ্টি [MASK] না হলে আমেরও কোনো ক্ষতি হবে না</td>\n",
       "      <td>দীর্ঘস্থায়ী</td>\n",
       "    </tr>\n",
       "    <tr>\n",
       "      <th>2041312</th>\n",
       "      <td>নতুন সিদ্ধান্ত অনুযায়ী বিভিন্ন প্রতিষ্ঠানে কর্...</td>\n",
       "      <td>উপস্থিতি</td>\n",
       "    </tr>\n",
       "  </tbody>\n",
       "</table>\n",
       "<p>2041313 rows × 2 columns</p>\n",
       "</div>"
      ],
      "text/plain": [
       "                                                     input       output\n",
       "0                               বার্তা সংস্থা এএফপি [MASK]        বলেছে\n",
       "1        পুলিশ [MASK] কম্পিউটার জব্দ করে ব্ল্যাকমেলের স...         তাঁর\n",
       "2                        সাক্ষাৎকার নিয়েছেন ইফতেখার [MASK]       মাহমুদ\n",
       "3        বিশ্ববিদ্যালয়ের মাধ্যমে আমার কন্যা [MASK] নিমন...       পূর্বা\n",
       "4        দেশে প্রতিবছর মে মাস থেকে জুলাই [MASK] সময়কে আ...      পর্যন্ত\n",
       "...                                                    ...          ...\n",
       "2041308  শীতলপাটির মধ্যে সবচেয়ে [MASK] বিক্রি হয় ফুট বা...         বেশি\n",
       "2041309                    [MASK] এজাহারে তিনি উল্লেখ করেন       মামলার\n",
       "2041310                      এ সময় করোনা [MASK] হয়েছে জনের       শনাক্ত\n",
       "2041311       বৃষ্টি [MASK] না হলে আমেরও কোনো ক্ষতি হবে না  দীর্ঘস্থায়ী\n",
       "2041312  নতুন সিদ্ধান্ত অনুযায়ী বিভিন্ন প্রতিষ্ঠানে কর্...     উপস্থিতি\n",
       "\n",
       "[2041313 rows x 2 columns]"
      ]
     },
     "execution_count": 12,
     "metadata": {},
     "output_type": "execute_result"
    }
   ],
   "source": [
    "df = df.sample(2041313)\n",
    "df = df.reset_index(drop=True)\n",
    "df"
   ]
  },
  {
   "cell_type": "code",
   "execution_count": 13,
   "id": "e2008f3e",
   "metadata": {
    "execution": {
     "iopub.execute_input": "2023-02-11T17:00:48.566740Z",
     "iopub.status.busy": "2023-02-11T17:00:48.566346Z",
     "iopub.status.idle": "2023-02-11T17:00:49.214753Z",
     "shell.execute_reply": "2023-02-11T17:00:49.213625Z"
    },
    "papermill": {
     "duration": 0.660639,
     "end_time": "2023-02-11T17:00:49.217116",
     "exception": false,
     "start_time": "2023-02-11T17:00:48.556477",
     "status": "completed"
    },
    "tags": []
   },
   "outputs": [
    {
     "data": {
      "text/plain": [
       "((1837181, 2), (204132, 2))"
      ]
     },
     "execution_count": 13,
     "metadata": {},
     "output_type": "execute_result"
    }
   ],
   "source": [
    "from sklearn.model_selection import train_test_split\n",
    "train_df, test_df = train_test_split(df, test_size=0.10, shuffle=True)\n",
    "train_df.shape, test_df.shape"
   ]
  },
  {
   "cell_type": "code",
   "execution_count": 14,
   "id": "bef19d50",
   "metadata": {
    "execution": {
     "iopub.execute_input": "2023-02-11T17:00:49.237147Z",
     "iopub.status.busy": "2023-02-11T17:00:49.236131Z",
     "iopub.status.idle": "2023-02-11T17:00:51.799654Z",
     "shell.execute_reply": "2023-02-11T17:00:51.798785Z"
    },
    "papermill": {
     "duration": 2.576096,
     "end_time": "2023-02-11T17:00:51.802106",
     "exception": false,
     "start_time": "2023-02-11T17:00:49.226010",
     "status": "completed"
    },
    "tags": []
   },
   "outputs": [],
   "source": [
    "train_data = Dataset.from_pandas(train_df.sample(1837181))\n",
    "test_data = Dataset.from_pandas(test_df)"
   ]
  },
  {
   "cell_type": "code",
   "execution_count": 15,
   "id": "5fd93727",
   "metadata": {
    "execution": {
     "iopub.execute_input": "2023-02-11T17:00:51.822292Z",
     "iopub.status.busy": "2023-02-11T17:00:51.821701Z",
     "iopub.status.idle": "2023-02-11T17:00:52.115645Z",
     "shell.execute_reply": "2023-02-11T17:00:52.114483Z"
    },
    "papermill": {
     "duration": 0.307101,
     "end_time": "2023-02-11T17:00:52.118536",
     "exception": false,
     "start_time": "2023-02-11T17:00:51.811435",
     "status": "completed"
    },
    "tags": []
   },
   "outputs": [],
   "source": [
    "train_data.save_to_disk('train')\n",
    "test_data.save_to_disk('test')"
   ]
  },
  {
   "cell_type": "code",
   "execution_count": 16,
   "id": "d8435e06",
   "metadata": {
    "execution": {
     "iopub.execute_input": "2023-02-11T17:00:52.138538Z",
     "iopub.status.busy": "2023-02-11T17:00:52.138108Z",
     "iopub.status.idle": "2023-02-11T17:00:52.142909Z",
     "shell.execute_reply": "2023-02-11T17:00:52.141852Z"
    },
    "papermill": {
     "duration": 0.017533,
     "end_time": "2023-02-11T17:00:52.145355",
     "exception": false,
     "start_time": "2023-02-11T17:00:52.127822",
     "status": "completed"
    },
    "tags": []
   },
   "outputs": [],
   "source": [
    "max_len = 128"
   ]
  },
  {
   "cell_type": "code",
   "execution_count": 17,
   "id": "8562818b",
   "metadata": {
    "execution": {
     "iopub.execute_input": "2023-02-11T17:00:52.164886Z",
     "iopub.status.busy": "2023-02-11T17:00:52.164450Z",
     "iopub.status.idle": "2023-02-11T17:00:57.611892Z",
     "shell.execute_reply": "2023-02-11T17:00:57.609964Z"
    },
    "papermill": {
     "duration": 5.460251,
     "end_time": "2023-02-11T17:00:57.614599",
     "exception": false,
     "start_time": "2023-02-11T17:00:52.154348",
     "status": "completed"
    },
    "tags": []
   },
   "outputs": [
    {
     "data": {
      "application/vnd.jupyter.widget-view+json": {
       "model_id": "5c5c47615bb94167b63f65fcd6fdbd2e",
       "version_major": 2,
       "version_minor": 0
      },
      "text/plain": [
       "Downloading:   0%|          | 0.00/1.44k [00:00<?, ?B/s]"
      ]
     },
     "metadata": {},
     "output_type": "display_data"
    },
    {
     "data": {
      "application/vnd.jupyter.widget-view+json": {
       "model_id": "032043dba2514b178d62df5c0ee8c916",
       "version_major": 2,
       "version_minor": 0
      },
      "text/plain": [
       "Downloading:   0%|          | 0.00/1.05M [00:00<?, ?B/s]"
      ]
     },
     "metadata": {},
     "output_type": "display_data"
    },
    {
     "name": "stderr",
     "output_type": "stream",
     "text": [
      "Special tokens have been added in the vocabulary, make sure the associated word embeddings are fine-tuned or trained.\n"
     ]
    }
   ],
   "source": [
    "model_name = 'flax-community/bengali-t5-base'\n",
    "tokenizer = AutoTokenizer.from_pretrained(model_name)"
   ]
  },
  {
   "cell_type": "code",
   "execution_count": 18,
   "id": "5841f6bf",
   "metadata": {
    "execution": {
     "iopub.execute_input": "2023-02-11T17:00:57.637702Z",
     "iopub.status.busy": "2023-02-11T17:00:57.637312Z",
     "iopub.status.idle": "2023-02-11T17:00:57.643133Z",
     "shell.execute_reply": "2023-02-11T17:00:57.641877Z"
    },
    "papermill": {
     "duration": 0.021381,
     "end_time": "2023-02-11T17:00:57.645360",
     "exception": false,
     "start_time": "2023-02-11T17:00:57.623979",
     "status": "completed"
    },
    "tags": []
   },
   "outputs": [
    {
     "name": "stdout",
     "output_type": "stream",
     "text": [
      "dict_keys(['eos_token', 'unk_token', 'pad_token', 'additional_special_tokens'])\n"
     ]
    }
   ],
   "source": [
    "print(tokenizer.special_tokens_map.keys())"
   ]
  },
  {
   "cell_type": "code",
   "execution_count": 19,
   "id": "a32d2f2a",
   "metadata": {
    "execution": {
     "iopub.execute_input": "2023-02-11T17:00:57.665584Z",
     "iopub.status.busy": "2023-02-11T17:00:57.664926Z",
     "iopub.status.idle": "2023-02-11T17:00:57.680507Z",
     "shell.execute_reply": "2023-02-11T17:00:57.678261Z"
    },
    "papermill": {
     "duration": 0.028257,
     "end_time": "2023-02-11T17:00:57.682767",
     "exception": false,
     "start_time": "2023-02-11T17:00:57.654510",
     "status": "completed"
    },
    "tags": []
   },
   "outputs": [
    {
     "data": {
      "text/plain": [
       "'যেন তিনি কেবল ঋণের বোঝা বহনকারী [mask] না হন</s><pad><pad><pad><pad><pad><pad><pad><pad><pad><pad><pad><pad><pad><pad><pad><pad><pad><pad><pad><pad><pad><pad><pad><pad><pad><pad><pad><pad><pad><pad><pad><pad><pad><pad><pad><pad><pad><pad><pad><pad><pad><pad><pad><pad><pad><pad><pad><pad>'"
      ]
     },
     "execution_count": 19,
     "metadata": {},
     "output_type": "execute_result"
    }
   ],
   "source": [
    "tokenizer.decode(tokenizer(train_data[0]['input'],padding=\"max_length\", max_length=64,return_attention_mask = True).input_ids)"
   ]
  },
  {
   "cell_type": "code",
   "execution_count": 20,
   "id": "6e2558a9",
   "metadata": {
    "execution": {
     "iopub.execute_input": "2023-02-11T17:00:57.703643Z",
     "iopub.status.busy": "2023-02-11T17:00:57.702869Z",
     "iopub.status.idle": "2023-02-11T17:00:57.708957Z",
     "shell.execute_reply": "2023-02-11T17:00:57.708117Z"
    },
    "papermill": {
     "duration": 0.019258,
     "end_time": "2023-02-11T17:00:57.711353",
     "exception": false,
     "start_time": "2023-02-11T17:00:57.692095",
     "status": "completed"
    },
    "tags": []
   },
   "outputs": [],
   "source": [
    "def prepare_data(example):\n",
    "    example[\"input_ids\"] = tokenizer(example['input'], padding=\"max_length\", max_length=64,return_attention_mask = True).input_ids\n",
    "    example[\"attention_mask\"] = tokenizer(example['input'], padding=\"max_length\", max_length=64,return_attention_mask = True).attention_mask\n",
    "    example[\"labels\"] = tokenizer(example[\"output\"], padding=\"max_length\", max_length=64).input_ids\n",
    "    return example"
   ]
  },
  {
   "cell_type": "code",
   "execution_count": 21,
   "id": "dc59dadc",
   "metadata": {
    "execution": {
     "iopub.execute_input": "2023-02-11T17:00:57.732076Z",
     "iopub.status.busy": "2023-02-11T17:00:57.731349Z",
     "iopub.status.idle": "2023-02-11T17:22:19.686437Z",
     "shell.execute_reply": "2023-02-11T17:22:19.684888Z"
    },
    "papermill": {
     "duration": 1281.96909,
     "end_time": "2023-02-11T17:22:19.689795",
     "exception": false,
     "start_time": "2023-02-11T17:00:57.720705",
     "status": "completed"
    },
    "tags": []
   },
   "outputs": [
    {
     "data": {
      "application/vnd.jupyter.widget-view+json": {
       "model_id": "87c0a5e067bb46079344e0ddbfdeab9e",
       "version_major": 2,
       "version_minor": 0
      },
      "text/plain": [
       "  0%|          | 0/1837181 [00:00<?, ?ex/s]"
      ]
     },
     "metadata": {},
     "output_type": "display_data"
    }
   ],
   "source": [
    "train_data = train_data.map(prepare_data,remove_columns=train_data.column_names)"
   ]
  },
  {
   "cell_type": "code",
   "execution_count": 22,
   "id": "8b87b387",
   "metadata": {
    "execution": {
     "iopub.execute_input": "2023-02-11T17:22:19.711946Z",
     "iopub.status.busy": "2023-02-11T17:22:19.711530Z",
     "iopub.status.idle": "2023-02-11T17:24:45.556700Z",
     "shell.execute_reply": "2023-02-11T17:24:45.555513Z"
    },
    "papermill": {
     "duration": 145.859553,
     "end_time": "2023-02-11T17:24:45.559442",
     "exception": false,
     "start_time": "2023-02-11T17:22:19.699889",
     "status": "completed"
    },
    "tags": []
   },
   "outputs": [
    {
     "data": {
      "application/vnd.jupyter.widget-view+json": {
       "model_id": "d663eb3100384740a417bd2857a7452b",
       "version_major": 2,
       "version_minor": 0
      },
      "text/plain": [
       "  0%|          | 0/204132 [00:00<?, ?ex/s]"
      ]
     },
     "metadata": {},
     "output_type": "display_data"
    }
   ],
   "source": [
    "test_data = test_data.map(prepare_data)"
   ]
  },
  {
   "cell_type": "code",
   "execution_count": 23,
   "id": "8d3c3bce",
   "metadata": {
    "execution": {
     "iopub.execute_input": "2023-02-11T17:24:45.581345Z",
     "iopub.status.busy": "2023-02-11T17:24:45.580516Z",
     "iopub.status.idle": "2023-02-11T17:24:45.587941Z",
     "shell.execute_reply": "2023-02-11T17:24:45.586848Z"
    },
    "papermill": {
     "duration": 0.021132,
     "end_time": "2023-02-11T17:24:45.590439",
     "exception": false,
     "start_time": "2023-02-11T17:24:45.569307",
     "status": "completed"
    },
    "tags": []
   },
   "outputs": [
    {
     "data": {
      "text/plain": [
       "0"
      ]
     },
     "execution_count": 23,
     "metadata": {},
     "output_type": "execute_result"
    }
   ],
   "source": [
    "train_data.cleanup_cache_files()\n",
    "test_data.cleanup_cache_files()"
   ]
  },
  {
   "cell_type": "code",
   "execution_count": 24,
   "id": "04053297",
   "metadata": {
    "execution": {
     "iopub.execute_input": "2023-02-11T17:24:45.611873Z",
     "iopub.status.busy": "2023-02-11T17:24:45.611093Z",
     "iopub.status.idle": "2023-02-11T17:24:49.360906Z",
     "shell.execute_reply": "2023-02-11T17:24:49.359233Z"
    },
    "papermill": {
     "duration": 3.763747,
     "end_time": "2023-02-11T17:24:49.363930",
     "exception": false,
     "start_time": "2023-02-11T17:24:45.600183",
     "status": "completed"
    },
    "tags": []
   },
   "outputs": [],
   "source": [
    "train_data.save_to_disk('train')\n",
    "test_data.save_to_disk('test')"
   ]
  },
  {
   "cell_type": "code",
   "execution_count": 25,
   "id": "5d122b94",
   "metadata": {
    "execution": {
     "iopub.execute_input": "2023-02-11T17:24:49.385918Z",
     "iopub.status.busy": "2023-02-11T17:24:49.384909Z",
     "iopub.status.idle": "2023-02-11T17:24:50.923113Z",
     "shell.execute_reply": "2023-02-11T17:24:50.921873Z"
    },
    "papermill": {
     "duration": 1.551977,
     "end_time": "2023-02-11T17:24:50.925904",
     "exception": false,
     "start_time": "2023-02-11T17:24:49.373927",
     "status": "completed"
    },
    "tags": []
   },
   "outputs": [
    {
     "name": "stdout",
     "output_type": "stream",
     "text": [
      "huggingface/tokenizers: The current process just got forked, after parallelism has already been used. Disabling parallelism to avoid deadlocks...\n",
      "To disable this warning, you can either:\n",
      "\t- Avoid using `tokenizers` before the fork if possible\n",
      "\t- Explicitly set the environment variable TOKENIZERS_PARALLELISM=(true | false)\n"
     ]
    }
   ],
   "source": [
    "!rm -rf /kaggle/working/data_wav2vec2"
   ]
  },
  {
   "cell_type": "code",
   "execution_count": null,
   "id": "f6cbf05e",
   "metadata": {
    "papermill": {
     "duration": 0.009905,
     "end_time": "2023-02-11T17:24:50.945989",
     "exception": false,
     "start_time": "2023-02-11T17:24:50.936084",
     "status": "completed"
    },
    "tags": []
   },
   "outputs": [],
   "source": []
  }
 ],
 "metadata": {
  "kernelspec": {
   "display_name": "Python 3",
   "language": "python",
   "name": "python3"
  },
  "language_info": {
   "codemirror_mode": {
    "name": "ipython",
    "version": 3
   },
   "file_extension": ".py",
   "mimetype": "text/x-python",
   "name": "python",
   "nbconvert_exporter": "python",
   "pygments_lexer": "ipython3",
   "version": "3.7.12"
  },
  "papermill": {
   "default_parameters": {},
   "duration": 1586.050842,
   "end_time": "2023-02-11T17:24:53.586588",
   "environment_variables": {},
   "exception": null,
   "input_path": "__notebook__.ipynb",
   "output_path": "__notebook__.ipynb",
   "parameters": {},
   "start_time": "2023-02-11T16:58:27.535746",
   "version": "2.3.4"
  },
  "widgets": {
   "application/vnd.jupyter.widget-state+json": {
    "state": {
     "032043dba2514b178d62df5c0ee8c916": {
      "model_module": "@jupyter-widgets/controls",
      "model_module_version": "1.5.0",
      "model_name": "HBoxModel",
      "state": {
       "_dom_classes": [],
       "_model_module": "@jupyter-widgets/controls",
       "_model_module_version": "1.5.0",
       "_model_name": "HBoxModel",
       "_view_count": null,
       "_view_module": "@jupyter-widgets/controls",
       "_view_module_version": "1.5.0",
       "_view_name": "HBoxView",
       "box_style": "",
       "children": [
        "IPY_MODEL_18fec3463e2b41a3959ce64100f2cb28",
        "IPY_MODEL_a5245547f234487b81b8ec1a3102ce37",
        "IPY_MODEL_b0036194552c41be87945ec67c23835f"
       ],
       "layout": "IPY_MODEL_b48d6bd8217b4620886e239f5d2d3b91"
      }
     },
     "062e63e894fc49cf90fc131cae368eb3": {
      "model_module": "@jupyter-widgets/base",
      "model_module_version": "1.2.0",
      "model_name": "LayoutModel",
      "state": {
       "_model_module": "@jupyter-widgets/base",
       "_model_module_version": "1.2.0",
       "_model_name": "LayoutModel",
       "_view_count": null,
       "_view_module": "@jupyter-widgets/base",
       "_view_module_version": "1.2.0",
       "_view_name": "LayoutView",
       "align_content": null,
       "align_items": null,
       "align_self": null,
       "border": null,
       "bottom": null,
       "display": null,
       "flex": null,
       "flex_flow": null,
       "grid_area": null,
       "grid_auto_columns": null,
       "grid_auto_flow": null,
       "grid_auto_rows": null,
       "grid_column": null,
       "grid_gap": null,
       "grid_row": null,
       "grid_template_areas": null,
       "grid_template_columns": null,
       "grid_template_rows": null,
       "height": null,
       "justify_content": null,
       "justify_items": null,
       "left": null,
       "margin": null,
       "max_height": null,
       "max_width": null,
       "min_height": null,
       "min_width": null,
       "object_fit": null,
       "object_position": null,
       "order": null,
       "overflow": null,
       "overflow_x": null,
       "overflow_y": null,
       "padding": null,
       "right": null,
       "top": null,
       "visibility": null,
       "width": null
      }
     },
     "0f4a63fce652475ab15307453c5c2817": {
      "model_module": "@jupyter-widgets/controls",
      "model_module_version": "1.5.0",
      "model_name": "DescriptionStyleModel",
      "state": {
       "_model_module": "@jupyter-widgets/controls",
       "_model_module_version": "1.5.0",
       "_model_name": "DescriptionStyleModel",
       "_view_count": null,
       "_view_module": "@jupyter-widgets/base",
       "_view_module_version": "1.2.0",
       "_view_name": "StyleView",
       "description_width": ""
      }
     },
     "18fec3463e2b41a3959ce64100f2cb28": {
      "model_module": "@jupyter-widgets/controls",
      "model_module_version": "1.5.0",
      "model_name": "HTMLModel",
      "state": {
       "_dom_classes": [],
       "_model_module": "@jupyter-widgets/controls",
       "_model_module_version": "1.5.0",
       "_model_name": "HTMLModel",
       "_view_count": null,
       "_view_module": "@jupyter-widgets/controls",
       "_view_module_version": "1.5.0",
       "_view_name": "HTMLView",
       "description": "",
       "description_tooltip": null,
       "layout": "IPY_MODEL_6868f7f36d1a4bf295871cccd410bc7d",
       "placeholder": "​",
       "style": "IPY_MODEL_5d40ddccbda846f4b785157f56eaf2dd",
       "value": "Downloading: 100%"
      }
     },
     "196352d68f314cd395a74f0a2da8cb37": {
      "model_module": "@jupyter-widgets/controls",
      "model_module_version": "1.5.0",
      "model_name": "DescriptionStyleModel",
      "state": {
       "_model_module": "@jupyter-widgets/controls",
       "_model_module_version": "1.5.0",
       "_model_name": "DescriptionStyleModel",
       "_view_count": null,
       "_view_module": "@jupyter-widgets/base",
       "_view_module_version": "1.2.0",
       "_view_name": "StyleView",
       "description_width": ""
      }
     },
     "1d2c57ef2ee94ef185bcd88bf3b21026": {
      "model_module": "@jupyter-widgets/controls",
      "model_module_version": "1.5.0",
      "model_name": "DescriptionStyleModel",
      "state": {
       "_model_module": "@jupyter-widgets/controls",
       "_model_module_version": "1.5.0",
       "_model_name": "DescriptionStyleModel",
       "_view_count": null,
       "_view_module": "@jupyter-widgets/base",
       "_view_module_version": "1.2.0",
       "_view_name": "StyleView",
       "description_width": ""
      }
     },
     "1e9dbc3ec54840869b67f7ed79ae0195": {
      "model_module": "@jupyter-widgets/controls",
      "model_module_version": "1.5.0",
      "model_name": "FloatProgressModel",
      "state": {
       "_dom_classes": [],
       "_model_module": "@jupyter-widgets/controls",
       "_model_module_version": "1.5.0",
       "_model_name": "FloatProgressModel",
       "_view_count": null,
       "_view_module": "@jupyter-widgets/controls",
       "_view_module_version": "1.5.0",
       "_view_name": "ProgressView",
       "bar_style": "success",
       "description": "",
       "description_tooltip": null,
       "layout": "IPY_MODEL_6d613fe3cd5a4144ba6368565ed76eb7",
       "max": 1472.0,
       "min": 0.0,
       "orientation": "horizontal",
       "style": "IPY_MODEL_5d5195b64a4b4651943356c1e7ff81e5",
       "value": 1472.0
      }
     },
     "23d2fbeed96648d59553eab1aee39cf7": {
      "model_module": "@jupyter-widgets/controls",
      "model_module_version": "1.5.0",
      "model_name": "DescriptionStyleModel",
      "state": {
       "_model_module": "@jupyter-widgets/controls",
       "_model_module_version": "1.5.0",
       "_model_name": "DescriptionStyleModel",
       "_view_count": null,
       "_view_module": "@jupyter-widgets/base",
       "_view_module_version": "1.2.0",
       "_view_name": "StyleView",
       "description_width": ""
      }
     },
     "299c3bc985464ef781cf4b2bf9250f3e": {
      "model_module": "@jupyter-widgets/base",
      "model_module_version": "1.2.0",
      "model_name": "LayoutModel",
      "state": {
       "_model_module": "@jupyter-widgets/base",
       "_model_module_version": "1.2.0",
       "_model_name": "LayoutModel",
       "_view_count": null,
       "_view_module": "@jupyter-widgets/base",
       "_view_module_version": "1.2.0",
       "_view_name": "LayoutView",
       "align_content": null,
       "align_items": null,
       "align_self": null,
       "border": null,
       "bottom": null,
       "display": null,
       "flex": null,
       "flex_flow": null,
       "grid_area": null,
       "grid_auto_columns": null,
       "grid_auto_flow": null,
       "grid_auto_rows": null,
       "grid_column": null,
       "grid_gap": null,
       "grid_row": null,
       "grid_template_areas": null,
       "grid_template_columns": null,
       "grid_template_rows": null,
       "height": null,
       "justify_content": null,
       "justify_items": null,
       "left": null,
       "margin": null,
       "max_height": null,
       "max_width": null,
       "min_height": null,
       "min_width": null,
       "object_fit": null,
       "object_position": null,
       "order": null,
       "overflow": null,
       "overflow_x": null,
       "overflow_y": null,
       "padding": null,
       "right": null,
       "top": null,
       "visibility": null,
       "width": null
      }
     },
     "532bb8fb26994c09b34b6f7627ebaf30": {
      "model_module": "@jupyter-widgets/controls",
      "model_module_version": "1.5.0",
      "model_name": "ProgressStyleModel",
      "state": {
       "_model_module": "@jupyter-widgets/controls",
       "_model_module_version": "1.5.0",
       "_model_name": "ProgressStyleModel",
       "_view_count": null,
       "_view_module": "@jupyter-widgets/base",
       "_view_module_version": "1.2.0",
       "_view_name": "StyleView",
       "bar_color": null,
       "description_width": ""
      }
     },
     "56997fbcc4e64bf780cf9742be6f3b20": {
      "model_module": "@jupyter-widgets/base",
      "model_module_version": "1.2.0",
      "model_name": "LayoutModel",
      "state": {
       "_model_module": "@jupyter-widgets/base",
       "_model_module_version": "1.2.0",
       "_model_name": "LayoutModel",
       "_view_count": null,
       "_view_module": "@jupyter-widgets/base",
       "_view_module_version": "1.2.0",
       "_view_name": "LayoutView",
       "align_content": null,
       "align_items": null,
       "align_self": null,
       "border": null,
       "bottom": null,
       "display": null,
       "flex": null,
       "flex_flow": null,
       "grid_area": null,
       "grid_auto_columns": null,
       "grid_auto_flow": null,
       "grid_auto_rows": null,
       "grid_column": null,
       "grid_gap": null,
       "grid_row": null,
       "grid_template_areas": null,
       "grid_template_columns": null,
       "grid_template_rows": null,
       "height": null,
       "justify_content": null,
       "justify_items": null,
       "left": null,
       "margin": null,
       "max_height": null,
       "max_width": null,
       "min_height": null,
       "min_width": null,
       "object_fit": null,
       "object_position": null,
       "order": null,
       "overflow": null,
       "overflow_x": null,
       "overflow_y": null,
       "padding": null,
       "right": null,
       "top": null,
       "visibility": null,
       "width": null
      }
     },
     "5c5c47615bb94167b63f65fcd6fdbd2e": {
      "model_module": "@jupyter-widgets/controls",
      "model_module_version": "1.5.0",
      "model_name": "HBoxModel",
      "state": {
       "_dom_classes": [],
       "_model_module": "@jupyter-widgets/controls",
       "_model_module_version": "1.5.0",
       "_model_name": "HBoxModel",
       "_view_count": null,
       "_view_module": "@jupyter-widgets/controls",
       "_view_module_version": "1.5.0",
       "_view_name": "HBoxView",
       "box_style": "",
       "children": [
        "IPY_MODEL_749311b1b67f49a39980c45b69317424",
        "IPY_MODEL_1e9dbc3ec54840869b67f7ed79ae0195",
        "IPY_MODEL_e1d5bf8a9d0e49ceaf76fe58f752352f"
       ],
       "layout": "IPY_MODEL_8975df3ad9d14aca9efb54896e6e7e9b"
      }
     },
     "5d40ddccbda846f4b785157f56eaf2dd": {
      "model_module": "@jupyter-widgets/controls",
      "model_module_version": "1.5.0",
      "model_name": "DescriptionStyleModel",
      "state": {
       "_model_module": "@jupyter-widgets/controls",
       "_model_module_version": "1.5.0",
       "_model_name": "DescriptionStyleModel",
       "_view_count": null,
       "_view_module": "@jupyter-widgets/base",
       "_view_module_version": "1.2.0",
       "_view_name": "StyleView",
       "description_width": ""
      }
     },
     "5d5195b64a4b4651943356c1e7ff81e5": {
      "model_module": "@jupyter-widgets/controls",
      "model_module_version": "1.5.0",
      "model_name": "ProgressStyleModel",
      "state": {
       "_model_module": "@jupyter-widgets/controls",
       "_model_module_version": "1.5.0",
       "_model_name": "ProgressStyleModel",
       "_view_count": null,
       "_view_module": "@jupyter-widgets/base",
       "_view_module_version": "1.2.0",
       "_view_name": "StyleView",
       "bar_color": null,
       "description_width": ""
      }
     },
     "62d7218f3a374aa3959435c18037e847": {
      "model_module": "@jupyter-widgets/controls",
      "model_module_version": "1.5.0",
      "model_name": "FloatProgressModel",
      "state": {
       "_dom_classes": [],
       "_model_module": "@jupyter-widgets/controls",
       "_model_module_version": "1.5.0",
       "_model_name": "FloatProgressModel",
       "_view_count": null,
       "_view_module": "@jupyter-widgets/controls",
       "_view_module_version": "1.5.0",
       "_view_name": "ProgressView",
       "bar_style": "success",
       "description": "",
       "description_tooltip": null,
       "layout": "IPY_MODEL_e6e9fe1401bf48788cb2e37556e73425",
       "max": 1837181.0,
       "min": 0.0,
       "orientation": "horizontal",
       "style": "IPY_MODEL_532bb8fb26994c09b34b6f7627ebaf30",
       "value": 1837181.0
      }
     },
     "6868f7f36d1a4bf295871cccd410bc7d": {
      "model_module": "@jupyter-widgets/base",
      "model_module_version": "1.2.0",
      "model_name": "LayoutModel",
      "state": {
       "_model_module": "@jupyter-widgets/base",
       "_model_module_version": "1.2.0",
       "_model_name": "LayoutModel",
       "_view_count": null,
       "_view_module": "@jupyter-widgets/base",
       "_view_module_version": "1.2.0",
       "_view_name": "LayoutView",
       "align_content": null,
       "align_items": null,
       "align_self": null,
       "border": null,
       "bottom": null,
       "display": null,
       "flex": null,
       "flex_flow": null,
       "grid_area": null,
       "grid_auto_columns": null,
       "grid_auto_flow": null,
       "grid_auto_rows": null,
       "grid_column": null,
       "grid_gap": null,
       "grid_row": null,
       "grid_template_areas": null,
       "grid_template_columns": null,
       "grid_template_rows": null,
       "height": null,
       "justify_content": null,
       "justify_items": null,
       "left": null,
       "margin": null,
       "max_height": null,
       "max_width": null,
       "min_height": null,
       "min_width": null,
       "object_fit": null,
       "object_position": null,
       "order": null,
       "overflow": null,
       "overflow_x": null,
       "overflow_y": null,
       "padding": null,
       "right": null,
       "top": null,
       "visibility": null,
       "width": null
      }
     },
     "6d613fe3cd5a4144ba6368565ed76eb7": {
      "model_module": "@jupyter-widgets/base",
      "model_module_version": "1.2.0",
      "model_name": "LayoutModel",
      "state": {
       "_model_module": "@jupyter-widgets/base",
       "_model_module_version": "1.2.0",
       "_model_name": "LayoutModel",
       "_view_count": null,
       "_view_module": "@jupyter-widgets/base",
       "_view_module_version": "1.2.0",
       "_view_name": "LayoutView",
       "align_content": null,
       "align_items": null,
       "align_self": null,
       "border": null,
       "bottom": null,
       "display": null,
       "flex": null,
       "flex_flow": null,
       "grid_area": null,
       "grid_auto_columns": null,
       "grid_auto_flow": null,
       "grid_auto_rows": null,
       "grid_column": null,
       "grid_gap": null,
       "grid_row": null,
       "grid_template_areas": null,
       "grid_template_columns": null,
       "grid_template_rows": null,
       "height": null,
       "justify_content": null,
       "justify_items": null,
       "left": null,
       "margin": null,
       "max_height": null,
       "max_width": null,
       "min_height": null,
       "min_width": null,
       "object_fit": null,
       "object_position": null,
       "order": null,
       "overflow": null,
       "overflow_x": null,
       "overflow_y": null,
       "padding": null,
       "right": null,
       "top": null,
       "visibility": null,
       "width": null
      }
     },
     "749311b1b67f49a39980c45b69317424": {
      "model_module": "@jupyter-widgets/controls",
      "model_module_version": "1.5.0",
      "model_name": "HTMLModel",
      "state": {
       "_dom_classes": [],
       "_model_module": "@jupyter-widgets/controls",
       "_model_module_version": "1.5.0",
       "_model_name": "HTMLModel",
       "_view_count": null,
       "_view_module": "@jupyter-widgets/controls",
       "_view_module_version": "1.5.0",
       "_view_name": "HTMLView",
       "description": "",
       "description_tooltip": null,
       "layout": "IPY_MODEL_299c3bc985464ef781cf4b2bf9250f3e",
       "placeholder": "​",
       "style": "IPY_MODEL_1d2c57ef2ee94ef185bcd88bf3b21026",
       "value": "Downloading: 100%"
      }
     },
     "7625aea0288e42149b2e883f5ad247e0": {
      "model_module": "@jupyter-widgets/base",
      "model_module_version": "1.2.0",
      "model_name": "LayoutModel",
      "state": {
       "_model_module": "@jupyter-widgets/base",
       "_model_module_version": "1.2.0",
       "_model_name": "LayoutModel",
       "_view_count": null,
       "_view_module": "@jupyter-widgets/base",
       "_view_module_version": "1.2.0",
       "_view_name": "LayoutView",
       "align_content": null,
       "align_items": null,
       "align_self": null,
       "border": null,
       "bottom": null,
       "display": null,
       "flex": null,
       "flex_flow": null,
       "grid_area": null,
       "grid_auto_columns": null,
       "grid_auto_flow": null,
       "grid_auto_rows": null,
       "grid_column": null,
       "grid_gap": null,
       "grid_row": null,
       "grid_template_areas": null,
       "grid_template_columns": null,
       "grid_template_rows": null,
       "height": null,
       "justify_content": null,
       "justify_items": null,
       "left": null,
       "margin": null,
       "max_height": null,
       "max_width": null,
       "min_height": null,
       "min_width": null,
       "object_fit": null,
       "object_position": null,
       "order": null,
       "overflow": null,
       "overflow_x": null,
       "overflow_y": null,
       "padding": null,
       "right": null,
       "top": null,
       "visibility": null,
       "width": null
      }
     },
     "82bd65042714458baa4d00f612ac8723": {
      "model_module": "@jupyter-widgets/controls",
      "model_module_version": "1.5.0",
      "model_name": "ProgressStyleModel",
      "state": {
       "_model_module": "@jupyter-widgets/controls",
       "_model_module_version": "1.5.0",
       "_model_name": "ProgressStyleModel",
       "_view_count": null,
       "_view_module": "@jupyter-widgets/base",
       "_view_module_version": "1.2.0",
       "_view_name": "StyleView",
       "bar_color": null,
       "description_width": ""
      }
     },
     "87c0a5e067bb46079344e0ddbfdeab9e": {
      "model_module": "@jupyter-widgets/controls",
      "model_module_version": "1.5.0",
      "model_name": "HBoxModel",
      "state": {
       "_dom_classes": [],
       "_model_module": "@jupyter-widgets/controls",
       "_model_module_version": "1.5.0",
       "_model_name": "HBoxModel",
       "_view_count": null,
       "_view_module": "@jupyter-widgets/controls",
       "_view_module_version": "1.5.0",
       "_view_name": "HBoxView",
       "box_style": "",
       "children": [
        "IPY_MODEL_b4e259322173446d8b70843b89a3a169",
        "IPY_MODEL_62d7218f3a374aa3959435c18037e847",
        "IPY_MODEL_99e329305fb5452fa22b4a0d3d3fd164"
       ],
       "layout": "IPY_MODEL_c7469c18e6704b0ebd1e9d04004dbf46"
      }
     },
     "8975df3ad9d14aca9efb54896e6e7e9b": {
      "model_module": "@jupyter-widgets/base",
      "model_module_version": "1.2.0",
      "model_name": "LayoutModel",
      "state": {
       "_model_module": "@jupyter-widgets/base",
       "_model_module_version": "1.2.0",
       "_model_name": "LayoutModel",
       "_view_count": null,
       "_view_module": "@jupyter-widgets/base",
       "_view_module_version": "1.2.0",
       "_view_name": "LayoutView",
       "align_content": null,
       "align_items": null,
       "align_self": null,
       "border": null,
       "bottom": null,
       "display": null,
       "flex": null,
       "flex_flow": null,
       "grid_area": null,
       "grid_auto_columns": null,
       "grid_auto_flow": null,
       "grid_auto_rows": null,
       "grid_column": null,
       "grid_gap": null,
       "grid_row": null,
       "grid_template_areas": null,
       "grid_template_columns": null,
       "grid_template_rows": null,
       "height": null,
       "justify_content": null,
       "justify_items": null,
       "left": null,
       "margin": null,
       "max_height": null,
       "max_width": null,
       "min_height": null,
       "min_width": null,
       "object_fit": null,
       "object_position": null,
       "order": null,
       "overflow": null,
       "overflow_x": null,
       "overflow_y": null,
       "padding": null,
       "right": null,
       "top": null,
       "visibility": null,
       "width": null
      }
     },
     "8be4f19ce5c84b6486a089c071df9e0e": {
      "model_module": "@jupyter-widgets/controls",
      "model_module_version": "1.5.0",
      "model_name": "DescriptionStyleModel",
      "state": {
       "_model_module": "@jupyter-widgets/controls",
       "_model_module_version": "1.5.0",
       "_model_name": "DescriptionStyleModel",
       "_view_count": null,
       "_view_module": "@jupyter-widgets/base",
       "_view_module_version": "1.2.0",
       "_view_name": "StyleView",
       "description_width": ""
      }
     },
     "90bf9b647ab84c0a82beb6dbfb9505e3": {
      "model_module": "@jupyter-widgets/base",
      "model_module_version": "1.2.0",
      "model_name": "LayoutModel",
      "state": {
       "_model_module": "@jupyter-widgets/base",
       "_model_module_version": "1.2.0",
       "_model_name": "LayoutModel",
       "_view_count": null,
       "_view_module": "@jupyter-widgets/base",
       "_view_module_version": "1.2.0",
       "_view_name": "LayoutView",
       "align_content": null,
       "align_items": null,
       "align_self": null,
       "border": null,
       "bottom": null,
       "display": null,
       "flex": null,
       "flex_flow": null,
       "grid_area": null,
       "grid_auto_columns": null,
       "grid_auto_flow": null,
       "grid_auto_rows": null,
       "grid_column": null,
       "grid_gap": null,
       "grid_row": null,
       "grid_template_areas": null,
       "grid_template_columns": null,
       "grid_template_rows": null,
       "height": null,
       "justify_content": null,
       "justify_items": null,
       "left": null,
       "margin": null,
       "max_height": null,
       "max_width": null,
       "min_height": null,
       "min_width": null,
       "object_fit": null,
       "object_position": null,
       "order": null,
       "overflow": null,
       "overflow_x": null,
       "overflow_y": null,
       "padding": null,
       "right": null,
       "top": null,
       "visibility": null,
       "width": null
      }
     },
     "963b1e7ba6fc4f4988b1e9bb0e6d5377": {
      "model_module": "@jupyter-widgets/base",
      "model_module_version": "1.2.0",
      "model_name": "LayoutModel",
      "state": {
       "_model_module": "@jupyter-widgets/base",
       "_model_module_version": "1.2.0",
       "_model_name": "LayoutModel",
       "_view_count": null,
       "_view_module": "@jupyter-widgets/base",
       "_view_module_version": "1.2.0",
       "_view_name": "LayoutView",
       "align_content": null,
       "align_items": null,
       "align_self": null,
       "border": null,
       "bottom": null,
       "display": null,
       "flex": null,
       "flex_flow": null,
       "grid_area": null,
       "grid_auto_columns": null,
       "grid_auto_flow": null,
       "grid_auto_rows": null,
       "grid_column": null,
       "grid_gap": null,
       "grid_row": null,
       "grid_template_areas": null,
       "grid_template_columns": null,
       "grid_template_rows": null,
       "height": null,
       "justify_content": null,
       "justify_items": null,
       "left": null,
       "margin": null,
       "max_height": null,
       "max_width": null,
       "min_height": null,
       "min_width": null,
       "object_fit": null,
       "object_position": null,
       "order": null,
       "overflow": null,
       "overflow_x": null,
       "overflow_y": null,
       "padding": null,
       "right": null,
       "top": null,
       "visibility": null,
       "width": null
      }
     },
     "97d3b39660534373902848afd5ec9d55": {
      "model_module": "@jupyter-widgets/base",
      "model_module_version": "1.2.0",
      "model_name": "LayoutModel",
      "state": {
       "_model_module": "@jupyter-widgets/base",
       "_model_module_version": "1.2.0",
       "_model_name": "LayoutModel",
       "_view_count": null,
       "_view_module": "@jupyter-widgets/base",
       "_view_module_version": "1.2.0",
       "_view_name": "LayoutView",
       "align_content": null,
       "align_items": null,
       "align_self": null,
       "border": null,
       "bottom": null,
       "display": null,
       "flex": null,
       "flex_flow": null,
       "grid_area": null,
       "grid_auto_columns": null,
       "grid_auto_flow": null,
       "grid_auto_rows": null,
       "grid_column": null,
       "grid_gap": null,
       "grid_row": null,
       "grid_template_areas": null,
       "grid_template_columns": null,
       "grid_template_rows": null,
       "height": null,
       "justify_content": null,
       "justify_items": null,
       "left": null,
       "margin": null,
       "max_height": null,
       "max_width": null,
       "min_height": null,
       "min_width": null,
       "object_fit": null,
       "object_position": null,
       "order": null,
       "overflow": null,
       "overflow_x": null,
       "overflow_y": null,
       "padding": null,
       "right": null,
       "top": null,
       "visibility": null,
       "width": null
      }
     },
     "99e329305fb5452fa22b4a0d3d3fd164": {
      "model_module": "@jupyter-widgets/controls",
      "model_module_version": "1.5.0",
      "model_name": "HTMLModel",
      "state": {
       "_dom_classes": [],
       "_model_module": "@jupyter-widgets/controls",
       "_model_module_version": "1.5.0",
       "_model_name": "HTMLModel",
       "_view_count": null,
       "_view_module": "@jupyter-widgets/controls",
       "_view_module_version": "1.5.0",
       "_view_name": "HTMLView",
       "description": "",
       "description_tooltip": null,
       "layout": "IPY_MODEL_7625aea0288e42149b2e883f5ad247e0",
       "placeholder": "​",
       "style": "IPY_MODEL_0f4a63fce652475ab15307453c5c2817",
       "value": " 1837181/1837181 [21:21&lt;00:00, 1412.80ex/s]"
      }
     },
     "9f948f28ec4f4d9e94c8ccfe7411af5c": {
      "model_module": "@jupyter-widgets/base",
      "model_module_version": "1.2.0",
      "model_name": "LayoutModel",
      "state": {
       "_model_module": "@jupyter-widgets/base",
       "_model_module_version": "1.2.0",
       "_model_name": "LayoutModel",
       "_view_count": null,
       "_view_module": "@jupyter-widgets/base",
       "_view_module_version": "1.2.0",
       "_view_name": "LayoutView",
       "align_content": null,
       "align_items": null,
       "align_self": null,
       "border": null,
       "bottom": null,
       "display": null,
       "flex": null,
       "flex_flow": null,
       "grid_area": null,
       "grid_auto_columns": null,
       "grid_auto_flow": null,
       "grid_auto_rows": null,
       "grid_column": null,
       "grid_gap": null,
       "grid_row": null,
       "grid_template_areas": null,
       "grid_template_columns": null,
       "grid_template_rows": null,
       "height": null,
       "justify_content": null,
       "justify_items": null,
       "left": null,
       "margin": null,
       "max_height": null,
       "max_width": null,
       "min_height": null,
       "min_width": null,
       "object_fit": null,
       "object_position": null,
       "order": null,
       "overflow": null,
       "overflow_x": null,
       "overflow_y": null,
       "padding": null,
       "right": null,
       "top": null,
       "visibility": null,
       "width": null
      }
     },
     "a5245547f234487b81b8ec1a3102ce37": {
      "model_module": "@jupyter-widgets/controls",
      "model_module_version": "1.5.0",
      "model_name": "FloatProgressModel",
      "state": {
       "_dom_classes": [],
       "_model_module": "@jupyter-widgets/controls",
       "_model_module_version": "1.5.0",
       "_model_name": "FloatProgressModel",
       "_view_count": null,
       "_view_module": "@jupyter-widgets/controls",
       "_view_module_version": "1.5.0",
       "_view_name": "ProgressView",
       "bar_style": "success",
       "description": "",
       "description_tooltip": null,
       "layout": "IPY_MODEL_9f948f28ec4f4d9e94c8ccfe7411af5c",
       "max": 1104921.0,
       "min": 0.0,
       "orientation": "horizontal",
       "style": "IPY_MODEL_82bd65042714458baa4d00f612ac8723",
       "value": 1104921.0
      }
     },
     "b0036194552c41be87945ec67c23835f": {
      "model_module": "@jupyter-widgets/controls",
      "model_module_version": "1.5.0",
      "model_name": "HTMLModel",
      "state": {
       "_dom_classes": [],
       "_model_module": "@jupyter-widgets/controls",
       "_model_module_version": "1.5.0",
       "_model_name": "HTMLModel",
       "_view_count": null,
       "_view_module": "@jupyter-widgets/controls",
       "_view_module_version": "1.5.0",
       "_view_name": "HTMLView",
       "description": "",
       "description_tooltip": null,
       "layout": "IPY_MODEL_963b1e7ba6fc4f4988b1e9bb0e6d5377",
       "placeholder": "​",
       "style": "IPY_MODEL_dcd46e43ed2d4005a0aadb3c1666bf7e",
       "value": " 1.05M/1.05M [00:00&lt;00:00, 1.78MB/s]"
      }
     },
     "b48d6bd8217b4620886e239f5d2d3b91": {
      "model_module": "@jupyter-widgets/base",
      "model_module_version": "1.2.0",
      "model_name": "LayoutModel",
      "state": {
       "_model_module": "@jupyter-widgets/base",
       "_model_module_version": "1.2.0",
       "_model_name": "LayoutModel",
       "_view_count": null,
       "_view_module": "@jupyter-widgets/base",
       "_view_module_version": "1.2.0",
       "_view_name": "LayoutView",
       "align_content": null,
       "align_items": null,
       "align_self": null,
       "border": null,
       "bottom": null,
       "display": null,
       "flex": null,
       "flex_flow": null,
       "grid_area": null,
       "grid_auto_columns": null,
       "grid_auto_flow": null,
       "grid_auto_rows": null,
       "grid_column": null,
       "grid_gap": null,
       "grid_row": null,
       "grid_template_areas": null,
       "grid_template_columns": null,
       "grid_template_rows": null,
       "height": null,
       "justify_content": null,
       "justify_items": null,
       "left": null,
       "margin": null,
       "max_height": null,
       "max_width": null,
       "min_height": null,
       "min_width": null,
       "object_fit": null,
       "object_position": null,
       "order": null,
       "overflow": null,
       "overflow_x": null,
       "overflow_y": null,
       "padding": null,
       "right": null,
       "top": null,
       "visibility": null,
       "width": null
      }
     },
     "b4e259322173446d8b70843b89a3a169": {
      "model_module": "@jupyter-widgets/controls",
      "model_module_version": "1.5.0",
      "model_name": "HTMLModel",
      "state": {
       "_dom_classes": [],
       "_model_module": "@jupyter-widgets/controls",
       "_model_module_version": "1.5.0",
       "_model_name": "HTMLModel",
       "_view_count": null,
       "_view_module": "@jupyter-widgets/controls",
       "_view_module_version": "1.5.0",
       "_view_name": "HTMLView",
       "description": "",
       "description_tooltip": null,
       "layout": "IPY_MODEL_90bf9b647ab84c0a82beb6dbfb9505e3",
       "placeholder": "​",
       "style": "IPY_MODEL_d066c432f05549cf959a551413311b95",
       "value": "100%"
      }
     },
     "b4fdfd46ab21424a90892d0ef6497a41": {
      "model_module": "@jupyter-widgets/controls",
      "model_module_version": "1.5.0",
      "model_name": "HTMLModel",
      "state": {
       "_dom_classes": [],
       "_model_module": "@jupyter-widgets/controls",
       "_model_module_version": "1.5.0",
       "_model_name": "HTMLModel",
       "_view_count": null,
       "_view_module": "@jupyter-widgets/controls",
       "_view_module_version": "1.5.0",
       "_view_name": "HTMLView",
       "description": "",
       "description_tooltip": null,
       "layout": "IPY_MODEL_cbf8f91b39a04710a685ca8f679c001f",
       "placeholder": "​",
       "style": "IPY_MODEL_196352d68f314cd395a74f0a2da8cb37",
       "value": "100%"
      }
     },
     "b6b0c72e25294897b8fedcca003fc87a": {
      "model_module": "@jupyter-widgets/controls",
      "model_module_version": "1.5.0",
      "model_name": "FloatProgressModel",
      "state": {
       "_dom_classes": [],
       "_model_module": "@jupyter-widgets/controls",
       "_model_module_version": "1.5.0",
       "_model_name": "FloatProgressModel",
       "_view_count": null,
       "_view_module": "@jupyter-widgets/controls",
       "_view_module_version": "1.5.0",
       "_view_name": "ProgressView",
       "bar_style": "success",
       "description": "",
       "description_tooltip": null,
       "layout": "IPY_MODEL_c34c7680ab064fc2819504de28f9f2ce",
       "max": 204132.0,
       "min": 0.0,
       "orientation": "horizontal",
       "style": "IPY_MODEL_b7125072943c44d28cf297a86e43f080",
       "value": 204132.0
      }
     },
     "b7125072943c44d28cf297a86e43f080": {
      "model_module": "@jupyter-widgets/controls",
      "model_module_version": "1.5.0",
      "model_name": "ProgressStyleModel",
      "state": {
       "_model_module": "@jupyter-widgets/controls",
       "_model_module_version": "1.5.0",
       "_model_name": "ProgressStyleModel",
       "_view_count": null,
       "_view_module": "@jupyter-widgets/base",
       "_view_module_version": "1.2.0",
       "_view_name": "StyleView",
       "bar_color": null,
       "description_width": ""
      }
     },
     "c34c7680ab064fc2819504de28f9f2ce": {
      "model_module": "@jupyter-widgets/base",
      "model_module_version": "1.2.0",
      "model_name": "LayoutModel",
      "state": {
       "_model_module": "@jupyter-widgets/base",
       "_model_module_version": "1.2.0",
       "_model_name": "LayoutModel",
       "_view_count": null,
       "_view_module": "@jupyter-widgets/base",
       "_view_module_version": "1.2.0",
       "_view_name": "LayoutView",
       "align_content": null,
       "align_items": null,
       "align_self": null,
       "border": null,
       "bottom": null,
       "display": null,
       "flex": null,
       "flex_flow": null,
       "grid_area": null,
       "grid_auto_columns": null,
       "grid_auto_flow": null,
       "grid_auto_rows": null,
       "grid_column": null,
       "grid_gap": null,
       "grid_row": null,
       "grid_template_areas": null,
       "grid_template_columns": null,
       "grid_template_rows": null,
       "height": null,
       "justify_content": null,
       "justify_items": null,
       "left": null,
       "margin": null,
       "max_height": null,
       "max_width": null,
       "min_height": null,
       "min_width": null,
       "object_fit": null,
       "object_position": null,
       "order": null,
       "overflow": null,
       "overflow_x": null,
       "overflow_y": null,
       "padding": null,
       "right": null,
       "top": null,
       "visibility": null,
       "width": null
      }
     },
     "c7469c18e6704b0ebd1e9d04004dbf46": {
      "model_module": "@jupyter-widgets/base",
      "model_module_version": "1.2.0",
      "model_name": "LayoutModel",
      "state": {
       "_model_module": "@jupyter-widgets/base",
       "_model_module_version": "1.2.0",
       "_model_name": "LayoutModel",
       "_view_count": null,
       "_view_module": "@jupyter-widgets/base",
       "_view_module_version": "1.2.0",
       "_view_name": "LayoutView",
       "align_content": null,
       "align_items": null,
       "align_self": null,
       "border": null,
       "bottom": null,
       "display": null,
       "flex": null,
       "flex_flow": null,
       "grid_area": null,
       "grid_auto_columns": null,
       "grid_auto_flow": null,
       "grid_auto_rows": null,
       "grid_column": null,
       "grid_gap": null,
       "grid_row": null,
       "grid_template_areas": null,
       "grid_template_columns": null,
       "grid_template_rows": null,
       "height": null,
       "justify_content": null,
       "justify_items": null,
       "left": null,
       "margin": null,
       "max_height": null,
       "max_width": null,
       "min_height": null,
       "min_width": null,
       "object_fit": null,
       "object_position": null,
       "order": null,
       "overflow": null,
       "overflow_x": null,
       "overflow_y": null,
       "padding": null,
       "right": null,
       "top": null,
       "visibility": null,
       "width": null
      }
     },
     "cbf8f91b39a04710a685ca8f679c001f": {
      "model_module": "@jupyter-widgets/base",
      "model_module_version": "1.2.0",
      "model_name": "LayoutModel",
      "state": {
       "_model_module": "@jupyter-widgets/base",
       "_model_module_version": "1.2.0",
       "_model_name": "LayoutModel",
       "_view_count": null,
       "_view_module": "@jupyter-widgets/base",
       "_view_module_version": "1.2.0",
       "_view_name": "LayoutView",
       "align_content": null,
       "align_items": null,
       "align_self": null,
       "border": null,
       "bottom": null,
       "display": null,
       "flex": null,
       "flex_flow": null,
       "grid_area": null,
       "grid_auto_columns": null,
       "grid_auto_flow": null,
       "grid_auto_rows": null,
       "grid_column": null,
       "grid_gap": null,
       "grid_row": null,
       "grid_template_areas": null,
       "grid_template_columns": null,
       "grid_template_rows": null,
       "height": null,
       "justify_content": null,
       "justify_items": null,
       "left": null,
       "margin": null,
       "max_height": null,
       "max_width": null,
       "min_height": null,
       "min_width": null,
       "object_fit": null,
       "object_position": null,
       "order": null,
       "overflow": null,
       "overflow_x": null,
       "overflow_y": null,
       "padding": null,
       "right": null,
       "top": null,
       "visibility": null,
       "width": null
      }
     },
     "d066c432f05549cf959a551413311b95": {
      "model_module": "@jupyter-widgets/controls",
      "model_module_version": "1.5.0",
      "model_name": "DescriptionStyleModel",
      "state": {
       "_model_module": "@jupyter-widgets/controls",
       "_model_module_version": "1.5.0",
       "_model_name": "DescriptionStyleModel",
       "_view_count": null,
       "_view_module": "@jupyter-widgets/base",
       "_view_module_version": "1.2.0",
       "_view_name": "StyleView",
       "description_width": ""
      }
     },
     "d663eb3100384740a417bd2857a7452b": {
      "model_module": "@jupyter-widgets/controls",
      "model_module_version": "1.5.0",
      "model_name": "HBoxModel",
      "state": {
       "_dom_classes": [],
       "_model_module": "@jupyter-widgets/controls",
       "_model_module_version": "1.5.0",
       "_model_name": "HBoxModel",
       "_view_count": null,
       "_view_module": "@jupyter-widgets/controls",
       "_view_module_version": "1.5.0",
       "_view_name": "HBoxView",
       "box_style": "",
       "children": [
        "IPY_MODEL_b4fdfd46ab21424a90892d0ef6497a41",
        "IPY_MODEL_b6b0c72e25294897b8fedcca003fc87a",
        "IPY_MODEL_f27912e60f50473285198006c91024d6"
       ],
       "layout": "IPY_MODEL_56997fbcc4e64bf780cf9742be6f3b20"
      }
     },
     "dcd46e43ed2d4005a0aadb3c1666bf7e": {
      "model_module": "@jupyter-widgets/controls",
      "model_module_version": "1.5.0",
      "model_name": "DescriptionStyleModel",
      "state": {
       "_model_module": "@jupyter-widgets/controls",
       "_model_module_version": "1.5.0",
       "_model_name": "DescriptionStyleModel",
       "_view_count": null,
       "_view_module": "@jupyter-widgets/base",
       "_view_module_version": "1.2.0",
       "_view_name": "StyleView",
       "description_width": ""
      }
     },
     "e1d5bf8a9d0e49ceaf76fe58f752352f": {
      "model_module": "@jupyter-widgets/controls",
      "model_module_version": "1.5.0",
      "model_name": "HTMLModel",
      "state": {
       "_dom_classes": [],
       "_model_module": "@jupyter-widgets/controls",
       "_model_module_version": "1.5.0",
       "_model_name": "HTMLModel",
       "_view_count": null,
       "_view_module": "@jupyter-widgets/controls",
       "_view_module_version": "1.5.0",
       "_view_name": "HTMLView",
       "description": "",
       "description_tooltip": null,
       "layout": "IPY_MODEL_062e63e894fc49cf90fc131cae368eb3",
       "placeholder": "​",
       "style": "IPY_MODEL_23d2fbeed96648d59553eab1aee39cf7",
       "value": " 1.44k/1.44k [00:00&lt;00:00, 46.9kB/s]"
      }
     },
     "e6e9fe1401bf48788cb2e37556e73425": {
      "model_module": "@jupyter-widgets/base",
      "model_module_version": "1.2.0",
      "model_name": "LayoutModel",
      "state": {
       "_model_module": "@jupyter-widgets/base",
       "_model_module_version": "1.2.0",
       "_model_name": "LayoutModel",
       "_view_count": null,
       "_view_module": "@jupyter-widgets/base",
       "_view_module_version": "1.2.0",
       "_view_name": "LayoutView",
       "align_content": null,
       "align_items": null,
       "align_self": null,
       "border": null,
       "bottom": null,
       "display": null,
       "flex": null,
       "flex_flow": null,
       "grid_area": null,
       "grid_auto_columns": null,
       "grid_auto_flow": null,
       "grid_auto_rows": null,
       "grid_column": null,
       "grid_gap": null,
       "grid_row": null,
       "grid_template_areas": null,
       "grid_template_columns": null,
       "grid_template_rows": null,
       "height": null,
       "justify_content": null,
       "justify_items": null,
       "left": null,
       "margin": null,
       "max_height": null,
       "max_width": null,
       "min_height": null,
       "min_width": null,
       "object_fit": null,
       "object_position": null,
       "order": null,
       "overflow": null,
       "overflow_x": null,
       "overflow_y": null,
       "padding": null,
       "right": null,
       "top": null,
       "visibility": null,
       "width": null
      }
     },
     "f27912e60f50473285198006c91024d6": {
      "model_module": "@jupyter-widgets/controls",
      "model_module_version": "1.5.0",
      "model_name": "HTMLModel",
      "state": {
       "_dom_classes": [],
       "_model_module": "@jupyter-widgets/controls",
       "_model_module_version": "1.5.0",
       "_model_name": "HTMLModel",
       "_view_count": null,
       "_view_module": "@jupyter-widgets/controls",
       "_view_module_version": "1.5.0",
       "_view_name": "HTMLView",
       "description": "",
       "description_tooltip": null,
       "layout": "IPY_MODEL_97d3b39660534373902848afd5ec9d55",
       "placeholder": "​",
       "style": "IPY_MODEL_8be4f19ce5c84b6486a089c071df9e0e",
       "value": " 204132/204132 [02:25&lt;00:00, 1344.47ex/s]"
      }
     }
    },
    "version_major": 2,
    "version_minor": 0
   }
  }
 },
 "nbformat": 4,
 "nbformat_minor": 5
}
