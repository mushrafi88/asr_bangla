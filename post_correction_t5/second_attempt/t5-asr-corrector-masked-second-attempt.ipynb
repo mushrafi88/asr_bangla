{
 "cells": [
  {
   "cell_type": "code",
   "execution_count": 1,
   "id": "81753ae5",
   "metadata": {
    "_cell_guid": "b1076dfc-b9ad-4769-8c92-a6c4dae69d19",
    "_uuid": "8f2839f25d086af736a60e9eeb907d3b93b6e0e5",
    "execution": {
     "iopub.execute_input": "2023-02-11T18:27:30.820909Z",
     "iopub.status.busy": "2023-02-11T18:27:30.820048Z",
     "iopub.status.idle": "2023-02-11T18:27:30.826194Z",
     "shell.execute_reply": "2023-02-11T18:27:30.825203Z"
    },
    "papermill": {
     "duration": 0.024443,
     "end_time": "2023-02-11T18:27:30.833004",
     "exception": false,
     "start_time": "2023-02-11T18:27:30.808561",
     "status": "completed"
    },
    "tags": []
   },
   "outputs": [],
   "source": [
    "#!pip uninstall huggingface_hub -y && pip install git+https://github.com/huggingface/huggingface_hub\n",
    "#!pip install jiwer"
   ]
  },
  {
   "cell_type": "code",
   "execution_count": 2,
   "id": "639140f0",
   "metadata": {
    "execution": {
     "iopub.execute_input": "2023-02-11T18:27:30.854528Z",
     "iopub.status.busy": "2023-02-11T18:27:30.853880Z",
     "iopub.status.idle": "2023-02-11T18:27:39.806467Z",
     "shell.execute_reply": "2023-02-11T18:27:39.805226Z"
    },
    "papermill": {
     "duration": 8.964055,
     "end_time": "2023-02-11T18:27:39.809430",
     "exception": false,
     "start_time": "2023-02-11T18:27:30.845375",
     "status": "completed"
    },
    "tags": []
   },
   "outputs": [
    {
     "name": "stdout",
     "output_type": "stream",
     "text": [
      "INFO: Pandarallel will run on 8 workers.\n",
      "INFO: Pandarallel will use Memory file system to transfer data between the main process and workers.\n"
     ]
    }
   ],
   "source": [
    "import argparse\n",
    "import glob\n",
    "import os\n",
    "import json\n",
    "import time\n",
    "import logging\n",
    "import random\n",
    "import re\n",
    "from itertools import chain\n",
    "from string import punctuation\n",
    "\n",
    "import pandas as pd\n",
    "import numpy as np\n",
    "import torch\n",
    "from torch.utils.data import Dataset, DataLoader\n",
    "from datasets import load_dataset, Dataset\n",
    "from tqdm import tqdm\n",
    "import datasets\n",
    "\n",
    "from pandarallel import pandarallel\n",
    "pandarallel.initialize(progress_bar=True,nb_workers=8)\n",
    "tqdm.pandas()\n",
    "\n",
    "from transformers import (\n",
    "    AdamW,\n",
    "    T5ForConditionalGeneration,\n",
    "    T5Tokenizer,\n",
    "    get_linear_schedule_with_warmup\n",
    ")"
   ]
  },
  {
   "cell_type": "code",
   "execution_count": 3,
   "id": "1f6f79a9",
   "metadata": {
    "execution": {
     "iopub.execute_input": "2023-02-11T18:27:39.821542Z",
     "iopub.status.busy": "2023-02-11T18:27:39.821172Z",
     "iopub.status.idle": "2023-02-11T18:27:42.363426Z",
     "shell.execute_reply": "2023-02-11T18:27:42.362461Z"
    },
    "papermill": {
     "duration": 2.552226,
     "end_time": "2023-02-11T18:27:42.366744",
     "exception": false,
     "start_time": "2023-02-11T18:27:39.814518",
     "status": "completed"
    },
    "tags": []
   },
   "outputs": [],
   "source": [
    "from transformers import (\n",
    "    T5ForConditionalGeneration, T5Tokenizer, \n",
    "    TrainingArguments, Trainer, DataCollatorForSeq2Seq,AutoTokenizer,FlaxT5ForConditionalGeneration,AutoModelForSeq2SeqLM\n",
    "  )\n"
   ]
  },
  {
   "cell_type": "code",
   "execution_count": 4,
   "id": "8ba68fcc",
   "metadata": {
    "execution": {
     "iopub.execute_input": "2023-02-11T18:27:42.378152Z",
     "iopub.status.busy": "2023-02-11T18:27:42.377393Z",
     "iopub.status.idle": "2023-02-11T18:28:25.294773Z",
     "shell.execute_reply": "2023-02-11T18:28:25.293496Z"
    },
    "papermill": {
     "duration": 42.927115,
     "end_time": "2023-02-11T18:28:25.298678",
     "exception": false,
     "start_time": "2023-02-11T18:27:42.371563",
     "status": "completed"
    },
    "tags": []
   },
   "outputs": [
    {
     "data": {
      "application/vnd.jupyter.widget-view+json": {
       "model_id": "202aa2f780da46748303355e4ec0964e",
       "version_major": 2,
       "version_minor": 0
      },
      "text/plain": [
       "Downloading:   0%|          | 0.00/1.44k [00:00<?, ?B/s]"
      ]
     },
     "metadata": {},
     "output_type": "display_data"
    },
    {
     "data": {
      "application/vnd.jupyter.widget-view+json": {
       "model_id": "39236fa713854f6995b966a3f828c24e",
       "version_major": 2,
       "version_minor": 0
      },
      "text/plain": [
       "Downloading:   0%|          | 0.00/1.05M [00:00<?, ?B/s]"
      ]
     },
     "metadata": {},
     "output_type": "display_data"
    },
    {
     "name": "stderr",
     "output_type": "stream",
     "text": [
      "Special tokens have been added in the vocabulary, make sure the associated word embeddings are fine-tuned or trained.\n"
     ]
    },
    {
     "data": {
      "application/vnd.jupyter.widget-view+json": {
       "model_id": "326b21884a344aed88b704fe8cd8fa00",
       "version_major": 2,
       "version_minor": 0
      },
      "text/plain": [
       "Downloading:   0%|          | 0.00/944M [00:00<?, ?B/s]"
      ]
     },
     "metadata": {},
     "output_type": "display_data"
    }
   ],
   "source": [
    "model_name = 'flax-community/bengali-t5-base'\n",
    "tokenizer = AutoTokenizer.from_pretrained(model_name)\n",
    "model = AutoModelForSeq2SeqLM.from_pretrained(model_name)"
   ]
  },
  {
   "cell_type": "code",
   "execution_count": 5,
   "id": "8b5cb530",
   "metadata": {
    "execution": {
     "iopub.execute_input": "2023-02-11T18:28:25.318937Z",
     "iopub.status.busy": "2023-02-11T18:28:25.318302Z",
     "iopub.status.idle": "2023-02-11T18:28:30.474016Z",
     "shell.execute_reply": "2023-02-11T18:28:30.472980Z"
    },
    "papermill": {
     "duration": 5.168173,
     "end_time": "2023-02-11T18:28:30.476480",
     "exception": false,
     "start_time": "2023-02-11T18:28:25.308307",
     "status": "completed"
    },
    "tags": []
   },
   "outputs": [],
   "source": [
    "train_data = datasets.Dataset.load_from_disk('/kaggle/input/t5-asr-corrector-masked-second-attempt-data/train')\n",
    "test_data  = datasets.Dataset.load_from_disk('/kaggle/input/t5-asr-corrector-masked-second-attempt-data/test')"
   ]
  },
  {
   "cell_type": "code",
   "execution_count": 6,
   "id": "b9869cc7",
   "metadata": {
    "execution": {
     "iopub.execute_input": "2023-02-11T18:28:30.489053Z",
     "iopub.status.busy": "2023-02-11T18:28:30.488742Z",
     "iopub.status.idle": "2023-02-11T18:28:30.492998Z",
     "shell.execute_reply": "2023-02-11T18:28:30.492089Z"
    },
    "papermill": {
     "duration": 0.012813,
     "end_time": "2023-02-11T18:28:30.495118",
     "exception": false,
     "start_time": "2023-02-11T18:28:30.482305",
     "status": "completed"
    },
    "tags": []
   },
   "outputs": [],
   "source": [
    "#test_data[0]"
   ]
  },
  {
   "cell_type": "code",
   "execution_count": 7,
   "id": "c6c38b09",
   "metadata": {
    "execution": {
     "iopub.execute_input": "2023-02-11T18:28:30.506113Z",
     "iopub.status.busy": "2023-02-11T18:28:30.505364Z",
     "iopub.status.idle": "2023-02-11T18:28:33.338320Z",
     "shell.execute_reply": "2023-02-11T18:28:33.337361Z"
    },
    "papermill": {
     "duration": 2.841012,
     "end_time": "2023-02-11T18:28:33.340805",
     "exception": false,
     "start_time": "2023-02-11T18:28:30.499793",
     "status": "completed"
    },
    "tags": []
   },
   "outputs": [
    {
     "data": {
      "text/plain": [
       "Dataset({\n",
       "    features: ['input', 'output', '__index_level_0__', 'input_ids', 'attention_mask', 'labels'],\n",
       "    num_rows: 12759\n",
       "})"
      ]
     },
     "execution_count": 7,
     "metadata": {},
     "output_type": "execute_result"
    }
   ],
   "source": [
    "test_data.save_to_disk('test')\n",
    "validation = datasets.Dataset.load_from_disk('test')\n",
    "validation = validation.train_test_split(0.0625)\n",
    "validation = validation['test']\n",
    "validation"
   ]
  },
  {
   "cell_type": "code",
   "execution_count": 8,
   "id": "de3275e2",
   "metadata": {
    "execution": {
     "iopub.execute_input": "2023-02-11T18:28:33.352541Z",
     "iopub.status.busy": "2023-02-11T18:28:33.352202Z",
     "iopub.status.idle": "2023-02-11T18:28:33.360373Z",
     "shell.execute_reply": "2023-02-11T18:28:33.359261Z"
    },
    "papermill": {
     "duration": 0.016644,
     "end_time": "2023-02-11T18:28:33.362743",
     "exception": false,
     "start_time": "2023-02-11T18:28:33.346099",
     "status": "completed"
    },
    "tags": []
   },
   "outputs": [
    {
     "data": {
      "text/plain": [
       "1"
      ]
     },
     "execution_count": 8,
     "metadata": {},
     "output_type": "execute_result"
    }
   ],
   "source": [
    "train_data.cleanup_cache_files()\n",
    "validation.cleanup_cache_files()"
   ]
  },
  {
   "cell_type": "code",
   "execution_count": 9,
   "id": "d3c93736",
   "metadata": {
    "execution": {
     "iopub.execute_input": "2023-02-11T18:28:33.374160Z",
     "iopub.status.busy": "2023-02-11T18:28:33.373793Z",
     "iopub.status.idle": "2023-02-11T18:28:33.382339Z",
     "shell.execute_reply": "2023-02-11T18:28:33.381441Z"
    },
    "papermill": {
     "duration": 0.016735,
     "end_time": "2023-02-11T18:28:33.384462",
     "exception": false,
     "start_time": "2023-02-11T18:28:33.367727",
     "status": "completed"
    },
    "tags": []
   },
   "outputs": [
    {
     "data": {
      "text/plain": [
       "Dataset({\n",
       "    features: ['input_ids', 'attention_mask', 'labels'],\n",
       "    num_rows: 1837181\n",
       "})"
      ]
     },
     "execution_count": 9,
     "metadata": {},
     "output_type": "execute_result"
    }
   ],
   "source": [
    "train_data"
   ]
  },
  {
   "cell_type": "code",
   "execution_count": 10,
   "id": "d792c6c9",
   "metadata": {
    "execution": {
     "iopub.execute_input": "2023-02-11T18:28:33.396005Z",
     "iopub.status.busy": "2023-02-11T18:28:33.395649Z",
     "iopub.status.idle": "2023-02-11T18:28:33.400507Z",
     "shell.execute_reply": "2023-02-11T18:28:33.399465Z"
    },
    "papermill": {
     "duration": 0.013073,
     "end_time": "2023-02-11T18:28:33.402721",
     "exception": false,
     "start_time": "2023-02-11T18:28:33.389648",
     "status": "completed"
    },
    "tags": []
   },
   "outputs": [],
   "source": [
    "data_collator = DataCollatorForSeq2Seq(tokenizer, model=model, padding='longest', return_tensors='pt')"
   ]
  },
  {
   "cell_type": "code",
   "execution_count": 11,
   "id": "6a49c55b",
   "metadata": {
    "execution": {
     "iopub.execute_input": "2023-02-11T18:28:33.415842Z",
     "iopub.status.busy": "2023-02-11T18:28:33.415511Z",
     "iopub.status.idle": "2023-02-11T18:28:34.478093Z",
     "shell.execute_reply": "2023-02-11T18:28:34.476506Z"
    },
    "papermill": {
     "duration": 1.071724,
     "end_time": "2023-02-11T18:28:34.480937",
     "exception": false,
     "start_time": "2023-02-11T18:28:33.409213",
     "status": "completed"
    },
    "tags": []
   },
   "outputs": [],
   "source": [
    "!mkdir -p t5-asr-corrector-bn"
   ]
  },
  {
   "cell_type": "code",
   "execution_count": 12,
   "id": "3a0bb52d",
   "metadata": {
    "execution": {
     "iopub.execute_input": "2023-02-11T18:28:34.494001Z",
     "iopub.status.busy": "2023-02-11T18:28:34.493619Z",
     "iopub.status.idle": "2023-02-11T18:28:36.781331Z",
     "shell.execute_reply": "2023-02-11T18:28:36.780365Z"
    },
    "papermill": {
     "duration": 2.297186,
     "end_time": "2023-02-11T18:28:36.783835",
     "exception": false,
     "start_time": "2023-02-11T18:28:34.486649",
     "status": "completed"
    },
    "tags": []
   },
   "outputs": [
    {
     "name": "stderr",
     "output_type": "stream",
     "text": [
      "\u001b[34m\u001b[1mwandb\u001b[0m: W&B API key is configured. Use \u001b[1m`wandb login --relogin`\u001b[0m to force relogin\n",
      "\u001b[34m\u001b[1mwandb\u001b[0m: \u001b[33mWARNING\u001b[0m If you're specifying your api key in code, ensure this code is not shared publicly.\n",
      "\u001b[34m\u001b[1mwandb\u001b[0m: \u001b[33mWARNING\u001b[0m Consider setting the WANDB_API_KEY environment variable, or running `wandb login` from the command line.\n",
      "\u001b[34m\u001b[1mwandb\u001b[0m: Appending key for api.wandb.ai to your netrc file: /root/.netrc\n"
     ]
    },
    {
     "data": {
      "text/plain": [
       "True"
      ]
     },
     "execution_count": 12,
     "metadata": {},
     "output_type": "execute_result"
    }
   ],
   "source": [
    "from kaggle_secrets import UserSecretsClient\n",
    "import wandb\n",
    "import logging\n",
    "\n",
    "user_secrets = UserSecretsClient()\n",
    "secret_value_0 = user_secrets.get_secret(\"wandb_api\")\n",
    "\n",
    "wandb.login(key=secret_value_0)"
   ]
  },
  {
   "cell_type": "code",
   "execution_count": 13,
   "id": "8719202a",
   "metadata": {
    "execution": {
     "iopub.execute_input": "2023-02-11T18:28:36.811932Z",
     "iopub.status.busy": "2023-02-11T18:28:36.811121Z",
     "iopub.status.idle": "2023-02-11T18:28:36.977502Z",
     "shell.execute_reply": "2023-02-11T18:28:36.976047Z"
    },
    "papermill": {
     "duration": 0.190863,
     "end_time": "2023-02-11T18:28:36.980346",
     "exception": false,
     "start_time": "2023-02-11T18:28:36.789483",
     "status": "completed"
    },
    "tags": []
   },
   "outputs": [],
   "source": [
    "# defining training related arguments\n",
    "batch_size = 32\n",
    "args = TrainingArguments(output_dir=\"t5-asr-corrector-bn-masked\",\n",
    "                        evaluation_strategy=\"steps\",\n",
    "                        per_device_train_batch_size=batch_size,\n",
    "                        per_device_eval_batch_size=batch_size,\n",
    "                        learning_rate=1e-5,\n",
    "                        num_train_epochs=2,\n",
    "                        weight_decay=0.01,\n",
    "                        save_total_limit=2,\n",
    "                        fp16 = True,\n",
    "                        gradient_accumulation_steps = 4,\n",
    "                        eval_steps = 1000,\n",
    "                        save_steps = 1000,\n",
    "                        load_best_model_at_end=True,\n",
    "                        logging_dir=\"/kaggle/logs\",\n",
    "                        push_to_hub=False,\n",
    "                       )\n",
    "                                         "
   ]
  },
  {
   "cell_type": "code",
   "execution_count": 14,
   "id": "57df5074",
   "metadata": {
    "execution": {
     "iopub.execute_input": "2023-02-11T18:28:36.997557Z",
     "iopub.status.busy": "2023-02-11T18:28:36.997147Z",
     "iopub.status.idle": "2023-02-11T18:28:37.004246Z",
     "shell.execute_reply": "2023-02-11T18:28:37.003259Z"
    },
    "papermill": {
     "duration": 0.01892,
     "end_time": "2023-02-11T18:28:37.007378",
     "exception": false,
     "start_time": "2023-02-11T18:28:36.988458",
     "status": "completed"
    },
    "tags": []
   },
   "outputs": [
    {
     "data": {
      "text/plain": [
       "Dataset({\n",
       "    features: ['input', 'output', '__index_level_0__', 'input_ids', 'attention_mask', 'labels'],\n",
       "    num_rows: 12759\n",
       "})"
      ]
     },
     "execution_count": 14,
     "metadata": {},
     "output_type": "execute_result"
    }
   ],
   "source": [
    "validation"
   ]
  },
  {
   "cell_type": "code",
   "execution_count": null,
   "id": "62f67c90",
   "metadata": {
    "papermill": {
     "duration": 0.007805,
     "end_time": "2023-02-11T18:28:37.023196",
     "exception": false,
     "start_time": "2023-02-11T18:28:37.015391",
     "status": "completed"
    },
    "tags": []
   },
   "outputs": [],
   "source": []
  },
  {
   "cell_type": "code",
   "execution_count": 15,
   "id": "fce092c4",
   "metadata": {
    "execution": {
     "iopub.execute_input": "2023-02-11T18:28:37.040571Z",
     "iopub.status.busy": "2023-02-11T18:28:37.040067Z",
     "iopub.status.idle": "2023-02-11T18:28:43.037466Z",
     "shell.execute_reply": "2023-02-11T18:28:43.036447Z"
    },
    "papermill": {
     "duration": 6.00891,
     "end_time": "2023-02-11T18:28:43.039907",
     "exception": false,
     "start_time": "2023-02-11T18:28:37.030997",
     "status": "completed"
    },
    "tags": []
   },
   "outputs": [
    {
     "name": "stderr",
     "output_type": "stream",
     "text": [
      "Using cuda_amp half precision backend\n"
     ]
    }
   ],
   "source": [
    "# defining trainer using 🤗\n",
    "trainer = Trainer(model=model, \n",
    "                args=args, \n",
    "                train_dataset= train_data,\n",
    "                eval_dataset=validation,\n",
    "                tokenizer=tokenizer,\n",
    "                data_collator=data_collator,\n",
    "                )"
   ]
  },
  {
   "cell_type": "code",
   "execution_count": 16,
   "id": "31ed60b4",
   "metadata": {
    "execution": {
     "iopub.execute_input": "2023-02-11T18:28:43.054099Z",
     "iopub.status.busy": "2023-02-11T18:28:43.053117Z",
     "iopub.status.idle": "2023-02-12T04:15:48.746283Z",
     "shell.execute_reply": "2023-02-12T04:15:48.745066Z"
    },
    "papermill": {
     "duration": 35225.707898,
     "end_time": "2023-02-12T04:15:48.754012",
     "exception": false,
     "start_time": "2023-02-11T18:28:43.046114",
     "status": "completed"
    },
    "tags": []
   },
   "outputs": [
    {
     "name": "stderr",
     "output_type": "stream",
     "text": [
      "/opt/conda/lib/python3.7/site-packages/transformers/optimization.py:310: FutureWarning: This implementation of AdamW is deprecated and will be removed in a future version. Use the PyTorch implementation torch.optim.AdamW instead, or set `no_deprecation_warning=True` to disable this warning\n",
      "  FutureWarning,\n",
      "***** Running training *****\n",
      "  Num examples = 1837181\n",
      "  Num Epochs = 2\n",
      "  Instantaneous batch size per device = 32\n",
      "  Total train batch size (w. parallel, distributed & accumulation) = 256\n",
      "  Gradient Accumulation steps = 4\n",
      "  Total optimization steps = 14352\n",
      "Automatic Weights & Biases logging enabled, to disable set os.environ[\"WANDB_DISABLED\"] = \"true\"\n",
      "\u001b[34m\u001b[1mwandb\u001b[0m: Currently logged in as: \u001b[33mmushrafi88\u001b[0m. Use \u001b[1m`wandb login --relogin`\u001b[0m to force relogin\n"
     ]
    },
    {
     "data": {
      "text/html": [
       "wandb version 0.13.10 is available!  To upgrade, please run:\n",
       " $ pip install wandb --upgrade"
      ],
      "text/plain": [
       "<IPython.core.display.HTML object>"
      ]
     },
     "metadata": {},
     "output_type": "display_data"
    },
    {
     "data": {
      "text/html": [
       "Tracking run with wandb version 0.12.21"
      ],
      "text/plain": [
       "<IPython.core.display.HTML object>"
      ]
     },
     "metadata": {},
     "output_type": "display_data"
    },
    {
     "data": {
      "text/html": [
       "Run data is saved locally in <code>/kaggle/working/wandb/run-20230211_182843-zug5742m</code>"
      ],
      "text/plain": [
       "<IPython.core.display.HTML object>"
      ]
     },
     "metadata": {},
     "output_type": "display_data"
    },
    {
     "data": {
      "text/html": [
       "Syncing run <strong><a href=\"https://wandb.ai/mushrafi88/huggingface/runs/zug5742m\" target=\"_blank\">t5-asr-corrector-bn-masked</a></strong> to <a href=\"https://wandb.ai/mushrafi88/huggingface\" target=\"_blank\">Weights & Biases</a> (<a href=\"https://wandb.me/run\" target=\"_blank\">docs</a>)<br/>"
      ],
      "text/plain": [
       "<IPython.core.display.HTML object>"
      ]
     },
     "metadata": {},
     "output_type": "display_data"
    },
    {
     "name": "stderr",
     "output_type": "stream",
     "text": [
      "/opt/conda/lib/python3.7/site-packages/torch/nn/parallel/_functions.py:68: UserWarning: Was asked to gather along dimension 0, but all input tensors were scalars; will instead unsqueeze and return a vector.\n",
      "  warnings.warn('Was asked to gather along dimension 0, but all '\n"
     ]
    },
    {
     "data": {
      "text/html": [
       "\n",
       "    <div>\n",
       "      \n",
       "      <progress value='14352' max='14352' style='width:300px; height:20px; vertical-align: middle;'></progress>\n",
       "      [14352/14352 9:46:49, Epoch 1/2]\n",
       "    </div>\n",
       "    <table border=\"1\" class=\"dataframe\">\n",
       "  <thead>\n",
       " <tr style=\"text-align: left;\">\n",
       "      <th>Step</th>\n",
       "      <th>Training Loss</th>\n",
       "      <th>Validation Loss</th>\n",
       "    </tr>\n",
       "  </thead>\n",
       "  <tbody>\n",
       "    <tr>\n",
       "      <td>1000</td>\n",
       "      <td>0.174400</td>\n",
       "      <td>0.166853</td>\n",
       "    </tr>\n",
       "    <tr>\n",
       "      <td>2000</td>\n",
       "      <td>0.157100</td>\n",
       "      <td>0.149470</td>\n",
       "    </tr>\n",
       "    <tr>\n",
       "      <td>3000</td>\n",
       "      <td>0.146900</td>\n",
       "      <td>0.138329</td>\n",
       "    </tr>\n",
       "    <tr>\n",
       "      <td>4000</td>\n",
       "      <td>0.139100</td>\n",
       "      <td>0.130829</td>\n",
       "    </tr>\n",
       "    <tr>\n",
       "      <td>5000</td>\n",
       "      <td>0.133700</td>\n",
       "      <td>0.125545</td>\n",
       "    </tr>\n",
       "    <tr>\n",
       "      <td>6000</td>\n",
       "      <td>0.129700</td>\n",
       "      <td>0.121663</td>\n",
       "    </tr>\n",
       "    <tr>\n",
       "      <td>7000</td>\n",
       "      <td>0.126100</td>\n",
       "      <td>0.118613</td>\n",
       "    </tr>\n",
       "    <tr>\n",
       "      <td>8000</td>\n",
       "      <td>0.123000</td>\n",
       "      <td>0.116335</td>\n",
       "    </tr>\n",
       "    <tr>\n",
       "      <td>9000</td>\n",
       "      <td>0.121500</td>\n",
       "      <td>0.114475</td>\n",
       "    </tr>\n",
       "    <tr>\n",
       "      <td>10000</td>\n",
       "      <td>0.119600</td>\n",
       "      <td>0.112959</td>\n",
       "    </tr>\n",
       "    <tr>\n",
       "      <td>11000</td>\n",
       "      <td>0.118700</td>\n",
       "      <td>0.111972</td>\n",
       "    </tr>\n",
       "    <tr>\n",
       "      <td>12000</td>\n",
       "      <td>0.118300</td>\n",
       "      <td>0.111150</td>\n",
       "    </tr>\n",
       "    <tr>\n",
       "      <td>13000</td>\n",
       "      <td>0.117500</td>\n",
       "      <td>0.110668</td>\n",
       "    </tr>\n",
       "    <tr>\n",
       "      <td>14000</td>\n",
       "      <td>0.117200</td>\n",
       "      <td>0.110430</td>\n",
       "    </tr>\n",
       "  </tbody>\n",
       "</table><p>"
      ],
      "text/plain": [
       "<IPython.core.display.HTML object>"
      ]
     },
     "metadata": {},
     "output_type": "display_data"
    },
    {
     "name": "stderr",
     "output_type": "stream",
     "text": [
      "The following columns in the evaluation set don't have a corresponding argument in `MT5ForConditionalGeneration.forward` and have been ignored: input, __index_level_0__, output. If input, __index_level_0__, output are not expected by `MT5ForConditionalGeneration.forward`,  you can safely ignore this message.\n",
      "***** Running Evaluation *****\n",
      "  Num examples = 12759\n",
      "  Batch size = 64\n",
      "Saving model checkpoint to t5-asr-corrector-bn-masked/checkpoint-1000\n",
      "Configuration saved in t5-asr-corrector-bn-masked/checkpoint-1000/config.json\n",
      "Model weights saved in t5-asr-corrector-bn-masked/checkpoint-1000/pytorch_model.bin\n",
      "tokenizer config file saved in t5-asr-corrector-bn-masked/checkpoint-1000/tokenizer_config.json\n",
      "Special tokens file saved in t5-asr-corrector-bn-masked/checkpoint-1000/special_tokens_map.json\n",
      "/opt/conda/lib/python3.7/site-packages/torch/nn/parallel/_functions.py:68: UserWarning: Was asked to gather along dimension 0, but all input tensors were scalars; will instead unsqueeze and return a vector.\n",
      "  warnings.warn('Was asked to gather along dimension 0, but all '\n",
      "The following columns in the evaluation set don't have a corresponding argument in `MT5ForConditionalGeneration.forward` and have been ignored: input, __index_level_0__, output. If input, __index_level_0__, output are not expected by `MT5ForConditionalGeneration.forward`,  you can safely ignore this message.\n",
      "***** Running Evaluation *****\n",
      "  Num examples = 12759\n",
      "  Batch size = 64\n",
      "Saving model checkpoint to t5-asr-corrector-bn-masked/checkpoint-2000\n",
      "Configuration saved in t5-asr-corrector-bn-masked/checkpoint-2000/config.json\n",
      "Model weights saved in t5-asr-corrector-bn-masked/checkpoint-2000/pytorch_model.bin\n",
      "tokenizer config file saved in t5-asr-corrector-bn-masked/checkpoint-2000/tokenizer_config.json\n",
      "Special tokens file saved in t5-asr-corrector-bn-masked/checkpoint-2000/special_tokens_map.json\n",
      "/opt/conda/lib/python3.7/site-packages/torch/nn/parallel/_functions.py:68: UserWarning: Was asked to gather along dimension 0, but all input tensors were scalars; will instead unsqueeze and return a vector.\n",
      "  warnings.warn('Was asked to gather along dimension 0, but all '\n",
      "The following columns in the evaluation set don't have a corresponding argument in `MT5ForConditionalGeneration.forward` and have been ignored: input, __index_level_0__, output. If input, __index_level_0__, output are not expected by `MT5ForConditionalGeneration.forward`,  you can safely ignore this message.\n",
      "***** Running Evaluation *****\n",
      "  Num examples = 12759\n",
      "  Batch size = 64\n",
      "Saving model checkpoint to t5-asr-corrector-bn-masked/checkpoint-3000\n",
      "Configuration saved in t5-asr-corrector-bn-masked/checkpoint-3000/config.json\n",
      "Model weights saved in t5-asr-corrector-bn-masked/checkpoint-3000/pytorch_model.bin\n",
      "tokenizer config file saved in t5-asr-corrector-bn-masked/checkpoint-3000/tokenizer_config.json\n",
      "Special tokens file saved in t5-asr-corrector-bn-masked/checkpoint-3000/special_tokens_map.json\n",
      "Deleting older checkpoint [t5-asr-corrector-bn-masked/checkpoint-1000] due to args.save_total_limit\n",
      "/opt/conda/lib/python3.7/site-packages/torch/nn/parallel/_functions.py:68: UserWarning: Was asked to gather along dimension 0, but all input tensors were scalars; will instead unsqueeze and return a vector.\n",
      "  warnings.warn('Was asked to gather along dimension 0, but all '\n",
      "The following columns in the evaluation set don't have a corresponding argument in `MT5ForConditionalGeneration.forward` and have been ignored: input, __index_level_0__, output. If input, __index_level_0__, output are not expected by `MT5ForConditionalGeneration.forward`,  you can safely ignore this message.\n",
      "***** Running Evaluation *****\n",
      "  Num examples = 12759\n",
      "  Batch size = 64\n",
      "Saving model checkpoint to t5-asr-corrector-bn-masked/checkpoint-4000\n",
      "Configuration saved in t5-asr-corrector-bn-masked/checkpoint-4000/config.json\n",
      "Model weights saved in t5-asr-corrector-bn-masked/checkpoint-4000/pytorch_model.bin\n",
      "tokenizer config file saved in t5-asr-corrector-bn-masked/checkpoint-4000/tokenizer_config.json\n",
      "Special tokens file saved in t5-asr-corrector-bn-masked/checkpoint-4000/special_tokens_map.json\n",
      "Deleting older checkpoint [t5-asr-corrector-bn-masked/checkpoint-2000] due to args.save_total_limit\n",
      "/opt/conda/lib/python3.7/site-packages/torch/nn/parallel/_functions.py:68: UserWarning: Was asked to gather along dimension 0, but all input tensors were scalars; will instead unsqueeze and return a vector.\n",
      "  warnings.warn('Was asked to gather along dimension 0, but all '\n",
      "The following columns in the evaluation set don't have a corresponding argument in `MT5ForConditionalGeneration.forward` and have been ignored: input, __index_level_0__, output. If input, __index_level_0__, output are not expected by `MT5ForConditionalGeneration.forward`,  you can safely ignore this message.\n",
      "***** Running Evaluation *****\n",
      "  Num examples = 12759\n",
      "  Batch size = 64\n",
      "Saving model checkpoint to t5-asr-corrector-bn-masked/checkpoint-5000\n",
      "Configuration saved in t5-asr-corrector-bn-masked/checkpoint-5000/config.json\n",
      "Model weights saved in t5-asr-corrector-bn-masked/checkpoint-5000/pytorch_model.bin\n",
      "tokenizer config file saved in t5-asr-corrector-bn-masked/checkpoint-5000/tokenizer_config.json\n",
      "Special tokens file saved in t5-asr-corrector-bn-masked/checkpoint-5000/special_tokens_map.json\n",
      "Deleting older checkpoint [t5-asr-corrector-bn-masked/checkpoint-3000] due to args.save_total_limit\n",
      "/opt/conda/lib/python3.7/site-packages/torch/nn/parallel/_functions.py:68: UserWarning: Was asked to gather along dimension 0, but all input tensors were scalars; will instead unsqueeze and return a vector.\n",
      "  warnings.warn('Was asked to gather along dimension 0, but all '\n",
      "The following columns in the evaluation set don't have a corresponding argument in `MT5ForConditionalGeneration.forward` and have been ignored: input, __index_level_0__, output. If input, __index_level_0__, output are not expected by `MT5ForConditionalGeneration.forward`,  you can safely ignore this message.\n",
      "***** Running Evaluation *****\n",
      "  Num examples = 12759\n",
      "  Batch size = 64\n",
      "Saving model checkpoint to t5-asr-corrector-bn-masked/checkpoint-6000\n",
      "Configuration saved in t5-asr-corrector-bn-masked/checkpoint-6000/config.json\n",
      "Model weights saved in t5-asr-corrector-bn-masked/checkpoint-6000/pytorch_model.bin\n",
      "tokenizer config file saved in t5-asr-corrector-bn-masked/checkpoint-6000/tokenizer_config.json\n",
      "Special tokens file saved in t5-asr-corrector-bn-masked/checkpoint-6000/special_tokens_map.json\n",
      "Deleting older checkpoint [t5-asr-corrector-bn-masked/checkpoint-4000] due to args.save_total_limit\n",
      "/opt/conda/lib/python3.7/site-packages/torch/nn/parallel/_functions.py:68: UserWarning: Was asked to gather along dimension 0, but all input tensors were scalars; will instead unsqueeze and return a vector.\n",
      "  warnings.warn('Was asked to gather along dimension 0, but all '\n",
      "The following columns in the evaluation set don't have a corresponding argument in `MT5ForConditionalGeneration.forward` and have been ignored: input, __index_level_0__, output. If input, __index_level_0__, output are not expected by `MT5ForConditionalGeneration.forward`,  you can safely ignore this message.\n",
      "***** Running Evaluation *****\n",
      "  Num examples = 12759\n",
      "  Batch size = 64\n",
      "Saving model checkpoint to t5-asr-corrector-bn-masked/checkpoint-7000\n",
      "Configuration saved in t5-asr-corrector-bn-masked/checkpoint-7000/config.json\n",
      "Model weights saved in t5-asr-corrector-bn-masked/checkpoint-7000/pytorch_model.bin\n",
      "tokenizer config file saved in t5-asr-corrector-bn-masked/checkpoint-7000/tokenizer_config.json\n",
      "Special tokens file saved in t5-asr-corrector-bn-masked/checkpoint-7000/special_tokens_map.json\n",
      "Deleting older checkpoint [t5-asr-corrector-bn-masked/checkpoint-5000] due to args.save_total_limit\n",
      "/opt/conda/lib/python3.7/site-packages/torch/nn/parallel/_functions.py:68: UserWarning: Was asked to gather along dimension 0, but all input tensors were scalars; will instead unsqueeze and return a vector.\n",
      "  warnings.warn('Was asked to gather along dimension 0, but all '\n",
      "The following columns in the evaluation set don't have a corresponding argument in `MT5ForConditionalGeneration.forward` and have been ignored: input, __index_level_0__, output. If input, __index_level_0__, output are not expected by `MT5ForConditionalGeneration.forward`,  you can safely ignore this message.\n",
      "***** Running Evaluation *****\n",
      "  Num examples = 12759\n",
      "  Batch size = 64\n",
      "Saving model checkpoint to t5-asr-corrector-bn-masked/checkpoint-8000\n",
      "Configuration saved in t5-asr-corrector-bn-masked/checkpoint-8000/config.json\n",
      "Model weights saved in t5-asr-corrector-bn-masked/checkpoint-8000/pytorch_model.bin\n",
      "tokenizer config file saved in t5-asr-corrector-bn-masked/checkpoint-8000/tokenizer_config.json\n",
      "Special tokens file saved in t5-asr-corrector-bn-masked/checkpoint-8000/special_tokens_map.json\n",
      "Deleting older checkpoint [t5-asr-corrector-bn-masked/checkpoint-6000] due to args.save_total_limit\n",
      "/opt/conda/lib/python3.7/site-packages/torch/nn/parallel/_functions.py:68: UserWarning: Was asked to gather along dimension 0, but all input tensors were scalars; will instead unsqueeze and return a vector.\n",
      "  warnings.warn('Was asked to gather along dimension 0, but all '\n",
      "The following columns in the evaluation set don't have a corresponding argument in `MT5ForConditionalGeneration.forward` and have been ignored: input, __index_level_0__, output. If input, __index_level_0__, output are not expected by `MT5ForConditionalGeneration.forward`,  you can safely ignore this message.\n",
      "***** Running Evaluation *****\n",
      "  Num examples = 12759\n",
      "  Batch size = 64\n",
      "Saving model checkpoint to t5-asr-corrector-bn-masked/checkpoint-9000\n",
      "Configuration saved in t5-asr-corrector-bn-masked/checkpoint-9000/config.json\n",
      "Model weights saved in t5-asr-corrector-bn-masked/checkpoint-9000/pytorch_model.bin\n",
      "tokenizer config file saved in t5-asr-corrector-bn-masked/checkpoint-9000/tokenizer_config.json\n",
      "Special tokens file saved in t5-asr-corrector-bn-masked/checkpoint-9000/special_tokens_map.json\n",
      "Deleting older checkpoint [t5-asr-corrector-bn-masked/checkpoint-7000] due to args.save_total_limit\n",
      "/opt/conda/lib/python3.7/site-packages/torch/nn/parallel/_functions.py:68: UserWarning: Was asked to gather along dimension 0, but all input tensors were scalars; will instead unsqueeze and return a vector.\n",
      "  warnings.warn('Was asked to gather along dimension 0, but all '\n",
      "The following columns in the evaluation set don't have a corresponding argument in `MT5ForConditionalGeneration.forward` and have been ignored: input, __index_level_0__, output. If input, __index_level_0__, output are not expected by `MT5ForConditionalGeneration.forward`,  you can safely ignore this message.\n",
      "***** Running Evaluation *****\n",
      "  Num examples = 12759\n",
      "  Batch size = 64\n",
      "Saving model checkpoint to t5-asr-corrector-bn-masked/checkpoint-10000\n",
      "Configuration saved in t5-asr-corrector-bn-masked/checkpoint-10000/config.json\n",
      "Model weights saved in t5-asr-corrector-bn-masked/checkpoint-10000/pytorch_model.bin\n",
      "tokenizer config file saved in t5-asr-corrector-bn-masked/checkpoint-10000/tokenizer_config.json\n",
      "Special tokens file saved in t5-asr-corrector-bn-masked/checkpoint-10000/special_tokens_map.json\n",
      "Deleting older checkpoint [t5-asr-corrector-bn-masked/checkpoint-8000] due to args.save_total_limit\n",
      "/opt/conda/lib/python3.7/site-packages/torch/nn/parallel/_functions.py:68: UserWarning: Was asked to gather along dimension 0, but all input tensors were scalars; will instead unsqueeze and return a vector.\n",
      "  warnings.warn('Was asked to gather along dimension 0, but all '\n",
      "The following columns in the evaluation set don't have a corresponding argument in `MT5ForConditionalGeneration.forward` and have been ignored: input, __index_level_0__, output. If input, __index_level_0__, output are not expected by `MT5ForConditionalGeneration.forward`,  you can safely ignore this message.\n",
      "***** Running Evaluation *****\n",
      "  Num examples = 12759\n",
      "  Batch size = 64\n",
      "Saving model checkpoint to t5-asr-corrector-bn-masked/checkpoint-11000\n",
      "Configuration saved in t5-asr-corrector-bn-masked/checkpoint-11000/config.json\n",
      "Model weights saved in t5-asr-corrector-bn-masked/checkpoint-11000/pytorch_model.bin\n",
      "tokenizer config file saved in t5-asr-corrector-bn-masked/checkpoint-11000/tokenizer_config.json\n",
      "Special tokens file saved in t5-asr-corrector-bn-masked/checkpoint-11000/special_tokens_map.json\n",
      "Deleting older checkpoint [t5-asr-corrector-bn-masked/checkpoint-9000] due to args.save_total_limit\n",
      "/opt/conda/lib/python3.7/site-packages/torch/nn/parallel/_functions.py:68: UserWarning: Was asked to gather along dimension 0, but all input tensors were scalars; will instead unsqueeze and return a vector.\n",
      "  warnings.warn('Was asked to gather along dimension 0, but all '\n",
      "The following columns in the evaluation set don't have a corresponding argument in `MT5ForConditionalGeneration.forward` and have been ignored: input, __index_level_0__, output. If input, __index_level_0__, output are not expected by `MT5ForConditionalGeneration.forward`,  you can safely ignore this message.\n",
      "***** Running Evaluation *****\n",
      "  Num examples = 12759\n",
      "  Batch size = 64\n",
      "Saving model checkpoint to t5-asr-corrector-bn-masked/checkpoint-12000\n",
      "Configuration saved in t5-asr-corrector-bn-masked/checkpoint-12000/config.json\n",
      "Model weights saved in t5-asr-corrector-bn-masked/checkpoint-12000/pytorch_model.bin\n",
      "tokenizer config file saved in t5-asr-corrector-bn-masked/checkpoint-12000/tokenizer_config.json\n",
      "Special tokens file saved in t5-asr-corrector-bn-masked/checkpoint-12000/special_tokens_map.json\n",
      "Deleting older checkpoint [t5-asr-corrector-bn-masked/checkpoint-10000] due to args.save_total_limit\n",
      "/opt/conda/lib/python3.7/site-packages/torch/nn/parallel/_functions.py:68: UserWarning: Was asked to gather along dimension 0, but all input tensors were scalars; will instead unsqueeze and return a vector.\n",
      "  warnings.warn('Was asked to gather along dimension 0, but all '\n",
      "The following columns in the evaluation set don't have a corresponding argument in `MT5ForConditionalGeneration.forward` and have been ignored: input, __index_level_0__, output. If input, __index_level_0__, output are not expected by `MT5ForConditionalGeneration.forward`,  you can safely ignore this message.\n",
      "***** Running Evaluation *****\n",
      "  Num examples = 12759\n",
      "  Batch size = 64\n",
      "Saving model checkpoint to t5-asr-corrector-bn-masked/checkpoint-13000\n",
      "Configuration saved in t5-asr-corrector-bn-masked/checkpoint-13000/config.json\n",
      "Model weights saved in t5-asr-corrector-bn-masked/checkpoint-13000/pytorch_model.bin\n",
      "tokenizer config file saved in t5-asr-corrector-bn-masked/checkpoint-13000/tokenizer_config.json\n",
      "Special tokens file saved in t5-asr-corrector-bn-masked/checkpoint-13000/special_tokens_map.json\n",
      "Deleting older checkpoint [t5-asr-corrector-bn-masked/checkpoint-11000] due to args.save_total_limit\n",
      "/opt/conda/lib/python3.7/site-packages/torch/nn/parallel/_functions.py:68: UserWarning: Was asked to gather along dimension 0, but all input tensors were scalars; will instead unsqueeze and return a vector.\n",
      "  warnings.warn('Was asked to gather along dimension 0, but all '\n",
      "The following columns in the evaluation set don't have a corresponding argument in `MT5ForConditionalGeneration.forward` and have been ignored: input, __index_level_0__, output. If input, __index_level_0__, output are not expected by `MT5ForConditionalGeneration.forward`,  you can safely ignore this message.\n",
      "***** Running Evaluation *****\n",
      "  Num examples = 12759\n",
      "  Batch size = 64\n",
      "Saving model checkpoint to t5-asr-corrector-bn-masked/checkpoint-14000\n",
      "Configuration saved in t5-asr-corrector-bn-masked/checkpoint-14000/config.json\n",
      "Model weights saved in t5-asr-corrector-bn-masked/checkpoint-14000/pytorch_model.bin\n",
      "tokenizer config file saved in t5-asr-corrector-bn-masked/checkpoint-14000/tokenizer_config.json\n",
      "Special tokens file saved in t5-asr-corrector-bn-masked/checkpoint-14000/special_tokens_map.json\n",
      "Deleting older checkpoint [t5-asr-corrector-bn-masked/checkpoint-12000] due to args.save_total_limit\n",
      "/opt/conda/lib/python3.7/site-packages/torch/nn/parallel/_functions.py:68: UserWarning: Was asked to gather along dimension 0, but all input tensors were scalars; will instead unsqueeze and return a vector.\n",
      "  warnings.warn('Was asked to gather along dimension 0, but all '\n",
      "\n",
      "\n",
      "Training completed. Do not forget to share your model on huggingface.co/models =)\n",
      "\n",
      "\n",
      "Loading best model from t5-asr-corrector-bn-masked/checkpoint-14000 (score: 0.11042968928813934).\n"
     ]
    },
    {
     "data": {
      "text/plain": [
       "TrainOutput(global_step=14352, training_loss=0.16206930898370817, metrics={'train_runtime': 35225.606, 'train_samples_per_second': 104.309, 'train_steps_per_second': 0.407, 'total_flos': 3.144680106337567e+17, 'train_loss': 0.16206930898370817, 'epoch': 2.0})"
      ]
     },
     "execution_count": 16,
     "metadata": {},
     "output_type": "execute_result"
    }
   ],
   "source": [
    "trainer.train()"
   ]
  },
  {
   "cell_type": "code",
   "execution_count": 17,
   "id": "dcae49b5",
   "metadata": {
    "execution": {
     "iopub.execute_input": "2023-02-12T04:15:48.935864Z",
     "iopub.status.busy": "2023-02-12T04:15:48.935218Z",
     "iopub.status.idle": "2023-02-12T04:15:51.217198Z",
     "shell.execute_reply": "2023-02-12T04:15:51.216141Z"
    },
    "papermill": {
     "duration": 2.404008,
     "end_time": "2023-02-12T04:15:51.219492",
     "exception": false,
     "start_time": "2023-02-12T04:15:48.815484",
     "status": "completed"
    },
    "tags": []
   },
   "outputs": [
    {
     "name": "stderr",
     "output_type": "stream",
     "text": [
      "Saving model checkpoint to t5_asr_bn_corrector_second_attempt\n",
      "Configuration saved in t5_asr_bn_corrector_second_attempt/config.json\n",
      "Model weights saved in t5_asr_bn_corrector_second_attempt/pytorch_model.bin\n",
      "tokenizer config file saved in t5_asr_bn_corrector_second_attempt/tokenizer_config.json\n",
      "Special tokens file saved in t5_asr_bn_corrector_second_attempt/special_tokens_map.json\n"
     ]
    }
   ],
   "source": [
    "trainer.save_model('t5_asr_bn_corrector_second_attempt')"
   ]
  },
  {
   "cell_type": "code",
   "execution_count": null,
   "id": "642aeac8",
   "metadata": {
    "papermill": {
     "duration": 0.015547,
     "end_time": "2023-02-12T04:15:51.252755",
     "exception": false,
     "start_time": "2023-02-12T04:15:51.237208",
     "status": "completed"
    },
    "tags": []
   },
   "outputs": [],
   "source": []
  }
 ],
 "metadata": {
  "kernelspec": {
   "display_name": "Python 3",
   "language": "python",
   "name": "python3"
  },
  "language_info": {
   "codemirror_mode": {
    "name": "ipython",
    "version": 3
   },
   "file_extension": ".py",
   "mimetype": "text/x-python",
   "name": "python",
   "nbconvert_exporter": "python",
   "pygments_lexer": "ipython3",
   "version": "3.7.12"
  },
  "papermill": {
   "default_parameters": {},
   "duration": 35312.27949,
   "end_time": "2023-02-12T04:15:54.374839",
   "environment_variables": {},
   "exception": null,
   "input_path": "__notebook__.ipynb",
   "output_path": "__notebook__.ipynb",
   "parameters": {},
   "start_time": "2023-02-11T18:27:22.095349",
   "version": "2.3.4"
  },
  "widgets": {
   "application/vnd.jupyter.widget-state+json": {
    "state": {
     "0031345ea1b9406bb11373c5e8c482a6": {
      "model_module": "@jupyter-widgets/controls",
      "model_module_version": "1.5.0",
      "model_name": "HTMLModel",
      "state": {
       "_dom_classes": [],
       "_model_module": "@jupyter-widgets/controls",
       "_model_module_version": "1.5.0",
       "_model_name": "HTMLModel",
       "_view_count": null,
       "_view_module": "@jupyter-widgets/controls",
       "_view_module_version": "1.5.0",
       "_view_name": "HTMLView",
       "description": "",
       "description_tooltip": null,
       "layout": "IPY_MODEL_e7d7051610e3471fb20be60fcbbac941",
       "placeholder": "​",
       "style": "IPY_MODEL_124498a5299c45bfa33772a24230a396",
       "value": "Downloading: 100%"
      }
     },
     "03b44823b4914045bfea997238755635": {
      "model_module": "@jupyter-widgets/base",
      "model_module_version": "1.2.0",
      "model_name": "LayoutModel",
      "state": {
       "_model_module": "@jupyter-widgets/base",
       "_model_module_version": "1.2.0",
       "_model_name": "LayoutModel",
       "_view_count": null,
       "_view_module": "@jupyter-widgets/base",
       "_view_module_version": "1.2.0",
       "_view_name": "LayoutView",
       "align_content": null,
       "align_items": null,
       "align_self": null,
       "border": null,
       "bottom": null,
       "display": null,
       "flex": null,
       "flex_flow": null,
       "grid_area": null,
       "grid_auto_columns": null,
       "grid_auto_flow": null,
       "grid_auto_rows": null,
       "grid_column": null,
       "grid_gap": null,
       "grid_row": null,
       "grid_template_areas": null,
       "grid_template_columns": null,
       "grid_template_rows": null,
       "height": null,
       "justify_content": null,
       "justify_items": null,
       "left": null,
       "margin": null,
       "max_height": null,
       "max_width": null,
       "min_height": null,
       "min_width": null,
       "object_fit": null,
       "object_position": null,
       "order": null,
       "overflow": null,
       "overflow_x": null,
       "overflow_y": null,
       "padding": null,
       "right": null,
       "top": null,
       "visibility": null,
       "width": null
      }
     },
     "074e4ea953d1406da79ebd449490184a": {
      "model_module": "@jupyter-widgets/base",
      "model_module_version": "1.2.0",
      "model_name": "LayoutModel",
      "state": {
       "_model_module": "@jupyter-widgets/base",
       "_model_module_version": "1.2.0",
       "_model_name": "LayoutModel",
       "_view_count": null,
       "_view_module": "@jupyter-widgets/base",
       "_view_module_version": "1.2.0",
       "_view_name": "LayoutView",
       "align_content": null,
       "align_items": null,
       "align_self": null,
       "border": null,
       "bottom": null,
       "display": null,
       "flex": null,
       "flex_flow": null,
       "grid_area": null,
       "grid_auto_columns": null,
       "grid_auto_flow": null,
       "grid_auto_rows": null,
       "grid_column": null,
       "grid_gap": null,
       "grid_row": null,
       "grid_template_areas": null,
       "grid_template_columns": null,
       "grid_template_rows": null,
       "height": null,
       "justify_content": null,
       "justify_items": null,
       "left": null,
       "margin": null,
       "max_height": null,
       "max_width": null,
       "min_height": null,
       "min_width": null,
       "object_fit": null,
       "object_position": null,
       "order": null,
       "overflow": null,
       "overflow_x": null,
       "overflow_y": null,
       "padding": null,
       "right": null,
       "top": null,
       "visibility": null,
       "width": null
      }
     },
     "0e70f404ea914eb09c5ea81365e0d02c": {
      "model_module": "@jupyter-widgets/controls",
      "model_module_version": "1.5.0",
      "model_name": "LabelModel",
      "state": {
       "_dom_classes": [],
       "_model_module": "@jupyter-widgets/controls",
       "_model_module_version": "1.5.0",
       "_model_name": "LabelModel",
       "_view_count": null,
       "_view_module": "@jupyter-widgets/controls",
       "_view_module_version": "1.5.0",
       "_view_name": "LabelView",
       "description": "",
       "description_tooltip": null,
       "layout": "IPY_MODEL_1cd03b6897544e0487679ef7db0f430b",
       "placeholder": "​",
       "style": "IPY_MODEL_e730a7242163445eafc79e10c37e655c",
       "value": ""
      }
     },
     "1074ba593a0443caafc7f0ceba6c82a1": {
      "model_module": "@jupyter-widgets/controls",
      "model_module_version": "1.5.0",
      "model_name": "DescriptionStyleModel",
      "state": {
       "_model_module": "@jupyter-widgets/controls",
       "_model_module_version": "1.5.0",
       "_model_name": "DescriptionStyleModel",
       "_view_count": null,
       "_view_module": "@jupyter-widgets/base",
       "_view_module_version": "1.2.0",
       "_view_name": "StyleView",
       "description_width": ""
      }
     },
     "124498a5299c45bfa33772a24230a396": {
      "model_module": "@jupyter-widgets/controls",
      "model_module_version": "1.5.0",
      "model_name": "DescriptionStyleModel",
      "state": {
       "_model_module": "@jupyter-widgets/controls",
       "_model_module_version": "1.5.0",
       "_model_name": "DescriptionStyleModel",
       "_view_count": null,
       "_view_module": "@jupyter-widgets/base",
       "_view_module_version": "1.2.0",
       "_view_name": "StyleView",
       "description_width": ""
      }
     },
     "190dcd96aba74e259345ad6b0a497cba": {
      "model_module": "@jupyter-widgets/controls",
      "model_module_version": "1.5.0",
      "model_name": "HTMLModel",
      "state": {
       "_dom_classes": [],
       "_model_module": "@jupyter-widgets/controls",
       "_model_module_version": "1.5.0",
       "_model_name": "HTMLModel",
       "_view_count": null,
       "_view_module": "@jupyter-widgets/controls",
       "_view_module_version": "1.5.0",
       "_view_name": "HTMLView",
       "description": "",
       "description_tooltip": null,
       "layout": "IPY_MODEL_b386471ad5a14a6da7cd7c6bccba3f3b",
       "placeholder": "​",
       "style": "IPY_MODEL_1074ba593a0443caafc7f0ceba6c82a1",
       "value": "Downloading: 100%"
      }
     },
     "1ae9fe8a02b54635bbd113866ae2a0c2": {
      "model_module": "@jupyter-widgets/base",
      "model_module_version": "1.2.0",
      "model_name": "LayoutModel",
      "state": {
       "_model_module": "@jupyter-widgets/base",
       "_model_module_version": "1.2.0",
       "_model_name": "LayoutModel",
       "_view_count": null,
       "_view_module": "@jupyter-widgets/base",
       "_view_module_version": "1.2.0",
       "_view_name": "LayoutView",
       "align_content": null,
       "align_items": null,
       "align_self": null,
       "border": null,
       "bottom": null,
       "display": null,
       "flex": null,
       "flex_flow": null,
       "grid_area": null,
       "grid_auto_columns": null,
       "grid_auto_flow": null,
       "grid_auto_rows": null,
       "grid_column": null,
       "grid_gap": null,
       "grid_row": null,
       "grid_template_areas": null,
       "grid_template_columns": null,
       "grid_template_rows": null,
       "height": null,
       "justify_content": null,
       "justify_items": null,
       "left": null,
       "margin": null,
       "max_height": null,
       "max_width": null,
       "min_height": null,
       "min_width": null,
       "object_fit": null,
       "object_position": null,
       "order": null,
       "overflow": null,
       "overflow_x": null,
       "overflow_y": null,
       "padding": null,
       "right": null,
       "top": null,
       "visibility": null,
       "width": null
      }
     },
     "1b88f5c152f84cf48e467dcfb79cbdd6": {
      "model_module": "@jupyter-widgets/controls",
      "model_module_version": "1.5.0",
      "model_name": "VBoxModel",
      "state": {
       "_dom_classes": [],
       "_model_module": "@jupyter-widgets/controls",
       "_model_module_version": "1.5.0",
       "_model_name": "VBoxModel",
       "_view_count": null,
       "_view_module": "@jupyter-widgets/controls",
       "_view_module_version": "1.5.0",
       "_view_name": "VBoxView",
       "box_style": "",
       "children": [
        "IPY_MODEL_bf4d02a6d3ed47a6a5089c1affbbb237",
        "IPY_MODEL_6f6c05f4f7ec46f18acd71b9d4cca8ea"
       ],
       "layout": "IPY_MODEL_1ae9fe8a02b54635bbd113866ae2a0c2"
      }
     },
     "1bcef4635678452bbdac336090de37c5": {
      "model_module": "@jupyter-widgets/controls",
      "model_module_version": "1.5.0",
      "model_name": "DescriptionStyleModel",
      "state": {
       "_model_module": "@jupyter-widgets/controls",
       "_model_module_version": "1.5.0",
       "_model_name": "DescriptionStyleModel",
       "_view_count": null,
       "_view_module": "@jupyter-widgets/base",
       "_view_module_version": "1.2.0",
       "_view_name": "StyleView",
       "description_width": ""
      }
     },
     "1cd03b6897544e0487679ef7db0f430b": {
      "model_module": "@jupyter-widgets/base",
      "model_module_version": "1.2.0",
      "model_name": "LayoutModel",
      "state": {
       "_model_module": "@jupyter-widgets/base",
       "_model_module_version": "1.2.0",
       "_model_name": "LayoutModel",
       "_view_count": null,
       "_view_module": "@jupyter-widgets/base",
       "_view_module_version": "1.2.0",
       "_view_name": "LayoutView",
       "align_content": null,
       "align_items": null,
       "align_self": null,
       "border": null,
       "bottom": null,
       "display": null,
       "flex": null,
       "flex_flow": null,
       "grid_area": null,
       "grid_auto_columns": null,
       "grid_auto_flow": null,
       "grid_auto_rows": null,
       "grid_column": null,
       "grid_gap": null,
       "grid_row": null,
       "grid_template_areas": null,
       "grid_template_columns": null,
       "grid_template_rows": null,
       "height": null,
       "justify_content": null,
       "justify_items": null,
       "left": null,
       "margin": null,
       "max_height": null,
       "max_width": null,
       "min_height": null,
       "min_width": null,
       "object_fit": null,
       "object_position": null,
       "order": null,
       "overflow": null,
       "overflow_x": null,
       "overflow_y": null,
       "padding": null,
       "right": null,
       "top": null,
       "visibility": null,
       "width": null
      }
     },
     "202aa2f780da46748303355e4ec0964e": {
      "model_module": "@jupyter-widgets/controls",
      "model_module_version": "1.5.0",
      "model_name": "HBoxModel",
      "state": {
       "_dom_classes": [],
       "_model_module": "@jupyter-widgets/controls",
       "_model_module_version": "1.5.0",
       "_model_name": "HBoxModel",
       "_view_count": null,
       "_view_module": "@jupyter-widgets/controls",
       "_view_module_version": "1.5.0",
       "_view_name": "HBoxView",
       "box_style": "",
       "children": [
        "IPY_MODEL_190dcd96aba74e259345ad6b0a497cba",
        "IPY_MODEL_5470ffc3b370438a9f731d8aac7559c1",
        "IPY_MODEL_4bf33e1d72a84a9caeceea30ce5667dd"
       ],
       "layout": "IPY_MODEL_91de346d4795475eaf134ad2ef408bbc"
      }
     },
     "20c924070b61461a8fbd225124da52f0": {
      "model_module": "@jupyter-widgets/base",
      "model_module_version": "1.2.0",
      "model_name": "LayoutModel",
      "state": {
       "_model_module": "@jupyter-widgets/base",
       "_model_module_version": "1.2.0",
       "_model_name": "LayoutModel",
       "_view_count": null,
       "_view_module": "@jupyter-widgets/base",
       "_view_module_version": "1.2.0",
       "_view_name": "LayoutView",
       "align_content": null,
       "align_items": null,
       "align_self": null,
       "border": null,
       "bottom": null,
       "display": null,
       "flex": null,
       "flex_flow": null,
       "grid_area": null,
       "grid_auto_columns": null,
       "grid_auto_flow": null,
       "grid_auto_rows": null,
       "grid_column": null,
       "grid_gap": null,
       "grid_row": null,
       "grid_template_areas": null,
       "grid_template_columns": null,
       "grid_template_rows": null,
       "height": null,
       "justify_content": null,
       "justify_items": null,
       "left": null,
       "margin": null,
       "max_height": null,
       "max_width": null,
       "min_height": null,
       "min_width": null,
       "object_fit": null,
       "object_position": null,
       "order": null,
       "overflow": null,
       "overflow_x": null,
       "overflow_y": null,
       "padding": null,
       "right": null,
       "top": null,
       "visibility": null,
       "width": null
      }
     },
     "2f27113da2bd433294b130a15d1f952b": {
      "model_module": "@jupyter-widgets/controls",
      "model_module_version": "1.5.0",
      "model_name": "HTMLModel",
      "state": {
       "_dom_classes": [],
       "_model_module": "@jupyter-widgets/controls",
       "_model_module_version": "1.5.0",
       "_model_name": "HTMLModel",
       "_view_count": null,
       "_view_module": "@jupyter-widgets/controls",
       "_view_module_version": "1.5.0",
       "_view_name": "HTMLView",
       "description": "",
       "description_tooltip": null,
       "layout": "IPY_MODEL_3028e034e6cd425da993b768771eebe6",
       "placeholder": "​",
       "style": "IPY_MODEL_fe1074ba210e490fa924e685508f01f8",
       "value": " 1.05M/1.05M [00:00&lt;00:00, 1.71MB/s]"
      }
     },
     "3028e034e6cd425da993b768771eebe6": {
      "model_module": "@jupyter-widgets/base",
      "model_module_version": "1.2.0",
      "model_name": "LayoutModel",
      "state": {
       "_model_module": "@jupyter-widgets/base",
       "_model_module_version": "1.2.0",
       "_model_name": "LayoutModel",
       "_view_count": null,
       "_view_module": "@jupyter-widgets/base",
       "_view_module_version": "1.2.0",
       "_view_name": "LayoutView",
       "align_content": null,
       "align_items": null,
       "align_self": null,
       "border": null,
       "bottom": null,
       "display": null,
       "flex": null,
       "flex_flow": null,
       "grid_area": null,
       "grid_auto_columns": null,
       "grid_auto_flow": null,
       "grid_auto_rows": null,
       "grid_column": null,
       "grid_gap": null,
       "grid_row": null,
       "grid_template_areas": null,
       "grid_template_columns": null,
       "grid_template_rows": null,
       "height": null,
       "justify_content": null,
       "justify_items": null,
       "left": null,
       "margin": null,
       "max_height": null,
       "max_width": null,
       "min_height": null,
       "min_width": null,
       "object_fit": null,
       "object_position": null,
       "order": null,
       "overflow": null,
       "overflow_x": null,
       "overflow_y": null,
       "padding": null,
       "right": null,
       "top": null,
       "visibility": null,
       "width": null
      }
     },
     "326b21884a344aed88b704fe8cd8fa00": {
      "model_module": "@jupyter-widgets/controls",
      "model_module_version": "1.5.0",
      "model_name": "HBoxModel",
      "state": {
       "_dom_classes": [],
       "_model_module": "@jupyter-widgets/controls",
       "_model_module_version": "1.5.0",
       "_model_name": "HBoxModel",
       "_view_count": null,
       "_view_module": "@jupyter-widgets/controls",
       "_view_module_version": "1.5.0",
       "_view_name": "HBoxView",
       "box_style": "",
       "children": [
        "IPY_MODEL_ed3dd61f5a47463597688666fdc47d98",
        "IPY_MODEL_e54af169153b4836911db0f9c0436a1a",
        "IPY_MODEL_7824b26f100c42388e2adcb6da79c931"
       ],
       "layout": "IPY_MODEL_d8b2b009939b404ca8fc4e6c6870f7ef"
      }
     },
     "39236fa713854f6995b966a3f828c24e": {
      "model_module": "@jupyter-widgets/controls",
      "model_module_version": "1.5.0",
      "model_name": "HBoxModel",
      "state": {
       "_dom_classes": [],
       "_model_module": "@jupyter-widgets/controls",
       "_model_module_version": "1.5.0",
       "_model_name": "HBoxModel",
       "_view_count": null,
       "_view_module": "@jupyter-widgets/controls",
       "_view_module_version": "1.5.0",
       "_view_name": "HBoxView",
       "box_style": "",
       "children": [
        "IPY_MODEL_0031345ea1b9406bb11373c5e8c482a6",
        "IPY_MODEL_e09228c1530f440f949f164e1e769386",
        "IPY_MODEL_2f27113da2bd433294b130a15d1f952b"
       ],
       "layout": "IPY_MODEL_4325292b2fe9439aa0e044d6487173af"
      }
     },
     "3c12d8edd5a74b118ece17e654075488": {
      "model_module": "@jupyter-widgets/base",
      "model_module_version": "1.2.0",
      "model_name": "LayoutModel",
      "state": {
       "_model_module": "@jupyter-widgets/base",
       "_model_module_version": "1.2.0",
       "_model_name": "LayoutModel",
       "_view_count": null,
       "_view_module": "@jupyter-widgets/base",
       "_view_module_version": "1.2.0",
       "_view_name": "LayoutView",
       "align_content": null,
       "align_items": null,
       "align_self": null,
       "border": null,
       "bottom": null,
       "display": null,
       "flex": null,
       "flex_flow": null,
       "grid_area": null,
       "grid_auto_columns": null,
       "grid_auto_flow": null,
       "grid_auto_rows": null,
       "grid_column": null,
       "grid_gap": null,
       "grid_row": null,
       "grid_template_areas": null,
       "grid_template_columns": null,
       "grid_template_rows": null,
       "height": null,
       "justify_content": null,
       "justify_items": null,
       "left": null,
       "margin": null,
       "max_height": null,
       "max_width": null,
       "min_height": null,
       "min_width": null,
       "object_fit": null,
       "object_position": null,
       "order": null,
       "overflow": null,
       "overflow_x": null,
       "overflow_y": null,
       "padding": null,
       "right": null,
       "top": null,
       "visibility": null,
       "width": null
      }
     },
     "4325292b2fe9439aa0e044d6487173af": {
      "model_module": "@jupyter-widgets/base",
      "model_module_version": "1.2.0",
      "model_name": "LayoutModel",
      "state": {
       "_model_module": "@jupyter-widgets/base",
       "_model_module_version": "1.2.0",
       "_model_name": "LayoutModel",
       "_view_count": null,
       "_view_module": "@jupyter-widgets/base",
       "_view_module_version": "1.2.0",
       "_view_name": "LayoutView",
       "align_content": null,
       "align_items": null,
       "align_self": null,
       "border": null,
       "bottom": null,
       "display": null,
       "flex": null,
       "flex_flow": null,
       "grid_area": null,
       "grid_auto_columns": null,
       "grid_auto_flow": null,
       "grid_auto_rows": null,
       "grid_column": null,
       "grid_gap": null,
       "grid_row": null,
       "grid_template_areas": null,
       "grid_template_columns": null,
       "grid_template_rows": null,
       "height": null,
       "justify_content": null,
       "justify_items": null,
       "left": null,
       "margin": null,
       "max_height": null,
       "max_width": null,
       "min_height": null,
       "min_width": null,
       "object_fit": null,
       "object_position": null,
       "order": null,
       "overflow": null,
       "overflow_x": null,
       "overflow_y": null,
       "padding": null,
       "right": null,
       "top": null,
       "visibility": null,
       "width": null
      }
     },
     "4359e47971a64b99b59bb47a5efadb57": {
      "model_module": "@jupyter-widgets/controls",
      "model_module_version": "1.5.0",
      "model_name": "ProgressStyleModel",
      "state": {
       "_model_module": "@jupyter-widgets/controls",
       "_model_module_version": "1.5.0",
       "_model_name": "ProgressStyleModel",
       "_view_count": null,
       "_view_module": "@jupyter-widgets/base",
       "_view_module_version": "1.2.0",
       "_view_name": "StyleView",
       "bar_color": null,
       "description_width": ""
      }
     },
     "4bf33e1d72a84a9caeceea30ce5667dd": {
      "model_module": "@jupyter-widgets/controls",
      "model_module_version": "1.5.0",
      "model_name": "HTMLModel",
      "state": {
       "_dom_classes": [],
       "_model_module": "@jupyter-widgets/controls",
       "_model_module_version": "1.5.0",
       "_model_name": "HTMLModel",
       "_view_count": null,
       "_view_module": "@jupyter-widgets/controls",
       "_view_module_version": "1.5.0",
       "_view_name": "HTMLView",
       "description": "",
       "description_tooltip": null,
       "layout": "IPY_MODEL_c7757912eb7848afa59d7ba4b07fda65",
       "placeholder": "​",
       "style": "IPY_MODEL_96414f637f594fcf9e95564290dc00d0",
       "value": " 1.44k/1.44k [00:00&lt;00:00, 50.3kB/s]"
      }
     },
     "5470ffc3b370438a9f731d8aac7559c1": {
      "model_module": "@jupyter-widgets/controls",
      "model_module_version": "1.5.0",
      "model_name": "FloatProgressModel",
      "state": {
       "_dom_classes": [],
       "_model_module": "@jupyter-widgets/controls",
       "_model_module_version": "1.5.0",
       "_model_name": "FloatProgressModel",
       "_view_count": null,
       "_view_module": "@jupyter-widgets/controls",
       "_view_module_version": "1.5.0",
       "_view_name": "ProgressView",
       "bar_style": "success",
       "description": "",
       "description_tooltip": null,
       "layout": "IPY_MODEL_20c924070b61461a8fbd225124da52f0",
       "max": 1472.0,
       "min": 0.0,
       "orientation": "horizontal",
       "style": "IPY_MODEL_dae76c80ff46422cad8fc61d8ef4a0a0",
       "value": 1472.0
      }
     },
     "5fc37c8cb8a54b708f343ea6377513b3": {
      "model_module": "@jupyter-widgets/controls",
      "model_module_version": "1.5.0",
      "model_name": "DescriptionStyleModel",
      "state": {
       "_model_module": "@jupyter-widgets/controls",
       "_model_module_version": "1.5.0",
       "_model_name": "DescriptionStyleModel",
       "_view_count": null,
       "_view_module": "@jupyter-widgets/base",
       "_view_module_version": "1.2.0",
       "_view_name": "StyleView",
       "description_width": ""
      }
     },
     "6f6c05f4f7ec46f18acd71b9d4cca8ea": {
      "model_module": "@jupyter-widgets/controls",
      "model_module_version": "1.5.0",
      "model_name": "FloatProgressModel",
      "state": {
       "_dom_classes": [],
       "_model_module": "@jupyter-widgets/controls",
       "_model_module_version": "1.5.0",
       "_model_name": "FloatProgressModel",
       "_view_count": null,
       "_view_module": "@jupyter-widgets/controls",
       "_view_module_version": "1.5.0",
       "_view_name": "ProgressView",
       "bar_style": "",
       "description": "",
       "description_tooltip": null,
       "layout": "IPY_MODEL_074e4ea953d1406da79ebd449490184a",
       "max": 1.0,
       "min": 0.0,
       "orientation": "horizontal",
       "style": "IPY_MODEL_ec072ab50e5c47e8a32d3089c31485ac",
       "value": 0.0
      }
     },
     "7824b26f100c42388e2adcb6da79c931": {
      "model_module": "@jupyter-widgets/controls",
      "model_module_version": "1.5.0",
      "model_name": "HTMLModel",
      "state": {
       "_dom_classes": [],
       "_model_module": "@jupyter-widgets/controls",
       "_model_module_version": "1.5.0",
       "_model_name": "HTMLModel",
       "_view_count": null,
       "_view_module": "@jupyter-widgets/controls",
       "_view_module_version": "1.5.0",
       "_view_name": "HTMLView",
       "description": "",
       "description_tooltip": null,
       "layout": "IPY_MODEL_c3909b2cbecb49099919f30ad35eb422",
       "placeholder": "​",
       "style": "IPY_MODEL_5fc37c8cb8a54b708f343ea6377513b3",
       "value": " 944M/944M [00:36&lt;00:00, 31.0MB/s]"
      }
     },
     "849b5689d07346c99111bd471a72ad91": {
      "model_module": "@jupyter-widgets/controls",
      "model_module_version": "1.5.0",
      "model_name": "DescriptionStyleModel",
      "state": {
       "_model_module": "@jupyter-widgets/controls",
       "_model_module_version": "1.5.0",
       "_model_name": "DescriptionStyleModel",
       "_view_count": null,
       "_view_module": "@jupyter-widgets/base",
       "_view_module_version": "1.2.0",
       "_view_name": "StyleView",
       "description_width": ""
      }
     },
     "8a48e8715b54443184b0d007dfd6437d": {
      "model_module": "@jupyter-widgets/controls",
      "model_module_version": "1.5.0",
      "model_name": "VBoxModel",
      "state": {
       "_dom_classes": [],
       "_model_module": "@jupyter-widgets/controls",
       "_model_module_version": "1.5.0",
       "_model_name": "VBoxModel",
       "_view_count": null,
       "_view_module": "@jupyter-widgets/controls",
       "_view_module_version": "1.5.0",
       "_view_name": "VBoxView",
       "box_style": "",
       "children": [
        "IPY_MODEL_0e70f404ea914eb09c5ea81365e0d02c",
        "IPY_MODEL_cff159b5f9714ebe9f7db545faf5b1df"
       ],
       "layout": "IPY_MODEL_3c12d8edd5a74b118ece17e654075488"
      }
     },
     "91de346d4795475eaf134ad2ef408bbc": {
      "model_module": "@jupyter-widgets/base",
      "model_module_version": "1.2.0",
      "model_name": "LayoutModel",
      "state": {
       "_model_module": "@jupyter-widgets/base",
       "_model_module_version": "1.2.0",
       "_model_name": "LayoutModel",
       "_view_count": null,
       "_view_module": "@jupyter-widgets/base",
       "_view_module_version": "1.2.0",
       "_view_name": "LayoutView",
       "align_content": null,
       "align_items": null,
       "align_self": null,
       "border": null,
       "bottom": null,
       "display": null,
       "flex": null,
       "flex_flow": null,
       "grid_area": null,
       "grid_auto_columns": null,
       "grid_auto_flow": null,
       "grid_auto_rows": null,
       "grid_column": null,
       "grid_gap": null,
       "grid_row": null,
       "grid_template_areas": null,
       "grid_template_columns": null,
       "grid_template_rows": null,
       "height": null,
       "justify_content": null,
       "justify_items": null,
       "left": null,
       "margin": null,
       "max_height": null,
       "max_width": null,
       "min_height": null,
       "min_width": null,
       "object_fit": null,
       "object_position": null,
       "order": null,
       "overflow": null,
       "overflow_x": null,
       "overflow_y": null,
       "padding": null,
       "right": null,
       "top": null,
       "visibility": null,
       "width": null
      }
     },
     "96414f637f594fcf9e95564290dc00d0": {
      "model_module": "@jupyter-widgets/controls",
      "model_module_version": "1.5.0",
      "model_name": "DescriptionStyleModel",
      "state": {
       "_model_module": "@jupyter-widgets/controls",
       "_model_module_version": "1.5.0",
       "_model_name": "DescriptionStyleModel",
       "_view_count": null,
       "_view_module": "@jupyter-widgets/base",
       "_view_module_version": "1.2.0",
       "_view_name": "StyleView",
       "description_width": ""
      }
     },
     "b386471ad5a14a6da7cd7c6bccba3f3b": {
      "model_module": "@jupyter-widgets/base",
      "model_module_version": "1.2.0",
      "model_name": "LayoutModel",
      "state": {
       "_model_module": "@jupyter-widgets/base",
       "_model_module_version": "1.2.0",
       "_model_name": "LayoutModel",
       "_view_count": null,
       "_view_module": "@jupyter-widgets/base",
       "_view_module_version": "1.2.0",
       "_view_name": "LayoutView",
       "align_content": null,
       "align_items": null,
       "align_self": null,
       "border": null,
       "bottom": null,
       "display": null,
       "flex": null,
       "flex_flow": null,
       "grid_area": null,
       "grid_auto_columns": null,
       "grid_auto_flow": null,
       "grid_auto_rows": null,
       "grid_column": null,
       "grid_gap": null,
       "grid_row": null,
       "grid_template_areas": null,
       "grid_template_columns": null,
       "grid_template_rows": null,
       "height": null,
       "justify_content": null,
       "justify_items": null,
       "left": null,
       "margin": null,
       "max_height": null,
       "max_width": null,
       "min_height": null,
       "min_width": null,
       "object_fit": null,
       "object_position": null,
       "order": null,
       "overflow": null,
       "overflow_x": null,
       "overflow_y": null,
       "padding": null,
       "right": null,
       "top": null,
       "visibility": null,
       "width": null
      }
     },
     "bc00a11250334c5f8d3a0a9d69a54e87": {
      "model_module": "@jupyter-widgets/base",
      "model_module_version": "1.2.0",
      "model_name": "LayoutModel",
      "state": {
       "_model_module": "@jupyter-widgets/base",
       "_model_module_version": "1.2.0",
       "_model_name": "LayoutModel",
       "_view_count": null,
       "_view_module": "@jupyter-widgets/base",
       "_view_module_version": "1.2.0",
       "_view_name": "LayoutView",
       "align_content": null,
       "align_items": null,
       "align_self": null,
       "border": null,
       "bottom": null,
       "display": null,
       "flex": null,
       "flex_flow": null,
       "grid_area": null,
       "grid_auto_columns": null,
       "grid_auto_flow": null,
       "grid_auto_rows": null,
       "grid_column": null,
       "grid_gap": null,
       "grid_row": null,
       "grid_template_areas": null,
       "grid_template_columns": null,
       "grid_template_rows": null,
       "height": null,
       "justify_content": null,
       "justify_items": null,
       "left": null,
       "margin": null,
       "max_height": null,
       "max_width": null,
       "min_height": null,
       "min_width": null,
       "object_fit": null,
       "object_position": null,
       "order": null,
       "overflow": null,
       "overflow_x": null,
       "overflow_y": null,
       "padding": null,
       "right": null,
       "top": null,
       "visibility": null,
       "width": null
      }
     },
     "bf4d02a6d3ed47a6a5089c1affbbb237": {
      "model_module": "@jupyter-widgets/controls",
      "model_module_version": "1.5.0",
      "model_name": "LabelModel",
      "state": {
       "_dom_classes": [],
       "_model_module": "@jupyter-widgets/controls",
       "_model_module_version": "1.5.0",
       "_model_name": "LabelModel",
       "_view_count": null,
       "_view_module": "@jupyter-widgets/controls",
       "_view_module_version": "1.5.0",
       "_view_name": "LabelView",
       "description": "",
       "description_tooltip": null,
       "layout": "IPY_MODEL_c7e54ee7b62641cc816e2b406c629822",
       "placeholder": "​",
       "style": "IPY_MODEL_1bcef4635678452bbdac336090de37c5",
       "value": ""
      }
     },
     "c248d2d1bde14cd9a33482a0ae6b351e": {
      "model_module": "@jupyter-widgets/controls",
      "model_module_version": "1.5.0",
      "model_name": "ProgressStyleModel",
      "state": {
       "_model_module": "@jupyter-widgets/controls",
       "_model_module_version": "1.5.0",
       "_model_name": "ProgressStyleModel",
       "_view_count": null,
       "_view_module": "@jupyter-widgets/base",
       "_view_module_version": "1.2.0",
       "_view_name": "StyleView",
       "bar_color": null,
       "description_width": ""
      }
     },
     "c3909b2cbecb49099919f30ad35eb422": {
      "model_module": "@jupyter-widgets/base",
      "model_module_version": "1.2.0",
      "model_name": "LayoutModel",
      "state": {
       "_model_module": "@jupyter-widgets/base",
       "_model_module_version": "1.2.0",
       "_model_name": "LayoutModel",
       "_view_count": null,
       "_view_module": "@jupyter-widgets/base",
       "_view_module_version": "1.2.0",
       "_view_name": "LayoutView",
       "align_content": null,
       "align_items": null,
       "align_self": null,
       "border": null,
       "bottom": null,
       "display": null,
       "flex": null,
       "flex_flow": null,
       "grid_area": null,
       "grid_auto_columns": null,
       "grid_auto_flow": null,
       "grid_auto_rows": null,
       "grid_column": null,
       "grid_gap": null,
       "grid_row": null,
       "grid_template_areas": null,
       "grid_template_columns": null,
       "grid_template_rows": null,
       "height": null,
       "justify_content": null,
       "justify_items": null,
       "left": null,
       "margin": null,
       "max_height": null,
       "max_width": null,
       "min_height": null,
       "min_width": null,
       "object_fit": null,
       "object_position": null,
       "order": null,
       "overflow": null,
       "overflow_x": null,
       "overflow_y": null,
       "padding": null,
       "right": null,
       "top": null,
       "visibility": null,
       "width": null
      }
     },
     "c7757912eb7848afa59d7ba4b07fda65": {
      "model_module": "@jupyter-widgets/base",
      "model_module_version": "1.2.0",
      "model_name": "LayoutModel",
      "state": {
       "_model_module": "@jupyter-widgets/base",
       "_model_module_version": "1.2.0",
       "_model_name": "LayoutModel",
       "_view_count": null,
       "_view_module": "@jupyter-widgets/base",
       "_view_module_version": "1.2.0",
       "_view_name": "LayoutView",
       "align_content": null,
       "align_items": null,
       "align_self": null,
       "border": null,
       "bottom": null,
       "display": null,
       "flex": null,
       "flex_flow": null,
       "grid_area": null,
       "grid_auto_columns": null,
       "grid_auto_flow": null,
       "grid_auto_rows": null,
       "grid_column": null,
       "grid_gap": null,
       "grid_row": null,
       "grid_template_areas": null,
       "grid_template_columns": null,
       "grid_template_rows": null,
       "height": null,
       "justify_content": null,
       "justify_items": null,
       "left": null,
       "margin": null,
       "max_height": null,
       "max_width": null,
       "min_height": null,
       "min_width": null,
       "object_fit": null,
       "object_position": null,
       "order": null,
       "overflow": null,
       "overflow_x": null,
       "overflow_y": null,
       "padding": null,
       "right": null,
       "top": null,
       "visibility": null,
       "width": null
      }
     },
     "c7e54ee7b62641cc816e2b406c629822": {
      "model_module": "@jupyter-widgets/base",
      "model_module_version": "1.2.0",
      "model_name": "LayoutModel",
      "state": {
       "_model_module": "@jupyter-widgets/base",
       "_model_module_version": "1.2.0",
       "_model_name": "LayoutModel",
       "_view_count": null,
       "_view_module": "@jupyter-widgets/base",
       "_view_module_version": "1.2.0",
       "_view_name": "LayoutView",
       "align_content": null,
       "align_items": null,
       "align_self": null,
       "border": null,
       "bottom": null,
       "display": null,
       "flex": null,
       "flex_flow": null,
       "grid_area": null,
       "grid_auto_columns": null,
       "grid_auto_flow": null,
       "grid_auto_rows": null,
       "grid_column": null,
       "grid_gap": null,
       "grid_row": null,
       "grid_template_areas": null,
       "grid_template_columns": null,
       "grid_template_rows": null,
       "height": null,
       "justify_content": null,
       "justify_items": null,
       "left": null,
       "margin": null,
       "max_height": null,
       "max_width": null,
       "min_height": null,
       "min_width": null,
       "object_fit": null,
       "object_position": null,
       "order": null,
       "overflow": null,
       "overflow_x": null,
       "overflow_y": null,
       "padding": null,
       "right": null,
       "top": null,
       "visibility": null,
       "width": null
      }
     },
     "cff159b5f9714ebe9f7db545faf5b1df": {
      "model_module": "@jupyter-widgets/controls",
      "model_module_version": "1.5.0",
      "model_name": "FloatProgressModel",
      "state": {
       "_dom_classes": [],
       "_model_module": "@jupyter-widgets/controls",
       "_model_module_version": "1.5.0",
       "_model_name": "FloatProgressModel",
       "_view_count": null,
       "_view_module": "@jupyter-widgets/controls",
       "_view_module_version": "1.5.0",
       "_view_name": "ProgressView",
       "bar_style": "",
       "description": "",
       "description_tooltip": null,
       "layout": "IPY_MODEL_f13de87162494bf79bc618b32364fdeb",
       "max": 1.0,
       "min": 0.0,
       "orientation": "horizontal",
       "style": "IPY_MODEL_c248d2d1bde14cd9a33482a0ae6b351e",
       "value": 0.0
      }
     },
     "d8b2b009939b404ca8fc4e6c6870f7ef": {
      "model_module": "@jupyter-widgets/base",
      "model_module_version": "1.2.0",
      "model_name": "LayoutModel",
      "state": {
       "_model_module": "@jupyter-widgets/base",
       "_model_module_version": "1.2.0",
       "_model_name": "LayoutModel",
       "_view_count": null,
       "_view_module": "@jupyter-widgets/base",
       "_view_module_version": "1.2.0",
       "_view_name": "LayoutView",
       "align_content": null,
       "align_items": null,
       "align_self": null,
       "border": null,
       "bottom": null,
       "display": null,
       "flex": null,
       "flex_flow": null,
       "grid_area": null,
       "grid_auto_columns": null,
       "grid_auto_flow": null,
       "grid_auto_rows": null,
       "grid_column": null,
       "grid_gap": null,
       "grid_row": null,
       "grid_template_areas": null,
       "grid_template_columns": null,
       "grid_template_rows": null,
       "height": null,
       "justify_content": null,
       "justify_items": null,
       "left": null,
       "margin": null,
       "max_height": null,
       "max_width": null,
       "min_height": null,
       "min_width": null,
       "object_fit": null,
       "object_position": null,
       "order": null,
       "overflow": null,
       "overflow_x": null,
       "overflow_y": null,
       "padding": null,
       "right": null,
       "top": null,
       "visibility": null,
       "width": null
      }
     },
     "da49fb64a1554cb88f0675409acda806": {
      "model_module": "@jupyter-widgets/base",
      "model_module_version": "1.2.0",
      "model_name": "LayoutModel",
      "state": {
       "_model_module": "@jupyter-widgets/base",
       "_model_module_version": "1.2.0",
       "_model_name": "LayoutModel",
       "_view_count": null,
       "_view_module": "@jupyter-widgets/base",
       "_view_module_version": "1.2.0",
       "_view_name": "LayoutView",
       "align_content": null,
       "align_items": null,
       "align_self": null,
       "border": null,
       "bottom": null,
       "display": null,
       "flex": null,
       "flex_flow": null,
       "grid_area": null,
       "grid_auto_columns": null,
       "grid_auto_flow": null,
       "grid_auto_rows": null,
       "grid_column": null,
       "grid_gap": null,
       "grid_row": null,
       "grid_template_areas": null,
       "grid_template_columns": null,
       "grid_template_rows": null,
       "height": null,
       "justify_content": null,
       "justify_items": null,
       "left": null,
       "margin": null,
       "max_height": null,
       "max_width": null,
       "min_height": null,
       "min_width": null,
       "object_fit": null,
       "object_position": null,
       "order": null,
       "overflow": null,
       "overflow_x": null,
       "overflow_y": null,
       "padding": null,
       "right": null,
       "top": null,
       "visibility": null,
       "width": null
      }
     },
     "dae76c80ff46422cad8fc61d8ef4a0a0": {
      "model_module": "@jupyter-widgets/controls",
      "model_module_version": "1.5.0",
      "model_name": "ProgressStyleModel",
      "state": {
       "_model_module": "@jupyter-widgets/controls",
       "_model_module_version": "1.5.0",
       "_model_name": "ProgressStyleModel",
       "_view_count": null,
       "_view_module": "@jupyter-widgets/base",
       "_view_module_version": "1.2.0",
       "_view_name": "StyleView",
       "bar_color": null,
       "description_width": ""
      }
     },
     "e09228c1530f440f949f164e1e769386": {
      "model_module": "@jupyter-widgets/controls",
      "model_module_version": "1.5.0",
      "model_name": "FloatProgressModel",
      "state": {
       "_dom_classes": [],
       "_model_module": "@jupyter-widgets/controls",
       "_model_module_version": "1.5.0",
       "_model_name": "FloatProgressModel",
       "_view_count": null,
       "_view_module": "@jupyter-widgets/controls",
       "_view_module_version": "1.5.0",
       "_view_name": "ProgressView",
       "bar_style": "success",
       "description": "",
       "description_tooltip": null,
       "layout": "IPY_MODEL_bc00a11250334c5f8d3a0a9d69a54e87",
       "max": 1104921.0,
       "min": 0.0,
       "orientation": "horizontal",
       "style": "IPY_MODEL_eeee000550d44bf98aa555436540e231",
       "value": 1104921.0
      }
     },
     "e54af169153b4836911db0f9c0436a1a": {
      "model_module": "@jupyter-widgets/controls",
      "model_module_version": "1.5.0",
      "model_name": "FloatProgressModel",
      "state": {
       "_dom_classes": [],
       "_model_module": "@jupyter-widgets/controls",
       "_model_module_version": "1.5.0",
       "_model_name": "FloatProgressModel",
       "_view_count": null,
       "_view_module": "@jupyter-widgets/controls",
       "_view_module_version": "1.5.0",
       "_view_name": "ProgressView",
       "bar_style": "success",
       "description": "",
       "description_tooltip": null,
       "layout": "IPY_MODEL_da49fb64a1554cb88f0675409acda806",
       "max": 990271101.0,
       "min": 0.0,
       "orientation": "horizontal",
       "style": "IPY_MODEL_4359e47971a64b99b59bb47a5efadb57",
       "value": 990271101.0
      }
     },
     "e730a7242163445eafc79e10c37e655c": {
      "model_module": "@jupyter-widgets/controls",
      "model_module_version": "1.5.0",
      "model_name": "DescriptionStyleModel",
      "state": {
       "_model_module": "@jupyter-widgets/controls",
       "_model_module_version": "1.5.0",
       "_model_name": "DescriptionStyleModel",
       "_view_count": null,
       "_view_module": "@jupyter-widgets/base",
       "_view_module_version": "1.2.0",
       "_view_name": "StyleView",
       "description_width": ""
      }
     },
     "e7d7051610e3471fb20be60fcbbac941": {
      "model_module": "@jupyter-widgets/base",
      "model_module_version": "1.2.0",
      "model_name": "LayoutModel",
      "state": {
       "_model_module": "@jupyter-widgets/base",
       "_model_module_version": "1.2.0",
       "_model_name": "LayoutModel",
       "_view_count": null,
       "_view_module": "@jupyter-widgets/base",
       "_view_module_version": "1.2.0",
       "_view_name": "LayoutView",
       "align_content": null,
       "align_items": null,
       "align_self": null,
       "border": null,
       "bottom": null,
       "display": null,
       "flex": null,
       "flex_flow": null,
       "grid_area": null,
       "grid_auto_columns": null,
       "grid_auto_flow": null,
       "grid_auto_rows": null,
       "grid_column": null,
       "grid_gap": null,
       "grid_row": null,
       "grid_template_areas": null,
       "grid_template_columns": null,
       "grid_template_rows": null,
       "height": null,
       "justify_content": null,
       "justify_items": null,
       "left": null,
       "margin": null,
       "max_height": null,
       "max_width": null,
       "min_height": null,
       "min_width": null,
       "object_fit": null,
       "object_position": null,
       "order": null,
       "overflow": null,
       "overflow_x": null,
       "overflow_y": null,
       "padding": null,
       "right": null,
       "top": null,
       "visibility": null,
       "width": null
      }
     },
     "ec072ab50e5c47e8a32d3089c31485ac": {
      "model_module": "@jupyter-widgets/controls",
      "model_module_version": "1.5.0",
      "model_name": "ProgressStyleModel",
      "state": {
       "_model_module": "@jupyter-widgets/controls",
       "_model_module_version": "1.5.0",
       "_model_name": "ProgressStyleModel",
       "_view_count": null,
       "_view_module": "@jupyter-widgets/base",
       "_view_module_version": "1.2.0",
       "_view_name": "StyleView",
       "bar_color": null,
       "description_width": ""
      }
     },
     "ed3dd61f5a47463597688666fdc47d98": {
      "model_module": "@jupyter-widgets/controls",
      "model_module_version": "1.5.0",
      "model_name": "HTMLModel",
      "state": {
       "_dom_classes": [],
       "_model_module": "@jupyter-widgets/controls",
       "_model_module_version": "1.5.0",
       "_model_name": "HTMLModel",
       "_view_count": null,
       "_view_module": "@jupyter-widgets/controls",
       "_view_module_version": "1.5.0",
       "_view_name": "HTMLView",
       "description": "",
       "description_tooltip": null,
       "layout": "IPY_MODEL_03b44823b4914045bfea997238755635",
       "placeholder": "​",
       "style": "IPY_MODEL_849b5689d07346c99111bd471a72ad91",
       "value": "Downloading: 100%"
      }
     },
     "eeee000550d44bf98aa555436540e231": {
      "model_module": "@jupyter-widgets/controls",
      "model_module_version": "1.5.0",
      "model_name": "ProgressStyleModel",
      "state": {
       "_model_module": "@jupyter-widgets/controls",
       "_model_module_version": "1.5.0",
       "_model_name": "ProgressStyleModel",
       "_view_count": null,
       "_view_module": "@jupyter-widgets/base",
       "_view_module_version": "1.2.0",
       "_view_name": "StyleView",
       "bar_color": null,
       "description_width": ""
      }
     },
     "f13de87162494bf79bc618b32364fdeb": {
      "model_module": "@jupyter-widgets/base",
      "model_module_version": "1.2.0",
      "model_name": "LayoutModel",
      "state": {
       "_model_module": "@jupyter-widgets/base",
       "_model_module_version": "1.2.0",
       "_model_name": "LayoutModel",
       "_view_count": null,
       "_view_module": "@jupyter-widgets/base",
       "_view_module_version": "1.2.0",
       "_view_name": "LayoutView",
       "align_content": null,
       "align_items": null,
       "align_self": null,
       "border": null,
       "bottom": null,
       "display": null,
       "flex": null,
       "flex_flow": null,
       "grid_area": null,
       "grid_auto_columns": null,
       "grid_auto_flow": null,
       "grid_auto_rows": null,
       "grid_column": null,
       "grid_gap": null,
       "grid_row": null,
       "grid_template_areas": null,
       "grid_template_columns": null,
       "grid_template_rows": null,
       "height": null,
       "justify_content": null,
       "justify_items": null,
       "left": null,
       "margin": null,
       "max_height": null,
       "max_width": null,
       "min_height": null,
       "min_width": null,
       "object_fit": null,
       "object_position": null,
       "order": null,
       "overflow": null,
       "overflow_x": null,
       "overflow_y": null,
       "padding": null,
       "right": null,
       "top": null,
       "visibility": null,
       "width": null
      }
     },
     "fe1074ba210e490fa924e685508f01f8": {
      "model_module": "@jupyter-widgets/controls",
      "model_module_version": "1.5.0",
      "model_name": "DescriptionStyleModel",
      "state": {
       "_model_module": "@jupyter-widgets/controls",
       "_model_module_version": "1.5.0",
       "_model_name": "DescriptionStyleModel",
       "_view_count": null,
       "_view_module": "@jupyter-widgets/base",
       "_view_module_version": "1.2.0",
       "_view_name": "StyleView",
       "description_width": ""
      }
     }
    },
    "version_major": 2,
    "version_minor": 0
   }
  }
 },
 "nbformat": 4,
 "nbformat_minor": 5
}
