{
 "cells": [
  {
   "cell_type": "markdown",
   "id": "35b86184-f9ec-4b06-b2e6-85a2f70b9c0d",
   "metadata": {},
   "source": [
    "# Package and dependencies "
   ]
  },
  {
   "cell_type": "code",
   "execution_count": 1,
   "id": "8e3cdfc1-bc84-48b0-9b34-4a4c58f1f0c7",
   "metadata": {},
   "outputs": [],
   "source": [
    "#from google.colab import drive\n",
    "#drive.mount('/content/drive')"
   ]
  },
  {
   "cell_type": "code",
   "execution_count": 2,
   "id": "b1aef150-2717-4c29-b89c-d242a1da6b95",
   "metadata": {},
   "outputs": [],
   "source": [
    "model_checkpoint = \"facebook/wav2vec2-large-xlsr-53\"\n",
    "batch_size = 16\n",
    "train_size = 20000"
   ]
  },
  {
   "cell_type": "code",
   "execution_count": 3,
   "id": "a319e417-c309-4680-856e-642eae5d1299",
   "metadata": {},
   "outputs": [
    {
     "name": "stdout",
     "output_type": "stream",
     "text": [
      "Requirement already satisfied: torchaudio in /home/venerable_white/.conda/envs/pytorch/lib/python3.10/site-packages (0.11.0)\n",
      "Requirement already satisfied: torch in /home/venerable_white/.conda/envs/pytorch/lib/python3.10/site-packages (from torchaudio) (1.11.0)\n",
      "Requirement already satisfied: typing_extensions in /home/venerable_white/.conda/envs/pytorch/lib/python3.10/site-packages (from torch->torchaudio) (4.1.1)\n",
      "Requirement already satisfied: seaborn in /home/venerable_white/.conda/envs/pytorch/lib/python3.10/site-packages (0.11.2)\n",
      "Requirement already satisfied: scipy>=1.0 in /home/venerable_white/.conda/envs/pytorch/lib/python3.10/site-packages (from seaborn) (1.8.1)\n",
      "Requirement already satisfied: numpy>=1.15 in /home/venerable_white/.conda/envs/pytorch/lib/python3.10/site-packages (from seaborn) (1.22.3)\n",
      "Requirement already satisfied: matplotlib>=2.2 in /home/venerable_white/.conda/envs/pytorch/lib/python3.10/site-packages (from seaborn) (3.5.2)\n",
      "Requirement already satisfied: pandas>=0.23 in /home/venerable_white/.conda/envs/pytorch/lib/python3.10/site-packages (from seaborn) (1.4.2)\n",
      "Requirement already satisfied: python-dateutil>=2.7 in /home/venerable_white/.conda/envs/pytorch/lib/python3.10/site-packages (from matplotlib>=2.2->seaborn) (2.8.2)\n",
      "Requirement already satisfied: cycler>=0.10 in /home/venerable_white/.conda/envs/pytorch/lib/python3.10/site-packages (from matplotlib>=2.2->seaborn) (0.11.0)\n",
      "Requirement already satisfied: kiwisolver>=1.0.1 in /home/venerable_white/.conda/envs/pytorch/lib/python3.10/site-packages (from matplotlib>=2.2->seaborn) (1.4.3)\n",
      "Requirement already satisfied: pillow>=6.2.0 in /home/venerable_white/.conda/envs/pytorch/lib/python3.10/site-packages (from matplotlib>=2.2->seaborn) (9.0.1)\n",
      "Requirement already satisfied: fonttools>=4.22.0 in /home/venerable_white/.conda/envs/pytorch/lib/python3.10/site-packages (from matplotlib>=2.2->seaborn) (4.33.3)\n",
      "Requirement already satisfied: packaging>=20.0 in /home/venerable_white/.conda/envs/pytorch/lib/python3.10/site-packages (from matplotlib>=2.2->seaborn) (21.3)\n",
      "Requirement already satisfied: pyparsing>=2.2.1 in /home/venerable_white/.conda/envs/pytorch/lib/python3.10/site-packages (from matplotlib>=2.2->seaborn) (3.0.9)\n",
      "Requirement already satisfied: pytz>=2020.1 in /home/venerable_white/.conda/envs/pytorch/lib/python3.10/site-packages (from pandas>=0.23->seaborn) (2022.1)\n",
      "Requirement already satisfied: six>=1.5 in /home/venerable_white/.conda/envs/pytorch/lib/python3.10/site-packages (from python-dateutil>=2.7->matplotlib>=2.2->seaborn) (1.16.0)\n",
      "Requirement already satisfied: kaggle in /home/venerable_white/.conda/envs/pytorch/lib/python3.10/site-packages (1.5.12)\n",
      "Requirement already satisfied: certifi in /home/venerable_white/.conda/envs/pytorch/lib/python3.10/site-packages (from kaggle) (2022.6.15)\n",
      "Requirement already satisfied: tqdm in /home/venerable_white/.conda/envs/pytorch/lib/python3.10/site-packages (from kaggle) (4.64.0)\n",
      "Requirement already satisfied: python-slugify in /home/venerable_white/.conda/envs/pytorch/lib/python3.10/site-packages (from kaggle) (6.1.2)\n",
      "Requirement already satisfied: six>=1.10 in /home/venerable_white/.conda/envs/pytorch/lib/python3.10/site-packages (from kaggle) (1.16.0)\n",
      "Requirement already satisfied: requests in /home/venerable_white/.conda/envs/pytorch/lib/python3.10/site-packages (from kaggle) (2.27.1)\n",
      "Requirement already satisfied: urllib3 in /home/venerable_white/.conda/envs/pytorch/lib/python3.10/site-packages (from kaggle) (1.26.9)\n",
      "Requirement already satisfied: python-dateutil in /home/venerable_white/.conda/envs/pytorch/lib/python3.10/site-packages (from kaggle) (2.8.2)\n",
      "Requirement already satisfied: text-unidecode>=1.3 in /home/venerable_white/.conda/envs/pytorch/lib/python3.10/site-packages (from python-slugify->kaggle) (1.3)\n",
      "Requirement already satisfied: idna<4,>=2.5 in /home/venerable_white/.conda/envs/pytorch/lib/python3.10/site-packages (from requests->kaggle) (3.3)\n",
      "Requirement already satisfied: charset-normalizer~=2.0.0 in /home/venerable_white/.conda/envs/pytorch/lib/python3.10/site-packages (from requests->kaggle) (2.0.4)\n",
      "Requirement already satisfied: transformers in /home/venerable_white/.conda/envs/pytorch/lib/python3.10/site-packages (4.20.1)\n",
      "Requirement already satisfied: tokenizers!=0.11.3,<0.13,>=0.11.1 in /home/venerable_white/.conda/envs/pytorch/lib/python3.10/site-packages (from transformers) (0.12.1)\n",
      "Requirement already satisfied: filelock in /home/venerable_white/.conda/envs/pytorch/lib/python3.10/site-packages (from transformers) (3.7.1)\n",
      "Requirement already satisfied: huggingface-hub<1.0,>=0.1.0 in /home/venerable_white/.conda/envs/pytorch/lib/python3.10/site-packages (from transformers) (0.8.1)\n",
      "Requirement already satisfied: pyyaml>=5.1 in /home/venerable_white/.conda/envs/pytorch/lib/python3.10/site-packages (from transformers) (6.0)\n",
      "Requirement already satisfied: tqdm>=4.27 in /home/venerable_white/.conda/envs/pytorch/lib/python3.10/site-packages (from transformers) (4.64.0)\n",
      "Requirement already satisfied: packaging>=20.0 in /home/venerable_white/.conda/envs/pytorch/lib/python3.10/site-packages (from transformers) (21.3)\n",
      "Requirement already satisfied: requests in /home/venerable_white/.conda/envs/pytorch/lib/python3.10/site-packages (from transformers) (2.27.1)\n",
      "Requirement already satisfied: numpy>=1.17 in /home/venerable_white/.conda/envs/pytorch/lib/python3.10/site-packages (from transformers) (1.22.3)\n",
      "Requirement already satisfied: regex!=2019.12.17 in /home/venerable_white/.conda/envs/pytorch/lib/python3.10/site-packages (from transformers) (2022.6.2)\n",
      "Requirement already satisfied: typing-extensions>=3.7.4.3 in /home/venerable_white/.conda/envs/pytorch/lib/python3.10/site-packages (from huggingface-hub<1.0,>=0.1.0->transformers) (4.1.1)\n",
      "Requirement already satisfied: pyparsing!=3.0.5,>=2.0.2 in /home/venerable_white/.conda/envs/pytorch/lib/python3.10/site-packages (from packaging>=20.0->transformers) (3.0.9)\n",
      "Requirement already satisfied: certifi>=2017.4.17 in /home/venerable_white/.conda/envs/pytorch/lib/python3.10/site-packages (from requests->transformers) (2022.6.15)\n",
      "Requirement already satisfied: charset-normalizer~=2.0.0 in /home/venerable_white/.conda/envs/pytorch/lib/python3.10/site-packages (from requests->transformers) (2.0.4)\n",
      "Requirement already satisfied: idna<4,>=2.5 in /home/venerable_white/.conda/envs/pytorch/lib/python3.10/site-packages (from requests->transformers) (3.3)\n",
      "Requirement already satisfied: urllib3<1.27,>=1.21.1 in /home/venerable_white/.conda/envs/pytorch/lib/python3.10/site-packages (from requests->transformers) (1.26.9)\n",
      "Requirement already satisfied: datasets in /home/venerable_white/.conda/envs/pytorch/lib/python3.10/site-packages (2.3.2)\n",
      "Requirement already satisfied: multiprocess in /home/venerable_white/.conda/envs/pytorch/lib/python3.10/site-packages (from datasets) (0.70.13)\n",
      "Requirement already satisfied: numpy>=1.17 in /home/venerable_white/.conda/envs/pytorch/lib/python3.10/site-packages (from datasets) (1.22.3)\n",
      "Requirement already satisfied: responses<0.19 in /home/venerable_white/.conda/envs/pytorch/lib/python3.10/site-packages (from datasets) (0.18.0)\n",
      "Requirement already satisfied: dill<0.3.6 in /home/venerable_white/.conda/envs/pytorch/lib/python3.10/site-packages (from datasets) (0.3.5.1)\n",
      "Requirement already satisfied: xxhash in /home/venerable_white/.conda/envs/pytorch/lib/python3.10/site-packages (from datasets) (3.0.0)\n",
      "Requirement already satisfied: tqdm>=4.62.1 in /home/venerable_white/.conda/envs/pytorch/lib/python3.10/site-packages (from datasets) (4.64.0)\n",
      "Requirement already satisfied: pandas in /home/venerable_white/.conda/envs/pytorch/lib/python3.10/site-packages (from datasets) (1.4.2)\n",
      "Requirement already satisfied: huggingface-hub<1.0.0,>=0.1.0 in /home/venerable_white/.conda/envs/pytorch/lib/python3.10/site-packages (from datasets) (0.8.1)\n",
      "Requirement already satisfied: packaging in /home/venerable_white/.conda/envs/pytorch/lib/python3.10/site-packages (from datasets) (21.3)\n",
      "Requirement already satisfied: requests>=2.19.0 in /home/venerable_white/.conda/envs/pytorch/lib/python3.10/site-packages (from datasets) (2.27.1)\n",
      "Requirement already satisfied: pyarrow>=6.0.0 in /home/venerable_white/.conda/envs/pytorch/lib/python3.10/site-packages (from datasets) (8.0.0)\n",
      "Requirement already satisfied: fsspec[http]>=2021.05.0 in /home/venerable_white/.conda/envs/pytorch/lib/python3.10/site-packages (from datasets) (2021.5.0)\n",
      "Requirement already satisfied: aiohttp in /home/venerable_white/.conda/envs/pytorch/lib/python3.10/site-packages (from datasets) (3.8.1)\n",
      "Requirement already satisfied: filelock in /home/venerable_white/.conda/envs/pytorch/lib/python3.10/site-packages (from huggingface-hub<1.0.0,>=0.1.0->datasets) (3.7.1)\n",
      "Requirement already satisfied: pyyaml>=5.1 in /home/venerable_white/.conda/envs/pytorch/lib/python3.10/site-packages (from huggingface-hub<1.0.0,>=0.1.0->datasets) (6.0)\n",
      "Requirement already satisfied: typing-extensions>=3.7.4.3 in /home/venerable_white/.conda/envs/pytorch/lib/python3.10/site-packages (from huggingface-hub<1.0.0,>=0.1.0->datasets) (4.1.1)\n",
      "Requirement already satisfied: pyparsing!=3.0.5,>=2.0.2 in /home/venerable_white/.conda/envs/pytorch/lib/python3.10/site-packages (from packaging->datasets) (3.0.9)\n",
      "Requirement already satisfied: charset-normalizer~=2.0.0 in /home/venerable_white/.conda/envs/pytorch/lib/python3.10/site-packages (from requests>=2.19.0->datasets) (2.0.4)\n",
      "Requirement already satisfied: certifi>=2017.4.17 in /home/venerable_white/.conda/envs/pytorch/lib/python3.10/site-packages (from requests>=2.19.0->datasets) (2022.6.15)\n",
      "Requirement already satisfied: idna<4,>=2.5 in /home/venerable_white/.conda/envs/pytorch/lib/python3.10/site-packages (from requests>=2.19.0->datasets) (3.3)\n",
      "Requirement already satisfied: urllib3<1.27,>=1.21.1 in /home/venerable_white/.conda/envs/pytorch/lib/python3.10/site-packages (from requests>=2.19.0->datasets) (1.26.9)\n",
      "Requirement already satisfied: multidict<7.0,>=4.5 in /home/venerable_white/.conda/envs/pytorch/lib/python3.10/site-packages (from aiohttp->datasets) (6.0.2)\n",
      "Requirement already satisfied: frozenlist>=1.1.1 in /home/venerable_white/.conda/envs/pytorch/lib/python3.10/site-packages (from aiohttp->datasets) (1.3.0)\n",
      "Requirement already satisfied: aiosignal>=1.1.2 in /home/venerable_white/.conda/envs/pytorch/lib/python3.10/site-packages (from aiohttp->datasets) (1.2.0)\n",
      "Requirement already satisfied: yarl<2.0,>=1.0 in /home/venerable_white/.conda/envs/pytorch/lib/python3.10/site-packages (from aiohttp->datasets) (1.7.2)\n",
      "Requirement already satisfied: async-timeout<5.0,>=4.0.0a3 in /home/venerable_white/.conda/envs/pytorch/lib/python3.10/site-packages (from aiohttp->datasets) (4.0.2)\n",
      "Requirement already satisfied: attrs>=17.3.0 in /home/venerable_white/.conda/envs/pytorch/lib/python3.10/site-packages (from aiohttp->datasets) (21.4.0)\n",
      "Requirement already satisfied: pytz>=2020.1 in /home/venerable_white/.conda/envs/pytorch/lib/python3.10/site-packages (from pandas->datasets) (2022.1)\n",
      "Requirement already satisfied: python-dateutil>=2.8.1 in /home/venerable_white/.conda/envs/pytorch/lib/python3.10/site-packages (from pandas->datasets) (2.8.2)\n",
      "Requirement already satisfied: six>=1.5 in /home/venerable_white/.conda/envs/pytorch/lib/python3.10/site-packages (from python-dateutil>=2.8.1->pandas->datasets) (1.16.0)\n",
      "Requirement already satisfied: fsspec==2021.5.0 in /home/venerable_white/.conda/envs/pytorch/lib/python3.10/site-packages (2021.5.0)\n",
      "Requirement already satisfied: jiwer==2.2.0 in /home/venerable_white/.conda/envs/pytorch/lib/python3.10/site-packages (2.2.0)\n",
      "Requirement already satisfied: python-Levenshtein in /home/venerable_white/.conda/envs/pytorch/lib/python3.10/site-packages (from jiwer==2.2.0) (0.12.2)\n",
      "Requirement already satisfied: numpy in /home/venerable_white/.conda/envs/pytorch/lib/python3.10/site-packages (from jiwer==2.2.0) (1.22.3)\n",
      "Requirement already satisfied: setuptools in /home/venerable_white/.conda/envs/pytorch/lib/python3.10/site-packages (from python-Levenshtein->jiwer==2.2.0) (61.2.0)\n",
      "Requirement already satisfied: pydub in /home/venerable_white/.conda/envs/pytorch/lib/python3.10/site-packages (0.25.1)\n",
      "^C\n",
      "\u001b[31mERROR: Operation cancelled by user\u001b[0m\n",
      "Requirement already satisfied: librosa in /home/venerable_white/.conda/envs/pytorch/lib/python3.10/site-packages (0.9.2)\n",
      "Requirement already satisfied: scikit-learn>=0.19.1 in /home/venerable_white/.conda/envs/pytorch/lib/python3.10/site-packages (from librosa) (1.1.1)\n",
      "Requirement already satisfied: numpy>=1.17.0 in /home/venerable_white/.conda/envs/pytorch/lib/python3.10/site-packages (from librosa) (1.22.3)\n",
      "Requirement already satisfied: joblib>=0.14 in /home/venerable_white/.conda/envs/pytorch/lib/python3.10/site-packages (from librosa) (1.1.0)\n",
      "Requirement already satisfied: packaging>=20.0 in /home/venerable_white/.conda/envs/pytorch/lib/python3.10/site-packages (from librosa) (21.3)\n",
      "Requirement already satisfied: decorator>=4.0.10 in /home/venerable_white/.local/lib/python3.10/site-packages (from librosa) (5.1.1)\n",
      "Requirement already satisfied: resampy>=0.2.2 in /home/venerable_white/.conda/envs/pytorch/lib/python3.10/site-packages (from librosa) (0.3.1)\n",
      "Requirement already satisfied: numba>=0.45.1 in /home/venerable_white/.conda/envs/pytorch/lib/python3.10/site-packages (from librosa) (0.55.2)\n",
      "Requirement already satisfied: audioread>=2.1.9 in /home/venerable_white/.conda/envs/pytorch/lib/python3.10/site-packages (from librosa) (2.1.9)\n",
      "Requirement already satisfied: soundfile>=0.10.2 in /home/venerable_white/.conda/envs/pytorch/lib/python3.10/site-packages (from librosa) (0.10.3.post1)\n",
      "Requirement already satisfied: pooch>=1.0 in /home/venerable_white/.conda/envs/pytorch/lib/python3.10/site-packages (from librosa) (1.6.0)\n",
      "Requirement already satisfied: scipy>=1.2.0 in /home/venerable_white/.conda/envs/pytorch/lib/python3.10/site-packages (from librosa) (1.8.1)\n",
      "Requirement already satisfied: setuptools in /home/venerable_white/.conda/envs/pytorch/lib/python3.10/site-packages (from numba>=0.45.1->librosa) (61.2.0)\n",
      "Requirement already satisfied: llvmlite<0.39,>=0.38.0rc1 in /home/venerable_white/.conda/envs/pytorch/lib/python3.10/site-packages (from numba>=0.45.1->librosa) (0.38.1)\n",
      "Requirement already satisfied: pyparsing!=3.0.5,>=2.0.2 in /home/venerable_white/.conda/envs/pytorch/lib/python3.10/site-packages (from packaging>=20.0->librosa) (3.0.9)\n",
      "Requirement already satisfied: requests>=2.19.0 in /home/venerable_white/.conda/envs/pytorch/lib/python3.10/site-packages (from pooch>=1.0->librosa) (2.27.1)\n",
      "Requirement already satisfied: appdirs>=1.3.0 in /home/venerable_white/.conda/envs/pytorch/lib/python3.10/site-packages (from pooch>=1.0->librosa) (1.4.4)\n",
      "Requirement already satisfied: idna<4,>=2.5 in /home/venerable_white/.conda/envs/pytorch/lib/python3.10/site-packages (from requests>=2.19.0->pooch>=1.0->librosa) (3.3)\n",
      "Requirement already satisfied: urllib3<1.27,>=1.21.1 in /home/venerable_white/.conda/envs/pytorch/lib/python3.10/site-packages (from requests>=2.19.0->pooch>=1.0->librosa) (1.26.9)\n",
      "Requirement already satisfied: certifi>=2017.4.17 in /home/venerable_white/.conda/envs/pytorch/lib/python3.10/site-packages (from requests>=2.19.0->pooch>=1.0->librosa) (2022.6.15)\n",
      "Requirement already satisfied: charset-normalizer~=2.0.0 in /home/venerable_white/.conda/envs/pytorch/lib/python3.10/site-packages (from requests>=2.19.0->pooch>=1.0->librosa) (2.0.4)\n",
      "Requirement already satisfied: threadpoolctl>=2.0.0 in /home/venerable_white/.conda/envs/pytorch/lib/python3.10/site-packages (from scikit-learn>=0.19.1->librosa) (3.1.0)\n",
      "Requirement already satisfied: cffi>=1.0 in /home/venerable_white/.conda/envs/pytorch/lib/python3.10/site-packages (from soundfile>=0.10.2->librosa) (1.15.0)\n",
      "Requirement already satisfied: pycparser in /home/venerable_white/.conda/envs/pytorch/lib/python3.10/site-packages (from cffi>=1.0->soundfile>=0.10.2->librosa) (2.21)\n",
      "^C\n",
      "\u001b[31mERROR: Operation cancelled by user\u001b[0m\n",
      "Requirement already satisfied: bnunicodenormalizer in /home/venerable_white/.conda/envs/pytorch/lib/python3.10/site-packages (0.0.19)\n",
      "Requirement already satisfied: pandarallel in /home/venerable_white/.conda/envs/pytorch/lib/python3.10/site-packages (1.6.1)\n",
      "Requirement already satisfied: psutil in /home/venerable_white/.conda/envs/pytorch/lib/python3.10/site-packages (from pandarallel) (5.9.1)\n",
      "Requirement already satisfied: dill>=0.3.1 in /home/venerable_white/.conda/envs/pytorch/lib/python3.10/site-packages (from pandarallel) (0.3.5.1)\n",
      "Requirement already satisfied: pandas>=1 in /home/venerable_white/.conda/envs/pytorch/lib/python3.10/site-packages (from pandarallel) (1.4.2)\n",
      "Requirement already satisfied: pytz>=2020.1 in /home/venerable_white/.conda/envs/pytorch/lib/python3.10/site-packages (from pandas>=1->pandarallel) (2022.1)\n",
      "Requirement already satisfied: numpy>=1.21.0 in /home/venerable_white/.conda/envs/pytorch/lib/python3.10/site-packages (from pandas>=1->pandarallel) (1.22.3)\n",
      "Requirement already satisfied: python-dateutil>=2.8.1 in /home/venerable_white/.conda/envs/pytorch/lib/python3.10/site-packages (from pandas>=1->pandarallel) (2.8.2)\n",
      "Requirement already satisfied: six>=1.5 in /home/venerable_white/.conda/envs/pytorch/lib/python3.10/site-packages (from python-dateutil>=2.8.1->pandas>=1->pandarallel) (1.16.0)\n"
     ]
    }
   ],
   "source": [
    "!pip install torchaudio\n",
    "!pip install seaborn\n",
    "!pip install kaggle\n",
    "!pip install -U transformers\n",
    "!pip install datasets\n",
    "!pip install fsspec==2021.5.0\n",
    "!pip install jiwer==2.2.0\n",
    "!pip install pydub\n",
    "!pip install librosa\n",
    "!pip install bnunicodenormalizer\n",
    "!pip install pandarallel\n",
    "!pip install accelerate \n",
    "!pip install nvidia-ml-py3"
   ]
  },
  {
   "cell_type": "code",
   "execution_count": 4,
   "id": "3815591a-3b14-4e70-9762-2725afc0157b",
   "metadata": {},
   "outputs": [
    {
     "data": {
      "text/plain": [
       "'\\n!mkdir /root/.kaggle\\n\\n\\nimport json\\ndictionary ={\\n\"username\":\"mushrafimunim\",\\n\"key\":\"e5c337a189ee0a5c867ff83c21df4d2a\"\\n}\\n  \\njson_object = json.dumps(dictionary, indent = 4)\\n  \\nwith open(\"kaggle.json\", \"w\") as outfile:\\n    outfile.write(json_object)\\n\\n%mv kaggle.json /root/.kaggle/kaggle.json\\n'"
      ]
     },
     "execution_count": 4,
     "metadata": {},
     "output_type": "execute_result"
    }
   ],
   "source": [
    "# unhash for collab only\n",
    "'''\n",
    "!mkdir /root/.kaggle\n",
    "\n",
    "\n",
    "import json\n",
    "dictionary ={\n",
    "\"username\":\"mushrafimunim\",\n",
    "\"key\":\"e5c337a189ee0a5c867ff83c21df4d2a\"\n",
    "}\n",
    "  \n",
    "json_object = json.dumps(dictionary, indent = 4)\n",
    "  \n",
    "with open(\"kaggle.json\", \"w\") as outfile:\n",
    "    outfile.write(json_object)\n",
    "\n",
    "%mv kaggle.json /root/.kaggle/kaggle.json\n",
    "'''"
   ]
  },
  {
   "cell_type": "code",
   "execution_count": 3,
   "id": "bf81016d-3f18-4174-9161-4c940c792c54",
   "metadata": {},
   "outputs": [
    {
     "name": "stderr",
     "output_type": "stream",
     "text": [
      "OMP: Info #276: omp_set_nested routine deprecated, please use omp_set_max_active_levels instead.\n"
     ]
    },
    {
     "name": "stdout",
     "output_type": "stream",
     "text": [
      "INFO: Pandarallel will run on 8 workers.\n",
      "INFO: Pandarallel will use Memory file system to transfer data between the main process and workers.\n"
     ]
    }
   ],
   "source": [
    "import numpy as np\n",
    "import pandas as pd\n",
    "import random\n",
    "import ast\n",
    "from tqdm import tqdm\n",
    "from IPython import display as ipd\n",
    "\n",
    "# visualization\n",
    "import matplotlib.pyplot as plt\n",
    "from tabulate import tabulate\n",
    "import seaborn as sns\n",
    "#system files\n",
    "import os\n",
    "import json\n",
    "import re\n",
    "import glob\n",
    "\n",
    "import zipfile\n",
    "import shutil\n",
    "import gc\n",
    "from pydub import AudioSegment\n",
    "from joblib import Parallel, delayed\n",
    "\n",
    "#transformers\n",
    "from transformers import AutoTokenizer,AutoFeatureExtractor,AutoConfig,AutoModel,Wav2Vec2CTCTokenizer,Wav2Vec2ForCTC,Wav2Vec2Processor,Trainer,TrainingArguments,Wav2Vec2FeatureExtractor,get_linear_schedule_with_warmup,set_seed\n",
    "\n",
    "\n",
    "# PyTorch \n",
    "import torch\n",
    "import torchaudio\n",
    "import torch.nn as nn\n",
    "import torch.optim as optim\n",
    "from torch.optim import lr_scheduler\n",
    "from torch.utils.data import Dataset, DataLoader\n",
    "from torch.cuda import amp\n",
    "import torch.nn.functional as F\n",
    "import torchaudio.functional as FT\n",
    "import torchaudio.transforms as TT\n",
    "\n",
    "\n",
    "#sklearn\n",
    "from sklearn.model_selection import train_test_split\n",
    "from datasets import load_dataset, load_metric,Dataset,concatenate_datasets,set_caching_enabled, ClassLabel\n",
    "\n",
    "import librosa\n",
    "\n",
    "#normalization\n",
    "from pandarallel import pandarallel\n",
    "from bnunicodenormalizer import Normalizer \n",
    "pandarallel.initialize(progress_bar=True,nb_workers=8)\n",
    "tqdm.pandas()\n",
    "bnorm=Normalizer()\n",
    "\n",
    "# Set environment variables\n",
    "import warnings\n",
    "warnings.filterwarnings('ignore')"
   ]
  },
  {
   "cell_type": "code",
   "execution_count": 113,
   "id": "5e2e4540-7629-4e5f-8e94-7e955e3cba13",
   "metadata": {},
   "outputs": [
    {
     "name": "stdout",
     "output_type": "stream",
     "text": [
      "Warning: Your Kaggle API key is readable by other users on this system! To fix this, you can run 'chmod 600 /home/venerable_white/.kaggle/kaggle.json'\n",
      "^C\n",
      "unzip:  cannot find or open dlsprint.zip, dlsprint.zip.zip or dlsprint.zip.ZIP.\n",
      "fatal: destination path 'dlsprint' already exists and is not an empty directory.\n"
     ]
    }
   ],
   "source": [
    "#unhash for collab only\n",
    "'''\n",
    "!kaggle competitions download -c dlsprint\n",
    "\n",
    "!unzip dlsprint.zip\n",
    "\n",
    "!rm -rf dlsprint.zip\n",
    "!git clone https://gitlab.com/mushrafi88/dlsprint.git\n",
    "!cp /content/dlsprint/vocab.json /content/\n",
    "'''"
   ]
  },
  {
   "cell_type": "code",
   "execution_count": 114,
   "id": "501a94f5-d8b1-4b9b-afa2-843eeeb18943",
   "metadata": {},
   "outputs": [],
   "source": [
    "df_train = pd.read_csv('train.csv')\n",
    "df_validation = pd.read_csv('validation.csv')"
   ]
  },
  {
   "cell_type": "code",
   "execution_count": 115,
   "id": "6d0fd395-314a-4d65-a690-2e32f21f0b13",
   "metadata": {},
   "outputs": [],
   "source": [
    "#!cd train_files;for file in *.mp3;do l=$(echo -n \"$file,\"echo $(ffprobe $file 2>&1 | grep 'Duration' | cut -d',' -f1 | cut -d' ' -f4 | cut -d'.' -f1));echo \"$l\" >> train_files_duration.csv ;done\n",
    "#!sed -i '1s/^/path,duration\\n/' train_files_duration.csv"
   ]
  },
  {
   "cell_type": "code",
   "execution_count": 222,
   "id": "8e7f6626-b440-4bb3-b0ba-170ce36a6115",
   "metadata": {},
   "outputs": [],
   "source": [
    "df_test_files_duration = pd.read_csv('dlsprint/test_files_duration.csv')\n",
    "df_validation_files_duration = pd.read_csv('dlsprint/validation_files_duration.csv')\n",
    "df_train_files_duration = pd.read_csv('dlsprint/train_files_duration.csv')"
   ]
  },
  {
   "cell_type": "code",
   "execution_count": 117,
   "id": "2e4af98e-e855-4160-ae17-05dedff5a3e5",
   "metadata": {},
   "outputs": [
    {
     "data": {
      "text/html": [
       "<div>\n",
       "<style scoped>\n",
       "    .dataframe tbody tr th:only-of-type {\n",
       "        vertical-align: middle;\n",
       "    }\n",
       "\n",
       "    .dataframe tbody tr th {\n",
       "        vertical-align: top;\n",
       "    }\n",
       "\n",
       "    .dataframe thead th {\n",
       "        text-align: right;\n",
       "    }\n",
       "</style>\n",
       "<table border=\"1\" class=\"dataframe\">\n",
       "  <thead>\n",
       "    <tr style=\"text-align: right;\">\n",
       "      <th></th>\n",
       "      <th>path</th>\n",
       "      <th>duration</th>\n",
       "    </tr>\n",
       "  </thead>\n",
       "  <tbody>\n",
       "    <tr>\n",
       "      <th>0</th>\n",
       "      <td>common_voice_bn_30707481.mp3</td>\n",
       "      <td>00:00:07</td>\n",
       "    </tr>\n",
       "    <tr>\n",
       "      <th>1</th>\n",
       "      <td>common_voice_bn_30707482.mp3</td>\n",
       "      <td>00:00:03</td>\n",
       "    </tr>\n",
       "    <tr>\n",
       "      <th>2</th>\n",
       "      <td>common_voice_bn_30707852.mp3</td>\n",
       "      <td>00:00:07</td>\n",
       "    </tr>\n",
       "    <tr>\n",
       "      <th>3</th>\n",
       "      <td>common_voice_bn_30767853.mp3</td>\n",
       "      <td>00:00:08</td>\n",
       "    </tr>\n",
       "    <tr>\n",
       "      <th>4</th>\n",
       "      <td>common_voice_bn_30991817.mp3</td>\n",
       "      <td>00:00:04</td>\n",
       "    </tr>\n",
       "    <tr>\n",
       "      <th>...</th>\n",
       "      <td>...</td>\n",
       "      <td>...</td>\n",
       "    </tr>\n",
       "    <tr>\n",
       "      <th>7742</th>\n",
       "      <td>common_voice_bn_31805693.mp3</td>\n",
       "      <td>00:00:06</td>\n",
       "    </tr>\n",
       "    <tr>\n",
       "      <th>7743</th>\n",
       "      <td>common_voice_bn_31805703.mp3</td>\n",
       "      <td>00:00:06</td>\n",
       "    </tr>\n",
       "    <tr>\n",
       "      <th>7744</th>\n",
       "      <td>common_voice_bn_31806931.mp3</td>\n",
       "      <td>00:00:04</td>\n",
       "    </tr>\n",
       "    <tr>\n",
       "      <th>7745</th>\n",
       "      <td>common_voice_bn_31807164.mp3</td>\n",
       "      <td>00:00:07</td>\n",
       "    </tr>\n",
       "    <tr>\n",
       "      <th>7746</th>\n",
       "      <td>common_voice_bn_31817866.mp3</td>\n",
       "      <td>00:00:08</td>\n",
       "    </tr>\n",
       "  </tbody>\n",
       "</table>\n",
       "<p>7747 rows × 2 columns</p>\n",
       "</div>"
      ],
      "text/plain": [
       "                              path  duration\n",
       "0     common_voice_bn_30707481.mp3  00:00:07\n",
       "1     common_voice_bn_30707482.mp3  00:00:03\n",
       "2     common_voice_bn_30707852.mp3  00:00:07\n",
       "3     common_voice_bn_30767853.mp3  00:00:08\n",
       "4     common_voice_bn_30991817.mp3  00:00:04\n",
       "...                            ...       ...\n",
       "7742  common_voice_bn_31805693.mp3  00:00:06\n",
       "7743  common_voice_bn_31805703.mp3  00:00:06\n",
       "7744  common_voice_bn_31806931.mp3  00:00:04\n",
       "7745  common_voice_bn_31807164.mp3  00:00:07\n",
       "7746  common_voice_bn_31817866.mp3  00:00:08\n",
       "\n",
       "[7747 rows x 2 columns]"
      ]
     },
     "execution_count": 117,
     "metadata": {},
     "output_type": "execute_result"
    }
   ],
   "source": [
    "df_test_files_duration"
   ]
  },
  {
   "cell_type": "code",
   "execution_count": 118,
   "id": "b69b682a-7142-4ca0-82cb-f5657ce575c1",
   "metadata": {},
   "outputs": [
    {
     "data": {
      "text/html": [
       "<div>\n",
       "<style scoped>\n",
       "    .dataframe tbody tr th:only-of-type {\n",
       "        vertical-align: middle;\n",
       "    }\n",
       "\n",
       "    .dataframe tbody tr th {\n",
       "        vertical-align: top;\n",
       "    }\n",
       "\n",
       "    .dataframe thead th {\n",
       "        text-align: right;\n",
       "    }\n",
       "</style>\n",
       "<table border=\"1\" class=\"dataframe\">\n",
       "  <thead>\n",
       "    <tr style=\"text-align: right;\">\n",
       "      <th></th>\n",
       "      <th>client_id</th>\n",
       "      <th>path</th>\n",
       "      <th>sentence</th>\n",
       "      <th>up_votes</th>\n",
       "      <th>down_votes</th>\n",
       "      <th>age</th>\n",
       "      <th>gender</th>\n",
       "      <th>accents</th>\n",
       "      <th>locale</th>\n",
       "    </tr>\n",
       "  </thead>\n",
       "  <tbody>\n",
       "    <tr>\n",
       "      <th>0</th>\n",
       "      <td>6c274d3678353b62f5d3465c771e4a8c5cd917186a5323...</td>\n",
       "      <td>common_voice_bn_30991326.mp3</td>\n",
       "      <td>বাবা সত্যেন ঘোষ।</td>\n",
       "      <td>1.0</td>\n",
       "      <td>1.0</td>\n",
       "      <td>NaN</td>\n",
       "      <td>NaN</td>\n",
       "      <td>NaN</td>\n",
       "      <td>bn</td>\n",
       "    </tr>\n",
       "    <tr>\n",
       "      <th>1</th>\n",
       "      <td>3991c2cfe1be64e77f2f6bdaeaae601219af906c1295cd...</td>\n",
       "      <td>common_voice_bn_30991371.mp3</td>\n",
       "      <td>দেওয়ান ফরিদ গাজী বাংলাদেশ আওয়ামী লীগের উপদেষ...</td>\n",
       "      <td>1.0</td>\n",
       "      <td>0.0</td>\n",
       "      <td>NaN</td>\n",
       "      <td>NaN</td>\n",
       "      <td>NaN</td>\n",
       "      <td>bn</td>\n",
       "    </tr>\n",
       "    <tr>\n",
       "      <th>2</th>\n",
       "      <td>3991c2cfe1be64e77f2f6bdaeaae601219af906c1295cd...</td>\n",
       "      <td>common_voice_bn_30991410.mp3</td>\n",
       "      <td>এর মাধ্যমে কারও গান গাওয়া দক্ষতা বা নিজস্ব ধর...</td>\n",
       "      <td>0.0</td>\n",
       "      <td>0.0</td>\n",
       "      <td>NaN</td>\n",
       "      <td>NaN</td>\n",
       "      <td>NaN</td>\n",
       "      <td>bn</td>\n",
       "    </tr>\n",
       "    <tr>\n",
       "      <th>3</th>\n",
       "      <td>08cb638755d8adbe55e3149211af88853e0d77785397f9...</td>\n",
       "      <td>common_voice_bn_30991432.mp3</td>\n",
       "      <td>আপনি খুব একটা কথা বলার লোক নন, তাই না?</td>\n",
       "      <td>0.0</td>\n",
       "      <td>0.0</td>\n",
       "      <td>NaN</td>\n",
       "      <td>NaN</td>\n",
       "      <td>NaN</td>\n",
       "      <td>bn</td>\n",
       "    </tr>\n",
       "    <tr>\n",
       "      <th>4</th>\n",
       "      <td>51215b6882d5fdc8a9856b095793244085341470a888f5...</td>\n",
       "      <td>common_voice_bn_30991478.mp3</td>\n",
       "      <td>আপনি খুব একটা কথা বলার লোক নন, তাই না?</td>\n",
       "      <td>0.0</td>\n",
       "      <td>0.0</td>\n",
       "      <td>NaN</td>\n",
       "      <td>NaN</td>\n",
       "      <td>চট্টগ্রামের ভাষার সামান্য টানসহ মোটামুটি প্রমি...</td>\n",
       "      <td>bn</td>\n",
       "    </tr>\n",
       "    <tr>\n",
       "      <th>...</th>\n",
       "      <td>...</td>\n",
       "      <td>...</td>\n",
       "      <td>...</td>\n",
       "      <td>...</td>\n",
       "      <td>...</td>\n",
       "      <td>...</td>\n",
       "      <td>...</td>\n",
       "      <td>...</td>\n",
       "      <td>...</td>\n",
       "    </tr>\n",
       "    <tr>\n",
       "      <th>206945</th>\n",
       "      <td>0a0db76f30e3d011216425efa204fa0d3064767656b913...</td>\n",
       "      <td>common_voice_bn_31802418.mp3</td>\n",
       "      <td>রাণীগঞ্জ মূলত এখানকার কয়লা খনি এবং খনিজ সংক্র...</td>\n",
       "      <td>2.0</td>\n",
       "      <td>0.0</td>\n",
       "      <td>twenties</td>\n",
       "      <td>male</td>\n",
       "      <td>রাঢ়ী উপভাষা</td>\n",
       "      <td>bn</td>\n",
       "    </tr>\n",
       "    <tr>\n",
       "      <th>206946</th>\n",
       "      <td>0a0db76f30e3d011216425efa204fa0d3064767656b913...</td>\n",
       "      <td>common_voice_bn_31802540.mp3</td>\n",
       "      <td>ওহাইও নদীর মুখোমুখি অবস্থিত, কারখানাটি লম্বা এ...</td>\n",
       "      <td>2.0</td>\n",
       "      <td>0.0</td>\n",
       "      <td>twenties</td>\n",
       "      <td>male</td>\n",
       "      <td>রাঢ়ী উপভাষা</td>\n",
       "      <td>bn</td>\n",
       "    </tr>\n",
       "    <tr>\n",
       "      <th>206947</th>\n",
       "      <td>0a0db76f30e3d011216425efa204fa0d3064767656b913...</td>\n",
       "      <td>common_voice_bn_31802606.mp3</td>\n",
       "      <td>উল্লেখ্য যে, আইন অমান্য আন্দোলনে বাংলার মুসলমা...</td>\n",
       "      <td>2.0</td>\n",
       "      <td>0.0</td>\n",
       "      <td>twenties</td>\n",
       "      <td>male</td>\n",
       "      <td>রাঢ়ী উপভাষা</td>\n",
       "      <td>bn</td>\n",
       "    </tr>\n",
       "    <tr>\n",
       "      <th>206948</th>\n",
       "      <td>0a0db76f30e3d011216425efa204fa0d3064767656b913...</td>\n",
       "      <td>common_voice_bn_31815460.mp3</td>\n",
       "      <td>তিনি রাজস্থানের প্রতাপগড় জেলা থেকে রাজস্থান ব...</td>\n",
       "      <td>2.0</td>\n",
       "      <td>0.0</td>\n",
       "      <td>twenties</td>\n",
       "      <td>male</td>\n",
       "      <td>রাঢ়ী উপভাষা</td>\n",
       "      <td>bn</td>\n",
       "    </tr>\n",
       "    <tr>\n",
       "      <th>206949</th>\n",
       "      <td>0a0db76f30e3d011216425efa204fa0d3064767656b913...</td>\n",
       "      <td>common_voice_bn_31831275.mp3</td>\n",
       "      <td>ইয়েল ইউনিভার্সিটি, অন্য সংবাদপত্রের সাথে যোগা...</td>\n",
       "      <td>2.0</td>\n",
       "      <td>0.0</td>\n",
       "      <td>twenties</td>\n",
       "      <td>male</td>\n",
       "      <td>রাঢ়ী উপভাষা</td>\n",
       "      <td>bn</td>\n",
       "    </tr>\n",
       "  </tbody>\n",
       "</table>\n",
       "<p>206950 rows × 9 columns</p>\n",
       "</div>"
      ],
      "text/plain": [
       "                                                client_id  \\\n",
       "0       6c274d3678353b62f5d3465c771e4a8c5cd917186a5323...   \n",
       "1       3991c2cfe1be64e77f2f6bdaeaae601219af906c1295cd...   \n",
       "2       3991c2cfe1be64e77f2f6bdaeaae601219af906c1295cd...   \n",
       "3       08cb638755d8adbe55e3149211af88853e0d77785397f9...   \n",
       "4       51215b6882d5fdc8a9856b095793244085341470a888f5...   \n",
       "...                                                   ...   \n",
       "206945  0a0db76f30e3d011216425efa204fa0d3064767656b913...   \n",
       "206946  0a0db76f30e3d011216425efa204fa0d3064767656b913...   \n",
       "206947  0a0db76f30e3d011216425efa204fa0d3064767656b913...   \n",
       "206948  0a0db76f30e3d011216425efa204fa0d3064767656b913...   \n",
       "206949  0a0db76f30e3d011216425efa204fa0d3064767656b913...   \n",
       "\n",
       "                                path  \\\n",
       "0       common_voice_bn_30991326.mp3   \n",
       "1       common_voice_bn_30991371.mp3   \n",
       "2       common_voice_bn_30991410.mp3   \n",
       "3       common_voice_bn_30991432.mp3   \n",
       "4       common_voice_bn_30991478.mp3   \n",
       "...                              ...   \n",
       "206945  common_voice_bn_31802418.mp3   \n",
       "206946  common_voice_bn_31802540.mp3   \n",
       "206947  common_voice_bn_31802606.mp3   \n",
       "206948  common_voice_bn_31815460.mp3   \n",
       "206949  common_voice_bn_31831275.mp3   \n",
       "\n",
       "                                                 sentence  up_votes  \\\n",
       "0                                        বাবা সত্যেন ঘোষ।       1.0   \n",
       "1       দেওয়ান ফরিদ গাজী বাংলাদেশ আওয়ামী লীগের উপদেষ...       1.0   \n",
       "2       এর মাধ্যমে কারও গান গাওয়া দক্ষতা বা নিজস্ব ধর...       0.0   \n",
       "3                  আপনি খুব একটা কথা বলার লোক নন, তাই না?       0.0   \n",
       "4                  আপনি খুব একটা কথা বলার লোক নন, তাই না?       0.0   \n",
       "...                                                   ...       ...   \n",
       "206945  রাণীগঞ্জ মূলত এখানকার কয়লা খনি এবং খনিজ সংক্র...       2.0   \n",
       "206946  ওহাইও নদীর মুখোমুখি অবস্থিত, কারখানাটি লম্বা এ...       2.0   \n",
       "206947  উল্লেখ্য যে, আইন অমান্য আন্দোলনে বাংলার মুসলমা...       2.0   \n",
       "206948  তিনি রাজস্থানের প্রতাপগড় জেলা থেকে রাজস্থান ব...       2.0   \n",
       "206949  ইয়েল ইউনিভার্সিটি, অন্য সংবাদপত্রের সাথে যোগা...       2.0   \n",
       "\n",
       "        down_votes       age gender  \\\n",
       "0              1.0       NaN    NaN   \n",
       "1              0.0       NaN    NaN   \n",
       "2              0.0       NaN    NaN   \n",
       "3              0.0       NaN    NaN   \n",
       "4              0.0       NaN    NaN   \n",
       "...            ...       ...    ...   \n",
       "206945         0.0  twenties   male   \n",
       "206946         0.0  twenties   male   \n",
       "206947         0.0  twenties   male   \n",
       "206948         0.0  twenties   male   \n",
       "206949         0.0  twenties   male   \n",
       "\n",
       "                                                  accents locale  \n",
       "0                                                     NaN     bn  \n",
       "1                                                     NaN     bn  \n",
       "2                                                     NaN     bn  \n",
       "3                                                     NaN     bn  \n",
       "4       চট্টগ্রামের ভাষার সামান্য টানসহ মোটামুটি প্রমি...     bn  \n",
       "...                                                   ...    ...  \n",
       "206945                                       রাঢ়ী উপভাষা     bn  \n",
       "206946                                       রাঢ়ী উপভাষা     bn  \n",
       "206947                                       রাঢ়ী উপভাষা     bn  \n",
       "206948                                       রাঢ়ী উপভাষা     bn  \n",
       "206949                                       রাঢ়ী উপভাষা     bn  \n",
       "\n",
       "[206950 rows x 9 columns]"
      ]
     },
     "execution_count": 118,
     "metadata": {},
     "output_type": "execute_result"
    }
   ],
   "source": [
    "df_train"
   ]
  },
  {
   "cell_type": "code",
   "execution_count": 119,
   "id": "619487be-7704-4268-83c0-aada7c13ac47",
   "metadata": {},
   "outputs": [],
   "source": [
    "#df_train = df_train.sample(n=1)\n",
    "#df_validation = df_validation.sample(n=1)"
   ]
  },
  {
   "cell_type": "code",
   "execution_count": 120,
   "id": "7a8abe22-ec38-43a6-9789-d7c7851abc0d",
   "metadata": {},
   "outputs": [
    {
     "name": "stdout",
     "output_type": "stream",
     "text": [
      "<class 'pandas.core.frame.DataFrame'>\n",
      "RangeIndex: 206950 entries, 0 to 206949\n",
      "Data columns (total 9 columns):\n",
      " #   Column      Non-Null Count   Dtype  \n",
      "---  ------      --------------   -----  \n",
      " 0   client_id   206950 non-null  object \n",
      " 1   path        206950 non-null  object \n",
      " 2   sentence    206950 non-null  object \n",
      " 3   up_votes    206950 non-null  float64\n",
      " 4   down_votes  206950 non-null  float64\n",
      " 5   age         60309 non-null   object \n",
      " 6   gender      61196 non-null   object \n",
      " 7   accents     11088 non-null   object \n",
      " 8   locale      206950 non-null  object \n",
      "dtypes: float64(2), object(7)\n",
      "memory usage: 14.2+ MB\n"
     ]
    }
   ],
   "source": [
    "df_train.info()"
   ]
  },
  {
   "cell_type": "code",
   "execution_count": 121,
   "id": "9a0a4cce-a9f8-44f7-9ba1-5d8b154b048d",
   "metadata": {},
   "outputs": [
    {
     "name": "stdout",
     "output_type": "stream",
     "text": [
      "<class 'pandas.core.frame.DataFrame'>\n",
      "RangeIndex: 7747 entries, 0 to 7746\n",
      "Data columns (total 9 columns):\n",
      " #   Column      Non-Null Count  Dtype  \n",
      "---  ------      --------------  -----  \n",
      " 0   client_id   7747 non-null   object \n",
      " 1   path        7747 non-null   object \n",
      " 2   sentence    7747 non-null   object \n",
      " 3   up_votes    7747 non-null   float64\n",
      " 4   down_votes  7747 non-null   float64\n",
      " 5   age         874 non-null    object \n",
      " 6   gender      876 non-null    object \n",
      " 7   accents     292 non-null    object \n",
      " 8   locale      7747 non-null   object \n",
      "dtypes: float64(2), object(7)\n",
      "memory usage: 544.8+ KB\n"
     ]
    }
   ],
   "source": [
    "df_validation.info()"
   ]
  },
  {
   "cell_type": "markdown",
   "id": "a040e740-af5c-43ad-bd13-f46ed3468946",
   "metadata": {},
   "source": [
    "# Exploring the data"
   ]
  },
  {
   "cell_type": "code",
   "execution_count": 122,
   "id": "5a14d780-d8a4-4fbb-8c94-1e115e940f46",
   "metadata": {},
   "outputs": [],
   "source": [
    "df_common = pd.merge(df_train, df_validation, on=['path'], how='inner')"
   ]
  },
  {
   "cell_type": "code",
   "execution_count": 123,
   "id": "120680fc-1bd0-4382-ae2c-9cf8a92bf732",
   "metadata": {},
   "outputs": [
    {
     "name": "stdout",
     "output_type": "stream",
     "text": [
      "<class 'pandas.core.frame.DataFrame'>\n",
      "Index: 0 entries\n",
      "Data columns (total 17 columns):\n",
      " #   Column        Non-Null Count  Dtype  \n",
      "---  ------        --------------  -----  \n",
      " 0   client_id_x   0 non-null      object \n",
      " 1   path          0 non-null      object \n",
      " 2   sentence_x    0 non-null      object \n",
      " 3   up_votes_x    0 non-null      float64\n",
      " 4   down_votes_x  0 non-null      float64\n",
      " 5   age_x         0 non-null      object \n",
      " 6   gender_x      0 non-null      object \n",
      " 7   accents_x     0 non-null      object \n",
      " 8   locale_x      0 non-null      object \n",
      " 9   client_id_y   0 non-null      object \n",
      " 10  sentence_y    0 non-null      object \n",
      " 11  up_votes_y    0 non-null      float64\n",
      " 12  down_votes_y  0 non-null      float64\n",
      " 13  age_y         0 non-null      object \n",
      " 14  gender_y      0 non-null      object \n",
      " 15  accents_y     0 non-null      object \n",
      " 16  locale_y      0 non-null      object \n",
      "dtypes: float64(4), object(13)\n",
      "memory usage: 0.0+ bytes\n"
     ]
    }
   ],
   "source": [
    "df_common.info()"
   ]
  },
  {
   "cell_type": "code",
   "execution_count": 124,
   "id": "d609d7b2-7ff7-4178-b458-6a7de11075d2",
   "metadata": {},
   "outputs": [
    {
     "data": {
      "text/plain": [
       "'\\n!cd test_files && echo \"Test files\" && find . -maxdepth 1 -type f | sed \\'s/.*\\\\.//\\' | sort | uniq -c && # for file in *.mp3;do ffprobe -v error -select_streams a:0 -show_entries stream=duration -of default=noprint_wrappers=1:nokey=1 \"$file\";done|paste -sd+|bc -l\\n!cd train_files && echo \"Train files\" &&find . -maxdepth 1 -type f | sed \\'s/.*\\\\.//\\' | sort | uniq -c\\n!cd validation_files && echo \"Validation files\" && find . -maxdepth 1 -type f | sed \\'s/.*\\\\.//\\' | sort | uniq -c\\n'"
      ]
     },
     "execution_count": 124,
     "metadata": {},
     "output_type": "execute_result"
    }
   ],
   "source": [
    "'''\n",
    "!cd test_files && echo \"Test files\" && find . -maxdepth 1 -type f | sed 's/.*\\.//' | sort | uniq -c && # for file in *.mp3;do ffprobe -v error -select_streams a:0 -show_entries stream=duration -of default=noprint_wrappers=1:nokey=1 \"$file\";done|paste -sd+|bc -l\n",
    "!cd train_files && echo \"Train files\" &&find . -maxdepth 1 -type f | sed 's/.*\\.//' | sort | uniq -c\n",
    "!cd validation_files && echo \"Validation files\" && find . -maxdepth 1 -type f | sed 's/.*\\.//' | sort | uniq -c\n",
    "'''"
   ]
  },
  {
   "cell_type": "code",
   "execution_count": 125,
   "id": "80754a45-a5d1-404c-a771-1564c702eaba",
   "metadata": {},
   "outputs": [],
   "source": [
    "def get_all_unique_values(df):\n",
    "    df_empty = {}\n",
    "    for i in df.columns:\n",
    "        df_empty[i] = df[i].unique()\n",
    "    return df_empty"
   ]
  },
  {
   "cell_type": "code",
   "execution_count": 126,
   "id": "af8b20ba-0dc8-49d6-92ba-0e81aafe2cb0",
   "metadata": {},
   "outputs": [],
   "source": [
    "def missing_data(df):\n",
    "    a = df.isnull().sum()\n",
    "    a=a.tolist()\n",
    "    percent_missing = [ int(x)* 100 / len(df) for x in a]\n",
    "    error_per = pd.DataFrame({\n",
    "        'Columns':df.columns,         \n",
    "        'Total error': a,\n",
    "        'Error Percentage': percent_missing\n",
    "    })\n",
    "    print(tabulate(error_per, headers=['column','Total missing','% missing']))\n",
    "    sns.barplot(x='Columns',y='Error Percentage',data=error_per)\n",
    "    plt.ylabel('missing  %')\n",
    "    plt.xticks(rotation=70)"
   ]
  },
  {
   "cell_type": "code",
   "execution_count": 127,
   "id": "5074bef1-ca30-4ca0-a1bd-552c2f63487d",
   "metadata": {},
   "outputs": [
    {
     "name": "stdout",
     "output_type": "stream",
     "text": [
      "    column        Total missing    % missing\n",
      "--  ----------  ---------------  -----------\n",
      " 0  client_id                 0       0\n",
      " 1  path                      0       0\n",
      " 2  sentence                  0       0\n",
      " 3  up_votes                  0       0\n",
      " 4  down_votes                0       0\n",
      " 5  age                  146641      70.8582\n",
      " 6  gender               145754      70.4296\n",
      " 7  accents              195862      94.6422\n",
      " 8  locale                    0       0\n"
     ]
    },
    {
     "data": {
      "image/png": "[encoded data removed]",
      "text/plain": [
       "<Figure size 432x288 with 1 Axes>"
      ]
     },
     "metadata": {
      "needs_background": "light"
     },
     "output_type": "display_data"
    }
   ],
   "source": [
    "missing_data(df_train)"
   ]
  },
  {
   "cell_type": "code",
   "execution_count": 128,
   "id": "45645cdd-6555-4709-9cf8-fbf7301a14da",
   "metadata": {},
   "outputs": [
    {
     "name": "stdout",
     "output_type": "stream",
     "text": [
      "    column        Total missing    % missing\n",
      "--  ----------  ---------------  -----------\n",
      " 0  client_id                 0       0\n",
      " 1  path                      0       0\n",
      " 2  sentence                  0       0\n",
      " 3  up_votes                  0       0\n",
      " 4  down_votes                0       0\n",
      " 5  age                    6873      88.7182\n",
      " 6  gender                 6871      88.6924\n",
      " 7  accents                7455      96.2308\n",
      " 8  locale                    0       0\n"
     ]
    },
    {
     "data": {
      "image/png": "[encoded data removed]",
      "text/plain": [
       "<Figure size 432x288 with 1 Axes>"
      ]
     },
     "metadata": {
      "needs_background": "light"
     },
     "output_type": "display_data"
    }
   ],
   "source": [
    "missing_data(df_validation)"
   ]
  },
  {
   "cell_type": "code",
   "execution_count": 129,
   "id": "7cb0c917-3b6f-4637-bfc8-ecffdd6ac284",
   "metadata": {},
   "outputs": [],
   "source": [
    "#get_all_unique_values(df_train)"
   ]
  },
  {
   "cell_type": "code",
   "execution_count": 130,
   "id": "8c98e5d1-eb78-4e81-8969-f5c8e12e906d",
   "metadata": {},
   "outputs": [],
   "source": [
    "#get_all_unique_values(df_validation)"
   ]
  },
  {
   "cell_type": "markdown",
   "id": "e7798ab4-ea66-4a4e-8fa6-08f83cb62239",
   "metadata": {
    "tags": []
   },
   "source": [
    "# Preprocessing Data"
   ]
  },
  {
   "cell_type": "code",
   "execution_count": 131,
   "id": "188810b4-57e2-44b0-8339-acdb4996046f",
   "metadata": {},
   "outputs": [],
   "source": [
    "errors=[\"common_voice_bn_31727562\",\n",
    "        'common_voice_bn_30998934',\n",
    "        'common_voice_bn_31595526',\n",
    "        'common_voice_bn_31534853',\n",
    "        'common_voice_bn_31518061',\n",
    "        'common_voice_bn_31518373',\n",
    "        'common_voice_bn_31613621',\n",
    "        'common_voice_bn_31555333',\n",
    "        'common_voice_bn_31772113',\n",
    "        'common_voice_bn_31605391',\n",
    "        'common_voice_bn_31631175',\n",
    "        'common_voice_bn_31563901',\n",
    "        'common_voice_bn_31691690',\n",
    "        'common_voice_bn_31692010',\n",
    "        'common_voice_bn_31683653',\n",
    "        'common_voice_bn_31692182',\n",
    "        'common_voice_bn_31519976',\n",
    "        'common_voice_bn_31675793',\n",
    "        'common_voice_bn_31019914',\n",
    "        'common_voice_bn_31660287',\n",
    "        'common_voice_bn_31660384',\n",
    "        'common_voice_bn_31557261',\n",
    "        'common_voice_bn_31633101',\n",
    "        'common_voice_bn_31599243',\n",
    "        'common_voice_bn_31521515',\n",
    "        'common_voice_bn_31777802',\n",
    "        'common_voice_bn_31777848',\n",
    "        'common_voice_bn_31669646',\n",
    "        'common_voice_bn_31566083',\n",
    "        'common_voice_bn_31530331',\n",
    "        'common_voice_bn_31727697',\n",
    "        'common_voice_bn_31513270',\n",
    "        'common_voice_bn_31686295',\n",
    "        'common_voice_bn_31753693',\n",
    "        'common_voice_bn_31686334',\n",
    "        'common_voice_bn_31765546',\n",
    "        'common_voice_bn_31765548',\n",
    "        'common_voice_bn_31662742',\n",
    "        'common_voice_bn_31704856',\n",
    "        'common_voice_bn_31635344',\n",
    "        'common_voice_bn_31618327',\n",
    "        'common_voice_bn_31743074',\n",
    "        'common_voice_bn_31678862',\n",
    "        'common_voice_bn_31626674',\n",
    "        'common_voice_bn_31626677',\n",
    "        'common_voice_bn_31523889',\n",
    "        'common_voice_bn_31610804',\n",
    "        'common_voice_bn_31769538',\n",
    "        'common_voice_bn_31533273',\n",
    "        'common_voice_bn_31445621',\n",
    "        'common_voice_bn_31620650']\n",
    "errors = [i+'.mp3' for i in errors]"
   ]
  },
  {
   "cell_type": "code",
   "execution_count": 132,
   "id": "11538876-3234-4ac3-8078-5588dfb68cb8",
   "metadata": {},
   "outputs": [],
   "source": [
    "index_to_be_dropped_train = df_train[df_train['path'].isin(errors)].index\n",
    "index_to_be_dropped_validation = df_validation[df_validation['path'].isin(errors)].index"
   ]
  },
  {
   "cell_type": "code",
   "execution_count": 133,
   "id": "968519de-2b0b-4b9c-aa0b-672f48688504",
   "metadata": {},
   "outputs": [],
   "source": [
    "df_validation = df_validation.drop(index_to_be_dropped_validation)\n",
    "df_train = df_train.drop(index_to_be_dropped_train)"
   ]
  },
  {
   "cell_type": "markdown",
   "id": "f16dfa3a-4520-424f-907e-6b5431e244b7",
   "metadata": {
    "tags": []
   },
   "source": [
    "## Text preprocessing"
   ]
  },
  {
   "cell_type": "code",
   "execution_count": 134,
   "id": "b561cffe-5afc-49ae-90a3-143e4cb77c42",
   "metadata": {},
   "outputs": [
    {
     "data": {
      "text/plain": [
       "array([  1.,   0.,   6.,   2.,   4.,   3.,  16.,   7.,   8.,   5.,  14.,\n",
       "        11.,  15.,  10.,  12.,  13.,  17.,   9.,  18.,  20.,  30.,  26.,\n",
       "        24.,  22.,  32.,  28.,  29.,  21.,  53.,  34.,  23.,  38.,  35.,\n",
       "        19.,  36.,  27.,  40.,  25.,  37.,  31.,  45.,  39.,  50.,  33.,\n",
       "        47.,  42.,  46.,  66.,  59.,  78.,  56.,  44., 108.,  88.,  55.,\n",
       "        43.,  41.,  60.,  92., 124.,  51.,  54.,  52.,  48.,  68.,  62.,\n",
       "       106.,  58.,  80.,  74.,  70.,  84.,  94.])"
      ]
     },
     "execution_count": 134,
     "metadata": {},
     "output_type": "execute_result"
    }
   ],
   "source": [
    "get_all_unique_values(df_train)['up_votes']"
   ]
  },
  {
   "cell_type": "code",
   "execution_count": 135,
   "id": "71fa1e33-acbd-41fb-acc1-e96cb5a6fd0e",
   "metadata": {},
   "outputs": [
    {
     "data": {
      "text/plain": [
       "array([ 1.,  0.,  5.,  2.,  3.,  6.,  4.,  7., 14., 10.,  9., 13., 16.,\n",
       "        8., 21., 17., 12., 11., 22., 24., 30., 18., 48., 20.])"
      ]
     },
     "execution_count": 135,
     "metadata": {},
     "output_type": "execute_result"
    }
   ],
   "source": [
    "get_all_unique_values(df_train)['down_votes']"
   ]
  },
  {
   "cell_type": "code",
   "execution_count": 136,
   "id": "542b46f0-cc62-484c-899e-04a8303ad2f0",
   "metadata": {},
   "outputs": [
    {
     "data": {
      "text/html": [
       "<div>\n",
       "<style scoped>\n",
       "    .dataframe tbody tr th:only-of-type {\n",
       "        vertical-align: middle;\n",
       "    }\n",
       "\n",
       "    .dataframe tbody tr th {\n",
       "        vertical-align: top;\n",
       "    }\n",
       "\n",
       "    .dataframe thead th {\n",
       "        text-align: right;\n",
       "    }\n",
       "</style>\n",
       "<table border=\"1\" class=\"dataframe\">\n",
       "  <thead>\n",
       "    <tr style=\"text-align: right;\">\n",
       "      <th></th>\n",
       "      <th>client_id</th>\n",
       "      <th>path</th>\n",
       "      <th>sentence</th>\n",
       "      <th>up_votes</th>\n",
       "      <th>down_votes</th>\n",
       "      <th>age</th>\n",
       "      <th>gender</th>\n",
       "      <th>accents</th>\n",
       "      <th>locale</th>\n",
       "    </tr>\n",
       "  </thead>\n",
       "  <tbody>\n",
       "    <tr>\n",
       "      <th>1</th>\n",
       "      <td>3991c2cfe1be64e77f2f6bdaeaae601219af906c1295cd...</td>\n",
       "      <td>common_voice_bn_30991371.mp3</td>\n",
       "      <td>দেওয়ান ফরিদ গাজী বাংলাদেশ আওয়ামী লীগের উপদেষ...</td>\n",
       "      <td>1.0</td>\n",
       "      <td>0.0</td>\n",
       "      <td>NaN</td>\n",
       "      <td>NaN</td>\n",
       "      <td>NaN</td>\n",
       "      <td>bn</td>\n",
       "    </tr>\n",
       "    <tr>\n",
       "      <th>137303</th>\n",
       "      <td>a7dd89a3a50db1d7b49ee0927e2fdda6a8b7f377bcb336...</td>\n",
       "      <td>common_voice_bn_31692744.mp3</td>\n",
       "      <td>কিন্তু এর কোনো বিচার হয়না।</td>\n",
       "      <td>0.0</td>\n",
       "      <td>0.0</td>\n",
       "      <td>NaN</td>\n",
       "      <td>NaN</td>\n",
       "      <td>NaN</td>\n",
       "      <td>bn</td>\n",
       "    </tr>\n",
       "    <tr>\n",
       "      <th>137294</th>\n",
       "      <td>0bef53d08409163ae554ed6e651d1640833702ec9255f8...</td>\n",
       "      <td>common_voice_bn_31692733.mp3</td>\n",
       "      <td>তিনি প্রথম নারী প্রত্নতত্ত্ববিদ এএসআই প্রধান।</td>\n",
       "      <td>0.0</td>\n",
       "      <td>0.0</td>\n",
       "      <td>teens</td>\n",
       "      <td>male</td>\n",
       "      <td>NaN</td>\n",
       "      <td>bn</td>\n",
       "    </tr>\n",
       "    <tr>\n",
       "      <th>137295</th>\n",
       "      <td>7aefa5a44cf90f270bd06cbed8edb9d6b1706244c061b3...</td>\n",
       "      <td>common_voice_bn_31692734.mp3</td>\n",
       "      <td>এর পরিণতিতে বিদ্রোহের আগুন ছড়িয়ে পড়ে ভারতের...</td>\n",
       "      <td>0.0</td>\n",
       "      <td>0.0</td>\n",
       "      <td>twenties</td>\n",
       "      <td>male</td>\n",
       "      <td>NaN</td>\n",
       "      <td>bn</td>\n",
       "    </tr>\n",
       "    <tr>\n",
       "      <th>137296</th>\n",
       "      <td>2398bc09bd7394ea6fe3d93b374934f76007e5547fe981...</td>\n",
       "      <td>common_voice_bn_31692736.mp3</td>\n",
       "      <td>বিদ্যালয়টিতে প্রধান শিক্ষকের জন্য আলাদা কার্য...</td>\n",
       "      <td>0.0</td>\n",
       "      <td>0.0</td>\n",
       "      <td>NaN</td>\n",
       "      <td>NaN</td>\n",
       "      <td>NaN</td>\n",
       "      <td>bn</td>\n",
       "    </tr>\n",
       "    <tr>\n",
       "      <th>...</th>\n",
       "      <td>...</td>\n",
       "      <td>...</td>\n",
       "      <td>...</td>\n",
       "      <td>...</td>\n",
       "      <td>...</td>\n",
       "      <td>...</td>\n",
       "      <td>...</td>\n",
       "      <td>...</td>\n",
       "      <td>...</td>\n",
       "    </tr>\n",
       "    <tr>\n",
       "      <th>69231</th>\n",
       "      <td>909dd76d8a7ca654de0addbd845420e2d91a9a8ac173e9...</td>\n",
       "      <td>common_voice_bn_31595955.mp3</td>\n",
       "      <td>এটি মূলতঃ উষ্ণ আবহাওয়ার উদ্ভিদ।</td>\n",
       "      <td>0.0</td>\n",
       "      <td>0.0</td>\n",
       "      <td>NaN</td>\n",
       "      <td>NaN</td>\n",
       "      <td>NaN</td>\n",
       "      <td>bn</td>\n",
       "    </tr>\n",
       "    <tr>\n",
       "      <th>69232</th>\n",
       "      <td>ffcc1d654dc831f008abda523a71568a1cc4b150585c2a...</td>\n",
       "      <td>common_voice_bn_31595956.mp3</td>\n",
       "      <td>চাকরি ও নির্বাচন কমিশন থেকে অবসরের পর তিনি জাত...</td>\n",
       "      <td>0.0</td>\n",
       "      <td>0.0</td>\n",
       "      <td>twenties</td>\n",
       "      <td>male</td>\n",
       "      <td>NaN</td>\n",
       "      <td>bn</td>\n",
       "    </tr>\n",
       "    <tr>\n",
       "      <th>69233</th>\n",
       "      <td>ffcc1d654dc831f008abda523a71568a1cc4b150585c2a...</td>\n",
       "      <td>common_voice_bn_31595957.mp3</td>\n",
       "      <td>এই কাব্যের অপর উল্লেখযোগ্য বৈশিষ্ট্য হল, এর জী...</td>\n",
       "      <td>0.0</td>\n",
       "      <td>0.0</td>\n",
       "      <td>twenties</td>\n",
       "      <td>male</td>\n",
       "      <td>NaN</td>\n",
       "      <td>bn</td>\n",
       "    </tr>\n",
       "    <tr>\n",
       "      <th>69235</th>\n",
       "      <td>ffcc1d654dc831f008abda523a71568a1cc4b150585c2a...</td>\n",
       "      <td>common_voice_bn_31595959.mp3</td>\n",
       "      <td>এলাকাটি ঢাকা উত্তর সিটি কর্পোরেশনের অন্তর্ভুক্ত।</td>\n",
       "      <td>0.0</td>\n",
       "      <td>0.0</td>\n",
       "      <td>twenties</td>\n",
       "      <td>male</td>\n",
       "      <td>NaN</td>\n",
       "      <td>bn</td>\n",
       "    </tr>\n",
       "    <tr>\n",
       "      <th>206949</th>\n",
       "      <td>0a0db76f30e3d011216425efa204fa0d3064767656b913...</td>\n",
       "      <td>common_voice_bn_31831275.mp3</td>\n",
       "      <td>ইয়েল ইউনিভার্সিটি, অন্য সংবাদপত্রের সাথে যোগা...</td>\n",
       "      <td>2.0</td>\n",
       "      <td>0.0</td>\n",
       "      <td>twenties</td>\n",
       "      <td>male</td>\n",
       "      <td>রাঢ়ী উপভাষা</td>\n",
       "      <td>bn</td>\n",
       "    </tr>\n",
       "  </tbody>\n",
       "</table>\n",
       "<p>195341 rows × 9 columns</p>\n",
       "</div>"
      ],
      "text/plain": [
       "                                                client_id  \\\n",
       "1       3991c2cfe1be64e77f2f6bdaeaae601219af906c1295cd...   \n",
       "137303  a7dd89a3a50db1d7b49ee0927e2fdda6a8b7f377bcb336...   \n",
       "137294  0bef53d08409163ae554ed6e651d1640833702ec9255f8...   \n",
       "137295  7aefa5a44cf90f270bd06cbed8edb9d6b1706244c061b3...   \n",
       "137296  2398bc09bd7394ea6fe3d93b374934f76007e5547fe981...   \n",
       "...                                                   ...   \n",
       "69231   909dd76d8a7ca654de0addbd845420e2d91a9a8ac173e9...   \n",
       "69232   ffcc1d654dc831f008abda523a71568a1cc4b150585c2a...   \n",
       "69233   ffcc1d654dc831f008abda523a71568a1cc4b150585c2a...   \n",
       "69235   ffcc1d654dc831f008abda523a71568a1cc4b150585c2a...   \n",
       "206949  0a0db76f30e3d011216425efa204fa0d3064767656b913...   \n",
       "\n",
       "                                path  \\\n",
       "1       common_voice_bn_30991371.mp3   \n",
       "137303  common_voice_bn_31692744.mp3   \n",
       "137294  common_voice_bn_31692733.mp3   \n",
       "137295  common_voice_bn_31692734.mp3   \n",
       "137296  common_voice_bn_31692736.mp3   \n",
       "...                              ...   \n",
       "69231   common_voice_bn_31595955.mp3   \n",
       "69232   common_voice_bn_31595956.mp3   \n",
       "69233   common_voice_bn_31595957.mp3   \n",
       "69235   common_voice_bn_31595959.mp3   \n",
       "206949  common_voice_bn_31831275.mp3   \n",
       "\n",
       "                                                 sentence  up_votes  \\\n",
       "1       দেওয়ান ফরিদ গাজী বাংলাদেশ আওয়ামী লীগের উপদেষ...       1.0   \n",
       "137303                        কিন্তু এর কোনো বিচার হয়না।       0.0   \n",
       "137294      তিনি প্রথম নারী প্রত্নতত্ত্ববিদ এএসআই প্রধান।       0.0   \n",
       "137295  এর পরিণতিতে বিদ্রোহের আগুন ছড়িয়ে পড়ে ভারতের...       0.0   \n",
       "137296  বিদ্যালয়টিতে প্রধান শিক্ষকের জন্য আলাদা কার্য...       0.0   \n",
       "...                                                   ...       ...   \n",
       "69231                    এটি মূলতঃ উষ্ণ আবহাওয়ার উদ্ভিদ।       0.0   \n",
       "69232   চাকরি ও নির্বাচন কমিশন থেকে অবসরের পর তিনি জাত...       0.0   \n",
       "69233   এই কাব্যের অপর উল্লেখযোগ্য বৈশিষ্ট্য হল, এর জী...       0.0   \n",
       "69235    এলাকাটি ঢাকা উত্তর সিটি কর্পোরেশনের অন্তর্ভুক্ত।       0.0   \n",
       "206949  ইয়েল ইউনিভার্সিটি, অন্য সংবাদপত্রের সাথে যোগা...       2.0   \n",
       "\n",
       "        down_votes       age gender       accents locale  \n",
       "1              0.0       NaN    NaN           NaN     bn  \n",
       "137303         0.0       NaN    NaN           NaN     bn  \n",
       "137294         0.0     teens   male           NaN     bn  \n",
       "137295         0.0  twenties   male           NaN     bn  \n",
       "137296         0.0       NaN    NaN           NaN     bn  \n",
       "...            ...       ...    ...           ...    ...  \n",
       "69231          0.0       NaN    NaN           NaN     bn  \n",
       "69232          0.0  twenties   male           NaN     bn  \n",
       "69233          0.0  twenties   male           NaN     bn  \n",
       "69235          0.0  twenties   male           NaN     bn  \n",
       "206949         0.0  twenties   male  রাঢ়ী উপভাষা     bn  \n",
       "\n",
       "[195341 rows x 9 columns]"
      ]
     },
     "execution_count": 136,
     "metadata": {},
     "output_type": "execute_result"
    }
   ],
   "source": [
    "df_train[df_train['down_votes'] == 0].sort_values(by=['down_votes'],ascending=False)"
   ]
  },
  {
   "cell_type": "code",
   "execution_count": 137,
   "id": "c35ce672-049b-4915-9f4c-0f6b6f69469d",
   "metadata": {},
   "outputs": [],
   "source": [
    "def cleaning_csv(df):\n",
    "    df['votes'] = df['up_votes'] - df['down_votes']\n",
    "    df['votes'] = df['votes'] + abs(df['votes'].min())\n",
    "    df.replace(0,df['votes'].mean(axis=0),inplace=True)\n",
    "    df['votes'] = df['votes']/df['votes'].max() \n",
    "    df = df.drop(['client_id','age','gender','accents','locale','up_votes','down_votes'],axis=1)\n",
    "    df = df.dropna(how='all')\n",
    "    if len(df) > 200000:\n",
    "        df['path'] = 'train_files/' + df['path']\n",
    "    if len(df) < 10000:\n",
    "        df['path'] = 'validation_files/' + df['path']\n",
    "    return df"
   ]
  },
  {
   "cell_type": "code",
   "execution_count": 138,
   "id": "a9824b1f-422e-4edf-9364-4b19a11f5298",
   "metadata": {},
   "outputs": [],
   "source": [
    "def remove_punctuations(my_str):\n",
    "    punctuations = '''```\u0012\u0010\u0002\b`\u0007\b£|¢|\u0007Ñ+-*/=EROero৳০১২৩৪৫৬৭৮৯012–34567•89।!()-[]{};:'\"“\\’…,<>.‚/?@#$%^&*_~‘—॥”‰🤣⚽️✌�￰৷￰'''\n",
    "    no_punct = \"\"\n",
    "    for char in my_str:\n",
    "        if char not in punctuations:\n",
    "            no_punct = no_punct + char\n",
    "    return no_punct"
   ]
  },
  {
   "cell_type": "code",
   "execution_count": 139,
   "id": "d0eb6ad0-8491-45b5-916e-93a66421b03a",
   "metadata": {},
   "outputs": [],
   "source": [
    "def normalize(sen):\n",
    "    _words = [bnorm(word)['normalized']  for word in sen.split()]\n",
    "    return \" \".join([word for word in _words if word is not None]) "
   ]
  },
  {
   "cell_type": "code",
   "execution_count": 140,
   "id": "add5386c-8153-4bcf-bc57-9704c65b1cf6",
   "metadata": {},
   "outputs": [],
   "source": [
    "df_train = cleaning_csv(df_train)\n",
    "df_validation = cleaning_csv(df_validation)"
   ]
  },
  {
   "cell_type": "code",
   "execution_count": 141,
   "id": "f1524775-50a7-4bd0-94a4-e8c3b1d97c1d",
   "metadata": {},
   "outputs": [],
   "source": [
    "df_train['sentence'] = df_train['sentence'].apply(lambda x : remove_punctuations(x))\n",
    "df_validation['sentence'] = df_validation['sentence'].apply(lambda x : remove_punctuations(x))"
   ]
  },
  {
   "cell_type": "code",
   "execution_count": 142,
   "id": "00fa5120-c4fb-4a19-adc9-8fd5626c207a",
   "metadata": {},
   "outputs": [],
   "source": [
    "df_train = pd.concat([df_train, df_validation], ignore_index=True)"
   ]
  },
  {
   "cell_type": "code",
   "execution_count": 143,
   "id": "44faae47-2003-474e-bdb9-759a34c56fdc",
   "metadata": {},
   "outputs": [],
   "source": [
    "to_drop_train = df_train[df_train['sentence'].str.contains('V')]\n",
    "df_train = df_train.drop(to_drop_train.index)\n",
    "to_drop_train = df_train[df_train['sentence'].str.contains('A')]\n",
    "df_train = df_train.drop(to_drop_train.index)\n",
    "to_drop_train = df_train[df_train['sentence'].str.contains('B')]\n",
    "df_train = df_train.drop(to_drop_train.index)"
   ]
  },
  {
   "cell_type": "code",
   "execution_count": 144,
   "id": "f74e8e2c-80e5-45c2-be47-3a48be39e3bd",
   "metadata": {},
   "outputs": [
    {
     "data": {
      "application/vnd.jupyter.widget-view+json": {
       "model_id": "ece5e6aa36274987b6c258f4fc14726c",
       "version_major": 2,
       "version_minor": 0
      },
      "text/plain": [
       "VBox(children=(HBox(children=(IntProgress(value=0, description='0.00%', max=26831), Label(value='0 / 26831')))…"
      ]
     },
     "metadata": {},
     "output_type": "display_data"
    }
   ],
   "source": [
    "df_train[\"sentence\"]=df_train[\"sentence\"].parallel_apply(lambda x:normalize(x))"
   ]
  },
  {
   "cell_type": "code",
   "execution_count": 145,
   "id": "2b93b1b8-11ad-44d3-b821-e60e0e8ffdeb",
   "metadata": {},
   "outputs": [],
   "source": [
    "df_train.to_csv('dlsprint/df_sentence_normalized.csv',index=False)"
   ]
  },
  {
   "cell_type": "code",
   "execution_count": 196,
   "id": "eb95a2a2-802e-45df-a4c8-8e4c8be9b833",
   "metadata": {},
   "outputs": [],
   "source": [
    "#df_train = pd.read_csv('dlsprint/df_sentence_normalized.csv')"
   ]
  },
  {
   "cell_type": "code",
   "execution_count": 197,
   "id": "721e5394-e9b1-46f1-9f7f-cf1d3d8f2192",
   "metadata": {},
   "outputs": [
    {
     "name": "stdout",
     "output_type": "stream",
     "text": [
      "<class 'pandas.core.frame.DataFrame'>\n",
      "RangeIndex: 214643 entries, 0 to 214642\n",
      "Data columns (total 3 columns):\n",
      " #   Column    Non-Null Count   Dtype  \n",
      "---  ------    --------------   -----  \n",
      " 0   path      214643 non-null  object \n",
      " 1   sentence  214643 non-null  object \n",
      " 2   votes     214643 non-null  float64\n",
      "dtypes: float64(1), object(2)\n",
      "memory usage: 63.2 MB\n"
     ]
    }
   ],
   "source": [
    "df_train.info(memory_usage='deep')"
   ]
  },
  {
   "cell_type": "markdown",
   "id": "d801fe1c-97c3-4daf-898c-326bc68e2bba",
   "metadata": {
    "tags": []
   },
   "source": [
    "## Tokenizer"
   ]
  },
  {
   "cell_type": "code",
   "execution_count": 198,
   "id": "9aab9c4b-93a3-426c-8a82-b02825da41d4",
   "metadata": {},
   "outputs": [],
   "source": [
    "def extract_all_chars(df):\n",
    "    all_text = \" \".join(df[\"sentence\"])\n",
    "    vocab = list(set(all_text))\n",
    "    vocab_dict = {v: k for k, v in enumerate(vocab)}\n",
    "    return vocab_dict"
   ]
  },
  {
   "cell_type": "code",
   "execution_count": 199,
   "id": "9c798cc5-c349-45ce-b805-7f100c396eb6",
   "metadata": {},
   "outputs": [
    {
     "data": {
      "text/plain": [
       "{'া': 0,\n",
       " 'ন': 1,\n",
       " 'প': 2,\n",
       " 'ে': 3,\n",
       " 'উ': 4,\n",
       " 'ঢ': 5,\n",
       " ' ': 6,\n",
       " 'ণ': 7,\n",
       " 'ঋ': 8,\n",
       " 'ভ': 9,\n",
       " 'ত': 10,\n",
       " 'ধ': 11,\n",
       " 'ি': 12,\n",
       " 'ট': 13,\n",
       " 'ই': 14,\n",
       " 'শ': 15,\n",
       " 'ও': 16,\n",
       " 'ো': 17,\n",
       " 'আ': 18,\n",
       " 'ৃ': 19,\n",
       " 'চ': 20,\n",
       " 'ড': 21,\n",
       " 'ঔ': 22,\n",
       " 'ফ': 23,\n",
       " 'ল': 24,\n",
       " 'ঐ': 25,\n",
       " 'ক': 26,\n",
       " 'এ': 27,\n",
       " 'হ': 28,\n",
       " 'ঘ': 29,\n",
       " 'ং': 30,\n",
       " 'ঞ': 31,\n",
       " 'ঠ': 32,\n",
       " 'ঈ': 33,\n",
       " 'ষ': 34,\n",
       " 'ম': 35,\n",
       " 'ঙ': 36,\n",
       " 'ড়': 37,\n",
       " 'য়': 38,\n",
       " 'ূ': 39,\n",
       " 'ৌ': 40,\n",
       " 'ঁ': 41,\n",
       " 'ঝ': 42,\n",
       " 'ব': 43,\n",
       " 'ঊ': 44,\n",
       " 'থ': 45,\n",
       " 'ৎ': 46,\n",
       " 'ঢ়': 47,\n",
       " 'ী': 48,\n",
       " 'ছ': 49,\n",
       " 'খ': 50,\n",
       " 'অ': 51,\n",
       " 'র': 52,\n",
       " 'ৈ': 53,\n",
       " 'স': 54,\n",
       " 'জ': 55,\n",
       " 'য': 56,\n",
       " 'দ': 57,\n",
       " 'গ': 58,\n",
       " 'ু': 59,\n",
       " 'ঃ': 60,\n",
       " '্': 61}"
      ]
     },
     "execution_count": 199,
     "metadata": {},
     "output_type": "execute_result"
    }
   ],
   "source": [
    "vocab_dict = extract_all_chars(df_train)\n",
    "vocab_dict"
   ]
  },
  {
   "cell_type": "code",
   "execution_count": 200,
   "id": "87507da4-7954-47c2-a61c-d60baa6ae6ae",
   "metadata": {},
   "outputs": [],
   "source": [
    "def vocab_dict_cleaner(vocab_dict):\n",
    "    vocab_dict[\"|\"] = vocab_dict[\" \"]\n",
    "    del vocab_dict[\" \"]\n",
    "    vocab_dict[\"[UNK]\"] = len(vocab_dict)\n",
    "    vocab_dict[\"[PAD]\"] = len(vocab_dict)\n",
    "    print(len(vocab_dict))\n",
    "    return vocab_dict"
   ]
  },
  {
   "cell_type": "code",
   "execution_count": 201,
   "id": "b9655235-ce4c-481e-8b0a-a5a3760e05e5",
   "metadata": {},
   "outputs": [
    {
     "name": "stdout",
     "output_type": "stream",
     "text": [
      "64\n"
     ]
    },
    {
     "data": {
      "text/plain": [
       "{'া': 0,\n",
       " 'ন': 1,\n",
       " 'প': 2,\n",
       " 'ে': 3,\n",
       " 'উ': 4,\n",
       " 'ঢ': 5,\n",
       " 'ণ': 7,\n",
       " 'ঋ': 8,\n",
       " 'ভ': 9,\n",
       " 'ত': 10,\n",
       " 'ধ': 11,\n",
       " 'ি': 12,\n",
       " 'ট': 13,\n",
       " 'ই': 14,\n",
       " 'শ': 15,\n",
       " 'ও': 16,\n",
       " 'ো': 17,\n",
       " 'আ': 18,\n",
       " 'ৃ': 19,\n",
       " 'চ': 20,\n",
       " 'ড': 21,\n",
       " 'ঔ': 22,\n",
       " 'ফ': 23,\n",
       " 'ল': 24,\n",
       " 'ঐ': 25,\n",
       " 'ক': 26,\n",
       " 'এ': 27,\n",
       " 'হ': 28,\n",
       " 'ঘ': 29,\n",
       " 'ং': 30,\n",
       " 'ঞ': 31,\n",
       " 'ঠ': 32,\n",
       " 'ঈ': 33,\n",
       " 'ষ': 34,\n",
       " 'ম': 35,\n",
       " 'ঙ': 36,\n",
       " 'ড়': 37,\n",
       " 'য়': 38,\n",
       " 'ূ': 39,\n",
       " 'ৌ': 40,\n",
       " 'ঁ': 41,\n",
       " 'ঝ': 42,\n",
       " 'ব': 43,\n",
       " 'ঊ': 44,\n",
       " 'থ': 45,\n",
       " 'ৎ': 46,\n",
       " 'ঢ়': 47,\n",
       " 'ী': 48,\n",
       " 'ছ': 49,\n",
       " 'খ': 50,\n",
       " 'অ': 51,\n",
       " 'র': 52,\n",
       " 'ৈ': 53,\n",
       " 'স': 54,\n",
       " 'জ': 55,\n",
       " 'য': 56,\n",
       " 'দ': 57,\n",
       " 'গ': 58,\n",
       " 'ু': 59,\n",
       " 'ঃ': 60,\n",
       " '্': 61,\n",
       " '|': 6,\n",
       " '[UNK]': 62,\n",
       " '[PAD]': 63}"
      ]
     },
     "execution_count": 201,
     "metadata": {},
     "output_type": "execute_result"
    }
   ],
   "source": [
    "vocab_dict = vocab_dict_cleaner(vocab_dict)\n",
    "vocab_dict"
   ]
  },
  {
   "cell_type": "code",
   "execution_count": 202,
   "id": "6c91c901-8ffa-43e0-8bb4-208a1f04c368",
   "metadata": {},
   "outputs": [],
   "source": [
    "vocab=[ '\\u200d',\n",
    "        ' ','!',\"'\",',','-','.',':',';','=','?','।',\n",
    "        'ঁ','ং','ঃ',\n",
    "        'অ','আ','ই','ঈ','উ','ঊ','ঋ','এ','ঐ','ও','ঔ',\n",
    "        'ক','খ','গ','ঘ','ঙ',\n",
    "        'চ','ছ','জ','ঝ','ঞ',\n",
    "        'ট','ঠ','ড','ঢ','ণ',\n",
    "        'ত','থ','দ','ধ','ন',\n",
    "        'প','ফ','ব','ভ','ম',\n",
    "        'য','র','ল',\n",
    "        'শ','ষ','স','হ',\n",
    "        'া','ি','ী','ু','ূ','ৃ','ে','ৈ','ো','ৌ','্',\n",
    "        'ৎ','ড়','ঢ়','য়',\n",
    "        '০','১','২','৩','৪','৫','৬','৭','৮','৯']"
   ]
  },
  {
   "cell_type": "code",
   "execution_count": 203,
   "id": "06815b0b-e600-4950-8d2d-a6de52a06dbc",
   "metadata": {},
   "outputs": [],
   "source": [
    "vocab_dict_munim = list(vocab_dict.keys())"
   ]
  },
  {
   "cell_type": "code",
   "execution_count": 204,
   "id": "f3580c67-4a2f-4a83-a10a-ea17ffe60dbd",
   "metadata": {},
   "outputs": [
    {
     "data": {
      "text/plain": [
       "['া',\n",
       " 'ন',\n",
       " 'প',\n",
       " 'ে',\n",
       " 'উ',\n",
       " 'ঢ',\n",
       " 'ণ',\n",
       " 'ঋ',\n",
       " 'ভ',\n",
       " 'ত',\n",
       " 'ধ',\n",
       " 'ি',\n",
       " 'ট',\n",
       " 'ই',\n",
       " 'শ',\n",
       " 'ও',\n",
       " 'ো',\n",
       " 'আ',\n",
       " 'ৃ',\n",
       " 'চ',\n",
       " 'ড',\n",
       " 'ঔ',\n",
       " 'ফ',\n",
       " 'ল',\n",
       " 'ঐ',\n",
       " 'ক',\n",
       " 'এ',\n",
       " 'হ',\n",
       " 'ঘ',\n",
       " 'ং',\n",
       " 'ঞ',\n",
       " 'ঠ',\n",
       " 'ঈ',\n",
       " 'ষ',\n",
       " 'ম',\n",
       " 'ঙ',\n",
       " 'ড়',\n",
       " 'য়',\n",
       " 'ূ',\n",
       " 'ৌ',\n",
       " 'ঁ',\n",
       " 'ঝ',\n",
       " 'ব',\n",
       " 'ঊ',\n",
       " 'থ',\n",
       " 'ৎ',\n",
       " 'ঢ়',\n",
       " 'ী',\n",
       " 'ছ',\n",
       " 'খ',\n",
       " 'অ',\n",
       " 'র',\n",
       " 'ৈ',\n",
       " 'স',\n",
       " 'জ',\n",
       " 'য',\n",
       " 'দ',\n",
       " 'গ',\n",
       " 'ু',\n",
       " 'ঃ',\n",
       " '্',\n",
       " '|',\n",
       " '[UNK]',\n",
       " '[PAD]']"
      ]
     },
     "execution_count": 204,
     "metadata": {},
     "output_type": "execute_result"
    }
   ],
   "source": [
    "vocab_dict_munim"
   ]
  },
  {
   "cell_type": "code",
   "execution_count": 205,
   "id": "33a3ed45-612c-4a64-9cf4-c1d007bee77f",
   "metadata": {},
   "outputs": [],
   "source": [
    "odertateaseamartatenai = [x for x in vocab if x not in vocab_dict_munim]"
   ]
  },
  {
   "cell_type": "code",
   "execution_count": 206,
   "id": "2393f923-fbbd-4c35-94da-65f5357a338d",
   "metadata": {},
   "outputs": [
    {
     "data": {
      "text/plain": [
       "['\\u200d',\n",
       " ' ',\n",
       " '!',\n",
       " \"'\",\n",
       " ',',\n",
       " '-',\n",
       " '.',\n",
       " ':',\n",
       " ';',\n",
       " '=',\n",
       " '?',\n",
       " '।',\n",
       " '০',\n",
       " '১',\n",
       " '২',\n",
       " '৩',\n",
       " '৪',\n",
       " '৫',\n",
       " '৬',\n",
       " '৭',\n",
       " '৮',\n",
       " '৯']"
      ]
     },
     "execution_count": 206,
     "metadata": {},
     "output_type": "execute_result"
    }
   ],
   "source": [
    "odertateaseamartatenai"
   ]
  },
  {
   "cell_type": "code",
   "execution_count": 207,
   "id": "e99eb7cf-fdc9-4b75-b433-cb12ccd6129b",
   "metadata": {},
   "outputs": [],
   "source": [
    "amrtayase_odertay_nai = [x for x in vocab_dict_munim if x not in vocab]"
   ]
  },
  {
   "cell_type": "code",
   "execution_count": 208,
   "id": "89ce4f05-8311-46a5-9eb0-5e758f91984f",
   "metadata": {},
   "outputs": [
    {
     "data": {
      "text/plain": [
       "['|', '[UNK]', '[PAD]']"
      ]
     },
     "execution_count": 208,
     "metadata": {},
     "output_type": "execute_result"
    }
   ],
   "source": [
    "amrtayase_odertay_nai"
   ]
  },
  {
   "cell_type": "code",
   "execution_count": 209,
   "id": "535971ef-a827-46bc-bef8-6821157a7dfb",
   "metadata": {},
   "outputs": [],
   "source": [
    "with open('vocab.json', 'w') as vocab_file:\n",
    "    json.dump(vocab_dict, vocab_file)"
   ]
  },
  {
   "cell_type": "code",
   "execution_count": 210,
   "id": "352d6943-8c35-40c8-bef0-015dc2ada242",
   "metadata": {},
   "outputs": [],
   "source": [
    "!cp vocab.json dlsprint/"
   ]
  },
  {
   "cell_type": "code",
   "execution_count": 15,
   "id": "043f928e-c002-4229-8c97-6ddd589e73db",
   "metadata": {},
   "outputs": [],
   "source": [
    "config = AutoConfig.from_pretrained(model_checkpoint)\n",
    "tokenizer_type = config.model_type if config.tokenizer_class is None else None\n",
    "config = config if config.tokenizer_class is not None else None"
   ]
  },
  {
   "cell_type": "code",
   "execution_count": 16,
   "id": "3729a29a-2871-4fb9-9aa0-bc67716b5c56",
   "metadata": {},
   "outputs": [
    {
     "name": "stderr",
     "output_type": "stream",
     "text": [
      "Special tokens have been added in the vocabulary, make sure the associated word embeddings are fine-tuned or trained.\n"
     ]
    }
   ],
   "source": [
    "tokenizer = AutoTokenizer.from_pretrained(\n",
    "  \"./\",\n",
    "  config=config,\n",
    "  tokenizer_type=tokenizer_type,\n",
    "  unk_token=\"[UNK]\",\n",
    "  pad_token=\"[PAD]\",\n",
    "  word_delimiter_token=\"|\",\n",
    ")"
   ]
  },
  {
   "cell_type": "code",
   "execution_count": 213,
   "id": "2965ecb3-d89f-43d5-b284-d54b320054a0",
   "metadata": {},
   "outputs": [
    {
     "name": "stdout",
     "output_type": "stream",
     "text": [
      "PreTrainedTokenizer(name_or_path='./', vocab_size=64, model_max_len=1000000000000000019884624838656, is_fast=False, padding_side='right', truncation_side='right', special_tokens={'bos_token': '<s>', 'eos_token': '</s>', 'unk_token': '[UNK]', 'pad_token': '[PAD]', 'additional_special_tokens': [AddedToken(\"<s>\", rstrip=False, lstrip=False, single_word=False, normalized=True), AddedToken(\"</s>\", rstrip=False, lstrip=False, single_word=False, normalized=True)]})\n"
     ]
    }
   ],
   "source": [
    "print(tokenizer)"
   ]
  },
  {
   "cell_type": "code",
   "execution_count": 17,
   "id": "e2a77e4f-7408-4fb5-aaa6-9aa4ff4d2fc1",
   "metadata": {},
   "outputs": [],
   "source": [
    "feature_extractor = AutoFeatureExtractor.from_pretrained(model_checkpoint)"
   ]
  },
  {
   "cell_type": "code",
   "execution_count": 18,
   "id": "c7115272-af90-4b38-81cf-5953686f828f",
   "metadata": {},
   "outputs": [
    {
     "data": {
      "text/plain": [
       "Wav2Vec2FeatureExtractor {\n",
       "  \"do_normalize\": true,\n",
       "  \"feature_extractor_type\": \"Wav2Vec2FeatureExtractor\",\n",
       "  \"feature_size\": 1,\n",
       "  \"padding_side\": \"right\",\n",
       "  \"padding_value\": 0,\n",
       "  \"return_attention_mask\": true,\n",
       "  \"sampling_rate\": 16000\n",
       "}"
      ]
     },
     "execution_count": 18,
     "metadata": {},
     "output_type": "execute_result"
    }
   ],
   "source": [
    "feature_extractor"
   ]
  },
  {
   "cell_type": "code",
   "execution_count": 19,
   "id": "263b8057-9263-4ead-9ed7-fb0de879ac81",
   "metadata": {},
   "outputs": [],
   "source": [
    "processor = Wav2Vec2Processor(feature_extractor=feature_extractor, tokenizer=tokenizer)"
   ]
  },
  {
   "cell_type": "code",
   "execution_count": 20,
   "id": "d11aaa6d-f818-4bea-b0a9-a94c948a1080",
   "metadata": {},
   "outputs": [
    {
     "data": {
      "text/plain": [
       "Wav2Vec2Processor:\n",
       "- feature_extractor: Wav2Vec2FeatureExtractor {\n",
       "  \"do_normalize\": true,\n",
       "  \"feature_extractor_type\": \"Wav2Vec2FeatureExtractor\",\n",
       "  \"feature_size\": 1,\n",
       "  \"padding_side\": \"right\",\n",
       "  \"padding_value\": 0,\n",
       "  \"return_attention_mask\": true,\n",
       "  \"sampling_rate\": 16000\n",
       "}\n",
       "\n",
       "- tokenizer: PreTrainedTokenizer(name_or_path='./', vocab_size=64, model_max_len=1000000000000000019884624838656, is_fast=False, padding_side='right', truncation_side='right', special_tokens={'bos_token': '<s>', 'eos_token': '</s>', 'unk_token': '[UNK]', 'pad_token': '[PAD]', 'additional_special_tokens': [AddedToken(\"<s>\", rstrip=False, lstrip=False, single_word=False, normalized=True), AddedToken(\"</s>\", rstrip=False, lstrip=False, single_word=False, normalized=True)]})"
      ]
     },
     "execution_count": 20,
     "metadata": {},
     "output_type": "execute_result"
    }
   ],
   "source": [
    "processor"
   ]
  },
  {
   "cell_type": "code",
   "execution_count": 218,
   "id": "7880e389-dde2-4312-97cb-b09e0a671614",
   "metadata": {},
   "outputs": [],
   "source": [
    "#%mkdir model"
   ]
  },
  {
   "cell_type": "code",
   "execution_count": 219,
   "id": "430324d4-b742-4726-81f2-75641d028092",
   "metadata": {},
   "outputs": [],
   "source": [
    "processor.save_pretrained(\"model/wav2vec2\")"
   ]
  },
  {
   "cell_type": "markdown",
   "id": "bfe35625-5d11-4bf3-93e9-a723568857f5",
   "metadata": {},
   "source": [
    "## Audio preprocessing"
   ]
  },
  {
   "cell_type": "code",
   "execution_count": 220,
   "id": "4d546317-0816-4975-a49f-8ee4cb092161",
   "metadata": {},
   "outputs": [],
   "source": [
    "def audio_info_cleaning(df):\n",
    "    df['duration'] = df['duration'].str.replace(':','0')\n",
    "    df['duration'] = df['duration'].astype(int)\n",
    "    return df"
   ]
  },
  {
   "cell_type": "code",
   "execution_count": 223,
   "id": "0bfa26fd-bc70-471a-94f3-5ccaae019fc2",
   "metadata": {},
   "outputs": [],
   "source": [
    "df_train_files_duration = audio_info_cleaning(df_train_files_duration)\n",
    "df_train_files_duration['path'] = 'train_files/' + df_train_files_duration['path']\n",
    "\n",
    "df_validation_files_duration = audio_info_cleaning(df_validation_files_duration)\n",
    "df_validation_files_duration['path'] = 'validation_files/' + df_validation_files_duration['path']\n",
    "\n",
    "df_train_files_duration = pd.concat([df_train_files_duration, df_validation_files_duration], ignore_index=True)"
   ]
  },
  {
   "cell_type": "code",
   "execution_count": 224,
   "id": "265ce029-f5cf-4d22-8f32-8b5a4b99f36e",
   "metadata": {},
   "outputs": [],
   "source": [
    "df_train = df_train.merge(df_train_files_duration,on='path')"
   ]
  },
  {
   "cell_type": "code",
   "execution_count": 225,
   "id": "f32184c8-535b-441d-8939-0bf365dfe7ad",
   "metadata": {},
   "outputs": [
    {
     "data": {
      "text/html": [
       "<div>\n",
       "<style scoped>\n",
       "    .dataframe tbody tr th:only-of-type {\n",
       "        vertical-align: middle;\n",
       "    }\n",
       "\n",
       "    .dataframe tbody tr th {\n",
       "        vertical-align: top;\n",
       "    }\n",
       "\n",
       "    .dataframe thead th {\n",
       "        text-align: right;\n",
       "    }\n",
       "</style>\n",
       "<table border=\"1\" class=\"dataframe\">\n",
       "  <thead>\n",
       "    <tr style=\"text-align: right;\">\n",
       "      <th></th>\n",
       "      <th>path</th>\n",
       "      <th>sentence</th>\n",
       "      <th>votes</th>\n",
       "      <th>duration</th>\n",
       "    </tr>\n",
       "  </thead>\n",
       "  <tbody>\n",
       "    <tr>\n",
       "      <th>0</th>\n",
       "      <td>train_files/common_voice_bn_30991326.mp3</td>\n",
       "      <td>বাবা সত্যেন ঘোষ</td>\n",
       "      <td>0.008264</td>\n",
       "      <td>3</td>\n",
       "    </tr>\n",
       "    <tr>\n",
       "      <th>1</th>\n",
       "      <td>train_files/common_voice_bn_30991371.mp3</td>\n",
       "      <td>দেওয়ান ফরিদ গাজী বাংলাদেশ আওয়ামী লীগের উপদেষ্ট...</td>\n",
       "      <td>0.016529</td>\n",
       "      <td>6</td>\n",
       "    </tr>\n",
       "    <tr>\n",
       "      <th>2</th>\n",
       "      <td>train_files/common_voice_bn_30991410.mp3</td>\n",
       "      <td>এর মাধ্যমে কারও গান গাওয়া দক্ষতা বা নিজস্ব ধর্...</td>\n",
       "      <td>0.008264</td>\n",
       "      <td>6</td>\n",
       "    </tr>\n",
       "    <tr>\n",
       "      <th>3</th>\n",
       "      <td>train_files/common_voice_bn_30991432.mp3</td>\n",
       "      <td>আপনি খুব একটা কথা বলার লোক নন তাই না</td>\n",
       "      <td>0.008264</td>\n",
       "      <td>4</td>\n",
       "    </tr>\n",
       "    <tr>\n",
       "      <th>4</th>\n",
       "      <td>train_files/common_voice_bn_30991478.mp3</td>\n",
       "      <td>আপনি খুব একটা কথা বলার লোক নন তাই না</td>\n",
       "      <td>0.008264</td>\n",
       "      <td>4</td>\n",
       "    </tr>\n",
       "    <tr>\n",
       "      <th>...</th>\n",
       "      <td>...</td>\n",
       "      <td>...</td>\n",
       "      <td>...</td>\n",
       "      <td>...</td>\n",
       "    </tr>\n",
       "    <tr>\n",
       "      <th>214638</th>\n",
       "      <td>validation_files/common_voice_bn_30998756.mp3</td>\n",
       "      <td>তবে রোগাক্রান্ত পোষা বিড়ালের মাধ্যমে এটি বেশি ...</td>\n",
       "      <td>0.056604</td>\n",
       "      <td>5</td>\n",
       "    </tr>\n",
       "    <tr>\n",
       "      <th>214639</th>\n",
       "      <td>validation_files/common_voice_bn_30998849.mp3</td>\n",
       "      <td>পেল ও সহযোগী পেল সংখ্যাগুলি লুকাস ধারার অন্তর্গত</td>\n",
       "      <td>0.037736</td>\n",
       "      <td>6</td>\n",
       "    </tr>\n",
       "    <tr>\n",
       "      <th>214640</th>\n",
       "      <td>validation_files/common_voice_bn_30998861.mp3</td>\n",
       "      <td>গমের আটা এবং পুরো গমের ময়দার মধ্যে পার্থক্য কী</td>\n",
       "      <td>0.056604</td>\n",
       "      <td>6</td>\n",
       "    </tr>\n",
       "    <tr>\n",
       "      <th>214641</th>\n",
       "      <td>validation_files/common_voice_bn_31515352.mp3</td>\n",
       "      <td>এই প্রজাতি জঙ্গলে আবদ্ধ থাকতেই পছন্দ করে</td>\n",
       "      <td>0.075472</td>\n",
       "      <td>6</td>\n",
       "    </tr>\n",
       "    <tr>\n",
       "      <th>214642</th>\n",
       "      <td>validation_files/common_voice_bn_31515356.mp3</td>\n",
       "      <td>কুয়ালালামপুর আন্তর্জাতিক বিমানবন্দর মালয়েশিয়ার...</td>\n",
       "      <td>0.075472</td>\n",
       "      <td>7</td>\n",
       "    </tr>\n",
       "  </tbody>\n",
       "</table>\n",
       "<p>214643 rows × 4 columns</p>\n",
       "</div>"
      ],
      "text/plain": [
       "                                                 path  \\\n",
       "0            train_files/common_voice_bn_30991326.mp3   \n",
       "1            train_files/common_voice_bn_30991371.mp3   \n",
       "2            train_files/common_voice_bn_30991410.mp3   \n",
       "3            train_files/common_voice_bn_30991432.mp3   \n",
       "4            train_files/common_voice_bn_30991478.mp3   \n",
       "...                                               ...   \n",
       "214638  validation_files/common_voice_bn_30998756.mp3   \n",
       "214639  validation_files/common_voice_bn_30998849.mp3   \n",
       "214640  validation_files/common_voice_bn_30998861.mp3   \n",
       "214641  validation_files/common_voice_bn_31515352.mp3   \n",
       "214642  validation_files/common_voice_bn_31515356.mp3   \n",
       "\n",
       "                                                 sentence     votes  duration  \n",
       "0                                         বাবা সত্যেন ঘোষ  0.008264         3  \n",
       "1       দেওয়ান ফরিদ গাজী বাংলাদেশ আওয়ামী লীগের উপদেষ্ট...  0.016529         6  \n",
       "2       এর মাধ্যমে কারও গান গাওয়া দক্ষতা বা নিজস্ব ধর্...  0.008264         6  \n",
       "3                    আপনি খুব একটা কথা বলার লোক নন তাই না  0.008264         4  \n",
       "4                    আপনি খুব একটা কথা বলার লোক নন তাই না  0.008264         4  \n",
       "...                                                   ...       ...       ...  \n",
       "214638  তবে রোগাক্রান্ত পোষা বিড়ালের মাধ্যমে এটি বেশি ...  0.056604         5  \n",
       "214639   পেল ও সহযোগী পেল সংখ্যাগুলি লুকাস ধারার অন্তর্গত  0.037736         6  \n",
       "214640     গমের আটা এবং পুরো গমের ময়দার মধ্যে পার্থক্য কী  0.056604         6  \n",
       "214641           এই প্রজাতি জঙ্গলে আবদ্ধ থাকতেই পছন্দ করে  0.075472         6  \n",
       "214642  কুয়ালালামপুর আন্তর্জাতিক বিমানবন্দর মালয়েশিয়ার...  0.075472         7  \n",
       "\n",
       "[214643 rows x 4 columns]"
      ]
     },
     "execution_count": 225,
     "metadata": {},
     "output_type": "execute_result"
    }
   ],
   "source": [
    "df_train"
   ]
  },
  {
   "cell_type": "code",
   "execution_count": 226,
   "id": "789b5566-724b-41ad-a71a-20e72dd4967a",
   "metadata": {},
   "outputs": [
    {
     "data": {
      "text/plain": [
       "array([ 3,  6,  4, 10,  5,  7,  9,  8,  2,  1, 11,  0])"
      ]
     },
     "execution_count": 226,
     "metadata": {},
     "output_type": "execute_result"
    }
   ],
   "source": [
    "get_all_unique_values(df_train)['duration']"
   ]
  },
  {
   "cell_type": "code",
   "execution_count": 227,
   "id": "007249ec-3fa9-4209-bba4-2542b7f34e4c",
   "metadata": {},
   "outputs": [
    {
     "data": {
      "text/plain": [
       "5     43415\n",
       "4     39697\n",
       "6     35033\n",
       "7     28808\n",
       "8     20391\n",
       "3     20252\n",
       "9     15958\n",
       "10     6279\n",
       "2      4501\n",
       "1       304\n",
       "0         3\n",
       "11        2\n",
       "Name: duration, dtype: int64"
      ]
     },
     "execution_count": 227,
     "metadata": {},
     "output_type": "execute_result"
    }
   ],
   "source": [
    "df_train['duration'].value_counts()"
   ]
  },
  {
   "cell_type": "code",
   "execution_count": 228,
   "id": "fc546804-e698-4caf-9d3a-65ccb442c6fc",
   "metadata": {},
   "outputs": [],
   "source": [
    "# wav2vec2 works best for less than 5 s data\n",
    "# we can try lstm in this part for greater than 5s data\n",
    "\n",
    "df_train = df_train[(df_train['duration'] <= 5) & (df_train['duration'] >=2)]"
   ]
  },
  {
   "cell_type": "code",
   "execution_count": 235,
   "id": "650327dc-ce2b-46f5-9aeb-5916dd775ab7",
   "metadata": {},
   "outputs": [
    {
     "data": {
      "text/html": [
       "<div>\n",
       "<style scoped>\n",
       "    .dataframe tbody tr th:only-of-type {\n",
       "        vertical-align: middle;\n",
       "    }\n",
       "\n",
       "    .dataframe tbody tr th {\n",
       "        vertical-align: top;\n",
       "    }\n",
       "\n",
       "    .dataframe thead th {\n",
       "        text-align: right;\n",
       "    }\n",
       "</style>\n",
       "<table border=\"1\" class=\"dataframe\">\n",
       "  <thead>\n",
       "    <tr style=\"text-align: right;\">\n",
       "      <th></th>\n",
       "      <th>path</th>\n",
       "      <th>sentence</th>\n",
       "      <th>votes</th>\n",
       "      <th>duration</th>\n",
       "    </tr>\n",
       "  </thead>\n",
       "  <tbody>\n",
       "    <tr>\n",
       "      <th>0</th>\n",
       "      <td>train_files/common_voice_bn_30991326.mp3</td>\n",
       "      <td>বাবা সত্যেন ঘোষ</td>\n",
       "      <td>0.008264</td>\n",
       "      <td>3</td>\n",
       "    </tr>\n",
       "    <tr>\n",
       "      <th>1</th>\n",
       "      <td>train_files/common_voice_bn_30991432.mp3</td>\n",
       "      <td>আপনি খুব একটা কথা বলার লোক নন তাই না</td>\n",
       "      <td>0.008264</td>\n",
       "      <td>4</td>\n",
       "    </tr>\n",
       "    <tr>\n",
       "      <th>2</th>\n",
       "      <td>train_files/common_voice_bn_30991478.mp3</td>\n",
       "      <td>আপনি খুব একটা কথা বলার লোক নন তাই না</td>\n",
       "      <td>0.008264</td>\n",
       "      <td>4</td>\n",
       "    </tr>\n",
       "    <tr>\n",
       "      <th>3</th>\n",
       "      <td>train_files/common_voice_bn_30991480.mp3</td>\n",
       "      <td>তার সাম্রাজ্য ছিল বিশ্বজুড়ে</td>\n",
       "      <td>0.008264</td>\n",
       "      <td>4</td>\n",
       "    </tr>\n",
       "    <tr>\n",
       "      <th>4</th>\n",
       "      <td>train_files/common_voice_bn_30991488.mp3</td>\n",
       "      <td>আক্রমণাত্মক ব্যাটিং ও দ্রুত রান সংগ্রাহক হিসেব...</td>\n",
       "      <td>0.008264</td>\n",
       "      <td>4</td>\n",
       "    </tr>\n",
       "    <tr>\n",
       "      <th>...</th>\n",
       "      <td>...</td>\n",
       "      <td>...</td>\n",
       "      <td>...</td>\n",
       "      <td>...</td>\n",
       "    </tr>\n",
       "    <tr>\n",
       "      <th>107860</th>\n",
       "      <td>validation_files/common_voice_bn_31520874.mp3</td>\n",
       "      <td>ব্রিস্টল নতুন বিশ্ব অনুসন্ধানের যাত্রা শুরু কর...</td>\n",
       "      <td>0.188679</td>\n",
       "      <td>4</td>\n",
       "    </tr>\n",
       "    <tr>\n",
       "      <th>107861</th>\n",
       "      <td>validation_files/common_voice_bn_31541319.mp3</td>\n",
       "      <td>পাণ্ডুর দুই স্ত্রী</td>\n",
       "      <td>0.056604</td>\n",
       "      <td>3</td>\n",
       "    </tr>\n",
       "    <tr>\n",
       "      <th>107862</th>\n",
       "      <td>validation_files/common_voice_bn_31541568.mp3</td>\n",
       "      <td>তাকে ধরে ব্রিটিশ পুলিশ</td>\n",
       "      <td>0.113208</td>\n",
       "      <td>2</td>\n",
       "    </tr>\n",
       "    <tr>\n",
       "      <th>107863</th>\n",
       "      <td>validation_files/common_voice_bn_30998752.mp3</td>\n",
       "      <td>তুমি ওকে ভালো করে বুঝিয়ে দিও</td>\n",
       "      <td>0.056604</td>\n",
       "      <td>4</td>\n",
       "    </tr>\n",
       "    <tr>\n",
       "      <th>107864</th>\n",
       "      <td>validation_files/common_voice_bn_30998756.mp3</td>\n",
       "      <td>তবে রোগাক্রান্ত পোষা বিড়ালের মাধ্যমে এটি বেশি ...</td>\n",
       "      <td>0.056604</td>\n",
       "      <td>5</td>\n",
       "    </tr>\n",
       "  </tbody>\n",
       "</table>\n",
       "<p>107865 rows × 4 columns</p>\n",
       "</div>"
      ],
      "text/plain": [
       "                                                 path  \\\n",
       "0            train_files/common_voice_bn_30991326.mp3   \n",
       "1            train_files/common_voice_bn_30991432.mp3   \n",
       "2            train_files/common_voice_bn_30991478.mp3   \n",
       "3            train_files/common_voice_bn_30991480.mp3   \n",
       "4            train_files/common_voice_bn_30991488.mp3   \n",
       "...                                               ...   \n",
       "107860  validation_files/common_voice_bn_31520874.mp3   \n",
       "107861  validation_files/common_voice_bn_31541319.mp3   \n",
       "107862  validation_files/common_voice_bn_31541568.mp3   \n",
       "107863  validation_files/common_voice_bn_30998752.mp3   \n",
       "107864  validation_files/common_voice_bn_30998756.mp3   \n",
       "\n",
       "                                                 sentence     votes  duration  \n",
       "0                                         বাবা সত্যেন ঘোষ  0.008264         3  \n",
       "1                    আপনি খুব একটা কথা বলার লোক নন তাই না  0.008264         4  \n",
       "2                    আপনি খুব একটা কথা বলার লোক নন তাই না  0.008264         4  \n",
       "3                             তার সাম্রাজ্য ছিল বিশ্বজুড়ে  0.008264         4  \n",
       "4       আক্রমণাত্মক ব্যাটিং ও দ্রুত রান সংগ্রাহক হিসেব...  0.008264         4  \n",
       "...                                                   ...       ...       ...  \n",
       "107860  ব্রিস্টল নতুন বিশ্ব অনুসন্ধানের যাত্রা শুরু কর...  0.188679         4  \n",
       "107861                                 পাণ্ডুর দুই স্ত্রী  0.056604         3  \n",
       "107862                             তাকে ধরে ব্রিটিশ পুলিশ  0.113208         2  \n",
       "107863                       তুমি ওকে ভালো করে বুঝিয়ে দিও  0.056604         4  \n",
       "107864  তবে রোগাক্রান্ত পোষা বিড়ালের মাধ্যমে এটি বেশি ...  0.056604         5  \n",
       "\n",
       "[107865 rows x 4 columns]"
      ]
     },
     "execution_count": 235,
     "metadata": {},
     "output_type": "execute_result"
    }
   ],
   "source": [
    "df_train"
   ]
  },
  {
   "cell_type": "code",
   "execution_count": 239,
   "id": "5ca6fd84-6f30-4964-9025-8e515e860e57",
   "metadata": {},
   "outputs": [],
   "source": [
    "df_train = df_train.drop(['votes','duration'],axis=1)"
   ]
  },
  {
   "cell_type": "code",
   "execution_count": 240,
   "id": "073d82ff-ff77-458d-8e80-b2d65fa26afe",
   "metadata": {},
   "outputs": [],
   "source": [
    "df_train.to_csv('dlsprint/df_train_sen+duration.csv',index=False)"
   ]
  },
  {
   "cell_type": "code",
   "execution_count": 241,
   "id": "3014fbd1-84c5-4bc3-8e8a-36a6f71aba73",
   "metadata": {},
   "outputs": [],
   "source": [
    "#df_train = pd.read_csv('dlsprint/df_train_sen+duration.csv')"
   ]
  },
  {
   "cell_type": "markdown",
   "id": "130d63ac-4056-487d-bf03-c4580f1126ea",
   "metadata": {},
   "source": [
    "## Mp3 to Array"
   ]
  },
  {
   "cell_type": "code",
   "execution_count": 300,
   "id": "de190159-3cb1-4a69-af5c-050b40956b25",
   "metadata": {},
   "outputs": [],
   "source": [
    "train = Dataset.from_pandas(df_train.sample(train_size))\n",
    "#submission = Dataset.from_pandas(df_submission)"
   ]
  },
  {
   "cell_type": "code",
   "execution_count": 301,
   "id": "3879c3d6-facd-43e4-a4ec-ecda7a0abf08",
   "metadata": {},
   "outputs": [
    {
     "data": {
      "text/plain": [
       "Dataset({\n",
       "    features: ['path', 'sentence', '__index_level_0__'],\n",
       "    num_rows: 20000\n",
       "})"
      ]
     },
     "execution_count": 301,
     "metadata": {},
     "output_type": "execute_result"
    }
   ],
   "source": [
    "train"
   ]
  },
  {
   "cell_type": "code",
   "execution_count": 302,
   "id": "62ba7693-0c20-4c58-8ff3-eeecdf4263b3",
   "metadata": {},
   "outputs": [
    {
     "name": "stdout",
     "output_type": "stream",
     "text": [
      "9.8G\tdlsprint\n",
      "420K\tdlsprint.ipynb\n",
      "324K\tdlsprint_mp3_torch_audio.ipynb\n"
     ]
    }
   ],
   "source": [
    "!du -hs * | grep \"dlsprint\""
   ]
  },
  {
   "cell_type": "code",
   "execution_count": 303,
   "id": "d3598a2c-d9c6-4320-b678-39bf891a55e9",
   "metadata": {},
   "outputs": [],
   "source": [
    "train.save_to_disk(\"dlsprint/train\")\n",
    "#submission.save_to_disk(\"dlsprint/submission\")"
   ]
  },
  {
   "cell_type": "code",
   "execution_count": 304,
   "id": "d94b2ad2-5546-4bea-93d4-5c8526dcd044",
   "metadata": {},
   "outputs": [
    {
     "name": "stdout",
     "output_type": "stream",
     "text": [
      "9.8G\tdlsprint\n",
      "420K\tdlsprint.ipynb\n",
      "324K\tdlsprint_mp3_torch_audio.ipynb\n"
     ]
    }
   ],
   "source": [
    "!du -hs * | grep \"dlsprint\""
   ]
  },
  {
   "cell_type": "code",
   "execution_count": 4,
   "id": "5b94b456-33f5-437a-804c-821c79c99280",
   "metadata": {},
   "outputs": [],
   "source": [
    "train = Dataset.load_from_disk(\"dlsprint/train\")\n",
    "#submission = Dataset.load_from_disk(\"dlsprint/submission\")"
   ]
  },
  {
   "cell_type": "code",
   "execution_count": 4,
   "id": "b780bd60-dbdf-4cc2-91ad-91bd8ccf6bb6",
   "metadata": {},
   "outputs": [
    {
     "data": {
      "text/plain": [
       "Dataset({\n",
       "    features: ['path', 'sentence', '__index_level_0__'],\n",
       "    num_rows: 1000\n",
       "})"
      ]
     },
     "execution_count": 4,
     "metadata": {},
     "output_type": "execute_result"
    }
   ],
   "source": [
    "train"
   ]
  },
  {
   "cell_type": "code",
   "execution_count": 307,
   "id": "39e568ae-2658-4d01-821f-35a54d11f53e",
   "metadata": {},
   "outputs": [],
   "source": [
    "def show_random_elements(dataset, num_examples=10):\n",
    "    assert num_examples <= len(dataset), \"Can't pick more elements than there are in the dataset.\"\n",
    "    picks = []\n",
    "    for _ in range(num_examples):\n",
    "        pick = random.randint(0, len(dataset)-1)\n",
    "        while pick in picks:\n",
    "            pick = random.randint(0, len(dataset)-1)\n",
    "        picks.append(pick)\n",
    "    \n",
    "    df = pd.DataFrame(dataset[picks])\n",
    "    return df"
   ]
  },
  {
   "cell_type": "code",
   "execution_count": 308,
   "id": "4895fd2d-3c27-41b0-837b-56c4706af89f",
   "metadata": {},
   "outputs": [
    {
     "data": {
      "text/html": [
       "<div>\n",
       "<style scoped>\n",
       "    .dataframe tbody tr th:only-of-type {\n",
       "        vertical-align: middle;\n",
       "    }\n",
       "\n",
       "    .dataframe tbody tr th {\n",
       "        vertical-align: top;\n",
       "    }\n",
       "\n",
       "    .dataframe thead th {\n",
       "        text-align: right;\n",
       "    }\n",
       "</style>\n",
       "<table border=\"1\" class=\"dataframe\">\n",
       "  <thead>\n",
       "    <tr style=\"text-align: right;\">\n",
       "      <th></th>\n",
       "      <th>sentence</th>\n",
       "      <th>__index_level_0__</th>\n",
       "    </tr>\n",
       "  </thead>\n",
       "  <tbody>\n",
       "    <tr>\n",
       "      <th>0</th>\n",
       "      <td>জাপানের টোকিও শহরে এর সদরদপ্তর অবস্থিত</td>\n",
       "      <td>50409</td>\n",
       "    </tr>\n",
       "    <tr>\n",
       "      <th>1</th>\n",
       "      <td>তিনি নিয়োগ প্রশিক্ষণ ক্যাম্পে সেরা প্রশিক্ষণার...</td>\n",
       "      <td>32164</td>\n",
       "    </tr>\n",
       "    <tr>\n",
       "      <th>2</th>\n",
       "      <td>তিনি বহু গঠনমূলক ও সামাজিক কাজে অংশ নিতেন</td>\n",
       "      <td>84656</td>\n",
       "    </tr>\n",
       "    <tr>\n",
       "      <th>3</th>\n",
       "      <td>মধুবনী জেলা পাঁচটি মহকুমায় বিভক্ত</td>\n",
       "      <td>82110</td>\n",
       "    </tr>\n",
       "    <tr>\n",
       "      <th>4</th>\n",
       "      <td>বর্তমানে বিশ্ববিদ্যালয়টির মোট চারটি অনুষদ আছে</td>\n",
       "      <td>26063</td>\n",
       "    </tr>\n",
       "    <tr>\n",
       "      <th>5</th>\n",
       "      <td>শহরটি বর্তমানে ইস্তানবুল নামে পরিচিত</td>\n",
       "      <td>24093</td>\n",
       "    </tr>\n",
       "    <tr>\n",
       "      <th>6</th>\n",
       "      <td>এটি হেজাজ রেলওয়ের অংশ ছিল এবং রেলের অনেকগুলি র...</td>\n",
       "      <td>88915</td>\n",
       "    </tr>\n",
       "    <tr>\n",
       "      <th>7</th>\n",
       "      <td>পিটার ফিঞ্চ এই বিভাগে সর্বাধিক পাঁচবার পুরস্কা...</td>\n",
       "      <td>24976</td>\n",
       "    </tr>\n",
       "    <tr>\n",
       "      <th>8</th>\n",
       "      <td>এসব জলাশয় বিল নামে পরিচিত</td>\n",
       "      <td>58141</td>\n",
       "    </tr>\n",
       "    <tr>\n",
       "      <th>9</th>\n",
       "      <td>তার বাবা ক্যাথলিক এবং তার মা যুয়িশ</td>\n",
       "      <td>28419</td>\n",
       "    </tr>\n",
       "    <tr>\n",
       "      <th>10</th>\n",
       "      <td>ওই অবস্থায় পাল্টা আক্রমণ ছাড়া আর কোনো পথ খোলা ...</td>\n",
       "      <td>44726</td>\n",
       "    </tr>\n",
       "    <tr>\n",
       "      <th>11</th>\n",
       "      <td>প্রত্যেকের কাছে যেতে হবে ও ট্রফি বিজয়ের চেষ্টা...</td>\n",
       "      <td>59993</td>\n",
       "    </tr>\n",
       "    <tr>\n",
       "      <th>12</th>\n",
       "      <td>সমগ্র খেলোয়াড়ী জীবনে একটিমাত্র টেস্টে অংশগ্রহণ...</td>\n",
       "      <td>107217</td>\n",
       "    </tr>\n",
       "    <tr>\n",
       "      <th>13</th>\n",
       "      <td>এটি ঢাকাময়মনসিংহ মহাসড়কের একটি অংশ</td>\n",
       "      <td>64168</td>\n",
       "    </tr>\n",
       "    <tr>\n",
       "      <th>14</th>\n",
       "      <td>ছাত্রলীগের মাধ্যমে তিনি রাজনীতি শুরু করেন</td>\n",
       "      <td>70571</td>\n",
       "    </tr>\n",
       "    <tr>\n",
       "      <th>15</th>\n",
       "      <td>তার বাবা তেমন ক্রিকেট খেলতেন না</td>\n",
       "      <td>12286</td>\n",
       "    </tr>\n",
       "    <tr>\n",
       "      <th>16</th>\n",
       "      <td>সনদী সিভিল সার্ভিস সদস্যদের বেতন কাঠামো অত্যন্...</td>\n",
       "      <td>72494</td>\n",
       "    </tr>\n",
       "    <tr>\n",
       "      <th>17</th>\n",
       "      <td>কয়েক প্রজাতির আগাছা</td>\n",
       "      <td>71744</td>\n",
       "    </tr>\n",
       "    <tr>\n",
       "      <th>18</th>\n",
       "      <td>মেয়েটি ডাক্তারদের বলেছিল যে শিশুটি বিছানা থেকে...</td>\n",
       "      <td>100980</td>\n",
       "    </tr>\n",
       "    <tr>\n",
       "      <th>19</th>\n",
       "      <td>শরীরের কিছু বিশেষ অঙ্গ মিউকাস তৈরি করে দেহের প...</td>\n",
       "      <td>14398</td>\n",
       "    </tr>\n",
       "  </tbody>\n",
       "</table>\n",
       "</div>"
      ],
      "text/plain": [
       "                                             sentence  __index_level_0__\n",
       "0              জাপানের টোকিও শহরে এর সদরদপ্তর অবস্থিত              50409\n",
       "1   তিনি নিয়োগ প্রশিক্ষণ ক্যাম্পে সেরা প্রশিক্ষণার...              32164\n",
       "2           তিনি বহু গঠনমূলক ও সামাজিক কাজে অংশ নিতেন              84656\n",
       "3                   মধুবনী জেলা পাঁচটি মহকুমায় বিভক্ত              82110\n",
       "4       বর্তমানে বিশ্ববিদ্যালয়টির মোট চারটি অনুষদ আছে              26063\n",
       "5                শহরটি বর্তমানে ইস্তানবুল নামে পরিচিত              24093\n",
       "6   এটি হেজাজ রেলওয়ের অংশ ছিল এবং রেলের অনেকগুলি র...              88915\n",
       "7   পিটার ফিঞ্চ এই বিভাগে সর্বাধিক পাঁচবার পুরস্কা...              24976\n",
       "8                           এসব জলাশয় বিল নামে পরিচিত              58141\n",
       "9                  তার বাবা ক্যাথলিক এবং তার মা যুয়িশ              28419\n",
       "10  ওই অবস্থায় পাল্টা আক্রমণ ছাড়া আর কোনো পথ খোলা ...              44726\n",
       "11  প্রত্যেকের কাছে যেতে হবে ও ট্রফি বিজয়ের চেষ্টা...              59993\n",
       "12  সমগ্র খেলোয়াড়ী জীবনে একটিমাত্র টেস্টে অংশগ্রহণ...             107217\n",
       "13                 এটি ঢাকাময়মনসিংহ মহাসড়কের একটি অংশ              64168\n",
       "14          ছাত্রলীগের মাধ্যমে তিনি রাজনীতি শুরু করেন              70571\n",
       "15                    তার বাবা তেমন ক্রিকেট খেলতেন না              12286\n",
       "16  সনদী সিভিল সার্ভিস সদস্যদের বেতন কাঠামো অত্যন্...              72494\n",
       "17                                কয়েক প্রজাতির আগাছা              71744\n",
       "18  মেয়েটি ডাক্তারদের বলেছিল যে শিশুটি বিছানা থেকে...             100980\n",
       "19  শরীরের কিছু বিশেষ অঙ্গ মিউকাস তৈরি করে দেহের প...              14398"
      ]
     },
     "execution_count": 308,
     "metadata": {},
     "output_type": "execute_result"
    }
   ],
   "source": [
    "show_random_elements(train.remove_columns([\"path\"]), num_examples=20)"
   ]
  },
  {
   "cell_type": "code",
   "execution_count": 5,
   "id": "d6748ff6-7e22-4532-aa51-da6fd7a26669",
   "metadata": {},
   "outputs": [],
   "source": [
    "resamplers = {  \n",
    "    48000: torchaudio.transforms.Resample(48000, 16000),\n",
    "    44100: torchaudio.transforms.Resample(44100, 16000),\n",
    "    32000: torchaudio.transforms.Resample(32000, 16000),\n",
    "}"
   ]
  },
  {
   "cell_type": "code",
   "execution_count": 6,
   "id": "9854f586-58f0-47df-b04b-8d56e749fee7",
   "metadata": {},
   "outputs": [],
   "source": [
    "def speech_file_to_array_torch(batch):\n",
    "    speech_array, sampling_rate = torchaudio.load(batch[\"path\"])\n",
    "    batch[\"speech\"] = resamplers[sampling_rate](speech_array).squeeze().numpy()\n",
    "    batch[\"speech\"] = np.trim_zeros(batch[\"speech\"])\n",
    "    batch[\"sampling_rate\"] = sampling_rate\n",
    "    batch[\"target_text\"] = batch[\"sentence\"]\n",
    "    return batch\n",
    "def speech_file_to_array_submission_torch(batch):\n",
    "    speech_array, sampling_rate = torchaudio.load(batch[\"path\"])\n",
    "    batch[\"speech\"] = resamplers[sampling_rate](speech_array).squeeze().numpy()\n",
    "    batch[\"speech\"] = np.trim_zeros(batch[\"speech\"])\n",
    "    batch[\"sampling_rate\"] = sampling_rate\n",
    "    return batch"
   ]
  },
  {
   "cell_type": "code",
   "execution_count": 311,
   "id": "30fcb3fb-7e7e-4b12-9124-41ba50414b0c",
   "metadata": {},
   "outputs": [
    {
     "data": {
      "text/plain": [
       "582"
      ]
     },
     "execution_count": 311,
     "metadata": {},
     "output_type": "execute_result"
    }
   ],
   "source": [
    "gc.collect()"
   ]
  },
  {
   "cell_type": "code",
   "execution_count": 312,
   "id": "afef80be-9cad-4713-a68f-54d16eb5f70b",
   "metadata": {},
   "outputs": [
    {
     "data": {
      "text/plain": [
       "Dataset({\n",
       "    features: ['path', 'sentence', '__index_level_0__'],\n",
       "    num_rows: 20000\n",
       "})"
      ]
     },
     "execution_count": 312,
     "metadata": {},
     "output_type": "execute_result"
    }
   ],
   "source": [
    "train"
   ]
  },
  {
   "cell_type": "code",
   "execution_count": 313,
   "id": "87d622a9-482a-493f-9068-800ea0df1152",
   "metadata": {},
   "outputs": [
    {
     "name": "stdout",
     "output_type": "stream",
     "text": [
      "9.8G\tdlsprint\n",
      "420K\tdlsprint.ipynb\n",
      "324K\tdlsprint_mp3_torch_audio.ipynb\n"
     ]
    }
   ],
   "source": [
    "!du -hs * | grep \"dlsprint\""
   ]
  },
  {
   "cell_type": "code",
   "execution_count": 7,
   "id": "9c34bac8-f23b-4afd-b24c-60e1f5e3962a",
   "metadata": {},
   "outputs": [
    {
     "name": "stderr",
     "output_type": "stream",
     "text": [
      "Parameter 'function'=<function speech_file_to_array_torch at 0x7fd600b21ab0> of the transform datasets.arrow_dataset.Dataset._map_single couldn't be hashed properly, a random hash was used instead. Make sure your transforms and parameters are serializable with pickle or dill for the dataset fingerprinting and caching to work. If you reuse this transform, the caching mechanism will consider it to be different from the previous calls and recompute everything. This warning is only showed once. Subsequent hashing failures won't be showed.\n"
     ]
    },
    {
     "data": {
      "application/vnd.jupyter.widget-view+json": {
       "model_id": "bf68d35e574b4ab6bb7c75acbc6ab596",
       "version_major": 2,
       "version_minor": 0
      },
      "text/plain": [
       "  0%|          | 0/1000 [00:00<?, ?ex/s]"
      ]
     },
     "metadata": {},
     "output_type": "display_data"
    }
   ],
   "source": [
    "train = train.map(speech_file_to_array_torch, remove_columns=train.column_names,batch_size=500)"
   ]
  },
  {
   "cell_type": "code",
   "execution_count": 315,
   "id": "e68abfc9-994a-433d-ad05-3618bb8bb524",
   "metadata": {},
   "outputs": [
    {
     "name": "stdout",
     "output_type": "stream",
     "text": [
      "5.5G\tdlsprint\n",
      "420K\tdlsprint.ipynb\n",
      "164K\tdlsprint_mp3_torch_audio.ipynb\n"
     ]
    }
   ],
   "source": [
    "!du -hs * | grep \"dlsprint\""
   ]
  },
  {
   "cell_type": "code",
   "execution_count": 316,
   "id": "45c8c461-725c-4a4b-9af5-643b3c9e4be1",
   "metadata": {},
   "outputs": [
    {
     "data": {
      "text/plain": [
       "0"
      ]
     },
     "execution_count": 316,
     "metadata": {},
     "output_type": "execute_result"
    }
   ],
   "source": [
    "train.cleanup_cache_files()"
   ]
  },
  {
   "cell_type": "code",
   "execution_count": 317,
   "id": "58e3d6e3-0978-4219-9b6a-9099e9fe171f",
   "metadata": {},
   "outputs": [
    {
     "data": {
      "text/plain": [
       "27"
      ]
     },
     "execution_count": 317,
     "metadata": {},
     "output_type": "execute_result"
    }
   ],
   "source": [
    "gc.collect()"
   ]
  },
  {
   "cell_type": "code",
   "execution_count": 318,
   "id": "77489102-2699-4e91-a377-1be7c59e549d",
   "metadata": {},
   "outputs": [
    {
     "name": "stdout",
     "output_type": "stream",
     "text": [
      "5.5G\tdlsprint\n",
      "420K\tdlsprint.ipynb\n",
      "164K\tdlsprint_mp3_torch_audio.ipynb\n"
     ]
    }
   ],
   "source": [
    "!du -hs * | grep \"dlsprint\""
   ]
  },
  {
   "cell_type": "code",
   "execution_count": 10,
   "id": "e7421968-d695-4c6d-9b1c-68265fe8b91a",
   "metadata": {},
   "outputs": [],
   "source": [
    "train.set_format(\"numpy\", columns=[\"speech\",\"sampling_rate\"], output_all_columns=True)"
   ]
  },
  {
   "cell_type": "code",
   "execution_count": 320,
   "id": "afa79292-0338-4f71-a98c-2dcf172ec2d2",
   "metadata": {},
   "outputs": [
    {
     "name": "stdout",
     "output_type": "stream",
     "text": [
      "RAM used: 1896.77 MB\n"
     ]
    }
   ],
   "source": [
    "import psutil\n",
    "print(f\"RAM used: {psutil.Process().memory_info().rss / (1024 * 1024):.2f} MB\")"
   ]
  },
  {
   "cell_type": "markdown",
   "id": "8ef17de0-81a2-4d68-9d6a-e5480620ac93",
   "metadata": {
    "tags": []
   },
   "source": [
    "# Training the data"
   ]
  },
  {
   "cell_type": "markdown",
   "id": "bae047d2-f011-4d48-8584-c4a89268c4ff",
   "metadata": {},
   "source": [
    "## Preparing the inputs and labels"
   ]
  },
  {
   "cell_type": "code",
   "execution_count": 321,
   "id": "bf0fb45a-2a20-4e47-b8e6-28feb9307b2e",
   "metadata": {},
   "outputs": [
    {
     "data": {
      "text/plain": [
       "Dataset({\n",
       "    features: ['speech', 'sampling_rate', 'target_text'],\n",
       "    num_rows: 20000\n",
       "})"
      ]
     },
     "execution_count": 321,
     "metadata": {},
     "output_type": "execute_result"
    }
   ],
   "source": [
    "train"
   ]
  },
  {
   "cell_type": "code",
   "execution_count": 322,
   "id": "24a13e82-9ac5-43ad-99f6-432bc30b7437",
   "metadata": {},
   "outputs": [
    {
     "data": {
      "text/plain": [
       "numpy.ndarray"
      ]
     },
     "execution_count": 322,
     "metadata": {},
     "output_type": "execute_result"
    }
   ],
   "source": [
    "type(train[0]['speech'])"
   ]
  },
  {
   "cell_type": "code",
   "execution_count": 11,
   "id": "896b1d19-98f8-44a0-93a6-638446dd9103",
   "metadata": {},
   "outputs": [],
   "source": [
    "def prepare_dataset(batch):\n",
    "    batch[\"input_values\"] = processor(batch[\"speech\"], sampling_rate=16000).input_values[0]\n",
    "    batch[\"input_length\"] = len(batch[\"input_values\"])\n",
    "    with processor.as_target_processor():\n",
    "        batch[\"labels\"] = processor(batch[\"target_text\"]).input_ids\n",
    "    return batch"
   ]
  },
  {
   "cell_type": "code",
   "execution_count": 324,
   "id": "e20616fc-72a2-4ca7-8095-53052cd2d578",
   "metadata": {},
   "outputs": [],
   "source": [
    "def prepare_dataset_submission(batch):\n",
    "    batch[\"input_values\"] = processor(batch[\"speech\"], sampling_rate=16000).input_values[0]\n",
    "    batch[\"input_length\"] = len(batch[\"input_values\"])\n",
    "    return batch"
   ]
  },
  {
   "cell_type": "code",
   "execution_count": 325,
   "id": "53b48c92-94af-49d3-9853-c4c0c3b26714",
   "metadata": {},
   "outputs": [
    {
     "data": {
      "text/plain": [
       "0"
      ]
     },
     "execution_count": 325,
     "metadata": {},
     "output_type": "execute_result"
    }
   ],
   "source": [
    "gc.collect()"
   ]
  },
  {
   "cell_type": "code",
   "execution_count": 21,
   "id": "54d2ba41-a6a0-4d3d-afa7-98c83869f2c9",
   "metadata": {},
   "outputs": [
    {
     "data": {
      "application/vnd.jupyter.widget-view+json": {
       "model_id": "d7c24554b85f4aae95ebae080e2e9d3e",
       "version_major": 2,
       "version_minor": 0
      },
      "text/plain": [
       "  0%|          | 0/1000 [00:00<?, ?ex/s]"
      ]
     },
     "metadata": {},
     "output_type": "display_data"
    }
   ],
   "source": [
    "train=train.map(prepare_dataset, remove_columns=train.column_names)"
   ]
  },
  {
   "cell_type": "code",
   "execution_count": 24,
   "id": "0af2fc16-b3b9-492c-8e1a-f6e92bc98f60",
   "metadata": {},
   "outputs": [
    {
     "ename": "AttributeError",
     "evalue": "'Dataset' object has no attribute 'keys'",
     "output_type": "error",
     "traceback": [
      "\u001b[0;31m---------------------------------------------------------------------------\u001b[0m",
      "\u001b[0;31mAttributeError\u001b[0m                            Traceback (most recent call last)",
      "Input \u001b[0;32mIn [24]\u001b[0m, in \u001b[0;36m<cell line: 1>\u001b[0;34m()\u001b[0m\n\u001b[0;32m----> 1\u001b[0m batch \u001b[38;5;241m=\u001b[39m \u001b[43mprocessor\u001b[49m\u001b[38;5;241;43m.\u001b[39;49m\u001b[43mpad\u001b[49m\u001b[43m(\u001b[49m\u001b[43mtrain\u001b[49m\u001b[43m,\u001b[49m\u001b[43m \u001b[49m\u001b[43mpadding\u001b[49m\u001b[38;5;241;43m=\u001b[39;49m\u001b[38;5;28;43;01mTrue\u001b[39;49;00m\u001b[43m,\u001b[49m\u001b[43m \u001b[49m\u001b[43mtruncation\u001b[49m\u001b[38;5;241;43m=\u001b[39;49m\u001b[38;5;28;43;01mTrue\u001b[39;49;00m\u001b[43m,\u001b[49m\u001b[43m \u001b[49m\u001b[43mreturn_tensors\u001b[49m\u001b[38;5;241;43m=\u001b[39;49m\u001b[38;5;124;43m\"\u001b[39;49m\u001b[38;5;124;43mpt\u001b[39;49m\u001b[38;5;124;43m\"\u001b[39;49m\u001b[43m)\u001b[49m\n",
      "File \u001b[0;32m~/.conda/envs/pytorch/lib/python3.10/site-packages/transformers/models/wav2vec2/processing_wav2vec2.py:82\u001b[0m, in \u001b[0;36mWav2Vec2Processor.pad\u001b[0;34m(self, *args, **kwargs)\u001b[0m\n\u001b[1;32m     75\u001b[0m \u001b[38;5;28;01mdef\u001b[39;00m \u001b[38;5;21mpad\u001b[39m(\u001b[38;5;28mself\u001b[39m, \u001b[38;5;241m*\u001b[39margs, \u001b[38;5;241m*\u001b[39m\u001b[38;5;241m*\u001b[39mkwargs):\n\u001b[1;32m     76\u001b[0m     \u001b[38;5;124;03m\"\"\"\u001b[39;00m\n\u001b[1;32m     77\u001b[0m \u001b[38;5;124;03m    When used in normal mode, this method forwards all its arguments to Wav2Vec2FeatureExtractor's\u001b[39;00m\n\u001b[1;32m     78\u001b[0m \u001b[38;5;124;03m    [`~Wav2Vec2FeatureExtractor.pad`] and returns its output. If used in the context\u001b[39;00m\n\u001b[1;32m     79\u001b[0m \u001b[38;5;124;03m    [`~Wav2Vec2Processor.as_target_processor`] this method forwards all its arguments to PreTrainedTokenizer's\u001b[39;00m\n\u001b[1;32m     80\u001b[0m \u001b[38;5;124;03m    [`~PreTrainedTokenizer.pad`]. Please refer to the docstring of the above two methods for more information.\u001b[39;00m\n\u001b[1;32m     81\u001b[0m \u001b[38;5;124;03m    \"\"\"\u001b[39;00m\n\u001b[0;32m---> 82\u001b[0m     \u001b[38;5;28;01mreturn\u001b[39;00m \u001b[38;5;28;43mself\u001b[39;49m\u001b[38;5;241;43m.\u001b[39;49m\u001b[43mcurrent_processor\u001b[49m\u001b[38;5;241;43m.\u001b[39;49m\u001b[43mpad\u001b[49m\u001b[43m(\u001b[49m\u001b[38;5;241;43m*\u001b[39;49m\u001b[43margs\u001b[49m\u001b[43m,\u001b[49m\u001b[43m \u001b[49m\u001b[38;5;241;43m*\u001b[39;49m\u001b[38;5;241;43m*\u001b[39;49m\u001b[43mkwargs\u001b[49m\u001b[43m)\u001b[49m\n",
      "File \u001b[0;32m~/.conda/envs/pytorch/lib/python3.10/site-packages/transformers/feature_extraction_sequence_utils.py:136\u001b[0m, in \u001b[0;36mSequenceFeatureExtractor.pad\u001b[0;34m(self, processed_features, padding, max_length, truncation, pad_to_multiple_of, return_attention_mask, return_tensors)\u001b[0m\n\u001b[1;32m    131\u001b[0m \u001b[38;5;66;03m# The model's main input name, usually `input_values`, has be passed for padding\u001b[39;00m\n\u001b[1;32m    132\u001b[0m \u001b[38;5;28;01mif\u001b[39;00m \u001b[38;5;28mself\u001b[39m\u001b[38;5;241m.\u001b[39mmodel_input_names[\u001b[38;5;241m0\u001b[39m] \u001b[38;5;129;01mnot\u001b[39;00m \u001b[38;5;129;01min\u001b[39;00m processed_features:\n\u001b[1;32m    133\u001b[0m     \u001b[38;5;28;01mraise\u001b[39;00m \u001b[38;5;167;01mValueError\u001b[39;00m(\n\u001b[1;32m    134\u001b[0m         \u001b[38;5;124m\"\u001b[39m\u001b[38;5;124mYou should supply an instance of `transformers.BatchFeature` or list of `transformers.BatchFeature`\u001b[39m\u001b[38;5;124m\"\u001b[39m\n\u001b[1;32m    135\u001b[0m         \u001b[38;5;124mf\u001b[39m\u001b[38;5;124m\"\u001b[39m\u001b[38;5;124m to this method that includes \u001b[39m\u001b[38;5;132;01m{\u001b[39;00m\u001b[38;5;28mself\u001b[39m\u001b[38;5;241m.\u001b[39mmodel_input_names[\u001b[38;5;241m0\u001b[39m]\u001b[38;5;132;01m}\u001b[39;00m\u001b[38;5;124m, but you provided\u001b[39m\u001b[38;5;124m\"\u001b[39m\n\u001b[0;32m--> 136\u001b[0m         \u001b[38;5;124mf\u001b[39m\u001b[38;5;124m\"\u001b[39m\u001b[38;5;124m \u001b[39m\u001b[38;5;132;01m{\u001b[39;00m\u001b[38;5;28mlist\u001b[39m(processed_features\u001b[38;5;241m.\u001b[39mkeys())\u001b[38;5;132;01m}\u001b[39;00m\u001b[38;5;124m\"\u001b[39m\n\u001b[1;32m    137\u001b[0m     )\n\u001b[1;32m    139\u001b[0m required_input \u001b[38;5;241m=\u001b[39m processed_features[\u001b[38;5;28mself\u001b[39m\u001b[38;5;241m.\u001b[39mmodel_input_names[\u001b[38;5;241m0\u001b[39m]]\n\u001b[1;32m    140\u001b[0m return_attention_mask \u001b[38;5;241m=\u001b[39m (\n\u001b[1;32m    141\u001b[0m     return_attention_mask \u001b[38;5;28;01mif\u001b[39;00m return_attention_mask \u001b[38;5;129;01mis\u001b[39;00m \u001b[38;5;129;01mnot\u001b[39;00m \u001b[38;5;28;01mNone\u001b[39;00m \u001b[38;5;28;01melse\u001b[39;00m \u001b[38;5;28mself\u001b[39m\u001b[38;5;241m.\u001b[39mreturn_attention_mask\n\u001b[1;32m    142\u001b[0m )\n",
      "\u001b[0;31mAttributeError\u001b[0m: 'Dataset' object has no attribute 'keys'"
     ]
    }
   ],
   "source": [
    "batch = processor.pad(train, padding=True, truncation=True, return_tensors=\"pt\")"
   ]
  },
  {
   "cell_type": "code",
   "execution_count": 327,
   "id": "022dfdac-4363-4b79-94ad-a376584c6819",
   "metadata": {},
   "outputs": [
    {
     "name": "stdout",
     "output_type": "stream",
     "text": [
      "17G\tdlsprint\n",
      "420K\tdlsprint.ipynb\n",
      "168K\tdlsprint_mp3_torch_audio.ipynb\n"
     ]
    }
   ],
   "source": [
    "!du -hs * | grep \"dlsprint\""
   ]
  },
  {
   "cell_type": "code",
   "execution_count": 328,
   "id": "c0652de8-959d-43a3-bc0f-e8382b708243",
   "metadata": {},
   "outputs": [
    {
     "data": {
      "text/plain": [
       "1"
      ]
     },
     "execution_count": 328,
     "metadata": {},
     "output_type": "execute_result"
    }
   ],
   "source": [
    "train.cleanup_cache_files()"
   ]
  },
  {
   "cell_type": "code",
   "execution_count": 329,
   "id": "fb57a91b-5251-4ff7-8135-5775e4ea43b8",
   "metadata": {},
   "outputs": [
    {
     "data": {
      "text/plain": [
       "27"
      ]
     },
     "execution_count": 329,
     "metadata": {},
     "output_type": "execute_result"
    }
   ],
   "source": [
    "gc.collect()"
   ]
  },
  {
   "cell_type": "code",
   "execution_count": 330,
   "id": "c47919a3-ba7b-41de-a6e3-77bbcb654a79",
   "metadata": {},
   "outputs": [
    {
     "name": "stdout",
     "output_type": "stream",
     "text": [
      "11G\tdlsprint\n",
      "420K\tdlsprint.ipynb\n",
      "168K\tdlsprint_mp3_torch_audio.ipynb\n"
     ]
    }
   ],
   "source": [
    "!du -hs * | grep \"dlsprint\""
   ]
  },
  {
   "cell_type": "code",
   "execution_count": 331,
   "id": "6c6a4402-9c54-4ef1-98cf-463626fc71d5",
   "metadata": {},
   "outputs": [
    {
     "data": {
      "text/plain": [
       "Dataset({\n",
       "    features: ['speech', 'sampling_rate', 'target_text', 'input_values', 'input_length', 'labels'],\n",
       "    num_rows: 20000\n",
       "})"
      ]
     },
     "execution_count": 331,
     "metadata": {},
     "output_type": "execute_result"
    }
   ],
   "source": [
    "train"
   ]
  },
  {
   "cell_type": "code",
   "execution_count": 332,
   "id": "b6b02c77-672f-474c-9348-376ed039eed4",
   "metadata": {},
   "outputs": [
    {
     "data": {
      "text/plain": [
       "{'speech': Sequence(feature=Value(dtype='float32', id=None), length=-1, id=None),\n",
       " 'sampling_rate': Value(dtype='int64', id=None),\n",
       " 'target_text': Value(dtype='string', id=None),\n",
       " 'input_values': Sequence(feature=Value(dtype='float32', id=None), length=-1, id=None),\n",
       " 'input_length': Value(dtype='int64', id=None),\n",
       " 'labels': Sequence(feature=Value(dtype='int64', id=None), length=-1, id=None)}"
      ]
     },
     "execution_count": 332,
     "metadata": {},
     "output_type": "execute_result"
    }
   ],
   "source": [
    "train.features"
   ]
  },
  {
   "cell_type": "markdown",
   "id": "c3423c83-a780-4487-8b6d-587536e7b23e",
   "metadata": {},
   "source": [
    "## Train test Split"
   ]
  },
  {
   "cell_type": "code",
   "execution_count": 333,
   "id": "fb339ff9-3599-40d8-bb0a-34634ac72c49",
   "metadata": {},
   "outputs": [],
   "source": [
    "train_test=train.train_test_split(test_size=0.1, shuffle=True)\n",
    "train = train_test['train']\n",
    "test = train_test['test']"
   ]
  },
  {
   "cell_type": "code",
   "execution_count": 334,
   "id": "49459df4-d595-4022-bad5-501999f358e8",
   "metadata": {},
   "outputs": [
    {
     "data": {
      "text/plain": [
       "Dataset({\n",
       "    features: ['speech', 'sampling_rate', 'target_text', 'input_values', 'input_length', 'labels'],\n",
       "    num_rows: 18000\n",
       "})"
      ]
     },
     "execution_count": 334,
     "metadata": {},
     "output_type": "execute_result"
    }
   ],
   "source": [
    "train"
   ]
  },
  {
   "cell_type": "code",
   "execution_count": 335,
   "id": "dd3bfc3b-ff1a-44ee-8790-cfed0516eef2",
   "metadata": {},
   "outputs": [
    {
     "data": {
      "text/plain": [
       "Dataset({\n",
       "    features: ['speech', 'sampling_rate', 'target_text', 'input_values', 'input_length', 'labels'],\n",
       "    num_rows: 2000\n",
       "})"
      ]
     },
     "execution_count": 335,
     "metadata": {},
     "output_type": "execute_result"
    }
   ],
   "source": [
    "test"
   ]
  },
  {
   "cell_type": "code",
   "execution_count": 336,
   "id": "4ae3dbff-302a-4676-8618-fb47173ef123",
   "metadata": {},
   "outputs": [
    {
     "name": "stdout",
     "output_type": "stream",
     "text": [
      "Target text: তাপমাত্রা গ্রীষ্মে অতিক্রম করে\n",
      "Input array shape: (60382,)\n",
      "Sampling rate: 32000\n"
     ]
    },
    {
     "data": {
      "text/html": [
       "\n",
       "                <audio  controls=\"controls\" autoplay=\"autoplay\">\n",
       "                    <source src=\"data:audio/wav;base64,UklGRuDXAQBXQVZFZm10IBAAAAABAAEAgD4AAAB9AAACABAAZGF0YbzXAQAAAAAAAAAAAAAAAAAAAAAAAAAAAAAAAAAAAAAAAAAAAAAAAAAAAAAAAAAAAAAAAAAAAAAAAAAAAAAAAAAAAAAAAAAAAAAAAAAAAAAAAAAAAAAAAAAAAAAAAAAAAAAAAAAAAAAAAAAAAAAAAAAAAAAAAAAAAAAAAAAAAAAAAAAAAAAAAAAAAAAAAAAAAAAAAAAAAAAAAAAAAAAAAAAAAAAAAAAAAAAAAAAAAAAAAAAAAAAAAAAAAAAAAAAAAAAAAAAAAAAAAAAAAAAAAAAAAAAAAAAAAAAAAAAAAAAAAAAAAAAAAAAAAAAAAAAAAAAAAAAAAAAAAAAAAAAAAAAAAAAAAAAAAAAAAAAAAAAAAAAAAAAAAAAAAAAAAAAAAAAAAAAAAAAAAAAAAAAAAAAAAAAAAAAAAAAAAAAAAAAAAAAAAAAAAAAAAAAAAAAAAAAAAAAAAAAAAAAAAAAAAAAAAAAAAAAAAAAAAAAAAAAAAAAAAAAAAAAAAAAAAAAAAAAAAAAAAAAAAAAAAAAAAAAAAAAAAAAAAAAAAAAAAAAAAAAAAAAAAAAAAAAAAAAAAAAAAAAAAAAAAAAAAAAAAAAAAAAAAAAAAAAAAAAAAAAAAAAAAAAAAAAAAAAAAAAAAAAAAAAAAAAAAAAAAAAAAAAAAAAAAAAAAAAAAAAAAAAAAAAAAAAAAAAAAAAAAAAAAAAAAAAAAAAAAAAAAAAAAAAAAAAAAAAAAAAAAAAAAAAAAAAAAAAAAAAAAAAAAAAAAAAAAAAAAAAAAAAAAAAAAAAAAAAAAAAAAAAAAAAAAAAAAAAAAAAAAAAAAAAAAAAAAAAAAAAAAAAAAAAAAAAAAAAAAAAAAAAAAAAAAAAAAAAAAAAAAAAAAAAAAAAAAAAAAAAAAAAAAAAAAAAAAAAAAAAAAAAAAAAAAAAAAAAAAAAAAAAAAAAAAAAAAAAAAAAAAAAAAAAAAAAAAAAAAAAAAAAAAAAAAAAAAAAAAAAAAAAAAAAAAAAAAAAAAAAAAAAAAAAAAAAAAAAAAAAAAAAAAAAAAAAAAAAAAAAAAAAAAAAAAAAAAAAAAAAAAAAAAAAAAAAAAAAAAAAAAAAAAAAAAAAAAAAAAAAAAAAAAAAAAAAAAAAAAAAAAAAAAAAAAAAAAAAAAAAAAAAAAAAAAAAAAAAAAAAAAAAAAAAAAAAAAAAAAAAAAAAAAAAAAAAAAAAAAAAAAAAAAAAAAAAAAAAAAAAAAAAAAAAAAAAAAAAAAAAAAAAAAAAAAAAAAAAAAAAAAAAAAAAAAAAAAAAAAAAAAAAAAAAAAAAAAAAAAAAAAAAAAAAAAAAAAAAAAAAAAAAAAAAAAAAAAAAAAAAAAAAAAAAAAAAAAAAAAAAAAAAAAAAAAAAAAAAAAAAAAAAAAAAAAAAAAAAAAAAAAAAAAAAAAAAAAAAAAAAAAAAAAAAAAAAAAAAAAAAAAAAAAAAAAAAAAAAAAAAAAAAAAAAAAAAAAAAAAAAAAAABAAEAAQAAAAAAAQAAAAEAAQABAAAAAAABAAEAAQABAAEAAAAAAAAAAQAAAAEAAQABAAEAAwAEAAQABAAEAAMAAgACAAIAAgABAAEAAgABAAEAAQAAAP///v/+//3//f/+//3//f/+//3//f/9//7//v/+//7//v/+//7/////////////////AAAAAAAAAAAAAAAAAAAAAAAAAAAAAAAAAAAAAP//AAAAAAAAAAAAAAAAAAAAAAAAAAAAAAAAAAAAAAAAAAAAAAAAAAAAAAAAAAAAAAAAAAAAAAAAAAAAAAAAAAAAAAAAAAAAAAAAAAAAAAAAAAAAAAAAAAAAAAAAAAAAAAAAAAAAAAAAAAAAAAAAAAD///////8AAAAAAAAAAAAAAAAAAAAAAAAAAAAAAAAAAAEAAQADAAMAAwADAAMAAwADAAMAAwABAAEAAAAAAAAAAAAAAAAA///+//3//f/9//3//f/8//3//f/9//7//v/+//7//v/+//7//v/+//7//v/+/////v/+//7//v/+//7//v/+//7//v/+//7///8AAAAAAAAAAAAAAAAAAAAAAAABAAEAAQABAAEAAQABAAIAAgABAAIAAgABAAEAAAAAAAAAAAAAAAAAAAAAAAAAAAAAAAAAAAAAAAAAAQABAAEAAgACAAIAAgACAAIAAgACAAQABAADAAIAAQACAAMAAgACAAIAAQABAAEAAgACAAEAAQABAAEAAgACAAQABAADAAIAAgACAAIAAwACAAEAAAAAAAAAAAAAAAAAAAD+//7//v/9//z//P/7//r/+//7//v/+//7//v//P/7//z//P/9//3//f/8//z//P/9//z//P/8//v//P/7//r/+v/5//n/+P/4//n/+f/6//v//P/9//3//v///wAAAAAAAAAAAQACAAIAAgACAAMABAAEAAUABQAFAAUABQAGAAYABgAFAAUABQAEAAUABAAEAAUABQAFAAUABQAFAAYABwAHAAcACAAIAAgACQAIAAcABgAGAAUABgAFAAQAAwACAAEAAAAAAAAAAAAAAAAAAAAAAAAAAQAAAAAAAAD///7/AAAAAP///v/+//3//f/9//z//P/8//v/+//7//v/+v/7//v/+//7//r/+//8//v//P/8//z//P/8//3//f/9//3//f/+//7//v////////////////8AAAAA/////wAAAAAAAAAAAAD//wAA//8AAAAAAAAAAAAAAAAAAAAAAQACAAEAAQAAAAEAAQABAAEAAQABAAEAAQABAAEAAQABAAEAAQABAAAAAAAAAAAAAAABAAIAAQABAAEAAQABAAIAAQABAAEAAQACAAEAAQABAAEAAAAAAAEAAQABAAEAAQABAAEAAAAAAAAAAAAAAAAAAAAAAAAAAAAAAAAA//8AAP//AAAAAAAAAAAAAAAAAAAAAAAAAAAAAAAAAAAAAAAAAAAAAAAAAAAAAAAAAAAAAAAAAAAAAAAAAAAAAAAAAQACAAIAAgABAAEAAQABAAAAAQABAAEAAAAAAP////8AAAAAAAD//wAAAAAAAAAAAAAAAP//AAAAAP////////////////////////////////////////////8AAAAA////////////////AAAAAAAA//8AAP/////+//////8AAAAAAAAAAAAAAAAAAAEAAQABAAEAAAAAAAAAAAABAAAAAAAAAAAAAQABAAAAAAAAAAAAAAAAAAAAAAAAAAAAAAAAAAAAAAAAAAAAAAAAAAAAAAAAAAAAAAAAAAAAAAAAAAAAAAAAAAAAAAAAAAAAAAAAAAAAAAAAAAAAAAAAAAAAAAAAAAAAAAAAAAAAAAAAAAAAAAAAAAAAAAAAAAAAAAAAAAAAAAAAAAAAAAAAAAAAAAAAAAAAAAAAAAAAAAAAAAAAAAAAAAAAAAAAAAAAAAAAAAAAAQAAAAEAAQAAAAAAAAAAAAAAAAAAAAAAAAAAAAAAAAAAAAAAAAAAAAAAAAAAAAAAAAAAAAAAAAAAAAAAAAAAAAAAAAAAAAAAAAAAAAAAAAAAAAAAAAAAAAAAAAAAAAAAAAAAAAAAAAAAAAAAAAAAAAAAAAAAAAAAAAAAAAAAAAAAAAAAAAAAAAAAAAAAAP//AAAAAP//AAAAAAAAAAAAAAAAAAAAAAAAAAAAAAAAAAAAAAAAAAAAAAAAAAAAAAAAAAABAAEAAQAAAAAAAAAAAAAAAAAAAAAAAAAAAAAAAAAAAAAAAAAAAAAAAAAAAAAAAAAAAAAAAAAAAAAAAAAAAAAAAAAAAAAAAAAAAAEAAQAAAAAAAAAAAAEAAQABAAAAAAAAAAAAAAAAAAAAAAAAAAAAAAAAAAAAAAAAAAAAAAAAAAAAAAAAAAAAAAAAAAAAAAAAAAAAAAAAAAAAAAAAAAAAAAAAAAAAAAAAAAAAAAAAAAAAAAAAAAAAAAAAAAAAAAAAAAAAAAAAAAAAAAAAAAAAAAAAAAAAAAAAAAAAAAAAAAAAAAAAAAAAAAAAAAAAAAAAAAAAAAAAAAAAAAAAAAAAAAAAAAAAAAAAAAAAAAAAAAAAAAAAAAAAAAAAAAAAAAAAAAAAAAAAAAAAAAAAAAAAAAAAAAAAAAAAAAAAAAAAAAAAAAAAAAAAAAAAAAAAAAAAAAAAAAAAAAAAAAAAAP////8AAAAA////////AAAAAAAAAAAAAAAAAAAAAAAAAAABAAAAAAAAAAAAAAAAAAEAAQAAAAEAAQAAAAAAAAAAAAAAAAAAAAAAAAAAAAAAAAAAAAAAAAAAAAAAAAABAAAAAAABAAIAAgACAAIAAQABAAIAAwACAAEAAAAAAAAAAAAAAAAAAAAAAP///////////////////////wAAAAAAAAAAAAD///////8AAP///////////////wAAAAD//////////////////////v/+//7//v/+//7//v/+///////+////AAAAAAEAAQAAAAAAAAAAAP//AAABAAEAAQAAAAAAAAAAAAEAAQABAAEAAQAAAAEAAQABAAEAAAABAAAAAQAAAAAAAQABAAIAAgABAAIAAgACAAIAAgADAAMAAwADAAMAAwACAAIAAgACAAIAAAAAAAAAAAAAAP///v/+//7///////7//f/9//7//v/+//7//v/+//7//v/+//7//v/+//7//v////7//v/+//3//f/9//z//P/8//v/+//8//z//P/8//3//v8AAAAAAAAAAAEAAgACAAIAAQABAAIAAgACAAIAAgACAAMAAwADAAMAAwADAAIAAgACAAIAAgADAAMAAwADAAMAAwAEAAQAAwADAAQABAAEAAQABAADAAQABAADAAIAAwABAAEAAAAAAAAAAAAAAAAA///+//7//v/+//7//f/9//3//f/9//3//f/9//3//f/+//7//v/+//7//v/+//7//v/+//7//v/+//7//v///////////////////////////////////wAAAAD/////AAAAAAAAAAAAAAAAAAAAAAAAAAAAAAAAAAAAAAAAAQAAAAAAAAAAAAAAAQAAAAEAAQAAAAAAAAAAAAAAAQAAAAAAAAAAAAAAAAABAAAAAAAAAAAAAAAAAAAAAAAAAAAAAAAAAAAAAAAAAAEAAQABAAEAAgABAAAAAAAAAAAAAAAAAAAAAAAAAAAAAAAAAAAAAAAAAAAAAAAAAAAAAAAAAAAAAAAAAAAAAAAAAAAAAAAAAAAAAQAAAAAAAAAAAAAAAAAAAAAAAAAAAAAAAAAAAAAAAAAAAAAAAAAAAAAAAAAAAAAAAAAAAAAAAAAAAAAAAAAAAAAAAAAAAAAAAAAAAAAAAAAAAAAAAAAAAAAAAAAAAAAAAAAAAAAAAAAAAAAAAAAAAAAAAAAAAAAAAAAAAAAAAAAAAAAAAAAAAAAAAAAAAAAAAAAAAAAAAAAAAAAAAAAAAAAAAAAAAAAAAAAAAAAAAAAAAAAAAAAAAAAAAAAAAAEAAAAAAAAAAAAAAAAAAAAAAAAAAAAAAAAAAAAAAAAAAAAAAAAAAAAAAAAAAAAAAAAAAAAAAAAAAAAAAAAAAAAAAAAAAAAAAAAAAAAAAAAAAAAAAAAAAAAAAAAAAAAAAAAAAAAAAAAAAAAAAAAAAAAAAAAAAAAAAAAAAAAAAAAAAAAAAAAAAAAAAAAAAAAAAAAAAAAAAAAAAAAAAAEAAAAAAAAAAAAAAAAAAAAAAAAAAAAAAAAAAAAAAAAAAAAAAAAAAAAAAAAAAAAAAAAAAAAAAAAAAAAAAAAAAAAAAAAAAAAAAAAAAAAAAAAAAAAAAAAAAAAAAAAAAAAAAAAAAAAAAAAAAAAAAAAAAAAAAAAAAAD/////AAAAAAAAAAAAAAAAAAAAAAAAAAAAAAAAAAAAAAAAAQAAAAEAAQABAAEAAAAAAAAAAAAAAAAAAAAAAAAAAAAAAAAAAAAAAAAAAAAAAAAAAAAAAAAAAAAAAAAAAAAAAAAAAAAAAAAAAAAAAAAAAAAAAAAAAAAAAAAAAAAAAAAAAAAAAAEAAQAAAAAAAQAAAAAAAAAAAAAAAAAAAAAAAAAAAAAAAAAAAAAA/////wAAAAAAAAAAAAAAAAAAAAAAAAAAAAAAAAAAAAAAAAAAAAAAAAAAAAAAAAAAAAAAAAAAAAAAAAAAAAAAAAAAAAAAAAAAAAAAAAAAAAAAAAAAAAAAAAAAAAAAAAAAAAAAAAAAAAAAAAAAAAAAAAAAAAAAAAAAAAAAAAEAAAAAAAEAAgACAAEAAAAAAAAAAAAAAAAAAAAAAAAAAAAAAAAAAAD///////8AAP//////////////////////////AAAAAAAAAAAAAAAAAAAAAAAAAAAAAAAAAAAAAAAAAAAAAAAAAAAAAAAAAAAAAAAAAAAAAAAAAAAAAAAAAAAAAAAA//////////8AAP////////7///8AAP///////wAAAAAAAAAAAAAAAAAAAAAAAAAAAQABAAAAAQABAAEAAAAAAAAAAQACAAIAAgABAAIAAQACAAMAAgACAAIAAAAAAAAAAQAAAAAAAAAAAAAAAAAAAAAAAAAAAAAAAQABAAAAAAAAAP///////////v//////////////////////////////AAD//wAAAAAAAP//////////AAD/////////////AAAAAAAAAAAAAAAAAAAAAAAAAAAAAAAAAAAAAAAAAAD//wAAAAAAAAAAAAD//wAAAAAAAP////////////8AAAAAAQABAAEAAAAAAAEAAQABAAEAAAAAAAAAAAAAAAEAAAABAAEAAQABAAAAAAAAAAAAAAAAAAAAAAAAAAAAAAAAAAAAAAAAAAAAAAAAAAAAAAAAAAAAAAAAAAAAAAAAAAAAAAAAAAAAAAAAAAAAAAAAAAAAAAAAAAAAAAAAAAAAAAAAAAAAAAABAAEAAQAAAAAAAAAAAAAAAAAAAAAAAAAAAAEAAQACAAEAAQABAAEAAAABAAAAAAAAAAAA//////////////////////////8AAAAA//////////////7//v///////////wAAAAAAAAEAAgABAAAAAAAAAAAAAAAAAAAA/////////////wAAAAAAAAAAAAAAAAAAAAAAAAAAAAAAAAAA//8AAAAAAAAAAAAAAAAAAAAAAAAAAAAAAAAAAAAAAAAAAAAAAAAAAAAAAAAAAAAAAAAAAAAAAAAAAAAAAAAAAAAAAAAAAAAAAAAAAAAAAAAAAAAAAAAAAAAAAAAAAAAAAQABAAAAAAAAAAAAAAAAAAAAAAAAAAAAAAAAAAAAAAAAAAAA///+/////////wAAAAAAAAAAAAAAAAAAAAAAAAAAAQAAAAEAAQABAAIAAQABAAEAAQAAAAAAAAAAAAAAAAAAAAAAAAAAAAAAAQAAAAAAAAAAAAAAAAAAAAAAAAAAAAAAAAAAAAAAAAAAAAAAAAAAAAAAAAAAAAAAAAAAAAAAAAAAAAAAAAAAAAAAAAABAAAAAAAAAAEAAQABAAEAAAAAAAAAAAAAAAAAAAAAAAAAAAAAAAAAAAAAAAAAAAAAAAAAAAAAAAAAAAAAAAAAAAAAAAAAAAAAAAAAAAAAAAAAAAAAAAAAAAAAAAAAAAAAAAAAAAABAAAAAAAAAAAAAAAAAAAAAAAAAAAAAAAAAAAAAAD/////AAAAAAAAAAAAAAAAAAAAAAAAAAAAAAAAAAAAAAAAAAAAAAAAAAAAAAAAAAAAAAAAAAAAAAAAAAAAAAAAAAAAAAAAAAAAAAAAAAAAAAAAAAAAAAAAAAAAAAAAAAAAAAEAAQACAAEAAQABAAEAAQABAAIAAgABAAEAAAAAAAAA////////AAAAAAAAAAD///////////////////7//v/+//7///8AAAAAAAAAAAAAAAAAAAAAAAAAAAAAAAAAAAAAAAAAAAAAAAAAAAAAAAAAAAAAAAAAAAAAAAAAAAAAAAAAAAAAAAAAAAAAAAAAAAAAAAAAAAAAAAABAAAAAAAAAAAAAAAAAAEAAQABAAAAAAAAAAAAAAAAAAEAAQAAAAAAAAD//wAAAAAAAAAAAAAAAAAAAAAAAP//AAAAAAAAAAAAAP////////////8AAAAA/////wAAAAAAAAAAAAAAAAAAAAAAAAAAAAAAAAAAAAAAAAAAAAAAAAAAAAAAAAAAAAAAAAAAAAAAAAAAAAAAAAAAAAAAAAAAAAAAAAAAAAAAAP//AAAAAAAAAAAAAP///v///wAAAAAAAAAAAAABAAAAAAAAAAAAAAAAAAAAAAAAAAAAAAAAAAAAAQABAAEAAQABAAEAAQAAAAAAAAABAAAAAAABAAEAAQACAAIAAgACAAIAAgADAAMAAgACAAIAAwACAAEAAQABAAEAAAABAAAAAAD///7//v/+//7//v/+//7//v/+//7//v/+//7//v//////AAD/////////////AAAAAAAAAAD//wAAAAAAAAAAAAAAAAAAAAAAAAAAAAAAAAAAAAAAAAAAAAAAAAAAAAAAAAAAAAAAAAAA//////////8AAP//////////AAAAAAAAAAAAAAAAAAABAAEAAQAAAAAAAQABAAEAAQABAAIAAQABAAEAAAAAAAEAAQABAAAAAAAAAAAAAAAAAAAAAAAAAAAAAAAAAAAAAAAAAAAAAAAAAAAAAAAAAAAAAAAAAAAAAAAAAAAAAAAAAAAAAAAAAAAAAAAAAAAAAAAAAAAAAAAAAAAAAAAAAAAAAAAAAAAAAAAAAAAAAAAAAAAAAAAAAAAAAAAAAAAAAAAAAAAAAAAAAAAAAAAAAAAAAAAAAAAAAAAAAAAAAAAAAAAAAAAAAAAAAAAAAAAAAAAAAAAAAAAAAAAAAAAAAAAAAAAAAAAAAAAAAAAAAAAAAAAAAAAAAAAAAAAAAAAAAAAAAAAAAAAAAAAAAAAAAAAAAAAAAAAAAAABAAAAAAABAAAAAAAAAAAAAAAAAAAAAAAAAAAAAAD///7/////////AAAAAP///////wAAAAAAAAAAAAAAAAAAAAAAAAAAAAABAAEAAQABAAEAAQABAAEAAQABAAAAAAAAAAAAAAAAAAAAAAAAAAAAAAAAAAAAAAAAAAAAAAAAAAAAAAAAAAAAAAAAAAAAAAAAAAAAAAAAAAAAAAAAAAAAAAAAAAAAAAAAAAAAAAAAAAAAAAAAAAAAAAAAAAAAAAAAAAAAAAAAAAAAAQABAAAAAAAAAAAAAAAAAAEAAAAAAAAAAAAAAAAAAAAAAAAAAAAAAAAAAAAAAAAAAAAAAAAAAAAAAAAAAAAAAAAAAAAAAAAAAAAAAAAAAAAAAAAAAAAAAAAAAAAAAAAAAAAAAAAAAAAAAAAAAAAAAAAAAAAAAAAAAAAAAAAAAAAAAAAAAAAAAAAAAAAAAAAAAAAAAAAAAAAAAAAAAAAAAAAAAAAAAAAAAQAAAAAAAAAAAAAAAAAAAAAAAAAAAAAAAAAAAAAAAAAAAAAAAAAAAAAAAAAAAAAAAAAAAAAAAAAAAAAAAAAAAAAAAAAAAAAAAAAAAAAAAAAAAAAAAAAAAAAAAAAAAAAAAAAAAAAAAAAAAAAAAAAAAAAAAAAAAAAAAAAAAAAAAAAAAAAAAAAAAAAAAAAAAAAAAAAAAAAAAAAAAAAAAAAAAAAAAAAAAAAAAAAAAAAAAAAAAAAAAAAAAAAAAAAAAAAAAAAAAAAAAAAAAAAAAAAAAAAAAAAAAAAAAAAAAAAAAAAAAAAAAAAAAAAAAAABAAEAAAAAAAAAAAABAAEAAAAAAAAAAAAAAAAAAAAAAAAAAAAAAAAAAAAAAAAAAAAAAAAAAAAAAAAAAAAAAAAAAAAAAAAAAAAAAAAAAAAAAAAAAAAAAAAAAAAAAAAAAAAAAAAAAAAAAAAAAAAAAAAAAAAAAAAAAAAAAAAAAAAAAAAAAAAAAAAAAAAAAAAAAAAAAAAAAQABAAAAAAABAAEAAgACAAIAAQABAAEAAQAAAAAAAQAAAAAA//8AAAAA/////////////////////wAA//////////8AAAAAAAAAAAAAAAAAAAAAAAAAAP////////////8AAAAAAAAAAAAAAAAAAAAAAAAAAAAAAAAAAAAAAAAAAAAAAAAAAAAAAAAAAAAAAAAAAAAAAAAAAAAAAAAAAAAAAAAAAAAAAAABAAEAAAAAAAAAAQABAAEAAAAAAAAAAQAAAAAAAAAAAAAA//////////////////8AAP/////+//7////+//7//v/+//7//v////////8AAAAAAAAAAAAAAQABAAEAAQABAAEAAQAAAAEAAgACAAIAAgACAAIAAgACAAIAAgACAAEAAQABAAEAAQABAAAAAAAAAAAAAAAAAAAAAAD//wAA/////////////////v/+//7//v/9//7//v////////8AAP//AAAAAAAAAAABAAEAAAABAAAAAAAAAAEAAQABAAEAAQABAAEAAgACAAIAAAAAAAAAAAAAAAAAAAAAAAAA////////AAAAAAAAAAAAAAAAAAAAAAAAAAAAAAAAAAAAAAAAAAAAAAEAAQABAAEAAQABAAEAAQACAAIAAQABAAAAAQAAAAAAAAD/////AAAAAP////////////////////8AAP///////////////////////wAAAAAAAAAAAAAAAAAAAAAAAAAAAAAAAAAAAAAAAAAAAAAAAAAAAAAAAAAAAAAAAAAAAAAAAAAAAAAAAAAAAAAAAAAAAAAAAAAAAAAAAAAAAAAAAAAAAAAAAAAAAAAAAAAAAAAAAAAAAAAAAAAAAAAAAAAAAAAAAAAAAAAAAAAAAAAAAAAAAAAAAAAAAAAAAAAAAAAAAAAAAAAAAAAAAAAAAAAAAAAAAAAAAAAAAAAAAAAAAAAAAAAAAAAAAAAAAAEAAQAAAAAAAQABAAAAAAAAAAAAAAAAAAAAAAAAAAAAAAAAAAAAAAAAAAAAAAAAAAAAAAAAAAAAAAAAAAAA/////////////wAAAAAAAAAAAAAAAAAAAAAAAAAAAAAAAAAAAAAAAAAAAAAAAAEAAQAAAAEAAQABAAEAAQAAAAAAAAAAAAAAAAAAAP//////////AAAAAAAAAAAAAAAAAAAAAAAAAAAAAAAAAAAAAAAAAAABAAAAAAAAAAAAAAAAAAAAAAAAAAAAAAAAAAAAAAAAAAAAAAD//wAA/v///////v/+//7///8AAAAAAAAAAAAAAQAAAAEAAQABAAEAAAAAAAAAAAAAAAAAAAAAAAAAAQACAAIAAgACAAIAAQABAAAAAAAAAAAAAAAAAAAAAAAAAAAAAAAAAAAAAAAAAAAAAAAAAAAA//8AAAAA/////////////wAAAAAAAAAAAAAAAAAAAAAAAAAAAAAAAAAAAAAAAAAAAAAAAP//AAD//wAAAAAAAAAAAAAAAAAAAAAAAAAAAAAAAAAAAAAAAAAAAAAAAAAAAAAAAAAAAAAAAAAAAAAAAAAAAAABAAEAAAAAAAAAAAAAAAAAAAAAAAAAAAAAAAAAAAAAAAAAAAAAAAAAAAAAAAAAAAD//////////////////////////wAAAAAAAAAAAAAAAAAAAAAAAAAAAAAAAAAAAAAAAAEAAQABAAEAAQABAAEAAQAAAAAAAAAAAAAAAAAAAP//////////AAAAAAAAAAAAAAAAAAAAAAAAAAAAAAAAAAAAAAAAAAAAAAAAAAAAAAAAAAAAAAAAAAAAAAAAAAAAAAAAAAAAAAAAAAAAAAAAAAAAAAAAAAAAAAAAAAAAAAAAAAAAAAAAAAAAAAAAAAAAAAAAAAAAAAAAAAAAAAAAAAAAAAAAAQABAAEAAQABAAEAAQABAAEAAQABAAAAAAAAAAAAAAABAAAAAAAAAAAA/////////////////////////////////////wAAAAAAAAAAAAAAAAAAAAAAAAAAAAAAAAAAAAAAAAAA/////////////wAAAAAAAAAAAAAAAAAAAAAAAAAAAAAAAAAAAAAAAAAAAAAAAAAAAAAAAAAAAAAAAAAAAAAAAAAAAAAAAAAAAAAAAAAAAAAAAAAAAAAAAAAAAAAAAAAAAAAAAAAAAAAAAAAAAQABAAEAAAAAAAAAAAAAAAAAAAAAAAAAAAAAAAAAAAAAAAAAAAAAAAAAAAAAAAAAAAAAAAAAAAAAAAAAAAAAAAAAAAAAAAAAAAAAAAAAAAAAAAAAAAAAAAAAAQAAAAAAAAAAAAAAAAD//////////wAA////////AAAAAAAAAAAAAAAAAAAAAAAAAAAAAAAAAAAAAAAAAAAAAAAAAAAAAAAAAAAAAAAAAAAAAAAAAAAAAAAAAAAAAAAAAAAAAAAAAAAAAAAAAAAAAAAAAAAAAAAAAAAAAAAAAAAAAAAAAAAAAAAAAAAAAAAAAAAAAAAAAAAAAAAAAAAAAAAAAAAAAAAAAAAAAAAAAAAAAAAAAAAAAAAAAAAAAAAAAAAAAAAAAAAAAAAAAAAAAAAAAAAAAAAAAAAAAAAAAAAAAP//AAAAAAAAAAAAAAAAAAAAAAAAAAAAAAAAAAAAAAAAAAAAAAAAAQABAAEAAAAAAAEAAAAAAAAAAAAAAAAAAAAAAAAAAAAAAAAAAAAAAAAAAAAAAAAAAAAAAAAAAAAAAAAAAAAAAAAAAAAAAAAAAAAAAAAAAAAAAAAAAAAAAAAAAAAAAAAAAAAAAAAAAAAAAAAAAAAAAAAAAAAAAAAAAAAAAAAAAAAAAAAAAAAAAAAAAAAAAAAAAAAAAAAAAAAAAAAAAAAAAAAAAAAAAAAAAAAAAAAAAAAAAAAAAAAAAAAAAAAAAAAAAAAAAAAAAAAAAAAAAAAAAAAAAAAAAAAAAAAAAAAAAAAAAAAAAAAAAAAAAAAAAAAAAAAAAAAAAQABAAIAAgABAAEAAQABAAEAAgABAAAAAAAAAAAA//////////8AAP//////////////////////////AAD//wAAAAAAAAAAAAAAAAAAAAAAAAAAAAAAAAAAAAAAAAAAAAAAAAAAAAAAAAAAAAAAAAAAAAAAAAAAAAAAAAAAAAD//wAA///+//7///8AAAAAAAAAAAAAAAAAAAAAAAABAAEAAAABAAAAAAAAAAAAAAAAAAAAAAAAAAAAAAAAAAAAAAAAAAAAAAAAAAAAAAAAAAAAAAAAAAAAAAAAAAAAAAAAAAAAAAAAAAAAAAAAAAAAAAAAAAAAAAAAAAAAAAAAAAAAAAAAAAAAAAAAAAAAAAAAAAAAAAAAAAAAAAAAAAAAAAAAAAAAAAAAAAAAAAAAAAAAAAAAAAAAAAAAAAAAAAAAAAAAAAAAAAAAAAAAAAEAAAAAAAAAAAAAAAEAAAABAAEAAQAAAAAAAAAAAAAAAAAAAAAAAAAAAP////8AAAAAAAAAAP///////wAAAAAAAAAAAAAAAAAAAAAAAAAAAAAAAAAAAAAAAAAAAAAAAAAAAAAAAAAAAAAAAAAAAAAAAAAAAAAAAAAAAAD//wAA///+//7//v///////////wAAAAAAAAAAAAAAAAAAAAABAAEAAQABAAEAAQABAAAAAAAAAAAAAAAAAAEAAQABAAIAAQABAAEAAQABAAIAAQABAAEAAgACAAIAAgABAAEAAQABAAAAAAAAAAAAAAAAAP////////////////////////////////////////////8AAAAAAAAAAAAAAAAAAAAAAAAAAAAAAAAAAAAAAAAAAAAAAAD///////8AAAAAAAAAAAAA//8AAAAA//8AAP///v////////8AAAAAAAAAAAAAAAAAAAAAAAAAAAAAAAAAAAAAAAAAAAAAAAAAAAAAAAAAAAAAAAAAAAAAAAAAAAAAAAAAAP//AAAAAAAAAAAAAAAAAAAAAAAAAAAAAAAAAAAAAAAAAAAAAAAAAAAAAAAAAAAAAAAAAQAAAAAAAAAAAAAAAQABAAEAAQABAAEAAQABAAAAAAAAAAAAAQABAAEAAAAAAAAA//8AAAAAAAAAAAAA//8AAP///////////////////////////////////////wAAAAAAAAAAAAAAAAAAAAAAAAAAAAAAAAAA/////////////wAA/////wAAAAAAAAAAAAAAAAAAAAAAAAAAAAAAAAAAAQABAAEAAAAAAAAAAAAAAAAAAAAAAAAAAAAAAAAAAAAAAAAAAAAAAAAAAAAAAAAAAAAAAAAAAAAAAAAAAAAAAAAAAAAAAAAAAAAAAAAAAAAAAAAAAAAAAAAAAAAAAAAAAAAAAAAAAAAAAAAAAAAAAAAAAAAAAAAAAAAAAAAAAAAAAAAAAAAAAAAAAAAAAAAAAAAAAAAAAAAAAAAAAAAAAAAAAAAAAAAAAAAAAAAAAAAAAAAAAAAAAAAAAAAAAAAAAAAAAAAAAAAAAAAAAAAAAAAAAAAAAAAAAAAAAAAAAAAAAAAAAAAAAAAAAAAAAAAAAAAAAAAAAAAAAAAAAAAAAAAAAAAAAAAAAAAAAAAAAAAAAAAAAAAAAAAAAAAAAAAAAAAAAAAAAAAAAAAAAAAAAAAAAAAAAAAAAAAAAAAAAAAAAAAAAAAAAAAAAAAAAAAAAAAAAAAAAAAAAAAAAAAAAAAAAAAAAAAAAQABAAEAAQAAAAAAAAAAAAAAAAAAAAAAAAAAAAAAAAAAAAAAAAAAAAAAAAAAAAAAAAAAAAAAAAAAAAAAAAAAAAAAAAAAAAAAAAAAAAAAAAAAAAAAAAAAAAAAAAAAAAAAAAAAAAAAAAAAAAAAAAAAAAAAAAAAAAAAAAAAAAAAAAAAAAAAAAAAAAAAAAAAAAAAAAAAAAAAAAAAAAAAAAAAAAAAAAAAAAAAAAAAAAAAAAAAAAAAAAAAAAAAAAAAAAAAAAAAAAAAAAABAAAAAQAAAAAAAAAAAAAAAAAAAAAAAAAAAAAAAAAAAAAAAAAAAAAAAAAAAAEAAAAAAAAAAAD///////8AAAAAAAAAAAAAAAAAAAAAAAAAAAAAAAAAAAAAAAAAAAAA///////////+//7//v///wAAAAAAAAAAAQABAAEAAQAAAAAAAAAAAAAAAAAAAAAAAAAAAAAAAAAAAAAAAAAAAAAAAAAAAAAAAAAAAAAAAAAAAAAAAAAAAAAAAAAAAAAAAQABAAEAAQABAAEAAAAAAAAAAAAAAAAAAAAAAAAAAAAAAAAAAAAAAAAAAAAAAAAAAAAAAAAAAAAAAAAAAAAAAAAAAAAAAAAAAAAAAAAAAAAAAAAAAAAAAAAAAAAAAAAAAAAAAAAAAAAAAAAAAAAAAAAAAAAAAAAAAAAAAAAAAAAAAAAAAAAAAAAAAAAAAAAAAAD//wAAAAAAAAAAAAAAAAAAAAAAAAAAAAAAAAAAAAAAAAAAAAAAAAAAAAAAAAAAAAAAAAAAAAAAAAAAAAAAAAAAAAAAAAAAAAAAAAAAAAABAAAAAAAAAAAAAQABAAEAAAAAAAAAAAAAAAAAAAAAAAAAAAAAAAAAAAAAAAAAAAAAAAAAAAAAAAAAAAAAAAAAAAAAAAAAAAAAAAAAAAAAAAAAAAAAAAAAAAAAAAAAAAAAAAAAAAAAAAAAAAAAAAAAAAAAAAAAAAAAAAAAAAAAAAAAAAAAAAAAAAAAAAAAAAAAAAAAAAAAAAAAAAAAAAAAAAAAAAAAAAAAAAAAAAABAAEAAQABAAEAAAAAAAAAAAAAAAAAAAAAAAAAAAAAAAAAAAAAAAAAAAAAAAAAAAAAAAAAAAAAAAAAAAAAAAAAAAAAAAAAAAAAAAAAAAAAAAAAAAAAAAAAAAAAAAAAAAAAAAAAAAAAAAAAAAAAAAAAAAAAAAAAAAAAAAAAAAAAAAAAAAAAAAAAAAAAAAAAAAAAAAAAAAAAAAAAAAAAAAAAAAAAAAAAAAABAAEAAAAAAAAAAAAAAAAAAAAAAAAAAAAAAAAAAAAAAAAAAAAAAAAAAAAAAAAAAAAAAAAAAAAAAAAAAAAAAAAAAAAAAAAAAAAAAAAAAAAAAAAAAAAAAAAAAAAAAAAAAAAAAAAAAAAAAAAAAAAAAAAAAAAAAAAAAAAAAAAAAAAAAAAAAAAAAAAAAAAAAAAAAAAAAAAAAAAAAAAAAAAAAAAAAAAAAAAAAAAAAAAAAAAAAAAAAAAAAAAAAAAAAAAAAAAAAAAAAAAAAAAAAAAAAAAAAAAAAAAAAAAAAAAAAAAAAAAAAAAAAAAAAAAAAAAAAAAAAAAAAAABAAEAAQABAAEAAQABAAIAAgABAAEAAAAAAP//////////////////////////////////////////////////AAAAAAAAAAAAAAAAAAAAAAAAAAAAAAAAAAAAAAAAAAAAAAAAAAAAAAAAAAAAAP///////wAAAAAAAAAAAAAAAAAAAAAAAAAAAAAAAAAAAAAAAAAAAAAAAAAAAAAAAAAAAAAAAAAAAAAAAAAAAAAAAAAAAAAAAAAAAAAAAAAAAAAAAAAAAAAAAAAAAAAAAAAAAAAAAAAAAAAAAAAAAAAAAAAAAAAAAAAAAAAAAAAAAAAAAAAAAAAAAAAAAAAAAAAAAAAAAAAAAAAAAAAAAAAAAAAAAAAAAAAAAAAAAAAAAAAAAAAAAAAAAAAAAAAAAAAAAAAAAAAAAAAAAAAAAAAAAAAAAAAAAAAAAAAAAAAAAAAAAAAAAAAAAAAAAAAAAAAAAAAAAAAAAAAAAAAAAAAAAAAAAAAAAAAAAAAAAAAAAAAAAAAAAAAAAAAAAAAAAAAAAAAAAAAAAAAAAAAAAAAAAAAAAAAAAAAAAAAAAAAAAAAAAAAAAAAAAAAAAAAAAAAAAAAAAAAAAAAAAAAAAAAAAAAAAAAAAAAAAAAAAAAAAAAAAAAAAAAAAAAAAAAAAAAAAAAAAAAAAAAAAAAAAAAAAAAAAAAAAAAAAAAAAAAAAAAAAAAAAAAAAAAAAAAAAAAAAAAAAAAAAAAAAAAAAAAAAAAAAAAAAAAAAAAAAAAAAAAAAAAAAAAAAAAAAAAAAAAAAQAAAAEAAgACAAIAAQABAAEAAQABAAEAAQAAAAAAAAD/////////////AAD/////////////AAAAAP////////////////////8AAAAAAAAAAAAAAAAAAAAAAAAAAAAAAAAAAAAAAAAAAAAAAAAAAAAAAAAAAAAAAAAAAAAAAAAAAAAAAAAAAAAAAAAAAAAAAAAAAAAAAAAAAAAAAAAAAAAAAAAAAAAAAAAAAAAAAAAAAAEAAAAAAAAAAAAAAAEAAQABAAEAAQABAAEAAQAAAAAAAAAAAAAAAAAAAAAAAAAAAAAAAAAAAAAAAAAAAAAAAAAAAAAAAAAAAAAAAAAAAAAAAAAAAAAAAAAAAAAAAAAAAAAAAAAAAAAAAAAAAAAAAAAAAP///v////////////////8AAAAAAAAAAAAAAAAAAAAA//8AAP//AAAAAAAAAAAAAAAAAAAAAAAAAAAAAAEAAQAAAAAAAQABAAEAAQABAAEAAQABAAEAAQABAAIAAgACAAIAAwADAAMAAgACAAIAAgACAAIAAgABAAEAAAAAAAAAAAD//wAA///+/////v/9//3//P/8//z//P/8//z//P/9//3//f/9//7//f/9//z//P/8//v/+v/5//n/+f/5//n/+v/8//z//f/+//7//v8AAAAAAAAAAAAAAAAAAAAAAQABAAIAAQACAAMABAAEAAQABAAEAAQABAAEAAQABAAFAAQAAwADAAMAAwAEAAQAAwADAAMAAwACAAIAAgACAAIAAgACAAIAAgACAAIAAgABAAEAAQABAAEAAQABAAEAAQABAAEAAQABAAIAAgACAAIAAgADAAMAAwADAAIAAgABAAIAAQAAAAAAAAAAAAAAAAAAAAAAAAD/////////////AAAAAP///v/+//7//v/9//3//f/+//7//v///wAAAAD/////AAABAAEAAQABAAAAAAAAAP/////+//3//P/9//3//f/9//3//f/9//3//P/7//v//P/8//v//P/9//3//f/9//z//f/9//3//P/8//3//f/8//3//f/9//7//v/+////AAAAAAAAAQABAAAAAQABAAEAAgADAAQABQAFAAYABgAGAAYABQAFAAUABQAGAAUABQAFAAYABgAGAAUABQAEAAMABAAFAAUABAADAAMAAgACAAMAAwADAAIAAgACAAIAAgADAAMAAwADAAMABAAFAAUABgAGAAUABQAFAAUAAwADAAMAAwADAAIAAQABAAEAAAAAAAAA///9//z/+//8//z//P/7//n/+f/6//n/+f/6//r/+v/6//r/+v/6//r/+v/6//r/+v/7//z//P/7//z//f/8//v//P/8//z//P/8//3//P/8//z//v//////AAAAAAAAAAAAAAAAAAAAAAAAAAAAAAAA//8AAAAAAAAAAAAAAAAAAAAAAAAAAAAAAQAAAAAAAAAAAAAAAAAAAAAAAAAAAAAAAAAAAAAAAAAAAAAAAAABAAEAAQAAAAEAAgACAAIAAQACAAIAAQACAAIAAQACAAMAAwACAAIAAwADAAIAAgADAAMAAwADAAMAAgAAAAAAAAAAAAAAAAAAAAAAAAAAAAAAAAD//wAAAAD/////AAAAAAAAAAAAAAAAAAAAAAAAAAAAAAAAAAAAAAAAAAABAAEAAAAAAAAAAAAAAAEAAAAAAAAAAAAAAP////8AAP/////////////////////////////////////////////////////+//7//v///wAA////////AAD//////////wAAAAAAAAAAAAAAAAAAAAAAAAAAAAABAAAAAAAAAAEAAQABAAEAAQABAAEAAQABAAEAAQABAAAAAAABAAEAAAAAAAEAAAAAAAEAAAAAAAAAAAAAAAAAAAAAAAAAAAAAAAAAAAAAAAAAAQABAAAAAQACAAIAAgABAAEAAQAAAAAAAAAAAAAAAAAAAAAAAAAAAAAAAAAAAP////8AAP///////////////wAAAAD///////8AAP///////////////////////wAAAAAAAAAAAAAAAAAAAAAAAAAAAAAAAAAAAAAAAAAAAAAAAAAAAAAAAAAAAAAAAAAAAAAAAAAAAAAAAAAA//8AAAAAAAAAAAAAAAAAAAAAAAAAAAAAAAAAAAAAAQABAAAAAAAAAAEAAQACAAEAAAAAAAAAAAABAAEAAQAAAAAAAAAAAAAAAAAAAAAAAAD/////AAAAAP///////wAAAAD//wAAAAAAAAAAAAAAAAAAAAD//wAAAAAAAAAAAAAAAAAAAAAAAAAAAAAAAAAAAAAAAP//AAAAAAAA//8AAAAA////////AAAAAAAAAAAAAAAAAAAAAAAAAAAAAAEAAQABAAAAAAAAAAAAAAAAAAAAAAAAAAAAAAAAAAAAAAAAAAAAAAAAAAAAAAAAAAAAAAAAAAAAAAAAAAAAAAAAAAAAAAAAAAAAAAAAAAAAAAAAAAAAAAAAAAAAAAAAAAAAAAAAAAAAAAAAAAAAAAAAAAAAAAAAAAAAAAAAAAAAAAAAAAAAAAAAAAIAAQABAAEAAAAAAAAAAAAAAAAAAAD//wAAAAAAAAAAAAAAAAAAAAAAAAAAAAAAAAAAAAAAAAAAAAAAAAAAAAAAAAAAAAAAAAAAAAAAAAAA/////wAAAAAAAAAAAAAAAAAAAAAAAAAAAAAAAAAAAAAAAAAAAAAAAAAAAAAAAAAAAAABAAEAAgACAAAAAAAAAAAAAQABAAEAAAAAAAAAAAABAAEAAQABAAEAAQAAAAAAAAD/////AAAAAP//AAD//////v////7///////////////////8AAP///v////7//v///wAAAAAAAAAAAAD///////8AAAAAAAAAAAAAAAAAAAAAAAAAAP///v////7//v/+//7//f/+//3//f/9//3//f/9//7//v/+//7///8AAP//AAD//wAAAAAAAAAAAAAAAAAAAAAAAAAAAQAAAAAAAAAAAAAAAAAAAAAAAAAAAAAAAAAAAAAAAAAAAAAAAAAAAAEAAQABAAIAAwADAAIAAgADAAMABAAEAAUABQAEAAUABAADAAMAAwADAAMAAwACAAEAAAAAAAAA///+//7//f/8//z//P/7//r/+//6//r/+v/6//n/9//2//b/9f/1//T/8//y//H/8f/x//H/8v/z//P/8//1//b/+P/6//v//f/9//7/AAACAAMABQAIAAgACgALAAwADQAOAA4ADgAOAA4AEAAQABEAEwATABMAEgATABQAFAAUABMAEwASABEAEQAQAA4ADQANAAsACQAJAAgABwAFAAUAAwACAAAA/////////f/7//r/+f/5//j/+f/4//f/9//4//f/9//2//X/9f/2//b/9v/1//b/9v/2//f/9//3//j/+P/3//f/9//3//j/+P/3//f/9//3//f/+P/5//n/+f/5//r/+v/8//3//P/9//7///8AAAAAAQABAAAAAQABAAIAAwAEAAUABgAHAAYABgAGAAYABgAGAAYABgAGAAcABwAHAAcACAAJAAkACQAIAAgACQAJAAkACAAIAAkACQAJAAkACQAIAAgABwAGAAQABAACAAEAAAAAAP7//f/8//z//P/7//v/+v/5//n/+P/4//f/9//3//X/9P/1//X/9f/2//f/9v/2//f/9//3//n/+f/6//v//P/8//3//f/+////AAAAAAAAAAABAAIAAwADAAQABAAEAAUABQAGAAYABwAHAAgACQAJAAsADAANAA4ADgAPABEAEQASABMAEgARABAAEAAPAA8ADgAPAA4ADAAKAAkACQAIAAcABAADAAIAAgABAP///v/+//v/+f/4//j/9//1//X/8//x/+//7//v/+7/7f/s/+3/7f/s/+z/7P/r/+z/7f/s/+3/7f/u/+7/7v/v/+//8P/x//L/8//0//b/9//4//j/+f/6//v/+//8//7///8AAAEABAAFAAcACQALAAwADAAOAA4ADgAOAA4ADwAPAA8ADwAPABAAEAARABAADwAPAA8AEAAQABEAEAAQABAADwAPABAAEQAQABAADwAOAA4ADgAOAA4ADgANAAwACwAKAAgABwAEAAIAAAAAAP////////7//P/8//z/+//6//n/+P/3//b/9f/0//P/8v/x//H/8v/y//H/8f/x//H/8f/x//H/8f/w//H/8v/y//P/9f/0//T/9f/3//j/+P/4//n/+f/7//z//P/8//v//P/+//7//v///wAAAAAAAAEAAQABAAEAAQAAAAEAAgADAAQABAAEAAUABgAGAAcABgAFAAUABQAEAAQABAAFAAUABAAEAAQABAAFAAUABQAEAAMAAwADAAMABAAEAAMAAgACAAIAAgACAAEAAQABAAIAAwAEAAQABAADAAMAAwABAAAAAAAAAAAAAAAAAAAAAAAAAAAA/////////v/+//3//f/+//7//v/9//z/+//8//7//f/8//z//P/+/////f/9//3//f/+//3//f/8//z//f/9//3//v/9//7////+///////////////+//7//v/////////+///////+/////v///wAAAAAAAAAAAAAAAP////////7///8AAAAAAQABAAEAAAAAAAAAAAAAAAAAAQABAAEAAgACAAIAAgACAAIAAgACAAIAAgACAAIAAgACAAEAAgACAAIAAgACAAIAAgABAAEAAQABAAEAAgABAAAAAAACAAIAAgABAAIAAgACAAIAAgABAAEAAQABAAAAAAAAAAAAAAAAAAAA////////////////////////AAD/////////////////////AAD/////////////////////////////AAAAAAAA/////////////////////////////wAAAAAAAAAAAAAAAAAAAAAAAAAAAAAAAAAAAAAAAAAAAAAAAAAAAAAAAAAAAAAAAAAAAAAAAAAAAAAAAAAAAAAAAAAAAAAAAAAAAAAAAAAAAAAAAAAAAAAAAAAAAAAAAAAAAAAAAAAAAAAAAAAAAAAAAAAAAAAAAAAAAAAAAAAAAAAAAAAA//////////8AAP//////////AAAAAAAAAAAAAAAAAAAAAAEAAQABAAAAAQAAAAEAAQAAAAEAAgACAAIAAgACAAMAAwADAAMAAgACAAIAAgACAAIAAgACAAAAAAAAAP//AAAAAP///////wAAAAD//////////wAAAAD//wAAAAD/////AAAAAAAA//8AAAAAAAAAAAAAAAAAAP///////////v/+//7//v/+/wAAAAAAAAAAAAAAAAAAAAABAAEAAAAAAAEAAAAAAAAAAAAAAAAA//8AAP///////////////wAAAAAAAAAAAAAAAAAAAAAAAAAAAAAAAAAAAAAAAAAAAQAAAAEAAQABAAEAAQABAAEAAQABAAEAAAAAAAAAAAAAAAAA/////////v///wAAAAD//wAAAAAAAAAAAQABAAEAAAAAAAAAAAABAAEAAQABAAAAAAAAAAAAAAAAAAAAAAD//wAAAAD//////////wAAAAAAAAAAAAABAAAAAAAAAAEAAQACAAIAAQABAAAAAAAAAAAAAAABAAAAAAAAAAAA/////////v/9//7/////////AAAAAAAAAAAAAAAAAAAAAAAAAAAAAAAAAAABAAEAAAABAAAAAAAAAAAAAAAAAAEAAQAAAAAAAAAAAAAAAAAAAAAAAAD//////v8AAAAAAAD//////v////////8AAAAAAAAAAAAAAAAAAAAAAQABAAEAAgACAAEAAQAAAAAAAAAAAAAAAAAAAAAAAAAAAAEAAQABAAAAAgADAAMAAwAEAAMAAQABAAEAAAAAAAAAAAD+//z/+//7//v/+v/8//7///8AAAAA///7//r/+//7////AAAAAAAAAAAAAAAAAQACAAIAAQABAAIAAQABAAAAAAAAAAIABQAGAAYABgAFAAQABQAGAAYACQAMAAwACgAKAAwACwAKAAgABAACAAMAAQD+//7//f/8//r/9v/x//D/9P/3//j/9f/y//b//v/+//7/AQABAP//AAD9/+z/3P/a/87/rP+a/6D/ov+q/8z/5f/b/+L/+//u/+r/IgBIAEgAYAB6AGcAUgBiAHIAbQBVACQAEwAwADYAGADt/8z/5f8/AFgA2/+N/+z/QgA8ABgAyP+R/wUAoABYAJ3/jv/t/xUAKAAPALj/3f+dANAA//8+/0j/o/8QAI0AjQA0AEkAYwDY/y7/Ef+M/2MACAH1AEsAr/96/4P/nf/I/xAAggDHAG8AwP9f/4z/AAAlANP/q/8GAH0AtwCIANr/W//T/3IA/P8Y/z3/IwC8AAAB8gARAOb+wP6A/6b/Vv8OACoBCwEzAKb/M/+7/gD/EACHADAAZAD5AK8Atv8R/w7/Uf/h/8cAIQF2ANX/8//f/xX/z/6x/7EA/gDEAC0ATP8D/+r/jQDa/1r/mAB/AhcDgwImAi0CRwKjArkCgwHU/8P/9QDnAFT/bf7r/nv/l/+y/2r/4/6f/z0BQAFr/z3+qf4T/5f+yf3m/Az88PuD/Fb85voH+ij79/yS/Tv9VP0Z/tf+DP+A/mz9B/1x/sIAFwIKAsABEwJaApcBEgC9/mr+f//aAHoA6P3a+uD4Xfcs9R3z9vIm9RD4Lfl/9830tPMi9R/5awDRDFggmziBTARUB0+nQr4zoyMBEbn9o/Gr8YT3Qfnv8lvmA9o31PnRcszDx2vOb99M8K77vwDQ/uL6ZvyyAJH/sPsa/1UJPBCwDu8G0PuN8Dvq0+ny6b7o0eyn+RoHZwxFC/kJlApgDAQP+BD1ENgRuxYvHLYb9hQMDowKygf2AjD9R/kW+DP59fqg+dn0p/El81r2bvfo9uT3ePvw/xsDHQSuA6IDggWnB1UGqwGO/SH81/vQ+Y71/fAh7iLuFPDS8arzGPjs/u0DkQOQ/sP4tPWH9uv7Fgg9Hv49P15ecrxzXGQ2TO8xjBY7+tHjud3H5pjyUvZx7nDf7NF0yq3E1b2TvSzLcuFR9ZwA+gHh+1D1kPKQ7yDpNOX76mz3PQEZA9D9hvV47rXrGOzj647sifRpA58PqxK1D0wN0wwQDO0JXAdQBskI5A5uFNcUjBG3D2QPjgxUBuP/nvsb+cP4Y/qr+w/89v3eAZkEEATRAWEB0gP3BtYIGQlMCDgHKQZsBEEBMf0S+gf5JvnB+NP3aPeY9833Gfds9Qb1t/e8+1L+RP6F+0b4Hvej+Db/dxAZLvtPbmqYdARrHFMqNZcUv/Lb1kbLw9G84R3vy/JA7vDn0OLh22HTJc+y1JTj5PVuBCkKLAfn/+H3I+6p4RTX59Qe3HXop/P9+NH46/YI9jr1MPJv7t/vyvjJA/cKVg0XDR4M7go8CEEDlP6a/bUBuQj3DSUQVBJUFSUWBRMwDb0F3P3w+KX4Ufq7+5L+ygPpCFsLcArvB7wG0gcKCsMLqAuVCYwGoALV/Ef2m/EY74rucvCt87f2UPkA/Ar+Cf77/Pb8Sv40/zL+OfvJ92f2//g7AY8S6i6DUHxsNHjlbspVRTXUEUvuGNLBxI/HNdYw50Pye/V09O/xU+xu42TbBtoK4Wft+fliARgBOvug83Xqlt4v0zjOsNI83pLrg/W9+iv9vf3b+932e/BI7Svx2/rlBFwLdA6sD0gPPQysBhAB1P3K/ssDpgl5DTUQpxO/FoQXpRTUDcIEbPyN95v21Pf4+YX9YgPJCfsNLg/YDRwM+Qu7DH4LQAd2Ar/+TfvU94P1wvTu9AP2P/ga+8X9af/I/xf/qP0p/H77zfsQ/GH7n/nT99j35fsJBvwXSDLoUOlqRHUJa31SjjOiEZ/vatTrxrXI6NX35EzvNPWi+N747vPT6k7hWN0J4Snph/FL9rL1UfHe6/vk99sH1BPSZ9j+4zPvLvd//Pn/fAE6AEz7V/QP8MfxH/hK/xUFewmRDJgNCgwyCE0Dv//L/+kCbgbCCFsKNQwWDt4OSg0jCk4HDQUdA9IA1v2m+8n7if71AlYHSArqCycNBA3MCl8HhAMhAOb9Of1r/Zz9KP4n/4T/Wf56/Hn7Yvss+zn7k/x8/oH/6//MAKkACP1j9srvTuwC7sX3fgxlLA5RJ2+tfNp0s1uUOP0Qu+nNyY+41rjtxxvd7fDFAKkLrQ8dCtn7HetP4IXeA+Om6QLvbfFW8YXv4eof4/HaN9ct2wjllfB++/cEmAsbDsILRASI+Vzw8+yV7571aPwnA3AJLA4BEBQO4Qj8AiEA/QAmA6oEJgbgCKcLSQyyCvMIlgeKBTYDWwHm/yz/wv9PAY8C2gKEAukBzQAR/779Of0o/c39Jv/eABoCfgEg/yv86fjW9TL0PfQs9Xz2o/jh+/3+rADMAQcD8QHQ/CP18O2g6fPp7vHyBOkjX0kIa+d9yHrWY+tAvxjb75vM87ZUs5vA1NcZ8fgG/hXBG/QVuwW/8fThc9rh2hHgvuXH6UjtvfCS8WDtMOZl4XPiWukN9Kb/Iwm1DlgQhg2SBZr6mPEN7hfvHfM5+uQDeQ1AFEcXHxYTEaYKzQWIA2UCegFRApkFUQlkC9wLFwtVCP8DgP+X+xH58Pix+wAAiQONBVEGkQUBA2b/xfvN+Pr3tfny+z79pP0M/UT7gfgC9SLxPO507Ujusu+18Sj1q/m6/QMBBAPpAQT94fUo71Pr9Own93INdC8PVZhyDX59dLJacTf+Dw3pU8mnt0+4S8l34mj8/BEwH4EgnRVeAzjwhuGi2UTYWds24DLmF+1t8m/ysexU5QzhnuLG6RH00f6lByoNjQ40C60DY/rA8qvuae5T8nf6PgV8D1gW4Ri5F+4TrQ7ECe0FqwLxAGoCLwcCDbIQixDADJcGDwAP+2H4Xfhd+7QAKwa5Cf0K6QlIBoYA4fkd9FHxkvJS9nn6TP5CAVoCnAC7/BX4A/Og7rbsiO3172Tz4/en/LUAegP4AxQBk/qk8rPs2+qR74f/2h0+RUNp1X33fPNoUEjyIHb3m9Gltgat1rZuzsDq6QRoGDEh4RxODnP7FOpk3dbVxNMO1/HefOn58mH3GPU07xTqKuj86anucvUc/e8Dtgh/CowI8QK7+4z1kPF/8I3z/PqEBHsMDhEMEzETyRDbC/kF6QA3/hn/ZwPdCJUM+gzBChsHCwJX/Mr3J/Y7+FD9cANlCPsKrQqhB6cCafzw9VHxrfAs9Nz5o/9rBJoHDAhmBTsB9Pzm+Mf1kvSL9Zr4Gf16AV0EiwUZBfACu/5s+BTyPO797nj4OQ/dMRBXMnN+ffxzOFvROA8Rxui2xu6xYK8UvmTX8PMbDT4dTSHcGRIKtva35PXWBs99zs/VOOJg7uv1ZvdN9E7v2+qE6H/o2er+7+T3jwAWB+MJqggGBIn9KPd68tPwEfPP+GUAAgiFDiAT3RQkE+cOKAp4Bj4EXwNvA3YD4wLkAckARv8o/fD6zvnY+sj9sAGZBWMIDwmLB4cEhwAC/LH3r/QV9Mj1gPiR+zD/XQJ1A50C2QC3/mr82PmI9/f2sfh++3/+BwEkAs4BoP+j+zv4Rvh3/vANIiimSAtmNndBd2Fn7UvNKMwBI9x7viSvUrEzwhTb3/TZCSQWNxhhEbwDiPI74S3TOszxzaXWS+L47FD0dvfw9rHzBO9A6sPmWeYR6kTx/vngAToHlgksCXEGBgIC/Rn5yvdu+WD9PQNFCkIQdBPdE70SDRHsDlAMMglVBYIAtft++O32ZfZW9+b5Mv1SALACMgToBPAEqwR4BL8DmAFe/n378vmH+a35Zfok/DP+Sf9X/yH/G/+i/tD8yfkj9zn28vbU+CD72/wc/cP77PlH+Ub8PwZZGvI3T1jHcbN8SHfGZP5IPiZg//HZBr0Sr2uxhb/F00/pJvwgCbcOggwsAyr1aOUZ2CvRNdFJ1rjdaOXx63DwFfKV8N7sGugx5Hnj8Obn7ZD23f5bBf8JsgzCDBgKZQVvAG39Zv0/AEAF4grXD5YTghX/FBYStA00CTIFdgFZ/oz8hPwn/ssAUgOXBH4EnQOEAgoB+v4v/XD8k/wQ/eD9SP/oAA4CQwKNAW8ARf87/sr95/0x/pz+0f4Y/kP8KPq3+Gj4Jvkm+gH7cfsx+/D6YfyaAj8RWSmVRkFhdXLQdglvLV3OQuMhdv5n3tTHIb5+vzvIO9VV49Pvjvg1/Ez6RfP26LXeJdjA1s3Z5N+A5x3vcPVB+Sb5B/U/7sDm8+Cs3oPgb+XB65XyrPmrAAkGcQgxCCAGfwO6AVgBZgLfBHgIwQzXEEsTGROQEKwMBwhOA37/Qf3G/JH95v4eALwAugBjAAAAY/9O/iz9ePx2/B797v13/rH+BP/c/94AJQFkAFf/wP6n/pv+Cv6L/Db6wfdk9pv2YPel92f3YfcM+FX5r/vY/wgH7hKKIxc2lEYJUqZXdVe1UNtCPS9EGfIEE/WX6rXkPeJx4qDkzedn6uvq/+hs5SXhfN0J3JndBuJj6KLvwPYB/aABeAMaAiv+V/kX9bLxee+07gTv3+9z8Qb0vPYx+Pr3GvfG9mT3fPik+QT71vyB/9AC8wVBCLgJ9AoGDEgMMAvsCFgGVARjA1cDoAPYA+MDuAMuAxICUAAa/tH75/l++IT3H/d695T4Ivqz+9v8ev38/dr+EQDOAFoALv9A/gj+MP7v/dj80/tN/In+wwERBeUHYwoZDeUP4xFuEqgRbBB+D74Oug14DD8LYwo/CqYK8grZCkcKIQluBzEFeQKw/0v9fft3+lL69Pow/I39hP4U/2b/bf8+/xb/F/9F/4z/3P8lAF0AdQBlAEwAKQCk/5P+Lf3A+3n6b/m7+IH4yPh6+WD6/frs+iD6/Pgg+Lr3hPcq99b2GPch+MD5mfsz/VL+L/8KAOAAfAG/AbYBLQHX/9395Puf+ir6C/rY+an55Pmd+pD7jfyU/ZX+av/H/37///7U/uP+3v4I/+X/hwF2AyQFUQbsBkQHnwe6B0UHHwaBBOgCpAHAACgA3v///7oAFQLPA28FdQbGBqQGQQaiBd8EMAS/A38DQwMEA+8CGwM0A8kCwwFaAOz+pv2K/LP7SvuB+3n8BP61/wsByAH3AZIBkgA4/+v98fxq/Hf8Qv3J/sEAxAJsBGoFsgVKBTUEowLLAAH/sP0K/R793v0V/5oALQJ9A3gEIAWNBcoFwAVyBQkFkATlA+oCtQFXANv+c/1X/Jf7PPs8+3j7wPvc+7L7UvvR+iz6Wvl6+Nj3u/c++Fj56Pqz/GD+yP8BAfcBcQJKAnUBMQDs/u/9Y/02/Sj9K/1e/cP9Of6X/q/+if5b/k7+ff7j/lD/tf83ANMAVAGkAbkBgAECAWcA+f/S/8D/of+K/6v/JQDYAGIBhAFGAdkAcAAoAAMA/f8eAHQAGQH8AewC0wOIBOkEDgX1BJIE/ANNA5cC3wFOARIBCQH8APMAAQEgAVUBkQG9AeYBDgIyAlcCVwIIAm0BoQDS/wv/Sf6o/UX9QP2p/WP+PP8DAJMA0gC7AGEA2P8l/1P+kf0M/cX81vxW/RH+vv5R//H/pgA+Ab8BNwJ0AoECmQLBAuoCEwMnAxYD6QK0AnQCJQLGAV8B8QB3AAgAtP9x/zL/9P7O/sz+3/4P/1j/nv/L/9j/0//O/77/lf9x/3X/kP+x/+f/MwB9AKUArACdAHQAOwAAAM3/tv+n/5b/ov/Q/+3/zv+V/2//V/9D/z3/Ov8p/w3/7f7X/r3+ef4Y/rz9VP3c/H/8T/w5/CP8CvwA/AH88vvN+4b7Gvub+iP63/n6+Wr6Ivsg/Ej9hP7Z/ycBQQIlA+EDhQQcBaIFEQaFBi0HEggACbQJIwp4CsoK+grhCoAK/wl1CeYISwiVB7AGpgWYBJoDsQLTAfAAFABW/57+1f0C/Sn8RPtX+nL5o/gD+Jj3Ufcd9//2B/c/95T3+fd0+Af5r/lq+iP71/uW/E/99v2c/iz/j//b/xcASgCKANcANQGrAR4CfgLUAhkDRwNXA0sDRQNXA2gDdQN8A2UDJwPRAnYCLwL6Ab4BdwFEAUgBcAF4AToBxAAxAJj/Ev+z/nT+TP5X/qj+H/+X//z/QwBvAIIAigCIAG0AQwAtADAAQwBbAGgAbwCEAJ8AvQDYAO8AEAE1AUUBPwEiAfoA4wDGAIQAPAD9/7P/Zv8x/xT/Av/y/uT+z/6g/mj+Of4T/vn97P3l/ev9Cf4v/k/+a/6J/qv+3P4a/17/t/8oAJMA4AAWAT8BawGcAbYBswGWAV4BGwHtAN8A4ADRALMAoQCnALQAtACeAHoAUQAhAO3/vf+c/5P/m/+h/5r/kv+h/8X/3v/Y/7//o/+N/3z/Yf85/w7/6/7Y/tP+3f71/g3/IP8z/0f/Wf9n/3T/gf+R/6X/vf/V/+n/9v/+/wgAGwA4AGYAnwDJANwA7AAEARYBGgEhATUBPwEzASEBGAEjAT4BTQE3Af8AtgB4AFAANAAXAPT/zP+g/2z/Q/84/zP/Iv8U/w3/B/8G/xL/Lv9W/3n/lv+2/97/BwAgACkAOABLAE0ATQBcAGcAaAByAIQAkwCkALQAswCiAJYAlgCiAK8AuADFANEAywC0AKUArAC6ALMAnQCaAKEAlAB9AG0ATgAQAMn/l/98/2D/Qf8n/xD/+/7w/uH+w/6j/pP+m/65/tb+2/7Q/sb+w/7C/sD+uf67/tD+6/4D/yP/Uv+M/8P/6v/+/xIANQBcAHMAeQB+AIgAjgCRAJUAjQB1AF0AUABJAEoASQA8AC0ALwA7ADsAJQALAPr/7//g/87/xf/G/8z/3v/+/xEAFAAdAC0ANwBCAFsAbwBtAGQAaQB+AJAAnACtAL4AuwCsAK0AvAC4AJoAfABuAGkAUwAqAA0ACwARAA4ABgADAAQAAQD2/+n/4v/m//D/8f/m/9n/yf+1/6P/mf+a/5v/lv+a/7L/0//u/wAACgAMAP//7f/o//P/AwAQABMAEgATABYAGwAiAC0AOAA8ADEAIgAfACEAFgD///T/AgAbACkAJAAWAAUA5v+7/6P/ov+h/5f/if9//3r/dP9y/3v/hf+M/4//iv+M/6n/zf/f/+D/4f/m/+f/4//u/woAIwAqAB0AAwD0/wAAFQAYABYAGwAgACMAJAATAPL/3//n//z/BwD8//X/EQAyADcAMQAwADgATwBpAH0AhAB5AG0AcQByAGUAVwBGAC4AJAA6AF0AawBiAEsAJgADAP//FgAyAD0AMAAWAP3/5P/M/73/y//r/+3/zf+2/7H/rf+o/6T/o/+i/5f/hP98/4X/nv+9/8v/vv+m/5r/ov+x/8X/6f8SACIAEgABAAkAHwAtAEEAUwA/ABgACQAMABMAHgAiABMA9v/d/9z/6//8/wIA/P/q/9j/zP/M/9H/1//f/+P/4f/t/wAAEQAoAEEARwA/AEQAXAB2AHgAbABtAHYAeACCAKAAwQDJALEAjQBpAEsAQABAADgALQAuADIAHgDs/8T/vv/D/8T/xv/I/8f/v/+0/7X/u/+6/7f/tv+0/6//k/9o/13/cv94/2v/bv+C/5P/mv+h/6P/mf+K/3z/dv+K/7P/0v/U/8j/0//1/wgABgAGAA0AEQATABgAJAAxACMACQAKACwAUABhAF8AWABRAE8ATQBEAEEASwBNAEUASQBeAHkAjQCLAHIAUQA7AD8AWABzAIAAdQBRAC8AIwAlAB4ADgAEAAAA/v/9//z///8KABIACwAMABYAFgASAA4A+v/S/6z/pf+9/9n/6f/x/+n/1//O/8//zP/H/8j/y//J/8X/xP/H/87/1v/V/8z/y//W/+T/5P/S/8T/yv/Y/+H/3P/L/7j/p/+X/5b/oP+l/6L/j/93/3n/l/+w/7L/pf+a/6T/wv/f/+n/4//k//z/HAAtADEAOQBFAFIAZwB8AHsAcAB0AIMAkQCVAIwAgwCNAKQAsQCoAJYAjwCSAI8AgABmAEwANQAcAAsACgANAA0AGAAoAC4AJwAXAAMA7//d/9T/1P/Z/+b/9f/2/+D/zf/Y//X/CAAMAAAA6f/i/+v/7P/p//P/+f/n/8v/v//L/+L/6P/Z/87/zv/J/8L/x//U/9z/2v/S/8n/w/+6/67/p/+k/6D/mv+W/5n/qP+5/77/wf/Z//r/BgAGAAUAAAACAB4ANgA/AEEANAAdACAANgA4ACYAGgAeACkALAAoACwALAAgABoAHAAaABgAHAAaABUAGgAlACsAKwAtAC4ALQA0AEEARAA8ADYAMgAxADYALAAWAAoACgAEAAEAEQAvAEcASAA+AD8ASgBOAD8AHAD3/+H/2P/Y/+P/7f/n/9j/zf/G/8T/xP++/7T/sP+y/7P/rv+i/5T/iP+C/4r/nf+u/7n/wP/C/8r/3f/y//z/8P/W/9H/8P8YACkAJQAmADkAUwBlAGUAWABKAEMARQBGADsAIAADAPn////8/+z/4//k/+P/3v/T/8j/0f/w/wcACgAIAA0AEAAJAAgAIAA9AEUAPQAxAB0ABgAFABcAGgANAPv/2f+7/8L/2v/l/+j/8P8AAA8AEQAMAAsACAAKABIAFgAUABQAGAAhACoAMgA/AEgASQBIAEYAQABBAEkATQBJAD0ALQAeAA4A9f/e/9b/2v/j/9n/rP+B/33/gv9+/33/fv+H/6D/rv+m/6H/rv/M/+7/CgAgACYAIgAwAEsAUgBMAEoATgBcAG8AdQB0AHkAfQB8AHcAaQBRADsAJAAMAAAA+v/k/9L/0//W/9X/0P+//7n/z//m//L//v/+//b/8v/t/+b/5v/q/+//9v/x/+D/2f/c/+L/8v/9//T/8v8BAAQA+v/w/+f/6f/5//7//P8AAAQADAAaACAAFwADAPP/9f/+//r/8f/v/+3/5v/m//T/+v/s/9z/1P/R/+D//f8TABcAAgDj/9r/8P8MAB8AFAD6//r/FwAxADkAPwBGAEEANgA2ADsAOQA3ADsAQgBIAEkARQA/ADgAMgAmABcAEgASAAIA6f/f/+z//v/+/+n/1v/b//D/+v/y/+z/7//x//P//f8FAPz/4//g//j/CwARAA0ABAAIABEADQALAAsAAADw/9r/xv/B/73/s/+4/7v/sv+5/9f/8/8KABIA///b/8j/1P/u//T/5//f/97/1v/R/9z/7v/6////AAAFABEAFQAJAAIAFgA7AFcAYABfAFYATABgAIsApQCxAMcA3QDkAOUA9QAcATwBPgEvASgBMAEyARYB6wDFAKkAnwCcAHoALADN/4D/UP8j/+H+lv5c/kr+Tv4w/ub9mv1m/UX9Lv0j/Sf9Nv1Q/XP9hv2L/an96f0z/nv+vf7p/gb/NP+B/9T/DgA1AGAAnQDkABgBKQEoAScBJwEpAS8BHgHQAFkA9/+7/5//pf/K//L/+P/L/3b/Gv/d/uH+L/+4/3MAWAFUAkgD/ANHBFgEgwTpBIQFSwYtBwoI3wjCCakKXwvLC+4LzAt+Cx8LqAr6CQ4J8gerBjIFfANzARn/oPw3+t33kfV185nx7+9u7iDt/Ovd6rbpqOji53vneOfZ57HoCuqy62PtDu/N8KXyi/SP9rn4/PpZ/fH/vgJ3BcgHmwkZC38M3A0ID+sPvxC9EcASgRPaE8ETRBOBEnoRIRCUDhsN1QuTCgsJHgfnBMICIQEuALP/hP++/4MArgGzAvcCVwJxARwBrgHdAkUEuwVWB0IJeAujDXMP7hAwEhITUxPvEiUSPRFCEPUO/gxMChQHhwO0/577Tffh8p/uw+o/59jjluDF3X7bgdmB14XV7NMl00zTDtQN1UDW3NcN2s7c7t8146zmmOoM76/zF/g7/HQADAXgCWsOQhJ6FXIYTBvJHawfDSE9InAjiiQ3JUol4SQuJEQjFSKCIGAeqBuYGHwVYxJHD0UMeQnTBjEEeQG2/jj8ZPpe+UH5UPqO/DP/DQFYAU0A9f5Y/sT+xv/lAEQCVQQzB28KgA0HENQR3RIgE34SBREsD44NYQw7C10JawbSAjT/lvtr91fyuexy5wTjNt+v247YMdas1IfTDtIG0P/N4swwzbHOutDx0q/VZNne3Wric+bw6WbtWPHB9UP60v7LA1wJEA8uFF8Y4xsgHwsiOSSEJWAmbSfVKEgqOisnK/kpMyh2Js4ktiK5H+8b4BcIFHcQ9wx8CTcGTAOdABD+rfui+VT4ZvhF+qX9ZgELBKAEfgPpAecAqADyALYBNwOsBeIIbAz9D0gT8hWrFyoYMRcFFYUSlhBtD2AOcQxICWEFMgGV/Az3kvDx6RvkM9+92pjWLNPA0BvPms2ty2rJl8f5xr7Hecmwy1HOn9HC1Y7aY99x46zm8uno7VXy1vZs+z8AZAWmCowP2BO/F1sbYB6XIEUi2CN4JREnpiguKjsrSitmKg8pmSfdJZAjqiBiHcoZvxVVERINiAm8BjIEjwH6/uD8wPs2/KL+ZQLCBfMGfwV5ApX/8P2m/UT+hP+OAZ4EgQikDIkQExRDF7AZihpsGQIXpRRHE6ASbBGuDpMKzQWqAAT7ofSZ7ZHmU+Ai27LWy9KVzyfNCsuHyK/FlsMkwzHE9MXWx9DJXsz2z4fUnNmg3gzjz+ZJ6u7tDPLE9vb7RgFcBisL5g+XFNMYPxwMH68haSQyJ7spniveLMYtTS4YLhMtlCsJKocosiYWJJQgQxxNFwIS5Qx2CAEFagI1AAz+U/wh/Fj+lgIZB5kJtwjfBPv/SPzo+oX7NP13/5ICuQZQC3UP4BLTFSgYJhkuGIYVmRLDEPcP4w5eDIMICAQy/+n5AvR17YPm4N8s2kzV5NAHzRnKFMggxqHDVcGrwETCOcUMyDXKVsxLz1LTDNj13InhleVL6fXs5fCH9Sj7hQH8BygO6hMmGZEdEiH6I3YmtygDKz4tEi8/MOgwETFjMOQu2CyAKh4okSWDIsEeShpFFf0PxArSBb8BXP+G/jv+0/28/RH/kwK/B4gMlw7zDKUILQTNASQCbwRzB5sKGA7qEbQVIhnsG4sdJx2JGrgWXhNvEVMQ2w5PDH0IhQOK/dL2tu9S6NLgfdmt0rXMtMffw2PB0b/qvde6gbfLtb+2l7mivAm/GcG6w7LHCM0c0xbZlN7Z40fpAe8R9an74QJfCm0RXRcZHE8goST7KMssri+zMTQzijTTNfc2sDdoN681uTL9Lt0qtybGIuUezRpvFugReg1kCdIFCQP+AIr/xv4S/0UB3wXvC3sRoBSTFNMRxg0RCt4Hkwe0CH0KaAxODjwQBRJuEx8UWxPiEHINdwoSCS0J1wnjCUEITAT4/fr1Z+0r5ends9c70o7N6clixwvGjMX1xHDDLcFWv+G+2b+nwdzDgsaOycPMGNCb0znX/doe3+fjrOmI8D74QQDdB70O8BScGvMfIiU6KugujzLFNHg15jTGM+kyaTJpMRYvoisGKPAkDiLWHhEbexavEL4JlgIv/DL37PMR8oTx5fKn91gBUhAnI6428UbOUPJSKE5yRH03RyhGF0IF9fO55ebcqtqO3j/nuPKG/vQIBBGDFlQZiRj/EhgIwvjq5qPUGcRPt7mvlq0YsP21Kb55x2vQdddI20vbT9hR1CDRY8/nzszPrNLj1zTfyOeK8GL4g/71AnYGGwohD7sV3RxAI1IoNyyrLjwvji2cKeAj1hxcFdYOhQrvCCIKrA2UEowXgRvxHQce2hpHFEkL9wDW9bHq9eC32qbZ590R5gDwwvkoAm0JEBEEG6womjmcS4hbL2agafxkhli6Raku4RXK/e7oDNpO087V1ODA8awErBW9IVcnoyUpHK8LR/bu3jXIQLQhpaGc6ZuVooSuZbxqyePTb9pC3MzZZdTHzRvIbMWAxrbKPdGU2YLjY+7G+GMB1weUDG8QtRSsGnsiBisnM+w5NT42P6s8wzbQLQsjcBigD5gJugZ5B78LbRJDGfsdaR8qHXsX2A5kBE35Ue5k5JDcrNdm1lDZWOB46rL1cv+OBcMHAwhKCeEOLRtpLu9F1VzDbdZ0dXAjYRZJwCs1DWnxvNv0zlnNatfD6ogCFxn9KSIyGDC/I9EOzfRY2QPAlqt2nuOZp52wqBu448co1AHbjNxD2WLSPMpQw5+/ScCOxZ3Oc9n+4wTt8PM8+Bf6G/tw/UwC5wkSFNcfyitZNj8+b0LVQRo88TFYJdcY+w6ICd4IcAzBEiUaAyG2JaQmDyPSG0wS7wcm/hr2WfB07Djq1Oki643tpPDQ9Cv6Rf9LApICGAEJABkCVgqlGgQyiEyHZAh0tHY6a2pTnjNLEe3xENqYzBjLutVR6jsEDR3cLls2RzLvImsKcO1S0by5KqlroQ+j1auiuKvG2tL82d7ZhdPByVq/L7fDs0q2Qb4/ypzYjOag8FP1wPXV87fw3O3R7b3yF/2qC24cqyzKOQxCkUS8QK427ChwG1oRhAvgCYMM3RJOG08jiyixKdEmEiHaGdcRvAlIA8D/of6f/Sb7GfiB9W3zlfGF8L3xg/We+jP/8QFSAx4FEQreFJUmdD2qVRZqx3SicRlgV0PXIMn+HOPL0T3M9NEq4QL3ow7HIdIr7ipCH64KRvFu2LnDIrVorhuwCrinwTbKytCk09bQ88gwwNu54bZcuD2/CcpF1fzeweYh61Pqa+XM3wDcxtpZ3bTldfPJAwAUsSKMLZ0yCDKtLKwj6hgaENILjQuIDVgRAxfLHEwgqSDEHnEbeBcXFF0SrhHeECkQZA+qDHUGHf5j9q3wQ+0F7YDwOPfI/04ImQ6zEGcPng3TDvIVvyTOOkdUtWobd+l1mGapS1YqZQhL7FHaM9Rl2cvnXfzIEXgidyozKF0bLgZt7X3WOMWWuoy3lrvxw4fMj9IV1eHS6MuQwje7eLdFt527VsWM0preNuc77BTtmOhM4C/YA9Pc0Q3WEuE38Y8CIhJ4HuElLyeWI68dTBddEdINwQ2gDzwRBhKNEnkS/RDKDsQNMg4rD7QQ/RI/FeQVvBOiDiwHPv599RvvlOw97lHzyPvfBnwRXxj5GdQWlBBFClMIog6mHjc3hlOQbKp6OXl5aeFN7SqcBmTopdYX04vc1u7/BF0Z/CZdKnQiNBFk+mPjc9Evx0DDDcWOy7XTJNnL2P3TlMu8wBa3yrKztAy7hMWv0wHifut775nvNexi5e3c59aH1fXYB+Ld8K0Bmg+wGdwgSCR8IsgdjBrHGdoZqhm4GCEWxBHPDMMITwXcAeMAyATeC6QSvxeoG+odTxxzFVUKhP218f3ozeRX5dvpK/Lw/ZgKLRQVGHsWvBCZCSMFIQc7EkgnnENpYLR1iHwMdAJePj26GHb3guBG14jbJ+qR/Y8Q6B2oIVYa/Qq594jkSdY60O3QuNT92e/eGODX2ZzOScNIuLytIagFrFa3r8V91THlfO8Y8RXtNOc04BTYrtKN0zDZleHp7Wz9bQoYEi4X9xsnHgYc4hleG3se0R/OHngcwhibE9YOowwyDMsM2A8mFR8arRwfHTEcBxm9EksKowFE+pn0P/GJ8I3xS/SN+cYA2gbpCEcHUwMl/v35uvopBAYYMzTbUhBtDHtzeS9qck4rK2wIU+5E4fTf1efh9I0Dyw/4FOgQKAYt+bbrS+Cy2pXbst7l4Unl7uVj39zRZ8RxugyyE6xVrVu258GgzfvZ7OPw5s7kKuJe3+7aj9ds2WzfBeZo7Wb3TAEDCD0NrBMMGgYd5x34Hz8iXSIlIIkcBRgeEygPaQ2mDfsOIxK1Fksa0RtxG3IZaRUKELEKcgV3ABz83vjD9tv0a/Of9Kb5iwDEBb4HbgdsBWAC6AC1BIgQziT6PQdWxmaIaxRlWVRNOv8cZgPw8pzrX+vB8BP5gAHaBaEDrfst8tHpDOPl36fhYeYI6tPrx+qk5PrZb86txRC/8bkeueC+zMeGzybWldv03WPdGtyA2g3Yz9Yw2hPihepR8eD4oAHTB9QK3g0HEzEYjhtsHocgQSBTHgsc9RjvFCMRYQ9gEHUSbxTAFuAY7xmaGVoXcBNlD0UMJwkXBWEA6PtI+Fr1pvJr8XTzU/j6/dcBAQOlAav+k/zi/igIUxl/MRhLEWBma/NqOWA4Sx4wZBZ3Ayz40fKY8yj47vxA/wb9tPQY6eDgj91g3b7fDOX06lLuUO5m6TDfXNJvyDjDjr/VvDy+YsSkyvTO0tEu0pHQDdBk0V3SPtM3193fy+lg8Q/4N/9pBO0GDwojD7gTPBfqG4YgMyHXHvAcRhuxGAEWwhRbFcMWuRi6GvkaOhlHF4MVpxLcDkgLjgcuA7z/9/1z/Or6KPrK+g797P/sApgFeAZjBTcDIQE9Ae4G+BPfJu06cEtNVntZAFWvSJo1UiEcEQUH8gDo/aj9y/3l/C/6CvPm5hncWdfQ1obXL9qE3x/kPOYs5triOdu+05bRzNGuz3jN4M9K1KHV09Sp1B3Uf9Jo0vvTZ9Vv1yfdS+Y77h/0m/ogAfQEuQb5Cd0OCROOF00d+yDNIH8fER9MHVMZYhbTFRcW2Rb4F6sXghVrEzAS6w+GCx4HSQRCAskAcwD5AK4BbQJ0A5oE+QTVBEYFYgWOA8IA6v6X/jwBSwh/E1Uhxy71OcFB80R9Q1A9oDPdKXYiohwwF8kSig9EC8MEKv3n86jog97v2BTXytWP1TjXxNj62BbZ4dj91q/V4dYY2HfXLNjk24He5N3q3PrcrttQ2bfYSNke2b3Z293w43LoOOyl8QP3L/oU/SsC8weiDIURkxZmGYAZMBkLGcQXRRYSFhAXnxiEGggcDBy9Gi0ZeRevFBAR5w1ZC1EJbAiVCAQJfAkRCmgKRwpOCnAL2AzuDBwMiQvyCpkJcwgTCQAMjBAFFiMc2SEkJrEo8Sh/JnsiZR7iGuwXbxVKE98QFw7MCg8GUf8p+BbzOO9T6nXlj+LL4Kze7NyA3DDcRdvq2lDb19pz2Q7ZotnL2ZfZJNoL21jbstuk3JfdR94I4HzjYuf+6szuhvJO9bf30/pI/gABgQOsBp0JngtSDRcPqxBSEnMUdha8FwwZ6RpLHEscqBs3G3oaDRlQF3kVZxOGEW8QBxB9D9UOvQ4YD9IP0xC7EQsSuBH/ELMPtw2QC+wJnwiVBzkHcwcCCN0I7gnHCuQKjgpgChcKZwm1CK8IGQkQCUQI0wa1BBcC4P81/kz8Ivql+Ob3rPa79PXyW/E977fsm+oF6ZDnquaW5tnm1OaX5prmsubv5l/ny+ci6LTo3OlG63zsf+2Z7qnvlfBw8SDyo/I08zn0ovUL92H47fm/+5T9Xf8oAQsDIAViB5EJYgvaDFQOzg/gEHERzhFBEsESHBNgE7kTQRQBFQ4WXhetGMcZmhogGwMbJxrWGCkXVRVuE3kRjg/oDaoMkAtxCmcJigizB94GLAaGBbcEpANwAgABKf/9/OH6EvlP95D1CPTN8t7xafGB8dHxLvKn8hHzC/Os8oTys/Lp8i3zsvNC9H/0XPQD9JXzI/PX8sXy3vIh85nzL/TJ9Fr1z/Ul9nT26fZo9633ufey95P3YfdL92z31PeJ+H35k/qz+/b8YP7C/yIBmALpA+kEsAVkBhYHsAdLCCoJOQo5CyQMFQ0LDvQO1Q/EEJkRKRJ9EogSSBLcEXMR+hBZEMAPQg/PDlAOtg38DBwMIAsuClMJaQhvB18GGgWgA+wB///6/Rj8b/r8+LP3s/Yi9tz1tvWX9Yf1YvUB9aH0d/Rp9Fv0WvSJ9Mb07/QD9QD1EPU39U/1gPXu9XL28PZp9+33jPgt+bb5MPqm+hH7cfvg+3H8Dv2f/UD+C//Y/2cAwQAVAX0B6gFUAssCVgP+A7kEWQXABQYGQgZvBqQG4AYABxMHSQe4Bz0IpgjoCB0JQQkzCQMJ4gjgCOcI5gjSCKsIbQgNCJYHIAfKBpUGVAb8BY0F+ARDBIEDwALyAQ8BKgBQ/4r+1P0R/T78Z/uk+gT6bfnh+Gf4/veu91z3AvfB9qT2pPas9qL2jvaH9pv2wvb99lL3rPcG+Gf41fhT+dL5Ufrb+mf79/uJ/CL9xf1R/qX+4P43/6v/CAA/AHkA2gBTAbQB7AEeAlgCggKjAucCPQN6A5YDsAPdAwkEKwRdBKAE5gQoBVoFgwWpBdEF/wUWBhoGJAYyBj0GQQY7BigGCwbvBeQF7wXxBdMFowVYBfUEmgROBA8EzgN7Aw8DjgIWAqUBJgGZAAEAb//w/oX+Kv7F/Vn98fx//CH83/ui+2v7KPvj+rj6j/pa+i76GvoX+g76B/r/+fD5/Pkq+mD6ivqw+vv6cfvk+0L8hPyr/OP8Ov2V/fH9Sv6f/u7+Nf+P//f/TgCgAOUADwEyAVQBgAG0AeABBgImAjYCQwJSAlcCSAI3AjoCRQJSAlsCaAKEAo8CigKZAqwCtgK+Ar0CwwLmAhIDKgMtAy4DLgMiAw0D/gL5AukCzQK0ApkCdgJIAgwCwwFzASoB8gDLAKMAYAABAKT/XP8w/w7/0f5s/gD+uP2M/V/9LP37/N/8z/yt/IH8YvxY/F78bfyC/KD8uvzD/Mn82/z5/B79P/1n/aj98P0t/mz+rv75/kb/f/+o/9v/EgBBAHMAugANAUUBQwEhARMBLgFgAYcBkgGJAXkBagFmAWABSQEtASQBNgFWAWgBYQFXAVsBZgFqAWUBYgFbAUQBMQExATEBLAE0AUgBYwGAAZIBngGcAXUBOgEjATIBNgEZAegAsgB8AEwAMAApACsALgAjAAwA7P+z/13/E//u/tz+wv6j/pP+lf6I/mj+Wf5r/or+mv6W/pX+mv6Q/oP+jv6j/qX+oP6d/qP+vP7b/u7+9f4F/yr/Wf97/5D/ov+v/7L/s//J////PABcAFgARwBOAHcAnwCoAKsAyADqAPEA7QD/ACcBSQFWAVsBXgFkAWcBYwFZAUABHQENAQgB6gCqAGcAQwBEAFYAZABuAG0AVwA6ACEADQADAAcADQAJAPz/9f///wQA+v/x/+//+v8bADEAIgAEAPj/DAA0AFMASAATAN3/v/+4/7j/uP+8/7z/xP/V/9X/vv+i/5v/s//I/7//pf+R/47/nf+1/8b/yf+8/6z/n/+P/4v/lf+h/7f/zf/O/8j/0//g/9z/2v/m//r/BQACAAUAJQBNAGsAcQBoAGMAaQCBAKAArgC3ANYA9gD4AOQAxACiAIkAaAA0AP7/yv+h/4r/ev9l/1f/V/9Z/17/Vv8//zX/Kf8R/wn/Ff8h/yH/Hv8a/x3/K/8t/yf/Mv9I/2T/hP+m/7v/tf+i/5T/jf+J/43/mv+p/6r/mv+W/7X/4P8CABUAKABMAGcAagBoAG0AfACWALMAtwCpAKAAmwChAKYAkwB9AHsAjgCqALAAnQB7AFwATQBKAFUAbQBsAEIAHQAUABIAGgAqACsAIQAdAB4AHQAYABsALQA5ACkADADw/9f/0v/N/77/sv+m/6z/vP+w/5X/fv9x/4T/tv/c/+L/5f/s/+r/6//w/+7/3f/J/8n/4f8AAA4AAQD2//z/BAAHAAwADQAEAAEABgAMAA0AAQD5/wIAHQAsABEA9P/5/w8AKwA8ACsAFAAjAEUAUgBaAF8AVwBVAFcATwBJAEwAWQBmAGsAaABYADkAGgAOABMAGQAMAPb/9P/5//X/4/+0/4D/Yv9Z/13/X/9j/2j/XP9K/0X/SP9B/0v/dP+Y/6n/nf94/2n/dP95/3L/bf97/5f/uf/V/9L/rf9+/2T/c/+h/8P/wv+0/7D/t//B/77/rf+j/7T/xP/F/8z/zv/H/8f/zf/R/9H/4f8AABEADwAAAPP/+/8dAFkAggCNAJcAoACrAMMA0QDWAOMA8gAJASsBQQFJAUwBWwGCAZsBnwGnAaABlgGbAZwBmQGOAW4BPgEaAQoB7wDUAMkAswCUAHsAbgBnAE4AJAD8/+H/1v/F/6X/hv9x/2n/ZP9R/zr/Jf8K//X+5v7M/qj+hv6D/oz+g/50/mj+Y/5r/m/+ZP5J/iz+Kv5D/lj+VP5E/jf+J/4g/hv+DP75/e/9/P0P/hj+H/4o/jX+Qv5C/kL+WP6C/rD+3v4I/yb/Pv9f/53/8P84AHEAngDFAPAAJAFnAbUBBQJWAqQC6AIiA0sDaQOLA6MDtQPNA98D7QP9AwkEGQQpBDUEJAT4A+oD8gP0A/ED0gOiA4MDcwNhAzQD7gKxApECggJpAjsCCQLhAbkBggFAAfkAqgBVAAMArf9J/+X+eP4D/ov9/vx3/Av8pftE++36r/qK+lb6DvrU+bL5nPmH+XX5cPlv+Xz5pPnZ+Rv6XfqV+tf6H/tm+7D76PsT/D38Zvyq/Af9XP2h/dH9//04/nn+xv4b/3H/vf8cAJcAFgGjATICsgIfA3oD4ANvBAkFfAXaBS0GhwbmBh4HMwc+B0kHLAfVBoUGOgbKBT0FtAQ8BNQDcQPfAjgCwQFdAe4AjQAvANv/xP+t/2//NP8T/xb/Cf/z/vf+8f4B/yr/Y/+0/+v/CAAgAFwAzAAcAVsBowHMAf4BKQJNAnkCoALWAsICkQLEAhIDFwO9AmACIgLeAZ8BUwHWACoAgv/c/jH+jf3v/Fr8xPtX++n6UPrF+UH51fhw+Az4qvc49wX39/a/9nP2Yvaj9vD2S/fF9z/4rfg5+dn5a/or+wr8u/wr/cz91f6v/1oAAgGiAUACvQJeA/cDVwTKBB0FcwUABnwG2AYHBywHWAdgB28HZgczBwEHuQaABlkGPgYlBtIFlwWOBXgFbAVEBdUEigSSBFgE3AOCAzkDDQMLA9cCPALCAXMB4AA1AJz/IP+q/k/+E/6y/WH99/x4/Cz89/vy++77vft5+0b7MfsR+wX7BfsC+yX7b/uX+5T7tvvi+wL8Lfxu/LP81vwU/Wv9j/2p/eX9If5y/tL+Ov+t/8D/2f98AAgBLgFGAasBPQK9AhUDGQMFA+sCpQKkAhgDLgPwAkoDiwNfA1wDlAP0AxQEAgTqA/wDbQSbBJcEuATDBLkEwgT2BPYExwTpBAEFvgSOBGYELAT6A4MD1AI/ArQB9QAhAGv/qf75/T39bvyy+9f69vnm+P33pPd590v38faC9jH2PfZG9uD13fVN9s/2RPde9yL3/fbE9wT5s/mw+Zr5Tfqk+4f8j/z2/AT+9P4iAGkBFAIzAm0CUwOlBHgFWwUvBdIF8wbABz4ItAjzCC0JRwltCe8JTQqHCqQKZgrVCWcJ3wmKCmIK4glBCYAIJQhTCD0IDAf0BdYFwAXCBRQGHga5BVIEzQBD/Qb8OvyK/jsAg/2O+4v8LvxQ+8n6PflB+F35H/sS+vT4rfn39i/zxfKg9tf58fU29Jr3xfdm9b/z0PRM9Zr11vn7+Br1lPkl/cf4bPWm96z4RPiZ/ZX9offW+3MAePxz+sb9nP+L/08CrAPcACz/6QKQBbQCugHAAawDjggaCNID7AH4AlYEgwaQBwIEzwITB24J1QavBLEDxgICBT0IRQntBvwFhQcEBuAF1gYDBZ4DZgZEC/QIogSOBv0GYgREBCUGkwW0A6UFjQc1BKf/5f9kAm8Aev6mAacChv8Y/+wAif9/+4n79v4T/dX5q/3MAI78A/mg+sb6tPg9+p78Wftx+dz5mfoy+Zj3X/jq+Rv5d/ef+Cf5kfbe9pH5lPfz9Ef4LfrM9j74B/xw+Bf2kvrr+1j4hfm//nP9jfqo/fr9EPt//OT+Nv8QAKwAY/8iAD0Cl/+S/pcDsAOy/2kDKQghApn9XwT0BSAA6wOICXIEpALPCCAI2wJ3Ba4H+ALfBEMKzgfmBjwJbAdABn0HoAVXBKAI0glmBfoGCAquAz8BJAfbBEAAmgZVC34EkQANBjoGJwG0A8YHzwNIAF0E+QZLAlr/LAKWAjP/FwC5A+QAT/sB/SwCIv+g99f5yP9P/Mf3afuX/TT3mvQD/C/+KfYJ9Lf7K/3y9Wf0Zvqk++H18fVg/FL83/bc9or8ov1G+Ij3hv2B/4X7yPop/8P/3/rz+lgAgQD4/Nv9zQBK/0v7UPwhARUBbf1s/X7/pv/E/jj+If6g/qf+dP6kAD4CTv/2/EUACgOB/8n9jAGSAkkAVgAYAo8BVQAPAWIBKQEtAq0CrwENAYcBMwERANoBIgOjAD0BRgKt/qb/zwTBAj/+GgFVBTQDYAAiAwIF2wICBEUHfAXRAeAD4ghPCLMEYQUkBwcHdwi+CRsJtAgXCNEHkgjvCHgILQnACzEMygnTB10HWweXByoJ5QlqB74FVAiACW4FhwFuAWMClQEwAJ7/P//f/an7dPpY+uf4J/bU9dL3jveU9NPzCPWk89bxMvLN8qLyUvIe84T0RvSc8qTxC/KB82z0S/TX9DX1UPW09tb3jPad9CP2xPjt+Jj51vrq+c/4KflT+UT5Mvrp+7r8kv0L/6r92ft2/gQCJgF7/2YBvgJNAlUDsgQsBL8DjAX4BywIXwc+CR8L0An7B0IIagrUCxMMWw2ODmgNuQvzC8QMlAyfDKgNEQ5nDJEKEAs4CxYIzgRxBIYFagUwA/AAkv/x/XX8aPvD+in6dPnA+WP6t/nd+CL5ofk2+Zf4kPk3+0L89Pww/Yn9mf7L/xIAqf9x/9X+W/7m/88BtgGeABwAggC7AEkALQCwABkCJQR8BMICowAX/+3+8f+gANT/oP7y/cb9A/6c/az8IvzG/Fj9P/vp+JD63v2+/1IBcAG0/mL76vqK/Y//pABBAu8CMwPZBD0FzgFQ/qj+MAFVA/IFewmpCmIIVwWfAl7/BPx1+k77KP18/ZX79/hT9grz++6H68vo6edG6zfvou7T6wXrcevR6r3qiu5H82H2mfzgBM4IIglPCuwMnA+6E2cauh9QIWIigyMzIukfOB83Htob3hqWGjwYZBVgFHATOxB8DC8LtQsBDZIPvRA/Du0K+geTBGYCpgJoBGgFwgUcB80GOgNF/1P8UPrn+c/7H/8qAAL+Tvo89E7tyOma68PwQPSg83Tv1+eY37HaX9kq2p3b192y4ZTlGuiH6trudfZd/wUGIwoODesQFBWXFYoSUxDUEK4QeA1UCFUCM/v58hzrMuTV3VDZY9ea1cfS+M/gzWbN8c8L1j3dE+Tv7J73swDHB3sOpxNXFjwa1SCGJngpGCuXLJ0sEyoyJmkizx+bH50gAB9yGmwWghRLE3MRLQ9NDswQfxUZGWAZSBYkEq0Pfg+gEHcRfhEJEvASaxI2ECUOQw0qDJIKygpmDHgMzAmABGb9O/ay8ZbwxfKN+OX++wFSAEf6+/I77iXtPu7O7x/ya/aj/dEHqBMvH6YnHyvZKXQlFyFkH2oedRt7F/4SggsQ/w/wMuJv1urL/sFzuUm0obKPsE2sEqh7pbOkcabWrIG3tMPLz77aJ+ON6Fnt+/Nz+40C9ginDSIRIhQfFWETrhCTDioNlQxODakO/g5HDpINJQ18DQ4PWxHAE+IVUhkfH+gi+SB0G3kWaRVzF8oYtReRFVUVXBYJFZcRMw/oDsEOOw0pDEUNlw7ODdkKBweRA3kAWf6u/2UFBQ0AE+MUehEpCckAof22/pYALAPoCMoSLiAAMD4/kEnSTJZJlEEKN9ItKCnSJkMjpxzmEfYCsPB93U7M2b4VtQevJK3/raysUaYan+ebQ520okmtdbthyX7V59/i58nskPAS9db5jv4RBKwJdA3QDqANXgn/Ai/+Iv26/uIALgMOBg0I1gdkBQIDfATdCc4PMxV/GzIi1ybgJ5EkgR0BFn4SjhJUEh4SdBO3FL4SnQxSBZAAPgATAzAGZQi7CSYK2wiFBYYBJP7c+7L7qv5OBZYOxBbPGVAVEgvyAIb7j/tv/xIGsRCtIKU0pUgYWOtfpl6/VOdGBzs7NCcyfjEXLr8k7hSUAKbqbNX4whO1s6w8ql6rL6yzqEagqJY+kFCQ+5ghqQK7PcpN1q7eRuJt4q7iVOUU63fzO/w7A9cHxwgzBJz7G/Mk7uXuYvU+/qwEMweDBxYHqga7B+cKfA4VEl8Xax4kJCkmtySyIJsbcxc9FRIVFBdmGsYbvhmfFrMTjBBMDu8O6BGFFWQZ6hxiHm0cdReWEWENugvZCiAKlgu/D6MUdxd8FXcN6wE/+Mbz+fP/96AA1g4MImo4x05sYO9omGU2WFVHwzpkNl03aDjoM1QmXRDC9k/eoMiptjSp7aBenoagQaIcnyKY6JCxjGmPj5wmsSPGj9dk5PfqIuwj7J/tb/Ct9FT74gJRCKEJ7wVt/ZLyxOis4hTiYeeI8HP50f8jA/cC1wDHAIoFRA63GLUiOyl1KhYoHSSZHkEZERf6FxUZ9hi1F+4ULxDgCfMDowDrAdoGzwtqDsAOIA5TDeYM4AwcDPIJiQfRBW8Dd/9K/MX8cAC0A2sDK/8p+UrzR+7k66/tb/MB/VEMiCIXPfNVN2Y8aG5cM0tPPaw2fDUJNl40Ky0YH4wK8vEz2KvAkK2IoJOb6J70pZGqjKqVpimhh58BqFO6t9Ch5j/5PAX3CTILbgpWByUERwSDB6ILgA+2EGoLCv/x7y/jntz73ezlR/C3+Ir8PfsX+F74tv1gBWANCRbfHkAm9CuhLxMvdym2IbUaExbZFUUZkhv2GMASRAyzBt4CpAFAAosETwirCn4IXgJ2+1v1d/E58VPzAvUH9d3y8O0q6GXlW+fN64zv5+/e6xPmEuIO4XvilebP7rv73Ax4IvU7BlVIZn5oo1qiRVk2xTIZNuY4KTacKmoWiP2j5JjNuroir9SqKqyTsci30rrluSC3SLVUt5HBtNTf6oz9KgrfEKIS0RF/EQoSmBHAED4RvBKhEqYOIAZv+qrvT+mU527pQO6U9Ln6LQDBBHsHYwj/CaAOnxafIGMp6C2RLSUq2SVsIW8dqxlnFcERJhATEGYPCQxeBsz/qPlX9eryL/M19qj5uvqu+HL1j/IT8NvtEOzG6uLpqOm06orrjeqr6QvsBfEe9JLyoO0O6GnksOOk5L7nTO8u+7YICRcKKa9AdVnLaHNmhFXCQrk44DdIOVs2Ki2OHwQPFPqF4E7HO7XurA6s7K5vs4m3BLnUtqOxS63Xr+y8htJx6t39KQkJDYwNvA2iDQIOKRDmE7sXexruGvAWkg3MALH0nOyy6fTrJfPI/WcHuQveCq0IegmiDpsWNh4YI7sl/CadJiYk5SAbHx8fyh9LH90b4BR1C7gCjvxA+Or0a/Jr8bfxL/IW8tHwqu477QDuxfAl9L72TPfe9eTzbfH27Qvrzuu78SH6cABKASb84PM27APnWOWy56vtCPbY/fgClwduEqQo4kYsYZpqPmBSTKk7zzJvLukpTCTZHe4Vrgn/9TLduMVGtS+tQKuWrDev7bF2s4Gyeq+FrVuw27pIzUzjs/WiAOYF9gjlCtYLCw0oDwsSkhUGGXIZ0BOmCFz8VvMM7/Tvi/VI/ekCTAStA8EDdwWjCE0NAhT0GykjfijHKwAtsCtHKLIkiCLPIqIkyiS6H1UVRQrBAp3/+v7K/gj+qfuP987zDfOr9Tj5Rfv0++z8Wv9qAn0EwwQKA/f/MPxZ+Pf0+fKa8432YfkW+af0+u276AznQ+iK6o7t4/Eo9+v8hgTGEWon7kJlW8Nl8VxxR1IzxSrUK8wsOyjlH7AWXAon9znetsUGtJargKsosIi0PrSwriGnnKEWobmnEbc7zTLkQPWL/jcCiwKwAdMChwjQEBcX+RhjFwgTQgtuANL1m+/47vzytPn1/wACDP8n+0b6f/wsAGIFfQ0IGIUi7CkeLLcpiSXwIukjTChnLpYzBTVYMNMlQRl6D88KfAkFCVcIWgb/AdD7Zfaw81PzjPSB9zH8VgEJBdoF5wP1AKX+6PxJ+s31xPBr7h/xK/eF++j5sPHg5gfgaeCw5Znrmu868dTwyfBQ9e0BURguNo1SUmEQXElI+TQULr8yMjjrNc4sCiIqGHsMtvmV3lLC+a+frLyy5bcftfaqGKAJm/KdMabhsUDC/9ap6pn2hvrh+t77sv8KB2IQRxl+IWQoHyq8IuQTGgXU/Un/CwUKCo8L/QjnAlH8fvhj9+r39/t8BXkRKBo/HfscnRvHGcUYOxvlIeQpIy+qLrcnMBzEEJQJGwaTAzQBm/9n/g78dvfU8LTpCuVT5W3q+/Gj+L37OPt/+Dj0Zu++7P/tUPHy8rvxyu+D763xJPST89Pvauz27HjxivbN+JL3W/XA9Wb6+gEPC2IXSirZQhNYel6eUpk9/y75L6Y73kQaQz05sy63JckaGQrA9KfhOdjM2OHbo9lzz42/jbAkqi6tqrMLuxLHa9et5Cfq3OkA6NLodPCT/hoMHxPMFe0YAhz7GVkR+AceBEoGKQuRD14QnQpCABb4nfXL9af1P/e7/HkDTgetBvUCl/5F/LL+6AXUDaERcRCLDWQLOAlCBkYDuAAr/4X/agDg/t75vPOD79jttu3T7ejtTe/C8fnyPfI98ErteOpS6obt9PDu8TbxAPEj84v4Y/9MA3QCwv/r/tcAWAM4BNMDVgSdB/YMfhFyE/8U0RtlKyA/m0ycTHJBMDWoMV448UH3RalCgjxqN2IyRymNGbAGvPg29Fr1HvQ16znb2clTvlG7LrwXvPe8lcI+yzLRWtHgzWvLwc622d7nMPLR9jD68/8IBpkI6AcKCNELIRLBF38ZCxZZD8YJCwjRB6YFugKVAoAFBgiqBtkAa/nK9Mj1KPtCAAwBq/0s+ib6CvyR+0z4Bvaq9xj83/+0AGz+qPp7+Fv5B/up+oD4N/fe92z4Bfea8/zuvOqq6Evpu+pD6tbnFuYL52bqqO4F8g/znfKB80T3G/wj/0YA0wFTBWcKSQ9REs4T+hYgIJoviz92SJdHqkD+Oko81UM+SxtNsknRRK1AGjxQNIEoSBxbFCkRTg4NB6n63uvD3pHWrdLAzxPMSclZycvKgMqrxwrEkcIhxvHOFdkk4MDjCOda7NTyjvgx/eIBwwcJDp8SHRTIEuAQcxAkEVURbRAfD7cNqQuXCHEEvP8Y/CL7hvzz/Qf9aPkO9VbyJ/KL8+L0bPWJ9dT1Wvak9jz2nvVv9qX5+P3uAJUBGgGjADcAXP8k/kf95fxl/Hj7K/oV+PD08vGZ8MfwL/Eg8aDwgO8q7uztre958lL0Y/V398j6Fv5yAPgBGwMBBcgJ2RG9GoQhuySXJOoijSI8JeMpqS31LsIupS6VLgstMikbJLofDh0aG/4XQRKsCV4Apflv9s/zCO9O6R/lquIt4Hrc+dcb1EDToNY23HfgieEL4cvhiuRl6Hbse/DE9Hr5M/4gAsIEbQbRB5IJPQysDxsTmRVGFisVexOOErwSdBN+FPAVMRcjFzsVXxL9D3gOSw0FDGYKNQi7BZoD4gE6AK7+o/0K/YL8APyG+8b6gvkr+G73J/eG9iP1ofO48kvyvPGR8Ervuu7B7sLuNe4d7UTsjOwd7sfvLfC4797vCPFB8s/yEvOk88f0jPaU+Gv6UfyY/o8AjwEcAjQDHQURB1QIEAnZCQ8Llwz2DaIOeA4JDrUNBQ1zCxYJ2QbiBTcGQwZ1BAwBX/07+pX34/Tr8VHvJ+6u7tXvLfD17u3snOtx69vrcuxX7RHvtvGK9Lz2OfiF+eX6h/y9/lwBDwTGBnYJLwz5DpQRwhOaFbsXqxoUHhshNSOCJFcl7iWKJhgnFydJJhgl9CO4Iv4gkB6CG1AYgBUSE4IQgg1ACgQH9AP1AND9j/qC9xj1jvOP8lXxcO9X7c7rE+vO6l/qq+ld6QjqY+uC7Nbszewa7dPtmu4+7+bvrPCT8a3y1/PB9HD1XPa/9zf5MPpj+iP6Ovol+5H86/0c/zsAOAHMAdIBnwGhAd8BBAIFAi0CUgIDAg8Biv/V/WT8cvuZ+iv5OvdX9eDz2vIH8hjx4++z7sjt5uz16z7rIuuI6+TrNuzm7PTt9e6V7xjwBfGm8gH1xPeN+vv83P6ZAL8ChAXWCFsMlA9hEv4UgxfGGbgbex00H8kg+SG5Ik8j5CNFJDUksiP3Ii8iJiGhH7sdzRv0GdsXXRXZEpcQVg6uC74IDAbPA8QBr/+f/b77FPqM+Dj3SPbG9Wn1y/QL9K/z5/M79Cr0+vNV9FL1cvY696/3MvgP+Tb6PPv3+578Tv0W/vj+2/+lACsBXwFyAYgBpQHFAeMB0QF0AQsB2ACoAAQA1f6C/Vf8UftY+lD5Avht9gf1D/Qj8/fxpPBM7wbu5Oz561DrveoZ6qHpfumY6ezpiOo065Xr5+u77DvuOfBU8kL0Dfbd9+P5KfyG/vIAgAMuBssIEAsFDfcO+xDUEncUJRbZFzgZJxrmGpIb/BsHHNkbzxvjG3sbWxrnGIkXPhbCFBgTcBHWD04OugzxChQJPwdlBZID3gFXAAj/9f0c/VL8ZPti+on5Dfnj+LX4QPiT9x/3Uvfu92D4b/hP+GH44vir+Wn68PpD+5P7HvzZ/IT9+/1g/gn/AAD1AJ4B+AE+AqYCLAOqA/8DNwRQBB8EpAMIA2UCyAEUASYA+v6o/WH8Lvvm+XX47/aL9YP0t/Oq8iXxg+9W7uDtzu2Y7QrtjOyl7EDt4O077nPuAO858PXx2/O/9Zb3Y/lF+2b9yv83AoUE0AYuCXgLdA00DwIR2xKGFPEVMBdMGC8ZuhkCGh8a8Rl5GeIYRRiSF5gWPxWuEyYSxRBpD8sN2QvZCSEIqwYYBToDRgF///z9qPxa++75ZPj/9gH2T/Wl9Nnz9fJH8gby/vHs8cbxsfHV8Sryi/Lv8mXz//PA9I71Sfbo9pX3gfiZ+af6iPtA/AX9/v0M/wEA4AC3AYECKwPIA2kE8wRhBcAFAAYhBioGFQbsBa4FRAWvBAcEYAO8AvwBCgENADf/fv7I/f78EPwi+3T6DPq8+Wf5BPmt+In4iPie+O74ivlD+tn6T/vv+9/8A/42/14AbQFaAj0DVgSxBQwHLAj+CKsJcApmC2kMGA1aDYQNwA3qDeINjA3/DHQM7AtQC4AKawk4CBEH6gW1BGED0QEiAJX+Rf0e/Oz6j/kR+JT2V/V79NDzJ/OB8vnxnfFQ8QDx3fD88DLxUvFf8Yrx7PFx8vryb/Po84P0H/Wu9Uf27faT9z74Avns+d36uvub/Jz9q/7A/9MAxQGsAtMDIwVWBmQHdAiaCawKjAtdDCQNyw1lDgMPkw/2DyoQXBCPEJgQdBAqELcPNA+yDhsOWw2KDNULMwtYCiIJyAeQBpgFvAS1A34CTgFPAH7/sP7K/dz8Bfxc+8n6KPqV+Sr54vi9+KX4evg++BD4Ifhx+Ln4xvi/+Ov4ZPn9+Wr6pfrq+lH7x/st/Gn8ovz8/F/9u/0B/hT+8f3B/bz92v3P/ZP9P/3f/JP8W/wX/Lj7TPv4+r76bfoI+rz5nfmW+YP5Xvkz+RP5CfkP+T75m/n4+T76ePrD+kb78/uU/BP9j/0f/sL+bv8KAIgACAGcASYCjwLSAg0DZQPQAy8EdQScBLwEAwVpBcAF/gU6Bo4G4wYNBxgHOAd1B70H+wceCB8I/gfaB7kHgAcyB9IGWAboBZoFVQXuBGEE0wNCA6IC+wFNAa4ALACf/+r+Jf6B/RL9pfwf/JD7Bvuc+lz6J/rt+bT5lPmL+Yv5ofm++dH5//lN+qH6+/pl++T7b/wA/YX97/1d/ub+gf8oAMIANAGIAc4BHQJ9AswCCQNCA2wDhAOVA54DoAOsA7kDpwN6A0oDGgPuAsECdQIcAt4BqgFeAQQBqgBbAAIAl/81/+7+uP6K/lD+Dv7j/c/9vP2s/aH9nf2c/Zj9rP3V/fb9BP4G/hL+I/41/kr+X/6B/p/+sP7P/vX+GP89/1X/Uf85/zb/WP98/4n/if+R/6b/vf/J/9X/2//O/8v/0P/N/8v/y//X/+3/AAAOAP7/6v/x//3/AgD3/9//3v/r/9//wP+b/3X/W/9I/yz/E/8K/wn/Df8W/xr/Jf9V/5L/vv/i//v/BgAWAD8AfwC7AOIABgE6AY0B7QEzAlkCdgKdAs4C6gL3AhUDNgNUA3EDjQOkA6EDhQNeAz4DPANHAzoDDQPTApwCcAJLAh4C9AHNAZ8BaQEhAdEAiABRADAAEQDu/73/f/9J/yT/Hf8i/wv/xv5x/kL+N/42/j7+QP46/ib+Dv4B/vz9/v0C/gH+/P36/RD+Mf5U/nn+l/6t/rX+p/6S/pb+wP7k/uX+0f69/rn+xP7U/uz+Ev8o/xr/Df8M/w7/FP8R/wv/Cf8H/wH/9v76/gz/FP8P//3+7f7z/vn+9f7+/hL/IP8l/yL/Hf8g/yn/K/8k/yT/Mv9P/3X/kf+n/8j/5//6/w8APABvAIkAlwCvAMMAxwDYAAIBLQEyASABFAELARQBIgElATQBTQFpAYcBlQGXAZ0BsgHFAcoBzAG+AaABkAGWAagBuwHKAcwBxQG1AZwBigF5AV4BRwE1ARgB8gDTAKgAaAAwAP3/zP+e/2//U/9J/0f/Tf9g/3r/ef9t/3X/h/+f/7H/vv/J/8b/wf/S//v/FwAMAOX/vv+4/9b/8f/w/+b/6v/4////8P/T/7r/rP+q/6r/n/+B/1f/QP9F/1T/Zf9w/3T/bv9Y/0H/Kf8X/yT/Rf9W/0r/L/8q/zz/Sv9X/17/Tv9A/z//Qv9L/2D/ev+F/4H/eP9t/2z/eP+D/4T/k/+u/7j/tv/D/+b////7//D/8/8FAB4ALQAvADQASwBmAH4AmgCmAKUAqgC2ANIA+AAHAf0A9ADtAPQAEgEvAT4BOwEqAR0BGgEsAUcBUAFHASkBCAHwANYAygDAAJ0AcABLADAAIwAcAA4A+f/m/9L/r/+N/3z/cv9m/07/MP8m/y//PP9Q/2D/Yv9e/2L/d/+V/6//uf+0/7L/t//E/+H/AAAMAAoAAgACABcAOwBWAF4AWwBSAEcAOwAsABoACgD7/+n/3P/X/87/wf+6/7L/rv+v/6//uv/M/8r/uP+s/7D/vv/B/63/lP+U/7D/yv/O/8P/v//H/9H/2f/n/+//7f/t/+n/0v+6/8H/3//u/+j/0f+5/7H/sP+z/8H/yP/G/9P/4P/c/+D/8P8AABcAIAASAAcAEQAiADIAPABHAE8AWwBvAHkAcgB3AI8AqgC5ALwAwwDGAMUAzgDRAMMAsgCqALEAuwC3AJcAagBLADgAJwAYAAUA//8AAOn/zf+8/7L/uv/L/9f/2P/P/9X/5//q/+3/AAAPAAwA8//O/7b/xv8AAD4AXQBdAEAADwDl/8//yf/O/9z/5P/d/9H/uP+Z/5L/m/+n/7L/tP+s/6L/nP+g/7P/wv+x/4//g/+R/6//0v/q//b/AAANABUAFQAXABwAHwAcABEABQD1/+n/7//7//z/7f/q//3/AgDy/9b/zv/q/w4AGwAMAO3/zf/E/83/zv/B/6X/lf+i/63/qP+e/6b/zf/3////6f/V/+L/CwA8AGIAaABaAFAAWAB2AIYAdABgAFMAVQBxAJsAywDzAAoBBwHNAGkAGgAgAHgA0wDxAMIAcgAsAPv/8P/s/8//qf+h/83//v8AAMf/eP9L/0//cv+O/4z/kv+7/9r/s/9c/yb/Ov+K/+D/GAApAA0A1v+p/6X/wP/V/+j/CQAfABAA7P/L/9n/EwBAAD0ADQDf/+T/CAArADMAGADr/8r/5f8eADUAGQDU/6b/vf/t/w8AMwBdAIUAiABDAOv/y//f//3/GwBSAJIApABmAAIAzf/P/+//KgBvAHoAHAC1/6D/2P82AFoAHADM/6X/sf/B/6z/fv9o/4z/tf/K/+f/5v+r/2f/VP+P/+v/FAAfADcAPwAhAAAAAQDi/27/O/8RAPcBnAM1A1UAe/xD+rz7UAD4BLQGlwQ7AHr8S/u0/C//LAE8AqwCzQJ+AiIBnf4H/CD72/wTANECwQNYAob/Af39+6r8M/6+/7cA2wB5ABUA7v/c/8j/1/8MAE8AmQDlAB8BKwEQAScBlwH4AdgBRgG9AIQAmADiAB8B/QBcAJz/Rv9r/5n/bv8U/+/+IP9s/3f/F/+S/mX+ov72/h7/RP+m/w4AIwDX/3j/ef/d/w8AvP+p/xQB6wPCBY4DS/0d92325/w1BkcLWwhIAC/5Bvef+db9zQD9AfkBGAGq/4j+rP61/zMATf/E/ZT9q//LAsgEKwStATv/4/3M/QD/VwHhAwoF3QPvACD+U/35/tQBCARGBHECtf/O/cv9S/8PAdcB4gCb/p38gfyL/k4BtQLLAT7/xvxX/Gj+PwG+AkoCrAAL/1v+yP6f/xsA/v+b/53/MwDLAN0AZwC//y//0/7y/vX/qAEBA7wC3AAB/9z+igAJAgQBCP4c/EP96gCFBCAF0gFt/Jn4j/mg/ukD/QUEBA0AmPwf+3H8zf9OA9cEIQNr/1/8/PuH/vMBfgNKAtr/Mv4y/qj/pwGkAsYB1P8r/q/9NP4v/44AlwE4AcH/s/4W/+r/nf8c/nH8PvyK/iACgwSnA1X/MPoM+KX6SwC5BI8EsgAP/cv8Ov8dAZEAav5Q/bL+vQA5ARkA4/7o/kYAvgGcAf3/4v5p/4sA8wBKAHL/5f9uATYClgG7ADUBygJfA4UBOv4o/H79UwLcB1QKQQhyA8H/6/6L/7v/jf5H/eL94ABQBScIbAaIAFv5hvRE9cr74gJdBL4AZf1d/Wz/LADF/af6rfqj/u0DegY3BJH/x/yS/WEATAPeBF0EzAKvAEb/hQCrAk8DFAMNAo//Xf2N/RAArALyAq8A9vym+WX5OP3vAS0C2P1n+pT6h/1RAJ7/f/yH+sn7Av8LAZ4B2QE/Aaz/x/0S/Kb7HP56ArYEOQMIANz84vq++/v+ywFKArUAqP0V+xP9bwFnAo3/QfzI/Mr/9AARAXwA8f7D/gn/XP4l/skAtQW8BuQBY/w6/D0CsgdoBrYAyv2UANcFBQmgBz0CtP3i/ksECQd8BMkA0f/5Af8EkAaqA9X+//7PAfkB7wBDARUCQgIPAt0A3/7d/i0BwgIvAhgAQ/7F/mcA6wDgAIMAiAA9AHz+hv6u/83+y/xV+6b8mf4Y/nT9+/sw+tf6zvuu/PD9C/6I/Jj6E/sU/er7/Pls/PL/cQBv/on8pPxY/X3+LAA6AMf/UgC0APQAwQC9/4n/awEuAyACzACAASsCcALbAjACggAG/y7/UAETA0kCSf9+/HL9qgGvBEsErACu/Ln8ugHnBZ8DLP6B+8j9dgLnBHQDef+1/Br+UQE2A/0CXQExALb/4P+xAOgAdwBEAPb/fwCyAfEAJgByANcAQgG1ANAASwGOAJ0AtQB2//n+x/8CAjoEdALN/fb64PxUAroFzQKq/Gb6P/49A50Dr/+i+yf7a/18/xkBxwBr/lj86PqI+qr8lAD8AQYA5v5Z/on8JP0WABAAbv3G/JEAPwYxCjoLdwdFAUX+VQDJBnMNVQ5ZCcQE9QRICGgKJQj3Aq8APwRbCUAJXwKx+pv3Sfj2+Xb6XfnZ95j2b/VZ8/XwUO8i7kHvmvMQ+ND4CvY989XyUfaR+03+wv2c/Kz+swN4B6YGagMCAtUCSQb5CdoKfQrFCgALLQjQA3UAHgDOBikOfA3TB4YCaf6r++D7C/+GAnoEHAXjAgP+Q/s7+1v6Lfkg/E0D2QfxBQ7+7POp8979pAWABqQCPgIFBjIFAABJ+pH4dv2sBK4HowYGBi4GBActBaL8H/QD+OkFXg0HCgYGJgf/Cx8QUQsb/zb5lAF8EzcgCh1cD4QEQANyCREQbw9/CQkGuAUGBWcBpvn777XpzeqY7+bv2Omb4XTbutib1wvX8tee2tvc3N1u3jrdfNwa4PjnuPAf9rH33/ee+uUBxwqMEPsQ1w/wEdYXtx4xISAdUhgyGB4dtSPdJL8eYhdRE14SgxEQD5UMuwoMCkgJPQWQ/zL5SvJl8RH4EP2N/OL5SvZ79HT0ovLD8mb3cfxQAKUAjvyO+XP8CALeBLwHwQmuBs0CEgFZ/7f+XwE3BHgG0QdWBf0AEv0t+mP5b/vu/qEBBAJN//P+DQgSFDoUugdC/EH+Lg7kH28nFCLGFcINlBCSGcUcHBSHCu0JNwxxCZ4A0PRF6B7fHt+E5CfkdNg7yaTBKcBQv1nAXcORxFDD+8NZyO/LGM3i0dPcMuhG8Jn2Uv0zBEYKmhFtGucg3yRZKn8z9jqOOkc3IzhrPApACEAsPME1+C2VKGkn7CQpH1kYnREUDOAGtABq+Knwhe2a7kbxD/GQ6zbkguAQ4zDplO0h7lrtqO3x7ZHu/vCn9E36zAAaBW0FXQLR/gT9Vv3R/8wFNAuHCrYFiAAk/SP8xv1AAJ8AJv/j/C76lvjL/LwJRBl5H00WaQV0/IIG+h6ONKM5dyxIGucThBtOJsUnwB5uFNIPdQ+4CtX8aukm2C/S/NhW3q/Sd7lFpIedl6B+pfio1Kf7oTifO6R6q7KvK7VDwUTRCt9P6LzvnPecATYPeB+aL8M7K0MdSIxMv1CVVfVdbGcZa/tm1V6uWFdWSFNfS54/lzRqLAomuh4MFKkH0vs28tvq8eNg3nzaQdeg07jO6MpVyWTJyMzh0ojXb9ct1c3XCuDi6G/wP/b5+HP5f/nB+aj6Xf7lBTQMOAwrB1YCWQEWA34FMweFB7sGpwS6Aa4AxQX2EmYk1S94KkAXzge8DCwn30NGTBk8fyRKGn8gfyt6LyYpqR45FusPYAet+A/nUNpg1inZjdgLyoKwLJrwkuGYZqBEoYSbVpR7kZOVfZ52pzSu6bY8xazTy9td4UTtZwCwE6ojJTAaN906m0JNUI1dlWUoa/hvbHA7ayJlJ2IAYdlekViSSpM3tCgrI+EhARsTDJD52+i33njaxNYW0OXG2b5fu5C8Kb/6vni8t7uzvanBxMgY07fc1OKU51rtufLQ9T74Iv3FBd0OahJID/YKOgtZEPUVJBiPFRIQmAwtDQ8PyRCDFUIhSTA4NrgrQhmIEfEfbTtkTohKfDXYI98jATC9OPI1jivjICkYVQ8WBKb2U+pc4hTfl9t+0Py7lqZ5nD+fSaQJoiKZ6I8Si3eNfZc9o6+oSKnarqS7Yce+zlzYHeja+H8GjBKJHM8iLSl1NSBGu1PaWmld311+XVddU189Y5xkYF6mUEhCIzrGN041oy5gIxMV8wWu+O3viOry5B/ette50jzNosbkwT7CFseyy7jMWMslyxDPLNi+5ELvffL+753u9vJU/E0Hyg9MErIPDA3PDUwRGxWwF1EYYBYjEtANjg7EGG8qITogPIctThlrEiwkWEPSVmlPuDXbIJYfNS1OOuU7QDFBIP8PtQSF/WX23uwM4ivXFcvZvKGtZ6GSnM2df516lryLJ4MBgJGEUpJBoqGnpKKTommwn8MF0tfd9OpG9tn/Lg2pHbwpODE9PLhKcVNoVJNV01uuY1dokGhOZF9cY1Q0T4hLEEbWPcE02CsCIv0WAw0kBQv9FPPQ6TXk1uBD3LbVYc+dy37LYs4Y0W7Q3s19zgXVLt866Dftau5n7qHw0vap/xkIoA17DwwPBQ9+EW8WGhsOHPcYJxXGEysWkh3bKSo14TWdKZ0aShcAJeg63UcHQJEpERibGJklbS+rLA0f8Q1/AL/5bPbR8PzmodpnzQvAirOiqb6jJaFVnoCX3Y1Why2GKodCiiKTcp4ho0ei1qdGt7fGX9Hs3Y/tR/jY/ocLtx6WLUo1DT7YSfxRU1Y/XSFm1mpGawJseWzSaMJi914cXYpY6U4GQ+84yTFnK6gihBaiCBf8DPQ68Kfri+KW1/zPUcwkyujIssjuxyTGiMZTy2bS5diN3e3fQeEB5QrtdfYM/UEAaAKIBdIJ3A3eD/0PDxG/E0EV0RRVFp8e6St1NNgvEiHfFr8erTVfScNIrTPpHFQZuSqkPek9FytoFa4KOAvhDdQJxv3B7sLgidQ2yuXB5LqhtFmvVaj5m4aP+IyRkhmVL5MXlVOacpv0nIOpP7v9w0DGpM6v3KbnmvLHA38TcRlxHZspcThfQPtEHE1jVPZV+VZcXDJhyF42WDRUF1MNUWxM50WtPao04yxWJkge8xJjB/X/e/sJ9Xfr0OJl3mrcRtmk1N3QE9CS0lHWsti52bzbrN+d5Gzp++0U8+H45/5cA4oFYQiRDRAT4hXKFsQYPRqVGrYdUSZxMhE6xzZjKzchWiQVN91JWEzyO9UmYyBMK9Q5lDt7K8MWwwt7ClsKsgNU95Tq+N1z0cHF4bpxstOsYqiRoe6UXog7hduJco0wjIuLXo8Tk8qWj6BHrnm4kL6Rx2vVIOH/6kT5Qgi+EGIVPx+xLjs6+j8jRipMqk6DUEJWdl3sXX1XXFIoUWZQjE2oSDVCbTknMFkqYSZhH2EVWAySBhIB2vkS9M3w1e1M6Vbkd+HA4JXh/uPF5q/neuaI5TLof+5c9MX3nfmh+5T+AAKLBqQKrgtlCxoNsBCHErwSkhbSHvklECauHq4WehayIWow6TRyK2odcxjUHxsqIyz/IWMTwgp9CZAJcQT7+ezu8OTO21jSacj3wNu7vrXzq/6fgpcSlpOZkJsgmGOSCpFdlgSfgai/sLq25LsOw6XO4ttJ6HD0Ff+aBjwMpRUBJfQyhjlWO5g9HUPjSiBSe1U6UlJMTEqgTF9OeUppQsQ7Vjc/MtkqlSI7HB8XfRGqC/oEJP3F9tjzSPO58CjqauQs40Xls+hM6wrsc+ta6g/sjvEK92r6Q/u9+1T+XwJOB4gLKA0MDZIM6QxYDtYQ4RUSHEgfNRwsFacR5hR4HagkLCQeHSgUJRFTFkQdKR/fFzAM4wS+AjQCPAA1+znz2OeQ3DfWidI5zgHJkcJ+uWeuoKcOqSmtSa3GqHujBqLgpcCtYbbsuym/SMN4ytDVG+Ii7Dz0TvueAmsKlhMAIBss5jGHMhs0xTnWQNREeUVZRAdD7UJOQtw/rDzQONE0+zBPLK0lmx3/GIkXWBPgC6AEdADr/QP7ZPhv9h709vBk7lrtje518Qj0zfSS8y/z3vUu+sT9Hv+c/9YB1QVqCboKhQt6DaYOIg6QDeUPBhccHn0fARuVFFETpBhhIFskRyG6G4UXZBb1F80ZsRkqFqUQXgkQASf8Bvyh+3b0+uVh2LTSJNLVz47IJL7hs4itXK2QrgKsAagYphymLadPqhmvabPDt5q9ycO9yZ/RpdwS6FDvZPRm/PgFPQ69Fv0g/ShsLHEvpDRCOTU8YD8MQrJCh0BYPYw8pjw2OtE19TGwLpkpDSMrHx4dGhhvEQ0NrQrFB1YDAAD7/rP9hftW+vP5cPkw+of8tv4B/+79/f1kAEAEAwdRB3gGgQcaC9sNPQ6ODHAL3w2WD50P0RFgFMAVDxaZFF8SlhGwFUQdVB7IF/oSFBPLFpwZaRj9FKoPSQsgChUHywCs+1f3lPA35hfdkNhC07zL38PWuuqwQqqAqhmq0qIQnG+bM51inXae3qLGp2CrFq/qtES9F8cY0RzafuLl6r7y0vtYCLIUvBzLIm8qIjG6NW88CUTnRxRIfEjcSiZMQ0x0TERKmEVDQFw89jolOH8yGSwlJeof4B36GywXmRDHDGMLSglfCO0HyAQIAnwD2wXmBIcEiwZcBmcFYQa6B3AIqQizCRELuwsyDNQKRwcwBkwLbRAmDYoGigVRCfAN4Q+HC68EOAPaCUMRcQ/aB7oCNgVRDAkLagOmADkCiwKx/or5zvQi8Dbvk+2l463Z8tan1c/Q5Mmvw5i8sLcQuRi4abAqrDeweLJGrVaq6rCXuWS8q737wd/HUs5/1m7gxObn6QbxyvxSCOEOThK9GBkiQin/LCoxzTZKPMw/L0H6QhREvUM3RGNENUFyPPA6Yzo5NuYxgS7wKeAnHibUHwAZpxaYFwYWWBI9D10LrgkeC9sKnwkbCpgJzQe6BgsGgAeaCXAJGwnqBr4DQAXiCBEJcwXBArIChAHhAEkDoQOVADz9//ko+W/7zv4g/wj8fflI95j4av2d/cz5EPrB/Fn78/cj+Cv65/kN+tT3jPFp7zTw2e8J8CPt1ONX3MXefePr3kbYN9YM0EzMGtFZ01/PlcqdyfzK8cv2zInNkc+c0+zVDtc52Cjbk+KQ6uDtl++s83v4Ov+/Bn8K7Q4kFXoYqxtZH9QjDil2LDku1S3qLoMwki+mMQk1gzO3MEAuNSlWKOwsQi9wK6Yg4Bn/HV4jdSK3HLQWzBHREDQVgBOLDEMObxCyC+kGZARJBK4GmwoRCBX/1/ps/AEAAwIUApf+1/bl9KH4HfvJ+1b65fjW9H/wXPPd+On5sfai9dz00PHm8/D4APuw+qX2s/Ey83j5t/qQ96v3cvVH87b1/PPX8nb0KPJl8bXx4usk6ErtdfAg7GXnVeUj42bir+X45tLjR+FT3iLdxd8O4WbjYePu3dvc2+D85DPorOgI57fnfOwz84b1JfUH+4X/6P4aAw8JSgqSDO0UwhiFFSEXMxvoHSgkfybFHy8f2SghKpUj7ieXKrQjtCRqKv4oWx/dHcUn/iXcHasbKhlBGWcbExmMEkYPeQ/oDDsKggoCCgsFSwHcAK/9xfwq/4X9u/oW87fxYvzM+Qj1qvbI75jv1/Ze9nDyZ/JB9lv0CvBy8gP04/aD+ZDxHfAu+IH27fPZ9rr27PXf9Dz2q/dH8TLvzPff+pLyt+688JnuMe7Z8njxfexr74nrtt8b5/72K/PY5cHfYOXG60nspPKI72Hkc+fX7sz3+Pdv7Ofwbv0uANb73vba/bsJ4QnZBZUGIwolC3YNYhgyGHcKXwkSFxEfFBryEyEUwxf8F1gW6hhbHKEYdhSzE5USsBYWFsoTexr5FLkHegruEjgXgxOuCpoJSw3qEMsJogFCDCoPIAS4BYUJ7ABS/B0EKAjRAVj9Pf3T+ZH7YQK6+/X2mwEi/qzrJPG4BbMAgPAx9nr5E+wl8jsC+/xr70zuAvnr+QjypfGh73j0qf81+GXpkOhd9cL87ffe8xrttuic9IgBEfwU5/PgFPuPCh736+Vr6uz3JAT8/4Dw2vH69UH20AnGCr3ogOmVEZsWEfrk8sH7PQSKFvcVi/yq+RkJQQ9IFH0VzQW8/DgMFR5vGYEFCgXVEVQTpRNgEJAI5w07EjMNqhB4EcoGBANbEcYWzwVvA9cJwQjRDTQJ0PzmBK0NwAU6BHgCIf7VA+kHxwfeApz4RPe3A2kOWAQC83P41AMCAYr+5PoB94L49vzRArT7+fAz9Cb86Pvi+VX+4vUN6xX36AJp/GjwuvAY/Pb9GfjE9bz09PZR+c75zv1E/Q/zM/Di/c8EMvpD9oP5KfcS+xACHf4L91j5xABe/B31JADWBnz9NvoC+Uf7lgMcBDYFRwBU9zj95gKGCc0Kw/0I/hAG4wj9Bsv/twgnELQAPgRbESQEfP78DNoSjgmWBMsFdgEnCd4Skwj1B/MNa/xN+FAUEhx0/jbuwAcpF0kGSfsh/YgGHQnc//UA9QQO+hr0QQvQF3Dzat5tAacX2gW87/HmX/mDEGQDl+nN8L4A8fRs9KgGa/fd33n0OwwE+7/i0+sYCcIEuuaq6aX77f0N/jX/j/bi5H7vjw/aDKr4MvLy8AX6sAeOCUD9avW4AVIEVPkN/icExwUyBwH+ovnz/sACtQR7BgcHzPsH9/UHvAnr/YwBPwN4ApgHh/9d+kUGHAtBAw0BRAuQArbwAQkkIeEEDutC/9MS3gqeBVYDz/z4ARcKKgdiA9UDEQO4A5IFYwRRAez8cQKQDFICyPiCAScDuP7ZARIF7P249jQDzggU+9n9GgJf+LX8xQlaAk/ygv8mCvH2RfT7A9cImf1z8sr+oQdY+A3yW/9KDM0BG+p49qsNSf0o7oP77ghvAFXyBQCSA+XrD/mfErsCCfM8+Oz+5gRCAbD4jfyiBp0DIfjE/o0GTPqX+oYMBwpc9G33hgu0ACb0AA41FFnuLeyvEl8QTfKB9yUORwoE9YH2Sw3WDoX4YPNyCQEU0/ug6NAG5iDR/CfmkgepEmD66/iIDtgLK++u8y4Rhwxm+2v83v9N/aH9FwcrB1X+2v0u+bD79gopA9T32AWNBfjzZ/s5Bjv+3f5gClsG7OtT8hcXcQYm6hwC4g7D+T3xQ/riCnMMBPYS8w8CL/539EIAhBIGCG7no+dxCtAOFPz3+Kb/vAZh/MDvkf1bCtIDawAtAwj8ae5D9TUUXhvO+rnlw/RLCuMMPQR0/kb6xfq7/lUDwAm//4zxZQKYE7EAL+xu9yAOLAxF/nj/xfxO9xcFmA7s/Nj27wdrCOsAP/z5+cgCywXbBt0Ex/ii/NYAZADRC8cBXvRO/hAHBQUH+Tj8Lwlv/t71awICBrX8LP/ZBmT9ZfQU/wAHNQcPBf76w/S4+BAGbw6b/xz4DQTh/F34aQjSBsL7m/hwANELj/2w67D6qBIxDyfyEuuqBDgDTvWlC5cTVvEy4jz9JhXhCNjx6vyCDtn7numK/dIWOAf28hcDmAb18PXx/gpwGkAHCuvZ8/gHCQIa+kkKWxbs+5XizPYpEowLcfuN/6YKQgBq69D2xhLIECf6VPP+Bn8KJe+083QWWBGR8ODuXQjiEAT7J/EAB2MQu/wS8pECBQvr+C74rg1bBIf1gAAUAMEArwf4/Zb5mQJFBoj7cvnyCY4CZvJoAcYJI/9Y+IoCEQsx+Qj68gT3+mv8UQbvB/UBUfo49Sf3qwbADnL/HvjG/N/3J/3wCLsFI/lv9qb+DgJIBGH9t/VXAoUJqvu29sQBjQJ2/W8EQQhg9/TujQaqFAMDCvUj+uwEpgTn+1cEXQyc+/LymQE8CW/+xfjEBjcMIvva88r7xAhJD8X/WvWN/XgC3gFdA9IC6fvE/EgGyQInALYAmfWw/j8Q+wWL+dX7+P06/yIFzQgpAub2y/5GCnD8WflXBz0BPverAHUOOgSI6of1LRJ+C3P1R/d6Bz388fGrCKcQ5Psw6z73tBQ1DgnoauwIES0TTPqt8YcAaQCn9N4IQheM+nPmcPe/EbQP/PST8TYCXAmzADr60QTU+inwEA3VEM7v1u/LBwILFgG2+qb3Afd7Ao8XlAVx37r2Uha5BOv48/0/A7QCUforAHIJK/+m89T+NRPsCyjuxeq7CpEWi/f47HkOCxOR7mbuYA45DXz0V/UyEfgNk+mj8YIZsxGb59TvKh8QC77bG/zWJEYEqeGzAo4YxfOV8CoO8Q/h/c7tkv+4FvD8cueIBocalv+t7R0CUQyH+Sb7tAmqBSkAwPoK/WoJkgK08wH8cxL+C8HnSuupEB8Tp/nT7joBOQe59cT+cA7NAqjtofFlD7EK5u6U93IKbAXq+ir6X/sd+0AE1Qy+ATr0IPfJ/i8BQweACBX6GPLL/rINg/1A7/4IcgtV813/RQ88+vjpdP1AFm4Mj/PK9Lj/HAY1AvL8ZQuVA2rwdPw4CPIEwvbn+HoNkwab+OfycfafDwARjfeP8Zf/MwRD+Rf/1wiU/Tv63fxN/br/XfyOABgJXgod/H7sLvhgCRgQvwa89mH8dgGQ/WcBYwQUBmkDCv3zAEkDUv4AArUL6Ah1+Xf4HgnqC+38DP9tDRMFK/lh/TMIdgyY/jb8EwplBlz33fMWC3MZR/oZ5wv9+hJ9C4/sR/V8GMsCZuR1+TYUpQWY5+n4zBWE/8TiGfmfGW4E++rJ/FAF3fZo9dcAgAVI/x/8cvkG8sL6nwap/jr7zQMj/F3v8vpJBcD9EfwmA73/mfXd+7D5OPJoDuESN+6J7gEFogIt93X+1hAeA/vt7P26A7n48gEGCqwFVABM+DL07gIAEV4C8/V+BScI4Pe9ABQOEP+B9eALOBnY+kXotwU9G/0I9PNAAYAU4/738V0SxxQS9Ir2iBNUE2X3SvbPCT0J0wYEBZj46wImDS/82AGcDNz77vqDClkJrfrz96oHbQh1/Sr+C/7CAh4CBftZBKj/B/RJAjUH4vrH+Z/+tPsh+04IJQNg6+Hx7gqICtf21fXBART7HO/g/wIUjfzW6y4Ax/7A9x0EBAK5ALD9ZPI//eQDiAHYAHT30PzcAkX5NfiHASwDXfjX+rwLJ/8v6Dr6wg8jBXP4+/kHAOEB9/rH+eMDlwMXAQQCh/xw/JT7ZPYJB4kY6ADK6mz5LwmUBDn4kgEJEiQAEfDB+64BYQQrCa8I0gPQ9RfwcQALFucSWPT88BoLbQtZ/Wz+agNqAqYGoQql/sn0D//YDRcJhP1tAGj/j/zbBs4I9f939ir9chKGCLrw5fTxCKUOofqe+LgLpP/m8nkEHAqm+y/0dQXqD4X3BPK7A9QEFQRD/1vzRP6aDZT+cfNKAckFsfjx+rEM1QLI7sv5bgvJBpD5vfYS/AEEPgmg/iLx1/wkCDH/m/93ATb1tvoACcP/lvlhArcAKfix/ygLk/xv7u0D+gzB9277iQTd+l//YQIg/J3/VfwJ/SoIXQT8+a73eACLBED9nwIGBAr61wGVACL2EQQDC7r+mfcyAmUK7PPM8+kcRhOY32bqSRzRE1jt5fiZENH9uvGiC60NnvSx+hsKgAR5AXb+0fXw/kIM5AQR+vEAHgU694j2hwzQDwb1evBlCiAK5/BC+lAVhARa5z/4chpbDCPg/+/kIqgL0eSK/wYP6vei9LENPRFT8kjvoAazB/kDRAGD+pf8FwIcBCUBegAlACT67/3KCoMHsPoP+h0ARAAHARoHxf8c9h3/PweB/zP99AVo/Yb0dwLECFkAt/2j/Bz9cQLN/g/8VANPBPf6afRXAgIPXfsi7vQArgql/333t/vrBbD/JvSr/nAHK/pL9DMJJgzg7+HvMwWOBnYDYgB/+rv7Nf1HACwFxQCk+0kAEga0AeD2APekA0cKAARm+VD52ANwACL3EAZ3D4L4a+7BBvwQgvhr8n0KuQr8+r/8mP+S/9gDPAQWAwcFwP+F9Jb/qRaoCDHuIPxvDjUEi/z2/2ADDgQBANQBPwWU/AP6BgdICFT7HfzSAWoACgVOA1r4FvraBrIIgPt8+CoDZwLc+Qf8kwSNBOL5yP1WBQ71vPTKDSIMuPBM8tsKQwad8yn7rwha/Bv2rAfmBlX1YPVUAlkJTQWt+GvxnQAtDt3+DfYEAnUCwfzY/oEA6ACe/kr++wHOArz8G/WXA6AOL/vb80IGagp49c72+wyKBOzyAQH0DaD7vvFABSsNtvxw+KYAtAMxBO3/OfuL/LYEQAWM/1QDIQBj+Nr/dwmIBgb+Efva/b4B/QcyBbP57fsFBPQBz//5BFkEpfuM+twFJAjB+Nf5agjpBND5ev1DCR4AJPKIAtsNHf5T9t3+iAbeAET9iQFV/kj/OQEb/xgBEwB1/kf/fAJnAL/zHvw7EA4G5PNI+D0EiwAp/T0GfQJL9bn47Ai9BwX3FvblApQI9wKI+lf3ifxrB8kHYfzE+un+tP0UANcGcARk+TT5ugXxBQL4Rv9PDnL/svNKAe0FcfwM/qoJOQYI9ib4Twa8Br78UPucB54GgvgZ+b4CDgRf/xcDLAZk+zj28QGMBHH+zQaJBsP3/veyAv4Dlv4l/6YEMAOm/Bz61f32BXkFzPxS+5sA5P43/DMF/gbx/Cj5IADHBlv+8vcHA7YGIQCFAiUDv/Zj9coKuRFa+nzvggPQCTr6Ev98CRn+9/b//fkFgQRf+bT6yggqBqDzYvYTC6oJv/f391IGhAFq+MAFkAUW9L37ow0BBj3zE/eHBcsDrgL+BSP8z/GC+hcPpAzX8yrzZwa4B0P+Of1B/mL+EwAVBEQEjPuo91r9UAhrDIr8DO9V+i0Kygd7/qv9BP26/W8F7wN++2D4l/vxB30PUwHc7tP1NAtQB/H5kwR8CMn2ePYXC/QF3vO6AQEQLv668U4B+QcL/hkAzgbB/rH4OAL+BGz7kvugAssH2gZl9nTyvwPcChUEtvxN/WEANvwJ/hIHYwJ3+Gf9ZAlJA9fyk/eYCfcJL/sS+yMD1/sG+GwGRAw4+l/ujQXaFAj4xOhpBREUzvry8V4IXAfs83L7bw2ABpb1BPkJCssHrvSM+CsOQAo186P07QpWC8v4MPm3BGQAXf28Bn4Ho/le8gEAcwxoBwj7AvjEAu0C7fosArwFP/yX+8AGXwT/8qr6CgwNBOP6yvtPAfQFb/0W+C4DIwhK/Gf7PAi+AJHx+P1dDyQF0POc+BwKOQa29oD6gQUbBuP6PPxSCVsB3vGA+9UMUAiZ+gf1KgH3B+n6sPyeBeH/QvlS/n4JZQC+8Vj/IgsUBUT9MPbW+ckArgZOCqb6bfSO/08BEwZpBH/39PxeC10Gnfd++QMCv/27BM8RQf5f7C3+EAm/AZgFhwUj+JP1cgerDEfzxfRXD2kKD/sA+qP4oPyVCd0HEP3f/w3+RvVq/1MLtQIC/LQB7QD5/hr/O/hQAJIQvgKW8+v/9ATC+677WggeCef32PTDBK0KZPmB9icLEQmm9nT27QQiBmD6WwDTCXz+/vPK/egHJwCq/ZUDJAF1AIr9K/j4ARoK7P53+AcDkgSr+M/+6Qkv/OX2igSsCKT9IfOr/joLoQQp+xn6uwHaApD5L/19CQ4Fo/e99/0EigQk+xH/+wK8/rj82QAx/3f8fwJuA/j7fPqgAi0ERfv++tUCigSfAcD5lfm6BLUFzf5A/GABFwBI+08HXgd/96D4oAJMCMcDQPy8/LP9FAHrBVEEbP34+ub/gwV8B4j+VvZ4/uYKJAvv/LPzqPsFBwEL5wLN95H7DQVoBB8BPQHp+k72rwhJFFX6P+by+DMVxRAX9QbxUv7EBKUCBf59AY//O/uaBQoIYPV08AYGihEMAw/2kv0g/hv4yAYcDSX+g/aK/dIDEf3X+7UIrQVe94H7AQEZ/Lb/MgXh/wf7nQAcArn5T/0oBqwAQvs/AOYCvP7y+6//dQVhAb/4xfwRCjIGlPRE+h0K1AJ8+SgEhwWe+N37PgbZBnz+Q/hp/5kI3AMw+ZX87QWpAhf8YP80BDkAsvv9BFkHNPnz+sIFTQbH/0X5Tv9LB6UCTPvT/WkFSAKv+aT9GAQNAFj9pgSZA1L2efs3CdkD2vr3+xgAHATQAsb7XfzIAO4ALAHJAcX+7fiD/AUIZQXD+N/63wKLAq4ADP7C/UoA/v42/wkE1QMq/FX2WvzhCHEIL/st9kYASgXu++r9Iwk6/6nzpP+1Ch8BD/aW/IEGbAXx/UT4Uv3jBOIC/gFOAKj56/zxBJYGq/6s9nP/awmyBML7fvpJAcwCpAD5BQID3fZj+3IKOAgq+HT3igUdCvEAL/eq+ywGxwNT/2UBUP9C/Ln9JQSMB6/9NPkQA8YDifxH/ToAWQNnBMH/E/kB+FkDkwmPAjX8k/oq/RMBUgSkBF793fg5AQwG6P5P+3r/KwESAW0Cef+++sv7YQW0CMf9qfr7/wAAvwDyAdwA/P87AMADSwCf+iD/WgFsABoCBAKG/Q38+gAMAKP9cgGeAFv/ewG++8765QKvBcAA6/iF/LIDGgPFAY/8lvlq/zwEEQWYAMb4j/kEAeMGkQXp/IP6qP7BAUcFzgGp+Gf77gU0CfgAfvWV+QQFrAXuAh7/KPtb/tIDIgRc/Fr5cwPGCPoCCPyL+Lz5IQNODZsEc/Mg+KQFLAYUAhP8hfoM/0EErQhgAMv2a/v3AlMFSAPu/5r9uvuf/lgEowJJAJYA3/6T/qT+3QCtAkQC1v+4+lz/CgWbAA//W/95/a3+ugJGBcEASflt/DIEIgMj/4P+ZQF+AG/9zQCoApkAbP1m/Y8DCgOX/FEAfQFS+tj/ewdwAib5FflwAzAE7v81AAr7Wvz/A8gCMQHH/BL4LQDaCIIEj/cD+HYF3wYZ/3L8jP6u/w8AtgEJA5QAovr8/A8GcQTT/Er8g/+lAjoCW/8sAMj/Xv8DATP/6P8kAUz+vgFbBJf7EftHA10Bev8FAfMA3/45+gwA9QWRAfL/ev2A+3f+XAI0B+oDl/o8+Uj/fQZ/Bfr8+vsLAFUBDAOtAzEAZfoD/fcGIgXR+lP67AHcBGABpv3u/Xr/kP8xAGsA3v9u/rj+qQAAANX+av48/9ABMQEr/Rb9ZwDSA1sBY/lG/RwGpAEu/IYAiADK+swA4gltALT0yP5TCJT/nfuKAxAEqvl4+twHgAZV+ZH5ygXrBzT8EPgmAbEFqgCc//gCnP2/+DIDkQrH/2z43/+QBN4B+QDT/lr7jP/1Bt4Fgfx5+Cr+uAO3BccB4/pm+xYAhgLKAhkAxvuj/OYDSgS1/Ef7Pf/PAI8CWgT7/eP3Xv6VBckC7vwk/pwBwv0C/34Ek/5c+18AIwJkAbz/DP73/dEBsQLS/Eb+AwMk/mD9qARDAqb67v1/BEcBbf1Y//7/aQBwAvgBR/1g/PkBCAQiAkkAqP2T/i4DuAKQ/rX+jAEeAtv+3vxSAPsC1gEW/iX8jwB+AoEA8v/X/K/85gL/BP4Amvsj+5oB8QQXAgX+zvy+/xkDFgSI/y76WP7NBcwE9v1F+vb9/gRTBKj8SPs8ATIFMACG+R39GAOfAZj/ggLd/Tn2YACBC3gCrPXW+PIEoAZv/8T8VPx0/s8DiwPp/7j6HvuzBY8Hif5i+VL90AVPBbH+IP3c/I8AUAb+Ah79c/zq/fcBrgamAj/4Pfl9BmAI9vw1+gQAvgCnAGQD8v7F+TT+hgT5BA7/Nvq++98Brwa2AWD6iP3aA1AD8f5S/T3+2f/mBKwFJP6K+Zb9jgV5Bi7/AfpS/qQFhAJ0/Rj/ff75/YYDYAWV+3z2rQAqBhQBUf/n/ZL7PgDbBNYAtfr//fgDBwEd/+r/mP1r/94CkgBe/mT/u/+s/zIByQEZ/hX9mwE5Ajj/3/2V/v0BjgO//s/7JQCUA/kB8f26/LMAGwO9AQT/Ev5yAJMATwD9ACj///5LACoBRwHa/pr9yP79AckDvf54/Gf/6f9PApMD6v3C+rcAtwQY/1D8ZAHpAUD+ZADqATf+V/1+ACMDIALM/rn8pf3PAQgDwf77/SABKwAc/n3/jABw/0v+fgDJAzUAZ/vc/g8DsAFU/8b/SwFx/0n+jAFDA58Bkf9zAJYBtv/S/3cB6QGyAEv/SgAlALL+9/8iArUAvf7N/0QAYP/R/ikAGgHn/uL+PAFrAPH9i/4PAS0BtP/8/gn/cgAYARn/sP53AGwACf8//xQBSgCI/R//yQEGAPb9rv7uAJYB6/7+/SAAUwD1/s/+hgDeAR0Aff/cADMAS/++//YAPwGpADsAaP/z/zkBjAFuAPL+KP8RAMoAnABKAAQAtv8XABD/PP90ARcABf7V/wEBjP8H/0wAHAGbAFsAiQDn/1X/AQEUAlYARAD2ABoAyv9rAKgBPQH2/tr+EwGiAXcAeQDiASAC5f++/wYCuwGWAH0BLgLJACgAIQE6AaoAsf97/ywA9v+r/1v/0P5H/tX9Uf7n/Vr8iPxV/Sn94/xM/Dv7kvoc/Bz+hvxH+9z9Cv/L/I78gv8JAMb+Pv+U/4z/nwDWAWABMABEANwAZQH8ARUCmwHlAAUBXgF2AIEAUAGjAPX/+P7M/WL+NP++/lP+u/5S/gT+5/9iAHX+tf5GAIYAvwBlAeYB/QFSAhQC1//Z/tQB6AQDBKABGAF8ApQE+AVWB6EJWQvjCmsJ5QjLCngOZRA5D9QLpAk7CuYK5AplCEEECQILAPX8lfrs+MP1MvLv8Cbvv+kJ5abkvOSy40fjQOJj4IrgDOSu557pCOwz7/PyU/ci+pf7bf/dBqsNSA/CDU4NfQ+VFJUYVRhrFugULxVfFuMUIhHEDrUPARA/C04FkwIwAmwCmwGU/vf5L/ds+GH6tPkt9zL2B/gi+lv6Eflp+Xf8gv8tAUIBo/99/Yn90QBoBFkFsgMPATMAGAO+BnwH+gYiCq8QSBPHD4UL1QytFZUdkRyPFk8TjRSSFg4Y1BcyEiYMTAxHDGoFnfxQ+P71p/Fa7GnkgNrf1Y3WWNUe0GfKN8ZexMjGJsvBzDbNAtGs13fedON75kDswPfDAhwHXQjYDLIUHB08JOsnUicDJsUnQStbLRMsBigKJJEgwhznGEgV0RB4C8wG6gF0/Jr4R/ZQ8g7uHO4D8JXv6+3c7X3vbvGl9An4Yvk0+gH8Dv5B/wIAOgIFBpUI9wcGBYEC6QJkBnQKRgsICBkElgKjA/QGXAz8ERcWRheKFUgTRxRFGz4kWykdKe0kKCDKHesfYCNuIWsaIxIWCZj/Y/gP9HLt2OLm2FjPm8RFva+7v7qYtXmwrK8tsNawQLMWuWXBqMjDzqfVh97Q5+/wh/zdB5IOZBLtF1sgSSiDLo0ygDIFMNEuwTC4MgIw1ik7JIQfyRm9E8sP3wzqB1UB3/oY9sv0rPRg8jbvPu4D8JTyy/Rk9jz3XflT/Y8AqgIXBRIIpAr9C04LFwlWCdsM/w64DRQKXAXsAUoCagWjBfYA/Ps0+o/8iwKsCbEP8hI4FAQVIxWhGBghKyo+MC0wois5JashDydLLVgquR9qEr8FOfzB+JH1X+nD2YTOt8SCu4+1MbGxqnGmzagKqZikfqRqq/K0Ab4fxpXLbdA82uvnfPVnAR0KQBCgF0UhjSkuL+A0sDmqOoQ5EjhZNegxWS/9LAgouB/VFmIQKA1xCkwF7f0A9/vy3/Hq8XXwIu6W7TnvhvKs9bn31vno/L8ASAQ4ByEKyQwpD1wQmQ60C0cLdQ27DlkNtAmbA8b9cPwK/2H/BvsY9pTzHvVh+9sEEg7QEvUTpxM/EvIVVSH+LWs0MTFJKrskryR7K7gu7CiSHQMS3AgxAUH7l/I35fzZfdAKxLq4pbIyr3SqeKe5p8aknaFSpemtJbYTvWPFIc4v1xviMe6C+0YIlRGpGOMg0incMM82cjxJPqw7ajnLOF436jNCLi8n2B80GfMS2QyFB3IBwfqN9QTxtetc59vmEOgb6ADp5Or0673tzvJb+e38WP5SAcoFLQpTDrIRphHnDagKAwuvDdEPnQ/oCzYFzP1m+cD5//o3+YT0u/DN8Wr3SgDZC0MVhRgiF7QVcxv6KPs3VEB/PdY1gTCjMTg3wThhM5op5B4ZFH8JvQDM99LsSuId1/7Hkrn/sbuvBK0ZqXWltKDinTihPqnqsCG3xL6Mx+TQwNp45SXyof4TCL0PQRjzIBkoUS4VNBM3GTcEN/Q2UjVnMYYrniQVHpoYJhP7DToJugNF/vH5B/YJ8kXvM+447drsXe5n8J/y8/Wm+d37lf0PAT0E5AXEBywJiwkYCuoKyAogCdAHQQg9Cf8IoQUh/4P5Z/hb+tr60fcY8z3wbvNp/aILQxlGH08dGxiMF9siFzW4QxlGhz3sNIYyMThjQLlApTZSJ6QaehJNCxED+/Yd6EzbedCuxWy657DUqsWmNKUKpEOgn5w8nbajBK0ytjq/ucfq0CzcD+kP9twAvgkgElkaXSJHKRQvDTQZOFI71Dy3O5A39TCEKgYm7CKRHyQaDRJGCBYAWfwu+2b5KPZT8ifvie1d7u3wnvLv8nfzdvW/+Gj7I/2a/tD/wwFCBF0FrAMKAWQAbAHwApIEUwVDA5j+IPqp9yz4//o8/Cr56fNd8EnxF/kBCNIY4yLzIXEaxBSaGewqvD5OSG9ClDRqKzgtDDcnPtc6ay6VHzQUQAycBZf9Q/Ku5eHanNHjxrC6iLGmrais66xUrUCs56muqYKvZrnvwg/LmtN23vzp0vSF/9gJeRNdHOQkByyDMDE0aTh9O/Y7LTvwOmQ54DN6K38jrh3nGIITOw0hBnv+lffA8qvvw+zQ6UboMegC6CnnY+bG5jHpAe7D84z3Bfkt+qH8RwBJA9AEnAWqBq0HagdjBm4FEgRjAsIADP8p/ef7cPsc+T/0S/DJ79Tx6vNL9rz7RwUwETEaxxovFGoPlRZHKe06FD9TNewp0yf+LtM35DlaMo4l0RsAGOkSrgcI+o7u8eal4rTdT9HlvqCyw7EWtTK29rStsaKtPa5StbK9JsRTy/LUpN9L6mT0t/2sBmcQuhp0JCcsLjD6MX00MzgEO6c7JjrfNb4vQyp0JlQiRRxrFfQONwlBA+n7d/RH79TsoOsM6r7n9eTm4nzjqeUN58/nxelE7cbwc/MD9RX2G/ji+y0AGwLuAPj+K/6S/df7Vfq++gj8jPx/+8D3t/L08AP0Rvfp9h31s/RS9iz6ev+JBXENLRioIuUm6iMGH5kf7yrJOyJGmkRlPNg1nDLdMY0x7iyKJaYhYSC4F/4E9vEC5HXaideL2L7QG707rViqpaoIqAyoGapZqWWqjbL4ukK9t78JyeTWj+Qv8O74df+BBqwPnBqEJAcqwSx9Mac3UDruOZw6Azt1OGo2njaYM+wq5iFAHMkXxhLgDU0I5gAv+XrzKPAb7dnoROUT5VbnTOjB56rn3uf46DftnPPE9yv5fvuE/8oCKQRmBGgEuwSBBSgG3AY5B7QFEAMRAVr/F/10+5H75vug+yf8fPxV+4H6A/ynAOwIQhSvHTUfnBmOE7UTYxuMJPgoeijgJuMl8iNnId4c/RTRDsYO0A8nCej8TfEE5kDca9gR1ybPk8REwn7EUsECuz24iLYEtJy3zcE7yLPHhsi/zzHZG+FW6dvydvvVAlcLhhTxGpEesiPxK5syEDXrNbM2PjZRNJkznjOTMBUqiyNbHwcbpxTBDo0K1wUb/wX5YvXm8Xnuw+1878jv4u0O7entle7d75bzdPjk+939cAChA0MGJQh7CXsKDwtVDMkOjhDQDxoNKgozB4ID8v9E/q/+8f8xAH7+gvvn9xv0H/Ls80v4PPzO/iUBJQSgCIUO2BJcE6gS2RNQF9YaqByhHAEbMBpvGhgaChcyEGAJogVtA7L+O/gT8xXtVObW4jrhuNod0TXNq82+y4HJS8uXzGbK8srjz/bSoNMD2I/gNug07uzzn/iP/J8BUwj0DvkTrRd2G0MgXiTRJTkmuybRJfAj7CPzJO8inh4gHE8bwhgOFNEPhwwTCUcGSwV/BLEBXf50/W3+df5+/WX9//1p/pb/QwI1BNwDIwPqA3YFqQYFCLoJwQrKCiMLdAu4CaEGjgS8A1ACIABq/sP8Vvra90b2DvWi8zXyG/GA8GXwyPDy8ST0bPbF99P4Dvr9+oT8bP/kAUYCwQILBr0KbQ5REasTVBRjEzES4hE+EckOLQw4DM0OnQ+DDWoKvwW2/9f6c/dA8tnsy+ti7A3qWOa44yHf0NjU1iXYEtcW1f/W+NpU3RXg+eP95SvnTesA8eH0PfiP/O0ANQbwDKAS1RX8F1wa0xx0H9shYiLsIfEijCQOJaIkASPmH/ocaBu0GakWGBOUEDkPeQ3ECmwHHARvATv/bv0J/Lf6U/mx+BH5IPlK+IP3jfcE+BP4Cfgq+BT4o/gl+rX77vyw/Q7+bv7//jf/Of+m/2AAIAG/AQ0CwwFEASUBZAFLAm4DdQNsAq0B8AHOAqcDOgScBF8FsgZZB2QGWARFAiYBcAAS/4z9ufyf/Ln8dPxw+6r5Yvee9JHxku6s61jp2Ogi6jbre+v+61TsyutC6w3rz+ob69PsAfCR8xf3tfrk/ZsA3QLBBEwGhAcpCUULYA1DD+QQBRKXEucSjxKVEXsQAg/lDH0KZgimBhsFHQSKA9IC6AHtAM7/vf6S/Tr8q/vB+9H7hvz6/VX/ZgCsAVED9wRgBnwHEAg6CGAIhgjNCGwJFgqWCggLZgtiC54K/AjpBu4EBQMNAVT/LP6v/bn95f2q/dv8zvvX+iH6r/l1+YP53vl7+m/7nvxn/bj9Pv7Y/hT/EP8N/yH/EP/m/uj+2v5r/r79Rf3S/K77E/rJ+LX3T/bM9Jrzj/Ko8SXx6/C68IzwiPDE8CPxaPGT8Sjyh/NW9Vj3gvmJ+3H9dv9xAQ4DUgTIBZUHGgkTCt8KhgvSCwwMhwwODUANDQ2sDDEMigunCm4J5wdqBkkFbgTHA1oD4wJYAgIC/wEBAt4B8QE6AnICnwLHAuUCBwNWA6sDrwOPA6kD+AMVBNsDlQNJA7oC3gEDATwAPf9L/qz9/fwg/FX7r/r++Tn5kfgQ+L/33fdq+O74Ovmk+Tf6xPpx+1j8Nv0L/kj//QDYAsEEpwZHCJ0Jygp+C1gLzQpOCooJcghtB4UGcAVPBE8D9AEHAA7+EfyT+ZL2uPNK8dPukOxc6+Pqguq36szrBu0K7mfvMvHg8nf0Zfac+OD6Yv1iALUDBwcSCsQMRw9wEfAS5BORFPkU7hSbFCQUMROUEbkP+g0hDBgKCgjQBUUDuwCM/oT8cfp5+LT2SfUr9DfzrfKP8tLyrvMW9aT2Gfim+WD7IP3Q/mAA9wGsAz8FowbvBwAJrgkZCmQKaAoUCqoJFAnsB2QGwATXAskA2/71/A37avkn+A/3Rfb09cL1kPW09SD2gfby9q33ifhq+an6RPzH/Sr/pwArAoIDmwR3BfQF/AXlBd4FkAXgBBYETQNvAo0BpwCZ/3j+f/2Z/Lf76Pok+mr51/hy+Cj4C/hV+OH4U/nL+Z/6ufvf/BL+RP9NAGMBugL2A8oEcAUrBuMGbwfRByMIawiyCOII0Qh/CAcIeQfjBjsGagVuBGADYgKDAbgACQCD/wn/nP5Q/iD+Bv4E/gT+Cv4f/jf+Vv51/n3+i/7K/iX/X/94/7P/HgB8ALMA2QDtANwAwQC9AKUAZgA+ACcA7v+t/47/df9S/zX/J/8e/wn/3v6r/ov+ev5z/n/+nv7K/v3+MP9b/2z/Z/9u/43/nv9+/0z/Kf/y/qP+Zv4+/iP+Gv4S/vD9ov0//fL8r/xs/Ez8WPx0/I/8rfzM/Nj86fwv/Zz9Df6R/j3/8/+NABUBnwEoAp4C8QIzA30DwAPmA+oD3wPUA8oDqQNhAwMDqgJHAtABXAHsAG4A8v9+/w7/q/5k/jr+Kf4j/ib+Sf6a/v3+U/+m//z/WgDXAFsBuwEPAnECywIdA3IDuwPqAwAEBwQOBBcEEAT7A9YDlQNFA/QChwL+AYQBHQGnABgAhv8A/4f+Ev6d/Sv9vfxf/Bv83PuM+0H7E/v3+uD6xvqn+pD6jfqr+uL6Cvsk+037dPuR+7778vsQ/Cf8Vvyh/Pb8Pf11/cT9OP61/hr/Y/+i/+7/SwCtAB0BnAEPAncC+wKVAwcESQSKBNYEGAVIBWcFZAU/BRcF+wTdBMMEqARzBCME1gOcA2kDHgOtAjoC6gGmAT8BvABBAOL/nP90/1T/Hf/K/n3+Uf5D/jj+H/4A/u/98/0H/iX+Rf5c/mn+fv6m/tb+AP8b/yb/Lf8+/07/O/8I/9j+vf6y/q7+ov5+/kX+Df70/f79C/4C/uv92f3T/df93v3q/QD+H/45/mj+xf42/5n/5f8iAEYAUABZAGoAdgCEAKwA4QAJASYBQwFYAWMBaQFqAWEBSgEtAQ4B5ACsAGEA9f9s/+j+gP4m/tj9p/2Q/YT9iv2u/eH9EP5P/r7+TP/O/zMAiADhAFEBvwEDAiECOAJbAoACggJRAioCJAIlAh4CAwLoAeMB9wECAu8BzwG6Ac8BAwJCAoACuALdAvwCKwNaA3EDdQNdAyAD1AJ9Ag4CYAFvAFz/WP6F/cD88fsZ+1j6wvlH+cv4WPgG+NX31vcI+E74nPgl+fH5zvqN+zr8E/0e/j3/TQBUAUoCJwPwA6gEVAXnBUgGZgZbBjIGxwUCBQsEAQPLAWkAFP/y/eX81PvE+tT5Ifmz+Ff47veq97v3KPjK+KD5sfoC/I/9Wf9dAXoDiwWZB74JwwtxDbIOjQ8WEFgQIBA7D+MNOAxICh0IvgUlA0MASP16+gH4rfVI8/Xw/+5x7SrsC+sc6pXpoulZ6ovrLe1j71TywfVP+QT93ACwBCgISQtIDuAQxBIEFNwUTRU+FZwUfhMPEl4Qcw5fDCIKpQfoBCoCr/9k/RL7tfir9iv1D/Qk84LyVvKg8mPzkPQW9u/3FfqZ/Ir/swLZBcMITAtgDfwOFhBsELMP+Q2lC/EI9AW7AmP/KPxl+Tb3P/Vm89rx4/BS8MzvPe+w7obuxO4378HvgvCH8QfzUvUI+Lv6S/0NABAD3gUUCHkJJwpHCtoJywghBwMFuwK+AJb/hP+kAA0D/wZvDOESCxotIaYn1iwoMHQxiDCLLXModiFAGYwQBQgEAL34QPLF7GLo2+SI4RXetdo511PTEc/kykjHkMQawz3DFsXoyArPgte34dzsh/hhBBEQuBq4I8IqfC8MMqcyjjHoLv0qcSbwIa0ddhmFFSASDA/JC1MIyAS/AAb8wPZr8Wzsq+c646ffvN283YzfF+M+6KzuBfYk/nIGJg6hFH8ZihymHSId/xpNF4USTQ1ACIADRf+3+wL5K/cQ9on1PPXB9OTz9PIN8uHwPO9j7dzrKOs/68Xrz+y77qHxGfXU+KL8JwALA2AFDgebB8cGugQlAjL/QfzW+TH45fc5+Yb8ywHUCIcRCxuVJMQt+DWRPMRAY0ItQb08EjboLY8kCBo2D0wFIPzR81bseOUB3/7YVNNnzeXGDsCDubOzRK88rPKq06tcr0S28L90yz/YpOY39mUFnBMQIegstDWVO60/UEKuQvBAQD4qO6k3sjP1L5cssSjvI/Me/hlCFF8NBAaJ/rP23O7Z59Thgtwo2KTVW9WV1vLYl9x94WPnd+0v83H4P/2TAewELwdwCOgISAmaCXsJ5AhWCDsILAiVB1sGzgQtA5MBlP/m/Bf6tve+9bvz5PGp8ALwHPDN8NXxlPOV9uj6sv8jBUIM5hQ4HnInrzA/OU5AuUXaSOlIU0U1P1w3ky3FIaUU0Ae5+4LwCeZR3JrTZMyGxovAYLrTtG2wUayuqOem/6b9qF6tC7X9vv/JqNaD5an1AQXmEp4fBitSNEE7CEBuQpVCb0HvP6E9yzkJNa0w1ixcKI0iMhzhFTgP4Qf8//v3/u+c6KPiLt4B223ZAdp33ALgSORt6UbvFvX9+fz9twEGBUMHVwj5CIYJuwmuCa4JzQl9CcoICQiSBosDgv/Q+3T4w/TP8KPtxesa68TrsO1b8D3zx/bQ+jX+wQAyA8AFIQgCC4QPCxb6HWwmCC+RN4w/JEa9SdhIjEMKPH4znigoGyUMXP6W85bqiuFy18TO4MiTxPe/4LkGtPWvpa3Dq2+qUKryq3awpbhVw//N/dkG6aD5xQghFbQfOilVMcU2PDlXOQc4BTZGNNQyIDBCLCkpwCfdJfogzxlmEiILugIF+X3vPufH4Hrcqtr92j3drOH454ruNfQX+aD9qgERBCgFAgYVB6AIlgohDbwP4xGlE8kUBRXEE6UQLAwuB/4Bgfwp98Pyhu917bPsCu0G7r7vkfLb9av4EPtH/TT/0ACDAm4EbAYFCSsNjRMUHIIlQC5uNc47aUHAREpEaz4rNQMrxCCDFSwImPtw8R3qK+Q83cDVyc/4y3XHkcDMuDGy8qyNqTmozac0qYiurriWxUXSFt6v6tH4Sga0ELEXFR2OISslXyiJKvAr5SyALiUxmTLHMYYvby0RK7clFx2dExILxwOk/EP1xO5h6vXooun96nrsf+6y8QL1qvbo9nj3DPmm+pj7tvzZ/tsBYAVFCegMlA/NEOAQLRDjDZcJQgST/7f7B/jX9BLzBvMj9Oj1OPfC9zP4FPk3+q36jvrP+Qj58PnZ/JAAuQMCB4sL2BEaGgIj4ComMMEzCzdYOdw5WzZ9Lygo2SElHLcUhAwOBVz/mfvv9mLvD+bs3VHWYs10wxq66LKbrvGtVK+WsdG16LwJxj3P89aN3Qrlpe299cL7vgA5BmQMfBODGgUgtSPXJoYqVS0SLc0pcCWSIb4dcBi0EX8LJgcxBEcBqf2t+mn5evmX+db4Ifhp+LT5JvsB/Jn81v27/34BBQOTBG0GQgjBCeMKUAvTCqsJlQixBzoG6wPKAZ8Avv+k/pj9lvyW+9v6P/pc+Rj49vbg9vf3jPmz+iz7Ovx0/vUAeAJgAhQC4QKTBSsKWw/JFAMaQx+GJDAopCmpJ/0iJx6pGSAVpA8KCtYFowOoAjsA2frO8+jsZOXm3D7UVMyZxrTD1MPxxS3JRc3/0WjXWdyI34rhtOQ/6Vnt6fAp9dX6lgHgCGIP7BMNFyIaWh2pHi4dFhpUF+UVTRRUEYEN0wq/CbIIvQbbA04Bqv+G/lr9A/yK+2z8lv5nAY4DpATcBfQHoQkVCvcJLAoCCxIMGA28DRAOlA4YDx8P+w3BC7gJuAhdCHwHzwUUBAsD1QIzAjIAoP1e+wv6+flT+nD6jvqu+/P9jP9A/8P9svxg/b7/3AKEBigLgxBXFggcKyBTIu8hrB+SHMIYHBXREFMM3wh8Bm4EcQA1+pPylOq84kza5dDMxxDBUr0nvBe8wrxIvrjAZcQEyA7Lv8370OHV79ud4vTpC/I0+tAB3giQDnIShxWUGDgbMR3vHgEhGSNhJIYkciPsITQgeB1aGpwXUBWNEzQSSxHjENUQCxFjER4R7Q+gDigOeA5uDhUOYg5aD6AQwhFzEn4SzhGbEEgP2g3dC8kJaQi4B0cHhwYiBYkDQAK6AD/+lPuu+Rb45PaB9nT2jvYJ9/r3s/gA+Q757vjx+PP4+viU+T77/f2sAU0GGwt9D3kTKRbLFsEV4xOSEQAP+gwxC3EJKwh/BpYDl/8F+5L1se6J5xjh9drq1Y7SHNBGzjLNFs3tzFHMWsw7zbHOmdAf0+7WMNzX4SrntOxt8pL3SPzBAJ0E7gcxC58O1xG6FHQX7BkVHJAdxx0hHXUc0BsTG3IaBBq7GXwZVhlNGdIYsBeQFuMVNhXkE6ISURI/EucRCBJcEvURchEgEVEQ9Q4NDQ0L3gnvCKkHNgaeBA4DSwGq/yX+YfxW++D60vm2+Av41PZi9eP00/TW9Gj1Iva39kD3vPcy+FD4ePg8+Wr6w/u8/L/9tP9+AXICfQNNBC4E+QM0BOQDAQMvAlEBfQCI/2v+I/1A+3H5GPiN9t/0a/MY8uPwOfAy8Mjv3e6B7kPuQu2a7Bvtnu3p7QjvxvA/8oDzB/WM9q/3zvgV+l/7qvwb/sf/aQG8ArsDsAS/BaIGRAerB/AHZwgCCVMJYAmMCcYJ4QkSCkUKGAqrCYYJuQmmCToJUgnbCekJzQksCncKSQodCh0K4wk5CXII/gekBwQHcwZGBhEGYAVrBMADKwMuAjgBcwCC/6v+Df57/QH9oPyJ/Mb8Df00/UH9ZP2g/fH9bv7I/s7+5f5L/7D/6f8ZABcAAAAgAC4AEAD9/6j/6f4+/vv9uv0S/Tj8rPtt+wD7bPoH+s35rfmK+UP5/Pi7+Gz4M/g1+Fj4fPim+P34kfkL+jz6gfrx+kb7p/tG/Nv8R/3J/Uz+gv6O/s3+Ov+S/8r/3v/2/0gAlwDUAC8BaAF8AbAB2AHMAbYBtgHMAeQBDAJlAq4CwQLlAhcDJQMmAzUDVgNoA1MDTQNtA5ADpwOxA7cDwgO9A60DwAPhA+gD1wOdA1sDRwMjA8gCegJPAgUClAFNATQBFgHwAMsAwgC/AJAAawCIAJ4AfgBsAHQAbwBtAGgAYwCHAJ4AcgA1ABcAAwDd/6f/bP8l/+v+vv6E/kL+AP7S/cH9rv2g/ab9k/1Z/Sj9FP0F/fr8Af0Y/SP9Gf06/YH9nv23/e79HP5T/nz+cf5l/ov+2f4f/0X/Wv9u/43/rv/N/+X/9/8OAB0ALQBDAEIAQgBUAG0AlQC1ALYAvADnABMBHAEkAUIBYwF5AYMBmgGsAZwBjAGdAbcBxAHJAcwBxQG8AakBlAGaAagBoAF8AVwBZgFuAVcBNAEYAQoB8gDAAJAAZAAyAAIA5v/l/+D/xf+q/53/kP+D/3v/bf9x/5f/sP+z/8P/5v/0/+T/3f/m//H/+P/r/+L/7//3/+n/wf+M/2r/WP9R/1P/QP8h/x3/Lv88/z7/I//5/t/+3f7u/vr+7/7y/gn/HP8z/z7/Qf9d/3n/hv+U/6f/xP/l/wUALABOAGEAdgCeALgAsgCsALAAvADKANAA0gDXANkAywDCAMoAzADGAL8AvAC8ALcAqgCdAJQAkQCOAIsAjwCOAIMAegB6AHcAYABMAFkAYgBFABwA/f/Z/7v/tP+w/6X/kv9//3//gP98/33/cv9b/0L/Nf8u/yD/Hv8y/z7/Of9E/2P/g/+h/6f/nf+2/+T/AAAYACoAJwAkADQAQABJAF8AcwB6AHEAaAByAH4AdwBhAEAAHwAMAAQAAgD7/+f/2v/W/9L/xv+o/4r/jP+j/67/rP+2/8n/2P/n/+3/3P/T//H/CwAUABsAEAAEAA8AGgAjACsAHwAQABwALgAvAC4AMwA2AEQAUABSAFcAYgBsAG8AZgBmAIIAkwCJAIIAdQBjAGIAZgBqAG0AWgBJAEwAPgAsACsAJAAcAA8A8v/n//P/8v/o/97/yf+y/7n/v/+g/4L/ff97/2v/V/9G/0L/VP9l/27/eP93/2v/bP+A/5H/nP+m/6P/rv/H/9L/0f/R/9//+f8RABoAIABDAGIAYQBbAGgAcgBnAF0AXgBiAFwATABNAFoAXgBcAFcAWQBoAHMAagBbAFUAVwBgAF4ATABBADQAHgAZACIAGAD+//H/BAAiACQAHQAWAAMA8P/o/+7/6f/Z/9j/3f/f/+T/7f/v//D//f8LABIACgAAAP7/BgAcACcAGgARABIAFwAUAAUA+v8AAAkACwADAPX/7//i/83/wP/F/87/1P/h/+n/4//W/8n/w//F/83/2P/h/+X/2f/Z/97/0P/T/+X/8f/j/9P/yv+1/7L/zP/g/83/tP+1/7b/qP+c/6f/u//H/8j/zf/L/8f/2v/k/9//1P/i/xIANQA0ADUAPwA8ADIAMAA+AD0AOAAoAA0AFgAoABUAAQACAAAA/v/q/+L/6v/x//L/9v/y/+D/1v/d/wYANwBOAEQANAA9AFoAUwA9AFgAewCiANsA3wCfAFgAZwCzAL4AsgC6ALMAhgBAAA0A9f/f/9D/y/+y/5L/hP+e/7n/tP+q/6H/pP+9/+D/2f+j/1v/TP+T/77/xv/T/93/5v/p/+j/7/8MABUALQBcAEYAKgAeAP//9P/7/xcANgAwAPv/0f/Y/+T/0//D//H/HgAIANX/z//u//j/yP+I/7D/BgAaAOf/wP++/6n/g/92/6j/4P/P/8v/DAANAM7/xf/W/87/2P/p/9//u/+9//j/DAD//xMADgDP/+f/LgBKAF4AjQCpAI4AhACyAOsA5QCfAGIAhgCyAM8AxAB4AGoArwD2AOwA7wAIAZMADgB/AAYBzwBsAEcATABaAF8AAgDT/yEAbgBjAPj/nP9w/67/AgAbABMAl/84/y3/iv+g//v+G/9u/9T+q/5U/1H/v/7G/v3+i/50/jz/SgCXABv/GP7y/kb+bP28AE0BYf1R/sEBkgDn/pMAVAAi/v3/NwIV/3T+FwLEAJ3+jgDNANv+3/9tAv4Ah/6K/8YAZgDV/7T/mQDmAVABDQB8ABoAsf7O/6sB1QC6/9r/NwC8/xb/FgAQAML/4wHJATP/8/+BATwAef9IAR0CTQD0AOIC1AAS/4MANwFkAb8BCQFuANj/4v+eAHwACwDn/+MA3AB+/nr+lP92/s7+gf+A/q//BAB5/RX+eQCS/x7+7P/GAcz+JP1/AFwArf6//7QAcwDP/i7/lAC+/6n+7v6gAOIAyP7L/gABCwCI/QUAdAIr/sX91AKl/7r7if9oAU3/cf5cATsCif54/kEBMQD5/ez/RwL5/z/+7gAQAez9fP+uAg4Bev9iAJ8ABQAOAGkA5v+bAFABQgAWABAB5gDA/jz/jAK+AVz+V/9CAuEAHf5e/3UBMADj/twAWwJoAKr+NQBBAsMAIv8gAQwCCQBvACcCqQCOADgCGwFl/xwA5ACb/l//3QJJACb9qf9HABr87vz9AWAAxvzL/qsAdv1D/Jf/mf9o/lAAVwC8/Wn+4f8j/kL+0wFiAjn+f//3Amb+Cvw2AsEEzf+k/1QDlgDb/CEAXATOAWj/HQKAARP+d/+hAQwBnQFUAjkAqP4aAAIAQP9NAqoDXQDZ/WX/VAF9/kb+kQNNAp79tv57/3/+PP+y/3sA1gA+/4L+iv/LABAAvv47AK0B7v+0/lkAzQBQ/6r/AQLlAPv8n/9BAwT/yvxZAZkDbP5O/OgC3AE7+0T+BALB/7/9Df7g/4kAXv6i/d7/0f9X/SP/JgK6AKP/MP+l/8cBsQBo/8MAfgELAfYAvgHUAaMARwGwA5ICDQDjACgCFAHdAA4E2QMQ/0T/swFg/7T+OAKRA/0AMf2t/Cv+Pv6j/zoBQQB6/Xv7ofy//df9x/+K/1b9Of+S/3389P35AZ8D4wJ/AdQBLwIgAvwC9wP7BfgFMgIkAikFugR8A6cD6AI+AbEBdgOoAaH9rfwL/10AI/90/Zn6ufdH+IL7pf05+/L3eveY95f4nfrL++D6Zvlj+g/8oPtH/Fz+WP4H/p7+w/5R/xsCGwTpAff/6AGgBMsFRQZXBQcD9wFQBI0HtwdQBaoBYgCPA9cFwgRYAv3/H/8j/+f/qwCs/6b+4v6+/0b+fPvq/pYGYwndBeb/6fyTAqEOSxXpD6AFjQEpB4kQchWFEbQIxQQtBzoI5AQgApcCcwE3/Yj5aPVg8APvWvPE9k3wDeVq4VDm7OtI7L7p8ecP5lDmxus68hjznvBx8dH21vuS/FL8sP/yBeAJsQpjC2ELYQx9EdMWHhfFE8cR+xPnFuAVWhNnEzUUhxGEDRwMWgsjCiAJ7AeABC7+NPrl+kf8jvo/9hDzmPGm8JvwGPGB8Ovupu3R7RnvVvD68UnzufP585L0MPcj+l77svwd/50CRwVaBWUFPwhBDjIVUhj1FXgRhxAkF/gfMCScIecZIBXCFmQcHyDuG4AU4g9MDccLjApABxQBQfpY9mTzYu1d50fkMeOE4EzaMNT70NvRAdau2N7W1NKV0f3VhN3j40vnIegD6pbv2/Zb/YgCMgfxCqAOjBOgF1EblR8CIyklliU7JVolZCXkJVQm0iOWHmYZsxbgFSQTog2wB3sDeQB6/WP6IPa18R/vDe5I7XPruOi65rXmE+gI6b3pKOtm7HHsfeza7ZjwEvV6+Rn7NfrI+fb83QOqC1EQDRDeDWgNXhAFGMMfkyFmHsUZNBkmHYMhvCPWIKsbARj6Ff8VkxXbEfoK4gMTACP92ve08rbufOrF5MDeA9vs15XVE9Vb1DHSzM6KzVTQ3tQn2b7bEd2n3hbicOjm73v2NvsB/kcBbAbzDPET7xj/GgMcJx7aIVAlKyeFJ3wmsSR4I18iayDNHWwazhaWE/sPzwu5B/ED0QDF/UL6Zvb08srw4O4+7dfrAuqL6JjoluoV7G/r4emL6UrsH/FX9ZD26/Sv9NX4aQATCBkL0wlNCJ0J4g9yF2QbWxsCGTAYZxr9HeAg7R9zHA8arRhAFxIVYBJrDs4I7AMnAKL7J/ZW8bftfenD46TeWdvu2E7XYtYO1d7SntGt0ijV7tda2rncMd8f4rDmh+wX8sL2FvuJ/yUE8QhADn4TFRdcGdkbHB8TIqMjlCQZJYAkZyOwIuEhTSD0HekazxfcFI8RDQ6sCqgHwQRfAYT9gPkP9r/zMfLp8A7vY+xy6mjqoeuB7CLsPesd6w7t9/CC9N/1vfWf9hP6kf8ZBSEItAjICN0KzQ+TFA4XgBcHF1cX9RiaGyAdbBvTGGcXbxYEFRcT8xBPDb8IbAUuArv96PgV9QTy8u2y6XnmZeNp4DDeEd3w2xfaPdnj2fzaBtxU3Vvfd+G64yTnpOsD8HTz9/Z8+zkAZQQ9CB8MmA+TEvcVbxnHG/4cGR6SH5AgpSA2IGofeR5MHYQbUBnOFuATCBG3Dk0MLgnBBcQCfACW/rX8lfoj+Ln19/N084Hz1fLe8Xvxl/ER8r/ye/NY9Kn1v/fR+bT63voJ/L7+lAFZAw0EOgTaBLAGFglmCgcKmAmnClAM9Ax8DJ4LrwowCr4KMgvhCY8H3AXNBHIDsgEVABb+qPsD+rv4x/Zi9FDyNPF88Irviu5d7UXsyusa7PTsWu1R7evtZu8Z8VLypPOR9ZT3d/l2+639uf+cAc8DCwauB8kILQoLDH4NFg5dDuQOqQ//D40Puw7hDVANLw04DVcMIgoTCDAH8gZkBikFiAPIAW8A8v/Y/zf/D/4p/eD80Pxz/PT7v/vX+yj8fPxu/P37rPv++638JP0o/eD85fwr/W397/1F/jn+Pv6N/i7/m//X/2kA4QANAW0BPQIAA0ADmwM9BJkE6QRjBZYFVwU4BYsFnQUiBa0EZQTQA/cCWgLnARgBEgB3//7+xv0m/CT7x/pE+lP5YfiF9732YfZw9n/2Ivae9ar1Q/bs9mT3w/cl+IX4K/lI+oD7Yvze/D/90v2r/rT/uACdAVcCxgIDA1MDzQNrBAwFcQV7BWAFeQW6BbcFbAUlBfAEqgReBD4EGASwAzYD0gKCAjIC5gGUARIBjgBCAA4AzP+P/4v/dv8S/9L+8/4r/0j/Wf+E/7f/7/9mAOwAFAEJAT8BvgE8AnkClAK5ArkCjwKUAs8C3wK0AqQCogJcAvoB3AHcAYkB6AB0AEIA3/8o/5P+VP4Y/qb9Lf3M/Hj8TPxG/Eb8PvwO/Mz7rPuv++H7IPwy/Bf8/fsi/F78Z/xl/Hr8svwC/Tz9Xv2J/c79Fv5O/on+wv7w/i3/gv/Z/wAABwA5AJEA0ADqAPUABwEvAW0BmwGaAXsBZQFvAYcBiAF0AXABiQGWAXMBPQE0AV4BdQFOAR4BFgEHAd4A2QADAScBIQEAAd4AuwCsANIA/ADzANIA0ADuAAAB9ADpAPMACAEyAWwBgQFaATIBQQFsAXUBYgFZAToB9QDFAMIAtwCCAEMAGAD8/+X/zP+i/1r/Gv8K//n+u/6T/qr+wf6m/nP+Uf5N/lP+W/50/pD+o/7E/u/+Cv8h/0r/ev+P/4T/jv+r/6b/mP+r/7f/nP+O/6r/vf+b/2X/S/9U/1n/Qv8U/+j+v/6J/mL+dv6Y/oX+X/5d/m7+dP5q/l3+av6Q/rf+4/4I/xT/Nf+E/8//+P8KACgAcADNACoBhgHLAfMBBwIZAjkCYQJ/Ao4CkwKIAmsCTQInAgEC8QHqAdYBrQF0ATUB9wDPAMAArwCNAGYAPwAeAAAA5v/Z/9//9v8LABcAHQAtAEwAWQBOAFUAbwB6AG8AXwBiAHYAgwCFAH8AaQBYAFQATAA5ABgA8f/W/9D/2f/b/8X/qv+k/6L/jf9n/0L/KP8W//n+zP6w/rP+rf6a/pn+oP6M/mL+Q/5G/lz+af5//qT+sf6Y/oT+lf67/tX+5/4B/x//Lv8p/yr/Tv+J/7b/1f/2/woACAAQAEMAgACaAKEApwCgAI0AhACNAKYAwQDSANIAvwCuAK8AugDMAOUA+QD/APkA7QDdANgA5QDzAP0ACAEGAfYA8gAAARUBHgECAdYAyQDKALgApQCaAIIAXQA9ACgAHQAYAAEA1/+v/5L/dv9j/27/kP+e/4r/ff+C/4X/if+N/4b/fv94/3b/hP+S/4T/aP9i/3T/hv+E/3j/cf9x/3v/kP+g/5r/i/+C/3n/cf91/3j/cf9n/1T/Of8y/0v/bP97/3L/Xv9P/0//Yf+E/6z/vf+z/6X/rP/S/wEAFQARABEADgAHABIALgBHAFIAUgBcAGwAagBqAH0AiQCAAHYAcgB3AIYAlACKAGUARwBPAGkAdwB0AGYAUQBJAFcAZwBkAFMANQAbABYAFwARABMAHQAaAA8ADAASAB0AMgBGAEkAQQBAAE4AagCFAI0AgwBuAFoAVwBXAEkAPAA3AC0AIAAcABsAEgABAPn/9f/j/8j/wf/L/83/xf/B/7v/sv+u/7b/u/+1/6X/kP9//4X/lf+N/27/Vv9L/0X/Q/9C/0D/Sf9h/4H/mP+l/7X/yP/e//j/AwD7/wAAJgBXAHgAdQBhAGMAfACNAJIAkwCNAJIApwC3ALMAowCZAKEAqgCkAJsAlwCaAKkAsQClAJkAlgCQAIMAdgBtAG8AdgB+AIQAdgBWAEwAXwBwAGUARwA4AEIASAA+ADMAJgAZABMAEQALAP//6v/f/+D/2f/L/8b/xP/E/8L/p/95/13/VP9G/zT/JP8S///+7f7Z/rz+lf52/nf+gP5x/ln+SP43/ir+Pv5k/mb+Tf5N/mn+if6w/u/+O/99/7n/9/8pAFMAgACzAOEAEQFGAXIBlwHLAQECGQIMAvQB+AEPAhwCFwIHAvYB7gHoAdkBugGLAV4BRgE8ATABFwH0AN0A6QD+AO4AwACXAIMAeQBlAE8AQgAzACUAHAAGAOb/y//B/8T/xP+w/5L/hP+B/3b/Xf84/xb/B//9/vP+7/7g/sr+w/7O/tL+yP7C/sz+zv68/q3+r/6x/rT+xf7K/rf+s/7Q/vT+Bf/7/uT+1v7e/vL+A/8S/x7/L/9N/2r/e/+S/7j/4P/5/wUAHwBFAGkAgQCQAKkAzQDzABUBNgFOAU8BQQE7AT0BUQF3AY8BkwGMAX4BegGNAaUBqQGTAW4BSgE5ATQBKwEjARwBEAEEAfMA3wDEAJIAXAA6AC4AJgALAOX/xv+q/4f/ZP9U/1f/Xv9Y/z//Lv8o/x7/IP8q/xr/Av/2/vL++v4H/w3/G/8v/zX/O/9Y/3v/kP+Z/5r/q//N/+H/6f/s/97/1v/o/wcAJAAoABwAIgA1ADYALAAmABkABQAAAA0AKABAADwAKgAZAAUAAAAAAPT/6//o/+H/3//s//f/7P/P/6r/j/+O/5X/lP+O/4T/hv+Y/6r/wP/V/9j/zv++/7T/wv/s/xMAGgAOAAwAIABDAF0AWgBFACwAKABDAGUAeQB6AHIAaABbAE4AQgA+AE4AYQBmAGUAZwBlAFwAVwBZAE4ARABTAF0ASgAvACcANQBNAF8AWQBGAEIASgBWAGEAYQBgAF0ASgAyAB4ADAD7/+//8f/5//z/8f/b/8L/q/+c/5j/kP+J/4b/gP9//4j/i/+R/5b/j/+A/3z/gP96/3b/ff99/3D/Xv9R/1z/df98/2f/Uv9f/4H/pf/G/9D/y//e/wkALgA0ACgAJwA9AF0AeACEAIIAgQCNAJQAgABnAGAAbgB3AFYAIQAGAAcAHAA4ADsAHAD4/+f/5f/n/93/zv/U/+3//v8CAAEAAAAFABEAHwAnACsAQwBqAHoAeQCFAJ8AtwDKANEAywDBALgAvQDeAPIA1wCzAKcAqgCoAJEAcQBmAGkAVAAxACMAHgAHAOP/tv+K/2r/Uv81/wv/2/68/rr+x/7E/qj+hf5t/mr+eP6D/ob+iv6Q/pD+mf63/tL+1v7Z/u3+Cf8l/zj/PP8//03/Wv9b/1//aP9g/0j/PP9N/3D/mf/B/+H/7P/v//r/BQANAB0AMwBQAHkAowC4AL8AzwDmAP0ADgEgAT4BVAFUAUwBSgFLAVIBYQFiAVYBXgF/AZ0BqgGhAZEBnwHOAewB3wHHAbgBrAGwAcYBzAG0AZgBgwFjATMBBQHcAK0AgQBhAEIAHAD6/93/wv+n/4n/cP9l/2D/RP8T/+j+2P7r/gr/Dv/1/tn+v/6m/pz+n/6q/rH+qf6V/oD+Zv5G/jn+Tv5n/m/+bP5o/lj+Pf45/l7+hv59/lH+Mv4v/j/+Vf5p/nH+aP5V/kT+Qf5Q/nX+rv7b/vH+B/8h/zz/Vf9q/4j/u/8CAFIAngDnACsBYwGSAcYBAwI7AmgCkgK6AuICCgMpAzkDSQNhA2sDXwNYA2YDdwN8A28DWgNHAzcDKQMeAxEDBQMAA/4C6QKuAmACHQLgAZ4BVQENAcgAdgAaAL7/X/8H/7/+ev4m/uD9rP1n/QT9jvwj/OP7xvu7++T7UfzM/DD9ef2F/Vb9Lf00/Wz9vv0p/rP+Nf97/4L/cP9H/w3/5/7g/vX+KP9n/7L/9f8FAPD/3P/S/7v/mf+T/7f/AwBVAIYAogCpAJwArgDhAPoA8QD2ABEBIgEpATsBXgGCAYQBcgFaATABCQH3APQA9wACAR0BQAFUAS4B4wCtAIEAVgBPAHEAmgCxALIArgC5AM0AzAC+AKsAkACIAKMAyADfAPkAJAE1ARUBzgBoAAEAwf+m/6P/pf+T/3P/Tv8o/wX/0f6Q/mL+Sf4o/vf94f3i/dv94f0N/kf+dP6U/qr+sf7F/gH/SP+Q//j/fgDnAP8ACAE2AUUBKAETAS0BZwGIAa8B+gE9AlcCKAK+AU0BAQHaALYAoQCkAMIA7wD/AOkAuABxACMA7//N/7f/0//6//L/xv99/yL/zv6u/p3+Xv4p/j7+if7E/sb+kP49/gv+B/73/dD9rv2g/bv9EP6A/uT+G/8O/+/+9f4R/x7/I/8//3f/0v9HAKoAxwCRAB8Am/9S/3z/BQCNAMoAzACrAKIAvgCyAHoAUwBnALQAAwETAfgABAE7AV0BXgFNASwBCwEFARYBKQFJAZUBHgKaArECQAJ9AQcBHQFOASIBwACKAKIAAwFFARABaQDF/7X/HABnAD8Ayv9k/0T/if/m/+b/r/96/1b/Uv9U/zP/7f6i/pb+4P43/3v/mf+B/zf/9v4U/0f/LP/L/nH+ff73/lL/Nf8o/23/lf9R//7+C/8q/1L/pP/C/6z/tv+2/5f/nf+5/83/x/+t/6j/r/+g/0f/Iv+v/1kAmQBYAMn/FP9s/l3+J/8NAHYAlACaAIUANgDO/1H/Cv+//zUBQgIiAjUBoQDnAHoB5gENAvYBoQEQAY0AYwCwAPcAKAEvAX0ArP/e/1ABnwKbAn4Bx/+n/qn+Vv/PAGMCYwIZAS8AxP9S/yj/vf8lAD//a/6j/hX/AABVAXEBpf/1/Lf6nvpJ/XAAWgEeAED+Ef0C/rX/yf+r/jP9svxR/pEAYwGEAM//3//N/ysAWgCr/2z/3////5z/DwAoAfoA8//v/1gA+v/N/yYAIgAUAG4AiwBVADUAJwBCADsByAKlApgAF/+C/w8B5gGoAZMBgQHgAPAABwKFAl8BrP/M/tb+1/9AAcEB/gDQ/wH/7f6d/1YAnQBJAJL/Sv+F////3f9m/7r/d/+W/rL+Nf9W/yr/xv4z/jr9QP3m/sv/0v86/+P9RP1Z/Rz+ef/i/0D+Hv2i/nEABwEFAVcA9v5p/v7+CgCEAegB/wBJAPb/dwCfASUCvQE9AFr/TwAoAZMBMgLXAacA7//n/w0BGAKYAlgDdwKeAOH/mQD5Ad0C/QICAowAqP/v/1QB2wIiAyICwQD3/xMAwf/H/xoA6f+XAMkAuP9e/rz9C/9a/+f9gf3X/Uv+kv6U/kz+1/0j/pb+cv75/ev9Tv4u/2kAiQBY/1j+fv4S/3cAzgELAXX/FP8AADQAcgBnAckA0f/b//j/KgBpAH0A7ADVAIP/a/9yAKIAlgDDABcBeQD6/jf+e/69/6kAfQDG/0T/Sv89/8b/YADm/83+1/4xAHoAPgBvAFAA/v96AK4Av/5f/iYAuwAAAeIAtv+f/0oBRAEd/8n+LgCkAH8AugAoAAP/T/+VAJIAhf/i/sn+NgB9AccABgAk/4D+X/+5AJkB7QDy/5gAkgHMAXgAmf5k/iD/OgBfATcC3wJzArYA7v47/if/awAQAMz/JADc/6sAkgKYAiAAdv7S/t3/PQH3APP+5v4EARQCGgG5//T+6v62/zwAVwDgAHEAvf60/tEA5gGaALD+6P1S/hf/JgAZAWsAuv6u/Wn+uQBHAZ3/G/5Y/e/90f8NAkQCl/9a/aL9lACCAq7/E/0//ur/NQAWAJAAAwE7AX0BKACO/Xb85/2lAN0BpACY/qT9Lv98AdcBuv+b/LH7QP6YAXUDJgLQ/r39z/6jAB8CpwGD/7n9ef8mAl8BKACNAEr/a/35/i8Ba//0/K797v4eAM0A+f42/W39iP+CAasACv5n/LT+9gIHBIsBWf7y/SgB2wPKAqP/kf2L//YD6AMsAIH+6/+mAksDqgElAKL/0wCWAqsCAgEi/1r/LQEiAZj/Hf9J/wH/Q/+eACEBpf8B/s3+SAFqAmwBbv9F/ln/EAE4AuQBeP5y/PT+LQJ+A0sBiv0p/F79GgBRAfr/cP0s+wH9MwHOAdf+gfzg/HT+vv9VAHj/Cv77/QX/tQB0AQUAO/+Y/6r/if9V/1b/2f71/lIAhgA6ADkAhf/r/i7/gv+C/lj9Yf23/W/+m//v/y//Z/56/h//t/9tAGQA9P8xAC4AMQH2AngDWgMKAucAZgEzAkQDnAJHAI3/uAB8AmwDsgIIAHb9iv3r/jgAqwDN/iP9V/7m/wUAQ/9Y/hH+h/5i/xAA+P+a/z0AZwDA/5D/P/6q/TP/v//B/+3/Qv9C//n/bgCcAekB7//p/eX9PwDxARkBLwBi/4X+EAB6AuQBwv/W/t7/5wKIBR8GmwXWBKUE9wS9BDgEgwPqAosD9wSwB4EKoQpWCXMINAj5BmIEDQJ4/wn+nP7D/mf9Ovow9xz2OfXc8r7uN+t06j7rqOzE7f/tOu4p74nx6/P19NP1UPdi+nP+6wFiBIwFsAagCHQKEQz/DM4MWQw1DEkMLgxTC34JsQf4BtIGqQYBBmsEbgLlAAMAHf+y/Qj8vvqf+oz8Fv92/+796vuj+sL6TPvJ+3X7A/sV/SEB9wM7AtX8hfhz9t/1e/Y89x/4b/pt/+4GwA/FGA0hwiawJ7IkpyDsHeYcUxv+GDwYSBrZHnohYR0ZFDQJm/+29yTuPOK615vSbtNY1unW89NR0NTPo9L01BfVftVT2OneMejj8Gb4dv+CBlwNNRLXEwwTWRLeEoUTPRTSFJAUIRTmE8kS/w9SDPcHewJd/f35b/iQ9yn2PPR58i7y3fIM8/3xoe9A7sbv9vJ09Uz2xvbY+Pj8+QDGAWv/Cf2W/Mn9Ov+q/wsAlwKMBx8Miw3VC2gJ+QfeBvwEMQLnAJgD4woTFmMjFzO0RMpTHVsfWd1Q30b5PXE1CyyJI1UfoCAKI8sf2RRcBY/1LOYJ1J2+CKoXnc2bdqE7p5GqSq2ksu+5h7+8wJq/zcFkyibYMues9GAB+A5HHMUl3yj3JbkfcxkAFTkSaBBeD8gPlxHiEwwVNRNiDqQHcACA+kf22vOh84X1VPlN/qcCpQTKA0gBP/+B/qX+SP9mANgClwbiChcO3A0iCikFqwCB/KD4//Vr9Xj36vvVAF4E8wURBd8Bff0Z+Wr2xfe4/mAL4B0aNXlMQl47Zt5jDlqWTHk94ixnHS0TSRCAErsThw+yBgv8y+8X357IhbDRneGVfJcInYSjUayIubfIHdQr2HvXpNf028HjPOzV9H7/sQ0cHVQoOywlKrwkoh1JFTQMbAR//+X9lv98A/wHLAs/DDsLowdhAoH9KfpS+dX7IwEtB5EL4A3LDpUOMg3sCZAEEf+j/E7+4wGlBBMGVAeTCGsI3gSk/Rf1ee6s66/ss+/18oH2Ifp9/BX9cPzg+hv5XfmT/1cODCWUP1hXTWccbolsGGOaUkc8LSSNEF4F3wHOADv+xfoL+GD0FOvB2MPAmKrxmw2W15VxmR2iYrEcxdDXzOQl69LtefB58zj0+fLa8+L6TQezE5Eb7x29HKwZoRTfDIsC7/c/8Eft4O5B9JP7vgJaCQUPrxKsEyQSRg+QDEsL7QtiDXcO/w74Dr4O/g1KC18GwADp/Pz7zfy6/R/+yP5xAAUCSAFO/cD3RvNl8SLyPfSW9lr5UvzB/jkAIACs/t/84v1DBlYXeC5xRklaQ2cDbV1rd2HETnE1PhwrCWD+jPg687Xu0O2Q8JXxbeql2SjFV7Mzp0agRp1snw+oVLcjyt/bbOmQ8o34GPxK/I/4rPNs8R70Uvq8ALkEqgVgBTQFTwRLAF74SO8u6eLnhuou74n0FPuaAwoN1xQ/GYYaZBo/Ghka7hhSFnMTlBGLEJ8PnA4oDVgK3AVNAf3+/v7R/wAAt/9uAEcCmQOVAoD/Kfwa+sT5Y/uq/ukBggM5A50CjQKYAi8C0wI8CcsYATDDSFJcjmdLa4BoCV4NSs4tyBAy+7Xvcekm4s/a89hI3nHks+KU1hfGTbifr1uquKZypnasm7qlzjDjmPPS/pMGrgtwDFkHdv7I9WbxkPJf98H8mADPAq0EnQbFBvQCLvvR8jTtn+uh7WrypPkbAwsOsBjEIKMkDCW7I7shwR4+GrcUpQ/HC7UIcgYhBVQE6AItAMr8Lfrw+Nz4fPkd+nn6vvqQ+6v85/yt++T5ePlc+1H+rP9f/vv7tPpm+hL5Gvbt9Jb7owxNJWQ/RlXNY6tpGmeWXBNK8C/QEiX6uOpq4sXb1tWH1ELaJOI75B/du9DYxNi71LSyrg+r06z4tobJ3d9U8woB5Qr/EjQY4RatDlMEiv3L+7H8Gv7b/7sCWgZmCYIKiAgNA5b7Q/XC8gT00/b1+lECBw6TG+QlmCrnKwAtdS27KnMkGB2jFkYRdAyoB4ID3wB0//D9Hfxc+pX4+/ZX9nT25vVg9IzyaPGS8ezyxfQS9oX2ffZs9kP2H/Uu8iDuoepd6ODm+ubr6wr5sA5AKVVCZVTbXatgNV5qVKNAFibPDb79DPR563/jsOBn5evsF+/46G7eDNRqynDAu7b8r46uxLPZv9nQe+Kd8FX7TQXNDpATKRBxB2f///q6+HT2cvRh9N726vo3/tH+b/zQ+H325/Vv9W30CfXb+RADLw4FGIwf9SXuK1owVTFHLosoySHRGtkTvwwbBjcBcP6A/QL+G/+U/+z+8f2E/dL8ovo691f0qfOV9Cz1/vRg9Qr3m/lc/Pj9bf02+/v42/ct92L2UPdf/VILgyBZOCNNJlsTYl1j217NUXQ7xyE0DVcAIvfQ7VfmDeX26cnu5uww5LvZ5NCGyNa+n7SwrLmpVa1Lt+fERdLw3YPpvfV8/yUCA/4d+En0s/EV7hfq9ueb6D/rdO4T8Z3ykvND9cj3mPlN+dL30Pe++kIAxAbyDBkTsBkTIMgkgCayJb4jRCEIHrAZwRSxEFQOMQ24DPoM8g3SDukOOQ74DAELJAieBFcBKP/0/Tj9//xS/YD9rP1x/hz/Z/5V/HH6Efq7+n77Fv08ApsNsx7+MXVDiVBKWI9a0lb+S8w6riecF8wLWALH+YnzA/Ji9P/1yvJ468jjoty503HIK73OtIKwWLD7szS698FBy+TVIeBb553qmeuo7KvtiOyp6abnZecv6HbpL+s/7WzvK/Ky9fb4fPoS+mL5CvpL/Ev/jAJ5Bp4LwhGzF+QbIh7hHx0iDCRjJCojZyFhIFUgOiCDH8Eedx5lHj8edR2OG+oY2RUzElQOsQo8B7QDbQAV/qj85/u7+7D7J/sM+tj4q/dk9mf1pPVQ+P/9lgaIERkdlyYaLGUtDyt1JUQd1RSQDp4KnwfpBDgDVQN+BIwEFgLm/br5bvW/7//oxOL33R7ajtaL09jR+tHW02nW9tht28fdA+Ds4YDiO+G1327fzN874D/hJuOw5Z7o0+sS7x3yevTA9X32uvfL+VD8JP+LApUGwgqmDkkS6BWKGbwcDx/qIJ0i1yOMJOgkPyXMJVwmiSYbJiwl3iNUIp4gQh76GjMXbxPbDyUMCQi/A/j/b/0l/F37PPp9+Hr2efRm8mHwCu/j7k3wCPQ2+pABFAgpDK4Ngw1nDD8LKAtGDOANfg9REbcTLhaEFwsXFRWaEj8Q7w1ZCyUIbwR+AOr7bfac8DDrg+aC4jTf+NzE2z/bFNvV2gHamdht19zWitaV1lvX49j92l7dzd864sPkSOeV6fjrqO518VP0kvdV+0j/LAMNB+oKnA7pEbIUUBcsGvUcWB91IVsjDyWGJpAn7Sd9J6YmFibiJUIlnSMqIVceght8GLYUIhBdC1gHfQQtAor/d/yG+ez2a/TT8TLv7uxx603r+uwp8BH0yvdo+qj7ZPzC/WcAKgQSCJ0LZw8aFGYZ7R2NIIIhnCEXId0fFh6wG1MYOhTRDwQLrgUFAGT65fRW77jpjOT638rbO9im1b/T4dHRz/3N78yvzOjMfs2UzjLQW9L81MzXiNpB3YvgyOSY6YPuYfNS+H79rwJyB2gLtQ7nEWYVUxkzHVIg2yJKJaUnmymuKtUquiq9KpoqGSonKbIn0yV3I2UgrhyOGFoUcRD4DM0JvwazA6AAef0F+jf2ffJB76PsquqE6a7pbut27hLyWfWH94n4i/nM+zD/+QKVBgUK6w2lEogXThtyHXoe5R6oHp0d3xuKGZ4WUhPVD+oLUQdHAiD9x/cJ8hjsiOaw4Z3dX9rO14bVadOs0Y/QF9AV0E3QxtC10Q7T1tQv19nZZNwB31riluY26+TvlfRX+UD+IQOOBzoLWw53EcwUGhjYGt8cvh75IHsjtiUsJ/ongijhKOMoNCi+JrckViKoH8cc3Rm6FjUTkA8pDBYJQAaYA/AAG/4A+3D3kvMY8Iftx+uy6pTq5euu7kjyzvWh+Ir6+vu+/TgARANzBoEJuQx4EHUU7xdmGugbuRzcHBwcaxooGNUVdBPXENEN/glbBYkA9vtV90Ly7eza56fjduDW3YPbXNl31x/WOtV+1NbTYNN00z7UntVi10/ZUduk3XzguuMV53Tq8+208db1QPqO/mwC3wUmCXIMqA+LEvIUIBd6GQscfR5vINkh9iLRI00kRiSmI6gimiF2IPkeJB0bG7wY5BXiEg4QSA1jCogH1gQLAvX+rPt/+Mz1tPM28mnxcPFx8mX09faB+W/7u/zs/aP/HgIjBT8IJws8Ds8RVBUSGL0ZmxoRGx8bmBpXGY4XqRWsE0gROQ5qCiIGwgFc/Z34XvP/7R/p/ORW4QPeANtX2DrWsNRk0ynSRNH90FvRQtKO0x3VFNe22ejcP+CG49TmWOo07nryEfeU+67/jQN7B2kLQQ/9EoUWwxmyHFYfwyHnI5ElwSaeJysoVygIKDgnGia9JPgizCBuHtQbwBhZFfgRxA6VCzAIuARyAXL+ovvN+OP1MfMX8dXvWu+D70vwufG288/1kPfv+En6I/yy/pcBVQTsBqAJXAzGDoAQeBEGEm8ShxIFEuwQoA9fDvMMCguFCHgFHgKj/uH6o/Yd8s7t7ela5vfizN/+3MraTdk82EXXftYi1i/WltZ71wLZDdt83ULgQ+N35t7pTu2+8Fb0JPj8+7j/YgMYB84KYw7TEQsV6BeEGg8dbx9nIdkiwyNKJJokryRjJKAjeSIeIasfBh4EHKwZIhdlFIgRuw4DDEUJeQbRA4kBeP82/aj6Dfi59QX0BPOE8njyDPNM9Pz1qPcQ+Vj6w/t7/YL/mgGTA5QF0wdBCogMMA4ND3cPwg/FDzQPFA6iDAYLSAk2B4oEUwHf/Vf6s/bQ8rfutOr65ozjg+Dg3Y3bptlK2FjXtdZ81r3WUNcd2FbZONu83azg1+Mu58fqme5h8vP1V/m2/DIAwwMlBygK5gytD50SfBXwF9kZgBs2HdseGyDoIFchkCG/IckhZyGJIGQfMR4BHaMb2hmuF1QV9BKZEDcOwAtCCeYGzQTwAh4BGv/S/Kv6KflP+Lv3N/fZ9vP2yvct+Y36gfs1/BT9Tf7E/z0BlQLvA3YFDwd5CHQJ4gn2CeYJkQmxCD8HgwXNAygCSgDt/TD7XPid9ePy9+/A7HjpheYM5NHhxN8E3o3cadu52mfaSNpn2u3a8dtt3VffpuFa5GPnnOr37XfxBfWc+D38zv9KA8AGJAprDYsQdRMmFqwY9hrpHI0e8B8RIe8hdiKoIqsihyIqIoMhjCB1H2EeJR2EG2wZ+BZcFMwRYQ/yDGAK2wePBXkDgQGR/6X91vtY+lP5n/j592j3R/fg9xb5g/rV++z84v3i/v3/NAFvAo4DlgSeBaMGbwe9B3gHrwaFBRMERwIkAM39Z/sH+aj2OPSq8f3uWuzS6SjnVOSk4VDfYd3X26Xap9ns2KHYt9gK2arZptr124XdXd+m4Wrkhufn6nnuEPKS9Rj5wPxdAMcDAwcrCmMNmhB7E+sVJBhTGlkcCR5ZH1UgGSG7ISMiTiJYIkkiJyLhIVYhkyCUHyweaBx7Gm4YPBb5E64RVw8cDRkLNglgB1kFDgPTAN/+LP3H+776EPrL+R/6J/u//Jf+VQDKAQEDKwSLBUQHHgnHCiYMWg2ADoEP/Q+aD1MOfgxaCtAH0QR8AQP+l/pL9wP0kPDj7AvpBuXX4KncxNhS1UvSwM/OzVvMVsvZysTK68p/y7zMjs6q0PHSntXp2NbcTOEF5qbqF++c81H4/vx0AZ8FhgllDUARxBTZF7EacB0GIEIiBiRCJQYmgCbkJmIn6Cc7KDMoxycUJy8mBCVrI2UhJh/KHFAa1RdkFe8SghAtDtILWAm6Bg4EhwEu//n8Evuk+c/4l/gD+Sb66vsJ/hMAtwEFA1EECAZGCLIK9gzxDqMQGxJXEw4U2xOuEtAQfg68C5oIUAX7AYP+qfpt9hryz+1c6Z3kyN8n29LW49Juz5fMdsruyPvHgcc9xzzH2MdByU3LvM190KvTZNer22TgWuVh6n/vwPQD+iL/HATkCHAN0xEAFtkZaB2vIJgjDCb0J0gpEiphKl8qTCpBKh8qsingKKsnNCaVJKAiMiBoHXgagReSFL4R+A4zDJEJHQfRBKACYAAf/gf8G/pi+Az3RvYP9lf2Mve4+L/6A/00/y8BGAMABQ8HZgncCzcOMRC/EfwSzxMPFJkThxL8ENwOJgz0CJcFPQKc/pv6VfbY8WLtAOmS5BrgyNvU11LUTdHWzvLMq8sHy+zKUctHzNLN589h0i3VXtj52/XfKeR56Onse/E29ur6WP+mA/QHHwwmEBQUvxftGpYdxR+qIXIj0SR7JZslZiUIJbEkUiTQIxcj9yFvINAeMx1RGwYZhxYCFIIRHA/ODGAK0wdrBTMDGgH5/r38wvo1+ef3yvYC9q31vPU29iT3gPhm+qb85P4IAUUD6wX5CBkM7w5cEX8TVhW8FocXkBfmFsIVORQeEkEPwgvzBwME1/9U+3r2o/E17enoW+S/34Lb3tfM1DPS+s8+zlXNGc01zdDN/s6j0OPSpdWQ2K3bPN9K45Xnyevd7/TzMPhz/HsARwToB4oLSw/8Em4WnhlvHJ4eUCDZIfsikSPlIxMkIiQOJLsjMCOEIqMhbiDuHjAdJxvhGHcW9hN0EQgPkgzvCS0HbATBAUn//Pym+kn4TPbf9OXzYPNC81XzrPOE9Pj16PfH+Sb7Mvxb/SL/rQFoBJoGVAgsCkcMcg4TEJ0QUxCgD6gOUg2NC2QJvQbjAxwBIf7n+qT3hvRw8QrufeoM5+HjPeEI3wndOdvl2VXZVNme2Rbaxtro24LdZt+F4QLk2ubV6d3s/e8x84T2+vl4/csA5wMUB2EKiQ1iEOgSMRVPF04ZNBurHJAdLx6rHgIfGR/THj8emR3oHPUb0xqTGfoX/RXKE5QRYA8NDZoKEwiNBSUD6QDT/tH85voX+XD39vXH9BP0xfOz8+fzgPSY9T/3TvlF+/H8nv5MAA4CMgRqBjcItgk0C8AMMg42D4UPKg+eDhgOMA2jC48JHweLBOYBH/8q/Cr5SvZt84Lwue0p68Dohuaj5ArjqeGR4LnfId/Z3vnect8i4AnhMOKd40/lP+dr6cvraO4/8UP0ZPeP+sH9AwFgBMAH2gqbDTYQ0BJiFb8XwxlSG4Qcjx1mHuceIx8VH6Ae7h0PHeAbZhqRGFQW3hNzERkPnwwCCmgH9wS8ApEAcP5e/GT6lfj49pD1UfRT88XyqvL98rfzyPQ89hn4UPq2/An/QQFyA68FHgikCusM4g6VEAsSPhMbFKcUuBRKFIcTLhIZEGwNVAr6BloDfv+W+833H/RX8JTsHen35RXjbOD/3e3bUNou2W7YCdgH2HrYZNm82nzcjN7n4IXjUuZP6ZDsEPCn8073GPvk/pQCNAbMCToNWRAxE9UVShiZGr0cfx6kH1gg6CBFITMhviAPIBMfyR1eHL4a0higFikUghHDDgEMUwm7BiAElwFC/w793PrE+PL2R/Wj8z7yRvGy8FrwMfB08Efxk/IT9Jj1Tfda+Zz7zv3d/wICUgSjBtQI0gqWDBsOTw8hEJEQshCKEBcQOA+3DasLTgm6BgEEIAEb/vr6uPdt9FDxe+7d61np8+bJ5OjiQeHR37DeC97o3Rbed94t32jgGeIL5DDmnOhl64PuxvEd9YT47PtF/6ECMwbYCTENIhDYEn8VFxh8GoIcIR5vH1wgzCDFIGQgyh8BH+4dhRzmGhcZCBfNFG0S4Q8nDUEKXwejBAkCjP8m/dT6kfh59rf0LfOd8SfwGu+F7kzuSu5x7vDu3e8d8ZrySvQw9j/4W/p4/I3+sgDyAikFNwccCdYKQAxEDQcOqw4aDygPyg4BDuQMlgslCn8IhgZLBPwBlP8R/Xz62/dE9cTyXfAY7gvsKupZ6LLmauWS5BDkzePb403kJuU75mPnv+iG6qfs7u5N8c3zdPY6+QP82/7HAZQEIQeCCeILQQ5VEBISshM9FXwWWhcAGIcYyhirGEYYsxf0FhcWAxWgEwASORBaDlcMMQoFCNwFvQOsAbP/3f0O/EL6pfhO9x/2BPUJ9Ezz6PLM8tHy5vIf86bzb/Rm9YL2rvf1+GL64/to/eD+RAC7AVkD/gR2BrcH0QjOCZgKGAtjC4ALZQsUC4wKygnJCIkHGwakBCgDgQGW/4P9evt9+Y33zvUp9Hry4fB27zLuEe0p7I7rKuvq6uPqIuug61vsU+2R7iPw8vHZ89X19fc8+oX8tf7TAOQC9AT6BuAIqQpCDKMN6Q4rEEgRBxJwEsYSDxMME7ESFxJQEXwQlg9uDvsMZwvmCYEIIAe8BU0E1wJ6AS0A2f6J/VL8NvtA+l75e/ix9xX3nPY99vb1z/XO9f71dfYb98P3bvg5+SP6Hvsc/Bj9Hv4y/1AAaAFnAloDRwQlBfMFqAY8B70HKAhbCDwI5geMBz8H3gZCBmAFVwRNAzwCHAH0/9P+xP2x/Iv7bvpq+X/4qPfd9iv2mvUh9cn0n/Se9MT0DvV+9Rn23vbF98f42vkC+y38QP1d/qP/+ABCAm4DegSIBaYGsAeKCDwJ4Ql3CuUKKwtRC1ULRQsaC7gKLAqYCfsITQieB/IGLAY7BUUEZwOXAsgB7gAKADn/gf7H/Qf9WvzI+0f72/qI+kT6E/rx+d355/kR+kj6ivrT+g77S/ui+xr8r/xN/dn9Yf76/pb/GQCLAA8BmQELAm4CxgIRA04DcQN6A3MDTwMNA8QCdQIkAtcBiQE6Ae4AmAA6AOT/kf86/+L+l/5X/g3+sf1f/Sz9A/3V/LL8o/yW/Jf8wfz9/Cz9XP2d/d79H/5h/pv+1f4a/1n/kv/W/yAAbgDHACABbgG6AQQCTgKdAucCGwM6A1gDeAOMA50DqgOdA3kDUAMyAx0DAQPYAp0CXQIjAukBrQFpAR0BzAB/ADoA9/+v/2P/Fv/N/qT+nf6E/lr+PP4h/v/95v3W/cj9zP3p/Rf+Qv5k/oz+s/7f/g7/MP9a/4//wv/v/w4AKgBVAHoAhQCHAJEArwDMANMA0gDYAPEADgETAf0A4wDbANkA0gDHALIAnACBAFsALwD//83/pv+L/3P/Zv9h/1X/O/8V//7+/v4F//3+6f7d/s7+uf6o/qX+rP65/sv+2v7u/gD/A/8W/0H/aP95/3r/e/+F/5L/nf+q/7L/wf/M/8j/zP/Z/+f/9/8QAC0ANgAsABwAIQBHAGYAZgBaAGMAgQCeALEAwQDOANoA9wARARcBKAFDAVMBUwFPAUsBRwFMAVgBaAFrAVwBSgE2ASgBHAH/ANUAnQBdAC8AHAANAO//uv+B/2T/W/9d/2b/Zv9c/1L/VP9i/3b/hf+L/5r/r/+6/77/vv/G/9r/+f8qAGIAgQCHAIQAgwCHAIgAhQB8AGcAUAA9ADEAKAATAAEACwAmADQAKQAOAPH/0f+3/6b/i/9l/0L/F//d/qD+dv5q/mz+ev6I/ob+d/5p/mL+Zf51/ov+nf60/tD+3/7p/vb+Ev9K/4P/rv/T//b/KwBvAKsA1wDxAPcAAQEkAU4BdQGRAZkBmAGTAY0BjQGQAZIBhwFvAUwBIAH1AMkAqQCLAG4AYQBMACUABADp/8D/lv9r/zn/Ev8G/wb/Bv8Q/xT/GP8v/1D/d/+h/7X/s//E//f/SwCwAPEABgELAQgB+wDvAOIAzwDaAAQBJAEwAS0BHQEVAQ8B8wC+AIUAWgAoANv/iv9G/wX/1/6+/qX+gv5g/lT+Xv5q/lj+Lv4Q/gD+8P3e/cX9pf1+/V/9WP12/bL9B/50/un+Tv+S/7b/yv/U/9X/4P8MAEsAeQCgANsAKAF2AbcB2QHTAbcBpwGzAdMB8QECAggCFQIoAiwCFQLoAbABbwEsAf0A4ADSAOIADAFLAZkB6AECAqYB1ACX//f9KPxZ+q34Yfe69uT23/ef+d77N/5kACoCMwNqAx0DkgK9AbsABQDZ/ycAEAGdAnEELAa8BwgJlQkpCQgIYgZfBFwCrwBt/5P+Yv7Y/qP/mgB5AfAB4QFTAWsAIP91/br7MfoM+Wb4YfgJ+Qn6Gvsk/B/97f1Q/lX+G/6X/fL8bvwp/Dj8tPyJ/Y/+yf/5ANMBZgK8AuECywJfAsoBcwGFAcUBPgISA8gDFATuAzQD/AEdAMT9s/tZ+sT56Pnl+pH8lv4DAUYDvQSIBYcFcwSnAuMAaf8x/sf9d/7I/2sBlgMaBv4Hwgi7COIHzAXHAvD/v/3d+4z6dPqK+yT9Af8rAdECewOyA0cDuQGW/779Lvy7+jf6Lfur/AH+jP+bAXQD3wNTA6wCjAHX/z3+d/3N/Az8qfwl/hL/1P8bAQ8CswHyADgAof6s/G77wPp6+uX6A/yI/eH+DwA+AdIBPAHf/8P+hv2o+4D6nvoH+zT7avwV/0kBPgKjA7cFxwUfBEsDYAL1/4v9If1g/Wb9O/8gAh4EBga/CAUKOAmLCK0HNQW/AvQBWAHnAJwBNwPYBPwFBgdMB8QGjwV+AzIBEP8a/dH7zftd/Ib81fwt/hD/jP7F/Ur9ivx8+wj7ivv6/H7+sf+sAZoDEQTDAzQDCwLBACAAyP+E/2UA6QHYAq4DkwTfBC8EPgMMAkIAzP6B/cj7GPvC+j35kvf+9iH3P/bs9TT3mveq9zX5mvuW/Rz+jf7b/1oAawD2AKgB2gFuAjIEoQWkBkMIPAl2CAgIyAcQBtwDPAKuAE3/bv8oAPr/dgDTAfYBlwEjAvoBHQAK/5H/Sf8p/nr+aP++/0MATAEMAi0CBQKrAbMBkwHXAM7/Uf+w/4P/lf95AHUBJwKxAhoEWgXvBO4DuANEA8wBQQDH/9v/Bf9n/nH/sgCNANv/6f/p/yT/d/7e/bj8zPtR+7L6VvqV+n/6+Pni+ez5ZPmQ+FL4Ifh595f3mvhw+Sr7Xf3x/Qj+T//c/zD+Pv02/qj+E/8ZAt4HoQ74FQwemyRTKGEqSiqFJwMitxnYEekLRQbHACz9VPtK+aL3svZf82bt5udc4TXZItKhzCXI58XVyD3O5NMX3BDmxO/D+J0A0gUECe4LGw74D1kTqhaEGeseuiULKiosgi03LNgn0iHPGXgPhAXv/VX3UfLp767uAu/O8TH0p/Qz9vr3vvVw8WHwEPD27Urup/ED9Vr4if21AoIFDQdaBw8FRgEN/oL7Gvnu9oH1Y/XT9v33P/cd9v71mvad9z36hgAjCxAZyifuNIA/GUd7TStRnkxhP8gw1SWQGm8N0AFD+E/wPO167azoi95A1gnQEcbxuhOz/KrCo5SlM7CpuWnBYc8Q47X07wGBDLATnBfLGqMeqCDHHvQbPh03IigloCTbI4YjbSF4HEQWRw8UBpf8ffbQ88vw1ew/7BTwmfMh9TP40vut/L/8J/5P/mv8a/vv+4X8sf29/7UAmgHpA6YFBwY9BuAFagQCA24B8v3T+Wv3Y/Wd8gzx0fF08431Yvi0+rP74fu6+076lPcR9TT0JPZW/EYIchmQLEM+I01IWO1eY1+dV6pHsTOdIBEPfP7Z7wTlG98d3ozf6N5B2l7UBs9nxzW97bL3qpGmp6cZsM27zMfw1u7qMv9vDv0YUyDTI5QkmCSjIpwd+hd7FagWcxj8FxIVGBKeD7ULcAY2AF340PDf7CPtcu4172HxpfWH+2QB+QQhBokGJweTB5oH3wZFBbQEwgZsCREK/wjoB0MHBAaTAzYAufy7+Z73qPbO9Rz0ufJM8xD1gfWs9JT0wfX196z6AP1w/vP+HP9R/w7/L/6B/Xz+GANuDGsaDCtDO7pJKlXvXE5gq1z8T208MillGX8K0/so7+Plz+Am4DHgk9vs0gTLwMM4u/6xF6n1ofqfC6dAtDrCCtF44m/1BAd0FfMeKiLMIY8hfiHmHwkc1RdUFncYahu2GrQWlxJ0DoYI9ADB+Anw0uiE5p/oReuD7fXxp/kSAqAIcQzKDfYNFA7ADcELUglnCDAJ7wo4DW0PLhC5D/cOVg2ZCSgEZ/5V+SX2n/S881DzAfTB9VD32feN9lHzyu/s7QzuJu9z8GHyt/XO+R39Uv7a/R/9R/1B/6sD7QvyGcUsmz+aTsZZo2I2Z1FjplWIQdsseBrcCaL5a+pv38PagNp42ZPUzcz5xPm9sbYUrvukGJ/hn5WoWLbsxE7T5uOP95kJiBUNHKofNCGbIGYe8Bp2FgYTrxJ3FAkVmxLqDrcLuwdTAXv5T/Jz7GPo/ud568DwafbU/YcHuBDUFqoZghoEGkAZbRjYFZkR6A1oDI4Mdg0NDgYM8Qc/BLEA4vtE9l7xpO3A63rsH+5M7yHx4/NJ9oj3zffQ9n/0ofJ38tjzf/Y4+qX+cQIzBPIDaAKs/xD8kfn++aL9ggVUFOop20DUU3hglWczarFmKlp3Qw4pmBLaARn1GepR4Qnc09tV3kncCNP1xme7XrBdps6etplkmNmgprPVyZfd0u7RAHgSfh9yJOQhyhz2GNoX1Be1FesRpBAnFHcYVhifEnAJwP9k9zjwX+kW46nexd7d5a7xEfy2AiUJrhEEGkwfPyBAHYQZ9BikG5wdMhwQGTgXKReAFhQTYAw2A3H6u/T48ErspOda5m/oyutv71/ysPNE9DD1u/Vb9XT0rPLy8DzyQvcR/YcBHwVBCHAKhQrVBjT/1PZq8RHwMvLa93cDIxjKM3tNzF3jZAVm4GFkVylFYysaEUf/m/d09Jzxte7w6xfrh+qh4wbTBr5Fq7eccZTak2uYD6GcsZ7Kw+R0+B0F5A0XFDMXFBfqFFURDQ6JD2gXWyARJB8jlyG+H2kaqg/nAMHxB+Yh4Afh3uX56artUPXsACYK0Q2iDmUOig3aDVgQ1hKEE8sUPRmgHl4g/BwPF5sQgAlqAhv8lvWf7tbp7+l87UDw9O8a7vrtMPBn8hzzYvIw8UvxTPSI+CT6q/hi9/r4uPzw/wIBzQCEAW0DJwSXARj8rPaT9BD2gPia+ngA0A9yKL5CuVbOYVdlsmMmXgVTxz68JHEPqgStAEb9mvhH8orriOYC4LDSLL+8q8acgpR+lEuaKKLsrZ/BGtqI7z39pQQKCecLAQ6TEEIUuhZDF58aviJ9KOglVB8yGpsTLQjG+0bypum64ajgHuho8Bf0p/cD/xgFRwYtB24KqgyKDRkRmheOHCMfBCJ7JMYj2R5GFyIPvAa7/Zj1pvCn7jnuZO/18UPzjPEA77ztbO1V7fbtQ/Ao9Lb4b/3EAtEHEwqWCAEFcAB/+s70rPJj9Nf2j/iI+nP8Dfx8+GDzvu6r62nrPe/o92AHwR5qO/JWemo1c/Jxn2npXHlLrTRdHQ0OPAkBCb4HIQSE/Onv0uB+z/y4+qBAkaiM744/lyemKbfJx63aEO2g9g33L/fk+gb/VQPJCqcU3xxQI5wqbi96KhociA3WA4X6fe9K6E3nWeif6snxv/oK/Rv5bPe7+Qf6Jfjl+jUDZAyOFSwgrCl2LdYrfyiuJOQe/RZWEIoNCwxDCRQI6gnWCSAF9/9x/Fv3QPAw6xbqVetd7s/zkPoB/5j/oP/fANP/f/ou9enyhPGU8AXyjvQP9qf31Pmu+br1DvAS69DnSeZx5lPpUPCu+qQGyxQfJo85HUzAWVVfIVwpU3dJBUEAN/0pMh7rFrQRAAzVBAX4w+QX0jXDBLQ6pmWg8p8foaapk7lnxRjLKNMB3LDedOBL6Vj0yftWBP0RYh/sJmYqoSwbKrkesRAaCYIF8v4U+Zb66v2P/PH6yvvQ+HPwx+v77vryx/Nz94AC4Q+AGWog7SUCJn0gFRz5GgwYlxKeEA8TyROfEBINVQosBv3/e/oX9wX0KfEv8Wf0j/dw+TH8Wv/R/+z9YPw5+1r55vdl+BL6RPs5++T5zfeH9fHyKPA57qjtT+7q8Mj07/ae9j/2KveZ9yX3lfg1/UEE9AyCFiAhqS60P0hQuFnqVhRIXzVNKLMh0Bz+F0kUMREyDoEKFQFV71Xc886cxSi+l7l0t/y3Nr6EyCHOPswnysjL1M7m0qbZkOK37Hf5PghIE68WGRZNFuAWzBR1EBkN+QsQDZUQ+xTdFqkU1A8pCmQEB/80+3X6FP00AT8F4ggIC1wK2QccBp4F3ATjA+sDIgVBB/0JSgytDLIK3QePBZcD3wFXAa8CXASXBCIEEgTiA+oCgwHC/5793Pwv/2sCXAL+/tf7W/q6+Sb5Dvgw9rH0k/Vk+IX64PpN+jb6evs3/Tj+tP53//AARgPBBvkKhg62ENMR8xFcEYkQog+ADqcMLwrGB64FoQOpASEAMf5W+9j4YfcZ9n30TPNo8trwYO/x7ubu9O4Q8CHyjPP280X0BfUt9lv3W/jR+Aj5RPri/L3/bwFGAmcDugTWBbsG6QbyBdEEtgQ6BYEFNwXyA78Bw//L/jD+eP37/ML8nfzW/N/9C/98/7L/kADrAWkC2wFxAY8BJgIeAzgE3ASmBJgEdgUwBncFwgNMAh0BCwDH/3MA5ABTAKz/qv/x/4oAkwGLAhsDuAP3BEAGpgZQBhUGpQYSCAYK2AvHDLYMNQzfC7IL6wocCacGKQRoAtIBxgH/AMP++fsN+jP5tPjt96f2CPXq80H0jvVc9l32mvZi9/v3Cfh/9172HPWP9C/1Z/Zd90r42fmc+6v8Nv2p/aX9Jf3u/HT9iP5JAIsCcwTzBVsHJAgOCOoHNghnCBoInAdgB8MHsAhmCUoJmQjaB+kGVQUhA7cA7/5m/qj+u/4//rn9j/1J/Wf83voe+e/32Pez+Pj5S/ut/Bn+K/+Q/2T/w/7m/Wv9ev2U/WD9Qv23/YH+b/8VAOT/Nf/l/jL/m/8NAL0AtwHeAvMD+QSnBa4FYgVEBWgFowUlBvsGdAfRBk0FrQO3Au0CxANGBE0EnQTCBbMGGwXz/6j5bPZO+A39AQCK/mz69vd3+bP8gP1i+jH2WvXs+H/9z/78+2X4n/e7+c37Tfv4+Nj3pvlC/RQAzQBuALAASgL/A5oE2wQlBsEIWgtcDEwLHgmZB54HYQhPCHgG1AOBAjIDggQvBEcBIv0e+kz5FPnT9xr2a/VX9qP3yvfY9kT2O/fj+JL5G/nJ+Nn5X/y+/5QDPgfpCIcGfwCd+oH5Cv7SA8cFGAPI/8P/IgL4AhQAUfv0+Fn7sgBqBZoHCAjPB5kG1AOaAIT/KQJjBwUMtg0GDDAItgTnAvUB9ADmAEEDCAcwCX8HEwMn/6397P08/hD+Jv47/4cAVwAG/jP7pvkt+bP48Pe99yr47/dN9in0qfKh8YHw1O+98GjzifYX+E/3x/V89Rf3TPv7A7QR6h+uJgsiIxcFESUVjx29IPMcIxp6HrslryR5FfP/+fGA8WT3/Pg18/TqjeX44gLgetoi1DzRpdQa3QXmE+zy7TbsVOoI7XD1TP9oBscKEQ8OFIoXZRdGFFcRDBGSEzIXcxm5GFMVQxALCqwDqv4M/If7QPyn/Rf/rP++/dD4r/Mw8rH11fsfAesD3wSQBXkGEgc5BzYHWQcgCAgKfgy/DSUM3AdYAxEBuAD7/xf+e/yM/Nb92/2a+kz13PF48q/12vgI+uf4x/Yz9ff0Y/ZH+W78gf63/6wA7QD1/zP+8fyE/SYAJQNABBAD2QB5/u/7jPk2+IX4Dvq3+3H8Zfyw/Jj9PP4M/vf9+/7rAEwE2AtPGXwomS9mKEgYJg30EMwewyhsJmwcBRZqFpgVZwri9mrnJeX37MjyZe0x3jHOz8RsxATLOtLo1DfV89jv34HlFOgX6UHrufMhBTEXNh6jGfgSiBFJFtoeBSZNJzgjoB2/GIoUuBDzCxgGDQLOAeMCsgB2+e3vVOlf6S3vcvWA97b1+PPi9Jv3xfpP/hgCEwYWCxcQGhJ8EL4NYAzPDMEO/xCGESsQ3Q24CsoGMgOqANb+Mv0N/C77XPns9pL0d/IH8eXwQPLf89/0n/VG9tH2s/dN+eT6ivvz+079gv9HAQACngJHA30DuwOlBMMFkwZSB3EHdAY2Be0EqwUrBqwFjwTwAgwAhvyY+sP6A/u5+Wn3A/Uh82jz/vUL+BX4hvfJ9+z4wPr9/vIHEBV2IU4l6h0xEngNJRY0Jbos7CZoHBsXnxTKD1YIqf+i+E/3Zvks9afncNiczQTJ282+2JvcydSUzCfN3NE91kzd+Ob37jH2W/+kBccE4wILCCYTVh7uJdsnsiMUHEIWqRWoGOwZxhU1D/UKeQhdBKL+IPpU9/r1kve++rL6m/Yv9Pz2vvtJ/88B/wJbAs0CrQeaDrgR4w9oDfIN/BBEE7EShw94C3sI0wc1CNYFFABP+5v6APye/Pf65vWm7/bs1u7l8V/zZfOy8hPyffL68qXy1/LZ9ED47/vw/mf/iPwc+YX4z/tDAfMEvwRsAjwAl/7a/bj//gIjBCYDlAGN//39cf5CACECHwRlBS0EaAHC/7v/bQDmALMAbgDbAEUBpv9l/Dr6lfqa/SMCOAVNBGMAhf1N/uoB/AelEbMcOCLEHPoQNQmfC7gXNSQuJUMZEgxiBjoFKgUEBGj+xfbr8tjvKOeX3VHZd9eb2JngReVd2/fNWc6l2ZnjDet68LLvX+2w818A3gcCCNoIhg7UFQUbshyjG3gZkRhIG08fNh5zFpUOvQsDDJUL3wmBByQEMQC4/FP6wvj299j49fqg+9D5vPdg99b49/ssAP4CgAJtAIAAiQN+BugGvAUbBWQFuwVjBUYEvwJ3AVEBFQK+AWf/z/ye+9r7z/zv/f/9Ffxp+WD4z/nc+3j8nfuw+lr6jPr7+iz7bft6/N79WP5A/n3+rv6G/uv++v9NACYAjgAZAVIBfQHJAdMByQFxAl0D4wMqBIAE4wTOBMcDXQLBAdwBtQEAAgcDWQKX/639yP22/gsAXQHSAGf+RvxG+2f7bv3x/4P/jfxt+s35vfkV+0j9C/7b/SL+ff3s+pj6gABZCZ0Omw1WCLUCTgEVB9EP9xJQDsQHwQTYBNoFRgb1A2v/Kfyy+pv4pPU78vPtZett7kHzrPGW6ozm7eit7c3xrPQd9W/0HfYX+50AJQRcBkEIsAmLC4YOxxFtE+4SHRJKEmQSzRA+Dp8MPAzKC3MKRwgeBYcBi//k/xYAyf48/Qr8n/rp+Ef4SPnB+gH8dv16/tT9hPzr/Ov/cgMNBboE7wJDAFD/mgGwBMgEMQEj/Zz7n/z//Zr93vqA93H2Xvil+n/6O/h59sz2wPgD+/b7R/t5+iD7mv2QAG8CwwJOAg8CYQL/A6QGxQcyBkEEcARPBs4HgAdOBYgC8QCBAOD/wP7p/d/9Qv72/Rv8yvlN+eX6rvyC/aD+SQJ6CCgNZwy9B6ME6Qe+EXAbZhxmFHwMYQsUD/oSkROKDvQGSwL0/7v7LPYK8jXufepN6SfoTeLp2lHZUt0r4a/iheIi4SjhcOb472/3Lvl0+Bj6XP+2BgUO5RKDE2YR1hCBE0YW8hXwE0MTyhMlEzgQFgwECFUFfgU7B7QGpQIF/r777/tT/Zz+h/7o/J77vvyV/60B6AFVASQC1gSLB50IEQhUB5sH6wiYCkIL0AkdB0AFmwTOA7EC0wF5ABH+Y/tv+RD44/Y29vr14PV/9YX0wPMe9FD1afaI9wz5JvqL+jP7wPze/owAOQGAASoCJwP1A1MEFQRuA28DfwTlBCwDGwHRAJABygEbAZv/hv3n+9z73PxZ/SH9DP0m/Rj9P/3h/ZT+df82AV0DWgTsA0sDSQMwBCMGTwgUCSEI2wbdBrEI1wrVClII1AXWBfAHdwljCHgFQAPWAv8CIgIhAOr9X/y5+//6Nfkl9yb2Fvb09XD14PR09Cz0MvTR9Lj1G/Yf9tH2nfiX+qn72fsE/AP9Af8WASYCSAJ2AkIDhwSOBasFAgWPBDIFfwYmB5AGUQVMBAAEdQRABW4FcAQkA+sCxgOXBLIENwSgA3AD8AO2BMgE3APDAmsC4wJ0A1QDRALLANj/rf9//5L+Rf1X/Of7mvsQ+yT6F/mD+Pb4Cvqg+nH6Z/pF+8v8PP6T/2gB0wMRBkIHowd6CI0KXQ1kD1oPxw2FDIUMGg0ADU8LcAj2BXUExgIgADf9mfr89671DfRA8pzvO+2E7OXs4ew17Kbr5OsP7SXvvfGo86/0JPbX+Cf8K/+OATkDZwTaBf0HMwqgCwkMuAtcC3ILhgv1CqYJEAj3BoMG2QUSBKsBDQCi/53/Qf9V/g79Gvw4/D79J/42/t/9C/7l/g8ANwEEAkgCYgLvAvkD5QQ2BQ4F8wQgBSYFoQTyA5UDQgOEAmMBNABG/6z+Nf6f/fH8V/zZ+3z7NfsP+zv7ofvx+yf8h/wt/fT9q/4y/33/u/9IABsBowGPATAB/wD6AAEBCgGzALz/if6p/Wj9if1o/br86ftu+1z7lPvq+0X80fy4/bv+hv9EAEkBeQKGA1oEFwXVBYYGDQdSB0MHAAfnBg0H5gb2BWoECwORApUCCQKGAIr+6Pw4/FX8Y/yS+zH6TvlO+bn5AvoL+hP6cPpI+yj8cfxW/Ln89f1x/1gAggCAANcAlQF3AvECrgIgAu0BPwKpAooCtwHBAFkAcAB3AA8AP/92/kH+n/73/tX+S/7E/cz9jv5n/7n/jv9X/4T/MQAgAdEB8AG6AcMBXgItA30DGwOEAk4ClgLlArcCDAJrASwBMAE0AfwAfAD4/7f/qP+F/0T/Gv8h/zz/VP9H//X+oP6m/hL/rv/u/4v/9f6q/gT/5P+HAGgA0P9s/6j/SgCpAFQAuv+w/z8AsQCYAAYAcf9y//r/YQA7AI3/3v7V/m7/9f/O/wr/Uf41/rX+Jv/s/if+d/1Q/ZP91P3O/ZX9aP1y/aL9sP2A/Xj93v1f/qv+v/6+/uD+UP/v/2kAjABuAGoAxgBgAeIBFwIQAgQCGgJSAoQCjwJ9AnsCpwLOAqcCVgI/AmsCewJPAhEC0QGfAZkBngFnAfsApQB+AGoAZABhADwA8//E/9f/7//X/7b/vf/X/+T/9f8OABEA/P/+/zwAigCaAGoAQQBTAIUAoQCKAFMAKgAsAEoATgAiAO3/yP+5/77/tP+E/0X/GP8M/yX/S/9K/w//0/7N/vP+D/8B/9X+r/6r/rv+wP6w/pj+l/7E/gX/Jv/8/pn+YP6n/j7/nf95/xT/4f4F/2D/sv+l/z7/+/41/7D/7//O/4f/Xv96/7T/zf/H/73/z/8RAFIASQAQAAAAMwCEALsArABmADgATwCMAL4AzQCzAJYAogDPAPcADgEYARsBKAFNAXkBjgGGAXMBaQFsAWoBVgE6ASUBDwHtAMwAsgCWAHAASQArAAwA3f+m/4z/k/+V/3n/Tf8t/zD/Vv9//4P/af9X/1j/Z/94/33/c/94/6b/1f/M/5X/a/91/6P/wP+j/1b/Gf8b/0f/Z/9h/0H/Hv8Q/yz/Xv9x/1f/Nv8x/z7/S/9b/2r/b/92/5L/rv+y/6v/tP/c/xYAOQAsAA4AEwA7AG4AnQCxAJwAfwCFAKkAygDaAN4A4ADhAOEA4wDcALYAhAB6AJYApwCaAHkATgArABwAEQD8/+b/0/+7/6n/p/+p/6n/o/+L/2j/Wf9o/33/jv+e/6j/o/+Y/5v/qP+2/8v/7f8AAPD/zv/B/8r/2P/m//D/7P/h/+X/+/8UACgAMQAmAA8ABgAUACQAKAA0AE4AaQB8AIMAfgB9AJIAswC/ALEAogCwAOAAEQElARwBCAHwANQAuwCxALkAwgC0AJUAcwBHAAUAyP+x/7//zv/F/6j/iP9o/0T/Jf8Y/xD/CP8N/yX/OP86/zj/QP9H/0f/Sf9W/2P/Zv9p/3T/fv9+/3v/fv+F/4v/mP+o/6f/iP9p/27/kv+4/9D/3P/b/9H/yf/R/+X/9f///w0AIgAhAAUA7f/w/wcAHwAoACEAEAD9/+X/1//Y/9j/0P/O/9j/4P/i/+D/3//p/wQAKQBNAGsAeAB2AHYAewB9AIEAjwCfAKsAuADEAMoAyQC8AKAAiwCKAJIAlQCQAIQAcgBdAD4AHAANABoAMAA7AC8AEQD8/wEAFgArAEIAXQBuAHIAcQByAHsAkwCrAKwAnACUAJgAjgBtAE0AQwA/ADIAGQD1/8j/rP+s/63/lf91/2n/c/+I/5n/kv9w/03/P/9I/17/c/9z/2f/Zv9r/2H/UP9K/07/Uf9c/3L/h/+Q/5D/jP+P/5z/qv+u/6b/mv+W/53/pv+n/6L/of+p/77/0v/c/+H/4//l//L/DAAqAEoAZwBzAG4AYQBZAF8AcwCJAJkAnQCZAJsApQCzAL4AyADXAOgA6ADZAMkAxADSAOEA0gC1AKUAmgCOAIoAgwBlADwAJQAiAB4AEgAIAAMAAAACAP//6v/U/9H/2v/j/+X/2f/C/7L/sf+0/6n/kv+J/5b/of+c/5D/hv+A/4T/kf+W/4P/av9e/1f/V/9p/4H/k/+m/6//sf+7/8X/wf+6/7X/r/+x/8T/2//n/+b/5f/t//r/AAD7//z/CgAdACUAGAAAAPv/AgAFABQANgBPAFkAYQBpAHUAfgB6AHMAcABzAHEAYwBJADcANwBAAD0AKQAVAAwACQALAA4ACgAOAB8AKAAeABIACgAMABQAFQAPAA4ACwAEAAcAEgAeACMAEwD2/+v/7f/l/9z/3P/c/9r/1P/M/8P/s/+r/7T/vv/F/8b/vP++/87/0v/J/7//tv/H/+7/AQABAAMABwALAAoACQARAA4A+v/1//3/+f/x/+z/4P/c/+z/+//5//T//P8KAA4ACgAHAAkADwAWABYADQAEAAIABQALAA8ACwABAPr/9//3//f/AAATABkACwD+//j/9v/6//z/AQAaAD0ATwA+ABsACAAIAAoAEgAaAA0A+//0/+7/6P/o/+z/8//1/+r/3v/e/+T/4P/O/8L/yP/V/+D/4v/e/+T/8P/4//3//P/3//3/CAALAAQA+//r/9j/x//G/9z/9P/3/+b/0//I/77/tv++/9P/3//b/8//xP/A/8//8f8aADsAUABYAFcATABAAEIAVwBwAH4AdgBaAEgASwBNAEIANwA4AEQAVABmAHEAZABOAEcASQBDADgALwArAC4ANQAxABQA7//j//D/AgASABwAGQABAN//y//V/+z/AQAPAA4A+f/c/7//pf+Z/6r/zP/b/8r/sv+e/4f/ev+D/5j/nv+X/57/tP/A/7f/rf+2/9T/6//q/9//1v/U/9z/3v/V/87/0P/R/8//z//Q/9D/z//R/9D/xf+2/63/rf+x/7H/tP/G/+D/9f///wMADgAXABMAEgAmAFAAdgCBAH8AgQB7AGoAZQBvAHwAiACYAKoAsQCmAJMAdgBYAE0AXQB4AIEAbwBVAEEALwAoACoALQA3AEgASQA1AB4AGAAiACcAJwAnACgAKwAjAAQA3//G/77/vf+7/7T/r/+t/6r/o/+b/53/of+f/6P/sf+7/7v/tP+l/5P/gf97/4v/pf+5/8j/z//N/8r/zf/Y/+r///8GAPP/5P/1/wsAEgAUAB8ALAAvACMAFAASACYAQABHAEgAWgBeADsAEAADAA4AGgAeABwAGwAeACEAFwADAPX/6//m//D/AAAFAPf/6P/s//H/6//s//r/BwAUACEAIQAPAAAABAAWACUAKwAdAAMA9f/z//D/4//R/8r/1P/m//H/6//e/9z/2//T/87/0P/X/+b/9/8AAP//6//T/87/5P/8/wAA/v8IABcAGgAWABAADgAQAA0ACQALABIAFwATAAsABADz/9v/1f/e/+X/7f/4//v/9f/u/+//+v8RACcAKAAeACAAJgAlACYANABFAEUALgAYABUAKQBMAGQAZwBlAGEATwA3ADQAQwBLAEEANAAkAAcA6//e/+L/7f/0/+//5//l/+7/6//Y/87/0//P/8f/yP/T/+D/6//1/wQAEQAQAAIA+P/+/wcABQAAAP3/+v/r/9j/0v/W/9T/0P/T/9b/zP+5/6//sv+5/7z/vv+5/6X/mf+c/6L/sf/L/9z/2v/M/8H/vv/C/9D/3v/q//r/AgABAP3///8IABUAHgAnAC0AMQA+AE4AVQBVAFQAUQBIAD0AOQBBAEoATABOAFUAVwBPAEsATgBPAEcAOQAzADwASAA/ACwAIQAaABYAHgAnACcAHQASAA8AEgAVABgAIQAyADoALQAVAAQA/f/4//P/7P/c/8b/uf+8/8H/xf/E/8H/uf+u/6X/n/+h/63/wv/X/9r/y/++/73/zf/k/+z/5f/c/9n/3//j/+L/4//k/+L/4P/m//P/+f/8/wMABgABAPv/9//+/wwAEwAPABAAFAAUABQAFgAWABkAKAA8AEcAOAAZAAgADgAaAB8AHAATAAUAAwASAB8AIgAdABYAFwAVAAUA9f/w//L/8v/v//H/9//3//X/9f/2//b/8v/z//v/AAAAAPn/9P/2//r//P/9//7/+//2//v/BQAKAAYA///6//v//f/7//H/7P/0//v/+//4//f/+P/4//r//f/3//H/9/////7/9v/x//H/+P/9//n/8P/0/wEABQAEAAkACgD+/+v/4//o//H/+/8HABEAFAAQAAwACQABAPv//P8FABAAEgARABUAEQAAAPf/AwAUABoAIQAmACAAHgAmADYAQgA/ADgAOgA3ACoAIAAnADUALwAaAAkABwAWACMAJQAgABMA/v/s/+z/9P/w/+T/4f/m/+v/6f/l/+X/5P/h/97/2v/a/9z/2v/Z/9v/3P/U/8n/vv+5/8H/yf/K/8n/wf+z/7H/tv+8/8f/0f/d/+n/8//+/wIA+v/r/+n/8v/8/wMAEAAdAB4AFAAFAPX/7P/0/wUAHQAwAC4AIwAjACcAKgAsACwAKwAuADcARwBeAGwAWwA5AB8AFgAdADEAQQBEAEEAOwAxAB4ACQAAAAAA+//0//H/6//p/+r/7P/t/+f/4P/h/+b/7P/v/+z/6v/r/+v/7P/u//H/8//w/+3/+P8GAAMA9v/u/+7/9v/+//3//P/7//7/AAD8//j/9f/0//f//P8DAAYA///7/wAAAQD///v/AAARACMALAAsACgAHgARAAsAEAASAA0ACAAKAAoAAQD1/+n/4//f/9//5f/k/+D/4P/Q/7n/rv+q/6L/o/+y/8b/2P/m/+j/5v/s//v/CgAbAC8APAA3ACYAGQATAA8ADAAbADEAOwBDAEUAMgAZAA0AEwAgACYAHgAOAAAA+f/t/9r/xv/D/9P/7P8CAAYA9v/p/+//+v/+/wEACwAWACcARgBaAFsATwBCADcAKgAjAC0AOQA1ACIADwANABYAGgAVAA4AEgASAPv/2v/G/7r/sf+x/7D/pf+e/53/ov+y/7//xP/F/8P/xv/F/8H/w//C/8D/y//c/+j/7f/p/+P/5f/5/xMAIwAlACUAKAAvADAAJQAYAB4AOABYAGsAYwBHAC4AIgAgACoAQABYAGQAZABaAEsANAAVAAYAFAAmAC4AJwAMAO//3v/W/9X/2f/Z/9j/3f/i/9z/zv+7/63/tv+9/7v/wf/N/9X/3f/e/8n/sP+w/8X/1f/f/+n/7//y//X/8f/n/+H/4//v/wMAEwAWAA0ABwAMAA8ADwAVABUADQAGAP7/7f/Z/8//3P/x/wAA/v/l/9D/0//j//T/AQAVACgAJgAfAB8AGwAfAC0AOwBJAFIATgBFAEgAVgBnAG4AYwBOADgAIgAQAAkAAgD5//b/9P/k/9f/0//D/7P/vP/M/8v/wv/G/9T/4v/q/+X/1v/U/93/4//s//r/AAACAA8AIAAmABoACgAKABsAMQA4ACwAHQAPAAAA9P/x//b/AAANAB0AJQAaAAkA/P/z//H/7P/o/+z/7v/l/9P/wv+4/7b/vP/M/+X/+//7/+v/5P/s//v/BwAGAPz/9f/4/wIACwALAAUABQANABIAEgAQAA8AEQATABAADgANABIAJAAsABwACgAFAAcACgAQABQADAACAPb/5f/j//L//P8AAAAA///+//H/6P/t//X//P8AAPz/8f/s//T//v/8//f/+v8LACMALgAnABYABAD8//v/+P/w/+z/8v/8/wAAAQD/////AQACAAAAAAD9//3/BgAPAAwAAQD6//X/8//+/wsACgABAPv/+P/5//3/AwAFAP3/9v/5//r/+v/5//b/9/8DABEADQACAP7/+//7//3//v/+//3//f////7/+//0//T//v8FAA8AEgAPABIAEQAKAAMAAQANABkAGgAaAA4A/f/4//j/9P/0//f/+P/4//j/+v/4//T/+/8EAAcACAAAAPb/5//R/8X/x//W/+j/6P/f/+H/6//8/woADQAOAAwACgANABQAFgAMAAUAAAD6/wAABQAFAAgACwAHAAAAAQAIAA4ADgAGAAEAAAD+/wMADAAGAAEAAgAAAP//AAAFAAgADgATABUAFwAUABEAFgAVABAADwARAAsABAADAAIAAwACAPf/7//t/+3/8P/1//b/9//z/+z/4//e/+D/4f/o/+j/4f/p//P/+f8AAAUACAAHAAgADwAPAAwADgAPAAwACQAJABQAGQAVABAACAAGABEAGAAJAP3///8AAPz/+f/3//X/9P/4//3/AAD///3//f/+/wAAAQD///3//P8DABIAHQAYAAkAAAD8//v//P/6//r/+//6//v/+v/0/+z/5v/m/+n/8P/5/wAA/v/y/+7/+f8DAAMAAwAAAAAAAgAMABgAGwAYABEAEQAaACAAIQAcABsAJQApAB4ADQADAAAA/P/z/+z/7P/w//L/7//u/+7/7//s/+j/8//4//n/+P/s/+f/7P/r/+//+v/8//P/5f/k//P/AQAGAAYACwANAAgABgAEAAIAAwADAAIABAAFAAYABAD8//H/9P///wMABwAOABAACwAFAAUACAAIAAYABgAOABIACgAAAPv/+//8//r/+v/8//v//f///wAA///9//3/AAAIABEADAAAAPv//P////3//P8AAAEAAAD//wAAAgAEAAIAAAAAAAAAAgAAAAAAAwAEAAIAAQACAAIAAAD7//n//v8AAAAAAgABAAAAAwAGAAUABAAHAAsACwALABMAEgAGAP7/+//7//z/+//5//f/9//5//T/6v/r//b///8AAAAAAAD7//n//P8FABAAEwAOAA0ADgAOABAAEgARABQAFgAVABgAHwAbAA4AAwAAAAAAAwAGAAgABgACAAAA+v/z//L/9v/4//b/9f/z//D/8f/y//L/8//1//f/9v/2//f/+f/6//b/9v/5//X/7v/q/+r/8P/w/+X/2f/X/93/3v/X/9L/zf/L/9D/2//j/+T/6v/7/wcABwD+//f///8QABsAGAARABIAFgAVABUAIAApACgAIwAhACMALQA5AEIATABSAE4AQgA1ADUAPwBAADsAPwBFADwAKAATAAcACQAOAAoAAwACAAUABwACAPT/5v/i/+T/4v/h/+L/3//b/97/5P/n/+H/2v/d/+f/7f/v//H/9v///wEA+P/t/+r/5f/i/+X/6//w//H/6f/k/+j/4v/S/8f/zf/g//T/9f/w//X//v8EAAoADgARABMAFQAfACkAJQAYABAAFAAiACwAJwAcABwAIAAgABsAGAAWABQAEwANAAAA8//1//n/9v/t/+f/6P/l/9r/0v/Q/9P/2v/l/+//+v8AAP7/8//m/+b/9P8AAAEA/v/1/+f/3//k//H//f////n/+f/6//T/8//6/wYAEAATABEADgAJAAcADAARABUAHgAnACkALQAuACMAFwAbACsANgAqABUACgANABcAHAAZAA8AAwD7//n/9P/w//H/8P/p/9r/zP/I/83/1f/a/9z/2v/V/9P/1P/R/87/zf/X/+v/+v8AAAgADwAUABMAEwAeAC8ANgA0ADUAPABFAEkAQwA5ADgAQABCADsAKwAeABgAEgAIAPv/8P/t/+r/5f/m/+r/6f/m/+b/7f/u/+f/4//h/97/3//n//D/8f/t/+n/6P/m/+P/6P/x//b//f8DAAEA+//1//L/8//x/+3/7f/v//H/8v/v/+3/7v/x//b/+//+/////f///wYADwAVAA8ABwAGAAMAAAABAAUACgATABgAGQAWAA0AAwACAAMABAAEAAQAAwADAAAA+//8//7/AAAAAAAA///9////AQAFAAcABQADAAQAAAD7//z//P/8/wAA///9/wAAAAD8//v/AQAKAA4ABgD+/wAAAQAAAP//AAADAAAA+//+/wQABwACAP7//f8BAAUABAABAP7//P/8//3//f8AAAQAAwD2/+H/1f/S/9T/3//t//n/AAAAAP3/+f/z//b/BQAXAB8AHQAZABMADAALABIAGgAlAC8AMwAtACEAFQAXACIAIgATAAYAAQD+//j/8//5/wIAAAD1/+//7P/r//D/8//z//D/8f/2//n/+P/2//b/+/8BAAkAEAATABoAHwAZABAADgAXACUALAAlABQAAAD8/wQACwAGAPn/8f/v//L/9f/w/+3/7//w//H/7v/s//H/9v/y/+z/7P/w//L/8v/y//T///8HAP//8P/p/+f/6P/s/+//9v8AAAYAAAD5//L/7f/0/wAAAwAFAAcABAACAAEA/P/8/wEACgANAAkABQAAAP//AAADAAUAAQD6//X/9v/7//3//P/7//r/8//x//r/BgAMAA0ADQALAAwACwAHAAwAEgANAAgACQAOABkAFwAIAAIABAACAAAAAQD///v/9v/1//n//P/2/+7/7v/1//z/AAD///z//f8EAAcACQAJAAYABAAKABIAFgAVAA4ADAAMAAwADQANAAsACgALAA8AEQAGAPr/+f/9/wEAAQD+//r/+P/x/+v/7//2//r//P///wUADAAQABQAHwAqACgAFwAJAAAA+//9//3/AAAIAA8AEwAZABkAEgAJAP//9f/u/+z/7P/t//D/7//q/+P/3f/b/97/3v/b/9r/2f/Z/9f/1P/T/97/8f/6//D/2P/I/8v/0//c/+r/+P8EAA8AEgARABMAFwAbABsAHAAdABoAGwAfACIAIQAaABMAFQAZABwAHAAZAB0AKAAxADMAMQAsAC0ANQBCAEkAQwAvABgACgAJABIAHQAjACQAIAAXAA8AAwD1/+j/3P/U/9P/1v/e/+T/3//U/8v/y//N/8r/zv/W/9b/0P/S/9f/3P/d/9v/2f/Z/9T/y//M/9r/7f/3//f/8//1////BQAFAP3/7//l/+j/7//2/wUAHAAoACYAHQAVABkAHgAgACMAJQAoAC8AOAA8ADcAJgASAA0AGwAoAC0ALQAqACcAJAAeABcAEwATABkAHgAXAAgAAAD4//P/9f/3//P/7f/q/+X/5v/o/+f/6f/q/+j/6P/q/+n/6f/r/+7/7//w//H/9P/4//f/9//1//P/9//6//z//v8AAP///P/7//3/AAAFAAcAAAD6//z/BAAPABEACQD///v//P/9//7/+P/1//n//f/+//7///////3/+v/6//r/+//5/+z/3v/d/+T/6P/k/9z/2//c/93/2v/Z/+b//f8MABAAEgAZAB4AHgAcABsAIAAoACgAJQAhABwAFgAQAAwADQANAA4ADgAKAAMA//8BAAcACAAJAAkABQAFAA0AGQAcABcAFgAYABsAHgAiACQAIAAZABQADQAKAAsADQAPAA0ACwABAPD/5f/l/+j/6P/m/+L/2//W/9f/3P/d/+D/6P/o/+P/6f/1//r/+//+/wAAAAAFAAoADQANAA8AEwAVABUAFgAQAAgAAwAIAAoAAAD5//H/7v/y//P/9P/0//T/8//0//j//P/9//L/4f/j/+3/7//s/+X/3//f/+L/6f/0////CAANAA0ACAAIAAoACwAMAAsACwANABAAFQAdACYAKgAkABoAEAAIAAUACgARABIACwABAP3//v///wAAAAD9//3//f/8//n/9//4//r/9v/s/+L/4f/l/+z/7v/v/+7/6P/n/+v/8v/5//r/+v/+/wAAAwAJAAwADgAOAAYA/f/8//v/+P/+/woAFAAWABIAEQATABYAGwAiACcAJgAgABkAGAAbABgAEwAQAA0ACgAIAAoADQAIAP7/9v/2//z//P/5//3/AwADAAIABAAEAP7/9v/y//P/+P/3//L/8v/0//f/+f/6//z//f/+//7///8AAPn/9P/0//D/7v/w//X/+v/9//v/+f/5//r//f8AAP///v8BAAEAAAD6//T/9/8AAAQABQAEAAQABQAIAAMA+v/3/wAABgAHAAUAAwACAAAAAAD//wQACwAOAAoA///5//n//P/6//n/+f/6//z/+//7//z//v////7/9//t/+3/8//3//z////9//v/AAAEAAcACwAMAA8AFQARAAoAEAAaAB0AEQAAAPb/+P8AAAgAFAAdABkAEgAMAAkABwADAP///v/7//L/7v/x//H/8f/3//j/9P/y//D/7//z//b/9v/4//b/6v/l/+n/7f/v//D/7//y//j/+P/1//f/+v/7//z//v/+//v/+P/7/wQACAAFAAUABQAAAPv/9//7/wMACAADAP3///8AAAQACwAOAA4ADgALAAwAEgAUABAAEwAZABMABwD///3/AAAAAP3//v8AAP///v/+/wAAAAACAAEAAwAEAAMAAwABAAAAAAD///3//v8AAP7/AwATACMAJwAiABoAFwATAA0ACwALAAsACAAEAP7/9//y//D/8f/y//P/8//1//b/9//8/wAA///6//f/9v/6/wAABAAEAAAA+f/x//L/9f/0//b/+f/7//v//P/+////+//u/+P/3v/e/+j/9P/5//7/AgABAP7//P/6//3/BQAHAAUABAD///v///8EAAYABQAAAPv//f8BAAQABgAGAAQABAADAAAAAAAEAAkADgATABEADgAPABEAEgARABAAEgAQAAYA/P/7////AwALABEAEQAOAA4ADgALAAkACAAGAAYAAgD6//b/9//5//f/9P/z//X/9P/v/+7/9P/7/////P/4//b/8f/t/+r/5f/g/+L/6//w//T/+P/8/wAA/v/3//D/7//1//r///8GAAoACAACAPz/+/8AAAUACAAGAAIAAgAIAA8AFQAUABMAFAASAA8AEAAWACAAJAAgABYACwACAPz///8HAAkABgAMABgAHgAdABcACgD8//X/8//v/+//9f8AAAkADQAFAPr/7//s/+//8f/v/+v/5//l/+D/2v/b/+P/6//u/+7/7P/w//n//v//////AQAAAPz//P/+/wAABQAFAAEAAAD//wAAAwAEAAAA//8FAA4AEQAMAAUAAgAFAAYAAgAAAAEABAADAPr/7//q/+3/+f8CAAUAAgABAAIAAAD9//j/8//y//X/+P8AAAoADgALAAgABQAHAA4AFQAaACIAKAAoACIAHQAcABkAFQAPAAkAAgD9//3///8AAP7/9//y//D/8v/x//L/9//8//3/+f/1//T/9f/3//b/9P/v/+3/8v/1//L/8//3//j/9v/v/+j/5P/l/+3/9f/2//f/+f/5//r///8EAAkACgAJAAkABwAIAAgABwAIAAcABgAGAAgACwAKAAYAAwACAAMAAwAEAAQAAgACAAEAAAAAAAAA/v8BAAYABwAGAAkADgATABQAEAANAAsACAAFAAMAAAD9//z///8EAAQA///7//7/BQAJAAsACwAJAAcABQAAAP7/AAAEAAcABgAAAPf/9P/2//j/+//8//n/+f/9/wAAAQABAAMAAwAAAPv/+P/6//z/+f/4//T/8f/0//n/+v/7//v/+P/0//H/8P/v//P/+P/4//P/7v/v//b//v8BAAMAAgABAAUACAAIAAgACAAHAAcABwACAAAABgAJAAkACAAGAAMABQAFAAsADwAQAA8ACAACAAMACAANAAoABAABAP7//v///wIABwAHAAcACAAFAAMAAQAAAAIAAQD+//z//P/9//z/+v/6//v//P/7//z//P/+/wAA/v/9//3//f///////v/9//r/+f/7////AAADAAYABQAFAAYAAwAAAP7//v/9//n/9P/w/+3/7v/x//f/+f/5//z///8CAAQABwAJAAkACQAJAAYABQAFAAQABgAIAAsADgAQAA4ADQAOABAAFAAYABkAGAAWABMAEAAMAAMA/f/+/wAAAgAFAAMA/P/0//H/8v/0//f/9//2//b/9//2//H/5//l/+f/5P/i/+L/4P/h/+f/7f/u//L/+v8CAAQAAwADAAQABQAGAAgABwAIAAgABwAEAAIAAwAHAAoACwAIAAMAAQABAAEAAQABAAAAAQACAP7/+f/5//3/AAADAAQAAwADAAUABgAFAAMAAwAEAAQABAAEAAMABAAEAAEAAQACAAYACwAMAAwADgATABgAGwAbAB0AIQAkACMAHAATAAoABwAGAAIA+//z/+z/6v/r/+3/8f/w//D/8v/v/+z/7P/t/+v/5//i/+L/5v/p/+r/6P/n/+b/6f/s/+7/8v/6/wAABAAFAAUABAADAAUABwAHAAoAEAARAA8ACwAJAAsADAAMAAsACgAMABUAGwAXAA8ABQABAAEAAQABAAAA/v/8//7//f/8//z//v/+//v/9//0//X/9v/8/wEAAQAAAP///v///wAAAAACAAEAAAAAAAAAAAABAAAA/P/6//z/AAADAAIAAQAAAAAAAAABAAAAAQAHAAwADgALAAcACAAPABMAEAAJAAAA+f/2//b/9//4//r//P/8//z//f/+/wAAAAD+//7//f/+//////8BAAcADQASABIADAAKAAwAEAAOAAYA/f/0//H/8//2//b/9f/3//v//f/8//3//P/9//7/+v/y/+v/6v/q/+v/7v/x//L/+P/9/wAAAwACAAAAAAABAAAAAQADAAQABAAFAAUABAABAPr/8v/u//D/9/8AAAcABgAHAAoADAALAAkABgAEAAcACAAHAAQAAQAAAP//AAAAAAQADgAZAB4AHAAUAAoAAgD+//3//P/6//v//P///wAAAAD+//z/+//7//z//v/9//3//f/8//3/AwAHAAkADQAOAAsACgALAAkAAwD///z//v8AAAEABgAJAAYABQAHAAkACQAFAAEA/f/5//b/9v/1//b/9//5//3/AAAAAPv/+P/2//T/8//y//L/8P/v//L/+P/8//3/+f/0//T/9f/4//v////+//v/+//+/wAA///9////AwAIAAwACwAGAPz/9v/5//z//P/6//n//f8EAAwADwANAAkABwAIAAoADAALAAkACwAPABEADwALAAwAEQAWABkAHAAcABoAFwAYABoAGgAWABAABwD8//T/8//z//L/7//t/+3/7v/w//P/9P/z//P/9P/0//b/9//4//f/+P/6//z///////v/+f/6//7/AQAEAAIA/v/5//j/+//+//3/+//7//r//P/+//3/+P/y//D/7//w//D/7//u//H/9f/9/wQABgAGAAcACQAJAAgABgAEAAMAAwAEAAIAAQACAAQABAAEAAIAAAAAAAAA///+////AAAAAP//AAACAAQABgAGAAgACAALABEAFQARAAwACgAJAAoACgAIAAQAAwAFAAcACAAHAAQA/v/5//n/+f/7//7/AAAAAAAAAAAAAP7//P/6//z/AAABAAMACgARABMAEgAOAAYA///8//r/+f/3//X/9v/4//n/+v/5//X/7//s/+v/6//s/+r/5//m/+j/7f/0//r//f/8//z/AAAHAAoACgAIAAQAAgACAAQABAAEAAUABgAGAAcACAAIAAcABgAEAAMAAQABAAUABwAHAAYABQAHAA0AEQASAA0ABwAKABIAFwARAAUAAAACAAsAEAAOAAcAAAD//wEABAACAPz/9//2//f/9//2//b/9//3//f/+P/5//n/+f/5//v/+//5//n//P/9//z/+v/5//n/+v/6//r/+v/4//X/9v/6//z/9//y//D/8f/0//b/9f/0//P/9f/6//7/AAABAAMABwAIAAUAAwADAAQABQAGAAcACAAHAAYABgAIAAgABwAHAAgACgALAA0ACwAJAAoAEAAaABwAFgAPAAwADwATABIADQAKAAoADQAQAA0ACgAHAAUAAAD4//L/8v/2//b/8f/v/+//8v/0//T/7//o/+b/6//x//X/9P/z//L/8P/y//f//v////3//v8AAAIAAwACAAAA///+////AAD//////f///wAAAAD//wAAAgAEAAIAAAAAAAAAAAAAAAAA///+//7/AQADAAMAAwADAAQABQAEAAQAAwADAAIAAgACAAQABAADAAMAAgABAAAAAAAAAAEABgAMAA0ACwAFAAEAAAAAAP///v///wAAAgADAAEAAAAAAAAAAAD///7//f/9//z//P/7//z/+//7//z//f/8//z//P/8//7//v/+/////v/+/wAAAAAAAAAAAQAGAAkACAAFAAEA/v/9//////8AAAAA//8AAAEAAgACAAAAAAAAAAAAAAABAAMAAgACAAEAAQABAAMABAAFAAQAAAAAAAEAAQAAAP3/+//7////AQABAP7/+//8///////9//z//f8AAAAA///+//v//v8AAAAAAAD//wAABQAHAAMAAQADAAcACAAFAAEAAAAAAAAAAAAAAAAAAAAAAAAAAAD//wAAAAAAAAAA/v/+//7//v/+//7//v/9//r/+P/5//3/AAAAAAAA/v/7//j/+f/5//r/+f/2//j//v8EAAYABAACAAAAAQADAAUABAACAAEAAgADAAMAAgACAAIAAwACAAMAAwADAAMAAwABAAAAAAABAAAA/P/4//f/+/8AAAIAAQABAAIABAAFAAQAAgAAAAEABAAFAAUABQAHAAgABwAFAAQABgAIAAsACwALAAsACgAHAAMAAQAAAAAA/v/6//n/+v///wMABAABAAAAAAD///3/+v/3//j/+f/6//v/+v/7//z/+v/1//P/9P/4//r/+f/4//j/+v/8//v/+P/4//j/+v/7//v/+//9/wEABQAHAAUAAwADAAIAAQAAAAAAAgAEAAQAAgACAAEAAQACAAIAAQABAAIAAwADAAEAAAAAAAEAAQAAAAAAAAABAAMABQAEAAMAAwAEAAUABQAEAAMAAgACAAIAAQAAAAEAAgACAAEA/////wAABAAFAAIAAAAAAAIAAwABAP////////////////7//v/9//3//f/9//3//v8AAP///v/+//3//f/8//v//P/+//7///8AAAAAAQAAAAEAAQAAAAAAAAACAAMAAgABAAEAAQABAAAAAAAAAAEAAQABAAIAAgACAAEAAQAAAAAAAAAAAAAA/v/+////AQABAAEAAAAAAAAAAAD//////v/9//3//v///wAAAAD//wAAAAAAAAAAAAAAAP//AAD///7//v///wAA/v/9//z/+//8//v//P8AAAAAAQAAAP///v8AAAAAAgABAAEAAQABAAYACQAJAAoACwALAAoABwADAAAA///+//7///8AAAAAAAAAAP7//f/9//3///8BAAIAAQAAAP////8AAAEAAAD/////AAACAAUABQADAAMABQADAAEAAAAAAP///f/8//z//P/9//v/+f/5//r/+//9//z/+v/6//z//v8AAAAA/v/7//r/+f/5//z//v8AAAAAAAAAAP7//f/+/wAAAQABAAEAAQABAAIAAgACAAEAAQACAAMAAgACAAIAAwADAAQABAADAAMAAgABAAAAAAAAAAAAAQAAAAAA/v/9//7/AAAAAAAA/////wAAAAAAAAAAAAAAAAEAAQABAAAAAAAAAAAAAQAFAAkACgAIAAUAAgABAAIAAgABAAAA/v/7//r/+//8//3//f/9//3//f/9//3//f/+////AAAAAAAAAAAAAAIAAwAAAAAAAQADAAMAAwAAAAAAAQACAAMAAQD///z//P/9////AAAAAAAAAAD///7//f/+/wAAAAAAAP///////////////wAAAAAAAAAAAAAAAP////8AAAEAAQD///r/+P/5//v//v8AAAIAAAD9//v/+//9/wAABAAGAAYAAwAAAP7/+//6//z//v/+//z/+v/8////AAADAAUABQAFAAQABQAGAAcACAAJAAoACgAIAAYABQAGAAgACwAMAAkABQAEAAYACQALAAcAAwAAAP3/+//4//j/+f/6//v/+//7//v/+//9//7////+//3//f/9//7////+//z//f/9//3//f/8//v//P/+////AAD///7//f/9//3//v///////v/+//3//v8AAAAAAAAAAAAAAAAAAAAAAAAAAAAAAAAAAP////8AAAIAAwACAAIABAAGAAgABwAGAAUABQAFAAMAAQAAAP3//P/9//7///8AAP///v/9//7/AAABAAMABQAGAAIA///9/////v/8//z//P/+////////////AAAAAAAAAAAAAAAAAgAAAP7/+//6//v/+//4//f/9//3//n/+////wEAAgAFAAYABgAFAAMAAAAAAAIAAgACAAEAAAAAAAAAAAABAAIAAwAGAAYABAADAAUACwAMAAoABQABAAEAAwADAAEA/v/9//3//P/8//z//v8BAAMAAAD///3//P/9//3//f/+//7//v/+//7//f/9//3//v///wAAAAAAAAAAAAAEAAQAAAD///////8AAAAAAAAAAAAAAAD+////AAAAAAAAAAAAAP////8AAAAAAQACAAIAAgABAAAAAgAEAAUABQAGAAcABQACAAAA/v/9//7//v8AAP///f/9//7///////7//v/8//r/+f/6//z///8BAAEAAQD///v/+////wEAAwACAAMAAwADAAEAAAD/////AAAAAP7/+v/5//r//P/+/////f/8//r/+//+/wAAAgADAAMAAwACAAAAAAAAAAQABgAEAAIAAgAFAAoADwAOAAkACAAGAAYAAgAAAAIABgAIAAYAAgD8//j/+f/6//v/+//5//n/+v/5//n/+f/7//v/+//8//3//P/8//3/AAACAAAA/v/////////////////+//7///8AAP//AAAEAAgABgADAAAAAAADAAUABAADAAAA/v/9//3//////wAAAAABAAEAAgACAAIAAgADAAQAAwACAAEAAQABAAEAAQAAAAAAAAAAAP7//P/7//z//f/+//z/+//6//n/+//9//3/+f/3//j/+//+//7//P/9/wAAAgABAP////8AAAAAAQABAAEAAgAEAAYABgAGAAUABQAFAAUABAADAAMAAgABAAEAAQAAAAAA//8CAAgACwANAA0ADQAQABAAEAARAA8ADAAKAAYAAwABAAMAAgAAAP7//P/9/wAAAQABAAAA/v/+/////v/7//b/8v/x//D/8P/w//D/8f/x//T/9//3//f/9v/4//n/+//9//7//v/9//z/+//7//v//P/8//z/+//8////AAD+//j/+f/9//3/+//4//X/9f/3//r//P/8//v/+//7//z//f8BAAYACAAJAAcABwAHAAgACQAHAAgACQAKAAsACQAIAAgABwAIAAkABwAFAAQAAgACAAMABAAEAAMAAgACAAIAAgADAAIAAgACAAEAAgACAAIAAgABAAEAAAABAAMABAAHAAwADwAQAA8AEAARABIAEQAOAAsACgAJAAYAAQD9//n/9v/1//X/9f/1//b/9v/2//f/+f/6//r/+f/4//j/+P/4//j/9//3//X/9P/2//f/+v/7//j/9f/3//r//f/+//z/+f/6//v//P/7//n/9//3//j/+f/5//r/+v/6//z///8CAAUACAAJAAsADQAOAA0ADQANAAsACQAIAAcABgAGAAcABgADAAQABQAIAAoADAAPABIAEwAVABMADwANAA0AEAASABEADQAIAAMAAAD+//3//P/7//j/9//2//T/9f/2//b/9v/2//b/9//3//j/+f/5//n/+f/5//r/+v/5//j/+f/5//n/+v/7//v/+//6//n/+f/6//z//P/8//3//v/+/////v/+//7////+////AAAAAAAAAAAAAAEAAgACAAIAAQABAAIAAwADAAIAAgACAAEAAAD+//7///8AAAEAAQABAAIAAgAAAAAAAAAAAAEAAAAAAAAA//////////8AAAAA///+////AAADAAQAAgABAAEAAgACAAMABAAEAAQABAACAAIAAwAEAAMAAgABAAEAAAAAAAAAAAAAAAAAAAAAAAEAAQABAAIAAQABAAQABgAGAAUABAAEAAQAAgAAAAAAAAACAAIAAAD///7//v/+//3//P/7//z//f/8//v/+v/8//7//v/9//3//f///wAAAAAAAAAAAAAAAAAAAAAAAAAA//8AAAAAAAAAAAAAAAAAAAAAAgADAAQABQAEAAQAAgAAAAAAAgAFAAYAAgD///7//f/+///////+//3//v/+////////////////////AAAAAAAAAAD///////////7//v///////////wAA/////wAAAAAAAAAAAAAAAAAAAAAAAAAAAAAAAAAAAAAAAAEAAAD/////AAAAAAEAAQABAAAAAAAAAAAAAAAAAAAAAAAAAP///////wAAAAD///7//////wAAAAABAAAAAAD//wAAAQABAAEAAQABAAEAAgABAAEAAQABAAMABAABAAAAAQAFAAYAAwAAAP////8AAAAAAAAAAAAA//8AAAAAAAAAAAAAAQAAAAAA/v/+/wAAAQABAAAAAAAAAP//AAABAAAAAQACAAIAAgABAAAAAAAAAP//AAAAAP////////7////+//7///8AAAAA////////AAAAAAAAAAAAAAAAAAAAAAAAAAAAAAAAAAAAAAAAAAAAAAAAAAD+//7/AAAAAAAA/////wAAAAABAAAAAAABAAEAAQABAAAAAQAAAAAAAAAAAAAAAAAAAAAAAAAAAAAAAAAAAP//AAAAAAAA//8AAAAAAAAAAAAAAAAAAAAAAAACAAIAAQAAAAAAAAAAAAEAAQAAAP//AAAAAAAAAAAAAAAAAQACAAEAAAACAAMAAwADAAAA////////AAAAAP/////+///////+//3///8AAAAAAAAAAAAAAAAAAAAAAAAAAAAAAAAAAAAAAAAAAAAAAAAAAAAAAAD//wAAAAABAAAA//////7///8AAAAAAAAAAAAAAAAAAAAAAAABAAEAAQAAAAAAAAAAAAAAAAAAAAAAAAAAAAAA//8AAAAAAAAAAAAAAAAAAAAAAAAAAAAAAAAAAAAAAAAAAAAAAAACAAMAAQAAAAEAAAAAAAAAAAABAAEAAQAAAAAAAAACAAIAAQACAAIAAgACAAAAAAAAAAAAAAAAAP7//v/+//7//v/9//7//v/+//7/AAAAAAAAAAAAAAAAAAD///////8AAAAAAAAAAP7//f///wAA///9//z//f/+//7//f/9//3////+//z/+//9/wAAAgABAP////8AAAAAAgAEAAMAAwACAAIAAgACAAIAAQABAAAAAAABAAEAAAAAAAEAAQAAAAAAAAABAAEAAAAAAAAAAQABAAEAAgABAAAAAAABAAIAAgACAAMAAgAAAAAAAQACAAAA//8AAAAAAAD//wAAAAAAAAAA///+////AAAAAAAA/v/+//3////+//7//v////////8AAAAAAAAAAAAAAQAAAAEAAQABAAEAAgAAAAAAAAAAAAAAAAD+//7////////////+//3//v////////////////////7//v///wAAAAD//wAAAAD///////////7////+//7///////3//v///wAAAAAAAP////8AAAAAAQAAAAAAAAAAAAAAAAAAAAAAAQABAAEAAQABAAEAAQACAAMAAwADAAMABAAGAAUABAAEAAQABQAHAAcABgAFAAQABAAFAAQAAwADAAEAAAD///z//P/9//z//f/8//r/+v/6//r//P/9//z//P/9//3//f///////v/+//7//v/+//3//v////////////////////7///8AAAAAAAAAAAAAAAAAAAAAAAABAAIAAgACAAEAAQACAAEAAQABAAEAAQACAAIAAQABAAAAAAAAAAAAAAAAAAAAAAAAAAAAAAD////////////////+//3/+//7//v/+//7//z//P/+//7//P/7//z///8AAAIAAgACAAIAAQACAAQABAAEAAUABAADAAQAAwAEAAYABgAFAAQAAgACAAIABAAFAAQAAgABAAIAAgADAAQABQAGAAYABAACAAEAAQABAAIAAwACAAAAAAAAAP///v/+////AAD///7//v/+//3//f/+//7//v/+//7//v/9//7/AAAAAAAAAAD/////AAAAAAAAAAAAAAAA///+//z/+//7//z//f/8//r/+//7//v/+//7//v/+//7//z//P/8//z//P/8//z//f/+/wAAAgACAAEAAAAAAAIAAwAEAAQABAADAAMABQAEAAMAAgACAAIAAgACAAIAAAD////////+//z/+//+/////f/7//n/+//9//3//P/6//n/+//7//z//P/6//v//f/+//3//v8AAAEAAQAAAP//AQAEAAQABAAEAAQABQAGAAcACAAJAAoADAALAAoADAAMAA0ACwAKAAkACQAKAAkACAAHAAYABgAHAAgABwAEAAMAAQAAAAEAAQD///3//P/8//z/+v/3//f/+P/4//b/9f/0//T/9P/0//P/8f/x//L/9P/0//P/8P/v//H/8//z//L/8P/u/+7/7v/t/+3/7f/u//L/9P/1//T/9P/2//j/+P/5//v//v8CAAQAAgD/////AwAGAAcABgAIAAoADAAMAAsACgAJAAsADQAPAA8ADAAMAA0ADQALAAoADAAPAA8ADAAKAAgABwAJAAkACQAIAAYABwAIAAcABgAFAAQABQAGAAQAAgAAAAAA//////7//////wAAAAD///3//P/8//z//P/8//v/+v/6//v/+//6//f/9//4//j/+P/4//f/9v/0//P/8//z//X/+P/4//j/9//2//f/+v/8//z//P/+////AAAAAAAAAQACAAUABwAIAAgACQAJAAoACgALAAsADQAOABAAEQARABEAEQATABQAFAAVABQAFAAUABQAEwAQABAAEAAPAA0ACwAJAAkACAAHAAUAAwACAAEAAAD+//z/+v/4//f/9//2//P/8f/w/+//7v/t/+3/6v/o/+f/5//m/+f/5v/m/+f/5//l/+T/4//j/+P/5P/l/+b/5v/m/+j/6f/s//D/8f/z//X/9//4//n/+//9//7/AQAHAAkACQALAA0ADwAQABEAEQASABMAEwATABMAFAAWABYAFgAWABYAFgAWABQAEQAOAAsACwANAAsACAAGAAUABAADAAIAAAD///3//f/+/////v/8//v/+v/5//r/+//7//r/+v/4//j//P/8//z//v///wAAAAAAAAEAAgACAAIAAQAEAAgACwAMAAsACQAIAAkACgAMAAwADAALAAsACQAGAAMAAgADAAIAAAD9//v/+v/5//r/+v/6//r/+//6//n/+f/4//j/+v/9//7//f/7//r/+P/4//n//P/+//3/+//5//n/+v/6//v/+//6//v/+//6//j/+P/5//r/+v/4//j/+P/4//n/+f/5//v//P/+//3/+//9//7//v8AAAAAAAAAAAAAAAAAAAEAAwAEAAMAAwADAAQABAADAAMAAwAEAAUABAACAAIAAwAFAAUAAwAEAAYABgAHAAgABwAGAAQABQAGAAUABAAEAAQABAAGAAUABQAFAAUABgAFAAUABQAGAAYABgAFAAQABAAEAAUABQAFAAUABwAHAAcABgAGAAcACAAIAAgACQAJAAgACAAKAA0ADwARABIAEQARABIAFAAVABUAFQAVABcAFgAUABUAFQATABMAEQAPAA0ADQAMAAkABgAFAAUABgAEAAEA///6//b/9v/1//L/7//q/+f/5P/j/+L/4v/h/9//3v/d/9z/2v/Y/9f/1//W/9X/1f/W/9f/2P/a/9v/2//e/+D/4v/i/+T/5//r//H/9v/5//v//v8BAAUACgAOABMAFwAYABkAHgAjACYAJwAnACUAJwApACwALgAwADAALwAwADAALAAqACgAJgAjAB8AHQAcABoAFAAOAAkACAAHAAQAAAD9//n/9v/1//T/8v/x//D/7//u/+v/6v/o/+n/6v/q/+z/7f/u//D/8P/t/+//8v/0//X/9v/3//j/+f/7//z//v///wAAAAABAAEAAgAEAAUABgAGAAcACAAJAAsACwAJAAkACQAKAAkACAAFAAMAAgADAAMAAgAAAP///f/9//z//P/8//v/+//5//j/+f/5//n/+v/5//j/9//3//j/+P/4//j/+f/6//r/+f/6//z//f/+/////v////////////////8AAAAAAAAAAAAAAAAAAAAAAAABAAEAAgACAAEAAQACAAMABAADAAQABgAHAAgACAAGAAYABwAHAAkACQAIAAcABgAEAAQABAADAAIAAQABAAAAAAAAAAAAAAD///7///////7//f/7//n/+f/6//v/+//5//n/+f/5//n/+f/5//n/+f/6//r/+v/6//z/+//7//v/+//9//z//f/8//v//P/8//z/+//7//r/+f/5//n/+v/9//z/+//7//3//v/9//7////+////AAAAAAAA/////wAAAAADAAUABQAGAAcACAAIAAgACAAJAAoACgAJAAoACwAMAAwACwAKAAkACQAHAAUABwAIAAYABgAEAAMAAQAAAAAAAAD+//3//f/8//3//P/7//v/+v/5//n/+f/5//n/+f/4//n/+f/6//v//P/7//z//f/8//z//f/9//7//v/8//7//////wAAAQABAAAA////////////////////////AAAAAP////8AAAEAAAABAAEAAAABAAIAAgADAAQABAADAAQABQAGAAgACgALAAoACQAKAAwACwALAAsACQAIAAcABwAHAAYABgAFAAMAAgABAAAA/v/9//3//P/6//n/9//2//X/9f/1//b/9f/1//T/9P/1//T/8//0//T/8//y//P/9P/z//L/8f/x//H/8f/z//T/8v/y//P/8v/z//X/9v/3//f/9v/3//n/+v/5//r/+//7//v/+//9////AAABAAIAAwAFAAUABAAEAAQABQAHAAkACgALAAsACwAMAAwADAAMAAwADAANAA0ADAAMAAwADAAMAAsADQANAAwADAAMAAsACgALAA4ADgAOAA4ADgAPAA8ADwAPAA8AEAAQAA8ADgAOAA4ADQAOAA8ADwAQABAADwAMAAkACQAGAAMAAAAAAP3/+//4//b/9f/x/+3/7P/q/+j/5v/k/+L/4//l/+P/4//k/+T/4//h/+D/4f/j/+X/5P/j/+P/5P/l/+b/6P/p/+r/6f/q/+v/6v/q/+z/7f/v/+7/7//v//D/8f/z//T/8//2//n/+//7//3//v8AAAMABQAFAAYACgAMAA0ADgAPAA8AEQATABYAFwAXABgAGgAaABkAGQAaABkAGgAaABkAFwAWABYAFwAYABgAGAAYABgAGQAXABUAFAATABMAEQAPAA0ADQAMAAwACwAKAAkACQAGAAQAAwADAAMABAAGAAYABQADAAIAAQAAAP///f/8//r/+f/2//L/8P/s/+3/7f/q/+n/6P/o/+X/4//h/+D/4f/g/+D/4f/g/93/2//c/93/3v/f/97/3v/e/97/3//g/+L/5P/n/+n/6v/r/+z/7f/v//H/8//3//r//P///wIAAwAGAAsADgARABQAFwAZABsAHQAeACAAIAAhACIAIwAjACUAKAArACwALQAtAC0ALwAwADAAMAAyADEAMAAvACsAJwAlACMAIAAaABUAEgAPAAsABwAFAAIA/v/6//j/9P/x/+7/7f/r/+n/5v/k/+T/5f/k/+T/4//i/+P/4v/i/+H/4P/g/+H/4f/f/9//3//f/+D/4f/h/+D/4P/h/+P/4//i/+L/5P/l/+b/6f/t//D/8f/z//T/9//7////AAABAAMABQAIAAkACgANABEAEwAUABUAFwAZABkAGgAcABwAHAAbABsAGwAbABoAGwAaABgAGAAYABgAFwAWABYAFgAYABgAFwAWABUAFwAXABYAFAASABEAEQAQABAAEAAQABAADgAMAAkABwAGAAUABgAEAAIAAQAAAP///v/8//v//P/9/////v/8//v//P/8//z/+//6//n/+v/6//f/9f/1//b/9v/2//T/8//z//L/8v/w//D/8P/x//H/8P/y//L/8v/z//T/9P/1//f/9//3//j/+P/4//n/+f/4//j/+P/5//n/+f/6//n/+v/8//3//P/9//7///8AAAAAAAD+//7//v///wAA//////7///8AAAAAAAACAAIABAAGAAcACAAIAAkACgAJAAkACQAJAAgABwAJAAoACgALAAoACgAKAAoACgALAAsADAALAAsACwAKAAkACQAJAAkACQAKAAkACQAIAAgACAAKAAwADAALAAoACQAIAAYABQAFAAYABgAEAAQAAgACAAEAAAAAAAIAAQABAAEAAgAAAAAAAAAAAAAA///+////AAD///7//f/8//v//P/8//z//P/8//z//P/8//z//P/8//z//P/8//z//P/8//v/+//6//v//P/9//z//P/8//z//P/8//3//f/9//3//v/+//3//v/+//7//f/9//3//P/8//z//f/8//3//f/+//7///8AAAAAAAACAAIAAgADAAMAAwADAAMAAwADAAMAAwADAAMAAwADAAMAAwADAAMAAwADAAMAAwADAAMAAwAEAAQAAwADAAMAAwADAAMABAAFAAUAAwADAAMAAwACAAEAAgABAAEAAgACAAEAAQABAAMAAwADAAMAAwADAAMAAwACAAEAAQABAAEAAAAAAAEAAQAAAAAA///+/////v/+//7///////7//f/+//7////+//7//v/+//7//v/+//7//v/+//7//v/+//7//v/+//7//v/+//7//v/+/////v/+//////8AAP////8AAP//AAD///////////////////////////////8AAAAAAAAAAAAAAAD/////AAAAAAAAAAAAAAAAAQAAAAAAAAAAAAAAAAAAAAAAAAAAAAAAAAAAAAAAAAABAAEAAQABAAAAAQABAAEAAAABAAEAAQABAAEAAQABAAEAAQAAAAAAAQABAAEAAQABAAEAAQABAAEAAAAAAAEAAQACAAIAAgACAAEAAgACAAIAAgACAAIAAQAAAAAAAAAAAP//////////AAAAAP////8AAP/////////////////////+//7///////////////7//v/+//7//v///wAAAAAAAAAAAAAAAAAAAAAAAAAAAAAAAAAAAAAAAAAAAAAAAAAAAAAAAAAAAAAAAAAAAAAAAAAAAAAAAAAAAAAAAAAAAAAAAAAAAAAAAAAAAAAAAAEAAgACAAEAAQACAAIAAgADAAIAAQAAAAAAAAAAAAAAAAAAAAAAAAD///7//v/+//////8AAAAAAAAAAP/////+////AAD///////////7//////////////////////wAAAAAAAAAAAAAAAAAAAAAAAAAAAAD////////+/////////wAAAAAAAAAAAAAAAAAAAAAAAAAAAAAAAAAAAAAAAAAAAAABAAEAAAAAAAAAAAAAAAAAAAAAAAAAAAAAAAAAAAAAAAAAAAAAAAAAAAAAAAAAAAAAAAAAAAAAAAAAAAAAAAAAAAAAAAAAAAAAAAAAAAAAAAAAAAAAAAAAAAAAAAAAAAAAAAAAAAAAAAAAAAAAAAAAAAAAAAAAAQABAAEAAAABAAEAAQABAAEAAQABAAAAAAD//////////wAAAAAAAAAAAAAAAAAAAAAAAAAAAAAAAAAAAAAAAAAAAQABAAEAAAAAAAAA//////////////////////////8AAAAAAAAAAAAAAAD//wAAAAAAAAAAAAAAAAAAAAAAAAAAAAAAAAAAAAAAAAAAAAAAAAAAAAAAAAAAAAAAAAAAAAAAAAAAAAAAAAAAAAAAAAAAAAAAAAAAAAAAAAAAAAAAAAAAAAAAAAAAAAAAAAAAAAAAAAAAAAAAAAAAAAD//wAAAAAAAAAAAAAAAAAAAAD//////////wAAAAAAAAAAAAAAAAAAAAAAAAAAAAAAAAAAAAAAAAAAAAAAAAAAAAAAAAAAAAAAAAAAAAAAAAAAAAAAAAAAAAAAAAAAAAAAAAAAAAAAAAAAAAAAAAAAAAAAAAAAAAAAAAAAAAD///////8AAAAAAAABAAAAAAAAAAAAAAAAAAAAAAAAAAAAAAD//////////////////////////////////////////wAAAAAAAAAAAAAAAP////////////8AAAAAAAAAAAAAAAAAAAEAAAABAAAAAAAAAAAAAQABAAEAAQAAAAAAAAAAAAAAAAD//wAAAAAAAAAAAAAAAAAAAAAAAAAAAAAAAAAAAAAAAAAA///////////////////+//7//v////////8AAAAAAAAAAAAAAAAAAAAAAAAAAAAAAAAAAAEAAQAAAAAAAAABAAEAAQABAAEAAAAAAAAAAQABAAAAAAAAAAAAAAAAAAAAAAAAAAAAAAAAAAAAAAAAAAAAAAAAAAAAAAAAAAAAAAAAAAAAAAAAAAAAAAABAAAAAAABAAAAAAAAAAAAAQACAAEAAAAAAAAAAQABAAEAAAAAAAAAAQABAAAAAAD////////+///////+/////////////////////////wAAAAAAAAAAAAAAAAAAAAAAAP//////////////////////////AAAAAP////8AAAAAAAAAAAAAAAAAAP///////wAAAAD//////////wAAAAD//wAAAAAAAAAAAAAAAAAAAQABAAEAAAABAAAAAAAAAAAAAAAAAAAAAAAAAAAAAAAAAAAAAAAAAAAAAAAAAAEAAQABAAAAAAAAAAAAAQABAAEAAQAAAAAAAAABAAEAAQABAAEAAQABAAEAAQABAAAAAQAAAAAAAAAAAAAAAAAAAAAAAAAAAAAAAQABAAEAAAAAAAEAAQABAAIAAgACAAIAAwADAAMAAwAEAAQABAADAAIAAQACAAIAAgABAAAAAAAAAP////////7//f/8//z/+//8//v//P/8//3//f/8//z//P/8//z//P/9//3//P/7//v//P/9//7///////7//v/+//7//v/+//7//v/+//7////+//7///////7//v8AAAAA/////wAAAAAAAAAAAAAAAAAAAAAAAAAAAAAAAAAAAAAAAAAAAAAAAAAAAAAAAAAAAAAAAAAA//8AAAAAAQABAAAAAAD///////8AAAAAAAAAAAEAAQABAAEAAQABAAIAAgACAAIAAgACAAIAAwADAAMAAwADAAQABAAFAAUABgAGAAYABwAGAAUABQAGAAUABQAFAAMABAAEAAMABAAEAAMAAwADAAIAAgACAAEAAAAAAAAA///+//3//f/8//z/+//7//r/+v/6//r//P/8//z/+v/5//n/+v/6//v/+//7//v/+//8//3//f/9//3//f/9//3//f/8//v/+//7//r/+v/7//v/+//8//z/+//6//r/+v/8//3///8AAAAAAAAAAAEAAgACAAMAAwAEAAQABAAFAAUABQAFAAUABAAFAAUABQAGAAYABgAGAAUABAAEAAQAAwADAAIAAQABAAEAAAAAAAAAAAABAAEAAAAAAAAAAAAAAAAAAAAAAAAAAAAAAAAAAAAAAAAAAAAAAAAAAAAAAAAAAAAAAAAAAQACAAEAAAAAAAAAAQAAAAAAAAAAAAAAAAAAAAAA//8AAAAAAAAAAAAAAAAAAAAAAAD///7//v/+//3//f/+//7//v/+//7//v/+//7//////////v/9//3//f/+/////////wAAAAAAAAAAAAAAAAAAAAABAAIAAwACAAEAAAAAAAAAAAABAAEAAQAAAAAA//8AAAAA///////////////////////////////////+//7/////////AAD/////AAAAAAAAAAAAAAAAAAAAAAAAAAAAAAAAAAAAAAAAAAAAAAAAAAAAAAAAAAAAAAAAAAAAAAAAAAAAAAAAAAAAAAAAAAAAAAAAAQABAAEAAQABAAAAAAABAAEAAAAAAAAAAAAAAAAAAAAAAAAAAAAAAAAAAAAAAAAAAAAAAAAAAAAAAAAAAAAAAAAAAAAAAAAAAAAAAAAAAAAAAAAAAAAAAAAAAAABAAEAAQAAAAEAAQABAAEAAAAAAAAAAAAAAAAAAAAAAAAAAAAAAAAAAAAAAAAAAAAAAAAAAAAAAAEAAAAAAAAAAAAAAAAAAAD/////AAAAAAAAAAAAAAAAAAAAAAAAAAAAAAAAAAAAAAAAAAAAAAEAAgACAAIAAgACAAIAAwACAAEAAQABAAAAAAD//////////wAAAAD///////////////////3//v/+//3//v/9//3//f/+////AAAAAAAAAAAAAAAAAAAAAAAAAAAAAAAAAAAAAAAAAAAAAAAAAAAAAAAAAAAAAAAAAAAAAAAAAAAAAAAAAAAAAAAAAAAAAAAAAAAAAAAAAAAAAAAAAAAAAAAAAAAAAAAAAAAAAAAAAAAAAAAAAAAAAAAAAAAAAAAAAAAAAAEAAQABAAEAAQAAAAAAAAAAAAAAAAAAAAAAAAAAAAAAAAAAAAAAAAAAAAAAAAAAAAAAAAAAAAAAAAAAAAAAAAAAAAAAAAAAAAEAAQAAAAAAAAAAAAAAAAAAAAAAAAAAAP//////////////////AAAAAAAAAAAAAAAAAAAAAAAAAAAAAAAAAAAAAAAAAAAAAAAAAAAAAAAAAAAAAAAAAAAAAAAAAAAAAAAA//////////////7//v////////////////////////////7//v/+////AAAAAAAAAAAAAAAAAAABAAIAAgACAAMAAgACAAEAAQABAAEAAQABAAEAAAABAAEAAQABAAEAAQABAAEAAQABAAAAAQABAAEAAQABAAAAAQABAAEAAQABAAEAAQABAAIAAgACAAIAAgADAAMAAgABAAEAAQACAAIAAQAAAAAAAAAAAAAAAAAAAP///////////////////v/+//7//f/9//3//f/+//7//v/+/////v/+//7//v/+//7//v/+//7//v/+//3//f/9//7//////wAAAAD//wAAAAABAAEAAAAAAAAAAAAAAAAAAAD//////////////////wAAAAAAAAAAAAAAAAEAAAAAAAEAAAABAAAAAAAAAAAAAAAAAAAAAQACAAIAAgABAAEAAAABAAEAAQABAAEAAQABAAEAAQAAAAAAAAAAAAAAAAAAAAAAAAAAAAAAAAAAAAAAAAAAAAAAAAAAAAAAAAAAAAAAAAAAAAAAAAAAAAEAAAAAAAAAAAAAAAAAAAAAAAIAAQAAAAAAAAAAAAAAAAAAAAEAAQAAAP//////////AAAAAP/////+//7/AAAAAP///////////////////////wAA//////////8AAP///////////////////////wAAAAD/////AAAAAP/////+////AAABAAAAAAAAAAEAAAABAAEAAQABAAEAAQABAAEAAQAAAAAAAQABAAEAAAAAAAAAAAAAAAEAAQABAAEAAAAAAAAAAQABAAAAAAAAAAAAAAAAAAEAAQABAAEAAAAAAP////8AAAAA///////////////////+//7//v/+//7//v////7//v/+//7//f/9//7//////wAAAAAAAAAAAAAAAAAAAAAAAAAA/////wAAAAAAAAAAAQABAAAAAQABAAIABAAEAAMAAgACAAIAAgACAAIAAwADAAQABAADAAIAAgADAAMAAwACAAEAAwACAAIAAgACAAEAAQABAAAAAAAAAAAA/v/+/////v///////v/+//3//f/9//3//v/+//7//f/8//z//f/+//7//v/+//7//v/+/wAAAAAAAAAAAAAAAAAAAAAAAAEAAgADAAEAAQABAAEAAgABAAEAAgADAAMAAwADAAIAAgACAAIAAgACAAEAAQABAAEAAAAAAAAA//////7//v///////////////v////////////////////////////7//v/+//3//P/9//7//v/+//7//v/+////////////AAAAAAAAAAAAAAAAAAAAAP//AAAAAAAAAQAAAAEAAAAAAAAAAAAAAAEAAQAAAAEAAQABAAEAAQABAAEAAAAAAAAAAAAAAAAAAAAAAAAAAAAAAAAAAAAAAAEAAAAAAAAAAAABAAEAAQABAAIAAgACAAIAAQAAAAAAAAAAAAAA//////////8AAAAAAAAAAAEAAAABAAEAAAAAAAAAAAD//////v////////////////////////////7////+//7//v/+//7//v/+/////v/+//7/////////////////AAAAAAAA//////////8AAAAAAAAAAAAAAAAAAAAAAAAAAAAAAAAAAAAAAAABAAEAAQABAAEAAQABAAEAAQABAAEAAQACAAEAAAAAAAAAAAAAAAAAAAAAAAAAAAAAAAAAAAAAAAAAAAAAAAAAAAAAAAAAAAAAAAAAAAAAAP////8AAAAAAAABAAIAAQAAAAAA//8AAAAAAQACAAEAAAD/////////////AAAAAAAAAAAAAAAAAAAAAAEAAQABAAAAAAAAAAAAAAAAAAAAAAD///////////////8AAAAAAAAAAAAAAAAAAAAAAAAAAAAAAAAAAAAAAAAAAAAAAAAAAAAA/////wAAAAAAAAAAAAAAAP///////////////////v/+//3//f/9//3//f/9//3//v/+//////8AAAAAAQABAAAAAQACAAMAAwADAAIAAwADAAIABAAEAAQABQAGAAYABwAHAAYABQAGAAcABgAGAAYABAAEAAQABAADAAMAAgABAAAAAAAAAP////8AAAAA///9//z//P/8//z//P/8//z//P/8//z//P/8//z//P/9//3//P/8//z//f/9//3//P/8//z//P/8//z/+//7//v//P/9//7//v///wAAAAAAAAAAAAABAAEAAQACAAEAAQABAAEAAQABAAEAAQABAAIAAgABAAEAAQABAAIAAwADAAEAAAAAAAAAAAAAAAAAAAD///////////7//v/+//7//P/6//r/+//8//z//P/8//v/+v/7//3///////7///8AAAAAAAABAAEAAwAEAAQAAwAEAAQAAwADAAUABgAGAAUABQAGAAcABwAHAAgACAAIAAcABgAFAAUABQAEAAMAAgABAAAAAAD+///////9//z//P/8//z/+//7//z//P/7//v/+v/5//r/+//8//z//P/8//z//P/9//7//f/9//7//v/+//7//f/+////AAAAAAAAAAAAAAAAAQABAAIABAAEAAQABgAGAAYABgAGAAcABwAHAAcABgAGAAYABQAEAAIAAQABAAAA////////AAAAAAAAAAD///7//v/9//z//P/7//r/+f/6//r/+v/6//v/+v/6//n/+f/5//n//P/9//3//v////7///8AAAEAAgACAAIAAgADAAMAAwADAAUABAADAAMAAgADAAQABAAEAAUABAACAAIAAgACAAEAAQAAAAAA//8AAAAAAAAAAP/////+//3//v/+//7//v/9//3/+//8//3//v/+//////8AAAEAAAAAAAAAAAABAAEAAgADAAMABQAHAAgACAAIAAkACQAJAAkACAAIAAgACQAJAAcABgAHAAUABQAGAAYABQADAAMAAgABAAAA//8AAP7/+//5//f/9v/3//b/9v/2//b/9v/0//P/8v/x//H/8P/x//H/8P/x//P/9P/1//b/9//5//n/+f/6//n/+v/8//z//f/+////AAAAAAAAAQACAAMABAAEAAQABgAHAAcACAAHAAgACAAIAAkACAAJAAkACgAJAAgACQAJAAkACAAJAAkACAAJAAkACQAIAAgACgAKAAoACgAJAAkACAAHAAgABwAHAAYABgAFAAUABAADAAQAAgABAAAAAAD///7//v/9//v/+f/6//n/9//4//j/9v/1//T/8//z//P/8//y//L/8v/w//H/8v/y//P/8v/y//L/8//0//T/9f/1//X/9f/1//T/9v/3//f/+f/6//v//P/9//3//v/+//7///8AAAAAAAABAAEABAAEAAQABQAFAAYABgAFAAQABAAEAAQABQAFAAUABgAHAAgACQAJAAkACQAIAAcACAAJAAkACAAHAAgACAAIAAkACAAJAAkACQAIAAgACAAIAAgABwAHAAcABgAGAAYABgAFAAMABAAEAAQABQAEAAQABAADAAIAAwAEAAMAAgABAAEAAQABAAIAAQAAAAAAAAAAAP7//v////7//f/9//z//f/+//7//v/+//z//P/8//z//P/8//r/+f/4//j/+f/5//j/+P/4//j/+P/5//n/+v/5//n/+v/7//v/+//7//v/+//6//n/+v/6//v/+//8//3//f/+//7//v///////////wAAAAAAAAAAAAAAAAAAAAACAAMABAADAAQABgAGAAcABwAHAAcABwAHAAcABwAIAAgABwAGAAYABgAGAAYABQAFAAQABAAEAAQABQAFAAQAAgABAAEAAQABAAEAAQABAAEAAQABAAIAAwAEAAUABAAEAAMAAwADAAMAAwACAAIAAQADAAQABQAFAAQAAwADAAQABAAEAAMAAgACAAIAAgACAAEAAQABAAIAAQAAAAAAAAAAAAAAAAAAAAEAAAAAAAAAAAAAAAAAAAAAAAAAAAD///7//f/+//3//P/9//z/+v/7//v/+//7//v/+//6//r/+//6//r/+//7//v/+//7//v//P/8//z/+//7//z//f/9//3//f/9//3//v/+//7//v/+//7//////wAAAAAAAAAAAAD///7//////wAAAAAAAAAAAAAAAAAAAAAAAAAAAAAAAAAAAAAAAAAAAAAAAAAAAAAAAAAAAAAAAAAAAAAAAAAA///+//3//f/8//3//v////////////7//f/9/////////wAAAAAAAAEAAgADAAMABAAEAAUABAAFAAYABwAGAAYABgAGAAUABQAGAAYABgAGAAUABQAEAAQABAAEAAUABAAEAAMABAAEAAMAAgACAAIAAgADAAMAAwADAAMAAgACAAIAAwAEAAMAAwADAAQABAAEAAMAAgABAAIAAgACAAEAAAAAAAAAAAAAAP/////+//3//v/9//z//P/8//v/+//6//r/+f/5//n/+P/3//j/+P/4//n/+f/5//n/+f/5//r/+//6//r/+v/5//r/+//7//v//P/7//v/+//8//z//f/9//3//P/8//3//f/9//3//f/9//3//f/+//7//v/+//3//f/+//7////+//7//f/9//3//f/+//7//v/+//7//v/+//7//v/+//7//v//////AAAAAAAAAAAAAAAAAAAAAAAAAAABAAIAAgACAAMAAgADAAMAAgACAAMAAwADAAQABAAEAAMAAwADAAMAAwAEAAUABQAFAAUABQAFAAQABAADAAQABQAGAAYABgAFAAYABgAFAAUABQAFAAUABQAEAAQABQAFAAQAAwADAAMAAgABAAEAAAAAAAAAAAAAAP///////////v/+/////////////v/9//3//f/9//3//P/7//v/+v/6//r/+f/3//b/9v/1//X/9f/2//f/9//3//f/9//3//f/9//2//b/9//2//f/+P/4//n/+f/6//r/+f/6//r/+v/7//z//P/8//3//v/9//3//f/9//3//f/9//7//v////7/////////AAAAAP////8AAAAAAAAAAAAAAQABAAIAAgADAAQABQAGAAcABwAIAAkACAAJAAgACAAJAAkACQAIAAgACAAIAAgACQAJAAoACgAJAAoACQAJAAgACAAHAAcABwAGAAUABAADAAQAAwACAAIAAQABAAEAAQAAAAAAAAAAAAAAAAAAAAAAAAD//wAAAAD////////+//3//f/9//3//P/9//3//P/8//z//P/8//z/+//8//z//P/8//z/+//7//v/+v/6//r/+v/5//n/+f/5//n/+f/6//v//P/8//3//v///wAAAAAAAAAAAAAAAAAAAAABAAEAAQABAAEAAQABAAIAAgABAAIAAwADAAIAAgADAAMABAADAAMAAgACAAMAAgACAAIAAwACAAEAAQABAAEAAAAAAP//AAD///7//f/9//3//P/8//v/+v/7//r/+v/6//n/+f/5//j/+P/3//j/+P/3//j/+f/5//n/+f/5//n/+f/6//r//P/8//z//f/+//7///8AAAAAAQABAAIAAwADAAQABQAFAAUABgAHAAYABwAIAAkACQAKAAoACgALAAsADAAMAAsACwAKAAkACAAIAAcABgAGAAUABAADAAMAAwABAAEAAAAAAP7//v/+//3//f/9//3//f/8//3//P/8//z//P/8//z//P/7//v/+//8//z/+//7//v/+v/6//v//P/8//v/+//7//z//P/8//7//v///wAAAAAAAAAAAAAAAAAAAQACAAIAAgACAAIAAgACAAQAAwADAAMAAwADAAMABAADAAQAAwADAAQAAwAEAAUABAAEAAUABQAFAAUABAAFAAUABQAFAAQABAADAAMAAwACAAIAAQAAAAEAAgABAAAAAAAAAP//AAD+//7//v/+//7//v/+//7//v////////////7//v/+//3//f/9//3//f/9//7//v/+//7//f/8//z//f/9//3//f/8//z//P/8//v/+//8//z/+//7//r/+v/7//v/+//7//r/+//9//3//v/+////AAAAAAAAAQADAAUABQAGAAcABwAHAAYABwAIAAgACQAJAAkACQAJAAkACQAIAAcABwAIAAgABwAHAAYABgAGAAUABAAEAAMAAwACAAIAAQAAAAAAAAAAAP////8AAAAA/////wAA/////////v/+//3//P/8//v/+//8//3//f/9//z//P/8//3//v/9//3//f/8//z//P/8//z//P/8//z//f/9//z//f/9//v/+//6//r/+f/5//n/+f/5//j/+f/6//z//P/9//3//v8AAAIAAQACAAMAAwAEAAUABQAFAAYABgAGAAcABwAGAAYABgAGAAcABwAGAAcABwAFAAUABAADAAMAAgABAAAAAQAAAAAAAAAAAAAAAAAAAP///v/+//7//v/+//7////////////+//7//v///wAA//////////////////////////////////8AAAAAAAABAAEAAQABAAEAAQABAAEAAQACAAIAAwAEAAIAAgABAAEAAQABAAEAAQABAAEAAAAAAP///////////v/9//3//f/+//7//v/+//3//f/9//z//f/9//7//v/9//3//P/8//z//f/9//z//P/9//7//f/9//7//v////7//v///wAAAAAAAAAAAAAAAAEAAgACAAIAAQABAAEAAQACAAEAAgACAAIAAQAAAAEAAQABAAEAAQABAAAAAAAAAAAAAQABAAIAAQACAAIAAgACAAIAAQABAAIAAgADAAMABAAEAAMAAgADAAMAAgACAAIAAgABAAEAAAAAAAAA///////////+/////v/+//////////7//v//////AAAAAAAAAAAAAAAA//8AAAAAAQABAAAAAAAAAAAAAAAAAAAA//8AAAAAAAAAAAAAAAAAAAAAAAD//////////////v/9//7//v/9//3//f/9//7//f/9////AAAAAAAAAAAAAAAAAAAAAAEAAgABAAEAAgABAAAAAQABAAEAAAAAAAAAAAAAAAAAAAAAAAAAAAAAAAAAAQAAAAAAAAABAAEAAQABAAEAAQABAAEAAQABAAEAAAAAAAAAAAABAAAAAAAAAAAAAAABAAEAAQAAAAAAAQABAAEAAQAAAAEAAgACAAIAAQABAAEAAQABAAEAAAAAAAAA///+//7///////7//v/9//3//f/9//7//f/9//3//f/9//3//v////////8AAP//////////AAAAAAAAAQAAAAAAAAAAAAAAAAAAAAAAAAAAAAAAAAAAAAAAAQAAAAAAAAAAAAAAAAAAAAAA//8AAAAAAAAAAAAAAAAAAAAA//8AAAAAAAAAAAAAAQAAAAEAAAAAAAAAAAAAAAAAAAAAAAAAAAAAAAAAAAAAAAAAAAAAAAAAAAAAAAAAAAAAAAAAAAAAAAAAAAAAAAAAAAAAAAAAAAAAAAAAAAAAAAAAAAAAAAAAAQABAAAAAQABAAIAAgAAAAAAAAAAAAAAAAAAAAAAAAAAAAAA///////////////////+//7///8AAAAAAAD///////8AAAAAAAAAAAAAAAAAAAAAAAAAAAAAAAAAAAAAAAAAAAAAAAAAAAAAAAAAAAAAAAAAAAAAAAAAAAAAAAAAAAAAAAAAAAAAAAAAAP//AAAAAAAA//8AAAAAAAAAAAAAAAAAAAAAAAAAAAAAAAAAAAAAAAAAAAAAAAAAAAAAAQABAAEAAgACAAIAAgACAAIAAQABAAAAAAAAAAAAAAAAAP////////////8AAAAA/////////////////////wAAAAAAAAAAAAAAAAAAAAAAAAAAAAAAAAAAAAAAAAAAAAAAAAAAAAAAAAAAAAAAAAAAAAAAAAAA///+//7///8AAAAAAAD/////AAAAAAAAAAAAAAAAAAAAAAAAAAAAAAAAAQABAAAAAAAAAAAAAQABAAAAAAAAAAAAAAAAAAAAAAAAAAAAAAAAAAAAAAAAAAAAAQAAAAAAAAAAAAAAAAAAAAEAAAAAAAAAAQABAAEAAAAAAAAAAQAAAAAAAQACAAEAAAAAAAAAAAAAAAAAAQAAAAEAAQAAAAAAAAAAAAAAAAAAAAAAAAAAAP//AAD///7//v/+///////+//7//v/+//////////////////7////+//7//v/+//7//v/9//3//v/+//////8AAAAA/////wAAAAAAAAAA//8AAAAAAAAAAAEAAQABAAAAAAACAAIAAgACAAIAAgACAAIAAgACAAIAAQAAAAAAAQAAAAEAAgABAAAAAAABAAAAAAAAAAEAAAAAAAEAAgACAAEAAQABAAAAAQABAAEAAQACAAIAAgABAAAAAAABAAEAAAAAAAAAAAD//////////////v///////////////////////////////////////////////////////////////////wAAAAAAAAAAAAAAAAAA////////////////AAD//wAAAAD/////////////AAD//wAAAAABAAAAAQABAAEAAQABAAEAAQABAAEAAQACAAIAAQAAAAAAAQABAAEAAQABAAEAAQABAAEAAAAAAAAAAAAAAAAAAAAAAAAAAAAAAAAAAAAAAAAAAAAAAAAAAAAAAAAAAAAAAAAAAAAAAAAAAAAAAAAAAAAAAAAAAAAAAAAAAAAAAAAAAAAAAAAAAAAAAAAAAAAAAAAAAAAAAAAAAAAAAAAAAAAAAAAAAAAAAAAAAAAAAAAAAAAAAAAAAAAAAAAAAAAAAAAAAAAAAAAA//8AAP//AAAAAAAAAAD///////8AAAAAAQABAAAAAQAAAAAAAAAAAAEAAAAAAAEAAQAAAAEAAQAAAAAAAAAAAAEAAAAAAAAAAAAAAAAAAAAAAAAAAAAAAAAAAAAAAAAAAAAAAAAAAAAAAAAAAAAAAAAAAAAAAAAAAAAAAAAAAAAAAAEAAAAAAAAAAAABAAEAAQAAAAAAAAAAAAAAAAAAAAAAAAAAAAAAAAAAAAAAAAAAAP//////////AAAAAAAA//8AAAAAAAAAAP////8AAAAAAAAAAAAAAAAAAAAAAAAAAAAAAAAAAAAAAAAAAAAAAAAAAAAAAAAAAAAAAAAAAAAAAAAAAAAAAAABAAAAAAAAAAAAAAAAAAAAAAAAAAAAAAAAAP//////////AAAAAAAA//8AAAAAAAD//////////wAAAAAAAP//AAABAAEAAQABAAEAAQABAAEAAQABAAEAAQABAAEAAQABAAEAAQAAAAAAAAAAAAAAAAAAAAAAAAAAAAAAAAAAAAAAAAAAAAAAAAAAAAAAAAAAAAAAAAABAAEAAQAAAAAAAAABAAEAAQABAAEAAQAAAAAAAQABAAEAAAAAAAAAAAAAAP///////////////////////////////////////////////////////wAA/////wAAAAAAAAAAAAAAAAAAAAAAAAAAAAAAAAAAAAAAAAAAAAAAAAAAAAAAAAAAAAAAAAAAAAAAAAAAAAAAAAAAAAAAAAAAAAAAAAAAAAAAAAAAAAAAAAAAAAAAAAAAAAAAAAAAAAAAAAAAAAAAAAAAAAAAAAAAAAAAAAAAAAAAAAAAAAAAAAAAAAAAAAAAAAAAAAAAAAAAAAAAAAAAAAAAAAAAAAAAAAAAAAAAAAAAAAAAAAABAAEAAAAAAAAAAAAAAAAAAAAAAAAAAAAAAAAAAAAAAAAAAAAAAAAAAAAAAAAAAAAAAAAAAAAAAAAAAAAAAAAAAAAAAAAAAAAAAAAAAAAAAAAAAAAAAAAAAAAAAAAAAAAAAAAAAAAAAAAAAAAAAAAAAAAAAAAAAAAAAAAAAAAAAAAAAAAAAAAAAAAAAAAAAAAAAAAAAAAAAAAAAAAAAAAAAAAAAAAAAAAAAAAAAAAAAAEAAQABAAAAAQABAAEAAQAAAAEAAQAAAAAAAAAAAAAAAAAAAP//////////AAD//wAAAAD//////////////////wAAAAAAAAAAAAAAAAAAAAAAAAAAAAAAAAAAAAAAAAAA//////////8AAAAAAAAAAAAAAAAAAAAAAAAAAAAA////////AAAAAAAAAAAAAAAAAAAAAAEAAQABAAEAAAAAAAAAAAABAAIAAQABAAEAAQABAAEAAQAAAAAAAAAAAAAAAAAAAAAAAAAAAAAAAAAAAAAAAAAAAAAAAAAAAAAAAAAAAAAAAAAAAAAAAAAAAAAAAAAAAAAAAAAAAAAAAAAAAAAAAAAAAAAAAAAAAAAAAAAAAAAAAAAAAAAAAAAAAAAAAAAAAAAAAAAAAAAAAAAAAAAAAAAAAAAAAAAAAAAAAAAAAAAAAAAAAAAAAAABAAAAAAAAAAAAAAAAAAAAAAAAAAAAAAAAAAAAAAAAAAAAAAAAAAAAAAAAAAAAAAAAAAAAAAAAAP//AAAAAAAAAAAAAAAAAAAAAAAAAAAAAAAAAAAAAAAAAAAAAAAAAAAAAAAAAAAAAAAAAAAAAAAAAAAAAAAAAAAAAAAAAAAAAAAAAAAAAAAAAAAAAAAAAAABAAAAAAAAAAAAAQABAAEAAQABAAEAAQAAAAAAAAAAAAAAAAAAAAAAAAAAAAAAAAAAAP//AAAAAAAAAAAAAAAAAAAAAAAAAAAAAAAAAAAAAAAAAAAAAAAAAAAAAAAAAAAAAAAAAAAAAAAAAAAAAAAAAAAAAAAAAAAAAAAAAAAAAP//AAAAAAAAAAAAAAAAAAAAAAAAAAAAAAAAAAAAAAAAAAAAAAAAAAAAAAAAAAAAAAAAAAABAAEAAQAAAAAAAAAAAAAAAAABAAAAAQABAAEAAQABAAEAAQABAAAAAAAAAAEAAQABAAAAAAAAAAAAAAAAAAAA//////7///////////////////////7//v/+//7//v/+//7//v///////////////////wAAAAAAAAAAAAAAAAAAAAAAAAAAAAAAAAAAAAAAAAAAAAAAAAAAAAAAAAAAAAAAAAAAAAAAAAAAAAAAAAAAAAD//wAAAAAAAAAAAAAAAAAAAAAAAAAAAAAAAAAAAAAAAAAAAAAAAAAAAAAAAAAAAAAAAAAAAAAAAAAAAAAAAAAAAAAAAAAAAAAAAAAAAAAAAAAAAAAAAAAAAAAAAAAAAAAAAAAAAAAAAAAAAQABAAAAAAAAAAAAAAAAAAAAAAAAAAAAAAAAAAAAAAAAAAAAAAAAAAAAAAAAAAEAAAABAAEAAgABAAIAAQABAAEAAQABAAAAAAAAAAAAAAAAAP////8AAAAA//////7/////////AAAAAP//////////////////AAAAAP//AAAAAAAAAAAAAAAAAAAAAAAAAAAAAAAAAAAAAAAAAAAAAAAA/////wAAAAAAAAAAAAAAAAAA//////7///////////8AAP//////////AAAAAAAAAAAAAAEAAQABAAAAAAABAAEAAQAAAAAAAAAAAAAAAAAAAAAAAQABAAEAAQABAAEAAAAAAAAA//8AAAAAAAAAAAAAAAAAAAAAAAAAAAAAAAAAAAAAAAAAAAAAAAAAAAAAAAAAAAAAAAAAAAAAAAAAAAAAAAAAAAAAAAAAAAAAAAAAAAAAAAAAAAAAAAAAAAAAAAAAAAAAAAAAAAAAAAAAAAAAAAAAAAAAAQABAAAAAAAAAAAAAQABAAAAAAAAAAAAAAAAAAAAAAAAAAAAAAAAAAAAAQABAAEAAQAAAAAAAAAAAAAA//8AAAAAAAAAAP///////////v/+//7///////7//f/+//7//v/+////////////////////AAD////////////////////////+/////////wAAAAD///7///////////////////////7//////////////wAAAAAAAAAAAAAAAAAAAAAAAAEAAQABAAIAAgACAAIAAgACAAIAAgACAAIAAgACAAIAAwADAAIAAgADAAMAAgADAAIAAgABAAIAAQABAAEAAQABAAAAAAAAAAAAAAAAAAAAAAABAAEAAQAAAAAAAAABAAEAAAAAAP//AAABAAAAAAAAAP////////7//v///////v/9//7//v////////////7////9//3//f/9//7//v/9//z//P/9//7//v//////////////AAAAAAAAAAAAAAAAAAAAAAAAAAABAAEAAAAAAAAAAAAAAAAAAAAAAAAAAAAAAAAAAAAAAAAAAAAAAAAAAAAAAAAAAAAAAAAAAAAAAAAAAAAAAAAAAAAAAAAAAAAAAAEAAQABAAEAAQABAAIAAgACAAEAAQABAAIAAgABAAIAAgACAAEAAQAAAAEAAQABAAAAAAAAAP///////////v/+//7//f/9//z//f/9//z//P/9//z//f/+//7//v/+//3//f/9//7//v///////////////v/9//3//f/8//z//P/8//z//P/8//z//P/7//v//P/8//v//P/9//z//P/9//7///8AAAAAAAAAAAEAAgACAAMAAwAFAAQABAAEAAQABAAFAAQABAAEAAQABAAEAAQAAwADAAMAAwADAAMAAgADAAMAAgADAAMAAwADAAMAAwADAAMAAwACAAIAAwAEAAQABAADAAMAAwADAAQAAwAEAAMAAwADAAMAAwACAAIAAgACAAIAAQAAAAAA///+//7//f/8//v/+//7//r/+f/6//r/+f/5//n/+v/7//r/+v/6//r/+v/6//v/+//8//z//P/9//3//f/+//3//f///wAAAAAAAAAAAAAAAAAA//8AAAAAAAAAAAAAAQABAAEAAQAAAAEAAQABAAEAAQABAAEAAQABAAIAAgACAAIAAgADAAIABAAEAAMABAAEAAQABAAEAAUABAAEAAQAAwADAAMAAwADAAMAAwADAAIAAgACAAIAAgABAAAAAAABAAAAAAAAAAAA///+//7//f/9//7//v/+///////+//7//v/+//7//v/+//7//v/+//7//v/9//3//f/9//z//P/7//z//f/9//3//f/9//z//P/9//3//v/+//7//f/9//3//P/9//7//v/+//7/////////AAAAAAEAAQACAAIAAgADAAQABAAEAAQABAAEAAMAAwAEAAQAAwACAAIAAgACAAIAAgADAAQABQAEAAQAAwADAAMAAwADAAQAAwADAAMAAgACAAIAAgACAAIAAwADAAQABAADAAMAAwADAAMAAgAAAAAAAAAAAAAA///+//3/+//7//v//P/8//z//P/7//v/+//6//v/+//7//z//P/8//z/+//7//v/+//8//z//P/8//3//v/+//7//v/+/////////////v/+//7///8AAAAAAAD//////////wAAAAAAAAAAAAAAAAAAAAAAAAAAAQABAAEAAQABAAAAAAAAAAAAAQABAAEAAQABAAIAAgACAAIAAgACAAIAAgABAAEAAQABAAEAAQABAAEAAQABAAEAAQABAAEAAQAAAAAAAQABAAEAAQABAAEAAQABAAAAAQAAAAAAAQAAAAAAAAAAAAAAAAAAAAAAAAAAAAAAAAAAAAAAAQABAAIAAgACAAIAAQAAAAAAAAAAAAAAAAABAAAAAAAAAAAAAAAAAAAAAAAAAAAA/////wAAAAAAAAAAAAAAAAAAAAAAAAAAAAABAAAAAAAAAAAAAAAAAAAAAAAAAP///////////////wAAAAD///////8AAAAAAQABAAAAAAAAAAAAAAAAAAEAAQABAAEAAAAAAAAAAAAAAAEAAgACAAIAAgACAAEAAQABAAIAAwACAAEAAAAAAAAAAAAAAAAAAAAAAAAAAAAAAAAAAAABAAEAAAAAAP////////////////////////////////////8AAAAAAAAAAAAAAAAAAAAAAAAAAAAA//////7////////////+//7///8AAAAAAAAAAAAAAAAAAAEAAQAAAAAAAAAAAAAAAAAAAAAAAAAAAAAAAAAAAAAAAAAAAAAAAAAAAAAAAAAAAAAAAAAAAAAAAAAAAAAAAAAAAAAAAAABAAEAAQABAAEAAgACAAIAAQAAAAAAAAAAAAAAAAAAAAAAAAAAAAAA////////AAAAAAAAAAAAAAAAAAAAAP//////////AAAAAAAAAAAAAAAA//8AAAAA/////////////wAAAAD///////////////////////////////////7//v//////AAAAAAAA////////AAAAAAAAAAAAAAAAAAAAAAAAAAABAAEAAAAAAAAAAAAAAAAAAAAAAAAAAAAAAAAAAAAAAAAA///+//////8AAAAAAAAAAAEAAgACAAIAAgACAAEAAAABAAEAAAAAAAEAAQABAAAAAAABAAAAAQAAAAAAAAABAAEAAQABAAEAAQAAAAAAAQAAAAAAAQACAAEAAAAAAAAAAAAAAAEAAAAAAAAAAAAAAAAAAAAAAAAAAAAAAAAAAAAAAAAAAAAAAP//AAAAAP///////////////////////////////wAA/////wAA/////////////wAA//8AAAAA//8AAAAAAAAAAAAAAAAAAAAAAAAAAAAAAAAAAAAAAAAAAAAAAAAAAAAAAAAAAAAAAAAAAAAAAAAAAAAAAAAAAAAAAAAAAAAAAAAAAAAAAAAAAAAAAAAAAAAAAAAAAAAAAAAAAAAAAAAAAAAAAAAAAAAAAAAAAAAAAAAAAAAAAAAAAAAAAAAAAAAAAAAAAAAAAAABAAEAAQABAAEAAQABAAAAAAAAAAAAAAAAAAAAAAAAAAAAAAAAAAAAAAAAAAAAAAAAAAAAAAAAAAAA//8AAAAAAAAAAAAAAAAAAAAAAAAAAAAAAAAAAAAAAAAAAAAAAAAAAAAAAAAAAAAAAAAAAAAAAAAAAAAAAAAAAAAAAAAAAAAAAAAAAAEAAAAAAAAAAAAAAAAAAQAAAAAAAAAAAAAAAAAAAAAAAQABAAAAAQABAAIAAgABAAEAAQAAAAAAAAAAAAAAAAAAAAAA/////wAA//////////////////////////////////////7//v/+//7//v//////////////////////AAAAAP//AAAAAP//AAAAAAAAAAAAAAAAAAAAAAAAAQAAAAAAAAAAAAEAAQABAAEAAQAAAAAAAQAAAAEAAQABAAEAAAABAAAAAQABAAEAAAAAAAEAAQABAAEAAAAAAAAAAAAAAAAAAQABAAEAAAAAAAAAAAABAAEAAQABAAEAAAAAAAAAAAAAAAAAAAAAAAAAAAAAAAAAAAAAAP//AAAAAAAAAAAAAAAAAAAAAAAAAAAAAAAAAAAAAAAAAAAAAAAAAAAAAAAAAAAAAAAAAAAAAAAAAAAAAAAAAAAAAAAAAAAAAAAAAAAAAAAAAAAAAAAAAAAAAAAAAAAAAAAAAAAAAAAA////////AAAAAAAAAAAAAAAAAAAAAAAAAAAAAAAAAAAAAAAAAAAAAAAAAAAAAAAAAAAAAAAAAAAAAAAAAAAAAAAAAAAAAAAAAAAAAAAAAAAAAAAAAAAAAAAAAAAAAAAAAAAAAAAAAAAAAAAAAAAAAAAAAAAAAP////////////8AAAAA/////////////wAAAAAAAAAAAAABAAEAAQABAAEAAAAAAAEAAQABAAIAAQACAAIAAgADAAQABAAEAAQABAADAAIAAgACAAIAAgACAAIAAgACAAEAAAAAAAAAAAAAAAAAAAAAAAAA//////////////7//f/9//3/+//8//v/+//8//z//P/8//z//f/+//7//f/8//3//v/9//z//P/9//3//P/8//z//P/8//z//P/9//z//f/+//7//f/9//3//P/9//7///8AAAAAAAABAAEAAQABAAIAAgACAAMAAwADAAUABQAFAAUABQAGAAYABgAFAAUABgAGAAQABAAEAAUABgAGAAUABAAEAAQAAwAEAAQABAAFAAUABQAGAAYABQAEAAMAAwADAAMAAgABAAEAAAAAAAAAAAAAAAEAAgABAAAAAAAAAAAAAAAAAP//AAD///////////////////7//v///////v/+//7//f/8//z//P/9//3//f/8//3//P/8//3//f/9//3//v/+//7//v/9//z//P/8//z//P/9//3//f/9//7//v/+//7//v/+//7//v/+//7//////////////wAA//////////8AAAAAAAAAAAAA/////wAAAAAAAP//AAAAAAAAAAABAAEAAgACAAIAAgACAAIAAgACAAIAAQABAAEAAAABAAEAAQABAAEAAQABAAEAAQABAAEAAQABAAEAAQABAAEAAQABAAAAAAABAAEAAQABAAAAAQABAAEAAAAAAAAAAAAAAAAAAAAAAAAAAAAAAAAAAAAAAAAAAAD/////////////AAAAAAAAAAAAAAAAAAAAAAAAAAAAAAAAAAAAAAAAAAAAAAAAAAAAAAAAAAAAAAAAAAAAAAAAAQABAAEAAQABAAEAAQAAAAAAAAAAAAAAAAAAAAAAAAAAAAAAAAAAAAAAAAAAAAAAAAAAAAAAAAAAAAAAAAAAAAEAAQAAAAAAAQABAAEAAgABAAEAAAAAAAAAAAABAAIAAgACAAIAAQAAAAEAAQAAAAAAAAAAAP////////////8AAAAA///+//7//v/+///////+//7//f/9//3//f/9//3//P/9//3//v/9//7//v///////v/9//3//f/+//3//P/7//v//P/7//v//P/8//z//P/9//z/+//8//z//P/8//z//P/8//z//f///wAAAAAAAAAAAAABAAIAAwACAAIAAgADAAMAAwADAAQABAAFAAUABQAFAAQABQAGAAYABQAFAAUABgAFAAUABQAFAAUABgAGAAYABQAEAAUABQAFAAYABgAFAAcABwAGAAUABQAFAAQABQAEAAQAAwACAAAAAAAAAAAAAAD//////////////v/9//7//////////f/7//z//P/8//z/+//8//z//P/7//v/+//7//v//P/8//v//P/6//n/+f/5//n/+//7//n/+f/5//r/+v/5//n/+f/5//j/9//3//j/+v/7//z//P/8//3//f/9//7//v8AAAEAAQABAAEAAQABAAEAAAABAAEAAQABAAEAAgACAAIAAQABAAEAAAAAAAAAAAAAAAAAAQACAAAAAQACAAEAAAABAAEAAQADAAQABQAFAAQAAwADAAMAAwADAAQABAAEAAQABQAFAAUABgAFAAUABQAGAAUABgAGAAUABAADAAMAAgABAAEAAQABAAAAAQAAAAAAAAAAAP7//f/8//z//f/+/////////////f/9//7//f/9//3//f/8//z//P/7//z/+//7//r/+v/6//n/+f/5//n/+v/6//n/+v/6//n/+v/7//v/+//7//z//P/8//z/+//7//3//f/9//3//f/9//7//////////v////////////////////7//v/9///////+//z//P/8//v//P/8//z//P/9/////////wAAAAAAAAAAAAAAAAEAAwADAAMAAwAEAAQABQAFAAUABQAFAAYABgAFAAUABQAFAAYABQAEAAUABQAGAAUABQAFAAUABAAEAAQAAwADAAMAAwAEAAQAAwADAAMAAgABAAEAAgACAAIAAgACAAIAAQABAAEAAgACAAEAAgACAAIAAgABAAEAAQACAAEAAQACAAIAAgACAAEAAAABAAIAAgACAAIAAQACAAMAAgABAAEAAgACAAEAAAAAAAAAAAAAAAAAAAAAAAAA//////3//v///wAAAAD///3//P/8//z//P/7//z/+//6//r/+v/6//n/+v/6//r/+v/7//r/+v/7//v/+//8//z//P/9//3//v/9//3//f/9//7////+//7//v/+//7//f/9//7//v/9//3//v/+/////v/9//3//P/8//z//P/8//z//f/9//7//v////7//v/+//7///8AAAAAAAAAAAAAAAAAAAEAAQABAAAAAAACAAQABAAEAAUABgAGAAYABgAHAAcACQAIAAcABwAHAAcABwAHAAcABwAGAAYABgAHAAcABwAHAAYABQAFAAUABQAFAAUAAwACAAMAAwADAAMAAwACAAEAAgABAAAAAQAAAAAAAAAAAAAAAAAAAAAA//////////////7//v/9//3//P/8//z//P/6//n/+f/5//j/+P/5//j/+P/4//n/+f/6//n/+f/5//v/+//7//v/+//7//r/+v/6//n/+f/5//r/+v/6//r/+//7//v/+//8//z//P/8//z//f/9//3//v//////AAAAAAAAAAAAAAEAAgADAAMAAwAEAAUABgAFAAUABgAGAAYABgAGAAUABgAGAAYABwAIAAgABwAIAAkACQAIAAcABwAHAAcABwAGAAYABgAFAAUABQAEAAQAAwAEAAMAAQAAAAAAAAAAAP/////+//7//v/+///////+//3//f/9//3//f/9//3//f/9//3//f/9//3//v/+//7//v/9//3//P/9//7//v/+//7//v/+//7//v//////////////AAAAAAAAAAAAAAAAAAAAAAAAAAAAAAAAAAAAAAAAAAAAAAAAAAAAAAEAAQABAAEAAAAAAAEAAQAAAAAAAQAAAAAAAAAAAAAAAAAAAAAAAAAAAAAAAAAAAAAAAAAAAAAAAAAAAAAAAAAAAAAAAAAAAAAAAAAAAAAAAAAAAAAAAAAAAAAAAAAAAAAAAAAAAAAAAAAAAAAAAAAAAAAAAAAAAP////8AAAAAAAAAAAAAAAAAAAAAAAAAAAAAAAAAAAEAAAAAAAAAAAAAAAAAAAAAAAAAAAAAAAAAAAAAAAAAAAAAAAAAAAAAAAAAAAAAAAAAAAAAAAAAAAAAAAAAAAAAAAAAAAAAAAAAAAAAAAAAAAAAAAAAAAAAAAAAAAAAAAAAAAAAAAAAAAAAAAAAAAAAAAAAAAAAAAAAAQABAAEAAAABAAAAAAABAAEAAQABAAAAAQAAAAEAAgABAAAAAAAAAAAAAAAAAAAAAAAAAAAAAAAAAAAA////////AAAAAAAAAAAAAAAAAAAAAAAAAAAAAAAAAAAAAAAAAAD//////v/+//7//v/+////AAD//////////////v/////////9//3//v/9//3//v////7/////////////////AAAAAAAAAAAAAAAAAAAAAP///////wAAAAD/////AAAAAAAAAAAAAAEAAQABAAEAAgACAAMAAwADAAMAAgACAAIAAgABAAIAAwAEAAUABAADAAQABAAEAAQAAwACAAEAAgABAAAAAAAAAAAAAAD//////////////////wAA/////////////////////////////////////wAA///////////////////////////////////+////AAD//wAAAAAAAAAAAAAAAAAAAAAAAAAAAAAAAAAAAAAAAAAAAAAAAAEAAQABAAAAAAABAAAAAQABAAAAAAAAAAAAAAAAAAAAAAAAAAAAAAAAAAAAAQABAAAAAAAAAAAAAAAAAP/////////////////////////////+/////////wAA///+//7//////wAAAAD///7//v/+////AAAAAAAAAAAAAAAAAAAAAAAAAAAAAAAAAQABAAEAAQAAAAAAAAAAAAAAAQABAAIAAQABAAEAAgACAAEAAQABAAEAAQAAAAAAAAABAAEAAQABAAEAAAABAAAAAAABAAAAAAAAAAAAAAAAAAEAAAAAAAEAAAAAAAAAAAAAAAAAAAAAAAEAAQABAAEAAAAAAAAAAAAAAAAAAAAAAAAAAAAAAP//AAAAAAAAAAAAAP////8AAAAAAAAAAAAAAAAAAAAAAQAAAAAAAAAAAAAAAAAAAAAAAAD///////8AAP///////wAAAAD///////////////////////8AAAAAAAAAAAAAAAAAAAAAAAAAAAAAAAAAAAAAAAAAAAAAAAAAAAAAAAAAAAAAAAAAAAAAAAAAAAAAAAAAAAAAAAAAAAAAAAAAAAAAAAAAAAAAAAAAAAAAAAAAAAAAAAAAAAAAAAAAAAAAAAAAAAAAAAAAAAAAAAAAAAAAAAAAAAAAAAAAAAAAAAAAAAAAAAAAAAAAAAAAAAAAAAAAAAAAAAAAAAAAAAAAAAAAAAAAAAAAAAAAAAAAAAAAAAAAAAAAAAEAAAAAAAAAAAAAAAAAAAAAAAAAAAAAAAAAAAAAAAAAAAAAAAAAAAAAAAAAAAAAAP//AAAAAAAAAAAAAAAAAAAAAAAAAAAAAAAAAAAAAAAAAAAAAAAAAAAAAAAAAAAAAAAAAAAAAAAAAAAAAAAAAAAAAAAAAAAAAAAAAAAAAAAAAAAAAAAAAAAAAAAAAAAAAAEAAQABAAEAAQABAAEAAgACAAIAAgACAAIAAQABAAEAAQABAAEAAQABAAAAAAAAAP//AAAAAP//AAD//wAAAAAAAP///v////7//v/+//7//v/+//7//////////v///////v/+//7/////////AAAAAAAA/////////////wAAAAAAAP///////wAAAAAAAAAAAAAAAAAA//////////8AAAAA////////AAAAAAAAAAAAAAAAAAABAAEAAgABAAEAAgACAAIAAQABAAEAAQABAAEAAAABAAEAAQABAAEAAgACAAEAAQABAAEAAgACAAIAAQABAAAAAAAAAAAAAAAAAAAAAAAAAAAAAAAAAP//AAAAAAAAAAAAAAAAAAAAAAAAAAAAAAAAAAAAAAAA/////////////wAAAAAAAAAAAAAAAAAAAAAAAAAAAAAAAAAAAAAAAAAAAAAAAAAAAAAAAAAAAAAAAAAAAAAAAAAAAAAAAAAAAAAAAAAAAAAAAAAAAAAAAP//////////AAAAAAAAAAD//wAAAAAAAAAAAAAAAAAAAAAAAAAAAAAAAAAAAAAAAAAAAAAAAAAAAAAAAAAAAAAAAAAAAAAAAAAAAQAAAAAAAAAAAAAAAAAAAAAAAAAAAAAAAQAAAAAAAQABAAEAAQABAAAAAAAAAAAAAAAAAP//AAAAAAAAAAAAAAAAAAD//wAAAAAAAAAAAAAAAAAAAAAAAAAAAAAAAAAAAAAAAAAAAAAAAAAAAAAAAAAAAAAAAAAAAAAAAAAAAAAAAAAAAAAAAAAAAAAAAAAAAAAAAAAAAAAAAAAAAAAAAAAAAAAAAAAAAAAAAAAAAAAAAAAAAAAAAAAAAAAAAAAAAAAAAAAAAAAAAAAAAAAAAAAAAQAAAAAAAAAAAAAAAAABAAEAAAAAAAEAAQAAAAAAAAAAAAEAAQABAAAAAAAAAAAA////////AAAAAAAAAAD/////AAAAAAAAAAAAAAAAAAAAAAAAAAD///////8AAP//AAAAAAAAAAAAAAAAAAAAAAAAAAAAAAAAAAAAAAAAAAAAAAAAAAAAAAAAAAAAAAAAAAAAAAAAAAAAAAAAAAAAAAAAAAAAAAAAAAABAAAAAQABAAAAAAAAAAAAAAAAAAAAAAAAAAAAAAAAAAAAAAAAAAAAAAAAAAAAAAAAAAAAAAAAAAAAAAAAAAAAAAAAAAAAAAAAAAAAAAAAAAAAAAAAAAAAAAAAAAAAAAAAAAAAAAABAAAAAAAAAAAAAAAAAAAAAAAAAAAAAAAAAAAAAAAAAAAAAAAAAAAAAAAAAAAAAAAAAAAAAAAAAAAAAAAAAAAAAAAAAAAAAAAAAAAAAAAAAAAAAAAAAAAAAAAAAAAAAAAAAAAAAAAAAAAAAAAAAAAAAAAAAAAAAAAAAAAAAAAAAAAAAAAAAAAAAAAAAAAAAAAAAAAAAAAAAAAAAAAAAAAAAAAAAAAAAAAAAAAAAAAAAAAAAAAAAAAAAAAAAAAAAAAAAAAAAAABAAEAAQABAAEAAQABAAEAAQAAAAAAAAAAAAAA//8AAAAAAAAAAAAAAAAAAAAAAAAAAAAAAAAAAP////////////8AAAAAAAD//wAAAAAAAAAAAAAAAAAAAAAAAAAAAAAAAAAAAAAAAAAAAAAAAAAAAAAAAAEAAQABAAEAAQABAAEAAAAAAAAAAAAAAAAAAAAAAAAAAAAAAAAAAAAAAAAA//////////////7/////////AAAAAAAAAAAAAAAAAQABAAEAAQABAAAAAAAAAAAAAAAAAAEAAQABAAEAAQABAAEAAQABAAEAAQABAAEAAAAAAAAAAAAAAP//////////////////////////AAAAAAAAAAAAAAEAAAAAAAEAAQACAAEAAAABAAEAAAAAAAAAAAAAAAAAAAAAAAAA/////////////////////////v/+//7//v/9//3//f/9//7//v///wAAAAAAAAEAAQABAAEAAQABAAEAAQABAAEAAQABAAEAAQABAAEAAQABAAEAAQAAAAEAAAAAAAAAAAAAAAAAAAAAAAAAAAAAAAAAAAAAAAAAAAAAAAAAAAAAAAAAAQABAAEAAgACAAIAAgACAAEAAQABAAEAAAAAAAAAAAAAAAAA//8AAAAAAAD//wAA/////////////////////////////wAAAAAAAAAAAAAAAAAAAAAAAAAAAAAAAAAAAAAAAAAAAAAAAAAAAAAAAAAA//8AAAAAAAAAAAAAAAAAAAAAAAAAAAAAAAAAAAAAAAAAAAAAAAAAAAAAAAAAAAAAAAAAAAAAAAAAAAAAAAAAAAAAAAAAAAAAAQABAAEAAQABAAEAAQABAAAAAQAAAAAAAQABAAAAAAAAAP//AAAAAAAAAAAAAAAA////////AAD//////////////////wAAAAD//wAAAAAAAAAAAAAAAAAAAAAAAAAAAAAAAAAAAAAAAAAAAAAAAAAAAAAAAAAAAAAAAAAAAAAAAAAAAAAAAAAAAAAAAAAAAAAAAAAAAAAAAAAAAAAAAAAAAAAAAAAAAAAAAAAAAAAAAAAAAAAAAAAAAAAAAAAAAAAAAAAAAAAAAAAAAAAAAAAAAAAAAAAAAAAAAAAAAAAAAAAAAAAAAAAAAAAAAAAAAAAAAAAAAAAAAAAAAAAAAAAAAAAAAAAAAAAAAAAAAAAAAAAAAAAAAAAAAAAAAAAAAAAAAAAAAAAAAAAAAAAAAAAAAAAAAAAAAAAAAAAAAAAAAAAAAAAAAAAAAAAAAAAAAAAAAAAAAAAAAAAAAAAAAAAAAAAAAAAAAAAAAAAAAAAAAAAAAAAAAAAAAAAAAAAAAAAAAAAAAAAAAAAAAAAAAAAAAAAAAAAAAAAAAAAAAAAAAAAAAAABAAEAAQABAAEAAAAAAAAAAAAAAAAA//8AAAAAAAAAAAAAAAAAAAAAAAAAAAAAAAAAAA==\" type=\"audio/wav\" />\n",
       "                    Your browser does not support the audio element.\n",
       "                </audio>\n",
       "              "
      ],
      "text/plain": [
       "<IPython.lib.display.Audio object>"
      ]
     },
     "execution_count": 336,
     "metadata": {},
     "output_type": "execute_result"
    }
   ],
   "source": [
    "rand_int = random.randint(0, len(train)-1)\n",
    "print(\"Target text:\", train[rand_int][\"target_text\"])\n",
    "print(\"Input array shape:\",train[rand_int][\"speech\"].shape)\n",
    "print(\"Sampling rate:\", train[rand_int][\"sampling_rate\"])\n",
    "ipd.Audio(data=train['speech'][rand_int], autoplay=True, rate=16000)"
   ]
  },
  {
   "cell_type": "code",
   "execution_count": 342,
   "id": "21a84015-bf3e-427e-817f-5ad1e793af5f",
   "metadata": {},
   "outputs": [
    {
     "name": "stdout",
     "output_type": "stream",
     "text": [
      "Target text: [15 61 52 48 26  0  1 61 10  6  1 48 20  3  6 18 54  3]\n"
     ]
    },
    {
     "data": {
      "text/html": [
       "\n",
       "                <audio  controls=\"controls\" autoplay=\"autoplay\">\n",
       "                    <source src=\"data:audio/wav;base64,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\" type=\"audio/wav\" />\n",
       "                    Your browser does not support the audio element.\n",
       "                </audio>\n",
       "              "
      ],
      "text/plain": [
       "<IPython.lib.display.Audio object>"
      ]
     },
     "execution_count": 342,
     "metadata": {},
     "output_type": "execute_result"
    }
   ],
   "source": [
    "rand_int = random.randint(0, len(test)-1)\n",
    "print(\"Target text:\", test[rand_int][\"labels\"])\n",
    "#print(\"Input array shape:\", test[rand_int][\"input_values\"])\n",
    "ipd.Audio(data=test[rand_int][\"input_values\"], autoplay=True, rate=16000)"
   ]
  },
  {
   "cell_type": "code",
   "execution_count": 343,
   "id": "06a6e638-abb1-41a0-b6ef-ab49f9512d67",
   "metadata": {},
   "outputs": [
    {
     "data": {
      "text/plain": [
       "array([0.00107314, 0.00107313, 0.00107316, ..., 0.00301969, 0.00139428,\n",
       "       0.00048675], dtype=float32)"
      ]
     },
     "execution_count": 343,
     "metadata": {},
     "output_type": "execute_result"
    }
   ],
   "source": [
    "train[0]['input_values']"
   ]
  },
  {
   "cell_type": "code",
   "execution_count": 344,
   "id": "f2f9ce68-8e66-4841-9112-61bf406d9889",
   "metadata": {},
   "outputs": [
    {
     "data": {
      "text/plain": [
       "54094"
      ]
     },
     "execution_count": 344,
     "metadata": {},
     "output_type": "execute_result"
    }
   ],
   "source": [
    "train[0]['input_length']"
   ]
  },
  {
   "cell_type": "code",
   "execution_count": 345,
   "id": "6cbe9f13-ad2b-4b81-a97c-4115cb2cda52",
   "metadata": {},
   "outputs": [
    {
     "data": {
      "text/plain": [
       "array([20, 12, 32, 12, 10,  3,  6, 24,  3, 50,  0,  6, 49, 12, 24, 17])"
      ]
     },
     "execution_count": 345,
     "metadata": {},
     "output_type": "execute_result"
    }
   ],
   "source": [
    "train[0]['labels']"
   ]
  },
  {
   "cell_type": "code",
   "execution_count": 346,
   "id": "03a38ea3-bc9e-4fa0-9d3c-de796a655573",
   "metadata": {},
   "outputs": [
    {
     "data": {
      "text/plain": [
       "Dataset({\n",
       "    features: ['speech', 'sampling_rate', 'target_text', 'input_values', 'input_length', 'labels'],\n",
       "    num_rows: 18000\n",
       "})"
      ]
     },
     "execution_count": 346,
     "metadata": {},
     "output_type": "execute_result"
    }
   ],
   "source": [
    "train"
   ]
  },
  {
   "cell_type": "markdown",
   "id": "54078871-15ef-4bfd-a486-d38eb6979c32",
   "metadata": {},
   "source": [
    "## Set up trainer"
   ]
  },
  {
   "cell_type": "code",
   "execution_count": 347,
   "id": "e18fac8c-f0da-4771-9f62-832d14c10589",
   "metadata": {},
   "outputs": [],
   "source": [
    "import torch\n",
    "\n",
    "from dataclasses import dataclass, field\n",
    "from typing import Any, Dict, List, Optional, Union\n",
    "\n",
    "@dataclass\n",
    "class DataCollatorCTCWithPadding:\n",
    "    processor: Wav2Vec2Processor\n",
    "    padding: Union[bool, str] = True\n",
    "    max_length: Optional[int] = None\n",
    "    max_length_labels: Optional[int] = None\n",
    "    pad_to_multiple_of: Optional[int] = None\n",
    "    pad_to_multiple_of_labels: Optional[int] = None\n",
    "\n",
    "    def __call__(self, features: List[Dict[str, Union[List[int], torch.Tensor]]]) -> Dict[str, torch.Tensor]:\n",
    "        # split inputs and labels since they have to be of different lenghts and need\n",
    "        # different padding methods\n",
    "        input_features = [{\"input_values\": feature[\"input_values\"]} for feature in features]\n",
    "        label_features = [{\"input_ids\": feature[\"labels\"]} for feature in features]\n",
    "\n",
    "        batch = self.processor.pad(\n",
    "            input_features,\n",
    "            padding=self.padding,\n",
    "            max_length=self.max_length,\n",
    "            pad_to_multiple_of=self.pad_to_multiple_of,\n",
    "            return_tensors=\"pt\",\n",
    "        )\n",
    "        with self.processor.as_target_processor():\n",
    "            labels_batch = self.processor.pad(\n",
    "                label_features,\n",
    "                padding=self.padding,\n",
    "                max_length=self.max_length_labels,\n",
    "                pad_to_multiple_of=self.pad_to_multiple_of_labels,\n",
    "                return_tensors=\"pt\",\n",
    "            )\n",
    "\n",
    "        # replace padding with -100 to ignore loss correctly\n",
    "        labels = labels_batch[\"input_ids\"].masked_fill(labels_batch.attention_mask.ne(1), -100)\n",
    "\n",
    "        batch[\"labels\"] = labels\n",
    "\n",
    "        return batch"
   ]
  },
  {
   "cell_type": "code",
   "execution_count": 348,
   "id": "899bdbc3-c855-4c95-84b4-8867287fbe29",
   "metadata": {},
   "outputs": [],
   "source": [
    "data_collator = DataCollatorCTCWithPadding(processor=processor, padding=True)"
   ]
  },
  {
   "cell_type": "code",
   "execution_count": 349,
   "id": "99ddb79c-94ae-40ec-a970-f23732c3f8c7",
   "metadata": {},
   "outputs": [
    {
     "data": {
      "text/plain": [
       "DataCollatorCTCWithPadding(processor=Wav2Vec2Processor:\n",
       "- feature_extractor: Wav2Vec2FeatureExtractor {\n",
       "  \"do_normalize\": true,\n",
       "  \"feature_extractor_type\": \"Wav2Vec2FeatureExtractor\",\n",
       "  \"feature_size\": 1,\n",
       "  \"padding_side\": \"right\",\n",
       "  \"padding_value\": 0,\n",
       "  \"processor_class\": \"Wav2Vec2Processor\",\n",
       "  \"return_attention_mask\": true,\n",
       "  \"sampling_rate\": 16000\n",
       "}\n",
       "\n",
       "- tokenizer: PreTrainedTokenizer(name_or_path='./', vocab_size=64, model_max_len=1000000000000000019884624838656, is_fast=False, padding_side='right', truncation_side='right', special_tokens={'bos_token': '<s>', 'eos_token': '</s>', 'unk_token': '[UNK]', 'pad_token': '[PAD]', 'additional_special_tokens': [AddedToken(\"<s>\", rstrip=False, lstrip=False, single_word=False, normalized=True), AddedToken(\"</s>\", rstrip=False, lstrip=False, single_word=False, normalized=True)]}), padding=True, max_length=None, max_length_labels=None, pad_to_multiple_of=None, pad_to_multiple_of_labels=None)"
      ]
     },
     "execution_count": 349,
     "metadata": {},
     "output_type": "execute_result"
    }
   ],
   "source": [
    "data_collator"
   ]
  },
  {
   "cell_type": "code",
   "execution_count": 350,
   "id": "4d3444d4-2055-42b1-b52e-c1d5b250cf88",
   "metadata": {},
   "outputs": [],
   "source": [
    "wer_metric = load_metric(\"wer\")"
   ]
  },
  {
   "cell_type": "code",
   "execution_count": 351,
   "id": "32f4385e-5d80-4cc0-be64-60f21d06fd09",
   "metadata": {},
   "outputs": [
    {
     "data": {
      "text/plain": [
       "Metric(name: \"wer\", features: {'predictions': Value(dtype='string', id='sequence'), 'references': Value(dtype='string', id='sequence')}, usage: \"\"\"\n",
       "Compute WER score of transcribed segments against references.\n",
       "\n",
       "Args:\n",
       "    references: List of references for each speech input.\n",
       "    predictions: List of transcriptions to score.\n",
       "    concatenate_texts (bool, default=False): Whether to concatenate all input texts or compute WER iteratively.\n",
       "\n",
       "Returns:\n",
       "    (float): the word error rate\n",
       "\n",
       "Examples:\n",
       "\n",
       "    >>> predictions = [\"this is the prediction\", \"there is an other sample\"]\n",
       "    >>> references = [\"this is the reference\", \"there is another one\"]\n",
       "    >>> wer = datasets.load_metric(\"wer\")\n",
       "    >>> wer_score = wer.compute(predictions=predictions, references=references)\n",
       "    >>> print(wer_score)\n",
       "    0.5\n",
       "\"\"\", stored examples: 0)"
      ]
     },
     "execution_count": 351,
     "metadata": {},
     "output_type": "execute_result"
    }
   ],
   "source": [
    "wer_metric"
   ]
  },
  {
   "cell_type": "code",
   "execution_count": 352,
   "id": "24bc48b8-8cea-4d7a-a8cf-df0cc9604b3a",
   "metadata": {},
   "outputs": [],
   "source": [
    "def compute_metrics(pred):\n",
    "    pred_logits = pred.predictions\n",
    "    pred_ids = np.argmax(pred_logits, axis=-1)\n",
    "\n",
    "    pred.label_ids[pred.label_ids == -100] = processor.tokenizer.pad_token_id\n",
    "\n",
    "    pred_str = processor.batch_decode(pred_ids)\n",
    "    # we do not want to group tokens when computing the metrics\n",
    "    label_str = processor.batch_decode(pred.label_ids, group_tokens=False)\n",
    "\n",
    "    wer = wer_metric.compute(predictions=pred_str, references=label_str)\n",
    "\n",
    "    return {\"wer\": wer}"
   ]
  },
  {
   "cell_type": "code",
   "execution_count": 353,
   "id": "bfa7299e-9609-4bb1-9cc0-c9765144f05d",
   "metadata": {},
   "outputs": [
    {
     "data": {
      "text/plain": [
       "66"
      ]
     },
     "execution_count": 353,
     "metadata": {},
     "output_type": "execute_result"
    }
   ],
   "source": [
    "len(processor.tokenizer)"
   ]
  },
  {
   "cell_type": "code",
   "execution_count": 354,
   "id": "b6090a62-86b6-4454-98d3-a93ac63f3d48",
   "metadata": {},
   "outputs": [
    {
     "name": "stderr",
     "output_type": "stream",
     "text": [
      "Some weights of the model checkpoint at facebook/wav2vec2-large-xlsr-53 were not used when initializing Wav2Vec2ForCTC: ['project_q.bias', 'project_hid.bias', 'quantizer.weight_proj.weight', 'quantizer.weight_proj.bias', 'project_q.weight', 'project_hid.weight', 'quantizer.codevectors']\n",
      "- This IS expected if you are initializing Wav2Vec2ForCTC from the checkpoint of a model trained on another task or with another architecture (e.g. initializing a BertForSequenceClassification model from a BertForPreTraining model).\n",
      "- This IS NOT expected if you are initializing Wav2Vec2ForCTC from the checkpoint of a model that you expect to be exactly identical (initializing a BertForSequenceClassification model from a BertForSequenceClassification model).\n",
      "Some weights of Wav2Vec2ForCTC were not initialized from the model checkpoint at facebook/wav2vec2-large-xlsr-53 and are newly initialized: ['lm_head.weight', 'lm_head.bias']\n",
      "You should probably TRAIN this model on a down-stream task to be able to use it for predictions and inference.\n"
     ]
    }
   ],
   "source": [
    "from transformers import AutoModelForCTC\n",
    "\n",
    "model = AutoModelForCTC.from_pretrained(\n",
    "    model_checkpoint,\n",
    "    attention_dropout=0.1,\n",
    "    hidden_dropout=0.1,\n",
    "    feat_proj_dropout=0.0,\n",
    "    mask_time_prob=0.05,\n",
    "    layerdrop=0.1,\n",
    "    ctc_loss_reduction=\"mean\", \n",
    "    pad_token_id=processor.tokenizer.pad_token_id,\n",
    "    vocab_size=len(processor.tokenizer)\n",
    ")"
   ]
  },
  {
   "cell_type": "code",
   "execution_count": 355,
   "id": "2ce4fb8f-3086-49e5-ba65-faa6cc3e7515",
   "metadata": {},
   "outputs": [
    {
     "data": {
      "text/plain": [
       "Wav2Vec2ForCTC(\n",
       "  (wav2vec2): Wav2Vec2Model(\n",
       "    (feature_extractor): Wav2Vec2FeatureEncoder(\n",
       "      (conv_layers): ModuleList(\n",
       "        (0): Wav2Vec2LayerNormConvLayer(\n",
       "          (conv): Conv1d(1, 512, kernel_size=(10,), stride=(5,))\n",
       "          (layer_norm): LayerNorm((512,), eps=1e-05, elementwise_affine=True)\n",
       "          (activation): GELUActivation()\n",
       "        )\n",
       "        (1): Wav2Vec2LayerNormConvLayer(\n",
       "          (conv): Conv1d(512, 512, kernel_size=(3,), stride=(2,))\n",
       "          (layer_norm): LayerNorm((512,), eps=1e-05, elementwise_affine=True)\n",
       "          (activation): GELUActivation()\n",
       "        )\n",
       "        (2): Wav2Vec2LayerNormConvLayer(\n",
       "          (conv): Conv1d(512, 512, kernel_size=(3,), stride=(2,))\n",
       "          (layer_norm): LayerNorm((512,), eps=1e-05, elementwise_affine=True)\n",
       "          (activation): GELUActivation()\n",
       "        )\n",
       "        (3): Wav2Vec2LayerNormConvLayer(\n",
       "          (conv): Conv1d(512, 512, kernel_size=(3,), stride=(2,))\n",
       "          (layer_norm): LayerNorm((512,), eps=1e-05, elementwise_affine=True)\n",
       "          (activation): GELUActivation()\n",
       "        )\n",
       "        (4): Wav2Vec2LayerNormConvLayer(\n",
       "          (conv): Conv1d(512, 512, kernel_size=(3,), stride=(2,))\n",
       "          (layer_norm): LayerNorm((512,), eps=1e-05, elementwise_affine=True)\n",
       "          (activation): GELUActivation()\n",
       "        )\n",
       "        (5): Wav2Vec2LayerNormConvLayer(\n",
       "          (conv): Conv1d(512, 512, kernel_size=(2,), stride=(2,))\n",
       "          (layer_norm): LayerNorm((512,), eps=1e-05, elementwise_affine=True)\n",
       "          (activation): GELUActivation()\n",
       "        )\n",
       "        (6): Wav2Vec2LayerNormConvLayer(\n",
       "          (conv): Conv1d(512, 512, kernel_size=(2,), stride=(2,))\n",
       "          (layer_norm): LayerNorm((512,), eps=1e-05, elementwise_affine=True)\n",
       "          (activation): GELUActivation()\n",
       "        )\n",
       "      )\n",
       "    )\n",
       "    (feature_projection): Wav2Vec2FeatureProjection(\n",
       "      (layer_norm): LayerNorm((512,), eps=1e-05, elementwise_affine=True)\n",
       "      (projection): Linear(in_features=512, out_features=1024, bias=True)\n",
       "      (dropout): Dropout(p=0.0, inplace=False)\n",
       "    )\n",
       "    (encoder): Wav2Vec2EncoderStableLayerNorm(\n",
       "      (pos_conv_embed): Wav2Vec2PositionalConvEmbedding(\n",
       "        (conv): Conv1d(1024, 1024, kernel_size=(128,), stride=(1,), padding=(64,), groups=16)\n",
       "        (padding): Wav2Vec2SamePadLayer()\n",
       "        (activation): GELUActivation()\n",
       "      )\n",
       "      (layer_norm): LayerNorm((1024,), eps=1e-05, elementwise_affine=True)\n",
       "      (dropout): Dropout(p=0.1, inplace=False)\n",
       "      (layers): ModuleList(\n",
       "        (0): Wav2Vec2EncoderLayerStableLayerNorm(\n",
       "          (attention): Wav2Vec2Attention(\n",
       "            (k_proj): Linear(in_features=1024, out_features=1024, bias=True)\n",
       "            (v_proj): Linear(in_features=1024, out_features=1024, bias=True)\n",
       "            (q_proj): Linear(in_features=1024, out_features=1024, bias=True)\n",
       "            (out_proj): Linear(in_features=1024, out_features=1024, bias=True)\n",
       "          )\n",
       "          (dropout): Dropout(p=0.1, inplace=False)\n",
       "          (layer_norm): LayerNorm((1024,), eps=1e-05, elementwise_affine=True)\n",
       "          (feed_forward): Wav2Vec2FeedForward(\n",
       "            (intermediate_dropout): Dropout(p=0.0, inplace=False)\n",
       "            (intermediate_dense): Linear(in_features=1024, out_features=4096, bias=True)\n",
       "            (intermediate_act_fn): GELUActivation()\n",
       "            (output_dense): Linear(in_features=4096, out_features=1024, bias=True)\n",
       "            (output_dropout): Dropout(p=0.1, inplace=False)\n",
       "          )\n",
       "          (final_layer_norm): LayerNorm((1024,), eps=1e-05, elementwise_affine=True)\n",
       "        )\n",
       "        (1): Wav2Vec2EncoderLayerStableLayerNorm(\n",
       "          (attention): Wav2Vec2Attention(\n",
       "            (k_proj): Linear(in_features=1024, out_features=1024, bias=True)\n",
       "            (v_proj): Linear(in_features=1024, out_features=1024, bias=True)\n",
       "            (q_proj): Linear(in_features=1024, out_features=1024, bias=True)\n",
       "            (out_proj): Linear(in_features=1024, out_features=1024, bias=True)\n",
       "          )\n",
       "          (dropout): Dropout(p=0.1, inplace=False)\n",
       "          (layer_norm): LayerNorm((1024,), eps=1e-05, elementwise_affine=True)\n",
       "          (feed_forward): Wav2Vec2FeedForward(\n",
       "            (intermediate_dropout): Dropout(p=0.0, inplace=False)\n",
       "            (intermediate_dense): Linear(in_features=1024, out_features=4096, bias=True)\n",
       "            (intermediate_act_fn): GELUActivation()\n",
       "            (output_dense): Linear(in_features=4096, out_features=1024, bias=True)\n",
       "            (output_dropout): Dropout(p=0.1, inplace=False)\n",
       "          )\n",
       "          (final_layer_norm): LayerNorm((1024,), eps=1e-05, elementwise_affine=True)\n",
       "        )\n",
       "        (2): Wav2Vec2EncoderLayerStableLayerNorm(\n",
       "          (attention): Wav2Vec2Attention(\n",
       "            (k_proj): Linear(in_features=1024, out_features=1024, bias=True)\n",
       "            (v_proj): Linear(in_features=1024, out_features=1024, bias=True)\n",
       "            (q_proj): Linear(in_features=1024, out_features=1024, bias=True)\n",
       "            (out_proj): Linear(in_features=1024, out_features=1024, bias=True)\n",
       "          )\n",
       "          (dropout): Dropout(p=0.1, inplace=False)\n",
       "          (layer_norm): LayerNorm((1024,), eps=1e-05, elementwise_affine=True)\n",
       "          (feed_forward): Wav2Vec2FeedForward(\n",
       "            (intermediate_dropout): Dropout(p=0.0, inplace=False)\n",
       "            (intermediate_dense): Linear(in_features=1024, out_features=4096, bias=True)\n",
       "            (intermediate_act_fn): GELUActivation()\n",
       "            (output_dense): Linear(in_features=4096, out_features=1024, bias=True)\n",
       "            (output_dropout): Dropout(p=0.1, inplace=False)\n",
       "          )\n",
       "          (final_layer_norm): LayerNorm((1024,), eps=1e-05, elementwise_affine=True)\n",
       "        )\n",
       "        (3): Wav2Vec2EncoderLayerStableLayerNorm(\n",
       "          (attention): Wav2Vec2Attention(\n",
       "            (k_proj): Linear(in_features=1024, out_features=1024, bias=True)\n",
       "            (v_proj): Linear(in_features=1024, out_features=1024, bias=True)\n",
       "            (q_proj): Linear(in_features=1024, out_features=1024, bias=True)\n",
       "            (out_proj): Linear(in_features=1024, out_features=1024, bias=True)\n",
       "          )\n",
       "          (dropout): Dropout(p=0.1, inplace=False)\n",
       "          (layer_norm): LayerNorm((1024,), eps=1e-05, elementwise_affine=True)\n",
       "          (feed_forward): Wav2Vec2FeedForward(\n",
       "            (intermediate_dropout): Dropout(p=0.0, inplace=False)\n",
       "            (intermediate_dense): Linear(in_features=1024, out_features=4096, bias=True)\n",
       "            (intermediate_act_fn): GELUActivation()\n",
       "            (output_dense): Linear(in_features=4096, out_features=1024, bias=True)\n",
       "            (output_dropout): Dropout(p=0.1, inplace=False)\n",
       "          )\n",
       "          (final_layer_norm): LayerNorm((1024,), eps=1e-05, elementwise_affine=True)\n",
       "        )\n",
       "        (4): Wav2Vec2EncoderLayerStableLayerNorm(\n",
       "          (attention): Wav2Vec2Attention(\n",
       "            (k_proj): Linear(in_features=1024, out_features=1024, bias=True)\n",
       "            (v_proj): Linear(in_features=1024, out_features=1024, bias=True)\n",
       "            (q_proj): Linear(in_features=1024, out_features=1024, bias=True)\n",
       "            (out_proj): Linear(in_features=1024, out_features=1024, bias=True)\n",
       "          )\n",
       "          (dropout): Dropout(p=0.1, inplace=False)\n",
       "          (layer_norm): LayerNorm((1024,), eps=1e-05, elementwise_affine=True)\n",
       "          (feed_forward): Wav2Vec2FeedForward(\n",
       "            (intermediate_dropout): Dropout(p=0.0, inplace=False)\n",
       "            (intermediate_dense): Linear(in_features=1024, out_features=4096, bias=True)\n",
       "            (intermediate_act_fn): GELUActivation()\n",
       "            (output_dense): Linear(in_features=4096, out_features=1024, bias=True)\n",
       "            (output_dropout): Dropout(p=0.1, inplace=False)\n",
       "          )\n",
       "          (final_layer_norm): LayerNorm((1024,), eps=1e-05, elementwise_affine=True)\n",
       "        )\n",
       "        (5): Wav2Vec2EncoderLayerStableLayerNorm(\n",
       "          (attention): Wav2Vec2Attention(\n",
       "            (k_proj): Linear(in_features=1024, out_features=1024, bias=True)\n",
       "            (v_proj): Linear(in_features=1024, out_features=1024, bias=True)\n",
       "            (q_proj): Linear(in_features=1024, out_features=1024, bias=True)\n",
       "            (out_proj): Linear(in_features=1024, out_features=1024, bias=True)\n",
       "          )\n",
       "          (dropout): Dropout(p=0.1, inplace=False)\n",
       "          (layer_norm): LayerNorm((1024,), eps=1e-05, elementwise_affine=True)\n",
       "          (feed_forward): Wav2Vec2FeedForward(\n",
       "            (intermediate_dropout): Dropout(p=0.0, inplace=False)\n",
       "            (intermediate_dense): Linear(in_features=1024, out_features=4096, bias=True)\n",
       "            (intermediate_act_fn): GELUActivation()\n",
       "            (output_dense): Linear(in_features=4096, out_features=1024, bias=True)\n",
       "            (output_dropout): Dropout(p=0.1, inplace=False)\n",
       "          )\n",
       "          (final_layer_norm): LayerNorm((1024,), eps=1e-05, elementwise_affine=True)\n",
       "        )\n",
       "        (6): Wav2Vec2EncoderLayerStableLayerNorm(\n",
       "          (attention): Wav2Vec2Attention(\n",
       "            (k_proj): Linear(in_features=1024, out_features=1024, bias=True)\n",
       "            (v_proj): Linear(in_features=1024, out_features=1024, bias=True)\n",
       "            (q_proj): Linear(in_features=1024, out_features=1024, bias=True)\n",
       "            (out_proj): Linear(in_features=1024, out_features=1024, bias=True)\n",
       "          )\n",
       "          (dropout): Dropout(p=0.1, inplace=False)\n",
       "          (layer_norm): LayerNorm((1024,), eps=1e-05, elementwise_affine=True)\n",
       "          (feed_forward): Wav2Vec2FeedForward(\n",
       "            (intermediate_dropout): Dropout(p=0.0, inplace=False)\n",
       "            (intermediate_dense): Linear(in_features=1024, out_features=4096, bias=True)\n",
       "            (intermediate_act_fn): GELUActivation()\n",
       "            (output_dense): Linear(in_features=4096, out_features=1024, bias=True)\n",
       "            (output_dropout): Dropout(p=0.1, inplace=False)\n",
       "          )\n",
       "          (final_layer_norm): LayerNorm((1024,), eps=1e-05, elementwise_affine=True)\n",
       "        )\n",
       "        (7): Wav2Vec2EncoderLayerStableLayerNorm(\n",
       "          (attention): Wav2Vec2Attention(\n",
       "            (k_proj): Linear(in_features=1024, out_features=1024, bias=True)\n",
       "            (v_proj): Linear(in_features=1024, out_features=1024, bias=True)\n",
       "            (q_proj): Linear(in_features=1024, out_features=1024, bias=True)\n",
       "            (out_proj): Linear(in_features=1024, out_features=1024, bias=True)\n",
       "          )\n",
       "          (dropout): Dropout(p=0.1, inplace=False)\n",
       "          (layer_norm): LayerNorm((1024,), eps=1e-05, elementwise_affine=True)\n",
       "          (feed_forward): Wav2Vec2FeedForward(\n",
       "            (intermediate_dropout): Dropout(p=0.0, inplace=False)\n",
       "            (intermediate_dense): Linear(in_features=1024, out_features=4096, bias=True)\n",
       "            (intermediate_act_fn): GELUActivation()\n",
       "            (output_dense): Linear(in_features=4096, out_features=1024, bias=True)\n",
       "            (output_dropout): Dropout(p=0.1, inplace=False)\n",
       "          )\n",
       "          (final_layer_norm): LayerNorm((1024,), eps=1e-05, elementwise_affine=True)\n",
       "        )\n",
       "        (8): Wav2Vec2EncoderLayerStableLayerNorm(\n",
       "          (attention): Wav2Vec2Attention(\n",
       "            (k_proj): Linear(in_features=1024, out_features=1024, bias=True)\n",
       "            (v_proj): Linear(in_features=1024, out_features=1024, bias=True)\n",
       "            (q_proj): Linear(in_features=1024, out_features=1024, bias=True)\n",
       "            (out_proj): Linear(in_features=1024, out_features=1024, bias=True)\n",
       "          )\n",
       "          (dropout): Dropout(p=0.1, inplace=False)\n",
       "          (layer_norm): LayerNorm((1024,), eps=1e-05, elementwise_affine=True)\n",
       "          (feed_forward): Wav2Vec2FeedForward(\n",
       "            (intermediate_dropout): Dropout(p=0.0, inplace=False)\n",
       "            (intermediate_dense): Linear(in_features=1024, out_features=4096, bias=True)\n",
       "            (intermediate_act_fn): GELUActivation()\n",
       "            (output_dense): Linear(in_features=4096, out_features=1024, bias=True)\n",
       "            (output_dropout): Dropout(p=0.1, inplace=False)\n",
       "          )\n",
       "          (final_layer_norm): LayerNorm((1024,), eps=1e-05, elementwise_affine=True)\n",
       "        )\n",
       "        (9): Wav2Vec2EncoderLayerStableLayerNorm(\n",
       "          (attention): Wav2Vec2Attention(\n",
       "            (k_proj): Linear(in_features=1024, out_features=1024, bias=True)\n",
       "            (v_proj): Linear(in_features=1024, out_features=1024, bias=True)\n",
       "            (q_proj): Linear(in_features=1024, out_features=1024, bias=True)\n",
       "            (out_proj): Linear(in_features=1024, out_features=1024, bias=True)\n",
       "          )\n",
       "          (dropout): Dropout(p=0.1, inplace=False)\n",
       "          (layer_norm): LayerNorm((1024,), eps=1e-05, elementwise_affine=True)\n",
       "          (feed_forward): Wav2Vec2FeedForward(\n",
       "            (intermediate_dropout): Dropout(p=0.0, inplace=False)\n",
       "            (intermediate_dense): Linear(in_features=1024, out_features=4096, bias=True)\n",
       "            (intermediate_act_fn): GELUActivation()\n",
       "            (output_dense): Linear(in_features=4096, out_features=1024, bias=True)\n",
       "            (output_dropout): Dropout(p=0.1, inplace=False)\n",
       "          )\n",
       "          (final_layer_norm): LayerNorm((1024,), eps=1e-05, elementwise_affine=True)\n",
       "        )\n",
       "        (10): Wav2Vec2EncoderLayerStableLayerNorm(\n",
       "          (attention): Wav2Vec2Attention(\n",
       "            (k_proj): Linear(in_features=1024, out_features=1024, bias=True)\n",
       "            (v_proj): Linear(in_features=1024, out_features=1024, bias=True)\n",
       "            (q_proj): Linear(in_features=1024, out_features=1024, bias=True)\n",
       "            (out_proj): Linear(in_features=1024, out_features=1024, bias=True)\n",
       "          )\n",
       "          (dropout): Dropout(p=0.1, inplace=False)\n",
       "          (layer_norm): LayerNorm((1024,), eps=1e-05, elementwise_affine=True)\n",
       "          (feed_forward): Wav2Vec2FeedForward(\n",
       "            (intermediate_dropout): Dropout(p=0.0, inplace=False)\n",
       "            (intermediate_dense): Linear(in_features=1024, out_features=4096, bias=True)\n",
       "            (intermediate_act_fn): GELUActivation()\n",
       "            (output_dense): Linear(in_features=4096, out_features=1024, bias=True)\n",
       "            (output_dropout): Dropout(p=0.1, inplace=False)\n",
       "          )\n",
       "          (final_layer_norm): LayerNorm((1024,), eps=1e-05, elementwise_affine=True)\n",
       "        )\n",
       "        (11): Wav2Vec2EncoderLayerStableLayerNorm(\n",
       "          (attention): Wav2Vec2Attention(\n",
       "            (k_proj): Linear(in_features=1024, out_features=1024, bias=True)\n",
       "            (v_proj): Linear(in_features=1024, out_features=1024, bias=True)\n",
       "            (q_proj): Linear(in_features=1024, out_features=1024, bias=True)\n",
       "            (out_proj): Linear(in_features=1024, out_features=1024, bias=True)\n",
       "          )\n",
       "          (dropout): Dropout(p=0.1, inplace=False)\n",
       "          (layer_norm): LayerNorm((1024,), eps=1e-05, elementwise_affine=True)\n",
       "          (feed_forward): Wav2Vec2FeedForward(\n",
       "            (intermediate_dropout): Dropout(p=0.0, inplace=False)\n",
       "            (intermediate_dense): Linear(in_features=1024, out_features=4096, bias=True)\n",
       "            (intermediate_act_fn): GELUActivation()\n",
       "            (output_dense): Linear(in_features=4096, out_features=1024, bias=True)\n",
       "            (output_dropout): Dropout(p=0.1, inplace=False)\n",
       "          )\n",
       "          (final_layer_norm): LayerNorm((1024,), eps=1e-05, elementwise_affine=True)\n",
       "        )\n",
       "        (12): Wav2Vec2EncoderLayerStableLayerNorm(\n",
       "          (attention): Wav2Vec2Attention(\n",
       "            (k_proj): Linear(in_features=1024, out_features=1024, bias=True)\n",
       "            (v_proj): Linear(in_features=1024, out_features=1024, bias=True)\n",
       "            (q_proj): Linear(in_features=1024, out_features=1024, bias=True)\n",
       "            (out_proj): Linear(in_features=1024, out_features=1024, bias=True)\n",
       "          )\n",
       "          (dropout): Dropout(p=0.1, inplace=False)\n",
       "          (layer_norm): LayerNorm((1024,), eps=1e-05, elementwise_affine=True)\n",
       "          (feed_forward): Wav2Vec2FeedForward(\n",
       "            (intermediate_dropout): Dropout(p=0.0, inplace=False)\n",
       "            (intermediate_dense): Linear(in_features=1024, out_features=4096, bias=True)\n",
       "            (intermediate_act_fn): GELUActivation()\n",
       "            (output_dense): Linear(in_features=4096, out_features=1024, bias=True)\n",
       "            (output_dropout): Dropout(p=0.1, inplace=False)\n",
       "          )\n",
       "          (final_layer_norm): LayerNorm((1024,), eps=1e-05, elementwise_affine=True)\n",
       "        )\n",
       "        (13): Wav2Vec2EncoderLayerStableLayerNorm(\n",
       "          (attention): Wav2Vec2Attention(\n",
       "            (k_proj): Linear(in_features=1024, out_features=1024, bias=True)\n",
       "            (v_proj): Linear(in_features=1024, out_features=1024, bias=True)\n",
       "            (q_proj): Linear(in_features=1024, out_features=1024, bias=True)\n",
       "            (out_proj): Linear(in_features=1024, out_features=1024, bias=True)\n",
       "          )\n",
       "          (dropout): Dropout(p=0.1, inplace=False)\n",
       "          (layer_norm): LayerNorm((1024,), eps=1e-05, elementwise_affine=True)\n",
       "          (feed_forward): Wav2Vec2FeedForward(\n",
       "            (intermediate_dropout): Dropout(p=0.0, inplace=False)\n",
       "            (intermediate_dense): Linear(in_features=1024, out_features=4096, bias=True)\n",
       "            (intermediate_act_fn): GELUActivation()\n",
       "            (output_dense): Linear(in_features=4096, out_features=1024, bias=True)\n",
       "            (output_dropout): Dropout(p=0.1, inplace=False)\n",
       "          )\n",
       "          (final_layer_norm): LayerNorm((1024,), eps=1e-05, elementwise_affine=True)\n",
       "        )\n",
       "        (14): Wav2Vec2EncoderLayerStableLayerNorm(\n",
       "          (attention): Wav2Vec2Attention(\n",
       "            (k_proj): Linear(in_features=1024, out_features=1024, bias=True)\n",
       "            (v_proj): Linear(in_features=1024, out_features=1024, bias=True)\n",
       "            (q_proj): Linear(in_features=1024, out_features=1024, bias=True)\n",
       "            (out_proj): Linear(in_features=1024, out_features=1024, bias=True)\n",
       "          )\n",
       "          (dropout): Dropout(p=0.1, inplace=False)\n",
       "          (layer_norm): LayerNorm((1024,), eps=1e-05, elementwise_affine=True)\n",
       "          (feed_forward): Wav2Vec2FeedForward(\n",
       "            (intermediate_dropout): Dropout(p=0.0, inplace=False)\n",
       "            (intermediate_dense): Linear(in_features=1024, out_features=4096, bias=True)\n",
       "            (intermediate_act_fn): GELUActivation()\n",
       "            (output_dense): Linear(in_features=4096, out_features=1024, bias=True)\n",
       "            (output_dropout): Dropout(p=0.1, inplace=False)\n",
       "          )\n",
       "          (final_layer_norm): LayerNorm((1024,), eps=1e-05, elementwise_affine=True)\n",
       "        )\n",
       "        (15): Wav2Vec2EncoderLayerStableLayerNorm(\n",
       "          (attention): Wav2Vec2Attention(\n",
       "            (k_proj): Linear(in_features=1024, out_features=1024, bias=True)\n",
       "            (v_proj): Linear(in_features=1024, out_features=1024, bias=True)\n",
       "            (q_proj): Linear(in_features=1024, out_features=1024, bias=True)\n",
       "            (out_proj): Linear(in_features=1024, out_features=1024, bias=True)\n",
       "          )\n",
       "          (dropout): Dropout(p=0.1, inplace=False)\n",
       "          (layer_norm): LayerNorm((1024,), eps=1e-05, elementwise_affine=True)\n",
       "          (feed_forward): Wav2Vec2FeedForward(\n",
       "            (intermediate_dropout): Dropout(p=0.0, inplace=False)\n",
       "            (intermediate_dense): Linear(in_features=1024, out_features=4096, bias=True)\n",
       "            (intermediate_act_fn): GELUActivation()\n",
       "            (output_dense): Linear(in_features=4096, out_features=1024, bias=True)\n",
       "            (output_dropout): Dropout(p=0.1, inplace=False)\n",
       "          )\n",
       "          (final_layer_norm): LayerNorm((1024,), eps=1e-05, elementwise_affine=True)\n",
       "        )\n",
       "        (16): Wav2Vec2EncoderLayerStableLayerNorm(\n",
       "          (attention): Wav2Vec2Attention(\n",
       "            (k_proj): Linear(in_features=1024, out_features=1024, bias=True)\n",
       "            (v_proj): Linear(in_features=1024, out_features=1024, bias=True)\n",
       "            (q_proj): Linear(in_features=1024, out_features=1024, bias=True)\n",
       "            (out_proj): Linear(in_features=1024, out_features=1024, bias=True)\n",
       "          )\n",
       "          (dropout): Dropout(p=0.1, inplace=False)\n",
       "          (layer_norm): LayerNorm((1024,), eps=1e-05, elementwise_affine=True)\n",
       "          (feed_forward): Wav2Vec2FeedForward(\n",
       "            (intermediate_dropout): Dropout(p=0.0, inplace=False)\n",
       "            (intermediate_dense): Linear(in_features=1024, out_features=4096, bias=True)\n",
       "            (intermediate_act_fn): GELUActivation()\n",
       "            (output_dense): Linear(in_features=4096, out_features=1024, bias=True)\n",
       "            (output_dropout): Dropout(p=0.1, inplace=False)\n",
       "          )\n",
       "          (final_layer_norm): LayerNorm((1024,), eps=1e-05, elementwise_affine=True)\n",
       "        )\n",
       "        (17): Wav2Vec2EncoderLayerStableLayerNorm(\n",
       "          (attention): Wav2Vec2Attention(\n",
       "            (k_proj): Linear(in_features=1024, out_features=1024, bias=True)\n",
       "            (v_proj): Linear(in_features=1024, out_features=1024, bias=True)\n",
       "            (q_proj): Linear(in_features=1024, out_features=1024, bias=True)\n",
       "            (out_proj): Linear(in_features=1024, out_features=1024, bias=True)\n",
       "          )\n",
       "          (dropout): Dropout(p=0.1, inplace=False)\n",
       "          (layer_norm): LayerNorm((1024,), eps=1e-05, elementwise_affine=True)\n",
       "          (feed_forward): Wav2Vec2FeedForward(\n",
       "            (intermediate_dropout): Dropout(p=0.0, inplace=False)\n",
       "            (intermediate_dense): Linear(in_features=1024, out_features=4096, bias=True)\n",
       "            (intermediate_act_fn): GELUActivation()\n",
       "            (output_dense): Linear(in_features=4096, out_features=1024, bias=True)\n",
       "            (output_dropout): Dropout(p=0.1, inplace=False)\n",
       "          )\n",
       "          (final_layer_norm): LayerNorm((1024,), eps=1e-05, elementwise_affine=True)\n",
       "        )\n",
       "        (18): Wav2Vec2EncoderLayerStableLayerNorm(\n",
       "          (attention): Wav2Vec2Attention(\n",
       "            (k_proj): Linear(in_features=1024, out_features=1024, bias=True)\n",
       "            (v_proj): Linear(in_features=1024, out_features=1024, bias=True)\n",
       "            (q_proj): Linear(in_features=1024, out_features=1024, bias=True)\n",
       "            (out_proj): Linear(in_features=1024, out_features=1024, bias=True)\n",
       "          )\n",
       "          (dropout): Dropout(p=0.1, inplace=False)\n",
       "          (layer_norm): LayerNorm((1024,), eps=1e-05, elementwise_affine=True)\n",
       "          (feed_forward): Wav2Vec2FeedForward(\n",
       "            (intermediate_dropout): Dropout(p=0.0, inplace=False)\n",
       "            (intermediate_dense): Linear(in_features=1024, out_features=4096, bias=True)\n",
       "            (intermediate_act_fn): GELUActivation()\n",
       "            (output_dense): Linear(in_features=4096, out_features=1024, bias=True)\n",
       "            (output_dropout): Dropout(p=0.1, inplace=False)\n",
       "          )\n",
       "          (final_layer_norm): LayerNorm((1024,), eps=1e-05, elementwise_affine=True)\n",
       "        )\n",
       "        (19): Wav2Vec2EncoderLayerStableLayerNorm(\n",
       "          (attention): Wav2Vec2Attention(\n",
       "            (k_proj): Linear(in_features=1024, out_features=1024, bias=True)\n",
       "            (v_proj): Linear(in_features=1024, out_features=1024, bias=True)\n",
       "            (q_proj): Linear(in_features=1024, out_features=1024, bias=True)\n",
       "            (out_proj): Linear(in_features=1024, out_features=1024, bias=True)\n",
       "          )\n",
       "          (dropout): Dropout(p=0.1, inplace=False)\n",
       "          (layer_norm): LayerNorm((1024,), eps=1e-05, elementwise_affine=True)\n",
       "          (feed_forward): Wav2Vec2FeedForward(\n",
       "            (intermediate_dropout): Dropout(p=0.0, inplace=False)\n",
       "            (intermediate_dense): Linear(in_features=1024, out_features=4096, bias=True)\n",
       "            (intermediate_act_fn): GELUActivation()\n",
       "            (output_dense): Linear(in_features=4096, out_features=1024, bias=True)\n",
       "            (output_dropout): Dropout(p=0.1, inplace=False)\n",
       "          )\n",
       "          (final_layer_norm): LayerNorm((1024,), eps=1e-05, elementwise_affine=True)\n",
       "        )\n",
       "        (20): Wav2Vec2EncoderLayerStableLayerNorm(\n",
       "          (attention): Wav2Vec2Attention(\n",
       "            (k_proj): Linear(in_features=1024, out_features=1024, bias=True)\n",
       "            (v_proj): Linear(in_features=1024, out_features=1024, bias=True)\n",
       "            (q_proj): Linear(in_features=1024, out_features=1024, bias=True)\n",
       "            (out_proj): Linear(in_features=1024, out_features=1024, bias=True)\n",
       "          )\n",
       "          (dropout): Dropout(p=0.1, inplace=False)\n",
       "          (layer_norm): LayerNorm((1024,), eps=1e-05, elementwise_affine=True)\n",
       "          (feed_forward): Wav2Vec2FeedForward(\n",
       "            (intermediate_dropout): Dropout(p=0.0, inplace=False)\n",
       "            (intermediate_dense): Linear(in_features=1024, out_features=4096, bias=True)\n",
       "            (intermediate_act_fn): GELUActivation()\n",
       "            (output_dense): Linear(in_features=4096, out_features=1024, bias=True)\n",
       "            (output_dropout): Dropout(p=0.1, inplace=False)\n",
       "          )\n",
       "          (final_layer_norm): LayerNorm((1024,), eps=1e-05, elementwise_affine=True)\n",
       "        )\n",
       "        (21): Wav2Vec2EncoderLayerStableLayerNorm(\n",
       "          (attention): Wav2Vec2Attention(\n",
       "            (k_proj): Linear(in_features=1024, out_features=1024, bias=True)\n",
       "            (v_proj): Linear(in_features=1024, out_features=1024, bias=True)\n",
       "            (q_proj): Linear(in_features=1024, out_features=1024, bias=True)\n",
       "            (out_proj): Linear(in_features=1024, out_features=1024, bias=True)\n",
       "          )\n",
       "          (dropout): Dropout(p=0.1, inplace=False)\n",
       "          (layer_norm): LayerNorm((1024,), eps=1e-05, elementwise_affine=True)\n",
       "          (feed_forward): Wav2Vec2FeedForward(\n",
       "            (intermediate_dropout): Dropout(p=0.0, inplace=False)\n",
       "            (intermediate_dense): Linear(in_features=1024, out_features=4096, bias=True)\n",
       "            (intermediate_act_fn): GELUActivation()\n",
       "            (output_dense): Linear(in_features=4096, out_features=1024, bias=True)\n",
       "            (output_dropout): Dropout(p=0.1, inplace=False)\n",
       "          )\n",
       "          (final_layer_norm): LayerNorm((1024,), eps=1e-05, elementwise_affine=True)\n",
       "        )\n",
       "        (22): Wav2Vec2EncoderLayerStableLayerNorm(\n",
       "          (attention): Wav2Vec2Attention(\n",
       "            (k_proj): Linear(in_features=1024, out_features=1024, bias=True)\n",
       "            (v_proj): Linear(in_features=1024, out_features=1024, bias=True)\n",
       "            (q_proj): Linear(in_features=1024, out_features=1024, bias=True)\n",
       "            (out_proj): Linear(in_features=1024, out_features=1024, bias=True)\n",
       "          )\n",
       "          (dropout): Dropout(p=0.1, inplace=False)\n",
       "          (layer_norm): LayerNorm((1024,), eps=1e-05, elementwise_affine=True)\n",
       "          (feed_forward): Wav2Vec2FeedForward(\n",
       "            (intermediate_dropout): Dropout(p=0.0, inplace=False)\n",
       "            (intermediate_dense): Linear(in_features=1024, out_features=4096, bias=True)\n",
       "            (intermediate_act_fn): GELUActivation()\n",
       "            (output_dense): Linear(in_features=4096, out_features=1024, bias=True)\n",
       "            (output_dropout): Dropout(p=0.1, inplace=False)\n",
       "          )\n",
       "          (final_layer_norm): LayerNorm((1024,), eps=1e-05, elementwise_affine=True)\n",
       "        )\n",
       "        (23): Wav2Vec2EncoderLayerStableLayerNorm(\n",
       "          (attention): Wav2Vec2Attention(\n",
       "            (k_proj): Linear(in_features=1024, out_features=1024, bias=True)\n",
       "            (v_proj): Linear(in_features=1024, out_features=1024, bias=True)\n",
       "            (q_proj): Linear(in_features=1024, out_features=1024, bias=True)\n",
       "            (out_proj): Linear(in_features=1024, out_features=1024, bias=True)\n",
       "          )\n",
       "          (dropout): Dropout(p=0.1, inplace=False)\n",
       "          (layer_norm): LayerNorm((1024,), eps=1e-05, elementwise_affine=True)\n",
       "          (feed_forward): Wav2Vec2FeedForward(\n",
       "            (intermediate_dropout): Dropout(p=0.0, inplace=False)\n",
       "            (intermediate_dense): Linear(in_features=1024, out_features=4096, bias=True)\n",
       "            (intermediate_act_fn): GELUActivation()\n",
       "            (output_dense): Linear(in_features=4096, out_features=1024, bias=True)\n",
       "            (output_dropout): Dropout(p=0.1, inplace=False)\n",
       "          )\n",
       "          (final_layer_norm): LayerNorm((1024,), eps=1e-05, elementwise_affine=True)\n",
       "        )\n",
       "      )\n",
       "    )\n",
       "  )\n",
       "  (dropout): Dropout(p=0.0, inplace=False)\n",
       "  (lm_head): Linear(in_features=1024, out_features=66, bias=True)\n",
       ")"
      ]
     },
     "execution_count": 355,
     "metadata": {},
     "output_type": "execute_result"
    }
   ],
   "source": [
    "model"
   ]
  },
  {
   "cell_type": "code",
   "execution_count": 356,
   "id": "fb7f1fd9-1566-45e7-b9e2-3917a8d4f6ad",
   "metadata": {},
   "outputs": [],
   "source": [
    "if hasattr(model, \"freeze_feature_extractor\"):\n",
    "    model.freeze_feature_extractor()"
   ]
  },
  {
   "cell_type": "code",
   "execution_count": 358,
   "id": "78460e43-6393-4a97-8b87-6ceab31238c2",
   "metadata": {},
   "outputs": [],
   "source": [
    "from transformers import TrainingArguments\n",
    "\n",
    "training_args = TrainingArguments(\n",
    "  output_dir='./model',\n",
    "  group_by_length=True,\n",
    "  per_device_train_batch_size=batch_size,\n",
    "  gradient_accumulation_steps=2,\n",
    "  evaluation_strategy=\"steps\",\n",
    "  num_train_epochs=30,\n",
    "  gradient_checkpointing=True,\n",
    "  fp16=True,\n",
    "  save_steps=400,\n",
    "  eval_steps=400,\n",
    "  logging_steps=400,\n",
    "  learning_rate=3e-4,\n",
    "  warmup_steps=500,\n",
    "  save_total_limit=2,\n",
    ")\n",
    "#fp16 is for mixed precision it will only work for gpu"
   ]
  },
  {
   "cell_type": "code",
   "execution_count": 359,
   "id": "34326ecb-385b-4890-b38b-02ed6a247145",
   "metadata": {},
   "outputs": [
    {
     "data": {
      "text/plain": [
       "TrainingArguments(\n",
       "_n_gpu=0,\n",
       "adafactor=False,\n",
       "adam_beta1=0.9,\n",
       "adam_beta2=0.999,\n",
       "adam_epsilon=1e-08,\n",
       "auto_find_batch_size=False,\n",
       "bf16=False,\n",
       "bf16_full_eval=False,\n",
       "data_seed=None,\n",
       "dataloader_drop_last=False,\n",
       "dataloader_num_workers=0,\n",
       "dataloader_pin_memory=True,\n",
       "ddp_bucket_cap_mb=None,\n",
       "ddp_find_unused_parameters=None,\n",
       "debug=[],\n",
       "deepspeed=None,\n",
       "disable_tqdm=False,\n",
       "do_eval=True,\n",
       "do_predict=False,\n",
       "do_train=False,\n",
       "eval_accumulation_steps=None,\n",
       "eval_delay=0,\n",
       "eval_steps=400,\n",
       "evaluation_strategy=IntervalStrategy.STEPS,\n",
       "fp16=False,\n",
       "fp16_backend=auto,\n",
       "fp16_full_eval=False,\n",
       "fp16_opt_level=O1,\n",
       "fsdp=[],\n",
       "fsdp_min_num_params=0,\n",
       "full_determinism=False,\n",
       "gradient_accumulation_steps=2,\n",
       "gradient_checkpointing=True,\n",
       "greater_is_better=None,\n",
       "group_by_length=True,\n",
       "half_precision_backend=auto,\n",
       "hub_model_id=None,\n",
       "hub_private_repo=False,\n",
       "hub_strategy=HubStrategy.EVERY_SAVE,\n",
       "hub_token=<HUB_TOKEN>,\n",
       "ignore_data_skip=False,\n",
       "include_inputs_for_metrics=False,\n",
       "jit_mode_eval=False,\n",
       "label_names=None,\n",
       "label_smoothing_factor=0.0,\n",
       "learning_rate=0.0003,\n",
       "length_column_name=length,\n",
       "load_best_model_at_end=False,\n",
       "local_rank=-1,\n",
       "log_level=-1,\n",
       "log_level_replica=-1,\n",
       "log_on_each_node=True,\n",
       "logging_dir=./model/runs/Jul11_02-35-03_archlinux,\n",
       "logging_first_step=False,\n",
       "logging_nan_inf_filter=True,\n",
       "logging_steps=400,\n",
       "logging_strategy=IntervalStrategy.STEPS,\n",
       "lr_scheduler_type=SchedulerType.LINEAR,\n",
       "max_grad_norm=1.0,\n",
       "max_steps=-1,\n",
       "metric_for_best_model=None,\n",
       "mp_parameters=,\n",
       "no_cuda=False,\n",
       "num_train_epochs=30,\n",
       "optim=OptimizerNames.ADAMW_HF,\n",
       "output_dir=./model,\n",
       "overwrite_output_dir=False,\n",
       "past_index=-1,\n",
       "per_device_eval_batch_size=8,\n",
       "per_device_train_batch_size=16,\n",
       "prediction_loss_only=False,\n",
       "push_to_hub=False,\n",
       "push_to_hub_model_id=None,\n",
       "push_to_hub_organization=None,\n",
       "push_to_hub_token=<PUSH_TO_HUB_TOKEN>,\n",
       "ray_scope=last,\n",
       "remove_unused_columns=True,\n",
       "report_to=[],\n",
       "resume_from_checkpoint=None,\n",
       "run_name=./model,\n",
       "save_on_each_node=False,\n",
       "save_steps=400,\n",
       "save_strategy=IntervalStrategy.STEPS,\n",
       "save_total_limit=2,\n",
       "seed=42,\n",
       "sharded_ddp=[],\n",
       "skip_memory_metrics=True,\n",
       "tf32=None,\n",
       "torchdynamo=None,\n",
       "tpu_metrics_debug=False,\n",
       "tpu_num_cores=None,\n",
       "use_ipex=False,\n",
       "use_legacy_prediction_loop=False,\n",
       "warmup_ratio=0.0,\n",
       "warmup_steps=500,\n",
       "weight_decay=0.0,\n",
       "xpu_backend=None,\n",
       ")"
      ]
     },
     "execution_count": 359,
     "metadata": {},
     "output_type": "execute_result"
    }
   ],
   "source": [
    "training_args"
   ]
  },
  {
   "cell_type": "code",
   "execution_count": 360,
   "id": "7b3b7512-abf0-4456-9cb4-5bae65b4767f",
   "metadata": {},
   "outputs": [],
   "source": [
    "from transformers import Trainer\n",
    "\n",
    "trainer = Trainer(\n",
    "    model=model,\n",
    "    data_collator=data_collator,\n",
    "    args=training_args,\n",
    "    compute_metrics=compute_metrics,\n",
    "    train_dataset=train,\n",
    "    eval_dataset=test,\n",
    "    tokenizer=processor.feature_extractor,\n",
    ")"
   ]
  },
  {
   "cell_type": "code",
   "execution_count": 379,
   "id": "3a3f392d-4fdb-4d69-8002-9da50e865c41",
   "metadata": {},
   "outputs": [
    {
     "data": {
      "text/plain": [
       "Wav2Vec2FeatureExtractor {\n",
       "  \"do_normalize\": true,\n",
       "  \"feature_extractor_type\": \"Wav2Vec2FeatureExtractor\",\n",
       "  \"feature_size\": 1,\n",
       "  \"padding_side\": \"right\",\n",
       "  \"padding_value\": 0,\n",
       "  \"processor_class\": \"Wav2Vec2Processor\",\n",
       "  \"return_attention_mask\": true,\n",
       "  \"sampling_rate\": 16000\n",
       "}"
      ]
     },
     "execution_count": 379,
     "metadata": {},
     "output_type": "execute_result"
    }
   ],
   "source": [
    "trainer.tokenizer"
   ]
  },
  {
   "cell_type": "code",
   "execution_count": 370,
   "id": "56c3ffa9-e6fb-44e0-893a-dbac4e9e1aa5",
   "metadata": {},
   "outputs": [
    {
     "data": {
      "text/plain": [
       "TrainingArguments(\n",
       "_n_gpu=0,\n",
       "adafactor=False,\n",
       "adam_beta1=0.9,\n",
       "adam_beta2=0.999,\n",
       "adam_epsilon=1e-08,\n",
       "auto_find_batch_size=False,\n",
       "bf16=False,\n",
       "bf16_full_eval=False,\n",
       "data_seed=None,\n",
       "dataloader_drop_last=False,\n",
       "dataloader_num_workers=0,\n",
       "dataloader_pin_memory=True,\n",
       "ddp_bucket_cap_mb=None,\n",
       "ddp_find_unused_parameters=None,\n",
       "debug=[],\n",
       "deepspeed=None,\n",
       "disable_tqdm=False,\n",
       "do_eval=True,\n",
       "do_predict=False,\n",
       "do_train=False,\n",
       "eval_accumulation_steps=None,\n",
       "eval_delay=0,\n",
       "eval_steps=400,\n",
       "evaluation_strategy=IntervalStrategy.STEPS,\n",
       "fp16=False,\n",
       "fp16_backend=auto,\n",
       "fp16_full_eval=False,\n",
       "fp16_opt_level=O1,\n",
       "fsdp=[],\n",
       "fsdp_min_num_params=0,\n",
       "full_determinism=False,\n",
       "gradient_accumulation_steps=2,\n",
       "gradient_checkpointing=True,\n",
       "greater_is_better=None,\n",
       "group_by_length=True,\n",
       "half_precision_backend=auto,\n",
       "hub_model_id=None,\n",
       "hub_private_repo=False,\n",
       "hub_strategy=HubStrategy.EVERY_SAVE,\n",
       "hub_token=<HUB_TOKEN>,\n",
       "ignore_data_skip=False,\n",
       "include_inputs_for_metrics=False,\n",
       "jit_mode_eval=False,\n",
       "label_names=None,\n",
       "label_smoothing_factor=0.0,\n",
       "learning_rate=0.0003,\n",
       "length_column_name=length,\n",
       "load_best_model_at_end=False,\n",
       "local_rank=-1,\n",
       "log_level=-1,\n",
       "log_level_replica=-1,\n",
       "log_on_each_node=True,\n",
       "logging_dir=./model/runs/Jul11_02-35-03_archlinux,\n",
       "logging_first_step=False,\n",
       "logging_nan_inf_filter=True,\n",
       "logging_steps=400,\n",
       "logging_strategy=IntervalStrategy.STEPS,\n",
       "lr_scheduler_type=SchedulerType.LINEAR,\n",
       "max_grad_norm=1.0,\n",
       "max_steps=-1,\n",
       "metric_for_best_model=None,\n",
       "mp_parameters=,\n",
       "no_cuda=False,\n",
       "num_train_epochs=30,\n",
       "optim=OptimizerNames.ADAMW_HF,\n",
       "output_dir=./model,\n",
       "overwrite_output_dir=False,\n",
       "past_index=-1,\n",
       "per_device_eval_batch_size=8,\n",
       "per_device_train_batch_size=16,\n",
       "prediction_loss_only=False,\n",
       "push_to_hub=False,\n",
       "push_to_hub_model_id=None,\n",
       "push_to_hub_organization=None,\n",
       "push_to_hub_token=<PUSH_TO_HUB_TOKEN>,\n",
       "ray_scope=last,\n",
       "remove_unused_columns=True,\n",
       "report_to=[],\n",
       "resume_from_checkpoint=None,\n",
       "run_name=./model,\n",
       "save_on_each_node=False,\n",
       "save_steps=400,\n",
       "save_strategy=IntervalStrategy.STEPS,\n",
       "save_total_limit=2,\n",
       "seed=42,\n",
       "sharded_ddp=[],\n",
       "skip_memory_metrics=True,\n",
       "tf32=None,\n",
       "torchdynamo=None,\n",
       "tpu_metrics_debug=False,\n",
       "tpu_num_cores=None,\n",
       "use_ipex=False,\n",
       "use_legacy_prediction_loop=False,\n",
       "warmup_ratio=0.0,\n",
       "warmup_steps=500,\n",
       "weight_decay=0.0,\n",
       "xpu_backend=None,\n",
       ")"
      ]
     },
     "execution_count": 370,
     "metadata": {},
     "output_type": "execute_result"
    }
   ],
   "source": [
    "trainer.args"
   ]
  },
  {
   "cell_type": "code",
   "execution_count": 369,
   "id": "2ee4b608-b08c-4b94-9f26-bb89552598d9",
   "metadata": {},
   "outputs": [
    {
     "data": {
      "text/plain": [
       "DataCollatorCTCWithPadding(processor=Wav2Vec2Processor:\n",
       "- feature_extractor: Wav2Vec2FeatureExtractor {\n",
       "  \"do_normalize\": true,\n",
       "  \"feature_extractor_type\": \"Wav2Vec2FeatureExtractor\",\n",
       "  \"feature_size\": 1,\n",
       "  \"padding_side\": \"right\",\n",
       "  \"padding_value\": 0,\n",
       "  \"processor_class\": \"Wav2Vec2Processor\",\n",
       "  \"return_attention_mask\": true,\n",
       "  \"sampling_rate\": 16000\n",
       "}\n",
       "\n",
       "- tokenizer: PreTrainedTokenizer(name_or_path='./', vocab_size=64, model_max_len=1000000000000000019884624838656, is_fast=False, padding_side='right', truncation_side='right', special_tokens={'bos_token': '<s>', 'eos_token': '</s>', 'unk_token': '[UNK]', 'pad_token': '[PAD]', 'additional_special_tokens': [AddedToken(\"<s>\", rstrip=False, lstrip=False, single_word=False, normalized=True), AddedToken(\"</s>\", rstrip=False, lstrip=False, single_word=False, normalized=True)]}), padding=True, max_length=None, max_length_labels=None, pad_to_multiple_of=None, pad_to_multiple_of_labels=None)"
      ]
     },
     "execution_count": 369,
     "metadata": {},
     "output_type": "execute_result"
    }
   ],
   "source": [
    "trainer.data_collator"
   ]
  },
  {
   "cell_type": "markdown",
   "id": "3c22c758-efad-474a-90fa-3bbeafc68cc3",
   "metadata": {},
   "source": [
    "## Training the model"
   ]
  },
  {
   "cell_type": "code",
   "execution_count": null,
   "id": "55042d46-b4a9-47d1-8416-04177c9f1827",
   "metadata": {},
   "outputs": [],
   "source": [
    "trainer.train()"
   ]
  },
  {
   "cell_type": "code",
   "execution_count": null,
   "id": "38aa1878-5bfa-482b-b186-3933839a898f",
   "metadata": {},
   "outputs": [],
   "source": [
    "model.save_pretrained(\"wav2vec2_bn\")\n",
    "processor.save_pretrained(\"wav2vec2_bn\")"
   ]
  },
  {
   "cell_type": "code",
   "execution_count": null,
   "id": "5715e972-0ccf-4e9a-84c7-12f45f1667d8",
   "metadata": {},
   "outputs": [],
   "source": [
    "model.save_pretrained(\"wav2vec2_bn.h5\")"
   ]
  },
  {
   "cell_type": "code",
   "execution_count": null,
   "id": "f8612cfd-be88-4ef0-ab0d-ec7f86922f12",
   "metadata": {},
   "outputs": [],
   "source": [
    "#for collab only\n",
    "'''\n",
    "!cp -R /content/wav2vec2_bn /content/drive/MyDrive/buet_cse_fest_dlsprint\n",
    "from google.colab import drive\n",
    "drive.flush_and_unmount()\n",
    "'''"
   ]
  },
  {
   "cell_type": "markdown",
   "id": "2f0d6167-4230-4631-8c57-4a3a33a5aab7",
   "metadata": {},
   "source": [
    "# Testing and evaluation"
   ]
  },
  {
   "cell_type": "markdown",
   "id": "3ffd832f-b723-41a8-93ee-2bfb7fe03bef",
   "metadata": {},
   "source": [
    "# Submission"
   ]
  },
  {
   "cell_type": "code",
   "execution_count": null,
   "id": "d1ff5654-6865-4a99-b87b-fb50901272fc",
   "metadata": {},
   "outputs": [],
   "source": [
    "from transformers import AutoModelForCTC, Wav2Vec2Processor\n",
    "\n",
    "model = AutoModelForCTC.from_pretrained(\"wav2vec2_bn\")\n",
    "processor = Wav2Vec2Processor.from_pretrained(\"wav2vec2_bn\")"
   ]
  },
  {
   "cell_type": "code",
   "execution_count": null,
   "id": "3b02b848-684e-4c73-a74c-80af17155878",
   "metadata": {},
   "outputs": [],
   "source": [
    "df_submission = pd.DataFrame()\n",
    "df_submission['path'] = glob.glob(\"test_files/*.mp3\")"
   ]
  },
  {
   "cell_type": "code",
   "execution_count": null,
   "id": "23c6fe72-4485-4578-a2c1-907148e33a19",
   "metadata": {},
   "outputs": [],
   "source": [
    "#submission = submission.map(speech_file_to_array_submission_torch, remove_columns=submission.column_names)"
   ]
  },
  {
   "cell_type": "code",
   "execution_count": null,
   "id": "c4f1b4b8-b76c-4790-8fba-704892e55e80",
   "metadata": {},
   "outputs": [],
   "source": [
    "#submission.set_format(\"numpy\", columns=[\"speech\",\"sampling_rate\"], output_all_columns=True)"
   ]
  }
 ],
 "metadata": {
  "kernelspec": {
   "display_name": "Python 3 (ipykernel)",
   "language": "python",
   "name": "python3"
  },
  "language_info": {
   "codemirror_mode": {
    "name": "ipython",
    "version": 3
   },
   "file_extension": ".py",
   "mimetype": "text/x-python",
   "name": "python",
   "nbconvert_exporter": "python",
   "pygments_lexer": "ipython3",
   "version": "3.10.4"
  },
  "toc-autonumbering": true,
  "toc-showcode": false,
  "toc-showmarkdowntxt": false,
  "toc-showtags": false
 },
 "nbformat": 4,
 "nbformat_minor": 5
}
