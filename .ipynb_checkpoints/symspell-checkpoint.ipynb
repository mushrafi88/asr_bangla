{
 "cells": [
  {
   "cell_type": "code",
   "execution_count": 195,
   "id": "846c7a38-8e24-4466-a065-dc83c3dec326",
   "metadata": {},
   "outputs": [],
   "source": [
    "import pandas as pd\n",
    "from wordfreq import word_frequency ,top_n_list,get_frequency_dict"
   ]
  },
  {
   "cell_type": "code",
   "execution_count": 196,
   "id": "779eb406-d986-4421-a50c-c9ae9b74db74",
   "metadata": {},
   "outputs": [],
   "source": [
    "from symspellpy import SymSpell, Verbosity\n",
    "from itertools import islice"
   ]
  },
  {
   "cell_type": "code",
   "execution_count": 282,
   "id": "32db1e82-8a34-4922-8e2a-bec6f592d821",
   "metadata": {},
   "outputs": [],
   "source": [
    "df = pd.read_csv('dlsprint/validation_with_punctuation.csv')"
   ]
  },
  {
   "cell_type": "code",
   "execution_count": 198,
   "id": "5ce51648-c7b7-4178-a48e-0b9b00b3c306",
   "metadata": {},
   "outputs": [
    {
     "data": {
      "text/plain": [
       "True"
      ]
     },
     "execution_count": 198,
     "metadata": {},
     "output_type": "execute_result"
    }
   ],
   "source": [
    "sym_spell_word_segmentation = SymSpell(max_dictionary_edit_distance=0, prefix_length=7)\n",
    "dictionary_path = 'symspell.txt'\n",
    "sym_spell_word_segmentation.load_dictionary(dictionary_path, 0, 1,separator=\",\")"
   ]
  },
  {
   "cell_type": "code",
   "execution_count": 199,
   "id": "c580d827-d7d7-40a8-be74-a00ff4289812",
   "metadata": {},
   "outputs": [
    {
     "data": {
      "text/plain": [
       "True"
      ]
     },
     "execution_count": 199,
     "metadata": {},
     "output_type": "execute_result"
    }
   ],
   "source": [
    "sym_spell = SymSpell(max_dictionary_edit_distance=2, prefix_length=7)\n",
    "dictionary_path = 'symspell.txt'\n",
    "sym_spell.load_dictionary(dictionary_path, 0, 1,separator=\",\")"
   ]
  },
  {
   "cell_type": "code",
   "execution_count": 266,
   "id": "ba8d7c54-cb44-4d72-b276-3566a264ae86",
   "metadata": {},
   "outputs": [],
   "source": [
    "def word_segmentation(input_term):\n",
    "    result = sym_spell_word_segmentation.word_segmentation(input_term)\n",
    "    return result.corrected_string"
   ]
  },
  {
   "cell_type": "code",
   "execution_count": 269,
   "id": "6f066dd0-1646-4cfa-96ca-b7d2796343ec",
   "metadata": {},
   "outputs": [],
   "source": [
    "def dictionary_(word):\n",
    "    suggestions = sym_spell.lookup(\n",
    "    word, Verbosity.CLOSEST,max_edit_distance=2, include_unknown=True)\n",
    "    for suggestion in suggestions:\n",
    "        return str(suggestion).split(',')[0]"
   ]
  },
  {
   "cell_type": "code",
   "execution_count": 331,
   "id": "9ac140cc-48c5-4f58-a8d7-dd4496d21561",
   "metadata": {},
   "outputs": [
    {
     "data": {
      "text/plain": [
       "['এর',\n",
       " 'কয়েক',\n",
       " 'বছর',\n",
       " 'পর',\n",
       " 'আলেকজান্ডার',\n",
       " 'কানিংহাম',\n",
       " 'মন্দিরসমূহসংক্রান্ত',\n",
       " 'তথ্যাদি',\n",
       " 'সুবিন্যস্ত',\n",
       " 'করেন।']"
      ]
     },
     "execution_count": 331,
     "metadata": {},
     "output_type": "execute_result"
    }
   ],
   "source": [
    "words = sen.split()\n",
    "words"
   ]
  },
  {
   "cell_type": "code",
   "execution_count": 345,
   "id": "e0e62f27-876a-4ba0-809b-c23f34e5b0b9",
   "metadata": {},
   "outputs": [
    {
     "data": {
      "text/plain": [
       "['এর',\n",
       " 'কয়েক',\n",
       " 'বছর',\n",
       " 'পর',\n",
       " 'আলেকজান্ডার',\n",
       " 'কানিংহাম',\n",
       " 'মন্দিরসমূহ',\n",
       " 'সংক্রান্ত',\n",
       " 'তথ্যাদি',\n",
       " 'সুবিন্যস্ত',\n",
       " 'করেন।']"
      ]
     },
     "execution_count": 345,
     "metadata": {},
     "output_type": "execute_result"
    }
   ],
   "source": [
    "m=[]\n",
    "for wow in words:\n",
    "    if len(wow)>10:\n",
    "        s=word_segmentation(wow)\n",
    "        j = s.split()\n",
    "        for n in j:\n",
    "            m.append(n)\n",
    "    else:\n",
    "        m.append(wow)\n",
    "m"
   ]
  },
  {
   "cell_type": "code",
   "execution_count": 354,
   "id": "83db1db4-5124-40bb-a10b-6bab8fa8edc9",
   "metadata": {},
   "outputs": [],
   "source": [
    "def lookup(sen):\n",
    "    words = sen.split()\n",
    "    m=[]\n",
    "    for wow in words:\n",
    "        if len(wow)>15:\n",
    "            s=word_segmentation(wow)\n",
    "            j = s.split()\n",
    "            for n in j:\n",
    "                m.append(n)\n",
    "        else:\n",
    "            m.append(wow)\n",
    "    l=[]\n",
    "    for wow in m:\n",
    "        if (word_frequency(wow,'bn',wordlist='large',minimum=0.0) == 0.0):\n",
    "            s=dictionary_(wow)\n",
    "            l.append(s)\n",
    "        else:\n",
    "            l.append(wow)\n",
    "    return ' '.join(l)"
   ]
  },
  {
   "cell_type": "code",
   "execution_count": 355,
   "id": "2842bc9b-9586-4411-9d37-e4a4378ce036",
   "metadata": {},
   "outputs": [
    {
     "ename": "AttributeError",
     "evalue": "'DataFrame' object has no attribute 'actual'",
     "output_type": "error",
     "traceback": [
      "\u001b[0;31m---------------------------------------------------------------------------\u001b[0m",
      "\u001b[0;31mAttributeError\u001b[0m                            Traceback (most recent call last)",
      "Input \u001b[0;32mIn [355]\u001b[0m, in \u001b[0;36m<cell line: 1>\u001b[0;34m()\u001b[0m\n\u001b[0;32m----> 1\u001b[0m sen\u001b[38;5;241m=\u001b[39m\u001b[43mdf\u001b[49m\u001b[38;5;241;43m.\u001b[39;49m\u001b[43mactual\u001b[49m[\u001b[38;5;241m4172\u001b[39m]\n",
      "File \u001b[0;32m~/.conda/envs/pytorch/lib/python3.10/site-packages/pandas/core/generic.py:5575\u001b[0m, in \u001b[0;36mNDFrame.__getattr__\u001b[0;34m(self, name)\u001b[0m\n\u001b[1;32m   5568\u001b[0m \u001b[38;5;28;01mif\u001b[39;00m (\n\u001b[1;32m   5569\u001b[0m     name \u001b[38;5;129;01mnot\u001b[39;00m \u001b[38;5;129;01min\u001b[39;00m \u001b[38;5;28mself\u001b[39m\u001b[38;5;241m.\u001b[39m_internal_names_set\n\u001b[1;32m   5570\u001b[0m     \u001b[38;5;129;01mand\u001b[39;00m name \u001b[38;5;129;01mnot\u001b[39;00m \u001b[38;5;129;01min\u001b[39;00m \u001b[38;5;28mself\u001b[39m\u001b[38;5;241m.\u001b[39m_metadata\n\u001b[1;32m   5571\u001b[0m     \u001b[38;5;129;01mand\u001b[39;00m name \u001b[38;5;129;01mnot\u001b[39;00m \u001b[38;5;129;01min\u001b[39;00m \u001b[38;5;28mself\u001b[39m\u001b[38;5;241m.\u001b[39m_accessors\n\u001b[1;32m   5572\u001b[0m     \u001b[38;5;129;01mand\u001b[39;00m \u001b[38;5;28mself\u001b[39m\u001b[38;5;241m.\u001b[39m_info_axis\u001b[38;5;241m.\u001b[39m_can_hold_identifiers_and_holds_name(name)\n\u001b[1;32m   5573\u001b[0m ):\n\u001b[1;32m   5574\u001b[0m     \u001b[38;5;28;01mreturn\u001b[39;00m \u001b[38;5;28mself\u001b[39m[name]\n\u001b[0;32m-> 5575\u001b[0m \u001b[38;5;28;01mreturn\u001b[39;00m \u001b[38;5;28;43mobject\u001b[39;49m\u001b[38;5;241;43m.\u001b[39;49m\u001b[38;5;21;43m__getattribute__\u001b[39;49m\u001b[43m(\u001b[49m\u001b[38;5;28;43mself\u001b[39;49m\u001b[43m,\u001b[49m\u001b[43m \u001b[49m\u001b[43mname\u001b[49m\u001b[43m)\u001b[49m\n",
      "\u001b[0;31mAttributeError\u001b[0m: 'DataFrame' object has no attribute 'actual'"
     ]
    }
   ],
   "source": [
    "sen=df.actual[4172]"
   ]
  },
  {
   "cell_type": "code",
   "execution_count": 356,
   "id": "5a63025d-2d3e-4e25-be48-5263a5041f09",
   "metadata": {},
   "outputs": [
    {
     "data": {
      "text/plain": [
       "'এর কয়েক বছর পর, আলেকজান্ডার কানিংহাম মন্দিরসমূহ-সংক্রান্ত তথ্যাদি সুবিন্যস্ত করেন।'"
      ]
     },
     "execution_count": 356,
     "metadata": {},
     "output_type": "execute_result"
    }
   ],
   "source": [
    "sen"
   ]
  },
  {
   "cell_type": "code",
   "execution_count": 357,
   "id": "8600f1cb-5ff9-42eb-9ce2-3d2f7f4bfbc8",
   "metadata": {},
   "outputs": [
    {
     "data": {
      "text/plain": [
       "'এর কয়েক বছর পর, আলেকজান্ডার কানিংহাম মন্দিরসমূহ সংক্রান্ত তথ্যাদি সুবিন্যস্ত করেন।'"
      ]
     },
     "execution_count": 357,
     "metadata": {},
     "output_type": "execute_result"
    }
   ],
   "source": [
    "lookup(sen)"
   ]
  },
  {
   "cell_type": "code",
   "execution_count": 358,
   "id": "5662d9b3-668a-4490-86cb-0ccaecd1f41a",
   "metadata": {},
   "outputs": [
    {
     "data": {
      "text/plain": [
       "'মন্দিরসমূহ সংক্রান্ত'"
      ]
     },
     "execution_count": 358,
     "metadata": {},
     "output_type": "execute_result"
    }
   ],
   "source": [
    "word_segmentation(sen.split()[-4])"
   ]
  },
  {
   "cell_type": "code",
   "execution_count": 359,
   "id": "8e2a1100-6741-4d03-8ede-3a231569aed7",
   "metadata": {},
   "outputs": [],
   "source": [
    "df = pd.read_csv('lessgo1.csv')"
   ]
  },
  {
   "cell_type": "code",
   "execution_count": 360,
   "id": "ceb3e3a4-2a15-476a-9338-2f8a29a0dd87",
   "metadata": {},
   "outputs": [],
   "source": [
    "df['sentence'] = df['sentence'].apply(lambda x : lookup(str(x)))"
   ]
  },
  {
   "cell_type": "code",
   "execution_count": 361,
   "id": "3a4ffeef-7525-4cea-ae6f-06f2eaf5acf4",
   "metadata": {},
   "outputs": [],
   "source": [
    "df.to_csv('lessgo3.csv',index=False)"
   ]
  },
  {
   "cell_type": "code",
   "execution_count": null,
   "id": "e410ec80-dc7a-49e6-9bb6-b13ed91bdd95",
   "metadata": {},
   "outputs": [],
   "source": []
  }
 ],
 "metadata": {
  "kernelspec": {
   "display_name": "Python 3 (ipykernel)",
   "language": "python",
   "name": "python3"
  },
  "language_info": {
   "codemirror_mode": {
    "name": "ipython",
    "version": 3
   },
   "file_extension": ".py",
   "mimetype": "text/x-python",
   "name": "python",
   "nbconvert_exporter": "python",
   "pygments_lexer": "ipython3",
   "version": "3.10.4"
  }
 },
 "nbformat": 4,
 "nbformat_minor": 5
}
