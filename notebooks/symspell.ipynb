{
 "cells": [
  {
   "cell_type": "code",
   "execution_count": 2,
   "id": "846c7a38-8e24-4466-a065-dc83c3dec326",
   "metadata": {},
   "outputs": [],
   "source": [
    "import pandas as pd\n",
    "from wordfreq import word_frequency ,top_n_list,get_frequency_dict"
   ]
  },
  {
   "cell_type": "code",
   "execution_count": 3,
   "id": "779eb406-d986-4421-a50c-c9ae9b74db74",
   "metadata": {},
   "outputs": [],
   "source": [
    "from symspellpy import SymSpell, Verbosity\n",
    "from itertools import islice"
   ]
  },
  {
   "cell_type": "code",
   "execution_count": 4,
   "id": "3e1ee535-bece-4077-a158-949b631c4a23",
   "metadata": {},
   "outputs": [],
   "source": [
    "df = pd.read_csv('1.csv')"
   ]
  },
  {
   "cell_type": "code",
   "execution_count": 4,
   "id": "d64d6825-51b3-4aca-8f3a-0ec64e400ad4",
   "metadata": {},
   "outputs": [
    {
     "data": {
      "text/html": [
       "<div>\n",
       "<style scoped>\n",
       "    .dataframe tbody tr th:only-of-type {\n",
       "        vertical-align: middle;\n",
       "    }\n",
       "\n",
       "    .dataframe tbody tr th {\n",
       "        vertical-align: top;\n",
       "    }\n",
       "\n",
       "    .dataframe thead th {\n",
       "        text-align: right;\n",
       "    }\n",
       "</style>\n",
       "<table border=\"1\" class=\"dataframe\">\n",
       "  <thead>\n",
       "    <tr style=\"text-align: right;\">\n",
       "      <th></th>\n",
       "      <th>path</th>\n",
       "      <th>sentence</th>\n",
       "    </tr>\n",
       "  </thead>\n",
       "  <tbody>\n",
       "    <tr>\n",
       "      <th>0</th>\n",
       "      <td>common_voice_bn_31584094.mp3</td>\n",
       "      <td>দ্বিতীয়ত এটি বহুল প্রচলিত একটি রিজার্ভ কারেন্সী।</td>\n",
       "    </tr>\n",
       "    <tr>\n",
       "      <th>1</th>\n",
       "      <td>common_voice_bn_31617509.mp3</td>\n",
       "      <td>জ্ঞান চর্চার সুবিধার্থে পাঠাগার আইসিটি চর্চার ...</td>\n",
       "    </tr>\n",
       "    <tr>\n",
       "      <th>2</th>\n",
       "      <td>common_voice_bn_31529519.mp3</td>\n",
       "      <td>এর উত্তর দিকে রয়েছে বরণীয় দ্বীপ দক্ষিণে রয়েছে ...</td>\n",
       "    </tr>\n",
       "    <tr>\n",
       "      <th>3</th>\n",
       "      <td>common_voice_bn_31694167.mp3</td>\n",
       "      <td>পরের বছর তিনজন কৃষ্ণাঙ্গ ব্যক্তি আইনসভায় নির্ব...</td>\n",
       "    </tr>\n",
       "    <tr>\n",
       "      <th>4</th>\n",
       "      <td>common_voice_bn_30999394.mp3</td>\n",
       "      <td>কলেজটির নিজস্ব ক্যাম্পাস ভবন নেই।</td>\n",
       "    </tr>\n",
       "    <tr>\n",
       "      <th>...</th>\n",
       "      <td>...</td>\n",
       "      <td>...</td>\n",
       "    </tr>\n",
       "    <tr>\n",
       "      <th>7742</th>\n",
       "      <td>common_voice_bn_31574515.mp3</td>\n",
       "      <td>পিতার দিক থেকে তিনি পোলীয় ও রুশ এবং মায়ের দিক ...</td>\n",
       "    </tr>\n",
       "    <tr>\n",
       "      <th>7743</th>\n",
       "      <td>common_voice_bn_31511061.mp3</td>\n",
       "      <td>এই শহরের নাম বৌদ্ধ ধর্মগুরু পদসম্বরের নাম থেকে...</td>\n",
       "    </tr>\n",
       "    <tr>\n",
       "      <th>7744</th>\n",
       "      <td>common_voice_bn_31561913.mp3</td>\n",
       "      <td>দুই পক্ষেই রাক্ষস নায়কদের বিশেষ ভূমিকা ছিল।</td>\n",
       "    </tr>\n",
       "    <tr>\n",
       "      <th>7745</th>\n",
       "      <td>common_voice_bn_31524603.mp3</td>\n",
       "      <td>তিনি আইনজীবী হিসেবে কর্মজীবন শুরু করেন।</td>\n",
       "    </tr>\n",
       "    <tr>\n",
       "      <th>7746</th>\n",
       "      <td>common_voice_bn_31711361.mp3</td>\n",
       "      <td>এতে বিদ্রোহের কথা খোলা খুলি ভাবে প্রচার করা হয়।</td>\n",
       "    </tr>\n",
       "  </tbody>\n",
       "</table>\n",
       "<p>7747 rows × 2 columns</p>\n",
       "</div>"
      ],
      "text/plain": [
       "                              path  \\\n",
       "0     common_voice_bn_31584094.mp3   \n",
       "1     common_voice_bn_31617509.mp3   \n",
       "2     common_voice_bn_31529519.mp3   \n",
       "3     common_voice_bn_31694167.mp3   \n",
       "4     common_voice_bn_30999394.mp3   \n",
       "...                            ...   \n",
       "7742  common_voice_bn_31574515.mp3   \n",
       "7743  common_voice_bn_31511061.mp3   \n",
       "7744  common_voice_bn_31561913.mp3   \n",
       "7745  common_voice_bn_31524603.mp3   \n",
       "7746  common_voice_bn_31711361.mp3   \n",
       "\n",
       "                                               sentence  \n",
       "0      দ্বিতীয়ত এটি বহুল প্রচলিত একটি রিজার্ভ কারেন্সী।  \n",
       "1     জ্ঞান চর্চার সুবিধার্থে পাঠাগার আইসিটি চর্চার ...  \n",
       "2     এর উত্তর দিকে রয়েছে বরণীয় দ্বীপ দক্ষিণে রয়েছে ...  \n",
       "3     পরের বছর তিনজন কৃষ্ণাঙ্গ ব্যক্তি আইনসভায় নির্ব...  \n",
       "4                     কলেজটির নিজস্ব ক্যাম্পাস ভবন নেই।  \n",
       "...                                                 ...  \n",
       "7742  পিতার দিক থেকে তিনি পোলীয় ও রুশ এবং মায়ের দিক ...  \n",
       "7743  এই শহরের নাম বৌদ্ধ ধর্মগুরু পদসম্বরের নাম থেকে...  \n",
       "7744        দুই পক্ষেই রাক্ষস নায়কদের বিশেষ ভূমিকা ছিল।  \n",
       "7745            তিনি আইনজীবী হিসেবে কর্মজীবন শুরু করেন।  \n",
       "7746    এতে বিদ্রোহের কথা খোলা খুলি ভাবে প্রচার করা হয়।  \n",
       "\n",
       "[7747 rows x 2 columns]"
      ]
     },
     "execution_count": 4,
     "metadata": {},
     "output_type": "execute_result"
    }
   ],
   "source": [
    "df"
   ]
  },
  {
   "cell_type": "code",
   "execution_count": 5,
   "id": "5ce51648-c7b7-4178-a48e-0b9b00b3c306",
   "metadata": {},
   "outputs": [
    {
     "data": {
      "text/plain": [
       "True"
      ]
     },
     "execution_count": 5,
     "metadata": {},
     "output_type": "execute_result"
    }
   ],
   "source": [
    "sym_spell_word_segmentation = SymSpell(max_dictionary_edit_distance=0, prefix_length=7)\n",
    "dictionary_path = 'symspell.txt'\n",
    "sym_spell_word_segmentation.load_dictionary(dictionary_path, 0, 1,separator=\",\")"
   ]
  },
  {
   "cell_type": "code",
   "execution_count": 6,
   "id": "c580d827-d7d7-40a8-be74-a00ff4289812",
   "metadata": {},
   "outputs": [
    {
     "data": {
      "text/plain": [
       "True"
      ]
     },
     "execution_count": 6,
     "metadata": {},
     "output_type": "execute_result"
    }
   ],
   "source": [
    "sym_spell = SymSpell(max_dictionary_edit_distance=5, prefix_length=7)\n",
    "dictionary_path = 'symspell.txt'\n",
    "sym_spell.load_dictionary(dictionary_path, 0, 1,separator=\",\")"
   ]
  },
  {
   "cell_type": "code",
   "execution_count": 7,
   "id": "ba8d7c54-cb44-4d72-b276-3566a264ae86",
   "metadata": {},
   "outputs": [],
   "source": [
    "def word_segmentation(input_term):\n",
    "    result = sym_spell_word_segmentation.word_segmentation(input_term)\n",
    "    return result.corrected_string"
   ]
  },
  {
   "cell_type": "code",
   "execution_count": 8,
   "id": "6f066dd0-1646-4cfa-96ca-b7d2796343ec",
   "metadata": {},
   "outputs": [],
   "source": [
    "def dictionary_(word):\n",
    "    suggestions = sym_spell.lookup(\n",
    "    word, Verbosity.CLOSEST,max_edit_distance=2, include_unknown=True)\n",
    "    for suggestion in suggestions:\n",
    "        return str(suggestion).split(',')[0]"
   ]
  },
  {
   "cell_type": "code",
   "execution_count": 9,
   "id": "83db1db4-5124-40bb-a10b-6bab8fa8edc9",
   "metadata": {},
   "outputs": [],
   "source": [
    "def lookup(sen):\n",
    "    words = sen.split()\n",
    "    m=[]\n",
    "    for wow in words:\n",
    "        if len(wow)>16:\n",
    "            s=word_segmentation(wow)\n",
    "            j = s.split()\n",
    "            for n in j:\n",
    "                m.append(n)\n",
    "        else:\n",
    "            m.append(wow)\n",
    "    l=[]\n",
    "    for wow in m:\n",
    "        if (word_frequency(wow,'bn',wordlist='large',minimum=0.0) == 0.0):\n",
    "            s=dictionary_(wow)\n",
    "            l.append(s)\n",
    "        else:\n",
    "            l.append(wow)\n",
    "    return ' '.join(l)"
   ]
  },
  {
   "cell_type": "code",
   "execution_count": 10,
   "id": "423b2c8a-3fec-4648-9104-e386f8ca4568",
   "metadata": {},
   "outputs": [
    {
     "data": {
      "text/html": [
       "<div>\n",
       "<style scoped>\n",
       "    .dataframe tbody tr th:only-of-type {\n",
       "        vertical-align: middle;\n",
       "    }\n",
       "\n",
       "    .dataframe tbody tr th {\n",
       "        vertical-align: top;\n",
       "    }\n",
       "\n",
       "    .dataframe thead th {\n",
       "        text-align: right;\n",
       "    }\n",
       "</style>\n",
       "<table border=\"1\" class=\"dataframe\">\n",
       "  <thead>\n",
       "    <tr style=\"text-align: right;\">\n",
       "      <th></th>\n",
       "      <th>path</th>\n",
       "      <th>sentence</th>\n",
       "    </tr>\n",
       "  </thead>\n",
       "  <tbody>\n",
       "    <tr>\n",
       "      <th>0</th>\n",
       "      <td>common_voice_bn_31584094.mp3</td>\n",
       "      <td>দ্বিতীয়ত এটি বহুল প্রচলিত একটি রিজার্ভ কারেন্সী।</td>\n",
       "    </tr>\n",
       "    <tr>\n",
       "      <th>1</th>\n",
       "      <td>common_voice_bn_31617509.mp3</td>\n",
       "      <td>জ্ঞান চর্চার সুবিধার্থে পাঠাগার আইসিটি চর্চার ...</td>\n",
       "    </tr>\n",
       "    <tr>\n",
       "      <th>2</th>\n",
       "      <td>common_voice_bn_31529519.mp3</td>\n",
       "      <td>এর উত্তর দিকে রয়েছে বরণীয় দ্বীপ দক্ষিণে রয়েছে ...</td>\n",
       "    </tr>\n",
       "    <tr>\n",
       "      <th>3</th>\n",
       "      <td>common_voice_bn_31694167.mp3</td>\n",
       "      <td>পরের বছর তিনজন কৃষ্ণাঙ্গ ব্যক্তি আইনসভায় নির্ব...</td>\n",
       "    </tr>\n",
       "    <tr>\n",
       "      <th>4</th>\n",
       "      <td>common_voice_bn_30999394.mp3</td>\n",
       "      <td>কলেজটির নিজস্ব ক্যাম্পাস ভবন নেই।</td>\n",
       "    </tr>\n",
       "    <tr>\n",
       "      <th>...</th>\n",
       "      <td>...</td>\n",
       "      <td>...</td>\n",
       "    </tr>\n",
       "    <tr>\n",
       "      <th>7742</th>\n",
       "      <td>common_voice_bn_31574515.mp3</td>\n",
       "      <td>পিতার দিক থেকে তিনি পোলীয় ও রুশ এবং মায়ের দিক ...</td>\n",
       "    </tr>\n",
       "    <tr>\n",
       "      <th>7743</th>\n",
       "      <td>common_voice_bn_31511061.mp3</td>\n",
       "      <td>এই শহরের নাম বৌদ্ধ ধর্মগুরু পদসম্বরের নাম থেকে...</td>\n",
       "    </tr>\n",
       "    <tr>\n",
       "      <th>7744</th>\n",
       "      <td>common_voice_bn_31561913.mp3</td>\n",
       "      <td>দুই পক্ষেই রাক্ষস নায়কদের বিশেষ ভূমিকা ছিল।</td>\n",
       "    </tr>\n",
       "    <tr>\n",
       "      <th>7745</th>\n",
       "      <td>common_voice_bn_31524603.mp3</td>\n",
       "      <td>তিনি আইনজীবী হিসেবে কর্মজীবন শুরু করেন।</td>\n",
       "    </tr>\n",
       "    <tr>\n",
       "      <th>7746</th>\n",
       "      <td>common_voice_bn_31711361.mp3</td>\n",
       "      <td>এতে বিদ্রোহের কথা খোলা খুলি ভাবে প্রচার করা হয়।</td>\n",
       "    </tr>\n",
       "  </tbody>\n",
       "</table>\n",
       "<p>7747 rows × 2 columns</p>\n",
       "</div>"
      ],
      "text/plain": [
       "                              path  \\\n",
       "0     common_voice_bn_31584094.mp3   \n",
       "1     common_voice_bn_31617509.mp3   \n",
       "2     common_voice_bn_31529519.mp3   \n",
       "3     common_voice_bn_31694167.mp3   \n",
       "4     common_voice_bn_30999394.mp3   \n",
       "...                            ...   \n",
       "7742  common_voice_bn_31574515.mp3   \n",
       "7743  common_voice_bn_31511061.mp3   \n",
       "7744  common_voice_bn_31561913.mp3   \n",
       "7745  common_voice_bn_31524603.mp3   \n",
       "7746  common_voice_bn_31711361.mp3   \n",
       "\n",
       "                                               sentence  \n",
       "0      দ্বিতীয়ত এটি বহুল প্রচলিত একটি রিজার্ভ কারেন্সী।  \n",
       "1     জ্ঞান চর্চার সুবিধার্থে পাঠাগার আইসিটি চর্চার ...  \n",
       "2     এর উত্তর দিকে রয়েছে বরণীয় দ্বীপ দক্ষিণে রয়েছে ...  \n",
       "3     পরের বছর তিনজন কৃষ্ণাঙ্গ ব্যক্তি আইনসভায় নির্ব...  \n",
       "4                     কলেজটির নিজস্ব ক্যাম্পাস ভবন নেই।  \n",
       "...                                                 ...  \n",
       "7742  পিতার দিক থেকে তিনি পোলীয় ও রুশ এবং মায়ের দিক ...  \n",
       "7743  এই শহরের নাম বৌদ্ধ ধর্মগুরু পদসম্বরের নাম থেকে...  \n",
       "7744        দুই পক্ষেই রাক্ষস নায়কদের বিশেষ ভূমিকা ছিল।  \n",
       "7745            তিনি আইনজীবী হিসেবে কর্মজীবন শুরু করেন।  \n",
       "7746    এতে বিদ্রোহের কথা খোলা খুলি ভাবে প্রচার করা হয়।  \n",
       "\n",
       "[7747 rows x 2 columns]"
      ]
     },
     "execution_count": 10,
     "metadata": {},
     "output_type": "execute_result"
    }
   ],
   "source": [
    "df"
   ]
  },
  {
   "cell_type": "code",
   "execution_count": 11,
   "id": "aa281c79-7183-4e83-9e17-363e5c38dff9",
   "metadata": {},
   "outputs": [],
   "source": [
    "df['sentence']=df['sentence'].fillna(\"\")"
   ]
  },
  {
   "cell_type": "code",
   "execution_count": 12,
   "id": "9dd4d1ab-25c6-4644-98d8-be4afd817ae1",
   "metadata": {},
   "outputs": [],
   "source": [
    "df['spelling'] = df['sentence'].apply(lookup)"
   ]
  },
  {
   "cell_type": "code",
   "execution_count": 13,
   "id": "fb194250-c282-4bd2-9f87-00edac7eae5c",
   "metadata": {},
   "outputs": [
    {
     "data": {
      "text/html": [
       "<div>\n",
       "<style scoped>\n",
       "    .dataframe tbody tr th:only-of-type {\n",
       "        vertical-align: middle;\n",
       "    }\n",
       "\n",
       "    .dataframe tbody tr th {\n",
       "        vertical-align: top;\n",
       "    }\n",
       "\n",
       "    .dataframe thead th {\n",
       "        text-align: right;\n",
       "    }\n",
       "</style>\n",
       "<table border=\"1\" class=\"dataframe\">\n",
       "  <thead>\n",
       "    <tr style=\"text-align: right;\">\n",
       "      <th></th>\n",
       "      <th>path</th>\n",
       "      <th>sentence</th>\n",
       "      <th>spelling</th>\n",
       "    </tr>\n",
       "  </thead>\n",
       "  <tbody>\n",
       "    <tr>\n",
       "      <th>0</th>\n",
       "      <td>common_voice_bn_31584094.mp3</td>\n",
       "      <td>দ্বিতীয়ত এটি বহুল প্রচলিত একটি রিজার্ভ কারেন্সী।</td>\n",
       "      <td>দ্বিতীয়ত এটি বহুল প্রচলিত একটি রিজার্ভ কারেন্সী।</td>\n",
       "    </tr>\n",
       "    <tr>\n",
       "      <th>1</th>\n",
       "      <td>common_voice_bn_31617509.mp3</td>\n",
       "      <td>জ্ঞান চর্চার সুবিধার্থে পাঠাগার আইসিটি চর্চার ...</td>\n",
       "      <td>জ্ঞান চর্চার সুবিধার্থে পাঠাগার আইসিটি চর্চার ...</td>\n",
       "    </tr>\n",
       "    <tr>\n",
       "      <th>2</th>\n",
       "      <td>common_voice_bn_31529519.mp3</td>\n",
       "      <td>এর উত্তর দিকে রয়েছে বরণীয় দ্বীপ দক্ষিণে রয়েছে ...</td>\n",
       "      <td>এর উত্তর দিকে রয়েছে বরণীয় দ্বীপ দক্ষিণে রয়েছে ...</td>\n",
       "    </tr>\n",
       "    <tr>\n",
       "      <th>3</th>\n",
       "      <td>common_voice_bn_31694167.mp3</td>\n",
       "      <td>পরের বছর তিনজন কৃষ্ণাঙ্গ ব্যক্তি আইনসভায় নির্ব...</td>\n",
       "      <td>পরের বছর তিনজন কৃষ্ণাঙ্গ ব্যক্তি আইনসভায় নির্ব...</td>\n",
       "    </tr>\n",
       "    <tr>\n",
       "      <th>4</th>\n",
       "      <td>common_voice_bn_30999394.mp3</td>\n",
       "      <td>কলেজটির নিজস্ব ক্যাম্পাস ভবন নেই।</td>\n",
       "      <td>কলেজটির নিজস্ব ক্যাম্পাস ভবন নেই।</td>\n",
       "    </tr>\n",
       "    <tr>\n",
       "      <th>...</th>\n",
       "      <td>...</td>\n",
       "      <td>...</td>\n",
       "      <td>...</td>\n",
       "    </tr>\n",
       "    <tr>\n",
       "      <th>7742</th>\n",
       "      <td>common_voice_bn_31574515.mp3</td>\n",
       "      <td>পিতার দিক থেকে তিনি পোলীয় ও রুশ এবং মায়ের দিক ...</td>\n",
       "      <td>পিতার দিক থেকে তিনি পোলীয় ও রুশ এবং মায়ের দিক ...</td>\n",
       "    </tr>\n",
       "    <tr>\n",
       "      <th>7743</th>\n",
       "      <td>common_voice_bn_31511061.mp3</td>\n",
       "      <td>এই শহরের নাম বৌদ্ধ ধর্মগুরু পদসম্বরের নাম থেকে...</td>\n",
       "      <td>এই শহরের নাম বৌদ্ধ ধর্মগুরু পয়গম্বরের নাম থেকে...</td>\n",
       "    </tr>\n",
       "    <tr>\n",
       "      <th>7744</th>\n",
       "      <td>common_voice_bn_31561913.mp3</td>\n",
       "      <td>দুই পক্ষেই রাক্ষস নায়কদের বিশেষ ভূমিকা ছিল।</td>\n",
       "      <td>দুই পক্ষেই রাক্ষস নায়কদের বিশেষ ভূমিকা ছিল।</td>\n",
       "    </tr>\n",
       "    <tr>\n",
       "      <th>7745</th>\n",
       "      <td>common_voice_bn_31524603.mp3</td>\n",
       "      <td>তিনি আইনজীবী হিসেবে কর্মজীবন শুরু করেন।</td>\n",
       "      <td>তিনি আইনজীবী হিসেবে কর্মজীবন শুরু করেন।</td>\n",
       "    </tr>\n",
       "    <tr>\n",
       "      <th>7746</th>\n",
       "      <td>common_voice_bn_31711361.mp3</td>\n",
       "      <td>এতে বিদ্রোহের কথা খোলা খুলি ভাবে প্রচার করা হয়।</td>\n",
       "      <td>এতে বিদ্রোহের কথা খোলা খুলি ভাবে প্রচার করা হয়।</td>\n",
       "    </tr>\n",
       "  </tbody>\n",
       "</table>\n",
       "<p>7747 rows × 3 columns</p>\n",
       "</div>"
      ],
      "text/plain": [
       "                              path  \\\n",
       "0     common_voice_bn_31584094.mp3   \n",
       "1     common_voice_bn_31617509.mp3   \n",
       "2     common_voice_bn_31529519.mp3   \n",
       "3     common_voice_bn_31694167.mp3   \n",
       "4     common_voice_bn_30999394.mp3   \n",
       "...                            ...   \n",
       "7742  common_voice_bn_31574515.mp3   \n",
       "7743  common_voice_bn_31511061.mp3   \n",
       "7744  common_voice_bn_31561913.mp3   \n",
       "7745  common_voice_bn_31524603.mp3   \n",
       "7746  common_voice_bn_31711361.mp3   \n",
       "\n",
       "                                               sentence  \\\n",
       "0      দ্বিতীয়ত এটি বহুল প্রচলিত একটি রিজার্ভ কারেন্সী।   \n",
       "1     জ্ঞান চর্চার সুবিধার্থে পাঠাগার আইসিটি চর্চার ...   \n",
       "2     এর উত্তর দিকে রয়েছে বরণীয় দ্বীপ দক্ষিণে রয়েছে ...   \n",
       "3     পরের বছর তিনজন কৃষ্ণাঙ্গ ব্যক্তি আইনসভায় নির্ব...   \n",
       "4                     কলেজটির নিজস্ব ক্যাম্পাস ভবন নেই।   \n",
       "...                                                 ...   \n",
       "7742  পিতার দিক থেকে তিনি পোলীয় ও রুশ এবং মায়ের দিক ...   \n",
       "7743  এই শহরের নাম বৌদ্ধ ধর্মগুরু পদসম্বরের নাম থেকে...   \n",
       "7744        দুই পক্ষেই রাক্ষস নায়কদের বিশেষ ভূমিকা ছিল।   \n",
       "7745            তিনি আইনজীবী হিসেবে কর্মজীবন শুরু করেন।   \n",
       "7746    এতে বিদ্রোহের কথা খোলা খুলি ভাবে প্রচার করা হয়।   \n",
       "\n",
       "                                               spelling  \n",
       "0      দ্বিতীয়ত এটি বহুল প্রচলিত একটি রিজার্ভ কারেন্সী।  \n",
       "1     জ্ঞান চর্চার সুবিধার্থে পাঠাগার আইসিটি চর্চার ...  \n",
       "2     এর উত্তর দিকে রয়েছে বরণীয় দ্বীপ দক্ষিণে রয়েছে ...  \n",
       "3     পরের বছর তিনজন কৃষ্ণাঙ্গ ব্যক্তি আইনসভায় নির্ব...  \n",
       "4                     কলেজটির নিজস্ব ক্যাম্পাস ভবন নেই।  \n",
       "...                                                 ...  \n",
       "7742  পিতার দিক থেকে তিনি পোলীয় ও রুশ এবং মায়ের দিক ...  \n",
       "7743  এই শহরের নাম বৌদ্ধ ধর্মগুরু পয়গম্বরের নাম থেকে...  \n",
       "7744        দুই পক্ষেই রাক্ষস নায়কদের বিশেষ ভূমিকা ছিল।  \n",
       "7745            তিনি আইনজীবী হিসেবে কর্মজীবন শুরু করেন।  \n",
       "7746    এতে বিদ্রোহের কথা খোলা খুলি ভাবে প্রচার করা হয়।  \n",
       "\n",
       "[7747 rows x 3 columns]"
      ]
     },
     "execution_count": 13,
     "metadata": {},
     "output_type": "execute_result"
    }
   ],
   "source": [
    "df"
   ]
  },
  {
   "cell_type": "code",
   "execution_count": 14,
   "id": "3a4ffeef-7525-4cea-ae6f-06f2eaf5acf4",
   "metadata": {},
   "outputs": [],
   "source": [
    "df.to_csv('2.csv',index=False)"
   ]
  },
  {
   "cell_type": "code",
   "execution_count": 10,
   "id": "b3f503a5-8e87-4285-90a4-fd48a3547a00",
   "metadata": {},
   "outputs": [],
   "source": [
    "input_term = df.sentence[7743].split()[5]"
   ]
  },
  {
   "cell_type": "code",
   "execution_count": 11,
   "id": "8d65453f-382e-4eab-8b45-5ff0a9f89226",
   "metadata": {},
   "outputs": [
    {
     "data": {
      "text/plain": [
       "'পদসম্বরের'"
      ]
     },
     "execution_count": 11,
     "metadata": {},
     "output_type": "execute_result"
    }
   ],
   "source": [
    "input_term"
   ]
  },
  {
   "cell_type": "code",
   "execution_count": 12,
   "id": "e410ec80-dc7a-49e6-9bb6-b13ed91bdd95",
   "metadata": {},
   "outputs": [
    {
     "name": "stdout",
     "output_type": "stream",
     "text": [
      "পদসম বর র, 2, 0\n"
     ]
    }
   ],
   "source": [
    "import pkg_resources\n",
    "from symspellpy import SymSpell\n",
    "\n",
    "sym_spell = SymSpell(max_dictionary_edit_distance=2, prefix_length=7)\n",
    "dictionary_path = 'symspell.txt'\n",
    "\n",
    "bigram_path = 'symspell_bigram.txt'\n",
    "\n",
    "sym_spell.load_dictionary(dictionary_path, term_index=0, count_index=1)\n",
    "sym_spell.load_bigram_dictionary(bigram_path, term_index=0, count_index=2)\n",
    "\n",
    "\n",
    "suggestions = sym_spell.lookup_compound(input_term, max_edit_distance=2)\n",
    "\n",
    "for suggestion in suggestions:\n",
    "    print(suggestion)"
   ]
  },
  {
   "cell_type": "code",
   "execution_count": null,
   "id": "f29a7d5a-83d2-47dc-a5b8-6913d4fbc031",
   "metadata": {},
   "outputs": [],
   "source": []
  }
 ],
 "metadata": {
  "kernelspec": {
   "display_name": "Python 3 (ipykernel)",
   "language": "python",
   "name": "python3"
  },
  "language_info": {
   "codemirror_mode": {
    "name": "ipython",
    "version": 3
   },
   "file_extension": ".py",
   "mimetype": "text/x-python",
   "name": "python",
   "nbconvert_exporter": "python",
   "pygments_lexer": "ipython3",
   "version": "3.10.4"
  }
 },
 "nbformat": 4,
 "nbformat_minor": 5
}
