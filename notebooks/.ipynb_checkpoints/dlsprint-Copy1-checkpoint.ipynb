{
 "cells": [
  {
   "cell_type": "markdown",
   "id": "35b86184-f9ec-4b06-b2e6-85a2f70b9c0d",
   "metadata": {},
   "source": [
    "# Package and dependencies "
   ]
  },
  {
   "cell_type": "code",
   "execution_count": 1,
   "id": "51c16258-19c1-46db-9183-8d310febff45",
   "metadata": {},
   "outputs": [],
   "source": [
    "model_checkpoint = \"facebook/wav2vec2-large-xlsr-53\"\n",
    "batch_size = 16"
   ]
  },
  {
   "cell_type": "code",
   "execution_count": 2,
   "id": "c7b9300b-4086-466b-a99b-57c16703e52e",
   "metadata": {},
   "outputs": [
    {
     "data": {
      "text/plain": [
       "'\\n!pip install torchaudio\\n!pip install seaborn\\n!pip install kaggle\\n!pip install -U transformers\\n!pip install datasets\\n!pip install fsspec==2021.5.0\\n!pip install jiwer==2.2.0\\n!pip install pydub\\n'"
      ]
     },
     "execution_count": 2,
     "metadata": {},
     "output_type": "execute_result"
    }
   ],
   "source": [
    "'''\n",
    "!pip install torchaudio\n",
    "!pip install seaborn\n",
    "!pip install kaggle\n",
    "!pip install -U transformers\n",
    "!pip install datasets\n",
    "!pip install fsspec==2021.5.0\n",
    "!pip install jiwer==2.2.0\n",
    "!pip install pydub\n",
    "'''"
   ]
  },
  {
   "cell_type": "code",
   "execution_count": 3,
   "id": "3815591a-3b14-4e70-9762-2725afc0157b",
   "metadata": {},
   "outputs": [
    {
     "data": {
      "text/plain": [
       "'\\n!mkdir /root/.kaggle\\n\\n\\nimport json\\ndictionary ={\\n\"username\":\"mushrafimunim\",\\n\"key\":\"e5c337a189ee0a5c867ff83c21df4d2a\"\\n}\\n  \\njson_object = json.dumps(dictionary, indent = 4)\\n  \\nwith open(\"kaggle.json\", \"w\") as outfile:\\n    outfile.write(json_object)\\n\\n%mv kaggle.json /root/.kaggle/kaggle.json\\n\\n!kaggle competitions download -c dlsprint\\n'"
      ]
     },
     "execution_count": 3,
     "metadata": {},
     "output_type": "execute_result"
    }
   ],
   "source": [
    "# unhash for collab only\n",
    "'''\n",
    "!mkdir /root/.kaggle\n",
    "\n",
    "\n",
    "import json\n",
    "dictionary ={\n",
    "\"username\":\"mushrafimunim\",\n",
    "\"key\":\"e5c337a189ee0a5c867ff83c21df4d2a\"\n",
    "}\n",
    "  \n",
    "json_object = json.dumps(dictionary, indent = 4)\n",
    "  \n",
    "with open(\"kaggle.json\", \"w\") as outfile:\n",
    "    outfile.write(json_object)\n",
    "\n",
    "%mv kaggle.json /root/.kaggle/kaggle.json\n",
    "\n",
    "!kaggle competitions download -c dlsprint\n",
    "'''"
   ]
  },
  {
   "cell_type": "code",
   "execution_count": 4,
   "id": "bf81016d-3f18-4174-9161-4c940c792c54",
   "metadata": {},
   "outputs": [],
   "source": [
    "import numpy as np\n",
    "import pandas as pd\n",
    "import random\n",
    "import ast\n",
    "from tqdm import tqdm\n",
    "from IPython import display as ipd\n",
    "\n",
    "# visualization\n",
    "import matplotlib.pyplot as plt\n",
    "from tabulate import tabulate\n",
    "import seaborn as sns\n",
    "#system files\n",
    "import os\n",
    "import json\n",
    "import re\n",
    "import glob\n",
    "\n",
    "import zipfile\n",
    "import shutil\n",
    "import gc\n",
    "from pydub import AudioSegment\n",
    "from joblib import Parallel, delayed\n",
    "\n",
    "#transformers\n",
    "from transformers import AutoTokenizer,AutoFeatureExtractor, AutoConfig,AutoModel,Wav2Vec2CTCTokenizer,Wav2Vec2ForCTC,Wav2Vec2Processor,Trainer,TrainingArguments,Wav2Vec2FeatureExtractor\n",
    "\n",
    "\n",
    "# PyTorch \n",
    "import torch\n",
    "import torchaudio\n",
    "import torch.nn as nn\n",
    "import torch.optim as optim\n",
    "from torch.optim import lr_scheduler\n",
    "from torch.utils.data import Dataset, DataLoader\n",
    "from torch.cuda import amp\n",
    "import torch.nn.functional as F\n",
    "\n",
    "\n",
    "#sklearn\n",
    "from sklearn.model_selection import train_test_split\n",
    "from datasets import load_dataset, load_metric,Dataset,concatenate_datasets,set_caching_enabled, ClassLabel\n",
    "\n",
    "#set_caching_enabled(False)\n",
    "import soundfile as sf\n",
    "\n",
    "# Set environment variables\n",
    "import warnings\n",
    "warnings.filterwarnings('ignore')"
   ]
  },
  {
   "cell_type": "code",
   "execution_count": 5,
   "id": "12ec3cd0-8df5-400c-8b81-e2f1c1f17e95",
   "metadata": {},
   "outputs": [],
   "source": [
    "#!unzip dlsprint.zip"
   ]
  },
  {
   "cell_type": "code",
   "execution_count": 6,
   "id": "c85f8d25-ef6d-4799-a57c-195cdee6ca84",
   "metadata": {},
   "outputs": [],
   "source": [
    "#from google.colab import drive\n",
    "#drive.mount('/content/drive')"
   ]
  },
  {
   "cell_type": "code",
   "execution_count": 7,
   "id": "79bace58-6b4d-4673-be57-37921dd48238",
   "metadata": {},
   "outputs": [
    {
     "data": {
      "text/plain": [
       "'\\n!unzip /content/drive/MyDrive/buet_cse_fest_dlsprint/validation_wav.zip -d /content\\n!unzip /content/drive/MyDrive/buet_cse_fest_dlsprint/test_wav.zip -d /content\\n!cp /content/drive/MyDrive/buet_cse_fest_dlsprint/test_files_duration.csv /content/\\n!cp /content/drive/MyDrive/buet_cse_fest_dlsprint/validation_files_duration.csv /content/\\n!rm -rf /content/test_files\\n!rm -rf /content/validation_files\\n'"
      ]
     },
     "execution_count": 7,
     "metadata": {},
     "output_type": "execute_result"
    }
   ],
   "source": [
    "'''\n",
    "!unzip /content/drive/MyDrive/buet_cse_fest_dlsprint/validation_wav.zip -d /content\n",
    "!unzip /content/drive/MyDrive/buet_cse_fest_dlsprint/test_wav.zip -d /content\n",
    "!cp /content/drive/MyDrive/buet_cse_fest_dlsprint/test_files_duration.csv /content/\n",
    "!cp /content/drive/MyDrive/buet_cse_fest_dlsprint/validation_files_duration.csv /content/\n",
    "!rm -rf /content/test_files\n",
    "!rm -rf /content/validation_files\n",
    "'''"
   ]
  },
  {
   "cell_type": "code",
   "execution_count": 8,
   "id": "501a94f5-d8b1-4b9b-afa2-843eeeb18943",
   "metadata": {},
   "outputs": [],
   "source": [
    "df_train = pd.read_csv('train.csv')\n",
    "df_validation = pd.read_csv('validation.csv')"
   ]
  },
  {
   "cell_type": "code",
   "execution_count": 9,
   "id": "9658817a-b710-4fdb-857c-4113e60cd9f4",
   "metadata": {},
   "outputs": [],
   "source": [
    "df_submission = pd.DataFrame()\n",
    "df_submission['path'] = glob.glob(\"test_files_wav/*.wav\")"
   ]
  },
  {
   "cell_type": "code",
   "execution_count": 10,
   "id": "6d0fd395-314a-4d65-a690-2e32f21f0b13",
   "metadata": {},
   "outputs": [],
   "source": [
    "#!cd validation_files;for file in *.mp3;do l=$(echo -n \"$file,\"echo $(ffprobe $file 2>&1 | grep 'Duration' | cut -d',' -f1 | cut -d' ' -f4 | cut -d'.' -f1))echo \"$l\" >> validation_files_duration.csv ;done\n",
    "#!sed -i '1s/^/path,duration\\n/' validation_files_duration.csv"
   ]
  },
  {
   "cell_type": "code",
   "execution_count": 11,
   "id": "8e7f6626-b440-4bb3-b0ba-170ce36a6115",
   "metadata": {},
   "outputs": [],
   "source": [
    "df_test_files_duration = pd.read_csv('test_files_duration.csv')\n",
    "df_validation_files_duration = pd.read_csv('validation_files_duration.csv')"
   ]
  },
  {
   "cell_type": "code",
   "execution_count": 12,
   "id": "2e4af98e-e855-4160-ae17-05dedff5a3e5",
   "metadata": {},
   "outputs": [
    {
     "data": {
      "text/html": [
       "<div>\n",
       "<style scoped>\n",
       "    .dataframe tbody tr th:only-of-type {\n",
       "        vertical-align: middle;\n",
       "    }\n",
       "\n",
       "    .dataframe tbody tr th {\n",
       "        vertical-align: top;\n",
       "    }\n",
       "\n",
       "    .dataframe thead th {\n",
       "        text-align: right;\n",
       "    }\n",
       "</style>\n",
       "<table border=\"1\" class=\"dataframe\">\n",
       "  <thead>\n",
       "    <tr style=\"text-align: right;\">\n",
       "      <th></th>\n",
       "      <th>path</th>\n",
       "      <th>duration</th>\n",
       "    </tr>\n",
       "  </thead>\n",
       "  <tbody>\n",
       "    <tr>\n",
       "      <th>0</th>\n",
       "      <td>common_voice_bn_30707481.mp3</td>\n",
       "      <td>00:00:07</td>\n",
       "    </tr>\n",
       "    <tr>\n",
       "      <th>1</th>\n",
       "      <td>common_voice_bn_30707482.mp3</td>\n",
       "      <td>00:00:03</td>\n",
       "    </tr>\n",
       "    <tr>\n",
       "      <th>2</th>\n",
       "      <td>common_voice_bn_30707852.mp3</td>\n",
       "      <td>00:00:07</td>\n",
       "    </tr>\n",
       "    <tr>\n",
       "      <th>3</th>\n",
       "      <td>common_voice_bn_30767853.mp3</td>\n",
       "      <td>00:00:08</td>\n",
       "    </tr>\n",
       "    <tr>\n",
       "      <th>4</th>\n",
       "      <td>common_voice_bn_30991817.mp3</td>\n",
       "      <td>00:00:04</td>\n",
       "    </tr>\n",
       "    <tr>\n",
       "      <th>...</th>\n",
       "      <td>...</td>\n",
       "      <td>...</td>\n",
       "    </tr>\n",
       "    <tr>\n",
       "      <th>7742</th>\n",
       "      <td>common_voice_bn_31805693.mp3</td>\n",
       "      <td>00:00:06</td>\n",
       "    </tr>\n",
       "    <tr>\n",
       "      <th>7743</th>\n",
       "      <td>common_voice_bn_31805703.mp3</td>\n",
       "      <td>00:00:06</td>\n",
       "    </tr>\n",
       "    <tr>\n",
       "      <th>7744</th>\n",
       "      <td>common_voice_bn_31806931.mp3</td>\n",
       "      <td>00:00:04</td>\n",
       "    </tr>\n",
       "    <tr>\n",
       "      <th>7745</th>\n",
       "      <td>common_voice_bn_31807164.mp3</td>\n",
       "      <td>00:00:07</td>\n",
       "    </tr>\n",
       "    <tr>\n",
       "      <th>7746</th>\n",
       "      <td>common_voice_bn_31817866.mp3</td>\n",
       "      <td>00:00:08</td>\n",
       "    </tr>\n",
       "  </tbody>\n",
       "</table>\n",
       "<p>7747 rows × 2 columns</p>\n",
       "</div>"
      ],
      "text/plain": [
       "                              path  duration\n",
       "0     common_voice_bn_30707481.mp3  00:00:07\n",
       "1     common_voice_bn_30707482.mp3  00:00:03\n",
       "2     common_voice_bn_30707852.mp3  00:00:07\n",
       "3     common_voice_bn_30767853.mp3  00:00:08\n",
       "4     common_voice_bn_30991817.mp3  00:00:04\n",
       "...                            ...       ...\n",
       "7742  common_voice_bn_31805693.mp3  00:00:06\n",
       "7743  common_voice_bn_31805703.mp3  00:00:06\n",
       "7744  common_voice_bn_31806931.mp3  00:00:04\n",
       "7745  common_voice_bn_31807164.mp3  00:00:07\n",
       "7746  common_voice_bn_31817866.mp3  00:00:08\n",
       "\n",
       "[7747 rows x 2 columns]"
      ]
     },
     "execution_count": 12,
     "metadata": {},
     "output_type": "execute_result"
    }
   ],
   "source": [
    "df_test_files_duration"
   ]
  },
  {
   "cell_type": "code",
   "execution_count": 13,
   "id": "b69b682a-7142-4ca0-82cb-f5657ce575c1",
   "metadata": {},
   "outputs": [
    {
     "data": {
      "text/html": [
       "<div>\n",
       "<style scoped>\n",
       "    .dataframe tbody tr th:only-of-type {\n",
       "        vertical-align: middle;\n",
       "    }\n",
       "\n",
       "    .dataframe tbody tr th {\n",
       "        vertical-align: top;\n",
       "    }\n",
       "\n",
       "    .dataframe thead th {\n",
       "        text-align: right;\n",
       "    }\n",
       "</style>\n",
       "<table border=\"1\" class=\"dataframe\">\n",
       "  <thead>\n",
       "    <tr style=\"text-align: right;\">\n",
       "      <th></th>\n",
       "      <th>client_id</th>\n",
       "      <th>path</th>\n",
       "      <th>sentence</th>\n",
       "      <th>up_votes</th>\n",
       "      <th>down_votes</th>\n",
       "      <th>age</th>\n",
       "      <th>gender</th>\n",
       "      <th>accents</th>\n",
       "      <th>locale</th>\n",
       "    </tr>\n",
       "  </thead>\n",
       "  <tbody>\n",
       "    <tr>\n",
       "      <th>0</th>\n",
       "      <td>6c274d3678353b62f5d3465c771e4a8c5cd917186a5323...</td>\n",
       "      <td>common_voice_bn_30991326.mp3</td>\n",
       "      <td>বাবা সত্যেন ঘোষ।</td>\n",
       "      <td>1.0</td>\n",
       "      <td>1.0</td>\n",
       "      <td>NaN</td>\n",
       "      <td>NaN</td>\n",
       "      <td>NaN</td>\n",
       "      <td>bn</td>\n",
       "    </tr>\n",
       "    <tr>\n",
       "      <th>1</th>\n",
       "      <td>3991c2cfe1be64e77f2f6bdaeaae601219af906c1295cd...</td>\n",
       "      <td>common_voice_bn_30991371.mp3</td>\n",
       "      <td>দেওয়ান ফরিদ গাজী বাংলাদেশ আওয়ামী লীগের উপদেষ...</td>\n",
       "      <td>1.0</td>\n",
       "      <td>0.0</td>\n",
       "      <td>NaN</td>\n",
       "      <td>NaN</td>\n",
       "      <td>NaN</td>\n",
       "      <td>bn</td>\n",
       "    </tr>\n",
       "    <tr>\n",
       "      <th>2</th>\n",
       "      <td>3991c2cfe1be64e77f2f6bdaeaae601219af906c1295cd...</td>\n",
       "      <td>common_voice_bn_30991410.mp3</td>\n",
       "      <td>এর মাধ্যমে কারও গান গাওয়া দক্ষতা বা নিজস্ব ধর...</td>\n",
       "      <td>0.0</td>\n",
       "      <td>0.0</td>\n",
       "      <td>NaN</td>\n",
       "      <td>NaN</td>\n",
       "      <td>NaN</td>\n",
       "      <td>bn</td>\n",
       "    </tr>\n",
       "    <tr>\n",
       "      <th>3</th>\n",
       "      <td>08cb638755d8adbe55e3149211af88853e0d77785397f9...</td>\n",
       "      <td>common_voice_bn_30991432.mp3</td>\n",
       "      <td>আপনি খুব একটা কথা বলার লোক নন, তাই না?</td>\n",
       "      <td>0.0</td>\n",
       "      <td>0.0</td>\n",
       "      <td>NaN</td>\n",
       "      <td>NaN</td>\n",
       "      <td>NaN</td>\n",
       "      <td>bn</td>\n",
       "    </tr>\n",
       "    <tr>\n",
       "      <th>4</th>\n",
       "      <td>51215b6882d5fdc8a9856b095793244085341470a888f5...</td>\n",
       "      <td>common_voice_bn_30991478.mp3</td>\n",
       "      <td>আপনি খুব একটা কথা বলার লোক নন, তাই না?</td>\n",
       "      <td>0.0</td>\n",
       "      <td>0.0</td>\n",
       "      <td>NaN</td>\n",
       "      <td>NaN</td>\n",
       "      <td>চট্টগ্রামের ভাষার সামান্য টানসহ মোটামুটি প্রমি...</td>\n",
       "      <td>bn</td>\n",
       "    </tr>\n",
       "    <tr>\n",
       "      <th>...</th>\n",
       "      <td>...</td>\n",
       "      <td>...</td>\n",
       "      <td>...</td>\n",
       "      <td>...</td>\n",
       "      <td>...</td>\n",
       "      <td>...</td>\n",
       "      <td>...</td>\n",
       "      <td>...</td>\n",
       "      <td>...</td>\n",
       "    </tr>\n",
       "    <tr>\n",
       "      <th>206945</th>\n",
       "      <td>0a0db76f30e3d011216425efa204fa0d3064767656b913...</td>\n",
       "      <td>common_voice_bn_31802418.mp3</td>\n",
       "      <td>রাণীগঞ্জ মূলত এখানকার কয়লা খনি এবং খনিজ সংক্র...</td>\n",
       "      <td>2.0</td>\n",
       "      <td>0.0</td>\n",
       "      <td>twenties</td>\n",
       "      <td>male</td>\n",
       "      <td>রাঢ়ী উপভাষা</td>\n",
       "      <td>bn</td>\n",
       "    </tr>\n",
       "    <tr>\n",
       "      <th>206946</th>\n",
       "      <td>0a0db76f30e3d011216425efa204fa0d3064767656b913...</td>\n",
       "      <td>common_voice_bn_31802540.mp3</td>\n",
       "      <td>ওহাইও নদীর মুখোমুখি অবস্থিত, কারখানাটি লম্বা এ...</td>\n",
       "      <td>2.0</td>\n",
       "      <td>0.0</td>\n",
       "      <td>twenties</td>\n",
       "      <td>male</td>\n",
       "      <td>রাঢ়ী উপভাষা</td>\n",
       "      <td>bn</td>\n",
       "    </tr>\n",
       "    <tr>\n",
       "      <th>206947</th>\n",
       "      <td>0a0db76f30e3d011216425efa204fa0d3064767656b913...</td>\n",
       "      <td>common_voice_bn_31802606.mp3</td>\n",
       "      <td>উল্লেখ্য যে, আইন অমান্য আন্দোলনে বাংলার মুসলমা...</td>\n",
       "      <td>2.0</td>\n",
       "      <td>0.0</td>\n",
       "      <td>twenties</td>\n",
       "      <td>male</td>\n",
       "      <td>রাঢ়ী উপভাষা</td>\n",
       "      <td>bn</td>\n",
       "    </tr>\n",
       "    <tr>\n",
       "      <th>206948</th>\n",
       "      <td>0a0db76f30e3d011216425efa204fa0d3064767656b913...</td>\n",
       "      <td>common_voice_bn_31815460.mp3</td>\n",
       "      <td>তিনি রাজস্থানের প্রতাপগড় জেলা থেকে রাজস্থান ব...</td>\n",
       "      <td>2.0</td>\n",
       "      <td>0.0</td>\n",
       "      <td>twenties</td>\n",
       "      <td>male</td>\n",
       "      <td>রাঢ়ী উপভাষা</td>\n",
       "      <td>bn</td>\n",
       "    </tr>\n",
       "    <tr>\n",
       "      <th>206949</th>\n",
       "      <td>0a0db76f30e3d011216425efa204fa0d3064767656b913...</td>\n",
       "      <td>common_voice_bn_31831275.mp3</td>\n",
       "      <td>ইয়েল ইউনিভার্সিটি, অন্য সংবাদপত্রের সাথে যোগা...</td>\n",
       "      <td>2.0</td>\n",
       "      <td>0.0</td>\n",
       "      <td>twenties</td>\n",
       "      <td>male</td>\n",
       "      <td>রাঢ়ী উপভাষা</td>\n",
       "      <td>bn</td>\n",
       "    </tr>\n",
       "  </tbody>\n",
       "</table>\n",
       "<p>206950 rows × 9 columns</p>\n",
       "</div>"
      ],
      "text/plain": [
       "                                                client_id  \\\n",
       "0       6c274d3678353b62f5d3465c771e4a8c5cd917186a5323...   \n",
       "1       3991c2cfe1be64e77f2f6bdaeaae601219af906c1295cd...   \n",
       "2       3991c2cfe1be64e77f2f6bdaeaae601219af906c1295cd...   \n",
       "3       08cb638755d8adbe55e3149211af88853e0d77785397f9...   \n",
       "4       51215b6882d5fdc8a9856b095793244085341470a888f5...   \n",
       "...                                                   ...   \n",
       "206945  0a0db76f30e3d011216425efa204fa0d3064767656b913...   \n",
       "206946  0a0db76f30e3d011216425efa204fa0d3064767656b913...   \n",
       "206947  0a0db76f30e3d011216425efa204fa0d3064767656b913...   \n",
       "206948  0a0db76f30e3d011216425efa204fa0d3064767656b913...   \n",
       "206949  0a0db76f30e3d011216425efa204fa0d3064767656b913...   \n",
       "\n",
       "                                path  \\\n",
       "0       common_voice_bn_30991326.mp3   \n",
       "1       common_voice_bn_30991371.mp3   \n",
       "2       common_voice_bn_30991410.mp3   \n",
       "3       common_voice_bn_30991432.mp3   \n",
       "4       common_voice_bn_30991478.mp3   \n",
       "...                              ...   \n",
       "206945  common_voice_bn_31802418.mp3   \n",
       "206946  common_voice_bn_31802540.mp3   \n",
       "206947  common_voice_bn_31802606.mp3   \n",
       "206948  common_voice_bn_31815460.mp3   \n",
       "206949  common_voice_bn_31831275.mp3   \n",
       "\n",
       "                                                 sentence  up_votes  \\\n",
       "0                                        বাবা সত্যেন ঘোষ।       1.0   \n",
       "1       দেওয়ান ফরিদ গাজী বাংলাদেশ আওয়ামী লীগের উপদেষ...       1.0   \n",
       "2       এর মাধ্যমে কারও গান গাওয়া দক্ষতা বা নিজস্ব ধর...       0.0   \n",
       "3                  আপনি খুব একটা কথা বলার লোক নন, তাই না?       0.0   \n",
       "4                  আপনি খুব একটা কথা বলার লোক নন, তাই না?       0.0   \n",
       "...                                                   ...       ...   \n",
       "206945  রাণীগঞ্জ মূলত এখানকার কয়লা খনি এবং খনিজ সংক্র...       2.0   \n",
       "206946  ওহাইও নদীর মুখোমুখি অবস্থিত, কারখানাটি লম্বা এ...       2.0   \n",
       "206947  উল্লেখ্য যে, আইন অমান্য আন্দোলনে বাংলার মুসলমা...       2.0   \n",
       "206948  তিনি রাজস্থানের প্রতাপগড় জেলা থেকে রাজস্থান ব...       2.0   \n",
       "206949  ইয়েল ইউনিভার্সিটি, অন্য সংবাদপত্রের সাথে যোগা...       2.0   \n",
       "\n",
       "        down_votes       age gender  \\\n",
       "0              1.0       NaN    NaN   \n",
       "1              0.0       NaN    NaN   \n",
       "2              0.0       NaN    NaN   \n",
       "3              0.0       NaN    NaN   \n",
       "4              0.0       NaN    NaN   \n",
       "...            ...       ...    ...   \n",
       "206945         0.0  twenties   male   \n",
       "206946         0.0  twenties   male   \n",
       "206947         0.0  twenties   male   \n",
       "206948         0.0  twenties   male   \n",
       "206949         0.0  twenties   male   \n",
       "\n",
       "                                                  accents locale  \n",
       "0                                                     NaN     bn  \n",
       "1                                                     NaN     bn  \n",
       "2                                                     NaN     bn  \n",
       "3                                                     NaN     bn  \n",
       "4       চট্টগ্রামের ভাষার সামান্য টানসহ মোটামুটি প্রমি...     bn  \n",
       "...                                                   ...    ...  \n",
       "206945                                       রাঢ়ী উপভাষা     bn  \n",
       "206946                                       রাঢ়ী উপভাষা     bn  \n",
       "206947                                       রাঢ়ী উপভাষা     bn  \n",
       "206948                                       রাঢ়ী উপভাষা     bn  \n",
       "206949                                       রাঢ়ী উপভাষা     bn  \n",
       "\n",
       "[206950 rows x 9 columns]"
      ]
     },
     "execution_count": 13,
     "metadata": {},
     "output_type": "execute_result"
    }
   ],
   "source": [
    "df_train"
   ]
  },
  {
   "cell_type": "code",
   "execution_count": 14,
   "id": "619487be-7704-4268-83c0-aada7c13ac47",
   "metadata": {},
   "outputs": [],
   "source": [
    "#df_train = df_train.sample(n=1)\n",
    "#df_validation = df_validation.sample(n=1)"
   ]
  },
  {
   "cell_type": "code",
   "execution_count": 15,
   "id": "7a8abe22-ec38-43a6-9789-d7c7851abc0d",
   "metadata": {},
   "outputs": [
    {
     "name": "stdout",
     "output_type": "stream",
     "text": [
      "<class 'pandas.core.frame.DataFrame'>\n",
      "RangeIndex: 206950 entries, 0 to 206949\n",
      "Data columns (total 9 columns):\n",
      " #   Column      Non-Null Count   Dtype  \n",
      "---  ------      --------------   -----  \n",
      " 0   client_id   206950 non-null  object \n",
      " 1   path        206950 non-null  object \n",
      " 2   sentence    206950 non-null  object \n",
      " 3   up_votes    206950 non-null  float64\n",
      " 4   down_votes  206950 non-null  float64\n",
      " 5   age         60309 non-null   object \n",
      " 6   gender      61196 non-null   object \n",
      " 7   accents     11088 non-null   object \n",
      " 8   locale      206950 non-null  object \n",
      "dtypes: float64(2), object(7)\n",
      "memory usage: 14.2+ MB\n"
     ]
    }
   ],
   "source": [
    "df_train.info()"
   ]
  },
  {
   "cell_type": "code",
   "execution_count": 16,
   "id": "9a0a4cce-a9f8-44f7-9ba1-5d8b154b048d",
   "metadata": {},
   "outputs": [
    {
     "name": "stdout",
     "output_type": "stream",
     "text": [
      "<class 'pandas.core.frame.DataFrame'>\n",
      "RangeIndex: 7747 entries, 0 to 7746\n",
      "Data columns (total 9 columns):\n",
      " #   Column      Non-Null Count  Dtype  \n",
      "---  ------      --------------  -----  \n",
      " 0   client_id   7747 non-null   object \n",
      " 1   path        7747 non-null   object \n",
      " 2   sentence    7747 non-null   object \n",
      " 3   up_votes    7747 non-null   float64\n",
      " 4   down_votes  7747 non-null   float64\n",
      " 5   age         874 non-null    object \n",
      " 6   gender      876 non-null    object \n",
      " 7   accents     292 non-null    object \n",
      " 8   locale      7747 non-null   object \n",
      "dtypes: float64(2), object(7)\n",
      "memory usage: 544.8+ KB\n"
     ]
    }
   ],
   "source": [
    "df_validation.info()"
   ]
  },
  {
   "cell_type": "markdown",
   "id": "a040e740-af5c-43ad-bd13-f46ed3468946",
   "metadata": {},
   "source": [
    "# Exploring the data"
   ]
  },
  {
   "cell_type": "code",
   "execution_count": 17,
   "id": "5a14d780-d8a4-4fbb-8c94-1e115e940f46",
   "metadata": {},
   "outputs": [],
   "source": [
    "df_common = pd.merge(df_train, df_validation, on=['path'], how='inner')"
   ]
  },
  {
   "cell_type": "code",
   "execution_count": 18,
   "id": "120680fc-1bd0-4382-ae2c-9cf8a92bf732",
   "metadata": {},
   "outputs": [
    {
     "name": "stdout",
     "output_type": "stream",
     "text": [
      "<class 'pandas.core.frame.DataFrame'>\n",
      "Index: 0 entries\n",
      "Data columns (total 17 columns):\n",
      " #   Column        Non-Null Count  Dtype  \n",
      "---  ------        --------------  -----  \n",
      " 0   client_id_x   0 non-null      object \n",
      " 1   path          0 non-null      object \n",
      " 2   sentence_x    0 non-null      object \n",
      " 3   up_votes_x    0 non-null      float64\n",
      " 4   down_votes_x  0 non-null      float64\n",
      " 5   age_x         0 non-null      object \n",
      " 6   gender_x      0 non-null      object \n",
      " 7   accents_x     0 non-null      object \n",
      " 8   locale_x      0 non-null      object \n",
      " 9   client_id_y   0 non-null      object \n",
      " 10  sentence_y    0 non-null      object \n",
      " 11  up_votes_y    0 non-null      float64\n",
      " 12  down_votes_y  0 non-null      float64\n",
      " 13  age_y         0 non-null      object \n",
      " 14  gender_y      0 non-null      object \n",
      " 15  accents_y     0 non-null      object \n",
      " 16  locale_y      0 non-null      object \n",
      "dtypes: float64(4), object(13)\n",
      "memory usage: 0.0+ bytes\n"
     ]
    }
   ],
   "source": [
    "df_common.info()"
   ]
  },
  {
   "cell_type": "code",
   "execution_count": 19,
   "id": "d609d7b2-7ff7-4178-b458-6a7de11075d2",
   "metadata": {},
   "outputs": [
    {
     "name": "stdout",
     "output_type": "stream",
     "text": [
      "Test files\n",
      "   7747 mp3\n",
      "Train files\n",
      " 206950 mp3\n",
      "Validation files\n",
      "   7747 mp3\n"
     ]
    }
   ],
   "source": [
    "!cd test_files && echo \"Test files\" && find . -maxdepth 1 -type f | sed 's/.*\\.//' | sort | uniq -c && # for file in *.mp3;do ffprobe -v error -select_streams a:0 -show_entries stream=duration -of default=noprint_wrappers=1:nokey=1 \"$file\";done|paste -sd+|bc -l\n",
    "!cd train_files && echo \"Train files\" &&find . -maxdepth 1 -type f | sed 's/.*\\.//' | sort | uniq -c\n",
    "!cd validation_files && echo \"Validation files\" && find . -maxdepth 1 -type f | sed 's/.*\\.//' | sort | uniq -c"
   ]
  },
  {
   "cell_type": "code",
   "execution_count": 20,
   "id": "80754a45-a5d1-404c-a771-1564c702eaba",
   "metadata": {},
   "outputs": [],
   "source": [
    "def get_all_unique_values(df):\n",
    "    df_empty = {}\n",
    "    for i in df.columns:\n",
    "        df_empty[i] = df[i].unique()\n",
    "    return df_empty"
   ]
  },
  {
   "cell_type": "code",
   "execution_count": 21,
   "id": "af8b20ba-0dc8-49d6-92ba-0e81aafe2cb0",
   "metadata": {},
   "outputs": [],
   "source": [
    "def missing_data(df):\n",
    "    a = df.isnull().sum()\n",
    "    a=a.tolist()\n",
    "    percent_missing = [ int(x)* 100 / len(df) for x in a]\n",
    "    error_per = pd.DataFrame({\n",
    "        'Columns':df.columns,         \n",
    "        'Total error': a,\n",
    "        'Error Percentage': percent_missing\n",
    "    })\n",
    "    print(tabulate(error_per, headers=['column','Total missing','% missing']))\n",
    "    sns.barplot(x='Columns',y='Error Percentage',data=error_per)\n",
    "    plt.ylabel('missing  %')\n",
    "    plt.xticks(rotation=70)"
   ]
  },
  {
   "cell_type": "code",
   "execution_count": 22,
   "id": "5074bef1-ca30-4ca0-a1bd-552c2f63487d",
   "metadata": {},
   "outputs": [
    {
     "name": "stdout",
     "output_type": "stream",
     "text": [
      "    column        Total missing    % missing\n",
      "--  ----------  ---------------  -----------\n",
      " 0  client_id                 0       0\n",
      " 1  path                      0       0\n",
      " 2  sentence                  0       0\n",
      " 3  up_votes                  0       0\n",
      " 4  down_votes                0       0\n",
      " 5  age                  146641      70.8582\n",
      " 6  gender               145754      70.4296\n",
      " 7  accents              195862      94.6422\n",
      " 8  locale                    0       0\n"
     ]
    },
    {
     "data": {
      "image/png": "[encoded data removed]",
      "text/plain": [
       "<Figure size 432x288 with 1 Axes>"
      ]
     },
     "metadata": {
      "needs_background": "light"
     },
     "output_type": "display_data"
    }
   ],
   "source": [
    "missing_data(df_train)"
   ]
  },
  {
   "cell_type": "code",
   "execution_count": 23,
   "id": "45645cdd-6555-4709-9cf8-fbf7301a14da",
   "metadata": {},
   "outputs": [
    {
     "name": "stdout",
     "output_type": "stream",
     "text": [
      "    column        Total missing    % missing\n",
      "--  ----------  ---------------  -----------\n",
      " 0  client_id                 0       0\n",
      " 1  path                      0       0\n",
      " 2  sentence                  0       0\n",
      " 3  up_votes                  0       0\n",
      " 4  down_votes                0       0\n",
      " 5  age                    6873      88.7182\n",
      " 6  gender                 6871      88.6924\n",
      " 7  accents                7455      96.2308\n",
      " 8  locale                    0       0\n"
     ]
    },
    {
     "data": {
      "image/png": "[encoded data removed]",
      "text/plain": [
       "<Figure size 432x288 with 1 Axes>"
      ]
     },
     "metadata": {
      "needs_background": "light"
     },
     "output_type": "display_data"
    }
   ],
   "source": [
    "missing_data(df_validation)"
   ]
  },
  {
   "cell_type": "code",
   "execution_count": 24,
   "id": "7cb0c917-3b6f-4637-bfc8-ecffdd6ac284",
   "metadata": {},
   "outputs": [],
   "source": [
    "#get_all_unique_values(df_train)"
   ]
  },
  {
   "cell_type": "code",
   "execution_count": 25,
   "id": "8c98e5d1-eb78-4e81-8969-f5c8e12e906d",
   "metadata": {},
   "outputs": [],
   "source": [
    "#get_all_unique_values(df_validation)"
   ]
  },
  {
   "cell_type": "markdown",
   "id": "e7798ab4-ea66-4a4e-8fa6-08f83cb62239",
   "metadata": {
    "tags": []
   },
   "source": [
    "# Preprocessing Data"
   ]
  },
  {
   "cell_type": "markdown",
   "id": "dcd7b68d-9737-4bac-8fc8-46a14b62529d",
   "metadata": {},
   "source": [
    "## Mp3 to wav converter"
   ]
  },
  {
   "cell_type": "code",
   "execution_count": 26,
   "id": "060f5da6-c124-40ec-8c9b-c5ea794dc34e",
   "metadata": {},
   "outputs": [
    {
     "data": {
      "text/plain": [
       "'\\n#for validation\\n#ROOT_PATH = \"validation_files\"\\n#OUTPUT_DIR = \"./validation_files_wav\"\\n\\n#for train\\n#ROOT_PATH = \"train_files\"\\n#OUTPUT_DIR = \"./train_files_wav\"\\n\\n#for test \\n#ROOT_PATH = \"test_files\"\\n#OUTPUT_DIR = \"./test_files_wav\"\\n\\nos.mkdir(OUTPUT_DIR)\\n\\npath = ROOT_PATH\\naudio_files = os.listdir(path)\\n\\nimport time\\nstart = time.time()\\n\\nParallel(n_jobs=8, backend=\"multiprocessing\")(\\n    delayed(save_fn)(filename) for filename in tqdm(audio_files)\\n)\\n\\nend = time.time()\\nprint(\"total time to process: {x} seconds\".format(x=end-start))\\n'"
      ]
     },
     "execution_count": 26,
     "metadata": {},
     "output_type": "execute_result"
    }
   ],
   "source": [
    "def save_fn(filename):\n",
    "    \n",
    "    path = f\"{ROOT_PATH}/{filename}\"\n",
    "    save_path = f\"{OUTPUT_DIR}\"\n",
    "    if not os.path.exists(save_path):\n",
    "        os.makedirs(save_path, exist_ok=True)\n",
    "    \n",
    "    if os.path.exists(path):\n",
    "        try:\n",
    "            sound = AudioSegment.from_mp3(path)\n",
    "            sound = sound.set_frame_rate(16000)\n",
    "            sound.export(f\"{save_path}/{filename[:-4]}.wav\", format=\"wav\")\n",
    "        except:\n",
    "            print(path)\n",
    "     \n",
    "'''\n",
    "#for validation\n",
    "#ROOT_PATH = \"validation_files\"\n",
    "#OUTPUT_DIR = \"./validation_files_wav\"\n",
    "\n",
    "#for train\n",
    "#ROOT_PATH = \"train_files\"\n",
    "#OUTPUT_DIR = \"./train_files_wav\"\n",
    "\n",
    "#for test \n",
    "#ROOT_PATH = \"test_files\"\n",
    "#OUTPUT_DIR = \"./test_files_wav\"\n",
    "\n",
    "os.mkdir(OUTPUT_DIR)\n",
    "\n",
    "path = ROOT_PATH\n",
    "audio_files = os.listdir(path)\n",
    "\n",
    "import time\n",
    "start = time.time()\n",
    "\n",
    "Parallel(n_jobs=8, backend=\"multiprocessing\")(\n",
    "    delayed(save_fn)(filename) for filename in tqdm(audio_files)\n",
    ")\n",
    "\n",
    "end = time.time()\n",
    "print(\"total time to process: {x} seconds\".format(x=end-start))\n",
    "'''"
   ]
  },
  {
   "cell_type": "code",
   "execution_count": 27,
   "id": "9a06462b-db45-482a-b2fb-8aff6c227ac2",
   "metadata": {},
   "outputs": [],
   "source": [
    "#!zip -r train_wav.zip train_files_wav\n",
    "#!zip -r validation_wav.zip validation_files_wav\n",
    "#!zip -r test_wav.zip test_files_wav\n",
    "#!cp /content/validation_wav.zip /content/drive/MyDrive/buet_cse_fest_dlsprint\n",
    "#!cp /content/train_wav.zip /content/drive/MyDrive/buet_cse_fest_dlsprint\n",
    "#!cp /content/test_wav.zip /content/drive/MyDrive/buet_cse_fest_dlsprint\n",
    "\n",
    "#from google.colab import drive\n",
    "#drive.flush_and_unmount()"
   ]
  },
  {
   "cell_type": "markdown",
   "id": "f16dfa3a-4520-424f-907e-6b5431e244b7",
   "metadata": {
    "tags": []
   },
   "source": [
    "## Text preprocessing"
   ]
  },
  {
   "cell_type": "code",
   "execution_count": 28,
   "id": "c35ce672-049b-4915-9f4c-0f6b6f69469d",
   "metadata": {},
   "outputs": [],
   "source": [
    "def cleaning_csv(df):\n",
    "    df['votes'] = df['up_votes'] - df['down_votes']\n",
    "    df['votes'] = df['votes'] + abs(df['votes'].min())\n",
    "    df.replace(0,df['votes'].mean(axis=0),inplace=True)\n",
    "    df['votes'] = df['votes']/df['votes'].max() \n",
    "    df = df.drop(['client_id','age','gender','accents','locale','up_votes','down_votes'],axis=1)\n",
    "    df = df.dropna(how='all')\n",
    "    df['path'] = df['path'].str.replace('mp3','wav')\n",
    "    if len(df) > 200000:\n",
    "        df['path'] = 'train_files_wav/' + df['path']\n",
    "    if len(df) < 10000:\n",
    "        df['path'] = 'validation_files_wav/' + df['path']\n",
    "    return df"
   ]
  },
  {
   "cell_type": "code",
   "execution_count": 29,
   "id": "a9824b1f-422e-4edf-9364-4b19a11f5298",
   "metadata": {},
   "outputs": [],
   "source": [
    "def remove_punctuations(my_str):\n",
    "    # define punctuation\n",
    "    punctuations = '''```\u0012\u0010\u0002\b`\u0007\b£|¢|\u0007Ñ+-*/=EROero৳০১২৩৪৫৬৭৮৯012–34567•89।!()-[]{};:'\"“\\’…,<>.‚/?@#$%^&*_~‘—॥”‰🤣⚽️✌�￰৷￰'''\n",
    "    no_punct = \"\"\n",
    "    for char in my_str:\n",
    "        if char not in punctuations:\n",
    "            no_punct = no_punct + char\n",
    "\n",
    "    # display the unpunctuated string\n",
    "    return no_punct"
   ]
  },
  {
   "cell_type": "code",
   "execution_count": 30,
   "id": "add5386c-8153-4bcf-bc57-9704c65b1cf6",
   "metadata": {},
   "outputs": [],
   "source": [
    "df_train = cleaning_csv(df_train)\n",
    "df_validation = cleaning_csv(df_validation)"
   ]
  },
  {
   "cell_type": "code",
   "execution_count": 31,
   "id": "f1524775-50a7-4bd0-94a4-e8c3b1d97c1d",
   "metadata": {},
   "outputs": [],
   "source": [
    "df_train['sentence'] = df_train['sentence'].apply(lambda x : remove_punctuations(x))\n",
    "df_validation['sentence'] = df_validation['sentence'].apply(lambda x : remove_punctuations(x))"
   ]
  },
  {
   "cell_type": "code",
   "execution_count": 43,
   "id": "44faae47-2003-474e-bdb9-759a34c56fdc",
   "metadata": {},
   "outputs": [],
   "source": [
    "to_drop_train = df_train[df_train['sentence'].str.contains('V')]\n",
    "df_train = df_train.drop(to_drop_train.index)\n",
    "to_drop_train = df_train[df_train['sentence'].str.contains('A')]\n",
    "df_train = df_train.drop(to_drop_train.index)\n",
    "\n",
    "\n",
    "\n",
    "\n",
    "to_drop_validation = df_validation[df_validation['sentence'].str.contains('V')]\n",
    "df_validation = df_validation.drop(to_drop_validation.index)\n",
    "\n",
    "to_drop_validation = df_validation[df_validation['sentence'].str.contains('A')]\n",
    "df_validation = df_validation.drop(to_drop_validation.index)\n"
   ]
  },
  {
   "cell_type": "code",
   "execution_count": 44,
   "id": "00fa5120-c4fb-4a19-adc9-8fd5626c207a",
   "metadata": {},
   "outputs": [
    {
     "data": {
      "text/html": [
       "<div>\n",
       "<style scoped>\n",
       "    .dataframe tbody tr th:only-of-type {\n",
       "        vertical-align: middle;\n",
       "    }\n",
       "\n",
       "    .dataframe tbody tr th {\n",
       "        vertical-align: top;\n",
       "    }\n",
       "\n",
       "    .dataframe thead th {\n",
       "        text-align: right;\n",
       "    }\n",
       "</style>\n",
       "<table border=\"1\" class=\"dataframe\">\n",
       "  <thead>\n",
       "    <tr style=\"text-align: right;\">\n",
       "      <th></th>\n",
       "      <th>path</th>\n",
       "      <th>sentence</th>\n",
       "      <th>votes</th>\n",
       "    </tr>\n",
       "  </thead>\n",
       "  <tbody>\n",
       "    <tr>\n",
       "      <th>0</th>\n",
       "      <td>train_files_wav/common_voice_bn_30991326.wav</td>\n",
       "      <td>বাবা সত্যেন ঘোষ</td>\n",
       "      <td>0.008264</td>\n",
       "    </tr>\n",
       "    <tr>\n",
       "      <th>1</th>\n",
       "      <td>train_files_wav/common_voice_bn_30991371.wav</td>\n",
       "      <td>দেওয়ান ফরিদ গাজী বাংলাদেশ আওয়ামী লীগের উপদেষ...</td>\n",
       "      <td>0.016529</td>\n",
       "    </tr>\n",
       "    <tr>\n",
       "      <th>2</th>\n",
       "      <td>train_files_wav/common_voice_bn_30991410.wav</td>\n",
       "      <td>এর মাধ্যমে কারও গান গাওয়া দক্ষতা বা নিজস্ব ধর...</td>\n",
       "      <td>0.008264</td>\n",
       "    </tr>\n",
       "    <tr>\n",
       "      <th>3</th>\n",
       "      <td>train_files_wav/common_voice_bn_30991432.wav</td>\n",
       "      <td>আপনি খুব একটা কথা বলার লোক নন তাই না</td>\n",
       "      <td>0.008264</td>\n",
       "    </tr>\n",
       "    <tr>\n",
       "      <th>4</th>\n",
       "      <td>train_files_wav/common_voice_bn_30991478.wav</td>\n",
       "      <td>আপনি খুব একটা কথা বলার লোক নন তাই না</td>\n",
       "      <td>0.008264</td>\n",
       "    </tr>\n",
       "    <tr>\n",
       "      <th>...</th>\n",
       "      <td>...</td>\n",
       "      <td>...</td>\n",
       "      <td>...</td>\n",
       "    </tr>\n",
       "    <tr>\n",
       "      <th>214689</th>\n",
       "      <td>validation_files_wav/common_voice_bn_30998756.wav</td>\n",
       "      <td>তবে রোগাক্রান্ত পোষা বিড়ালের মাধ্যমে এটি বেশি...</td>\n",
       "      <td>0.056604</td>\n",
       "    </tr>\n",
       "    <tr>\n",
       "      <th>214690</th>\n",
       "      <td>validation_files_wav/common_voice_bn_30998849.wav</td>\n",
       "      <td>পেল ও সহযোগী পেল সংখ্যাগুলি লুকাস ধারার অন্তর্গত</td>\n",
       "      <td>0.037736</td>\n",
       "    </tr>\n",
       "    <tr>\n",
       "      <th>214691</th>\n",
       "      <td>validation_files_wav/common_voice_bn_30998861.wav</td>\n",
       "      <td>গমের আটা এবং পুরো গমের ময়দার মধ্যে পার্থক্য কী</td>\n",
       "      <td>0.056604</td>\n",
       "    </tr>\n",
       "    <tr>\n",
       "      <th>214692</th>\n",
       "      <td>validation_files_wav/common_voice_bn_31515352.wav</td>\n",
       "      <td>এই প্রজাতি জঙ্গলে আবদ্ধ থাকতেই পছন্দ করে</td>\n",
       "      <td>0.075472</td>\n",
       "    </tr>\n",
       "    <tr>\n",
       "      <th>214693</th>\n",
       "      <td>validation_files_wav/common_voice_bn_31515356.wav</td>\n",
       "      <td>কুয়ালালামপুর আন্তর্জাতিক বিমানবন্দর মালয়েশিয...</td>\n",
       "      <td>0.075472</td>\n",
       "    </tr>\n",
       "  </tbody>\n",
       "</table>\n",
       "<p>214694 rows × 3 columns</p>\n",
       "</div>"
      ],
      "text/plain": [
       "                                                     path  \\\n",
       "0            train_files_wav/common_voice_bn_30991326.wav   \n",
       "1            train_files_wav/common_voice_bn_30991371.wav   \n",
       "2            train_files_wav/common_voice_bn_30991410.wav   \n",
       "3            train_files_wav/common_voice_bn_30991432.wav   \n",
       "4            train_files_wav/common_voice_bn_30991478.wav   \n",
       "...                                                   ...   \n",
       "214689  validation_files_wav/common_voice_bn_30998756.wav   \n",
       "214690  validation_files_wav/common_voice_bn_30998849.wav   \n",
       "214691  validation_files_wav/common_voice_bn_30998861.wav   \n",
       "214692  validation_files_wav/common_voice_bn_31515352.wav   \n",
       "214693  validation_files_wav/common_voice_bn_31515356.wav   \n",
       "\n",
       "                                                 sentence     votes  \n",
       "0                                         বাবা সত্যেন ঘোষ  0.008264  \n",
       "1       দেওয়ান ফরিদ গাজী বাংলাদেশ আওয়ামী লীগের উপদেষ...  0.016529  \n",
       "2       এর মাধ্যমে কারও গান গাওয়া দক্ষতা বা নিজস্ব ধর...  0.008264  \n",
       "3                    আপনি খুব একটা কথা বলার লোক নন তাই না  0.008264  \n",
       "4                    আপনি খুব একটা কথা বলার লোক নন তাই না  0.008264  \n",
       "...                                                   ...       ...  \n",
       "214689  তবে রোগাক্রান্ত পোষা বিড়ালের মাধ্যমে এটি বেশি...  0.056604  \n",
       "214690   পেল ও সহযোগী পেল সংখ্যাগুলি লুকাস ধারার অন্তর্গত  0.037736  \n",
       "214691    গমের আটা এবং পুরো গমের ময়দার মধ্যে পার্থক্য কী  0.056604  \n",
       "214692           এই প্রজাতি জঙ্গলে আবদ্ধ থাকতেই পছন্দ করে  0.075472  \n",
       "214693  কুয়ালালামপুর আন্তর্জাতিক বিমানবন্দর মালয়েশিয...  0.075472  \n",
       "\n",
       "[214694 rows x 3 columns]"
      ]
     },
     "execution_count": 44,
     "metadata": {},
     "output_type": "execute_result"
    }
   ],
   "source": [
    "df_merged = pd.concat([df_train, df_validation], ignore_index=True)\n",
    "df_merged"
   ]
  },
  {
   "cell_type": "markdown",
   "id": "bfe35625-5d11-4bf3-93e9-a723568857f5",
   "metadata": {},
   "source": [
    "## Audio preprocessing"
   ]
  },
  {
   "cell_type": "code",
   "execution_count": 45,
   "id": "4d546317-0816-4975-a49f-8ee4cb092161",
   "metadata": {},
   "outputs": [],
   "source": [
    "def audio_info_cleaning(df):\n",
    "    df['path'] = df['path'].str.replace('mp3','wav')\n",
    "    df['duration'] = df['duration'].str.replace(':','0')\n",
    "    df['duration'] = df['duration'].astype(int)\n",
    "    return df"
   ]
  },
  {
   "cell_type": "code",
   "execution_count": 46,
   "id": "0bfa26fd-bc70-471a-94f3-5ccaae019fc2",
   "metadata": {},
   "outputs": [],
   "source": [
    "df_test_files_duration = audio_info_cleaning(df_test_files_duration)\n",
    "df_test_files_duration['path'] = 'test_files_wav/' + df_test_files_duration['path']\n",
    "\n",
    "df_validation_files_duration = audio_info_cleaning(df_validation_files_duration)\n",
    "df_validation_files_duration['path'] = 'validation_files_wav/' + df_validation_files_duration['path']\n"
   ]
  },
  {
   "cell_type": "code",
   "execution_count": 47,
   "id": "789b5566-724b-41ad-a71a-20e72dd4967a",
   "metadata": {},
   "outputs": [
    {
     "data": {
      "text/plain": [
       "array([ 4,  6,  7,  5,  9, 10,  8,  2,  3])"
      ]
     },
     "execution_count": 47,
     "metadata": {},
     "output_type": "execute_result"
    }
   ],
   "source": [
    "get_all_unique_values(df_validation_files_duration)['duration']"
   ]
  },
  {
   "cell_type": "code",
   "execution_count": 48,
   "id": "007249ec-3fa9-4209-bba4-2542b7f34e4c",
   "metadata": {},
   "outputs": [
    {
     "data": {
      "text/plain": [
       "5     1647\n",
       "4     1468\n",
       "6     1328\n",
       "7     1093\n",
       "8      742\n",
       "3      600\n",
       "9      562\n",
       "10     217\n",
       "2       90\n",
       "Name: duration, dtype: int64"
      ]
     },
     "execution_count": 48,
     "metadata": {},
     "output_type": "execute_result"
    }
   ],
   "source": [
    "df_validation_files_duration['duration'].value_counts()"
   ]
  },
  {
   "cell_type": "code",
   "execution_count": 49,
   "id": "4c57f2a5-3968-456f-9579-dfeb5db14901",
   "metadata": {},
   "outputs": [],
   "source": [
    "df_validation_files_duration = df_validation_files_duration[(df_validation_files_duration['duration'] < 7) & (df_validation_files_duration['duration'] > 3)]"
   ]
  },
  {
   "cell_type": "code",
   "execution_count": 50,
   "id": "265ce029-f5cf-4d22-8f32-8b5a4b99f36e",
   "metadata": {},
   "outputs": [],
   "source": [
    "df_validation = df_validation.merge(df_validation_files_duration,on='path')"
   ]
  },
  {
   "cell_type": "code",
   "execution_count": 51,
   "id": "f32184c8-535b-441d-8939-0bf365dfe7ad",
   "metadata": {},
   "outputs": [
    {
     "data": {
      "text/html": [
       "<div>\n",
       "<style scoped>\n",
       "    .dataframe tbody tr th:only-of-type {\n",
       "        vertical-align: middle;\n",
       "    }\n",
       "\n",
       "    .dataframe tbody tr th {\n",
       "        vertical-align: top;\n",
       "    }\n",
       "\n",
       "    .dataframe thead th {\n",
       "        text-align: right;\n",
       "    }\n",
       "</style>\n",
       "<table border=\"1\" class=\"dataframe\">\n",
       "  <thead>\n",
       "    <tr style=\"text-align: right;\">\n",
       "      <th></th>\n",
       "      <th>path</th>\n",
       "      <th>sentence</th>\n",
       "      <th>votes</th>\n",
       "      <th>duration</th>\n",
       "    </tr>\n",
       "  </thead>\n",
       "  <tbody>\n",
       "    <tr>\n",
       "      <th>0</th>\n",
       "      <td>validation_files_wav/common_voice_bn_31621610.wav</td>\n",
       "      <td>কৃষি সেবা রেমিটেন্স ব্যবসা ও অন্যান্য</td>\n",
       "      <td>0.075472</td>\n",
       "      <td>5</td>\n",
       "    </tr>\n",
       "    <tr>\n",
       "      <th>1</th>\n",
       "      <td>validation_files_wav/common_voice_bn_31621614.wav</td>\n",
       "      <td>তিনি ছিলেন চাকমা ভাষার প্রথম আধুনিক গীতিকার</td>\n",
       "      <td>0.113208</td>\n",
       "      <td>4</td>\n",
       "    </tr>\n",
       "    <tr>\n",
       "      <th>2</th>\n",
       "      <td>validation_files_wav/common_voice_bn_31600766.wav</td>\n",
       "      <td>ইংরেজির সাথে সাথে তাদের হিন্দী ও সংস্কৃত শিক্ষ...</td>\n",
       "      <td>0.056604</td>\n",
       "      <td>5</td>\n",
       "    </tr>\n",
       "    <tr>\n",
       "      <th>3</th>\n",
       "      <td>validation_files_wav/common_voice_bn_31600769.wav</td>\n",
       "      <td>শিখর ধাওয়ান তার প্রথম আন্তর্জাতিক উইকেট শিকার...</td>\n",
       "      <td>0.075472</td>\n",
       "      <td>4</td>\n",
       "    </tr>\n",
       "    <tr>\n",
       "      <th>4</th>\n",
       "      <td>validation_files_wav/common_voice_bn_31513314.wav</td>\n",
       "      <td>এখানে তিনি এয়াকিনসের অধীনে অধ্যয়ন করেছিলেন</td>\n",
       "      <td>0.075472</td>\n",
       "      <td>5</td>\n",
       "    </tr>\n",
       "    <tr>\n",
       "      <th>...</th>\n",
       "      <td>...</td>\n",
       "      <td>...</td>\n",
       "      <td>...</td>\n",
       "      <td>...</td>\n",
       "    </tr>\n",
       "    <tr>\n",
       "      <th>4438</th>\n",
       "      <td>validation_files_wav/common_voice_bn_30998752.wav</td>\n",
       "      <td>তুমি ওকে ভালো করে বুঝিয়ে দিও</td>\n",
       "      <td>0.056604</td>\n",
       "      <td>4</td>\n",
       "    </tr>\n",
       "    <tr>\n",
       "      <th>4439</th>\n",
       "      <td>validation_files_wav/common_voice_bn_30998756.wav</td>\n",
       "      <td>তবে রোগাক্রান্ত পোষা বিড়ালের মাধ্যমে এটি বেশি...</td>\n",
       "      <td>0.056604</td>\n",
       "      <td>5</td>\n",
       "    </tr>\n",
       "    <tr>\n",
       "      <th>4440</th>\n",
       "      <td>validation_files_wav/common_voice_bn_30998849.wav</td>\n",
       "      <td>পেল ও সহযোগী পেল সংখ্যাগুলি লুকাস ধারার অন্তর্গত</td>\n",
       "      <td>0.037736</td>\n",
       "      <td>6</td>\n",
       "    </tr>\n",
       "    <tr>\n",
       "      <th>4441</th>\n",
       "      <td>validation_files_wav/common_voice_bn_30998861.wav</td>\n",
       "      <td>গমের আটা এবং পুরো গমের ময়দার মধ্যে পার্থক্য কী</td>\n",
       "      <td>0.056604</td>\n",
       "      <td>6</td>\n",
       "    </tr>\n",
       "    <tr>\n",
       "      <th>4442</th>\n",
       "      <td>validation_files_wav/common_voice_bn_31515352.wav</td>\n",
       "      <td>এই প্রজাতি জঙ্গলে আবদ্ধ থাকতেই পছন্দ করে</td>\n",
       "      <td>0.075472</td>\n",
       "      <td>6</td>\n",
       "    </tr>\n",
       "  </tbody>\n",
       "</table>\n",
       "<p>4443 rows × 4 columns</p>\n",
       "</div>"
      ],
      "text/plain": [
       "                                                   path  \\\n",
       "0     validation_files_wav/common_voice_bn_31621610.wav   \n",
       "1     validation_files_wav/common_voice_bn_31621614.wav   \n",
       "2     validation_files_wav/common_voice_bn_31600766.wav   \n",
       "3     validation_files_wav/common_voice_bn_31600769.wav   \n",
       "4     validation_files_wav/common_voice_bn_31513314.wav   \n",
       "...                                                 ...   \n",
       "4438  validation_files_wav/common_voice_bn_30998752.wav   \n",
       "4439  validation_files_wav/common_voice_bn_30998756.wav   \n",
       "4440  validation_files_wav/common_voice_bn_30998849.wav   \n",
       "4441  validation_files_wav/common_voice_bn_30998861.wav   \n",
       "4442  validation_files_wav/common_voice_bn_31515352.wav   \n",
       "\n",
       "                                               sentence     votes  duration  \n",
       "0                 কৃষি সেবা রেমিটেন্স ব্যবসা ও অন্যান্য  0.075472         5  \n",
       "1           তিনি ছিলেন চাকমা ভাষার প্রথম আধুনিক গীতিকার  0.113208         4  \n",
       "2     ইংরেজির সাথে সাথে তাদের হিন্দী ও সংস্কৃত শিক্ষ...  0.056604         5  \n",
       "3     শিখর ধাওয়ান তার প্রথম আন্তর্জাতিক উইকেট শিকার...  0.075472         4  \n",
       "4          এখানে তিনি এয়াকিনসের অধীনে অধ্যয়ন করেছিলেন  0.075472         5  \n",
       "...                                                 ...       ...       ...  \n",
       "4438                       তুমি ওকে ভালো করে বুঝিয়ে দিও  0.056604         4  \n",
       "4439  তবে রোগাক্রান্ত পোষা বিড়ালের মাধ্যমে এটি বেশি...  0.056604         5  \n",
       "4440   পেল ও সহযোগী পেল সংখ্যাগুলি লুকাস ধারার অন্তর্গত  0.037736         6  \n",
       "4441    গমের আটা এবং পুরো গমের ময়দার মধ্যে পার্থক্য কী  0.056604         6  \n",
       "4442           এই প্রজাতি জঙ্গলে আবদ্ধ থাকতেই পছন্দ করে  0.075472         6  \n",
       "\n",
       "[4443 rows x 4 columns]"
      ]
     },
     "execution_count": 51,
     "metadata": {},
     "output_type": "execute_result"
    }
   ],
   "source": [
    "df_validation"
   ]
  },
  {
   "cell_type": "code",
   "execution_count": 52,
   "id": "c1555764-1e0c-4c64-af19-c3ed79bd8073",
   "metadata": {},
   "outputs": [
    {
     "data": {
      "text/html": [
       "<div>\n",
       "<style scoped>\n",
       "    .dataframe tbody tr th:only-of-type {\n",
       "        vertical-align: middle;\n",
       "    }\n",
       "\n",
       "    .dataframe tbody tr th {\n",
       "        vertical-align: top;\n",
       "    }\n",
       "\n",
       "    .dataframe thead th {\n",
       "        text-align: right;\n",
       "    }\n",
       "</style>\n",
       "<table border=\"1\" class=\"dataframe\">\n",
       "  <thead>\n",
       "    <tr style=\"text-align: right;\">\n",
       "      <th></th>\n",
       "      <th>path</th>\n",
       "      <th>sentence</th>\n",
       "      <th>votes</th>\n",
       "    </tr>\n",
       "  </thead>\n",
       "  <tbody>\n",
       "    <tr>\n",
       "      <th>0</th>\n",
       "      <td>validation_files_wav/common_voice_bn_31621610.wav</td>\n",
       "      <td>কৃষি সেবা রেমিটেন্স ব্যবসা ও অন্যান্য</td>\n",
       "      <td>0.075472</td>\n",
       "    </tr>\n",
       "    <tr>\n",
       "      <th>1</th>\n",
       "      <td>validation_files_wav/common_voice_bn_31621614.wav</td>\n",
       "      <td>তিনি ছিলেন চাকমা ভাষার প্রথম আধুনিক গীতিকার</td>\n",
       "      <td>0.113208</td>\n",
       "    </tr>\n",
       "    <tr>\n",
       "      <th>2</th>\n",
       "      <td>validation_files_wav/common_voice_bn_31600766.wav</td>\n",
       "      <td>ইংরেজির সাথে সাথে তাদের হিন্দী ও সংস্কৃত শিক্ষ...</td>\n",
       "      <td>0.056604</td>\n",
       "    </tr>\n",
       "    <tr>\n",
       "      <th>3</th>\n",
       "      <td>validation_files_wav/common_voice_bn_31600769.wav</td>\n",
       "      <td>শিখর ধাওয়ান তার প্রথম আন্তর্জাতিক উইকেট শিকার...</td>\n",
       "      <td>0.075472</td>\n",
       "    </tr>\n",
       "    <tr>\n",
       "      <th>4</th>\n",
       "      <td>validation_files_wav/common_voice_bn_31513314.wav</td>\n",
       "      <td>এখানে তিনি এয়াকিনসের অধীনে অধ্যয়ন করেছিলেন</td>\n",
       "      <td>0.075472</td>\n",
       "    </tr>\n",
       "    <tr>\n",
       "      <th>...</th>\n",
       "      <td>...</td>\n",
       "      <td>...</td>\n",
       "      <td>...</td>\n",
       "    </tr>\n",
       "    <tr>\n",
       "      <th>4438</th>\n",
       "      <td>validation_files_wav/common_voice_bn_30998752.wav</td>\n",
       "      <td>তুমি ওকে ভালো করে বুঝিয়ে দিও</td>\n",
       "      <td>0.056604</td>\n",
       "    </tr>\n",
       "    <tr>\n",
       "      <th>4439</th>\n",
       "      <td>validation_files_wav/common_voice_bn_30998756.wav</td>\n",
       "      <td>তবে রোগাক্রান্ত পোষা বিড়ালের মাধ্যমে এটি বেশি...</td>\n",
       "      <td>0.056604</td>\n",
       "    </tr>\n",
       "    <tr>\n",
       "      <th>4440</th>\n",
       "      <td>validation_files_wav/common_voice_bn_30998849.wav</td>\n",
       "      <td>পেল ও সহযোগী পেল সংখ্যাগুলি লুকাস ধারার অন্তর্গত</td>\n",
       "      <td>0.037736</td>\n",
       "    </tr>\n",
       "    <tr>\n",
       "      <th>4441</th>\n",
       "      <td>validation_files_wav/common_voice_bn_30998861.wav</td>\n",
       "      <td>গমের আটা এবং পুরো গমের ময়দার মধ্যে পার্থক্য কী</td>\n",
       "      <td>0.056604</td>\n",
       "    </tr>\n",
       "    <tr>\n",
       "      <th>4442</th>\n",
       "      <td>validation_files_wav/common_voice_bn_31515352.wav</td>\n",
       "      <td>এই প্রজাতি জঙ্গলে আবদ্ধ থাকতেই পছন্দ করে</td>\n",
       "      <td>0.075472</td>\n",
       "    </tr>\n",
       "  </tbody>\n",
       "</table>\n",
       "<p>4443 rows × 3 columns</p>\n",
       "</div>"
      ],
      "text/plain": [
       "                                                   path  \\\n",
       "0     validation_files_wav/common_voice_bn_31621610.wav   \n",
       "1     validation_files_wav/common_voice_bn_31621614.wav   \n",
       "2     validation_files_wav/common_voice_bn_31600766.wav   \n",
       "3     validation_files_wav/common_voice_bn_31600769.wav   \n",
       "4     validation_files_wav/common_voice_bn_31513314.wav   \n",
       "...                                                 ...   \n",
       "4438  validation_files_wav/common_voice_bn_30998752.wav   \n",
       "4439  validation_files_wav/common_voice_bn_30998756.wav   \n",
       "4440  validation_files_wav/common_voice_bn_30998849.wav   \n",
       "4441  validation_files_wav/common_voice_bn_30998861.wav   \n",
       "4442  validation_files_wav/common_voice_bn_31515352.wav   \n",
       "\n",
       "                                               sentence     votes  \n",
       "0                 কৃষি সেবা রেমিটেন্স ব্যবসা ও অন্যান্য  0.075472  \n",
       "1           তিনি ছিলেন চাকমা ভাষার প্রথম আধুনিক গীতিকার  0.113208  \n",
       "2     ইংরেজির সাথে সাথে তাদের হিন্দী ও সংস্কৃত শিক্ষ...  0.056604  \n",
       "3     শিখর ধাওয়ান তার প্রথম আন্তর্জাতিক উইকেট শিকার...  0.075472  \n",
       "4          এখানে তিনি এয়াকিনসের অধীনে অধ্যয়ন করেছিলেন  0.075472  \n",
       "...                                                 ...       ...  \n",
       "4438                       তুমি ওকে ভালো করে বুঝিয়ে দিও  0.056604  \n",
       "4439  তবে রোগাক্রান্ত পোষা বিড়ালের মাধ্যমে এটি বেশি...  0.056604  \n",
       "4440   পেল ও সহযোগী পেল সংখ্যাগুলি লুকাস ধারার অন্তর্গত  0.037736  \n",
       "4441    গমের আটা এবং পুরো গমের ময়দার মধ্যে পার্থক্য কী  0.056604  \n",
       "4442           এই প্রজাতি জঙ্গলে আবদ্ধ থাকতেই পছন্দ করে  0.075472  \n",
       "\n",
       "[4443 rows x 3 columns]"
      ]
     },
     "execution_count": 52,
     "metadata": {},
     "output_type": "execute_result"
    }
   ],
   "source": [
    "df_validation = df_validation.drop('duration',axis=1)\n",
    "df_validation"
   ]
  },
  {
   "cell_type": "markdown",
   "id": "d801fe1c-97c3-4daf-898c-326bc68e2bba",
   "metadata": {},
   "source": [
    "## Tokenizer"
   ]
  },
  {
   "cell_type": "code",
   "execution_count": 53,
   "id": "9aab9c4b-93a3-426c-8a82-b02825da41d4",
   "metadata": {},
   "outputs": [],
   "source": [
    "def extract_all_chars(df):\n",
    "    all_text = \" \".join(df[\"sentence\"])\n",
    "    vocab = list(set(all_text))\n",
    "    vocab_dict = {v: k for k, v in enumerate(vocab)}\n",
    "    return vocab_dict"
   ]
  },
  {
   "cell_type": "code",
   "execution_count": 54,
   "id": "9c798cc5-c349-45ce-b805-7f100c396eb6",
   "metadata": {},
   "outputs": [
    {
     "data": {
      "text/plain": [
       "{'এ': 0,\n",
       " 'উ': 1,\n",
       " 'ৰ': 2,\n",
       " 'ঁ': 3,\n",
       " 'ট': 4,\n",
       " 'ন': 5,\n",
       " 'জ': 6,\n",
       " 'ব': 7,\n",
       " 'ছ': 8,\n",
       " 'ণ': 9,\n",
       " 'ঝ': 10,\n",
       " 'ঠ': 11,\n",
       " 'চ': 12,\n",
       " 'ূ': 13,\n",
       " 'অ': 14,\n",
       " 'ষ': 15,\n",
       " 'ঢ়': 16,\n",
       " 'া': 17,\n",
       " '়': 18,\n",
       " 'গ': 19,\n",
       " 'ঋ': 20,\n",
       " 'ভ': 21,\n",
       " 'ং': 22,\n",
       " 'ড়': 23,\n",
       " 'ঢ': 24,\n",
       " 'স': 25,\n",
       " '্': 26,\n",
       " 'য': 27,\n",
       " 'ঙ': 28,\n",
       " 'ৌ': 29,\n",
       " 'ল': 30,\n",
       " 'য়': 31,\n",
       " 'ঔ': 32,\n",
       " 'হ': 33,\n",
       " 'থ': 34,\n",
       " 'ড': 35,\n",
       " '৵': 36,\n",
       " 'ো': 37,\n",
       " 'ও': 38,\n",
       " 'ই': 39,\n",
       " ' ': 40,\n",
       " 'খ': 41,\n",
       " 'ক': 42,\n",
       " 'ফ': 43,\n",
       " 'ঃ': 44,\n",
       " 'ঞ': 45,\n",
       " 'ঈ': 46,\n",
       " 'আ': 47,\n",
       " 'ি': 48,\n",
       " 'ত': 49,\n",
       " 'ী': 50,\n",
       " 'ঐ': 51,\n",
       " 'ে': 52,\n",
       " 'ৃ': 53,\n",
       " 'ঊ': 54,\n",
       " 'ৎ': 55,\n",
       " 'ু': 56,\n",
       " 'র': 57,\n",
       " 'শ': 58,\n",
       " '©': 59,\n",
       " 'দ': 60,\n",
       " 'প': 61,\n",
       " 'ম': 62,\n",
       " 'ঘ': 63,\n",
       " 'ধ': 64,\n",
       " 'ৈ': 65}"
      ]
     },
     "execution_count": 54,
     "metadata": {},
     "output_type": "execute_result"
    }
   ],
   "source": [
    "vocab_dict = extract_all_chars(df_merged)\n",
    "vocab_dict"
   ]
  },
  {
   "cell_type": "code",
   "execution_count": 55,
   "id": "87507da4-7954-47c2-a61c-d60baa6ae6ae",
   "metadata": {},
   "outputs": [],
   "source": [
    "def vocab_dict_cleaner(vocab_dict):\n",
    "    vocab_dict[\"৵\"] = vocab_dict[\" \"]\n",
    "    vocab_dict[\"|\"] = vocab_dict[\" \"]\n",
    "    del vocab_dict[\" \"]\n",
    "    vocab_dict[\"[UNK]\"] = len(vocab_dict)\n",
    "    vocab_dict[\"[PAD]\"] = len(vocab_dict)\n",
    "    print(len(vocab_dict))\n",
    "    return vocab_dict"
   ]
  },
  {
   "cell_type": "code",
   "execution_count": 56,
   "id": "b9655235-ce4c-481e-8b0a-a5a3760e05e5",
   "metadata": {},
   "outputs": [
    {
     "name": "stdout",
     "output_type": "stream",
     "text": [
      "68\n"
     ]
    },
    {
     "data": {
      "text/plain": [
       "{'এ': 0,\n",
       " 'উ': 1,\n",
       " 'ৰ': 2,\n",
       " 'ঁ': 3,\n",
       " 'ট': 4,\n",
       " 'ন': 5,\n",
       " 'জ': 6,\n",
       " 'ব': 7,\n",
       " 'ছ': 8,\n",
       " 'ণ': 9,\n",
       " 'ঝ': 10,\n",
       " 'ঠ': 11,\n",
       " 'চ': 12,\n",
       " 'ূ': 13,\n",
       " 'অ': 14,\n",
       " 'ষ': 15,\n",
       " 'ঢ়': 16,\n",
       " 'া': 17,\n",
       " '়': 18,\n",
       " 'গ': 19,\n",
       " 'ঋ': 20,\n",
       " 'ভ': 21,\n",
       " 'ং': 22,\n",
       " 'ড়': 23,\n",
       " 'ঢ': 24,\n",
       " 'স': 25,\n",
       " '্': 26,\n",
       " 'য': 27,\n",
       " 'ঙ': 28,\n",
       " 'ৌ': 29,\n",
       " 'ল': 30,\n",
       " 'য়': 31,\n",
       " 'ঔ': 32,\n",
       " 'হ': 33,\n",
       " 'থ': 34,\n",
       " 'ড': 35,\n",
       " '৵': 40,\n",
       " 'ো': 37,\n",
       " 'ও': 38,\n",
       " 'ই': 39,\n",
       " 'খ': 41,\n",
       " 'ক': 42,\n",
       " 'ফ': 43,\n",
       " 'ঃ': 44,\n",
       " 'ঞ': 45,\n",
       " 'ঈ': 46,\n",
       " 'আ': 47,\n",
       " 'ি': 48,\n",
       " 'ত': 49,\n",
       " 'ী': 50,\n",
       " 'ঐ': 51,\n",
       " 'ে': 52,\n",
       " 'ৃ': 53,\n",
       " 'ঊ': 54,\n",
       " 'ৎ': 55,\n",
       " 'ু': 56,\n",
       " 'র': 57,\n",
       " 'শ': 58,\n",
       " '©': 59,\n",
       " 'দ': 60,\n",
       " 'প': 61,\n",
       " 'ম': 62,\n",
       " 'ঘ': 63,\n",
       " 'ধ': 64,\n",
       " 'ৈ': 65,\n",
       " '|': 40,\n",
       " '[UNK]': 66,\n",
       " '[PAD]': 67}"
      ]
     },
     "execution_count": 56,
     "metadata": {},
     "output_type": "execute_result"
    }
   ],
   "source": [
    "vocab_dict = vocab_dict_cleaner(vocab_dict)\n",
    "vocab_dict"
   ]
  },
  {
   "cell_type": "code",
   "execution_count": 57,
   "id": "535971ef-a827-46bc-bef8-6821157a7dfb",
   "metadata": {},
   "outputs": [],
   "source": [
    "with open('vocab.json', 'w') as vocab_file:\n",
    "    json.dump(vocab_dict, vocab_file)"
   ]
  },
  {
   "cell_type": "code",
   "execution_count": null,
   "id": "043f928e-c002-4229-8c97-6ddd589e73db",
   "metadata": {},
   "outputs": [],
   "source": [
    "config = AutoConfig.from_pretrained(model_checkpoint)\n",
    "tokenizer_type = config.model_type if config.tokenizer_class is None else None\n",
    "config = config if config.tokenizer_class is not None else None"
   ]
  },
  {
   "cell_type": "code",
   "execution_count": 41,
   "id": "3729a29a-2871-4fb9-9aa0-bc67716b5c56",
   "metadata": {},
   "outputs": [],
   "source": [
    "tokenizer = AutoTokenizer.from_pretrained(\n",
    "  \"./\",\n",
    "  config=config,\n",
    "  tokenizer_type=tokenizer_type,\n",
    "  unk_token=\"[UNK]\",\n",
    "  pad_token=\"[PAD]\",\n",
    "  word_delimiter_token=\"|\",\n",
    ")"
   ]
  },
  {
   "cell_type": "code",
   "execution_count": null,
   "id": "e2a77e4f-7408-4fb5-aaa6-9aa4ff4d2fc1",
   "metadata": {},
   "outputs": [],
   "source": [
    "feature_extractor = AutoFeatureExtractor.from_pretrained(model_checkpoint)"
   ]
  },
  {
   "cell_type": "code",
   "execution_count": 43,
   "id": "263b8057-9263-4ead-9ed7-fb0de879ac81",
   "metadata": {},
   "outputs": [],
   "source": [
    "processor = Wav2Vec2Processor(feature_extractor=feature_extractor, tokenizer=tokenizer)"
   ]
  },
  {
   "cell_type": "code",
   "execution_count": 44,
   "id": "7880e389-dde2-4312-97cb-b09e0a671614",
   "metadata": {},
   "outputs": [],
   "source": [
    "#%mkdir model"
   ]
  },
  {
   "cell_type": "code",
   "execution_count": 45,
   "id": "430324d4-b742-4726-81f2-75641d028092",
   "metadata": {},
   "outputs": [],
   "source": [
    "processor.save_pretrained(\"model/wav2vec2\")"
   ]
  },
  {
   "cell_type": "markdown",
   "id": "130d63ac-4056-487d-bf03-c4580f1126ea",
   "metadata": {},
   "source": [
    "## Wav to Array"
   ]
  },
  {
   "cell_type": "code",
   "execution_count": 46,
   "id": "2299a6d5-9ba7-4ea7-8834-8c9a3456eb61",
   "metadata": {},
   "outputs": [],
   "source": [
    "train = df_validation.sample(3000)\n",
    "test = df_validation.drop(train.index)\n",
    "test = test.sample(500)"
   ]
  },
  {
   "cell_type": "code",
   "execution_count": 47,
   "id": "de190159-3cb1-4a69-af5c-050b40956b25",
   "metadata": {},
   "outputs": [],
   "source": [
    "df_train = Dataset.from_pandas(df_train)\n",
    "train = Dataset.from_pandas(train)\n",
    "test = Dataset.from_pandas(test)\n",
    "submission = Dataset.from_pandas(df_submission[:100])\n",
    "df_merged = Dataset.from_pandas(df_merged)"
   ]
  },
  {
   "cell_type": "code",
   "execution_count": 48,
   "id": "39e568ae-2658-4d01-821f-35a54d11f53e",
   "metadata": {},
   "outputs": [],
   "source": [
    "def show_random_elements(dataset, num_examples=10):\n",
    "    assert num_examples <= len(dataset), \"Can't pick more elements than there are in the dataset.\"\n",
    "    picks = []\n",
    "    for _ in range(num_examples):\n",
    "        pick = random.randint(0, len(dataset)-1)\n",
    "        while pick in picks:\n",
    "            pick = random.randint(0, len(dataset)-1)\n",
    "        picks.append(pick)\n",
    "    \n",
    "    df = pd.DataFrame(dataset[picks])\n",
    "    return df"
   ]
  },
  {
   "cell_type": "code",
   "execution_count": 49,
   "id": "4895fd2d-3c27-41b0-837b-56c4706af89f",
   "metadata": {},
   "outputs": [
    {
     "data": {
      "text/html": [
       "<div>\n",
       "<style scoped>\n",
       "    .dataframe tbody tr th:only-of-type {\n",
       "        vertical-align: middle;\n",
       "    }\n",
       "\n",
       "    .dataframe tbody tr th {\n",
       "        vertical-align: top;\n",
       "    }\n",
       "\n",
       "    .dataframe thead th {\n",
       "        text-align: right;\n",
       "    }\n",
       "</style>\n",
       "<table border=\"1\" class=\"dataframe\">\n",
       "  <thead>\n",
       "    <tr style=\"text-align: right;\">\n",
       "      <th></th>\n",
       "      <th>sentence</th>\n",
       "      <th>votes</th>\n",
       "      <th>__index_level_0__</th>\n",
       "    </tr>\n",
       "  </thead>\n",
       "  <tbody>\n",
       "    <tr>\n",
       "      <th>0</th>\n",
       "      <td>এগুলো করাচির শিশুরা প্রায়শই খেলনা হিসাবে ব্যব...</td>\n",
       "      <td>0.132075</td>\n",
       "      <td>5449</td>\n",
       "    </tr>\n",
       "    <tr>\n",
       "      <th>1</th>\n",
       "      <td>আবদুস সাত্তারের মন্ত্রিসভায় তিনি মহিলা বিষয়ক...</td>\n",
       "      <td>0.113208</td>\n",
       "      <td>1306</td>\n",
       "    </tr>\n",
       "    <tr>\n",
       "      <th>2</th>\n",
       "      <td>যেখানে ফ্রান্স ইতালি মেক্সিকো এবং মার্কিন যুক্...</td>\n",
       "      <td>0.056604</td>\n",
       "      <td>2626</td>\n",
       "    </tr>\n",
       "    <tr>\n",
       "      <th>3</th>\n",
       "      <td>এদের ঠোঁট সরু ও বাঁকা</td>\n",
       "      <td>0.075472</td>\n",
       "      <td>7435</td>\n",
       "    </tr>\n",
       "    <tr>\n",
       "      <th>4</th>\n",
       "      <td>বাহরাইনের আব্দ আলকায়সের বংশধরদের মধ্যে অনেক ফ...</td>\n",
       "      <td>0.056604</td>\n",
       "      <td>4809</td>\n",
       "    </tr>\n",
       "    <tr>\n",
       "      <th>5</th>\n",
       "      <td>জীবনের প্রতিটি ক্ষেত্রে তাদের ব্যর্থতা অনিবার্য</td>\n",
       "      <td>0.056604</td>\n",
       "      <td>1042</td>\n",
       "    </tr>\n",
       "    <tr>\n",
       "      <th>6</th>\n",
       "      <td>প্রথমশ্রেণীর ক্রিকেট থেকে অবসর গ্রহণের পর ইংল্...</td>\n",
       "      <td>0.056604</td>\n",
       "      <td>1090</td>\n",
       "    </tr>\n",
       "    <tr>\n",
       "      <th>7</th>\n",
       "      <td>এই ধনেশ মালয় উপদ্বীপের প্রধান পাখি</td>\n",
       "      <td>0.056604</td>\n",
       "      <td>6528</td>\n",
       "    </tr>\n",
       "    <tr>\n",
       "      <th>8</th>\n",
       "      <td>তাজিকিস্তানের অধিকাংশ মানুষ মুসলিম</td>\n",
       "      <td>0.150943</td>\n",
       "      <td>3022</td>\n",
       "    </tr>\n",
       "    <tr>\n",
       "      <th>9</th>\n",
       "      <td>এগুলো সাধারণত খ্রিস্টান কবরস্থান যারা এই সম্প্...</td>\n",
       "      <td>0.056604</td>\n",
       "      <td>461</td>\n",
       "    </tr>\n",
       "    <tr>\n",
       "      <th>10</th>\n",
       "      <td>কেন আর্চার তার স্থলাভিষিক্ত হন</td>\n",
       "      <td>0.094340</td>\n",
       "      <td>5665</td>\n",
       "    </tr>\n",
       "    <tr>\n",
       "      <th>11</th>\n",
       "      <td>জার্নাল সমূহ</td>\n",
       "      <td>0.056604</td>\n",
       "      <td>819</td>\n",
       "    </tr>\n",
       "    <tr>\n",
       "      <th>12</th>\n",
       "      <td>তিনি বর্তমানে ইউনাইটেড ইন্টারন্যাশনাল ইউনিভার্...</td>\n",
       "      <td>0.056604</td>\n",
       "      <td>3667</td>\n",
       "    </tr>\n",
       "    <tr>\n",
       "      <th>13</th>\n",
       "      <td>কাব্যগ্রন্থে এই ভাবধারার একাধিক কবিতা রয়েছে</td>\n",
       "      <td>0.056604</td>\n",
       "      <td>3633</td>\n",
       "    </tr>\n",
       "    <tr>\n",
       "      <th>14</th>\n",
       "      <td>কানাডার উত্তরাঞ্চলের পটভূমিতে লেখা বিভিন্ন সাহ...</td>\n",
       "      <td>0.150943</td>\n",
       "      <td>3473</td>\n",
       "    </tr>\n",
       "    <tr>\n",
       "      <th>15</th>\n",
       "      <td>ঠাকুরপুকুর কলকাতার আবাসিক অঞ্চল</td>\n",
       "      <td>0.056604</td>\n",
       "      <td>292</td>\n",
       "    </tr>\n",
       "    <tr>\n",
       "      <th>16</th>\n",
       "      <td>তাদের সমর্থন নিয়েই তিনি দুবার অসংরক্ষিত আসন থ...</td>\n",
       "      <td>0.056604</td>\n",
       "      <td>1320</td>\n",
       "    </tr>\n",
       "    <tr>\n",
       "      <th>17</th>\n",
       "      <td>তিনি কবি ও লেখক হিসাবেও পরিচিত</td>\n",
       "      <td>0.339623</td>\n",
       "      <td>6674</td>\n",
       "    </tr>\n",
       "    <tr>\n",
       "      <th>18</th>\n",
       "      <td>বর্তমান বাংলাদেশের রাজশাহী বিভাগ রংপুর বিভাগ এ...</td>\n",
       "      <td>0.396226</td>\n",
       "      <td>616</td>\n",
       "    </tr>\n",
       "    <tr>\n",
       "      <th>19</th>\n",
       "      <td>এছাড়াও এখানে আছেঃ</td>\n",
       "      <td>0.056604</td>\n",
       "      <td>3045</td>\n",
       "    </tr>\n",
       "  </tbody>\n",
       "</table>\n",
       "</div>"
      ],
      "text/plain": [
       "                                             sentence     votes  \\\n",
       "0   এগুলো করাচির শিশুরা প্রায়শই খেলনা হিসাবে ব্যব...  0.132075   \n",
       "1   আবদুস সাত্তারের মন্ত্রিসভায় তিনি মহিলা বিষয়ক...  0.113208   \n",
       "2   যেখানে ফ্রান্স ইতালি মেক্সিকো এবং মার্কিন যুক্...  0.056604   \n",
       "3                               এদের ঠোঁট সরু ও বাঁকা  0.075472   \n",
       "4   বাহরাইনের আব্দ আলকায়সের বংশধরদের মধ্যে অনেক ফ...  0.056604   \n",
       "5     জীবনের প্রতিটি ক্ষেত্রে তাদের ব্যর্থতা অনিবার্য  0.056604   \n",
       "6   প্রথমশ্রেণীর ক্রিকেট থেকে অবসর গ্রহণের পর ইংল্...  0.056604   \n",
       "7                 এই ধনেশ মালয় উপদ্বীপের প্রধান পাখি  0.056604   \n",
       "8                  তাজিকিস্তানের অধিকাংশ মানুষ মুসলিম  0.150943   \n",
       "9   এগুলো সাধারণত খ্রিস্টান কবরস্থান যারা এই সম্প্...  0.056604   \n",
       "10                     কেন আর্চার তার স্থলাভিষিক্ত হন  0.094340   \n",
       "11                                       জার্নাল সমূহ  0.056604   \n",
       "12  তিনি বর্তমানে ইউনাইটেড ইন্টারন্যাশনাল ইউনিভার্...  0.056604   \n",
       "13       কাব্যগ্রন্থে এই ভাবধারার একাধিক কবিতা রয়েছে  0.056604   \n",
       "14  কানাডার উত্তরাঞ্চলের পটভূমিতে লেখা বিভিন্ন সাহ...  0.150943   \n",
       "15                    ঠাকুরপুকুর কলকাতার আবাসিক অঞ্চল  0.056604   \n",
       "16  তাদের সমর্থন নিয়েই তিনি দুবার অসংরক্ষিত আসন থ...  0.056604   \n",
       "17                     তিনি কবি ও লেখক হিসাবেও পরিচিত  0.339623   \n",
       "18  বর্তমান বাংলাদেশের রাজশাহী বিভাগ রংপুর বিভাগ এ...  0.396226   \n",
       "19                                 এছাড়াও এখানে আছেঃ  0.056604   \n",
       "\n",
       "    __index_level_0__  \n",
       "0                5449  \n",
       "1                1306  \n",
       "2                2626  \n",
       "3                7435  \n",
       "4                4809  \n",
       "5                1042  \n",
       "6                1090  \n",
       "7                6528  \n",
       "8                3022  \n",
       "9                 461  \n",
       "10               5665  \n",
       "11                819  \n",
       "12               3667  \n",
       "13               3633  \n",
       "14               3473  \n",
       "15                292  \n",
       "16               1320  \n",
       "17               6674  \n",
       "18                616  \n",
       "19               3045  "
      ]
     },
     "execution_count": 49,
     "metadata": {},
     "output_type": "execute_result"
    }
   ],
   "source": [
    "show_random_elements(train.remove_columns([\"path\"]), num_examples=20)"
   ]
  },
  {
   "cell_type": "code",
   "execution_count": 58,
   "id": "9854f586-58f0-47df-b04b-8d56e749fee7",
   "metadata": {},
   "outputs": [],
   "source": [
    "def speech_file_to_array_torch(batch):\n",
    "    speech_array, sampling_rate = torchaudio.load(batch[\"path\"])\n",
    "    batch[\"speech\"] = speech_array[0].numpy()\n",
    "    batch[\"sampling_rate\"] = sampling_rate\n",
    "    batch[\"target_text\"] = batch[\"sentence\"]\n",
    "    return batch\n",
    "def speech_file_to_array_test_torch(batch):\n",
    "    speech_array, sampling_rate = torchaudio.load(batch[\"path\"])\n",
    "    batch[\"speech\"] = speech_array[0].numpy()\n",
    "    batch[\"sampling_rate\"] = sampling_rate\n",
    "    return batch\n",
    "\n",
    "\n",
    "def speech_file_to_array(batch):\n",
    "    speech_array, sampling_rate = sf.read(batch[\"path\"])\n",
    "    batch[\"speech_array\"] = speech_array\n",
    "    batch[\"speech_array\"] = np.array(batch[\"speech_array\"])\n",
    "    batch[\"sampling_rate\"] = sampling_rate\n",
    "    batch[\"target_text\"] = batch[\"sentence\"]\n",
    "    return batch\n",
    "    \n",
    "def speech_file_to_array_test(batch):\n",
    "    speech_array, sampling_rate = sf.read(batch[\"path\"])\n",
    "    batch[\"speech_array\"] = np.array(speech_array)\n",
    "    batch[\"sampling_rate\"] = sampling_rate\n",
    "    return batch"
   ]
  },
  {
   "cell_type": "code",
   "execution_count": 51,
   "id": "30fcb3fb-7e7e-4b12-9124-41ba50414b0c",
   "metadata": {},
   "outputs": [
    {
     "data": {
      "text/plain": [
       "6247"
      ]
     },
     "execution_count": 51,
     "metadata": {},
     "output_type": "execute_result"
    }
   ],
   "source": [
    "gc.collect()"
   ]
  },
  {
   "cell_type": "code",
   "execution_count": 52,
   "id": "afef80be-9cad-4713-a68f-54d16eb5f70b",
   "metadata": {},
   "outputs": [
    {
     "data": {
      "text/plain": [
       "Dataset({\n",
       "    features: ['path', 'sentence', 'votes', '__index_level_0__'],\n",
       "    num_rows: 3000\n",
       "})"
      ]
     },
     "execution_count": 52,
     "metadata": {},
     "output_type": "execute_result"
    }
   ],
   "source": [
    "train"
   ]
  },
  {
   "cell_type": "code",
   "execution_count": 53,
   "id": "c3dc235e-2215-4e1f-ba3b-b50d827c11e0",
   "metadata": {},
   "outputs": [
    {
     "name": "stderr",
     "output_type": "stream",
     "text": [
      "Parameter 'function'=<function speech_file_to_array_torch at 0x7f40a8c43130> of the transform datasets.arrow_dataset.Dataset._map_single couldn't be hashed properly, a random hash was used instead. Make sure your transforms and parameters are serializable with pickle or dill for the dataset fingerprinting and caching to work. If you reuse this transform, the caching mechanism will consider it to be different from the previous calls and recompute everything. This warning is only showed once. Subsequent hashing failures won't be showed.\n"
     ]
    },
    {
     "data": {
      "application/vnd.jupyter.widget-view+json": {
       "model_id": "28cfc54c9f154a8ea9d051a1825dca62",
       "version_major": 2,
       "version_minor": 0
      },
      "text/plain": [
       "  0%|          | 0/3000 [00:00<?, ?ex/s]"
      ]
     },
     "metadata": {},
     "output_type": "display_data"
    }
   ],
   "source": [
    "train = train.map(speech_file_to_array_torch, remove_columns=train.column_names)"
   ]
  },
  {
   "cell_type": "code",
   "execution_count": 54,
   "id": "58e3d6e3-0978-4219-9b6a-9099e9fe171f",
   "metadata": {},
   "outputs": [
    {
     "data": {
      "text/plain": [
       "1256"
      ]
     },
     "execution_count": 54,
     "metadata": {},
     "output_type": "execute_result"
    }
   ],
   "source": [
    "gc.collect()"
   ]
  },
  {
   "cell_type": "code",
   "execution_count": 55,
   "id": "6742da5a-cc21-4ff6-9c11-70617c57f5c2",
   "metadata": {},
   "outputs": [
    {
     "data": {
      "application/vnd.jupyter.widget-view+json": {
       "model_id": "1ccac91af2504307acca46cf6610d2c6",
       "version_major": 2,
       "version_minor": 0
      },
      "text/plain": [
       "  0%|          | 0/500 [00:00<?, ?ex/s]"
      ]
     },
     "metadata": {},
     "output_type": "display_data"
    }
   ],
   "source": [
    "test = test.map(speech_file_to_array_torch, remove_columns=test.column_names)"
   ]
  },
  {
   "cell_type": "code",
   "execution_count": 56,
   "id": "ac54cefb-af6d-4ac0-a181-e1f3fba63617",
   "metadata": {},
   "outputs": [
    {
     "data": {
      "text/plain": [
       "1283"
      ]
     },
     "execution_count": 56,
     "metadata": {},
     "output_type": "execute_result"
    }
   ],
   "source": [
    "gc.collect()"
   ]
  },
  {
   "cell_type": "code",
   "execution_count": 59,
   "id": "23c6fe72-4485-4578-a2c1-907148e33a19",
   "metadata": {},
   "outputs": [
    {
     "data": {
      "application/vnd.jupyter.widget-view+json": {
       "model_id": "6f0169de186a4c6fb4b7b4d6c577199a",
       "version_major": 2,
       "version_minor": 0
      },
      "text/plain": [
       "  0%|          | 0/100 [00:00<?, ?ex/s]"
      ]
     },
     "metadata": {},
     "output_type": "display_data"
    }
   ],
   "source": [
    "submission = submission.map(speech_file_to_array_test_torch, remove_columns=submission.column_names)"
   ]
  },
  {
   "cell_type": "markdown",
   "id": "8ef17de0-81a2-4d68-9d6a-e5480620ac93",
   "metadata": {
    "tags": []
   },
   "source": [
    "# Training the data"
   ]
  },
  {
   "cell_type": "code",
   "execution_count": 60,
   "id": "b2899243-7ead-4937-bdb1-ce3ad424bfc7",
   "metadata": {},
   "outputs": [],
   "source": [
    "sample_rate = 16000"
   ]
  },
  {
   "cell_type": "code",
   "execution_count": 61,
   "id": "a8389962-5ab6-4df7-8d7f-cc88985ec2a8",
   "metadata": {},
   "outputs": [
    {
     "data": {
      "text/plain": [
       "Dataset({\n",
       "    features: ['speech', 'sampling_rate', 'target_text'],\n",
       "    num_rows: 3000\n",
       "})"
      ]
     },
     "execution_count": 61,
     "metadata": {},
     "output_type": "execute_result"
    }
   ],
   "source": [
    "train"
   ]
  },
  {
   "cell_type": "code",
   "execution_count": 62,
   "id": "518a923b-fc96-4fc6-92a7-d43d020989d7",
   "metadata": {},
   "outputs": [
    {
     "data": {
      "text/plain": [
       "Dataset({\n",
       "    features: ['speech', 'sampling_rate', 'target_text'],\n",
       "    num_rows: 500\n",
       "})"
      ]
     },
     "execution_count": 62,
     "metadata": {},
     "output_type": "execute_result"
    }
   ],
   "source": [
    "test"
   ]
  },
  {
   "cell_type": "code",
   "execution_count": 63,
   "id": "92ee83ce-7a0c-4569-9a16-934b989002da",
   "metadata": {},
   "outputs": [
    {
     "data": {
      "text/plain": [
       "Dataset({\n",
       "    features: ['speech', 'sampling_rate'],\n",
       "    num_rows: 100\n",
       "})"
      ]
     },
     "execution_count": 63,
     "metadata": {},
     "output_type": "execute_result"
    }
   ],
   "source": [
    "submission"
   ]
  },
  {
   "cell_type": "code",
   "execution_count": 65,
   "id": "4ae3dbff-302a-4676-8618-fb47173ef123",
   "metadata": {},
   "outputs": [
    {
     "name": "stdout",
     "output_type": "stream",
     "text": [
      "Target text: মুক্তিযুদ্ধ শুরু হলে পাকিস্তান সরকার তাকে পশ্চিম পাকিস্তানে বদলি করে\n",
      "Input array shape: (109440,)\n",
      "Sampling rate: 16000\n"
     ]
    },
    {
     "data": {
      "text/html": [
       "\n",
       "                <audio  controls=\"controls\" autoplay=\"autoplay\">\n",
       "                    <source src=\"data:audio/wav;base64,UklGRiRXAwBXQVZFZm10IBAAAAABAAEAgD4AAAB9AAACABAAZGF0YQBXAwAAAAAAAAAAAAAAAAAAAAAAAAAAAAAAAAAAAAAAAAAAAAAAAAAAAAAAAAAAAAAAAAAAAAAAAAAAAAAAAAAAAAAAAAAAAAAAAAAAAAAAAAAAAAAAAAAAAAAAAAAAAAAAAAAAAAAAAAAAAAAAAAAAAAAAAAAAAAAAAAAAAAAAAAAAAAAAAAAAAAAAAAAAAAAAAAAAAAAAAAAAAAAAAAAAAAAAAAAAAAAAAAAAAAAAAAAAAAAAAAAAAAAAAAAAAAAAAAAAAAAAAAAAAAAAAAAAAAAAAAAAAAAAAAAAAAAAAAAAAAAAAAAAAAAAAAAAAAAAAAAAAAAAAAAAAAAAAAAAAAAAAAAAAAAAAAAAAAAAAAAAAAAAAAAAAAAAAAAAAAAAAAAAAAAAAAAAAAAAAAAAAAAAAAAAAAAAAAAAAAAAAAAAAAAAAAAAAAAAAAAAAAAAAAAAAAAAAAAAAAAAAAAAAAAAAAAAAAAAAAAAAAAAAAAAAAAAAAAAAAAAAAAAAAAAAAAAAAAAAAAAAAAAAAAAAAAAAAAAAAAAAAAAAAAAAAAAAAAAAAAAAAAAAAAAAAAAAAAAAAAAAAAAAAAAAAAAAAAAAAAAAAAAAAAAAAAAAAAAAAAAAAAAAAAAAAAAAAAAAAAAAAAAAAAAAAAAAAAAAAAAAAAAAAAAAAAAAAAAAAAAAAAAAAAAAAAAAAAAAAAAAAAAAAAAAAAAAAAAAAAAAAAAAAAAAAAAAAAAAAAAAAAAAAAAAAAAAAAAAAAAAAAAAAAAAAAAAAAAAAAAAAAAAAAAAAAAAAAAAAAAAAAAAAAAAAAAAAAAAAAAAAAAAAAAAAAAAAAAAAAAAAAAAAAAAAAAAAAAAAAAAAAAAAAAAAAAAAAAAAAAAAAAAAAAAAAAAAAAAAAAAAAAAAAAAAAAAAAAAAAAAAAAAAAAAAAAAAAAAAAAAAAAAAAAAAAAAAAAAAAAAAAAAAAAAAAAAAAAAAAAAAAAAAAAAAAAAAAAAAAAAAAAAAAAAAAAAAAAAAAAAAAAAAAAAAAAAAAAAAAAAAAAAAAAAAAAAAAAAAAAAAAAAAAAAAAAAAAAAAAAAAAAAAAAAAAAAAAAAAAAAAAAAAAAAAAAAAAAAAAAAAAAAAAAAAAAAAAAAAAAAAAAAAAAAAAAAAAAAAAAAAAAAAAAAAAAAAAAAAAAAAAAAAAAAAAAAAAAAAAAAAAAAAAAAAAAAAAAAAAAAAAAAAAAAAAAAAAAAAAAAAAAAAAAAAAAAAAAAAAAAAAAAAAAAAAAAAAAAAAAAAAAAAAAAAAAAAAAAAAAAAAAAAAAAAAAAAAAAAAAAAAAAAAAAAAAAAAAAAAAAAAAAAAAAAAAAAAAAAAAAAAAAAAAAAAAAAAAAAAAAAAAAAAAAAAAAAAAAAAAAAAAAAAAAAAAAAAAAAAAAAAAAAAAAAAAAAAAAAAAAAAAAAAAAAAAAAAAAAAAAAAAAAAAAAAAAAAAAAAAAAAAAAAAAAAAAAAAAAAAAAAAAAAAAAAAAAAAAAAAAAAAAAAAAAAAAAAAAAAAAAAAAAAAAAAAAAAAAAAAAAAAAAAAAAAAAAAAAAAAAAAAAAAAAAAAAAAAAAAAAAAAAAAAAAAAAAAAAAAAAAAAAAAAAAAAAAAAAAAAAAAAAAAAAAAAAAAAAAAAAAAAAAAAAAAAAAAAAAAAAAAAAAAAAAAAAAAAAAAAAAAAAAAAAAAAAAAAAAAAAAAAAAAAAAAAAAAAAAAAAAAAAAAAAAAAAAAAAAAAAAAAAAAAAAAAAAAAAAAAAAAAAAAAAAAAAAAAAAAAAAAAAAAAAAAAAAAAAAAAAAAAAAAAAAAAAAAAAAAAAAAAAAAAAAAAAAAAAAAAAAAAAAAAAAAAAAAAAAAAAAAAAAAAAAAAAAAAAAAAAAAAAAAAAAAAAAAA/////wAAAAAAAAAAAAAAAAAAAAAAAAAAAAAAAAAAAAAAAAAAAAAAAAAAAAAAAAAAAAAAAAAAAAAAAAAAAAAAAAAAAAAAAAAAAAAAAAAAAAAAAAAAAAAAAAAAAAAAAAAAAAAAAAAAAAAAAAAAAAAAAAAAAAAAAAAAAAAAAAAAAAAAAAAAAAAAAAAAAAAAAAAAAAAAAAAAAAAAAAAAAAAAAAAAAAAAAAAAAAAAAAAAAAAAAAAAAAAAAAAAAAAAAAAAAAAAAAAAAAAAAAAAAAAAAAAAAAAAAAAAAAAAAAAAAAAAAAAAAAAAAAAAAAAAAAAAAAAAAAAAAAAAAAAAAAAAAAAAAAAAAAEAAAAAAAAAAAAAAAAAAAAAAAAAAAAAAAAAAAAAAAAAAAAAAAAAAAAAAAAAAAAAAAAAAAAAAAAAAAAAAAAAAAAAAAAAAAAAAAAAAAAAAAAAAAAAAAAAAAAAAAAAAAAAAAAAAAAAAAAAAAAAAAAAAAAAAAAAAAAAAAAAAAAAAAAAAAAAAAAAAAAAAAAAAAAAAAAAAAAAAAAAAAAAAAAAAAAAAAAAAAAAAAAAAAAAAAAAAAAAAAAAAAAAAAAAAAAAAAAAAAAAAAAAAAAAAAAAAAAAAAAAAAAAAAAAAAAAAAAAAAAAAAAAAAAAAAAAAAAAAAAAAAAAAAAAAAAAAAAAAAAAAAAAAAABAAAAAAAAAAAAAAAAAAAAAAAAAAAAAAABAAAAAAAAAAAAAAAAAAAAAAAAAAAAAAAAAAAAAAAAAAAAAAAAAAAAAAAAAAAAAAAAAAAAAAAAAAAAAAAAAAAAAAAAAAAAAAAAAAAAAAAAAAAAAAAAAAAAAAAAAAAAAAAAAAAAAAAAAAAAAAAAAAAAAAAAAAAAAAAAAAAAAAAAAAAAAAAAAAAAAAAAAAAAAAAAAAAAAAAAAAAAAAAAAAAAAAAAAAAAAAD//wAA/////wAAAAAAAAAAAAAAAAAAAAAAAAAAAAAAAAAAAAAAAAAAAAAAAAAAAAAAAAAAAAAAAAAAAAAAAAAAAAAAAAAAAAAAAAEAAAAAAAEAAQAAAAAAAAAAAAAAAAAAAAAAAAAAAAAAAAAAAAAAAAAAAAAAAAAAAAAAAAAAAAAAAAAAAAAAAAAAAAAAAAAAAAAAAAAAAAAAAAAAAAAAAAAAAAAAAAAAAAAAAAAAAAAAAAAAAAAAAAAAAAAAAAAAAAAAAAAAAAAAAAAAAAAAAAAAAAAAAAAAAAAAAAAAAAAAAAAAAAAAAAAAAAAAAAAAAAAAAAAAAAAAAAAAAAAAAAAAAAAA//8AAP////8AAP//AAAAAP//AAD///////////////////////8AAAAAAAAAAAEAAAAAAAAAAQAAAAEAAQABAAEAAQABAAEAAQABAAEAAQABAAEAAQABAAEAAQAAAAAAAAAAAAAAAAAAAAAAAAAAAAAAAAAAAAAAAAAAAAAAAAAAAAAAAAAAAAEAAQABAAEAAQAAAAEAAAAAAAAAAAAAAAAAAAAAAAAAAAAAAAAAAAAAAAAAAAAAAAAAAAAAAAAAAAAAAAAAAAAAAAAAAAAAAAAAAAAAAAAAAAAAAAAAAAD//wAAAAAAAAAAAAAAAAAAAAAAAAAAAAAAAAAAAAAAAAAAAAAAAAAAAAAAAAAAAAAAAAAAAAAAAAAAAAAAAAAAAAAAAAAAAAAAAAAAAAAAAP//AAAAAAAAAAAAAAAAAAAAAAAAAAAAAAAAAAAAAAAAAAAAAAAAAAAAAAAAAAAAAAAAAAAAAAAAAAAAAAAAAAAAAAAAAAAAAAAAAAAAAAAAAAAAAAAAAAAAAAAAAAAAAAEAAAAAAAAAAAAAAAAAAAAAAAAAAAAAAAAAAAAAAAAAAAAAAAAAAAAAAAAAAAAAAAAAAAAAAAAAAAAAAAAAAAAAAAAAAAAAAAAAAAAAAAEAAAAAAAAAAAAAAAAAAAAAAAAAAAAAAAAAAAAAAAAAAAAAAAAAAAAAAAAAAAAAAAAAAAAAAAAAAAAAAAAAAAAAAAAAAAAAAAAAAAAAAAAAAAAAAAAAAAAAAAAAAAAAAAAAAAAAAAAAAAAAAAAAAAAAAAAAAAAAAAAAAAAAAAAAAAAAAAAAAAAAAAAAAAAAAAAAAAAAAAAAAAAAAAAAAAAAAAAAAAAAAAAAAAAAAAAAAAAAAAAAAAAAAAAAAAAAAAAAAAAAAAAAAAAAAAAAAAAAAAAAAAAAAAAAAAAAAAAAAAAAAAAAAAAAAAAAAAAAAAAAAAAAAAAAAAAAAAAAAAAAAAAAAAAAAAAAAAAAAAAAAAAAAAAAAAAAAAAAAAAAAAAAAAAAAAAAAAAAAAAAAAAAAAAAAAAAAAAAAAAAAAAAAAAAAAAAAAAAAAAAAQAAAAAAAAAAAAAAAAAAAAAAAAAAAAAAAAAAAAAAAAAAAAAAAAAAAAAAAAAAAAAAAAAAAAAAAAAAAAAAAAAAAAAAAAAAAAAAAAAAAAAAAAAAAAAAAAAAAAAAAAAAAAAAAAAAAAAAAAAAAAAAAAAAAAAAAAAAAAAAAAAAAAAAAAAAAAAAAAAAAAAAAAAAAAAAAAAAAAAAAAAAAAAAAAAAAAAAAAAAAAAAAAAAAAAAAAAAAAAAAAD//wAAAAAAAAAAAAAAAAAAAAAAAAAAAAAAAAAAAAAAAAAAAAAAAAAAAAAAAAAAAAAAAAAAAAAAAAAAAAAAAAAAAAAAAAAAAAAAAAAAAAAAAAAAAAAAAAAAAAAAAAAAAAAAAAAAAAAAAAAAAAAAAAAAAAAAAAAAAAAAAAAAAAAAAAAAAAAAAAAAAAAAAAAAAAAAAAAAAAAAAAAAAAAAAAAAAAAAAAAAAAAAAAAAAAAAAAAAAAAAAAAAAAAAAAAAAAAAAAAAAAAAAAAAAAAAAAAAAAAAAAAAAAAAAAAAAAAAAAAAAAAAAAAAAAAAAAAAAAAAAAAAAAAAAAAAAAAAAAAAAAAAAAAAAAAAAAAAAAAAAAAAAAAAAAAAAAAAAAAAAAAAAAAAAAAAAAAAAAAAAAAAAAAAAAAAAAAAAAAAAAAAAAAAAAAAAAAAAAAAAAAAAAAAAAAAAAAAAAAAAAAAAAAAAAAAAAAAAAAAAAAAAAAAAAAAAAAAAAAAAAAAAAAAAAAAAAAAAAAAAAAAAAAAAAAAAAAAAAAAAAAAAAAAAAAAAAAAAAAAAAAAAAAAAAAAAAAAAAAAAAAAAAAAAAAAAAAAAAAAAAAAAAAAAAAAAAAAAAAAAAAAAAAAAAAAAAAAAAAAAAAAAAAAAAAAAAAAAAAAAAAAAAAAAAAAAAAAAAAAAAAAAAAAAAAAAAAAAAAAAAAAAAAAAAAAAAAAAAAAAAAAAAAAAAAAAAAAAAAAAAAAAAAAAAAAAAAAAAAAAAAAAAAAAAAAAAAAAAAAAAAAAAAAAAAAAAAAAAAAAAAAAAAAAAAAAAAAAAAAAAAAAAAAAAAAAAAAAAAAAAAAAAAAAAAAAAAAAAAAAAAAAAAAAAAAAAAAAAAAAAAAAAAAAAAAAAAAAAAAAAAAAAAAAAAAAAAAAAAAAAAAAAAAAAAAAAAAAAAAAAAAAAAAAAAAAAAAAAAAAAAAAAAAAAAAAAAAAAAAAAAAAAAAAAAAAAAAAAAAAAAAAAAAAAAAAAAAAAAAAAAAAAAAAAAAAAAAAAAAAAAAAAAAAAAAAAAAAAAAAAAAAAAAAAAAAAAAAAAAAAAAAAAAAAAAAAAAAAAAAAAAAAAAAAAAAAAAAAAAAAAAAAAAAAAAAAAAAAAAAAAAAAAAAAAAAAAAAAAAAAAAAAAAAAAAAAAAAAAAAAAAAAAAAAAAAAAAAAAAAAAAAAAAAAAAAAAAAAAAAAAAAAAAAAAAAAAAAAAAAAAAAAAAAAAAAAAAAAAAAAAAAAAAAAAAAAAAAAAAAAAAAAAAAAAAAAAAAAAAAAAAAAAAAAAAAAAAAAAAAAAAAAAAAAAAAAAAAAAAAAAAAAAAAAAAAAAAAAAAAAAAAAAAAAAAAAAAAAAAAAAAAAAAAAAAAAAAAAAAAAAAAAAAAAAAAAAAAAAAAAAAAAAAAAAAAAAAAAAAAAAAAAAAAAAAAAAAAAAAAAAAAAAAAAAAAAAAAAAAAAAAAAAAAAAAAAAAAAAAAAAAAAAAAAAAAAAAAAAAAAAAAAAAAAAAAAAAAAAAAAAAAAAAAAAAAAAAAAAAAAAAAAAAAAAAAAAAAAAAAAAAAAAAAAAAAAAAAAAAAAAAAAAAAAAAAAAAAAAAAAAAAAAAAAAAAAAAAAAAAAAAAAAAAAAAAAAAAAAAAAAAAAAAAAAAAAAAAAAAAAAAAAAAAAAAAAAAAAAAAAAAAAAAAAAAAAAAAAAAAAAAAAAAAAAAAAAAAAAAAAAAAAAAAAAAAAAAAAAAAAAAAAAAAAAAAAAAAAAAAAAAAAAAAAAAAAAAAAAAAAAAAAAAAAAAAAAAAAAAAAAAAAAAAAAAAAAAAAAAAAAAAAAAAAAAAAAAAAAAAAAAAAAAAAAAAAAAAAAAAAAAAAAAAAAAAAAAAAAAAAAAAAAAAAAAAAAAAAAAAAAAAAAAAAAAAAAAAAAAAAAAAAAAAAAAAAAAAAAAAAAAAAAAAAAAAAAAAAAAAAAAAAAAAAAAAAAAAAAAAAAAAAAAAAAAAAAAAAAAAAAAAAAAAAAAAAAAAAAAAAAAAAAAAAAAAAAAAAAAAAAAAAAAAAAAAAAAAAAAAAAAAAAAAAAAAAAAAAAAAAAAAAAAAAAAAAAAAAAAAAAAAAAAAAAAAAAAAAAAAAAAAAAAAAAAAAAAAAAAAAAAAAAAAAAAAAAAAAAAAAAAAAAAAAAAAAAAAAAAAAAAAAAAAAAAAAAAAAAAAAAAAAAAAAAAAAAAAAAAAAAAAAAAAAAAAAAAAAAAAAAAAAAAAAAAAAAAAAAAAAAAAAAAAAAAAAAAAAAAAAAAAAAAAAAAAAAAAAAAAAAAAAAAAAAAAAAAAAAAAAAAAAAAAAAAAAAAAAAAAAAAAAAAAAAAAAAAAAAAAAAAAAAAAAAAAAAAAAAAAAAAAAAAAAAAAAAAAAAAAAAAAAAAAAAAAAAAAAAAAAAAAAAAAAAAAAAAAAAAAAAAAAAAAAAAAAAAAAAAAAAAAAAAAAAAAAAAAAAAAAAAAAAAAAAAAAAAAAAAAAAAAAAAAAAAAAAAAAAAAAAAAAAAAAAAAAAAAAAAAAAAAAAAAAAAAAAAAAAAAAAAAAAAAAAAAAAAAAAAAAAAAAAAAAAAAAAAAAAAAAAAAAAAAAAAAAAAAAAAAAAAAAAAAAAAAAAAAAAAAAAAAAAAAAAAAAAAAAAAAAAAAAAAAAAAAAAAAAAAAAAAAAAAAAAAAAAAAAAAAAAAAAAAAAAAAAAAAAAAAAAAAAAAAAAAAAAAAAAAAAAAAAAAAAAAAAAAAAAAAAAAAAAAAAAAAAAAAAAAAAAAAAAAAAAAAAAAAAAAAAAAAAAAAAAAAAAAAAAAAAAAAAAAAAAAAAAAAAAAAAAAAAAAAAAAAAAAAAAAAAAAAAAAAAAAAAAAAAAAAAAAAAAAAAAAAAAAAAAAAAAAAAAAAAAAAAAAAAAAAAAAAAAAAAAAAAAAAAAAAAAAAAAAAAAAAAAAAAAAAAAAAAAAAAAAAAAAAAAAAAAAAAAAAAAAAAAAAAAAAAAAAAAAAAAAAAAAAAAAAAAAAAAAAAAAAAAAAAAAAAAAAAAAAAAAAAAAAAAAAAAAAAAAAAAAAAAAAAAAAAAAAAAAAAAAAAAAAAAAAAAAAAAAAAAAAAAAAAAAAAAAAAAAAAAAAAAAAAAAAAAAAAAAAAAAAAAAAAAAAAAAAAAAAAAAAAAAAAAAAAAAAAAAAAAAAAAAAAAAAAAAAAAAAAAAAAAAAAAAAAAAAAAAAAAAAAAAAAAAAAAAAAAAAAAAAAAAAAAAAAAAAAAAAAAAAAAAAAAAAAAAAAAAAAAAAAAAAAAAAAAAAAAAAAAAAAAAAAAAAAAAAAAAAAAAAAAAAAAAAAAAAAAAAAAAAAAAAAAAAAAAAAAAAAAAAAAAAAAAAAAAAAAAAAAAAAAAAAAAAAAAAAAAAAAAAAAAAAAAAAAAAAAAAAAAAAAAAAAAAAAAAAAAAAAAAAAAAAAAAAAAAAAAAAAAAAAAAAAAAAAAAAAAAAAAAAAAAAAAAAAAAAAAAAAAAAAAAAAAAAAAAAAAAAAAAAAAAAAAAAAAAAAAAAAAAAAAAAAAAAAAAAAAAAAAAAAAAAAAAAAAAAAAAAAAAAAAAAAAAAAAAAAAAAAAAAAAAAAAAAAAAAAAAAAAAAAAAAAAAAAAAAAAAAAAAAAAAAAAAAAAAAAAAAAAAAAAAAAAAAAAAAAAAAAAAAAAAAAAAAAAAAAAAAAAAAAAAAAAAAAAAAAAAAAAAAAAAAAAAAAAAAAAAAAAAAAAAAAAAAAAAAAAAAAAAAAAAAAAAAAAAAAAAAAAAAAAAAAAAAAAAAAAAAAAAAAAAAAAAAAAAAAAAAAAAAAAAAAAAAAAAAAAAAAAAAAAAAAAAAAAAAAAAAAAAAAAAAAAAAAAAAAAAAAAAAAAAAAAAAAAAAAAAAAAAAAAAAAAAAAAAAAAAAAAAAAAAAAAAAAAAAAAAAAAAAAAAAAAAAAAAAAAAAAAAAAAAAAAAAAAAAAAAAAAAAAAAAAAAAAAAAAAAAAAAAAAAAAAAAAAAAAAAAAAAAAAAAAAAAAAAAAAAAAAAAAAAAAAAAAAAAAAAAAAAAAAAAAAAAAAAAAAAAAAAAAAAAAAAAAAAAAAAAAAAAAAAAAAAAAAAAAAAAAAAAAAAAAAAAAAAAAAAAAAAAAAAAAAAAAAAAAAAAAAAAAAAAAAAAAAAAAAAAAAAAAAAAAAAAAAAAAAAAAAAAAAAAAAAAAAAAAAAAAAAAAAAAAAAAAAAAAAAAAAAAAAAAAAAAAAAAAAAAAAAAAAAAAAAAAAAAAAAAAAAAAAAAAAAAAAAAAAAAAAAAAAAAAAAAAAAAAAAAAAAAAAAAAAAAAAAAAAAAAAAAAAAAAAAAAAAAAAAAAAAAAAAAAAAAAAAAAAAAAAAAAAAAAAAAAAAAAAAAAAAAAAAAAAAAAAAAAAAAAAAAAAAAAAAAAAAAAAAAAAAAAAAAAAAAAAAAAAAAAAAAAAAAAAAAAAAAAAAAAAAAAAAAAAAAAAAAAAAAAAAAAAAAAAAAAAAAAAAAAAAAAAAAAAAAAAAAAAAAAAAAAAAAAAAAAAAAAAAAAAAAAAAAAAAAAAAAAAAAAAAAAAAAAAAAAAAAAAAAAAAAAAAAAAAAAAAAAAAAAAAAAAAAAAAAAAAAAAAAAAAAAAAAAAAAAAAAAAAAAAAAAAAAAAAAAAAAAAAAAAAAAAAAAAAAAAAAAAAAAAAAAAAAAAAAAAAAAAAAAAAAAAAAAAAAAAAAAAAAAAAAAAAAAAAAAAAAAAAAAAAAAAAAAAAAAAAAAAAAAAAAAAAAAAAAAAAAAAAAAAAAAAAAAAAAAAAAAAAAAAAAAAAAAAAAAAAAAAAAAAAAAAAAAAAAAAAAAAAAAAAAAAAAAAAAAAAAAAAAAAAAAAAAAAAAAAAAAAAAAAAAAAAAAAAAAAAAAAAAAAAAAAAAAAAAAAAAAAAAAAAAAAAAAAAAAAAAAAAAAAAAAAAAAAAAAAAAAAAAAAAAAAAAAAAAAAAAAAAAAAAAAAAAAAAAAAAAAAAAAAAAAAAAAAAAAAAAAAAAAAAAAAAAAAAAAAAAAAAAAAAAAAAAAAAAAAAAAAAAAAAAAAAAAAAAAAAAAAAAAAAAAAAAAAAAAAAAAAAAAAAAAAAAAAAAAAAAAAAAAAAAAAAAAAAAAAAAAAAAAAAAAAAAAAAAAAAAAAAAAAAAAAAAAAAAAAAAAAAAAAAAAAAAAAAAAAAAAAAAAAAAAAAAAAAAAAAAAAAAAAAAAAAAAAAAAAAAAAAAAAAAAAAAAAAAAAAAAAAAAAAAAAAAAAAAAAAAAAAAAAAAAAAAAAAAAAAAAAAAAAAAAAAAAAAAAAAAAAAAAAAAAAAAAAAAAAAAAAAAAAAAAAAAAAAAAAAAAAAAAAAAAAAAAAAAAAAAAAAAAAAAAAAAAAAAAAAAAAAAAAAQABAAAAAAAAAAAAAAAAAAAAAAAAAAAAAAAAAAAAAQAAAAAAAAAAAAAAAAAAAAAAAAAAAAAAAAAAAAAAAAAAAAAAAAAAAAAAAAAAAAAAAAAAAAAAAAAAAAAAAAAAAAAAAAAAAAAAAAAAAAAAAAAAAAAAAAD//wAAAAAAAAAAAAAAAAAA/////wAAAAAAAAAAAAAAAAAAAAAAAAAAAAAAAAAAAAAAAAAAAAAAAAAAAAAAAAAAAAAAAAAAAAAAAAAAAAAAAAAAAAAAAAAAAAAAAAAAAAAAAAAAAAAAAAAAAAAAAAAAAAAAAAAAAAAAAAAAAAAAAAAAAAAAAAAAAAAAAAAAAAAAAAAAAAAAAAAAAAAAAAAAAAAAAAAAAAAAAAAAAAAAAAAAAAAAAAAAAAAAAAAAAAAAAAAAAAAAAAEAAAAAAAAAAQAAAAAAAAAAAAAAAAAAAAAAAAAAAAAAAAAAAAAAAAAAAAAAAAAAAAAAAAAAAAAAAAAAAAAAAAAAAAAAAAAAAAAAAAAAAAAAAAAAAAAAAAAAAAAAAAAAAAAAAAAAAAAAAAAAAAAAAAAAAAAAAAAAAAAAAAAAAAAAAAAAAAAAAAAAAAAAAAAAAAAAAAAAAAAAAAAAAAAAAAAAAAAAAAAAAAAAAAAAAAAAAAAAAAAAAAAAAAAAAAAAAAAAAAAAAAAAAAAAAAAAAAAAAAAAAAAAAAEAAQAAAAAAAAAAAAAAAAAAAAAAAQABAAEAAAAAAAAAAAAAAAAAAAAAAAEAAQAAAAAAAAAAAAAAAAABAAAAAAAAAAAAAAAAAAAAAAAAAAAAAAABAAAAAAAAAAAAAAAAAAAAAAAAAAAAAAAAAAAAAAAAAAAAAAAAAAAAAAAAAAAAAAD/////AAAAAP//AAAAAP//AAAAAP///////wAAAAD/////AAAAAAAA//8AAP////8AAAAA//////////8AAP////8AAAAAAAD//////////wAAAAAAAAAAAAAAAAAAAAAAAAAAAAAAAAAAAAABAAEAAQABAAAAAQABAAEAAQABAAEAAQAAAAEAAQABAAEAAAABAAEAAQABAAAA//8AAAAAAAABAAEAAQAAAAAAAAAAAAAAAAAAAAEAAQABAAAAAQAAAAAAAAAAAAAAAAAAAAEAAAAAAAAAAAAAAP//AAAAAAAAAAAAAAAAAAAAAAAAAAAAAP//AAAAAAAAAAAAAAAAAAAAAAAA//8AAAAA//8AAAAAAAAAAAAAAAAAAAAAAAAAAAAAAAAAAAAAAAAAAAAAAAAAAAAAAAAAAAAAAAAAAAAAAAAAAAAAAAAAAAAAAAAAAAAAAAAAAP//AAD//wAAAAAAAAAAAAD//////////wAAAAAAAAAAAAD/////////////AAAAAAAAAAD/////AAAAAAAAAAAAAAAAAAAAAAEAAAAAAAAAAQABAAEAAQAAAAAAAQAAAAAAAQABAAAAAQABAAEAAQABAAEAAQAAAAEAAQABAAEAAQABAAEAAAAAAAAAAAAAAAEAAAAAAAAAAAAAAAAAAAABAAEAAQABAAAAAQAAAAAAAAAAAAAAAAAAAAAAAAAAAAAAAAAAAAAAAAD//wAAAAAAAAAA//8AAAAAAAAAAP//AAAAAAAAAAAAAP////////////8AAAAAAAAAAAAAAAD//wAAAAAAAAAAAAAAAP//////////AAAAAAAAAAAAAAAA/////////////wAAAAAAAAAAAAAAAAAA//8AAAAAAAAAAAAAAAAAAAAAAAAAAAAAAAAAAAAAAAAAAAEAAAAAAAAAAAAAAAAAAAAAAAAAAAAAAAAAAAAAAAAAAAAAAAAAAAAAAAAAAAAAAAAAAAAAAAAAAAAAAAAAAAAAAAAAAAAAAAAAAAAAAAAAAAAAAAAAAAAAAAAAAAAAAAAAAAAAAAAAAAAAAAAAAAAAAAAAAAAAAAAAAAAAAAAAAAAAAAAAAAAAAAAAAAAAAAAAAAAAAAEAAAAAAAAAAAAAAAAAAAAAAAAAAAAAAAAAAAAAAAAAAAAAAAAAAAAAAAAAAAAAAAAAAAAAAAAAAAAAAAAAAAAAAAAAAAAAAAAAAAAAAAAAAAAAAAAAAAAAAAAAAAAAAAAAAAAAAAAAAAAAAAAAAAAAAAAAAAAAAAAAAAAAAAAAAAAAAAAAAAAAAAAAAAAAAAAAAAAAAAAAAAAAAAAAAAAAAAAAAAAAAAAAAAAAAAAAAAAAAAAAAAAAAAAAAAAAAAAAAAAAAAAAAAAAAAAAAAAAAAAAAAAAAAAAAAAAAAAAAAAAAAAAAAAAAAAAAAAAAAAAAAAAAAAAAAAAAAAAAAAAAAAAAAAAAAAAAAAAAAAAAAAAAAAAAAAAAAAAAAAAAAAAAAAAAAAAAAAAAAAAAAAAAAAAAAAAAAAAAAAAAAAAAAAAAAAAAAAAAAAAAAAAAAAAAAAAAAAAAAAAAAAAAAAAAAAAAAAAAAAAAAAAAAAAAAAAAAAAAAAAAAAAAAAAAAAAAAAAAAAAAAAAAAAAAAAAAAAAAAAAAAAAAAAAAAAAAAAAAAAAAAAAAAAAAAAAAAAAAAAAAAAAAAAAAAAAAAAAAAAAAAAAAAAAAAAAAAAAAAAAAAAAAAAAAAAAAAAAAAAAAAAAAAAAAAAAAAAAAAAAAAAAAAAAAAAAAAAAAAAAAAAAAAAAAAAAAAAAAAAAAAAAAAAAAAAAAAAAAAAAAAAAAAAAAAAAAAAAAAAAAAAAAAAAAAAAAAAAAAAAAAAAAAAAAAAAAAAAAAAAAAAAAAAAAAAAAAAAAAAAAAAAAAAAAAAAAAAAAAAAAAAAAAAAAAAAAAAAAAAAAAAAAAAAAAAAAAAAAAAAAAAAAAAAAAAAAAAAAAAAAAAAAAAAAAAAAAAAAAAAAAAAAAAAAAAAAAAAAAAAAAAAAAAAAAAAAAAAAAAAAAAAAAAAAAAAAAAAAAAAAAAAAAAAAAAAAAAAAAAAAAAAAAAAAAAAAAAAAAAAAAAAAAAAAAAAAAAAAAAAAAAAAAAAAAAAAAAAAAAAAAAAAAAAAAAAAAAAAAAAAAAAAAAAAAAAAAAAAAAAAAAAAAAAAAAAAAAAAAAAAAAAAAAAAAAAAAAAAAAAAAAAAAAAAAAAAAAAAAAAAAAAAAAAAAAAAAAAAAAAAAAAAAAAAAAAAAAAAAAAAAAAAAAAAAAAAAAAAAAAAAAAAAAAAAAAAAAAAAAAAAAAAAAAAAAAAAAAAAAAAAAAAAAAAAAAAAAAAAAAAAAAAAAAAAAAAAAAAAAAAAAAAAAAAAAAAP//AAAAAAAAAAAAAAAAAAAAAAAAAAAAAAAAAAAAAAAAAAAAAAAAAAAAAAAAAAAAAAAAAAAAAAAAAAAAAAAAAAAAAAAAAAAAAAAAAAAAAAAAAAAAAAAAAAAAAAAAAAAAAAAAAAAAAAAAAAAAAAAAAAAAAAAAAAAAAAAAAAAAAAAAAAAAAAAAAAAAAAAAAAAAAAAAAAAAAAAAAAAAAAAAAAAAAAAAAAAAAAAAAAAAAAAAAAAAAAAAAAAAAAAAAAAAAAAAAAAAAAAAAAAAAAAAAAAAAAAAAAAAAAAAAAAAAAAAAAAAAAAAAAAAAAAAAAAAAAAAAAAAAAAAAAAAAAAAAAAAAAAAAAAAAAAAAAAAAAAAAAAAAAAAAAAAAAAAAAAAAAAAAAAAAAAAAAAAAAAAAAAAAAAAAAAAAAAAAAAAAAAAAAAAAAAAAAAAAAAAAAAAAAAAAAAAAAAAAAAAAAAAAAAAAAAAAAAAAAAAAAAAAAAAAAAAAAAAAAAAAAAAAAAAAAAAAAAAAAAAAAAAAAAAAAAAAAAAAAAAAAAAAAAAAAAAAAAAAAAAAAAAAAAAAAAAAAAAAAAAAAAAAAAAAAAAAAAAAAAAAAAAAAAAAAAAAAAAAAAAAAAAAAAAAAAAAAAAAAAAAAAAAAAAAAAAAAAAAAAAAAAAAAAAAAAAAAAAAAAAAAAAAAAAAAAAAAAAAAAAAAAAAAAAAAAAAAAAAAAAAAAAAAAAAAAAAAAAAAAAAAAAAAAAAAAAAAAAAAAAAAAAAAAAAAAAAAAAAAAAAAAAAAAAAAAAAAAAAAAAAAAAAAAAAAAAAAAAAAAAAAAAAAAAAAAAAAAAAAAAAAAAAAAAAAAAAAAAAAAAAAAAAAAAAAAAAAAAAAAAAAAAAAAAAAAAAAAAAAAAAAAAAAAAAAAAAAAAAAAAAAAAAAAAAAAAAAAAAAAAAAAAAAAAAAAAAAAAAAAAAAAAAAAAAAAAAAAAAAAAAAAAAAAAAAAAAAAAAAAAAAAAAAAAAAAAAAAAAAAAAAAAAAAAAAAAAAAAAAAAAAAAAAAAAAAAAAAAAAAAAAAAAAAAAAAAAAAAAAAAAAAAAAAAAAAAAAAAAAAAAAAAAAAAAAAAAAAAAAAAAAAAAAAAAAAAAAAAAAAAAAAAAAAAAAAAAAAAAAAAAAAAAAAAAAAAAAAAAAAAAAAAAAAAAAAAAAAAAAAAAAAAAAAAAAAAAAAAAAAAAAAAAAAAAAAAAAAAAAAAAAAAAAAAAAAAAAAAAAAAAAAAAAAAAAAAAAAAAAAAAAAAAAAAAAAAAAAAAAAAAAAAAAAAAAAAAAAAAAAAAAAAAAAAAAAAAAAAAAAAAAAAAAAAAAAAAAAAAAAAAAAAAAAAAAAAAAAAAAAAAAAAAAAAAAAAAAAAAAAAAAAAAAAAAAAAAAAAAAAAAAAAAAAAAAAAAAAAAAAAAAAAAAAAAAAAAAAAAAAAAAAAAAAAAAAAAAAAAAAAAAAAAAAAAAAAAAAAAAAAAAAAAAAAAAAAAAAAAAAAAAAAAAAAAAAAAAAAAAAAAAAAAAAAAAAAAAAAAAAAAAAAAAAAAAAAAAAAAAAAAAAAAAAAAAAAAAAAAAAAAAAAAAAAAAAAAAAAAAAAAAAAAAAAAAAAAAAAAAAAAAAAAAAAAAAAAAAAAAAAAAAAAAAAAAAAAAAAAAAAAAAAAAAAAAAAAAAAAAAAAAAAAAAAAAAAAAAAAAAAAAAAAAAAAAAAAAAAAAAAAAAAAAAAAAAAAAAAAAAAAAAAAAAAAAAAAAAAAAAAAAAAAAAAAAAAAAAAAAAAAAAAAAAAAAAAAAAAAAAAAAAAAAAAAAAAAAAAAAAAAAAAAAAAAAAAAAAAAAAAAAAAAAAAAAAAAAAAAAAAAAAAAAAAAAAAAAAAAAAAAAAAAAAAAAAAAAAAAAAAAAAAAAAAAAAAAAAAAAAAAAAAAAAAAAAAAAAAAAAAAAAAAAAAAAAAAAAAAAAAAAAAAAAAAAAAAAAAAAAAAAAAAAAAAAAAAAAAAAAAAAAAAAAAAAAAAAAAAAAAAAAAAAAAAAAAAAAAAAAAAAAAAAAAAAAAAAAAAAAAAAAAAAAAAAAAAAAAAAAAAAAAAAAAAAAAAAAAAAAAAAAAAAAAAAAAAAAAAAAAAAAAAAAAAAAAAAAAAAAAAAAAAAAAAAAAAAAAAAAAAAAAAAAAAAAAAAAAAAAAAAAAAAAAAAAAAAAAAAAAAAAAAAAAAAAAAAAAAAAAAAAAAAAAAAAAAAAAAAAAAAAAAAAAAAAAAAAAAAAAAAAAAAAAAAAAAAAAAAAAAAAAAAAAAAAAAAAAAAAAAAAAAAAAAAAAAAAAAAAAAAAAAAAAAAAAAAAAAAAAAAAAAAAAAAAAAAAAAAAAAAAAAAAAAAAAAAAAAAAAAAAAAAAAAAAAAAAAAAAAAAAAAAAAAAAAAAAAAAAAAAAAAAAAAAAAAAAAAAAAAAAAAAAAAAAAAAAAAAAAAAAAAAAAAAAAAAAAAAAAAAAAAAAAAAAAAAAAAAAAAAAAAAAAAQD//wAAAAD//wEA//8AAAAAAAD//wAAAAD//wAAAAAAAAAAAQD//wEAAAABAAAAAAAAAAAAAQD//wEA//8AAP//AAAAAP//AAD//wEAAAAAAAAAAAAAAAAAAAAAAAAAAAAAAAAAAAAAAAAAAAAAAAAAAAAAAAAAAAAAAAAAAAAAAAAAAAAAAAEAAAAAAAAAAAAAAAAAAAAAAAAAAAAAAAAAAAAAAAAAAAAAAAAAAAAAAAAAAAAAAAAAAAAAAAAAAAAAAAAAAAAAAAAAAAAAAAAAAAAAAAAAAAAAAAAAAAAAAAAAAAAAAAAAAAD//wAAAAAAAAAAAAAAAAAAAAAAAAAAAAAAAAAAAAAAAAAAAAAAAAAAAAAAAAAAAAAAAAAAAAAAAAAAAAAAAAAAAAAAAAAAAAAAAAAAAAAAAAAAAAAAAAAAAAAAAAAAAAAAAAAAAAAAAAAAAAAAAAAAAAAAAAAAAAAAAAAAAAAAAAAAAAAAAAAAAAAAAAAAAAAAAAAAAAAAAAAAAAAAAAAAAAAAAAAAAAAAAAAAAAAAAAAAAAAAAAAAAAAAAAAAAAAAAAAAAAAAAAAAAAAAAAAAAAAAAAAAAAAAAAAAAAAAAAAAAAAAAAAAAAAAAAAAAAAAAAAAAAAAAAAAAAAAAAAAAAAAAAAAAAAAAAAAAAAAAAAAAAAAAAAAAAAAAAAAAAAAAAAAAAAAAAAAAAAAAAAAAAAAAAAAAAAAAAAAAAAAAAAAAAAAAAAAAAAAAAAAAAAAAAAAAAAAAAAAAAAAAAAAAAAAAAAAAAAAAAAAAAAAAAAAAAAAAAAAAAAAAAAAAAAAAAAAAAAAAAAAAAAAAAAAAAAAAAAAAAAAAAAAAAAAAAAAAAAAAAAAAAAAAAAAAAAAAAAAAAAAAAAAAAAAAAAAAAAAAAAAAAAAAAAAAAAAAAAAAAAAAAAAAAAAAAAAAAAAAAAAAAAAAAAAAAAAAAAAAAAAAAAAAAAAAAAAAAAAAAAAAAAAAAAAAAAAAAAAAAAAAAAAAAAAAAAAAAAAAAAAAAAAAAAAAAAAAAAAAAAAAAAAAAAAAAAAAAAAAAAAAAAAAAAAAAAAAAAAAAAAAAAAAAAAAAAAAAAAAAAAAAAAAAAAAAAAAAAAAAAAAAAAAAAAAAAAAAAAAAAAAAAAAAAAAAAAAAAAAAAAAAAAAAAAAAAAAAAAAAAAAAAAAAAAAAAAAAAAAAAAAAAAAAAAAAAAAAAAAAAAAAAAAAAAAAAAAAAAAAAAAAAAAAAAAAAAAAAAAAAAAAAAAAAAAAAAAAAAAAD//wAA//8AAAAA//8AAAAA////////AAD//wAAAQAAAAAAAAAAAAAAAAAAAAEAAAAAAAEAAAAAAAEAAAD//wEAAQAAAAAAAAAAAAAAAQAAAP//AAABAAEAAAAAAAEAAgAAAAAAAgACAAEA/////wIABAD+//7/BAD+/wAABAD6/wEAAgD+/wEAAAD//wIAAgD6/wMABgDz/wgABgDy/wkAAgDz/w4AAgDy/wIABAD8//3/BwD4//z/DgD8//f/BwADAO//EwD9/+r/HQD5/+7/GgDw//j/HwDt//X/GgD5//X/EAD+//P/EgD8//L/DgD9////CAD6//7/DQD4//n/DAD4/wEAAgD4/wcAAAAEAAAA8/8JAA4A7v8CAAgA+P8LAPr/+v8MAPz/+P8DAAQA9P8JAAEA6P8WAAQA6P8DAPr/BwD4//D/GwDk/wcAFwDK/x8AFQDe////IADU/yUA+v/h/zgAyP8vAPr/4P87ANX/DAAdANf/DQApAK//OgAfAJf/WQDe/wsABgDW/z4A2v/3/y8Axv8GAGYAW/9gAD8AYv97AAIAr/9IABAAs/9NAAEAAQDc/xEAbQBT/7IA5f8g/50BG/9Y/9EBmP4cAPQA/P6xAGz/uwCQ/3T/hgFQ/vkA1P/P/w0Axv/dAF7+lgEt/6P/GwHE/pEAQgAo/7EAs//r/1cAJf8uARH/BgDBAOr+3ADQ/yX/YgFO/07/VQE5//P/NQAkAMj/vP+2AH///f8HAFQAyv+K/8IAnv8CAPj/2f+bAGP/7f+KAKr///8JAO3/RAC3/xAAFQDy/yIAx/8kABsAwv8uAAQA7v8OAO//BwAkANf/DAAMAOT/NgC3/zgABgDH/y8ADADX/yQADQDC/1cAsv8XAEMAlP87AAkAz/87ANH/+f8rANf/7f/9/xUA/v/0/9n/EwATAPL//v/U/w0AIADw////6f8XAB0A6f8GAO7/HQAGAAQA7v8IADQA2/8bAPr/7/8qAAAA4f8NABcA6P8rAAAA1P85APj/3P8vAOj/+f8qAO3///8WAPP//P8MAOH/AQANAOH/HwAAAO3/GwDc//r/CQDg/wQA/P/c/xIADADX/zEACAC+/x0ACQDa/xUA///h/xYA/v8AABcA7v8AABUA5f8EACsA6//8/xUA/f8VAPr/9f8IAPn/FQD1//z/LwD1/+3/GwAHAPj/IgDz/9v/QADr/97/OADZ/wcAEwDc/xwA8v/q/xIA9f/q/xoA7/+v/00A/v+X/1MA9//S/0UA6f/W/ycAIQDF/wYANADb/wYA9/8EACUA3/8BAPD//v8lAPj/DADL/77/aABoAMr/lf+9/2EA9ADV/zj/AwDH/5sAfAHq/kH+BwEtAev/5P89/3H/BQEJAYX/vP7o/z0BXAAh/8P/YAD5//n/JADy/7z/yv8pADkAwf+f/xMAHADf/+7/4/8LAPj/z/8WAPz/+f/m/+H/LgDj/wQALwDV/wMAGwAHAAIAAwD+//r/OQAEAMf/FwAzAPf/9P8SAPz/HAASAN//DgAEAAAAEQD5/+v/9P8qABAAAQD3/7z/NQA9AMb/+v/v/+7/QwAMANL/BwANAPr/KwD+/6z/FgA0ANb/8v/y//z/IgDm//P/BwDg//r/BAD+//7//v8DAAsAEADy//n/GgD///f/DgD4/wgAJwD5////EwAWABIA4P/+/wkA//8VAOj//P8IAA0AFwDU//n/GADv/+v/AwAQAPP/AgD3/+D/HAAEAND/AgASAO7/CQDz//j/NgDZ/+T/JQDo/wEAAADk/xUAGgDo/wYAJQDP/xUANQC9/xMABgDH/yoAFQDg//L/DQADAP7/CADf/wAAEwDw/wwA7//w/xUA/P8BAAMABgAAAAMAJQD0////JQD9/xYAHwDv//T/EgAHAAQAEQDo/wEAGwDe/xUABADc/wwAAAD4/+b/9f8IAAEA+P/z/wIA7v8CABUA6v8IAAwA/v8SAPP/+f8VAAMA8/8MAAgA9f8WAP//8v8VABEA9f/5/yEA4//k/yUA6f/6/xEA/f/1//n/DAABAAYA8P/v/xsA+f/l/wwA+P8AAAgA/v8NAAAA8//9/xcAAgDf/wMABADw/w4A7v/q/w0A7//y/wkA8v/m/wYAAADr/wYAAAD4////9f/+/////f8CAAYA+v/+/xUACAD5/xcACwD0/xIAEgD0/xIAEADy/w0ADAAJAAQA/f8GAAYABAAJAAYA+v8MABEA9/8GAAQA9f8YABAA6v8QABAA7/8RAAsA6P/3/xYA/P/u/wsA/P/9/wAA+v/1//3//f/z//3/+P/3/wMA/P/m/wsACwDp//T/CADp//D/EADq/+7/EAABAPj/CwD5//z/BgD9//f/DAD4//r/GwD+/wcAJQACAP7/JAAHAPT/EAAQAAEAFQAIAA0AEgAGAA0ABAAJAAsA7v8IABoA7v8HABcA6////xYA4P/u/xoA6f/j/xcA8P/h/wAA9P/0/wQA9P/h/wkA+v/a/xAA8//X/xsA+P/h/xUA+P/a/wcA///a/wYAAADV/w0AAADa/xYAAgDh/xEAAgDp/wwADAD3/wgACwD//wsAAQACABcAAwACABsAAQADABgAFQAEAAcAEAD6/wYAFQDt/wkAIgDv/wsAEADq/wQAFwDv//3/FQDr//3/HADy//r/IQD0/wMAHQDz/w0AHADv/wcAHQD8////FQADAPj/CAAEAP//+v/9/wIA9P/8/wYA6P8DAAQA5f8IAAIA7//5/wEA+v/t//n/BADo/wYAAgDr/w0A6P/t/wsA2f///wQA4f/v/wYA/P/V/zAA/P/X/yAA9P/1/xIA8P8TAPn/AgANAPL/HwDt/xsABwABAAsA/v8GAP//EgAEAAEADgAEAAEAGgD6/wIABwAJAAEAAwANAPT/EQAMAPD/DgASAOn//P8lAO7/AwAGAOT/JADv//T/FQDj//j/CADu/+v/BwD4/+T/EgD6/+T/BwDz//X//f/4//3/+v/3//X////6//P/CAD5//n/DADu//z/BwDy////DgDz/wMAAQD///3/9/8MAPP/BwAAAP3/CQACAAcACAD+/w4ABwDo/x8ACQD+/xcA//8EABUACQALABUABwAOABIACAAJAAgAEAASAAsABAAMAO7/AwARAOj/GAACANv/CwAXANv/FgAgAMf/NgALAND/HADw/+T/AAARAN7/+v8QANr/CQACANX/DAD+/9D/BgD3/9//CAAJAM3/DQALAM//GgD9/9//AgABAOj/9/8DAO7/FQD///X/EQD+//r/AwAMAOr/AwAWANb/EgApAMv/KgAWANL/KgD5/9n/HwD1/+n/JQD+////GwD9/wEALADw//T/MAD0//D/GwAGAP3/EgAEAPf/HAABAPT/IQDz/wYAJADz//X/FwACAPn/EgAfAPr/+v8AAPj/FgAJAO////8IAPr/7v8BABgA8P/q/9X//P/5/+r/9f8DAAsA1v/q/wMA3v/f//j/9P/w/+j/6f/z/xEA2//9/w0A8v/8/9z/8P8YAP3/+f8fAAcA8v8TAAAA7f8YAAMAAgAJAAQA6f8VACAA9/8RABwA9/8WAB0A8P8fACcA8P8aACEA9f8kABsAEwAQAAcAHAATAP7/HQDr/wIAMwDp//n/GwD1/wEAFQDz/xMAHwDm/+j/DQDq//j/CQDy/+b//f/u/+j/+P/k//r/2v/Z/+j/2f/u//P/0v/m/+v/2/8RANf/2f8GAOX/9P/r/+X/1v8MAOr/vf8VAPj/zf8BAPX/6/8iAO7/4P8XABYACwD+/xgALgAGAAcAAwAkAAQAAwAiAAIA//8iAAEA3v81AAsA/P8/AP3/4/87AO7/GwAbAPz/KQDh/+3/UwAQAK//IABbAMH/IQBcAMX/BwAdAAEAzP9AABMAAgDI/ywAKQDq/+r/2v9JAL3/AwDS/wsABADg/8z/+v8wAMz//P8AABAA2f/k/w4AAADj/9T/GADy//7/GwDh/wwA/v/j/xYA7/8fAP//+f8kANb/GwD8/wQAMAAGAO//8/8VAEIA//8wADEAuP8rAEUA7/9nAML/BwA4ALL/lgAcAK7/JgA0AIH/kQArAKf/JADm/xMA3/9cAAQAvf9JAAQAuP9MAAwAqf86ACUAjv9JADAAhv8xAAgAqP8TAPT/z//q/wEA2v/r//n/vP8gAMz/3v8WALv/AwDv/8j/BwDt/9v/8v/l//X/7v/r//f/6f8GAO7/6f8SAO3/CwAWANf/IQD8//3/JADX/z8AFQDq/0MA3P8fADsA6v8lAAgAEgAcAA4AEwAHACAABwARAAEA5v9IABAA8P8hAPn/9P8LABUA7v/v/zEABwDQ/wgADgDS//7/GgC9/+//JADv/+3/9/8kAOT/1P81AO7/9/9WAAwAEAAqAAcAJAD0//3/RQDR//X/PgCs/+j/EwDA/+H//P8RAJz/pP8lAJ3/5v8zAND/4/8pAFcAvf8OAFgAlP9sAAkAl/+ZAMz/0v9sAKr/rv/8/4T/t/+j/wwAiv/G/8AAR/+OAIEAAADxAGYANgARAFsAfv/l/1QAl/9NACsAUf9KAF4Akv8TAJT/9//X/0X/cf+Z/0cAKwAVAHAA3v/h/0AAhf/y/zsABgA5AO3/0/6K/3v/3v5NAAYAmv+YAAkArf8rAM3/gf8wAKcA2v8YAan/Zv8l/yP+4v22/Nj9nQDTAmwD/gNw/nMBYQDp/mr/bP2dAwgAiAYUAzH95wGm/vn/bf63/j0A5ADYAFYAF//Z/3n9Qv5HAEH+4ABKACoCbAAbAEkAtv7VAOP/s/8bARX/p/12/Mv5IPvF+zMA1QXvAzkGewf1/xUDAgBD/AYCjgLUA/UEPgXxAY0B1v4W/Gr9PP32/CsApf9r/q0ARfxZ/X79cvyw/n3+agFzAIcA+gDC/XUAtP31/JsBBf8iAAwC7//W/1gAnv66/az/jv8MADUBRADOAAIAGADi/rb9nwDo/7P/oAGkADgAFwF1AI3/2v83/+/+TgGk/6n/jwBd/0UAEAD9/83/y/8mAPsA2/9MAJkA1v/L//3/1QCLAIgBmwB8APkAJP9AANn/7v5uAIoA5QBEAdcAHAA9Aev/mf8GAEL/YwAxARMBrv/iAPz/tf6yAMf/cP7v/xMAYQB3AKn/WABjADEAnP9l/8z/mv+o/+H/MQB7ANYA3QBRAD3/4f8MACj/tP90/y4ADwGPAPz/KQAgAHIAGAB+/2b/rQDMADoAXQCU/8H/0f/QAJYAMQD//8AAOQAwAG4Ajv+D/0D/uADU/5L/yP8Z/5L/R/+T/+3+rv0R/+7/8v9KAL7/jv9t/5j/EgAM//7/hQBrANMAOgCjAND/OgBZAJP/DQAcAIv/sv+x/57/hP8R/6n/3v8qABUADgDh/2v/DQBC/z//2/9x/wwAvf8IADAA2v///wQA1v8mAI8AIgAQAOn/4ADLAC8ATwDD/3MAigECAeEA1wCO/8X/AgBt/1P/nf95/zP/lv6g/PH8T/71/7UCqgMQAnkBTwFDABgAxf3U/WQAXwL9A2oCUAEEAdIA6v8W/rv+Iv6N/4wBaADCABIAPv+//oj+y/7d/uT/uQB0AaYBYgDB/5X/+f47/+/+N//L/3MAdgEjAZsAqP9l/1z/6P7t/k//SQAEAfgAhwArAL3/NP+U/+b/kv/B/w0ABQEbAagAAwGGAM3/nP/I/8b/vv/5/0cA+ADRADQAf/9m/8L/Yf9R/yn/p//u//X/JwC+/z7/YP9d/8b+Ev/L/7H/VAAmAXYA9f/M/9L/AQDP/6P/oADkANAAxQDNAD4A+f/XAPj/1v8bAC8A4P+t/+T/iv9K/5X/ggAJAEQAGQEGAO//OQBF/x7/i/80/2j/GAAuAGMAhQDl/7H/uP8//8z/GABtAPUAZwA7ADkAFgDp/8z/0P8/AOcAVwA6AOv/jv/V/+H/9//u/1gAGAAfANr/mv/k/+7/SgBFAHYAuQA9AJn/wP8qAJL/nP8qAP3//P+y/y8AfAD0/8v/LwAiAP//uP9y/+v/6P8OABMAigCQABUAIAB7ACoApP/u/7j/7v9iABcA9f9TAD4AMwD5/3z/qv/y/6P/5f/VALkAnQDSAO3/df+V/wr/SP+k/0n/8v+TABMAlgBpALv//v+p/wf/VP/I/3T/9P9sABAAcwDgABgAOAAMAFf/p/+e/+v/JwDg/y4A2v+k/+D/fv9O/+D/mwBZAI4A3QBOAA0AcABv/0f/lP9s/yYAEwDfAGMA//+JAJ//hv+E/1b/zP/p/14AQgBEAFQAVABcACAA2ABNAD8AngD1/+T/YQCo/3b/mf/y/rf/WwA4AH0AhgBOADoAuf+N/xH/fP/1//z/aQCJACYAIAAvANT/AgDu/+D/KQBzACkAOQCn/5j/hv8+/5j/u/9zAIUAtABCAYb/swBxAEb+RAHd/mL/BQGG/2MAnwDZ/5r/cwAv/7v/bf8IAGH/1/+OABYAfwBKAMkANf/V/yr/Qv+8/6r/iwBsAE8ASQAvAPT//f8H/4n/iP9c/6IA//+RAPEAYQCyAEX/JgCa/8z/fwACAGQA9P9sAN7/EgAp////qP/p/8gArv99APr/RwDp/0AA7v9P/wsAz//B/x0AaQAdAIwAbAAiAL7/if96/03/AAC3/wAA3//M/2wADgBXAN//6/89ADQAmwAuAFMAaQDz//7/+P/P//L/BgAcAE8AUgBhAAMAKQAaAJj//P+K/57/nf9h/8b/tP8VAC8AOwBtAFEAOgADAMz/mP+K/8f/if/y/zoAIADWAKMAYAApAO3/2f+N/5r/f//Z/0AAAQB6AEAA9/8iAL7/vP/Z/+j/zf9KAE4ARABZAAsALwDR/6P/p/+Q/8f/DQBPAEQAJgD9/63/Uf87/+H/wf8AAHAAZwBZANL/5f+o/6X/9/81AEIAjwDDAHIAZwA2AP7/sf/P/+j/1f8lAFEAGwDj/83/rv+L/8H/0v/9/yYAKwBZAAEA7f/5/8H/7v/6/xoAkwBzAGQAawAfAJ7/QP9J/yP/k/8aAAcAYQBtADQAEQDQ/6D/Xf+3/wYANQBtAIsAlQBCABcA9P+c/8X/3v86AGAAXADkAEIAHwDI/zT/R/9Y/4r/r/8xAGEAeACLACEAAAADAN//FgDw/z0AfABOAGQAEQDR/8H/rv+G/3n/vf/R/wkAVgAkAC4AGwD8/7v/vP/c/8j/MQBAAF4AxQCbAIoAWAAcABsAyv/V/8v/wP+7/6D/pf91/2P/cf+E/6n/6//v//T/OQAHAPj/AADB/+H/+P8fAGYAqQC9AJ0AiwBjAAIAyv9c/z3/qv+5/xIAIQAWAEkAZgBHACUA2v/K/+X/6P/5/+T/CAD8/y8ADQALAB0A1P8gACQAQABzADgAJgD0/9L/pf9x/4n/bf+3/wYACwA7ACYAEAAXAAAA+P+4/8z/1v/f/xcAFgAgABoATgBEAEIAJAAHACEADQA9AB8A2/8DAAYAzP/W/8H/i/+t/9n/0f/e//3/4P///xcA+P8kABoAEwBRAG4ASgB1AGkAIQBdAFQAEQABABIAw//K/+T/e/+D/7j/rP/p/xoADAAaAAsA/P/X/9b/xf/g/zQAUgCPALIAhABUACUAzf+X/5X/hv+5/wEAKwBZAFIAHADN/5n/Yv9T/37/uf/6/0QAlQCGAHMARwDl/8D/y/++/7T/9/8kADYAXgBSAOr/zP/P/5T/t/+7/9n/JAA9AFQAPgDq/8H/2f/G/9r/FwApAD0AkACOADYAJADz/6r/s//B/8D/2f8hAEIAXQB/AD8AEAD4/8f/gf9v/3X/iv/g/zMAVgBwAHoATgAdAPn/wP+x/+P/BAArAEkAXQAvABMA3/92/0//L/95/8L/DQCUAMMAuwCiAEcAr/9d/1P/Qv+P/w4APwCjAAMB/wDGAGMACQCp/2z/W/9b/4r/1f81AFwATgBSABMArf+7/7j/fv/Z/0UAMQCAAKUAHQDf/97/hv9K/7b/rf/c/2gAeABxAHIARADC/7j/o/9x/9D/EwAwAHcAlQBeAEMAFQDF/9T/y/+n/7v/5P/0/xAALADw/+b/6P/P//f/FwBAAH8ApQCHAEgAEQCx/2j/WP9S/2H/rf/X//f/MQAvAB0A7v/W/8v/z/8AACUAQwBnAIYATAAQAAgA1f/e/wIAEQAqAD4ASQANAOj/vv91/4T/s//M/wMAPgBdAI8AmwBkACcAFQABAMX/u//D/7H/7f8NAPr/BgAVAPr/1f/g/8//wf8CACkAFgArAB8A7//K/8v/zP/a/xMANgB/AKUAoACAAEgABADC/6P/hP+V/9r/+v84AGcAUgApAAQA3v96/3H/qf+O/47/9/8JAPz/IQASAOP/HQBMABMARQB2AE4AVABkAAgA3P8HAN//zf/y/+r/EQAkAO//z//G/3T/fP/S/6r/9P9pAGgAdQCYAEcAEABDAPP/vP8CABcAAAAuAEIAAwD4/7v/YP8Q/zf/Xv9y/9r/KgBbAFgAYAASAND/7v/B/7H/KgBZAFQAegCOAEoAGwD6/6//nv+9/+3/AgArAFsAWAAYAOX/nf9c/3D/rf+0/xoArwC2AIwAlQBtABAA8//A/4r/jv/j////6v8aAGcAUgAYAAQAr/+A/9X/tv93/wcAVgAdAC4AKwDN/8//EQD3//P/ZACpAMwAxQCJAEMA5f+y/1j/Gf9A/7j/CwAYAIUAbQA1AFYADQCU/5j/1/+x/+X/VwB1AI4A1QCJADUAFgDg/5r/f/+i/4D/ov/P/6n/oP/t//7/1P8HAC4ABAAnACAA1//4/0AA7f+0////1v+3//D/6//U/1kAnwAfABUAbQAqAN7/7f+5/7j/FwADAKj/5P9KABUAIQBZAGcATwA4AOj/g/+q/7T/qP+y/xYAhACWAFsAMwBCAPX/mf+Q/4r/vf8gAAsA6v9HAF0AzP90/4//Wf9r/8r/qP/z/4UAngAhACAAIADW/9//1//R/0kAqQCfALkAmQB/AFkAFQCE/2v/XP9H/6T/y//v/z0AgQBNADsAHQDM/77/0P+q/8f/DQAIADMAWQAxACIA/f+0/43/gf9Y/3H/1P/l/y8AbQBSAE8AEgCx/7L/yv/j/yoAxQAKARMBEwHTAIkAMQAVALP/uP8EAM//nf/Z//z/yP/t/wYAxf/r/zYA1f+3/wsAHQDF/9f/AgCu/4P/VP/o/vn+fP+e/+j/pAAOAfkAtgAgALT/YP9v/3z/u/9/ABQBcQHnAGkAzP8N/6z+jf4R/+T/6gBfAZsBlwHDANT/TP+g/mr+cP/c/0oAZQG5AdoAhwDS/23+g/6C/qj+if+3ACABIwFFAYAApf/z/mH+Kf50/pz/3QBnAe8B9gEUARsAZf9+/jH+Lf///3wATAGLASUBwQD5/xb/Ef9P/wv/tv94AMMAOwEHAT4Ao/9g/7z+bv4K/3L/FgC5AIsARQD9/9n/jv95/9L/LwBsAL4AFAHmAJQAtwBuAMP/tv98/xD/Ff+y/5j/8v+CABYADgArAAgAdv+P/xAACQCAANsA2gAIAQwBvQAJANz/hP84/wH/9v4q/0f/r//h/ykAIQBoAAIAy//p/4j/j//r/2cAQgCWAIoAHQAuAI//Rf92/9//bgCLANUAzgDFACEAev81/zf/u//U/wwAxQCCAUcBKgFnAGv/Kv/J/hj+Uv6L/yEAxQAoARMBzQB9AI7/q/7P/tD+2/69/4YA0wAYASgBYgD0/xcAQP/P/oP/2f/8/8MAwABxAIwAHwBS/yr/NP9h/zEAkQDiACABvQBjANT/1f7Y/h7/Jf/A/4QAowDQAAIBgAA9AEMAIADr/8j/1/8mACEAHABRAEkArf+o/5X/QP+t/xwAgACVAMEABABM/w//Sv4z/vb+vv+QAOABOAKTAZsB5wCv/6D/k/9E/8X/pACBACkAYwAcAEf/Of8D/0j+nv6N/4r/Wf9WAMwAXAByAJ0Aev+U/50ABgDy/xwBmwHRAPoAAAHX/2r/+P5B/g7+qP5+/7P/VwC+ALwAWwAQAF0Auf/X/2AAHQAGAKQAGQHNADwBJwEGAJX/iv/0/u/+rf89/x7/YwBnAMb/AQDb/47/3/+P/wv/hP9PABsAAQCMAEkAqgAlAV4Aw//v//3/rP/a/9X/wf9XADsAtP+7/w4AZwCTALIAggBUANT/Cv/P/ij/Zf+O/zgAzAAIAbIAOgBx//L+SP8H/x7/NgAdAVABTAHqABIAx/+n/xD/Pv9hALkApwAoAZ8AoP/F/0j/Vf6w/hD/5/6k/3IAbAD0AL8BVgHSABcBnwDW/9L/hf9X//X/SgDv/wsAXAACAOj/4P9t/9n+/v5N/wL/ef8kAMIAVQEjAa0AEwDz/4H/l/4I/6j/EQDaAFMBLAEgAYMBfQCP/5X/6P6R/t3+Qv97/3wAzAFdAcYAnQBP/yL+6v3D/Ub+oP/BAD0B3QFHAlsBFwBH/4r+AP4s/ur+cv+KAAYCFQJ2AS0BPgC1/j3+Cv7T/VP/ywAMAdgBYQJBAVsAxf9b/gv+Bf8z/9D/qQEKAtcBFgLbAGD/6P42/mL9Zv55/6X/9QCSASgBNgHcAGX/nv4b/5P+ef7w/4IAwgDFAZ8BhABkACAA9P7V/kX/YP/Q/7sA1gBkAAUBcABX/zP/Jf97/yIALAExAVUBkQFjAEr/W/78/VD+9/6O/5QAkQGPAdEB8wB+/3T/ef/N/mb/nQBnAFoBzgHg/43/1v9Q/g/+Qv8C/9z/mgHRAGQAuQCN/4X+uf5U/nD+YgDWAG4BnQLbASIBsQB+/37+DP8k/0j/swD1AAwBIAGiAMv/Kf8f/7f+Kf/A/9//VABEACUA8v9E//L+xP54/t7+g/+G/5MAOwGvABEBmgDq//7/yv8BAA4BggEyAVEBrQCN/wz/1f5Q/sv+UgAXAIkAmAHQAE4AcwCy/97+zf/V/8X/RAFqARQBEwF3AGr/nv6x/oD+yf7w/+3/BwBtAD0ABgDW/9v/sv/e//z/l/9XAK0AbQAiAbkABwDk/4D/Lf92/z8AAADLAJEBHAAnAHgAnf+d/4v/KP9K/67/hP/9/sD/LwCP/5j/df+l/xEAKgDTABcBLgFtAYIA5P/v/6P/cv+S//7/cf90/9H/Pf9R/1b/0P/N/2cAMAGKAI0BdwG7ACwBxgAbANr/EADz/8z/2//G/3//YP9q/0j/Vv+K/7H/cP8z/1z/j/9R/47/JQA9AIsAdQCZAJsAqAD/AFQAsgCiAIP/U/+J/6f/L/8wAFkATP9/AJkA6f9CAMkAVwDz/1QASf9l//D/Tv+k/7j/dv93/+3/UgBxAEcBVgHkAM4A/v95/0///f73/oH/zP+B/yoANgCO/y//Ff+q/lr+1P8BAK//TgFoAYwArQCoAPL/LgAhATkAXgCgAfUAYQC2AF4At/+B/y7/ev7l/oX/PgCJAC4AGwF6AIv/qv/b/8X/LgDJABYASgDfAEgAu//W/9D/ov9c/2f/1v+4/xoAkwAAACQARADZ/2H/k//B/y//k/8fANv/3v9oAD0A1/81AAQAZf8dAGkAbgDWAMIAtAAXAOj/rP8u/8//EwAlAAcA8/8zAOr/6f/F/yT/bP+f/+/+jv9EAP7/WQDDABMAYAC4AEkAXQCfADYA6/9FAOj/5f/k/9H/3//t/xgA9/+2/wkAvv+f/7z/AgA2AKr/jgBOAIX/HAD//+3/JAATAAMAGABeAMX/JADm/5T/DACe/+3/GAAcAAcAWQA2AMz/NgD0/0D/4v4w/0X/A/8SAHsAMwAnAJEAhwAJAOkAhAAzANsAAAAVAIIAKgAGABAADgCP/1IAbQD+/xcAPQD9/5L/aP/9/vH+HP8y/9r/nwBUAKIAvQAQAO3/JQDP//n///8/ABsBDAH/AHgB9gDc/5j/L//e/t3+hv/W/9L/JgDG/4H/kv/+/nb/9f/0/wQA6gDRABoAXgFtAD4AjgCk/5j/o//X/1z/1v8HAYAAt/8LAOH/hP7j/q3/nf5+/9EAxv/b/w8BggC8/2sAVgDg/50AxwBYACoA+P9m//3++P5x/5f/PwAEAYEAaQAPAVwAY//c/3v/h/6F/3oABwBVARECAAGWAJ4Amf8u/1j/N/9i/xIAqgAQABgAw/9m/8/+nv6Z/pn+TQDdANUA0wFqAWYAl/9w/1T//v5/AM4AwQB4AS4BgQAzAMP/6f4D/4H/vv86AHcAjwD6/yb/7v5Z/jv+2v4p/+D/7wBoAS0BGAGbAFb/wv9IAC4AxQCWAfcBIwHrALsApP/B/pL+EP8L/uf+XgDH/5kAiQDv/wwArv87/7L/zP9Z/0MA4gCFAMsAkAAlAMP/yv+X/13/jAARAEUAkQBT/2z/kP8F/0P/8/+p/8j/OgDh/2sAaADk/1kANAAaAEcAIABiAJkAnQBmADEAWwAOANn/0v9YAJkAiwC+AHoA5f/R/3r/Rv6b/mj/Ef8aAJMA6/+2AAYAW//9/6P/nP4HAAUBEQDwALsBGAGRABwAYv91/8H+yf4Q/2r/1P9EAFsAtv+ZAK3/Tv+E/1b/6/9KAMkA1QBlAf4AtgBJAC3/2/4P/xr/kP+eAKoAHgGCAdYAYf8+/7D+W/3E/rP/lP8gASACkgHaAA4BowDy/i7/Yv9C/wAA2wAOAesALQG9ALb/n/9//wz/j/8AALL/EgD2ABAA2v9T/+z+5/5z/iv/4f/+AHEBIgHAAFsAx/89//f+AP+5/1QA2AAbAf0AcwDb/2H/+/55/+P/rQAoAW8BhgGEAJj/Ff9U/uz9Av/i/sr/8QCuALQApQB/ACr/7/41/6r+D/+uAA4BVQEPAksBAAFCAGD/C/9R/4b/3P9IAAQArQBRAFn/8f7A/un+G/+U/10AwgAYAY8BFAEXANL/6/9E/4T/nwBhAIUAgwGdAHf/Nf/e/nv+t/5j/47/7v/OAOIAggBMAAMAmf9E/6T/av/u/3AApwDBAGQAmAB6AJn/7v6Z/1f/iv92AGsAKwHsAUYBCAGOAOP/xv8k/0T/gf87AKQAaABZAI7/if/d/hH+yP6e/mX/XQBrALwA6gCOAND/NgCp/9f/4ADcAKQA1gDsAMj/wf9A//v+Yv9o/7z/t//u/+7/1f/c/8f/cP+a//r/xf8OALMAvQBdAHcAhAADACIATQA2AHYA7AA/AP//yAAvAFv/fv+k//j++f5//zX/EP/p/+T/ef/R/0gApf93/2YArP+i/6gA/QB3ADcBeQGVAAABrQAsAEoANQDz/97/FwCZ/0T/4P9q/97+mf+U/4T+Gv85/6D+iv9iAGkAjABMATcBswCFAHsAOQBtANIAMAABAFUBkQCA/zAAjf86/yr/pP+u/7v/ewAYAEAAvf9h/6n/K/83/5n/LACoACcBMQGoAHMAQwAzAJf/IP+t/+b/qv8CADMA///A/6f/Vv/p/p//Vv/D/z4Acv85AFcAZv9D/8D/Pf87ABEBRACaAWsC6gByAOsAsv9T/+b/8/90/10AGQH+/9z/y/9F/6f+9/67/rH+lf+3/w4AYgDfAAkBoABgAB8A3P/h/0oAkwDWAP4AWwEmAY3/SP+0/1z+I/51/2r/jf+PAH0Akv/H//r/ov+D//j/NABiAA4BpACWAGMASAAbAIH/s/89AAkABwB6AEgA6P81ACQAd//h/+3/YwBiAP//TwAqAK7/pP/I/6n/tv9YAP3/iP/z/6z/EQB6/5z/BgAOAFgAQwBYADEAcwBDANT/RAA5AGH/RwAOALz+Mv+k/xb/Wf+N/xgASgGgAD8AdwHFALL/SQCd/zX/1v8+AJL/TwAnAUQAkACAABL/fv/w/6P+L//z//3/zABaAWwANgB9ALT/gP6S/sv+C/8mABMAegAzAfQA/P+G/yv/Xf9F/yD/hwDrAEQB1gEjATgASAC2/z3/xf/P//n/RwCpAMD/mP+z/8D+Mv9A/3v/DAC0ANwAxQAqAWcAWwB3AIv/xv/N/3z/+f9AAHEA6v+4AMgAzP9IAHf/Mv9o/zj/2v45/xMAk//p/8EAjAAOAHsATACS/3gAeAAOAEoAwgDSAGL/bQBeAJL+b//j/+z+Pf9XACYAOgADAYAB1v9sALMAz/1C/mz/T/5t/hEBhQA/AKsByADh/ysA2//i/gwATQDAAOgBuwFjAS0BmACO/8/+dP4+/k3+V/+l/8v/nQCQADAAIAD6/yj/Ef96AKT/3/9fATsBJwFCAXEB0P/N/5j/bv50/u/+Rf8g/1sAaADp/2EAYQBt/1b/KQCn/2f/jgDlAFEABAHSAREBIQEEAfoArQCZ/0IAFgAA/1j/Y/9R/qX+FP8g/xb/pf96/2X/XgBY/1v////R/6f/y/81AGMBIwFDAN4BywDk//sAvf8m/5X/OgCZ/23/IgCd/7f/OABy/3v/ewCU/8b/9P87AMP/FgCvAK7/KwCnACsAmP/JAGsAtgCNAYsAdgCAABUAcf/u/uX+vP4K/6L/AwDu/2sAFwHg/3n/OgAGAFf/VgB/AMsAVAGLABoA/wAJADX/2gBU/9z/IAHZ/2//fADR/3n+Yf8K/4T+Wf8fAOv/XAC3ACsAJwCy/3X/NP9M/0MAngAXABcBMwLQ/wYAegDf/iX/EAAOAGQAoQHdAJ8AywDw/y7/wP6K/rr+j/56/2wAy//dAAoB/P9pANH/Mv9j/8v/CAAkAC0BDwFkAS4BqABJAIj/e//s/sX+oP9K/8v/VACc/4YAhf/N/gH/DP8C/3T/dQCdAHAAawDkAJ//9f9ZACv/lAC4AAIAuADBAOUASAC+AK4Anv9YAPT/dP9i/9T/vP9w/0wAnwCiABgAwAD+/yH/oP8R//f+HACbAB0AMAEiAY4AOAA5ADf/2f7l/xb/jP7I/xUAmv8YAL3/AwACABsAFQCc/7j/b//g/wkAIP9HAMcATABhAEkAIAF1AFEAiwGfAawA7gBTAfD/cABNAJT+3ADFAKj+AgDhAOX+IP6N/0f+jP03/8n+2P6oANr/MACCALb/w//S/5f/Uv9kANoAsQCkAWACtAGIASgB1P9T/6//Uv6Z/wABvP9AATEBMQAEAJf/dP7r/bz+l/44/9z/5f+ZAMgA1/8WAKf/XP/k/2f/bAA9Ac0AcwBeAW0AXP5C/xf/LP4U/6f/hQCRAMwA6QB+/5n/7v8c/2/+qv/pAPkAQgHKAZkAYwBjAKX+if+jAAUBDQF0AbMBwQAHAGP/FP9R/jX/Y/9//ycA/f8QAD//+P6O/iv/Kf/V/qn/RAAdADUAhABuADAAyACEAIH/bgAPAdsAcAD8AaABlQH8AZAA1P/y/+f+i/2Y/lf/0P+u/6n/DQBIABr/kP/k/zD/YABMAIr/QwB2AXUAXf8dAQ0Alf+kAPH+C/9FAGb/iv3q/8r/5P5UAIH/GgA1AZkAPgC5AAcBrAA/AGj/G/8zARYAqf8XAfgA9AACALT/NP80/0r/wP78/97/kv/P/wQAHv+o/mH/6f6T/9b/lQCMAGQBWgFEAMIAZwDc/2sAMAAe//j/HQAH/9P+UgAuAMr/VwAZAbgAqv/VANL/e/86Ab4AdQBJAVkB7f93/xr/Sv5g/gj/bf/F//EAaAFjAMj/wACI/jX/CAAZ/9wAIAH6AFkAAgEsABf/RQAfADv/fQGiAT8A6QB9AD//3f4M/2/9Zf79/+3+if57AJ4AwP/M/1b/av+v/7H/4/+EAJoBfgHOAFQBKwETARoApABWAFEAEQEL/97/FgBz/lv+P/8N/5L+IQDa/0X/twCA/2r/owCK/xIAMAH0AFkASQGuAAb/6P9s/zT+l//j/y//hgGhAYAAjQFXAhYAD/+8//H9iv0v/o/+yf4pAF4BNQGLAbUBAwEiAGH/8v98/7b/rgGCAa4A2wGAAYf+M/9W/7j9W/56/9L/RQAzARMAlf+HAMH+aP2c/wsA4v7lAIgBuQHjAUIBiQBPACUAg/40/5D/o//k/1kAOgAcAG0AZv++/8v/Bf8QAFEAZv9bAIQArf/j/+b/kACo/6j/MwE5AEwAegA5AB8ARwAt/yP+mv8+/7/9vP62/23/kP+4AMwAVgAOAVMAwv/8/8f/9P/o/zoAmAByAK4BtgBPAMkAZACx/3H/MQG8ABEAgAFaAgEAewCTAGP+Nf8w/939A/8CAXT/qf+2ADgACv/7/mj/Q/5Z/2AAVABHACsBbgGA/0L/Af+r/aH+g/7B/lgAnwH1AGkBOQIrAdMAxv9OAJ3/CwC8AGQAfgFfAuYAagGhAf7/dQCn/8j+nf41/7v+6f49/17/uf8u/8P+nf6P/sb+iP5F/3f/KwAAAU8AfAAWAE4Ax//i/qD/pP/P/4wA7v/fAM0A1gCjAPT/MQAwACUAEgCjANIApgEoAmQBpAEuAnEAKwB+/yr/Gv/8/p7/j//B/zoAlP8F/0X/dv61/gb/mP+w/s//+ABl/0//DQABALr+mf/W/1v/bgDFAGkAigCPATcBTQCeAJgAPwA9ANsAXgCGAKEBuABHAIkAdgB+/yj/Lf9w/6r/nf9RAIQAswAGAFwAwv/l/i3/Pv5t/nn/r/+x/48AEgEDALv/u/+0/q/+HP/s/gr/ZADN/7P/qQCy/zoAvABOAFYAAAF9Aa4AHAF5AYoAVwBHAOT/u//y/+r/gP98AKgA5P9gAAwAEQA9/47/1/8V/08AYwArAB0AawBZAED/lf+f/7P/LABY/6D/KgCz/zj/Mv9v/2f/2f8VAF4ABwEnAdwAcQC0ABAAef8gAJf/2//DAMkAuQAOAZoBXgDD/xAAHv+e/qL+9/6d/6//1/8vAM//2/9d/2n+yv69/1f/uf/1AEkBagGVATYB+P84AKL/ef7t/oP/gf9NANIAqQAAAQoBKgCi/6T/Fv+5/7b/cP8NAMMA3QCBAM4AcQDa/wEAaP83/yEArv+q/y8AvP9P/5T/Zv8K/tL+MP+q/vL/kwBPAEkB2AFTAMcA8ACx//n/7gA1ACcAcgGWAB0AQgCY/x//3v8z/1v/VAAMAKgAuwAuAAgAUgDs/gv/nP+y/sv/+wBDABgAogG3AKf/NgBA/6z+Z/+z//H+KwC1AfgAOgH+AEoAOAA4/7T+CP8h/57/PQAwAIUAiAHGAM3/NQDz/zX/yv8EAJ3/IQDnAL4ABgDOACAAjf+9/3H/CP9r/9//fP+v//T/EABq//L/t/9Z/9z/6v+Z/+3/bAA9AGkAfQBTAJQAuAB6AEAAFwBAAMH/4//K/ykADQDU/0QAEADW/+T/AQBI/9n/DgCg/8v/WwCy/7v/hgCe/5//TgAQACv/CQBmAD//y//y/2j/3v/p/1v/yP82AG//8/8mAFgA3wDRABwBDwEZAUgAMADI/4n/2f+4/wcAhgCbAGMARQCq/xX/zf6j/kD+Zv/1/+//6QD7AJsARQDV/z7/av+2/1T/CwCtAIYA1QCdAEAA9P+4/zv/FP+X/7n/QgBhALcAWgHwAA4BhwAbAGEABACc//n/SAAkAJUA5gAxAEcAhQBl/1n/qf9H/yH/VgBKAKz/0gBoADD/y/87/2H+oP4j/9v+hv+xAEAAAAHNANcAawBIADAAxv/v/wwAQwD4/wQAaAACAHH/AwBx/zv/vv8QAJr/2v9/AAwAPgBOANr/BAABAAAAAABUAFsAbACOACUAXQDX/xD/AP9O/7n+Kf/h/+//OQAcAXoA+f9EAMP/bf/l/0wA2f++AAwBBwH7ABwBSgCv/7j/ev8m/z//wf/6/wsAMQBsABoAAgCf/0X/6P5Z/yD/Jf/y/1wAbgC8AOsApwCqAEkA8P/g/yQAAQAWADUAggBdAPr//P+l/1j/Vv+k/4n/EwCpAGcAQgB7AE4ApP+7/5f/iv/v/10AdwCVAN0A7wBhAN7/u/90/zL/MP9//5D/TABEAAEA6P///7z/Uv96/1n/2/9SADQATADRAGEA4P8sAAgAyv8rAC8ANgC5ALkAFgBDAFkAgf8m/4H/JP8t/+j/tP+8/4EAkADC/y4ARwCI/7H//P/A/wQAngCJAGQAsQB3ABIAAQD//4//Zv/y/+j/o//w/ycAwP/N/+n/e/+d/0cA+P/Q/5gAmQBSAOYAyQAlAGgAWwDa/xoAEwCz//P/9P+t/97/n/8p/4r/jf9C/9D/SgDz/0kAjgAnADkATgDb/7P/7v+0/7P/JAAqADkAhACFAHEAggB1APr/3P/V/5D/fP+x/+j/3/8fAEMAAwAYABUAmP96/6X/V/93/+H/6P/p/2EAZAAIAHYAOQDW/wYA+P/D/wEAZgAvAEIAhwAgAAcA+f+n/2j/nv+q/4T/1v8RAC8ADQA0AD0AJgBkAGcAKwBdAKIAOAD//z8AAQBq/6T/vf87/8z/TgDB/w4A5QBPAOX/cQAaAIn/o/+s/3n/1v9WACEATQC7AH8ALwAaAPL/xf+J/4X/o/+2/9b/DgAmABwAUwBgAB8AFgBRAAQA6v8VAB0A5v/w/xYAzf+5/8L/xv+l/6r/pf+k/8L////6//X/7v8hADAA+P8zAEQA/P8hACcAr//H//L/sv+g/+r/AQA2AHAAdQByAJYAbQBMACYAvP/r/wMAy//c/yIAGwAIABUA///p//z/6v+7/9L/9f8aABsAHQA+ADEAHwAGAOD/zf/t/+D/z//k/wQACAD1//z/BwDW/9D/7//G/63/BwD+/9f/NgA6AAQAOwBsADQAXgB8AEQAOwBAAAIAJQAcAMX/1v/N/6P/xf/R/2z/uP8dAMj/yP8JAMv/ov/V/7j/av+7//r/z//t/0AANgBDAGkAMQAYADQAMwAfAAAAGwAkAPj//v8EAOj//P8hAO//1f8gACwA7/8IACcAAgAYAB0A1P/p/wsA4f/a////+v8kAFYAFQAEACEA6f+f/6P/oP+d/8r/BwAOAEoAhwB7AHEATwAlABIA4P/P/8X/2f/8/zAAVwBeAE8APwAqAN7/tP+y/7f/uf/m/wsAEwA5AE8AAwD9//z/uP+7/+H/1f/b/wQA8v8CACEA+P8SABsA5P8lACUA3//0/xMAov+i/9v/gP9///n/yP/C/1YAMQATAIQAeABIAGgAOwASABoAAgDz/wgA/f8VACoA/f/r//X/0P+t/7n/pf+i/9H/7v/e/wEAGgAYAEQAUwBYAIQAlQBnADkAKwABANf/1v+s/63/8P/X/8H/4f/Z/8r/3/+4/7b/AADw/8j/8P8DAPP//P/+/w4ASABbAEUARQBcAGkAOQD6/+b//f/w/9H/0v/R/+j/7v+x/6T/zP++/67/zP/5//j/AwAhABUADAAWAAQA3P/y/yEADQAqAHIAhwB7AJYAjgBOADEA+v+7/6f/tv+z/7H/t//W/wMAAgD3/w0ACAASACIA/P8AADgAUwA/ADYAFgABAAMA1v/D/9r/1//a/9z/2f/z/+X/mf+B/3z/if/C//X/FQBiALIAlQCPAHwATgAvAAgA0P/D/9v/2f/w/wEADAAwADoALwAnACkAGAAGAOT/wf/K/7j/rf+Y/5P/t//L/9H/3P/6/yAASABTAEAAPwA2AAcA7//e/+T/AQAkADMAVABiADQAEADp/7H/jf9q/1T/hP/V/wAAKQBoAHsAggCAAEoAGwD6/9X/xf/N/97/+v8gACQANAA7AAMA7//S/6P/o//N//D/FwA7AEMAQgA6ABIA6//Z/7j/y//5/wEAEAA9AE8AQwAmAPn/2v/G/6T/hP+Y/73/9f8SABgALwAsABUA8v/V/8r/zP/r/wgAHAA9AFMAUgBDAB0ADgACAOP/2v/p/wIAEgAqAC4ARABTAC4AEQD//+7/5f/k/+r/9//0//L/6P/X/9D/2//F/73/2f/r//P//v8HAAsAGwAnAAsA9P/4//X/+f8IABsAJABJAF4AXQBKADYAMQAXAP7/4f/e/+v/5P/a/+r/9f/1//X/4//N/8X/uP+i/4v/lP+z/8X/2f/p//r/AQAGABwAJgBCAEwAWQBZAFcAaABAACwALgAkAB8AHwAgACcAQwAvABMACAD1/9n/zf/q//n/AQALAAkABwASABAAAAD4/+7/9P/v/+n//v8GAAkACAD6//r/AAD9/+r/4f/o/+H/6P/w/+//BgANAA4ADQASABIAEgAaABsAIAAuAC8AKQAdABYAEwD+//f/9//w/+T/9f/4/+7/9f8AAAkABAAEAAgABwAEAAQABAAJAAcA+v8EAAIA+v8DAPz//f8EAAcABAAEAPn/6P/v/+7/2//p//D/7v8AAAkABAAOAAgAAgAIAAEAAwD9//7/CQAYABoAHQAiABAABgABAPX/8P/4//T/9//+//L/8v/1/+7/8v/1//L/+P8EAA0AEwAgACkAKgAxACEADgAGAPf/6//j/9f/6P/1//D//P/+//7/CQD8//D/5f/a/9X/zf/K/9L/7f8EABAAEAAcACIAHwAgACIAJAAmACUAJAAuADAALwAsABYACQD8/+H/z//D/8P/zf/Z/9L/1v/t//L/5P/a/9b/5P/q/+H/6v///wsAHQAuACEAGwAbAA4ACwALAAIACwAQAA4ADQAOABAADAAJAAQAAQD6//7/BAAGAAEABwAJAP7//P/9//z/8//m/+H/4//u//L//P8IAAsADgAQABIADQAIAAcACAADAP///v8CAAMAAAAAAAAAAAD///7//f8AAAIADQAOAAQACwAVABcAGAAaABUAFwATAAwA/v/1//T/9f/r/+P/7//3//T/7v/y//f/+P/1//T/9//5//X/9f/+/wIABAD///3////9//n/+f/3//r/AgAGAAYABgAGAA0AEgAOAAkAAQAHAAYA+v/8////BAACAPf/+f/6//f/9P/4//z/9f/y//f//P/4//n/+f///wIA/v8CAAIAAgAEAAMAAAABAAAA9P/r/+//8//1//j/AgAEAAEAAQABAAIA9P/r/+v/5f/t//X//v8QAB0AHAAfACUAGwAQAAgAAgD9//P/8v/+//7///8JAAcABwAGAA0ABwABAAcADgAVABYAFQAMAA0AFQAMAP3/+f/6////9f/4/wYAAgACAAEA/f/8//T/7f/t//P/+v8GAA4ACQAXABwAEwABAPf/9//t/+P/4//t//3/DAALABIAEwAWABEABwD+//j/+P/t//D/8//8//////8AAPr////+/wIA///z//r/AgAEAAIABgAaACIAFgAJAA4AFQAIAP3//P/3/+v/3P/c/+P/5f/o//P///8AAP////8GAAgAAQD//wAAAAD9/wAA//8EAAwACAABAAcABgAAAPf/9f/6//n/+v/w//X/AwAHAP//AAAEAAkAAwD3/wIAEgD6//r/CAAHACQACADr/xoAKgD5/8r/HQAYAO///v/4/wgAAAAaANX/9P8bACwA4/+0/zoAQwDg/6T/MQBIAOD/wv8bAD0A9f/Z//n/JAD0/+H/+P8IAPz///8AAOr/AwAXAPX/6/8HAAkA+v/1/wIA/f/6/wAA/P/0//r/CAD4//f/BAAIAP3//P8GAAQABwAMAAsAEwAlABMACwASABUAAQD3/wEA///1//r////9/wEABAACAAEA/v/+//j/9f/9//n//P/6//r/AwAHAAIA+P/6////8//p//f/AAD9//r/9/8AAAQAAQABAAIACQACAP//BAABAAAAAQAGAAgABAAIAAgAAwACAAgA/P8BAAkACwD6//z/AwAAAPP/6P/9/wcABwABABAAHQAOAAYAAwAHABAA/f/1/+7/+P/6//j/9f8IAAsA/v8AAPz/9//u/+T/5f/k/+v/DAADAOn/AgAIAAMABAAEABMABAD//wIAAgARAAwAAAAVAAQA/v/6//L////8//D/6//0/wIAAgD9/wEABgAIAAkADAAWAB0ABwD6/wIADQALAPj/AwAQAP//+v8IAAMA8v8GAAsA+f/1/wEABgDm/9z/BwACANf/7/8JAO7/3P8AAA0A+f/+/wQA///6//n/BAAMAAkADAAMABIABwAIABMABwDu/+v/BAD6/+r/+v8GAPn/+f8MAAEA/v/+//X/6P/3/wYA+f///w0AEQADABIAKgAbAAgAFgAWAPT//v8YAAkA+P/4/////v/r//D/AAD0/+3/8v/+//D/5P/4/wYA9//u/wQAAgDm/+j/FgATAPD/AgAnAA0A7f8SACIAAgADABgADQD9/w0AGgADAAMACQAEAPD/6v/0/+3/3//v//r//f8LAAMABwAIAAYA/v8BAP///P8DAAQAAwAJABYADQASABAABgD9//r/+v/u/+j/+v/4/+v//P8CAAIA/f8IABEAAQD6/wAA+v/w//D//v/1//P/AgD9//z/AgADAPn/+P/0//T//f8DAPj/+f8OAAgA/P8CAAQAAAADAP3/9//0//L/8//z//z/+f/8//3/AwASAAkABgAHAAYA//8CAAkACAAJAAsACAADAAwADQADAA4AHwAWAAsAEAAbAA4AAAD//wEA+f/4//X/6f/0//3/AgD//wQABwADAP3/9//+//3/+f/z//j/9//1//3/AAD6/wAABwD///7/BAANAAAAAQAQAAYAAQADAP/////3//T/AQACAP7//f8AAAgABwAEAAQADQAGAP7/AgAAAPn//v8CAAIAAAABABMACQD5////BAD9//L/9P/0//X/+P/9//////8CAAsAAQD9/w0ACwD+//r/+P/z//f/+P/v//r////9/wIAAwAGAAYACwAIAAQABwD+//n//P/y//L/9P/q/+r/7f/u//f/AQAEAAMABAADAAIABAD///r//f/8//f/+P/8/wIACQAIAAsAEAASAAwADQAMAAMABwD///3/AgD//wEADQAHAAQAEwANABMAEwAIAAwACQD9//r/9//t/+b/3P/Z/97/3//f/+X/6//0////BwANAAcACAAGAAQABwAGAAMABgAIAAwADAANABYAGgAaABMADAAMAAgAAgD+//3/BgAJAAkAEQANAA0ADgAMAAEA8//3//P/8P/1//X/9f/4//j/9//9//r/9P/y//D/8//z/+3/6v/y//r/AQAAAAEAAgACAAQAAAD9/wEAAwAHABMAEwAYABsAFwAcABgAEQAGAAEAAgD5//j/9//y//L/8v/p/+r/7v/m/+j/3//e/+H/4f/q/+n/7v/6//7//v/9/wIABgAEAAcACwALAAgACwAIAAsADgANAA0ABAAIAAsACAAGAAgACwAIAAgAAwAEAAMA/f/8//7/AAD5/////v///wYAAwACAAcAAwAEAAEA+P/9/wIAAAD///3///8AAAIA/v///wAAAAAAAAAABwAIABEAEwAVACAAIgAdABgAHAAWABYAEQAIAAQAAQD///j/9P/y//L/8P/r/+b/5v/r/+j/6f/q/+//+P/4//j//v8AAAAAAAD8//3//v8AAP3//P/9//z//f///////f/5//7////+/wAAAAACAAQABAAGAAkABgAEAAMAAgAEAAAA+f/4//T/+f/+//j//P8AAP7/AwACAAAAAwACAP///f/3//T/+P/3//j//v8AAAYACAAEAAsAEwAOAAkABgAGAAQABAABAAEABAABAAAAAgACAAMABAABAAEAAQABAP7//P/9//n/+f/+//3///8EAAQACwAMAAcADQAOAAcAAwAEAAIAAwACAAMABgAIAAkABwALAAgABwAEAP3//P/8//n/+v/6//r/+v/6//n/+f/6//f/9//6//n/+P/8//3//v8AAP///v8BAAMAAQAAAAAAAQABAAIAAgACAAEA/f/9//z//P/8//j/8v/5//z//P8CAAEAAgAEAAIA///+//7//P/5//j/+v/6//7//v8AAAMAAwADAAEAAQABAPz/9f/z//P/9P/1//////8BAAkABwAIAAcABgAIAAMA/f/+/wEA///+/wAAAwAHAAcAAwAEAAYAAgACAAAA/v8AAP7//P/8//3//f/+//7//P/8/wAAAgAEAAgABwALAAwADAAMAAYAAQACAAEAAAACAAMAAwAGAAcABgAHAAgABAABAAEAAgACAAEABAAHAAgADgANAAkABwAGAAIA/P/4//f/+f/6//n/+v/8///////6//3//v/5//n/+P/5//r/+v/8////AgACAAQABgAJABAAEAAQAA4AEAAOAAwABAAAAAQA/v/9//r//P/9//r/+P/1//j/7v/p/+n/6f/m/+T/5P/q//L/8//8//3/AAAAAP//AQABAAEA/P8AAAIAAwAHAAkABgAJAAsACQAJAAkACwAIAAYABwAIAAYAAwACAAEA//8AAAAAAAD///r/+f/3//T/9P/3//f/+f/4//z/AQACAAMABAADAAMABAAGAAcACAAHAAkACwAIAA0AEAAMAAwACwAHAAgADAANABAADQAQABMADgALAAwABAD+//3/+P/3//f/9//3//X/9f/0//f/9//0//P/8//1//n/+f/+////AAAAAAIABAAGAAYABAAHAAQAAgAAAAAAAAD///7//v8AAP7//f/9//r/+f/6//z//f/6//z//v/8//z/+v/4//f/8v/u/+//8P/1//j//v///wMABwAHAAgABgAEAAQABAACAAIAAwAEAAYABAADAAIAAgD+//7//f/8/wAA/v///wIAAgACAAMAAgD+/wEA/v/+/wQABAADAAQABAAGAAYABAAEAAMAAgAEAAcABwAHAAQABAAEAAMAAgAAAP/////+//7/AAACAAAAAQAAAAAAAgABAP7////8//z//f/6//7//f/8//r//f8AAAAAAwACAAYABwADAAMAAwADAAMAAAD+////AgADAAEAAwAHAAcACwAEAAIAAwADAP///P///wAA/v/8//z//f/6//n//P/6//z//P/6//r//P/+//3/+v/8//z/+f/6//r//f/9//3////+/wAAAAD9//z/+v///wIAAgADAAMAAgACAAEAAAAAAP//AAD+//3//v///wAAAAABAP///v/9//3//v/+/wIA/////wEAAQABAAIAAQD//////v8BAAIAAwAHAAQABwAIAAgABAAEAAYAAwAEAAMABgAHAAcACAAIAAkACAAHAAEAAwACAAAAAQABAAcABAACAAAAAAAAAP///v/9//3//v/9//3//v/+//7//f/8//3//f/8//r/+P/8//3//v8AAP//AAD9//3//f///////f/9//7/AAD/////AQABAAIA///9//3//v/9//////8CAAQAAgADAAMAAgADAAEAAAAAAAMAAwAAAAAA//8BAAIAAQACAAAA/v////7//v///wAAAAAAAP///v////3//P/+//7///////7/AQABAAAAAQAAAAEA//////3//f////3/AAABAAIAAwD//wAAAAAAAP///f/8////AAAAAAAAAQACAAMAAgAAAAEAAAD+//3//P/9//3//f/9///////8//3//////wEAAAABAAIAAwADAAIAAwACAAMAAQABAAIAAgACAAIAAgACAAMAAgABAAEAAQABAAAAAgABAAEAAAD+/wAAAAAAAAAAAgACAAAAAAAAAAAAAAAAAP//AAD+/wAAAAD+/wEAAAAAAAAAAQABAP7//////wEAAgADAAQAAgACAAAA//8AAAAAAAABAP///////wAA//8AAAAA//////7//v/9//7/////////AAABAAEA//////3//P/+//3///8BAAEA//8AAAAAAQACAAEAAAAAAAAA///+//3///8AAAAAAQABAAAAAQABAAEAAwACAAEAAQAAAAAAAAD///7/AQAAAAIAAgAAAAIAAgACAAIAAAABAAAA/////wAAAAD///////8AAAAAAAAAAAAAAAACAAEAAQABAAAA/v/9//3//v/8//3//v///wEAAgACAAEAAgABAAAAAAAAAAEAAQABAAAAAgADAAEAAAABAP////8AAAAAAAACAAAAAAAAAP///v/+//3//f/9//3//v///wEAAAAAAAEAAgACAAIAAAAAAP//AQD/////AQABAP///v/+/wAAAgABAAEAAgACAAEAAQAAAAEAAQABAAEAAQABAAIAAQACAAEAAQD/////////////////////AAAAAP////8AAAEA/////wEAAgAAAAAAAAAAAP7///8AAP////8AAAAA/////wAA//////////8AAAAAAAAAAAEAAAAAAAEAAgABAAAA/////////////wAAAAAAAP//AAAAAP//AAAAAAAAAAAAAAAAAAAAAAAA////////AAAAAAAAAQD//wAAAAAAAAEAAAAAAP////8AAAAAAAAAAAIAAQABAAEAAAAAAAAAAAAAAAAAAQABAAAAAAAAAP////////7/AAAAAAAAAAAAAAEAAQAAAAAAAQAAAP////8AAP//AAAAAAAAAAABAAEAAAAAAAAA//8AAP////////7//v/9//3//v8AAAAAAQAAAAEAAAABAAEAAQABAAEAAQACAAMAAgABAAEAAAD///7////9//3//f/8//z///8BAAEAAQABAAEAAAAAAAAAAAAAAAEAAQABAAIAAgACAAIAAgAEAAQAAgABAAIAAQD///7///////////////7///8AAAAAAAABAAEAAAAAAP////////////8AAAEAAQAAAAAA///////////+/wAAAAAAAP//AAD//wAAAAABAAEA/////////////wAAAAABAAAAAAABAAEAAAAAAAEAAQAAAAAAAAD+///////+//7///8AAAAAAAAAAP//AAAAAP////8AAAAA//////7///8AAAAAAAAAAAAA/////wAAAQABAAAAAQABAAEAAgABAAEAAAABAAEAAAABAAEAAAD//wEAAAAAAAAAAAAAAAAAAAAAAP//AAAAAP//AAAAAAEAAAAAAAAAAAAAAAAAAAD///7//v/8//3//v8AAP////8BAAEAAQABAAEAAQAAAAAAAAAAAAAAAQACAAIAAQAAAAAAAAAAAP//AAD///////8AAAAAAQAAAAEAAAABAAIAAQACAAEAAAD//wAA/////////v/+/wAAAQABAAEAAQABAAAA//8AAP/////+/////v///wAA/////wAAAAAAAAAAAAAAAAAAAAD///////8AAAAAAAAAAP//AAAAAAAAAAAAAP7/////////AAD/////AAD//wAAAAAAAAAA////////AAAAAP//AAAAAAAAAAAAAAEAAQABAAEAAAAAAAAAAAAAAAAAAAAAAAEAAAAAAAAAAAAAAAAAAAAAAAAAAAAAAAAAAAD//wAAAAD//wAA//8AAAAAAQACAAEAAAAAAAAAAAD//wAAAAAAAP//AAAAAAAAAQAAAAAAAQABAAAAAAAAAAAA///+//7///8AAAAAAAAAAAAAAAAAAAEAAAAAAP///f/+//7//v/+/wAAAAABAAEAAQACAAEAAQAAAAAA/////wAAAAAAAAEAAgABAAIAAwACAAEAAAD//wAAAAD/////AAACAAEAAQACAAEAAgACAAEAAQAAAAAA/f/9//3//v//////AQAAAAAAAQABAAAAAQAAAP3//f/8//3//f///wAA//8AAAAAAAABAAEAAAAAAAAA//8AAAAAAAAAAAAAAQABAAAAAQADAAEAAAAAAP7///////////8AAAAAAQABAAEAAgACAAEAAQD//////////wAAAAAAAAEAAQABAAEAAQABAAAAAAABAP///v////////8AAAAAAQABAAEAAAAAAAEAAAAAAAAAAAD//wAA//8AAAAA/v///wAAAAABAP//AAAAAP//AAABAAEAAAABAAAAAAD/////AAD/////AAD//wAAAQD//wEAAQD//wAAAAAAAAEA//8AAAAAAAAAAAAAAAAAAP///v///wAAAAAAAAEAAAAAAAAA//8AAAEAAQABAAAAAAABAAAAAAD//wEAAQABAAEAAQABAAAAAAD//wEAAQABAAAAAQABAAAAAAABAAEAAQAAAP//AQAAAAAAAQAAAAAAAAD+//7///8AAP///////wAAAAAAAAAA//8AAP///v8AAAEAAgACAAAA/////wAA///////////+//7///8AAAAAAQABAAAAAAAAAAAAAAAAAAAAAQD///////8AAP//AAAAAAAAAAAAAAAA//8AAAAA//8AAAEAAAABAP//AQACAP////8AAAAAAAAAAAAAAAD/////AAAAAAEAAAAAAAAA//8AAAIAAAAAAAIAAAAAAAAAAAAAAAEAAgACAAEAAgABAAAA/////wAAAAAAAAAAAAD//wAAAAAAAAAAAQABAAEA/////////v8AAAAAAAAAAAAA//8AAAAAAAACAAEAAAABAAAAAgAAAAAAAQAAAAAAAQAAAAAAAAD+/////v/+/////v/+/////v/9/wAAAAD+////AAD//wAA//8BAAAAAAAAAP7///8BAAAAAQAAAAAAAQD//wEAAQABAAIAAAAAAAAAAAABAAEAAgADAAMAAQABAAAA//8AAAAAAQAAAAAAAAAAAAAAAAAAAP//AQAAAAAAAQAAAP///////wAAAAD//////////wEAAAAAAAEAAAAAAAAA//////7///////7///8AAAAA//8BAAIAAAABAAIAAAAAAAEAAQAAAAAAAQAAAAAAAAABAAAAAAAAAAAAAAAAAAAAAAD/////AAAAAAAAAQABAP7/AQAAAP//AAD//////v/9/////////wAA//8BAAEA//8AAAAAAAAAAAAAAAD//wAAAAD//wAAAAAAAAAAAAAAAAEAAAABAAEAAQABAAAAAQD//wEAAwABAAMAAwACAP//AAD///7////+////////////AAD/////AQAAAP///v////////////7//////wAA/////////v////7/AAAAAP//AQABAAAA//8BAAEAAgADAAEAAgABAP//AAAAAAAAAAAAAP////8AAP//AAAAAAAAAQAAAP//AAABAP//AAAAAAAA/////wAA/v/+/wAA///+//////8AAAEAAAAAAP//AAAAAAEA//8AAAEA/v8AAAIAAAABAAEAAQAAAAAAAAAAAP////8BAAEAAQABAAEAAgACAAIAAgAAAAEAAAAAAAAAAAAAAAAAAQAAAAAAAQABAAAAAAD//wAAAAD//////////wAA//8BAAAAAAAAAAAAAAD///////////7///////////8AAAIAAQABAAMAAwABAAAAAQAAAAEAAAAAAAEAAAABAAAAAQABAAAAAAAAAAAA////////AAABAAAAAAACAAAAAAABAAAAAAD////////+//3//f/+//7//v8AAAAA//8AAAEAAAABAAEAAQAAAAEA/////wAA/////wAAAQAAAAAAAAAAAAAAAQABAAAAAAAAAAEAAQAAAAEAAQACAAEAAgABAAAAAQAAAAAAAAABAAAAAAAAAAAA//8BAAEAAAABAAEAAgABAAEAAQABAAAA//8AAP///////wAA///+/////////wAAAAD//wAA/////wAAAAAAAAEAAQAAAAEAAAAAAAAAAQAAAP////////7/AAABAAAAAgACAAAAAgADAAEAAwACAAAA///+//7//v8AAP//AAAAAAAAAAAAAAAAAAAAAP///v///wAA/v8AAAAA//8AAAAAAAAAAAEA///+/////P/+//7//f/+/////////wEAAQABAAIAAwACAAEAAAAAAP/////9//7////+////AQAAAAEAAgAAAAEAAAD//wAAAAABAAAAAQACAAIAAQACAAIAAgABAAEAAAAAAP7//f/+//3//v///wAAAAACAAIAAgADAAEAAQD//////v/8//z//P/9////AAAAAAIAAgACAAMAAgACAAEAAQABAAAAAgAEAAQABgAGAAQABgAGAAQABAACAP/////+//3//////wEAAAABAAEAAgAEAAIAAgABAP///v/8//z//P/9//7//P/9//7//P////7//P/+//3//f/+//3//v8AAAAAAAAAAAEAAQABAAEAAQAAAAAAAAD+//////8AAAAAAAAAAAEAAgABAAEAAgABAAIAAQD//wAAAAD//////////////////////////wAAAAAAAAAAAAABAAAAAAAAAAAAAAD//wAAAAAAAAEAAAAAAP////////7/AAD/////AQABAAEAAQABAAIAAwADAAMAAwACAP//AAD//wAAAAABAAAAAQABAAEAAgACAAMAAQAAAP///////////////////f8AAAAA//8AAP/////+//7/////////AAD//wAAAAABAAEAAQABAAAA//8AAAAAAAAAAP////8AAAAAAAABAAIAAgABAAIAAQABAAIAAAD///////8AAAAA/v8AAP///v8AAP////////3//f/8//7//v///////v8AAAEAAQABAAEAAQAAAP/////+/////////wAAAAABAAIAAgACAAQAAgACAAMAAgACAAEAAgACAAAAAAABAAAAAAAAAAAA////////AAAAAP///////wAAAAAAAAAAAAABAAAA////////AAD///7/////////AAAAAAAAAAABAAEAAAABAAIAAQABAAIAAQAAAP//AAD///7//v//////AAD//wAA//8AAP//AAAAAAAAAAAAAAAAAAABAAEAAQACAAEAAQAAAP/////+/////v////3///////7///8BAAEAAAABAAAAAAD////////+/wAAAAD//wAAAAAAAAEAAAABAAAAAAAAAP////8AAAAAAQABAAAAAAABAAEAAQABAAEA//////7//f/+//////8AAAAAAAABAAAAAQABAAAAAQAAAAAAAAAAAAAAAQAAAAEAAgABAAEAAAAAAAAAAAACAAIAAgACAAAAAAABAAEAAgACAAIAAQD//////////////v/+//7//v8AAP//AAAAAAAAAAD///////8AAAAAAAABAAEAAAAAAAAA//8AAAAAAAAAAP///v////7/AAABAAEAAQAAAAEAAAAAAAEAAQAAAAEA/////////v/+/////v/+//7//v/9//3//v///wAAAAABAAEAAQABAAEAAQABAAEAAQAAAAAAAAD/////AQAAAAAAAQABAAIAAQACAAEAAQABAAEAAgAAAAAAAQAAAAAAAAAAAAAA//////7//v/+/////////wAA//8BAAEAAAABAAEAAAAAAAAAAQAAAAEAAQAAAP//AAAAAAEAAQAAAAAAAAAAAAEAAAABAAAAAAABAAAAAQABAAEAAQAAAP/////+//3//P/+//7//v/+//7////9//7//////////v/9//7//f/8//7////+///////+/////v8AAP////////7////+////AAABAAIAAgABAAEAAAAAAAAAAAAAAAAAAAD//////v8AAP////8AAAAA///+//3//v////////////7//f/6//r//f/9//7//v/9//z//P/9////AAAAAAAA/v//////AQACAAIAAgABAAAA///+/wAAAgACAAQAAwAEAAMAAgAEAAQABwAHAAcABwAHAAQABAAEAAYACAAGAAYABAADAAQABAADAAMAAgABAP////8BAAAAAgACAAAA///9//z//P/5//z//P/9//3//P/6//n/+v/8//7//f/+//z/+v/8//z//f//////AgAAAAAAAgACAAQAAgADAAIAAAAAAP//AAABAAIAAwACAAEAAgADAAEAAQACAAAAAgD//////////wIAAQACAAMAAgACAAIAAwAEAAQABgAHAAgACwALAA0ADQANAA4ADAANAA4ADgANAAwADgAOABAADgASABIAEwAXABMAFQATABMAEQALAA0ACwAIAAYAAgD+//r/+v/5//j/9P/w/+X/3P/b/9f/1//Z/9r/2v/X/9f/2v/W/9f/1//V/9X/1P/P/8f/wv/A/73/vf+4/7P/qf+Y/4v/ef9v/2r/Yv9e/1j/SP87/zf/M/87/0f/Uf9j/2//hv+u/9b/CQA5AGEAhACuANUABQE4AWMBiwGgAbkBzAHXAeYB8QH3AfQB7AHgAdMBwAGmAYoBbgFRATIBEwHxAMYAkwBgADAAAADS/6L/b/8z//P+uv6C/lT+Lv4P/vD90v22/aD9kv2D/X39hv2f/bn9v/29/b39xf3l/RD+Pf5X/mX+ev6T/r7+3f7z/gL/FP8p/zv/QP8+/1L/aP+G/6T/uf/N/+b/BgBFAIcAvQD7AC4BhgHiATgCnAL5AmMD5ANVBMgELQWMBf4FZQbWBjcHewe9B/EHMwh4CJEIgghUCAkIywd8Bw0HgAanBdEEAAQvA3kCoQGPAJT/gP6v/dX83vsC++n5/fgq+Fv3n/a29av0wfPl8j3ytfEf8ZHwF/DA777v6+8J8FfwiPDc8IjxCPLW8qXzS/RS9S72Y/ei+JD5v/rW+xj9k/7r/10B7AJOBPMFWQe/CEoKxQteDaoOlA9dECsR/xH2EpoTPBRlFGcU/hSsFX4WIRcWF3gXgxgDGu4bCRxaG84Z2hfxFxAXchXdEiwOfQtiCTwIowdfBL0Ba/4g+9v5fPeL9ObwF+yC6D7lgeIJ4C/cxdgX1i3UatP40tHRZNGv0S3Tz9X718TaYN0Z4NDjSufJ6kDuafAh8+v1tvgh/Nv+rwECBJAG5AkvDZQQlhP5FSkYgBo3HGsdtB4EHzQf0x4dHs0dPRw/G04a6RgKGPsV0BP+EaEP3Q0RDJsK/QjeBtcF4gRQBIQDxAItAkcBpwCG/zr/7v6n/jP/Uv+MAPEB3wLzBQUJKAzjDswPZxBTEOMRwRJfEscQ8wzBCjkJiAivB9IENwIW/2j8z/su+g/4MPS078/sEuoC6VXmuOLR36TcLduO2tPZcNiW1tbWstjY2gLd5N4J4bjjIecU6tzsdu8U8eryG/Xh9oz44vmy+139H/9UASQDTAUMBwAJDgsaDRIODA/uD2sQZxEiEWgRxBF3EboRwBFKETARlhCjEPEQbxCMEDQQKxBtEPEPFhDeD6MP/A6IDl8PcA/VEJoReRLxFDAXfBsuHzsgRSFvH5cf1CJuIQwhBx33F+gVYBJIEvkPbgsICP8B2f0r/N33BfTj7X3nJeOv3STai9Wiz87K1sbHw+HCQMEav3i+Ob7FwJvDS8anyu3NvNHT1i/ctuIi56bqOe6g8Wn2G/pF/XoAvAIIBsIJUA23ENgSuxXKGBQckB59HxcgJiDGID4hbyGdIFge7RzuG8EaRRpFGEYWkRSPEqcR2w/MDqANewzEDCgMagttC0EL5gq5CpwJNQllCUkJnAorC4kMjQ/tERMXxBuCHXogGyBdIEcjYyJ4InQeOBmXF7IT+BIvEK8KQgjuAnD+b/w9+Ob0MO/q6GzlYOAx3R3ZRNNtz4zL98ePxvTEOcLiwJjAMML8xDvH4sosz0vTbdkb3jvj9+iF6/TvYPTX92/8gP4OARME+AUHCmEMfQ5YEWsS9BSLF1oY1hmlGmYboRxJHKMc6Bu5GhoaCRnYFzkWvBPJEXUQ9w4DDhQMtguJC58LhQy4DG0NwQ0KDmkP8Q+iECgSqRFNE2UUmBVlGUkcHSFUJf0mbykgKSQpDizqKikqDCYKIPsdnxoUGcoVoQ9yC8gFegCf/Sf4GPMS7drleuEr3JjXK9KPyzbGPcEpvSG6UbeCszixAbFsslO1urcTuyC/vcO+yR7Qy9Y73Tvhy+Qh6h7v/PNQ93v6W/7CAWMF+AhfDLwPnRKDFKgXKxr9G18e7h8ZIsUi6SLVIzgjRyNIIpggoh8LHQ8bKRlaF10W0BOGEZgQxg8rEB8Qyg8+EDgQzRA/EYcR4hGgEfkQBBFXEvATTxZcGbUcdSDPIpokFiTeI6glVSQtI/0esRnFFisTdBFiDiAJyQQH/9D5Cfdc8tjt1+dR4Tfd0dgb1QjQn8oRxgXCrL7bvN66u7e4teq0JrdeuoS9u8ASxGfJ9M/11hveHuPM5v3qkPAx9jL69fw9/10CfgWYCN8Lfg72D5wRNhNeFqsYSxlxGgMbKh1HHnMeRx9yHvMdax1RHKQbZBl1F+EV4hR5FKYSEhEFEF8PUA90DyoPUg8vD4UPoxD6EMwRGhI5EiMTIRXmFkYaAx2jIHck8CV5KKYmgiecKKon5Cb4IN0c4RguFRsUZg9aCpgFKP6g+jP3l/KB78jne+Lb3vXZ9dZk0ZnM5Mf6wl7AE767us629bOxtEG3Tbn0uyq+XsIzyE7OVtUq3O/gV+WD6nfw7vb0+ez8EgAVA9cG+AheC9UNKg8RERkTCxaWGMoZ9hspHZQfayBUIQojqiLoImoiNCE9IBsephvwGncYgRZJFOERDxJeEZcRbxFYEMIQpRB/EOUQqhBREX4SYBIKFJQVkRevGp8etCKjJf4nZChAKO0oiyjTJ/4kZh3AGWwUgBFvDhwIqwIq/EH3tPNn8IrrtOb14EPeiNsh2srUEs+PyzbGa8XSw2W+hru8uKW2+rZcuP650LpRvuzBF8j2zHnVx9z74LLoBPDO9qX8HwCjA3UIMApUDrgQgxHxEsMTQRaWFxsZ9hiJGJ8a3hsJHb8dlRzFHAQcehpuGxoZdRfUFQITvxHsECsQzA0DDQQMJgvmChUK4wnzCZ4KUQtzCxwLTgqqCr4K3wu1DlESZhe+HvMmUS+6Nqk65j6OQE8+AToSMAsn6R1GFvARggq9BNT61fHZ6sPiEdtV0anGkb7+uP20p7S2siq0ObcvuA28NsEWwojBU8LDxLLISsxi0I/Uh9nr37Pmfe0Q9G768f6VATMIoQ6WEvcVGRiSG8MdeB3JHXYdYhqgGK0WyhPnEkgQew3BC0UL7gk5CB4H1QXSBQ0FzwO8At7/J/4x/j78TP6i//P/FAJkAgMFSQcPCH8KogxFDaMP/RDdEUwTpRQ1FgQXGBqLGr0czh/8ImkqMS1nMYA0eDS7OQg6ZjpCOYoyYDCwJv4gDRuNDyUH2Pgz7rnjRNeGzM6+6bIbrE6lcqLFoHygS6Qjp9it2rW3vETF38qK0DXYld0E5D/oFu3H8nn37P3hA4oK1A72EY0XBhwwIBUjOyLHJFQk5iFMIeIcgxmsE2gOnwlzBLEAV/vv9rX08vKh8UvwVe6q8FfxSPPC9nv4VPxV/nIBNAUgB6oIGArxChsMEg66DqoOIhEAE30UnBbSFyIaKxuFHGQdUh+8IHshdSOBJSQroy8eMwk3oTgvPPw+bDxlPf83WjKFLJgflxkwDZcBlfRq5BrZtsgivLKu56BzmgKRt4wNjI2LmpMRmP2fiqyWtvbEps4u2S3nK/Cs+jICWgp7Ez4XFx0iINYjTSehJZ0oHCnFKLcpxiWMJREjth6sG1AV1BCPChkCwPuG9N3sfOas39HbZtlw17LXcNip3IThQufE7Vf02ftFAdcHoA8+FbQaWh/NIegkrSduKG4ohChdJ4smiyXFI4cicyFHH6IdSR3sGtwZ8RezFpoX8Rc1GfIYzRhfGcMaNBoVGv0YsBQnEioN/QjZAy/9EPZA7pHn+t9S2ePSWcpexIq/x7lbuG+1CLatt4a5mr90xBTLBNFb13HfxeUC7Inx3/VV+zv/GwNfB+kKUw2lD3MSpRRHFrYWKBeVFvkVlBTVEscQ7w1YC/QHzgSmAWD9M/mk9iL0iPMf8r/xGPQW9bD4lPxzADEFaAmqDRoS7hUgGTAcnR4SIFghiCLdIe8h5yHGH/Yfix5fHMQaIhd8FpUUlBJaEeMOtQxVCt4IuQcFBmQEywLOAfL/g/8xAD3/5P47/sL87PrX+YL3K/bi9KLyn+9w7qfsWurB6C7l3uL43/3c1dps2YzXZtbM1fTWsNjs2qncHN+B4iXlNel27ULxRfTp99z6fv2JAGsCLQRmBUEGrQe5B2kIsQhoCP8HZghzCIMHggfwBsoFEgZaBUgFiAbfBTsH3gdHCQwKAQsDDYANRw8PETwRfRIVE74TThQ6FDIV5hNnFKITJRLWEX0R2xAqEF8PgQ1XDXoM0gpnCkMIZwbUBRADKQKc/3H9Nv1G+yP7MfqY+iT7Qvp0+537oftq/Db7R/x0/Y/8Sv2G/WT96vwO+5j5ePeT9DnyFe4W7Ofp8ebc5QzlNuSo42jj9+Pp5eblcueC6WvrVu2W757xLfK+8yn2QPek9wT5zvli+mz87P1+/pr/zgA9AlQC3gSeBmQHDgqsC/gNwRA7Ei8USxWdFREWQRV3FR8VihQYFLQSjhLrESARQhHjD/gPnQ9QDyAPQQ4yDiENCgz0CmsJQQicBeUCXwE6/6X9L/uE+Rj4Hffv9of2n/Zl9xP3U/e2+Dr5tvm/+Vj6g/rh+lX7Svur+zT7NvqY+pj6X/qq+r76a/tR/PH8Of5A/x8AYACYAAQB1wAhAXIAYf+S/ln+dv1I/I/7HfsK+rr4JfgX94H2S/Z/9Rb1rPVV9Y318PUb9l/3jPd1+IX5kfr5+138O/70//EA7ALFA9IEuQW7BYIHeQeeB1kIEgdnB6EHBAfuBhsHRQhRCGAI4Qj5B8kIywi+B78HAwdbBpYFbAQgBFYD/AFiAT8A2v8p/zf+aP4k/if+2/25/o//SP9uAMEAiwBWAd0BcwJ+AhUDDQREA2cD2QMYBAQEjwMFBCEDEAJGApwBTAGCAMD/AgAv/+n+TP4J/iT+Ev23/Jj83vso+1b6evl/+Nr3HfcR9tb1EvUS9DH0RvR89ET1c/Zm9334DPpa+zb9nf55/6IAMAGrAZICQAPQA2kETAXUBS0G+ga+BycIRwjxCFsJ6QjFCPEIPgg+B3IGZAX5A3sCZAHHAI4A4/+s/6//df+u/8//7f/z/8j/l//9/qb+o/56/pv+Uv6j/mT+Hv5r/rv93v36/a/94P0M/sr+KP+I/7sAgQEnAi4CmALQAmQCVwIqAtYBuQFWATgBhwEdAQMBOgH+ALIA0wB/AAEADACd/5j++f2g/en8VvxX/Oj7yvu8+9P7GPww/Lb8rvwn/bn91v0u/nv+bP8xADoAYwFnAiEDegMYBN4EMARtBDcElANSA3sCfwIRAlACkwLjAcoClgJZAucBzACgABb/M/4K/ff7MPzT+pX6FPs++577D/xB/VT9U/0b/sr9n/2I/fv8bPxR++X6zPqL+sn6j/tj/BP93f0k/wkAWACnAPkAVgHLAIsA7gBMABMAWQCEABEA1f/lAOoACAHNAYQCCANZAxIETQTkA70DMQMHAgcBfQCS/1b+YP7U/uL+oP/WAIoBIwLGAlYDCwP7Ah4DCwJEATsBFAGOAJkAcgHbAWoC9AL+A7YEIgW1BVQF/wSfBMoDeQIoAlcC5QFgAQoCHQJuATsBfQCZ/y3+TP3H/G77jPsl+076r/pE+iL6d/nl+Ff4IvgZ+D33cPez96b3ffgR+ZD5h/oq+xL8fPzm/I392fzk/H39Jf0W/Yf9fv6U/i7/1P/b/xoAEwCpAFMANACqAHUApAD0ACEBlQHXAWQCUwNlA1oERQTIBGQF+wS2BcgE/gSzBMUEwgRYBEAFiQWJBUAFVQWRBcIEfgTwBPQEaATFBKwFOAXRBB0FvgQsA/gCigJgAeAAdgF0AXYBNgKTAsUCowKPAoIBwQC9AIz+af7g/jz9zv2p/bv99Pyy/Cv9Avuk+pP6X/om+dP4Sfr6+Mf4sflF+d74ofhm+dv5LvnH+Zr6Xfoh+iT6Avq2+af5Z/qi+hb72fs1/LP8Zf3M/Rr+yf2S/QP+j/3c/db9mf5h/wf/6P8gAZIBZAEiAn8DcQMsBOEEoAVJB78HUAhdCREKDgqKCWwJrgnUCOIIEAn3BzwIwAgtCIwH3AcHB8oFNAVtBV8EwwF7AnECGAKgAX4B8QEzATMBsQCGAWIA3/97AH7/Hv/b/un+T/4M/8/9WP0u/jn+Rf6F/Nr8vvy4+7j6DfqD+mf6+fmS+pL76PpJ+kH64/oE+pv5gvmj+SP7gvqm+6X75fwH/Un8dvza+xL99Ptg/In8sP3x/of+Av/m/0//KP5D/hH+Qf3H/Fz+ef6Q/zAA8ACyAPgAOAJzAn8D1APXBL8EpQUzBokGvAb5BnMHkAnxCPcJcwo1CUAKMAoyCVgH4QgoCaEIEghSBnwDlAK4AY8BUwC3/l0BHgM5A2gDQAKbAkQARP9SAIX+2ftK/EwAR/8K/e//IACU/v7/fP+K/wD8p/mk+qD7sfkL+dP9YgG5Ac4BxvvG+1v4FPcB+Df3gfrg+5QFVQlfCfr81/Ed7tvoe+mj7D3q3+sE83sDyAa1+qL8LgaoBBH6ffty+hn7RQM6BxEERQV9C6wO9QcC/Ub9zAEX/+r7yP+0CKkGgwIQBXkJmgmJCvYFeQELBWYH8gYHAL0BTAVsCjMGCQH1AeMEewZaAbX90QG1BTECkPwH/9oFvQNt/pEAKAZvAzT/M/8mBKsEBgDO/hkCtgJkAaf/rACIAo4CKgG7AJkAhQDpAFb/Bf6y/h//rfwn/L/7ZfxA/EL7W/t++238lvze+/T7xfvl+yD8V/t7+4D8Svzg+/H82P3//an9eP0k/mj+dv4o/TT+P/20/MH8PP3d/kP+Dv7P/Tv/C/9y/8f/MABCAM3/rP/Z/+j/JgDrANIBEwKwAqUCfwPLAz0DnQPlA3QErwQaBWgFnAU2BV8FTAW6BJYEWQUsBPADZwTaA68D1QOgA2oD+AJ4AucBQAIeAugBGQK7AS4BZQGYAd0A8wDIAIgBNQFJAfsAwQB7ALH/hv/t/kf+AP7E/Wj9F/05/Yz9p/zK/MD85fvJ+xr8uvtr+x38gPyj/FT86fwA/bz87fuX+yf8b/yz/LL8of21/XH9uP2k/Tz9bv2a/ZH9r/2H/fb9l/4e/nj+zf5H/2b/d/+v/8z/xf8hANEACgF9AUQBXgGdAaYBpgHyAVUC1QLCAsQC/QJbAwcDfgKZApsCTAKRAogCkwKtAsUC7gIxA7YDMQPnArAC0QJ2A3EDBwMzA4oDjwPlAuIClAIKAiUCyQH0AQYCaAFLAfAAcwCc/0D/Of+s/rv+p/5x/hb+bP05/eX8wfwq/Jv71PsU/GX7Bfs++037YPtV+5P73vtM/CD8XvwF/SP9KP2D/fz98P2w/RX+Kf6F/Xz9Mf48/n7+nf70/oX/jf9e/5P/RQA9AFEApAArAb8BNgJSAtUCMQOgApwCsQKoAoUCiQK7ArcC/QK5AswCxgL0AhkDxwKEAnoCcQIkAmUCBAKmAfYBNgJNAh0C8QEYAi8CmQKbAiMCSwKtArACHQKmAVgBAAHiAMAApwBXAAgAEwACAHX/AP+y/lT+Kv7X/b79KP4z/p/9e/3b/fv9sP0v/W794P31/av9gv2//dH9uP2H/WL9hf3n/e39tf3g/R3+Of54/lv+pf7o/rr+Wf5Q/m7+bv4T/jj+j/6b/s/+0P4o/yj/M/9e/+D/GwA1AFgAegBwAIkA5wDxAC4BfQGbAWkBVAGFAawBpQGqAc0B6gHyAcUBzQElAigCIAJCAnMCkwKAApICiAJgAnUCggJiAlkCawJXAj4COwIQAugBzwGHASwB2gDWANoArABJACkAYABoACsAy//m/xgAHwD3/7f/t//H/7f/U/8a/yv/I//8/uT+6f7J/rr+xf7T/sT+m/54/o7+sf6U/m3+a/5o/j7+Kv4s/hn+Cf75/Qz+FP4A/gD+E/44/lX+af50/pH+tf7N/uf+EP84/3H/j/+4/9b/4f/p/wYAGgAlADsASgBhAHEAmADCAOkA7wD/ACABRwFZAVgBaAFsAWcBWQFZAV8BRgE9AVkBVQFOAUYBPAFMAVsBRAE8AUYBKgE1ATYBKgE6AS4BLgEhAfEA7wDgALwAswCkAI4AhABoAFkATQAbAAEA+P/r/+v/1//M/9T/0f/U/7z/tv+t/6z/p/+P/2j/R/9J/yb/+P7b/uX+7P7y/tv+yf7Z/uP+6f7B/sD+yP6//rv+sv7J/tv+2P7j/gz/HP8q/z3/Q/98/5j/i/+S/6P/0f/a/9H/7v8OACkAMwAfACoAUQBIADQASABgAGMAXABZAGkAegB3AHoAnQC0AL4AzQDhAOEA6wAEARcBJQEiARwB+gDvAPoA+ADsAOwA7ADfAOEA5QDLAK8AsQDCALQAhQBzAIwAjABiAGEAcgBnAFsARwBMAFcAMQAYABcAEADy/9X/w/+t/7P/mv9+/4T/b/9c/1b/Qv8q/xL/Af/5/u3+0/7V/uf+2v7b/ur++f4G/wv/Ev8g/y//Jf8g/0D/SP9D/1H/Yv+F/4T/hv+g/6r/u/+5/8D/zf/r//r/+P8LACsAPwBPAFkAegCkAKkArgDNAOoA7wDmANwA5wD7APkAAwENARQBIQEgASUBLAErAS4BKgEjAQcB8AD2AOoA5QDwAO4A7wDRAMAAuQCgAIIAbQBWADoAHAABAP3/4//M/73/tP+k/4T/cP9c/17/Tv87/zX/OP80/yn/IP8k/yP/IP8j/zP/L/80/03/Wf9g/1j/Z/98/3T/Zf9l/2b/T/9H/zL/N/9M/z3/KP8z/0X/P/8f/xv/Hv8S//v++f4G/xn/Hv8f/0L/Xv+A/5j/nv+n/7v/1v/e/8z/6v8VADAAPgBNAH8AowC5AN8ACQEuAUABUAFzAW0BZwF0AYYBaQFeAWgBbAF8AX0BgAGLAYUBeAFfAVYBVAExAQUB6QDqANwApACHAIAAfwBpAE0AMAAkABoA+f/Z/77/qf+E/3X/a/9c/03/RP9E/1n/Sv81/0L/Sf9A/yn/Kv81/zr/K/8+/0n/Qv9c/2D/RP8+/zf/RP8l/wP/Cv8L//7+2f7E/sT+yP7O/sH+tf61/tP+zf7P/vL+8/7u/iX/Tv9R/5L/3v/4/xEAWwCLAHIAggDRANoAxgAFAREBIgFHAS4BMwGBAaEBiwFHAXMBqQGuAYwBXQFaAeoB9gFiASIBRgGhAT8B4QAEAToBFAHXAPkAlQCvAAoByABOACcANQDf/6f/O/93/zQAXv9q/5n/EP9S/3n/Wf+g/23/uf5M/0n/2P77/lH/T/+j/17/6/8QAMD/vf+j/8H/DABKAFT/qv+4/wf/yv5e//L+qv6S/lf+WP/m/Ur+Ef7b/T3+nP0P/vn9nP4J/rr9Jf5K/h7+xv5L/uT/igC2AMgBTQJEA2UBu/si/dn+4PrGBoUCvv39CPkHMwIlAMAGFfy2/mMExf4YAM8D1QhkAXECbQZ0BfH9hwC2AmEARf/bAGoECQIVAjgBNwLg/67/fv+q/0H+7v7Z/2QAdAGBAB8AwP7U/9/+rP2C/av+gP/G/rb/dv8+AEn/mP5M/h/+0f10/ez9h/0b/8797P1+/Xv+Rf4D/Wj+AP92/uj9uf3c/R796/y6/gX+cf6b/sX+bf/O/vz+fv/I/47+Df8l/37/lP4u/n7/Nv4t/y3+mf6bAPL+8v9zBIIFzgIEAEIBEgHOAbkD9wRVBNgCiAahBBMEjQm9ChwEJfZX+PQA4viN/ar7O/CF+hH8w/AB6/310/uJ/OIEvQMsBWsIsB46JLwUYxFyCoANmQQjBJkfdQId6JUHgBMd+azlNgCu9jry4grS/rjsefrYDxn4B/ANBswDeeQv6+YAUQA6ADLzwPwLA6H1E/iJ99YA9wE1BBH+e/ZpBav6LAc+CLb37vib+43yMe/ABpsCAe73+4MR5g3V+FEExP0U67cNXgWOBvQH5wsqATLnMgRt+c//Qf7f+GgQ8gLH+GDwwAPyBbzzMgnpDDQA6P/G/qoL5gaL/zkT5QoRDeAHUgrICsb4Xw0/EacCOAaNDi0CfPSXCOj91/BFCnYDLfEy8hX/fvWB8ZEAePhx8DX6Zuwp9LsARfRT+fL4I/rt9f34jPae+Zn9QP7z+/wCwAhH71n8qwkJBMj/mgDcAawMcAJr/HYMo/mADPr/4QYBB2/+Yw09A5URVvo8DwIEiPhIBhwAtgS2/NUK2P1X9NAIiAUH7Sj9jPxiBn39+eu8Bd/2r/q+/aD8Kv4//RkDyvqPBdcF+fuyBkUBNAJ/CWQJBf+P/n8LFvz6CQQBWf4rC3v71wFg/lkErP8E/eYDQ/EYBCcFHe3sBC3/Nv1F/Yn4Cvpx+8sK4/J4+a4G6/nP/Cr1KgQBCNn03AWZA4b2nP1aBxIAmPzhCbkHdv3WAj4F9/q3AwgG9wW0CpkEAAKuBN//WwIyCAEJIQZUAaMCnATWAWj/KAaU/+739weL/9P43v7H+Wv4MvcHAdz3cvTf9z/zn+3g/KX9U/IR/Cj3KPXE8UP/+gDd+Kb9Xv/+/uL9tv4JAtf/AwE+B9MALAJfBLwCUgBoBnwGTwEDCP3+pPwaAEgAnALR+vn+h/1M9Oz2Vvni+/H6af2F/bH0v/TDAN4Bkfx6CbMLMgZwBd8KFA8FC+sVZB75FuoUmBVNGGUfRx5yI78k3SK9GmwSEBzpGwEYHhO3CGIJLQJ2/i33o/Iw94/rmeae4SXgPN1q1+jVTNrO2SbSsc4Rz1rTpdfb3P/crtwA4mzl3uUG6BX0iv1c+7j8fQDtBZYITw3BDyETjxRxFtwTZwzSEekWGRLmClIKjgpgAQ79iv2w/iz9o/YJ+QPy3/Tq+z74yPqO/1n9cv/KBIgO/hK8F7khByf/MWE0OTR+NU865UAKSUhMX0bpN6A3fDrnNOcrHC5dJC4QhAtTABL9VvWW6aTbCtF7zFfFFrtAtm2y1LK0qmuq0K6Eqq+trq/ZtnvBy8o2zYLR4Nuq50Puhvq3AooMUxCIFlQgEiZFLwUxzi6DLM0xmDUJMQMobCbzJXcjpBegDWIOxwpG+6byJfan9Crl/d7L5E3ihOIw3xnjEuO/4MjpWO1g9B77LQHdDsEZuyLsKt0uODVtOwRGUlMVUwFSs0f4T5FXzk4RSZBAWz8GLaMkQhzxFYkMqvb66nbgjtoI0Nm+jrW3sUSot6EAocehTpxnmdKcvKSyr0G0v7qJwlfIeNTI4/bwbvgxBCkJZhWNH/Ij9TC5Mis4UDaYO9c+uDkrNm8vITF6K0ohHRsZD90KsALm+cb2B+5d6Onb5N4n20HVotei1RfdcNoD3DPnUPXiBHoN0xecHlkepSfHOZNNuFOJUMBTQ1K/VjlcwFwXWDlOMkXNOAYzniojIUkTvQFm9hTqlt15zp6/mbmXtC+pjqG1mq+UH5Jwlf2eGqTmplKoOrBfud7C0dNx4P/qeOzD9DkHfha4GmAf7SxcMIoz6zPaOuA+UDYqM7s1GTQTKLQdwxeDE9QLMAGu/ZrzsubL4fHd7d0m3BjXbdPF08TW19lA4Ersi/IK/eQNzCG5J7kegi1aPGpPvlpHXBxdaVTjXPpg/WOzXRlViU3lOcMxDCnYJDobbf8d7nTkN97CziK2+q/3q0um6pgnk+KTaYr+iPuNjZtZo0CjPao5s3O+Q8z/3G3s8vIq+JQDMxbtIVwnYi1MOro+zD1VPitDXEYDPSc8JTanM5Ao0xibFIoN5QcB+ejtRO0S3xTXQ9RM2HDSvMcaz5XLEdBp0TXbl+VU6vD5LAg5HN4pAS/+NN0/9FDPX1Br5W3WZHNlB23ncWJwV2T2VaxI4T68NgYlmBgNC5L0Ht9B1f3PE704q0uh/JuilLeLEIqbh+WBTIRXjd6ZHpupm+yqfL+tyDjNCuDe9K3++QJgECsjDy6BMXE6CkZqTBJLtEfzSjNLEkexQzg9tzO2JdQcxBR7DuwE+vTH65DkmN180sLP+9GPyUDD3MhBzWXKEsoN16feFOV38tkBlRH4GwssDzIWORZHIlSVY2RnLmfTYgVjiGtOakxnJFjlTYVDdzdDMAcgdhbQ//rq6OEf23HPvLigqv2hgZzvluiOZI0+hgKCAIeEkp2eJp6jouuyub8Ax3vVP+r6+HEAqwotGcUpVjCCNyJCyUu5TidKM0yDT7BL40C4QAQ7cy9pIk0WfA7lAoT5Je4S5kLcbtFhyyzGnsaBwpfAMMMvvlvCpcpG1YXZkN3K63D4Ng0RHLwqXjWzOFFFj058YBhu5W1FbJtn3m7VbdlqsWUQV9RPREAXOrspfxPMB/31kek92a/QIMC/p4qfcJ1/mruKUYPLh9iCrILciBSUFZvnnOiomrYIxyDSl9767Kn5WgpoFbYjQC33NF09F0dyT+VOmk60TfNPHktpRlBCzjoYLTEfzhcHDlsEhfac7triyNd9z4DLtMfHviq+Ub9/v/W5ELzAxwzPitFZ2S/mdfEy/mITdCZKMEs00juPSTNWGmfSbcBskmlKa7FtdGkzZ/JcvFMeSKI/tTJkGs8OkAF48zjkFdvNzdmwA6KfoKyh5ZQ3ioyJJoPEgaKHXpKcmbSaX6MBsQG/QsrU0xLk4PKCAPQK7hkWJr8pzDRFQMNOnk+yTCdNmk3BT8lKF0vtQns5BSsKIokf/RItB4H6RvRe6lbfnNe80hPL+8QFyA7JRsOLvRfEtsyh0G/Vr+Hx6Tbw6wFKGMslwyvjMQ87vkUGU19jVWOcYCphg2bUZVtfAVyaUdtK80BVOuQl3RC1CA7+HPEU4CbYocbzrsWkJKU0ouqSHopyij6GBYb5iKmSKpjAlzSkn7IFwRfG+M9249fz6gBpCn4YESINKAszf0CdTPFMfEjCTFJR01J8S4FGVkJ/OvcxHSclI7kV1gfz/A73LPFl4ara29ZozwzI/Mh+y23HWsOoycjRD9O62E7jJu0L9RcDshJjIKMpGDGeN5E7SkicVnZbb1gBVSJa8lslVpZSrUqDRus+vTZ7J3cUvw/bA/r2H+jF5LTaib+gs4GyabPFozqZhpzMmcqTn5GJmwKiH6DNpqm1RMIjxj/KYtgf55Tyu/xXCWEVxhnYHRspVzUBOVo2/TuRQhM/qTpWNv430TMNLl8oqR7TGvIO2wTF/hf9B/Zk6R3pK+iZ4vDZKN0a4iLeMuCC49Tnleop71j3g/0FA44LHxM2Hasn7iZwKZEsozT1OwY8eEHrO3o35TofPLw5xi+tLMgnmyAcG3AQJArK/5X3O+9a6qbmJNhgzfnIssjEwVq8a7sput61v7EEt5G61blPvD/D+sx00NrRt9ti44TqQPD29wcC8AdLCvYOuBdlHmkfqh/eJA8mUSXKI7AlpSMMH5EcuBl7FhQRbg8UCYMFowMXABP9r/pv/eb3gPUn+VL4cPl++BX8Ef3u+TIBoQVyBfcG4AnLDYgO+xdqHCUaCRt9HL0dSR78JZ4jMCHvH/EhOCAjHD8cThlcGD0QxhDaDFAINgFC/A76wPKL8/vtZ+h34FfeZ99Z2UnWcdap1n7TWtHZ01DUaNI7033XA9zM3z/feuEi57HpZO2R8Qr6yPyq+4//XQY9CV4GignZDiMRWxDEDXcORRFcEIoPOBCwD4UPpAmNCzENywleCJwGmgmSBlYFfwjGB3YCYAVaBwkF6AXXA9gHJgbTBZIFowfUCdMFvAcpCiwOqQtdDqgNvwu2C+0ISw7dDy4OJg4qDMcOlg+oDdoI1QmSD0QKEAkbBBwJ9QS7/cP90v/4/wn2l/Lw81/0wOwm6jToEuqN5PTfxeEy4S3gpNqx3H3gGuJ94HTgu+UW6Bbpjeih8OXz+fJd87H3TgAg/Rf8IADrBFcHpgSIBd8K9gsqDSAMERHUD/YO+hB3EeUU5hHYEQcSyBSaEGUO/xD5D3sObQmbDdgM6weEBegDKwj1AawAPgDP/aX+p/r1/RX73PkN/4f9ywJH/47/Nv5HAVAH2AULCfUGCwznCtoM+A2KD4YR8g4YEn0RwxDaD2gLFgreBdcIDwlZAej6DPh1+bjz0+6b6njrheX34dTgn+BX3xra4tqU3vPh8N8n4C7i0+Yw51Xnze1r8orzV/L09rMAcv1P/A0DpQcjDHIHoAudERERVQ+lD44W9BX0EacQFRKEEjUNEAoXDtMMyAiDBVEDQAPe/iL8Uvt3+sn4Z/iV+O71OPc59Un3JvcJ+YD4FPqJ/yD9Gf71AXEJ8AnjCfIJ2RGxD+AQ2RL8GMYa6xUVGAQaKx7lF3AV2BdJGokT3w9ODkwQmwhgAoUACwMW/Tz0/PEX7z/vAOjr5Ozj6eWF41XgkOA849Xiy+J74hrpUuwU68ntZu8K9SL3q/Rq/UUAPf7l/5oDpggWB6kEUQMNCe4G5QewBcoEjQa5AcAACANDA8v/Iv2A+wD/Vvxd+mz4Y/1N/Lv5CvxH93v+xfsX/Yr9XAIwATUB1wWsAyEJ4wS6C6gJogtDDZMPcwwCCmIRHg/QDzgONBHPE2IRXg6GDt8Lxg2pDB8OPQw/CY8JcgYZCdUDSQQXBKMEOQMP/mgA//07/VH6oPrs/M/6rvXs9GH2I/ct9Yvyn/Vt9qT1+fGs9ML1gvM88sb0Pfc6+BL0SPBx+NH1DPWV9Rf3Yvgz8pL1kvg/92z1NvTQ9ST43PYi+pL3aPna+Qf7nv7H/J8Alvta/qkBiAXg/yIBowRXBgIGPwOfCuEGywatBbML5Ag9BjkG+AhrC9AFygazCjsKzQbBCRcDhgr4A3gHCAqCBXQJsf8DCE4G/A5XCekFRwXfBtwJ2ASdD7cJXguLCowKdQ8vDIAGKgzUC2oLcAmYBbIHwgNABNL/mwBLAaT95vnG9vX2a/mE8iXwP+8+8jnxs+k67wjtJu+W6VPqDPKL7fDsaOyJ7Hbyr++98BfyVvH59sn0wvm69er8+Pjv+b79MgFN/qf5ogjz+hYFb/yKBeAC9wK8B2MBrhBz+BgNEgcrC4QJsQK6DWr/aA4WBJ4J4gXdCK4KzwI4D6YFVAjfBhwIexCdBY0H+gy0CPQNFwabDggNEAZWDGwKZxEOCFAL/AjzCBQLPAeaClgJZwd+BV4G1gSoAzr86QIm/+cCVPwe+EIAHfaD/Rv1Jvrx+lLzsfSI9FX3WPau9frvDvMt9S72UPU38UTv4Phj9Nj2o/X97236qvPg+hn4S/b59mL5Cfvj+ID9XPWU/6n6Z/pI/pr3bgV6/1oICAcVA90Fu/K+/CL7lP2zCc36x+2vAnQGYAXSAJECQw8zDWsNYvWnDukF8xNoFBz9FRntCa8YbQGBAecS6w3fDbACLg8jB+4DPwNv/gcNMw1xA3EABvt/AzkENf86AfYBKARJANH2JwRnA0z7hf3y+iMI9Pu9/zv8mPTuAnj4tv8d/ZTwCv4M9rr1cftN8a722PeC+n7zefGP+UT2cfkJ+yDykvdj/P/8QfTp+74AAPjjAnL1mQS0+d0Fz/2r9U4L3fMxEWjzov9eB9X4Cw1I8iwDlgsU/cf7jgBlA/YDdAG0AWX+cgjLCMz6qweJAx8Ktw8B9fQHDQfyBPYRr/w+BPQFeg2YA1L/lg6tCtH/tQJTDDMIsgYMAEgGEAqjCe4FRgpCAXUDtAElCq8NfPUpCaMANgfrACT3MAbX/XMFzQCY+An4AP/9/9z6m/qH8QP/sQAR8+L3JvAT+4YBi/W2+Mb+AfUH/Vr9xPPA/l/6YfzK+9v6VfUdAkH1/PQ6Boj4+QUn7Dv0cAaI+kQB2us7/iz9avqYA4ncKwTd+Sb5FAeY5foKZPcS/yP/O+4nB4EDuABxAKMGlv1k+R8WZgOa+Nogf/tKBssJdwaBIfzwJAv5GaYFrxpHA7n8DBn6A7QW6Q2e+dEQ0gSQHlP2qfeAEgv8Dxut9Qb46Qkw/7oKmO7HBA8E//f3Bqfq2QFRAdzw9AXq76L0zP95/275XOyl+4n6FPd9+MH2APyE+ZnxEfXS8rr7zvZc9aX0JO52AiHwY/PG6zr1YfVB9wP5JuS7AaXu2/Zx4wgB2P7N6SgF4ufwAw7uaQWS8Gb/txMn7VcTEej4ENcRo/OpFBQFyhGlE4n7Ewv5D7AKXiHL/IIREBWFCXUP/wPjHgv5gRYJEhgI8Q/s8MUgxwbXBUoRggJzErP8mAOqBmMH7BIs/XAAVQeeBGgNS/bt+jQMNgOq/fn2gPyl/ckCMPI38f4F2e6u+sn3gOuF/BLlAfdK/8boePG58Ff5leiZ7ywBj+WL8Pv3bPOZ7k7vUvnl8n7z5fkM+7rzyQE5/zH8oAR58Xn7jQZr+VX6Pv4g8xUAkA3m9hcEKQN9+bMWWQMNByANfQAGE18PNhIHCZ8LxRXzD88OvRGwD1QF9hPKFtwD1gqZE7kE7xHUB8ULDhDNCPYXZgAVGPcJTwEVG2EDPxQQDQL5VRqhB4T+TAxR7okSpwUT+ST+x+pkBWfvxPcU6Hzstv0e3YTxGuUd6v7tQNOs7s/tYt617QHc8u5A+2zfFu4a7o3wbv3X8TP4Svzc8AkEtgA9Bbb6RPnkEIX/5AxT9h0FxBHl/YQPxPalA40Wy/zu/KELjABjBwMHVQHBA5ADTA1KAxQIxAW7C/0JbgRCD+8BwBF9DTgDQxcTCLIJHAoODv8RSAhXEowCUx2FD8oEkSQiB0sVvAcgCfQgQwmOD4T8lAnPGAP/ZgIF9OQI4wY47DP42/Nl9zHrpeLd7iPrVOb45T/dZOcc3zje3+xH0l7kL+gb3h3pdOFb7sroZ+g49Q/xF/IK9V/zEf4b/vj6AP+AAAwJb/1pDO8AUv/7CJEBjxfU/jv8Mga4EHcJJPo6CU4H6gn+DIv8tP9vFdsBUxB4C9j3cBsuE8UJ1g74A5gf0B2AANIR4BEdD54fGg1OAcgiMApaD3seYQt9J+wHqRNQHAgKNByfDrIYLQxTDzMVwQMwEdP+6P4hCn709P4c+lTsDPUb5R/maejL5YDgHNeh4fTZuN+02XTPsdx319faRuTj32/kDuSV4jzuiune8OH3oPqJ/lb1oADnB6wACAHHAqwM/Ah7DUgE5P+8EsADtgsw+XcHOQ2XAvsLtPmmDxIA0wCdAyUKRAPO+OAP/QHPBVQIXggLC239qRQrE/b0wB7EDbkKlQnBDdMrPvkbGXAjchfsJ6ghLCTgFwYV0ioiJOcQKh9UGHocCx0hDvQHF/3gBEcDMfnv9t3s5etQ5xnk79UyzqjfJdGRyfzILsxZ2f7IBcStx0XPn93F04XYTePV5I7qC/N399L/tQHt/nQPRA1qG1kWJhEGIGoOpB60G/cU+RfRDF8bKQ4eD1EROgDVCFUEQgCM/J7xbfo994nyNvtR6t74Cfrr7Pz9z/CT9d35zfo+EhAC5QIhEXj7KxewFc4NNxYCDl0uoSiXJgAzlSdmMAczTSLOMXcuIzKyKtUYwjMNLT0jyQqwAksOaAqc+2D0vOzr6Zbg8tOI2o/EZcg8u828lMYdunW+8bMDuq2+mb4PyiDSlNam2zXgWfCOAAwAowDlCYQaYyS2Hjwr2yzrKqotvS2nNmAsPChVJTkkbxsgFjIUTA7ABZD9/vxZ9CDy7uSt4GHj/+B24CDbr9+D5IHfwuJi7dTr/vDS+uT7dwYcAOwK1xqvFR8jkhjZJdw1dzbrQnY7vkLTP8k1SEMlRPE/sjF9KcI8UzfQLHgUuQ3yD7QIsAXQ50brguSe24XTQMMByMG8lrFVq5qyWrOgsjGq9avTt0Sz57zMwNnLC9Ej2nrox/Ow/SYBpxAKGxggrh5SLXo2vjS2M8k6vEJDOZwxJzCPM6sk6BwVG0ATAg79AmL6JPZS6WPkw+En2tDbCthN1vvTgNwg35nbe9435wXsneyh+rEDnARhC0QZ8RWvHpAklyT0L+89zFAHUahNX08eTkFSpVCvRHQ+LTSMQldBUy3CIBgY9xeQBMnxxOOY4mPUk8nfvxO+J75frt2du5QTpx+fHJm0lSijcLLUrd+7SsNeyRbOx9wt6BD20QCEDAwcKiHYL3wzKTgePIc6DT47RB1IQ0AENZ82jTVCKHQeJRIhC5ICoP1E9qTnyt/f2bjYN840y6/PIcfpy9nQDNLo2yLX5+AC7LjphfaT+6gDwAkYEM0e2yHNJrgs8DbGQs1QNFOZSsBOvlFfWb5UskWEQoxBKkbzPd4mpBwfG78RwAL87e/mHeSpzIrEy7x0t5a3C6QomUacrKChoEWVzpCRpFKsHK83t1jDe8+z023hC+8m/TkF8g+vG24p7zesPI5CtETMSFpLw0tOSc9DSj5aPHw6ICwXJXUaVQurAjH6HPH64vPantmk13DOe809yPTFy8pCys/QitAe1Pfgx+lH6V/0/v1dANkFbA49HJ0eCSS4LuY9ZU3xVHhPOk7cUhZWMlksTbRHE0RTRIBGczlFKpYg1hdTDzH9HugZ5dzX28lOwme7a7zvsLigBJodnQyhj5lKkGaXpKVcq1KvMb2lyafMR9R65cz1YPylAnsSGCK6LDI22z3LRG1ER0YhS/NJy0WUPZc+TDuIMawrJiBFE2oFefsB+ejr+Nf41zzY89VnzaPHn8w1xr/HNc3EzuvPAdVP3wjtFPCz9qb+wgPODhETuxkXHhMn8THvPgBMSFbAVXFTBlYSXdhb4UqWQsU98kLWQPwyCShYILocRRLd+QvrY+D/0EjHB7n8tTy4TK42pDyeDaJXqDSZ1JBOm0+m+KuRrY29DdAO1JPd+O6q/IUDHwhAFDIh5yzYNXw9wkN8RVpMg05ZR8VAYDvpPHI0HiU7IOUaqg1kAT35v/Mt5oDV4dWL0unMX8ZkxF3K78jUyzbS2dCj1a/fBufD8PXv2fhdBhAIiBLEGREd2iVCLCI3QEIwR4VQalXkU3NVYleiVvpQwEZBPNs9eT/8M/UljRm4FsoSQv5I7JfgDNZSzq+857RcuOCwmqNGm++lg60LnQeTDJx1qnqutKmdt13JfNBE20PpafcP/94E6xMRHtYjGi/uNiM7ST2XRahMWkmHQaY8JD+YOk8r5iA6Gq8TagyVAW752e/L5fLigN1C16/QF81U0NrOytDh1BfZ/drz3hbpRfE58wf6zADeB/0T5ROZF7EdLyIPLGcx6zTAPzlH+EmuSXVGHUyXTIdCZDg7L6gxzjRoJu8X/RJhFTYSGP4n7Vjn1eGb127GDb+Swe66lrDkq+CxK7UyqxemrqwCs9m0L7aZvC3DgcnL1V7h7+Xo6j/4BgckDagPAhk7Jdgn7SjeLuoy9DN6MAYw/zHuLTAoXiO/G+oXjhKVDCMFmftn+aD2z/Bg7H7nAuaE5xHlVuWS5JzluOno6xvwB/Np9wb7qv2eA7UILguzDQUQfhb/Gpsbdh9TJCEqHi4LMOEwtTGuNEI24jHWK3omuCkyKGYdchVxEloU2A+QBLz+9voR9mXw5Odo4tDbRdYp0ufN1su1ykPHFsbpx9jKScxSzALP/dHx1OTa4+AF5CHn1u019/b8mP8xA8EIaA5qEZISIxS2FcsWYhfbF8YWjRVGFJQSHBHgD4sNlgr/BvEF0gXuApT/RP1H/VH9wPof+Rz5tfhR+GX4rvnn+Ub6z/rm/AEAQAG0AZECmQQkCDEKvwovDHUQvRQmFmwXmxi2G+MexR68HfocyR2WH6Ud0BqjGcEZPBnpFT0SShAdDvILjAh5BFcCSf8Z+473r/Tm8V/uwukJ567lrePh39Ldbd0f3HbbSNwn3G3cnd4i4evikOR950rqj+yh7ufx0fV/+OL6qv2iAEgEVwYvB/QGIgjCCtsKlwljCJ0IzAo8C1YJHAfrBtcH9AYyBOAB4AAYABr/Gv5A/Wj8/vwO/i3/vP6D/jYASwI5A3wDdwUUCBcK3AtvDhgRYBNLFZ8XZBkVGnUbZRywHIMcHR1XHekboBqcGbYYhRbaE94RtA7BCv8GCAPV/pb6mfVg8dHtdOqf58zj3eAu3wLeoNxt2q/ZSdp52onbu9xe3TbfhOEt5FzmCejs6u/tNfAT8xL3dPrQ/Gj/7gKcBQ0HIwhDCX8KdAt5DG4MRwzoDJgNPw6KDTQM3AssC4MJgwdFBvMFagR5AigB3QBAAYsAYv9o/1MA/wAKARsBqQFvAuMDDQULBkQHsAjBCpoM3A0TD1sQ9xENE9sTbRREFHIUwhRfFIYTBBL7EOkPbg7lDF4KBQhvBWcCt/+d/Iz5mPZu8wPxQ+4i7Obpq+eg5pjljOTm48TjAOSd5J/l6+b250Xpzupr7CDuTfBo8hL0NvbA+KX78P1F//sAGQMgBTQGOgbDBtQHpQgFCcUIvggFCREJtgg2CLwHAQcoBogF/wTuAwYDVQKzAXYBPQEnASsBWgHIAT4C2wI5A7kDsgRIBZcFEgbPBucHowhsCV0KMguIDK8NxA61D3gQIxEoEUcRTBHBEHwQwg/EDiEOEg0EDGgKcwjGBqsEbAI+ALr9GPuw+IH2YPTJ8bzvQu5w7LbqcOnd6D/oh+dW55rnCehu6PLonumG6nXrwewx7kDvo/Bc8kX07fUu97z4hvoH/HL9k/53/70AAgL3Ar4DewRIBfwFgwYeB2MHwQfnB+MHXgh5CFkIzgdhB4wHggdFB/cGjgZxBpIGrAaYBlsGTgZUBiMG9AXJBawFrAW2BdIF7wWEBg0HgAcjCOMIhgnoCSsKiQpJC4gLZQtQC0ILOAsiC7MK/wlTCYkIlgeaBlEFmwMsAn0ATf4q/Hb6xvi19qX0EPPk8YrwC+8P7njtrewY7NXr0Ouz68vrWOzp7LPtj+5376jwFvLD80H1n/ZH+Oz5SPuK/Cf+nf+3APoBdAPUBLQFfgZuB3MIZAmpCeMJTwqOCqoKXQpQCgcKbwkeCZMI+wdhB70GUwa8BTgF7ARoBBQEbQPJAnMCFQKuAT8BHQE3AV0BtQFIAh4DCgS1BN0FzAbdBxkJGAqRCigLeAtIDLYMowimBo8GbwUWBWcEEwS0A38D8QKUAoMChwKiArQCEQNwA+wDoARXBR8GAQfJB7QIZQlaCnALXwwYDaQNZw7KDh4PjA+wD7EPYQ8yDwUPVg7XDSYNVQwOC7UJZAh/BrgEtwKvAI/+L/wm+kP4QfZh9HLy7PCs72/uae1r7JvrHevn6q7q6epO66jrJ+zk7MLtgu6G78zwIPJo85P02fVF90z4afnR+iH8Jf0p/k//RQBOARACoAI0A7sDNgRgBGUEiARlBDQEGwTgA5gDRwNDAyADsAJsAo8CwALHAsYC8wJYA4EDsQMOBJwECgUnBaAFTwbvBl0H4geDCN0IZgkECk8KlwrnChgLSwtlC6cLtAt0C3MLWwsnC78KLAqICb8IzQflBuoFoQRSAw8CpAAj/7P9Ivyx+lL5wPdA9gz14vPF8u7xJfFq8KLvCu/D7mTuEe4e7nHuw+4u79/vjfBm8S7y+fL58+H0A/bv9pP3Q/gi+Q/6v/p1+xr8w/yA/QX+kf4V/17/yP8VAGMAuADiADYBcQHOASUCZQL7ApYDFASQBDMF0wWIBkQH0Qd9CDgJ7gmbCkQL9QucDBMNjg0cDnwOtQ7mDgsPNg8yD+IOuQ6ODmMOHg65DW4NGA3ADDAMnQseC30K5AkVCSMIQQdFBi8FAwTQAnwB9P9x/gD9Zfu2+TP4yfZi9ezzo/J68W3wlO/Y7lfu3e187UvtPe1d7YXtw+097qXu9u577w3wt/Bh8fjxzfKr82X0TvVE9i33Pfgz+Sj6Q/s4/Cr9JP4A/+7/xQCDAWcCTAMSBLQEZgUpBuYGvAd5CB8JwglrChcLuAs8DJgM+gxiDbMN7A0iDkUOXg5gDkYOQg4oDggO5w2eDWQNJQ3FDFsM5guJCxwLqgo7Cq4JPQnBCDUItwceB38G6gVDBZkE4wMrA2wCogHbAO//Af8U/vv8yvuf+n/5Pfjr9q31ePRQ8yTyD/Ei8Envfu7D7S3tuext7C7s9+vv6wbsNOya7Dbtzu2F7n/vi/Cd8bny+fM/9Xv2v/fz+Dv6hfu9/AD+O/9YAF4BVgJFAzcEDwXOBZMGRgfdB20IFgm6CUgK2gppCwcMfgzTDEINrQ0FDj0ObA6mDsUOyg7CDrUOkQ5ODgoOxg1cDeMMcAzpC08LsAoBClYJrQjrBy0HbAaeBe0EPgSTA98CDwJVAZYA1v8W/1b+tv3+/D38ovsG+1j6qfn++FD4m/fW9h/2ZPWq9AP0UvO48iHyivEf8dTwl/BX8D/wO/A78HHwvfAj8ZTxEfKu8ljzEvTD9HL1P/YU9+b3t/h6+S765/qd+0f86fyN/Sn+vv5i/wEAnwBRAf0BowJMAxYE7ASsBXwGWAc7CB4J6wnHCp0LXQwlDdMNag7xDlUPrQ/lD/kP7A+/D4kPMw/MDkwOsg0QDUgMfQuoCrsJwQi9B8oGygW9BMMD3QL6AQMBHABM/2v+mv3U/BL8afu9+iH6pPks+cf4cPg4+Ar40PfN98732fcC+BD4M/hs+JT4wvgI+Vn5mfnE+ef5G/o1+jr6R/o6+hj60vl4+SH5t/hN+Nn3YPfh9l326fWE9T/19vTK9M70v/TV9Bz1g/Us9uv2xPe/+Mv59fos/ID97/5uAPoBgQMWBacGMwi6CRULawyjDbYOtg+CECwRqxEFEjgSNxIWEswRXxHKEAAQKQ81DicNEwzpCp0JTAgCB7AFbwQ5Aw8C/QDg/9X+/P0b/VP8u/su+8X6YvoM+u/52/nf+f/5Lfpl+qL67Pov+3r7x/sU/FP8jPzI/PH8Ev0m/S/9N/0s/RT97vyx/Gj8G/zY+5H7Qfvn+o76QPr4+b35jPlo+Un5KfkQ+RD5G/kp+Vj5n/nw+VP6rvon+7X7L/zC/GL98P2J/hL/sv9mAAIBoQE4AtUCXgPfA1kEqgQNBWQFnQXeBQcGJQY0BkMGTAY5BhcG7gXTBZ4FXwUfBdgEpARgBBwE4QOWA1kDEgPEAocCSgIjAv0B0QGpAYcBaQFHATEBNgE1ATIBPQE7AUsBVgFGAU4BTAE7ARgB+QDXAJsAbgAxAOP/k/87/+7+mP4u/tH9g/0v/cv8avwn/O/7rft0+zn7C/vu+s/6xfq9+s766Pru+g77PPtu+6376vsq/Hn8z/w2/ZT91/0y/oj+2/4t/3n/2v8hAF0AogDNAPsAIwEwAWMBhgGMAZgBfQF0AXcBZwFaAT8BKwEZAQIBAgH0AOsA4ADTAN0A1QDaAO4A8AAMAScBNgFjAXsBkQG0AcoB3AH6ARoCLAI0AjICMQI4AkECPgIvAiMCAQLwAeUBwgG6AZIBUQEhAeEApwB3ACsA6v/G/5j/YP8y/+z+xv6y/o3+g/5l/l/+Zf5u/mH+Yf5w/nj+mf6h/rL+0v4B/yr/Ov9Z/2r/gf+i/5n/l/+S/5X/fP9o/2L/U/9R/y3/KP83/0n/Vv9T/0z/R/9H/z//Nf8z/zn/T/9C/zX/Nf83/0f/M/86/0L/Ov9O/1T/Tf9T/1f/XP9c/3H/bf9v/3z/lf+p/7H/z//N/+T/4//8/wYAAwAHAAYAJQA2ADYAUQBkAF4AbgByAHYAdwCCAI8AlACjAMkA3wDsAP4ABwEYATMBRAFLAUUBOgE2ARkBBAHmAOoA4QDHAM4A3ADWAOQA+AAWASYBJwFYAYIBlwGsAaQBfAGCAZgBjAFYASABFAECAdoA4ACPAGwAaAAzABcAxv/X/8z/oP9P/0f/6f4G/5X/P//v/lb+iv5N/wH/0P52/hj+1P5R/7b+yP7O/uz+CP8I/1H/if9m/wD/1P6F/+T/rP/g/iL+xP5D/wz/9P6b/qf+z/78/lP/2f7p/gj/Vv9H/x//0/7K/oP++f1H/t7+G/4A/SL9A/6e/77/Wf5F/o//awBEAaMAwgCwAZgC/AHRAFYDnQMbAyICBwGEA38FKgRVAowBGwU+BrkEdAP4Aj4DVwM+BE0CewGfAVMBkwCCAJ4AywAmAE4Ai/9H/7YAIAF3AN//mf8F/zf/Rf9A/tv9X/3Y/VL/GP32+8P8eP3c/JX98P0m/Bf5rPn+/gIAwvz6+fT7DQORBXQCWAEkBfoIjQVI/oT7s/gK9yn23uOW5MPz6QPqNM8oYde+tojIRQE6OKAIjar9rRUNkjzxBLzV7sVHC0E1RRcZ5FXumjeHPD4M4fxeKBhJDSQw4grqigLyHooaVPdC4TD/Jxy5AtbwsfhlGzoMtfdy9Hf9uhepF7HvVNP5+IofAfeC3lblCgGyBJH7+weF+TMSGCs8DjYDJQcsC5sK0/hMBmb/QQgUCXYDw/zc8b0DZv5V8DHv5f2N+mzmUO3A9BTyrvhk6lv3dv/KBD/wi/zvFC0YXgaG8DcKswlGCqPspvD5+Iz20uVa443vhvr1C9PzFgcYDrPtwvWQA8EDxRG8DyQSdAycCBASIvd47iz7U+XH6toLevuE5Rb1lwd/9l3oYvuu9WrlePbPBSEAUPQ9GW8pTwdODm0Opx70JJsHfAMbFBsjtRGiBjUh6h9LC5r6aAPNEIjjM+nsCwkAgOlZ6sMQ0Bbk4lzhOQc3BkTnLN8e/YUQOwWX9fYL/xBGAoD+IA27BMH08/chBuP/lOxq93QO6xiV9q7zwAJABUXsguZy8In70QG+8EADrA2C/EP0VPeO/ors0eaC+lP4WPer/WALgfMABYj/lfWH+QfwBQkV8bjziQPX/fL/fAYhCbj7IgRsCmH1lgEFFKIRe/rXCIQZLA3FAjoG/AiIAk4H+f2L9vT+qgaJ+/38vv9kD0b2lOtbAyr4nPccA00ETvy5BcIOQACh/TsHgAo8BfMA4wZvBNkFCxXtEw/6lP/DB3v/kPmhBQb1/vbRDMwKiv8n95wUPfjH67MDYPcb9mX1yfsCCUABSg1YDp7zuPnnB1798+z26YL7tvlw9q/5t/8i/bcAywmD8YX4Sf0z8eDy6AkKCYX2LQjKFWr+b+/l/7r9mOvY9JQA8vv6DIUW2QxvAj8EywiP7lzpkfT57xT+TQURAxYAzgiIEl8B//bQ+3v2S/U296z85fvEAkYVhgSMBBYJnAjHAzH2e/56AG4KNg0FBqQNLBRnEgMG6wDn/u36r/qm+NT7W/53BScIygM0B2oEyf7A+Fv4qPmr+1L8cPm9AOME9AmjBhcBPQCg/1L/HPfs9tj0EvpF/5L/bgCx/qcJQAf9/yT7Aff/+RX5QPf09eDyBP5C/4j1C/8V/koBd/0H+/D/xf/xAG35NAA5/3n7kQKOCBUF0/7VCD8Gzv3oAhgH2AV7ARAGwAQJAYAAi/2LAE79IvyI+nP2TQLM+nX4AwaN/eD4Fv76CMwA8f3bATkCZAewB4AKAwnaCw8LigS1B00Cf/4F/2/9kwHE+0gAngU2BE//cfu+/AcAcvwu+LX9Q/9vAm4HGAjeB0EEXgXX+g7zHfmu+VX7Tvc1A+8FUQMmBhQDjQVPAYH6Zfce8QH5lvYh8jH9bgAXAeUANwdOB/YA6v+AAU37kv85A5r9DwXIB3YEkgTBBt4BLfp6/2z59fcH+Df3Bvbr9Mf59/ev/H77ovgY+uMCCAAO+soBqgUrB2wCTQa/CVULbQ0mA1wLfw1yBHcBAwfEBHAAWAZfAcr/T/8y/Yf5Vvhc+Vv0Tvce+gz89v4z/04B/P42CLYFNvnj/+EHtgAnAl4DpATdBz8GWQXlBQ0NHgb+AB8COP8j/3n9uvoD+pn8G/5T/df9dP3mAIP+iAGm/pD5fv0b/Fv3tPkL/Mb5//l2AKACs/sMAcf9nP11AMz8LPs4+NH77f3p+7n/FQZnBuQCPgXuA0ADpv1A+T/9lv2LAA0ACgNYA6kDEwTIAA8C0/5s/Az9cPwy+xD7zv62/pkAsgCdAZsA0v6nAeIAXQP2AXz/GQUnCzsF3gXhC6oH5QdQAmD///+x/5j86Pv3AYn/kwPWAlcAogB6/iL+Avv4+Jr2SfkY+IH3+wDkAiMGagKyAP4GvwJ6AH38e/1AAbX+qAAlAX4Fmgj7BOIIQwbMAiADef1N+1/+KPhb+M7+TP1z/dMCggER/eoCvwFo/6D6ofhG/pj8FvzZ/cD+pQB/ADn9D/7ZAor+4P39AxcDdwHkA6AFwgR7ATn+pP8EAGD82fyn/kn8GP70/bL/8P1O+/r9YP00/I75VQGGABX+WwVLBMYHhQmoBs0IwQiMBKX/gP9gAIb9Yfm4+r7+0/sm/GL9BP10/8wAigCPAmsDKAF6AgED6gASA1QEjgBd/6sECgMZASEDHv9BAZf/Svzx/sz8v/rN/RX8Xv6MAtr/bgFjBdcGMgTGAnb/7/2r/qf7wvpD+af8zAAWATYD3gTGBZ4DVQGC/lL/IfmX8hH5k/nY+mD9hv3qAtIELATRAiwBUf95+0X96/ya+nL/0QGPA94HpghUCpwHVwIkBeEB4Pri+on4uvjC+8H5evk0/6T/+f0GAv7+ef0IAL/7pfyi/Ob60gDQA9ECxgNuB14I/AUvA50BHwIC/P36VP8i+Wz71f+C/p4DBwQ0A9MFFwc5BbYDQAIq/ID9uv5t/QAA5v9c//MASQNGAXUDBwJb/hoChQDfAOr8zvgT+vL6A/oy85z2vfb79lr65PeN/9D+1QArCP8EXQc9CRwJfAdQCaUKiQaJDJYNCA0iEDgO8hNfFEITShP/DPYNFAvXB1sDNPwY/AP6HvvT+Bz6rv1M/DgCXQEFAsQCEgA0APn8tv4E+935s/x0/G0AFP4qAAwDfACHAvoBswB9/gf9YP4y/TT8e/lc+TL68/cn91rzHvR68hfw7/JE733zLfX49QD8iPve/2AB+wJ/Asz//wA9/rn8QvrM+4v8ffs7/dT9MQDN/hf/d/y99yT2Z/MS80/upO0+75XyIvre+BP+2gKgBfULVgkGDSQOMA2/DwcNPBGHEgwU/xZjF9Id/B6kIOshSB/CH5Qd+B2tHEkX3RVsE5cSzg+rDG4NXAlhCpYIUAX3CBQEqAUtBmkB9gKQ/cL8wvsi+Pj30/PD9Fr0N/Xu9YPx0/PX85nzS/Qb8pDyh/Da7sXuK+rV6eHqvuQy5WPhHN2v3t/W59dk1DvQCtTxz4XTrtN02D7gbuGl6T7sY/O9+Hv5LP6q/DsBWwIQA4sHtgXmC1APORTJHDcbTx0cIH4hhSMsITwcGRtlG6YYIRt8GAYXGh3EHE8gliQsJcspKi1UK/EqeSyLKPAoZiZDHQ4fBh0dHKIgJB9CI+4jJyTsJDsiUR2VESkKDPyl8DbnD9jv0DjFhr/puie5FboqtHu4/7OXt4i9p7h/wea/2ccY03zXiOJp4GPs5O6F8fn7C+4E9IzwFO0I9lvtLfFm8ez3vfzu/HgEav6EBWADRP1RBHP6mfYu913zzvVq+oP/+gbbDn4UCyJxLDYwTTWkNgs6Qjx0Pc456jRCNdk1ADtjOqc8t0BLQglIHEShQ4lAXj1iPo41izV8MWsvgjEAKUoqtSEeGbIUWwML/NnqhtpAz0W9BrcWqGCif52UlaOc+JV4nOygAZ/Yqm+nsbAHu6C/m80r0k3hHvDC/JENixTLGrMeTCNxJMEjXhj/CWoIm/6q/Qv1ueaj5onh5+T44Uff+93M22/gPdm93w7gXdzy5EzihO7/91H9OgzAEuceLSmMMQg7YECbQoZBMEUcQiRC3EDaOYw8eTiNO9w9CDr1O9c6MES3RHpJ81A/SsJRY0hjRQdJtTI1KgIXVAbU+77j/9mUxd66PLN5pZGmb5dyl/uX/47WlQSR+ZYhnZWfj6vksdHCINB23y/w8fp2D4kb5ypSNnw7UUIKPhE+EDVdLyMlShD/Bkb0wO8I5dnTqc/wwonIOMTMwsHFJLykytXJt8+w2GfVFOeC6fv0iAHxB5UZ9B2YLZU0xzudR9ZEhU3VR6FFR0j+Py1BWDh/NTA4ijZnN0o0ajiWPUhHDVDBUIxVu1PDU0tVOkrfOlkonRb5BWrxDtxGyOy5k63HoeuYmJHBkY+Rj4vpijCNw5LDl/OXcp00pzu0c8St1M7j2vPfBpEaGi2EOOBApEfFToNRIkfZQSM1cSegINYHSPmS6xrbXNfUx/C8krYItjy4trSLuFC3FMXJzsrQZuIf5Qn1zAKxA/kVZxz8JnwzszQAPOBAkkVZS3ZLhkOzQfRCiT8FPSc17TO7M8UzNTb/NbE9GUXbUfZXkVhIWlJWKlxxTQY66yj3DrQEnehD0ai/Gao3pp2XapNCjUiL75M4i6eQx47Hki2e05rDphet0rogz9Pc/vCg/zEVgSg9ObZF/0ZhT51PQ03rSig8ETBPJM4S7ga/+v/lGNvQznzD+MG2s06zRrZHsTy4ZLrNxlnSAduf6J/wsgLNChkVAB7VHzwv+y4HNg07yTjQQs4/40a1Q6k+ZkVLORo6eDS4LakxCSemJ1ArbC+fOOJBOUzkUlBczFreXO9bK0jCOrwiXAtZ+lPd+sdbtLCjxZu1k7OMdYtjkHKQepJ7layYSaGVo7OokLKnvC7Kwdkl67r7QxCIItUz+kMlSzBUh1UtUylQ+kSnPEMpfxj3CiH5n/Nd3QTOCsp2vY6/07QjsAa0uLAxuoq8bcaUz2Tac+zw8D0DUA7QF38lBSRfL7MzUjVLOwE2yTgrOlA5XTqmNt01pjLGL34w+C3GLb0rBiyzM+o2JELhTqZUWV+TX5Nfy2JeVypJXjOiGdwG/O5o117Ad6rwnTWVc5Cdil6JdY3Ai86OhJIlmIufKqG3qQu0VMAR0Bbh+vYoB5wXAivIPWhNglIrVAJTFFJdTENALTZhIr4SkQf29t/s89qgygbF4byJtfGvoq2+rN6wD7Y2vTrKktID4tPwv/o/ClEWbiE5JgMqxTDXMx444zVBM4w0OjUINsAzjzKUL0kuTSz2KHIrnSUXJWAoBidxMRs5GUZpUVBU7VyKXQpjr1tTSfA5uR1rDcv0SdkZxRSq3KAHlL+LJYnahOGMs4g2jAGU15gro5Gjz605uVDEidRr40X5SAhqGb0r7DvaTKZRtFe8Vo5S6E7FQLs2DiLzDL0Acu/z4dzP68BJu463kLJ7rqewU7Ggug/CdcY307fbS+vz9xH/xwzuGKgiACaFKiUxkTdfOv40UTOvMxE2/DS5LTAq2Sb0JAUiPR75HL4atRsDHSghpiszOBFHz08BVxFeKWDJYwxZ3EVMM4UaKwe17U3Sjb0JqamcopG3iimH4IYkiuKHtIwJkmKY9aCVogCt1bmgxyPYMOjm/f0OXiIQNfhDrlP9Vmhap1otU0xMqT40MmQhsg0j/5vxleZZ1QXIGcOWvca62LZ5tPK2J70uxVbN39UL4Uzx//xdBjgTeR68JY4oWyvnLnwzizQmME4s/yo2L4UujCj1JQoj/yHBH48dUxubGIMbOR2MIcQqSzgdSCFQd1iyXWxh/GQlWdJH1DDMGVIGRerT0Zy5+qZPnBqQ0Iqghi6K74xIioSPkJNGnsSkXqbssG676cwW3XvstwCIEg4n3TcZRnFRO1cjW/xVZU1UReQ5pCwNGl0GnPhR7bXhU9Kjwxu+2LupuJ60xLHUtKS8EcZYzV3VduN39MsAzQj5FC8hDSjZKxwtrS91MiEzji+uKWsqYiw8K+QmlCCNHyQfohxHGG8UbxW6GK8bkB4OKyY7UEcJVAJZtVu6Y6hjylXYQoIqTRVTA37lYM2rtzaknZ1dkUyKGIrIi1COvIwtkOiTjJ3Po7CkG69Yu4zO7+CP8D0F3xgKLmk/GkwpVZZaLl3rVu1MsEEuNWMotBRCAEzy3uXf2i3Njr+huTC25bUqtGSx5LVVvkjIjs9Z2fHnPPUMArUKpRRlIO0mvioXK48tfzJjMrYvMSsrKtgsKipaJhEhmBwPHrobehj8FoYWPRwWIW4nhDMyQntQ4lj4XVdf1mETXzdMbzULG80F9/H703q8HqjumyyWrYtOiHmJDo7hjzCO3ZHTl32g+KXtqkS1isW+2vTtkwBdE5MoBj3OSpFUh1nAXCRadk5hQxc3MSqnHLAHevX96NDf7tWTxQK7pbWXtCK2+rLssjS4wMUK0OrVy+OJ8r0AZQl9EsccIyNVKgQrLSxfLmIxyjMvLuos9S0HLkYrDiW8ICMe4x7JGQ0VSRbOF/EelSMlKkI7skmxVkNgVV4EYrVklVjWRtQpKBFIAJTm7c24teGmXKHnmS+TwY1OkzqWuJMwk3qREZwgopmkfa8EuU3OROXS92QMBh1qMjtEIU3hUeBR3FJ4TNY/jjOfJvIcvQzt+iTvDOJ32aLOQ8IIvE62cre6t5u07rhcwjbO0dah4NntvPv6CDMQKBdbHbwjLSgSJzUpOCzULtIubC1BLm0ucS4hKjYkwh8THmccQBikFg0W9RoXIbAnYjPfQOxPJ1jbW7tbJF03XIdJ9TPhGnIGCfe+3fnIZbW+qjupt6GBmrqX3pu7mxqYjZaFmMeh06bwrCy3B8Yi3Lvx9ARtFP4kFje6RIdKOEneSDNGyj3VMuEo4BxuD/MCAfbd6xLfSdUDzfLBQLy5ulK7m7pvu53BZstq1w/guelz9CkADQo+EGwWHxqCHikjriZMKA8r+y1CLQAvlS4nLB0qFyT2IBMd1RoEGYwXaRqCHb4iMypmNc1CJE+cWJ9bYlkoWC5Wx0ZuMQ0a7QJh81fe6cuXutStU6u/pl6gEpxPn5iev5mXl0GX254fpIGqcbYlxOPY4u4zAroS3CAFLx06fT6oPYo+Kz0ZNQwt9CQBIOca7Qyb/XvzOejA3tTSJMSWuv216bk+vpi7wMCM0OLdAeif87380AaEDxMSqhUoF70a4x9fIcMjRioALoMw/TPdMicyIC82KggksxwGGvMWohXpE90Xcx9FJZQwiDzESOlTN1n9WGlUyU+bR542Zh9DCrz8f+vM2zPN778guSW0Lq4VpQmgjp4mmSaVJpOomPqgJKpLt4nEQddu7CX/bgwTGKgiRy/4Nqs1hjVwOHM3dDPHLDskNxw0Ek8EpPaO5iTaqdCjxgO/+bikuta/+sMixtDMW9fF4M3mCuwy81P8RP9GBGAMpRL0GkshvCY4LXwxBDZlOUc1sDIeMMoryigKJAwgGCD+IvQj7yS3KF4ugjezPdhF30wBTRlMPUq8RSY9tS/zHc0N8P9g74Hi6dRbx7W+Xrc/sFKqqaWRoXOgm51pn1ulsatOs829Xcpk2J/nW/VxAXYMqRTqHPwjIiWaKI4qVSb7IO8aHhXjDjIEi/lr8VfpMOVp4dnbYdjN2uDeO+DP4HjjQeha7dDxC/Nt9o/76/9mA9EHDA5mFngdoSK0JSwq4C9VMig0ty8lLGYtGi3iKlAmQyNzJNcmtCVtIYYhFiTWJx8tzzDoMp40lzPxMMovJSdeG2kPQwPN+RDv0OLM2BzSCMxjxl6/9blztimxYa8JrkeuC7K2tDW9iskK1NjeWOrP96oErA6TFXkZ+R2UHJYeWhyZFcIQYQvACaADIP/m+TH2+vNB7m7qxufU5SDlT+T35UjpQutL7rjy+vY0+Zj8AgAwAUEHsA7jFr0c1SBOJxYuKjToNLgznDSZMUQzXS0EKkgwaCFzLg4qAiCWLMgdhCacIVQhuykgJiAsMihgJgAoTCKeH34TjgmGBGv3fPaC5orjP9851WfV3MyfydzJBr+MwJ+8W7u0wdy/hMlgzVDWDuAq6WLybvdj9376Ifek+Jj6afk1+Uj5Zv7yBFsFMQcYBYwB+AFI/Cn4ufND9G/0pfY59rL4LPsg/PP8wv17+/r9eQKBB6UPnhMkG8gkECuIMBUzLzOgNbo1GDSIM6YyejCHMrsy4C9RLo4p/CONHusX2xOdEPIM7A4REiYUARj1Fn0UyhLnDhAIewFz+yL2JfAI7GLqcOga59fi/tzY2ATTc86gyQLFBcRjxWnKyM3S0p3Xbtkj21jZK9jJ12/Vctey1wXaKeLd53Dvw/J895H7u/zU/UP74f0K/oAAGwPMA4oGyweICD0JCwcOCPwICAsFEIkSHhUWGfUdciIwJDokyiNEITcjTiNkJWYmCyZCKrgtrysaKv4q7ye9Iykipx9RHHAYWRi5FOMSABTrEZIRjhAJEQkLDQjHB2UGkQIxAdD/VfrB+V34d/RM8tTuJegk5GrhV+FB4l3f0eJB4LTec95P2kjVMtJ+0ffOz9Hu0s/SgddT2RbcXd0p30Ti5uN35pTpefAO97H6w/07AfYDpAbSBgoGYwbPBSYI9gqYDksRjhOtFFQWxhcpFqcVgRQaEt4RuBM3FAYWKxuWGj8e9h55Hp4hICAZISchdR09Hgkd/BwDHXsWiRMjFJsPpw7vDdoLZwm2CLgE1QIFART71vnT96P1svWB9Y/21fUX8yj0a/HU8Rry8O2F7YHv2/AY8RHwwO5p66fqDObU4ojh092f4NTbxd2I4IrfEeJq4T/ieeFp4Pri2OO76D/s/PLP+LD6UgD/A28EswSfBxUIdAslD4YTkhTqFvgdbB2BFjMaBRk3ERgU3hQMEhQYSxjZFNgXsBm+G4AZrhQiFwMYoRuFF+QVgBnbFBMVIBLTFMML+g3AFcr/iAdDCEgCqQvsAWoDqQnhBA8Dqvkf//UExe1X8Yz6DPp2/ZH5/P7V9nz50v2N8g/uxO1x8nfig+KZ8S3nq+iw7mDrp++e5Nvom+7t4NbouuXW5aLxBfHy97P1pQENAHP0zf5vAbz1jP40BtMAHgkBBgMLJBbaBS0OBw9JAegDVAStEtwGHhIcCfcE9Rdg/DsDKASdBa4bcvqwBZ0WpQGACpr8SA1PDn4Gxhc+8hkTZAjMAhwNbPkZGDTx5vYDFPr4KwzhBjj03QSvAGgE9/9N9SoTC/6e9SgL4gE5Azb9rwbKCErxKwTB/gXv4PrO9az8IffS+j/6n+wYAK34Iuu48OjkWOyc+zj6Bgaz7UL8NwmA+UsBlPNJA8/7afZvBf3+RhGuF1ACWfdhFcIEjPdVBUf86gSi9woDTw3+BAb+dv7Q/9X+bwts+gUBb/uh9qP8MQjSBPANAwvQ8V8E7wA1Dhz/QQgJAOjlsAtf80wPUgOJ+mMOHejKDC71LvUaAN79mgho8bf0AwN8DeT22P6+BLT+swnq7bgP4gBg8ocRPPZxAUv1AwBLBH7uBAhk9OH3i//v8NL5m/Ro96MJbeUJBT8JI+u8CVD16ATa/1P7Whpb9ZP+3Q4l/s0bAgYXBPsNAfiZD4EBr/upGccHnfQ5Aqv0KhM8B4TqmBoO/vwBtv/Z8b0WrveD9FMLGv87/739uQE3F7kAyfNjBHr7WPcKBGsCavIAD9wLhOf1A4b3zu2lAMj3SQPd8Y34giCC8J3oshOP4UMFNfzL6/Udmu/FEM/7oO62BAbyewXl9uvzPwCBBv330vHu78j5uwK78fT/GvVJ+coBpv4bB5/4gQdO9UD/ZxOzB4ANTgDJDPQKBv59Da0K3wUECsz8bRCDFuHvwAxK/0vmgRn99Qz/wAvJ8z4TLvRv9fgGv/dcAA8EKQXKDCUEw/06AbX7rg0U/3n7Xw038/EPs/mb87YP4u3PAzEB0/d2/8wG+P9I/AX8M+/9+B/3ZAGCAKoEzAZI857+sQyl/dDywALhCo775fP7C+r9lu2BCuv5c+6U/DQE3ujn+2wJ6edRAury9vcJBRX+Y/qY9pgJSAl88939fBdgAnMOEf5OBlgOw/5MEsv7Lhqz/4/zXBBS9TAW6v6z77AOFfX+//YHuvrVA5L7evQTAJEDPvkKEJL9Be8ABtULXgNo+X4Def49EbD4r/46+pP/ixqN8BYBIfPv/nAVjvJh8hMKu/ms6sgRQwrg+A36BwOlA+byqwoDAAMB5/ZR+RkT3u6VCC39Z/h6DRDp3gll/m/jPwML+RkETuoj+hQZxufD/P35wvukBHH4XxGH9Mz17R8A+zsFxP558ugVGP1pHG4BX/WeAjT8ehV5+1IN1/FU+scOegI7/NP9PBLx63v/J/osBMEMfP0tC3DlhgMZCbXrQRKRA+UJKwqq5zoQAfs4A1784fdIHQLj+gSVCBb6+RNq6qz+HwKW85cVVv9g8fn87PlfD60C5/knBz749whHEhn6Rf5O+pYBjQSGA50J4PLi/aT1nf+pEOjwwf4o7bvnsA6F+YAQGfhU4XILWO8nCHb7pQTXBmXnPhCdA0T3rA38Fkv15gsz+uzwhg4vCfsHYfXuDfTxhQeK/cXwQBtj7rn+DQq586ADg/0Y7IEJHQC+/mwGDwNmB2rkYxHxBZT+MgvS5vgIEvyOEgAJZ/agFTjoEAMU/zvzAhyn9eb8gf8O+fYN0vpXAvPyXP9cEzf/sQXT+yEGw/Gw/TAdlfh4Anz5oAI6C/TrWwidAUD8XPaB9iUA5/DxG4/tp+4DFzvmBviO/18Kmw2D8/j8dAZA93UF0vYW/1AbUP7BBT8KewRn7jUMdf4k/AMTo+ikB3oI6fwa/jULF/Oa8JgAbPtYCcrw/Q/YCpLuZ/b0Bf37cfxIHWsA3PrFDwLy0+syFqoFQgYTBaP45xEf7yz3jAWC7kkDv/rhBBoFjPMxD7P7if6nAzTwTQAL+776nBGeAn0B3A149ML5EvySCBUCJQIsASHl+fz7DREZz9/G9ckXxN3tAQr1FvaKFRz/5vSr9jIPhPd27bcMvQNVCBcN3fszAsD6u/QBFlUNR+pRACYWaAq9BwrvFOvyDmz/OAn1CRnuQxT1CEb4vQAD90D+evegAfEVaA2q7RQMWQ7h0yEDwBN/9vALpQBL63MN6gxR9YwL2PaM/nUJOu3cGCoSz+5zB8v4h/Gw8lAZQR+F7O4Jj/XB/Hv9Ke4DJunxqvAFEo/saf2L/CsBJfNe6WUVt+9sBEQHTvmNGDvO6fbbD0HwngVy9W8WSv6k7x4G6uWh+voBHwujGXkBpgKC+HUJFP2H7TgPjviUBiAetvsnBNwIKfsv+zHn1QPLCPIO4Aqs6AsHgAGXBfz0ov98Ae3vXRRhAGUSmQbq5sT+HhQ+A3v6KAlF/44Yq/535yMP2wQH+TMScxDe/j4CRgeW9jf3wfhl9S4V/vx19WsKJfkuAg8G+fAG5/f0HA7PArnz/RUu9SPhBwFHAn7tKO5/FVnvvfYQCDr4AxbTDC/ekOBnF4/ycfy+FNIA3hbN70j15QRO8Ir+gwRiEz4JrPF5BFQDbAAB+Mf/+Q+Y51sRLxRD6b4kMwPB5lgR0umpAUEcFfwHJzQF289eALoIevsRGm4NY/71/xLptBh6DcnwPA+Z81fpJAhIGUUIhQwT/vbs8O0R9rYVAwQnBbUEKQOTA0reMPm4H2/uC+ZgC2kCSRoPD+jw6+dl6P/10vMsGwkXI/eS+uX/uOXb6H8NLudV9dYT6vufFvnyB90bEuPqO/vXBKPuuhTCD3UdAOoc3RUKM/5sA/4JxggYAmcjJAJr0YEAuQp7+XcXGwrC+hgMA/OyAD7+rAIzAR39PAke8joZvxQK+pP8RwC7+SfskhacEcX+owygAsMBO/ux+ir7KPP5Az4EHhmFCbHvbQOJ7/f7Lv5B/gwCtQJDB7v53wnv8U/+YP137CEWqQSKCqoDqeO0AQkFUO4k9ywOTPmC+/wXiu+g9oYDBuHlBwP84e31Gvr4hPbyAeT7ogME8R0CeQYH+iAK1hSf9r3tgQZW+tgKpA0O9hMSuwG2+vUYMOUq/mcST+6FIBgKl+5qAdH44vmNASID4gXP+9L2DA7m+aP8ewWd+rkCMAhFDqrtfgRlFr7qzAAaCqD2Bgf0BzgDFAL0+AwCZv7x+AEAFwYDBvD6zQNk9/ntkQBn+GcAg/uF/1IPz/UxAAL5VuzCB/IBZvmrCyMMHPek+aX/1ez0B34Jw/FgDgz4VgNe/kfuYgYS9bMGnP5eAW4NoQn79vr61BJU7FAJHgu3+VgRSwizAKP74BGqAUHxIAou9vkGMRuL9WAEgQPa8XEOjQvE884EzALd8ZkCx/xZAuYL1/aE9ZYO0wcbBy3+y/XlDxL22PdwCKACqgM2Bbb+3v5bE2HzkfSX+JPxAwfR+PwFHgek/fr8nffb+p79f/sj7QQFMQ5g/noFJvre/NIBkvhy/fH9IvwsBEcREACH/MgD+fPp+2sC2/jg/gIDtwLQBvf4ZfsIC1Lxn+0bAnf50QOIFQ8LUvjHDDwCRe2LC+8CZQM8Cjv+ngORB00GGQQqCeb9Ufu0/dX7yAZx/4H6nfnjAwQBb/1/A976svYM9f31f/eWAWcB7AFF/M0AkQJf+QQCMPbZ/HH+RvohB4gH6QwHADz+vPxX+LsJVglE9zv5Mgi3/3b2a/4MBLTyBvI1+rT8Mv1U/pX/ZvXK/YYNMACC+ecKCP8C+ZgDZAJP/h4L8gbH/CkM/AiNBbII2Qa2/kQErwXI/QkMyARCC9oM9P2kDLgA6fi++en8NQgtAbQKbRAx+sr6Pwa28uPt4QNc/lQBZQnAAqsLQPoL9y8HUPhz+mP/dPhhBj8NXgjd+6kDywKW9oT2FfJB+Ovzvfx7/zv9VwdF/1L2/foI8HT0wQBw/Nf8E/0FAWn7TgEz/LT//QhX+2P/Uvw1+vD2tfp9AgkA8ghmAscDSwiZ/r/5W/h69zABKgMaCJAU5QUsA6ULi/3G9gUBZf1bBOYGivyfB1kLMP+gCEz8tfg3CZ31xgBFBtT+pASb+3D/yAjHA0/+bQDn/tL/RgQR/5YDogETAGYFEQN9BfYFOAAT+d76efiA+078tvwBAwEADvmo/MP+l/M69+j0ZvFV/Sv8F/+nAxEAggLf/P/2bv6q/Sf70v4zAqsEPP5DAoUDzgXUAnn/UgJv/ycE+AWd/Bz/Oguc/W8D7wUD/+0G6gIW/Gf8bP/7+oQDxQVL/gcKCAQS/fEHpfto+bwAb/3BBXcIqQfNBdoANwUS/KkAcQQ+9Z0D0ACR99cIAAUwAwwGzgjAArX3Yv3n8Fr2JPyf9zsDmABFBx0OxfoG/Nv/mPLB9rD7ZPli/F8IYQljBmcG+f/t/+n38vO2/t71LfjNADz9xgOOABEANgQk/P74Ufpv+u76qfojAQsDvQKdBfIFSwdyAAf9PAIU/0kABv4EAMMDsAKeCtoDgwGSCEEFof5A/sgBwv85+/0CvAZy/20BYwHe/h797/tY/VX9RAFXAJb+rAOq/zL/8gFo/FMAsf9R/KIBm/zu+2AAKAI3AWkE+QX5/9b/E/57/Hj7cv1v/44CpQVRA5sCZgAQ/xD+hvpY+sf8rPth/HoDQwCK/wAF2f9T/Ur+FP2b+gr+kf4h/Rb/iP2q/u8B2gINA3EHHgbBA0UFqgK+/jf/4wG+AAgDPQO0AV0DUQIDAOQALgAm/E//kwGw/tr/kgE2AGwBMQORAIX/ZQGxAhwDpgJMA9UDnQLsAPD/qf+Z/Iz9RP+S/bMA/QGPAbgBCv4b/BH9QPvQ+c76tP2I/of+zALBACr/xQGs/fv84/0n+6j8ZfzJ+yH/vP+BAPoBRwAf/t39Yf6D/Yb8JP5j/of7V/uD/Y7++wBXA80DlAXUBFwDywPhAAL/0f9YAGIEswfwBsYHDAfIBAgFfQKpAJAAl/2j/uz+df5eAKn///+O/lr9xf6c/bf7Rf2v/dL9r/+D/97/Ev/Q/z4AWAE/A50BhwKyAvwCvwKaAMMA5f7L/lgA8P3f/oEAiQBAATP/6v8hAOL9zfzh+mL8Z/3y+sL8xf61/ncAewDS/9v/Vv88/j/9Y/6M/uD9av9dAPgBEQPUAeEBkgLcAXIBzQPsA2MElQYiBZEEFAQPA4UDkQJ8ATEBkP9wAHkB/v71/XP+VP9i/zX/RP/1/Rb9p/tf+mz7h/w0/YD9yf0M/lcAHwP7A0cFEAWkBIQDtwPDA7kBbgG3AAMApQBEAWP/bQFJAe/9Y//R/Z38vPsg+gL7yvs/+l36Nvsu+e/53Pla+YD6mPlE+Wf6CvuZ+1v8D/wH/Hr8lvvn/aECowKyAiME+QSvB/oJegt7DUkNrg7uE+wUPRVxFlcXmBnhF6kXLRkvFxkV+RJgEEkPGQ5cC2cK4QhyBvcEIwTIBYkFsAQABAgDmANyAWH/rf5/+9T3cvbj8nXve+3j6Ljm8uMP4Kfd39pB2fXXYddp1z3XtNaS1kbYUtkP26jfNeL85LPpEe7X8zj3aPpkANgFbgr+DGIQUhR9FfUXWhjtFx0aUhlgGNoWKBb+FQ0TphJCELcMLQ5nDFcKVQtJCUELXwwHDKwQwBKBFO8WmhvwJIculzdnQNNFmUchSttKWkcbQXg1minOIfoWHwwEAg/3V+7B4vDWYM2TwQ226qsYoQ2aB5a6kT+RTJODk1eX+59+pxyyW7qtwffQ5t1k6g351QZ1FZIhZi2HOdRDCUyCUaVUPFMeUFJMLkUQPeMw3yKvGCAMT/+x9N3ocuCy1vXNacvFx83ExcJPxHbIQ8vP0HfXw9+h5knt8fg+AvMKsBS4HaUooS88NG462j+DQsNC2kJ9Qdo/6TyAOaI2EzF9KzMoYSTRIBghpSNcKRst3iyiLMop7CgzJnkeMBSxBc77pPZH8fHpZODO2m3X7tGOyNu/eboNs1+qDaMDoKCf05+toimnRKxtsv27BcjU0m3ZLt+T6lT3MQEgCd0RMx1YJkotWTXqPeRCXkNOQ0BCWT/IOE0xnSkrHg8SkQcF/030iOiZ3gLYq9SvzrjLAs1tzSDOOs+x0oTYHN/35VTuOvYC/JQEmA3+FVoefSRvLAI0DDkePgNCuEPmROlD1j8pPQA5DjWKMqYrhSZKJYgj+yLhI2knbTKlPHo/6kDyPAU4QzahL1gmdxjSB+P9Vfja7yDlCNzF04bNj8M0tiquw6XHm72Sjoogh6yGeIcIjTmVHpshooytmrwfyjnRz9ja5nD2WAGjCp4W6iO5LvE0cj7tSQ1OLk1lS59L+UnBQrw66TN/KvEaFw01A7z4uu034FfVGc65xpHD6MTKxSjGUMmbzwvXpNyq4g/tH/jk/w0H1BBHG9Aj3yjALLYxQjXrOJY8xz7wPtg7EDqEONU0QC4PJTce6BfsEkwPfwxSDaEOHxPVHU4r5DX1NyAzES0CKiUncCAjFigISf02+Wj3afUs727nDeIl2YHMDMG1t3SuqaLJl6mT3ZO0k5CWUaDYq4azKLnCwqnQWdoM31/mgPCe+eIABAvGGQolKypnLx84bD+RP5c8tzwAPds3li+yKWAlCh/5FSkMCAPF90jsw+QL3ofUO8kWw93DWMXBxTfHrsyi1EXaqeBg6jDzZPlA/qkEYQzfENASSBfaHdAiUCerLNAyRTdiNuQ1xzfPNbQwICqwJRcklSDXHT8cuBp3Go4dPCioNzlEOEnIR7dBrjqDNm8xGCqTHdUNOQTX/y/9Ffmx8tHrSeMf1zPI57pLriWhS5Ztj2eM2YoQixiQ4ppep6ivurYbwFzIZM4A1GXdremQ9DT9GwaDEUsbmiPXLdY3RTwWOhc2BDTtMvMvcCwMK20o4CKOHEEVZg8zCC/+p/Sg6vnf8dRHzanKC8zGz0rTntaL2iXgGui48Pv3R/0VAFMDNggvDSwRwhYnHYIifCg9LE4wMTS8NN4zbTIQMFcsSSZHINMcRxn0FpUTBBG5ENsOjg9mE+YZJSLyKdgu6S3/KIgihBxPF+EQ2gmbBL0C+wFcAHD+Hvte97TxS+oJ41vai8+BxO67ybbUtFu0KLb/uGG7C76qwBHDGcVZxmDIe8zd0LDWqNw244vsM/ZwADsK2BGyFzUbbByMHT0edh2wHEscaRzPHs0hpiIUI+0hXh0RFhIOZwaJ/634FPIU7uvsfe428erzBfg//RYCaAa6CF4IQQacBOwFagnsCOQJ8AuOCegOwRK4FOMWnhTKFiATIRFQEcEMfwvwDC0MPwtfDBwLLQxaCR0IawdbA3IBVwDuAL0A5gRFC6kPhROSFxUZBhixFVsR+wtRBn4BJ/7+/GP9tP5xAQcD8QOiA00C8//o+nP2avG77KHqMujH5mbnkOfv6AnpB+qX6uznCeaX5DLjZ+L74DLgGOEr4m/jheYG6TXqee2770TyCfRj9D711vbZ+H77yf0yAbYDewa4CvgM5g4cECUS9BIDE+8SXBOTEm8SOxKuEXcRlhACECAPzg6yDF8KowgvBz0G9QSGAzEEqwVKBmMGRghSCQAJYgnuCb8KXQqcCe0IeQhLCHoI2Qh8CbcKEwxTDVkQqhEYEloU6hTHFN4TFRJAEeMPdA6pDtoNtgwQDHIKGgmhBqcD0f+F+8329vBx7MfoVOY+4xbgBd573FHbetr/2bvYUdd+11LXN9eQ2M7Y6tnV3BngNuST5zzqDe1571fxk/J99Hf1xPX09pX4BvtR/toA/AJmBUYHTAhSCW0JIgjlB9YHqQdSCDAJYgpFC1wLsAsQC5QK/wrhCYYI3gi0B0YInAnbCU4M9QwuDUIOaw/tD2MQ7RGIEtgRGhKgEuURARJLEloSbxPpE6oVBxdJF8kYDBk8GHAXIxcXFrQTthKHErIQhA/gDTUO9A1nCikJogbxAXv+ffqg9mzzA+9N7I7pxuez5e3iHOIE4Zjf7d5638Tdvd3R3jXfc+AC4uHjOeUm507qn+xC7jzxcvI89HH2avcF+CL6XfvL+57+nAGTAr8FFwh7CZ4JzQbbDpIP4go9DKsKrwgZB4AEqf1C9+3vfedC4hjeItq92PDYgtk82oHc5d2S3vPd8doY2jTb8t4q4mfm0euB71L0P/dR+1H+e/90BBsHGQjxCyoK1QkUC1sIhAwHCaYIZwoCBl0HOgeVBGUElATgAzcGJgNgAN0BmQSZA80D2Qh+Bz4DdwWjBrsElwFBAncEnwF8BuQFvwpxEUoOaBEpDqAFMAPnAlD+AvwoBJkHBQNgCXYJ9wIuDBENvw1nFlMfdSdZJOIqXy4yLI8vNCwmJkMkNiTmHeoZqRv1FhcUuhHdCmkHSP7v9fvr+eKb3SLXRddt1n3U0NSP1FjW4tYO2FLY+ta52ZLamN7N49johu188iD6gQC5BR8MDRCyD2gQ3xJMFh0XUha7FUcYxhbSFa8VExJBDz4J4gUhAbD7pvhi83jxVO4G6/XqiOWj5ZPnUOTz5WvmAejO7cLvYfGm97b84v1dAUwC6QbvEcATgxUyEpoOBR9MIPYabB39GtsZ0RavI5EamBUGH8oYBiL4KDU2DTQKMcQ5jTMuMqIwBymEH2YcJRqoEw8PogtWBtECgACy+B/0ve/q4kPZF9KZzH/KOMtMy0rKOc5A0efU59py3xTfduBG5/rpDe/c9cT5SQHjB3IOCBQTGNwZ5Bk6HIkf8SGIIkAhDR1yGjcZ8hX9EvkPngnfBQ0A6fsk+HnwD+oe5DHjXd7P28DbwNp73a7fDuYl6GnqcfCo8LXzsfgj/Qf8H//4Bu0JGA8wF2wdphvpHMMdXBqiGUUbUBgsFBcY3R5IH1geHyYvLoA02DphQshAZDrXNm8vyC1/J9cepRqqFAsSnQwKC7UCDvq3+LDtk+WN2knPl8QOvue/Cr7lv2W/TcJByQnNX9RV1+/cV96333Dm/umh9av7/gL/DR8Wzx93I5wozStUKyot5yzOLIkptSJTHe0YMhdtE6QNHggr/5b3HPI06argZtmD09jMk8rpynHI2MpCzorTf9kH3tLi5eUr7O3w2vOB+r39hwQ/C5MShRojHmIkfCYBLBMtsCrRKl4mlicsKPooOyxlMTU9lUaPT+xVXFYyUiRIhUBWOeMs7h4JEnQIZwG/+qb3dPB66uzkW9qs0R7EnrhDrMeilKKuoUmjUaOGqR+037x9yYTR19oj4Rrlse2B9Dj/2QbMDlAbYSWFMJA2vTwcQwZDGEUWQwU/fTnFL8kovx4gGpoU4go3BF/3iu8V5CDZq9EGxS+/XrQGsqOzlrN/uqm7oseN0S7bKOek6dvyOvXB/LsFLwpyFIkV2R4wJpst3TfQN6A9MTxfPhQ+EDcnON40wzqZQIZK2lb+VxBaV1O7TzlKET40MNwacAs7++vvM+fb3QLagdLrzDbEt7z0s1So6p9Dl2iWk5WmliGZ4Z/vrli9ws4023To9fSB/YYI+w/MGX0e3CM/LfIzhz1SQlVJpkyaS7xKFUQcQEY3xi1oI5wXzQ6mAu751PCJ6MvfIdOcyE+/u7gMsdapUafPqO2uAbbnvkXJVdVC4vrt+Pdk/mwE+gisDvsUFBySI3IoTC9aNlo+/EJNRaNHxEamRF5BvD83P2FAe0b3UNtZyVz1WLBTB04cRtw6+CZxEdT8U+xl35vS1Moxwqe79LWGrz2r0KFLmiGS2ozbjHmLGZBdlImg+7BPwRDVVeRN9uoCjA8iHekl5S6OMmM4pD5rRAlMsE+hU/hShE9STMFE0T1fMuclJRpkDkEGmPtT8h/oEt0F1B3Jir8HtfGprKRtosKl3amyr6K7IccF2Fzk6PCP/KYCbgsiDlAUVBdoGnchQyYMMXE2sz3QRMNH5ExMS2lKXEVTQGw+VDr7PF5AhkjOTyxSXFO7UC9MIUMQNYAhugtf9jbm9NUOyS6+trXds3+tcKx8p6+i3J2XlCaT8Y3njyORS5Qrot2s5L9Uz2vhyvU1A0MW9x+0K5YyyTTCPFg9XUTjRZBGtkiJRZFHM0IpPaM2KCv+I6MXOQ8sBUr3VO4e357UcMY4uriz46keqFai/KS6qz6zDMEsyqTZT+d39UwC+AgiEi4VyhkbH6gjNioKLMoxQjiFQLVG+EffSpdJ00dCQ7c95jdWMiMx0zG3NpA9NUSsSINJz0jyRFg7cSuDFwgFL/H33oXPj8L5uD2xMa/Fq+2p7Ka+ov6fvpqNmAmWkZdIm8Og0qr4tMHFo9hJ6rP74Aq1GrEmbjEyOUc9PUI1Q3RFZkaqRElEM0NIQvk9zjkaNTYr0yKrF/8Id/nP58fbj87KwFG0Dqsaqluo4awIsmy2kMD7yprYMeHI6Sn0FPuZBaoL9xIMGjcfkym4Lpc1zjq/PwtG90WBSD1IWEZXRPY/lzwgN+MzxzMuMjU0vjckPK1B9kH4QtE/WjkoL+YerxHaAJXzg+fD1grLb75VuCy0PqyDqAKghJ0cmkGW55f1ktyWGptvpJCwaLcmx1nVnubD9KsBXxJgGTwkjy5cNYw7WDsaQBdBnkDvQQU/hj0RN8oz1zAKJZ0ZoQzr/V7xb+Iw1oHHsrxougq3ibqfubDAzsnxzw7cA+HG62byJ/ojAQYDYw0UE/EavCKmJ5IxmjXkOlU/qD/RQXs+gD7BOXo1+DOsLEIqtyWgI70gWR6VIGggwSOrJYwnJyp5JhUmhyQkHksVBgrbA5v6L/Lb6drfiNqP1jHUGc6Gx3/EocC8u2i3ALUWs8CvVbFDtC24c76pxdnQwdfK3yfqmvP7/CQDkwnLDWURZBjtG10ehyHyJZ4qPSrmKWAlDSBaGRMREgc6+PvuuuZF4A3aAdXf1ODVz9qx3tLgb+Qg6VbvB/N59Vr4PfzXAXsHUg8sFdkc9CR5LIg0qDmrP7dBbULDQVxABj/qOYI0ry8aLJIpQyanIvUecB1xHUsbYxo6GG4XRBdBFCMSFRBoEEQM2ARuAW39HftG9u/uH+qV5HfiGd3L1rnRwcwHzEbIG8a9wurAXsJOwk/Df8IsxpPLQc4h06/Xb91p5IvqwPH/9gH+Ywa4C7IPtRJtFggYCBgXFw4V0RLVDEcJZQVgAJv8i/bI8i7uPO4r7cPp5+g66Dvr1ut97OnsZu9z8+v2ffpE/2wGiQ1AFYIc2yIUKW8vtTQeOcQ5/zpPOo45mjmvNdUzSzGNL4ItISm2JbAh/Bw3F/kRCBCgCvIFkAT9AhACHQCbAfMA+ACSAS/+lPw9+mz4v/TP7+HtYOra51jmwuMf4mTgC+Eg4FLeE9wE2xbbK9gP1ybV6NR+1JDXutu120HhR+jD7O7xC/fg+nD8Jv8JAoIAogBhAMP/mf5U/sf9hPx8/F/7P/zR+tv4Lfgf95r2JPWB82X05fPV81D0F/dn+E/6P/8xADwGRAtgEXQYOh1xJIkoJCwKMZwykzOQMWAv+y+wLGIqECjWJ0EmgyXnJawiBiIkIKobuRXEEfYL9AMp/iT6+PWL89ryDfOt9Bn1r/bn9iD5Y/eI9Sz2LfMj8Jftve2F66jpUugc6YLoYeng61LpHupv6+/odOUL5ETiut6e3OHdgd083Qnhp+LC44XoK+yM7Hvuq/Dc7yLwou/o78/u7+8+8l/xY/MH9cb2pfbB+NX34fd/+Jf46PjW9pj45/jE+jX9m/7iAOYD9QcYDb8NEhOOGPIcbSLyJCEpwSwAMCsuFzH0Lp0r6Cs6KZUnniLUIRQhBhyEHYoc0hVVFwoWPhICEBoP4wyQB7gDLgKvAd78offG+IP1Jvbh9+PzJ/bv8xj2MfaG9T31Z/MF9XL3Qfa79Qv11fO69j30o/P08z/1b/XD8/HxO/Q/8CrtP+0h6jnpCed95jHnC+j36KfpyehR6kXqhemS6MPn0OUG5rfoM+ew50PrkeqF7C3xevHq8Af1DPZ39Jj4Dvkz+WgBjAMRA38LWw7UD6gQgxOSEuoRmBYmF6EW+hh5HqQeGSEEJe8iRiI3IsUfZx04GgwZWhVsDzMOERFaC/UNug2OCcYPQg29DNwIXQ2vC4UFtAsKA84BOQbDAGL/9gBqBLT+ZAD6BHP+lf+XAfj8ofvx+T71MfSz8kL06PJ79eD2BvWp99r1gfIm8PjrGuvk5zHmJurE5hfpTu3v7tPxge0N8IDzuvEf8mrs8u648I7vQ++07oLxJ/Cz8Lb0C/PU8gb0efEK9TP4ZviY9Yn4yf6gAAECAAPbB0wLVw33DlMMHg6eELYOiwiBC4sNpgfrCCQPLQsbDB4TRw6hD3APiw6CCxMLbg7PCX8LXhFOCSUNsBFnDdMKDAzxDgUICwlVCfIG7wm+C2EIWwaXCTIMPAXMCkkKgAOlCnML6AhEBhsEoAVvA3MC2vxp+oYB9fok+zP8K/0QArv8y/av/oP9WvUs83byAvLK73bva+l08Tr0aOyP8dbzzvA38IzuMvDr7Ertf+rZ69j2neuG8KD62fiS/dv6FfyfAJ79BvuC9/z62f2/+6z9Pf8eBTcIUgaUBuwHsgiYBvMCLAW3BWMFkQKBBI8HSgetB6UFHwUhB38FxQPxAXL/NwboBFUBZwa1CH8GkQhOBIgGYQe0Aq4DwAVjBxAI+QWMCl4L0Qm8DGEJfw1aDU8NTwt3DdgKdwolBqQHGAdHAP3+if9d/3L8ZwBP+QT9HQLC/Ub72gAu/B37SP4z+Kn1Yvk394fzzffu9wH3Lvha+ZD8O/3R+tn8B/2oAKb+JP6x/fP88f4z/mb82fdn+nb68/cw+Pz1Ivu0+jD5YP/v/jv7KgObBLcANQRkAXwEtAFiAeT+AvmpAGH8Q/iQ/Sf7uv75/7ABIALg/xIFnf6MAQ4C1/pOAPP62Plw/x/7A/1KAGj/VwUIAzkFJgqtBvkMHw0WDwYPLA0PEpwKQA2jDWn9sgQQBQr9ePi3+/n/ZPny/XP6dv17A477tvxZACICegNv/qcFFwqtCJwIWgtTDpwLRQrKCGcJ0AsaCTYI3Aa5COoGVgO0ABr86/0w9h74g/Ii88D3APHG+OP3PPSI+/f1yfg7/Cn5GPYd8SL7ZvhL9BH4TPn0/Ur+Gv5NA6oB7gZGAuwAkQWFAIT7S/eT+Zz4+PY78GPvlfoY+l/zJPzZ/Xb/QQXXBHYBMQtyDo8EvAmvBtAHsgg1A88GqwgXCCQDEQeeCWwCMgbH/wr7rQM//ZL1h/rv/aj7wvzJ+rr9IAV4AWD/zP9oBK8Dqf1X/gcEoAe3AzL/MARVC2AGG/2Z/SMFyAAE9xH4FgBGAnT/Bv7eBJIKnArPBY8AJQW6B4r/Pfk0AB4Ffv/3/p0AHwV3CNIACADBBfsHXAPF/RYBpwVtAUD9k/hq/wT+KvY/9xL3NvkZ9WH14vHS+Ur+RfOm+0MAgf/e/m//IgEBBbAHAf5qAckIwATS/dEBav8v/9b+4vt0/w0BogGL/b79bAJD/wj5QPzO+jv8lPYL95r5H/wR+vn41AMnAR79nQIUBgAFvANWANgEhANP/pb9kAGMApADzwJUBaAHZQgrCM3/ogL5BBkDhP6O/6oEbAT1A2YD2waqCDAG8QS8B3cG2gPIBdT+2wCZB78BtgC1BZUKPgOMB6QHLv4WA/n+uPx/+GD7vfV79mb7I/TG+Ur7CfjW+tgBW/xV+uD//AXF/JADyQRbAVwLDP39/6MAgP349tH22fu89L38/wBk/uAFhwVU/DwF6AMA+sz41Pom+mTzuPr89475Wf6488//gQBD+0r/kP0kBQYD7/zLAqYGiwf3BkUEQAiSCEUHf/6GAFMHOgH1/dr8swBvBkoECfoJ/q7/EgO9/Ar1B/+lALkCQfrpA3oKLARoCooDQggZCT4GKQYmA/0LBAhuAQ8HCwPsAUv9A/qB+a/3Lfs79CX55/6O//z+PAQ+B14DngUOBIX/ygFbA8f95P9QAm4B2gJZAd8FNgSy/7AE+gBEAen/NPkX+Vz7Bvgh9E/2lPuC+En4sPe4+cAAvPhx+zn9CfkR/u332/ZG+9P+ffxg960CHgT9/woFiwHR+WgDEQPK96r3AALF/aj8JgbL/5cCzwmTBvQERwbLAmAEywWABAj9uQHlBlb+pQTQAJ4AIQ0zBQgDQQTQCqcG6gGHBYP74gW3Aiz6UQJdAoYDOAZQBJYE7ARfB9MFfv3f/3H/vPt2+zj59fqA+l4AywCQAMgF/QOqBrQF7AE1AMAAuv5Q/R38RPps/1P/Kvyo/i7/wgDk/x3+b/wy/838/PXv9tb6kvfU96D7E/ho/5MAoP7q+zD/4P84+kz9C/nJ+sv8JfXj9YX6xfph+eL7t/zrAHMBbgHPBtYGewW7BQcKAAg0BMAEPgXgAP0B9f36/eIEWQOx/8UDoQfLBqEHxgANAbwGHAO0/fb8KwTfBpz/EP8VBeQKGAS+/SIChQQoBAEAiftoBJ0GxQII/OkCQQvwAKX+GABh/j4DIgHE9UP+gwNlAnP7bwEaCVQCEwLA/mf/dQK1+Lf2q/Ys++X4w/Ir/+T7IgCLAaX8KgcFBfsA0f3m/8kCovWp/Tj7Pvly//j57vuz/QYDx/xO/bkEsf2YAckCL/w6BAcEZPuj/6UC/P1P/or8vf3aAPUBhfmh/SIHOP8nAE0A6AF1Bb8CuAFqAZAGPwPk/goEF/9u/bUBk/7h/GwBkQTIAEIDFQh2Ah8IMgRD/igGbP+A/KIBPwA7/4wBTAU2AjADjQb2AXAD8gEqAbH/ff6v/v7+6QIf/3H/agNoBJsC9QEnAVQAWf+1+4P6LPpt+gv22/kN/TX6w/+yAFH/NASRBGD9if+cAlP5+/k0/X/51fnH+xf8LgENBXv+yv1iBokFj/vb/tr//vxn/wX84vohAQEGWQHFAPUIQwfhA70HXwUvA+4Aq/7e/yv/rP4b+5n+AQI7AFgAIADAAtwAKwCJAHT9CP+qAHH92fzVAD4D8v5xAiYETwENAdcBhP9L/nwAnP7O/oEDFgfwAfcEXQm4BjoDCARpAHv+Cf67+Wr3oPsd/Aj6Bvuo/vQB3gGPAusBjgNlBLEBzv3AAAv+W/76/Ef+EP+H/m4BjP7/ABgCpv5//3P9L/v7+ej4v/kY+n76qfrF/fT/5wARATQCkwCHAcv+Ov+E/738If0W/Vr9Wf/c//3+FQCPACv/Nfy5/TT80fvn+mz7Sv7HAGUDhQTJBUoHBgfABcUFjwUfBakDLgO4BKcFfgZRBe0FSQc5BewFVgSrAgD/gP6s/db77fuN/cD8g/s4AFj/F//SAcIB/f4aAj0DG/+z/8MB3v7U/WADTgCg/ZgByQCI/ikAQAKe/gsA5ACF/UX+xv55/Dz7Jvye/Af6fftR/vb7z/6B/80A1/+aALECoAA6A+cBFgARAIn/av0Y/oT8BPrn+xn9Gvva+9n8FPtH+3n97/zO+gD9dvx1/Mb7F/0x+6/74/8W/vEA0QOLAwYH1QjyCVEJwAk9CIEHDQgnBKwD8wVnA5gC/gf6B6sIVQskDDENEQ9ODq0J/AqMCLIDSgPQAgb+evvU//f7O/uh/av96fcH/TL+gve0+cH5R/UC9uv3o/VO9nX4ZPiq9yv8TvtH+y7+9fwn/TH+2vuh+iz6avg180H1qvSG8LTwTPRL8yDyZfR09JfyFfRl9BDyrPI/9IT0ivUr+aH6Uvx6AAoFfwX5B9QJFQoRCYsNMAwjC4IOgg50DycSThTkE0AUFRd2FuYWJhkGFh0Xkhe+FIYVTBWjE4wR+xKsEcMRUxmoGEwYzBxCHRcbbBxyGlcQ1QpjCI/7DvN277vlct2h2kvWds+Vz47NYcfgxnDGyMSvxBPHl8hOywvSRtZ73L/kTupr8/T40/6lBa8KVg8tE1cZVxxvHkEhYSDnH2EfrRoMFvsN2gZx/jv3QPFP6rDmbOKz4IXj9+R15yjqLetT75T1qfi9+iz+eAIIBi4LxhAbE58Waxq4HPYghSP1Ib4h2yDuH+sekhyzGYMXNxheFm4VShf+FMMTHRUxFLQRrBIwFtkY5R2kJE4nmC0BMrMz2TIxLdYhihfFDi//TvBe41nW08rxxvzAPrjMtaCzha+er0Gw9az4q8OvorSwuvXCcMyT1+HlkfGE/hUKGxMqGoMfLSKpIa8jHCNbIB8fFx0fGwsbrRoqFi0PeQtlBSX8wfSD64LhzNwz2ybas9jP3hriDOZv8iX4J/e4/YYGsQVrBjIPBw5CDJcVfBghFawZ0h2gF1wZoBvHFnIU5hZMETsNnxGrEsMNsxFHFlITOhdtGuoZbhn9HPsd3RqsH2MnDisgNHw+M0JbQwJGZkeuPC8wpiLODJ/5dOsB3AHHULratEqvnapAqgqokqPxopClxaPUorGlK6sUs0y/1s+P4BvytAPZEWwexCnULr0z/zR/MtEsJCp1J8whtx02Gm4RogtaB8L/YPVO7evkm9pI1c/UvtRj1QTa2d6x5EDtLvc7/JwBhQO4Bh4MpxGgFBYSchXnGPMdjSLGJDUgCxxOHDAY2hOTDAMHbf1v/Mv/0QDSABEAwQBUA48K4A00CmIJmgy4D5gSkhVKF6QYOCBPJxUrfjAHOkRBqkjLT7NO+kXJQm4+HjC9GxULv/NF4wXaNMvWubqt2K3YptejDqQan0GbcJ+KoxOmCK2rtPa+0cuH3vrv9PzaDfoaTSZmL3EzjDUwNAM1TjHUKTImFiEaGqwSNg0BA6H4evEy5yHZZtG+zWHI1smYzjbSRNk/5gTz7vrMAcoEBAg+D2cTNxSEE60UOBZfHqAkKSPxIPkj0iFEHgUclRP0B8ABlACq+5f4w/ZI9O/zN/uGANEAGgLRAgADTwYcCg8LOg3OEpEXpB3oJEUqhyw4MGE0/zUCO3lDEUfERzNJ0EOFPO02li/vHW0JJvZv4ebTB8sqwP2wX6kHppekHqhjqWKlP6I2psSqz7CnuFrB48rr1svni/bpArgPEBpAIIUkpyrMKhcnuSXtIVobMRhQFRQObAaEACD4au5M6eLhVdnE1DvQk84j0o/YFOEr6TXyIvo0BDUNPxRAFxsW1xm9HA4fyx8oISMfwx5NI9EhOBzVGQUWhApOB80EEPu29MXyPu+T6izvme+i7FbxafZx+TD84AKMBQ4IMRCkFLUY1hxkIfUjgCYzLegscCwvLVgthTJwPRZMjVJsVDdRAEj9QOk7xS0SFmX/4OiM2Y3SN84gxUS6mbMbrOWpganppZWd/5U5lVSaCaYHspa+q8gf1JHk4/RrA7IM0hPFFgob7SP8KHMrUCriKFcmTSNgIOUZRxESBgj8YvKs677mVOHm2sjVZdVW11jbtOEo6nnys/ja/CEDzQiKDdYSbBZBFz8aCR5xHrkhOCbzJWQh9h4NGtQTeRGqCyEEMP9Z/ZT4fPWS9yb2vvNS8gv1FfcQ+30AYwHRAjgFewpvDusTsRgWGWgaVB1xIJAjXCbVI88foyCDI8knbzG8PRlFIEemQzI7xDFrKNIbSgrz+JTpE94m1VzRRM+2yivDJLkCspuqNKfxoi+evZ05om2q6LHBv3jOPdqa5BftlPXK/TIGFQ0oFEAbeyG/JoYqji3CLy4v8yk/JCQeJRZKDf4E7f2f90rxY+lB4s7ddtwX3UHd1tyq3P3e8OP57A36zwL7B9oKJAtlDh8SqRQpFjgWrhZTFl8YCRytHO4cyBrLFioSFg6CCl8EzQEMAzYCEv8e/3D/2v42AJsAlQFZAnsERwUNBcgGtgjECz4McgtQDAQNSgv4CVkLhAsrDDANzg3TEcgXRCDOKr81KjxwOYgyuSiHIIAZRxGOCdsB//ka8hPu6+yv7Evn/d0604nIFMBJtjGvQa1qskq1GrVruGe+YMSbxo7M8NNY2hveCuCF5SzuOPkqAkMKiRD4FYoahhvxHNEeBCGPH/wcJRzSF9YTuxBlD6EOBAydCUEFKgHU/I/4j/bN9lf4r/nF+/L9pAEYBNAD3gOUBRwHOwXYBPIIDw6sELESgRYXGGUZQRqyGAUWsBL5EEIMBAdQBccE5QMNASYBNAJYAE/+tvx3+qr5bPns+IL5K/m/+lH8XP4BAHX/OgGMAocEcAZAB6gJwg2vE4YaGCIrKPoqnCsZK/cpTCh7JPgexRnVFZsRZQurBboCwgGg/d71Fu135HrbDtFoxum98brttxSzzrBlsqe1g7bQt/q6u73Cvu3A1sWpyz7RsNfI4F3qlvSg/a8EfQxgE2EYXRw0IfUlOyevJyUpMixaLq4sTCzGLLgsMCtOJ1kjSSAbHT4ZRhdqFv4VkBMDEQoPRAyVCaQEBQEK/VP5u/eA9ob28PXl9kz5vvrc+qL58PkM+575lPiF+cj6evvC+8j9HQF7BBkGjgUoBsoI5glCCFcGEAaQBtAFKQWtBNsDSwTRAwoCOgFgAaMCHQKWAbwFrAxXFDoaFh57IJsgmSDsH7QbXBWuEO4OUgxiB6AEXgTVA+sAhvqF8uPqm+OY2fHM7MQDxE/Dpr5guha75L4KwdjBg8Jbwq/CicStyNLMQdFm2ajjDu2t9K37XAJcCS4Q3xLPE60YMx8UIq8hySUWLqwy9zLnMcIxMzB+LGkotyUlJJYh4R5UHVMdcxw9G9kZwxeyFOUPOwtXBxkEP//G+SH5N/sz+xv5afdM+OT38PZL9rz0ovQw9WT1tfXY96752/rb+2j85fv6+kn8efvn+M74GPvZ/ND8afsb+/f9tACx/iv6ofog/Xf9bPvf+1z+dQDjAxcHHw0OFcIbkh6SHzIhZCEvIAsfPRsPFFYQZxFlEf8KzgRmAnsAcPxc8/DoFuEr3JbUH8oYxhvJf8qAxc7AnMEgxOzEb8RPxNPES8dNzFPT7tqT4vvqV/Oi+zYCTAU3CU8O+RLUFbIXahzUIoYn/ChLLO8wVjGILrcsyiuNJ9UiYiGLIK8f8x3qHBse5R5uHsUcehzfG+UXQxP4EGcPvgswCJMG/AXDBMkCy//q/D77KvhB9NjxQfDl7lfu8u4s7l7s+OxE7UDteO7q7f3rrOtI7qnv5u/V8+b3qvnD+eD5cfwv/z4AKP6A+xn95P/cAQQCvALsAuMDeAeOCk4NBxLvFxgYrRVwFZMYCxxoHVQW6QteCosQkhOJC6EE5wJABDQD9Ptr8/jume7f6ZrgX9vY3VLf79vh14fWw9cm2C/W3NRl1ZzVvta92lPgL+WA6W7uaPN49oj68//0AuYGKwrADPESnRqaHpcffCNUJ8ooCSlrKaYooycqJ/InNCmUJ5YlCiVdJIciFSBvHuQbWRd0EwYPNwvfCGgG2AGB/Kn5H/ly98byPu4Z6gXq8eqT56/kHORH5ffmu+hM6MvnP+lX6zXsYuzf7JLu+PF789D0nPb49277rP7L/s38Cv3GAKIAC/6e/Jn96wADAzEDxAHGAgMGBQhWCYcOvRcHHtQgzSDyH4UigClYLl0qQR7eE30XJyFVIe0VPQvPCfMLmgnj/mfymezY6HDhpNmW1BXVUdVa0eXNxswczETLh8ody0TK3MiezrPYM+Gr41jlmuqi8gn6DP2O/uMClgefCUQOgRXZGagdyCAMI4oiFSL5JOwnxiTEH7ccJCMeJJIibCGeAJj4k/4a/L8BQgKvBOkC1wH3AnEDGwacCFoH5wUUBxEJuAdXB0wF5QGWARkCyAA//If7BQH8AU8ATALoB78OTxV0Fp0PwAy2EwogoSVoG54J5QSLFHsmIiUHE1UCGwE6CwcO7wTi+Mfus+fT473jKeVG4+Tb7dMRz+zMHsu5zArPzc1MyI3BDMbc1DXiyOJW2wPc6eZd8sb23fiB/OT/SQYXDeYTlxmuG7ocGR9PIGcgISMJJTkloCLEHzog/SIyJr4k7h1kGDIXGxnEGX8V5w9xDE8LjgtEC6QJdwUl/yz8jPoa+wH8uPiy8+LwF/Ju9WH13vFT71HuTvCy8TrzwfPC85X0HvQG9N71nfeH+Ez3Hfbm95L79v3H/fr8vfzy/Sb/9f+f/3T/6f6E/pH+cf6+//YC+AMKARcA3AWGDTkSYxXWFh0VdBFoEWsbRCbvJGMU8QNzChQf7ynsHWQHyf4FCEYS1QyN/WT0lvBe7OHlT+SM5xLmrty/0N3Nos8t0ZTRHM85zAzFKsT9znHbeeHD2mDVltpq6FDzf/LP8MnzsPvGA54Iyw1MEgEVARbAGNEeYCG+IGggZSPXJUgkyCOlJwYqyySaHL0ZZB6JH1sYrhFiEAcQ6w1HC6YLFQtkBZ38dfkO/o7/S/vo9bby5fIB9Rf2gvbD9k3zsO6z7Dny3fi19ojwPeyX8MH4cvpN+N/1EPWu9eD2CPqV+fX2W/eQ+Yz7FPpQ+xb97/wi+yj3P/eH+WH8LP5I/lX+7v8kBX4P0hi0HucalhHjERUdqy7QNI8nNhDtB1sccDSOOaIj9gj+BrUUNB0tE+oDs/3u9uLsr+TE6Q7zAeuY1yfKb81Y1dPUqc9gynTKhci3yOLRPtsr3UDW7NbR4oDrXexh6CXsnfgnBKEEZAGXCeETjBVpFE0YlR13HjYazxipIPQnriNUG2EcKCJTIO0bmhnWGjkZIxKTDU0PtxZoFRoMSAZDBb4HNwdvArb97Pp7/Jv8hPuO+rj3y/Wq9lP6iPi072DsSPKc9lnyZet+6vLue/DW6jPo5urs687psem/7VzxzvAq8bTzLvZV9X70+/kiAHn8dPTT+dwHTgkkAvAAbQbrB8cEKAfkENYicDcaO0gzmyWzHYYr/jLVMpkgfCAVOY0+ZjepFyQLfg+/Dmr+aOI65VT3hfN+2yPLKNVC3NXEo69Er1/E58r+wdvDV9Gw2QvVjs++2rPmKuiF70T8tQgcCkAHkxMSHgYddRUzEAUbViPvIvYc9xZiGbEVEgr9AsYGIg8ZByf4GfEB9z78JfLX6nHtUfWj+b/3cfuhAekDQgjbDCQLFAh9DTwc7yQmIJ4UsBF4HBglGSFuFMYMkg6FEzcPtALk/M/85vmV7Mnjuek47pXlBte01GzeGeI/3bvbMuPl5g/lN+XD6t7xmfLB9Xz9gwJiBNACxAKACu8TPBmjFHoSJxiQJ4A3CEXDU4xUyEIcLgUoyDJdPDI82isXHlgdrRbHAZ/mYuCU4uLh1tF7vozAH8kSwwypEJ00tWvRatKiwUnIvORZ7JDcZtvK/w8Z/hflEMIZeSlNJP8dMyKwJzMlJCJXInMb+g2+BMj9QfWs6Wrl4OZk46zUMM24z0XS3NK81bzcauG14Crl8e5/+OABwQe5CuMU9iWgMqY50zheN+I4KDV4Nd48TkYUQPIogRsyF64UbBGhDD4DKfTa7vbtOexD47DdGd863LrgBuUi56zlIOEm4onm5uy89aL1svjE9o70fvvn/dj+Zfq7/HL/OQBdAjv9M/fx8Dr1FPp//A4EdAndCFUFTA3iHqA9rVIrSJIurB8nKkA8u0aJQzEu4iT5GaQG6fjk7yH65+3C2nbAbbnAwpfAfa0JmtWrOsYKyAa51LpW1F3eC9hN36r7nRmHF88SIBeeIRwpSSyuM1IwXy7ALYYnSxhuCr8PQg2d/BrvGO7k72XfAsybyf3RetGXzXHW/tzQ1yvTZ9zS8cT7qQDPCUoQRRi3I/MzHT7NQchC30IzQH4+bUTsSTk9/SucInEfLhaDCa8FiAFz9pXqHOY84ZjdF9we2JnT29E53mHmg+FT2WrdYesV8rTzDfkK/2wAzvmv/1UJCA3qCeUDYgKeAxEJ4AeCAQn6RvY5+Ub3qvlGAd8CDf9u/sAPDikIOnxDiD8JLlIg7CRrQqpPnk6oLwkfzhhiDFwLJgMZB0D33ufDylu+NsOlwgW7Bqc8sT7CyMI+tPSuecEf1T7VFdfR8F0HAgLt+gICzxWZKuEuRCngJq4kaiQuHZAbDRrYFzkSZQF39Tzz2PRa6O/YudfK2szb8tdk1mHVjdbO3Ivkj+9S+ckCMQcZCY4NUhn/K7857T4gPWc+YDmoMg43AEFjQl85bSuGGPELNwrUCYoCB/iK8dXr8uCp1+jSx9YR21Dbz90v4mXk4dxy2R7kCPFO+zn9VvyE9xD4d/3CArsFqAdrAnT9lfw8/f/9O/66+lf1sfjP+jH8APrM/8IDqgdrD1oczjEuQw1Ktjw8K7UoDjdhUrpbpEm4K5siLBqrEfMMlwVKB/vxEOGUwxO/isIbvEyyc6qXuPW6qrJRqFKs5cHp0VzS19of7G/4+/Gt+LoLURsuKJIpGSbLIlIk8yITImomkiN6G4sMXv6O99f2ivN96dbenNoC1h/Sb9IO0FnQUdDC2A3jAOrD8Hr4Y/5GAs8MRSG7MvA4ijqMNzQ56Dn9PZtIyk0nRxQyuSTvH3EcyBoaEuoFGPqR9BXqieIx3kfYqNgF1WvXLtqd3wTbvdX829/levIH9UTy2e/Q8zz62f/iAOAEFgZW/+j90v/RBI8GjwOC/dP4Yf51/PH8i/8TBKQDaAN2DpEeZzPIPkdC8jUYLMQrWjYVT8xW90XEKFcg4h04GP4UMgoUBIL0uuTlyYm/Tsbtwyi3/KuBtQm8wLIqqHWpCr5Q0UjU7Ntk5qrwLfD/9m8MJhrCIMgjGiB4G4gcdCXDJVwiHR+LGOQOOQOl+4H8aPnJ7R3jstwn26DZIdlE1z3Vv9RX3lnmn+nJ7jL3Zf94B7EScSPIMZY1Qi8gMTk5m0HWRstGTUKLOVIw1CmxKBUikx0xFHsHj/tw88nt7uw/6DPd4tcQ2FDYRtZS18vWFdcz24TfBOe66kzrVuoI7af5fAAH/7j8Qv+XAdUFYgSpBKYF8gYZBfb8bADFBKoDEwBUAyoEzAamEewcTSYaNcpBgz5EMewsKzCxQvNSOkjgLSkg3CRpF4gRfgdVAQX3gOmq0Q68/cRrxji8HKuJrp+177kGslGr1rjwzbzSq9BI3/ftUPWB9vABnQ3EGn4jgB+4G6oevSZTJ2sjTB27Fu4PQAr1A1EC3v6Y8ljnDeTe4wrfIt+835LexdvD3wXnmesf8nH8SAJQBE8LHhkFKAEwDzZrOpc/6zqTNss4EEMpSH865igmHkYhuh70GmsNW/wj9HDxw+064wLjmeHh1mHJZM7/107aPtZM0tzYbeCr4xLfTuVz7dzz1/Z1+JD99P1gBHIBaf4yBgoSYxHXBscB1gAIBecEDwepC1gLrQPiBLkRxyBBK+4y/jqkNvYtfSkeLnNFK1AtQS0kIRl6G4wYXRfkCrYD7vID42XK1784zPHPh8ZKs5OuDbC1t0O0qLVdwkjRrtPB0rTdneh27iv3XgePDxwaOCDdHEYY6x1aKWMtVCuqIG0XsREGCroHhwgHBuz2F+eQ41biwt2f4CbleN6b2RDc6ODL5gTxYfgv/XgB8QeTFZcjSi83MzU1vDkmO8A+8EOOQ7g73DStMwQu8CcaH0UT6AwtBNf9DvTp6ZfhFduQ113TL9RS1nLUnM7CzKDSAN5Z5O3lgOZX6JPru/HU+iIF1wgcAx8A+AIECzwPWwthCCwLcQy5CAIGTwRlBWoJyAeCBKQDpggwDSwRdBmWJD0yhTaPMsgoQyY5Lew6kEOoOlQj/xN5Ev4PdQ2uBMD+fe5G2ynJNMOAyQrKi8MWtt+uPbEgtri1aLhbxHzSqtLL0jTe7OtN8mz7vAfyEx0fsiDaGVQXuSAqLnUwdSiUH98XnRIkCqoF9Qe3BWb4Bezz5O3iquAv4n/keeOw4X3k9Oaj6DPy7/3iBSAMDhduHuwhjCXMLFU0BDqBPiQ8QzRdL4EuXS3+KkojuxbwDEQEuPo+8pzwTOxj5J/bd9aS1hHZztr01gjaguCA4lni3ueD7xnza/bk+er9eQNwBSMFBwbrCe4KGQl5CD8LYgoVBu8CBAGeAqgFXwT5/hsBPgPTBPQETglpEf8bKyfxK98snyiXJkolYTDvOsQ3hSnuGwwXjA+rDvsIaAF59DDoAdffyfPMe87JySi9gLkquPW3l7fuuc7B3cs80b3Twdm04IDobPIx/n0IahDhFC0UtxBgFWQh1CYgJKUenBjrETYK1gceCWEJHwKJ9+nv2+0O7XLtg++d7/nt5OzB8ZL4tf1eAYAHKAw3D2QV/xujII0iIyXgJ/8qGyrdJUcltCTBIjEeRBj5Eq4OBQnNAQT71fae9enxaevx5vDk3+T85j7p/+h/6QfqbOtS7gjyCfZB+GD6V/tv/Sz+8/6n/lYBSAYSB9UFeAS2AykDCAeyCUkJ4gjACQsKVAhHC58OwhPBHOEhgR48HFMcmxihHCUkjSVQHHkSuAmYA40FOQNY+5DzxO1U4ZLYINmJ2ArVx9CxziXMhMzPzQLOrNEE2hzf0eA659Drgu2U8h376gIwCfUM5AvJCQQNhRIjFJYUMRJtDhgKEQetBZUEFQV9AVb8WfnH9xz1qvO69Fj2NfiU+Zr5BvmK+5QCxgcLC24NJA97E0gW0hawF3kcUx9xHWsZcBgwGnoYRxXzEu8PoA2JCRsD7wDbAIj/8frJ9zD0RPJK8/vxGfGC8VfzM/Lt76rxk/U9+i7+0v56/ub98v62BPwLtg5JDu8NRA3bD5gTWhdtG3Qg6SJ4HTkXvBMDFJoZ4Ru0FRQJIQB0+7D43Pe58kXtzek35brbnddI3NzfLd6p2n7aut1R4RHi6uMX6qzx7vTb9Wb4Ufun/jYD/AcECoILWgxUCOwDJQZlC3oLKwjtAjT+OvyZ+7r7Of2g/mL61/SB8k/0bvab92P6wPo4+WX4WPtz/uIBLwUXB9QJBQtHDfoNlhACE+YTBxauFpgVUBIaElITkxPlEbgPKQw8CEUGHQRfAhACvQAR/Uv6//dt91b5M/vM+er4ofok+xr7qPzi/j0BmgNCBZYEuANABQ8I7wnxCpsKSQe9BloJnQxfDd8PvRF2D7EM0gnVCIUKnQ1LCaYBWf31+vj3VfWc8wPxAe4n6hnlCOKz4wjmBOQU4fnjguaN52vo3ek47q/z2feM+JP6DP17/6ECCAYcCqkLywv1CV4IxQlFDa8O7AoKCOEGUQWqBPgDFQM9AQr+6/rl+U77BPta+an3Zvcx+X/7vfss+sT6CP5nAaYCOQOUBPsFAgfcCAkKdAupDI8MqQpwCt0LrAuXCtgILghxB7IGAgQaAn0BzAIXBGcCCgEgAGYAZQHcA6YEZATsBOEDwAOQBvAIpglYCWwJ1AgDCBsJOAkOCoQJMgkQCIUGDwfvBgwJUwqVCdMFvwGg/sP+zgCJ/nf5TPSE8SbvHO/P7bHrVur06GbmWeSS5lnp5OnF55Xpt+wN79nvZfBe87L2Ifp5+7r9s//gAHQCcwVkCLIJlAr4CRgKvAqdDSsQCQ8LDaILqQseCywK/AjrBq0DFAFWAEoARf/I/Gr7ovq2+2/8sftN+z78y/4W/8v/6AGzA4YD7wNcBvsHJQm/CBIJTQnXCS0K7gnWCT8JTAlsCcUJ7AhKCK8HLAdSBi0H+wc+Bi0EFAO0BGsFsQXxAw8DSgM0BBkF/gNsBA0DAQNbA78EDwWGA8QCXwFFAyoE6QNNAigBhQBU/4n/Hf6b/LD6tfhd9i/1A/Qh8lPwVe6V7U3sUeyv6gzqEupE6qfrROun7C3tNu417zTxUvN79XX3iPeH+Yr72P2m/nEATgECA7ME6wOABLIFWwi5CMUI/AaUB10JGQkgCeAHNQkRCWMIGAhqCBUJGgjvBywI6wjrCW0JIwiECOoJ/wq9CosK3AvMDHsMagtkCs8Ldw21DCQLmAleCJwHPAhmBy4GJAaPBUAEqQPeA90CiQKPAS4BzgGBAToAJP9S/0P/dwAzAPP+6v4B/4P9o/zC/Rb99v2j/Aj68fmb+jP6M/nR+V73VPfZ9/P1u/Ut97r28PWO91P16vNF9Cj08fNM9ebzRvFQ8SHw4vBb8SzxiO/77w7wpe+38I/w/fHp8pL0OfXs9vf3sfj6+vn8P/9hABQCEgPIBLcGsAgVClELigznDO4N+g5XEIoQChHIEOAQghKbEkcSZBFWEPcP6RA3EcYPxQ5MDRENfw0GDegMxAw4DGgLfQtHC4MLLwx4C98KbQrPCPAHlgfIBtcF0gQ1A2IAf/8T/vv8EvxQ+vP40PYn9mj0yfOh8wLzaPJu8SHyy/HQ8b/xbfII8xfz3vOV8wv0FPXq9QL2evYY90z3BPio+Jn46fi++Wb5+vkr+gj6Nvpx+n76DPpW+0v7QfuK+8D72vsG/Lb8ivxF/Q39O/2P/ZP+MP8B/6j/Yv+v/7sACQLZAS8CfgJwAh4DygMZBKQEoQUTBZwFDAYtBnYHJAkFCR4I2gi/CIsJFAvhCgcK3gm2CYYJ2Ql7CcsIPwlrCfcIegiGB30HMQhlCCgIGAevBX0FKwY/BjIFXQTAA28DAgMpAr8BgAHsAPD/V/9t/tz9a/xH+2L7ePvz+mP53vcv9u72Evdn9ub1r/SU8/TyBvM/8jHz6vLz8Yfxg/F78irzYfSc8wH0wPW/9sP3R/hw+Zr6AvyC/ID8wP2d/rP/VACpAKYBNwITAv0BAQOpA+ADGwRJBCcEPwRjBIoE8QQjBVAFnwQFBVoFfwXoBc8FEQY+BuAGfgb7BSUGVAacBs0GbQaKBYAFagU5BWkF5QR3BDIELwOjAroCrAK/AQ4BkwAzAN0AWwDd/oj+I////zoAP//F/nH/PgAvAPr/WQDMAC0B5ACpAMcAMQFUAfgA+gAnAQIBbADv/8L/qP+s/4T/hf7R/X39Mf0E/c/8mfwN/NH7Lvt++gT7ofuT+0j7tfpY+sP6O/tM+wD7Cfs9+y37Jfvy+s76GPuj++L73vuS+1v7qvsf/N/88PwM/Un9Wv35/WX+5f5q/wAAMQBTAAMBBQKrAiADpAMgBA8F9QQWBXMF8wXFBosGQQanBbEFwAWHBVYFngRgBBIEmQNNA8QCxwLTAqACngIVArkBDQEzAXIBeQGkAXAA/v8SAKAAwQB1ACIAr/9KAAIAYP8e/w3/4v6b/oX+Fv62/W/9Sv2P/dv9uv2F/Qz9I/2h/Qb+W/4i/hH+Hv6R/gH/CP8B//z+QP+D/2P/A//f/vT+D/8w/9X+Jf7I/bD99v0R/rv9VP3r/Pn8TP1b/XH9c/3I/RP+M/7A/iT/xf9PAI8A5gBnAQUCOQIoAjwCggKqAnMC5wGMAYEBYAEEAXgACQDt//P/0f9H//H+XP/D/8z/hf96/yoA5wAdAScBWwEPArsCBQNdA5sDJQSMBG4EagR8BHkEQQS7A1EDAgOjAjsCdgHiAHsACQC8/23/H/+r/kD+Qf5j/mj+Qf4b/ln+nP7o/u7+A/83/zj/jf+l/67/kv+D/6n/uP/F/23/Hv8M/xT/Bf++/mr+Qv4s/vT9tv2M/X39dv1V/fb8tvzz/ED9QP0x/TX9Xv3C/RH+Pf4t/kP+v/74/in/Rf9T/5X/3v8xAFMAcwCoALsA5wAyAUIBTgF8AYgBqQGCAWwBpwGuAdgBzAG9AdwB4AEFAhMCPgJXAi0CJAItAj0CVwIvAgAC5wG6AdQB4QG0AW4BHQEPARcBEgHYAIQAbQBwAF0ATAAqAAcA+v/X/9v/6v/R/7f/k/+c/7f/wv/B/7f/tv+j/4b/cv+O/3f/M//u/sD+xf6v/pb+Xv4v/i3+I/4R/hT+Fv76/d39/v1Q/oT+of6b/sr+Jf9n/4X/kv/F/wcAPgBJAG4AeAB/AKUArACkAKcArgCYAHAAKQALADEAOgD8/67/cP9+/7n/mf+S/4n/fv+L/4T/tP+3/73/1//K/xAAQgBWAF4APwBjAJEApwCVAHgAYgBjAIYAjgCTAIkAaQBNAF4AfwCBAIIAcABoAI8AyADzAAIBCgFAAYcBpQGxAawByAHlAeoB2wG2AdYBzQF4ASYB7ADqALYAQADj/7H/f/8t/9r+iP5o/mH+Nv4D/ur9//3+/eH93v3l/f/9G/4o/iz+Rf5u/nj+ff6A/pn+rP6o/qj+kf6d/sD+yP7G/sP+xf7e/gH/If9I/0T/bP++//r/KgBMAIoAywAbAVYBagGVAb8B/wE8AkACWgJaAkUCXQJFAioCJQIYAuYBnAFoAVQBPQEEAc0AggBiAEkAGwD5/+D/xv+4/7T/nP+K/3b/kP+c/5X/kv9//4j/iP+U/4//gP+Q/5T/kP+P/3X/gf+Y/57/o/+Q/4T/dv+d/7v/uf/F/8v/1f/h/wcAHAAqADgATwBZAF4ApwDDALMAoACYAKwAqQCUAHMAZABXADMA9//a/9z/vP+G/1f/QP8l//7+wP6o/rD+qP6o/pT+if6N/qb+xv7l/vP++P7+/gb/MP9T/2D/d/+f/8H/6P8BAB0APwBiAKMAwgDRANsA8AAuAUsBXQFzAYABjwGhAcIBzwHlAe8B+AH9AeAB4AHmAecBwwGYAXkBUQE7ARkB9gDSAKcAfABPACQA5v+x/4H/V/8r/+T+vv6m/pf+lP6J/nr+Zf5a/k3+XP5v/mH+Y/5j/mT+j/6j/q/+wf7j/v7+Jf9J/0//gP+L/7L/3//l//X/9/8VADkAVwBwAJAAmgCgALkAzADgAPYABQEEAf4A9QAAAf0A6wDiANsA0ACoAIQAewBsAFgAMQD5/+P/uf+k/4//Z/9h/zT/Fv8U/wD/Ef8X/x7/JP8g/zj/Tf9n/43/pP/C/9n/8v8lADkASQBoAHYAhgCYAKIAtwC4AKwAzQDVAMsAxQC8ANAA0wDXAOEA4ADRAMwA2wDNAMsAwgC5AKgAhQCYAHgAXQBiAEoARwAVAO7/5P/c/8b/mv+D/2L/P/8t/xL//f75/tL+uf6U/nX+e/5k/mP+Wf5R/mb+c/6D/qX+w/7d/vf+Gf9H/1z/cP+K/7P/0v/v/w0AFgAwAEkAcgCOAIwAlACgALwAxwDBALcAvgDFAMYA2wDRAM4A4QDmAPQA8QD5AAAB8wAHAQUB9QDpANsA5QDiANIAqQCTAIIAbgBuAFMARAAqAA0A/f/W/8b/uf+u/5j/e/9x/2j/av9m/2r/df9w/23/df93/2j/Z/9l/3r/iP95/47/gf+E/6D/nP+k/5z/mP+q/67/sv+2/7H/zf/Z/9b/5f/o//j/AwATAB8AFwAaAB0AHwAxAC4AIQAmACQAJQAhACUAFgAIAA0ACQAOAP///f/3/+v/6//q/+7/3//f/9X/y//h/9T/0v/P/77/4P/r/+//7v/h//L/BgANACEAOQAvADoANQA5AFIATwBYAD8AOQBNAE4AaQBuAF0AawBuAGwAfACHAIYAdwBnAHMAgQCFAIYAdwCAAHsAcwBuAGcAaQBdAGkAWQBAAD4ANQAxAB0AAgDw/9//zP+9/6T/j/98/17/YP9c/0z/Ov8X/xD/Af8G/wz/8/75/v3+Df8S/xr/P/9I/1T/Yf9q/5D/qf+y/8D/yP/w/wwAHwBAADUAPgBXAE0AUQBeAF0AYABOAFEAaQBjAG4AaQBsAHgAaQBnAGIAbgCEAIAAfAByAHUAhwCMAJAAlgCaAI4AgABzAHIAaABRAE4ASQBFADYAHwAWAA4AAwAEAP7/6f/j/9T/0v/H/8f/4f/g/9n/3P/S/9n/7f/m//X/8v/r/+P/2v/y/+j/4//g/9X/z//N/8b/uP+7/8X/zP/H/8D/uf/K/9H/0f/V/8b/1v/Z/9r/7f/b/+D/7f/v//n/8v/0//f/8//v//P/8v/j/+H/3P/c/9//3v/j/+b/2//R/9n/3P/f/9//4//m/+n//v8LAAcAFQAhACsARABKAEgARQBFAE8AXABnAGAAVwBdAGQAYwBkAGEARQA+ADsANQAsABoAFQASAA0AFgARABEAEQAEABUAHwAaABsAEwASABUAIQAiABsAHQAQAAkA/P/o/+H/0v/N/8j/wv+8/7T/sf+2/7L/o/+a/4//j/+O/5L/oP+Q/5D/kP+T/6//rv/D/8P/t//A/8b/2//f/+X/6P/t/+7//f8EAAEACQAEAAsADQAMABAAFwAfACQAKgAsAC4AJgAsADQAMQAvADAAMAApADAAPgA+AD4AQwBHAEQAQgA1ADgAMwAmACsAIQAaABYAEgAMAAsABAD+/wMAAQD9/////v/y/+7/8//8/wEAAQD+//L/7//6/wMABAD5//X/9f/u/+3/8P/z/+b/4f/g/+D/5P/k/+r/5v/q/+r/6//u/+r/7v/t/+7/8v/r/+//8v/k/+j/7v/u//z/9P/v//n/6//l/+j/5f/q/+7/5P/W/9H/zP/Q/9n/2v/b/9z/1P/S/+H/7f/u/+j/6P/1//r/+f8JABMAGgAhACYAKwArADEAOAA2ADUAOAA4AD4AOQAxADgAOAA6AD0AOgA6ADYANQA4ADYAMAAuACsAMAA0AC4AJQAbACAAGgAYACAAEQAHAAYA/P8AAAIA9f/+/wAA9P/0//P/7f/r/+b/4P/a/9z/4P/g/+P/5P/h/9n/4f/j/+b/5f/f/+T/5P/r//L/8P/z//X/9P/0//f/+v/1//7//f/z//f/+f/9//P/9f/u/+j/5f/o//f/8//0/+3/6v/z//X/+P/4//D/6//y//T/7//t/+7/8v/9/wIA/P/8//j/9////wMABgD+//7/BAAIABAADAAIAA4AEAAQABUAFwAaABcAHAAiAB0AHwAlACUAJgAmACoAMwAuADoAQAA4AD4AOAA1ADgAKQAlACAAFgAmACUAGwAdAA4ADgAOAP/////+/+//6f/g/+H/4//c/+P/3v/Z/9f/1//c/9z/2//e/9r/1//g/9//2v/a/9b/1//j/+b/6f/q/+3/6//p//f/8P/y//T/6//5//7//f8HAA4ADQAJAAkACwAJABAADQAEAA0ADQAMAAwADgARABIAFQATABMADQAHAAEAAQAAAPz//v8AAAAA+v/5///////+/////v/8//T/+P/9//3/AAD6//r/AQABAP//AgABAAAAAgAAAAcAAgAAAAIAAQAEAAMAAgABAAAAAgAOABIADAAQAAkABgAHAAgAEAASABIAEQASABAADAAOAA0ADAAEAAIACwAEAAIA/f/w//D/7//r/+3/5v/X/9v/2//h/+r/3//m/+b/5f/m/97/4f/f/97/7f/0//L/9//8//3/AQACAP7///8EAAYACQADAAMACwANABEAEgAOABEAEAASABsAGwAWABIAGgAaABUAEQATABUAEgAVAA0AEgATAAsAFgAbABIADAACAPz/AAD9//n/+v/4//z//P/6//j/8v/3//T/8P/0/+3/7f/y//X/9//1//r/+v/8//z/+P/8/wEAAAAAAAAA+v/9//3///8BAAEACAAGAAwAEwARAA4ACQAJABIAFQANAAgACAAJABMAGwAXABYAEgANAAYACAAEAPz/AAD8//n/+P/0//T/8v/0//L/8P/t/+H/3//f/+D/3v/g/+D/4P/g/9f/2f/a/97/6f/t//L/7v/r/+7/7f/6//3/+P/8//j//f8HAAcADgATAA0AFQAVABMAFQAaABsAGAAmACIAJgAvACQAKgAqACoALAAmACkAIQAcACQAJAAiACQAGAAIAAgA///9//7/9////wAA+P/u/+v/6//p/+3/6P/o/+D/0v/Z/9v/5f/v/+n/6//p/+P/4//l/+n/7f/v/+7/8v/u/+7/+f/8//n/9//z//3/BgAIAA4ACQAGAAkACQAQABIAEgAOAAsAEgAdACUAJAAhABoAHAAhABYAFwAXABEAEQAJAAkABgADAAEAAQAEAP7////9//j/9f/3//f/8//5//T/7f/v/+j/7f/v//P//P/4//f/9f/4//j/9f/3//T/9//5//j//f/9//7/AAD9//z//v/9//7///8BAAIAAQADAAEAAgADAAIABgAEAAgAAwACAAMAAAAGAAkAAAD+//z/9f/3//X/9f/1//D//P/6//j/+P/t/+v/6P/m/+//8P/y/+//8//y//T//f/6/////f/5/wAA/f8HABAABgAJAAkABAAMAA0AEAASABAAEwASABAAEwAWABcAEgANABAAEQASABYAHAAbABgAIAAkACIAIAAWAAsADQAQAA4ADgALAAkACAAJAAQAAgD9//P/7f/p//D/8P/t/+3/6P/p/+j/5P/o/+X/6f/p/+j/6v/o/+//9P/u/+j/5v/p/+v/7f/z//X/+P//////BAADAAAAAAD//wMABAAHAAkACQALAA0ADQARABEACwANAAwABwADAAcABgADAAQABgAGAAQAAAACAAEA+v//////AAD8//r//P/0//n/+f/4//z/9f/3/////v8AAAEA+v/8//7//v/+//7//////wQABwACAAQABgAHAAcAAgACAAEAAQAAAP//BgADAAMACwALAAkABgAEAAYACQAMAAsACwAJAAkADgALAAQAAgAGAAgADAAMAAkADQAJAAcABgAGAAEA/f////j//P8AAP7//v8AAP3/+v/6//r//v/6//j/9//v//T//f///////P/8//f/8//5//n/+f/8///////9//3/+f/3//n/+v/0/+//+P/8//n/+v////7//f////j/8//1//f/+v8CAAIABgAEAP//EAAMAAgAFQAIAAsAEAAEABIAEgAOABsAEQANABEABwAHAAYAAwAHAAMADAABAP//AQD4////9P/3////8//3//r/8//3//r/+P/3/+3/9P/w//f////+/wAA/f/3//X/+f/9/wEA//8AAAEA/v///wAAAwAEAAQABAACAAIABAAHAAQA//8NAA0ACQAJAAgABgAAAAkABwAEAAkABwALAAkA/f///wkA/v/+/wAA+f/5//3//f////r/9f/5//L/9//3//n////5//L/8//1/+3/+f/y/+r////4//T/AQD0//D/BgD0//T/DgDz//r/EgD6//r/EgAHAP7/IAAIAAYAIAACAAQAIQD//wsAKgD5/w4AKgAAAAsAHwD5/wYAGwD+/wEAEwAEAPX/CAACAPT//v8BAPr/BwD0//X/AQDh//z//v/p//r/9f/y////7v/r/wYA2//p/wYA4//+/wYA3P8CAAAA2v8JAAQA6v8JAAcA7f8EAAcA8/8QAAwA/f8RABAAAwAXACoA8/8MACAA8/8SACYAAgAJACYA+P8RAB8A6P8aACQA3/8fAC4AzP8fACUAw/8aAPr/7v8DAAgA/v/a/zUAxv/1/zMArP8NABgAkv9CAOX/qP9hALL/6v9HALH/AAA/AJ7/DgAxAJD/JgARAMH/QgAAAM3/QwDu/+T/SADb/wEAPwDX/xcAOwDG/ykAOQCp/0oAJgDC/0IAFwC5/10ACQCq/4cAlf/j/3YAfv8SABoAqv89AOn/5v8YANf/9f/9/+7/3P8OAPP/9/8QANv/GgDh/xAAAgDK/1YAxf8NADEAo/8nAB0A3/8HACAA0f8AACsAwf8sAPz/BgAzALP/XgDm//P/dwCj/zgARQCj/4YA8P/q/4oA3v8sABcAAwAvACQA1/87ACQAoP9rAPf/pf9uAMb/1f+aAEr/PgBjAD//UgASAJT/IQARALf/FQDK/+j////o/9f/5f8pALP/AQArAIX/JQAqAIP/GAAXAG3/ZADv/4D/hQCX/w4ASQCF/zsAEwCl/yQAHwCy/xcAFQD9/zQACAAOAAYAEQAvAAsA5f8RAAIALwD0/9D/YgD9//7/MQDe/wkAPgC8/0oA/P/U/20A2f/k/0oA2/8DAD0A0f8gAC8Axv8NAHwAZv9AAFcAV/+vAPj/RP+vACAAXf/CAAkAXP/MANb/hP/RAGf/p//6ADf/EACVAFT/FgCTAID/FgB2AFH/sQC8/7f/fQCT/wgASABj/3gABgBO/9cAhf/9/3AAi/8SACIAnf8uANb/w/9dAMX/xf92AJ3/5f9UAGL/PgBJAHn/HAAzAI//RADu/7z/PwAaAKf/SgAdAH//hAAIALz/VwDv/8D/PwDg/9T/dQCp/wkATQCQ/08ACAC2/x8A8P8TAAMAyP8qANr/EAAEAAEA7//+/ycAsf8vAOP/CQAhAKf/PwDm/7j/gACu//L/aQCg/zoAOgCf/xYAJADX/w0A7//I/zAAFgCT/x0ANABg/0cAHACJ/2QAu//N/zkA5v/r/y8A3//Q/08At//N/ysAy/8LAFYAlP8cAEcAef9iACsAqv9PADAAdf97ANn/cf82Aa//sv8YAa//KgAPATL/cACQAIP/LwA9ACsA6//SAP7/8P+TAAAAFgD//63/YQC8/9H/WACf/1QAkv8AABwAZv/9/1MAWP+0/5QAev8fAL7/uf/K/zL/6v+U/yP/t/+Q/+v/MQB//zMAGAAaADUAAQBAAGcAlP9+/3gAa/++/yIAgf+S/9z/Ev9K/5T/y/7b/1T/f//1/4j/QgD2AFQAOwDG//L/vQDj/k3/BAAkANMAXgAdAXoCxAF9AucCpQDt//D/OQD4AFn+pf29AIr/FQCz/2D9Kv4a/mb+2/0l/Ur+o/73/fj8nv6c//r9hP72/nwApP8xAC4C6wEnAxUD1QNnA/UBRQNcA3QBIwIEATYBLgFZ/3IBkQBD/u3+BP7h/OD9ZfvY+qf84PxV/c79Q/zI/osBA/6Q/yX/Sf+XAb3/EAD+AP8A3QEFApUBlgKrAUgCMgHiAUkDqgEXA+4ALgJkAowCCgIRABsC2f/pALv/xf8RAhoAlgAqAZ0AyACq/1j/MABa/sf/kP/q/+IAMAASAeb/xgAGAMD/bP8Z/nD/+v1D/hz/0P7m/+n/dv/N/j7/hv+7/23/Mv+X//X/yf7L/in/U/1C/kv+MP22/QT9lP2r/gr+df+D/7P/5v/t/xoASACGACwA9gA2AO8A5ACu/1kA2ABX/9//Df94/jUAOP+TAAIBewDt/xUAiwC3/+AApf+d/yIA3v6i/3X/6f6c/kP/Pv+T/2MAiv+FAf0C4wLaBakGEQcvB8kFjATxAmUCQAFoALb+C//g/g/+fv5t/9H/nQAyAZ4CugVDBy8KAQoMCvYHDAbQBSUDtQH4/zL+5PxT+wv7Xvr9+VH67/ke+uz5U/z7/MP9uP1p/VX9o/tC+ln6x/iW9kn32/X89R/2//b394/5UvlH+lb7Dvul+9/7ifqV+pn8cPtU/b38w/1A/yUAYgAqAXEBDQEuA8YCXANbBDMG2AXeBeIENAScBGYDjwMsA8EDwQNsBO0GNQdPCloLBgy7DKMNoxJaG+8saT/QUH1Yy1QAQ6Uq5BDo8pTVlbxdrSWmX6s6uP/MLODJ7vL3E/v4+9v7yPxd/UEBugWeCgkPZRKpEa4MPwGO9P/nwNw41X7TBtns3/brzPgeBiQO8BCNEWoOWQoiBAUBYABSAkgDuwRFBr8ERwIB/kH7KPfn82Hy+fVX+9oA3glVEp0YmBrEGt0Y5hOQDXwHyQEv/e/4Wvc9+G/8ov4xAAoCPgPvAhMC+gNxBOMFlwSeBcUFOAaWBCQDggA9+3z5U/fJ9VD1/viw+BD4Y/nY+lL5zvhU+Xz5BPrP+0X/YgHeAY8ABgKVAScC6gI3BdsGsgeoBwEHzwbrBgkKwg/LG6kt10GIUdBWcU5ROCEgCAdA6S3OYr3JtkWz/72JzPnZRuXj7nnxsu6I8Pvx/fb9+1wGoQssEYcSng+wByj7jO7l4gLe/9qq3vXlNfDG9HT8hgG0A5YA3v2P/Hv6yv47AuUKMxByE4ERzg/8CsMElQD3/5UAhwAdBJoGFws4CG0F2AQeAzL9ofhQ+or59vn2/eMCbwY4CaQLqwzWDOYKuAeKBcoFMwMjAYYByABhAi0CZQHG/9n9bPpu96n3Efic+KT8ogEtBZ4E+AJtAbP9fflc9eT1ePdJ+u/+kgUpCb0LIgwlCiUHTQWTCI0SuCS4NtFErEgjQL4twxbQ/yXrz9pH0azLds0411DgHOc67J/s0ebM48PmYOtp8yP9UQVtCpwK4whoBNT7JvMc7d/pQuka643xgfM19Qr3Ava39Rz1Dvcj+yIA7gBKBPQH/gaeA2IGjAc+CKEM3Q6iEOYKfAYpAg390vZy8TzxJvDe7tX1jfvTAeoG3ggJCrgGxghrB9EJ3gmOCgkM3wvGC8sKYQosCGUGggVmB2EFCgZ3BNADkgJ/AzUHbwdRBWsFDQMZAjkCTQD9AkQBRQD+AJkFRQjbB+kIIQiRAwP/q/2FA20IjBXsKAA1FjqANE0qpxlBBaL1Leqj4DjbNNlp2zjZqdZ81sbWO9Kk1SPdE+Ru7mr3Wf2u/Ez8jvhQ90Pzx/Bw7xTvzfBF80P1efU189rvm+/c8AryxfWs/dQBCwfiC5wOSA1ODTQNjgx7Et0VRhUvFu4OJAPu/h765fMj8lr2Wvlp+oQFWAb9BS0JVweFBwsG6wvyDMwO9g5UDRgILwNM/3H+g/4CAdwHRgvHEXEO0Q4RDaEIXwnGDGIPNwy4B3wG8QT2Ar0DeATPAkX/6P3WAYcCTAPjBdwHGQYNAYcCigEYBLgGWxDjH/8pQzEdNJEtyh+ED2oG5/v68/PrCehF5szc6NdR0iDPMscsynLQ39X92U3kzOmK6zXtheyW7zHw5PIZ80D5HvhV9a31dvbW72buBPG+8ar0uvg5/mz/JQDn/n8AnQM3BOsJ1xXHGosaFhfWD5cBff3L+4r5FwCHBFkFbgiPEG8JpwUgCqwGPgCSBJgOfw2aDMUPugy+A+wAUgKMBGIEBgdkDw8TpRFnEI0SQA4sCtgOnRJOD/AMbQrZBFEBj/8xAcsAsAHhAIcCuQWaA50B7gCY/kX7+fxKAN//dQB2A38JsRKsHs8sFDAWLfUjCx3cE/UMxAkxAGT5n/Du6svj7NoG2J7RB83qzl/QAtUA25vguuBt4WjkheYb6cPvivHo8l/0Efbe86bytvXC8gD05PXd+AD45Pnf/Bz9U/sIAHMA1wPpDDwWFxlPFc4P3wIF+3D8Q/+hAf4HUQtKCNkD2gkbAj0DeAiBCtoLRA5+E2cOzwliB+wEJgAhBD8GcQkXCYIKxguWCjsKhgrMDQYPhhEzGfgZxxQSDmYGuQBL/v8DMQgaCDwGSgXJAQ8Cx//G/0gAOf92AYMCywJ1ABH/qPyK/boC3wzAGVIlviglI/ocHxV7EJ4M+greBwX/e/jL7kPklNnM0j3OgM39zXXRQdhy2YjY39Zq2HjYId+g54TsOO8V8p/0H/XR9nv29faD9376If0Z/2sAZv4z+rn32fe7+vMAFwunDyEQegwbBQf/P/12AE8DrgfOCPUJqwekBxsGxgOmBrsMCxBlEoQVORMWD+kKEwpNCBIIRwxYD0INhgu+CuAJgwi2CL8LyQ7aEBkVPBg6F3sTURHMDioKIwjbCVMKowagBesEqwHpAGUCkgHYAPgCpAPA/7j8gvos+E71xPf2+j8A4QczEhIWnxONFIMP6w0LD3sNCA7bDNsEOP/+9qntVeWm4NXeiti51yXY5dNe0fjR19Kb0m/Xa97L37Pjk+ii6THtbPBx80n2mPc7+7j9/P+CAMn+d/8lAO4AgQT/B+YKMwzODkQMlwhLBwkFMwU0CQcJtQXvAsECmQL6AMgHBwfSBkQLSA+oD80OSRHzEKUNxA77EG0QWBD7DaoNcgoGCr8MbQpKChsK5wogDdwNfRHAEBgS9hEkEFIPzgzvDH0M6wrZC1sLYAlVCWYGGARfAVIDewX7AoUDg//q/HD8Dvnc+dr4B/vi/ksCfQdBCj4MqQsICIQFDwWNBhMH7gbHAiP7XPY98r3t7Ops6nznAeIG3EnadtZj1p3YuNgc2Unb5N5X3xvfEuKY5UHnOu2s8XH2vPjY+6f8x/3mARkExQZyCfEKeAyDDywS2BJPEjkQkAooCcgIXQq/C2cJEgbtBGoD6AQFCIsI1AlECpsKCwp3C6wN0w/gD+4PjxATETkRJxHrEdoQ0RFfEvwRBRBUDfgM7gpxChILcwztCz8KuQeBBkUF4wVWCCL88/cZ+5n5wvqd+eD5wvhm+Xj6jfuk/Ef8vvw9/Hr7ifxw/qz9+/0Q/0j/4v7C/ysAOf/Z/14AtAG/AhkCowI0Az0DEgT7BEEFgAXABcQFjgULBb8FXAWcBAcEtQRiBMwDCAUnBWQFbQV/BTkF9QSABVwG+QZOB6MH9gfhB30HNgi5CNcIkArTCtwJ2AhMCNYHgQYcBpYFywMuA8YCgwEhABT/Kf5v/BD8lvst+/r59fhm+BL3avfJ9w/4pviN+Gv4V/i2+EX5bPkC+Qj5Uflj+cL5SvrR+hP6IPrO+pf6cfqw+hb7W/sg+xr78vri+g/7oPv0+937O/zQ+9n7NPxI/Jj8qfw//Aj9wv3Y/Vn+3/4u/3z/4QAjAtoCXgNiA4YDAAQxBHsEswTHBI0EfATUBLMElQR8BKMEcgSgBPIEhQRaBGoEfQTNBKsE6AP7A4AD9gInA7sCdAKWAlsCCgIQAvUB0QGaAXsBzwHJAa8BLwJfAhkCjQK1ApQCxALKApwCWwLYAS0B2gALAJP/Kv/E/h/+rP0x/Yr87/tp+1z78fqQ+lj6HPoF+iP66/kE+kr6b/qx+hr7avt0+3j7ZPub+/b77PvY+6/7rPsQ/IT81vw2/UD9VP3Y/UH+tf7f/gf/6P7s/ib/CP8u/4H/rP+y//L/MACHAKwAxQBFAZoB0wFWAtAC/QJlA7MD1wMbBGcEkASbBI0EewS5BLMEiARFBNQDrwOdA0oDQANhA+8C3gKOAv8BFAKxATMBRgEdAZYAjwA1AMP/6P+q/3X/gf9c/yr/R/9K/yj/Nf/n/vf+T/8l/y3/Rf/7/s3+u/6R/m/+Qf45/g7+p/12/VH9Dv3g/J78TvxC/Gz8VPyK/Hv8QvxP/DX8hvy7/OL8/fwn/W79aP2K/ZL9pf3o/fz9SP6C/qr+3/74/j7/oP8LAFcAlADgAPoAIwFLATwBYAG+AfUBzQHSAb4BfgFvATwBDgEMAQIB2ADcAOYA9gD/AL4ArQCeAJ0A2AD5ACYBagFkAU4BTgEhASIBWgFLAToBTwENARgB0wBiAHYAVAA2ADkAUgA/AEoAWQAgAPr/wv+B/3v/W/9D/y3/Df/n/un+vP6m/uD+9v44/2D/V/9y/3T/Sf9//4D/ev+9/6f/fv9Z/xb/IP8v/yH/Gf8K/7b+cf5Q/gT+7f35/ev93P3c/Yf9Hv3U/HX8aPyK/Iz88PxL/Vv9qv3M/cr9J/5q/s/+mP8EAFkA1gDaAPAAIQFHAccBIAKIAucC6ALFApkCWgI4AhsC9QEMAvsBtgF4AREBmgBhACcA/f8DABUA//8CACAAIAAhADQAQwBjAJQAqQDNAOAA1QD0APMAvgDOAK4ApwCaAGYAawBYAD4ARwAgAOb/3v+y/1n/Ef+//qP+of6Z/qj+kv51/kH+DP7m/dz97P00/o7+qP7I/gP/9/72/hb/Kv9Z/4v/xf/X//r/BwACAAQA6P/N/8P/ov91/z7/A/8I/9v+cf5R/iL+yf3Y/d393P3t/fn9E/4Y/hD+Lf59/rb+Ef+V/8P/NACgAL0AFwF4AaYB4QEjAg8CZQKPAnsClgKWAmsCSgIdAqwBewFAAQ8BFwHAAI8AiQBFADAACADB/7L/zP/e/+n/wP/K/8z/l/+X/43/cv+T/7b/zP+7/6//o/9w/0D/Of9C/w3/M/9O/yH/7v7F/r/+rP6n/qr+tf6n/n3+dv5p/nj+iP6J/qP+2v4t/yj/Q/9h/5D/p/+Z/9v/IAAqAFYAhwCJAJsAlgBtAEkAQAAgAAgAKgA9APP/2v+l/53/df9c/43/nP+B/2L/Zf8m/yX/Pf8z/2v/qf9s/5n/nv+9//j/LgCMAO4APAFTAXwBtAGzAZYBxwHvAScCwgG6AZsBeAEoAbgAkwBOACoA+v/I/2X/H//P/jT+FP5b/u39Dv73/Qn+C/72/dv96P1e/i7+gP5w/rH+w/7A/hT/iP+n/xUAFQBcAGwAQADt/+T/AQDg/0AAQgD8/8D//f/B/2X/Y/+d//X/aP+3/7f/b//V/9r/IgA7AJsAoABgAJMAbADMAKMAfAAPAakAWwDg/xIACQDA/6T/sv/W/73/hv98/8X/fv9b/97/6//k/y8AdgCsANcABQEsAYwAngDxAJ0A6gDFANIApwBhAKMAqgC0AFMBLQHFAFgB0QDsAOAA6gCYAJgA/gC5AIwAbQA6APr/xf9+/6f/iP9I/0X/Yf8y/xr/rP5t/oD+Jf4z/kX+Lf73/U/+Cf6g/cj9Yf5Q/oT+hP4V/hn+NP7N/lb+6v0S/9n/pf9IAC8AR/9M/28BowBx//f/tP+s/4IAnQBSAK0A1gBiAGj+Tf8JAX0AeAACAoEAsgDeAVACAgHNAcACdQJ/AigEPQZtABv5ovhr9mf1KQBO/UX65f6T/Ob5Jfx8/2j8GQRYBxUC3v91AqQErwEYBbAJSAmQBMwCpf/+/z4DiwNKBQUGqwGg/QQB0wFmADoA5gH6/7f8h/tq/JT+1v7S/YL+of5n++74efjk+VX7B/00/3//Sv60/bv/gwIlBLcKCBB0DswH6/8i9+T1o/9fAuD5Ev/KAXP4o/kw+Yj1N/oeAsX6+vgJ/vr6Vfq8AlAHiwwVCl/94vjh8DT2jQL8/h8AggKj+8b4FP0s+ln5zgcvCWP+NvxmAlsCVgLBB5cMAwueCGMI6AK7Ax8GKAcOC4kKTQSx/YcAxQA0/p0ClQORAPv7X/uC/MD8af7E/gz9n/x+/b/6h/oS/4P/bf43/pf+U/2r/SIAsQCHAFsCLQEP/w8BIgGfAXYByQBg/9T9Gv8O/gj9L/5V/a/7dP3H/Bv7t/5K/q75A/wk/1P8b/vF/S3+4/0o/+7+Lv4b/xgAhP78/aIAugEIADMBRwFpAA0A5QBnAIoBhf8E/t0CjAABAGIBwv9x/zYBtgL1ARwG2QUs/u4CNgN9AKMHkgHe/poGgAOQ/yUDJwQb/aoDMwX2/Ij98wMaA6H+OAN5BckCBACYA6MCeAIlBEgEOwGGA0wD8Py4ALgDZf8a/s0Ay/yC+pf7xf1I/Nf6Nf1A+t/5Ofst+137s/uV/BH7d/pK/ND8kPzV/Jn/HwAP/gv+2f+C/nz8Ef8A/9n8If2h/dj6H/yJ/sz8L/1w/qv9KPvR+4v93vuM/ZP/gv4x/tv/qv6DAT4DZwGGAbUBAgN2AXMBcgHXA+gEdgJWBDcGJgR0BOUF1ATHBEoGrAZYBGYHywUXBCoHYQVfCYoGhga9BtoG9gfuBlwI0wULCdwJHAoQCzYNjwm7BpAJowmQCVUH9QZzBYcEVgPXABIAhP8w/Tf4m/Z49Nby7/F77TTsR+oE6FHnh+TJ4x/kt+Nt5G7mnOe86QXrzu6A8tX14Ppd/7EDbwXJCF4KNg6YEEkRwxNxE1sSbxAaD3YN9wxoC4QGWwUhA+/+dv2P/Jb78Pm992L2nPbJ9s71Q/n7+qX5nfzN/Rn/xgPNBvYFbgg8DAsN2wxBD+QP9g6bD3MPTA8IDtEORQ68CJ0LoQxwBoQJtwodDewOWRVKGNIQxw84DtYPPxRrGHsTzw5VCaoF5QavBGAD2/yJ+TTxi+yx6vrna+Xy3oLeldiU1SvWm9Rk0X7S/9VP1nXZwNqo23bcReOR6dHtU/LA9Y36tv72A5cGmQ2dEsgRwRNzFXsa+RllGPocvh6uHp0efBtFFbMPMwuTDX0NZAep/FD4/PX/86b1ke/Y7dvt3+y86UTtXvBk8SrytPIm+qf9IwE+/2gBAAgiCjAOchE/FEsRixBzFA4aOh7UGRoVdRM/FrYS5g5cDzQQ7ArfBk0HDAFcADH+R/8yAnsJBw7hClUI+AbzCMkM0BVaFKcSjBFLDsYQrA89DyQNkwZ9AZb97ffA9I/x+ehA5DbhgN4Y2qHRr8/J0EHLtMzj0IPNMM3/zKXTB9nO24zgQ+T46FTvjvVU+pYCBweJCfMMhBO0GrYbsB7cIQAiiiSFIzcekRtlGWsWYRb0Ew4PwgT+/Hf5If3F+6X0fvJU7ifwQuzt8D7xQfMS9dL2uPo2/UoDgAATCJYLfxI6FGMX9heCFxobLxyxIKEbFRzgF48ZHBn+Es0Tjg8YC5oIvwnLBUMAMAAa+x/4/P18A6gDIwThCJ8GXgVbC+cMXBBwEFkSwg/gDMcN7ApOCs8GPgfw/aL6+/RS8MPpL+PJ4+vdYNwL0sDRzczdytDKMsomzdbLUs71zT3RI9Xg24/fQ+Sx6vjv2/O++TgBEgT+CWsQOxHZFAAYnxkDHTEd5hvQF8cTNxlQGDkSpQ5TCvsHXwQGBSb/u/6O+hH7Q/gN95r9N/eO+Mb4AwBb/y3/a/8QArMH6wpZEVYP1BMfEqMT4BklHHscMBxkGzMYzxkrFp8WhBZIEyYQhA/0D7YELQf0A9r++QA2ADL/0/uT/4AA7AIyBVQH/AeEC+sJCw1wD5oMvg1/CXEK7AdqBQUETAOz+TXza/JU7Ljp3uRn4LDdwdm308jR7s6mzm7Oic2A0MLPv9D3zhTUr9nB3Ibjm+YY7QXxB/UT+6j/UgAGB8cMEQ8CEpsQ0w/nEQYZTBYPFYQTHRAWDx8M1BBPDioJbgjvBmcH0QS1BHUCwAAFBAcHmQlbCSQITQeHB/cLIxV9EioTYBWLFtgaYhaWF/8YpBmDHJsbZRnWF9gRcRJdEfAMLRZZEHAJlgpNBg8FdQAJCEMFDP1iAWD+F/yK/2cAo//GBT8G9AQoAYz9Y/9mAzcCKgPmB07/Gfu6+vH2mvd69Cz0FfKb7fvrJ+SL5XziLOA+3hrfIOB220HaFdll3QzceN2A4NbjgeTC5qLn7uq/7oHygvy9+gj+3AOk/wIDiAS8BfMIPAj+CmsKnQumCg0JzQaVCCQF9AkDC3IDXAeFBtwEHwWZD6YHlQcwEGkFEwxvEz0P0hRIEkEYHxV9DqYiPxdtFQsjHxp3FTodiBhsEYQZOxTjEWYT1xHeCQsCmw0sB+0COAy7BW3/ogCfAUn8/fyKBOsAI/WKA8z6IuvqBc33O/MXB8z1SvfP+ub1+vZn9sr+WvSU9oP7zO4u9Rrylu919nfxkfCK8ILt9+um653pUuwo7pPrEegE6DPpf+YH6YLo0+tG7cfruuij8D7sjuxa9gbu/faR9xf1qPW7/HL8h/oG/5T/LQVWBB8CNAWgCx0AuAZCEcQIagg5DYUNPwtiCmYP/hY+CRcOLxdCEpIMywwaG3UYYhOJFc4YKBOVGVQURROeIMATeBehFtsQMxIfEFMLaBhaDv4DoCBDAyAFhQzFDjUML/ltE5oB1AGx/oUE6wE/9McJxft59eD6sPuG9+D2F/bv/+T24vE0/4jw6Pjd6DfxCvvq4Z/4KvZV6Xrr/+zB89Tvr+0N9FTyGvaf6OD4qvcv5pv96vC7AFbtZvVxANTjkAhR9A32l/g89K0He+yo+XUFXO+D/3ACTvoH/f3/j/+k+V4FIwFpBckC1AJAAQgF8AnXA0L/9BGdBe7/MBjn/e0PSBQLEk0M2g9bEjoOYBmYAxMaug/dCHAa2AwgDMsT4BHkAkQjywCSCNAVf+9LKKwB1/2EGTgFCQI7+V0RSvzQA7YMovK9DY77OfluAob2AwRt834H2P4E8RT9YvJ4AM7zYfOE/pH4qv5w9DH2kPMX98jvS/o//+Pwcvf58rwAmeWqAOr93ecGBsLtx/d0+hLngAH37oHx+/xI7sIAOuf89QP/teb//FwDqOM7As8BKednDLDrovh1Eu3qGQWEC6HyzQbUAYj0UQg+CYf2XgtRAM/7+ROX99AC9wpjBA4HAg7Y+k4MTQLECiYJmPtiJ0nqWw8QHbjz0hEfD0YFkgdpD64MovhHHlUBCPoeGc36Qwr5BBsGQwimAocFavvCCmX/3fpADcfpOBWUAMLplA1N/P/9mvPw/9AGC/YU+hf50wj/7yr2hAum6JwRHepTAeYH0eAzHtHl2f63DdznXQyp8N/4Vwco6q0E0/OE+2L/efCVBIPrdwvn4YAAfRcmz7AaLe7k77IZdNEzGQvu/vJEFi/lhham6qIBeQyR4wIUYfRiBPcCSOw8IVnmXAXODHjm6R869rP8wxOK8lQTtvpFC4MEZvtNFOb/NgWTCLQEuwwuBfICVhXD/egUAwQTAuMS6PstFLD+mgHbEsHxbxGHAbv6VwIbB1gDz/sUB4AG5/T9BY3+yPKbDnjxcQqH+cIDbvhx/ZkAtuoaFZTvKvjmA6X6fATc6gsGi/rnBQH3uvs2Dljr6wBfBCPuhPshDRvoSwIZ+pr69vrr9Mv+kvXbAurpwPtmCtrbBgcUA0XeMBOA8Gb5Rgnf8lb9X/kRB473WvtQC3j00gCpBoj1pwt+91MKy/X/ACwSBfIZB4Xx3hTF94z+XQ0V9rYIdQbu/u4CaQQjCCsHWf/1DOz+9gfeAlgP2wJ1AjoTTvxpF8D6Kw1GC7j6txUC+IIVoPlHAQgWRPO/CU8DgQaZ/I8E4wH2/ZEH5vcjCL/6Zga7+LoF4vmKAHr/dfifCnzxHgz89VwFYvwb/CMGUfn3/u3/kP9C/O/4ygJN/AbzNwqn9ZP88/6t9TADvu9J/03+rPIXBMfukQTY+KPz+AZ986QA/PezARX+kPc/BFn2CQHN+jD9Af8j++oElfd2/YgJ8vNjBS7+zPnDCFL0YwuZ+B0CuAYv+GMLMfu2A90CtgMqBuD9wQrIA4kFVAb2AdUNMv31DOcHRfyiE4r8wwY3C0kAzArxBcsAuAqg/0sBSwh5/EwIUf6oArYEdv25ARYAlv12AmD+of6NAZ/8HgOn+98AqABi/cz9Xf/F/fn7WwFt/IL9PQAI/GsAIf9/+RcA3vr4/j79dvtu/sX9X/tg/jP+4foG/m36MwAN+g/90fxU/cf8mf3N/R77ggJ7/YD+Nv0CAjT/ovyGA2L9e/9oAQr9XQEu/hf/LgCW/af+gP/R/638oADXATn/2f8lA+3/tAEwAWkAjwMBAucCbQV7A+kC0ghKAikGvgSdBSEGgQM+B48DkAfCAmQF+wR4BG0E9gHaBQsCsgOvAiMBFQO4/xQCDP8IAGIBaf1lAdf8if+6/jf+eP6x/Pz/PfzQ+4z9Qf1Y+4j96Pv7/nf9pPyd/0L7uf65/OP7rf4D/Yv9pv6r+0D/fP2c/cT9Vvyj/wz6AABt/H/8qf9Z+kIA6fwG/vn+TPy0AJT8jv9q/5n8ewHl/hgAl/7OAI7/lP8sAdv9QAINAKEBqgCHAKEBY/+5AI0Bkv/eAVUBcf9mAsz/4QGjAM4A7QKWAYMBIAKEAhEDBwFoA8YD1wFZA9cB5gOZAowClgQiA7oCPgRxAmQCqQGsAxgCQwDcA6sBPwDrAAcCQP+CAOIAz//p/9X/EQDt/lH+dP+i/l/+wf+P/jr/4/2Y/zv/DP4H/1v/of6v/rf/Of5g/mL/qP7M/aL+JP5m/qv9SP5W/jT+z/5//oP+Vv4h/9v9G/55/qr+fv7D/n7/6v6l/1j/Jv+V/77/Tv/8/1sANgB3ALsAeAB/ALEA/v/aANgAwQAwAS0BKwHaAOAA+gBPAAoBNgGiADgBOgE2AYgBVgFsAYcBpQEQAvgADAIBAroBIwIJAoIC5gGbARACfwL0AGACFAJqAesBTwGQAdMADQEKAckAGgBwAKMAbP9w/4kAiv49/6T/Y/77/pf9CP/i/YD9oP4n/vz98f1U/gD+q/3U/Sf+e/1p/jv+iv4L/tj+/f6S/bb+Kf6U/n/+DP/q/nT/Pf/q/pP/2v5h/xb/Zf/z/0IAtv9EAOj/EgDb/8D/dgCd/yEBsQBpABEBkQDSAOwAVgAmAfAAMQFEAVYBmgGyAJoBiQAqASYBPAFLAckAugG9ANcAMAHlAMsAkQDiAHEBMABJATUBTwCVAWsA+gCxALwAPwGgAF4BaQAoAZQAfADHABwAMQHa/4kAdgDF/8v/wv/L/4X/a/8G/4D/vv7v/vz+nv6l/qX+Of49/vf98v1//p/9Jf4f/sn99/31/Qr+9/3E/QT+Dv4f/nH+8f2m/nb+ov4C/33+Jf/B/jX/Ff8h/xgAW/+8/wYA6/8TAAkAfwBpAGkA9QC3ABgBmAAZAWoBxgDnAScBnQHhAWIBoAHjAbkBTAFIArgBJgGPAnEBMQFCAm0BtAH/AKoBiwH2ADcB7ABqAZkA1wADAZkAuwC7AJUAkACiABcAxgBcADAAFwH+/9UAkQBCAC4AVwCyAKr/MQCtAGYAvv97ANH/FgCZ/4X/IgAl/8D/Q/9g/0z/CP8+//H+ef4N/7f+dv4S/0P+jf79/ln+b/6P/sH+Yf4v/nD/df6+/j7/a/40/w//3f5E/yb/hv+U/0f/4P+4/3L/2f/8/8z/zP87AB0A7/+LAGAAYAB1AFYA0AB3AHUAKwHlAJUAIwH0AOEAFwH0AP4AVAE7Af0AiAEOARYBiwG4AFgBHQGdAIwBcQDkAFgBLgAtAWEANgDvAIP/wAAwALL/6gCJ/wIA+v/j/9n/t//m/4n/4P90/xEARf/o/ycAuf5NAF7/N//N/0T/hP86/3//Q/8H/2L/Xv/n/iH/Xv/q/un+SP+8/rn+Av+b/qb+FP/J/oT+bf96/t7+Fv+P/nH/7v7v/nz/Q/8h/4v/Of/A/6L/pf9KAET/IACZACH/hQDWAHv/pQBmAIAAYwAzADMBLADFAAkBgAD2AK4AIgHaAKAAWgHlAOEAKAHNAHkBzgCqAHgB/wDDAPgAnAFdAEQB2wBAAI0B2f82AZoAEQD/ABwALAAVAEgArv86ANr/rf86AHL/gP8QADX/vf/h//3+kwAu/2P/HwCP/1T/1f/h/+f+dQAf/7P/JwAm/5//fv+P/07/dP9r/4r/Bf+q/0L/6v68/+L+Zf8y//j+lf8X/4b/DP9d/1T/Sv9X/w3/fQCo/ub/CAA6/yIAp/8fAJ3/lgCc/0IApwDo/8UAiQBbAKcASQCfAAoBBwBZAdEAGAE/AOsALAHj/6sBJwCGAWcAgAClAeH/cwFyAMUAKgHS/1UBZwA9AD8BCQAqAQsAnwBnAKX/RwF2/8MAYgDZ/4AAx/9mAHX/OwAJAD//DgCp/7v/s//C/2D/MwBq/zj/nwCj/h8AqP9C/zAA9v4mAG//Z/8GAEX/vf+s/1j/7f9c/8D/Rf9v/6P/Zv/y/8D+OABw/2r/ev98//n/Rf/C/xz/egD7/pX//v+Q//P/cP9sAPn+dwDQ/2v/WAD1/4AAZf9xABIBqv/+/0UBEwBPAHAATwAOAbf/lgCTADQAmwBEADgAfwDQAP//WQCjAK8ASgBsAAcBiwBuANwAswA5ADYB9/9oAPMAf//gAGgAu/9jAHAAbP91AEMAYv/IAHT/+f8gAGv/UwDL/zP/ewCn/6f+4gAU/xL/ZAB4/h0Acv/Y/hoAN//M/y//k/8iACT/vP+s/6X/AgA1/4r/aQAg/7T/JAD8/lIACP95/57/QP/l/6L+XAAA/53/s//Z/l0AsP7j/6P/iP8SAEL/uQAR/wYAPgDz/wkBr/++ACIAawC2/9AATwEfAOUBEADaAKwATP/mAc//pACRAdD/6wHN/7IAHAG2/+MB6P9sAJABmABUAIABZACpAKIBQv/CAQkAXQAXATAAAgEaALIAlgDz/+v/FQAWAA0AA/+AAKL/aQD7/kX/3v9h/jUATP4fAM7+rf5c/7r+Xv8Z//X/sP49/pn/Zf8C/47/8v7a/2r+vv+A/7H+Uf9t/+P/sv70/1b/Xf9t/oQApP+A/rYAq/5w/10AJv+JAG4A+P+5/wwASQBo/8UA2v8jAfP/6AGZAOb/RwFl/4wBov/XADMBHwAIAToAewAXAGv/6v8uALj/IAAPAUr/xv8mAFj/k/9xAPz/BgK2AHQB8ACv/2ICgP+nAXsBcwELAigBnv+g/0sBBv9C/5gBRf/D/pf/IP9bAbf/AwGGATwBSQHdAvMGRAf0Co8KsATJ8z7vwOyp5Zj+XPYA8nAAYvwAAav4OAKX9/n7PwfoAbIKeQikHvsV4RmAF8IBeweS5u7s1vX71vsBcfnu7C391fQBAkTsKwq2+bz2XhC1/YMMpv5FEgMa3AcfFU0Wdh1e/4T1gw5S9WYDjfe4+sAF0PPCDLv95wJg8tfqzvnp3E3yyfus7ZIIUwxY/RgLBARR8fABvgsJAKoHkQ6DFKMMvwW3AyL5WwPt/Z7+Mfv0Ce4OXwWlEYsGeQVk/gL5Nfq48o73NP0Z/u0LYf/5+1kGS/Wb90vuau8F++b6mv3/BpsCPwbiDXL2+gShAqL4qwEZAkgC+P6eBeD+cggI/5b0lQOD7pr3gvwr9l8Bgv33BCMC8PrV/KIDCPlc/l0Cxf/BAjj8gvyX/1AFl/UDBxQJev/gBOz8EACX+gX88/uO+aP/W/4u/lsIBACYBkYC8PzGCej6mwAMAvoAOQzFBA0GDg3lBnAGpf5MAVgAKvnpBR7/4ADuAs4Huwa3+B4FfgHj+4MBmAA8AkYCYPuA/lsBZvzgAMP67gPD/jj5lgEY+P8Buf4rAG//Z/pTAOX8Lf9l/MH+gQBY+p/9mADo+xb+Pf90Af4A6/06/+T+3gPL/E797QYq/TL/gQDqAUYBiviKAIf8jf0N/SL98fxb+q7/Fv4QAmD/ZAJQBD8DpgFwApoAI/2bAc38L/tA/1z/wv3o/zMCeQFE/YUAHQCD/ab+2gBQAk4AowRYA8IBPgabArn9QwKWAD3+bv4gAmYD9gCSBOUFvgTRATcBlgMZAb79j//1AIQCa/6bAFMBlgGl/aX53/66+OP4tfq7/Lv7P/xL/Zz+Yf/u/N//ff6UAAD/lv7V/Pf4Cfqs9SbzUfQM8wnw3vDy7oDtn/C07qPvk+9p86b1NfXi+V/71v3L/LX9Zfx//wb+Q/uWAHwBsgXdB2ELGQ5eELsRzBL6FDoUjxRxE4cUxxcSG/MdpR8zKUk4/UapUJ1Y204CQFw2dScMFrb1vOmE3onYk9Q9zRDK+L3PuMSs8Kn3nn+qPrScvfnYg+om/6QBARDHEM8SfBo7G+Uhcx81Jt8myyXGHM4NswEt7rPgxtSKzPjOFtNn2/nmaPJb+pP/2QQnCkoRnBKXF0UjrSUSJkUo/yHwF1oLLf4b7xLkSd+62kjfqd+I4fbqsPBN727u0fNR8VTyyfVM/OUD/gReC/URKBbMFJAUHhctFMsTcRf4G6ghxR62Ib8oEy9uN9hFkV1wX6JfcFKiRnU4WR1fCWbswOE/zWTMA8mlv6q8Ma49shmgZaCDnq+mcrQ8vhXmZPZmDJEVzCDzJlgcfSHOGeQboBCWDYkYvw+tBiD2Lu+S2nLDsLrrs/m51rklw2vVpOmB9pT7nQkbF8ocbSNcMs09V0XvRvZMGkL1KqINPPGB5VHL08HtusLCTs0I1GXkIuD/7Rrspu5P83D5vwlFCL8X9R26KZEkIBxHI0cdfBiDEYIavBiyE1oU6xd2Go4SJRRUGiEmhTO5UNRmym4vcDVeIEm6MRgggvol3YLWw88l0b/H3saSuZGqMqCIlN2UXpDsowq228ug74IMxB0YIcIuEisYH8kftiFzHWoSMBbHG70Quveg5DLY6cLQrf2uebdiu7fDbNOl57Lwbvil+WkCHgmeDQgb9ywLPElBY09VU99N5zV6Gxn9luYZ03bAjMR3xePNYdFN5Bbo/uMk6zHtNPjp98IGqRE9HCgjXCOmK3gh3hmXEocQ/w4VEPIXWRbXFV8UthD7CuoGTwMKBJAINRiJMHpPZGz1dyh40GFQSxszqRbk/PLkj95v03XVKNaLzNnB7K2/pFmTsZIQm5SscsNs1jD6wxLYHjsfQCMVICUTVhGJE58RnwysC6ILvwSN9QHk4dWsx868Nbw1x6jTtuHQ8WX/Cw9eEC4P1A+3F+0XWhepI7YtozOHMqEzVC9SIGgIL/Wd4hnUwsl7zGDL8s7X2lDg7ure74X4E/jdAfYE7QTuDlUUdhnHF9sXFxHbELUN8wUnB0cJJQk5CiwNqQl5CyQNjAhhBpwLlw6yFCMl2TSvTelnTHfNdLFmS07vM0AfJwXQ6wPhGdpL1bPVas9txV62Z61Pn0yhkKzkt87LRN349ZEIixbnFbwTZRSpDMQFcgYhB84E4wHG/0H79O/F5LHYEtOWzYzObdl043fv1vr+BQENuRFyEZkM/BF7FEIT5RZUIBQkTyKQIygeyhJXAnju6OFa2J7SaNPc2o3jEuXa9Jj3hPy//mH/ngPGAqsMSAmBFBYUQBKiEkcPzg0oCKYJmAMiBF8HcgYbBeEIjQjtB3IHQgl1CD8NIBY4HTwzqUmOY1ZygHoWbg5SHT8kI10O8/EP5fvbO9b12cTL/8s/vTK0OaVioeqrSrGGzBrYHvOrCYYYER1/GUUeCxKvCiUCigGA/vz4WPdn9bDxD+V23NDUbtBBy7nTLNy65pLy2vwLCnYPxRWhEgMWxRRgFGQU3BgYHpQdZSP7H4QZoA3w+uTny9tF0sTM4NGU4aDkxu50+1T8bf5g/YoA4/uzA58HoApwFw8VfBMqFBQUKwzlBlUH5PxuAPIGlQcXCjcM6QrfBY8KCAgqCVcSEhspKVw93VdDbTt3SXRhYf1KrzKFGZQDKvAe5ZbazNma1p7R0ck9v6W2JabpqBWxkbpVyAXaHPC+/voNOBBaEvgOqwFu+g70bvOY8un0DPgF+Bb1Me+d59XfmNhH1PPYw+BV67X2ZQOaDTYVBxoaGM0XuBadFWIWhxq3HFAYKBhnFLkLJgD99H7nUtz+3Lbbvd5o57DuR/JQ/osE4QD7CDMLdANZBWsNdQhlCG4NxAmvBnwGJwHc/EkAFP0K/GwE6waYAVkF0gluB1wMMRLkEpIYjyJKLkFChleMZ8pvrmtkWelCDy47F8kBc/EB5bHcgt4Q21DVyNJEyvW8YbGbsbOydbzIx23SOejL9/z95QDyBjIBE/fc9ffxze/a8Wv1+fip/Wf7VfUt8tvrSuR54YbjaOaJ63/0N//jCLgPcRDOD7IPJw0YDUQLMgn3BwgFdgYJCHUIvAJM/ND4pvCi7Qrtvewx7fLwDfa9+1sFgwZ0BsMHxQUCBCQGcQP4/pIC0ACLAHUCcQP5AwsGegZ9B70NpA2kCqcJpAuKCTMPQBT7Fakbwhy7IKYmozIWOwBGdEv0Q/Q61C9QJfAYsA+YAkf5XPIC7jTt3+gI5GTcMtVdy9DHPcd4x1rHOMy01AncZuO/6Drwb/He8qbwyfHG8ZHuJfAT9ML5bvq3/Mb8w/5t/ij6h/m7+GP34fav+9v/PAJ1BbMHywuCDSIOEAxyCC8FGwNdAsL/HAC7/gT+av6w/aX6FPqB/Cj9qP4QAjkE2QJZA5YEJgahBbIEmQRWBFsD4wHeAXsCTQTxBAoDYAI0AxEDoQJ9AtMClwEgATsBUwOyBRAFtga9CScNpBGfGEEfzSX1KuUqiSiKJDAj5iFfISofPRzVGvsXUhf8FXgStgsGBRj91fWU74nnqt6i1/fS5s93z5rPns8F0GDRJdBM0PDP/c65z/PRx9Xd2XneyOLl6HnuLPTd+I37sf1x/yAC5QO9BjQKVw00EfQVRhghGboaphhIGKQWSRMdEAQN/AsuDKwLrgq8Cs0HEANIAHH8MPYy9Rn00PI/9Gn0SPMC9U72Ife/+ST7V/tB/b0AMAArA9AFlgXjCCIMxgquDYwOkA1LEuIUOxUdF3obrh1cJLcsgTDQMrQz/S8ALmItdStuKbgmRiJxILwfFxlKFF8NugKN+PLx3+cy3rTXtc5VyrbIHcYlxYfEIcOCxO/E+sMoxGTG5MjszCjTONg63XXkxeur8c73XvwU/xEB5QOMB14LlQ71ETcXphpVHBMd6RtOGu8XnBZnFCcQPw1EC5IJ1gk3Cl0HIQQeAmL9xPmh+Lr0w/Od9TD1lPbX95j20/ZZ9xX37Pj++ZP5WPvP/j0CgANsBjUIxQgEDAQNtwziDq0Q/hGAFl8ZXhrEHAUfYCHWJ9Ut5S/KMUIwiSw8K/MoUyYeJCIg8xoRGcMV9w/6CzwEDfwB9DDs+eIu3PzVi9DEzZXLDslXyC7JpsazyH7HhcaEx8HJ982U0+nZgd2b5Jvpx+3X8/j3LPpD/XEB1ARPCogPJRKdFpUYXBnLGYwYWRbUEw4Shw/uDSQNOgqsCAYI1gR7BcsCI/+p/Qn7OfnT+LP4X/ig+UH7FPsg+5v7Rfqs/NT9tf7BAG8CGwOGBp8JCwrLDdwO/A5gEKYRABHDEgcUaRSNFv4WExfwF4sZNhuNHy4ieiM/JIgiAyFfHyQefhtPGBkW/RNNEkkPtAu8BtYA3PoK9ZPuGehW4lvcK9n21FHSVdA3zqfNXc35zKzLncylzdLQxtQi2TbcZOB65HHoke5X8qn2UPoP/wAD5gdvC0AOZxFSEvITaRQGFRIU7xLZEUUQ8w9gD9ENigzgCj4JzgerBcADnQFt/37+4P2e/cn9fv1a/pn+xP7W/qr/8ACDAowEXAXCBq0HFgq/C4ANbg94D5YQERFBEeoROBJCESgSVxJWEQISlxFTEY0SkBQAFsQXAxh5FhsWqBVkFGMTZRH3Dt8NUw0dC5cIVQVIABX8Uvjt8y/vUuup5n7jr+Cu3cPagtk32MjWxNdr1rjWb9cX2QHbBt7n4P3iFeao6H3sZ/Bm9J/2G/q5/CD/pwGaBBwGbwbnCMgI/QmrCrUJvAiSCFAHtwauB3YG7wWEBuMF4QPxA/8BVwDLAD4ATgAjAeYBpwIqBPsEEwU1BqQH3Qd1CUkKtQqnC0kNxA2zDkwQ5w8WEQgRyBCzEOcQWxBCEBkRERAMEOcPDRCoD7EQHxJ/EgAUfxNRExASzxCXDpEN5Qw2ClkKBQinBXcD1gAx/SP6Xvet89zwIO0K6hPnQ+X34urhuuAS353e1t0v3lHemd/g4OrikeSQ5QTovejw6ortHPDe8t30PfcX+QL7Wf18/1MAsQFSAgIDbwSoBG0FRQZ8BikGzQZ7B9kG4wfvB8IHFQjqByII1QguCVYJngr0CogLZAzGDJkMBg2NDCcNMg7CDnQPig+lDwQPAA8pD0kP0Q4UD0QOpw3JDJYL2wpwCqMKkgm8CNgHngZwBkQGXwXPBhEHmAZrBn0FSwQ4A9QDIgJ9Aa8BTgCS/7X+AP2k+gj6hPg499X2qfW488PyaPIE8UHwI+6V7YbtcOzO6xfsuOtR627t9O3P7ePuDO4l7jLwvfD88QX04vT69RP4B/m3+fX6ZfvC+/D8hP7z/nz/gQB6ACUCYATFBIwFYQZDBrcGsgdMCToKgwt9DqYPPxDJDzwPYA4RDMsKngoACGkHDQoJCFcHawhoBoMFAwgIBjQEGwZOBEwFhgcGBhgFlwbPBncGUQboBOME0wVTBAIE5AVxBGcDbwO3AmACFgRnApgBnwOAAfQBYgJbARcBIQDf/2kAZf/a/w4Azf8L//z9Nv3h+rz7KftT+l36n/hJ+Lv4r/b49ij39fVx9qb1KvVe9CD14vNp83r1SvSy9Ub2A/aJ9s/1F/eR9xf3JvYm91T2U/fe+EL4mvkE+8/9c/0v/T79B/00/tr/jQEMAXsBrgNvBJQFTQZ6Bk8IWwizBhEGjQWZBtUGKgfXBxcG6AMnAyAFTgOQBM4EmwItBVwG1gSMBPoENQPABIgEdARhBaUEIAaABsgHDAfHBzYIbgUMBwMFigVdBr4EgAWwBcYFtQWABMYFkwWvAxwH7AN+AzQDPgLCAaT/FgAL/jz94v2F+s/4c/tk+nX7Yvv+/e3+4vwh94rxh+4f6wn0gfYL9Yz5M/nk+4sAjAMMBC4CIQOW+iHzovgA96j2jPj09R77dvqZ+Rj6x/0PA5ICwgFQ/isAUwGYAbb/IQMcBgUGnQMLA3EBrP/kBewFjQxSA/P5ef1Y+ib8evzW+IL3SPul+SL5Cv2VAMMBGAWOCNUGGwm3BmgIEwpbCYEKiAm7CYsHUQu/CakJWgxNB+0J2gmfA68FJgS9A8wDRQL3BBX/0QK2BNb+rwUmAyEAQASW/YcDVwKK++ABq/rl+iEAKv24/PP8M/sH9oj48/Tg9cH/ZPaJ+QH+xPWE+/n5tv3sBSHz6gE0/9XvhQLJ+4r+cPsN/xv+0/n4+m3/XAJN9K8D3/sm9Yb5+fWc/9j50/3d/oD6+/u8+1v9D/tBBbABr/2G/OsA2AH49M0ERwA69qAErP8t+pQEGwECAZ79mQNEC1P5W/dJ/QoLGBAtBSIEdA54Dr4K7w/pAkoDvAorBMcHAQCx/3gNVgDx/iwBDPlrA+oD3guc/hb7bgWL/CsB9gNECTv+sAnzAjIBbxEfA7IIfAFDCO0OFvwXAzf/ngDGBxr79ATm+Zf9BwPh9R38ZvyH9mX6EAIT+eL5CfoH+DP85QJw8h/5hPgo+JABufJk/h3zFPuO/hztJ/f8/qH7VvqK8mL3JPss9pr47gIU8M3tehXh5BT9pgrV4sAMlfUA9foKUfWP/iAE+v+z91wIdQjd6hL9x/jyC1P87OxgE9v/oQJJ98z7+g2EANQHBvMLAA4Suur2B4EOEfvCCmv7+gRJBg4KGweO/8MISgTMDnD85QIwGnIDkQc7DsIEGQkgBPkDKwCB/fUTpv1h/5gIU/BkESf5qPHqD/z0cP7FC3/u4P67COvqjRlW+Yjv2Qmn66YSiP5D+Q4B9fa4BhcK9vme8SYDzPvf/yPwrf9tB6brdQK28nn7JgFk5HcEtvJE9R8MRuQl8JsHcfzF7l70h/dg+xADwPw29Ov55QXB+Ub3vP/FCZXyeffiCK75iwiE/MECSP+A+0UKjPza/2MIcAW0BuEOVfrXBbgGuAEbDMv7QhPMB/QFrguD8XYNYAn3AqAHfwYIBhj+9xQk+5T8Yg1AAD0Duwib93r5bBbf8m8TCgSm8wYV9uv6EAr/M/KpCybykA5RAZXt7Q/D/HH8Av9g+w8S3vWx9RT+XwFT/aL+lgPI7Qf9gQAY8zAGIPil6p4HF/VYAHz6v/O98tD35Au224j+hhHX3Q360ROU1QoErwGV7woPU+ZpGD7w6fE+GrjqaPKPFST+ZPCqB1P/swCaAIH9bgCFAYQAWxWi3ngIbBeT5UcfOPKA+eISfPTGCmsHLfopDqsMNwHj/bQQbQvoAyACogMGDD3+JRP9+1sMwAuYAd8Lu/xGFen+jfj9CwwMLv4+/ZgM9APE+KoUwP+x+uAG2fX7IZToEvCwFynoyBsV8iHxcQx95Kcb1e6381UKoPGuDUbuSwUn/pjY0hZqBBDYyBg1+Rz2JAIr8qkQWfHKBZwRPgD+4tIGhwf613EHdfHx89gBruKt/o0LR+XdBMz60u0rHo3y8vDH+7kCegiN/bAFDQkzAeQFVQuX+2f80/jDHVn04Pj3Dhb9kBOl/acAkfcLE0j0H/foExgF7wwl+GIJyAVH/YoBgw8ODY0ObQey9WsHbg5/DwUCCQfsDkz5cgkYES3w4PJhExkFffRVDlMApgSZ9Yz0jRPF8Lb+mRcz7obvBwry+yb9rwZ1+VT+qgKe8FUMSfj9+rv1MPzyE0TYowXZ/ED6GQIu6y0BdPFbBdwD5+xi9jX4QQeiBYHxjRFm9UXt8Aeb/gj2//y9DHfp0AXXA2/hCRLUAiz3jwUs8coJ+fxI874FxwqA+934Ghn08Ir2Wg6B93gKOAWZ/hoKQPOcCkgXge9NCREULeWxAk4ahQHHBpoEsQZ7BewHC/VABQobxfcFCGETYfMvBusMwfQcC9gUwgGi+rsDLgGvBXnxVAQ1FNgI0/vK7gwH1vYqFCryqPHqFN30mvgb/br7JvUlEHTgJvSyGDvq4wF8+q7wY/nz/ocCUAWf9D/wEwqG8okCtgbk5y/9qgEvA7UI0vOJ+5gIYvyh8cv5ug7H8ibzNvw6AMHyh967D0Lv5PerEb/qHP+Y/wsJpAn38XYKdwS8/I4cMAgD97USxAtZ/VURvQoG9DEBFRbzCCkF8AGx9GcN8QS99jD/YvwpCA39lwaWBDf2HhIK+2z9cg5rC/UEXwELC4/54grbCbUBMf4G/4wSVvs0/s8L/PsF+932KwGZA9T9Cgma8g398QKG82z8hP/W+rv4AAA0+DIEMPru9DsHBvkr+aMEmAGNBMsGqu8e+C4I4Pvv+cn38fkV/wX8fv0QAmwAxe6e9doGG/oeAl7+9fy+AQb1lPtAAIcIVfYF/H0MKvP7D90MCOkSCIoKp/I+B+wAZgO/Ff7zmfv+DPP4Cfg0AIEBQA5fBRf9ovuGAOoHJfU7EVsIDPunDFACKwGdCfsAafDCDqEEFfwzBR4BNBOZB6j8Uv9mAwUBjgx9ARX7gg0qAvT/6fvb/jf/qfpxAWUBEPaHA7ICVvTV+9H2LBB9+T3x5gEL+UMFsvUpCp33se9EFN/7U/YLB9AHI/XA/8wHIPInAPIMSP/H/Qz2QvkmCcDwxgOyB2/ntQQk/h3zMwPh/H/81P82AQT36Pv1AWn3EQKo/mwCKweS+2gICP+n9W4MVwPx980N8AMl/yMFGv+yAwoLPgXz7En1Xv9bBcMICP/g+bL+CQh898gBXwzX//wFKgQbAnsEQQUbCuwKcwLD/pcHQv7oA8sMrgEDBRgI1gKX98T+KflF/rYALvWlAuX+MQT7AMcEgAAw//D6Je1+/z/yxwMLCewE/Q3393UAVwCu+ID5pvr9/u0EeAJtANT95wHNBn/13voOAS74/fbcAZMAMPoy+2/8fu8t8D8MiP6s/+gCEPXt/Wf8J/wO+AoCtgt4+x4CsgRP+lP/pwZCAJH4FQY3BPEAyQTk/mP8JAKT/wIDKwbr9sz9Zwf3CJf0W/3WBp345ggQAg8ECAnvBxQGLfqLALYJQAST+hsBEgstBpUAmAy9BzP7CQfu/qn3xQIe/Rz9jwDLAEYBHf4UBU4LPv1s/PEDb/zb/ln36vhDAKf4R/7/BAH8iPjDB2ME2fiN/Q79CfpF/ZsFb/1r8wkBGAXU+yz4VASRBHD4PPt0AVYCxP6QBN4Dxv92ACv8cvxx/Jf7av6P+139GQJP+aH7Mv3Q+OoBKPsK95EBav+C/f//qgHlAv8DAwPN/Sr7NQF4Ai8COwO0/gQCTwTv+1n+aQi3/53/fwL0AX4FiAX6CHgIFQhTBLkCLAGmBTkEvvz/AVsFgADk/78Bnf/DBGYC0/kP+yn/z/s2/nACrP3B/Mv+Bfqw+tP9GPumAWgBFP0hAA0AU/zEAi8EcP4PAy0FDwOJA9QGrANbAoEBhf53/Av4xPcZ+1H39ffa/GX8avpY/HcBJwFOAAsAIQEj//AByQBW+6f9nwBo/LD78QAA/Rv/uQCZ/icBYwEHAl4FIATuBXgIdwHuANsAOf9n+bv3pPw79zn4fACx/kz/GARFBEL/xwCcBUABPgPPBWEJHQucBXMFpwMC/Yf+ov5v/TkASALvAxwGKAb6CGgL/gM5BM4CSfrW+9P60/mB/Jb8aP8p/vj7bf9FAE79aP6PA6UDeAG5ArYAPP3+/ZX9l/iZ9bj57vrL+8ID/wCKAFMDgQHaAPv9bPlV+h77+fl/++f89f3k/4sDPQCY/sABeQGX/04B9AAw/4kCaATcAxEDqAK8Ahv/+f5UAHb/E/12/gkCrv++/woBFP8w/z3/Mf1x+0H7ffxA/vj8ZP04/0kBdQKkAWoBsQHDBLAFyAT7AzQETgTsAxUDAAQ3Ai//f/42AU0Cvf/Y/SD/3AEAAuUBNgDM/wgDOgP+AI0BwgFFAPH+7v8iAC/95v3t/l/9Yv3M/Yv9qf1o/kH+H/7o+z/9xv8J/lD9fP9Y/3v9vv+7AEoA1AGFAGf/0P7T/jQA2gBj/wwA7gOtAlcDRgW8A6ACYQKoAk//Uf2s/YX83fr4+i7+gf0++6/8Jf1M/NT90v2L/WX9l/0o/mX/MwBY/77/a/4c/6cADf9B/nf/3ACHAlYDmgGGATUBl/+eADYAbf+nAKYB6gKRAt0CxQSgA6sB1QJeA4ICtQLYAt0CUwEv/8/+uP3L/nsA4f+f/ygBPwMzAj0CeAK3AMIA3ACg/9v/jf+K/iD+Hf4f/lf+tf4w/1v/o/4J/s79e/6s/er9XQB+/3D/PAGjANMAvgHwANEAMwEtAmcClgAKAXcA3P26+wf7APuu+cz6DfyK/foAhgNXBVEF3AUoBeADgwKwAS4ASP61/fb8q/tK+w38dPoZ+zr8ef1N/r/9f/7h/zIBOgHyAvgC4wJCA5YCkgHQ/xX/Bv5D/kX9Bv6//mX+pP/RAAwAQwAhAET/OABRABkBjgCfAPABAAQtBTAEHAPfA3kEbwRJBPgC6wGHALH/oP/6/xf/nP+T/47/YADwAE4B1v+LAIoAmAEMApMCYATYBJ8E2gJZAjEAQf7S/s3+Nf8dAfEE6wYsCEkKewxLC9cIxwf1BOMCwwBWATUA+v8rASQCbwK9AbgDfQLqAEX/3/59/Qn9Iv6V/Wj8E/t0+yP6d/lE+a73EPaB9NHz6fLh8Fvwee4M7pvuv+5F7qvuLPAs77zwXfJR9NP1x/h++h/8Cv7D/u7/Z//lALkALgAjAU8DywMqBdUGugeiCFcIsAcABsIGBwfIBZ4EvQRBBiYImQm6DGEQKhNgFB4WdRf5FxodBiZGMqI/m025VzdZ/Vb6UaVA4CccETP75OKb0HXFmLpps36zvLc8t5q7rcE3w5LDO8z81lHcaudy9ZEAuQgbE8sXzRdnFq4UoQtMAvz+E/jX8E3rUOoq5ofk2uQV5CPkD+it7Bzvbvbj/kQHmw3sFYwbOBzyGGsTWgzwBNX+RPYw8srwmfG78kj1z/hu+lP9WP3e/U//mwGeAikDRQfhCbwJLwliClAIPQb/B1oKKAyxDT4Q9xHzE2oWvReIFkQWcRYyFSAUohOrFJcXih0YKDw3vkghVuJZu1YkT2NCnywhE8f3GN0UxtS2g7B0rUKukLCJteG4JcDIxVPFQMR2yXDURd5h7Jj78gurGFUmAi9HMKotFCamGMgGRPq+7C3iQdpX1k3TItP51gHZStwG38ziluM86BTwuvgFAygP1Bz7KMw0xzpYOq00YSosHb8NG/yE6w7hjd4O3frddONz6fDt5/TJ/VcArwJSBkYLkQ5DFXoa0RdSFdkVAxdrE+ASOA/cCeEIhAxfDs8MHxDUD9sM8Qr8DOELyAdkCVwNwBZrKLlBjVjUaKtwO2nZWK1FuS4EC0Hk3seGs+KmCqNjp5ep5K2htgW9bL/rwpzEYL08vpTPVObQ9kUKVCFtMHg74ETyRJA3SCnOGIYAGOs74e7ZV8+ay7vNgs63zgPSidIG0V3TpdfQ3OzmuPb/A6gQPR4lLKw2SD2xPjw77jpMOZozKyUgFKQAsPAT5gHb1dLmzRXRENQX38HrAfeaALoLYhbmGeIgviDwG+0VuBtpHSMVLg2iBoMBO/xQAeT/2vsP+g7++PyH+tr+/v85/yX++gM3Bq8LCBXSJEY8rVndccd37nLSZEpS9zneHtn7sNkXwu+x1qU4oXymZKmPrEWyg7fIt/G5/bwpvh/LGuay/toMViGNOe1FXkhCS3BHdDWMICQMdfW14SzZXdMey3zHDcrdyx/Lt8z2zu3QG9P/153fsuwt/eoM1hpcKVs5SkRySHNEbD3hMqIovx2iD3b/m/G76rji0Nyk2HzXPdSI1G3aDuEY6pzzMv5sBLoOGRhmHP0bDBwzHHMYCBbmEJoLlwe3CGUJDQm6CXoI+gR1AOD9TvrY9pP00PQ1+Ir+AAaUDzgdbC9uRSNdTW+wdBdupV6mS8E1ERxd/cXh5c41wMO0MK/Ir6mujq/qsruzRbPVtfm4xbiXxgDinvnLBrAXNizdNMU43jvTOHQoZhkyDH35Der15CrjRthw1MrYq9rq0pnOydDUz5vQQNZx4FvnUfVoCDQamih4OOhF9UYjQi48JTavK/chMBb+B2/77POx7Ebkid9R3FPYbtSZ1kbbquIz7PD3IgJgDDMWaBrcGTcYNBldF5QTLQ6VC4YK3wp7DOQNBg9NDeYKewYfAwb/LvsW+FX3zPmT/ogFOw2fF4clkzn8TyBjVm2QbX9iAlAoOysk8wmX8E3ezM9QwzK6Lrfls86wwK/GriCrn6ioqQuqorJuxw/iS/VrB8kbpyqUMI0zcTd5MvUovh1uEj0Fm/2a+XfxcOma5Sbkodpo0F7Jl8YRxcvIntL53HzqN/qYDL0bESrCNAk5PjYxMJcrLSaJIPAZHRWeD+oKJQbk/3T34u6V6KXi794R3xDkkOoo85v9nggsESoWTxc0FUASUQ+GDEMJfwiyCb0MFRAvFP4V9hTJEtQO5whMAjn/Fv2j+8D7p//gBSsNLxWgHmAsHT0cTa5W+lflT3ZBxS99HLgHIPXT6CLfpNW9zRbJEsNiu8G1KbI1rq2reqt7q3mwmL9r1UHoDvoHDawbWyHFIvckqSPbH7gb3RevEbgNtAvjBeH8uPYV9MbrZeD01u7RAs2Uy5HRBN3O6lb42QVQDtQTVBb3F4UWPBRQFCkW7RfkFvgWkBalFeURJA2JBgX/wvfS8SjvJO+b8+n4Df8ZBM0IcwuBC3wJfgamBa8FDwYSBmoJzA0iEukVaxkSG9AYyBQiDxUKbgWWA4ADzARbBqAIYQt8DfIPoxKIGQojQS7wNh07EDk/MQMm8BdyCFD6B/K36wbmr+Dn3cLZj9N5zZ3IxcS+wBK/Wb02vmTDu85a2ljmRfT/APsH9AkKDO4LNgs0CWEJRgrJDDsO4Q1mDD0IOAPp/Jb2C++16vjo0el76w/vdfOK9t34Rfkp+vb5PflJ+L/4m/ry/WwBTgSDBp4IWQr4CdII/AZIBv0FAQbLBiEIvAleC2sMugzBDVAPBxBIDw4O7wzLDIgMOQzCDawQbhJeErASHxKtELsOew27DNoLVw2/DoAPARCqEA8RnxFuEUUQ1BD0E5QZ8SBQKe4svSzcJ0MfMBRIBmz6+fCH6xvoVeWL4tThpd592WDUAs84zLPIHse6x9bLC9K+2ZXip+s08wz5j/xz/fH9+vxv/QH+awCLAxQHhQrmCz0MdwkvBr8BkP2X+1j6L/t8/B3+w/4t/sD86/n99wz2lvOc8vDysvN89Z/36vrt/XcAvAP8BtwI1wmECh0KfworC1cMpQ6oEP4TkBY+FzcY0BZRFegSCxCTD4QQbRN1F0QY0ReSFqoQ9Q1fCv8E1wZgBlsDOQZNCEQJiQmJCAEJQwYHBj0DQf6y/sD9dgHqA1kH0Q+YEpoUUhb9E6oOZgZA/nP2PvF770LvKPIc9BL15vF97bXo6eGn2y7YKdfL163bYuBw5pDqye0k7wnwXu/+7aXtGe2Z7UXvc/OM+Mz9cAKXBjIJZQntCN8IqgfQBtwGbwjZCegJKAnIB4MFRgKn/mT7l/hz9mb2TPcf+Yf7c/6/AcQEsQV5BlIGuwXwBiwIYQrpDPwPiRMtFuEYuBn0GrgZeBWkE8gO/AuEDpgOGhC9EaoO/AzfCSUFHQSCATUBvwTCA34FwQZiCZ0JLgg1C6oIVwYeBQQEKQL4ANwArgNNBDIEdwQXBjIGgAJCAp8Bzf99/Kf7P/pm+JX2KPfo9bH0ZvSZ8frtyeni5x/lNOO148TlPedY6JnoGuk06a3pJulp6YTrRu0t7ljwLvQd+Pj7b//9AoMFzAY5BpQGeQWBBP8D4QM7A9kCWQM+A7kCzAGbAbn/Jv++/oz9Wf7b/2kAkAGBA8gEkgVQB7oIQwrzDA8PBRGMEl0TbhRlFSMWuRbBFusV4BS8FAkUlxSCFK4R0w+fDUILBgp/CUkJ2gifCYQIPgjLBzoGOAaKBIEDNgIQAm4B6P6u/Zz9e/1//Ar7pfmM+Nr2PPZn9eD1NfZG9XT1nvVl9Yb0M/UC9Qn0yPMi9A708/KG8vLxzfE78Tfw2e9r75XvYO+v7ufuz+6d7tvtB+6U7mbvHfEt8pXzpPXX9mT3Bfic+P75I/qI+gD7a/v9+6X83f1///QAXQKeBIoFIwd1CCQJFwqpCvEKHAuzC8sLggxaDSEOAg8yD/0PeBDAEOIQnxBoENUPbw85D5cOUw5gDj8Ogg6BDmcO6w0qDTcM7gtoCysLUws2C0QLBQsLCzkKWwmlCJIHRwYxBewDNwJkAAL/X/66/bn8DfyF+076SPk9+Bz3ZPb49QH25fV39jj3kvcG+DP4v/jd+Pz46PiF+Ij4rPh0+Cz4Nfhp+Eb45/fn93T3rfYN9k317PQL9Uj14PVK9uT2NfdF9yv3Evek9qT2FPdM9wn4Z/gd+ez54vqw+4f8yf3Y/kcA3AFdA+8EhAbYB/AIVwpqC00MAQ2eDS0OVg6EDloOGA6bDcAM+AsoC24KwgkmCdUIZQj/B2wHHgfgBosGcAZmBmUGigacBr4GHgdBBz8HHQfqBlwGpwXABP8DFANHAqcBDgFwALj/Fv8p/gP9EfxS+5L6GfrW+dr55fkE+in6XvpZ+m36l/qr+sP61/rM+tL62/qs+r36lvpk+hj60vmf+X/5aflt+Yv57Pky+nn64vo+++T7Uvzr/Ib96/0o/mT+Wf4V/rb9Z/06/e78y/yz/In8aPxW/In8zPwT/cj9t/7f/w4BewLGA9wE9AX4BgAIyQh/CQ4KqQojCwYL2wp9CuAJPglzCLkH/gYrBlIFtAQ0BNsDngNiA3EDcAORA54DpwPoAwcELwQ3BB4E8AOnAzYDxwJmAuwBTwHfAKcAOADI/zX/hf7N/Qj9TvzM+2f7Nvtc+3b7r/vx+xz8JvwX/Bf8IPzy+7j7h/tB+wD7u/qb+oj6bfpO+i76HfoX+iP6S/qC+r76FfuI++z7YvwC/aH9TP7j/nb/0v/k/+H/qv9Z/9/+YP7e/V79//yg/Fj8RPw9/F38tvxG/Rr+8/7b/90A4QHTAtwDzQSqBXoGLQfYB14ItwjFCJ4IRQjYB0kHrQYgBoAF5gRQBOADegM0AwcD8QIMAy8DdgOdA6gDwQPQA80DtAOOA00DAQOXAi8C7QGKARQBjAAbAK7/DP9u/qn9Av2E/BX80fun+6b7wvvy+yD8VPyE/Kj83vwg/WL9kP2p/aX9bP02/Qn91/yb/Gz8NfwV/A/85/vg+8/7uvuz+6371vsd/G/82vxo/Q/+nP4I/1v/lf/A/9D/yv+x/4H/Rf8p/w//7v7k/tb+3f77/jD/if/u/2AAAAGWASAC1QJxA/kDdATlBF4FtAX3BR8GJQYNBtQFlAU8BeYEfATzA4kDMQPfAokCOwIWAgkCAQIEAgEC8QHPAaEBmgGcAYUBbAFOATYBHQHvAKQAUwD9/57/Pv/A/mP+CP6b/VP9/vy+/Iz8Yvxi/F38avyR/Mr8FP1k/b79DP5A/mr+e/5v/lb+L/4K/vn9+/0F/g7+JP4i/h7+Gf4A/vH9w/2s/b39wP3g/RT+aP7E/g//Y/+q/9X/7v/+//z/8P/Z/6X/hv9+/2//av9x/4H/nv/A/+3/KgBwALYAAwFxAdcBPQKeAuACNQOHA8wDBAQWBBsEFgQNBO8DuANoAwYDxAKIAjsC9gG6AZwBkQGKAZMBhQFTASwBCAHuANUAtwCjAJ8AsQDGANAAuQCYAHAAJQDc/4n/Nf/o/o/+Uv4M/tb9rP15/W/9X/07/Sb9KP02/VH9hv2r/cT97f0I/gb+A/4G/gb+EP4l/j3+Uf5v/pf+v/7a/un+Bf8G/wz/G/8F/wj/Hv9N/4n/p//U/wMAHQAiADAAQAAfAOj/t/+a/37/av9o/2P/Yv9q/3//jv+Y/67/yv8GAFQAjgDOACMBcwG7AQACPAJxApICpwLGAt8C7ALkAskCtgKxAp4CegJUAh4C9QHeAboBoQGBAVMBMwEYAfQA0wC0AJEAdgBeAEMAJwAOAAEA/P/4/+b/xf+l/4X/dP9o/0L/I/8L//j+7P7W/rL+h/5o/lT+R/4s/gj+7P3J/az9jP1u/Vn9PP02/Tz9Sf1n/YP9qf3q/Sz+XP6N/rv+8v4m/0T/bP+a/8z/DgBFAHgAtwDfAO4AAgH/AOEAwgCpAJgAiwCEAHcAcQBsAGgAcQBWAC4ADgDy/+r/2f/V/+7/BgA2AGQAjgDAAOAA9AAJASYBRgFkAXgBoQHXAQICLAI9AkACQAI3AiwCCwLqAcgBnwF9AVYBGwHWAJ0AYgAlAO3/sf9+/1L/KP8D//H+2P60/pn+hf57/n3+g/6S/pn+pf6t/qf+k/5+/mj+S/43/ir+J/4y/kP+Uv5a/mT+X/5X/lb+TP4+/in+Iv42/ln+hP6t/tL++f41/13/ef+d/7j/6/8YAD8AcQCaAM0A/QAdAUkBaAF7AZIBqwHDAdQB2AHjAewB2AHCAaoBfQFPATYBJQEJAe8A1wDAAK8AoACZAIQAYABWAFwAawCbANoAFAFaAacB8QEiAjkCTAJIAjkCLAILAt4BsQF+ATwB8ACkAGcAJwDa/5P/U/8l//P+xf6j/of+aP5G/jH+KP4k/h7+E/7+/e/90v2r/X79YP1O/TX9Nv1A/WL9aP18/an9n/2x/cT93v0F/in+XP6M/tD+Ff83/1z/cf+L/5f/if+D/4v/pP/G/wMARAB2AKkA/wAZATgBWwGKAcwB7QEvAk8CfwK3AsAC2wLKAtgCvwKTAn8CSwICAr8BhQEqAc0AfwBHAAkAAwDt//P/KgBOAGYAbgBbAFcAWwCQAKkAyABEAWABCwJ4AtkCJAMHA/0CjAIdAocBFgGJABYAKwANAAcAzf/e/4H/NP/8/rX+af75/c/9p/3F/ej9uP1b/aX8NvzK+4n7lPvj+7j8b/32/Vf+GP5V/v/9jP33/R7+zv16/p7/AwAWAIYAdgCk/zX/Cv/4/q3+1P7B/9T/a/+2/+3/nP8t/5P/7v8AAD8A7wBjAe0BZgLHAj8DlAOLA8YDbAPVA04GBgotBCT+bwM6/IH3Zvj7+/H5+/yrBWMB7gA0BK0H2/8c/A38iftY8vvv+Pnj94nyK/XR//j8LvpI/AQAQP6l/lACqQEbBeEK5BDNCkkPmRXaEG0OXxTPCIX8Afzc+anzFO8B/Lb6VgH9BS4GU/xu9IvzVuyX5Drq3PrU+mcBeArFE5wFOAVVCv4ETP+vBdwWGxCkDYkWoRTUA9v8Mvtr/Mfz5PX0/o4DGQLb+h//ifuS9A7wdfd6+f/5rP/UBwkIFANyBOoCt/+c+gr/JQSABQYDtAZCCDkFe//P/Zn9l/rw+vr8/QBuAScCcAC+ADT8Rvpj+an6xfhE+rcAIALZ/+H/3wKm/g/8qvr2/K/8Iv6QAPwC9QNVAmMADgB2/zf6R/uyAIIC4ABiBHkGJQMy/jP+6v0u+nb8f/8TAU8CZgUKBkcDQgJsAV/94PxQ/tn/ugFIBNEGgwXjAyQCt//h/NX74Py5/9cA8AO2BR4FTwNiABn/m/zt+3795f58ADEC1gNZBMcBCgHC/+L+W/6c/icBJgOoBE0E8wNjAxYDhgFs/wj+BP75/WT9B/3O/dX+K/82/oz8ZP2P/RH/vv8GABoC6wHdAFv+u/sZ+9j5KvhT+XX5YPoA+5X6Bfts+tz6Svuv+zP8yv3f/s4ApwECA9UCpQJAAmABBwIaAuwCkwNIBNYDIwRbA5kDNgKAAVcAdP7E/an9Vf2n/BH90vzq/F78YvxF+yL6jvkT+tb7Rv2m/rj/lf90/xf/Df9W//T/SgF4ApQC0QJcA9IDlgPNA+YEwgbxCHsJ1wm0CtgLaQqNCfYLdxGKF1sgTSo7LmEpmx/PFt8PlQpWA+T5+/Ph8gfwIuoT5k7g9dUZznnKUMerx4vSsdvt3eLk0fI9+Mb2dP7NBRsDXwJrEHQZUBepF+AdpRqoDUoIzQUo/o/z8vFb8aPvxPAc857xqPBG9Y30nvEp9bL+gAGgBBQOvBXtFLgTjRXcEXwLMAmNCSMGGAQ2BQYHHAbPBewE+AKS/2T7V/jN+QMAJwPLAn4C+gPnAVz+X/uF+eL4C/ms+LX7aQLXBRUF2QRXBqMEQgLfAg4FjwbyCfsRhB0PKTM4k0r9VRJSJURpNewowR2yFMgHmPiq71jqZeG01B/OcMEdrs6f556RoWCq7ryhzUndfPCKAvoDcgu/G/EfchX4HDcyGjLJJ9Ep6SvuE87+0/Ux6QrTVcpXyVnCMsQSz9vSWs4B2L7i7uLT5x//jxHFFfAhjjYrQNA8IkFNQ3A5vivUJQMd7g/1CEQDc/is6yPql+YV3rrZwd9z4wziuOvb/FcGhAj5D2cWgxMPEcoVbBdHEvgSUxbeExIRGBSiEaUF8f1q+5/0le157S3taeim5uTqFexl6tTtMvJs8gjz+vrIBpAWzDAIUKdlrGpCZnlZ2UaNNcImXhMO/bzwLOZM1/jM7MmYusah4ZI/jwGP4ZlXspHE/9eN9VQNLBAgGsUwyDGOHXkfIDaJNuQoHynvKdUQOfjF72biqMs4wRjAKLkDv8DVk+Jw3ijo2/uG/XD5lQsMIzwmJSrXPcBLBkigROI/DC8BGcAIhPjn5gPgstwx1xfVsdy74STiPOYY7I7vlPUuAqEM0hYhIQInUiOzHn8dTxaMCzcGTwbKA1sBLASoBzIGYgL//X/4pPIz72XsM+qZ66rvevWr+pIB+gR0BQEHhQ3YGGYoL0AtWy1rdGjFWuBHhDO3HVYJTfM55LTaic+sxYPECsNeswaljZ28mQ+a562vxRPW0O4TEL8cNhiAJoE2Uy2CH90rzjGaIGwW9BqID0/0gOXR2c3ECbbHuBW7wL0pzXLfxuWk7QUBxQxIDOYRWSJGK4wtrDZ3QIY90jJXKhYeWQ2tAHX42usb4RTeDt1p2/Ped+Zu5yPoPe7S9mr9+QeKErAWqRkGHz8gkxycG2oZNhDQB3kJgwl0BV4F4gi4BPb7tvla+T/z1e76743vAexs7u72FvxoAP8E/wfhBh0LjBSMIhI4RFNPZx9q2mE5T4A5SiU5En74NOKM13LNg8B7vOfBFbkSqJWeNp1Tnfer28YO2r/tKAu9IecfYSQBNS00uSCEHXomsBv1C4oMXgs69K/gx9g8ySu1QLR+vf6/7cga3hbsD++0/OMOIxMwE4Qgji08L3UyKTtOOgIv/SZbHm8PZAHl+D3uxeGq3YbgWuMz50Lts/C48ln3lP+vBhEOIRZtGmscyB3RHrYbehelFKwQqgoGBnMFWQTfAkQEWAQ6/+D4J/f09f7yRPMV9qD05vFv9Fz5LP0yAhoIxAnzClEPfxUzH4QzrUwMXq1iQVsZRhAthxi+BYDvP9+L2LbO78NmwRrFMr5rtBGsxaYApxe4NM4N3PLwQg8jIR8bPB44K1wp7BiBGPEeFRXABukFPAQY8XjghtaNxzC2dbf7wrjJo9Kw5UL1ZPlgAp0QMhjqGRkkwS8VM5czXTg6OFMuNCMWF8oGAfUm7N3n4eRo5F7pc+357ZHwV/Wn+bT8TAOjCbwPBBhKIIIhOB4+HasZOBB5CW8JYAbQAJIBggXKA0wBMQLj/uL2J/NI9cr0zfOC9oj4Ufce+Lb9iQJbBLMG/gkJDN4MGRGNHAkuO0GbUmJej1uoR1wt1heMBXfyWuQu33fXiMtbxGPE8sByuXSzDa3rqcGyccYv1mnm2P4NExwUbREPGMQbNxS8EAMY8BdzDRgHhgbZ+8Xr8OJ223XLkcDBxZTOeNRs4BTwMvVO9tT+AwmZDCwUIiISK6IswzCfNQ8xoiUBGn4PxAHm9vvxiPIO88HzefWE9arzSPLe9br7NgKVCNcQGBdrGXAZfhkoGPQSiwyECdIIygZ+BhEHnwZ7A3sATP45/Jz67/l++uj78P2q/uL92fzH+9D5T/oI/ZgAlAMTB04LlhLLH3wyb0bdVjNdklNOPNoj9hIRBJf00eyr62LiVNQiydXCGLkIr2GqrKebp6WzJMWt0rLkJPzWDUoO4QvwDR4ObQqeD1gaJR2jFewOawlQ+8rsP+Wf3xDU7szXzxbW/dtT5szvCvEV8VH3fP8PB8QUISXFLQEvWC3TKEAhdRgWFIsQygkoBPD/7/s9+Db3UvhT+Dz2TfUB+EX+bAYKD+cVshgVGAgVmxG2DscMkQtGC9oJ3QdTBysHbwY+BbYD6gGp/+T+FgCBAwoIsQsdDJoHFgF0+1r5cfn5+/AAVQVQB3AJtg6PGbYo1jlcRjhIKD+NLkIdKQ+rBXv+GvxX+J/t4N4K0Z3F/bxTuAG1trNStvK9/sPLylfY5+jr8qz3gvs3/8AAnQN1DXQYKB7YHVMb1BKzBzf9vfhI9F3tQ+mP5iPkueLZ5O3naupP7dby7/aR+7cC2AvkEtQVCRfLFpoU0xIZE40TsxNhE+8SQBBBCjEFwQLm/3D+eACABJwIOgsODFkLGgqECJoHzwaIBQgFfgX5BnkHFAmvCn0KnwmPB5MGXAjKC2YPxRDOERYRvwx2B9oCTP+2/Rr+U/95ATgBVQJ0BK0EFwRIBKoHpA0mFF0c0iI5Ix0dwBJFCHP+OPkN+Z75m/d68v/qoON420zUPtBlzlbOFM7MzjzQ0dLr2LzfH+TA51XqC+zf7jDyBvhO/zMGkQtyDeMMvAnzBuYE5wEKAVYCpwMhBHoDgAJuASAB8QAUAtID1QObAhAC8QCS//sAKgPZBeoHNAkcCkMK/QnICmsL2AsmDqsPDRAAEGgQMBFWEeMR9xFCEQ4QVQ95Dp8N0wxJDcQNqwzIDSENHwmwCLIGcQaaCn4InAkfBpQEqAMz/38AnfzC//YBlwGuAfD8Vf0A+/D3gvcQ9t32y/S69ErzvvNd9gb2BPiX+Mz5gvmj+ar7TP26/oEAVgHAAGn+4fx++pP3+PVp9FjzA/LO8NfvLu/67Mnrb+pd6hrr6uvD7VLu8e4Q8T3yJ/Qu9/L4BPuJ/AD9iP3v/Zn+/wAVApQD8gQNBRQFgQRZBDoEzANhAxIEAQXuBccG9Qc+CC4IvAijCPoJQww8DvUOsw6QDu8NgA3TDN8L9QtRCzkJBglaCOMFJAVIBNQCzAF2ASABhgE7AkYCWQMbBNYEBgXkBW4HywfSB7kHmgcSB0kGhQUbBV8E6QKzAer/Mf6x/Dn7Wvpr+RX5Z/ji91P3kPdb+BL54fmb+or7y/sz/KT88fz2/Bn9fv3m/Ur9TvzT+w76V/i796P1Y/QJ9FnzkPMj863zpvTi9Ab2Qvex+Lz5fvok/Nr88P2E/3wAfQE+AsACtQIfAysDCAOGAzoDJQMgA+gCtwIIAzoDhQMyBGUEOQXoBTgGxwY7B0QHQAevB4UHZAfdB2wHNQfhBkUGCAbdBV8FFQWVBOMDxwN2A6cDIAQNBbAFzgVFBvcFxAV+BrMGVQf8B+UHywf+BoQF4QTIAzYDIQNXAtYBVAA+/+D9j/wK/GD7EPvu+mf62/mf+cj5Gfq9+ij7Mfva+0n8evxp/Sn+W/7+/qf+Yf73/R39hvyc+7361fkk+f74xvg0+Nz3bfce9wb3+/ar96v4rfkP+6r7x/yr/VX+V/9TABEBPQGpAc4BJwJmAtEC7AIQAzEDKQNTAwcDNQOPA5sD+APcBGQF4wVhBoEGpAaZBiMHBAdAB14H3wYgB34G0AUqBaEEdAQUBHYDWQNaAoIB2ADk/43/V/9S/4D/Wf/H/7b/mv8iABAA5wAzAVQBuwGrAbQB2QGKAVQBUQHLAEwAyv8Q/7n+Cv7d/Yb97/zG/FL8vPul+5v7vPv0+1H8xvzU/H39u/3H/Rv+pf2q/W/9Y/1x/X39cv1D/Wv81fsx+wH7sfqa+ob6kPq6+n76Rfts+1L8TP2n/ZT+uf6S/zMA1f/mAZYAgwEOAv//NALv/zkCBAHEAZgC+AAWA/UAJANLAU4DoALGA+kDKwTgBLAEtwV4BVIG/QWxBjEFEAZ2BI8EzAODA6MD2AKJAicClgHgAIYAqv8I/6v+Jf50/jf+tf7J/tr+dP/K/o3/ov/C/0cAmQA9AZEBdAFEASYBvgBXAP7/fv/2/mj+jf7//dz9u/0J/cL8C/yg+3r73vuq/NH8Xf2u/Zv9p/2+/Rb+5/1k/lf+Mv4F/qf9yP31/FT8HfyO+5L7v/us+xT8Ivw9/LP8yvzE/Vv+1v44AKIAswGbAjkDAASCBJYEsgQjBMsD2wMhA3sDAwMzA/0CPQKHAqkBcgH2AP4AKgFUAZ8B+AHFAV0CrQJkAukCHAP8AoUC2AJmAkAC8AFFAhsC9AGsAfYAVgECAMf/1//U/nn/pv4y/gP/ev5a/jT+sP5m/qH+YP/u/tb/pQDC/4UASQGPAJMAYQAmAEwAAAApAFEA5P8dAC7/lP/m/2j/If8a//j+R/4l/8j+yP57/9P+1v6x/4//cv8v/yD/6v6F/g7+3P2F/kb9BP3I/aj8K/zW/IT8kPyH/Vb9TP1M/nD+zf45AGYACgGRARYCjgK5AiAEtgL7AYUD1QJ4AbEC8gLDARADowK9AUAB3AD/ACsA0wDZAQoC6ATvB8gI/AjsAKH75wC39Jv5DwUc57n5Hg869S76awOjAAj2PgD5BT3y6/8+DXsC3fivBNgQ9/3d90UIXgii+xP9xwZmA/YAmP5xAKUFuvsz/jMBdv0o/tL93ADk/ln/TvyzAF/+afs3BDH7wf91AKz/NPx7/awIB/iE/5AEvf2wAQP8XwSLAfj59wI7AtX+UP4WAJIBM/uP/OX/Bvw/AcX6z/1SAlP6TQJY+tgBOwAP+iIHNPuDAxYEV/86B5f+PgRPAwgBMQO8/9kEwwHt/38DNgChAnsC6P5NAlMB9ABm/3IBGgLc/w0BogHh/80A3QETAE4BcwDAAioA5gDeAVQAtgAj/2kBNgC+/tAAsf+l/fP+l/6s/aD9w/2w/ir9gf2X/5T9R/7T/rr+o/7Z/jAAif9j/7b/6f8c/0z/IgDM/0UAFwG+AIgBWAFUAXQB5QDrAJsAwwBeAJsA4ABcAAkABAB0/2f/cf9S/3H/IP9E/2j+ZP6c/kL+Uf4i/pj+nP6m/sT+z/4W/9b+y/6l//3/BwBbAIUATwE1AY0BVwIZAmkCbgKNAu0CogKvAogCzwEHAtcBNgEsAa8AZwAmAMr/9P8cAOH/ev+I/5r/cP/F/8D/xf8LAI7/Yf+E/5n/yv9i/63/DQCS/47/Yf+y/zX/mP4c/+P+IP8F/wr/2/+J/8v+O/+0/zX/2/4R/z3/DP9P/2j/R/9n/6r/n/+L/3cAUQCRAAQBlQBfASIBOAGfAUUBmAFKASYBGQG5AMkAcwBYACoAJv9M/zv/Ff9l/3r+6P5h/wr/hv+T/77/BgCz/7L/hwBNAML/LwClAM4AoAA4AVsBnQF9ARkB8QEjAcIAEwHLAMwAuwAqAV0BcgF7ATYB1wDHAIwAy/96/5f/y/+i////FQC5/9z/o//G/4v/kv9j/+X+WP8P/+P+1v4y/4X/Of8a/wz/Lf8I/3r+O/6U/iX+Hv4u/o3+SP/v/s/+Sf+Y//P+KP+d/7f/iv9j/8D/3P/e/8L/tv+U/0AA/f/M/yIAXQCYABIAqgCxAJgA3QAdASUB+gBvAVUBHAEKATgB+wCpAIcAKQARAOD/t/9n/3T/vf8u/zP/gf9h/3T/W//K/9r/ov9MAEIAVgDlALEA4ABQAVABIgEcAWkBggE9AUEBOwHlAAMBrACTAJgAhQCkADoAfwBMACIAIADN/9f/mf+o/4//Zf+F/7H/xv+z/7v/w/+P/3//cf9d/3v/iv+U/47/p/+B/1z/RP9K/yj/2P4Q//z+6v4B/+3+8/4N/y7/MP9R/67/sf+O/9b/8P+2/6n/z//o/x0ANgBEAHAAZwCPAHoAdgDOAM0A7AD0AP0AIQHbAOkA/QDmAPQA7AAIAfUA4ADiAJgAjABNANb/pf9i/2b/K/8X/13/QP9T/1z/Sf9F/yH/F/9O/3v/jf+8/wQAHQArAFwAYgCeAMcArADGAN8AsQB6AGgAVwBgADoAKwBWACQAEQALAOX/1/+k/6D/r/+v/6T/i/+9/83/oP+e/6z/x//W/8r/7//3/8X/pP+5/7T/o/+0/63/0v/k/8//wf/P/+//3P/Q/8z/xv/B/73/yP/R/+v/8P/g//j/BAABAPz/GAAnACAARQBHAE8AYQBWAEwASgBTAG4AgQB8AJMAlQCFAIAAawBhAGgAcgCEAIAAlAClAHYAVAA6ACsACwD3/wkAEAANAO7/0v/K/7j/qP+j/6n/t/+3/6T/qv+t/5j/qv/F/9D/5f/q/+3/8//y//P/9f/+/wIACQAgACYAIQASACAALgAAAPr/DAAVABEAAQAEAAgA9P/X/9D/3v/j/8z/zP/m//z/5P/H/9z/3P/F/6j/wP/k/9v/zf/M//P/9f/N/9H/7f8CAOX/yP/m/+v/3v/I/9D/9f/3/+T/5P8GABYA/v///yQALwAcAA4AEQAfABoABgARACYAJgAmAB0ALABAACsAEwASABwAEQD4//r/BwAOABIAEgAlADEALgAbAAgACQAIAPz/+P8AAA0ADQAAAA4AHAAgABAADgAXAAwAGwAaABMAIgAgABcAEwALABUAIQAdABcAHAAbAAsAAAD8//7/AgD0/+r/AwAHAAYA//8EAB0AAQDv//n/CAACAOT/5f/1/+v/2//a/+3//f/v/+P/8/8JAPr/4P/w//3/4P/L/9L/9P/u/8b/2f/3/+3/y//C/9v/6P/Z/+X/BgASAAQA/f8XABsAFQAaACYAQABNAEkASgA+ADoAPQAmACIAIQAlADAAFwD+/wIADQD4/+P/AQAhABAA7//w/wIA9P/V/8v/5f/r/9n/zP/b//7/4//I/9L/2//j/9T/0v/t//P/+P/w//n/CwAMAAkA/////xEAHQAWAA4ABgAJAAAA8/8AAAQA/f/8/wYABgD+//f//P8AAPP/8//l/+X/6//1//j/4//o/+7/8P/k/+H/6P/m/+P/3//c/9v/5f/m/+b/+v/8//P/7////wMA9//z/wwAFwAWABcAHAA2ACoAJgAwADQAOAA7AE4ATQBOAFcATwBUAFEAQwBMAEQAMAA4ACcAJAAbAAEADAATABsADgD3////BAD//wgA+f/t//3/7v/v/+v/6P/u/9//2v/w//j/7//a/+H/+v/9/97/1f/z////3P/N/+v/AgAfAPP//f8cAAIA4//f//f/DgDo/+H/AwABAAQA2v/p/wgA5P/b/+D/5v8IAOT/zf/r/+7////1/+r//P8EABoAAwDu/w4ACAD//wcA/f/r/8j/0v8CACAA2v+2/+r/5v/a/8//BwD3/5L/if/H/xYA1/+2/xcATwBgABwAOgCBAFEARABnAGAAUwBUAEUAegBRACUARwA6AEkADQDu/xsACwD8//X/9//8/+X/FQAkANf/2v8nABoA2/8OAOv/z//V/9n/1//Q/8f/1P/l/7j/oP/H//7/0v/H/+j/CwAcANT/qv/c/xsA7/+3/+D//P8mADUAJQBrABoA6//3/xEAMAAEAMX/5v8cAFMAKgDI/wgAEwAOAEMAWAB7AAEAJAA9AAYAVgAhANr/PgBCAE8AYABwAOn/UgB4AFQA3P/j/9f/5P+p/5f/IgCT/zT/e/+o/1MABgCO/6P/BgDz/7L/2/+U/yYANgD3/w8BfACbAKAAKQDz/0oAFwD1/7j/kv/S/+n/lf8k/7f/YgDSAIwAHQA6ADsAB/90/57/4//p/7b/cQBcAM4APwGQAEQAPgBv/1P/ef/U/nX/nP/f/9L/tv+E/zP/uf92/xL/AADq/wEAlv49/4X/OP+pAIQAx//uAMsAQwKPBP0G8ARR+x38k/v392QHRPxE8oMFDQe+/sD7kgkt+q79gQr6AEn/hv+vCJD8BPYjB3gERvWk/IcFsAK/+OUAwwP2+7MBqP+5/qkBJQPbAGEAhQIcBqb97P6oBYIC1fu2/e7/nf/8/rz84P5D/tcAFwE9BWsHUwu5BSr+ygIO+On5fgLD7+HzMv4w/azvvfXkAFTyFf+8ADb6W/y2A+8JQ/3KAU4NTQee/wEHbxGlDfwBsAspDRUGGPwJ+bgBjPik+Nv4h/nj+Jn8/vMK9DgCGf3iAvMCKAgtB84Bqv19/Ab/rP1l+1L8PAHg+TL/4Pwl9XUAG/01/NX+nwbfCkUEcwtiCigJ4whyB5UI2AJcAnIHGv5h+/P6o/n59RTyGPYB9hv2tvW698/7APxO/G/+EgGXAcECCQc5BXMFpQc+CbkHbwQkBVkF8wN4Ad//JP94+877RfzK/Ef5j/bI+ov6HPy7/cP+1f7B/8UB3gEJAhwDKwTlAxwD1gSbBMkCggGGAy4Cmf/t/sz/KgBE/Oz7//qr+7L7ZPvQ+/P8G/6tAHgCrALyAu8DTAXfA3gBGwKVAwACvv70+xv+qv/5/Yj+UQDQAMwBVAN2AxUFBgbBCdMPrRDoEioWKxk6FhwVnBEHDyYJGAJA/hL5iPSQ7OnpI+NE4szdoNp425TfQeN35bvs2vHf9uv2XPwcAfMC+gOzBzYIcgYcCBcImgSWAOX/LgBq/Xf5ofoZ/v7/TgGWAT8AOAP9BRUJWwscDYsJawhCCZMItQQv/j//HQHxAYX/GgAY/Zr6gvvZ/EX9Qvpv9zH6aP0F/Bb6hPuz+7/5sP4UB7cQRRShKBtNEm9HfJByVllFPIwyuyXkBVbdKtG64Gfm/9KAsp2Yo4uMkNGVh5E3npLBcuNJ9QgLRCZ7LiAjAx4GKQovVjHrM8UuLiPZHukTr/bJ1qzIecOQunC4KsVt1l/aGt/H5lnzdgHeCcIN3BetLb8+ikTSQaU9MTogLQkbTAXD9IHvEe7n52/dn+Di40zkaeGd4oTrZfgqBj0NHhjjJQI3nz2FOfM6fzq7LX4Zkgbk/BDydugy4tziHN9u3Vzk7N7W3o3nEvkk+97/hQ0+F8AQ2AfJC18Hhf0c8Kfsnep37DftR+0i7HnvofWg883xzvMX/6kA1AJxBgAIkATDBHsKCAerDHgP4Rb4Hjw291unc4J0NGPHRy4maRlBCOvoAtJDz2rXBdXtxFmvzJb6lgqkXaBIoRO6weJ18+AKDyMANlIz2yZrJ2oiMiRJI9gi4g2pBM8EifgW2aDDcMRywtzEK8tQ19bfWewd9k3/dAU2EEsWGxzTJQAuizfyOI42SSb4GrcS/wcY/iD4rfR38qjy+u9T63/nb+u98r70w/mJCGgXPh1WIUMq3C4qMUgwmCmRH2ATRwvr/PznaOap5Y/gD+E542LfMOJD6FPl0e3++WkCmAvCDJ8Myw+wCR0FBPoE83zzre4a7xPzyPJS9nH9Lfg38z7voPQz92v5Vf3wAUYC/QIOBdcGkA30CbAJiwk2EJccljcdWQx01HMAYKlFMShXGa4OA/A42/3ii+O93R3Onbego8GohLRarZyqq8lY8Mr1OQXMFvIfYRfSEcQPsBEEGNQZsRaOAuUCTPqh6jrSs8oxz5zVNNJn2V3m0e+p9zD1s/35BUsSNBcjHmcm4zAHMF4qRSFwFZYUrRbpEBMIeQN3AAL9yfRD7r7qp+6X9yT5Y//gCbwSoxouIg4h9CE5JJ4fWBumGm8RDwRE/F33vvKx7Vrtpey27Wrw/PFn9Sj1zfM/9jr41/lU/x0BTPmC9zD6hfoQ9Lz0N/W28YzuTfHn8GD12vwy/lP5ofPD9hz6Hvvs+X8AxQWMCAIKNggKCB0LtAsGCSAMTxu2NrxQvWNlaUpeQ0wFMqMdbxH3/TfoyuV8503hVtJkuoapvqrjs0iyzrAsw/rgq+1G8C/9OAW7BmEFGAuAE4IaJB8sG5QQFQjiAgj0J+Rg3fvhM+Xt46vg1uVe6ubsQO9B9eH87QZIEMIXKB9uIe8g0xkgFNgPgBA0FBcUvgseCaoIpAHq+in2qfWx+5ECBgcyDqkQeQytCqoHJAVICuEKTwp2Ee0RHwiqBJMBBv5g/jAD0ggJDNYMfAt5A+b6L/jo8s3yP/aI+mL8r/xI9s/xR/Hp7mrugfJG9zb3aPng+079f/4aALf/Xf2B/aX+fAMvBY0COv/I/T/9k/6j/vH7dfsC/T8DExFLKJdE91ZUW/lQZTkaJ58cFhfgDUsJ6P5F9BzkttKKwPCz0rRUufW7f74U0p7gv+RC33fk5Oqt9OL9GgUEDscW7Rt2FngQiAeIBMj8sPbK8kj2/PiB9frsQ+Zu6M/n/er38Fz49vyBBr8L2QyIDo8PdQ9MEcwWNRiOGggebB1yFV0PNAwbClIISgWqAgEAofpm+VP77fe/9Mf5oP5iAZcGWQiuB4MH4QkkCksJOglMDsEPiQ9WDzsLHwa2A8MAWPul+m/6Pvz4+oP3a/Hm7WrtCO/K8DLyS/TO9Db3BPcF92L6UwBdBCsHEgn4CH4HkgUPB5UIoQcSB0IGdAJp/oH8lP54CCIczjHVPy8/uTPfJa4cnxn6F00WoA/1CKsChfiB5lTWZss/w2XCocXBy17RStZz05zOJdFQ2j7jfutL95P8YP9HBTYKdAfKBUgIPAcIB4ML6Q6VCO0BCPz19Sb05vaX9/355P5p/l/7tfpn++/73v+LBFoJ4Aw2EVQRcA8TDz8QBhC7EBMQrgt/ClgKuAepBCgFfAN6AMf/gQGlAXIB5gFcAtkB5ANRBvwIIQnTCPYHtwiGCRUJxgjDB8cHDAbZB1QGcAOJ/+H/nP7V/on/+f1++0L52/hd9eHyYPBo8ov0EPiE+Sz5BfiT9zv6kP0EAT8DEQcYB8QE+AJZABP9+f7bB0MTiyGLLggymCoHIBcaZheSF4sXLBVQDhQHLQH29y/rjN8c3JXX8dP/0/TYc9b80b3OXc/A0u/Zy+Lv5kfq5+7Q9lT2zvcK+zMA5ADBBvwLag6ADUQLKwj0BNwGDwg9CSMIfgi6BMMBtf6M/U/+Wf8K/zIBTAW6BNIDaQQ0AyUDmgi0C+sImAmzDNEM/AtFDvMMJwq8CisMpQqQC+gOvQ1LCiUJBwp4CLEIfwgbB5gDSAMAAwACDAH/AboBiP9FAJcBtABK/ub/WwBs/5f+t/4s/fn7APwy+y36yPnD+gL6Hfh29hr2NfXO9Qn5xfzK/k//3/4Q/g7+0v6RAEMCWgKpAVUCLgKvAXEDvAbFCdcOshLWEJMLoAjxB/wHnQhXCegI5gZ0A+/9avh69KTyQ/FP76rsMOyi68nnmuOG4+HkmOVv587oX+l665LueO6y7t7xlfXm9yL63PynAIMEoAVcBrgHJgkpCq4LRgzUDFQNogyMC7MLrQ3YDr0NNwsFCXcHQQcJB/4FLQZyBoQFeQRvBN8DcQPjA8gDNARtBscJPwqNCJEHaAjSCNAIYAlrCY0IywdsB40GGgYvBo0ELgIrAewBigGP/7P9UP2F/e/8NvzS+vr5x/gZ+Bj3r/ea+J345/dj9/n2evbu9sz2cvfZ+AL6FPot+nv6Z/sv/dj+bQBZAbkBPQIuApMBNgE/AY0B8QKvA4YD+gPCA/cCVwKYAnACCwMYBLsE/gM0A4UDmAKaAQMBsgB3/6//uf/k/jn+DP70/A77jPps+kn6WPrq+uP62/r3+gX79vps+3n8svxe/IT8h/xC/Ez88/z+/A79Jf0n/XH9T/7Q/l7+//0a/sn+Of+9//r/9f87AAgBGQK0Ag0DKwP+AvsCWAMEBPcEqAUtBrkG/wYNB/UGHQdiB+wHDgjgB+UHcQeVBsoF3AQWBNADgAOvArMB4QBRAHz/Uf6K/RH9Yvy/+4X7AfuI+o76yPpG+rz5BPo2+m/6N/s2/Pv8uf0i/kL+iv4r/9z/1gDmAYcCFgOlA54DyQKnAtkC5wLyAjADdQNcA7gDzwMhA6cC8gI2A1sD1wMMBO4DKwQyBJYDLwMqA7ICAAJ8AdcAEwBS/6X+x/1H/Sb9x/wd/LP7rfuU+2/7W/tR+3H7pvtk+7H6Gfoe+uf53PlJ+p36sPqO+oj6SfrU+o77nvvl+2X8r/ys/PD8gv0J/qX+MP/K/2wA9QBBAZsBJALEAlMDBQT+BOcFhQa7BukGygYEB14HbwdhBzQHxgbzBUAFowTfA/4CogJCAqQB6QBkAL7/7/5x/uz9PP3S/Bv9/vxm/CD8svsy+xT7Wvud+6v77PsQ/Cr8Ufyi/ET9BP7D/j3/gP/U/xwAqQAgAZsBUgLbAgYD6gLJAo0CsgL+An4DlQPPAzAEbQROBP8DIgRYBLAECAUIBbMEmQRVBFsEGwSDAwMDQQJGAWwAxv80/3n+/P2n/Q79mfwp/MT7ZPtu+4P7jvu4++j7H/wp/P378/vW+7L7wPv8+xz8TPx1/Hz8hfzM/Dv9YP3W/R3+Wv56/rf+4v4V/7P/NgCJAM0AHAEuAVQB0QFBAngC3gJtA7ID8QMmBCcEGAT/A18EgwSbBHcE9AMnA0YCqwEuAdYAjgBHAML/OP+F/iL+s/10/Rz9x/yZ/GP8M/z7+977sfuj+3r7hfuM+7P73/tD/Iz8zPw0/bP9Rv63/oD/RwDdAHgBDwKZAk8D7gNZBJ8EwgTUBOAEDgVcBVwFVQVMBTEFNgUlBQ0F0QTMBPAEyQSHBFQEQAQCBLcDtwMwA3ECwwHlABsAdf8A/2j+sP1M/c/8R/y6+1f7Ofvz+tP6ufrY+u366voZ+wn74vr6+g77OfuD+7r72vvt+zj8efwN/Zr93P0t/k/+bf6W/vj+dv/K/04A1gDVAAgBGQHcAAQBfQHhAT4CxAIuA00DbAOYA3cDgQOgA8oDzQPIA5oDGQO5AicCcgH+ALcAfAA0AK3/IP+d/jz+0f2A/Xf9Xv06/SH9L/00/Qr93vzI/MD8A/0q/Vb9ff13/Qz+S/6M/uD+Y//A//r/yQBCAcoBGwKgAvsCdQPvAzoEbQRqBJIEbwSGBGgEOQT9A9kDhwMzA3YDSAPFAuQCmAKKAh4CFQLTAlgBQAPfAg4AOgO4AMX/OgFFAMz/df69ALX9Of3v/m39UvyM/C39Z/uF+1j8RPyw+v37Pvx0+2D78fsN/Hr7oPy7/NL8ZP36/eH9Rf6N/uD+zf5j//D/qP9OAJ8AqgCpAJQAqQCWAOkAIwF0AcgB2AEJAvEBFgIMAlICdAKcAqgCegJiAjQC3AF2AVoB5gByADkAtP9n/0j/+f6N/k/+cP75/eD9DP72/eL92f0s/jL+Kv5h/pv+j/6c/qD+r/7u/hH/Y/9//8f/8v84AFMAnwAjAVABxQECAo0ChwKEAv4CCwMRAwcDFgNSA20DhQN1A0QDTQP7AtoC3wLEAsQCfQJhAmwCJALqAboBXQEhAdwAwACBAPj/yP+D/+f+k/4+/uL9kv07/Qz92vzH/IL8cvwx/M77FvwN/NH76fsG/Pn7O/x//MH8B/0c/Yj93f31/VH+z/4I/1L/vv8pAH0AigDAAPMA5QDxABkBQgFWAWkBmwG/AbkBuQHAAa4BrgG9AeIBCQL8AQoCHwLwAdgB4AGqAWkBPQH6ALgAhgA5AAgA2v+B/2H/Mv/i/sj+u/6r/o7+sf7v/ur+Gf80/y7/Uv9K/1n/i/+3/9L/y/8RAEAAHAA0AEcARABWAHsAvADnABMBKAEhAUABZwF+AXgBhgG6AbUBvQH1AeEBxAHmAacBXgGaAZUBSwFZAXwBcgFRAVABMAHTAMAAmQBAAEIANgDy/8v/mv8w/9P+k/40/tv9pf1u/VH9Rf0J/dv89vz2/OL87/zz/A/9Pv2H/fn9Kf56/vP+Of+e/8v/3P87AHIAhwCWAJsAvgDQAPQAAwGpAFsAVAA4AA4APQBZAAsA1P/N/9L/yP+q/+r/QwBiAJEAmgCeANEA4gANAV0BhwGMAYABaAEYAb0AngCBAFEASQBMAOT/gf98/0z/Ef/+/gb/Gv/i/qr+2P4z/2z/iv+o/8X/2v/8//P/6/8GAAEAAwAXAC4AGABUAGkANABDAEAAcwBhAF0AFwFyAQwBkACfAGUBPAG7AAMBKwEoAXgAzgAUAZ4AGAFnAXYB7ABeAbUBBwFLAXIBCAHBAA8BwwAcAEgA1gDQACAAY/8X/8D/ev+v/Vj9nf5C/lH95PxD/VL+2/3U/O/8Kf4M/pT9iv6D/xD/Rf8JAej/g//nAA0BlP8BALUBKf9s/3wAYACu/5j+9gDXAGL/Av+0/6cAxwCOAIEAcgDIAIwB6QBPAfoB6wAGAHYBDgJEAE4BuAGp/y8AbwG4AEEBk/+x/jr/e/+3ANT/jf+Z//sAXQDa//T/QP+j/hIBpAHH//7+QAAWAOIA3QEhAK7/av7H/+b/Jv89AeEA+v9s/3z/VQEnAf//UvzD/MP88QDRAaoBugFW/Ef3F/bI+c/+QwBN/Lb7eQEaDPsPTBEHAtv26fzn+9sNSxYR/ygCSAUgB5r/ygIHAYDua//Q/OPx4e/0BLcAUOtP8ykD3wDg8037RQMxAI/5LwSyCLYEcwGvBf0N1wsWCaELywrDAIYApwCWBBoKpvun+H/84QC5+rL29v3W9nj3hfhZ+Qv26PuqADD5IvtMAdoCAvtl/ukDewY9Ahr/4QRDAnr/DQRCBc4BUAGg/p8E6AOHAdMBPv8dAsgADgEb/+7//P6s/gsAewAWAon+W/4h/yAADgFtAPf/6v3f/P/8IAGaAAr/rgDf/jT9Hfvy+z3+A/4/+sP5Gf8xAZ37Rv3dAcj/0f/ZAbAB2/2WAYoFLAP4AZYELwd7A5EANQNNBDgCjADTATkAsv/nAcICFAH//C37rfZc+YD99gGcAT/8ofsx/hwEGASSAiEDAAKfACEEpga4A4ICJgScArf/JgMGBaH9L/seAe8Bw/x//F4An/02+YP94QCM/lz77P1W/YL61v7R//P+af36/SEAgf8t/rcAngCl/rMA5wC5/4UBmwFpADsAXQDuAFH/mgE3Aj8BLAKB/9D+pwLMATT+cP/A/w//tgATATMBKQDo//EBl/8rAA8CsQCuAJgAcQBG/uP/OAKxAOX+a/6C/aT9BwFWALP9j/2D/73/FP2O/qkAGP4y/z8A5P7R/xEA7/4rAJUAkAFyAeX/LgBpAD4ArwFQAhYAqwE0ADQA1AFXAur/Zf+v/83/KQLqAAwAav6l/vYARwF2/zABFAElAKX/bf9WAqcCAgA+/3YAdwCD/+oAgAHr/Vj99P9g/8r+7/+Y/hf9/vxU/8EAJv/E/Vj/0P+5/gr/fACbAID+F/+qAOUAUv96/yoCmQBK/QH+KAHR/+z96v6GAUkByv2YAF0CgAFxAMD/ggGsAl4BrwD5AE4BfQITAa4A7QJdAXr/6P+SASwCyQATAF3/aACHALsAWAHbALb+/P7HAFQAPQDu/iH/ewAa/1n/Wf9p/VD+mAFnAFb9nv4vANcAPf8zAKkBhwAt/7QAigLK/5b+EgBKAYIACACZ/xr+dv4P/9v+AP6q/p//pP0W+zz9NgEA/9r8iP4S/zL9I/4KAUUBif+v/jj/UQBhAOUAAAHS/8r/g/96/sv+OwC+/p/9ef6f/Wf87/1t/oz82PuZ/HD8p/wN/cr9Q/2x/P38E/57/o7+JQAGAP//gACuAMIA4wKXAT8BPQKqAI8AcQKEApcCbQMAA2AFHQd0BwYKegwhDcwORg+CD5YQ/BEAEjURlRCfDosKJAl/Ck0KIAbO/gL7xPl89x32+PXA8Tbr6ebr547rXexc6abm/uaE6GfqXO7F8VbyYfKS8+/4mf8WA6kE1QV7BggK5A4kEEUQfBEnEkYRXRF5EkYRvQ2yCggKDAmUBQQCcwB7/Uz6WvmK+a34pvUj83DzXfXP9Vz2YvdG+Bj5f/uX/owA0QJGBFEFXwjbCtwKhAusDdANFg5ODwgQhBCcERsSHBCtDE0IAgdBBmgHhQb3+4TxUPTu9xnzR+9a63TnweYO6f3py+ep6H3rI+hO5zDyP/kP8vjvH/h3/SL97f8qBPgCDAEMAuAHogxGC44G8gfjDOELbAkMDE4PIQ3UCcoMXBK3FxceFiBJFmwNRBRNIKcmISRSGZQK3AZ9D28WahMUBi33Fu8Q78nww+/27JTliNgI0DrWlODf3hfX+dR+1zDZU9/y59/rPuz/7Wb1Vv5aBI8GUgq6DysTCRfyGY4aYRoPG/kZ1Rc5FzkW7REUC9AIXQnHBBj8IvhG+Oj1WPLb8JDw5+5k7k3w9PE188v1Bvuk/c389P8DB3cLVQ25EA0U4hQNFaEYIhwhG80YdBiPF1gUvxLjESUNtAelBPYBwfxk+Dr3jvRJ8FTsmOoz6kLq4up/7KLs/Oqn6jTtA/I59TL4R/ol+ZD5Rf2CATQFiwfXBzoGXwVHCCAMjw2uDtAPvQ9qDB4HTQeYCYwLAw5yBD/2B/Wi/KP98Pdf88/sUOm/61jw/e907sPwQ+7O6gvxrPz9+8X0s/dx/iEAdgBIBTYHOgSWAlUFRgvJDHoIAwShBsYLugujCRwIugWjBUwJpQqiBooEmwdIB5gDKQZCCywHAgFqA7IJIgo1CewLqQ0rDI4LBg94EZ0Rmg0WCn4JFwjLBo8Dv/4c+dfzJ/Gg8FvuI+gN5A3jcuG04C3jbuRm4sLiaeSd59HspvAU8mv1x/li+4f9cADAA20GvAcoCaoKggqeCTYKNwv/CkMKgQhxB6EFwQW0B8oGdAYXBFcCJQQ2B6kHzAe0BuoDLAdAC6QMpws1Cp0JZQvZDgIOig3IDfwMxg29DkcOegquCd0L3AszCaoGFwaQAxYBmAD1/8f8Z/h99KHzGfOa7wXupu7D7MLorOeR6eLpwukB64frvOuB7Bbw6PK19Nz13/Ym+ln89/72AdMCEQICA3EGwQitCEoIHgh5CC4JXAqfCtAJogk/CXAJMAqGCgcKJAk0CbIJCQpqCSsHmQYRB7gHLQgkCEsHkwaZBxYJLgyEDe4L9gr9C14NxAzJCiEJqgb4A/YAkf3A+tn3z/R58KDs+unZ6LXmoOOV4hzi/OHV4gvldeab5/XpGuxM783yDvYS+dH7Pf/rATQEnAatCcoLoQs9CwgO4g9tDoMOnQ9gETgSwxDuDpYPUQ7LDWIQ9Qz1CZwKhAmLCIcIeQh8BrsEvgQhBzYLzg6JE6YSnQstBoQINBIyGJoTnQP99lH5hwHiAp/3Pekz4R3gNuHg3z7ectww1+rQStQa38jjy95X3IHkmuy87ynyNvYK+g39PQECBmcJNwnXB5cKyw+VEcIOMwsVC2AMPQ2mDBcLXwp5CbkHeQa7CcEMXwr5BpwHkAvVDRYNDA0iEb4RghHAE9IRABJhE1cTwxLQELgNVQpdCgUIKgSXAjr/ZvzY+6L7jPjE9P7zJ/SM9BnzBPH18PnwXfDw70jvJe5I7p3uO+9e7/HtK+1B7a/vifGZ8XDxBfH48UTzkvW/90P46fdf+Lb7u/+4ARYCYQJtA4wFdAdOCRwLxAvEC18LXwyHDjUQQhF8ENwO9g68D2IQ7hDEDtMLBAwaDVcMlQqrCT0IDgdTB88EngP0A0cDYAOsAfQAlP5K/YX+Yf6K/s77/fqB+dj3A/m3+Hb5gPiD+IL4Hfck+Dr6tvtn+sT5Wfop+yT8z/v9+rj78/wU+4H6k/tf+4X6Ofin+CP7rfuW+oP4Ffl0/GX+Uf2j/fr/2v8XAHYCXQR/AxoCdQJbBNUGugVGBLEDBwOFAy8DygOmBJMDkACZ/80BAgPLAn8AGv/G//QALQLHADn/3/6yADMDDwK+AJoAhgFsA9kEaQQBAsQBxQMDBvcFYQMvAhYCJwIlA3EDVgJHAMH+k/59/kr+4P0L/vb86/pz+8X8j/2j/Hz8Nv5h/jT++f2f/zIBfwA9AJ4A9QFsAQcAqv/YAHcBEf8H/Wr9R/4c/Vj7Dfz2/AP8Xvmt+cf8Mv2K+3z51/mn+2f8Zf0a/j3/nv+J/4//yACFAqYCQQFhAOwAfgF1AJL/bP/Q/o/8sPsG/JT86PvH+iL74PqG+jn7QPz5/Hv9RP0H/xYB/AGEAwQEVAZUCCkIWgi6CasLhgz2CjwJ5gf6B6gKJQ1PCpkEu/4X/PwGVRosKFwmexIYAOABURm7OWw8nRmt9evyCQ/fH/oXmv/y6hDlQuRU4gbi/OcE46zLZL6LzHPg4tody+fPaeEo6KDg/OEB8iv/Yv8nAf8MXhW9D44J3hVtKCgpWRu7EjwVrxd5FWUTIhK6DckCIPgE9lf8av3O89fq3OdE6jjuFO9f7tLwafcg+3v69/3cB2wPbRDSEREXphuQG2YbESCFIw0gfhlNFooWoRXHERwN3gj8Aiv8E/eu9p/4OfXM7Izn+ujH7FnuWO3b6zbsxO7B8YH0cflJ/wAB0/52/4gFvgvIDfoKnAcXCDwKdwhiBJcExQSP/5b57Pfp9oH09/NM8pbtM+yi7tDv1+8G80j1DvOI9Bv7DgHqABMAWQP7Bw8LxQjpBhoKDg9LD7UJJQc+CBkITwU2BPQEKQJQ/a/6zvt3/DP78/l8+r/79fqC+c749Ps6/3//6f+vADkCXwJjA6kEegWLCEMJQAjBB9MFMwWEBR8JOAinBegFKQN2AqsBsgKYARcBiAFj/aD7X/1H/uL8OPpv/I37dvq5/PT+/v+r/QMAIP9j/4cD3gUlBCwCcAP4AccAdwXVBVACXgCbAUMC8gG9BI0BNv57/QL/v/7R/cX8XfhD9Qj3xfhi+MT2UfUI8ibwi/Kl9Jf11fS18wfyC/OM9p34Z/kF+ub6Rvt9+7j8EP5n/+4AnAJxAvkAfAEcBJsEGwTdBPwEhgNoA78F7gakBiUGKgSNAioFPAjRB7QFjgbZBvEEgAcCChcJhgYhCOYJXggPCdoKbgqGCeMHGAdKCGcPwh3fKAgoyhbtBjUKeB4sNTQv3Q8X9Y34hAnGDcsFvfVk54rfvtnR0kzXZ+CE2qrE/8B6z23ZdNDEyDfUO+a36bHh/+dC+MT95/e5AtUbziJHDlkCnRVMLPkp0BvuFeoUWhFvESMVExK/B4z+XPgo9Tb30PuV9gLqVOav7hb1dfIx8NL06Pp6/EL+gwXRDJ0MawrhEQccVB20FcQSbxiGHSsdihYrEL8MWAxICm4FZAGM/iH6vPV+8o7vDezg60DueO0a6hHokOmw6+Du1/Iu9kX2z/e3/MgA7v+E/0wF+go6C5kHCQeqBpIF/gVcCfkKTwUr/QT67vzh//YAw/7q+fH0GfQL+UX+Af90/Bn7ffuc/dYARQNOBHQDRwOZA9AD0QSkBHUFRwZmBQMDlACTADsA+AAgAH7/cf6F+g/7Z/wE/uD8SvyC/nn+F//6/WP/aABkAVUC8AC6AUEBpQLnAvoBsQKvAogCkgJvA3oDCgQdBckFtAYlB80G/gaVBoAGcQZiBiwH9AZ2B/cGigZgBr4FeARUA2oCLABE/7v96fsk+hr4ffaI9T/0vfIA8hPxHvFf8LnvCPCH8fTyV/NG9JT1Xffd+Dj7xvwU/tT/awAUAccCtgTtBXYG/gXtBXIFNAWmBRcGfgZTBgMFmQJbAn4D6gOwAiwB1gAYAdkB/QE9AiwDbAPbAkQEegb/BtUGKwcKCA8JbgpPC6sL0wqvCE8HWwg/CqkKZAsiD2AWqx52ImgeMxbBD4oQphqIJdoghAyB/GD7TP7e+kX0S+5D5hrZMMwByS3QrdMay7/BPsSVy0zL28h+0A/fp+XG45Hn8PUiAUYBPAKnDhUdZSCYHB0cox8WIkgjMSTeIokd1RW5DskK+AneCP4CM/lA8RDvJe9L7Z3q8+nX6oDrMe2c8E71rvg5+4//KAjuECEVWRUjFjoaFh8qIkci/CE1IDgcbheqFdEU3xAcCn8Djv/0+2j3fvFy7eHqWeku6Jbn8OYL5o7mdOeq6qHuYfHc8Zz0J/q7/nf/Fv+9ASAFwwcyCBwJzQhLB8sFYQamBhAFoQEx/u39Mv6M/lH+yP1F/QL8//o5/On+PAKZBOcBNwHNA/YF9wbyB18I1gfCCSwLpQt3CjkMKwyFDdEP/BIzEo4OPQk5BnUIMgmDBzUBw/2J+VP1CfFc8b/uL+1M6prmHOaF5kPmq+Q95RznJOvl65Htie4c8Wvz//VO+VX+WQGQAbQBLgNoB0YL9wz4DH8NZw7UD68QwhEvEdgPoQ7gDbUNZQzJCG8EhwGBAEAAE/6I+5r5x/jz99j2HvcG+JH42fix+vP7J/73/qv+qv84AkAEBQZTBrUFHwbeBcYGbQcdCBEHoQUFBSkFowTeBA8EvQIqAscBGwHL/wr/n/+KAMAAFgGUAFcAgAAMAaUB4ALjApMDzwNmAwcE5QRqBcQFGwZ+BvIGfAfBCX4L9AyiDk0P0Q2UCpkHRgWYAw0B4/2O+535svbl8jPvSOxo6gvpPein5+7nUOfE5TLlKuZ56BXqVeol60XtwPCA8yP19vaS+Hf5AvtH/pgCOQXJBdkGoQjJC54NIQ5BDkEOjA12DAoLWArbCTwIFQboA5cC1gEgAUoAGgAGAAEAjABdAdIBFgNlBEEF/gXbBuMGMQdkB1gHnwfXB4MHuwZnBq0FgAWOBV8F3gRdBPkC/AGAAcgAhQDu/57/5/72/UH9nvxZ/JH8evw1/PL7nPv4++f7Wfwo/Rn+jf6D/qH+Ff+3/3cAHAHDAY0CLwP5A10EuQSGBEYEMARVBCcE+QP4AikCAgHh/zj/6v5t/uL8rfvj+on6svn6+Nr3Cvhk+FL45Peq9074cPkE+vD5qvoe+yP7yfqs+v/6gvtv+yD7KPt9+9T7t/td+wn76/oC+wH7Lvt6+yr7sfqO+vb67/vw/F79wv3m/Xn9e/1V/gMAaQEPApsCaAQeBsoGjgYcBnYGKAfTBzAIFwlnCrsL0gtYC68KXQpdCukJNwllCA4I5QfRB3QHMgflBi4G8QRJA6kBhACFAMwAqgAMALP/gf+g/sj9S/0M/Zj8TPxS/JX8x/xZ/NP7oPuS+3r7eftA+/z6KPug+zb8OvwA/LX71PsL/Bv8H/zB+5L7Xftn++P7Ovwa/PP75Pvo+yL8i/zQ/Ln8svwD/ZD9Rf5m/on+kf62/i3/rv///xcAXgCMABgBbwGqAaABewFUAVUBbgFoAUwBIgEmAUUBSwEPAckAqQCaAJYAhACdAK8AiwCTAJgAwADAANsAHQGCAewBEAIGAh0CZgKlAq0CpQLiAk4DvQPuA+MD2QPeAwcESgRqBGkEJwTQA2EDMQM4Aw0DuQJiAhYCwgGFATsB0QBRANH/ef89/wL/r/5R/uf9ff1i/Vn9R/0d/Qf9Cf02/WL9dP1v/UD9G/0J/Sz9UP1e/TH9Ef0d/Q/94Py0/ID8U/ws/CT8J/wg/A38AfwV/Cv8Sfxo/IX8uPwW/VX9mf3v/Tf+iP7a/kD/0P9SAKwADQGFAf8BegLfAjMDhwP2A1oElQTCBMoEygS4BK0EmQSSBHEEIwTfA5sDVwP7AqcCUQIKApUBFwHBAIEATADw/6r/hv96/2X/R/8f//T+2f7u/ij/Pf80/xX/Df8p/1P/Wf9E/zP/Lf8b/wL/4P6l/mb+Qf4k/vX9wv13/Tv9G/0e/TT9S/1W/V79cv2V/dz9GP5k/sT+Hv9g/6X/AwBpALEA3QAIASsBXwF5AY8BmwGIAWgBPQEOAc0AjABhAD8ACQDM/3//R/8a//3+5f67/pf+hf6X/q3+3f4R/z//d/+p/9z/IgBiAJYA3wAZATUBbQGVAbUB5wH9ARECIwIjAhsCDgIPAg4C7wHOAZwBTwEKAeYAyACZAFgAGADX/67/mP9//2f/O/8r/yv/L/8+/0r/VP9c/3v/tP/o/xMALgBIAGgAhgCiAMIA0gDOAMEAqgCgAIEAVwAlAPL/zP+D/zv/+f7J/q/+eP5K/iT+Bv7y/eH93f3h/fb9Gv47/l7+jf65/vj+Of9m/5n/u//X/wIAKQBDAE4ATgBDADEAKgAiAAwA8v/I/6T/mP+J/3f/bP9q/3f/hf+T/6z/vf/R//L/DAAwAF4AjAC2ANsABAEzAV0BaQF0AZABrgG7AbMBpwGhAZIBgQF7AV8BQAEjAQIB+wDmANoA5gDmANoAzQDVANgA2AD0ABQBIQEnATMBQQFKAVMBWgFMAT0BKwERAfAAyQClAGgAKQDv/7L/ef89/wz/0P6X/nj+Xv5D/jv+N/4z/jf+M/5F/ln+b/6W/qX+u/7S/uf+Af8U/x//H/8V//v+9/75/vb+5/7K/rr+pv6q/rT+rf62/sv+2v7p/gf/Kv9K/2v/pP/b/wgAQgBhAH8ApQDFAN8A7gD+AAQBBAEPAQgB7ADfANsA1gDYAMwAuQCzAKQApACuAK8AvQDIAMkAzADRAN0A5wDuAPoACAEFAQUBAwH0APAA4gDSAMAAnQCBAGYATgAwAAsA8//a/8b/tP+s/6X/ov+l/57/nf+i/6z/u//I/+D/+P8JACAAMwA7AFEAaABwAHIAawBrAGgAXABCACUAEwD4/9X/sv+T/2L/QP8q/wj/7/7G/rv+uv6l/q3+qv6h/rb+z/73/hn/Lf9I/2j/mv/S/wIAMABPAHEAkAClAMMA3wDqAOwA7AD0APoA8QDpANEAtgCgAIAAYAA/ACYADADz/9//0P+7/6r/ov+Y/6D/rP+5/77/u//K/9b/4//t//n/AwARACUAJgAlACYAHwASAAgA9//l/8//rv+X/3f/Wf9A/zT/Mv8k/xz/Gv8Z/x//Of9Z/3//qf/Q//X/IABRAHgApwDOAPMAHAFCAV4BZwF2AYEBiAF+AWkBVgE/ASgBBwHqAMwAogBzAFgAQAAkABEA+f/q/9z/zP+3/6f/p/+l/6f/mP+Q/4n/gf+A/2z/YP9W/0z/Ov80/zD/Ff/8/uT+3f7i/t3+2v7S/sX+zv7d/uT+7f77/hH/I/9I/3T/hf+p/83/4//9/xgAPwBgAHsAkQCsAMUAzQDfAPEA+wADAQ8BKAEyATwBTAFKAVYBWQFVAWIBVQFEAT0BLAEeAQ8B8ADbAMgAowB4AE4AJQD4/9X/wf+j/4D/Zf9H/zP/KP8X/xL/C/8D/wf/Bf/+/gP//f73/gH/AP8I/x//If8o/y3/Kf80/z//Sf9W/13/a/90/4P/jf+U/6P/rv+5/9H/6//5/xAAJQAzAEkAVABpAIQAjACoALsAxQDcAOsA+QAHAREBFAEOAQAB/QD0AN0A0wDBAK4AnwB/AGcAXQBAACkAGwACAPD/1v/B/7T/pf+e/5T/j/+O/4b/hP+D/4n/jf+P/5j/oP+i/6X/s/+5/8H/yv/W/+D/3//g/+X/9f/0//j//v/4//3/+v/w//P//P/6//j/9f/y/+v/5f/h/97/3v/R/8z/0f/K/8z/1v/X/9f/3P/f/+H/5f/f/+H/7v/y//P/6v/m/+b/3//j/+b/4P/Z/9L/y//I/8P/uf+2/7v/wf++/8D/yv/R/97/7//+/xYALgA9AEcAVgBmAGgAewCVAKQAsQDAAMwAzADLANAAyQDGAMkAtACuAK0AmQCCAHMAYwBPADkAIgAcAAQA8//k/8j/wf+4/6j/nv+X/4r/fv97/3v/df9r/2b/a/9v/23/aP9o/2j/Zf9n/2b/Zf9l/13/XP9m/2j/b/96/4b/lP+V/5//rf+z/7z/xf/V/+n/7//+/xUAGgAkACwANAA9AD8ARQBHAE0ATABJAFEAXABhAF4AZwBxAGwAcQBwAGsAdwBrAGIAaABhAFQASgBDAEQAPQApACUAHAARAA0ABAD9//n/8v/o/+n/5f/Z/9X/1v/W/9//5f/p//D/6v/p//D/8v/3//3///8GAAcACQASABgAHAAfABsAFgAWABUAFwARAAcA/v/+//3//P/+//T/9//5//X/9P/v//L/7v/0//z/+f8BAAYAAQAJAAcAAgAGAAgABwD+/////P/z//T/8//z/+b/2v/X/9b/2v/e/9D/wf/B/7f/rv+2/7T/s/+2/7b/uP+4/7P/tv/D/8//2f/g/+r/9P/3//z/AQAOABgAHAApADQAPQA9ADsAPQA7AD0ANgAwADUALwArACkAJwAsACoAJgAiACAAIQAiACYAJAAhACEAJAAiACEAJAAmACcAKQAuAC8ALwAqACQAKgAlACUAJQAWABUAEAAIAAYAAQD3/+7/7v/q/+b/5P/f/97/2//X/9f/1v/U/9r/2v/W/9n/1//a/9z/3v/e/9//5P/r/+3/7f/t/+v/8P/t/+7/+P/6//3//f////7/AAABAAAAAQABAAIA/////wEA/v/9//f//v////n///////7/+v/5//z//f////r//f8BAAMABAACAAYABwAEAAQABAAGAAYABgAGAAYABAAEAAYABAADAAAA//8AAAMACwAGAAMAAgAAAAYABwAIAAgACwAQABAAEwATABoAGAAVABwAFwATABAABAADAAMAAQD8//n/8v/t/+3/6P/o/+P/3v/Z/9T/z//U/9r/1v/Z/9b/1f/S/9b/3P/b/+H/5v/p/+v/6f/r/+r/6//v//L/8//3//r//P8BAAQACwAJAAkAFgAVAA4AFQAXABgAJAApAC8ANAA0ADsAOQA6AD8ANgA1ADYANgAzAC8AMQAxACoAJgAqACAAGAAaABYAFgASAA0ACQACAP//AAD6//j//v/9//f/9f/y//P/8P/r/+3/6P/k/+j/5v/l/+D/4//k/+H/4//j/+H/4f/m/+j/6v/l/+H/5v/j/+j/7//v//P/8//1//j//P/+//3/+f///////f8BAAEAAwABAP//BAAHAAYABgAGAAIABwAHAAcABwAEAAQABgAGAAkACQAEAAYABgAEAAYABgAHAAIAAgAAAAAAAQD///z//f/8//r//v8BAAIACwAEAAkACAADAAYABgAJAAkACQAMAA0ADAAMAAkAAwADAAgABgABAP7/+v////r/9//4//j/9P/3//j/+v/0/+3/7v/t/+r/7f/r/+7/8P/6/////P8BAAYACQAMAAwAEAAMAAgACQALAAcABwAGAAYACAAGAAQACQAMAAcABwAJAAQAAwAJAAwACwAHAAkABgAGAAwADgARAAsACQANAA4ADgAJAAwAEAASABoAFgAWABcADgANAAwABAACAP7//f/9//n/9//y/+//7v/q/+b/7f/p/+X/5P/b/9r/4P/f/9//3//g/97/3v/h/+b/4f/m/+r/7v/u//D/8v/3//3/AAACAAMACwAQAAYACQAMAAAAAQD4//r/CQAGAAkAFwAQAA0ADgATABAABgATABYAJgA5AEIAVwBRACEAJgAnAAMABwARACkAIAAEACAAEwD8/wEA8v8BAAQAxf/Z////3P/U/9f/6//z//P/4//a/9z/2v/R/7n/wv/C/8f/pP+c/9b/xv+5/7P/5f/L/8H/yv+G/8P/3P+p/7f/y//h/9X/tP/9//T///9AAC8AJwAnADoAQABIAFwARwBKAFEAeABUAGYAbACjAJsAbAB4AFYAYAA7AEAAawBuACoAawBzAHAAaABuAFsA/P8LAB0AEQAdANf/AQAxAPj/HADw//3/8P+3//D/BwBbAHIAPgCFAK0AFgECAXsA6P/n/oP+JP+HAfP//f5TAfn+CADF/vr/AQBc/L/+K/yA/I3+2f7B/F38Vv9g/+/9uPxg/8X/cf2+/mYAAgCjAKkAYgF0Ai4CWgJSAqACcwIzAp0CAwPWAgICbwLlAU4BhwGaAaQB5AAwAU4BfAGAASUCIgKAATYBjwC7APP/Gv9+//b+zf5t/vH9I/7j/T7+av1R/YD9Zf3e/Cb9Uf7//Tv+C/8r/23/GwBPANUA9QB0AbgBYgEKAicCygHgAZgBQQEqATIBCAGFAH0AbQABAKX/Ov/Y/qv+YP4K/iD+5v2Z/aP9xf3H/bn9nv22/Xf9lf1t/oT+5P4K/zf/f//y/zEA+f93AJ4AYwBOAHoAngCKAIEAWwAVAM3/hP+U/53/ev+O/0n/bP8z/wL/9v61/uj+qP7l/kL/xv+FABYB7QHyAqUDOQThBGQFyQUFBvEFMAYfBr8FoQUUBc8EbgTPAzgDugIKAjUByQB3ANz/Af8s/lT9cfzP+8P69vmM+aj4Sfjf96r3dfeD96T37vdC+GD4FfmC+Vb68Pp1++f7YPxR/F38r/xR/Kr8YvyJ/P38BP1P/az9Qf6x/nv/MADRAHEBHQKAAvQCagNFAxYD7AIqA0wDZwOWA7IDGARiBMwETwVvBcUFTwZqBmMGrwYvB04HbwccCOgI7QmEC2sN7w8QEwAWyBh/G9Id3x+uIXMh3B7HG5IYchPhC98DlPvg8kTqqOE52bfR0swTyZPEvMKwxPDGEslBzSjTwtj43iHmJezo8GL2jPw6AUUENweGCmEN5A9AEUcS+xPpFRgXuRajF7AYHxgIFxYWkhTFEdQObQt+BmkA/Pup95fx8+s/6JPl5eKy4cHhX+Pm5rbrd/CK9bb8FwTUCTIPeBRIGDAbBB3iHLga8BjIFoASvQ11CVkFwQB0/Zj6NfhO9wn30vZ69lv3g/gC+dr4HPmF+bX6EPw8/cAAuAZGDG0QBhegHlomcyyjMMMyeDL4Mk4wHSqUHz0VTgvy/v3yzePU13rOEMbxvWC3NLbktUC3R7o5vufDZsuW1OLaTt+L573w1/dH/GgBCAczDY0SMBZ3GWMeeyPRJP4l7Ci+KtIo6CbpJfwh/BsXGKoSswofAv38OPeK7vbnWOPa3zvc/9qQ2aTZtN0R4v3klejz7+H3oPweAnAIbA7GEngXExveHB8fyx84H/MdnRysGa0WERT6EAEMFglLCGEFIAET/i7+vvwi+dX2OPVN9C7xgvDZ8MjwXPLv9sgA6gdxD0cZPiSyLw47kkGNQ2hDw0U3QiI4gSvTHVQRw/8a8vjeFs9nxda86bGZqc+qpKwYrnKvUrV7uyPDV8wQ1OvVHtsy5RnuBvPa9af8/gWwD9wUXhtPJBUtdzHqM1o5NzzUOd018TLlLE0jCRwqFagJD/209sbx3+jx4PncadtL2f/Ycdki2jPdGuK85dXm7evl8z745/ry/iQFiAvtD3oTYRZuGn0e4SBVIbgfhR4QHR4bJxdDEDUKDAdpBDD/KvnQ9if2mPTb8hzy9/Ka9EX2ovfb+uYAAQq1FEYcESRkLqw4JEXMSxVM1El9SV1IXz7BMLUfRxM3BCXyWOIm0MXDbrqnsAGn7KJbpCGlw6V1qN2thLSau9TET8q8zGzVq+EP68/vkff7AykQNhi0H54q+TSaOsI7FD/aQolAmjlOM8ws4iJMGA0RuQeS+gnwhOz/6I3hs9zu2tTbhtwl3uXf4OEn5tjq/e588UX2j/wiAbIExgjMDqQUrBhtG3gdyyBAIzEkRSNqH2AbeRhxFk8QKQgAAjP/mv0T+H/yz/Fm8snxWfBT8KDxyfNe9pj4Qf2PA8QOGxzmIyIrEDVQQUtONVG2TVNJ/0ghRf02PSURE14HxvbZ5EvTscIUuhGyqKjXn8+e2KGzow+k1KXsqsCxLru0xHXHocpQ12bnffFN9joAKxAeHoMm2i2FN1hBPEVjRR9GCUZ6QDg4PjA9JrwYygxoBZ37U+2s4rLfh90F2i3XrdVC1x/bj9/E4Vfi6ubb7APxNvMG+Of+2wNBCb4QwxeqHb4jtSjKK+ot/S7qLqwsVybKHroZ4xRdDJMDXfz5+JX2+fEq7wPvRvAQ8V/xN/IV8zT13/Y/+G/8hQNrD1gacCKxK9M1SUMNUqlVHVGuS3hKeUWBN90ioA0XAL7u4N3Py+W7nLN1rganqqAModGkVqdbpwSpKK0ds/i6/8JgxVrIrNTV5eLxFfiNAZcSjiJ/LSQ1CD2PRBtHS0ZwRSdBQTf2LAokChnBC8gAR/ti9YHqveIW41rkQuFA30XeAt193lbgm+D53hLhfOXR6ozw6vZkAJ8JShJOHZIm8yz0Mvs1gDbjNKUyFi3tJn0ePBUuDoQINAIw/SP4x/Xc9Qf2Cve09rL2Jvee+BD4EPe998H40vlx/l4IURacIqMtKjoFRkNTj2AsZOpdRFMYTCZDazIxGC7/Ue0S3ILLaboIrKOkY6JYn0Gd1J5gohql4aaLqGmqBK2bswK7Zr6lwdHNpOCC8Sb9GAopGz4tFDwWR75N50/+Tq1MtEhAP2AxgCTjGUYOYQJZ+bf1UvGL6RXkAOXG5Wji997R2a3U49M91K3SqdDt0ljZN+No7VD4ZQX3EXQe0SugNQY6uzvbO3Y50TP6K/IiqRtEFGIMhAZFBPgD8wJoAd4BKwMbBBIDD//0+Yf2dvV38+PwzO/F8Sz4/QJnEvgjVzShQ85R0l08aCxuymsjXzpONj+MMJgc7wI361PZ/80txF+5QbACq4CoHKeApeKj5KCCnWqbzZotmgOcjKNdrjm4f8Ko06PrrQLvEukgCS9YPWtIJE1TS+VEHT2EN2syHCpuH4AXlBNeELcNnQuJCeQDpfsT9NzsyOQo2/7P4MXuv7y/Y8PPxwLNs9b85TT1ZgOrD/IYUSC3Jngr4C0fLHonACYlJhgkbSFWIJAhnCJ7IWYfJx6OG1AV5w5RCXwDB/3D9vXwz+z864Ltmu+28o72hvyNBdwONxdZIpUucjg9QKlFtkhKTadN9kiFQGA2nS1+JKcZIQq7/CbwIOXI2unOAMOAuKiugKaNoNmbHJhplk+XX5qen1qnc7FNvMXFVs913Dnr0/ZR/5wH0Q86F0EesyOGJi4oWimCLF0uhC20K/cpVCeKIw4fKhqcElEIYv3e8xLstePN2hbTQc4pzsLQ9NRs2Mrdd+aU8CL5sP5AAx0IEw6PEkEX4xnNG4YeYSMUKXMtRzA8MZsw3i8tL1QtUClmIkYaRBSkEGoMuAb2AEj85/m2+dj5rPm++U/6fPz1/2kCUwS8BvcJLw+WFYkcsSPDK88ztjt8QZpBSTwPM+4pFCD1E9EBXu4n3/7VadDmyqXD672eu4+7ArzZuma2wa/mqmuqkK3lr+ixrLWqvZDJvteK45ntQ/bg/SUGgA2NERwT2ROgFTcZZh1dICckLSdWKM8p8ikBJ3cgwRbjC4cCn/cE7SXlsOAb32Pf2uHi5vbu1fbi+2D+BQElBKgG+wVuBGsFZQiyDf0S8hm7IW4otC8ENVw3RDfkM94vcSphI/gb4BRXD/8KkAh7BwQHXQcZB1cGIwa8BVAEJgHW/fv7sfqc+oD7N/2P/iQApQOQBsEKng9XE7cWCxmEGlAbPx3fHRcb+hfUExoP0gphBZT+0/aN76DpzeQv4ITbxtbo0C/MWskpx4/E/8BGvbO8sb0mvxrCNMQeyDHNiNPi2+HiLOoA8jb5jv9fBbcKTw3rDg0RkhJRE8kSkhGGEcwRwBLFEqcQxA7ACxwKagjEBPsBVP8w/Rj+vgAuAt8DtAVhCZkNuBFCFTcYchreG6YfQCL/IxUn/yjNKrcs+i3OLuwtIivpJ50jKB/7GhcWwBI3D0IM0QkRB04ErAK1AeX/iP5h/Hj66vk0+V/5u/pe+hT6O/tl+9f8jP1u/cz9p/xq/Nb7V/yJ/PX6bvq2+Wv58/jT+H/5efiq9tf1fvQZ81bxsO75657pjed65CzjAOEI38Pfxt8g4ZXiU+N55KHkxOSR5EXkuuSZ5eXm0uef6WPs/e6E8aDz9/Re9hj3RvgK+ur8ev/9/7sBOQR1BqMI2wpMDP0NoQ8IEaIS9hSLF78ZdBsaHYYeLh5JHpIfQx+FH34fsR6IH8QeWyCTHw4dCRwOGrUYOxe2FdUVcRZNFB8TmBDbDFkK6wdbBmAEKgJxAkoD1gTyBcwHrAbnBD8Ep/9A/oL7D/r++Gb25Pev9/z4YPuu+f35a/ag8a7vdezR63Ds2euh65TtKe+j8G3vPPFy8K7su+sK69zsqOvu7Pjv2fEu8m/ya/W19nf1NPXj9wr1FPJy8tPxY/JF82TzfvJN9Nz0ZfWk9o317PQ+9Uv0x/UT9nP3bfpX+bn+gQEiArMD5QZECSMLhRDzEGgT7BTXE1YTAhOdFsoZQBozG2sYyhTsFDIUNBKHEcsP6w1TEbgQJA7dDtYN8ww+B7MEHQTVAioEbwRYCaYHaAbhBo//IgA0ArcDlwS+A8QJtgNlAocDTwBHBS4AEgF5+6X3gf+S/ecBLv6X+l37RvT5+aHwTuqs76zqnvMC9p3xavS38FLs+e9t8lLyVvHq8Az2LvZh8RP6h/qg+3H+NfgH+l35APvh8g33LPrE+Vn5LfAR+if0jPGS9OPyU/cX85v2Vfe3+Bz86vm9+Fr91v5l/HsDiAKcCwkNhQrPDsQLLxH9EH0LKA+fGcsZsxm5ErEQSResDmIOuBH0DKkLTQhGCzMBTv8AD1QEbgBtBK0A7P6b+vUAPQPI/XYJnf/WA4MBIfSdBaX68gFTCa4DcgshCqoH2AHOAa8As/pP/5MDfQJEAef65wHdAuz4JPqC9s77jPmi67r3yPeu93T4x/PT8L3oCfe99Rr0SPn68l72S/aKAGX/5f0XAHzvUP2h84L5RQic93EJi/8m9noIvPuy/Hb+ge98+Qz4gvNN/uz9jf38/pb2PgIWABr2Bf2e+zYAGwTM/1ESXBU2CvAR1gdBDJQKkwiSBKMIpxNzC/QVBhBBBAwKXw2KFA4L+PtMDm0DNP0yCuH8iQ8xBYIEmg7V818ETgDt88r+Yvrd/l0KGASSBgkHFPvM/cr8k/8DA90NYANO+OUFbPhdBNUKxfdBCH3+1fNSBfrzuwy0/e/1igyx3KPySvE9+/sHI/MNBsb0E/Ct9U/tqf119+LqcPfM/ej/oAEvBfn8Vf0p+Qf41PdH7xf9iQL9BSUX8/j185AHt+yc8gcDbveMA0wGnv40DO/+9PHr9p8DpwPD+YUEHQ+JBhb4gQc/FqP8uwmIDFoKdQWjB+0LTgCRH7cMkwYCAo4C5vY/AF4ahwpcDCTrGwIMEDv0ZP0Y/IoG+vnj//UWJOxO+UEXrOWc/fT86e62GP7vFBLSAQHlsCK050z0Dg578tsMaPIp+7kQxvLl/fcELgCB//HtjP0K/g/6aviRBPkGhOoJDBv+fPFWCDf64/1D8uH0MRG58Tf/vAny+2ME1Ph9BW/4jepdBqoCY/Ab/UQG2Qxf8TEBBPuo7ogB7PiGAZD63ftnAuf+z/psCdT4yPcIDcD0ywOKCUz0uA/sBZwFRAcW/hkI/gRFE6b+xwHqCvYITBOJ+yYIsw1J9bUJxxyG/x//2/wn+vIW7AoI/k/ySQYhCdMBuADt+2QMpO26AUMNUva4BGj6yP0ABp77Ff969kX6EA0N8IYKrwBe8FULCuyqB6z86PMf/xP7wgKJA7v7nvtv/rfuFAKBCIABtPOp+EP/NQRPBWryWAuD/gz4swdS5TcRxgVe86cOLeqiDN4Ir+7CBlrxohHq/UHu0Q/Y56sIoAEL+9MEZ/Zc/8L8kfil/4786/M/B7P6ZAut/yry/wfh/QkArQCwAuMHAwO3AKwBqQn6B54FIQRxAigJsv7xBFARIP8a/oQM8QPmC0r5kfx+Dm/0SAzm+jP+rwqS9PMIZ/uvAFUJjPSW+uj/fADeBZPxeQIfCajx8v68BpIB6fvx/KH4+/0NBEX7TQD3+sX7xwaL+YQAs/3U9az+6P6G/yX9Z/V5AnX/K/xtBSX1QPwK/kv+Ef4O/ZsAkftZAEf9Uv8CBAv8iQM5A+r5LgJ//w0BywXm+jgBlgM5/loEIgMn/cL7hP51/wgApQAV/hH7/fuM/ZwCk/6K/QT9/v9UBEcCXv8BAC4Bmf+PBVoCPAkPBaUDTQOCAI4MLwZhBXoFcQQBCUMELQZgAg8CdAhWAUUD4AHCAIwBBP7t/+P/nP62/c/8pfwv/iT+Hfpu+YsBbPsS/PP+LvolAG39v/pv/g3/zP2D/rP/ov8e/gcA7P6s/4H81vty/wz/IAFe/Y76NPyZAHX+5Pz8/V78Ov3L/vL9of72/Sv8w/7t/rv/hwHXASIBEP/z/t7/JgEiA9sBlQRKAQYCOQPK/+wD2v4M/00EQgNdAYwAN//BA+z+FP6eAzT8QAHJAsn+3v/D/Wv/DQMMAQ0B1gD4AOEBzgC/AS8CtgHxAeUEWwNgA1oCYgIxBFEDQAXHAhf/hwGOAikA9QBwALj/FgBWAHb+jf3m/ef7Cf5p/a/7IP2L+lT8pfwH/FT8rPro/pr8O/4y/RP56P0e/nMAo/6/+6L+Tf9u/qf/0/7v/cL/W/+LANX+iv9s/+L9JP/9/qcBkf4D/rH/9v6sAI3/3f6kAC7/CwA7AiT/5wFWAdEAfAA8AckEZwEtAgkByAGYA0cDLgGj/+EAYQBfAhIBoP91/7UBYQDw/bb/Gf9jAIn+sv/t/yv94P9XACUAYwDaAF0BaAHm/8IATQNsA1cDqgKWAjADkAMlA+ME2wJnAYsE+ANqA+8BnwAhAdEAZwERAAP/sf8QAKP/vvyF/F/9IP52/X37j/3+/cr8gf0F+3b7kf0E/cj+xvzB+3r8mvwm/4D+W/xf/nX+Qv+5/+/8D//b/uf+2v/7/gD/UwBJAeX/4P+RAHsBJADF/j//kgFhA74AKv9EAdYCoQICAuwB7gKrAs8CagPoAcMBaAPCA4ME0AI2AB8DAwS9At0BigCAAVQC0gCL/6MA9f92/0D/+/7bAG4AfP/R/VH91P79/54AB/9c/0IACQGbAcUANgArAWIBuwAgAlACYALHAU8BTgHrAdgCWgHvAFYA+ABPAfr/Af9T/QD+ov7x/r/+9PxR/Rn+sf17/ZX8SPw0/br9mP4A/uT80vyA/av+mP9g/xn+Pv/t/0X/G/+q/qr/qQCPAEMAKf/J/uX/qgA9ACj/iv84AMb/KP/U/ur/RwB//4n/0P9pAAQAav+LAIUB3wD0AKcBaQG9AWkBgAE+Ai4CgAJ2AlsCmwK+AWgB1AIbAgkBYwHRADsBYwEhAHD/6v/9/xIAUwB//0L/T/9WAAwAxf5e/1f/KgB3AJn///8/AOEApAEHAU0ADwH7AGkAUAH5AEwAewDwAH8AW/+0/+X/gP8g/6z+CP8e/7r9kf3l/Zb9EP60/X/+fv7H/Nf9gP6J/tD+pf3J/Y7+2/5R/yT/Yv+s/67/FwA0AO//EABAAFgAbQC7ACcBJwA0AK4ACAE6AT8A3AATAc0AXAD6/2gA/QCdAesAzQBPAT8BJwEmAV8BMgEDAToB4QE3AmoBZQHsAfcBsAEcAfgAIgHTAUQBTwBKAFgAAwFkABcA1v/n/oH/QgDR/z3/mP6O/nr/If/r/+P/y/5c/3f/rP8cAOD/z/8pAOb/AQBKAHsAeAD+/3r/0f8sAIX/lP/5/0j/oP6e/in/vP/Z/qL+q/5b/uz+vP5q/uD++f7f/vP+Qv+r/qL+pf9t/97/uP/Y/tL/YABNAD8Aev8BAEwApQCpAAkAgAB3AKUAbACeACIByAAGAD4AXACoAOIAUgA9AHMArACEANMAfQB7AL0AswDJAMIAtgCvABIB/QBaAQcB8QAtAfkATgH0AJMApQCpAAQB0wCJAIIAVwARAB8ACwAIAJf/fv/L/8r/ov+F/+7+YP/m/8P/Yf8A/7j/5f+Q/6r/hv9C/9f/tv/V/8z/lP+z/1T/qf+O/6r/tv+I/0T/MP9X/37/n//2/lv/Bv9F/4X/B/9N/5P/Cv8I/3H/U/+Y/3T/Wf87ADUAbf8GACoAWwCbAAYAawCZAOv/LgCdACYAogALANoAowCAAJQATgAwAI8A2ABDAO7/NQBuAC4AjwB6ADYAlQDG/7gA2gCTACsASgBCAOT/rQAUAXwAlQAVAIkA1QB8AEoARQCt/4j/QABDANb/+f8GALz/Uf8v/y8A4P8w/4j/7P54/uD+NADS/z//l/5q/3AA6P9b/4r/EP9w//z/CQAv/03/PwDX/9L/Rf/N/9n/5v+V/3T/4P/Y/sD/MwCZ/xn/zf8AANn/l/91/2L/Wf6k/wAA7/9s/13/t//FAFQA7/+o/3IApQDNAEUASP9tABwAbACzAXf/Bf/rAMMBZAFr/y3/pAAeAfQAT//G/6kAYQBJAOT/Zv85AIcAGgBRABMAfP8JAUX/sv+uAYYAFwBi/8EAWQIdAVkB4P5kAKsBzwEDAG3+twDMAYIA+f3Z/cEACwJ/AM39T/7h/9L/DQCT/o39kwDz/2X+W/05/wYCCv+7/SL+4/+q/63/ef+H/hIAmf9p/u7/HAEu/73/OQByAPD9gP9TAZT/kP+l/uX/e/9nAH4BW/5B/nr/RAElAQj94f+2/wQAeQIn/cv+fv/FAVMENf05/yD/WwE1BNL+JwF1/2cAGgP1/SkDXP9I/0cDj///AQ7+2P7HAuwAcwLc/WT9+AFdAsAAjP6d/lQBOALv/0797P55A9MC3v4M/BP+CgM0BAr+I/qi/3ADPwR7/635xf4PBgQEtv4O+kf/RgU6A3H8a/vvAfICav+W/m77MgFJAEj//QCU+xUAS/0//2ADJ/wG/uL9HP/WA7L+hPx3/AkBRgE8/owAyAAH/Bv/rQLa/+4AEP7v/iQDngAG/g3/VgLgA1r95v84/z8BVgK3+z0CoQE5/i3/vvzlA1sBA/ydAxH+2f18/5QA7gUq/Nv+LgK0ARUG6vgH/7cDkwE4Ayz8FP75A+oBsv85/Xr/ZQR4/TYCCQG6+7sB0P73BEQACPzfAtn9ZQRM/9v6+ALcBIz+bPupA5T/xv9JA3//AAAW/Ib9+wWMAa76j/4yBjsAVgBx+3L99QlK/yMBxfyx9UwFBP0V/DP+a/UlAoQCmfkA/nH64gCPBCz9PAKP+T77Wwi8A9z6NP4qBvsIcvzv/54HKQMuBeEDtAEJ+oD9tgLH/woEAPTo800H+/4K/brzwwE1BMr/Cv8J+IX5vQOsDf791/1L+h8IKAhGAjn+c/3aAzUKdweJ+k8CIACjCT4GtP6Y/tH5SQQTB7IH0/cZ704MBg0F8oz24AP/A/T/Rf+w+oPzWg1AAkn1ZvgDAW0Uxu6y9twN8ftU/3sJ9/Sj/NgOQf4AA0b2eQMRATIBAgwT7ij9kAGcCC0Gv/QN9jMC3AeFBVjz4e8ZCyUMpvVk6AIPOAHn97gAd/kWD4X55Pj0CfkC1/3H/bQBkAEkDOH6mfFPEHULifWH9LoIqwryAs/7XvIgCh0Nr/0W9nz1RQiwDvD3Q/NwDHMKlf80+Zr5cwR2Cl4De/xM+f317w9FCPn27vol/HgIZQP3/67ymQeOAnf6uQaS/fQDEO7ECfUGXfyy87f1XhJqBtL3f/jN9vIHdQos7+kTPPdO8oMHGw3XCPf1rvDjBCgS1O6cAt/+hwM8Bazu+vWRF5cKt9uG+pkV+gs09o7iig/+EgPqaPwSBgUGvAz15yH/ehib+j4DJP+l+1b5vxdH9/b3kAk1+DkU9AKSE3MF0u8gAl0awAPY7lEB9eks/pMSBvhz68v0XxR//uTeAv2HB1D+APu79LsA0gEnAvD0T++3Hd4J++rk6kgPPR9eAxXySuedHc4hfvIS8YT+vRc3Dy3qigNeE0P8l/P4Bsn9AwbUDHrnTfhLBXUAIf0W+8jzgv2AHA3wTeWqDpT+rReX4hvz9iJg8Yv60PcNEwASDvHI57UNZRbmCgb42+h2/Y8T+hPK97zzVPcQEGcCXfxUBoPurPsZB9z3Owu6+Kf4sAwW9sP/4vpc/l4KR/ou+Jr/fQf8BcnuU/jAEHUDGfuW/Iv8RAQqB44ApvHDARYH0w/SA8vlmP7yFScO4fP99IT/8Q1A/4L9XP/sA0sFsevuDlsM2fHS/WICBAfO/v3+7gKj8iUHyglF/0f7YvrzC7z12PaNDL0E1P+59LLyPAr0D0374fBbBXAAuv0RAXECgwnF5wX+1xUZ/YPxTPd4DCEJu/Sl8QUJmwueAHD1+PoqCgcGXvx39AYHBgZIAHIA6PSsAskFIP+R/uv25f8HCZIJe/zT8Fb8xAwLCOL6TAKM/TP+EgjGB3oK6f627cAGGxFLBLT+Tvq8CDQFJwLF/0H+4AmaAxr1PgDMD/YAgvfU/8IDJAIM/qgEZQOf+Cz71gJSA6v+rvhT+7ABjwDb+9H4mfzC/DsC7P36/F78ov6j/3v+QP0a/w0HdvwTABb7iQOSCPH97v7NA+sDx/uLBOsJsvwX940E8AtdAPD3sv4x/WYDWwYJAe/8PP2vAqf8Af5oAcD/UwBF+fT+AwFn/SYDhPc4/1YENgFK/4v2XQHHAxgBeQKW91H+qQzjAbD7UP7CBCsHj/8YAdMEDgWsAE/9QQjeB+8CXAAE/p8GVgHrAcUFggKABIn7zfo3BI8GGABs+Kz9n//YACb/yvjX/RT7L/38/qT4afh7+b396fmV+Q73q/gY/RL/YP8t8+X5qgAv/q79bPlp+7v9Vv/hAGj8lvui/7gBa//v/tEAfv9JAfUAyv7h/RUA6wHK/4X9+/u8+xD+QgLy/az4Vvug+mL9xf5Y+mn9v/4y/4D+ofpdAFIFxQX4AAf/kgevCCkJrAKmBgEQqwyqCggH1w0bEjYQohDBGFEg+xtvFBsU1hbAG9chjSJJGzoLAAzOFasZIBIPBR//4wF0//T2JO4V6+f0n+0x3IbVg95S31/U+tBl1N3W1s7RzNvSdNhN3LXbG9465wzrIOug7UD85QxtBJkAUw/iF2kY/RWvIPEl+RqLG90kLia+ILMbnhQrE3sWVBUtC0gG9AFo/Cj+avtr9lTtYO2t833t6+fJ603uj+zM6ZvtnfLt9ar3Zvh3/EIAIAcaCH4I+g2HEpsV+BX/FucapxlTGpQdJR+iK+I1IzEHIZ0YKxvgIno1KTgeH7T/D/46GI4gJRPQ9+vtDvYi+IXut9c12knnbN1+xQ7BOdKkzdK3jrd7ycvPP75ttFHHltT81i7P49Fn66Hyt+a45cECbhobDJcCAxVyJ+MjliCOLDcx5yuyKiwtECowKTcrsSVuGyIYlxS3CnIEgwKnAU/87PHR5snhIer/7xXkEdvF3ALl0OPE4FLpJu9p7sbrh/S3/LgBugULCSsLuA6JFqQbtxyWHcwkaCOMHg0hhyfKKQcmhCPYJ+gwsDZmNiYpYh5NICEqnTgZOPIk/wf5/SYUECJ3F1r7ke7087nvHuev3XPeOd+f0pfAS71ZzbnNJLVasIbDI8oTv3a2DcXRzZnLx8593GzqJeMU3+Lp8gH7EWAMkwUUDoMbhSJ0KC4toC4MJworwy63KKwpyCvfKBYZcBAhF1wWaAZD+QT+UAGA85bpAuvD6gvlAN3e39noG+kW4zbgb+i/8Db0qfi2+lT9sf3yAhAQ8RXxFIYTlxYwGjccuiTjJR8aDRcGH4ojRBpIEpsXbR2xH9gfTSYbKb8axxDVEiwltzlYMOcOS/VUBmUhtyJTDM/x7/Do80rtKuEh4AroHNx7w9W5XcjP0Hq+mq7IubLIfsPltDO7J8w+05jUjtmN5xXsAef06bH9Qg82EYcNkQ5YF+cejSXkK5QvlisnJ7spKSipJ/Eq2ydOG1IM3BDyHKsWt/9E8s/8xwHR9tbr4OvB7DnlZOCy6RHzje8C5jnj6u9R95v6IvwQ/Fn+3AGXCooMHA0TEWkXQxpuFVIUzB1sIxAcbBT1FGEdSh5HGXEUmBKkFEMWNyLCLh0vpx+CETcXoyNANLE4Vij2DugCYA+XG5gcpwjy9XDzPu4K5Jjcz+Ab3QjNsb4DvY3EsMDFsv+vpr7bwr+4bbbIw0jPms1l0LDbzerI7LrmiPGtAqcI7gV+CzkVtRXBEzcbTyjMLO0iyx2oIiQg5h2SIRApzB59Cq4HFhD2E9MFav5j/2n9svbX8FD04fFn7a3rPe3d7H7raPAz9aD03vL89X79bAC0/XMBmgaECFsFtQeDE1AXrhNmD64ULRzGHYAcIxaeExEXZhzwHjobPhQ5ETIV2x4uKQgwrjErKKYeRBvdJTk3ijdoJpcOQQtDEgwUVQ5gAFX6jPPz5wDYqtOC3DvZb8h4tqK0qL4lwKe1hbNbviXDx71YvwjMOdJD0gbWKuNX7zvt+eu09voDxQiDDAUWDxjtEusU3R2oJKsk7CLoI+4eUBUcFIYepiZ2HeMOzQjQCqIP6A7BCk4Ex/wd+f32hvUR9oD5cfmM8VLsh/DE9z/6tPdg9Xz5w/+9ACT/dQCsBVUIcwh5CdALuRAxEYkMswsPEa0WdRU8EXgOaQ51EmoVuRV6E4EQJBBoFf0eHibLLH8tvSb4HUobQSW6Lw0ziySaDnYEDQVADaoL0QHW+Nbvq+O00pDPAddw2BLQccHmt262FLrKvl7EB8n1yB3G4sbLzJ7Uwt3m4wPpIu5B8fv0ffmF/8QHGBHoFkAVthGFEsgUfhlPH0Ui0iDGGcoT+RCUEhUYfBkYFfAKnQLqAo0EmAMD/937VfrW9nT0HfRP9uf4Tvj59Vj2wPcQ/J4A/AE1/8b+DQeUDP8MsArgCn8O5RAWEQISZxbOFyoTsQ42D84SgBawFHIO5AlACwwOww2SDBcL6wwWD1wSbhn7IicrVCpAI9Ua9xl6I9Yp4yVrGUcPnwnrBHv/dfcy86rvI+gp2jzOzclax8TDpL02upS5DrrRuW68+8HAxUjHf8vh0+TZeN704l7pZ++g80n5+f+mBSkJdw3uEoEVZRWWF5QZAxqWGoccVR97HE4XBxTwE4MUFxHwDWUJjAQvA2wDCwKs/bT6Z/kF90/0b/TC9/v6bfkQ9+34/vsv/h//PAGOApMD1QXQBwgKtAuZDQcPsA+tD8EQLhOZFPkTCxIKEQMRmRKIEyMTyRFWECAQpw/dDgIOaA7LDSgLKgmZCtgP9xXGGjMc6hqQGJQV1hNEExYSKw7NBpz///lZ92r1KfKj7mbpLuKa2oLWLdWU1E/ScM9kzhfPoM+C0C3Wa9va22raqNxM4enkH+ff6dntiPDn8bHyrfZR+0X+w/+B/wwAyQEoBIkG+gcVCg8MEg1oDusO4g5HDkoOMg+lDlEMJwrfCTkKvgjlBr8HxwlFCkkKOQohCiAJQAhxCesJ+ggrB2cHqgh+CIsIKwmECfsIWQibCOMJwwoNCxMKEggABnMFsAWqBEADWwKiAYIArAC0AHgAwADDANb/sf1l/fT+bQAnAUEBBgJlA5kExgXACHYNnxAWEdYQ/RAOEHEPbw8MDjcL9geyBWkE5QKK/5T87PrK91Py5ezF6FTmU+U04s/dl9rz1wPVMdSw1V3Wd9X20wXT59Oo1tPY4dyc4Y/jkeQG57Lr1vCn9W36OP+LA+0GqgqzDo8R4xOyFRcXqhfwFxIYxRhjGPkW+hYSFzYVORNYE4IRmg5bDB0LsAoiCggIVwbOB6EISwiRCEYJpgjQB6sHawiwCfgJhgmsCbUKUAvyC5MMNA1ZDkEPmQ+iDzEPDw9QD8APiQ95D0kPbQ5qDtMOXw/LD3kRbxSLF5oZURjEFEsSmhEuEPMMHwkoBZEC8P9E/Ff43PV880nvy+mH44neN9uV2GHVm9PJ0d3PeM4UzuDNPc5XzzfQUNF10qzUvNfK2z7fbuOs5yfrL+6P8Xn1SfrD/k8ChQbVCjIOShElFAoWnRj5Gj8bDho/GbEYixjOF44WshVcFfUTwxHOD+sN3QsDCugIiQgnCAEHcQauBmQHDQiTCEAIcAioCFUITwjYCBQJGQk8CjoLEAw/DPAL9wvGDKINPA5pDxYQVw+zDX8NCQ4KDnANjgyRC6gKHQrpCQELtQ0YEa4TkRWcFQ0U3BFoEHYOKgxQCe8FeAJI/8/8FPoa+Lz1YPIo7bvnVuIU3pjaddcS1O/QUc90zvjNiM0KzunOk8+lz3PQjtIg1orZidwR4A7kjegR7UDx2PRi+Cn8dQBLBYAJBA2iD8wR3hNiFi4YpxhlGB8YkxjVGLwYuhfVFpMVcxSGE4IS7hDlDyUPqw4lDyAP8Q5nDwYQZQ9VD2QPeg/FD7cPVQ92D8sP9g7JDv8OBA9oDpkN4gyjDN4Mewz9DAQNmgzKC3cL8wr/CQsJCgjRByoHjwZTBlcHegjvChgOjBA7EckPzQ1bDKkK3gfNBFcCAgAm/SL6wPcg9sjz7fAb7eToBOTp39Hbu9h11lzUqtJ00SrRLNH30i3UENU+1SPWINhE2/veueHD5ALoAeyx7zHzjvaB+kf+/gBdBAYIiAt9DcgOHxB0Ee8SnxOLFDYVSBWKFC0UJhRxE6ESlxExEYIQ1g/pDpAOcg5aDtsOnA6QDhIO/g3EDeoNBA4JDjgOJA4tDvoNWQ5oDtEOsw5+DroNHA0pDVINgg09DSoN7gziDHYMEQxkC9IKQwpTCR8IKwfzBm0H8gjXCqYMrQ1sDa4LEgrSCOMGHQSpAJz9W/tJ+eT29fRX8zfxO+496ublNOI73zTcldma1//V3tQu1AnUsNQl1izXAdgM2bjaJ93l3+/i0uXG6Lfrvu7J8Sv17/jZ/IcAlQNSBg0JlQtODZYO3Q8PEQ8S1hIqEyUTBhOTEgcSzBFPEYwQyg8QDxgOMQ26DAsMfQsQC7wKjwo/CokJMwl8CdEJ+QnpCQwKcgoDC0ELlgs6DHMMaQw/DDoMkAwvDX0Neg2QDUoNEg3ZDMwMtgw9DIYLYwoHCaQHxgZCBrwG7wdSCVUKvgp1CgoJ/wdRBhME4AF2/1X9bvuL+R73rvV99OPymfBT7erp1+Y25BThwt7O3A/bStkZ2LzXPtiF2UraittJ3HLdGd9B4bzj9+VW6M/qCe768Av0ofeE+z//ZwIsBaYH+AmqCz4N3A4SEBQR3hFQEoMSzBJmEgISzxFfEToR6hB6EFcPeA6eDbUMIAx5C/8KhQoQCogJmAm1CfAJzwl3CVoJUgnfCW0KIQunCxUMGgzoC+0LAQx1DMYMEA31DLYMSAyvC6QLhgsFC+0JkAjtBr8FqgSMAysDPQP7A30EDwXmBDcEmgOYAksBqf9q/g39D/yS+v/4tvfx9kX2mvTj8qjwje4S7KzpLech5UXjKeHf36/eSt5D3tXeSN+Y31vgXOGk4hXkgOUw58bpU+y57ozx4vRG+Ij7gv5WARIEkgZ0CF0KWgznDQYP/A+eEAoRtRHwEVkShBJwEv4RoREbEUIQfw+BDr8N3gwzDIQLSgviCmcKOgoQChsKRgpZCj8KhArLCi4LsQtwDAYNlQ3kDdMN2A3aDRwONg4YDrgNPg3ZDJQMNQxYCyEK5AiMBy0GmwQWAxsCewHOAOT/U//0/uX+2P6A/uL9QP2j/Nj7DPvz+c74lver9rD1zvQn9HfzfPIG8Vnvw+167OTqMOlO563lX+Sc4yXjzOLW4hbjluMh5N/kv+UL58/om+pY7Iru8PB28/n1lfhD+wb+rADbAicFUAdMCQQLfwyjDdgOChAcEQQSzhIqE20TshNYEygT0RJuEvcRfhHiEI8QTxCcDxgPwg6VDmgOQg7IDYwNaA0iDQINBg0lDV0Nfw0zDT8N+gx1DGIMGgx/CyQLSAo6CfwIfAiKB8cG0AV0BI4DNAKjAOv/EP+S/V38H/vG+Wv5u/iT9wb3ffaj9WX1//RP9Bn0qPMD8/LyGPPQ8tXyz/Kf8uDyFfPX8unyBPOn8m3yOfLe8cvxw/GW8eTxMvIS8vTx/vE+8vryd/OG84vzwvMa9Jv0PPXk9dP2rPeU+Iv51vpJ/KP9jv6U//EAXQLaAy0FfAbBB2oJswogDJ4Nqw6yD7EQpRF4ElsTrBPmE1UUuRQLFVoVTBXtFNcUNRQuEywSHhHZD90OlQ0kDJcLmQqICcgIEAgmB5cGrwVzBMYDiQIuAXIAwv+g/hr+KP1q/Ez8pfvx+rj6I/oT+Z34mPf29tz2Yfbv9Q726fXA9Rz2+PXo9T/2VPYu9n/2WvZa9sb2w/a99iv3g/eY9//3CvgL+G74vPgL+bv5Cfr7+UX6vfo2+9H7NPw//HH8dvx9/Nv8NP00/RP9Dv0X/Un9of3d/Sn+ef6x/ib/z/9kAPEApwFdAiID2wOMBDwF9wWvBoIHbghLCQsKoQpBC9oLdgz5DHsNuA3YDfgNxw18DSkNvQxDDMgL7AosCoEJmAigB8oG6gUDBTsEMANIAowBrADV/zj/iP7e/WL91fxj/A/8t/tg+zj77vqY+nv6TPoy+jP6JPoN+hj6HfoN+hP6Cvr1+QL6/vns+Qr6FPoU+iv6Mvor+jD6SvpU+oH6nfqc+tn6IPti+7j7Fvxo/MH8Jf1z/cn9H/5R/o3+zf7n/iT/V/9M/zT/KP8X/xv/If8N/xr/Jv8k/y//Zf+l/+j/OgCOAP0AXgG0ATECwgJMA9UDbgQoBbkFKAasBi0HpAcJCGkIrwjrCPsI7gj8CA0J+wjFCIQIJAi4B0gHwAYuBp4F5QQvBH4DogLmAUYBkwDW/zD/lP4D/nz97/xw/Av8rftb+yj78vrH+rX6n/qc+qv6u/rU+vP6Bvse+zn7Z/ug+8L7/fsp/Fz8mvzC/Of8Df1F/Wn9iP20/dL97P0B/hX+Of5o/oz+rP7O/vT+Af8S/x7/JP85/0f/V/9r/4X/dv9t/3X/b/9n/2P/Zv9U/03/Uf9o/4D/mv/A/9z/AwAqAGMArwD2AD0BgQHNASQCfgLpAk4DuQMhBGQEwgQaBV4FsgX5BTUGUQZsBn4GewZ0BlYGRAYWBsUFZgULBZsEJgSxAxYDhQL3AW0B3QBPAL7/K/+h/h3+o/0y/dL8cPwU/Mn7ovuN+337XPtB+0v7U/tx+4n7vPvx+wv8M/xe/Kf88Pwy/Wj9nv3N/fT9I/5K/mH+bf6P/q/+y/7e/uf+6v7x/gf/D/8j/zr/O/8q/yv/Mv8z/zr/O/9F/1j/Yf9h/3H/cf9s/2//cP9//4//o/+t/8D/2f/+/yUARwB2AJkA1QARAT8BdwG1AQQCSwKJAtMCHANYA44DygMRBEsEeQSXBK8EuQStBKgEmwSMBHQEUQQUBM0DhAMrA9ACZQL4AYMBDQGaACUAvP9I/9r+a/73/ZH9PP31/K38ffxO/B/8FPwD/AH8GPwh/Db8U/xo/JX81PwN/T79dv20/e/9LP5k/pn+0/4H/zT/Uf9y/5f/qv+8/9H/4//v//j/+f/6////CAANAAwAEgAIAP3/6//o/+v/7v/u/9//4P/Q/73/wv/A/7z/t/+s/5//ov+t/7f/wP/N/+n/DQAvAE8AdwCsAOUAEgFJAYoBxQH0ASICVgKWAs8C/AIwA1YDfgOPA5gDogOYA5sDkQN5A1kDNQP3ArECdgIuAt4BiAEsAcIAWQDw/5X/NP/J/m/+E/61/WD9If3n/Lj8mvx9/GX8WPxS/E38Ufxc/IH8ovzG/On8Df1J/YD9u/3s/SD+Vv6D/sD+9P4g/0r/cv+N/6z/yv/e//X/EAAnAD0AUwBTAFIAXABmAHMAdgBwAHMAewB3AGkAaABiAFYAVABFAEAANgAfAAsAAgAIAAIABwAJAAkACQAWAC8APQBZAHEAkACvAM0A9QAbAUQBbAGSAbUB5gEWAkMCcQKSArACygLaAukC9ALyAvMC5ALBAqUCigJmAjcC+gGvAWABCgG2AGkAHADN/3z/Jf/K/nr+QP4I/sX9mv2B/Wf9Sv00/SD9Ef0N/Qf9Ev0e/S39Q/1U/XP9l/2//eP9Cv4t/kz+cP6X/r7+4/4K/y//TP9U/2z/if+u/9z/+v8WAC8ARwBYAHAAiQCbAL0A0wDdAOUA7AD7AAABBQEWARcBFAEFAfUA+wD1AOUA2ADQAMUAvQC2AKQAogCWAI4AhgBuAHEAdgB2AIIAjgCfAKwAtgDOAPAADgEtAVMBbAGBAZsBtgHNAdsB8AHxAeUB6AHnAcgBtgGkAW8BQAEFAcYAhQA+APr/qf9b/xX/0v6S/lD+Af7P/a/9gf1l/T/9Hf0E/e/87vzg/Ov8B/0X/Tv9WP14/an91P37/Rn+R/5o/nr+o/7I/uz+HP9P/2v/hP+4/+H//P8TAD0AawCGAKcAuwDMAO4AAAEUATIBSQFaAWgBdgGPAaIBpwGlAa4BrAGvAakBpAHAAbABqQGhAYsBjQFjAVUBTAElASMBEQH7APgA3QDXAM4AwgDVANMAyQDWAN8A1wDrAPAA5QD0AAkBLgEsATABSwE7ASUBIwEqAQkB6gDdALIAeABXACsA8P+0/4P/Uf/9/tD+nf5a/i7+C/7j/bj9m/2A/VH9Mv1E/S39Jf1G/Vn9av1f/X39jP2b/bb92/0U/if+Vf5t/on+pf6v/sr+Bv9J/zn/lP+k/4P/o/+T/7z/n/+8//D/7v8hAEQAhwCWAL0ABQEIAUUBfgGSAbYB7wEvAjQCNwJZAm4CZgJgAlACVgJXAhUCNwIZAhMC+gGWAbMBgwFpAWgBPQFAAQ8BywDkAKAAfwCdAHMAdwBCAEUAOwAhAEIANAA0AFgAbgBNAFkAXQBTADsABAAzABwA5f/w/8X/qv+Y/3b/N/8V/wz/2/7A/tr+u/6o/mj+Wf47/h3+NP7c/av95v1P/pb+/P6O/10AqADlAAkBfACn/4j/H//j/nj+8P/BAOj9kwCh/uD7Ivyz+dL6HfdV+O75CPdg+Nn4kvrQ+Fz7m/7n/CX/zAD6AWQCsgJIBZ8GHAevCH8JhgosCjcKvQr/CewHwgZDB0gFNAPUAQcCTwE4///9+v3b/gL/V/7d/msAxAH2AvsDDwUABsgHDgj6B3AIhgizBt4E1QMQAioA+/0L/Jv56Pis9zr3MPei9/v3Uvgo+sL62PsW/OL82/wn/Y/9ufzx/NL8svy0/Ar9KP1e/db9FP47/pj+F/9u/pX/Af86/+j/1v/o/3//QgAp/8X+XP6o/m/9fP25/Yv9Ef3H/BX+If1s/Vr+W/4g/fr8e/zC+sT51/nr+Q36GPsW/JH9V/42ACwBJQKPAlUCJwMSBGYDsALQAq0CYwE4AJj/k/9CANEAPwHYAkAFXgfGCZgMAA/7DkgQDRG4EzIWSRzVIpEusDz1Ru5HBT8nLooVGf/b6IjVEcXGv8O9Ub/UxcXPcNju3JHgK92R3BLgC+lt87gD8RS9HwEmAyh2Jg4ckw/c/xfzQeYb3PDXTdsH4r/l6enI7W7wwvCM9OL5JwK1DAsX6R+aJ60qVSaiHlQTlAYM+s7u7udO5V3mb+i271z0UffL+8D/lgCK/zsEfQVAB5AHKAv0ClMJHQhuBLkCgf89/8v79v2x/+sBswMVBiIIQQXkA+IC4AUMBtIH0gmrCeoG2QX1B8INpBqqMb9P1W1nfbh3P12PNzsYIfqX3SjC2rxOuB+1KrgyxY3OZswBzwHEn8LNxtjckelbAAAhEDa6OokyLjhRK6wV/PV26bffF9IHyyjQpN9w33zdddp13K3ZjNuU6BT8ZxGHIcstJDaqN08wDiLkEl0Au+9P5/Xk6+fi6sru5u889MT22vbn+Q4CCQ5TGg8pDzA5KuAaLwrX+pfui+n76Yzto/EV9UD7fgUlDTIOqhGJGO4Z0BVnEmAPfQd5/wX3DfAC6gDqiu7X9HT9WwGEAn79cv3W+x/8Svxv/3EGNgpdDg0Q1BlCKZ9FxGMadQRxv1goM/oQZvgB40LLlsLTw/rCkcayzuTYd9DMzT/Do8Htyn/mFP+rDoYu/j00PbMmNyJkEtb7ueYQ39Ljv96l3crXgt2B1GnKF8TqyZTTk97q8wEF8hSnHE8jSiEeIZ4iQh6UFyAQAAznBF4AC/hS7sfpreQt4GTggO/E/i8MMBgCJB8r0yfBHXAQtwkNA2D7XPa1+27+lPyD+wsDTgf4BgkFrQbdD7MUUhjzFfsXSg1BAdv17O005tThjugW71b9RAf9DTUIxATXAaH9RPmj+F/9wf/lBCEIWw+bEnIRUAsED0glT0cyaRR6/HZEV4QpKATy7/LgjdAQz+TMdsZ/wvPJpcmIvh299LlovTjOs/D0ASIPiCWHLBga0gioD5oJLP04+TUBHv7v8w3tc+O32D/IRL6YwGDShOQS8kUAowhpCGwE6QUjBUIFywvTEjkXPxhYHG0Y7BDHBvUAjADlAAIB9gB6CsIP7g6oDcMQhgznAIn7Gv8CASABIgCn/+j7DvrS+rL8wAUYCuEOuAwSEwITSA91C3gMOw+CCOEJ8gXSA3X5s/dO96D5x/z6+qn6x/it/5MBYwjTDWsQOg5BC8cJAwhzDDUQ8w8QEEoYIirXQS9XlV2aTSQv6AuH9v3vhe8W69vlfuMq2ODMt8bJwXq3c7FFtem9itKw6Ab2RvsdAkIABvLB8gACRgzrCtYRPxaiC2P9qfNT6hDcDdZi2B7k4vBC97v1cfUS9jTyDPLZ+HYBcQcZEWQa9xz+FsoQVAr7BN8FmQ0bEykT2xOHEWEKlwTBBeEHmQZSBrYF8gL5ByQKrgkaBfQF0AAA+Ef/MAhMD0kN9BMgEZkKKwZrBQ8IlQePDPwJ0Ar7BUADff2q+fP5ZfzdAJX/nv6/+zv+yP7iAtoFUwa0Amv/FwGgBEUIvgbsCFANfxvAMDlGrlNXT6473yA7DkwGdwMSAOT52e6k30DTCMjKvhC7w7mTugLBds7O2EfdleMN6Y7pe+kv8yAA4QdODXoSTxGxBej90fic9HPwzvGj9Qj0V/Jb8FbuU+mA6z/wuPUQ/KUCLwcUCT8LGgubDn8PghIlFEoXnRvvGuMWPA+7CWICIADkAtAF8gR5AccArv27/Jj+DABuAoYG1AlcCUoLMQ21C+QJWQttDcMKwQvNDmAPTA6JDa0MJQoHB/sD0gPMAc//VP1+/Wn9qvs8/f/86v4e/gz8DPvn/Az/yP8lAZwCGQR5AeoBOwUQDwUcxSmcNfA01SnRHcgVkRAmEN4PawtuAkz4lO0u4p3YRdS6zpLKi8l8ynDLlslEzKrOANK31DPcbOZ779Ty6fIU9xn4HPmi/pgIFQtTCu4K5gl7BqwDogAA/9YBgQOMBXkFQASxAQP/Yv30AGgG1wjpCgsM9Qm0BVMD4gFKAmAFbAnJCeYJkwlbCP0FpgRmBcoFlwcJDWEPugwlEK0DHQIkCYgBVwfLChMMfwV0Bo4IkQNMCNEHKwqRCFYMUg8rCzQK1gcxBFgD6QbyB/8IiQaSBfsBO/4D/RH8rvwK/UL+wP1s/ar6M/uy+Lb5Of3o/lECOgM/B8wG6gdFCP0G2gbFBQEHkgYGBgYDr/+s+731NvFP7m3tierQ57PlceOX4dHdGN1s3erez+BR4nXlVOa+57Pp0e2v8Fzyz/VH+QT9BgDLA5YFBggJCocLgwzpDDAOeA6/D4oPWRCHD50MngoTCMgGywVXBqYGLgZrB6AHVQeyB8EHAQghCXAKSwyLDq0Pvw9IDxAQig+MD84POA/6DgQNEAxdDMAM6AtzC20Jigb3BNMCDgLqAVEBIgCt/+P+yf1t/Vb92fw+++T50/mL+WH53PqW+tb5XfmU+Jz4/Pf++Eb62fpi/Hr80vwm/SX9Q/wb++L7qvsu+yH6B/qY+Vr4QfcY9oX2qfW19ND10veH92P3Vvhi+RH6Qvpp+5D8Xv39/IX9sP22/bP9iP3+/XD+vv4Z/9z/zP+UAMgA9QA3AToBeAGvAccBtgHJAr0CtQLMA1UEuAPmAzAEvQPeAgcCOQIKAmECYgK3AqEC4gESASEBxQGXAcICcAOrBNMEDwUGBjQGewfRB/4H8AeNCKMIMghUCE0HAQbgBP8EAwXbBBUF1AO9AncBKQDS/7v/kv/O/r/+8P34/HL8bvvO+hb6uPmB+SP66/oH+5T7jvsx++36J/uE+9r7wfwM/er9NP5D/vT9p/xb/AL8Evzi+zD8Svzq+1P78vqi+vv5APoZ+pX6aPro+iP7L/vy+s76GftS+9b7JPxa/VD+WP/t/ycBJwICAwgEUQTYBKoFjgYRBjQGDAd8Bw4HFAfDB90HigfrBjQGgAXIBL4DiQOyA7kDPgPyAn8C8gGHAScBqQEYArUCAQN0A9kDiwP0Av4ClAOEA2cDNgNIA1EDAwPoAq8C3AEOAdIAywD/AEsBUwETAcAATADP/17/8v6J/lb+I/6U/Rb9rvzf+xX7lvoo+sj5VvlX+Vj5bfnk+Xj6I/t++x/83vzS/cP+if/1/9z/mf87/2f/s/8RACkA1/9c/3/+uP1Y/Uv9Tv10/az9x/37/Q/++/0I/gT+Hv5x/v7+Uf+O/xMAbADDACcBoAEoAp4CUQPoA1MEpAS5BL4E7AQ+BTgFBQXhBLQEbQQMBIQDHwNpAlYBnQBNAIsAjwCxANoA3wDkANMAQQF+Ac8BNgJ7ApQCfwKAAjYC9gHFAWgB3ABKAAIA5f+8/3//Lf8h/yT/Af8R/xn/F/8C/xv/V/9b/2P/Pv/j/rH+kv5S/gn+sf1M/bn8Zvz5+1378Pqn+qr6sPoj+7P7W/zi/Fj9zP0R/p3+Kf/h/24A2gAeATABKgEyAUoBMAEyAfQAnQA+AAwAFQANAP//EgA7AFQAdQBYAEAALgAvADoAMwBRAFsAZgBCACUAMQBwAN8ASgG5AQoCSwJaAmQCggLAAgADBgP0As8CiAInAtkBYgHFACkAuP+P/3z/kv+X/4r/iP90/3T/ov/q/0UAtAD9ACABIQEEAfsA4ADBAJkAXgAVAO//EAA6AFIALwDu/4r/NP8//2L/g/+3/+7/8//Q/8D/ov9d/xb/4/7Z/sX+kf5z/lL+IP7Z/YX9P/0K/QX9Ev1P/bj9Ef5r/qr+9/4k/1f/nv/3/2YAtgADASEBSQFYAVMBTwE7ARQB1gC0AKAAwwDmAP4ACAH+ANsAtgCnAIsAiwCMAJgAmQCTAIEAcwBjAFMATQBDAEwAXACZAL4A4QDuAPEA/QD7ABYBEQEIAdoAiwBDAAYA1f+U/1P/G//k/sP+yP7k/hX/Ov9N/2L/hv+z/+n/KwB3ALgA7wAAARcBIQEOAfUAxgCgAFYANQAfAAEA3v+Y/2X/Jf8C//v+FP8q/0X/Zf+Q/7j/1f/y//T/8v/e/8//oP+J/1H/B//A/nT+Of72/er93f3w/Q/+Qv56/sH+IP9y/8b/GwCAANoANgF3AbUB0gHtAesB2AG7AZABcQE9ASgBDgH5AOIA4gDFAKUAgQBcAEAAHwAgAAkAFwD4//L/7f/1/w4ADQAdAAsAHwBFAKAA8AA3AVEBUQE2AQoB8wDXAMMAXAAxAN//fP8p/77+af4U/hH+L/50/qD+1f7U/s7+Hv9P/6j/DQBUAIYAvAASAT8BKwEoARMBzQCiAIkASgDw/8v/hP8z/yv/Lv8r/xv/Rf9R/y7/VP9o/5n/FgBNADEAJgBNAHcAUQBjAIUAFwDD/5T/Lf/i/rD+Yf5k/pj+2v4U/yH/Xf+D/6D//f9hAJ0A1gA1AXkB0wEaAv8B1gHvAesBwwHKAdMBoQGIAakBmwGDASgBlQBcACkADgDh/6n/cf/v/pn+mf6F/nb+gv50/lf+av6H/qb+4/5q/8L/6P8CACUARwBdAEoANQDc//3/vP+F/0n/Hv/s/rL+5/4u/wb/Fv/x/tr+H/92//T/cwCfAAQB/QBkAXEBRgE8AbgB3QHTAcMBmAGDAeoAcAD8/7T/xf8k/+j+Jv/d/iz+M/5c/mP+b/7l/uT+QP+F//n/WwBFAH0AigCOAKgARAEeATUBhQGaAVMBSgHRAJ8AigDYAPQA8QCHAJUAFwGbAS0BQAHdAF0ABQG2AJoAeABGARcBrgELAuYAyACAAJ0AuQDc/3v/iQBxAJkCMgXKBZsC1Pjk9ir1T/I3/xH5m/OB/Cv9Fvt7+Bn/Q/zAAO4Dqv5t/JQCTQcWAFEAIQYuCeMDGgJpAr0EwAPPAekA0gFbAtT+w/5oAKoAO/9X/jT/B/9p/pH+QAHFAXsAtgB8AJsAewAyAeEAmACzARwAcP8zAMb/Zv+E/7gAqP8q/wr/Vv45/q3/HwAsAMMAY/8t/2IAsf8mABEBXACaAPj/EQDm/4oBxwFhANL/If9b/0j/DgDGAAT+fP0R/Mv7YAF/CCYQ2xAsB6MCefpe/5EPbQMq/RsBjAC/+lb7P/zx9h4CRgU6+knyEP5eBYL5//PX95L/C/8f+x76u/w+/2j+KvwA/tn/6f5N/2/+wP4GAHUCJQJ8ABQDLAU1BE4DQQVbBCgBBgNmBUYE1AOoA4QDIAKYARQBnf7h/zgAbf8j/+z9E/4Y/g3/p/5D/fv+xP6Z/TP+XP84/x7++P++AHX/LgJ8Aw0AOgAJAl0A+P7YAPMAvv3F/+cA0/2t/6//3v0T/oT+xf6K/j7/gv4n/iT/FwCG//gAHgHi/fL+YgFOAaIA0wKOAvn/9QCYAewAbwFMAiQCpADvAPcBpf/k/wUClAC+/mP/+P/f/sz/bQD4/wwA6f9//+D+VACe/zb+xf5C/wL/b//B/zv/jgBiALf/Bv4W/+IA7/9m/gP/PwEDAB//dP/NANL/i/9+/ywAkgHy/8T+Zv9zAbEABwFtASsB8gEWAowB4QAsAUQAfQDdAZoAC/9eAEQB3AA9AC//if4VAEwAHAAiAI//WQDsACEB4P+iACYA1QDQANv/+P8y/5YAbf8IAOAA1/8D/s7+T/+7/FP/mwDn/Uv+EwAH/9X+BAFCAcz/owBqAUj/kv+XAdcAlAADAU0An/86AGYAWP9//zgA5v+D/kL+Mv9g/+D+Xv8wAD//w//W/nb9IwFZAHL9SP86AEr/tv+lAAb/kf74AM0AsP7a//AAY/9uAIEB5AAsAJEACgPwAbMA0wCTAYYBOQByAewAnQDaAN0BKAEb/zsAiQDdAJr/rP+WAOD+Ff4gAKcArv3o/6gAaP+yAFsAiv8z/24BLQFX/4j/kACcAXAAlABUAfQACQGxAMP//v8wAb0BywDk//4ACQBI/hsAvADj/fb9DABj/pX8XP+0ACj+qv5IALD+NP7P/83/CP77/gIAkf4xAO8BdASHAwAB6/0A/m39h/0GBw4BVf5+AzIC3P0g/98CuvvY/ZsC//2W9xz9kAAU+gv8FAPd/tD3Fv5pAZb+ZvxmA58DoAAjBLIApwJ5BHYEGQP0AxsDTwAmBC0EBwG3/88C2QHq/nIAuf9I/pn+hP8/AKP+c/2r/rYAg/5V/sMAGv/7/tIBSgLC/+8AlQECATEBDgH4/owAiQCX/2cAtP4v/zL/r/90/h7/FP+i/0P+J/7hABD/n/+e/+b9dv79/3f/vv+dAJD/zf5mAL3/UvzK/zIC+P6o/6QA3v+G/6QAnv4uAAgDFwDo/UMA+wLa/4cAMAGp/yMBmgHQ/0oAbACyAHgATf8rAMz/mv/4AAMBCP5A/5oAZv8j/ncAwAA7/TsAMgGt/rf/UwGHAcj/WQBcAs3/4gBiAt0AXf/NAQsDQf5SAKoBa/7g/2cCF/93/cUAYQAx/rH+cgC7/vD9Nf+xAY//IPsYADsBxP51AD0AgP/gAPgAAACP/0UChwDn/goCav9P/tT+iwBtAPT/5P7v/T3/CP/m/yr/Xv+VACkAS/44/kgAhQCk/44Aiv90/3//DgAyAUwA5v+pAPsCWf+D/tkB1wBW/7YACQKl/qr+RwJT/63+dgAl/5P+kAAqAED8Dv6TAFcAR/4a/mb/AP8o/53/Ov9X/yb/awD/AFj/kP85AKsBsf90/6oBSv9E/5cBBAFJAFcAOf9U/mQBSQFuAJ3/cwAzAP7+KgJ+/zkAjwA7AAABDgHgAKD+UwBfAswACQDa/3UAb/9h/3EB6v6AAbH9YP6WAxD/yf1oAHwABv7H/zAA/f9p/sP/RAGY/7z/3f4gAMkCrACa/4AB8v7v/84COwN1/xb/3QEVALsAvABFAI39vgA7A6H9av9iAJb9KwB7AbT+mv0gAPv9Vv3wAU/9af3VADAA9Pz1/On/lv5bAKf/WfzO/q0Abv5U/z4Ajf32/dcDOP9E/fL/LAEXAXr/kQAcADQAywAGAx//2v8iAEIALAHIAOv/1P8NAbEASgAOALABSP/SAFICmwDTADMD0/2LAREEi/9fAfIBogJNAGIC8QFiAc0DOwFkAQYCDAD5A4MCsf+4AW8Dr/+oAPEEMgFd/egBpwOu/SACrALi/ST+WAPCAH39vf+nAlz+iP3oAS7+8f7Z/5MAHf0A/7YAMfy1/ZABj/wx+33+IgG//Xr7C//n/Iv/Mf7c/Y3+I/6u/N//vf/V/NH96f5y/xz9nQDb/dT8ZQFB/Yr+awBc/97++/1yAbz+5v1v/q0ATgBg/d7+vv3F/SwCEwDn/YkApP+t/5YCTwEgAYQALQUvBBT+PARJA+4GUwNdA9IFxAH6A7cIvgPaAmQHYATzAw0BkQd3Bov/IgMUBQcAdgNGBP798QEhA4YA4P9rAngCXP69AZP/ef8n/tQBOAAU/GYAh/rW/JL9qP7H/bj6qvrM/eL9zfk9+3b/lfxJ/AL9svlo/Tz9Wf3A/mn6RPzW/jL7af5N/xf90f2x/Gj+1wBM/sD+If2V/fsBwP0U/TAADf8N/ED9BAKh/b3/cf7Q/B4CBv9//0ACywBZAQAEKQKxA4AFgAIjBPkJEgV1BvcFoANEDfIJZwFdB8wMdQa2BG4IrwaJBUsK+AY3/1oK6AhB/lAFSwURBE0CBQEcAXsC5P64ANYAxPtJAS3/dPwuAXH78vgMA0P+rfnZ/GL/Yfvg+yD/k/i9+Xf/Cfv497n8u/n3+Az6+fm0+gf59PhE+Nf3hvnP+k75kfnd+NX1WPrRAWf1gPiV/V72yACQ/Qv4e/2q+pr9WwNT+AcBXv6b94EG3wDD/JEBcf3B/44F2/z9ASIDg/9KAhwANQGbB68Dfv7LBwAEwwbgACoHlwyo/3IHSwXLBmMIywfJBJsHNggvBZUIYwQ2BHcKLQa1BTsBAQNvDK/+zwJ2BDv+aQhK/zf+SAKk/4z+qv7FCND5v/neBL7/4/uH+zoELP4T+sb7MgQp+Tv62wJS9OMCv/6g8aoC2vkd/cv/xfdN+5T9aP6m91/5R/1q+tv+7Pdw9j/5TPyc+PL44Ps5+0X7Lfh3/5z+bf1D/nT+JPxn/y8DZwI1A4n89AIT/fUA0Ao9+CoDjQls/GkKYvlMBS8PjPmGCB4GsvhpCqEFZwJ8B5v9CQGtDNIDjPmYDdsKNfRRDDwPo/UoCRcJ4fnVCc4AgAO6BXb8FAc4APn/IQNCBuj9Lv91BnH9TwZH+L0C9wab9ncDwv8Q+BIHBfri/CYGpvgv/Cj/Wf2++kwJwvkn/VkCP/VbC+D8evirAs//yvtD+WQAs/0BAFkA+/ddA1z23PL2C6n3fvoFArT2X/4m+Tn9+f3v/AcBvvNoBBj+0voeBT/3LgOA+xoF6v0s/oQMcvqFA3n/5gMCAH8Grv3OALIFPQHSB5b0bQWXC6z5ZPt8EPH81vkjEfr49QOnBl75ZAQq/+j+twWr+JAGjgX+89cEZATU/HUGLfq+/HkPtvml+WENMvQ/DRcAmvbBFYL2v/j7D5n9pPkpCCL84gSCCs/1qAV3/CkCWwi99xYD2/ZKBoP7DvdUEMbuMQiV/Bz0YAgN95ADSPya+hMCIvlwBYf8nP6y+3YBgQS48ugJbfaN92APlvR7/iwCSveFA4f+EP8kCITymwjK/3H7AgSy8HMMgQC/9wcDKgEJ+9n8KwYP+uoC4PvmAN7/wwBxA8r7PAKdAPn93fswDM//+vlNBQr9ZgMAAYEDwvkJCIoDX/pzBTj5LAiO/yf+SQONBAD8/vt4D3z3AAP7AYv9xP44/2EJwP5lBS7y6gyZBGDvTAui+gwKavi4/ygHLfJQCCUGj/vQ/PICvvrk/poASQOkABz2Ig0z9xj0hBCa8O0IhwIf71sMw/qc+tUIjvXjArUMl+1iCdH7TPnyC/P2C/52Aq0Hue/g/0wNGfVq/T4F//1A/tr/lP97/u4AiASA/Nb/z/vaAjn7vvfyGCnszQH6BLzz1xYG6WURfPlG92UYsd89D4oEHfeEBUgGV/w0+I77pgU7DeznSBT6/cT1TgxK9EAKAvvzBXEDm/Q+Ce8AavrtDP36GgMuBq3z3Qrg/Nb99RBG61USEAjM3I8mavfw8tkVL/M3Bu/1YgY7/xz/LwrQ9VkHKvhFBHoCxfcaCZ4AIfDBDbwCCOx8GKj5h/kDBEoHCPNt/hMSyfDCAxYEVv5X89IOzPvY+FYOcunQFYr2H/KzGiblrxAJAjDvFA5w+Wz4aAmx/671/QxH9yoE9vMsCKL7y/cAEVX1xQRB/ZYD5PwT/bT8Jw9b97r42wey8VgTcvbq8oEY3fNtA8AFa/aCB6f+gAnG+M8Biv6wBAL5bfYqFjzz9/8VCuH5+gA9AQD6RwiPBwXutRIz9y37xAmZ8Bwb8+S4DXUFz/SkDqPkFRsi9pj3GAuPAAL7xPurF43hmhO+CNLsbBF47EkU1PdA9q4JuAYi95EAOBKr5BYNFAgJ8dwJZQXU7gYM9/6x+kkB7vl/EIT08fiCEULugALrDB/rHRJi+0b3nAQ4+RIKzfTH+HEWAPAEAc0ItPdt/QACewwc7XQPZ/Y7/iELXeZCGeH6UOmFIqvn1AVLDJvZ/yvD52MDVxKj3lMdRe8kA9kF/u62Eq7/wPDRDMz/KPA1GIjwBQVUC8fuigWD/8AGLPgzBTAH9PZDB8gItui7Eo8BfPS6F5znGhD/BuvoLRPaACHvehK4/Z//V/8b+0oQZegCE9v5dvsyDh/vHhUq7ekFgwXi+AMHqO+WGnbv0vRcF23nOBWs9fb0TiAj4HQMnAUc8eAR1/A7C1j4J/b7EGTrDw4R9bQEzQcv5m4b/+/vBMoDHfaEBin5awr28dUDAQUt+6QBuPw1+IQJCwCF8p8WIOz2B2D/zvAXFFTufhO48lkEhApR6BIWMvff+f0OqvC6CeEBoPPYEHntDBNF/l375wtv62gbE/R+8E8hcuq6ApgTxOMDHu3noAXDGBfdKBxz+Cn08RKZ9XAADwd98CYbYu3k/oYR1PAaCofw7Bq77lgAGQu48JgLq/MsCzIFIfPTCKYFX/C/Djj58ACjBAv1XAmz+C4CzgHR+o4D+f19/IQDL/VSBd0Ag//a+XQI+P8h9cETBeTNDrkGlOvDDf/9Uvvp/8AD3ftT/77/ygLr91z/iAfl+3v9HwUk/vL71Aab+9YB5PuOAxkGMvjgA+r5NQT//08APQOA83AG9f2LA53+VwIoBNn3EhEK8JwEWglX8i0V9O/NBJwHVO9HEdT32QOAAQ/88gV9+OsEyQH1+psCeAUk+FIGEgALAAcAlvxlBLsAj/1E/y0JjvKTC/b5If3hBy/7Sgh68goQmPIqBH4FFPBiFCjwZwP/A7jyYA/u9b35IRMv8YoC2QT09bgG0vkSB6f53/6KBt30Vwhn+83/BQNR+9f/1AIQ/hn+AwQl/FQGr/rBA2T6eQH3BoHxUw/v+7j6MwlG90wGDgLY+MgHqvybAsD+3/6LBgn3wQlpASv3gweK/dUASvwT/sQKvfCaC5f+9fXmDvX1LAcbA8D6uwIAAtH93AB+/88FY/f+BEcDkPb+Csb4KQ6R7pIKqQOQ8DIS+/SiBl/5BgXx/tL8TAkW+hgACwCy/DD/vQLq+34BiwE7+3oCFAKz+qoC0QHb/V79qwUz+eT/Pf97/7gDVvfkCYb1DQTdAFj3TwTa/8797gIBACH6rwWV+l0DEvxtAwADhPmJ/3AD4PyYAP8AoP1XBcv3kQhR+AoGlv2d/qgJmvOEDBT3iAaBAcj3/gyb9ngAMgv99Y4FwAS49oELRPaeBscCBPepCy74JAXCAbL83QKHALMAqf9YAbH/FAT7+W8EqP/0/qkDq/u7BKP8xwPu+4gCHQGO/GMGivmjAsj/aP66AXn/L/98/4X/cv8DAKL/0f0ZAewBxfz6AHP+uP/U/c4BhwDm+ikDtAE++X8COAPi+OcExv6M/dgC9v1S/9wAAf4kAB0CUP2PAOj/mf/b/toCWPzlABQDOPq/BeP7sgJPAKX7hAXZ+xkDxfzwAZj/Kv2gBzH55ALqAGT9jAQJ/tYAbgA2AAMA9f2eAxAAnf50AX//OwIP/g4CSgBQ/u0BYQCdAFH9EwQRAfT7BgOlARv+ZgCxAIz+wwN9/SH/XAW++nUDjv/Z/zn/ewD4A7L2cwcy/7D+bgGH+0gHXvpi/4EDU/1rAGQAlv55AVT+xwDWAIH8fQSj/A4CtP0mAKMCbvvHA1f+I//7AYH9aP9dAnT7MgRQ/YT/BQJh/AsD6fy2Amf9rADsAQD9MwJz/jr/RQM3+7ACOwF8/B8DGf2GA8L9ZP7VA0r9wQDNAUz9RwGeALT/Uv/IADoBdf4qAWr/OgBxAGwBkP3dADYCXf0zAWkAZf+FAc3+owB4AVf+KAGt/2r/0wEt/wAAtACE/78BMv4KARwB2P0GAhEAFf7dAd7/yv6bAfb+bQBOAFT/3P+nAAP/TwDl/8H+SgGw/qP/AgC7/2P/UQDc/5j/jv+N/zsAU/8OALn/vP8kAG3/qf+YALT+VQGV/2j/wgDu/nEAn/9SAND/JQC7/1sAx//y/wQALAABAIn/ggCl/w0AnP+BAFL/UgAvADL/egBm/xsAeAAg/9gA0P8z/2AB0f8u/7MAmgCU/3MAEAATAFcAOACs/74AUwCn/3IAQgC0AO3/CAC4ABUA0f9AAGQASQArAEUACwBRAL3/jwDz/9v/SgBCAPP/KgBUAIX/5QCG/y4A7v8xADkA2f9NAJ//mgCL/xgAjgB//0AAQgCo/0MAVwBt/1z/oADz/3v/VgDN/7f/BwAHAL7/t/8VAED/SgASALr+twAy/4P/uwC1/nMA1/8z/+QAXf/l/zYAdv8rAOT/9/+z/xUACwC+/1EAfv8lABsAjv87APf/3P96AJD/KQDVABf/fwBAAG//ngACABYAbAA4AAEAEQDOAGL/ngAAANX/zABW/70AcP9FAP3/MwAOAIn/4ADC/wkAIAD5/wwAXACj/0IAGgCs/3oA/P/o/wIA3P/r/+//DAAiAJj/HAD5/57/fwAa//X/MACv/zYARP8vALb/xv/V/7f/AgCI/6D/cAAf/8v/AAA6/38AZv9CAEr/GwAbAFf/kwAf/4cAzf9g/9MAdv8bABUA6f8sAKP/QwBCAHz/IQBzAJ3/VAD6/wgAOwAMAAsAKgAGANv/eACk/zUAfwDB/1IATgDV/yQAVwBMAOX/LgCqALL/SABKAP//QwAaAFwA2v9NAAkAIgBnAIX/gACQADL/4gDk/3v/0wA9/3EAlP/u/3UAKf9gABEAZv8mABEAl/8EAPD/FQDN/6X/KwDl/wMA4P/p/xwAn/9cAAwAnP9dAM3/6/80AJ//HQDh/9z////v/zUA4//1//T/0v91AOP/if+lAJz/HQA5AO3/AQATACEAyP8XAE0ACADC/8EAfP9DADAAiP9XAMP/GwAVAM3/9f8WABIAw////1IAw/9OAOv/3P84AAgA0f8YADEA4P9TAKr/HAASANH/HwDe/ywAwf8dABEAwf9TAGP/TgAuAGf/mQBg/0UAJgCD/5YAoP82APz/7/9JAL7/JAAVAPL/KwAAAAMAHwD//9v/BwAmANb/JgCd/yUAx//9/w0Aif+ZAIX/HQAdAIv/GgD6/9D//v/+//j/IADP//7/8//z////AADC/wEAEgDr/+3/wf92AN//HwDy/83/OQD4//X//v/9//j/GgDg/zkA8P/Z/yIA5v/p/8z/EACu/wEAJQC5/xUA+P/5/wIA7/8BAOv/DgAJAAIAJQAEAB8ABgABAHIAAgDg/1sAAQAGAFsA4/9gAPj/IABRAND/QwAVACAAEQA5AAIAAwBCABcA8v8JAEkAwv8gAAwAPgAcALb/nQDA/xYAUgCu/2QAAgDG/1cA6v/4/xIA7v8cAO//EADZ/x0AEACe/zsA4//P/wIAAACo/y4Azf+5/xoAmP8NAK//+P/X/+b/+P91/xsAx//g//P/6P/X/wwA2//V/wgAqP9OALf/6v80AK3/BgD5/+//6v/v/wgA/f8DAOT/8v8OAAMABwArAOT/HQAkANf/JwAcABMA/P9AAOn/EgAqALP/KgAaABwAHwDg/0MA9f/p/xoAJgDb/z0AHADH/14A6f8EAFwA8v8IADMAAwAVAAMAAwATAM//HwDD/w4A3P+8/zoA7v/f/xcA6P/c//r/6f/9/9T/VgDg/8b/YgCz//7/CQDZ/xsA3P8iAAQAvv8+AKj/HAD8/8//TgAOAO3/7/8qACUAvf8fAC8A2/81ACQA8v8uAM//QAAGAKT/lgC5/+j/RQCx/wkAVACI/0kAEADR/1gA1v8DAO3/CQAMAND/HQD4/wAAJQAbAMv/JgAQAA4A1f9nAMj/EgALANH/JADy/6//VgARAOH/HwD4/9//BgATAAIA0f/3/1QAvP9FANb/HABIANT/LgDA/0UAJgC5/2wABwDk/zsA5f8bANT/+v86AMv/6/8aAJr/UQCZ/9n/3P/t//n/1v/k/+T/AwC5/yYACAC2//X/HwCz//T/CQD1/8//KgDm/+7//v8OAPj/CwABAAIA5f8gAOv/CQASAOj/DgAVABYA6f/y/wYAJQAhANn/ZgAgAPn/HwADABMA6/8uAP3/JgDW/yYASQCJ/z8ACACY/z4A8v/o/xYAFQAsAND/CQADAJL/DQDk/8z/AAAuABEAw/9YAC8A4f84ADYA5f8AAAAARQCy/9H/uQDk/wcAjwDA/+b/RwC4/7v/tv/r//n/AgBh/2MAWQDG/+T/8v9WAJP////r/5gAev9NAGMACQBTAGz/tgDm/5j/DQDz/3r/1v9P/+b/NQB6/2YAFQABAJQAJQCv/2D/PwC4/xf/hQCJAKkAt/80AGsAkv+a/30Agf8sAAIB7v4NARgA1P9E/8b/PAH5//X/nP9RAHr/mwDh/7X+lgDK/53/3P8UAcMBsv9LAVMBtwJPA6ADzAldCUkJAgHR7nrx1O9O7ZgFMfmb9AQPQQw8BQr6EwH9AkMFSgoJ+NbtegxcDQXrwPyr+vUDKAXv9W32fgLWDC73EwDNAx4F3wDa8z0NQQpT+m0J3wXJCNcDuABFBrv7WwnHAQb7dAWpBrb/OfnA/Lj4ffjm+Rv5APXWAJD2ZACLA6ztTgNH++71YQNK/VMHkAiX/mMTjwqgCJsRNfx+7mP6ce4w/DgDwOcxAyv3l/sV8WXuYgYn8G8H2AXZ+JkPfP+/BbgPTvWqCkEB0fVHEXz6Bw5QD2kIVhW1/SwQ7/8DBegPUf2WB64AXAXa9vH0hQwO+Br40QQN/7ICCPxA/q0ENfipABoAGfGvASL4jP2MBGj9RgtR+xoDnwQU+pULiQruDZUQswzrDYUKRw6sDrsMDBEkDh0cuCbEHYMeQxYWDoMLzv3E8fbtA+yC7Y7k1+a95rfXAtJV0FvOAcQRzRTbeOB95yP39AWtB9QO4xabG+8ZTh3bJHMiLx1IIMke7xqnEoEHOwNd9vzxGO5V6qDryONd6T7xlexa5lnjWvHU8NjsfvvC/woD5QVuCvgISQEY/qD91v4u/3T89/7NAF/50vck+lv7bfRl9F37sAVLBzkG9A15D/YTeRZdH4ompzJkSmNkQXmnfOpsKVjxSCQynBhr9BTdGdgm0nPJJbuqsvSffY3Vi/iIlYwCnlG0wsqz5TIIBhx2HpEipCupLnYvaTItNUkwBibVIHUXZQgA7XPTOcR4u2iw7rHXwwvSWNnq3Vzypf5uBEkKXxn+JeIsxTkVQ2tFOzj0Mnkl1xoLCBD1OfCt41revtGx0L/Qbc/V1aTZyOaY7xD3/QKEDtESfRDrEXcOiwr9CAALGgxVCFkF7wM9CfUGwQB//pT9jPq1/iID4gUdDqIccTpJWBtwZHL8bdtczz+rLlcdgwHR48HfYN6a12nJvLciqgub+ZVFj1GX66uFw4Xbj+x5EVEwpy1bIBMqEji5K4YoVzdjN5chihZEE74BheF+xdK3wbFKs163zcR01Kjhp+ed8YP/IwgJDVYV6C8WPm4/30WdTG89dCO+FR0IjvIw3Y7UctOM2VHVK9KQ17/dtN8/427wvfmWAycKrBOtHEIf/hPRFJoaLQxcBTMNuRI7CA0GXwkLCVkEKv95/Kf8cfkR+UIAYQX2DvQa3SwTQpNijHRsdEpsUFbEOe4pExyV8yPVgNM7ziLA0rq6rFahiZ4sozOet6fVwUPRH+dO+wYdQDINNlUr3y2LNPQjICIELoAnrQRS/Cn/6emky5+7wLiFs0C0ebvHyzrcueNR7f8DNRNqExQYSCQsMSc86EDAPqFDjzwCJi4Y5w+u+IDd49p316fQXc2ozvDTRtXE16zcGfBi/1EDmA3rG9MiOiD7HqceYxtXFkAO1QjdCBMLCgUY/l78C/d+8jTx1e6i6ZPu/u7I8uUAsweFB/kRxSzSR15nznljeINrdFMYOWEosBGg78/TeNBf0JXN8sf8ro+iL6Jhpyegc67ux8vWdPCBC8EqcDg7PSs2NDZNN/IplyT1KZUh7wNs8/ztKNuSvmyuFaXgqV61uL+O0izr+/el+W8L5hvhIF8kWCuoNIk6WDqINfwxWyUuCaf0Ae5S5PHX3NLv1ufcvOH+4Ybp3/GJ7i301wQmDWALuxW6HnEgVRp3EZMPeQhcACP6hfuR9r73Gfq69ov2ufKW71LwrvIJ8TH3/wARBncKlhK8FFkWEBqkKPg8yFQ+awJ1yXJBXjM/zyaMHv4AFtyt05PZF8x7xqS+LKban6GnW6T3o1bI8dzo6HsDNSYlNv80yjW3L94sKCbuHpoZqxjLCvvrJd/w3GLI+bHPsFm2a7VavofNSOGn8uP6HQDEEZMlPip/LEY2t0BmPBs2GSyfIMsLRvf/7VTpzuYi6RfwnPAf8rTs8d4/4nLnSOB854r5nQbpDcQYERPrE3EWoQwXCwQLjAoyBJcJAQuSBbH70fWK9izsc+rv8d7ysfHj9/P7R/3nBPwBEvwhBqEV4h6TKbU+eVsEdyN+hHALWZk65yKEGKEBwOKp1/3cN9F3yuW/Oagso2CryqsdqTbSmei47XMBzx75JmYfSykgIucfZx7wGTERTxQODRjr3NpK3kfPi7PXsNPAH8xs0MDcW/A3BegGXAh4F3QkFyQBItkpJjS3NQUsKSP/GgEKefdq8fftC+k35WvvlP7eA2D9sfSb6xztePBk6ijv0/e3/NQFjhYsCJEBLQ4xBXb7KQMYC2UBkAriDLEDcABpAcoB4PlI+2v5N/je+IoDqv6A8qD5UwAQAF0BhgxSEPog5Dz5WtB0/390eaFeujs7LLolqAaA5c3ig+HbzDbPlsH6o2yewqlanxmeycpF2oTcHvSjFU8dsR9ZLdIiHxzdIWcfcBKcDwMLnPGL3+DdstJkvuO3lsLcyevJstfj52DybfeR/jESxSH2JygmoC84OFox8iikJP4iixHPCIwKEwQq+4v2tO4l5gjvCOyu4wfmxe3b7tHw8fgM+RT8nv7jB9oFKAZoEGAR+AwFC1kLqQEBA00CFPwj/aD/+/rz9ib6CPoK9cTwmPWm+9n7M/nU//wG8gxjEG8SgB0SLfpD1lmWb6h27G4hWo07OzHuH5UDjeiA4T/aT8zRy2C4C6pnoTOi5p2mpEvAnsyu2dPrnglZEZ8QfBijHJgcaBr0H7AiriEXE58B//VW7MDbvswQx67Df8cRzM3SMtpK5E3ofuup/HkMmRIwF3olbTHOMSow1i1sJIcYJRATDf0JhAXjAmgA8f7n9+/wQ+Wo3gThH94H4ETowfRu+fL+igJYBAkLOAtiD5QU0xzlHHkYmxgpFXYKfP0+/G73I/EP8S/1l/i993P3nPs0/f36rgC7BhwKIg/bFN8aJyemNoxHGl3RaXFmVVeCPzgyWC0RHFMDlfSL9H/qKdu1za7AlLEopKWkdqDEpiC40cI3yX7bt/Vd+h37vwJyCuwLjQ+OHO4jKR/YFKoTNxL7Ben1VeoL4ubcM9yp2/3dTOA/4ADhdegy8tf1L/UR+EUESRA8FZMYqSAIJVMhASBtIi8f8hS6DpYN+wuhBxYBqPvC9ZjvEuxz6t/rB+3u75r2QP4nBAIG8Ah4Cl8NSRF7EYYQLg8RD+4MegkEB4sDSQC0/gj/RAAnAjgGlgoXC7sI0AetCj8L5gpyDe4Lvw3mEYoWChxpIYsmHybrI9scSxePFOkOhgj/Acj/Gv/l+4f6zPgg9gH0MPJb7tPoX+j25zXlqOGm47PmzuNw4ZjhfuJo4VrgCOCZ4IzgBuI25ozrfvC88QHz6fZb+sL45Pbt+mD/mgB/Az4JkA2VEFYTnhIrDSoKiwmECOUHJQfuCGQJbQjSCE0JfwYNAz4ChP82AOoEsgfSCY0L1gwXECUSHxCjD3EQ2w5GDMYKUAqaCUkH0AOnA54Czv2q+lf4JPev9DD0efUR9rL5vPtS/ngAawKDAhYCMQN/AmUDVAJdAs8DwASkBxMHWgQjBAIDBQKWB2ENcg47EGQSsBKeE58Y2hlCGykdJRyMG+AceiAkHqoa2xNPDuYHzgCv+bfxJewt5Unipd5y2crRtM0uyr/GWsYCxlrGu8fUy+vPc9YG24fcSuAC5tjpTO3z8tf3Xfv3/44DqAfZC8MLTAwHEbYSuhEwE7IUPhWoFQkX9RZaF4MX9BZXGFoZ0RcNFj4WrxNlEe0RWg/UC6MMhQxYB6MEpgLU/8//d/+P/KT6GfuJ+cT5s/r++If3pviu+R/7F/05/H79vv9w/6cBlAXlBA8EEgbLB28JwAlzB74HswudDswSRhklHNUbkhsWGVUYuxxWHmMbrRkSGG0WKRqJG6cV7A5hCYgBgPnQ9ZHtt+QY4BzdGtus2BXSJctFyajFF8R1xFfEJsbPy2HSOdj73O/crd4u5c7o2ehl7fvxFfRc+YD/IQQvB00Juwn4CxwOSAznC14Oyw8XEbcUShcEGZwZIRqEG9gbqRqVGb8Y8BdvFp4UNhTgEgIQlAxfCsoFxwCN/v387ft1/Fv8hftW/Ir81/xw/J36pfpJ/Xr+FP9sAncFwQbNCEoKIgsoDHQLugmVCtgLkwuDDFoNrg04D1cS6RZUG2sbKhnEGFYWsxQdGDwazBckFegTERLME/4SnQztBccAQfo89D7xmuq35A/gId0T2nLWMdEpzMnKdsjix+vHtsfvyH3NkdHy1M/YVNkL22ng3eMC5XDp3e1p8In2Kv4XA3sGQwkzC78OHBEKEYoSeRSoFYkYghydHaUeQx+jH1wghx7hGhQZhRemFIsTcRIiEZgOXQzcCmwJKQUnAYIAH/9k/gb/kP8f/+j/Kf9x/i/+hfw6/F/9fP2P/Yb/6QABAnoDYARyBA4FgQQ8BH4FLQZcBsIHaQgGCTULDw4ZE1AZtRyxG4YamhdjFxkbbhxrGcMW0xRjEpIUPRPzDK4GLgGa+RjzCu/D5y3ipt6o2yTYS9R6z4TL7spLyeXIDckWyXTKg84302jX6dpY2yDetuKm5I7lI+oQ7mXxbPiP/ygE7QZwCbMLQA9FEAgQdBIhFT8XZBpEHp0f+R91H5EfmCDvHdMZNRgDF9kTThNOE10Qcw2JC9UJoAdWBDQAYf/m/6j/iv/H/1L/9/6F/2P/EP89/hD+Jv+MAN0AGwEqAhcDawOpBPkFxgVeBfYFVgY3Bu8GLwc3CBcLWQ4AEyoagh+dH/od4hu/GdgboB1pG1AXbRRCEh8S9RH1Cg0DB/z99A7uoOka5Kndidkf1g/U8tC9zF/ImMfhxqDGAMcRyKrKZc6K06zXQtsb2wjdoOFc5B7ly+hm71rzKfg5/gAEFgcLCfELWA+0EJ0QkBMMF6sZGhyrHqsfhx9lHzIfGx88HK0XmxT9EucRUBE1EA4OtgspCcAG6gRXAp7/Z/+JAHEBTAJxAskCkQN3AycCTAFXAKj/bgHxARgB4wE2A1gD/gQYB8gFpwOeAxgEzwQvBzMJUAohC7kOchWPHOIhcyToIwwgAB7eINghQB9wHDUZrxVGFLwTPQ09Bu3+P/bz7lfpzOK03DPaG9ac04DRd81iyWHJGsj6xV7HiMgOyhrOlNNA1iTa4NsR3PHfA+Tn49TkQepL7oPyD/oBADkCKgSUBqsJ1gwwDm8OxBGZFtAZARw3Hh0eHB09HJwbtRp4F0wTwhHdEbEPiA+dD2AMEAiPBmwDKwHbAVQCpQMlBd0ElQSRB4IH2wcKCXQIKQboBw0KrAnOCkMK+gkdCswKLglkCuwKewctBusIKQu3CsEMRg6UEOUXbSCNJPUkoyJlHkkelCLKIqQeAhs2F6gUiBVWEu8KUgP9+nTy6uu15Wzd3NlN11rT0c8OzGXIjcf0xpjFLsdSx27HXctU0YrVzNlw3Mbc8t5y4ZPi/uWl6xbwoPSL+WX+NgL/BLAHZQk9DJEOaQ/iEmQXRBpiHGcfuR4nHUIc6hkQGIEVSxGXDr0P0Q2LC/8KQQmWBb8CagLUAT0BFgG7AuwD+gSyBhkJaQs3DLYLeArKCaMKxg2vEJESxRFZDrgNERBID1cMqQt/Cm8JRQrsC3AM4g2RD8MTrBz3H+AeAB9kHlEcBx1HHn0cTRrzFpYTIBRlEtcK5gNU/Pny2+yT6TXjAN9z2xPX59Mn0f7MXMkOzHDKgsf5yAjN58+40mPXt9vL3oTeoeHK5ePn+ehS7u/zXfYP+gD+rAL8ASIABwM1CbkKjQk9DdsPkRBhEGgTQxUFFGcSAA94DfMMWAwuDXEOVAsbB9UGogjeCGgFRgEMA0YHQwd9B9wJQwe8AwEHJArrCgUImwX/BwcMVgyPCoQMTQywDHUQExKbEIUPJA45D7EQABDUE3AZux7eJvwubyx8I4wejBsPIDIkgBlXEpUQFhGCFCYLzfzi9PT2cO4+4Xng4tb10KzSz85nyMbGwsgfwqu+rsvv0rfMn8vG1FTftdkm12/iUOm47JfxCftY+pX27QLcDqIJVgJ5CU4PywgqCdAWHxlRDOMH4RGLFncKhQLxB0AHqfwy9Y/49/tO9lvy9fY4/Mz6tPnY/i0BPf7w/xMEqgSNBNIH+goXC0kKogtGDz0NLQjcCi8T9RTnElYTPxcvGkQX0ha3GswgiiS+JDckZihTM80+hkvlVF9PekVdPF4y5TA6KH4WRQdLCtUGquxE3dHRls83zuXJ/cARu+3Cpr0Vt1250sk31G3QYtYy5sHr1+Cr3kTlLu/y8cTwkfRx+nT67Paq//b+TvJI8nUDLQtL/gj9mQr6CcH/VgXlECUKqv00AioJ6QMm+jf2xPkH/On3KvZK+WL57PSk9PH6G/rL97f8eQVeBNb8vv9RBVMGrgTrCIoJ7AUNBsAJUwuoBT0IMgvfDMoPBhBNFGMazhvbEcgR3B5HI70j6ya7Ltc1LzzVRStHU0H6OOAwzi8dLpMmEhUxB8cDU/Xb5qfcMdfY2ETXVNIgwn++ecTLwQfCXsn62YHfv94f4kbmnemM6yryp/ix/YT85PcE9JnyCPKX9LP7Cvsz+Yz+wQZWAn74d/3kAnEAq/4aBjAHXfqO+YH/XAAn+HDzLfck+Nb8d/Z08Hr1r/rp/Af/5wCs+V/7mQQiBXf9pft9AOUELwT//6T/1Ps4+w8CBAxWDHIJAQo4DsgS2BH0Eq4UNx8oI9keeBoIIwM0KTntQnpJUEOCNF8s7SyYMKcsIRkKCPcF0wGW8bLoIOAF3tHd5NpN0vnGNsk/ydnKpc1T2Rzi39sY3Afm9+1X7PzrOPTx/aX7T/QL8UH01PK08gP9Wv5D+ET14v1g/+bzc/RM/30Al/ot+kD7TfRP8Kv3t/sj/aL0XvMD/Gr6evXr84/88PwL/MgAcwKQAdz9NgKdCWgJmAYoCyMMeAUHAkcJQQ8rDokP5hC9EDQNtBGLF9UXsRjhHXIi3x0VG2YauSOjMa48J0SuPfIvvSATH4onUCYIGvUG7//4+UXt9ufs4IXg7+MX5OfWGMoj0f7SzNKN1y7kV+tJ5Vzjzusd99f5H/v5/Pf+5v/IAJH+TP61AUwGnQ72C4D/Bfi1/fH+i/Wc9Qr+qfpU7dLqnPEh8/LuYO6B8+/53PTK6h3ucPfP+D337/h7+Xn8tAAW/nf6dfzWARgH+QbCAAr7cPy+/v0DTA1EEZIPlQ4CFKEYpBzBH/wiMShIKnombyX1Lfw4DEFlRs5FHDuIMdAlQSXJKkwi0wov9WX0BO3c413ZtNIA1efRSsw0wbi/+cQFyPvKWdBA2T3e79465U3sqvP6+Sv6BP1N/58Bfv8JBBYOMxCLET0Raw1cAmMBOw1CDLgGfAeZBqD7UvJO+kD91PqY9lD3U/3p9YPrIum/9Qv8F/Ur77zxM/US8uXzWvmf+bX2W/sg/Db3T/Su+rkBZQQZBPcFzgthCWoQchmhHiYbrB2RJ6on1CsyLrA5f0WYTUxLIT3tNNMuLzSINe0o6A+J+qP4RfH+6GPf/NSo0kPP48p1u3K3TL8twxHMO9E01BnORst92zPsOvDG7GbxBPkV9jf1zPtiA3MFJwXxC3YNGwLZ+PEDxRB2DQkBZABgBU4BsQKRB1EMkQRrAgsGxQR7AXj6/wBQB0gGm/wv+Aj8rPyz/cL/ggDD/K/6ePs4/GH4BP1+AzMBhft3/NsC8gTbCq8Q7RGIDrIUgRiDGLIdriQ2L2Q1skYARZUz0y4JLyU6RDheLV8XbgKiA+r4tvGp68fgjN2X143WyMJBt5vGc86NzQPHGdHy1ajOS9lv6LbykfCA8Kn3PPfN+dD8TAV/DgsKngR+ApEFEAIKAkEMRgVc+Hn4aAH8/fr1XfsbAjwClfr+9Xj7KwG2/Ab5m/3dAPj8C/wBAIUAbACFAkUIlgVHAdsAeQNZBAUBOAb9CSoM0AdUBpEOMhSjFiEVvRsFIegeryEzKGUzrz1aR+lHnTkGM1Yx0TrVPTgtqhdcBf0GzPxa867q99493SHVpdAxwDe7Y8S6x1vI2sWzywnNJMy/1LDe6eW56b/pSe0v7j/v3fH++yAHWwHu/AP9LP1A+VIApgvBAzL6d/yDA67/I/2qA2sHKAXNAAIBFwTjBJsDPgRGByoGbv4C/E8DtAU4/1b/4AV8BG382P3kApIB7wHUBTYICAMWAWkInA+BEMUOKBTAHGEfuCDOJeAwSj44R85HUT0UNgUyDDdbPms05x1ACJkGrAB/9zfxm+cc44rbEtbOx9LC6s790vzOw82o1mHXftO23Wfp/erH7VbyOfEr7PPvhvrr/UD/x/hT8qjzR/c69fbvTfhc+bXuuep18jz3j/Mi+q/+jPtZ94X6zwGz/xf9jvu3/zUB0Pm09gb8VgR0/y/5L/34/rv9I/9bBPEEiQLiBdgH6AcxCIIKhQ+bDx0P8g8VFmoc+hvxIeowhTxWPP83bDaCMfsvlzdyNHomEBXKDNoGmPuT+ebwFeog433d4dPTxqLOzNO906vRvNWa2YrVWNtY5jvujPFw9VP3q/TX80/6gP7gAHr82fcA+0/9avrj8fT5Df9B+q30lPmU/y/20/nPAeoDtvwQ/ksFvwEJAN0BEQS4AD3+dP7R/x/+RP2w+8X93wCU/gf/VwCVBLACjALtAgADvQYDCFYIPgcaDAsPqhKwFqMZZiBELD46LDohMycvWy7WL2E0wTMKJZYTkwt3BR79dflN8snpt+ML373TmMrB0gfYjNQ81H/cDN2o2MXgEOzp72X0YfsK+8L4l/uQ//r95P4q/FD3HPfR+6b3Pu7y87f4PvYv8P/3O/rH9nH7pACFAnL9gQN1BrIHFgfUBp8GtQVjB6kDpQLjAx4Fdv8R/av+rwAWAHkBVwWTBfQDwwHYBc8I9goOC5kMZAw4DLIQIRhTHDcfUyapLLsvlyw8LOQmmiaoJ5MmTB+kEOcIV/5l+/X0Pe906hDkPt5j00vTvdN+0rjSnNc42zrYyNov4wroNOvq8kD6x/1E/LH9l/s1/DP/Bf7cAGv/+f1R9Gryivh7+J34//Oo+D36YftS+6L5ZQHDA74ERQSjB40HLQKsBTcJqQbgAmAD6gO+/8f9EwCVAIEB+ABHAgEGGQjjB4wFvQpiDzgQrBK8FtUZbxmKHVkklSqNL78vIyybJw8k5yTqJFMgBRZqDG8IA/5B9Qrw2e4h6pfhDt4P1dPRK9ON1G/TytR225PZnNgH33Dk2OZO7HT1+vfT9KH1P/SF8vnzC/m/+pH3GfQR79Pw5Pbh+uT2BPeC+6f9IP6N/yMEAQUPB/YH/gnvCiYLJQqACS0MmQ0sDf4JKwn8BvsFqAfpCo0MrAjyBm8J/wsYCwMKOg5gEEMPlxG7FV0ajBoUH54mlioxLEMpVil3JZcjqCPdH50aRRAYChIBNPlW9KbuQeuX5eLh/dlM1SHYWNi11YrW6N1e4XngjORD6VDrie+N9cf6v/mE+cf3o/bC+Kz3Cvff9aL3efL/7yr1VPfN8+vwbvZz+Ir4Nvm/+nH78fy2/tT/RgF2AqIA/P/jA54D8gHxAe4GmAXNA2oG0geyB8QFLQkDCm4LaQw9DT4PfxCOEhkTOhbdGu8dcCALJZMqdS2ELForMimiJhUmfiUIIpYYWBCDC2wECPxU9NbwauzG5jjistwX3FDbHdqU2NrbHOIT45nlzemY7nHwfvQW+nX7GPzO/VX+RfzH+p/6qvkO+RH4BvUS9Kr0oPTD8WHyn/WH9pP17vWo+Zv7IvzK+zn9Vv/9/y8AsQEOAj4Adv8YAjsDfgFsAqEEKgY3BDQE5wU+B2kIOQjgCdILtQ2zDl0P3RIKFhQZWxxUIN0kmSbgJyUn5yVjI5cidiJaH2YZrhM0EDoJSgJG+5L3tPLq7lXrE+ds5YTiiOAx3qzhQuRy5dLnc+xq71fw+PT5+Fj7JvxC/63/Jf+r/tb94vws/Fj7qfdo9iH3rfUe8mXx/fLP8ljyyPMM9TP2jfet+Er54PrA/OL9yP+XAVsBMwFeA2wEqAOAA/gFmQanBsYGBgflBpIGAwflBgIJggpeCwwMlQ7MEJMS6RUVGgwdkR/PIfohaiBbHhcezhsRGg8WwBKiDqwJRgSt/Mb4MPRL8fHsiOpP6WTmpeSL49fkB+UC5j/ph+y37jnxq/Qt+PH5K/zW/QD/uADkAMkASQC5AC7/gvx8/Jj8D/uR+J/3VvcN9lr2bfZp9sn29/c4+Yn51/pm+5/8Zv5/ADwBAAKyA/EEUQXdBTkHEgjpCCkJwAlwCaQJVwnZCTQK9AkwCiIKLgubC6gNMg/IEBITihWkF6UXQxePFccT6RLFEWoPaQxKCksHBwOw/lr6/PVN8rTv2Oym6h3pKegE5xznsee25/LoPesA7srvEfNk9vf4zvq+/F/+nP87AesBsgLsAj0DMQLOAacBqQBX/9L9+vzB+577OftQ+iD68fou+wT7Xfvx+877tPxv/hT/tv/iAKUCGwMFBB4FvAVNBnQHdwgHCT8KrwuJDCsNYw7TDmwPGhB2EYMSrxN0FEYUIhSQE6YSrxD2DrcMKwqrB2sFyQLX/3H9p/rA93f0evG57uXssutv6tfpkenl6SjqJ+s/7Frt2u688KHyBfQS9iP4M/qN+/r8G/5c/2EA4QBtAZwBDwL1AT4CKgLsAS0BOQCF/7v+N/6Q/Rj9vfya/E38MPwa/Ej8lfx+/Wn+M/8wAPAA9wHHAhkE+wTQBekGHggNCYUJdgoYC2QL2guSDMUMrAysDJMMCwztC+ILhAvLChYKWgkdCFUHWAY8BfUDFgPjAZMAvf+g/mL9H/xM+0L6f/kB+XD4x/dF9wX3o/Zh9mP2XvY+9ln2U/Yr9iv2lPb29lj32fc9+Lr4HPmA+aj51vk3+qv6SPvU+2D8hvyV/Lb83/wb/WL9tP3w/Q/+7P33/Qb+I/5P/rD+Df9T/6j/2v9RAMwAcgH1AY8CaANABBQFuQWYBksH/wfTCI4JYwokC88LKwy3DGwNAg59Dr4OJQ80DxkPtQ43Dp4N2wwpDB0LEwrrCLUHVgblBGUD7AFwAN/+W/27+w76bPj29n71UPQ38zXyOPFf8MjvVO8W79Hu2O4I70/vru8J8Hbw7/Cc8WXyUPNh9ID1lvaJ94z4kPmd+sf7Gf1c/ov/lAB9AW4CIAPVA1ME4QRXBacF6AUFBj4GRQZqBnUGjgapBrsGywbUBioHQAdjB60HCwhqCLEIIAl7CeEJUgrTCjsLmAsCDB8MKww1DCUMxQtfC/MKLApVCW4IZAdFBh0F7gO2Am4BQgAI/6/9a/w3+wj64vjZ99P22vX19B/0YfOt8g/yl/FK8SfxFfEu8VvxmfEL8onyHPPG83/0S/Ua9vv23PfE+Mb5z/ri+/78D/4S/yYAJgH/AccCewMOBIgE+wRFBYgFsQXaBQIGFAYpBjAGOAY0BkoGTAZNBlkGVwZmBmUGYQZgBl0GXAZ0BogGkAaUBpkGmAaKBosGiwaVBosGhAZvBj4G/AWsBVsF6wR7BAcEeQPuAmcC0wFJAbcAJwCi/wX/Wf6c/d78Efw8+2L6h/m6+Pv3QPeG9uT1VvXY9HP0MvQJ9PvzFPRH9JL06fRN9db1hPY99wr43/jN+cD6qvuo/KX9jf5s/z0ABAG0AVcC6AJRA7sDHQRoBJsE0QT0BBQFSwVvBYwFqAXUBfkFGQY4BlcGcgZ+BokGigZ8BmsGSQYbBvIFsgVvBSgF2QSSBEUE/gPDA4oDVAMpAxYDCAMAAwoDCAMRAyADKQMwAzgDMQMNA/ECxAJ+AiwC1wFtAe4AYQC9/+7+A/4s/TP8Mfs4+kL5SPhV94H2sPUK9Yz0MvT38+vzFPRV9Lb0M/XL9XD2LPf/99P4uPmd+oL7avxE/Rj+7P62/3AAJQHCAVYC4gJTA7YDDwRfBJUEygT+BBsFJwU2BTEFFgUABecEyASVBG8EOwTxA7IDbQMrA+4CtwJ7AkoCIwIQAvwB5wHtAfoBEwJDAokC1QIfA3wD6wNdBM4ENAWOBdwFGgY/BlMGSgYgBtwFgAUbBZIE8AM6A28CmAGkAKD/kf5v/U/8OPsm+hv5Fvg19232uvUg9Z/0Q/QT9P/zCfRC9Ij03fRQ9d71f/Yo9+L3ovhr+Tz6CfvV+6L8fP1N/hX/0v9wAA8BogEaAoAC2QIhA0wDdwOgA7YDvAO0A7cDuAO5A7cDowOeA5YDgwNwA1QDOgMiAxUDCwMCAwgDEgMiAzoDXgN5A4YDmwOlA6QDogOQA3EDRQMeAwYD7ALPAsACtQKwArsCzgLqAgwDKQNSA4EDogOxA7EDqAOTA2oDMwP9AroCawIgAsgBVgHYAE4Auf8H/0D+bP2J/KP7u/rS+fH4H/he96/2Kva/9Wn1MvUZ9Rz1KPVW9Z/15PUw9oL23fZG97T3MPjA+FP57/mg+lP7C/zI/Hv9J/7Q/nT/CQCQAAoBfQHjAUYCsQIUA3ID0gMsBI8E9QRLBZIFygXtBQUGIAYoBiEGGQYBBuoF3QXYBc0FuwWnBY4FiAV9BWQFTwUsBQEF2ASwBIMEXgRKBEMESARaBIYEtgT0BD0FcwWlBdcF8gXqBdgFugV1BSIFuAQ5BK8DEQNuAr8BAgEzAFP/Xv5O/Tv8Bfu9+Xn4I/fe9ab0gvNx8n/xz/BB8NXvm++N763v/e988BTxyPGZ8oPzh/Si9c728/cm+WT6pvv9/Ef+kP/LAO8BEgMeBA0F3wWeBkMHwQctCIcIugjfCAcJDQkRCSUJJgklCRwJFAkQCfwI6Ai7CH8IUAgGCK4HYQcWB8wGdgYeBsMFZgUIBagESwTuA4wDKgPGAlAC3gFuAfsAnwBFAPP/vf+T/3//if+u/+7/LABrAK8A8wAqAUUBUQFMASoB/QC7AGkAFgCp/0D/4/50/gP+kP0F/XH81Psq+3f6qPnM+Pf3HPdL9oT1v/Qj9LLzWfMj8yDzTfOF897zavQE9bL1ePZE9yD4+vjT+bb6nfuO/ID9bv50/4AAiwGlArIDrQSnBZMGZAcOCJgICwlTCYMJnQmZCYAJVgk0CQgJxQh8CCQIvQdYB+0Gcgb+BYIF8QRlBNkDUwPKAjgCvgFHAdAAbAAVAMv/hf9M/w3/xf6I/kL+A/7J/Y39Zf1T/V/9iP2+/Qr+ef79/o3/PQDuAIsBOALdAmAD1wM/BIYEsATNBNEExwSrBHEEJQTDA0IDpgL1ASYBOgAw/wD+u/xp+wf6ofhK9wL2xfSz88vy9/FQ8d7wo/CU8K3w9fBb8d3xivJT8zP0JfUk9jP3SPhf+Xv6lvu0/Nz9/f4WADgBVQJZA1UERwUgBuEGkQcpCJsI8AgqCVAJZglkCUQJEgnPCHUIDgipBzwHwQY9BsAFSAW5BCIEmAMGA3kC7QFsAf4AhgArAPX/t/9//1n/Sf9J/0n/Vv9y/5D/sf/f/xcASgB/AMAAFAF5AdwBTQLWAlwD6QOLBCUFtgVIBsUGKgd5B7MH2AfeB8QHjQc7B9AGRAaZBdcE7APaArMBdwAg/7D9LvyX+uj4M/eG9dfzPfKt8CXvze2d7JTr1OpH6u/p4OkJ6mTqBuva69Ls8e0175vwEPKD8wn1nPYs+MT5Z/sD/Zb+KwDCAUcDxAQ1BpEH5AgaCikLIgz+DLcNOg6NDtMO/A79DucOvg50DhMOrQ00DbcMPgyxCxkLggrvCVgJsAgECGgHygYjBowF+wRlBOADbwMBA5cCPQLhAYEBNwHqAIoAMwDU/23/DP+t/lb++v2r/W79PP0n/TL9Wf2P/c/9L/6g/gz/g//5/1kApADbAAkBLgExAQ8B2ACPAC4Arv8Z/3r+wv3l/O374vrI+Z/4avcu9uj0m/NJ8grx5O/W7uvtJu2R7DrsH+w77JvsMu327fTuKPB58d7yaPQG9q/3bfki+9L8kf5CAPcBnwMyBcYGTAjLCTsLlQzpDRMPERDxELoRbxLqEjQTYhNgEzAT2hJkEtYRKBFhEIkPpg6yDbIMqguXCpMJlQiVB5wGmAWZBKQDrAK9AdsABgA3/2X+pP37/GD8v/sp+7b6TPrd+Xz5L/nx+LX4gPhm+F/4YPhs+J347fhI+cv5gfpL+yn8G/0g/jf/SgBbAVwCSgMbBMUEUQWtBd8F8wXkBbUFXwXvBF4EpQPTAuMB5QDS/5v+Wv0D/JL6F/mR9xH2i/QI863xb/BR72vuw+1P7RztNe2A7Q7u5e7j7xTxfPL885f1Pffj+JX6Uvz6/Y//JgGnAhgEiAXpBkAIhgm/CucL8wzxDdEOig80ELwQDhE1EUYRNRHpEH0Q/A9XD58O2A0CDSoMUAtzCpoJwQj2BzoHfwbQBScFdwTKAx4DcwLOATABnQAEAHD/7f5g/s39T/3V/GH8Bfy2+2z7J/vn+rn6kPpy+mn6bfqB+q/69vpX+8v7W/wR/db9lv5i/zUAAAG5AV0C7QJiA7ED0gPLA6IDWAPsAmcC0wEYATkAR/85/g792Pud+k355Pd99gv1gfMB8obwF+/S7a3srevk6l3qHOoV6lrq7OrK6/rsXO7w78XxwfPg9Qz4Ovp6/LX+0wDkAuoE1AaYCE0K8wt2DdMOJBBsEYQSbxNXFCEVtBUlFmUWcBZXFhcWsRUZFVIUbxN4Em4RUxAlD/YNzAyrC4cKZAlUCFAHYQZ/BZYEwwMBA0ACewGyAPf/Mv9o/qb93/wc/GX7tPoH+lz5xfgy+Kv3M/fD9m32Ifbr9eT16/UN9lr2zvZu9zD4E/kc+jn7YPyD/aH+rf+bAGwBEAKNAuACBQMCA9UCfgIHAm0BuwD3/xH/BP7f/Kv7YvoT+bb3QPbG9ErzyPFG8Ofute2j7MTrKeve6tHqDOu266ns5u1070PxTfN29c73QPq8/FL/zgEwBH8GnAiPCloM/g17D8wQ+REDE+0TwxSEFRcWkhbyFiYXMRcRF8IWVhbBFfYUBRTqEpsRShDmDmQN4wtXCs8IUgfaBXQEGwPiAcYAvv+6/sr9Av0+/IX72fo2+qT5EfmN+BD4kfcZ97T2Y/b49ZL1OPXf9LT0iPRq9HL0ffS09BH1hPUr9gX3E/hA+Yz6CPyQ/Qv/jgAVAooD2QTxBc8GgQcDCEoIXghDCPUHgQfgBg8GKAU0BBQDvQFdAPT+av3O+xf6WPiW9sH02fLv8C/viu3466bqqukE6aHonOgT6e/pG+uO7GXue/Co8gr1gfcI+oL82f4WASEDAwXHBm8I9QleC7UM5A0BDxgQGxEEEuMSzxOPFBoVoBX3FRoWGhbjFW8VxxTjE9QSrxFmEAQPmw0lDKMKIQmuB0QG8gS2A40CfAF6AJ7/0/4L/lD9lPzu+0r7mPrv+U75uvgs+Kr3HPeV9iL2kvUX9bn0a/RU9EL0XPSt9Br1sfV79oT3sPgT+qb7NP3e/pEANgLRA18FtwapB2oIBQlXCXwJYQkUCcAIUQiqB9AG5wXqBLgDZQIFAYr/7f00/G76p/jT9t70wvK58NTu5uwo673pnujK50fnN+eM5zXoNOmd6mrsVu5x8MHyKfWg9xL6evzA/tsAygKfBHUGHwi4CUYLvwxADp4P5hAlElsTihSGFWcWMRe6FxcYTBg9GOIXVReUFpQVZxQNE5QRARBfDpoMzQotCZIHAwaMBDQD+gHLAMH/2P72/Rn9TPyW+9L6F/pw+bb4B/hj97L2EvaB9d30Q/Tb84jzUPM880PzcvPg84T0QvU+9nj30/hu+in85v2x/3sBQAP0BIoGwweaCFsJ5gklCj4KGArECV8JzggFCBwHJQYSBcwDZgLzAGH/p/3l+x36M/g09ib0DPIE8A7uIexz6inpIOha5wHnDudu5yboSenP6orsa+6F8NvyN/V899P5IPxL/lYANwIPBNQFeQcLCZQKGwx6DckOHBBOEXMShhOGFHkVSRblFl8XpBeWF2gXEBdmFoMVdBQ6E8wRSRCnDuMMPQuVCdsHQwbIBF0D/wG9AKn/uf7X/Qr9YPy6+yP7lvoH+oX5BvmO+BP4nfcu96b2O/b99cn1ovWJ9YH1o/UD9nH2Aff19wH5IPp9+/P8ev4lAOUBpQNWBdsGIgguCRoKzQokC0YLLAvYCl0KmQm3CLQHdwYlBaoDDwJoALT+7/wa+zr5Qfc/9UnzTfFE70zteOu96U3oMec/5pnlVuV/5Qfm3+Ya6Knpguua7eHvVPLc9F/35Plj/Lv+8QAKA/sE1AaQCDQKuQslDYcO1g8mEXQSsxPeFAAWHBcGGMYYUxmkGdYZuBlTGbYY0ReuFkIVpxPrERAQMg5GDFoKggjDBhYFhgMfAsUAk/+D/n79lfzA+xP7Z/qd+er4Tvi69zH3rvYv9sv1dvUa9dT0pvSG9Hz0kPTG9Ab1afX49Zn2avdx+JT52/pO/Nz9hv9GAfwCngQtBqQH2Qi2CVIKqgrYCsQKXArVCRIJEAjpBo4FJQSjAv0AXP+x/fb7O/p4+Kv21/Tw8g/xKe9d7b3rHOqf6G/njOb15aLlu+U25gjnPOi96Znrx+0v8MfydPUi+Mj6Y/3p/0gCgQSPBmsIBAqSCxMNYA64DxIRWRKlE/oUSRaSF9MY5hnHGmsbxxvkG6UbCRskGuMYfBfKFd8T3RGmD4YNcwtGCVMHcwWxAyIClgBC/+/9u/yO+3P6f/mF+Jb33fYk9or1+PRz9Cz01/Oh84DzgPOX87rzFPR/9Ov0avXH9U326vaG9yn44PjD+an6v/v6/Ev+p/9FAQIDsgRYBqgHvwjACZ4KJgt5C2MLvwobCmAJLgimBsIE5QLzAPP+Fv20+o74r/bQ9BfzaPG+70Duvuxl6xTqBOlV6KnnY+db56rniujm6VzrSu1s787xaPQ49zH6/fy7/0UCjAT9BggJcQqnC5cMdw0HDlQOhg7jDmoPfg+oDyIQqBAPEZ0RXBKxEkATmhPvE+0TjxMqE5kS5RH6EBIQ3A7dDbUMIQtZCnwJJgjFBvkEwAOUAvoAOAHD/vL7Q/uZ+Jf4JPbe9Y701PFe85bxLPF28PDvpe7m7dbuSvCN7wPwY/Ih8970ePT49Vr2m/Ye+Gz4XvoW/Nr+CQTeCE4NgBLSGDoeSyRDKfgqoir9KoUquyVAIB0YBA7ABar+DvTr6Avi99tj1IrQ2s8HzXXLqc0zz0HQ+NLb1c7XGNo93TTfQOP46GHs7+/h9zAAKgegDxAZNCBhJo0uWjVlOV862DkTOn44tzNsLXAnpx7XFE8OSQbQ/A/0IO6O6KjjY+Fl3czcKt5d3XHgJuZl6PnpUe9B9uT52/14BA0IDQ0dEhcUbhckGuUaDhqZGmcaAhYNE0cSHw//CnwIAAX1AGL94vuq+aL3q/ZC9JXz3/J+8jjy9vHE8MbvafDZ8XXy/fHm8zr1ePmI/RMCQgxeFZEeuCblLro3O0CHSCxJkUKrPpU7JzJBJEESFwBl8LXjLNTiwee2dq5VphCi1aJgoryi+Ki0rT+y97jnwB/Im87J1O3boeci85D61AJ5DxQcEicDMlM7sUJnSIdMjVA5URJLEkMsPbc1iSiwG+URbgV4+AzwXOvF5V7gu95w39ni0OWv5kvqPe6c8ObxFvXI90j1DPiG/S3/awDgA6ULphGWFYAZFR2AIYUixCEsIkIeNxf6EN8LHAag/e73ePOi7mPsdOr66sPstO227yPzdPhD+6z7Av9pAV0BOAL7AosBa//B/nP+FP4e/e37e/xn/zIEjQvBFhsifinuMi0+jEeTUAhRO0zcRs8/BjbNJWgV7wBG6rDbvc1vu8er1aF/miyUcpMlljmWWJlKn0ilnqx9tM67/8KmyxfUg97i64f4rAOKDyMeGyxqODhDHE13VJ9VNFa6Vz5UwUmDP+42eikdG8YQTwYs+Xru9upV6crlnOMO5OvnV+si7tvu2u/88w/0R/Sm9gv4Yvct+r0DNgjuCAoQ0BiNHvsiGCduKc4nQiY6IwQeXxiDDmsFKP/C+UXzMe35623qWOnk64vvnfLd89n1vfre/mf/Ef65/TP/b/xY+GX4HPcV9ZH0N/d//FMBugtEGhEmdDJpPslJ2FQDW1tb/1OPTKtEhDM3ITIP6PjN4ezRrcVWtemnFKFLm2GXuZounXqczJ4PpDmo6qxetI64XrxQxDvPStqm54T1PwGoEAojczLfPS5JGlO3V8xW1FX4U+NLaj43MRIomxrFC6UCXPjm7A7kR+Fk4dbeyNyP3Irhj+n56b3qSPF69OX1LvfH/QEA6P6xBekKKRCqE54acyJgJksqQC1sLycvByu3I2Ae5hfsD8oEAv0h98zuZOoh6PDlDuM75pjqjOzG7ujzW/jd+Vj8bPzR/Ef8Rfqo+CL54vl9+hL9qgOzDlMbninNNMVCu05fVyxh0GLzWgZNuEQHN6YfyAg+8r7cRcoZvbCtOKJznCSXI5MUl0mctZlLmp2f6KRUpomrD7OkuO69ZcdW2Gfpn/fgA94WCSsBOnVFZE8/Waxb4FcxVP5SgEpOOSUtNCaGGQcKTAPe/enyzene6OXpPuZI4DTeAOSi53vmQuco7cXw4PAY+E7/IgHzA58KLxLlFjYa+x38IycqGSmFJ6wrtSv0JCwgrx4RF5cMrga8AKv4EfK67YnpTeb/5kTnlufx67DuNfIG95v61fu6+hv99vxi+cr3EPji+ID4ZPv7A7cQvR5jK1w3qkWQUBhZ1194XhVV9UYnPeIrLxZTAYDpuddLyrC9Lq71pXqkz57GmbyfdKK0nICcv6DPox2jk6jFrWW0CL/1yrXbdu9lAckOKiMtOM5EhkqhU41cc1n3UcFNNUtpPjQtviXhIXkVAwguBRkDGfgg7wvvy+xi5ajeKtwt3onfZN3g3efnnu9Y7wL4XwQDC9oNgBRiHkMdeB5jIxIj8yKUIX0gHR8JHRsc2BgvFtYUoA8XC1IGKwFE/QX4ffO48B7vUO4m7xHyr/Z3+QX7Nv3aALkB+v1H/Zr8bvmH9qD35ft6//gIohiwJN8whj7CSF9UgVusWCZNj0ODPG4ofhJrAH3sUNs2zovCibXdriOuo6aCoDKkCKWDnVyZnpx+myya+J+opwmus7ZwyITc7e7HAAgRdyQaOHpDpkkoUNNW4VSWS9FJzEeOPHEw3SmxJSkdBRPXDqcJb/7T9Xjxy+wq4zPYQtUG117WLNc93fPpXvLP+NQC1g+yGZcWSRt1H9seLBqGFXYZjhMLE4kW4RS3GOQcQxypG0obhhosEOIFawWN+BPtdOrQ6YPlseQm7HDv+/bu/rsBMgKgB9YKzARl/nL9ifkg9Rv4OfxmB1UUAyTmM0I/7kzWWUpgHlxvTnBDUTtrJQsNj/h45nnYCMpxwEe3xrI0sjisj6b5qM6pRJ8ImD+Y/JgRlRKZpqQ6qt+0QMqi4QH05QXwFy4qljoORf5G1UiZTtVJQj+CPv4/8DTEKcYp9ys1JE8azxi5E9IIiv3M9Xfv1OKf1k3TSdUC1qnXrN8J7n33QP15ByoVeBxoFncXoxwiHMkUlw+ZFFQTAxVdF6cWvxyqILgd2hg6GvAXSQmd/3X+KvUV6DnmN+r75gfmk+wE9Cr90v7R/zYD0wi/B8T6Pfpd/Av1dO+S897/2QiOE2QlizQAQiZKHFQhWkRTv0RQNIAvKR0BAwDyXuZ33R7R3st/x+HEVsTDutOxcrS0sm2gRpNzl9aYPY5bkeKis6wNtAbJKOTF9UwFEBKTI0A0Uzf0NJ846kGpOnwuNTVbQCw10yiRMZg6fy9TIZEiqiBFEAv+ffZb7+bimtVN0a/WZNq03A7kvPIG//oByAcGFdMVWw5GD7kRpg60Bp8JNA/jD+gWOR0cI4QnfywNK38neCewH14RwweWBan6A+1a7dfw6O0g7XbyxPsE/br9Sf8o/f7+CPpq8HvtG+8l70Tt/vZjC2MW2x+KMcBCJUoVUNhS00qRPbQz5yg8ElMAE/QC6BXb6NXo0rPLq8nqxBK9SLfWuCitF5psmCucf5VBjSSYyaehrHW1ls2t5IPzFf4gDIMfHyzgLAQrwjYUPtYzdy4LPRFDAzTNLtA8bUAALk4kZykbI+AMy/9s/Pfzx+O012bZJd6W2+ba7uT58aT3V/ZH/4oKHAYEAWwEowj3BMX/awfaC6IPchX9G5MimyVqK+EoUya+JHYe7RTLDP8I6gEt+q350vmU+br4Hvv+/6/+/f/x/R39jvsh9iDzlvEv8YDyu/jMA3APJhcvIlYvzzmvP9BAjz9iOrIzeCuFHSkQ6gXs+9rvCedv4rTcg9U7zfnInMSvv4K3+6r/pSCoRKJDmdqc0KilrKermbll0VPdidxS6ZwCXRAJDBENlyLqLoEk4x8ENGhArjCzKKo6TkTgMSwksy4CM/EcxAydEZMQlf3j7anzwfgI7Zvkdu2/9TfwWexS9Az6SPTU8Dv3O/re9T33SP49A4gGTAuMEv0WThtNHyofxx52Hs8cUhcwE2QRQg9HC+wItwrEC4cKVwg9CdoK6gVDAEwBA/6s9xfzgPOl84TvHPH9+ZX9dP6PBtMMuBOEFawYPx3fGngYnhdZFsoSTAw2CBUI2QOK/5z6bfoc96/vg+pG52LlBtwN1KbRk9EizWbHVckxzT7M0Mowz5/XxtjN1TPaQOSD6nXm1eiy9Rb+TvsH+mEIcRLeDMIJxRKfHEgX+w+mFoEdKRp7FPcXdB4uHCUXXBnaHeEb7xaLF/cZDRZqEScRDBHFDE8IewkcCi4GgwQEB7UIhgZeBbQHFgriB08FQwdkCPoGCASLBIMGTwUBA1wDHwWeBIMCAAHxAecAA/57++X6W/pf97v1GfWb9M3z0fJm8wnzivPF9Fn0u/Q69Vj3gvgN+V/6xvxRAI8C3gRABw4LVQ3QDRAP3xBLEeYQ/A9HD4gPkA3TCycKagiLBucC7f9o/qz7TPgK9ePyX/Ex7kDrc+n06B/nCOTR4m3kZeXD48nk8Of76anqQuyG8EPy6fI69ZH3qPkB+1r9Yf8RAYUCRQQHBjkHCAnBCekKNwwXDa8NVQ6iD3MQ6hCWEXYS7hJnE98T9BNZE0ATOxO+Eg4SbRF7Ee4QcRBDEHYQXRBwDzYP8w5aDvIMHguvCq0IigUtBOoCjwB7/b37YPrZ94b1S/Rr8wnxH++37q7tOuzL6wrsAuzH66Dsm+7m787w5vJO9h74v/mn/Ir/fQEHAvYDNQZmB7IHlwj4CUEKFwq6CXMKVQpICIsHnwesBjIESAI0At0AV/7//K78Kfta+d/4B/k8+M326fYK9zz2cPUb9V31JfUr9G70kvXH9QP2U/ew+DX5KfrB+7b85/y5/ez+b/9A/6X/0QB3AW4BwwFnA94D+gOeBG0FJAabBaMFegaABhcGNwbFBm0HvwegCJgJlwqzC/0MVA5XD0cQBBGgEdcRrxFzESMRHxDSDqINpAzSCtQIowcbBtYDkwEdAK3+Tvz9+cT4z/cE9mr0TPQi9E3z0fKw8870qvT39K722PcF+Nb4fvqM+7D7Yfz3/QL/wP41/9AAYgGxALMAhQF8AYQAx//o/8f/y/4D/hH+9f1g/Qj9Fv1R/SL90vzZ/Oz8vvyV/Ir8cvxg/FT8i/yl/Kf8Df2c/RD+Zv7v/pT/AgA+ALgAYgGqAZ0B3QEvAjYCLgIeAigCIwLrAYcBIAHCAHUA7f89/8/+sP6C/vz92P1r/rz+w/5O/zYAQAG+AU8CnwOoBEUF8gXbBhgIxQgPCb8JMQpYCk4KOwpOCv8JFAk2CJYHuwZSBQcEMwMLArYAf//n/kb+Jf1v/Hr8SPxN+w77YPt1+/H68PqM+3r7bvsL/MH8Dv1O/ar9iP73/u7+MP+v/53/Tv+F/5//QP+N/mb+a/47/oz9PP1M/QX9dPwW/Cv8zvtI+/v6/frT+nH6O/qY+rT6c/qR+ij7mPuW+xz83PyF/dL9a/4e/xAAmQDRAM0BkgLOAvcC0gMhBCcEJwQhBDEE3APNA3wD7gLfAqgCGgLjAfcB8gGdAfIBkQKRAqoC7wJMA/QDNgSaBEoFfQWgBdcFTwavBokGNAZoBmcGoAUqBQAFTgQ+A1cCqwHcAK7/uf4U/mj9V/xc+9z6s/o8+oD5nvnk+Z35U/mu+SH6fPrS+kj7Ify0/A39yv2y/mL/6/9oACEBnAHiAfQBcwLvAngCfQKhAh8CiwF8AYoB2gAnAJ7/YP/z/gT+YP0n/eL8FvyA+y/7FPtQ+sn5MPr4+aD5vfkC+jL6bPq4+oD75fs//Mj8gP0t/mX+Kv/W/yAAXAAcAZYBqQHxATsCkgK8AiEDdANrA6oD+gMdBEYE4gQDBTsFxgX5BWcG4AZhB3cH+QdrCIYIrwiiCOEI9gi0CGkIHwjYByEHfAa1BeEE6QMGA+EB5QDy/5L+Z/1R/JH7X/pW+dv4Pfiu9zX3w/ao9vX2Affm9lr37vc++Kj4IPkm+u76ovtX/Fv9jP49//z/AgHrAY0CwAIfA5sDiwM5A0MDTwPjAnMCDwKzAXcBogD3/37/Kv+M/nT9+vyL/O/7Mvv/+tL6ZPon+hn6mvre+pr6HvsF/DT8dfxq/Uj+D/9y/+H/3wBYAbMBBgKCAqMCkgLVAu0C8gLQAmoCXwLFAnQCKQI8AlsCcwKEArIC6QJ2A/QDhgM3BEYFNAVvBRwGqQb8BicHgwfqB8wH4wf5B+oHlQfpBhcG8gU5Ba4D3gLmAcUAev9C/qb9VPwp+/D6u/nW+Kz4fvgV+Pj2T/cL+NT3wPek95L4pvh6+BX8Cvvd+lb/a/7A/fv+JwFgAJQAWgTvAQX+G/6N/YD5HP+DAS/8fv4C/zj8WPtE/dn94v0BAM/+d/yk/9QBRf4e/6gCbwKs/64ACgOKAKMAxQLAA6kB1gLMA4AAlQMYBIMB7QFlBN4BegD8AoUB2ADk/xMBhwD5/mf9BQEWAOr6QAAQ/wX+w/2f/xoAXv0/AOn+XgC/Abn/cAOwBJgAQwM7A9MF4AMdBK8HfgOCBQYG6wRDAoYEfgVZAjwCBQM7AXH/TAFF/q/9r/9K/gf8S/2+/LD73/ka/uH80Pc//wP92/ta+Xn+gP6n+osAbf71AXj9uf9RA2D/9P9nAVQDogFCALz/ZAHy/t0ANP+v/ncAP/1h/KD8Mv88+tf5Uf4d+/r42f0V/EL8Avw0++H9Gfua/zT/o/3B/zcBKf4IASoBmQBOA4j/LAWxACkDoAUf/zQHLAHZ/xgH8AGIArcC9gHtBWQAxQAiAeX/cwEA/+gE0P8z/IAFDQB5/GwBiP/W/hEBAwb//Or+0wGR/J4DvgEI/3MAuv50Aw4ApvgjBI0C0vrjAQsDyvwRACAAyPqAAa79xgBI/+r7vwIv+c/+jQER/nn+1f61BIn/g/1aAjz+DgEGBYH/LwOqA4H/wgH2/tYBGwX6/yoD3wB+Aur92PlqA9oAdf/8++sBlP/X9bYAiP4m+r3/t/x//OH84/tz/vH6YftxAsz7Dvo1AQX/gvpg/2cDx/wP/8ME2vxp/YAFtP8+/zAEEwI6AWsATAFSAxsCRQKVBCkAnwE7A03/2AIjAv3+fgQ5Aij+nwRE/8D+ggXl/p8BVASJ/mkC2QFsAIYBs/1sBMD/+/0SBhT/yvzN/53+mQBa/o39pQD4/kv9a/6D+if+7gDE+bsBdv7W9v0CD/7P+17/twBbA9b6sAIeA2/6SwI7AQgApwIeA2YFRP97APYBiP5UBOYHbQCxAZcCm/xI/8IAi/9PATYDsgAB/0/8Av+C/an8yQGQ/E7/FgGt+wf9p/3D9zn97gLn/kL+TPxh+7b9tv+x+tn/JQSp+uv9agJm+2H+TgNc/vD/agGvAh0CVf5RBA8Bh/1IBCQDtwAdAIsEOAJ7/boFNgOn/jwGwQKv/6kDTQLr/+r/PgRNBdgC8wJ9ApoAqv48BAECSwGVAzMDwAAV/nL/U/yoAF39mwDgAw390QDp+MD7Af6G+qwC5/yV/EsCZ/hk+xgAK/oi/qoAGwE5ALH/Q/5L/nT9Uv4MAnMExwLbAtEAYPx8AxEBoP8//zEHJwW0+u8F6f/z/DAA/P9UA5H+XQGqA0QAB/zy/d4DZ/yK/zEIQ/38+zADyf1l99IAEQS+/dsAjwKMAVb4I/4PAZf3swNBBNT+FP03Alv+XfcUA+sAyf5sAnMBofsj/ZgBbf0r/9gCFf9PAF4AO//vA53+//9jAFMB1gL2/icF7gPp/tD/hAV2/UEC8Ac//4AERANn/QcBbAN6/xkBcAB0BHsBm/o/A4n/Uv6U/2z/rf69/PoAK//p/FQAJP9c/mH+q/5v/97+DgCS/4YB4Pmz/z4DUPc8BEMGafud/p8AafoM/UgCBQO5/Qf/JAX4++72oP53BlL8sgAuCGb57ftwAtP9Q/3cAd0Evf+j/A8Ddf6g+2MDLAK0AEgCEQG8ALH++ABKAqr+TgSIAXb9VAVSAE/9SgQYAhsAqf+T/wQBvf3g/1cFuwA1/QECx/1x/Nf/fgJ9AKr8pASc/cD6XQAF/+n/kv8QBSkAqPuKAVv7uPytAgQBKQMK/ZYCVQIu93ADqQGi/H4DpAPH+8L7NASS+yT+DgX4ADf/D/53AC3+DQD7/kD//AJeAHYCj/5P/isB/P8y/1oBewMi/jEC1v3H+4QDLf2LAFYAQP4OAVn9rgH+/wv81P6VACP/7vsGA34DgPk1AOQA5PibBJkANP8TBFH6LQRU/az7GQhv+n//oQaf/PoBRgFCARX/6/xrBW7+GwMlAWz8iwPcAN7+AQPe/1f+8QUY+y4A4wc5/O8A9gTD/HcAxwOb/MIBCwPQABoCs/uNAToBcfu/BbIAUwB2A079Bf/n/AQCyP75/GIGY/5B/VQBivwz//8BO/80ACsAnwBH/lT8If/p/nH//AIcA7v6N/4UAZP7q/7hAcwA/v0+AL3/W/wOAH399P9bBuwA1f9Y/9v/n/9zAOEDXwIfA30Bqv2TAfgB2v+rAjICMQKZAJUAF/1b/ygBAP20AoX+1wCaAJP60QAk/7H+AgByAcP/av2SAkUAtvpiAekADv7bB9gB2P7VA0n9Lv+wAv0BBwIwATMFy/+p/Fv/XALRANb/Mwbn/oH/AQBu/ob/dv30AigBEP/RATb9Zv5JACP/BgAc/xgCvP7O/jEC0PyL/e4Cl/58/6oCZf8U/sv+4P6K/zkAUv9FAAr/Kv7s/qf+b/yJ/5b+PQD1/Iz7zQDy+BH9+v1Z/JgAK/2j/Rn+ifpM/Pn/JwB+/ur9Rf2Y/jj/Wf27/mMBDgDgAccD+Pv//0gDEP7fANMB8AHQA3IA9f2TASgCwf/OAicEZf9uAToBIgBzAtz9TQKoAogBWQbWAKABbgHe/+4DMQISBLsEEgMGBTT/qQScB0ECugg0BxEENAblA88D3wbzBhEJ4wgpCYMI0gdXB9IGhwpWCeEGdwWWAxoDAQI+ArEDXwHJABz8B/o6+p71s/Wk9LHxNfC27lnuluuA6z/tHewx7Hjr6epq6hfsKuyZ7TvwX/Pa9IL2SvkP+93+df4eAroEbgVrCYMI1wpzC64KXA+hDtAPJw4oD1wPfQqECs0G8AeMCJsEcgUZA7j/t/95/U79Hv67/X37Gvtr+OD5bPqQ+bz8GvzD/kX+4/3r/LgAbAEyBY4Gw/+FBnAGIweuCZ4Hogt9DH0L5w0nEC8SZhA4EGMRFRKlFSISvw8MDf8MLhC4DK8LewrYBUoF9ANu/bj80vno9PvvGuwH7IfpceY54h/fo+DX4THdvtrB2CPaM9qz2obd9NzW3iXhZOP+5JrpbO6b8L3vefKE+XD+NQB7AfMFUArvDKMTuBc+FU4UPBb0GVEbQRtSHIMc2xkzGdkY/xk6FukPNBAgEK0K3QS5BHYCAf5s/P/82frM9bbysfQO9Ebyp/HY8RX08PKk87r3Evmg+fX8dv8xAPcCwwNZBBQJnQhQDX4ORQvHDbQNcBIdFVkVYxiJGnsZUxYNFRoa7Rz4GtoV3g6sEhsUJxFqD3IL5gjvBhsG//9c+LH1Y/Gj7JjppOlT6FffTtiB1//aDt3g1srR0tBYz4zRDdZk2e/YOtiV3d7gPeIV5/Dt5vDE7gfzMP8qBIMCRwYHDZwSVxQKGRceqBwoHLEdvyJvJSgkTiSuJEAhTBw4H5shRhoWE3kTqRNFDnUI3AaoBDgAifxb+pb5q/Tp72rxwfI78DXvIfC18KHwfvDX9LP4Jfb8+Nz9cf5/A3QEIAU3CfkHiwmBDd8O8wz1DI8REBKwF24b2hkWGbETsBXuGzge1RjsEVkROxQAFcgTrxOFD8cK5AgfBqkAzv1X+1b0L+wq7JLus+rk4XPaFdr32obYhdJ20BbOKctzzKXS9NZP02HUa9eN1yLctuSZ6bHn6uYQ7hj6iP55/OwCvwh3CdoMQxRkGR4XIhcdHuIklyRyJB4maSThIHYh9CZBJEMaQhaJGLoYDhE7DzoOZQV0Ao7/y/uq963y3O868EHw3+sH6oLq0emf6cLtAvLq7yDw3/UB+W77Tf81BGQERwYQDH8KuwumDzERuROHFIEXGR6NIV8feRl3F3ga6h+EI5EcRhSNExcWyxjPFoATSxE4DGMHRgH2/YX9qPj78VXtr+z36l3lgt6D19bWIdlx1YrQgs2Ryi/JLc110RHTgdMm08PT9tR723PjLOaP5ZTpI/Nj+QX8pP9kBcYJNQscENwWXRmlGo4cnCLGJfomDSvgKfcneyZGKDEr7SdXIgIeMx+9HFAXGRgAFH4LMgcOCFgEmvw++yb3BfKe7+vtU+236eDmK+fK61XuTetN7MjwFfXr9xv7Z/1+/voANgR/CPMIMAzjDzwP6xFrFXEdgyHwHasamBZlGfkdgiCyH+oW6BGIE5gWQxfuEzwP8woZBtUAMf0O+2T6PfSn7NPqYunB53/hudqY19XW7tcF1MjQq84kzM3MitEj15rWWtR91GvW79n14hnrcemL6PDv8PfZ+hP9FgKvBtQIqwzDEBQUMxWZFwQeeSKcJSMmPSXiIe4fFCJEJi0odh95GKUbHRwcFr4WyBVHDY0JeQgWBDr9i/yC+u3ze/Lu8Q3yX+4B6croSet/8QLw2uyD8eDzNfZa+wMBhQF7AjYEDQY2CgINBRHEDqgN2BHzGVggJh0HHAEYbxUYG3UgZSF/GfMTWRTAFIgXZha+E+cPgwk2B/4D1wG6/lD39vBY7fPuVe1Y5ULd99d72H/XTNWg02XOCsskyxLP3NK61EDTotHs1DTZj+A05h3nf+WD6nD0gPiB/Dj/VAHyBPkHRAxwEtUW+xW0F3wdjyLQJ5kn/SWLIwMhdCVkJVckxCHAHn4cBhd2HAEZ5xFmEIsGzgeBBJ//fv5w9jf4T/M+8/LxBuuC8N3tuu6p71vxKPdG+F36kvstAscGEwgaCVoLiA+PED0RpRIcF3AZqxpcIg4kkCNZIrIaPRynHkchbh91FgIUIBFLEjwU0RAZC1QDL/55+kH18PVH9VruYOU53nvg9OF63qbZIdez1f7T3cuTy2zJC8bk0iTK48rV0fTPMc/hyofU1NcB6IfuG+br8Or2Qvnb+qYBhxFvE1UPjRlpHkQeniMGLMIuiy3NMd8zPTIjKBoi4x9xGhkVGBQlEKcG2QVj97DtvPHG7kXsF+mn6tHiD+Ac5jbeU+N47gftAOpb8Nz5Ufkd/bIHUQ4DEfEUMxv2Ht0dUx5MIBYjaSgmJeMmxC+HNOE6Lz4mNWMoeiZkKHYvQTQALC8d9RPeD9wL+wi8AMT7GfRY6IvdmNHFzeHKaMDUtLO20L9Rt7ipTaWdp7aukbMRvNfC2MZbyMLICtUj5JDvJ/mn/Jj+PghMGPIfYx1jIlgqCyoMK1gxXDZGMcYnESSkJFImwiMKH/gWXwoiCMEQxg9XApX3+vS68AbvYO/26j/ioNwl4Gnkvekv47PdgeDV5qLxnfV99mT1NfqY//QBoAoMEfURYRIAEmkY9B1EINoc5hUlGqof0iI+H18YYRMbFJEXZRMxFHUTkgxxDy4fLyy3LZ4niRlnDgkYBjMgQHMyPxuzE4UWzSDlJ/gavwmz/D35DvS/8YnyieiQz325ucCO0pLO6rgXqFOlHKxjs/+6C7vms52w47hOxvvQINwK4FveXOP68qIGeQx0CZsL5RawH40jTCxALV4nLSQoKTMv9i+nLrcqoB+cF1UbRSLuHRUSvBBaEXwLrP5t98v1HPR0+Lny0ebo5DTrrevL5TTrR+tp65bxafVo+Z/9uAPv/NX7hAqiE3wU1BDdELQV4xgcGyMYAh0xICQZ8xYUGJcYYBMKE1EQ/wnvDF0PWQ6EEK4aaCKvH8EYIBHEFIIhpTL0M6QdUA8gFr8kJiiqIDYTHgbQ/2D+8fpI+WD0oOPyymjCINHQ2ITLALW9q2Wx1rKwsRC8Kr+XsZerD73+yzHQcNfL2aTW4t7K+OoDAP3IASoQUhVJFjsimiodJ0cidieWMAowvClHJv0mViJlIf4lPCUEF1YLBA7DEFYJ+wS9Ai/2oO/w8I/zd+1K8FPsON4t5envpvV778ztFe5s7msAoAisAV7/IwSKCoEKMRXrGzUWFxesE8Ea2SPeIrUephq0GAsT0xfYHkwV8gzACIMI6QhOEIgZQRcdF34Ufw83C9IRSiFkJ9kbEwVyBo0XBB+vF98I9f9C+nX8vfn58pfwPutt2m/Ia8gr06HTOsW0tOywdbRBtKe4eLxvtJOuobY2w0jI3s7W1V/UztQv47/0VPm0+rMDNwjRCQYVsSAzIs4czCFgKJ0oBShaK18rNidiJEIjjCRXJFEf1RzhHqcZixC7DP0IeQRVDIgLHPZX7/b5Tv/a8kz5xfq/62zvJvfL/L/47gMb/bnvWPwYDVYPoAhXBYsEZgmWFKUboBcuEpoHvQ3gGrMXbxDAECMP7QIIB/QTsQgP/SsBRgS/BOsQhh6MFJ4D+wASB5gVIiiFJ0cNw/m0CH4eMiING4ILdQBE+UX/vgSHAsL9x+un1TnOrd8+64LaucIGt867f8I1wF7Al77Cteywt7hfw3zF88vD02vLjMxj4Br06O6/7cn7TAJRCG0UnBkPFdcZ/ygXK20muCztMrkxcS5HMOEz8zYGNJMrUymbL9Yr9SMrHj0YXxRtExgPOgmzA3kGvPnw9tv6FPjC9vHzLfgI7TPxvPWk7xXyIPg4+az1U/Y8/ZT7BwDHA0z/2AEYAu4IUwzDDd0LJQejDD0JigbeDKEP4A35Bz0D6wCPApwJ8Q63E+ISIAmkAFsCfgwRHxQgLA4N/Hz/IhUsGu4dCBATAYz6Lf8lBHcEpgck/AjlVdht4IbtUO5T2LfJkcPYx3HI9coHzt3AbreyucfDmMi4zT/TT83NypLWUOTZ64vvAPXs9Gv38QX7EDAQkRTdHpIf1RqpI7svUTBHLfAr5S00MXg0XzTSM0w1czICKikmxCWhKecsUyCDEaMP5BaCECQK8AhB/Y33h/ke+i7x8/Ji8hPkAOAv8DT1CepR5Mrll+ff7qb6hvkC9tj03vjF/0gJTgy9Ch8GbwX8B1sORBHwDQoMIAX0/t8CgwvsBwv74vv6/Ij4GvxnBmAJ1/xp91z49v4mCl4Rugei+G36+gewC4YL0QnGBhT/Ivpi/MoBqAfcAb3y0uX66ObxdfSY65nhZdq82fbZZd0p4ofdzNMn0JXVfdvD3/TjdOD/2s7hNe3W88PzA/n1+WP6igVUDtYPvhH/GZ4arBbTHu0pSSoiKMwncSm8KVQubTCZLNYr7ycrJe8k8yUZJPIcQxcPE2IUyhPLCxsFhAJAAtz9KvsD9tXyJfKE8kXuZuxn7onrOunq7Ezxt++N7/vx0PN+8zD5HfqJ+Ij4DP0a/1L7o/3F/hD+xvx2/uX/1/xn/D386PoA+7H9Qf3p+dz2DPoP/Tn+n/3M/FcAhf8tASwD8ARuAlECOAkpC9kHNwb5B1IIcAgPDNYKFAdvBCUEVAFaAV0E2/+g9zbzHveB9jLzA/EN70/qvuZk58Dqjetd6nzmd+Tu5yzsOe9m73rxBvO79P/4yf3dAIABqgPUB/ILsg1+DugPvRA3EQwSbBTAFGIUqxIbEQ4ReRIVElIQ2w9JD+ILaArQDBMO6AvJCG4H9waRCO0IiwdcBkwF0AOLA7AFGQakA90BewBdAN8ApgGWANL9U/wo+of6OPzL+zb5FfbH9aH1kfZf9wz2MvSw8tny3fRv9ZP1TPVL9Fb0IPXC9yr4p/hO+f33Nfis+iD9rPxw/A7+x/1K/SP/MAF4ATMBOAIhA3YENwbHBgYGQgYOCBYJBArHCnUKaAnXCXgK5goVC8gK5AlWCbYIXQejBx0HBQbbA2wDEgTSA7ACiwAV//L9x/0y/kP9LPx5+tT4z/jb+O33Bffh9qj1S/SD9H71q/TY823zSvNN9Lr1Ovbb9SH2yfa/9475wvsX/cn9+v0f/3kBdQMuBX8GywYiB+IIZgpmCxEMJAzXC/ILdgy6DK0MUwxlC2IK2QnCCUgJKwj+BmQF8APBA54DnQKnABT/Ff7i/QT9XfzZ++H6D/ps+Sb58vhO+fn4U/iP+DX5cflF+cT5g/ps+hn7YvxW/Y39u/2I/hT/zf/MAB0BlgHbAdACLwPaAu8CGgN8A4oElwQ2BLYDmAMFBIUEIgUJBdgEWQQxBLIEfgWRBaYEDAQcBG8EWwRiBO8DrAIvAuwBggFqAeoA/v+3/pD9HP3+/KX8qvsR+wf6JfnV+Kz4Rvjx99D3gvc99zL3Zfea94f3x/eE+Dr5o/kg+qv6R/tl/GX9Jf7f/uX/vAB8AZQCaAPbA6gE6wRVBUEGewaVBo4GLwYLBsIG/wZDBqMFrwUNBd4E+wSrBHMEkQMrAxoD9wIKAwIDvwI5AikCMQIKAtYB+gHOAVoBNgEdAfgAqABbACAAo/8j/+f+rf45/qr9J/2y/BX8v/un+077KvvM+lr66vn5+U/6i/qC+oH6dvp2+uD6S/vA+yb8Sfx6/AL9kf0M/tD+XP+V/8r/aAATAaUB9AFPAuIChgOYA/ADJQQZBCsEOwSRBOEECAXhBFAEzANyA0QDngN+A+ICLwKFAV4BPAFAAd8ALADP/5X/vP+X/2H/N/8K/7v+jv7J/uL+5f73/qP+ef5P/kr+IP4P/lr+jP6j/on+Ef7t/fH9S/7e/lf/dP80/yH/f/8cAMMALAFkAYsBxQE2ArUCRQNcA4wD2gNFBK8EygTCBDcE2gPHA+YD9QOgAxkDfQLFAV4BCgF3AO3/Of+Y/v79sf0y/Yf8/Ptf+xX7TvsL+4v6B/rC+dL59flO+mr6afpn+oH6x/ph+wH8YPyY/Oz8cf0D/r/+Wf/H/08A0AAzAdIBWgLkAkcDjAPKAzYEqAT7BCQF/AQPBScFWwVqBXoFUQXoBIMEUQQeBA8E7wNZA8kCOALWAXYBPwHbAGQA7/9y//P+e/5c/gD+rP1U/Tb9Iv3S/Lf8lPy9/Kr81Pzv/Nz8NP1v/fv9GP40/lL+mP47/5L/5v/w/wMAAwB2AAoBGwEwAQoBKAFEAZgBnwGFAVUBJwEtAQwBZwE1AfQAkQBUAEAAGAAiAPj/wv+t/23/W/8b//7+3/7N/vf+oP5e/kD+av5k/on+ef6d/lf+rf7U/qj+CP+w/vn+1P45/3D/r//g/3L/7f/a/1YAhgDHAOIAwAD/ABcBeQEnAaABoQFdAaQB6gETAnECQwI9AhYCFAJPAj0CkQIoAkACGgLUAY0BoQFpAVoB5ACBAFwAJQABAMP/V//3/iD/jv7J/qb+Wv5K/lv+T/4+/jT+eP65/ur+Pv8f/5f/if+v//z/wv86AOv/KQCaAHYAkQAxAF0AcgCnAE8ACwAWAP7/4//l//f/qv/D/zT/wP7V/uD+FP+Y/pb+YP6C/sD+Rv6Z/m3+e/6x/uj+QP9F/1T/Z//e//n/5v/u/6r/DgAvAF4AZAC3AG4AiwAWASYBdgFeAZEBbwHNAZEBMwJGAgICNwLOAZgBEQLwAZUBzQGzAQcBswDhAFkAawB9ABoAqf++/yr/Zf/k/pn+k/5P/mj+Vf66/rf+IP/a/gf/Z//4/q3/YwA2AGYADgFPAUoBpgHHARACqwEiAkECSwJkArYCTwJAAqoBgAEGAl0B5QFQAVAB1wC7ACUAFgBU/2j/4v7O/WX+0f0s/dL8pPx6/Oz8tvwr/Wz8j/zi/BL8wPwK/Zv8w/3y/YD9af2f/Sz+SP7t/mL/mf85AHMAdQD/ACUBWAGlARkCAgLsAvICdwOUA/ICjAMGA9EDHgSgA4QDrwLyAjcCBAJ0AnEC4gG4ATcCzQFzAtQCAQO7AgACwgBg/0T9mv1C/Bf64Puv+xv8gP19/nj+L/2e/L/7h/qq+ZD5pflx+cH7ev4u/3oAmwK3AtMBvgEVAtQBjQF1AqIDdgQSBdEGXQeUBwAIDgdCBRgEXAPdAksClgKIBHcFcgfDCJIJvQdDAzP+DPWF6z7lEd/X4e3ldugR9p3+gQhaDYYNcw13BEIBOPu88yvyT/a/+0X/twfkEKkRShCLECcLhQLn++b3VvV59H/3J/1UAdAFHgi1CD4H0wQAAHz8Pvl693v56vv9ACkCGARFB8kFugT6CQUCcgEiA1L/agIy/34EpANEAbwFNgXrAJ0CRAQYAED+4wGxAif+Zf7t/uP4MvJt77Lupus+6MzuOvSz98P8lgJBBTADAANgAmP/vv0j/gf/+P8WBFcIWwvaDBIObg47CtgIpgWHBDkCfQExAwIDtgXMBoYGrQYxBdsDFAF3/Qj+avpM+t/5cPeF+Hz3/vkd+s77y//qAVkEJwPpA6ADHv/q+9n6KPuU+QL5mv1PAM//EAPyBJ0BXP98/Mf6R/Xi88b2YfUq+PT76v/HAY8BkQK8AwcBEP8vAPz/if/hACUDEwVtA1wG7wflBBoIwQh9B44G4AWbB+sB6P+7AuD/QgGjAn0Ipw/oEeQOWgm0BdD29uxo82HjC+b070jwtPr78fP7rvc46GXs/uW/3oHk/esY8TH5gBC/G9kTSBmkIKcWRQPIByMLoAAIBCoP4BedHOMeqR79FkcM0gEE9rvoZ+mm5ZLmUvUG+0X/cwRMDCwH+QD5/rD7ovVs7kv2Kv+X/ngKQBSlEIYUjhMaCzgFtfqJ+CH2/++Z9nv/0AC7AFUIXQlWAXP7g/s68jPpP+y88MzuPfWxAOD/kAE+BDMD7f3P+HX3g/Ng8In42Ptl+jQFDQl8AzIGKwbzAB77m/vj/Zj72f0/BA8HLwckDWoOtgllCcYI9gF2Ac8BYwEcA2oEpgZuBwAJ6QatBBsB3/73+yn4HPpY+Tj3QPoQ/E77S/4z/6P+0/3g+7n6O/mL9vH3jPqc+mD/kQLzA4kDdARIBCsBdP+qAI0ByP+YBhoL6wofDjwRvhEfEE0PIA03DMsKEgp3Cz4JxwroCxoJXgYkBfYDW/7j+kv4Hfc59fL0/fVZ8/L0IvTv8CfwEfBB7V7sfu1261DtS/Bf8bb0nfj++2j91/1rABYA/QArATz+4f0xAAD+kv3TAuoB9P/RAeEAnf4h/cf5gvh79bT0n/as9277Gf+KAAwC8QVyB/wFxAVrBwYJ7glSDLMPjBInFU8XYhksG+sa7hYEF6wb0Ry0IZks5zRcNRQ0eDQJMiUxuCrmFmcEHgKK/nD0MOwP5XDfdN3f2/fOcsQ3wV+7Jqyhp1e1BrhDsym92cq50J3afOWA62Tw1/R5+1EGFhLkGEAXSh9dL6QwIiwgMsYw+iOaI9YhZxMjC8gLyAN894L2wvkC9f7sHOqI5/bmf+ca5nLlDuiY7Lvx6vluAgIKqg7yEpMZFh/LJLcp+iukKYkqoDF1MhgtnyjbJKsaEBO9DKQASPj+7q7goNr639rZMtAI0x3T8NCb2WLf6Ndf2uLm9OlM6iP0qvvR+4ICIg29DUwP2hmtGAkRVRd1GcgOkw24DoMFIQBVApH+J/jP9/355/cD+S4FDBDEGaspAzfhOto/nEW9RlRDbjhpKQAhxR5qGeYOVgH5+Ff0luzs3DfLuL+stfCm2J2CoXGgoJ9cqZOyjrvZynjYXN9I6AryCfqoA24RoRxPHnkjfjFaOmo7BD5xO7QwRCswKdodCw1FAlz5/+2j5pvj6t8D3bzcM9mF2YfdJNua2RzfNuNm5SzxwP9ACC8Q2B3YKqcyQjmdPTk+fD66O0Q6BD7MO8swNCnyJhgahQ17BEruXNfZ04POgb0Vukm5WrZ/wfPN88tjz6LhP+ne57byF/8N/BgAxw6dDiEOtRyjICMX+BkYHioUTwtjCzQCvfKi8c/yNem96kn2gvQ1/OYVaCSzLAo5Uj9GQfFEtUsGSVs1ailtLnMnER7BGc0JGf3v9tzqjtmgyhq8GK5CoIGc96HMoXqkLa0NumfJfNZ/5FbyevncANALyxI2HZQnSynWLRQ20TohPas4NC9jJ6AaGg1wAw3zTuL12n3TFc930EDQz9B00y3VZthg3BbhqOYW7I724AF8DqgfrCvCMIk5nj+nQlxEPD+8Ofk0lS2UKQInHx+fGZIUEhD9DagGLf0v9YHnzN2i3JrTQcsQzt7OT9KA3jnk7uYa8XT46/eI+qcCnQPZ/2QEGgpYC2IQ2RHwC6EMuw4CCYn+hfZ48RHth+su6hLlp+Ts6dXpuOpH7pXvUfJS+UgEMBY9LBs/VkpMU/dbklxXYLJeJUTjLBIqiyEuEuEIMPqX6zTlrt/3ziW416+IpuCSE48BnYugzaR1t3LJjNp18TIEcgm5ESUgXSYXKDwxkTiROHI7PT/SPRI71TQgJ2QYRAfK9UTqj9tKyhjDisVKxm/BEcMbzgvRT8+P2G3gK+PJ7X39dglZFrwpzjkkQIhIXFFnUK9LAUaxO/4w5Sq7IywYug7ACFgBsfgr9EjyOev44v/frN2q2enagdy44KLnludK8YABAQA+/78LeAqdAsUIYw31BKb9gAENBWz/LvzX+e/v5OxW7PXjv+G04n/cStxl5wntNO/499b8Y/mb/ucMCA6OCngQQBUvFkEc4h6RGJcZrCV+LsE2A0KIQVA5ZjIyOOI6aCHnBa/+wPoV87Dx6ONW1ZnYD95L1a7Ae8B6wuez1K1uvVLM69Dz23fnu/RcA28QYRKzDnYQRRNUGj0gtiKLIzslJySQIHMcUhMUBGPz+eVI3rjfpdwG1WbUuNtf5TXnVeY36jTsmurS8kL8RQE/DDAZviKhJpArRjXLOJMvWiWqItQicR4YFH4MYQoyB+wBMv4T+8P2gPCo7BHvXPRp9134i/ysAIUC8gbuBmP9J/yxAYr9Pfna+DH21fap+mz1GO3t77/z4ed43RXmsOg54YHlTuxP55Lo5vVp+c72L/spAMQBSgeGDrEPfBCCFPgVRhVEGCYYrBHbDKcMRA2XB/oATAFT/xL/QAt1GBEkmy05LTop0icUK+YqsBnnBOf9nv5tBO4FmfaC6tfqLOpF4HDOjMFWv8S63LV7wjLUldoy3q7nSPPZ+EX9IAS/Alv/jAtjF40YMx8GJZ8hKhoyFH8Qagmp/G7xjehy45HnJe3f6YXisOMT637r7Oad6RnwAPHE9BoD+g4lEqkXnh+AJJQjyiBSIxgiYByyGmsdhB9gHvMZRRjXFSQP6QmRAqL6iPQg7tLv3vdJ+nr8LQGPAoAC+gDD/oL8J/TH693wvPjZ+J75Ufuz/7gDQQHJ+wT6afZP8U7w+fIi+Nn46/Yf93z5ZPvN99HzVvRo8sbxlfpnA0IIrw2FEcAVHBgeFtYUKhL3C4ELcA0RDpMQrxN+E6ESuhEkD5cJbgJbAMUBmQWRDTcXfxyQHuodrRndF44VCAp+++T0XPSP9rv3NPIO7MHmHuOH3bnTZcoNxb/BysMbzC/UeNwy4e/jyeme8Lz0jfVO9VD4yv9bCXQTGxzvH/0efRs/GU4WDRCdCBEDeP6M/pcCjQSoAsX/IPxx+Er0re6t7GrtD/De9Uj+iAXnCxQS+hQOFL4RvBCFEcARcBKPFJ8YoRzRHOUXXRT9DhkGJQA8+2H23POk81D2wvsbAmYGKgRFAn7/gfZ89cv0buyM8ZX3vPXB/pcERfwg/A/+jfiV9M/y9fRR9Nfy2/sWAW/+9gBhAEv42PYb+YD4B/mY+uT/tgWaCk0QLxLMDwwPUA6LDVYO4Az/DEURqRGIEkgUQxCfDCUJeAJp/g39zPtJ/+8G+A+RGH8btRkNFKEOwA70CsUClvxf+M74vf+MAYH6WfBO52Lift2k1hPRMM3xyzHRn9pn4hjmPeUX5TbnO+uR8cn1tvhr/7IIshATGAQc/RxfHNUXPBRxFAsTHRCnDnAN3AsvCt4IDQVO/fP2hPHR7Art3+/J8Qjy4PPH98H7fP8mAUUB/QLgBXMKCBC0EpsUbRc2GOYZzhsfGdcTcxBuDTMLaQp3B9oDlgGb/hD7pfm99yD1XPbi+GL7Mf0c/HP4IfUQ9vD3Ivjx97D18vVc+8X/pwGqAEn8Rfpa+lr5DPoX+qL4HvpK/Nv9sf/4/8n93vpR+rf8hv9qAQQCIgNxBx0LZQzvDPEKxAiSCK8ISQmPCaMIRghZCL4HXgeUBj0DIAFJAM39Tvy7+8T6a/nP+En5afiI+Ff5a/kn+Rb6Wf01/zYAHwJwAgMDJwTlA0QDewIiAcIA+QDlAJ8A4f83/8T9LvzZ+rf4CPcx9jD18fPB8xP0nfTT9Z31IfUk9c70vPTo9GX1YvYU+Nf5nvvN/Hf9+/5RAC0B8gHvAawCjAPwBJQHTQmZCm8LJgsQC/UKkAqTCe4IwAjsCLsJaQqGClgK/wnaCJoHMwaNBAoE3gN1A0ID9gKAAmUC6wFhAJP+O/1A/H37uPvK+3j7Z/tB+4/7PfsB++r6wvk6+YX4/feu+Jn4p/hY+Kf3gPhT+Q76Bvuo+x/8rfx0/VH+Cv9F/37/CQCQANEBdwNhA1wDSAT+BCQGjgYoBgwGFwZcBusGWQfSB+0InAoUDOUMlwxuC5QKUwq0CnoKFQkmCPkHngfTBxwIJQZgA0gAm/yk+hz5r/ZN9BXywPCS8DrwKe+a7bTqKega53zmteaC5zToXenA6zPvVPJ39FD1v/WD98P6Y/6wAREEtQVaCPwLMg+MEG0QrA8iD6oQYRLWEmESgRHVEL0QqRDoDvALPwlhBxkHRgdoBq8EDwL+//v+2f3f/AL7+vjH+PT5Q/vG+8D7NvvM+oD7FPxe/LL8mPxK/Vv/VQGlAr0C5QEYAWoB2wGaAUEBvAC3ANwBQwS8Bq4HUgZdAo/9Ifok+fT5DfrA93f1DPU793f6w/kG9VnwL++o8jz4sPvj+/f6HfxkAGkE3AXzA9IA9QDuBZMLxQ7zDdYKwgnqCkwN2g0ACwMHUgWGBtYJuwu3CKkEAALEAXkDbwPIAH/+iP3s/a3/5v8W/1L+nfxn+6H7hvzC/JT8zPuY+338xf26/nj+5/2v/dL9gv6v/3v/uv7E/SL93v3z/hT/5/1r/Ez7Cvxp/az+nP5G/Zb83/y9/aX+l/7b/RT+P/+jAIcBGAF1AJkAdQATAY0BFgEvADT/av5e/lD+Fv0q/Ej7Hvux++76lflu+QP56PjH+Zj5F/nE+ST6E/ug/Ez9w/6WAHACNwTcBaQGxAcLCWAJSgpuCgkKcQpQCvQJwgnZCPEH7AfdBwoG9AOAAr4BBAIfAnAA0v56/3kDhgpEEdoTphE2DqQLpwyEDz0Qkw0wCUQHZAm4CsoGe/2T8oztyu097i3rj+UK4UngoOFB4Zng8N+n31bi1+Yu66rv4PJr9S73Wvr//+QF3wqPDFwLUwq/DN8PTBETEFAMIwmYCFcJlQlrBygC6vyF+bT5Hvsj+jf3zfM39FP3x/mi+637Nvug/JQA2wSMCDsLMA2HDqcRohXNGLUZJBiAFwsWdhYVF24V7xESDfIJMwiVBtADGf/a+Wn2APWI83rxRfBh7yDugO2k7Vbuvu8L8WXyIfV190D6Dv2F/uYA+gMeBX0FKgeVB2sIIwjxB6QHJwUCBisHrgetCVoKnwZRAP35LfMp9I73Z/Vd8o3vZO6w8Qr0vvC+7ZnutvXM+Xf68P16/vX9yQHrA94D6AY/CbwJewkKCXQJfwl7Bh8FsQMOAvsE+QeOCNQGvAIXAaAC9AHdAUwCGwCsAKAC7AHxAYMB5v+7AKcCbgReBaYCYgDCASwEcgWJAmr/OwCoAq8CvADP/xT/zf+X/yP/5P7q/QP+5v3Q+2X77Psb+lP6PPvw+tL6+/o0/FH8O/nR+Iv8g/4O/Zz7dPrZ/FwAXQDp/iP99fyG/Wf87/tF/j3/q/4t/qr+aP/H/yv/kf7l/eH90P8qAVoBTgDE/rv+IACnAKwAUgCG/3T/gP9Z/0f/Wf+l/0f/5P6Y/0r/v/07/tz/2gAhAXAAQ//I/30BhwP5BOcEKQY7CPIJXQrMCVEJawnbCj4MqQzsC4IL7wluBycH/gX1A7oEjwc5DCIU+hkTGKAOwwVdBkUNNBISEVoI6v+g/sT9gfe075Pskeuo6eDlReIZ31Lb2djx19jazeEl6A3qcOlO6VTsGvSq/eIEkgbFBcQIUQ+8E/4S/Q/mDngRvRPDEhgQfwynBncAjP0M/iv/of6f+kX0+fEV9A728/Vc9av2ZPr+/xMENwX3BAsGewkrDjUTdRXRFAwT6hH1EckSXhMgEtIO2gofCP4FegNSAH/8Rfl595H2W/V78obvzO6U70TwjfEi9Mv2C/kz+4r84v7SASwEYAZGCaELRAzTDDMLHgknCL4InAnvB+EEAAJD/4b9Hf1z+uj38/c5+Nj3sPZf9eT04PWr97j6gv3A/ir/Cv9DAOgC2wSbBQ8HdQgjCToJZgi+ByAHTQbiBM4C/wCd/4/9vvq9+Cf4jPe89evzDvTD9FT0cPS39D71x/cY+3n9Bv4r/2QBhwM6BMgE3wabCMkKgQusCZMI8QoZDqMQdBEHDrkHCQRxA4sG4QcK/n7z5vVD/JT2afEq8BzsRe3q9c/01+qW8KX5PfT88CT8oQKh/XP9ZwHGANcBfwhdCoEExgVGCwsJywadCcwJzgU1B3UJSga1Av0DbQX3AkgDagQBA8QC9wGS/mP/+gTlBpQEEwLXAZQELgboBQMF4wIVAwkEuQFy/wIBRgFD/Rb76fzB/n77sfcq9on1Evdx+fr5aPeX9fX2OPmA+B/4QPpb+q76Q/0j//7+Jv0Y/dEAzwMeAwgDVAPoAeIBbANsBE4DzQGhASsB3P+n/rj9G/3p/Hr7kPmA+c35pPl7+Uz6Cvti+2f8u/10/n//EwFRAlYELgXMBCIFKwaUBjcHLAiBCJ8HDge8CNYJkgk2CksJqgZ1Bo4GXQa6B5cHUQQHA2wEAgbcBuwEsQEzAmsIJxABE1QSTRA4C/YFeQkPE/ATOQ2vBjECR/0f++T5PPUX8lXwc+ss5EPikuK83l7cXeDU5MvjiOLZ41/kluac7YL2ofuG/c79Ef6PAowKGhAqEN0PEBJWExIRhw+OEA4P2gq3B4QGTQYnA+z86PfB9SL3evl++In0BvPM81L0tffZ/DQASwE4AkwF6AinCxMPSBJEE5UUrBayF8IW9RQSFOQS3BE3ETwPjwonBbYCQgE7/mX7OvpL+O30vPIf8lTyefL18oHzKfRS9Yz2z/c2+cn7ff5KAI8BeQIcA2UDVgOsA8IEDgUoBaYEQgPWAb7/o/4E/s/8QPxr+4T5E/i99/r3nvj8+Cn5Wvmq+Yz60fsZ/Tn+r/9FAU8COAMDBE8EKAVrBnAG3gWgBZcEIgPeArICdAHg/3X+Mv04/Mb7KftF+uT5vvm8+WL6w/rY+n77SvxB/SP+Nf9dACoBcQJ5AxwE7QSxBV4GzAZ4B6UH4AaFBv0FOAU2BQ0FUQTRAtIAwP9q/yT/u/4W/lD9ifzE+xv8J/15/ar97f3N/Sz+4P5A/xoA/QCxAR4CJQIFAqwB9QEQApEC7wJfAt0BDQFyABoA6P+I/3H/f/+Y/gz+uf2y/MP8BP0E/eD8Mf1W/br9Kv6T/gr/Av/A/9oA1gAlAaEBsQGhAdkBugHRAQICHQFNAIv/YP8Q/9j9Z/3W/H392/3L/Jj84fzD/WQAhwMPB6oHawICAPQATAE3CuIMTAHR+8P/xP50/G4Cp/u79BT8+/w69K/0Oftg95f06/qu/Cn5wPjL+yD75fzXBQQIJwKX/6wCRQXrBlQKSQukB3sGMQhzB14FZwZFB3kH3AawBHkDRwIrAc0BkQMfA7kDSgOo/h/+SQHlAy0FzAScAnYBQQGlAagEYwVQBD4DuwDf/rgA6AEz/sz9Tv/q/Lv6VftC+8v37vg//IL5R/gf+8H5wPVe+fv8R/oR+7H8U/rK+KL7MP1/+xj8Ivw9+hj6QPu2+rH5avpu+q35o/mT+X355flJ+h36+/oc/JT77fpC/Kf+/v4y/6UARgHbAGECyQSwBBUFOQaNBuQGhQdYBywHdwiaCDcIeAhCCL4HvAfbB84Hmwi8BxIHBwcoBhIHowYVBc4EDwboBYYDcgOAA4MD+wJ5AnsDBALDAFYBQQHx/sj/KgQYAYz8o/1U/or8dP0fAHH8bflN+9b6hfiR+Hv6UPiC9jX5QPm69iT2/fcV+B34wfvq/PP6jPqF/Jf+wv+4AYQCJgE3AU8DrAMkA8kC8AFNApsAkf7I/vf9K/y2+Wf5JflW97n29fTZ9CH2Rfbu9pv2ufZG+BP6kfvR/AH/uQCDAW8DNgX3BQUIygkOCk4K7Ao4C+UKXwuBC1gLPQs1CjAJIgjZByAHOAacBioGBAXbAxcD/gLgA60DqAK3A+sDowLqAXAC2wJ/A78E+QIxApQErwWfA8wA1gGkA78E0gQ/ATP+8P2C/ij9yfv8+yr58vXP9Jnzt/JE8iry3+/w7fvuB+8e72HvLu/K70Hxf/Sr9QX0f/Vx+R37LPsS/XT/qgCxAf4CRAOQA9MFZga+BI8E/AWBBpQFEQRWA0kDsgLXAdgAlQAXAZIBwwBY//3/gAADAfsBygFsAjQExgePCa4JAwdyBE0FugTwC1QOgAVsAMf/MgIWApsDrf9x+Cf8Wfxo+fD3Svlu+oT2ufmC+2X6avoQ+cX6Hfx7AeUDAwBZ/zj/JQIpBTMGhge9BBwDrQTpBfwEewTxBJ4D2QK1AZcBNgH6ADsAkf5NAIUAD/87/pL9dP9uAm4C/f+M/tz/XwKFAkoCBwL7AAwC6wCz/9EAZACc/zD9b/w5/B775/rd+Iz4dPgH+Az44PV/9f312Paa95b3s/jS98z45fqs+/n8b/2+/rX+SP+0AMUAhQLFAgUCtgG5AaECeAFnAZcB8ABVAQIAFP++/pn++P7L/qL/uP95/3r/dP/xACUC+wIbA28DUwSCBLQFPwbABdoFkAYXBykG2QXzBZsFsAUGBVMEYANmA20DCQLYAUEBswB7AL3/1/+e/8L/OACA/zv/0f/nAE4BBwHCAO4AdALhA+8EVARLASUB7/9T/1QFhwJH/rX9ZPuM/fX8ZP08+135TPzq+eP4sfhQ+kX7mfkI/Ab7Vvro+oL6yPxJ/ff+Pv8//S/9e/4LAM//iwD5AKr/YgBJAUoAO/8EAEQBjABeAIH/Zv6j/4wADgDR/9L/hf93AAoBBQHIAUABXwHRANz/uQPUAXcAWQJCAAsDpgE3AWcBbQAeBA4BOgH3Af8ALgMTAV0CpwIaAngCcwBzAn4BswEHA48B5gEiAA8B+gCEAIMCWQCbAeYBKwACAO7+AQK/AbQAZgDY/nwA7P4c/x8Akv86APb9T/3P/bX+Kv9t/Vv9K/1P/uf9SvzR/Jj8Bf4j/iP9kfyv+8D8pv1i/Tf9e/30/OL8Uf0M/Vj9Gv55/lr+k/7F/or+TP4q/6P/l/9bANf/pP8SAH0AzgDMAMAAPgDgAAUCpwEtAacBiAH8Ac8CIgPjAtACrQNnA3kEAwWjAzcE2QQ3BeIEbQR0BL0DfQReBOED/gPpAp0CSwKrAr0CbQEyAcAAxwBgAeEAaADG/wYAwADOAO8AHQAu/5z/3QBUAa0AeAAEAJj/OABDAKMAEwBt/7f/oP7j/tj+jf7q/i/+LP7I/dT95f3z/HH9l/3U/er9GP1x/fn8uv23/jn+Q/60/Sf+V/7W/mX/sP4q/+T+5P7f/uD+w//o/gP/Bf/d/i//xP5A/5z+6v5Y/4X+Nf8H/z3/Vv/o/gsA3v/j/97/rv+tAIYA7gDHAPMAYwFnAEQBkgHTAb4BswCYAXwByQG7AQwB3AF8Ab0BaQH0ALABMwG6Ac0BSwGlAQcBEQF9Ac4BnwGjAAgBagFQAfEAWQDWACcBBAGPABIAzf/q/1MACAAwANL/Sf9J/87+U/+P/3b/Rf+T/qX+r/4F/0r/G//2/q/+5P4p/yP/Bv8L/zr/XP+F/37/HP8M/3f/j/+i/1b/Lv+D/z3/Yv9Y/3X/6/9F/zr/qP+e/1T/Wf/l/4j/aP/Z/3v/Xv/P/+n/k/+X/zEADgCP/9D/NgCJAIAASAB/AL0AyAC9AA0BgQFaAdoA5ABiAZMBXQEJAQ0B/QD6AEIB5ACRAI4AfQDSAL0AWQACANL/TABTACwARADr/7j/6P8sAOb/vf8LAN//yv/D/9L/0P+0/9n/kv97/2X/O/9l/0r/jv9O/8X+FP8+/1v/Q/8N//z+Df9b/1H/Xv8+/xr/WP9x/53/cv9K/1P/aP/a/9T/l/9n/4b/+P/q/xAABACv/63/n/8SAE4AIQDz/6r/2f8VAFIAJQACAC4ALgBpACcALgBTACoAfwB7AHcAQAAWAFEAXgCfAGYATABFACwArgCZAIEAkQCAAJYAhwC0AI4AhwCgAIIArgB6AHIAlAB4AIIAeAB3AHUAeAB9AF0AYwBuAFgAXQBcAGMAWAAXABAAHAAlACsAEwDw/+r/2v/R//L/5P/j/9H/wP/A/8L/5P/Z/9b/tv+s/+D/1v+4/7b/zP/S/+T/4/+8/8D/wf+5/8z/zP/B/73/sf+y/7H/p/+n/5//pP+x/6D/jf+Q/6X/uP+8/8j/z//N/9f/6v/9/+7/7f8AABUAIgANAAsADgASACQAHAAYAA4AAwAYABcAHAAIAO3//P/9/wsAAQD1/+//5v/9/wYAEwAJAPn/AQAIABUAEAADAAwADgAJABsAIgApACYAGwAaABoAKwAnABIAEwAfABYAJAAkABMAKgAmADAAJgAYACQAEwAbABUAFgAfABUAHAAOAP///P/+/wkACwAGAAkAAwD//wsACQADAA4ACAD9//P/8P8BAPr/9//1//3/AwD1//r/8P///wgA/f8AAO//8P8AAPr/8v/6//n/6f/e/+D/4f/c/+n/4//a/9r/1//c/+T/3v/k//r/8v/u/+//+v8DAAEAEwARAA4AEAAQAA0AEAAfABsAEgAJAAsAFQAQABIAEwATAB8AEwASAAwABgAYABAAEQAHAAMACwABAA0ADgASAA4ACQANABAADQALABEAAwACAAYABAAGAAQABAD+/wAA9P/p/+7/6P/j/+P/6P/j/+D/5f/h/+b/6f/l/+D/2//h/9r/4P/p/9z/7v/q/+T/6f/g/+n/5v/m/+r/4P/r/+P/4P/w/+P/7f/y/+j/7//q/+7/8P/3//3//f8BAAMAAgAHABMAEgAfACUAHQAlACIAJQApACoAJwAkACAAJQArACkAJgAgACQAJAAhACAAGgAaABoAFgARABsAGAAQABcAEwAQAAwAEAANABEAGwATABgAEQANABYAGAAQAAsADQAHAP3/+P/3//L/9P/w/+r/6f/k/+b/5f/h/+D/4P/a/9r/1//X/+D/2v/f/9z/3//p/+n/7//u//T/9f/w//f//f/+//3//f/8////+v/6//z/+P/1//n/+v/5//z//f8AAP3/BgALAAMABAADAAgADAANABAADgANABAADgAOABAAEQASABAAEAAOAA0ACQAOABAADAANAAcACQAGAA4AEAAIAA4ABgAIAAkABwAGAAQAAwD+/wYAAgAAAP///P8AAP//+v/4//3/+v/4//z/8P/w//j/8P/z//P/7v/z//D/8P/t/+7/9f/w/+7/8P/t/+7/7//r/+//8//w/+3/7//w//D/8//z//j/+f/8//3//f/8//r/AwAAAAEAAgACAAYABgAIAAcACAAHAAcABAD//wQAAwAAAAYABgAJAAwACAAIAAgACQAMAAkACQAJAAgADgALAAkADAANAAwACwALAAMAAgAAAAIAAAABAP3/8//5//D/8//y/+//9//u//X/+P/0//z/AAACAP7/AgAHAAMABgAIAA4ACQAIAA4ADQAVABMAFQAOAA4ADgAIABYABgAGAAsABgAHAPr/AwAHAAIABgAGAAMACAAGAAIABgACAAwAEQAJAAgACwAHAAwADQD//wEAAQAAAP3/AAAAAPf/+f/z//D/9P/u/+r/7//q/+j/7v/t/+3/8v/z//T/9P/w//L/9P/0//L/8//3//X/9f/1//X/9//1//f/9f/1//z/+f/3//r/9P/1//f/+P/0//L/9P/z//T/+f/5//j/9//4//7/AQD//wEABgAEAAcACAACAAMADAALAAMACwAIAAYACwAJAAsABgAIAAkACQAHAAYACQAIAAkACQAHAAQACQAHAAQACQAGAAIAAwAGAAQABAAIAAYAAQACAAMAAgD///7/AQD9//r////8//n//P/9//r//f8AAP7//f/+//7//////wEAAQD//wEABAAEAAAAAQAEAAQAAgAEAAMAAQACAAMAAwABAAMAAQABAAIAAQAAAAEABAADAAQABAACAAMAAwAIAAcACQAIAAcABwAHAAsACQALAAMAAgAJAAgABgAHAAYABAAEAAQAAwAEAAYAAwACAAQAAgAHAAcAAQADAAEAAgABAP7/AQABAP///v/+////+v/z//X/+P/y//L/9P/w//D/8v/z//P/9P/z//P/8v/w//P/9f/0//f/9f/v/+//7v/y//L/8v/0/+7/8//5//P/9//6//f/+P/5//r//f8AAP3//v8AAAMABwAGAAcACwAJAAwADQAQABAADgATAA4ADQARABIADQANABAADQAMAAwADAAMAAwACAAIAAsACQAHAAYACAAIAAgACAAGAAgABwAGAAcACwABAAEAAwD//wIAAwABAP3/AAD+//7///8AAP////8BAP3//f////7///////3/+v/+//3//P8AAP7//v/+//z///////z/AAABAP7///8AAAMAAAACAAEAAgAEAAEABAAEAAYAAwAGAAkABwAJAAgADAAMAA0AEAASAAwACwARAAwACAAJAAgABgAHAAMAAwADAAAAAwAAAAAAAAD+//7//P/+//n/+P/9//r/9f/5//r/9f/1//j/+P/1//f/+P/3//X/9//1//X/9P/y//T/9//v//P/9P/0//r/+P/4//n/+v/3//n//v/8//z//P/6//r//f/9//z//f/9/wAA///+/wAAAQAAAAIAAwAAAAIABAAEAAIAAwAIAAYABgAJAAcACAALAAsADAANAAwACwANAAwACQALAAwADAAJAAkACAAHAAcABgAIAAgACQAIAAcABwAHAAcACAAHAAgACAAHAAEABgALAAQAAQADAAEA//8DAAMAAgACAAIAAwADAAAA/v//////AAD9//z//P/9//z/+f/6//n//P/+//n/+P/8//n/+f/8//z/+v/5//r/+v/6//3//v/8//7//v/8//7////+//7//v/+//3//P8AAP7//f8AAP//AAD//wAAAAAAAAAAAAACAP//AAABAAAA//8AAAAAAAACAAMAAAABAAAAAQACAAAAAAAAAP///v/9//3//f/8//r//f/6//z//P/8/wAA/f/8//7//v/9////AQAAAAIAAQD//wEAAQACAP7///8CAAEAAAAAAAMAAgABAAQABgADAAMABgAEAAMABAAGAAQABAADAAYABAADAAcABgAIAAYABgAHAAMACAAHAAgABwAHAAwABAADAAIABgAEAP7/AQAAAAAAAAABAAIA/v8CAAMAAgACAAEAAwAEAAIAAQACAAQAAQACAAIAAQACAAAAAgD/////AQD//wEA//8AAAEAAAD//wAAAAAAAAEAAAD///////8AAAEAAAABAAEA///+////AAAAAP//AAD//wEAAAD//wEAAQAAAP//AQACAP////8CAAIAAAACAAMAAQABAAAAAgACAAIAAgABAAIAAQACAAEAAQACAAEAAQACAAIAAQABAAEAAQAAAAAAAAD//wAAAQD+/wAAAgD+/wAAAAAAAAAA//8BAAEA/////wAAAAABAAIAAQAAAAAAAAD//wEA/////wAAAAAAAAAAAAAAAAIAAAAAAAEAAAAAAAAAAAACAAEAAQACAAAAAAAAAP7/AAABAAAAAQACAP//AAABAP//AAACAAAA/v8AAP/////+////AAD///3//v////3//v/+//7///////7//v////7//v///////v//////AAD+////AAD9/////v/+//7//v///wAAAAD/////AAAAAAAA//8AAP//AAD/////AAD//wEAAAAAAAAAAAAAAP//AgAAAAAAAQABAAIAAQADAAMAAgACAAIAAwAAAP//AQAAAP//AAABAAAAAQABAAEAAQABAAEAAAACAAEAAQAAAAEAAQAAAAEA//8BAAEA////////AAD//wAA/////////v8AAP/////////////+//7//v////7//v///wAA/////wAAAAD//wAAAAABAAAAAgABAAEAAgAAAAEAAQABAAEAAQACAAEAAgACAAEAAQACAAIAAAAAAAEAAgABAAAAAwABAAEAAgACAAEAAAAAAP//AQD//wAAAAAAAAIA/v//////AAD/////AAD///////8AAP//AAABAP///////wAA/v/+/wAA/v/+/wAA/////wAAAAD//wAAAAAAAAAAAAAAAAAAAAAAAAEA//8AAAAA///+///////9//7////+//7///8AAAAAAQABAAAAAAABAP////8AAP///v///wAA/////wEAAAABAAEAAAABAAAAAAACAAEAAQACAAEAAQABAAAAAgAAAP//AAAAAP//AQABAAEAAQABAAIAAQACAAMAAgADAAIAAQABAAIAAAABAAAAAQABAP7//////wAA/v/+///////9//7//v///////v////7//f////7//v/+//7//v////7//v////7//v8AAAAA//8AAP////8AAAAAAAABAP//AAABAAAAAAABAAEAAQAAAAAAAQAAAAAAAQABAAEAAQACAAIAAQACAAIAAAABAAEAAQACAAAAAAAAAAAAAAAAAAAAAAD/////AAD+//////////////8AAP7///8AAP///////////v/9/wAA///9///////9/wAA/v8AAAAA//8AAP////8AAP7/AAABAP//AgABAAAAAQABAAEAAQABAAEAAgABAAIAAQADAAIAAQACAAIAAQABAAIAAgACAAEAAQABAAAAAQAAAAAAAAD//wEAAQAAAAEAAQACAAAAAAABAP//AAAAAP//AQAAAP//AQD//wAA/////////v/+/wAA/////wAA//////////////7///////7///////7/AAD/////AQD//wAAAAD//wAAAAAAAAAAAAD//wAAAAAAAAAAAAD/////AAD+////AAD+/////////wAA//8BAAEAAQAAAAEAAAABAAAAAQACAP//AAAAAP////8AAAIAAQAAAAEAAAAAAAEAAAAAAAAAAAABAAAAAAAAAAAAAgAAAAAAAgABAP//AQACAAEAAAD//wEAAAD//wAAAQABAAAA/v8AAAEA//8BAAAAAAAAAAAAAQAAAAAAAQAAAAAAAAABAAEAAAACAAEAAAADAP////8BAP//AgD//wAAAgD///7/AQAAAP//AAAAAAAA/v8CAAEAAAACAAAAAQABAP//AAAAAAAA//8AAP//AAAAAP//AQD//wAAAAD+/////v////7///////////8AAP7///8AAP7/AAAAAAAAAQD//wEAAQAAAAAAAAAAAAAAAAACAP////8AAP7/AAAAAP////////3///8AAP////8AAAAA/v///wEAAQAAAAAAAAABAAAAAAAAAAEAAQABAP//AAABAP//AQD///////8AAP///f8AAAAA////////AAAAAP7///8DAAEAAQACAAEAAQAAAAMAAQABAAIAAQAAAAEAAgACAAEAAQABAAAAAQABAAEAAQABAAAA//8BAAAAAQABAAEAAQABAAEAAAABAAEAAAABAAEA//8BAAAA//8AAAAAAQABAP////8AAAAA//8AAAAA/v///wEA/v///wAA////////AQABAAAAAQAAAAEAAAAAAAEAAAAAAP//AAAAAAAA//8AAP//////////AAD+/wAAAAAAAP7///8AAP///////wAA/////wAA//8AAP////8AAAEA/////wAA//8AAP//AAAAAP//AAD//wAAAAD//wEA///+/wEAAQABAAAAAQABAP//AAAAAAEAAQD//wAAAQAAAAAAAAAAAP//AQABAAAA//8AAAAAAAABAP//AQAAAP//AAAAAAAA//8AAP////8AAAEAAAAAAAIAAAD//wEAAQD+/wIAAQD+/wAAAAAAAP7/AAD/////AAAAAP//AAD//wAAAAAAAAAAAAACAAEAAAAAAAEAAQAAAAEAAQD//wEAAQABAAAAAQABAAEAAQABAAMAAwAAAP//AgADAP7/AAABAP//AAABAAAA//8AAAAAAAD//wAAAAD//////////wAAAAD+////AQD///7//v////////8BAP7///8AAAAA/v/+/wEA///+/wAAAAD+////AAD///7/AAAAAP3///8BAP//AAAAAP////8BAAAA//8AAP////8AAAAA//8BAAEAAAAAAAEAAQAAAAEAAAAAAAAAAgAAAAAAAQAAAAEAAQAAAAAAAQAAAAEAAAD//wEAAQAAAP//AQAAAAAAAAD+/wAAAQD/////AAABAP//AAABAP7///8BAAEA/v8BAAAAAQAAAAAAAQAAAAEAAQAAAAAAAwABAP7/AQACAP//AQACAP//AAADAP7///8CAAAAAAABAAAA/v8BAAAA//8AAAEAAQD+////AgD///7/AAAAAAAAAAABAAAA//8BAAAA//8BAAAAAQAAAAAA//8AAAAA//8AAAEA////////AAABAP7//v8AAAAA//8AAP////8BAAAA/f8AAAEA//8AAP//AQAAAAAA//8AAAAAAQABAAAAAAAAAAAA////////AAD///7/AAAAAAAA//8AAAAA//8BAAEA////////AAD///7///////7//v8AAP///////wAAAAAAAAAAAQACAAAA//8DAAIAAAACAAIAAwAAAAEAAQACAAIAAQADAAIAAQABAAQAAgAAAAIAAgABAAAAAgABAAAAAAD//wAAAAAAAP////8BAP///v8AAAAA/////wAA///+////AAD+//7////+//7//v8AAP7//v8AAP////8AAAAA/v///wAA/v/+/wEAAAD//wAAAAAAAAAAAQABAAAAAAAAAAEAAAABAAIAAAAAAAAA//8BAAAA/v8BAAAAAAD//wAAAAD//wAA/////wAAAAAAAAAA//8AAAEAAAAAAP//AAAAAAAAAAD//wAAAAABAP//AAACAAEA//8AAAAAAQAAAAAAAAD//wEAAQABAAAAAAABAP////8AAAAA/////wAA/v8BAAAA//8AAAAAAAAAAAAA//8BAAEA/////wEAAQAAAAEA//8AAAEAAAD//wAAAAAAAAAAAAD//wAAAQD+/wEAAQAAAP//AQAAAAAAAAAAAAAAAAABAP//AQAAAAAAAQAAAP//AQABAAEA//8BAAAAAAAAAP//AAD//wAA/////wAAAAD//wAAAQD//wAAAAAAAP//AAABAP//AAAAAAEAAAAAAAAAAAAAAAAAAAAAAAAAAAAAAAEAAQD//wAAAQABAP//AAABAP//AQABAAAA//8AAAAAAAAAAAAAAAAAAAEA/////wEAAAD/////AAD///7//////wAA//8AAP7//v8AAAAAAAD//wAAAAABAAAA//8BAAAAAAAAAAAAAQAAAAEAAAABAAEAAAABAAAAAQABAAEAAAABAAEAAQAAAAAAAQAAAAEAAAAAAAAAAAAAAAAAAAABAAAAAAAAAAAAAAAAAAEAAAAAAAAAAAAAAP//AQAAAP//AAABAAAA//8AAAEAAAAAAAAAAAAAAAIAAQAAAAEAAAAAAAAAAAAAAP//AAD/////AAD/////AAD/////////////////////////////AAD///////8AAAAAAAABAAEAAQABAAAAAQD//wAAAQAAAAAA//8CAP//AAAAAAAAAAD//wAA//8AAAAA////////AAAAAP///////wAA///+////AAD+////AAAAAAAAAAAAAAEAAQABAAEAAQABAAEAAQABAAEAAQABAAEAAAAAAAEAAAAAAAAAAAAAAAAA//8AAAAAAAAAAP//AAD//wAAAAD+///////+//////8AAP////8AAAAAAQAAAAAAAAAAAAEAAAAAAAAAAAABAAEAAAAAAAEAAQAAAAEAAAAAAAEAAAAAAAAAAQABAAAAAAAAAAEAAAD//wAAAAAAAAAA//8AAAAAAAAAAAAAAAAAAAAAAAAAAAAAAAAAAAAAAAAAAAAAAAAAAAEAAAD/////AAAAAAAAAAAAAAAAAAABAAAA//8AAAAAAAAAAAAA//8AAP////8AAAAAAAAAAAAA//8AAAAA//8AAAAAAQAAAAEAAQAAAAEAAQABAAAAAAAAAP//AAAAAAAAAAAAAAAA//8AAAAA////////AAD///7///////////8AAP///////wAA//8AAAAAAAAAAAAAAQAAAAAAAQABAAEAAQABAAAAAAABAAEAAAAAAAEAAQABAAEAAAAAAAAAAQABAAAAAQAAAAEAAAAAAAAA//8AAAAA/////wAAAAAAAAAAAAABAAAAAAAAAAAAAAAAAAAAAAAAAAEAAQABAP//AAAAAAEAAAAAAAAAAAAAAAAAAAD//wEAAQABAAIAAQAAAAAAAAAAAAAAAAAAAAAAAAAAAAAAAAABAAAA/////////////wAA//8AAAAA////////AAAAAP/////+////AAD//wAA//8AAAEAAAD/////AAAAAAAAAAD/////AAABAAAAAAAAAAAAAAAAAAAAAAD//wEAAAAAAAAAAAABAAEAAAAAAAAAAAAAAP//AAABAAAAAAAAAAAAAAD//////////////////wAAAAD//wEAAQAAAAAAAQAAAAAAAAAAAAEAAAAAAAAAAAAAAAEAAAABAAEAAAABAP//AAAAAAAAAAAAAAAAAAAAAAAAAAAAAAAAAAAAAAAAAAAAAAAAAQAAAAEAAQABAAEA//8AAAAA//8AAAAAAAAAAP//AAAAAAAAAAAAAAAAAAAAAAAA/////wAAAAAAAAAAAAAAAAAAAAAAAAAAAAAAAP//AAAAAAAAAAAAAAEAAAAAAP///v///wAAAAAAAAAAAAAAAAAAAAAAAAAAAAAAAAAAAAAAAP//AAAAAAAAAAAAAAAAAAAAAAAAAAAAAAAAAAAAAAAAAAAAAAEAAAAAAAAA//8AAAAA//8AAAAAAAAAAAAAAAAAAAAAAAD//////////wAAAAABAAAAAQABAAAAAAAAAAAAAAAAAAAAAAAAAAEAAAAAAAEAAQD//wAAAAAAAAAAAAAAAP//AAAAAAAAAAAAAAAAAAD//wAA//8AAAAA//8BAAAAAQABAAEAAgAAAAEAAAAAAAEAAAAAAAAAAAABAAAAAAABAAAAAAAAAAAAAAAAAP7///8AAAAAAAD//wAAAAD//wAA//8AAP///////wAAAQAAAAEAAQABAAEAAAAAAAAAAAAAAAAAAAABAAAAAQABAAAAAAD//wAA/////wAA/////wAA//8AAAAAAAABAAEAAQAAAAAAAAAAAP//AAAAAAAAAAAAAAAAAAAAAAAAAAAAAAAAAAAAAP//AAAAAAAAAAAAAAAAAAAAAAAA//8AAAAAAAAAAAAAAAAAAAEAAQAAAAAAAAAAAP//AAAAAAAAAAAAAAAAAAD//wAAAAAAAAAAAAAAAAAAAAD//wAAAAAAAAAAAAAAAAAAAAAAAAAAAAAAAAEAAAAAAAEAAQABAAAAAAAAAAAAAAAAAAEAAAAAAAAAAAAAAAAAAAAAAP//AAAAAAAAAAAAAP////8AAP///////wAAAAAAAAAA//8AAAAAAAAAAAAAAAAAAAAAAAAAAAAAAAAAAAAAAAAAAAAAAAAAAAAAAAAAAAAAAAD//wAAAAAAAAEA//8BAAAA//////7////+/wAAAAAAAAAAAQAAAAAAAAAAAAAA//8BAAEAAgACAAIAAgACAAEAAQAAAAEAAAAAAAAAAQABAAAAAQAAAAEAAAAAAAEA//8AAAAA//8AAAAAAAAAAAAAAAAAAAEAAQABAAAAAAAAAP////8AAAAAAAAAAAAAAAAAAP//////////AAD/////AAD//wAAAAAAAAAA//8AAAAA//8AAAAAAAAAAAAAAAD//wAAAAD//wAAAAAAAAAAAAD///7/////////AAAAAAAAAAAAAAAAAAAAAAAAAAAAAAAAAAAAAAAAAAABAAAAAAABAAAAAAAAAAAAAAAAAAAAAAAAAAAAAAAAAAAAAAAAAAAAAAD//wAAAAD//wAAAAAAAAAAAAAAAAAAAAD//wAA/////wAA//8AAP//AAAAAAAA//8AAAAAAAAAAAAAAAAAAAAAAAABAAEAAQABAAEAAQABAAAAAAAAAAAAAAAAAAAAAAAAAAAAAAAAAAAAAAD/////AAAAAAAAAAABAAAAAQAAAAAAAAAAAAEAAQABAAEAAQAAAAAAAAAAAAAAAAABAAEAAAAAAAAA//////////////////////////////////////////8AAAAAAAAAAAAAAAAAAAEAAAAAAAAAAAAAAAAAAAAAAAAAAAAAAAAA//8AAAAAAAAAAAAAAAAAAP///////wAAAAAAAAAAAAAAAAAAAAAAAAAAAAABAAAAAAAAAAAAAAAAAAAAAAAAAP//////////AAD/////AAD/////AAAAAAAAAAABAAEAAQABAAEAAQACAAEAAQABAAEAAQABAAEAAQAAAAAAAAAAAAAAAAAAAAAA//8AAAAAAAAAAAAAAAAAAAAAAAAAAAAAAAAAAAAAAAAAAAAAAAAAAAAAAAAAAAAAAAAAAAAAAAABAAAAAQAAAAEAAQABAAAAAAABAAAAAAAAAAAAAAD//wAAAAD//wAAAAD//wAA//8AAAAAAAAAAAAAAAAAAAAAAAAAAAAAAAAAAAAAAAAAAAAAAAAAAAAAAAAAAAAAAAAAAAAAAAAAAAAAAAAAAAAAAAAAAAAAAAAAAAAAAAAAAAAAAAAAAAAAAAAAAAAAAAAAAAAAAAAAAAAAAAAAAAAAAAAAAAAAAAAAAAAAAAAAAAAAAAAAAAAAAAAAAAAAAAAAAAAAAAAAAAAAAAAAAAAAAAAAAAAAAAAAAAAAAAAAAAAAAAAAAAAAAAAAAAAA//8AAAAA//8AAAAAAAAAAAAAAAAAAAAAAAAAAAAAAAAAAAAAAAAAAAAAAQABAAAAAQAAAAAAAQAAAAAAAAAAAAAAAAAAAAAAAAAAAAAAAAAAAAAAAAAAAAAAAAAAAAAAAAAAAAAAAAAAAAAAAAAAAAAA//8AAAAAAAAAAAAAAAAAAAAAAAAAAAAAAAAAAAAAAAAAAAAAAAAAAAAAAAAAAAAAAAAAAAAAAAAAAAAAAAAAAAAAAAAAAAAAAAAAAP//AAAAAP////8AAAAAAAAAAAAAAAAAAAAAAAAAAAAAAAAAAAAAAAAAAAAAAAAAAAAAAAAAAAAAAAAAAAAAAAAAAAAAAAAAAAAAAAAAAAAAAAAAAAAAAAAAAAAAAAAAAAAAAAAAAAAAAAAAAAAAAAAAAAAAAAAAAAAAAAAAAAAAAAAAAAAAAAAAAAAAAAD//wAAAAAAAAAAAAAAAAAAAAAAAAAAAAAAAAAAAAAAAAAAAAAAAAAAAAAAAAAAAAAAAAAAAAAAAAAAAAAAAAAAAAAAAAAAAAABAAAAAAAAAAAAAQAAAAEAAQAAAAEAAAAAAAAAAAAAAAAAAAAAAAAAAAAAAAAAAAAAAAAAAAAAAAAAAAD//wAAAAAAAAAA//8AAAAAAAD/////AAAAAP//AAAAAAAAAAAAAAAAAAAAAAAAAAAAAAAAAAAAAP//AAAAAAAAAAAAAAAAAAAAAAAAAAAAAAAAAAAAAAAAAAAAAAAAAAAAAAAAAAAAAAAAAAAAAAAAAAAAAAAAAAAAAAAAAQAAAAEAAQAAAAAAAAAAAAAAAAAAAAEAAAAAAAAAAAAAAAAAAAAAAAAAAAAAAAAAAAAAAAAAAAAAAAAAAAAAAAAAAAAAAAAAAAAAAAAAAAAAAAAAAAAAAAAAAAAAAAAAAAAAAAAAAAAAAAAAAAAAAAEAAAAAAAAAAAAAAP//AAAAAAAAAAAAAAAAAAAAAAAAAAAAAAAAAAAAAAAAAAAAAAAAAAAAAAAAAAAAAAAAAAAAAAAAAAAAAAAA//8AAAAAAAAAAAAAAAAAAAAAAAAAAAAAAAAAAAAAAAAAAAAAAAAAAAAAAAAAAAAAAAD//wAAAAAAAAAAAAAAAAAAAAABAAAAAAAAAAAAAAAAAAAAAAAAAAAAAAAAAAAAAAAAAAAAAAAAAAAA/////wAAAAD//wAAAAAAAAAAAAAAAAAAAAAAAAAAAAAAAAEAAAAAAAAAAAAAAAAAAAABAAAAAAABAAEAAQABAAAAAQABAAEAAAAAAAEAAAAAAAAAAAAAAAAAAAD//wAAAAD//wAAAAAAAP//AAD/////AAAAAAAAAAAAAAAAAAAAAAAAAAAAAAAAAAAAAAAAAAAAAAAAAAAAAAAAAAAAAAAAAAAAAAAAAAAAAAAAAAAAAAAAAAAAAAAAAAAAAAAAAAD//wAAAAAAAP//AAAAAAAAAAD//wAAAAAAAAAAAAAAAAAAAAAAAAAAAAAAAAEAAAAAAAAA//8AAAAAAAAAAAAAAAAAAAAAAAAAAAAAAAAAAAAAAAAAAAAAAAAAAAAAAAAAAAAAAAAAAAAAAAAAAAAAAAAAAAAAAAAAAAAAAAAAAAAAAAAAAAAAAAAAAAAAAAAAAAAAAAAAAAAAAQAAAAAAAQAAAAAAAQAAAAEAAQAAAAAAAAAAAAAAAAAAAAAAAAAAAAAAAAAAAAAAAAAAAAAAAAAAAAAAAAAAAAAAAAAAAAAAAAAAAAAAAAAAAAAAAAAAAAAAAAD/////AAAAAP//AAAAAAAAAAAAAAAAAAAAAAAAAAAAAAAAAAAAAAAAAAAAAAAAAAAAAAAAAAAAAAAA//8AAAAAAAAAAAAA//8AAAAAAAAAAAAAAAAAAAAAAAAAAAAAAAAAAAAAAAAAAAAAAAAAAAAAAAAAAAAAAAAAAAAAAAAAAAAAAAAAAAAAAAAAAAAAAAAAAAAAAAAAAAAAAAAAAAAAAAAAAAAAAAAAAAAAAAAAAAAAAAAAAAAAAAAAAAAAAAAAAAAAAAAAAAAAAAAAAAAAAAAAAAAAAAAAAAAAAQAAAAAAAQAAAAAAAQABAAEAAAABAAEAAAAAAAAAAQAAAAAAAQABAAAAAAAAAAAAAAAAAAAAAAD//wAA//////////8AAP//////////////////AAAAAP//AAAAAP//AAAAAAAAAAD/////AAAAAP//AAAAAAAAAAAAAAAAAAAAAAAAAAD//wAAAAAAAAAAAAAAAAAAAAAAAAAAAAAAAAAAAQAAAAAAAAAAAAAAAAAAAAAAAAAAAAAAAAAAAAAAAAAAAAAAAAAAAAAAAAAAAAAAAAAAAP//AAAAAAAAAAAAAAAAAAAAAAAAAAAAAAAAAAAAAAAAAAAAAAAAAAAAAAAAAAAAAAAAAAAAAAAAAAAAAAAAAAAAAAAAAAAAAAAAAAAAAAAAAAAAAAAAAAAAAAAAAAAAAAAAAAAAAAAAAAAAAAAAAAAAAAAAAAAAAAAAAAAAAAAAAAAAAAAAAAAAAAAAAAAAAAAAAAAAAAAAAAAAAAAAAAAAAAAAAAAAAAAAAAAAAAAAAAAAAAAAAAAAAAAAAAAAAAAAAAAAAAAAAAAAAAAAAAAAAAAAAAAAAAAAAAAAAAAAAAAAAAAAAAAAAAAAAAAAAAAAAAAAAAAAAAAAAAAAAAAAAAAAAAD//wAAAAD//wAAAAD//wAAAAAAAAAAAAAAAAAAAAAAAAAAAAAAAAAAAAAAAAAAAAAAAAAAAAAAAAAAAAAAAAAAAAABAAAAAAAAAAAAAQAAAAAAAAAAAAAAAAAAAAAAAAAAAAAAAAAAAAAAAAAAAAAAAAAAAAAAAAAAAAAAAAAAAAAAAAAAAAAAAAAAAAAAAAAAAAAAAAAAAAAAAAAAAAAAAAAAAAAAAAAAAAAAAAAAAAAAAAAAAAAAAAAAAAAAAAAAAAAAAAAAAAAAAAAAAAAAAAAAAAAAAAAAAAAAAAAAAAAAAAAAAAAAAAAAAAAAAAAAAAAAAAAAAAAAAAAAAAAAAAAAAAAAAAAAAAAAAQAAAAAAAAAAAAAAAAAAAAAAAAAAAAAAAAAAAAAAAAAAAAAAAAAAAAAAAAABAAAAAAAAAAAAAAAAAAAAAAAAAAAAAAAAAAAA//8AAAAAAAAAAAAAAAD//wAAAAAAAAAAAAAAAAAAAAAAAAAAAAAAAAAAAAAAAAAAAAAAAAAAAAAAAAAAAAAAAAAAAAAAAAAAAAAAAAAAAAAAAAAAAAAAAAAAAAAAAAAAAAAAAAAAAQABAAEAAAAAAAAAAAAAAAAAAAAAAAAAAAAAAAAAAAAAAAAAAAAAAAAAAAAAAAAAAAAAAAAAAAAAAAAAAAAAAAAAAAAAAAAAAAAAAAAAAAAAAP//AAAAAAAAAAAAAAAAAAAAAAAAAAAAAAAAAAAAAAAAAAAAAAAAAAAAAAAAAAAAAAAAAAAAAAAAAAAAAAAAAAAAAAAAAAAAAAAAAAAAAAAAAAAAAAAAAAAAAAAAAAAAAAAAAAAAAAAAAAAAAAAAAAAAAAAAAAAAAAAAAAAAAAAAAAAAAAAAAAAAAAAAAAAAAAAAAAAAAAAAAAAAAAAAAAAAAAAAAAAAAAAAAAAAAAAAAAAAAAAAAAAAAAAAAAAAAAAAAAAAAAAAAAAAAAAAAAAAAAAAAAAAAAAA//8AAAAAAAAAAAAAAAAAAAAAAAAAAAAAAAAAAAAAAAAAAAAAAAAAAAAAAAAAAAAAAAAAAAAAAAAAAAAAAAAAAAAAAAAAAAAAAAAAAAAAAAAAAAAAAAAAAAAAAAAAAAAAAAAAAAAAAAAAAAAAAAAAAAAAAAAAAAAAAAAAAAAAAAAAAAAAAAD//wAAAAD//wAAAAAAAAAAAAAAAAEAAAAAAAAAAAAAAAAAAAAAAAAAAAAAAAAAAAAAAAAAAAAAAAAAAAAAAAAAAAAAAAAAAAAAAAEAAAAAAAAAAAAAAAAAAQABAAEAAAAAAAAAAAABAAAAAQABAAAAAAAAAAAAAAD//wAAAAD//wAA//8AAAAAAAAAAAAA//8AAAAAAAAAAAAAAAAAAP//AAAAAAAAAAAAAAAAAAAAAAAAAAAAAAAAAAAAAAAAAAAAAAAAAAAAAAAAAAAAAAAAAAD//////v///wAA//8AAAAAAAAAAP//AAAAAAAAAAAAAAAAAAAAAAAAAAAAAAAAAAAAAAAAAAAAAAAAAAAAAAEAAAAAAAEAAAAAAAAAAAAAAAEAAQAAAAAAAAAAAAEAAAAAAAEAAAABAAEAAAABAAAAAAABAAAAAAAAAAAAAAAAAAAAAAAAAAAAAAAAAAAAAAAAAAAAAAAAAAEAAAAAAAAA//8AAAAAAAAAAAAAAAAAAAAAAAAAAAAAAAAAAAAAAAAAAAAAAAAAAAAAAAAAAAAAAAAAAAAAAAAAAAAAAAAAAAAAAAAAAAAAAAAAAAAAAAAAAAAAAAAAAAAAAAAAAAAAAAAAAAAAAAAAAAAAAAAAAAAAAAAAAAAAAAAAAAAAAAAAAAAAAAAAAAAAAAAAAAAAAAAAAAAAAAAAAAAAAAAAAAAAAAAAAAAAAAAAAAAAAAAAAAAAAAAAAAAAAAAAAAAAAAAAAAAAAAAAAAAAAAAAAAAAAAAAAAAAAAAAAAAAAAAAAAAAAAAAAAAAAAAAAAAAAAAAAAAAAAAAAAAAAAAAAAAAAAAAAAAAAAAAAAAAAAAAAAAAAAAAAAAAAAAAAAAAAAAAAAAAAAAAAAAAAAAAAAAAAAAAAAAAAAAAAAAAAAAAAAAAAAAAAAAAAAAAAAAAAAAAAAAAAAAAAAAAAAAAAAAAAAAAAAEAAAAAAAAAAAAAAAAAAAAAAAAAAAAAAAAAAAAAAAAAAAAAAAAAAAAAAAAAAAAAAAAAAAAAAAAAAAAAAAAAAAAAAAAAAAAAAAAAAAAAAAAAAAAAAAAAAAAAAAAAAAAAAAAAAAAAAAAA//8AAAAAAAAAAAAAAAAAAAAAAAAAAAAAAAAAAP////8AAAAAAAAAAAAAAAAAAAAAAAAAAAAAAAAAAAAAAAAAAAAAAAAAAAAAAAAAAAAAAAAAAAAAAAAAAAAAAAAAAAAAAAAAAAAA//8AAAAAAAAAAAAAAAAAAAAAAAAAAAAAAQAAAAAAAAABAAEAAAAAAAEAAAAAAAAAAAAAAAAAAAAAAAAAAAAAAAAAAAAAAAAAAAAAAAAAAAAAAAAAAAAAAAAAAAAAAAAAAAAAAAAAAAAAAAAAAAAAAAAAAAAAAAAAAAAAAAAAAAAAAAAAAAAAAAAAAAAAAAAAAAAAAAAAAAAAAAAAAAAAAAAAAAAAAAAAAAAAAP//AAAAAP////8AAAAAAAAAAAAAAAAAAAAAAAAAAAAAAAAAAAAAAAAAAAAAAAAAAAAAAAAAAAAAAAAAAAAAAAAAAAAAAAAAAAAAAAAAAAAAAAAAAAAAAAAAAAAAAAAAAAAAAAAAAAAAAAAAAAAAAAAAAAAAAAAAAAAAAAAAAAAAAAAAAAAAAAAAAAAAAAAAAAAAAAAAAAAAAAAAAAAAAAAAAAAAAAAAAAAAAAAAAAAAAAAAAAAAAAAAAAAAAAAAAAAAAAAAAAAAAAAAAAAAAAAAAAAAAAAAAAAAAAAAAAAAAAAAAAAAAAAAAAAAAAAAAAAAAAAAAAAAAAAAAAAAAAAAAAAAAAAAAAAAAAAAAAAAAAAAAAAAAAAAAAAAAAAAAAAAAAAAAAAAAAAAAAAAAAAAAAAAAAAAAAAAAAAAAAAAAAAAAAAAAAAAAAAAAAAAAAAAAAAAAAAAAAAAAAAAAAAAAAAAAAAAAAAAAAAAAAAAAAAAAAAAAAAAAAAAAAAAAAAAAAAAAAAAAAAAAAAAAAAAAAAAAAAAAAAAAAAAAAAAAAAAAAAAAAAAAAAAAAAAAAAAAAAAAAAAAAAAAAAAAAAAAAAAAAAAAAAAAAAAAAEAAAAAAAAAAAAAAAAAAAAAAAAAAAAAAAAAAAAAAAAAAAAAAAAAAAAAAAAAAAAAAAAAAAAAAAAAAAAAAAAAAAAAAAAAAAAAAAAAAAAAAAAAAAAAAAAAAAAAAAAAAAAAAAAAAAAAAAAAAAAAAAAAAAAAAAAAAAAAAAAAAAAAAAAAAAAAAAAAAAAAAAAAAAAAAAAAAAAAAAAAAAAAAAAAAAAAAAAAAAAAAAAAAAAAAAAAAAAAAAAAAAAAAAAAAAAAAAAAAAAAAAAAAAAAAAAAAAAAAAAAAAAAAAAAAAAAAAAAAAAAAAAAAAAAAAAAAAAAAAAAAAAAAAAAAAAAAAAAAAAAAAAAAAAAAAAAAAAAAAAAAAAAAAAAAAAAAAAAAAAAAAAAAAAAAAAAAAAAAAAAAAAAAAAAAAAAAAAAAAAAAAAAAAAAAAAAAAAAAAAAAAAAAAAAAAAAAAAAAAAAAAAAAAAAAAAAAAAAAAAAAAAAAAAAAAAAAAAAAAAAAAAAAAAAAAAAAAAAAAAAAAAAAAAAAAAAAAAAAAAAAAAAAAAAAAAAAAAAAAAAAAAAAAAAAAAAAAAAAAAAAAAAAAAAAAAAAAAAAAAAAAAAAAAAAAAAAAAAAAAAAAAAAAAAAAAAAAAAAAAAAAAAAAAAAAAAAAAAAAAAAAAAAAAAAAAAAAAAAAAAAAAAAAAAAAAAAAAAAAAAAAAAAAAAAAAAAAAAAAAAAAAAAAAAAAAAAAAAAAAAAAAAAAAAAAAAAAAAAAAAAAAAAAAAAAAAAAAAAAAAAAAAAAAAAAAAAAAAAAAAAAAAAAAAAAAAAAAAAAAAAAAAAAAAAAAAAAAAAAAAAAAAAAAAAAAAAAAAAAAAAAAAAAAAAAAAAAAAAAAAAAAAAAAAAAAAAAAAAAAAAAAAAAAAAAAAAAAAAAAAAAAAAAAAAAAAAAAAAAAAAAAAAAAAAAAAAAAAAAAAAAAAAAAAAAAAAAAAAAAAAAAAAAAAAAAAAAAAAAAAAAAAAAAAAAAAAAAAAAAAAAAAAAAAAAAAAAAAAAAAAAAAAAAAAAAAAAAAAAAAAAAAAAAAAAAAAAAAAAAAAAAAAAAAAAAAAAAAAAAAAAAAAAAAAAAAAAAAAAAAAAAAAAAAAAAAAAAAAAAAAAAAAAAAAAAAAAAAAAAAAAAAAAAAAAAAAAAAAAAAAAAAAAAAAAAAAAAAAAAAAAAAAAAAAAAAAAAAAAAAAAAAAAAAAAAAAAAAAAAAAAAAAAAAAAAAAAAAAAAAAAAAAAAAAAAAAAAAAAAAAAAAAAAAAAAAAAAAAAAAAAAAAAAAAAAAAAAAAAAAAAAAAAAAAAAAAAAAAAAAAAAAAAAAAAAAAAAAAAAAAAAAAAAAAAAAAAAAAAAAAAAAAAAAAAAAAAAAAAAAAAAAAAAAAAAAAAAAAAAAAAAAAAAAAAAAAAAAAAAAAAAAAAAAAAAAAAAAAAAAAAAAAAAAAAAAAAAAAAAAAAAAAAAAAAAAAAAAAAAAAAAAAAAAAAAAAAAAAAAAAAAAAAAAAAAAAAAAAAAAAAAAAAAAAAAAAAAAAAAAAAAAAAAAAAAAAAAAAAAAAAAAAAAAAAAAAAAAAAAAAAAAAAAAAAAAAAAAAAAAAAAAAAAAAAAAAAAAAAAAAAAAAAAAAAAAAAAAAAAAAAAAAAAAAAAAAAAAAAAAAAAAAAAAAAAAAAAAAAAAAAAAAAAAAAAAAAAAAAAAAAAAAAAAAAAAAAAAAAAAAAAAAAAAAAAAAAAAAAAAAAAAAAAAAAAAAAAAAAAAAAAAAAAAAAAAAAAAAAAAAAAAAAAAAAAAAAAAAAAAAAAAAAAAAAAAAAAAAAAAAAAAAAAAAAAAAAAAAAAAAAAAAAAAAAAAAAAAAAAAAAAAAAAAAAAAAAAAAAAAAAAAAAAAAAAAAAAAAAAAAAAAAAAAAAAAAAAAAAAAAAAAAAAAAAAAAAAAAAAAAAAAAAAAAAAAAAAAAAAAAAAAAAAAAAAAAAAAAAAAAAAAAAAAAAAAAAAAAAAAAAAAAAAAAAAAAAAAAAAAAAAAAAAAAAAAAAAAAAAAAAAAAAAAAAAAAAAAAAAAAAAAAAAAAAAAAAAAAAAAAAAAAAAAAAAAAAAAAAAAAAAAAAAAAAAAAAAAAAAAAAAAAAAAAAAAAAAAAAAAAAAAAAAAAAAAAAAAAAAAAAAAAAAAAAAAAAAAAAAAAAAAAAAAAAAAAAAAAAAAAAAAAAAAAAAAAAAAAAAAAAAAAAAAAAAAAAAAAAAAAAAAAAAAAAAAAAAAAAAAAAAAAAAAAAAAAAAAAAAAAAAAAAAAAAAAAAAAAAAAAAAAAAAAAAAAAAAAAAAAAAAAAAAAAAAAAAAAAAAAAAAAAAAAAAAAAAAAAAAAAAAAAAAAAAAAAAAAAAAAAAAAAAAAAAAAAAAAAAAAAAAAAAAAAAAAAAAAAAAAAAAAAAAAAAAAAAAAAAAAAAAAAAAAAAAAAAAAAAAAAAAAAAAAAAAAAAAAAAAAAAAAAAAAAAAAAAAAAAAAAAAAAAAAAAAAAAAAAAAAAAAAAAAAAAAAAAAAAAAAAAAAAAAAAAAAAAAAAAAAAAAAAAAAAAAAAAAAAAAAAAAAAAAAAAAAAAAAAAAAAAAAAAAAAAAAAAAAAAAAAAAAAAAAAAAAAAAAAAAAAAAAAAAAAAAAAAAAAAAAAAAAAAAAAAAAAAAAAAAAAAAAAAAAAAAAAAAAAAAAAAAAAAAAAAAAAAAAAAAAAAAAAAAAAAAAAAAAAAAAAAAAAAAAAAAAAAAAAAAAAAAAAAAAAAAAAAAAAAAAAAAAAAAAAAAAAAAAAAAAAAAAAAAAAAAAAAAAAAAAAAAAAAAAAAAAAAAAAAAAAAAAAAAAAAAAAAAAAAAAAAAAAAAAAAAAAAAAAAAAAAAAAAAAAAAAAAAAAAAAAAAAAAAAAAAAAAAAAAAAAAAAAAAAAAAAAAAAAAAAAAAAAAAAAAAAAAAAAAAAAAAAAAAAAAAAAAAAAAAAAAAAAAAAAAAAAAAAAAAAAAAAAAAAAAAAAAAAAAAAAAAAAAAAAAAAAAAAAAAAAAAAAAAAAAAAAAAAAAAAAAAAAAAAAAAAAAAAAAAAAAAAAAAAAAAAAAAAAAAAAAAAAAAAAAAAAAAAAAAAAAAAAAAAAAAAAAAAAAAAAAAAAAAAAAAAAAAAAAAAAAAAAAAAAAAAAAAAAAAAAAAAAAAAAAAAAAAAAAAAAAAAAAAAAAAAAAAAAAAAAAAAAAAAAAAAAAAAAAAAAAAAAAAAAAAAAAAAAAAAAAAAAAAAAAAAAAAAAAAAAAAAAAAAAAAAAAAAAAAAAAAAAAAAAAAAAAAAAAAAAAAAAAAAAAAAAAAAAAAAAAAAAAAAAAAAAAAAAAAAAAAAAAAAAAAAAAAAAAAAAAAAAAAAAAAAAAAAAAAAAAAAAAAAAAAAAAAAAAAAAAAAAAAAAAAAAAAAAAAAAAAAAAAAAAAAAAAAAAAAAAAAAAAAAAAAAAAAAAAAAAAAAAAAAAAAAAAAAAAAAAAAAAAAAAAAAAAAAAAAAAAAAAAAAAAAAAAAAAAAAAAAAAAAAAAAAAAAAAAAAAAAAAAAAAAAAAAAAAAAAAAAAAAAAAAAAAAAAAAAAAAAAAAAAAAAAAAAAAAAAAAAAAAAAAAAAAAAAAAAAAAAAAAAAAAAAAAAAAAAAAAAAAAAAAAAAAAAAAAAAAAAAAAAAAAAAAAAAAAAAAAAAAAAAAAAAAAAAAAAAAAAAAAAAAAAAAAAAAAAAAAAAAAAAAAAAAAAAAAAAAAAAAAAAAAAAAAAAAAAAAAAAAAAAAAAAAAAAAAAAAAAAAAAAAAAAAAAAAAAAAAAAAAAAAAAAAAAAAAAAAAAAAAAAAAAAAAAAAAAAAAAAAAAAAAAAAAAAAAAAAAAAAAAAAAAAAAAAAAAAAAAAAAAAAAAAAAAAAAAAAAAAAAAAAAAAAAAAAAAAAAAAAAAAAAAAAAAAAAAAAAAAAAAAAAAAAAAAAAAAAAAAAAAAAAAAAAAAAAAAAAAAAAAAAAAAAAAAAAAAAAAAAAAAAAAAAAAAAAAAAAAAAAAAAAAAAAAAAAAAAAAAAAAAAAAAAAAAAAAAAAAAAAAAAAAAAAAAAAAAAAAAAAAAAAAAAAAAAAAAAAAAAAAAAAAAAAAAAAAAAAAAAAAAAAAAAAAAAAAAAAAAAAAAAAAAAAAAAAAAAAAAAAAAAAAAAAAAAAAAAAAAAAAAAAAAAAAAAAAAAAAAAAAAAAAAAAAAAAAAAAAAAAAAAAAAAAAAAAAAAAAAAAAAAAAAAAAAAAAAAAAAAAAAAAAAAAAAAAAAAAAAAAAAAAAAAAAAAAAAAAAAAAAAAAAAAAAAAAAAAAAAAAAAAAAAAAAAAAAAAAAAAAAAAAAAAAAAAAAAAAAAAAAAAAAAAAAAAAAAAAAAAAAAAAAAAAAAAAAAAAAAAAAAAAAAAAAAAAAAAAAAAAAAAAAAAAAAAAAAAAAAAAAAAAAAAAAAAAAAAAAAAAAAAAAAAAAAAAAAAAAAAAAAAAAAAAAAAAAAAAAAAAAAAAAAAAAAAAAAAAAAAAAAAAAAAAAAAAAAAAAAAAAAAAAAAAAAAAAAAAAAAAAAAAAAAAAAAAAAAAAAAAAAAAAAAAAAAAAAAAAAAAAAAAAAAAAAAAAAAAAAAAAAAAAAAAAAAAAAAAAAAAAAAAAAAAAAAAAAAAAAAAAAAAAAAAAAAAAAAAAAAAAAAAAAAAAAAAAAAAAAAAAAAAAAAAAAAAAAAAAAAAAAAAAAAAAAAAAAAAAAAAAAAAAAAAAAAAAAAAAAAAAAAAAAAAAAAAAAAAAAAAAAAAAAAAAAAAAAAAAAAAAAAAAAAAAAAAAAAAAAAAAAAAAAAAAAAAAAAAAAAAAAAAAAAAAAAAAAAAAAAAAAAAAAAAAAAAAAAAAAAAAAAAAAAAAAAAAAAAAAAAAAAAAAAAAAAAAAAAAAAAAAAAAAAAAAAAAAAAAAAAAAAAAAAAAAAAAAAAAAAAAAAAAAAAAAAAAAAAAAAAAAAAAAAAAAAAAAAAAAAAAAAAAAAAAAAAAAAAAAAAAAAAAAAAAAAAAAAAAAAAAAAAAAAAAAAAAAAAAAAAAAAAAAAAAAAAAAAAAAAAAAAAAAAAAAAAAAAAAAAAAAAAAAAAAAAAAAAAAAAAAAAAAAAAAAAAAAAAAAAAAAAAAAAAAAAAAAAAAAAAAAAAAAAAAAAAAAAAAAAAAAAAAAAAAAAAAAAAAAAAAAAAAAAAAAAAAAAAAAAAAAAAAAAAAAAAAAAAAAAAAAAAAAAAAAAAAAAAAAAAAAAAAAAAAAAAAAAAAAAAAAAAAAAAAAAAAAAAAAAAAAAAAAAAAAAAAAAAAAAAAAAAAAAAAAAAAAAAAAAAAAAAAAAAAAAAAAAAAAAAAAAAAAAAAAAAAAAAAAAAAAAAAAAAAAAAAAAAAAAAAAAAAAAAAAAAAAAAAAAAAAAAAAAAAAAAAAAAAAAAAAAAAAAAAAAAAAAAAAAAAAAAAAAAAAAAAAAAAAAAAAAAAAAAAAAAAAAAAAAAAAAAAAAAAAAAAAAAAAAAAAAAAAAAAAAAAAAAAAAAAAAAAAAAAAAAAAAAAAAAAAAAAAAAAAAAAAAAAAAAAAAAAAAAAAAAAAAAAAAAAAAAAAAAAAAAAAAAAAAAAAAAAAAAAAAAAAAAAAAAAAAAAAAAAAAAAAAAAAAAAAAAAAAAAAAAAAAAAAAAAAAAAAAAAAAAAAAAAAAAAAAAAAAAAAAAAAAAAAAAAAAAAAAAAAAAAAAAAAAAAAAAAAAAAAAAAAAAAAAAAAAAAAAAAAAAAAAAAAAAAAAAAAAAAAAAAAAAAAAAAAAAAAAAAAAAAAAAAAAAAAAAAAAAAAAAAAAAAAAAAAAAAAAAAAAAAAAAAAAAAAAAAAAAAAAAAAAAAAAAAAAAAAAAAAAAAAAAAAAAAAAAAAAAAAAAAAAAAAAAAAAAAAAAAAAAAAAAAAAAAAAAAAAAAAAAAAAAAAAAAAAAAAAAAAAAAAAAAAAAAAAAAAAAAAAAAAAAAAAAAAAAAAAAAAAAAAAAAAAAAAAAAAAAAAAAAAAAAAAAAAAAAAAAAAAAAAAAAAAAAAAAAAAAAAAAAAAAAAAAAAAAAAAAAAAAAAAAAAAAAAAAAAAAAAAAAAAAAAAAAAAAAAAAAAAAAAAAAAAAAAAAAAAAAAAAAAAAAAAAAAAAAAAAAAAAAAAAAAAAAAAAAAAAAAAAAAAAAAAAAAAAAAAAAAAAAAAAAAAAAAAAAAAAAAAAAAAAAAAAAAAAAAAAAAAAAAAAAAAAAAAAAAAAAAAAAAAAAAAAAAAAAAAAAAAAAAAAAAAAAAAAAAAAAAAAAAAAAAAAAAAAAAAAAAAAAAAAAAAAAAAAAAAAAAAAAAAAAAAAAAAAAAAAAAAAAAAAAAAAAAAAAAAAAAAAAAAAAAAAAAAAAAAAAAAAAAAAAAAAAAAAAAAAAAAAAAAAAAAAAAAAAAAAAAAAAAAAAAAAAAAAAAAAAAAAAAAAAAAAAAAAAAAAAAAAAAAAAAAAAAAAAAAAAAAAAAAAAAAAAAAAAAAAAAAAAAAAAAAAAAAAAAAAAAAAAAAAAAAAAAAAAAAAAAAAAAAAAAAAAAAAAAAAAAAAAAAAAAAAAAAAAAAAAAAAAAAAAAAAAAAAAAAAAAAAAAAAAAAAAAAAAAAAAAAAAAAAAAAAAAAAAAAAAAAAAAAAAAAAAAAAAAAAAAAAAAAAAAAAAAAAAAAAAAAAAAAAAAAAAAAAAAAAAAAAAAAAAAAAAAAAAAAAAAAAAAAAAAAAAAAAAAAAAAAAAAAAAAAAAAAAAAAAAAAAAAAAAAAAAAAAAAAAAAAAAAAAAAAAAAAAAAAAAAAAAAAAAAAAAAAAAAAAAAAAAAAAAAAAAAAAAAAAAAAAAAAAAAAAAAAAAAAAAAAAAAAAAAAAAAAAAAAAAAAAAAAAAAAAAAAAAAAAAAAAAAAAAAAAAAAAAAAAAAAAAAAAAAAAAAAAAAAAAAAAAAAAAAAAAAAAAAAAAAAAAAAAAAAAAAAAAAAAAAAAAAAAAAAAAAAAAAAAAAAAAAAAAAAAAAAAAAAAAAAAAAAAAAAAAAAAAAAAAAAAAAAAAAAAAAAAAAAAAAAAAAAAAAAAAAAAAAAAAAAAAAAAAAAAAAAAAAAAAAAAAAAAAAAAAAAAAAAAAAAAAAAAAAAAAAAAAAAAAAAAAAAAAAAAAAAAAAAAAAAAAAAAAAAAAAAAAAAAAAAAAAAAAAAAAAAAAAAAAAAAAAAAAAAAAAAAAAAAAAAAAAAAAAAAAAAAAAAAAAAAAAAAAAAAAAAAAAAAAAAAAAAAAAAAAAAAAAAAAAAAAAAAAAAAAAAAAAAAAAAAAAAAAAAAAAAAAAAAAAAAAAAAAAAAAAAAAAAAAAAAAAAAAAAAAAAAAAAAAAAAAAAAAAAAAAAAAAAAAAAAAAAAAAAAAAAAAAAAAAAAAAAAAAAAAAAAAAAAAAAAAAAAAAAAAAAAAAAAAAAAAAAAAAAAAAAAAAAAAAAAAAAAAAAAAAAAAAAAAAAAAAAAAAAAAAAAAAAAAAAAAAAAAAAAAAAAAAAAAAAAAAAAAAAAAAAAAAAAAAAAAAAAAAAAAAAAAAAAAAAAAAAAAAAAAAAAAAAAAAAAAAAAAAAAAAAAAAAAAAAAAAAAAAAAAAAAAAAAAAAAAAAAAAAAAAAAAAAAAAAAAAAAAAAAAAAAAAAAAAAAAAAAAAAAAAAAAAAAAAAAAAAAAAAAAAAAAAAAAAAAAAAAAAAAAAAAAAAAAAAAAAAAAAAAAAAAAAAAAAAAAAAAAAAAAAAAAAAAAAAAAAAAAAAAAAAAAAAAAAAAAAAAAAAAAAAAAAAAAAAAAAAAAAAAAAAAAAAAAAAAAAAAAAAAAAAAAAAAAAAAAAAAAAAAAAAAAAAAAAAAAAAAAAAAAAAAAAAAAAAAAAAAAAAAAAAAAAAAAAAAAAAAAAAAAAAAAAAAAAAAAAAAAAAAAAAAAAAAAAAAAAAAAAAAAAAAAAAAAAAAAAAAAAAAAAAAAAAAAAAAAAAAAAAAAAAAAAAAAAAAAAAAAAAAAAAAAAAAAAAAAAAAAAAAAAAAAAAAAAAAAAAAAAAAAAAAAAAAAAAAAAAAAAAAAAAAAAAAAAAAAAAAAAAAAAAAAAAAAAAAAAAAAAAAAAAAAAAAAAAAAAAAAAAAAAAAAAAAAAAAAAAAAAAAAAAAAAAAAAAAAAAAAAAAAAAAAAAAAAAAAAAAAAAAAAAAAAAAAAAAAAAAAAAAAAAAAAAAAAAAAAAAAAAAAAAAAAAAAAAAAAAAAAAAAAAAAAAAAAAAAAAAAAAAAAAAAAAAAAAAAAAAAAAAAAAAAAAAAAAAAAAAAAAAAAAAAAAAAAAAAAAAAAAAAAAAAAAAAAAAAAAAAAAAAAAAAAAAAAAAAAAAAAAAAAAAAAAAAAAAAAAAAAAAAAAAAAAAAAAAAAAAAAAAAAAAAAAAAAAAAAAAAAAAAAAAAAAAAAAAAAAAAAAAAAAAAAAAAAAAAAAAAAAAAAAAAAAAAAAAAAAAAAAAAAAAAAAAAAAAAAAAAAAAAAAAAAAAAAAAAAAAAAAAAAAAAAAAAAAAAAAAAAAAAAAAAAAAAAAAAAAAAAAAAAAAAAAAAAAAAAAAAAAAAAAAAAAAAAAAAAAAAAAAAAAAAAAAAAAAAAAAAAAAAAAAAAAAAAAAAAAAAAAAAAAAAAAAAAAAAAAAAAAAAAAAAAAAAAAAAAAAAAAAAAAAAAAAAAAAAAAAAAAAAAAAAAAAAAAAAAAAAAAAAAAAAAAAAAAAAAAAAAAAAAAAAAAAAAAAAAAAAAAAAAAAAAAAAAAAAAAAAAAAAAAAAAAAAAAAAAAAAAAAAAAAAAAAAAAAAAAAAAAAAAAAAAAAAAAAAAAAAAAAAAAAAAAAAAAAAAAAAAAAAAAAAAAAAAAAAAAAAAAAAAAAAAAAAAAAAAAAAAAAAAAAAAAAAAAAAAAAAAAAAAAAAAAAAAAAAAAAAAAAAAAAAAAAAAAAAAAAAAAAAAAAAAAAAAAAAAAAAAAAAAAAAAAAAAAAAAAAAAAAAAAAAAAAAAAAAAAAAAAAAAAAAAAAAAAAAAAAAAAAAAAAAAAAAAAAAAAAAAAAAAAAAAAAAAAAAAAAAAAAAAAAAAAAAAAAAAAAAAAAAAAAAAAAAAAAAAAAAAAAAAAAAAAAAAAAAAAAAAAAAAAAAAAAAAAAAAAAAAAAAAAAAAAAAAAABAAAAAAAAAAAAAQAAAAAAAAAAAAAAAAAAAP//AAAAAAAAAAAAAAAAAAAAAAAAAAAAAAAAAAAAAAAAAAAAAAAAAAAAAAAAAAAAAAAAAAAAAAAAAAAAAAAAAAAAAAAAAAAAAAAAAAAAAAAAAAAAAAAAAAAAAAAAAAAAAAAAAAAAAAAAAAAAAAAAAAAAAAAAAAAAAAAAAAABAAAAAQABAAEAAQABAAEAAQABAAEAAQABAAEAAQAAAAAAAAAAAAAAAAAAAAAAAAAAAAAAAAAAAAAAAAAAAAAAAAAAAAAAAAAAAAAAAAAAAP//AAD/////////////////////AAAAAP///////wAAAAAAAAAAAAAAAP//AAAAAAAAAAAAAAAAAAAAAP//AAAAAAAAAAD//wAA//8AAAAAAAAAAAAAAAAAAAAAAAAAAAAAAAAAAAAAAAAAAP//AAAAAAAA////////AAAAAAAAAAAAAAAAAAAAAAAAAAAAAAAAAQABAAEAAQABAAEAAQABAAEAAAAAAAEAAQABAAEAAQABAAEAAQABAAEAAQABAAEAAQABAAEAAQABAAEAAQABAAEAAQABAAIAAQABAAEAAQABAAAAAQAAAAAAAAAAAAAAAAAAAP///////////////////////////////////////////////////////wAAAAD//wAA//////////8AAP//AAAAAAAAAAAAAAAAAAAAAAAAAAAAAAAAAAAAAAAAAAAAAAAAAAAAAAAAAAAAAAAAAAAAAAAAAAAAAAAAAAAAAAAAAAAAAAAAAAAAAAAAAAAAAAAAAQAAAAAAAAAAAAAAAAAAAAAAAAAAAAAAAAAAAAAAAAAAAAAAAAAAAAAAAAAAAAAAAAAAAAAAAAAAAAAAAAAAAAAAAAAAAAAA//8AAAAA//8AAP//AAAAAAAAAAAAAAAAAAAAAAAAAAAAAAAAAAAAAAAAAAAAAAAAAAAAAAAAAAAAAAAAAAAAAAEAAAAAAAAAAAD//wAAAAAAAAAAAAAAAAAAAAAAAAAAAAAAAAAAAAABAAAAAAAAAAAAAAAAAAAAAAAAAAAAAAAAAAAAAAAAAAAAAAAAAAAAAAAAAAAAAAAAAAAAAAAAAAAAAAAAAAAAAAAAAAAAAAAAAAAAAAAAAAAAAAAAAAAAAAAAAAAAAAAAAAAAAAAAAAAAAAAAAAAAAAAAAAAAAAAAAAAAAAAAAAAAAAAAAAAAAAAAAAAAAAAAAAAAAAAAAAAAAAAAAAAAAAAAAAAAAAAAAAAAAAAAAAAAAAAAAAAAAAAAAAAAAAAAAAAAAAAAAAAAAAAAAAAAAAAAAAAAAAAAAAAAAAAAAAAAAAAAAAAAAAAAAAAAAAAAAAAAAAAAAAAAAAAAAAAAAAAAAAAAAAAAAAAAAAAAAAAAAAAAAAAAAAAAAAAAAAAAAAAAAAAAAAAAAAAAAAAAAAAAAAAAAAAAAAAAAAAAAAAAAAAAAAAAAAAAAAAAAAAAAAAAAAAAAAAAAAAAAAAAAAAAAAAAAAAAAAAAAAAAAAAAAAAAAAAAAAAAAAAAAAAAAAAAAAAAAAAAAAAAAAAAAAAAAAAAAAAAAAAAAAAAAAAAAAAAAAAAAAAAAAAAAAAAAAAAAAAAAAAAAAAAAAAAAAAAAAAAAAAAAAAAAAAAAAAAAAAAAAAAAAAAAAAAAAAAAAAAAAAAAAAAAAAAAAAAAAAAAAAAAAAAAAAAAAAAAAAAAAAAAAAAAAAAAAAAAAAAAAAAAAAAAAAAAAAAAAAAAAAAAAAAAAAAAAAAAAAAAAAAAAAAAAAAAAAAAAAAAAAAAAAAAAAAAAAAAAAAAAAAAAAAAAAAAAAAAAAAAAAAAAAAAAAAAAAAAAAAAAAAAAAAAAAAAAAAAAAAAAAAAAAAAAAAAAAAAAAAAAAAAAAAAAAAAAAAAAAAAAAAAAAAAAAAAAAAAAAAAAAAAAAAAAAAAAAAAAAAAAAAAAAAAAAAAAAAAAAAAAAAAAAAAAAAAAAAAAAAAAAAAAAAAAAAAAAAAAAAAAAAAAAAAAAAAAAAAAAAAAAAAAAAAAAAAAAAAAAAAAAAAAAAAAAAAAAAAAAAAAAAAAAAAAAAAAAAAAAAAAAAAAAAAAAAAAAAAAAAAAAAAAAAAAAAAAAAAAAAAAAAAAAAAAAAAAAAAAAAAAAAAAAAAAAAAAAAAAAAAAAAAAAAAAAAAAAAAAAAAAAAAAAAAAAAAAAAAAAAAAAAAAAAAAAAAAAAAAAAAAAAAAAAAAAAAAAAAAAAAAAAAAAAAAAAAAAAAAAAAAAAAAAAAAAAAAAAAAAAAAAAAAAAAAAAAAAAAAAAAAAAAAAAAAAAAAAAAAAAAAAAAAAAAAAAAAAAAAAAAAAAAAAAAAAAAAAAAAAAAAAAAAAAAAAAAAAAAAAAAAAAAAAAAAAAAAAAAAAAAAAAAAAAAAAAAAAAAAAAAAAAAAAAAAAAAAAAAAAAAAAAAAAAAAAAAAAAAAAAAAAAAAAAAAAAAAAAAAAAAAAAAAAAAAAAAAAAAAAAAAAAAAAAAAAAAAAAAAAAAAAAAAAAAAAAAAAAAAAAAAAAAAAAAAAAAAAAAAAAAAAAAAAAAAAAAAAAAAAAAAAAAAAAAAAAAAAAAAAAAAAAAAAAAAAAAAAAAAAAAAAAAAAAAAAAAAAAAAAAAAAAAAAAAAAAAAAAAAAAAAAAAAAAAAAAAAAAAAAAAAAAAAAAAAAAAAAAAAAAAAAAAAAAAAAAAAAAAAAAAAAAAAAAAAAAAAAAAAAAAAAAAAAAAAAAAAAAAAAAAAAAAAAAAAAAAAAAAAAAAAAAAAAAAAAAAAAAAAAAAAAAAAAAAAAAAAAAAAAAAAAAAAAAAAAAAAAAAAAAAAAAAAAAAAAAAAAAAAAAAAAAAAAAAAAAAAAAAAAAAAAAAAAAAAAAAAAAAAAAAAAAAAAAAAAAAAAAAAAAAAAAAAAAAAAAAAAAAAAAAAAAAAAAAAAAAAAAAAAAAAAAAAAAAAAAAAAAAAAAAAAAAAAAAAAAAAAAAAAAAAAAAAAAAAAAAAAAAAAAAAAAAAAAAAAAAAAAAAAAAAAAAAAAAAAAAAAAAAAAAAAAAAAAAAAAAAAAAAAAAAAAAAAAAAAAAAAAAAAAAAAAAAAAAAAAAAAAAAAAAAAAAAAAAAAAAAAAAAAAAAAAAAAAAAAAAAAAAAAAAAAAAAAAAAAAAAAAAAAAAAAAAAAAAAAAAAAAAAAAAAAAAAAAAAAAAAAAAAAAAAAAAAAAAAAAAAAAAAAAAAAAAAAAAAAAAAAAAAAAAAAAAAAAAAAAAAAAAAAAAAAAAAAAAAAAAAAAAAAAAAAAAAAAAAAAAAAAAAAAAAAAAAAAAAAAAAAAAAAAAAAAAAAAAAAAAAAAAAAAAAAAAAAAAAAAAAAAAAAAAAAAAAAAAAAAAAAAAAAAAAAAAAAAAAAAAAAAAAAAAAAAAAAAAAAAAAAAAAAAAAAAAAAAAAAAAAAAAAAAAAAAAAAAAAAAAAAAAAAAAAAAAAAAAAAAAAAAAAAAAAAAAAAAAAAAAAAAAAAAAAAAAAAAAAAAAAAAAAAAAAAAAAAAAAAAAAAAAAAAAAAAAAAAAAAAAAAAAAAAAAAAAAAAAAAAAAAAAAAAAAAAAAAAAAAAAAAAAAAAAAAAAAAAAAAAAAAAAAAAAAAAAAAAAAAAAAAAAAAAAAAAAAAAAAAAAAAAAAAAAAAAAAAAAAAAAAAAAAAAAAAAAAAAAAAAAAAAAAAAAAAAAAAAAAAAAAAAAAAAAAAAAAAAAAAAAAAAAAAAAAAAAAAAAAAAAAAAAAAAAAAAAAAAAAAAAAAAAAAAAAAAAAAAAAAAAAAAAAAAAAAAAAAAAAAAAAAAAAAAAAAAAAAAAAAAAAAAAAAAAAAAAAAAAAAAAAAAAAAAAAAAAAAAAAAAAAAAAAAAAAAAAAAAAAAAAAAAAAAAAAAAAAAAAAAAAAAAAAAAAAAAAAAAAAAAAAAAAAAAAAAAAAAAAAAAAAAAAAAAAAAAAAAAAAAAAAAAAAAAAAAAAAAAAAAAAAAAAAAAAAAAAAAAAAAAAAAAAAAAAAAAAAAAAAAAAAAAAAAAAAAAAAAAAAAAAAAAAAAAAAAAAAAAAAAAAAAAAAAAAAAAAAAAAAAAAAAAAAAAAAAAAAAAAAAAAAAAAAAAAAAAAAAAAAAAAAAAAAAAAAAAAAAAAAAAAAAAAAAAAAAAAAAAAAAAAAAAAAAAAAAAAAAAAAAAAAAAAAAAAAAAAAAAAAAAAAAAAAAAAAAAAAAAAAAAAAAAAAAAAAAAAAAAAAAAAAAAAAAAAAAAAAAAAAAAAAAAAAAAAAAAAAAAAAAAAAAAAAAAAAAAAAAAAAAAAAAAAAAAAAAAAAAAAAAAAAAAAAAAAAAAAAAAAAAAAAAAAAAAAAAAAAAAAAAAAAAAAAAAAAAAAAAAAAAAAAAAAAAAAAAAAAAAAAAAAAAAAAAAAAAAAAAAAAAAAAAAAAAAAAAAAAAAAAAAAAAAAAAAAAAAAAAAAAAAAAAAAAAAAAAAAAAAAAAAAAAAAAAAAAAAAAAAAAAAAAAAAAAAAAAAAAAAAAAAAAAAAAAAAAAAAAAAAAAAAAAAAAAAAAAAAAAAAAAAAAAAAAAAAAAAAAAAAAAAAAAAAAAAAAAAAAAAAAAAAAAAAAAAAAAAAAAAAAAAAAAAAAAAAAAAAAAAAAAAAAAAAAAAAAAAAAAAAAAAAAAAAAAAAAAAAAAAAAAAAAAAAAAAAAAAAAAAAAAAAAAAAAAAAAAAAAAAAAAAAAAAAAAAAAAAAAAAAAAAAAAAAAAAAAAAAAAAAAAAAAAAAAAAAAAAAAD//wAAAAAAAAAAAAAAAAAAAAAAAAAAAAAAAAAAAAAAAP//AAAAAP//AAAAAAAAAAAAAAAAAAAAAAAAAAAAAAAAAAAAAAAAAAAAAAAAAAAAAAAAAAAAAAAAAAAAAAAAAAAAAAAAAAAAAAAAAAAAAAAAAAAAAAAAAAAAAAAAAAAAAAAAAAABAAEAAAAAAAEAAAABAAAAAAAAAAAAAAAAAAAAAAAAAAAAAAAAAAAAAQAAAAAAAQAAAAAAAAABAAAAAAAAAAAAAQAAAAAAAAAAAAAAAAAAAAAAAAAAAAAAAAAAAAAAAAAAAAAAAAAAAAAAAAAAAAAAAAAAAAAAAAAAAAAAAAAAAAAAAAAAAAAAAAAAAAAAAAAAAAAAAAAAAAAAAAAAAAAAAAAAAAAAAAAAAAAAAAAAAAAAAAAAAAAAAAAAAAAAAAAAAAAAAAAAAAAAAAAAAAAAAAAAAAAAAAAAAAAAAAAAAAAAAAAAAAAAAAAAAAAAAAAAAAAAAAAAAAAAAAAAAAAAAAAAAAAAAAD//wAA////////AAAAAAAAAAAAAAAAAAAAAAAAAAAAAAAAAAAAAAAAAAAAAAAAAAAAAAAAAAAAAAAAAAAAAAAAAAAAAAAAAAAAAAAAAAAAAAAAAAAAAAAAAAAAAAAAAAAAAAAAAAAAAAAAAAAAAAAAAAAAAAAAAAAAAAAAAQAAAAAAAAABAAAAAAAAAAAAAAAAAAAAAAAAAAAAAAAAAAAAAAAAAAAAAAAAAAAAAAAAAAAAAAAAAAAAAAAAAAAAAAAAAAAAAAAAAAAAAAAAAAAAAAAAAAAAAAAAAAAAAAAAAAAAAAAAAAAAAAAAAAAAAAAAAAAAAAAAAAAAAAAAAAAAAAAAAAAAAAAAAAAAAAAAAAAAAAAAAAAAAAAAAAAAAAAAAAAAAAAAAAAAAAAAAAAAAAAAAAAAAAAAAAAAAAAAAAAAAAAAAAAAAAAAAAAAAAAAAAAAAAAAAAAAAAAAAAAAAAAAAAAAAAAAAAAAAAAAAAAAAAAAAAAAAAAAAAAAAAAAAAAAAAAAAAAAAAAAAAAAAAAAAAAAAAAAAAAAAAAAAAAAAAAAAAAAAAAAAAAAAAAAAAAAAAAAAAAAAAAAAAAAAAAAAAAAAAAAAAAAAAAAAAAAAAABAAAAAQABAAAAAAAAAAAAAAAAAAAAAAAAAAAAAAAAAAAAAAAAAAAAAAAAAAAAAAAAAAAAAAAAAAAAAAAAAAAAAAAAAAAAAAAAAAAAAAAAAAAAAAAAAAAAAAAAAAAAAAAAAAAAAAAAAAAAAAAAAAAAAAAAAAAAAAAAAAAAAAAAAAAAAAAAAAAAAAAAAAAAAAAAAAAAAAAAAAAAAAAAAAAAAAAAAAAAAAAAAAAAAAAAAAAAAAAAAAAAAAAAAAAAAAAAAAAAAAAAAAAAAAAAAAAAAAAAAAAAAAAAAAAAAAAAAAAAAAAAAAAAAAAAAAAAAAAAAAAAAAAAAAAAAAAAAAAAAAAAAAAAAAABAAAAAAAAAAAAAAAAAAAAAAAAAAAAAAAAAAAAAAAAAAAAAAAAAAAAAAAAAAAAAAAAAAAAAAAAAAAAAAAAAAAAAAAAAAAAAAAAAAAAAAAAAAAAAAAAAAAAAAAAAAAAAAAAAAAAAAAAAAAAAAAAAAAAAAAAAAAAAAAAAAAAAAAAAAAAAAAAAAAAAAAAAAAAAAAAAAAAAAAAAAAAAAAAAAAAAAAAAAAAAAAAAAAAAAAAAAAAAAAAAAAAAAAAAAAAAAAAAAAAAAAAAAAAAAAAAAAAAAAAAAAAAAAAAAAAAAAAAAAAAAAAAAAAAAAAAAAAAAAAAAAAAAAAAAAAAAAAAAAAAAAAAAAAAAAAAAAAAAAAAAAAAAAAAAAAAAAAAAAAAAAAAAAAAAAAAAAAAAAAAAAAAAAAAAAAAAAAAAAAAAAAAAAAAAAAAAAAAAAAAAAAAAAAAAAAAAAAAAAAAAAAAAAAAAAAAAAAAAAAAAAAAAAAAAAAAAAAAAAAAAAAAAAAAAAAAAAAAAAAAAAAAAAAAAAAAAAAAAAAAAAAAAAAAAAAAAAAAAAAAAAAAAAAAAAAAAAAAAAAAAAAAAAAAAAAAAAAAAAAAAAAAAAAAAAAAAAAAAAAAAAAAAAAAAAAAAAAAAAAAAAAAAAAAAAAAAAAAAAAAAAAAAAAAAAAAAAAAAAAAAAAAAAAAAAAAAAAAAAAAAAAAAAAAAAAAAAAAAAAAAAAAAAAAAAAAAAAAAAAAAAAAAAAAAAAAAAAAAAAAAAAAAAAAAAAAAAAAAAAAAAAAAAAAAAAAAAAAAAAAAAAAAAAAAAAAAAAAAAAAAAAAAAAAAAAAAAAAAAAAAAAAAAAAAAAAAAAAAAAAAAAAAAAAAAAAAAAAAAAAAAAAAAAAAAAAAAAAAAAAAAAAAAAAAAAAAAAAAAAAAAAAAAAAAAAAAAAAAAAAAAAAAAAAAAAAAAAAAAAAAAAAAAAAAAAAAAAAAAAAAAAAAAAAAAAAAAAAAAAAAAAAAAAAAAAAAAAAAAAAAAAAAAAAAAAAAAAAAAAAAAAAAAAAAAAAAAAAAAAAAAAAAAAAAAAAAAAAAAAAAAAAAAAAAAAAAAAAAAAAAAAAAAAAAAAAAAAAAAAAAAAAAAAAAAAAAAAAAAAAAAAAAAAAAAAAAAAAAAAAAAAAAAAAAAAAAAAAAAAAAAAAAAAAAAAAAAAAAAAAAAAAAAAAAAAAAAAAAAAAAAAAAAAAAAAAAAAAAAAAAAAAAAAAAAAAAAAAAAAAAAAAAAAAAAAAAAAAAAAAAAAAAAAAAAAAAAAAAAAAAAAAAAAAAAAAAAAAAAAAAAAAAAAAAAAAAAAAAAAAAAAAAAAAAAAAAAAAAAAAAAAAAAAAAAAAAAAAAAAAAAAAAAAAAAAAAAAAAAAAAAAAAAAAAAAAAAAAAAAAAAAAAAAAAAAAAAAAAAAAAAAAAAAAAAAAAAAAAAAAAAAAAAAAAAAAAAAAAAAAAAAAAAAAAAAAAAAAAAAAAAAAAAAAAAAAAAAAAAAAAAAAAAAAAAAAAAAAAAAAAAAAAAAAAAAAAAAAAAAAAAAAAAAAAAAAAAAAAAAAAAAAAAAAAAAAAAAAAAAAAAAAAAAAAAAAAAAAAAAAAAAAAAAAAAAAAAAAAAAAAAAAAAAAAAAAAAAAAAAAAAAAAAAAAAAAAAAAAAAAAAAAAAAAAAAAAAAAAAAAAAAAAAAAAAAAAAAAAAAAAAAAAAAAAAAAAAAAAAAAAAAAAAAAAAAAAAAAAAAAAAAAAAAAAAAAAAAAAAAAAAAAAAAAAAAAAAAAAAAAAAAAAAAAAAAAAAAAAAAAAAAAAAAAAAAAAAAAAAAAAAAAAAAAAAAAAAAAAAAAAAAAAAAAAAAAAAAAAAAAAAAAAAAAAAAAAAAAAAAAAAAAAAAAAAAAAAAAAAAAAAAAAAAAAAAAAAAAAAAAAAAAAAAAAAAAAAAAAAAAAAAAAAAAAAAAAAAAAAAAAAAAAAAAAAAAAAAAAAAAAAAAAAAAAAAAAAAAAAAAAAAAAAAAAAAAAAAAAAAAAAAAAAAAAAAAAAAAAAAAAAAAAAAAAAAAAAAAAAAAAAAAAAAAAAAAAAAAAAAAAAAAAAAAAAAAAAAAAAAAAAAAAAAAAAAAAAAAAAAAAAAAAAAAAAAAAAAAAAAAAAAAAAAAAAAAAAAAAAAAAAAAAAAAAAAAAAAAAAAAAAAAAAAAAAAAAAAAAAAAAAAAAAAAAAAAAAAAAAAAAAAAAAAAAAAAAAAAAAAAAAAAAAAAAAAAAAAAAAAAAAAAAAAAAAAAAAAAAAAAAAAAAAAAAAAAAAAAAAAAAAAAAAAAAAAAAAAAAAAAAAAAAAAAAAAAAAAAAAAAAAAAAAAAAAAAAAAAAAAAAAAAAAAAAAAAAAAAAAAAAAAAAAAAAAAAAAAAAAAAAAAAAAAAAAAAAAAAAAAAAAAAAAAAAAAAAAAAAAAAAAAAAAAAAAAAAAAAAAAAAAAAAAAAAAAAAAAAAAAAAAAAAAAAAAAAAAAAAAAAAAAAAAAAAAAAAAAAAAAAAAAAAAAAAAAAAAAAAAAAAAAAAAAAAAAAAAAAAAAAAAAAAAAAAAAAAAAAAAAAAAAAAAAAAAAAAAAAAAAAAAAAAAAAAAAAAAAAAAAAAAAAAAAAAAAAAAAAAAAAAAAAAAAAAAAAAAAAAAAAAAAAAAAAAAAAAAAAAAAAAAAAAAAAAAAAAAAAAAAAAAAAAAAAAAAAAAAAAAAAAAAAAAAAAAAAAAAAAAAAAAAAAAAAAAAAAAAAAAAAAAAAAAAAAAAAAAAAAAAAAAAAAAAAAAAAAAAAAAAAAAAAAAAAAAAAAAAAAAAAAAAAAAAAAAAAAAAAAAAAAAAAAAAAAAAAAAAAAAAAAAAAAAAAAAAAAAAAAAAAAAAAAAAAAAAAAAAAAAAAAAAAAAAAAAAAAAAAAAAAAAAAAAAAAAAAAAAAAAAAAAAAAAAAAAAAAAAAAAAAAAAAAAAAAAAAAAAAAAAAAAAAAAAAAAAAAAAAAAAAAAAAAAAAAAAAAAAAAAAAAAAAAAAAAAAAAAAAAAAAAAAAAAAAAAAAAAAAAAAAAAAAAAAAAAAAAAAAAAAAAAAAAAAAAAAAAAAAAAAAAAAAAAAAAAAAAAAAAAAAAAAAAAAAAAAAAAAAAAAAAAAAAAAAAAAAAAAAAAAAAAAAAAAAAAAAAAAAAAAAAAAAAAAAAAAAAAAAAAAAAAAAAAAAAAAAAAAAAAAAAAAAAAAAAAAAAAAAAAAAAAAAAAAAAAAAAAAAAAAAAAAAAAAAAAAAAAAAAAAAAAAAAAAAAAAAAAAAAAAAAAAAAAAAAAAAAAAAAAAAAAAAAAAAAAAAAAAAAAAAAAAAAAAAAAAAAAAAAAAAAAAAAAAAAAAAAAAAAAAAAAAAAAAAAAAAAAAAAAAAAAAAAAAAAAAAAAAAAAAAAAAAAAAAAAAAAAAAAAAAAAAAAAAAAAAAAAAAAAAAAAAAAAAAAAAAAAAAAAAAAAAAAAAAAAAAAAAAAAAAAAAAAAAAAAAAAAAAAAAAAAAAAAAAAAAAAAAAAAAAAAAAAAAAAAAAAAAAAAAAAAAAAAAAAAAAAAAAAAAAAAAAAAAAAAAAAAAAAAAAAAAAAAAAAAAAAAAAAAAAAAAAAAAAAAAAAAAAAAAAAAAAAAAAAAAAAAAAAAAAAAAAAAAAAAAAAAAAAAAAAAAAAAAAAAAAAAAAAAAAAAAAAAAAAAAAAAAAAAAAAAAAAAAAAAAAAAAAAAAAAAAAAAAAAAAAAAAAAAAAAAAAAAAAAAAAAAAAAAAAAAAAAAAAAAAAAAAAAAAAAAAAAAAAAAAAAAAAAAAAAAAAAAAAAAAAAAAAAAAAAAAAAAAAAAAAAAAAAAAAAAAAAAAAAAAAAAAAAAAAAAAAAAAAAAAAAAAAAAAAAAAAAAAAAAAAAAAAAAAAAAAAAAAAAAAAAAAAAAAAAAAAAAAAAAAAAAAAAAAAAAAAAAAAAAAAAAAAAAAAAAAAAAAAAAAAAAAAAAAAAAAAAAAAAAAAAAAAAAAAAAAAAAAAAAAAAAAAAAAAAAAAAAAAAAAAAAAAAAAAAAAAAAAAAAAAAAAAAAAAAAAAAAAAAAAAAAAAAAAAAAAAAAAAAAAAAAAAAAAAAAAAAAAAAAAAAAAAAAAAAAAAAAAAAAAAAAAAAAAAAAAAAAAAAAAAAAAAAAAAAAAAAAAAAAAAAAAAAAAAAAAAAAAAAAAAAAAAAAAAAAAAAAAAAAAAAAAAAAAAAAAAAAAAAAAAAAAAAAAAAAAAAAAAAAAAAAAAAAAAAAAAAAAAAAAAAAAAAAAAAAAAAAAAAAAAAAAAAAAAAAAAAAAAAAAAAAAAAAAAAAAAAAAAAAAAAAAAAAAAAAAAAAAAAAAAAAAAAAAAAAAAAAAAAAAAAAAAAAAAAAAAAAAAAAAAAAAAAAAAAAAAAAAAAAAAAAAAAAAAAAAAAAAAAAAAAAAAAAAAAAAAAAAAAAAAAAAAAAAAAAAAAAAAAAAAAAAAAAAAAAAAAAAAAAAAAAAAAAAAAAAAAAAAAAAAAAAAAAAAAAAAAAAAAAAAAAAAAAAAAAAAAAAAAAAAAAAAAAAAAAAAAAAAAAAAAAAAAAAAAAAAAAAAAAAAAAAAAAAAAAAAAAAAAAAAAAAAAAAAAAAAAAAAAAAAAAAAAAAAAAAAAAAAAAAAAAAAAAAAAAAAAAAAAAAAAAAAAAAAAAAAAAAAAAAAAAAAAAAAAAAAAAAAAAAAAAAAAAAAAAAAAAAAAAAAAAAAAAAAAAAAAAAAAAAAAAAAAAAAAAAAAAAAAAAAAAAAAAAAAAAAAAAAAAAAAAAAAAAAAAAAAAAAAAAAAAAAAAAAAAAAAAAAAAAAAAAAAAAAAAAAAAAAAAAAAAAAAAAAAAAAAAAAAAAAAAAAAAAAAAAAAAAAAAAAAAAAAAAAAD//wAAAAAAAAAAAAAAAAAAAAAAAAAAAAAAAAAAAAAAAAAAAAAAAAAAAAAAAAAAAAAAAAAAAAAAAAAAAAAAAAAAAAAAAAAAAAAAAAAAAAAAAAAAAAAAAAAAAAAAAAAAAAAAAAAAAAAAAAAAAAAAAAAAAAAAAAAAAAAAAAAAAAAAAAAAAAAAAAAAAAAAAAAAAAAAAAAAAAAAAAAAAAAAAAAAAAAAAAAAAAAAAAAAAAAAAAAAAAAAAAAAAAAAAAAAAAAAAAAAAAAAAAAAAAAAAAAAAAAAAAAAAAAAAAAAAAAAAAAAAAAAAAAAAAAAAAAAAAAAAAAAAAAAAAAAAAAAAAAAAAAAAAAAAAAAAAAAAAAAAAAAAAAAAAAAAAAAAAAAAAAAAAAAAAAAAAAAAAAAAAAAAAAAAAAAAAAAAAAAAAAAAAAAAAAAAAAAAAAAAAAAAAAAAAAAAAAAAAAAAAAAAAAAAAAAAAAAAAAAAAAAAAAAAAAAAAAAAAAAAAAAAAAAAAAAAAAAAAAAAAAAAAAAAAAAAAAAAAAAAAAAAAAAAAAAAAAAAAAAAAAAAAAAAAAAAAAAAAAAAAAAAAAAAAAAAAAAAAAAAAAAAAAAAAAAAAAAAAAAAAAAAAAAAAAAAAAAAAAAAAAAAAAAAAAAAAAAAAAAAAAAAAAAAAAAAAAAAAAAAAAAAAAAAAAAAAAAAAAAAAAAAAAAAAAAAAAAAAAAAAAAAAAAAAAAAAAAAAAAAAAAAAAAAAAAAAAAAAAAAAAAAAAAAAAAAAAAAAAAAAAAAAAAAAAAAAAAAAAAAAAAAAAAAAAAAAAAAAAAAAAAAAAAAAAAAAAAAAAAAAAAAAAAAAAAAAAAAAAAAAAAAAAAAAAAAAAAAAAAAAAAAAAAAAAAAAAAAAAAAAAAAAAAAAAAAAAAAAAAAAAAAAAAAAAAAAAAAAAAAAAAAAAAAAAAAAAAAAAAAAAAAAAAAAAAAAAAAAAAAAAAAAAAAAAAAAAAAAAAAAAAAAAAAAAAAAAAAAAAAAAAAAAAAAAAAAAAAAAAAAAAAAAAAAAAAAAAAAAAAAAAAAAAAAAAAAAA//8AAAAAAAAAAAAAAAAAAAAAAAAAAAAAAAAAAAAAAAAAAAAAAAAAAAAAAAAAAAAAAAAAAAAAAAAAAAAAAAAAAAAAAAAAAAAAAAAAAAEAAAAAAAAAAAAAAAAAAAAAAAAAAAAAAAAAAAAAAAAAAAAAAAAAAAAAAAAAAAAAAAAAAAAAAAAAAAAAAAAAAAAAAAAAAAAAAAAAAAAAAAAAAAAAAAAAAAAAAAAAAAAAAAAAAAAAAAAAAAAAAAAAAAAAAAAAAAAAAAAAAAAAAAAAAAAAAAAAAAAAAAAAAAAAAAAAAAAAAAAAAAAAAAAAAAAAAAAAAAAAAAAAAAAAAAAAAAAAAAAAAAAAAAAAAAAAAAAAAAAAAAAAAAD//wAAAAAAAAAAAAAAAAAAAAAAAAAAAAAAAAAAAAAAAAAAAAAAAAAAAAAAAAAAAAAAAAAAAAAAAAAAAAAAAAAAAAAAAAAAAAAAAAAAAAAAAAAAAAAAAAAAAAAAAAAAAAAAAAAAAAAAAAAAAAAAAAAAAAAAAAAAAAAAAAAAAAAAAAAAAAAAAAAAAAAAAAAAAAAAAAAAAAAAAAAAAAAAAAAAAAAAAAAAAAAAAAAAAAAAAAAAAAAAAAAAAAAAAAAAAAAAAAAAAAAAAAAAAAAAAAAAAAAAAAAAAAAAAAAAAAAAAAAAAAAAAAAAAAAAAAAAAAAAAAAAAAAAAAAAAAAAAAAAAAAAAAAAAAAAAAAAAAAAAAAAAAAAAAAAAAAAAAAAAAAAAP//AAAAAAAAAAAAAAAAAAAAAAAAAAAAAAAAAAAAAAAAAAAAAAAAAAAAAAAAAAAAAAAAAAAAAAAAAAAAAAAAAAAAAAAAAAAAAAAAAAAAAAAAAAAAAAAAAAAAAAAAAAAAAAAAAQAAAAAAAAAAAAAAAAAAAAAAAAAAAAAAAAAAAAAAAAAAAAAAAAAAAAAAAAAAAAAAAAAAAAAAAAAAAAAAAAAAAAAAAAAAAAAAAAAAAAAAAAAAAAAAAAAAAAAAAAAAAAAAAAAAAAAAAAAAAAAAAAAAAAAAAAAAAAAAAAAAAAAAAAAAAAAAAAAAAAAAAAAAAAAAAAAAAAAAAAAAAAAAAAAAAAAAAAAAAAAAAAAAAAAAAAAAAAAAAAAAAAAAAAAAAAAAAAAAAAAAAAAAAAAAAAAAAAAAAAAAAAAAAAAAAAAAAAAAAAAAAAAAAAAAAAAAAAAAAAAAAAAAAAAAAAAAAAAAAAAAAAAAAAAAAAAAAAAAAAAAAAAAAAAAAAAAAAAAAAAAAAAAAAAAAAAAAAAAAAAAAAAAAAAAAAAAAAAAAAAAAAAAAAAAAAAAAAAAAAAAAAAAAAAAAAAAAAAAAAAAAAAAAAAAAAAAAAAAAAAAAAAAAAAAAAAAAAAAAAAAAAAAAAAAAAAAAAAAAAAAAAAAAAAAAAAAAAAAAAAAAAAAAAAAAAAAAAAAAAAAAAAAAAAAAAAAAAAAAAAAAAAAAAAAAAAAAAAAAAAAAAAAAAAAAAAAAAAAAAAAAAAAAAAAAAAAAAAAAAAAAAAAAAAAAAAAAAAAAAAAAAAAAAAAAAAAAAAAAAAAAAAAAAAAAAAAAAAAAAAAAAAAAAAAAAAAAAAAAAAAAAAAAAAAAAAAAAAAAAAAAAAAAAAAAAAAAAAAAAAAAAAAAAAAAAAAAAAAAAAAAAAAAAAAAAAAAAAAAAAAAAAAAAAAAAAAAAAAAAAAAAAAAAAAAAAAAAAAAAAAAAAAAAAAAAAAAAAAAAAAAAAAAAAAAAAAAAAAAAAAAAAAAAAAAAAAAAAAAAAAAAAAAAAAAAAAAAAAAAAAAAAAAAAAAAAAAAAAAAAAAAAAAAAAAAAAAAAAAAAAAAAAAAAAAAAAAAAAAAAAAAAAAAAAAAAAAAAAAAAAAAAAAAAAAAAAAAAAAAAAAAAAAAAAAAAAAAAAAAAAAAAAAAAAAAAAAAAAAAAAAAAAAAAAAAAAAAAAAAAAAAAAAAAAAAAAAAAAAAAAAAAAAAAAAAAAAAAAAAAAAAAAAAAAAAAAAAAAAAAAAAAAAAAAAAAAAAAAAAAAAAAAAAAAAAAAAAAAAAAAAAAAAAAAAAAAAAAAAAAAAAAAAAAAAAAAAAAAAAAAAAAAAAAAAAAAAAAAAAAAAAAAAAAAAAAAAAAAAAAAAAAAAAAAAAAAAAAAAAAAAAAAAAAAAAAAAAAAAAAAAAAAAAAAAAAAAAAAAAAAAAAAAAAAAAAAAAAAAAAAAAAAAAAAAAAAAAAAAAAAAAAAAAAAAAAAAAAAAAAAAAAAAAAAAAAAAAAAAAAAAAAAAAAAAAAAAAAAAAAAAAAAAAAAAAAAAAAAAAAAAAAAAAAAAAAAAAAAAAAAAAAAAAAAAAAAAAAAAAAAAAAAAAAAAAAAAAAAAAAAAAAAAAAAAAAAAAAAAAAAAAAAAAAAAAAAAAAAAAAAAAAAAAAAAAAAAAAAAAAAAAAAAAAAAAAAAAAAAAAAAAAAAAAAAAAAAAAAAAAAAAAAAAAAAAAAAAAAAAAAAAAAAAAAAAABAAAAAAAAAAAAAAAAAAAAAAAAAAAAAAAAAAAAAAAAAAAAAAAAAAAAAAAAAAAAAAAAAAAAAAAAAAAAAAAAAAAAAAAAAAAAAAAAAAAAAAAAAAAAAAAAAAAAAAAAAAAAAAAAAAAAAAAAAAAAAAAAAAAAAAAAAAAAAAAAAP//AAAAAAAAAAAAAAAAAAAAAAAAAAAAAAAAAAAAAAAAAAAAAAAAAAAAAAAAAAAAAAAAAAAAAAAAAAAAAAAAAAAAAAAAAAAAAAAAAAAAAAAAAAAAAAAAAAAAAAAAAAAAAAAAAAAAAAAAAAAAAAAAAAAAAAAAAAAAAAAAAAAAAAAAAAAAAAAAAAAAAAAAAAAAAAAAAAAAAAAAAAAAAAAAAAAAAAAAAAAAAAAAAAAAAAAAAAAAAAAAAAAAAAAAAAAAAAAAAAAAAAAAAAAAAAAAAAAAAAAAAAAAAAAAAAAAAAAAAAAAAAAAAAAAAAAAAAAAAAAAAAAAAAAAAAAAAAAAAAAAAAAAAAAAAAAAAAAAAAAAAAAAAAAAAAAAAAAAAAAAAAAAAAAAAAAAAAAAAAAAAAAAAAAAAAAAAAAAAAAAAAAAAAAAAAAAAAAAAAAAAAAAAAAAAAAAAAAAAAAAAAAAAAAAAAAAAAAAAAAAAAAAAAAAAAAAAAAAAAAAAAAAAAAAAAAAAAAAAAAAAAAAAAAAAAAAAAAAAAAAAAAAAAAAAAAAAAAAAAAAAAAAAAAAAAAAAAAAAAAAAAAAAAAAAAAAAAAAAAAAAAAAAAAAAAAAAAAAAAAAAAAAAAAAAAAAAAAAAAAAAAAAAAAAAAAAAAAAAAAAAAAAAAAAAAAAAAAAAAAAAAAAAAAAAAAAAAAAAAAAAAAAAAAAAAAAAAAAAAAAAAAAAAAAAAAAAAAAAAAAAAAAAAAAAAAAAAAAAAAAAAAAAAAAAAAAAAAAAAAAAAAAAAAAAAAAAAAAAAAAAAAAAAAAAAAAAAAAAAAAAAAAAAAAAAAAAAAAAAAAAAAAAAAAAAAAAAAAAAAAAAAAAAAAAAAAAAAAAAAAAAAAAAAAAAAAAAAAAAAAAAAAAAAAAAAAAAAAAAAAAAAAAAAAAAAAAAAAAAAAAAAAAAAAAAAAAAAAAAAAAAAAAAAAAAAAAAAAAAAAAAAAAAAAAAAAAAAAAAAAAAAAAAAAAAAAAAAAAAAAAAAAAAAAAAAAAAAAAAAAAAAAAAAAAAAAAAAAAAAAAAAAAAAAAAAAAAAAAAAAAAAAAAAAAAAAAAAAAAAAAAAAAAAAAAAAAAAAAAAAAAAAAAAAAAAAAAAAAAAAAAAAAAAAAAAAAAAAAAAAAAAAAAAAAAAAAAAAAAAAAAAAAAAAAAAAAAAAAAAAAAAAAAAAAAAAAAAAAAAAAAAAAAAAAAAAAAAAAAAAAAAAAAAAAAAAAAAAAAAAAAAAAAAAAAAAAAAAAAAAAAAAAAAAAAAAAAAAAAAAAAAAAAAAAAAAAAAAAAAAAAAAAAAAAAAAAAAAAAAAAAAAAAAAAAAAAAAAAAAAAAAAAAAAAAAAAAAAAAAAAAAAAAAAAAAAAAAAAAAAAAAAAAAAAAAAAAAAAAAAAAAAAAAAAAAAAAAAAAAAAAAAAAAAAAAAAAAAAAAAAAAAAAAAAAAAAAAAAAAAAAAAAAAAAAAAAAAAAAAAAAAAAAAAAAAAAAAAAAAAAAA=\" type=\"audio/wav\" />\n",
       "                    Your browser does not support the audio element.\n",
       "                </audio>\n",
       "              "
      ],
      "text/plain": [
       "<IPython.lib.display.Audio object>"
      ]
     },
     "execution_count": 65,
     "metadata": {},
     "output_type": "execute_result"
    }
   ],
   "source": [
    "rand_int = random.randint(0, len(test)-1)\n",
    "print(\"Target text:\", test[rand_int][\"target_text\"])\n",
    "print(\"Input array shape:\", np.asarray(test[rand_int][\"speech\"]).shape)\n",
    "print(\"Sampling rate:\", test[rand_int][\"sampling_rate\"])\n",
    "ipd.Audio(data=np.asarray(test[rand_int][\"speech\"]), autoplay=True, rate=16000)"
   ]
  },
  {
   "cell_type": "code",
   "execution_count": 67,
   "id": "24a13e82-9ac5-43ad-99f6-432bc30b7437",
   "metadata": {},
   "outputs": [
    {
     "data": {
      "text/plain": [
       "list"
      ]
     },
     "execution_count": 67,
     "metadata": {},
     "output_type": "execute_result"
    }
   ],
   "source": [
    "type(train[0]['speech'])"
   ]
  },
  {
   "cell_type": "code",
   "execution_count": 68,
   "id": "896b1d19-98f8-44a0-93a6-638446dd9103",
   "metadata": {},
   "outputs": [],
   "source": [
    "def prepare_dataset(batch):\n",
    "    batch[\"input_values\"] = processor(batch[\"speech\"], sampling_rate=16000).input_values[0]\n",
    "    batch[\"input_length\"] = len(batch[\"input_values\"])\n",
    "    with processor.as_target_processor():\n",
    "        batch[\"labels\"] = processor(batch[\"target_text\"]).input_ids\n",
    "    return batch"
   ]
  },
  {
   "cell_type": "code",
   "execution_count": 69,
   "id": "e20616fc-72a2-4ca7-8095-53052cd2d578",
   "metadata": {},
   "outputs": [],
   "source": [
    "def prepare_dataset_submission(batch):\n",
    "    batch[\"input_values\"] = processor(batch[\"speech\"], sampling_rate=16000).input_values[0]\n",
    "    batch[\"input_length\"] = len(batch[\"input_values\"])\n",
    "    return batch"
   ]
  },
  {
   "cell_type": "code",
   "execution_count": 70,
   "id": "53b48c92-94af-49d3-9853-c4c0c3b26714",
   "metadata": {},
   "outputs": [
    {
     "data": {
      "text/plain": [
       "943"
      ]
     },
     "execution_count": 70,
     "metadata": {},
     "output_type": "execute_result"
    }
   ],
   "source": [
    "gc.collect()"
   ]
  },
  {
   "cell_type": "code",
   "execution_count": null,
   "id": "7ee15d7c-618e-40cd-838a-1f1478535c25",
   "metadata": {},
   "outputs": [],
   "source": [
    "train=train.map(prepare_dataset, remove_columns=train.column_names)\n",
    "test=test.map(prepare_dataset, remove_columns=test.column_names)\n",
    "submission=submission.map(prepare_dataset_submission, remove_columns=submission.column_names)"
   ]
  },
  {
   "cell_type": "code",
   "execution_count": null,
   "id": "fb57a91b-5251-4ff7-8135-5775e4ea43b8",
   "metadata": {},
   "outputs": [],
   "source": [
    "gc.collect()"
   ]
  },
  {
   "cell_type": "code",
   "execution_count": null,
   "id": "6c6a4402-9c54-4ef1-98cf-463626fc71d5",
   "metadata": {},
   "outputs": [],
   "source": [
    "train"
   ]
  },
  {
   "cell_type": "code",
   "execution_count": null,
   "id": "03f98e71-f5bf-4965-a9c6-9ad05bb86bbc",
   "metadata": {},
   "outputs": [],
   "source": [
    "test"
   ]
  },
  {
   "cell_type": "code",
   "execution_count": null,
   "id": "561a0b02-ce35-42bc-9fee-e3fcb8236154",
   "metadata": {},
   "outputs": [],
   "source": [
    "submission"
   ]
  },
  {
   "cell_type": "code",
   "execution_count": null,
   "id": "21a84015-bf3e-427e-817f-5ad1e793af5f",
   "metadata": {},
   "outputs": [],
   "source": [
    "rand_int = random.randint(0, len(test)-1)\n",
    "print(\"Target text:\", test[rand_int][\"labels\"])\n",
    "#print(\"Input array shape:\", test[rand_int][\"input_values\"])\n",
    "ipd.Audio(data=np.asarray(test[rand_int][\"input_values\"]), autoplay=True, rate=16000)"
   ]
  },
  {
   "cell_type": "markdown",
   "id": "54078871-15ef-4bfd-a486-d38eb6979c32",
   "metadata": {},
   "source": [
    "## Set up trainer"
   ]
  },
  {
   "cell_type": "code",
   "execution_count": null,
   "id": "e18fac8c-f0da-4771-9f62-832d14c10589",
   "metadata": {},
   "outputs": [],
   "source": [
    "import torch\n",
    "\n",
    "from dataclasses import dataclass, field\n",
    "from typing import Any, Dict, List, Optional, Union\n",
    "\n",
    "@dataclass\n",
    "class DataCollatorCTCWithPadding:\n",
    "    \"\"\"\n",
    "    Data collator that will dynamically pad the inputs received.\n",
    "    Args:\n",
    "        processor (:class:`~transformers.Wav2Vec2Processor`)\n",
    "            The processor used for proccessing the data.\n",
    "        padding (:obj:`bool`, :obj:`str` or :class:`~transformers.tokenization_utils_base.PaddingStrategy`, `optional`, defaults to :obj:`True`):\n",
    "            Select a strategy to pad the returned sequences (according to the model's padding side and padding index)\n",
    "            among:\n",
    "            * :obj:`True` or :obj:`'longest'`: Pad to the longest sequence in the batch (or no padding if only a single\n",
    "              sequence if provided).\n",
    "            * :obj:`'max_length'`: Pad to a maximum length specified with the argument :obj:`max_length` or to the\n",
    "              maximum acceptable input length for the model if that argument is not provided.\n",
    "            * :obj:`False` or :obj:`'do_not_pad'` (default): No padding (i.e., can output a batch with sequences of\n",
    "              different lengths).\n",
    "        max_length (:obj:`int`, `optional`):\n",
    "            Maximum length of the ``input_values`` of the returned list and optionally padding length (see above).\n",
    "        max_length_labels (:obj:`int`, `optional`):\n",
    "            Maximum length of the ``labels`` returned list and optionally padding length (see above).\n",
    "        pad_to_multiple_of (:obj:`int`, `optional`):\n",
    "            If set will pad the sequence to a multiple of the provided value.\n",
    "            This is especially useful to enable the use of Tensor Cores on NVIDIA hardware with compute capability >=\n",
    "            7.5 (Volta).\n",
    "    \"\"\"\n",
    "\n",
    "    processor: Wav2Vec2Processor\n",
    "    padding: Union[bool, str] = True\n",
    "    max_length: Optional[int] = None\n",
    "    max_length_labels: Optional[int] = None\n",
    "    pad_to_multiple_of: Optional[int] = None\n",
    "    pad_to_multiple_of_labels: Optional[int] = None\n",
    "\n",
    "    def __call__(self, features: List[Dict[str, Union[List[int], torch.Tensor]]]) -> Dict[str, torch.Tensor]:\n",
    "        # split inputs and labels since they have to be of different lenghts and need\n",
    "        # different padding methods\n",
    "        input_features = [{\"input_values\": feature[\"input_values\"]} for feature in features]\n",
    "        label_features = [{\"input_ids\": feature[\"labels\"]} for feature in features]\n",
    "\n",
    "        batch = self.processor.pad(\n",
    "            input_features,\n",
    "            padding=self.padding,\n",
    "            max_length=self.max_length,\n",
    "            pad_to_multiple_of=self.pad_to_multiple_of,\n",
    "            return_tensors=\"pt\",\n",
    "        )\n",
    "        with self.processor.as_target_processor():\n",
    "            labels_batch = self.processor.pad(\n",
    "                label_features,\n",
    "                padding=self.padding,\n",
    "                max_length=self.max_length_labels,\n",
    "                pad_to_multiple_of=self.pad_to_multiple_of_labels,\n",
    "                return_tensors=\"pt\",\n",
    "            )\n",
    "\n",
    "        # replace padding with -100 to ignore loss correctly\n",
    "        labels = labels_batch[\"input_ids\"].masked_fill(labels_batch.attention_mask.ne(1), -100)\n",
    "\n",
    "        batch[\"labels\"] = labels\n",
    "\n",
    "        return batch"
   ]
  },
  {
   "cell_type": "code",
   "execution_count": null,
   "id": "899bdbc3-c855-4c95-84b4-8867287fbe29",
   "metadata": {},
   "outputs": [],
   "source": [
    "data_collator = DataCollatorCTCWithPadding(processor=processor, padding=True)"
   ]
  },
  {
   "cell_type": "code",
   "execution_count": null,
   "id": "4d3444d4-2055-42b1-b52e-c1d5b250cf88",
   "metadata": {},
   "outputs": [],
   "source": [
    "wer_metric = load_metric(\"wer\")"
   ]
  },
  {
   "cell_type": "code",
   "execution_count": null,
   "id": "24bc48b8-8cea-4d7a-a8cf-df0cc9604b3a",
   "metadata": {},
   "outputs": [],
   "source": [
    "def compute_metrics(pred):\n",
    "    pred_logits = pred.predictions\n",
    "    pred_ids = np.argmax(pred_logits, axis=-1)\n",
    "\n",
    "    pred.label_ids[pred.label_ids == -100] = processor.tokenizer.pad_token_id\n",
    "\n",
    "    pred_str = processor.batch_decode(pred_ids)\n",
    "    # we do not want to group tokens when computing the metrics\n",
    "    label_str = processor.batch_decode(pred.label_ids, group_tokens=False)\n",
    "\n",
    "    wer = wer_metric.compute(predictions=pred_str, references=label_str)\n",
    "\n",
    "    return {\"wer\": wer}"
   ]
  },
  {
   "cell_type": "code",
   "execution_count": null,
   "id": "bfa7299e-9609-4bb1-9cc0-c9765144f05d",
   "metadata": {},
   "outputs": [],
   "source": [
    "len(processor.tokenizer)"
   ]
  },
  {
   "cell_type": "code",
   "execution_count": null,
   "id": "b6090a62-86b6-4454-98d3-a93ac63f3d48",
   "metadata": {},
   "outputs": [],
   "source": [
    "from transformers import AutoModelForCTC\n",
    "\n",
    "model = AutoModelForCTC.from_pretrained(\n",
    "    model_checkpoint,\n",
    "    attention_dropout=0.1,\n",
    "    hidden_dropout=0.1,\n",
    "    feat_proj_dropout=0.0,\n",
    "    mask_time_prob=0.05,\n",
    "    layerdrop=0.1,\n",
    "    ctc_loss_reduction=\"mean\", \n",
    "    pad_token_id=processor.tokenizer.pad_token_id,\n",
    "    vocab_size=len(processor.tokenizer)\n",
    ")"
   ]
  },
  {
   "cell_type": "code",
   "execution_count": null,
   "id": "fb7f1fd9-1566-45e7-b9e2-3917a8d4f6ad",
   "metadata": {},
   "outputs": [],
   "source": [
    "if hasattr(model, \"freeze_feature_extractor\"):\n",
    "    model.freeze_feature_extractor()"
   ]
  },
  {
   "cell_type": "code",
   "execution_count": null,
   "id": "78460e43-6393-4a97-8b87-6ceab31238c2",
   "metadata": {},
   "outputs": [],
   "source": [
    "from transformers import TrainingArguments\n",
    "\n",
    "training_args = TrainingArguments(\n",
    "  output_dir='./model',\n",
    "  group_by_length=True,\n",
    "  per_device_train_batch_size=batch_size,\n",
    "  gradient_accumulation_steps=2,\n",
    "  evaluation_strategy=\"steps\",\n",
    "  num_train_epochs=30,\n",
    "  gradient_checkpointing=True,\n",
    "  fp16=True,\n",
    "  save_steps=100,\n",
    "  eval_steps=50,\n",
    "  logging_steps=50,\n",
    "  learning_rate=0.1,\n",
    "  warmup_steps=45,\n",
    "  save_total_limit=2,\n",
    ")"
   ]
  },
  {
   "cell_type": "code",
   "execution_count": null,
   "id": "7b3b7512-abf0-4456-9cb4-5bae65b4767f",
   "metadata": {},
   "outputs": [],
   "source": [
    "from transformers import Trainer\n",
    "\n",
    "trainer = Trainer(\n",
    "    model=model,\n",
    "    data_collator=data_collator,\n",
    "    args=training_args,\n",
    "    compute_metrics=compute_metrics,\n",
    "    train_dataset=train,\n",
    "    eval_dataset=test,\n",
    "    tokenizer=processor.feature_extractor,\n",
    ")"
   ]
  },
  {
   "cell_type": "markdown",
   "id": "3c22c758-efad-474a-90fa-3bbeafc68cc3",
   "metadata": {},
   "source": [
    "## Training the model"
   ]
  },
  {
   "cell_type": "code",
   "execution_count": null,
   "id": "55042d46-b4a9-47d1-8416-04177c9f1827",
   "metadata": {},
   "outputs": [],
   "source": [
    "trainer.train()"
   ]
  },
  {
   "cell_type": "code",
   "execution_count": null,
   "id": "38aa1878-5bfa-482b-b186-3933839a898f",
   "metadata": {},
   "outputs": [],
   "source": [
    "model.save_pretrained(\"wav2vec2\")\n",
    "processor.save_pretrained(\"wav2vec2\")"
   ]
  },
  {
   "cell_type": "code",
   "execution_count": null,
   "id": "f8612cfd-be88-4ef0-ab0d-ec7f86922f12",
   "metadata": {},
   "outputs": [],
   "source": [
    "from google.colab import drive\n",
    "drive.mount('/content/drive')\n",
    "!cp -R /content/wav2vec2 /content/drive/MyDrive/buet_cse_fest_dlsprint\n",
    "from google.colab import drive\n",
    "drive.flush_and_unmount()"
   ]
  },
  {
   "cell_type": "markdown",
   "id": "2f0d6167-4230-4631-8c57-4a3a33a5aab7",
   "metadata": {},
   "source": [
    "# Testing and evaluation"
   ]
  },
  {
   "cell_type": "code",
   "execution_count": null,
   "id": "c0bf3e2c-efeb-4ae7-a14d-ac66336ac147",
   "metadata": {},
   "outputs": [],
   "source": []
  },
  {
   "cell_type": "markdown",
   "id": "3ffd832f-b723-41a8-93ee-2bfb7fe03bef",
   "metadata": {},
   "source": [
    "# Submission"
   ]
  },
  {
   "cell_type": "code",
   "execution_count": null,
   "id": "d1ff5654-6865-4a99-b87b-fb50901272fc",
   "metadata": {},
   "outputs": [],
   "source": [
    "from transformers import AutoModelForCTC, Wav2Vec2Processor\n",
    "\n",
    "model = AutoModelForCTC.from_pretrained(\"wav2vec2\")\n",
    "processor = Wav2Vec2Processor.from_pretrained(\"wav2vec2\")"
   ]
  },
  {
   "cell_type": "code",
   "execution_count": null,
   "id": "9aa376eb-d086-4c8e-af6c-2730a2614826",
   "metadata": {},
   "outputs": [],
   "source": []
  },
  {
   "cell_type": "code",
   "execution_count": null,
   "id": "45902dc2-54b4-4879-9d7d-0af2f2990319",
   "metadata": {},
   "outputs": [],
   "source": [
    "input_dict = processor(submission[\"input_values\"][0], return_tensors=\"pt\", padding=True)\n",
    "\n",
    "logits = model(input_dict.input_values.to(\"cuda\")).logits\n",
    "\n",
    "pred_ids = torch.argmax(logits, dim=-1)[0]\n",
    "print(processor.decode(pred_ids))"
   ]
  },
  {
   "cell_type": "code",
   "execution_count": null,
   "id": "af7be4d9-fbfa-4da5-9f1b-adc9f8425289",
   "metadata": {},
   "outputs": [],
   "source": [
    "final_pred = []\n",
    "for i in tqdm(range(submission.shape[0])):    \n",
    "    input_dict = processor(submission[i][\"input_values\"], return_tensors=\"pt\", padding=True)\n",
    "\n",
    "    logits = model(input_dict.input_values.to(\"cuda\")).logits\n",
    "\n",
    "    pred_ids = torch.argmax(logits, dim=-1)[0]\n",
    "    prediction = processor.decode(pred_ids)\n",
    "    final_pred.append(prediction)"
   ]
  }
 ],
 "metadata": {
  "kernelspec": {
   "display_name": "Python 3 (ipykernel)",
   "language": "python",
   "name": "python3"
  },
  "language_info": {
   "codemirror_mode": {
    "name": "ipython",
    "version": 3
   },
   "file_extension": ".py",
   "mimetype": "text/x-python",
   "name": "python",
   "nbconvert_exporter": "python",
   "pygments_lexer": "ipython3",
   "version": "3.10.4"
  },
  "toc-autonumbering": true,
  "toc-showcode": false,
  "toc-showmarkdowntxt": false,
  "toc-showtags": false
 },
 "nbformat": 4,
 "nbformat_minor": 5
}
