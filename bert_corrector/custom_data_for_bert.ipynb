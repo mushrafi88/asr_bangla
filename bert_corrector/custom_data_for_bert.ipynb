{
 "cells": [
  {
   "cell_type": "code",
   "execution_count": 1,
   "id": "d91894e2-77ae-42fa-a293-fcce486570b5",
   "metadata": {},
   "outputs": [
    {
     "name": "stdout",
     "output_type": "stream",
     "text": [
      "INFO: Pandarallel will run on 4 workers.\n",
      "INFO: Pandarallel will use Memory file system to transfer data between the main process and workers.\n"
     ]
    }
   ],
   "source": [
    "import pandas as pd \n",
    "import numpy  as np\n",
    "from wordfreq import word_frequency ,top_n_list,get_frequency_dict\n",
    "\n",
    "from symspellpy import SymSpell, Verbosity\n",
    "from itertools import islice\n",
    "\n",
    "import warnings\n",
    "warnings.simplefilter(action='ignore', category=FutureWarning)\n",
    "\n",
    "from tqdm import tqdm  \n",
    "from pandarallel import pandarallel\n",
    "\n",
    "pandarallel.initialize(progress_bar=True,nb_workers=4)\n"
   ]
  },
  {
   "cell_type": "code",
   "execution_count": 2,
   "id": "260b7f12-4715-455a-9e30-ac37c7680ab1",
   "metadata": {},
   "outputs": [
    {
     "data": {
      "text/plain": [
       "True"
      ]
     },
     "execution_count": 2,
     "metadata": {},
     "output_type": "execute_result"
    }
   ],
   "source": [
    "sym_spell = SymSpell(max_dictionary_edit_distance=5, prefix_length=7)\n",
    "dictionary_path = 'asr_bangla/data/prothom_alo_word_freq.txt'\n",
    "sym_spell.load_dictionary(dictionary_path, 0, 1,separator=\" \")"
   ]
  },
  {
   "cell_type": "code",
   "execution_count": 38,
   "id": "5aa90c94-2e70-48f0-8de5-760ae8aed0c9",
   "metadata": {},
   "outputs": [],
   "source": [
    "df_prothom_alo = pd.read_csv('bangla_text_data.csv')\n",
    "\n",
    "df_prothom_alo= df_prothom_alo.dropna(how='any')"
   ]
  },
  {
   "cell_type": "code",
   "execution_count": 39,
   "id": "33b25d82-6886-4b46-97ac-30a26f1072f1",
   "metadata": {},
   "outputs": [],
   "source": [
    "def get_len(sen):\n",
    "    sen = sen.split()\n",
    "    l = len(sen)\n",
    "    return l"
   ]
  },
  {
   "cell_type": "code",
   "execution_count": 40,
   "id": "3aa0aa5b-5056-46df-bace-547180342999",
   "metadata": {},
   "outputs": [],
   "source": [
    "df_prothom_alo = df_prothom_alo.sample(300000)"
   ]
  },
  {
   "cell_type": "code",
   "execution_count": 41,
   "id": "a2399432-be75-45d6-9c5a-c35128bede45",
   "metadata": {},
   "outputs": [],
   "source": [
    "df_prothom_alo['lena'] = df_prothom_alo['sentence'].apply(lambda x: get_len(str(x)) )"
   ]
  },
  {
   "cell_type": "code",
   "execution_count": 42,
   "id": "278fa2f8-eea1-43b3-8a5a-7d4a07651d1f",
   "metadata": {},
   "outputs": [
    {
     "data": {
      "text/plain": [
       "6      28611\n",
       "5      27855\n",
       "7      27242\n",
       "4      25512\n",
       "8      24984\n",
       "       ...  \n",
       "130        1\n",
       "64         1\n",
       "68         1\n",
       "69         1\n",
       "65         1\n",
       "Name: lena, Length: 72, dtype: int64"
      ]
     },
     "execution_count": 42,
     "metadata": {},
     "output_type": "execute_result"
    }
   ],
   "source": [
    "df_prothom_alo.lena.value_counts()"
   ]
  },
  {
   "cell_type": "code",
   "execution_count": 43,
   "id": "2576fbfa-a23b-4434-a16f-adfda7228c0c",
   "metadata": {},
   "outputs": [],
   "source": [
    "df_prothom_alo = df_prothom_alo[(df_prothom_alo.lena >= 3) & (df_prothom_alo.lena <= 15)]"
   ]
  },
  {
   "cell_type": "code",
   "execution_count": 44,
   "id": "9baee4b4-8dd2-4b97-a4ba-49473bbfe7f7",
   "metadata": {},
   "outputs": [],
   "source": [
    "df_prothom_alo = df_prothom_alo.sample(100000)"
   ]
  },
  {
   "cell_type": "code",
   "execution_count": 45,
   "id": "cdca9b0d-24eb-4a8c-b59b-899b76bf6942",
   "metadata": {},
   "outputs": [
    {
     "data": {
      "text/plain": [
       "6     11627\n",
       "5     11407\n",
       "7     10876\n",
       "4     10484\n",
       "8     10066\n",
       "9      8765\n",
       "3      8560\n",
       "10     7436\n",
       "11     6188\n",
       "12     4927\n",
       "13     4142\n",
       "14     3094\n",
       "15     2428\n",
       "Name: lena, dtype: int64"
      ]
     },
     "execution_count": 45,
     "metadata": {},
     "output_type": "execute_result"
    }
   ],
   "source": [
    "df_prothom_alo.lena.value_counts()"
   ]
  },
  {
   "cell_type": "code",
   "execution_count": 46,
   "id": "d10024b7-1f3d-4cd6-9437-ad53e525bd12",
   "metadata": {},
   "outputs": [],
   "source": [
    "df_prothom_alo.to_csv('custom_data_for_bert.csv',index=False)"
   ]
  },
  {
   "cell_type": "code",
   "execution_count": null,
   "id": "b73717df-9564-4a0e-99fd-d618bc897754",
   "metadata": {},
   "outputs": [],
   "source": []
  }
 ],
 "metadata": {
  "kernelspec": {
   "display_name": "Python 3 (ipykernel)",
   "language": "python",
   "name": "python3"
  },
  "language_info": {
   "codemirror_mode": {
    "name": "ipython",
    "version": 3
   },
   "file_extension": ".py",
   "mimetype": "text/x-python",
   "name": "python",
   "nbconvert_exporter": "python",
   "pygments_lexer": "ipython3",
   "version": "3.10.4"
  }
 },
 "nbformat": 4,
 "nbformat_minor": 5
}
