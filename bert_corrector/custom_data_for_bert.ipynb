{
 "cells": [
  {
   "cell_type": "code",
   "execution_count": 1,
   "id": "d91894e2-77ae-42fa-a293-fcce486570b5",
   "metadata": {},
   "outputs": [
    {
     "name": "stdout",
     "output_type": "stream",
     "text": [
      "INFO: Pandarallel will run on 4 workers.\n",
      "INFO: Pandarallel will use Memory file system to transfer data between the main process and workers.\n"
     ]
    }
   ],
   "source": [
    "import pandas as pd \n",
    "import numpy  as np\n",
    "from wordfreq import word_frequency ,top_n_list,get_frequency_dict\n",
    "\n",
    "from symspellpy import SymSpell, Verbosity\n",
    "from itertools import islice\n",
    "\n",
    "import warnings\n",
    "warnings.simplefilter(action='ignore', category=FutureWarning)\n",
    "\n",
    "from random import random, choice\n",
    "import random\n",
    "import time\n",
    "\n",
    "from tqdm import tqdm  \n",
    "from pandarallel import pandarallel\n",
    "\n",
    "pandarallel.initialize(progress_bar=True,nb_workers=4)\n"
   ]
  },
  {
   "cell_type": "code",
   "execution_count": 2,
   "id": "260b7f12-4715-455a-9e30-ac37c7680ab1",
   "metadata": {},
   "outputs": [
    {
     "data": {
      "text/plain": [
       "True"
      ]
     },
     "execution_count": 2,
     "metadata": {},
     "output_type": "execute_result"
    }
   ],
   "source": [
    "sym_spell = SymSpell(max_dictionary_edit_distance=5, prefix_length=7)\n",
    "dictionary_path = 'asr_bangla/data/prothom_alo_word_freq.txt'\n",
    "sym_spell.load_dictionary(dictionary_path, 0, 1,separator=\" \")"
   ]
  },
  {
   "cell_type": "code",
   "execution_count": 3,
   "id": "5aa90c94-2e70-48f0-8de5-760ae8aed0c9",
   "metadata": {},
   "outputs": [],
   "source": [
    "df_prothom_alo = pd.read_csv('bangla_text_data.csv')\n",
    "\n",
    "df_prothom_alo= df_prothom_alo.dropna(how='any')"
   ]
  },
  {
   "cell_type": "code",
   "execution_count": 4,
   "id": "33b25d82-6886-4b46-97ac-30a26f1072f1",
   "metadata": {},
   "outputs": [],
   "source": [
    "def get_len(sen):\n",
    "    sen = sen.split()\n",
    "    l = len(sen)\n",
    "    return l"
   ]
  },
  {
   "cell_type": "code",
   "execution_count": 5,
   "id": "3aa0aa5b-5056-46df-bace-547180342999",
   "metadata": {},
   "outputs": [],
   "source": [
    "df_prothom_alo = df_prothom_alo.sample(300000)"
   ]
  },
  {
   "cell_type": "code",
   "execution_count": 6,
   "id": "a2399432-be75-45d6-9c5a-c35128bede45",
   "metadata": {},
   "outputs": [],
   "source": [
    "df_prothom_alo['lena'] = df_prothom_alo['sentence'].apply(lambda x: get_len(str(x)) )"
   ]
  },
  {
   "cell_type": "code",
   "execution_count": 7,
   "id": "278fa2f8-eea1-43b3-8a5a-7d4a07651d1f",
   "metadata": {},
   "outputs": [
    {
     "data": {
      "text/plain": [
       "6      28800\n",
       "5      27971\n",
       "7      27395\n",
       "4      25624\n",
       "8      24386\n",
       "       ...  \n",
       "123        1\n",
       "63         1\n",
       "80         1\n",
       "58         1\n",
       "75         1\n",
       "Name: lena, Length: 73, dtype: int64"
      ]
     },
     "execution_count": 7,
     "metadata": {},
     "output_type": "execute_result"
    }
   ],
   "source": [
    "df_prothom_alo.lena.value_counts()"
   ]
  },
  {
   "cell_type": "code",
   "execution_count": 8,
   "id": "2576fbfa-a23b-4434-a16f-adfda7228c0c",
   "metadata": {},
   "outputs": [],
   "source": [
    "df_prothom_alo = df_prothom_alo[(df_prothom_alo.lena >= 3) & (df_prothom_alo.lena <= 15)]"
   ]
  },
  {
   "cell_type": "code",
   "execution_count": 9,
   "id": "9baee4b4-8dd2-4b97-a4ba-49473bbfe7f7",
   "metadata": {},
   "outputs": [],
   "source": [
    "df_prothom_alo = df_prothom_alo.sample(100000)"
   ]
  },
  {
   "cell_type": "code",
   "execution_count": 10,
   "id": "cdca9b0d-24eb-4a8c-b59b-899b76bf6942",
   "metadata": {},
   "outputs": [
    {
     "data": {
      "text/plain": [
       "6     11713\n",
       "5     11287\n",
       "7     11226\n",
       "4     10187\n",
       "8      9930\n",
       "9      8800\n",
       "3      8547\n",
       "10     7366\n",
       "11     6179\n",
       "12     5006\n",
       "13     4106\n",
       "14     3129\n",
       "15     2524\n",
       "Name: lena, dtype: int64"
      ]
     },
     "execution_count": 10,
     "metadata": {},
     "output_type": "execute_result"
    }
   ],
   "source": [
    "df_prothom_alo.lena.value_counts()"
   ]
  },
  {
   "cell_type": "code",
   "execution_count": 11,
   "id": "d10024b7-1f3d-4cd6-9437-ad53e525bd12",
   "metadata": {},
   "outputs": [],
   "source": [
    "df_prothom_alo.to_csv('custom_data_for_bert.csv',index=False)"
   ]
  },
  {
   "cell_type": "code",
   "execution_count": 12,
   "id": "b73717df-9564-4a0e-99fd-d618bc897754",
   "metadata": {},
   "outputs": [],
   "source": [
    "df_prothom_alo = pd.read_csv('custom_data_for_bert.csv')"
   ]
  },
  {
   "cell_type": "code",
   "execution_count": 13,
   "id": "a7b7a147-bfc7-413c-9c8b-8bd00842b317",
   "metadata": {},
   "outputs": [
    {
     "data": {
      "text/html": [
       "<div>\n",
       "<style scoped>\n",
       "    .dataframe tbody tr th:only-of-type {\n",
       "        vertical-align: middle;\n",
       "    }\n",
       "\n",
       "    .dataframe tbody tr th {\n",
       "        vertical-align: top;\n",
       "    }\n",
       "\n",
       "    .dataframe thead th {\n",
       "        text-align: right;\n",
       "    }\n",
       "</style>\n",
       "<table border=\"1\" class=\"dataframe\">\n",
       "  <thead>\n",
       "    <tr style=\"text-align: right;\">\n",
       "      <th></th>\n",
       "      <th>sentence</th>\n",
       "      <th>lena</th>\n",
       "    </tr>\n",
       "  </thead>\n",
       "  <tbody>\n",
       "    <tr>\n",
       "      <th>0</th>\n",
       "      <td>দিনটি জমকালোভাবে আমার স্বামী আয়োজন করে</td>\n",
       "      <td>6</td>\n",
       "    </tr>\n",
       "    <tr>\n",
       "      <th>1</th>\n",
       "      <td>আরও অর্থ থাকায় বছরের জন্য সঞ্চয়পত্র ক্রয় করেন</td>\n",
       "      <td>8</td>\n",
       "    </tr>\n",
       "    <tr>\n",
       "      <th>2</th>\n",
       "      <td>একটি বাংলাদেশ তুমি জাগ্রত জনতার</td>\n",
       "      <td>5</td>\n",
       "    </tr>\n",
       "    <tr>\n",
       "      <th>3</th>\n",
       "      <td>সমালোচনার তিরবিদ্ধ টেস্ট অধিনায়ক মুমিনুল হকেরও...</td>\n",
       "      <td>9</td>\n",
       "    </tr>\n",
       "    <tr>\n",
       "      <th>4</th>\n",
       "      <td>বিভিন্ন এনজিও চর এলাকায় কাজ করছে</td>\n",
       "      <td>6</td>\n",
       "    </tr>\n",
       "    <tr>\n",
       "      <th>...</th>\n",
       "      <td>...</td>\n",
       "      <td>...</td>\n",
       "    </tr>\n",
       "    <tr>\n",
       "      <th>99995</th>\n",
       "      <td>তিনি মার কথার দিকে বিশেষ নজর না নিয়ে বেরিয়ে গেলেন</td>\n",
       "      <td>10</td>\n",
       "    </tr>\n",
       "    <tr>\n",
       "      <th>99996</th>\n",
       "      <td>গতকাল দুপুরে নামাজের পর সৈয়দুর নিজ ঘরে ঘুমিয়ে ...</td>\n",
       "      <td>9</td>\n",
       "    </tr>\n",
       "    <tr>\n",
       "      <th>99997</th>\n",
       "      <td>বেলায়েতরা তিন ভাই</td>\n",
       "      <td>3</td>\n",
       "    </tr>\n",
       "    <tr>\n",
       "      <th>99998</th>\n",
       "      <td>আজ বুধবার গণমাধ্যমে পাঠানো বিবৃতিতে বলা হয়</td>\n",
       "      <td>7</td>\n",
       "    </tr>\n",
       "    <tr>\n",
       "      <th>99999</th>\n",
       "      <td>এ পরীক্ষানিরীক্ষা নানা রকম জীবে পরিচালনা করা ব...</td>\n",
       "      <td>9</td>\n",
       "    </tr>\n",
       "  </tbody>\n",
       "</table>\n",
       "<p>100000 rows × 2 columns</p>\n",
       "</div>"
      ],
      "text/plain": [
       "                                                sentence  lena\n",
       "0                 দিনটি জমকালোভাবে আমার স্বামী আয়োজন করে     6\n",
       "1          আরও অর্থ থাকায় বছরের জন্য সঞ্চয়পত্র ক্রয় করেন     8\n",
       "2                        একটি বাংলাদেশ তুমি জাগ্রত জনতার     5\n",
       "3      সমালোচনার তিরবিদ্ধ টেস্ট অধিনায়ক মুমিনুল হকেরও...     9\n",
       "4                       বিভিন্ন এনজিও চর এলাকায় কাজ করছে     6\n",
       "...                                                  ...   ...\n",
       "99995  তিনি মার কথার দিকে বিশেষ নজর না নিয়ে বেরিয়ে গেলেন    10\n",
       "99996  গতকাল দুপুরে নামাজের পর সৈয়দুর নিজ ঘরে ঘুমিয়ে ...     9\n",
       "99997                                  বেলায়েতরা তিন ভাই     3\n",
       "99998         আজ বুধবার গণমাধ্যমে পাঠানো বিবৃতিতে বলা হয়     7\n",
       "99999  এ পরীক্ষানিরীক্ষা নানা রকম জীবে পরিচালনা করা ব...     9\n",
       "\n",
       "[100000 rows x 2 columns]"
      ]
     },
     "execution_count": 13,
     "metadata": {},
     "output_type": "execute_result"
    }
   ],
   "source": [
    "df_prothom_alo"
   ]
  },
  {
   "cell_type": "code",
   "execution_count": 14,
   "id": "c2efbc07-2871-4e97-9436-c0593ab70b94",
   "metadata": {},
   "outputs": [],
   "source": [
    "character = ['অ','আ','ই','ঈ','উ','ঊ','এ','ঐ','ও','ঔ','ঋ','ঃ','ং','ৎ'\n",
    "             'ক','খ','গ','ঘ','ঙ','চ', 'ছ','য','জ', 'ঝ','ট','ঠ','ড','র','ড়','ঢ়',\n",
    "             'ণ','ত','থ','দ','ধ','ন','প','ফ','ব','ভ','ম','স','শ','ষ','য়','হ']"
   ]
  },
  {
   "cell_type": "code",
   "execution_count": 15,
   "id": "13dc94d2-0746-43a4-8a90-2b68e1ec9259",
   "metadata": {},
   "outputs": [],
   "source": [
    "JuktakkhorList = [' ক্ট ' , ' ক্ক ' , ' ক্ত ' , ' ক্য ' , ' ক্র ' , ' ক্ল ' , ' ক্ষ ' , ' ক্ষ্ণ ' , ' ক্ষ্ম ' , ' ক্ষ্য ' , ' ক্স ' , ' খ্র ' , ' গ্ধ ' , ' গ্ধ্য ' , ' গ্ন ' , ' গ্ন্য ' , ' গ্ব ' , ' গ্র ' , ' গ্র্য ' , ' গ্ল ' , ' ঘ্ন ' , ' ঘ্র ' , ' ঙ্ক্য ' , ' ঙ্গ্য ' , ' চ্চ ' , ' চ্ছ্ব ' , ' চ্য ' , ' জ্জ ' , ' জ্জ্ব ' , ' ট্ট ' , ' জ্ব ' , ' জ্য ' , ' জ্র ' , ' ট্য ' , ' ট্র ' , ' ড্ড ' , ' ড্র ' , ' ণ্ট ' , ' ণ্ঠ ' , ' ণ্ড ' , ' ণ্ণ ' , ' ণ্য ' , ' ৎক ' , ' ৎখ ' , ' ত্ত ' , ' ত্ত্ব ' , ' ত্ত্য ' , ' ত্ন ' , ' ৎপ ' , ' ত্ব ' , ' ত্ম ' , ' ত্ম্য ' , ' ত্য ' , ' ত্র ' , ' ত্র্য ' , ' ৎস ' , ' দ্ঘ ' , ' দ্দ ' , ' দ্ধ ' , ' দ্ব ' , ' দ্ভ ' , ' দ্ভ্র ' , ' দ্ম ' , ' দ্য ' , ' দ্র ' , ' দ্র্য ' , ' ধ্ব ' , ' ধ্য ' , ' ধ্র ' , ' ন্ট ' , ' ন্ট্র ' , ' ন্ঠ ' , ' ন্ড ' , ' ন্ড্র ' , ' ন্ত ' , ' ন্ত্ব ' , ' ন্ত্য ' , ' ন্ত্র ' , ' ন্ত্র্য ' , ' ন্থ ' , ' ন্দ ' , ' ন্দ্ব ' , ' ন্দ্র ' , ' ন্ধ ' , ' ন্ন ' , ' ন্য ' , ' প্ট ' , ' প্ত ' , ' প্ন ' , ' প্প ' , ' প্য ' , ' ব্দ ' , ' ব্ধ ' , ' ব্ব ' , ' ব্র ' , ' ভ্য ' , ' ভ্র ' , ' ম্প্র ' , ' ম্ব ' , ' ম্ম ' , ' ম্য ' , ' ম্র ' , ' য্য ' , ' র্ক ' , ' র্গ্য ' , ' র্ঘ্য ' , ' র্জ্য ' , ' র্থ্য ' , ' র্ব্য ' , ' র্খ ' , ' র্গ ' , ' র্ঘ ' , ' র্চ ' , ' র্ছ ' , ' র্জ ' , ' র্ঝ ' , ' র্ট ' , ' র্ড ' , ' র্ণ ' , ' র্ত ' , ' র্থ ' , ' র্দ ' , ' র্দ্ব ' , ' র্দ্র ' , ' র্ধ ' , ' র্ধ্ব ' , ' ল্ট ' , ' ল্ড ' , ' ল্প ' , ' ল্ম ' , ' ল্য ' , ' ল্ল ' , ' শ্ছ ' , ' শ্ন ' , ' শ্ব ' , ' শ্র ' , ' শ্ল ' , ' ষ্ক ' , ' ষ্ক্র ' , ' ষ্ট ' , ' ষ্ট্য ' , ' ষ্ট্র ' , ' ষ্ঠ ' , ' ষ্প ' , ' স্ট ' , ' স্ট্র ' , ' স্ত্র ' , ' স্ত ' , ' স্থ্য ' , ' স্য ' , ' স্র ' , ' স্ল ' , ' হ্র ' , ' হ্ল ' , ' গ্ম ' , ' ম্ভ ' , ' স্ম ' , ' ঙ্ঘ ' , ' ঙ্ক্ষ ' , ' ঙ্খ ' , ' ঙ্ক ' , ' ঙ্‌ক্ত ' , ' ঞ্চ ' , ' ঞ্ছ ' , ' ঞ্জ ' , ' হ্ন ' , ' ঙ্গ ' , ' জ্ঞ ' , ' গ্য ' , ' চ্ছ '] "
   ]
  },
  {
   "cell_type": "code",
   "execution_count": 16,
   "id": "e37ad755-8cb9-4950-820c-f7158f7091db",
   "metadata": {},
   "outputs": [],
   "source": [
    "ReplaceDict = {\n",
    "      'ক' : ['ল','য'],\n",
    "      'খ' : ['কগ','কজ','লহ','ঝ'],\n",
    "      'গ' : ['ফ','হ'],\n",
    "      'ঘ' : ['ফগ','হজ'],\n",
    "      'ঙ' : ['ব','ম'],\n",
    "      'চ' : ['ভ','চজ','চগ','ভহ'],\n",
    "      'ছ' : ['ভ','চজ','চগ','ভহ'],\n",
    "      'জ' : ['ক','হ'],\n",
    "      'ঝ' : ['কজ','হগ'],\n",
    "      'ট' : ['র'],\n",
    "      'ঠ' : ['তজ','তগ','রহ'],\n",
    "      'ড' : ['স','ফ'],\n",
    "      'ঢ' : ['দজ','দ্গ','শ','ফহ'],\n",
    "      'ণ' : ['ব','ম'],\n",
    "      'ত' : ['র'],\n",
    "      'থ' : ['তজ', 'তগ', 'রহ'],\n",
    "      'দ' : ['স', 'ফ'],\n",
    "      'ধ' : ['দজ', 'দ্গ', 'শ' ,'ফহ'],\n",
    "      'ন' : ['ব','ম'],\n",
    "      'প' : ['ও',' ো'],\n",
    "      'ফ' : ['দ','গ'],\n",
    "      'ব' : ['ভ','ন'],\n",
    "      'ভ' : ['‍ব','চ'],\n",
    "      'ম' : ['ন'],\n",
    "      'য' : ['হ','ক'],\n",
    "      'র' : ['এ',' ে','ত'],\n",
    "      'ল' : ['ক'],\n",
    "      'শ' : ['সজ','সগ','আহ','ঢ'],\n",
    "      'ষ' : ['সজ','সগ','আহ','ঢ'],\n",
    "      'স' : ['আ',' া','দ'],\n",
    "      'হ' : ['গ','য'],\n",
    "      'য়' : ['ত','উ','ু'],\n",
    "      'ড়' : ['এ',' ে','ত'],\n",
    "      'ঢ়' : ['এ',' ে','ত'],\n",
    "      'ৎ' : ['র'],\n",
    "      'ং' : ['ব','ম'],\n",
    "      'ঃ' : ['গ','য'],\n",
    "      'অ' : ['প',' ি','ই'],\n",
    "      'আ' : ['স'],\n",
    "      'ই' : ['উ','অ'],\n",
    "      'ঈ' : ['উ','অ'],\n",
    "      'উ' : ['ই',' ি'],\n",
    "      'ঊ' : ['ই',' ি'],\n",
    "      'ঋ' : [''],\n",
    "      'এ' : ['ও','র'],\n",
    "      'ঐ' : [''],\n",
    "      'ও' : ['প','ই'],\n",
    "      'ঔ' : [''],\n",
    "      'া' : ['স'],\n",
    "      'ি' : ['উ','অ'],\n",
    "      'ো' : ['প',' ি'],\n",
    "      'ৌ' : [''],\n",
    "      'ে' : ['ো','র'],\n",
    "      'ৈ' : ['']\n",
    "    }"
   ]
  },
  {
   "cell_type": "code",
   "execution_count": 17,
   "id": "5a6f056c-8b73-4220-a047-8327d53fea1c",
   "metadata": {},
   "outputs": [],
   "source": [
    "SameClusterDict = {\n",
    "    'অ' : ['ও','আ','অ্যা','া','ওঁ','ওঃ'],\n",
    "    'আ' : ['আ','অ্যাঁ','আঃ','ওয়া','এ'],\n",
    "    'ই':['ই','ঈ','এ','ে','য়'],\n",
    "    'ঈ':['ই','ঈ','এ','ে','য়'],\n",
    "    'উ' : ['উ''উঁ','ঊ','ু'],\n",
    "    'ঊ' : ['উ''উঁ','ঊ','ু'],\n",
    "    'ঋ' : ['রি','হ্রী','ড়ি','ঢ়ি','ব্রই','ৃ','হ্র'],\n",
    "    'এ' : ['এ','অ্যা','আঃ'],\n",
    "    'ঐ': ['অই','ঈ','ওই' , 'ই', 'অ্যাই'],\n",
    "    'ও': ['ও','আ','অ্যা','া','ওঁ','ওঃ'],\n",
    "    'ঔ': [ 'ও','আ','অউ','অ্যা','া','ওঁ','ওঃ'],\n",
    "    'ক': ['ক','খ','গ', 'ও','আ','অ্যা','া','ওঁ','ওঃ','কোঁ',' কো','খ','খো','খও','ক্ষও','কহোঁ','কহও','গোঁ','গয়' ],\n",
    "    'খ': ['ক','খ','গ', 'ও','আ','অ্যা','া','ওঁ','ওঃ','কোঁ',' কো','খ','খো','খও','ক্ষও','কহোঁ','কহও','গোঁ','গয়' ],\n",
    "    'গ': ['ক','খ','গ', 'ও','আ','অ্যা','া','ওঁ','ওঃ','কোঁ',' কো','খ','খো','খও','ক্ষও','কহোঁ','কহও','গোঁ','গয়' ],\n",
    "    'ঘ ': ['খ','খো','খও','ক্ষও','কহোঁ','কহও','গোঁ','গয়' ,'ঘো ','ঘও'],\n",
    "    'ঙ': ['◌ং','ও','আ','অ্যা','া','ওঁ','ওঃ','অং'],\n",
    "    'চ': ['চ','ও','আ','অ্যা','া','ওঁ','ওঃ','চোঁ','চও','ছোঁ','ছো','ছও','ছ'],\n",
    "    'ছ': ['চ','ও','আ','অ্যা','া','ওঁ','ওঃ','চোঁ','চও','ছোঁ','ছো','ছও','ছ'],\n",
    "    'জ': ['জ','য','জো','যো','ঝ','ঝও'],\n",
    "    'ঝ': ['জ','য','জো','যো','ঝ','ঝও'],\n",
    "    'ঞ': ['ন','ঙ','ণ','ঞ','ই','ঈ','এ','ে','য়','নও' ],\n",
    "    'ট' : ['ত','তঁ','তোঁ','টয়','তো','ট'],\n",
    "    'ঠ' : ['থ','ত','তঁ','তোঁ','টয়','তো','ট'],\n",
    "    'ড' : ['দ','দো','দ্য','ডঃ' ,'দ্যো','ঢ','ধ','থ','ত','তঁ','তোঁ','টয়','তো','ট','ঢো','দঃ' ],\n",
    "    'ঢ': ['দ','দো','দ্য','ডঃ','দ্যো','ঢ','ধ','থ','ত','তঁ','তোঁ','টয়','তো','ট','ঢো','দঃ' ],\n",
    "    'ণ': ['ন','ঙ','ণ','ঞ','ই','ঈ','এ','ে','য়','নও' ],\n",
    "    'ত' : ['দ','দো','দ্য','ডঃ' ,'দ্যো','ঢ','ধ','থ','ত','তঁ','তোঁ','টয়','তো','ট','ঢো','দঃ' ],\n",
    "    'থ': ['দ','দো','দ্য','ডঃ' ,'দ্যো','ঢ','ধ','থ','ত','তঁ','তোঁ','টয়','তো','ট','ঢো','দঃ' ],\n",
    "    'দ' : ['দ','দো','দ্য','ডঃ' ,'দ্যো','ঢ','ধ','থ','ত','তঁ','তোঁ','টয়','তো','ট','ঢো','দঃ' ],\n",
    "    'ধ' : ['দ','দো','দ্য','ডঃ' ,'দ্যো','ঢ','ধ','থ','ত','তঁ','তোঁ','টয়','তো','ট','ঢো','দঃ' ],\n",
    "    'ন': ['ন','ঙ','ণ','ঞ','ই','ঈ','এ','ে','য়','নও' ],\n",
    "    'প' : ['প','ফ','ব','ভ','ম','ব্য', 'ভঁ', 'বও' ,'বো','বোঁ','ব্যয়','পঅ' ,'পো' ,'পয়' ,'পোঁ','ভঁ' ,'ভঅ' ,'ভয়','ভোঁ','ময়' ,'মোঃ'],\n",
    "    'ফ' : ['প','ফ','ব','ভ','ম','ব্য', 'ভঁ', 'বও' ,'বো','বোঁ','ব্যয়','পঅ' ,'পো' ,'পয়' ,'পোঁ','ভঁ' ,'ভঅ' ,'ভয়','ভোঁ','ময়' ,'মোঃ'],\n",
    "    'ব' : ['প','ফ','ব','ভ','ম','ব্য', 'ভঁ', 'বও' ,'বো','বোঁ','ব্যয়','পঅ' ,'পো' ,'পয়' ,'পোঁ','ভঁ' ,'ভঅ' ,'ভয়','ভোঁ','ময়' ,'মোঃ'],\n",
    "    'ভ' : ['প','ফ','ব','ভ','ম','ব্য', 'ভঁ', 'বও' ,'বো','বোঁ','ব্যয়','পঅ' ,'পো' ,'পয়' ,'পোঁ','ভঁ' ,'ভঅ' ,'ভয়','ভোঁ','ময়' ,'মোঃ'],\n",
    "    'ম' : ['প','ফ','ব','ভ','ম','ব্য', 'ভঁ', 'বও' ,'বো','বোঁ','ব্যয়','পঅ' ,'পো' ,'পয়' ,'পোঁ','ভঁ' ,'ভঅ' ,'ভয়','ভোঁ','ময়' ,'মোঃ'],\n",
    "    'য' : ['প','ফ','ব','ভ','ম','ব্য', 'ভঁ', 'বও' ,'বো','বোঁ','ব্যয়','পঅ' ,'পো' ,'পয়' ,'পোঁ','ভঁ' ,'ভঅ' ,'ভয়','ভোঁ','ময়' ,'মোঃ'],\n",
    "    'র' : ['র','ড়','ঢ়','রও','রোঁ','রো','রয়','ঋ', 'হর'  ],\n",
    "    'ল' : ['ল','লয়','লো'],\n",
    "    'শ' : ['শ','ষ','স','ও','আ','অ্যা','া','ওঁ','ওঃ','শো','সঅ','শয়'],\n",
    "    'ষ' : ['শ','ষ','স','ও','আ','অ্যা','া','ওঁ','ওঃ','শো','সঅ','শয়'],\n",
    "    'স' : ['শ','ষ','স','ও','আ','অ্যা','া','ওঁ','ওঃ','শো','সঅ','শয়'],\n",
    "    '‍হ': ['হ','ও','আ','অ্যা','া','ওঁ','ওঃ'],\n",
    "    'ড়' : ['র','ড়','ঢ়','রও','রোঁ','রো','রয়','ঋ', 'হর'  ],\n",
    "    '‍ঢ়': ['র','ড়','ঢ়','রও','রোঁ','রো','রয়','ঋ', 'হর'  ],\n",
    "    '‍য় ': ['ই','ঈ','এ','ে','য়'],\n",
    "\n",
    "    'ৎ' : ['দ','দো','দ্য','ডঃ' ,'দ্যো','ঢ','ধ','থ','ত','তঁ','তোঁ','টয়','তো','ট','ঢো','দঃ' ],\n",
    "    'ং' : ['◌ং','ও','আ','অ্যা','া','ওঁ','ওঃ','অং'],\n",
    "    'ঃ': ['হ','ও','আ','অ্যা','া','ওঁ','ওঃ'],\n",
    "    '‍ঁ' : [''],\n",
    "\n",
    "    '‍ি': ['ই','ঈ','এ','ে','য়'],\n",
    "    'ী' : ['ই','ঈ','এ','ে','য়'],\n",
    "    'ে':['এ','অ্যা','আঃ'],\n",
    "    'ৈ'  :['এ','অ্যা','আঃ'],\n",
    "    'ো' : ['ও','আ','অ্যা','া','ওঁ','ওঃ'],\n",
    "    'ৌ':['ও','আ','অ্যা','া','ওঁ','ওঃ'],\n",
    "    'ৃ' : ['রি','হ্রী','ড়ি','ঢ়ি','ব্রই','ৃ','হ্র'],\n",
    "     '◌ূ'  : ['উ''উঁ','ঊ','ু'],\n",
    "     ' ু'  : ['উ''উঁ','ঊ','ু']\n",
    "}"
   ]
  },
  {
   "cell_type": "code",
   "execution_count": 37,
   "id": "ad393483-253a-4549-87b3-5381de1617b0",
   "metadata": {},
   "outputs": [],
   "source": [
    "def apply_error(string,error):\n",
    "    random.seed(time.time()+200)\n",
    "    errors = ['Cluster','Replace','Juktakkhor','Character','Deletion','Noerror']\n",
    "    if error == \"Cluster\":\n",
    "        if string in list(SameClusterDict.keys()):\n",
    "            string = random.choice(SameClusterDict[string])\n",
    "    if error == \"Replace\":\n",
    "        if string in list(ReplaceDict.keys()):\n",
    "            string = random.choice(ReplaceDict[string])\n",
    "    if error == \"Juktakkhor\":\n",
    "        string = random.choice(JuktakkhorList)\n",
    "    if error == \"Character\":\n",
    "        string = random.choice(character)\n",
    "    if error == \"Deletion\":\n",
    "        string = \"\"\n",
    "    if error == \"insertion\":\n",
    "        temp_error = random.choice(errors)\n",
    "        string = string + apply_error(string,temp_error)\n",
    "    if error == \"Noerror\":\n",
    "        pass\n",
    "    return string"
   ]
  },
  {
   "cell_type": "code",
   "execution_count": 63,
   "id": "6f48d09a-c018-42d8-a604-83465c567edc",
   "metadata": {},
   "outputs": [],
   "source": [
    "def error_generator(word):\n",
    "    errors = ['Cluster','Replace','Juktakkhor','Character','Deletion','Insertion','Noerror']\n",
    "    string = []\n",
    "    string[:0] = word\n",
    "    random.seed(time.time())\n",
    "    noise_ratio = random.randint(0,int(len(word)*0.40))\n",
    "    print(noise_ratio)\n",
    "    for n in range(noise_ratio):\n",
    "        for i in range(len(string)):\n",
    "            random.seed(time.time()+2)\n",
    "            error_t = random.random()\n",
    "            if error_t >=0.5:\n",
    "                random.seed(time.time()+100)\n",
    "                error = random.choice(errors)\n",
    "                string[i] = apply_error(string[i],error)\n",
    "    word = \"\".join(string)\n",
    "    word = word.replace(\" \", \"\")\n",
    "    return word"
   ]
  },
  {
   "cell_type": "code",
   "execution_count": 64,
   "id": "36417d43-108e-41d2-b115-15c5d20408c9",
   "metadata": {},
   "outputs": [],
   "source": [
    "word = 'অজপারাগায়ে'"
   ]
  },
  {
   "cell_type": "code",
   "execution_count": 65,
   "id": "c6784cb7-b092-4d19-ae03-1d79716e7941",
   "metadata": {},
   "outputs": [
    {
     "name": "stdout",
     "output_type": "stream",
     "text": [
      "4\n"
     ]
    },
    {
     "data": {
      "text/plain": [
       "'ত্রএফসরপ্টইওল্লট'"
      ]
     },
     "execution_count": 65,
     "metadata": {},
     "output_type": "execute_result"
    }
   ],
   "source": [
    "error_generator(word)"
   ]
  },
  {
   "cell_type": "code",
   "execution_count": 33,
   "id": "502a025c-0387-4e2a-af5d-ce11d317d92f",
   "metadata": {},
   "outputs": [],
   "source": [
    "sentence = \n",
    "df_prothom_alo.sentence.tolist()"
   ]
  },
  {
   "cell_type": "code",
   "execution_count": 34,
   "id": "836914fb-98ed-4718-8caa-f0c4ebdd3c95",
   "metadata": {},
   "outputs": [
    {
     "name": "stderr",
     "output_type": "stream",
     "text": [
      "100%|████████████████████████████████████████████████████████████████████████████████████████████████████████████████████████████████████████████████| 100000/100000 [24:06<00:00, 69.15it/s]\n"
     ]
    }
   ],
   "source": [
    "df_custom_error_dataset = pd.DataFrame()\n",
    "for sen in tqdm(sentence):\n",
    "    sent = sen\n",
    "    sen = sen.split()\n",
    "    sent = sent.split()\n",
    "    random.seed(time.time()+356)\n",
    "    random_index = random.randint(0,len(sen)-1)\n",
    "    sen[random_index] = '[MASK]'\n",
    "    error_word = error_generator(sent[random_index])\n",
    "    temp_dict = {'sentence':\" \".join(sent),'masked_sen':\" \".join(sen),'error_word':error_word }\n",
    "    df_custom_error_dataset = df_custom_error_dataset.append(temp_dict,ignore_index=True)"
   ]
  },
  {
   "cell_type": "code",
   "execution_count": 35,
   "id": "5cb4d800-fb88-49e9-9267-e4921683aecd",
   "metadata": {},
   "outputs": [
    {
     "data": {
      "text/html": [
       "<div>\n",
       "<style scoped>\n",
       "    .dataframe tbody tr th:only-of-type {\n",
       "        vertical-align: middle;\n",
       "    }\n",
       "\n",
       "    .dataframe tbody tr th {\n",
       "        vertical-align: top;\n",
       "    }\n",
       "\n",
       "    .dataframe thead th {\n",
       "        text-align: right;\n",
       "    }\n",
       "</style>\n",
       "<table border=\"1\" class=\"dataframe\">\n",
       "  <thead>\n",
       "    <tr style=\"text-align: right;\">\n",
       "      <th></th>\n",
       "      <th>sentence</th>\n",
       "      <th>masked_sen</th>\n",
       "      <th>error_word</th>\n",
       "    </tr>\n",
       "  </thead>\n",
       "  <tbody>\n",
       "    <tr>\n",
       "      <th>87101</th>\n",
       "      <td>সেখানে বেলা তিনটায় তাঁকে মায়ের কবরে চিরনিদ্রায়...</td>\n",
       "      <td>সেখানে বেলা তিনটায় তাঁকে মায়ের কবরে [MASK] শায়...</td>\n",
       "      <td>চগযরোৎপদঙ্‌ক্তন্দ্বদ্ভ্র</td>\n",
       "    </tr>\n",
       "    <tr>\n",
       "      <th>86466</th>\n",
       "      <td>এরপর নিজেদের দৈনন্দিন হিসাবনিকাশ শেষ করে আটটার...</td>\n",
       "      <td>এরপর নিজেদের দৈনন্দিন হিসাবনিকাশ শেষ করে আটটার...</td>\n",
       "      <td>বন্ধ</td>\n",
       "    </tr>\n",
       "    <tr>\n",
       "      <th>77153</th>\n",
       "      <td>স্থায়ী ঠিকানায় জায়গাজমি না থাকলে জটিলতাগুলো কে...</td>\n",
       "      <td>স্থায়ী ঠিকানায় জায়গাজমি না [MASK] জটিলতাগুলো ক...</td>\n",
       "      <td>তকথো</td>\n",
       "    </tr>\n",
       "    <tr>\n",
       "      <th>74888</th>\n",
       "      <td>আশ্রয়শিবিরের সবকিছু দেখভাল করে দুর্যোগ ব্যবস্থ...</td>\n",
       "      <td>আশ্রয়শিবিরের সবকিছু দেখভাল করে দুর্যোগ ব্যবস্থ...</td>\n",
       "      <td>পোনঘ্নদআব্রর্টঙঃও</td>\n",
       "    </tr>\n",
       "    <tr>\n",
       "      <th>68280</th>\n",
       "      <td>আমার যতটুকু মনে পড়ে</td>\n",
       "      <td>আমার যতটুকু [MASK] পড়ে</td>\n",
       "      <td>স্ট্রআে</td>\n",
       "    </tr>\n",
       "  </tbody>\n",
       "</table>\n",
       "</div>"
      ],
      "text/plain": [
       "                                                sentence  \\\n",
       "87101  সেখানে বেলা তিনটায় তাঁকে মায়ের কবরে চিরনিদ্রায়...   \n",
       "86466  এরপর নিজেদের দৈনন্দিন হিসাবনিকাশ শেষ করে আটটার...   \n",
       "77153  স্থায়ী ঠিকানায় জায়গাজমি না থাকলে জটিলতাগুলো কে...   \n",
       "74888  আশ্রয়শিবিরের সবকিছু দেখভাল করে দুর্যোগ ব্যবস্থ...   \n",
       "68280                                আমার যতটুকু মনে পড়ে   \n",
       "\n",
       "                                              masked_sen  \\\n",
       "87101  সেখানে বেলা তিনটায় তাঁকে মায়ের কবরে [MASK] শায়...   \n",
       "86466  এরপর নিজেদের দৈনন্দিন হিসাবনিকাশ শেষ করে আটটার...   \n",
       "77153  স্থায়ী ঠিকানায় জায়গাজমি না [MASK] জটিলতাগুলো ক...   \n",
       "74888  আশ্রয়শিবিরের সবকিছু দেখভাল করে দুর্যোগ ব্যবস্থ...   \n",
       "68280                             আমার যতটুকু [MASK] পড়ে   \n",
       "\n",
       "                     error_word  \n",
       "87101  চগযরোৎপদঙ্‌ক্তন্দ্বদ্ভ্র  \n",
       "86466                      বন্ধ  \n",
       "77153                      তকথো  \n",
       "74888         পোনঘ্নদআব্রর্টঙঃও  \n",
       "68280                   স্ট্রআে  "
      ]
     },
     "execution_count": 35,
     "metadata": {},
     "output_type": "execute_result"
    }
   ],
   "source": [
    "df_custom_error_dataset.sample(5)"
   ]
  },
  {
   "cell_type": "code",
   "execution_count": 36,
   "id": "6f2bed6c-fcc6-4961-99d7-640515e39f71",
   "metadata": {},
   "outputs": [],
   "source": [
    "df_custom_error_dataset.to_csv('custom_error_dataset.csv',index=False)"
   ]
  },
  {
   "cell_type": "code",
   "execution_count": null,
   "id": "82eaf2b2-f1b3-48ee-b60d-91bcae29076c",
   "metadata": {},
   "outputs": [],
   "source": []
  }
 ],
 "metadata": {
  "kernelspec": {
   "display_name": "Python 3 (ipykernel)",
   "language": "python",
   "name": "python3"
  },
  "language_info": {
   "codemirror_mode": {
    "name": "ipython",
    "version": 3
   },
   "file_extension": ".py",
   "mimetype": "text/x-python",
   "name": "python",
   "nbconvert_exporter": "python",
   "pygments_lexer": "ipython3",
   "version": "3.10.4"
  }
 },
 "nbformat": 4,
 "nbformat_minor": 5
}
