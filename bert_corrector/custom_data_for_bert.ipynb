{
 "cells": [
  {
   "cell_type": "code",
   "execution_count": 1,
   "id": "d91894e2-77ae-42fa-a293-fcce486570b5",
   "metadata": {},
   "outputs": [
    {
     "name": "stdout",
     "output_type": "stream",
     "text": [
      "INFO: Pandarallel will run on 4 workers.\n",
      "INFO: Pandarallel will use Memory file system to transfer data between the main process and workers.\n"
     ]
    }
   ],
   "source": [
    "import pandas as pd \n",
    "import numpy  as np\n",
    "from wordfreq import word_frequency ,top_n_list,get_frequency_dict\n",
    "\n",
    "from symspellpy import SymSpell, Verbosity\n",
    "from itertools import islice\n",
    "\n",
    "import warnings\n",
    "warnings.simplefilter(action='ignore', category=FutureWarning)\n",
    "\n",
    "from random import random, choice\n",
    "import random\n",
    "import time\n",
    "\n",
    "import os\n",
    "import re\n",
    "from tqdm import tqdm  \n",
    "from pandarallel import pandarallel\n",
    "\n",
    "pandarallel.initialize(progress_bar=True,nb_workers=4)\n"
   ]
  },
  {
   "cell_type": "code",
   "execution_count": 2,
   "id": "a6faf0b4-0f7f-4ef2-b3b7-de6689577fd8",
   "metadata": {},
   "outputs": [
    {
     "name": "stdout",
     "output_type": "stream",
     "text": [
      "INFO: Pandarallel will run on 8 workers.\n",
      "INFO: Pandarallel will use Memory file system to transfer data between the main process and workers.\n"
     ]
    }
   ],
   "source": [
    "from bnunicodenormalizer import Normalizer \n",
    "pandarallel.initialize(progress_bar=True,nb_workers=8)\n",
    "tqdm.pandas()\n",
    "bnorm=Normalizer()"
   ]
  },
  {
   "cell_type": "code",
   "execution_count": 3,
   "id": "1c082c6c-7a36-42e9-ac40-d51dda822717",
   "metadata": {},
   "outputs": [],
   "source": [
    "from typing import Dict, List, Tuple, Any, Union\n",
    "\n",
    "\n",
    "import json\n",
    "\n",
    "from datasets import load_metric\n",
    "\n",
    "from tqdm.auto import tqdm\n",
    "from IPython.display import display, Audio, HTML\n",
    "\n",
    "cer = load_metric(\"cer\")\n",
    "wer = load_metric(\"wer\")\n",
    "import warnings \n",
    "warnings.filterwarnings('ignore')"
   ]
  },
  {
   "cell_type": "code",
   "execution_count": 4,
   "id": "a6d5c38c-8182-40df-a7cf-817edec78e7b",
   "metadata": {},
   "outputs": [],
   "source": [
    "def remove_punctuations(my_str):\n",
    "    punctuations = '''```\u0012\u0010\u0002\b`\u0007\b£|¢|\u0007Ñ+-*/=EROero৳০১২৩৪৫৬৭৮৯012–34567•89।!()-[]{};:'\"“\\’…,<>.‚/?@#$%^&*_~‘—॥”‰🤣⚽️✌�￰৷￰'''\n",
    "    no_punct = \"\"\n",
    "    for char in my_str:\n",
    "        if char not in punctuations:\n",
    "            no_punct = no_punct + char\n",
    "    return no_punct\n",
    "\n",
    "def normalize(sen):\n",
    "    _words = [bnorm(word)['normalized']  for word in sen.split()]\n",
    "    return \" \".join([word for word in _words if word is not None]) \n",
    "\n",
    "def wer(ref, hyp ,debug=False):\n",
    "    r = ref.split()\n",
    "    h = hyp.split()\n",
    "    #costs will holds the costs, like in the Levenshtein distance algorithm\n",
    "    costs = [[0 for inner in range(len(h)+1)] for outer in range(len(r)+1)]\n",
    "    # backtrace will hold the operations we've done.\n",
    "    # so we could later backtrace, like the WER algorithm requires us to.\n",
    "    backtrace = [[0 for inner in range(len(h)+1)] for outer in range(len(r)+1)]\n",
    "\n",
    "    OP_OK = 0\n",
    "    OP_SUB = 1\n",
    "    OP_INS = 2\n",
    "    OP_DEL = 3\n",
    "\n",
    "    DEL_PENALTY=1 # Tact\n",
    "    INS_PENALTY=1 # Tact\n",
    "    SUB_PENALTY=1 # Tact\n",
    "    # First column represents the case where we achieve zero\n",
    "    # hypothesis words by deleting all reference words.\n",
    "    for i in range(1, len(r)+1):\n",
    "        costs[i][0] = DEL_PENALTY*i\n",
    "        backtrace[i][0] = OP_DEL\n",
    "\n",
    "    # First row represents the case where we achieve the hypothesis\n",
    "    # by inserting all hypothesis words into a zero-length reference.\n",
    "    for j in range(1, len(h) + 1):\n",
    "        costs[0][j] = INS_PENALTY * j\n",
    "        backtrace[0][j] = OP_INS\n",
    "\n",
    "    # computation\n",
    "    for i in range(1, len(r)+1):\n",
    "        for j in range(1, len(h)+1):\n",
    "            if r[i-1] == h[j-1]:\n",
    "                costs[i][j] = costs[i-1][j-1]\n",
    "                backtrace[i][j] = OP_OK\n",
    "            else:\n",
    "                substitutionCost = costs[i-1][j-1] + SUB_PENALTY # penalty is always 1\n",
    "                insertionCost    = costs[i][j-1] + INS_PENALTY   # penalty is always 1\n",
    "                deletionCost     = costs[i-1][j] + DEL_PENALTY   # penalty is always 1\n",
    "\n",
    "                costs[i][j] = min(substitutionCost, insertionCost, deletionCost)\n",
    "                if costs[i][j] == substitutionCost:\n",
    "                    backtrace[i][j] = OP_SUB\n",
    "                elif costs[i][j] == insertionCost:\n",
    "                    backtrace[i][j] = OP_INS\n",
    "                else:\n",
    "                    backtrace[i][j] = OP_DEL\n",
    "\n",
    "    # back trace though the best route:\n",
    "    i = len(r)\n",
    "    j = len(h)\n",
    "    numSub = 0\n",
    "    numDel = 0\n",
    "    numIns = 0\n",
    "    numCor = 0\n",
    "    if debug:\n",
    "        lines = []\n",
    "        compares = []\n",
    "    while i > 0 or j > 0:\n",
    "        if backtrace[i][j] == OP_OK:\n",
    "            numCor += 1\n",
    "            i-=1\n",
    "            j-=1\n",
    "            if debug:\n",
    "                lines.append(\"C\\t\" + r[i]+\"\\t\"+h[j])\n",
    "        elif backtrace[i][j] == OP_SUB:\n",
    "            numSub +=1\n",
    "            i-=1\n",
    "            j-=1\n",
    "            if debug:\n",
    "                lines.append(\"S\\t\" + r[i]+\"\\t\"+h[j])\n",
    "        elif backtrace[i][j] == OP_INS:\n",
    "            numIns += 1\n",
    "            j-=1\n",
    "            if debug:\n",
    "                lines.append(\"I\\t\" + \"****\" + \"\\t\" + h[j])\n",
    "        elif backtrace[i][j] == OP_DEL:\n",
    "            numDel += 1\n",
    "            i-=1\n",
    "            if debug:\n",
    "                lines.append(\"D\\t\" + r[i]+\"\\t\"+\"****\")\n",
    "    return lines\n",
    "\n",
    "def error_label(ref,hyp):\n",
    "    li=[]\n",
    "    lines= wer(ref, hyp,debug=True)\n",
    "    for line in reversed(lines):\n",
    "        line = re.sub(r\"\\t\",\" \",line)\n",
    "        line = line.split()\n",
    "        li.append(line[0])\n",
    "    return li\n",
    "\n",
    "def wer_calc(label):\n",
    "    s=label.count('S')\n",
    "    d=label.count('D')\n",
    "    i=label.count('I')\n",
    "    return int((s+d+i)/len(label)*100)"
   ]
  },
  {
   "cell_type": "markdown",
   "id": "0675bcf9-a7f0-4d88-a0dc-1c8102574092",
   "metadata": {},
   "source": [
    "# Common_voice"
   ]
  },
  {
   "cell_type": "code",
   "execution_count": 5,
   "id": "a985ca1d-3d7a-4f30-85a0-b90abcee60fe",
   "metadata": {},
   "outputs": [],
   "source": [
    "df_cv_1 = pd.read_csv('asr_bangla/data/cv_100k_p1.csv')\n",
    "df_cv_2 = pd.read_csv('asr_bangla/data/cv_100k_p2.csv')\n",
    "df_cv_3 = pd.read_csv('asr_bangla/data/symspell_nov.csv')\n",
    "df_cv = pd.read_csv('cv_train.csv')"
   ]
  },
  {
   "cell_type": "code",
   "execution_count": 6,
   "id": "b96da1d5-6838-4a9f-9ba4-749ce46602fd",
   "metadata": {},
   "outputs": [],
   "source": [
    "df_cv_3 = df_cv_3[(df_cv_3.source == 'train') & (df_cv_3.audio == 'noisy')]"
   ]
  },
  {
   "cell_type": "code",
   "execution_count": 7,
   "id": "b917203c-25e9-48ee-b54a-ca41f5c1119f",
   "metadata": {},
   "outputs": [],
   "source": [
    "df_cv_3 = df_cv_3[['path','wav2vec2','4gram']]"
   ]
  },
  {
   "cell_type": "code",
   "execution_count": 8,
   "id": "ccad915d-be1c-45f6-b3a8-bd761a6d2077",
   "metadata": {},
   "outputs": [],
   "source": [
    "df_cv = df_cv[['path','sentence']]"
   ]
  },
  {
   "cell_type": "code",
   "execution_count": 9,
   "id": "eabe2f1e-014e-4591-8412-b8b53716ee26",
   "metadata": {},
   "outputs": [],
   "source": [
    "df_cv_1= df_cv_1.append([df_cv_2,df_cv_3])\n",
    "df_cv_1 = df_cv_1.reset_index(drop=True)"
   ]
  },
  {
   "cell_type": "code",
   "execution_count": 10,
   "id": "4700e4a2-ec51-4c70-9701-41b5a8ce44bc",
   "metadata": {},
   "outputs": [],
   "source": [
    "df_cv_1['path'] = df_cv_1.path.apply(lambda x: os.path.basename(str(x)))"
   ]
  },
  {
   "cell_type": "code",
   "execution_count": 11,
   "id": "d3cadb4b-c5ec-42cc-a02a-0ed78a1fbb9b",
   "metadata": {},
   "outputs": [],
   "source": [
    "df_cv = df_cv_1.merge(df_cv,on='path',how='inner')"
   ]
  },
  {
   "cell_type": "code",
   "execution_count": 12,
   "id": "41d76e69-8af7-4c7b-b2cd-40f631d9419a",
   "metadata": {},
   "outputs": [
    {
     "data": {
      "text/html": [
       "<div>\n",
       "<style scoped>\n",
       "    .dataframe tbody tr th:only-of-type {\n",
       "        vertical-align: middle;\n",
       "    }\n",
       "\n",
       "    .dataframe tbody tr th {\n",
       "        vertical-align: top;\n",
       "    }\n",
       "\n",
       "    .dataframe thead th {\n",
       "        text-align: right;\n",
       "    }\n",
       "</style>\n",
       "<table border=\"1\" class=\"dataframe\">\n",
       "  <thead>\n",
       "    <tr style=\"text-align: right;\">\n",
       "      <th></th>\n",
       "      <th>path</th>\n",
       "      <th>wav2vec2</th>\n",
       "      <th>4gram</th>\n",
       "      <th>sentence</th>\n",
       "    </tr>\n",
       "  </thead>\n",
       "  <tbody>\n",
       "    <tr>\n",
       "      <th>0</th>\n",
       "      <td>common_voice_bn_30991371.mp3</td>\n",
       "      <td>দেওয়ান ফরিদ গায়জী বাংলাদেশ আওয়ামী লীগের উপদেষ্...</td>\n",
       "      <td>দেওয়ান ফরিদ গাজী বাংলাদেশ আওয়ামী লীগের উপদেষ্ট...</td>\n",
       "      <td>দেওয়ান ফরিদ গাজী বাংলাদেশ আওয়ামী লীগের উপদেষ...</td>\n",
       "    </tr>\n",
       "    <tr>\n",
       "      <th>1</th>\n",
       "      <td>common_voice_bn_30991410.mp3</td>\n",
       "      <td>এর মাধ্যমে কারো গান গাওয়া দক্ষতাবা নিজস্ব ধর্ম...</td>\n",
       "      <td>এর মাধ্যমে কারও গান গাওয়া দক্ষতা বা নিজস্ব ধর্...</td>\n",
       "      <td>এর মাধ্যমে কারও গান গাওয়া দক্ষতা বা নিজস্ব ধর...</td>\n",
       "    </tr>\n",
       "    <tr>\n",
       "      <th>2</th>\n",
       "      <td>common_voice_bn_30991513.mp3</td>\n",
       "      <td>ডিজিটাল বিশ্বে তথ্য অন্য যে কোনো ডিজিটাল ফাইলে...</td>\n",
       "      <td>ডিজিটাল বিশ্বে তথ্য অন্য যে কোনো ডিজিটাল ফাইলে...</td>\n",
       "      <td>ডিজিটাল বিশ্বে তথ্য অন্য যে কোনও ডিজিটাল ফাইলে...</td>\n",
       "    </tr>\n",
       "    <tr>\n",
       "      <th>3</th>\n",
       "      <td>common_voice_bn_30991535.mp3</td>\n",
       "      <td>হিসাব পাওয়ার পর তিনি স্বল্প সময়ের মধ্যেই সম্পূ...</td>\n",
       "      <td>হিসাব পাওয়ার পর তিনি স্বল্প সময়ের মধ্যেই সম্পূ...</td>\n",
       "      <td>হিসাব পাওয়ার পর তিনি স্বল্প সময়ের মধ্যেই সম্...</td>\n",
       "    </tr>\n",
       "    <tr>\n",
       "      <th>4</th>\n",
       "      <td>common_voice_bn_30991592.mp3</td>\n",
       "      <td>নদীর পানিতে বয়ে আসা পলি দলদেশে জমে মাঝে মধ্যে ...</td>\n",
       "      <td>নদীর পানিতে বয়ে আসা পলি তলদেশে জমে মাঝে মধ্যে ...</td>\n",
       "      <td>নদীর পানিতে বয়ে আসা পলি তলদেশে জমে মাঝেমধ্যে ...</td>\n",
       "    </tr>\n",
       "    <tr>\n",
       "      <th>...</th>\n",
       "      <td>...</td>\n",
       "      <td>...</td>\n",
       "      <td>...</td>\n",
       "      <td>...</td>\n",
       "    </tr>\n",
       "    <tr>\n",
       "      <th>100931</th>\n",
       "      <td>common_voice_bn_31459116.mp3</td>\n",
       "      <td>তিনি বগুড়ার কাঠনাপাড়ায় জন্মগ্রহণ করেন</td>\n",
       "      <td>তিনি বগুড়ার কাঠ না পাড়ায় জন্মগ্রহণ করেন</td>\n",
       "      <td>তিনি বগুড়ার কাটনাপাড়ায় জন্মগ্রহণ করেন।</td>\n",
       "    </tr>\n",
       "    <tr>\n",
       "      <th>100932</th>\n",
       "      <td>common_voice_bn_31459130.mp3</td>\n",
       "      <td>তবে ছোমান্টিজ থেকে বেশে থাকতে আমাদের কিছু কর ন...</td>\n",
       "      <td>তবে সমান টিজ থেকে বেশে থাকতে আমাদের কিছু করণীয়...</td>\n",
       "      <td>তবে জন্ডিস থেকে বেঁচে থাকতে আমাদের কিছু করণীয়...</td>\n",
       "    </tr>\n",
       "    <tr>\n",
       "      <th>100933</th>\n",
       "      <td>common_voice_bn_31459161.mp3</td>\n",
       "      <td>তিনি অসম উপত্যাকার সািত্য পুরস্কার ও সাহিত্য এ...</td>\n",
       "      <td>তিনি অসম উপত্যাকার সাহিত্য পুরস্কার ও সাহিত্য ...</td>\n",
       "      <td>তিনি অসম উপত্যকা সাহিত্য পুরস্কার ও সাহিত্য অক...</td>\n",
       "    </tr>\n",
       "    <tr>\n",
       "      <th>100934</th>\n",
       "      <td>common_voice_bn_31637719.mp3</td>\n",
       "      <td>টি পূর্বে অনেক মুচু ছিল</td>\n",
       "      <td>এটি পূর্বে অনেক উঁচু ছিল</td>\n",
       "      <td>এটি পূর্বে অনেক উঁচু ছিলো।</td>\n",
       "    </tr>\n",
       "    <tr>\n",
       "      <th>100935</th>\n",
       "      <td>common_voice_bn_31684240.mp3</td>\n",
       "      <td>একজন স্পিন বোলিং অররাউন্ডার হিসেবে তিনি বামহাত...</td>\n",
       "      <td>একজন স্পিন বোলিং অলরাউন্ডার হিসেবে তিনি বাম হা...</td>\n",
       "      <td>একজন স্পিন-বোলিং অলরাউন্ডার হিসেবে তিনি বাম-হা...</td>\n",
       "    </tr>\n",
       "  </tbody>\n",
       "</table>\n",
       "<p>100936 rows × 4 columns</p>\n",
       "</div>"
      ],
      "text/plain": [
       "                                path  \\\n",
       "0       common_voice_bn_30991371.mp3   \n",
       "1       common_voice_bn_30991410.mp3   \n",
       "2       common_voice_bn_30991513.mp3   \n",
       "3       common_voice_bn_30991535.mp3   \n",
       "4       common_voice_bn_30991592.mp3   \n",
       "...                              ...   \n",
       "100931  common_voice_bn_31459116.mp3   \n",
       "100932  common_voice_bn_31459130.mp3   \n",
       "100933  common_voice_bn_31459161.mp3   \n",
       "100934  common_voice_bn_31637719.mp3   \n",
       "100935  common_voice_bn_31684240.mp3   \n",
       "\n",
       "                                                 wav2vec2  \\\n",
       "0       দেওয়ান ফরিদ গায়জী বাংলাদেশ আওয়ামী লীগের উপদেষ্...   \n",
       "1       এর মাধ্যমে কারো গান গাওয়া দক্ষতাবা নিজস্ব ধর্ম...   \n",
       "2       ডিজিটাল বিশ্বে তথ্য অন্য যে কোনো ডিজিটাল ফাইলে...   \n",
       "3       হিসাব পাওয়ার পর তিনি স্বল্প সময়ের মধ্যেই সম্পূ...   \n",
       "4       নদীর পানিতে বয়ে আসা পলি দলদেশে জমে মাঝে মধ্যে ...   \n",
       "...                                                   ...   \n",
       "100931              তিনি বগুড়ার কাঠনাপাড়ায় জন্মগ্রহণ করেন   \n",
       "100932  তবে ছোমান্টিজ থেকে বেশে থাকতে আমাদের কিছু কর ন...   \n",
       "100933  তিনি অসম উপত্যাকার সািত্য পুরস্কার ও সাহিত্য এ...   \n",
       "100934                            টি পূর্বে অনেক মুচু ছিল   \n",
       "100935  একজন স্পিন বোলিং অররাউন্ডার হিসেবে তিনি বামহাত...   \n",
       "\n",
       "                                                    4gram  \\\n",
       "0       দেওয়ান ফরিদ গাজী বাংলাদেশ আওয়ামী লীগের উপদেষ্ট...   \n",
       "1       এর মাধ্যমে কারও গান গাওয়া দক্ষতা বা নিজস্ব ধর্...   \n",
       "2       ডিজিটাল বিশ্বে তথ্য অন্য যে কোনো ডিজিটাল ফাইলে...   \n",
       "3       হিসাব পাওয়ার পর তিনি স্বল্প সময়ের মধ্যেই সম্পূ...   \n",
       "4       নদীর পানিতে বয়ে আসা পলি তলদেশে জমে মাঝে মধ্যে ...   \n",
       "...                                                   ...   \n",
       "100931            তিনি বগুড়ার কাঠ না পাড়ায় জন্মগ্রহণ করেন   \n",
       "100932  তবে সমান টিজ থেকে বেশে থাকতে আমাদের কিছু করণীয়...   \n",
       "100933  তিনি অসম উপত্যাকার সাহিত্য পুরস্কার ও সাহিত্য ...   \n",
       "100934                           এটি পূর্বে অনেক উঁচু ছিল   \n",
       "100935  একজন স্পিন বোলিং অলরাউন্ডার হিসেবে তিনি বাম হা...   \n",
       "\n",
       "                                                 sentence  \n",
       "0       দেওয়ান ফরিদ গাজী বাংলাদেশ আওয়ামী লীগের উপদেষ...  \n",
       "1       এর মাধ্যমে কারও গান গাওয়া দক্ষতা বা নিজস্ব ধর...  \n",
       "2       ডিজিটাল বিশ্বে তথ্য অন্য যে কোনও ডিজিটাল ফাইলে...  \n",
       "3       হিসাব পাওয়ার পর তিনি স্বল্প সময়ের মধ্যেই সম্...  \n",
       "4       নদীর পানিতে বয়ে আসা পলি তলদেশে জমে মাঝেমধ্যে ...  \n",
       "...                                                   ...  \n",
       "100931          তিনি বগুড়ার কাটনাপাড়ায় জন্মগ্রহণ করেন।  \n",
       "100932  তবে জন্ডিস থেকে বেঁচে থাকতে আমাদের কিছু করণীয়...  \n",
       "100933  তিনি অসম উপত্যকা সাহিত্য পুরস্কার ও সাহিত্য অক...  \n",
       "100934                         এটি পূর্বে অনেক উঁচু ছিলো।  \n",
       "100935  একজন স্পিন-বোলিং অলরাউন্ডার হিসেবে তিনি বাম-হা...  \n",
       "\n",
       "[100936 rows x 4 columns]"
      ]
     },
     "execution_count": 12,
     "metadata": {},
     "output_type": "execute_result"
    }
   ],
   "source": [
    "df_cv"
   ]
  },
  {
   "cell_type": "markdown",
   "id": "18a00688-ea28-46ec-a538-d7ad5dc69bb3",
   "metadata": {},
   "source": [
    "# Open_SLR"
   ]
  },
  {
   "cell_type": "code",
   "execution_count": 13,
   "id": "8aea1c8c-5c87-4848-8e34-e7632aea1f2a",
   "metadata": {},
   "outputs": [],
   "source": [
    "df_slr_1 = pd.read_csv('asr_bangla/data/slr_1_60.csv')\n",
    "df_slr_2 = pd.read_csv('asr_bangla/data/slr_150_200.csv')\n",
    "df_slr_3 = pd.read_csv('asr_bangla/data/slr_60_70.csv')\n",
    "df_slr_4 = pd.read_csv('asr_bangla/data/slr_70_80.csv')\n",
    "df_slr_5 = pd.read_csv('asr_bangla/data/slr_80_90.csv')\n",
    "df_slr_6 = pd.read_csv('asr_bangla/data/slr_90_100.csv')"
   ]
  },
  {
   "cell_type": "code",
   "execution_count": 14,
   "id": "6a0465f9-d5ae-4c3c-ab61-4cc0f7cbe4e6",
   "metadata": {},
   "outputs": [],
   "source": [
    "df_slr_1 = df_slr_1.append([df_slr_2,df_slr_3,df_slr_4,df_slr_5,df_slr_6])\n",
    "df_slr_1 = df_slr_1.reset_index(drop=True)"
   ]
  },
  {
   "cell_type": "code",
   "execution_count": 15,
   "id": "bfd55d2b-b504-4c31-b2e2-332f53a2fff4",
   "metadata": {},
   "outputs": [],
   "source": [
    "df_slr_1['path'] = df_slr_1.path.apply(lambda x: os.path.basename(str(x)))"
   ]
  },
  {
   "cell_type": "code",
   "execution_count": 16,
   "id": "b361ca2b-e29a-4645-9803-2b7c899e7933",
   "metadata": {},
   "outputs": [
    {
     "data": {
      "text/html": [
       "<div>\n",
       "<style scoped>\n",
       "    .dataframe tbody tr th:only-of-type {\n",
       "        vertical-align: middle;\n",
       "    }\n",
       "\n",
       "    .dataframe tbody tr th {\n",
       "        vertical-align: top;\n",
       "    }\n",
       "\n",
       "    .dataframe thead th {\n",
       "        text-align: right;\n",
       "    }\n",
       "</style>\n",
       "<table border=\"1\" class=\"dataframe\">\n",
       "  <thead>\n",
       "    <tr style=\"text-align: right;\">\n",
       "      <th></th>\n",
       "      <th>path</th>\n",
       "      <th>wav2vec2</th>\n",
       "      <th>4gram</th>\n",
       "    </tr>\n",
       "  </thead>\n",
       "  <tbody>\n",
       "    <tr>\n",
       "      <th>0</th>\n",
       "      <td>000020a912.flac</td>\n",
       "      <td>বাংলাদেশের দায়িত্ব নেবে</td>\n",
       "      <td>বাংলাদেশের দায়িত্ব নেবে</td>\n",
       "    </tr>\n",
       "    <tr>\n",
       "      <th>1</th>\n",
       "      <td>000039928e.flac</td>\n",
       "      <td>এই ধরনের কাজ নিয়ে</td>\n",
       "      <td>এই ধরনের কাজ নিয়ে</td>\n",
       "    </tr>\n",
       "    <tr>\n",
       "      <th>2</th>\n",
       "      <td>00005debc7.flac</td>\n",
       "      <td>হতে উপার্জিত অর্থ</td>\n",
       "      <td>হতে উপার্জিত অর্থ</td>\n",
       "    </tr>\n",
       "    <tr>\n",
       "      <th>3</th>\n",
       "      <td>00009e687c.flac</td>\n",
       "      <td>হাসি বিষল হয়েই আছে</td>\n",
       "      <td>হাসির বিষয় হয়েই আছে</td>\n",
       "    </tr>\n",
       "    <tr>\n",
       "      <th>4</th>\n",
       "      <td>00012843bc.flac</td>\n",
       "      <td>শাক দেশ গুরুতে</td>\n",
       "      <td>শাক দেশ গুড়িতে</td>\n",
       "    </tr>\n",
       "    <tr>\n",
       "      <th>...</th>\n",
       "      <td>...</td>\n",
       "      <td>...</td>\n",
       "      <td>...</td>\n",
       "    </tr>\n",
       "    <tr>\n",
       "      <th>149995</th>\n",
       "      <td>74c6f3b531.flac</td>\n",
       "      <td>একটা বরো কাজ হয়েছে</td>\n",
       "      <td>একটা বড় কাজ হয়েছে</td>\n",
       "    </tr>\n",
       "    <tr>\n",
       "      <th>149996</th>\n",
       "      <td>74c702e2d5.flac</td>\n",
       "      <td>জুন্ খালার সোনার দুল</td>\n",
       "      <td>জুন খেলার সোনার দুল</td>\n",
       "    </tr>\n",
       "    <tr>\n",
       "      <th>149997</th>\n",
       "      <td>74c706e710.flac</td>\n",
       "      <td>এরপরও বাংলা দেশে</td>\n",
       "      <td>এরপরও বাংলাদেশে</td>\n",
       "    </tr>\n",
       "    <tr>\n",
       "      <th>149998</th>\n",
       "      <td>74c70ce063.flac</td>\n",
       "      <td>ছাব্বিশ হাজার নয়শল ছাব্বিশ জনের</td>\n",
       "      <td>ছাব্বিশ হাজার নয় শ ছাব্বিশ জনের</td>\n",
       "    </tr>\n",
       "    <tr>\n",
       "      <th>149999</th>\n",
       "      <td>74c714ac5b.flac</td>\n",
       "      <td>বারা্ডানস ডে</td>\n",
       "      <td>বাসে</td>\n",
       "    </tr>\n",
       "  </tbody>\n",
       "</table>\n",
       "<p>150000 rows × 3 columns</p>\n",
       "</div>"
      ],
      "text/plain": [
       "                   path                         wav2vec2  \\\n",
       "0       000020a912.flac          বাংলাদেশের দায়িত্ব নেবে   \n",
       "1       000039928e.flac                এই ধরনের কাজ নিয়ে   \n",
       "2       00005debc7.flac                হতে উপার্জিত অর্থ   \n",
       "3       00009e687c.flac               হাসি বিষল হয়েই আছে   \n",
       "4       00012843bc.flac                   শাক দেশ গুরুতে   \n",
       "...                 ...                              ...   \n",
       "149995  74c6f3b531.flac               একটা বরো কাজ হয়েছে   \n",
       "149996  74c702e2d5.flac             জুন্ খালার সোনার দুল   \n",
       "149997  74c706e710.flac                 এরপরও বাংলা দেশে   \n",
       "149998  74c70ce063.flac  ছাব্বিশ হাজার নয়শল ছাব্বিশ জনের   \n",
       "149999  74c714ac5b.flac                     বারা্ডানস ডে   \n",
       "\n",
       "                                  4gram  \n",
       "0               বাংলাদেশের দায়িত্ব নেবে  \n",
       "1                     এই ধরনের কাজ নিয়ে  \n",
       "2                     হতে উপার্জিত অর্থ  \n",
       "3                   হাসির বিষয় হয়েই আছে  \n",
       "4                        শাক দেশ গুড়িতে  \n",
       "...                                 ...  \n",
       "149995                একটা বড় কাজ হয়েছে  \n",
       "149996              জুন খেলার সোনার দুল  \n",
       "149997                  এরপরও বাংলাদেশে  \n",
       "149998  ছাব্বিশ হাজার নয় শ ছাব্বিশ জনের  \n",
       "149999                             বাসে  \n",
       "\n",
       "[150000 rows x 3 columns]"
      ]
     },
     "execution_count": 16,
     "metadata": {},
     "output_type": "execute_result"
    }
   ],
   "source": [
    "df_slr_1"
   ]
  },
  {
   "cell_type": "code",
   "execution_count": 17,
   "id": "6e0f6efb-ab0e-409d-bc13-b57c07a73b08",
   "metadata": {},
   "outputs": [],
   "source": [
    "df_slr = pd.read_csv('slr_train.csv')"
   ]
  },
  {
   "cell_type": "code",
   "execution_count": 18,
   "id": "1fd1b8db-4159-43fa-8257-e18f97aca0ec",
   "metadata": {},
   "outputs": [],
   "source": [
    "df_slr['path'] = df_slr.path.apply(lambda x :os.path.basename(str(x)))"
   ]
  },
  {
   "cell_type": "code",
   "execution_count": 19,
   "id": "fe9efcfe-2a56-419f-95e4-867268bf3296",
   "metadata": {},
   "outputs": [],
   "source": [
    "df_slr = df_slr_1.merge(df_slr,on='path',how='inner')"
   ]
  },
  {
   "cell_type": "code",
   "execution_count": 20,
   "id": "3ee7852e-b810-4296-8cb2-e10822d418e0",
   "metadata": {},
   "outputs": [],
   "source": [
    "df_slr['path'] = 'slr_' + df_slr.path"
   ]
  },
  {
   "cell_type": "code",
   "execution_count": 21,
   "id": "157fb7ff-d61a-4e4c-9b14-e7648637c8d7",
   "metadata": {},
   "outputs": [
    {
     "data": {
      "text/html": [
       "<div>\n",
       "<style scoped>\n",
       "    .dataframe tbody tr th:only-of-type {\n",
       "        vertical-align: middle;\n",
       "    }\n",
       "\n",
       "    .dataframe tbody tr th {\n",
       "        vertical-align: top;\n",
       "    }\n",
       "\n",
       "    .dataframe thead th {\n",
       "        text-align: right;\n",
       "    }\n",
       "</style>\n",
       "<table border=\"1\" class=\"dataframe\">\n",
       "  <thead>\n",
       "    <tr style=\"text-align: right;\">\n",
       "      <th></th>\n",
       "      <th>path</th>\n",
       "      <th>wav2vec2</th>\n",
       "      <th>4gram</th>\n",
       "      <th>sentence</th>\n",
       "    </tr>\n",
       "  </thead>\n",
       "  <tbody>\n",
       "    <tr>\n",
       "      <th>0</th>\n",
       "      <td>slr_000020a912.flac</td>\n",
       "      <td>বাংলাদেশের দায়িত্ব নেবে</td>\n",
       "      <td>বাংলাদেশের দায়িত্ব নেবে</td>\n",
       "      <td>বাংলাদেশে দায়িত্ব নেবে</td>\n",
       "    </tr>\n",
       "    <tr>\n",
       "      <th>1</th>\n",
       "      <td>slr_000039928e.flac</td>\n",
       "      <td>এই ধরনের কাজ নিয়ে</td>\n",
       "      <td>এই ধরনের কাজ নিয়ে</td>\n",
       "      <td>এ ধরণের কার্ড নিয়ে</td>\n",
       "    </tr>\n",
       "    <tr>\n",
       "      <th>2</th>\n",
       "      <td>slr_00005debc7.flac</td>\n",
       "      <td>হতে উপার্জিত অর্থ</td>\n",
       "      <td>হতে উপার্জিত অর্থ</td>\n",
       "      <td>হতে উপার্জিত অর্থ</td>\n",
       "    </tr>\n",
       "    <tr>\n",
       "      <th>3</th>\n",
       "      <td>slr_00009e687c.flac</td>\n",
       "      <td>হাসি বিষল হয়েই আছে</td>\n",
       "      <td>হাসির বিষয় হয়েই আছে</td>\n",
       "      <td>হাসির বিষয় হয়েই আছে</td>\n",
       "    </tr>\n",
       "    <tr>\n",
       "      <th>4</th>\n",
       "      <td>slr_00012843bc.flac</td>\n",
       "      <td>শাক দেশ গুরুতে</td>\n",
       "      <td>শাক দেশ গুড়িতে</td>\n",
       "      <td>সার্ক দেশগুলোতে</td>\n",
       "    </tr>\n",
       "    <tr>\n",
       "      <th>...</th>\n",
       "      <td>...</td>\n",
       "      <td>...</td>\n",
       "      <td>...</td>\n",
       "      <td>...</td>\n",
       "    </tr>\n",
       "    <tr>\n",
       "      <th>149995</th>\n",
       "      <td>slr_74c6f3b531.flac</td>\n",
       "      <td>একটা বরো কাজ হয়েছে</td>\n",
       "      <td>একটা বড় কাজ হয়েছে</td>\n",
       "      <td>একটা বড় কাজ হয়েছে</td>\n",
       "    </tr>\n",
       "    <tr>\n",
       "      <th>149996</th>\n",
       "      <td>slr_74c702e2d5.flac</td>\n",
       "      <td>জুন্ খালার সোনার দুল</td>\n",
       "      <td>জুন খেলার সোনার দুল</td>\n",
       "      <td>ঝুনুখালার সোনার দুল</td>\n",
       "    </tr>\n",
       "    <tr>\n",
       "      <th>149997</th>\n",
       "      <td>slr_74c706e710.flac</td>\n",
       "      <td>এরপরও বাংলা দেশে</td>\n",
       "      <td>এরপরও বাংলাদেশে</td>\n",
       "      <td>এর পরও বাংলাদেশে</td>\n",
       "    </tr>\n",
       "    <tr>\n",
       "      <th>149998</th>\n",
       "      <td>slr_74c70ce063.flac</td>\n",
       "      <td>ছাব্বিশ হাজার নয়শল ছাব্বিশ জনের</td>\n",
       "      <td>ছাব্বিশ হাজার নয় শ ছাব্বিশ জনের</td>\n",
       "      <td>২৬ হাজার ৯শ ২৬ জনের</td>\n",
       "    </tr>\n",
       "    <tr>\n",
       "      <th>149999</th>\n",
       "      <td>slr_74c714ac5b.flac</td>\n",
       "      <td>বারা্ডানস ডে</td>\n",
       "      <td>বাসে</td>\n",
       "      <td>ভ্যালেন্টাইনস ডে</td>\n",
       "    </tr>\n",
       "  </tbody>\n",
       "</table>\n",
       "<p>150000 rows × 4 columns</p>\n",
       "</div>"
      ],
      "text/plain": [
       "                       path                         wav2vec2  \\\n",
       "0       slr_000020a912.flac          বাংলাদেশের দায়িত্ব নেবে   \n",
       "1       slr_000039928e.flac                এই ধরনের কাজ নিয়ে   \n",
       "2       slr_00005debc7.flac                হতে উপার্জিত অর্থ   \n",
       "3       slr_00009e687c.flac               হাসি বিষল হয়েই আছে   \n",
       "4       slr_00012843bc.flac                   শাক দেশ গুরুতে   \n",
       "...                     ...                              ...   \n",
       "149995  slr_74c6f3b531.flac               একটা বরো কাজ হয়েছে   \n",
       "149996  slr_74c702e2d5.flac             জুন্ খালার সোনার দুল   \n",
       "149997  slr_74c706e710.flac                 এরপরও বাংলা দেশে   \n",
       "149998  slr_74c70ce063.flac  ছাব্বিশ হাজার নয়শল ছাব্বিশ জনের   \n",
       "149999  slr_74c714ac5b.flac                     বারা্ডানস ডে   \n",
       "\n",
       "                                  4gram                 sentence  \n",
       "0               বাংলাদেশের দায়িত্ব নেবে  বাংলাদেশে দায়িত্ব নেবে  \n",
       "1                     এই ধরনের কাজ নিয়ে      এ ধরণের কার্ড নিয়ে  \n",
       "2                     হতে উপার্জিত অর্থ        হতে উপার্জিত অর্থ  \n",
       "3                   হাসির বিষয় হয়েই আছে    হাসির বিষয় হয়েই আছে  \n",
       "4                        শাক দেশ গুড়িতে          সার্ক দেশগুলোতে  \n",
       "...                                 ...                      ...  \n",
       "149995                একটা বড় কাজ হয়েছে      একটা বড় কাজ হয়েছে  \n",
       "149996              জুন খেলার সোনার দুল      ঝুনুখালার সোনার দুল  \n",
       "149997                  এরপরও বাংলাদেশে         এর পরও বাংলাদেশে  \n",
       "149998  ছাব্বিশ হাজার নয় শ ছাব্বিশ জনের      ২৬ হাজার ৯শ ২৬ জনের  \n",
       "149999                             বাসে         ভ্যালেন্টাইনস ডে  \n",
       "\n",
       "[150000 rows x 4 columns]"
      ]
     },
     "execution_count": 21,
     "metadata": {},
     "output_type": "execute_result"
    }
   ],
   "source": [
    "df_slr"
   ]
  },
  {
   "cell_type": "markdown",
   "id": "9c0259ad-e4d7-48ec-b53e-a4a0a84da7d2",
   "metadata": {},
   "source": [
    "# Data_Merged"
   ]
  },
  {
   "cell_type": "code",
   "execution_count": 22,
   "id": "2dd9f985-3405-4247-b446-5f96ed4652b4",
   "metadata": {},
   "outputs": [],
   "source": [
    "df_actual = df_slr.append(df_cv)"
   ]
  },
  {
   "cell_type": "code",
   "execution_count": 23,
   "id": "1d858843-f689-490c-9973-5b1e97ace7b5",
   "metadata": {},
   "outputs": [],
   "source": [
    "df_actual = df_actual.dropna()"
   ]
  },
  {
   "cell_type": "code",
   "execution_count": 24,
   "id": "ea82a85e-4d04-4315-81fe-41b74958cf4d",
   "metadata": {},
   "outputs": [],
   "source": [
    "df_actual = df_actual.reset_index(drop=True)"
   ]
  },
  {
   "cell_type": "code",
   "execution_count": 25,
   "id": "fc63592f-8cd4-485a-9255-437d87b375be",
   "metadata": {},
   "outputs": [],
   "source": [
    "df_actual.rename(columns = {'4gram':'arpa_4gram'}, inplace = True)"
   ]
  },
  {
   "cell_type": "code",
   "execution_count": 26,
   "id": "de5692cd-e64e-4964-86b4-20c0e1b2bf16",
   "metadata": {},
   "outputs": [
    {
     "data": {
      "text/html": [
       "<div>\n",
       "<style scoped>\n",
       "    .dataframe tbody tr th:only-of-type {\n",
       "        vertical-align: middle;\n",
       "    }\n",
       "\n",
       "    .dataframe tbody tr th {\n",
       "        vertical-align: top;\n",
       "    }\n",
       "\n",
       "    .dataframe thead th {\n",
       "        text-align: right;\n",
       "    }\n",
       "</style>\n",
       "<table border=\"1\" class=\"dataframe\">\n",
       "  <thead>\n",
       "    <tr style=\"text-align: right;\">\n",
       "      <th></th>\n",
       "      <th>path</th>\n",
       "      <th>wav2vec2</th>\n",
       "      <th>arpa_4gram</th>\n",
       "      <th>sentence</th>\n",
       "    </tr>\n",
       "  </thead>\n",
       "  <tbody>\n",
       "    <tr>\n",
       "      <th>0</th>\n",
       "      <td>slr_000020a912.flac</td>\n",
       "      <td>বাংলাদেশের দায়িত্ব নেবে</td>\n",
       "      <td>বাংলাদেশের দায়িত্ব নেবে</td>\n",
       "      <td>বাংলাদেশে দায়িত্ব নেবে</td>\n",
       "    </tr>\n",
       "    <tr>\n",
       "      <th>1</th>\n",
       "      <td>slr_000039928e.flac</td>\n",
       "      <td>এই ধরনের কাজ নিয়ে</td>\n",
       "      <td>এই ধরনের কাজ নিয়ে</td>\n",
       "      <td>এ ধরণের কার্ড নিয়ে</td>\n",
       "    </tr>\n",
       "    <tr>\n",
       "      <th>2</th>\n",
       "      <td>slr_00005debc7.flac</td>\n",
       "      <td>হতে উপার্জিত অর্থ</td>\n",
       "      <td>হতে উপার্জিত অর্থ</td>\n",
       "      <td>হতে উপার্জিত অর্থ</td>\n",
       "    </tr>\n",
       "    <tr>\n",
       "      <th>3</th>\n",
       "      <td>slr_00009e687c.flac</td>\n",
       "      <td>হাসি বিষল হয়েই আছে</td>\n",
       "      <td>হাসির বিষয় হয়েই আছে</td>\n",
       "      <td>হাসির বিষয় হয়েই আছে</td>\n",
       "    </tr>\n",
       "    <tr>\n",
       "      <th>4</th>\n",
       "      <td>slr_00012843bc.flac</td>\n",
       "      <td>শাক দেশ গুরুতে</td>\n",
       "      <td>শাক দেশ গুড়িতে</td>\n",
       "      <td>সার্ক দেশগুলোতে</td>\n",
       "    </tr>\n",
       "    <tr>\n",
       "      <th>...</th>\n",
       "      <td>...</td>\n",
       "      <td>...</td>\n",
       "      <td>...</td>\n",
       "      <td>...</td>\n",
       "    </tr>\n",
       "    <tr>\n",
       "      <th>248612</th>\n",
       "      <td>common_voice_bn_31459116.mp3</td>\n",
       "      <td>তিনি বগুড়ার কাঠনাপাড়ায় জন্মগ্রহণ করেন</td>\n",
       "      <td>তিনি বগুড়ার কাঠ না পাড়ায় জন্মগ্রহণ করেন</td>\n",
       "      <td>তিনি বগুড়ার কাটনাপাড়ায় জন্মগ্রহণ করেন।</td>\n",
       "    </tr>\n",
       "    <tr>\n",
       "      <th>248613</th>\n",
       "      <td>common_voice_bn_31459130.mp3</td>\n",
       "      <td>তবে ছোমান্টিজ থেকে বেশে থাকতে আমাদের কিছু কর ন...</td>\n",
       "      <td>তবে সমান টিজ থেকে বেশে থাকতে আমাদের কিছু করণীয়...</td>\n",
       "      <td>তবে জন্ডিস থেকে বেঁচে থাকতে আমাদের কিছু করণীয়...</td>\n",
       "    </tr>\n",
       "    <tr>\n",
       "      <th>248614</th>\n",
       "      <td>common_voice_bn_31459161.mp3</td>\n",
       "      <td>তিনি অসম উপত্যাকার সািত্য পুরস্কার ও সাহিত্য এ...</td>\n",
       "      <td>তিনি অসম উপত্যাকার সাহিত্য পুরস্কার ও সাহিত্য ...</td>\n",
       "      <td>তিনি অসম উপত্যকা সাহিত্য পুরস্কার ও সাহিত্য অক...</td>\n",
       "    </tr>\n",
       "    <tr>\n",
       "      <th>248615</th>\n",
       "      <td>common_voice_bn_31637719.mp3</td>\n",
       "      <td>টি পূর্বে অনেক মুচু ছিল</td>\n",
       "      <td>এটি পূর্বে অনেক উঁচু ছিল</td>\n",
       "      <td>এটি পূর্বে অনেক উঁচু ছিলো।</td>\n",
       "    </tr>\n",
       "    <tr>\n",
       "      <th>248616</th>\n",
       "      <td>common_voice_bn_31684240.mp3</td>\n",
       "      <td>একজন স্পিন বোলিং অররাউন্ডার হিসেবে তিনি বামহাত...</td>\n",
       "      <td>একজন স্পিন বোলিং অলরাউন্ডার হিসেবে তিনি বাম হা...</td>\n",
       "      <td>একজন স্পিন-বোলিং অলরাউন্ডার হিসেবে তিনি বাম-হা...</td>\n",
       "    </tr>\n",
       "  </tbody>\n",
       "</table>\n",
       "<p>248617 rows × 4 columns</p>\n",
       "</div>"
      ],
      "text/plain": [
       "                                path  \\\n",
       "0                slr_000020a912.flac   \n",
       "1                slr_000039928e.flac   \n",
       "2                slr_00005debc7.flac   \n",
       "3                slr_00009e687c.flac   \n",
       "4                slr_00012843bc.flac   \n",
       "...                              ...   \n",
       "248612  common_voice_bn_31459116.mp3   \n",
       "248613  common_voice_bn_31459130.mp3   \n",
       "248614  common_voice_bn_31459161.mp3   \n",
       "248615  common_voice_bn_31637719.mp3   \n",
       "248616  common_voice_bn_31684240.mp3   \n",
       "\n",
       "                                                 wav2vec2  \\\n",
       "0                                 বাংলাদেশের দায়িত্ব নেবে   \n",
       "1                                       এই ধরনের কাজ নিয়ে   \n",
       "2                                       হতে উপার্জিত অর্থ   \n",
       "3                                      হাসি বিষল হয়েই আছে   \n",
       "4                                          শাক দেশ গুরুতে   \n",
       "...                                                   ...   \n",
       "248612              তিনি বগুড়ার কাঠনাপাড়ায় জন্মগ্রহণ করেন   \n",
       "248613  তবে ছোমান্টিজ থেকে বেশে থাকতে আমাদের কিছু কর ন...   \n",
       "248614  তিনি অসম উপত্যাকার সািত্য পুরস্কার ও সাহিত্য এ...   \n",
       "248615                            টি পূর্বে অনেক মুচু ছিল   \n",
       "248616  একজন স্পিন বোলিং অররাউন্ডার হিসেবে তিনি বামহাত...   \n",
       "\n",
       "                                               arpa_4gram  \\\n",
       "0                                 বাংলাদেশের দায়িত্ব নেবে   \n",
       "1                                       এই ধরনের কাজ নিয়ে   \n",
       "2                                       হতে উপার্জিত অর্থ   \n",
       "3                                     হাসির বিষয় হয়েই আছে   \n",
       "4                                          শাক দেশ গুড়িতে   \n",
       "...                                                   ...   \n",
       "248612            তিনি বগুড়ার কাঠ না পাড়ায় জন্মগ্রহণ করেন   \n",
       "248613  তবে সমান টিজ থেকে বেশে থাকতে আমাদের কিছু করণীয়...   \n",
       "248614  তিনি অসম উপত্যাকার সাহিত্য পুরস্কার ও সাহিত্য ...   \n",
       "248615                           এটি পূর্বে অনেক উঁচু ছিল   \n",
       "248616  একজন স্পিন বোলিং অলরাউন্ডার হিসেবে তিনি বাম হা...   \n",
       "\n",
       "                                                 sentence  \n",
       "0                                 বাংলাদেশে দায়িত্ব নেবে  \n",
       "1                                     এ ধরণের কার্ড নিয়ে  \n",
       "2                                       হতে উপার্জিত অর্থ  \n",
       "3                                   হাসির বিষয় হয়েই আছে  \n",
       "4                                         সার্ক দেশগুলোতে  \n",
       "...                                                   ...  \n",
       "248612          তিনি বগুড়ার কাটনাপাড়ায় জন্মগ্রহণ করেন।  \n",
       "248613  তবে জন্ডিস থেকে বেঁচে থাকতে আমাদের কিছু করণীয়...  \n",
       "248614  তিনি অসম উপত্যকা সাহিত্য পুরস্কার ও সাহিত্য অক...  \n",
       "248615                         এটি পূর্বে অনেক উঁচু ছিলো।  \n",
       "248616  একজন স্পিন-বোলিং অলরাউন্ডার হিসেবে তিনি বাম-হা...  \n",
       "\n",
       "[248617 rows x 4 columns]"
      ]
     },
     "execution_count": 26,
     "metadata": {},
     "output_type": "execute_result"
    }
   ],
   "source": [
    "df_actual"
   ]
  },
  {
   "cell_type": "code",
   "execution_count": 27,
   "id": "18fb52f2-378a-465e-944f-cb911c507ec5",
   "metadata": {},
   "outputs": [
    {
     "data": {
      "application/vnd.jupyter.widget-view+json": {
       "model_id": "199d762c1d364d2eac63268da88fbc70",
       "version_major": 2,
       "version_minor": 0
      },
      "text/plain": [
       "VBox(children=(HBox(children=(IntProgress(value=0, description='0.00%', max=31078), Label(value='0 / 31078')))…"
      ]
     },
     "metadata": {},
     "output_type": "display_data"
    },
    {
     "data": {
      "application/vnd.jupyter.widget-view+json": {
       "model_id": "34510962fe17447a96a2b92f93291355",
       "version_major": 2,
       "version_minor": 0
      },
      "text/plain": [
       "VBox(children=(HBox(children=(IntProgress(value=0, description='0.00%', max=31078), Label(value='0 / 31078')))…"
      ]
     },
     "metadata": {},
     "output_type": "display_data"
    }
   ],
   "source": [
    "df_actual['sentence'] = df_actual['sentence'].parallel_apply(lambda x : remove_punctuations(x))\n",
    "df_actual[\"sentence\"]=df_actual[\"sentence\"].parallel_apply(lambda x:normalize(x))"
   ]
  },
  {
   "cell_type": "code",
   "execution_count": 28,
   "id": "87cbba5c-82cb-4d76-b276-2ffdb2b0aba5",
   "metadata": {},
   "outputs": [],
   "source": [
    "#df_actual.to_csv('df_data_actual.csv',index=False)"
   ]
  },
  {
   "cell_type": "code",
   "execution_count": 29,
   "id": "6a9cecdd-7508-4d4a-8742-f8aaeb9679a9",
   "metadata": {},
   "outputs": [
    {
     "data": {
      "application/vnd.jupyter.widget-view+json": {
       "model_id": "3d2c2744fb4447938ce55ba5e47fc4eb",
       "version_major": 2,
       "version_minor": 0
      },
      "text/plain": [
       "VBox(children=(HBox(children=(IntProgress(value=0, description='0.00%', max=31078), Label(value='0 / 31078')))…"
      ]
     },
     "metadata": {},
     "output_type": "display_data"
    }
   ],
   "source": [
    "df_actual['wav2vec2_label'] = df_actual.parallel_apply(lambda x : error_label(x.sentence,x.wav2vec2),axis=1)"
   ]
  },
  {
   "cell_type": "code",
   "execution_count": 30,
   "id": "35602f51-240f-4abe-b157-72598fdf6883",
   "metadata": {},
   "outputs": [
    {
     "data": {
      "application/vnd.jupyter.widget-view+json": {
       "model_id": "82be1c8bf0154eb4976331e29058e13e",
       "version_major": 2,
       "version_minor": 0
      },
      "text/plain": [
       "VBox(children=(HBox(children=(IntProgress(value=0, description='0.00%', max=31078), Label(value='0 / 31078')))…"
      ]
     },
     "metadata": {},
     "output_type": "display_data"
    }
   ],
   "source": [
    "df_actual['arpa_label'] = df_actual.parallel_apply(lambda x : error_label(x.sentence,x.arpa_4gram),axis=1)"
   ]
  },
  {
   "cell_type": "code",
   "execution_count": 32,
   "id": "5c777d98-c802-4fdf-b866-3217e0eb9347",
   "metadata": {},
   "outputs": [
    {
     "data": {
      "application/vnd.jupyter.widget-view+json": {
       "model_id": "3b28b1be76d043c1801c7ce09095fb68",
       "version_major": 2,
       "version_minor": 0
      },
      "text/plain": [
       "VBox(children=(HBox(children=(IntProgress(value=0, description='0.00%', max=31078), Label(value='0 / 31078')))…"
      ]
     },
     "metadata": {},
     "output_type": "display_data"
    }
   ],
   "source": [
    "df_actual['wer_wav2vec2'] = df_actual.wav2vec2_label.parallel_apply(lambda x: wer_calc(x))"
   ]
  },
  {
   "cell_type": "code",
   "execution_count": 33,
   "id": "8b20822a-1f27-431d-aeda-54aadcf0b2f7",
   "metadata": {},
   "outputs": [
    {
     "data": {
      "application/vnd.jupyter.widget-view+json": {
       "model_id": "6f3a14223c8347ed9e533e79119ead2c",
       "version_major": 2,
       "version_minor": 0
      },
      "text/plain": [
       "VBox(children=(HBox(children=(IntProgress(value=0, description='0.00%', max=31078), Label(value='0 / 31078')))…"
      ]
     },
     "metadata": {},
     "output_type": "display_data"
    }
   ],
   "source": [
    "df_actual['wer_arpa'] = df_actual.arpa_label.parallel_apply(lambda x: wer_calc(x))"
   ]
  },
  {
   "cell_type": "code",
   "execution_count": 34,
   "id": "ebdf83c9-51d9-4111-86cd-327f130b84b3",
   "metadata": {},
   "outputs": [],
   "source": [
    "df_actual.to_csv('asr_bangla/data/asr_cv_slr.csv',index=False)"
   ]
  },
  {
   "cell_type": "code",
   "execution_count": null,
   "id": "6523b07c-12fa-4167-ab99-790d1a3843df",
   "metadata": {},
   "outputs": [],
   "source": [
    "df_actual[(df_actual.wer_wav2vec2 >= 30) & (df_actual.wer_wav2vec2 <= 90)]"
   ]
  },
  {
   "cell_type": "markdown",
   "id": "f02ecf1c-f7f0-417f-a858-4d0cf1c414bb",
   "metadata": {},
   "source": [
    "# Custom_data_prothom_alo"
   ]
  },
  {
   "cell_type": "code",
   "execution_count": null,
   "id": "260b7f12-4715-455a-9e30-ac37c7680ab1",
   "metadata": {},
   "outputs": [],
   "source": [
    "sym_spell = SymSpell(max_dictionary_edit_distance=5, prefix_length=7)\n",
    "dictionary_path = 'asr_bangla/data/prothom_alo_word_freq.txt'\n",
    "sym_spell.load_dictionary(dictionary_path, 0, 1,separator=\" \")"
   ]
  },
  {
   "cell_type": "code",
   "execution_count": null,
   "id": "5aa90c94-2e70-48f0-8de5-760ae8aed0c9",
   "metadata": {},
   "outputs": [],
   "source": [
    "df_prothom_alo = pd.read_csv('bangla_text_data.csv')\n",
    "\n",
    "df_prothom_alo= df_prothom_alo.dropna(how='any')"
   ]
  },
  {
   "cell_type": "code",
   "execution_count": null,
   "id": "33b25d82-6886-4b46-97ac-30a26f1072f1",
   "metadata": {},
   "outputs": [],
   "source": [
    "def get_len(sen):\n",
    "    sen = sen.split()\n",
    "    l = len(sen)\n",
    "    return l"
   ]
  },
  {
   "cell_type": "code",
   "execution_count": null,
   "id": "3aa0aa5b-5056-46df-bace-547180342999",
   "metadata": {},
   "outputs": [],
   "source": [
    "df_prothom_alo = df_prothom_alo.sample(300000)"
   ]
  },
  {
   "cell_type": "code",
   "execution_count": null,
   "id": "a2399432-be75-45d6-9c5a-c35128bede45",
   "metadata": {},
   "outputs": [],
   "source": [
    "df_prothom_alo['lena'] = df_prothom_alo['sentence'].apply(lambda x: get_len(str(x)) )"
   ]
  },
  {
   "cell_type": "code",
   "execution_count": null,
   "id": "278fa2f8-eea1-43b3-8a5a-7d4a07651d1f",
   "metadata": {},
   "outputs": [],
   "source": [
    "df_prothom_alo.lena.value_counts()"
   ]
  },
  {
   "cell_type": "code",
   "execution_count": null,
   "id": "2576fbfa-a23b-4434-a16f-adfda7228c0c",
   "metadata": {},
   "outputs": [],
   "source": [
    "df_prothom_alo = df_prothom_alo[(df_prothom_alo.lena >= 3) & (df_prothom_alo.lena <= 15)]"
   ]
  },
  {
   "cell_type": "code",
   "execution_count": null,
   "id": "9baee4b4-8dd2-4b97-a4ba-49473bbfe7f7",
   "metadata": {},
   "outputs": [],
   "source": [
    "df_prothom_alo = df_prothom_alo.sample(100000)"
   ]
  },
  {
   "cell_type": "code",
   "execution_count": null,
   "id": "cdca9b0d-24eb-4a8c-b59b-899b76bf6942",
   "metadata": {},
   "outputs": [],
   "source": [
    "df_prothom_alo.lena.value_counts()"
   ]
  },
  {
   "cell_type": "code",
   "execution_count": null,
   "id": "d10024b7-1f3d-4cd6-9437-ad53e525bd12",
   "metadata": {},
   "outputs": [],
   "source": [
    "df_prothom_alo.to_csv('custom_data_for_bert.csv',index=False)"
   ]
  },
  {
   "cell_type": "code",
   "execution_count": null,
   "id": "b73717df-9564-4a0e-99fd-d618bc897754",
   "metadata": {},
   "outputs": [],
   "source": [
    "df_prothom_alo = pd.read_csv('custom_data_for_bert.csv')"
   ]
  },
  {
   "cell_type": "code",
   "execution_count": null,
   "id": "a7b7a147-bfc7-413c-9c8b-8bd00842b317",
   "metadata": {},
   "outputs": [],
   "source": [
    "df_prothom_alo"
   ]
  },
  {
   "cell_type": "code",
   "execution_count": null,
   "id": "c2efbc07-2871-4e97-9436-c0593ab70b94",
   "metadata": {},
   "outputs": [],
   "source": [
    "character = ['অ','আ','ই','ঈ','উ','ঊ','এ','ঐ','ও','ঔ','ঋ','ঃ','ং','ৎ'\n",
    "             'ক','খ','গ','ঘ','ঙ','চ', 'ছ','য','জ', 'ঝ','ট','ঠ','ড','র','ড়','ঢ়',\n",
    "             'ণ','ত','থ','দ','ধ','ন','প','ফ','ব','ভ','ম','স','শ','ষ','য়','হ']"
   ]
  },
  {
   "cell_type": "code",
   "execution_count": null,
   "id": "13dc94d2-0746-43a4-8a90-2b68e1ec9259",
   "metadata": {},
   "outputs": [],
   "source": [
    "JuktakkhorList = [' ক্ট ' , ' ক্ক ' , ' ক্ত ' , ' ক্য ' , ' ক্র ' , ' ক্ল ' , ' ক্ষ ' , ' ক্ষ্ণ ' , ' ক্ষ্ম ' , ' ক্ষ্য ' , ' ক্স ' , ' খ্র ' , ' গ্ধ ' , ' গ্ধ্য ' , ' গ্ন ' , ' গ্ন্য ' , ' গ্ব ' , ' গ্র ' , ' গ্র্য ' , ' গ্ল ' , ' ঘ্ন ' , ' ঘ্র ' , ' ঙ্ক্য ' , ' ঙ্গ্য ' , ' চ্চ ' , ' চ্ছ্ব ' , ' চ্য ' , ' জ্জ ' , ' জ্জ্ব ' , ' ট্ট ' , ' জ্ব ' , ' জ্য ' , ' জ্র ' , ' ট্য ' , ' ট্র ' , ' ড্ড ' , ' ড্র ' , ' ণ্ট ' , ' ণ্ঠ ' , ' ণ্ড ' , ' ণ্ণ ' , ' ণ্য ' , ' ৎক ' , ' ৎখ ' , ' ত্ত ' , ' ত্ত্ব ' , ' ত্ত্য ' , ' ত্ন ' , ' ৎপ ' , ' ত্ব ' , ' ত্ম ' , ' ত্ম্য ' , ' ত্য ' , ' ত্র ' , ' ত্র্য ' , ' ৎস ' , ' দ্ঘ ' , ' দ্দ ' , ' দ্ধ ' , ' দ্ব ' , ' দ্ভ ' , ' দ্ভ্র ' , ' দ্ম ' , ' দ্য ' , ' দ্র ' , ' দ্র্য ' , ' ধ্ব ' , ' ধ্য ' , ' ধ্র ' , ' ন্ট ' , ' ন্ট্র ' , ' ন্ঠ ' , ' ন্ড ' , ' ন্ড্র ' , ' ন্ত ' , ' ন্ত্ব ' , ' ন্ত্য ' , ' ন্ত্র ' , ' ন্ত্র্য ' , ' ন্থ ' , ' ন্দ ' , ' ন্দ্ব ' , ' ন্দ্র ' , ' ন্ধ ' , ' ন্ন ' , ' ন্য ' , ' প্ট ' , ' প্ত ' , ' প্ন ' , ' প্প ' , ' প্য ' , ' ব্দ ' , ' ব্ধ ' , ' ব্ব ' , ' ব্র ' , ' ভ্য ' , ' ভ্র ' , ' ম্প্র ' , ' ম্ব ' , ' ম্ম ' , ' ম্য ' , ' ম্র ' , ' য্য ' , ' র্ক ' , ' র্গ্য ' , ' র্ঘ্য ' , ' র্জ্য ' , ' র্থ্য ' , ' র্ব্য ' , ' র্খ ' , ' র্গ ' , ' র্ঘ ' , ' র্চ ' , ' র্ছ ' , ' র্জ ' , ' র্ঝ ' , ' র্ট ' , ' র্ড ' , ' র্ণ ' , ' র্ত ' , ' র্থ ' , ' র্দ ' , ' র্দ্ব ' , ' র্দ্র ' , ' র্ধ ' , ' র্ধ্ব ' , ' ল্ট ' , ' ল্ড ' , ' ল্প ' , ' ল্ম ' , ' ল্য ' , ' ল্ল ' , ' শ্ছ ' , ' শ্ন ' , ' শ্ব ' , ' শ্র ' , ' শ্ল ' , ' ষ্ক ' , ' ষ্ক্র ' , ' ষ্ট ' , ' ষ্ট্য ' , ' ষ্ট্র ' , ' ষ্ঠ ' , ' ষ্প ' , ' স্ট ' , ' স্ট্র ' , ' স্ত্র ' , ' স্ত ' , ' স্থ্য ' , ' স্য ' , ' স্র ' , ' স্ল ' , ' হ্র ' , ' হ্ল ' , ' গ্ম ' , ' ম্ভ ' , ' স্ম ' , ' ঙ্ঘ ' , ' ঙ্ক্ষ ' , ' ঙ্খ ' , ' ঙ্ক ' , ' ঙ্‌ক্ত ' , ' ঞ্চ ' , ' ঞ্ছ ' , ' ঞ্জ ' , ' হ্ন ' , ' ঙ্গ ' , ' জ্ঞ ' , ' গ্য ' , ' চ্ছ '] "
   ]
  },
  {
   "cell_type": "code",
   "execution_count": null,
   "id": "e37ad755-8cb9-4950-820c-f7158f7091db",
   "metadata": {},
   "outputs": [],
   "source": [
    "ReplaceDict = {\n",
    "      'ক' : ['ল','য'],\n",
    "      'খ' : ['কগ','কজ','লহ','ঝ'],\n",
    "      'গ' : ['ফ','হ'],\n",
    "      'ঘ' : ['ফগ','হজ'],\n",
    "      'ঙ' : ['ব','ম'],\n",
    "      'চ' : ['ভ','চজ','চগ','ভহ'],\n",
    "      'ছ' : ['ভ','চজ','চগ','ভহ'],\n",
    "      'জ' : ['ক','হ'],\n",
    "      'ঝ' : ['কজ','হগ'],\n",
    "      'ট' : ['র'],\n",
    "      'ঠ' : ['তজ','তগ','রহ'],\n",
    "      'ড' : ['স','ফ'],\n",
    "      'ঢ' : ['দজ','দ্গ','শ','ফহ'],\n",
    "      'ণ' : ['ব','ম'],\n",
    "      'ত' : ['র'],\n",
    "      'থ' : ['তজ', 'তগ', 'রহ'],\n",
    "      'দ' : ['স', 'ফ'],\n",
    "      'ধ' : ['দজ', 'দ্গ', 'শ' ,'ফহ'],\n",
    "      'ন' : ['ব','ম'],\n",
    "      'প' : ['ও',' ো'],\n",
    "      'ফ' : ['দ','গ'],\n",
    "      'ব' : ['ভ','ন'],\n",
    "      'ভ' : ['‍ব','চ'],\n",
    "      'ম' : ['ন'],\n",
    "      'য' : ['হ','ক'],\n",
    "      'র' : ['এ',' ে','ত'],\n",
    "      'ল' : ['ক'],\n",
    "      'শ' : ['সজ','সগ','আহ','ঢ'],\n",
    "      'ষ' : ['সজ','সগ','আহ','ঢ'],\n",
    "      'স' : ['আ',' া','দ'],\n",
    "      'হ' : ['গ','য'],\n",
    "      'য়' : ['ত','উ','ু'],\n",
    "      'ড়' : ['এ',' ে','ত'],\n",
    "      'ঢ়' : ['এ',' ে','ত'],\n",
    "      'ৎ' : ['র'],\n",
    "      'ং' : ['ব','ম'],\n",
    "      'ঃ' : ['গ','য'],\n",
    "      'অ' : ['প',' ি','ই'],\n",
    "      'আ' : ['স'],\n",
    "      'ই' : ['উ','অ'],\n",
    "      'ঈ' : ['উ','অ'],\n",
    "      'উ' : ['ই',' ি'],\n",
    "      'ঊ' : ['ই',' ি'],\n",
    "      'ঋ' : [''],\n",
    "      'এ' : ['ও','র'],\n",
    "      'ঐ' : [''],\n",
    "      'ও' : ['প','ই'],\n",
    "      'ঔ' : [''],\n",
    "      'া' : ['স'],\n",
    "      'ি' : ['উ','অ'],\n",
    "      'ো' : ['প',' ি'],\n",
    "      'ৌ' : [''],\n",
    "      'ে' : ['ো','র'],\n",
    "      'ৈ' : ['']\n",
    "    }"
   ]
  },
  {
   "cell_type": "code",
   "execution_count": null,
   "id": "5a6f056c-8b73-4220-a047-8327d53fea1c",
   "metadata": {},
   "outputs": [],
   "source": [
    "SameClusterDict = {\n",
    "    'অ' : ['ও','আ','অ্যা','া','ওঁ','ওঃ'],\n",
    "    'আ' : ['আ','অ্যাঁ','আঃ','ওয়া','এ'],\n",
    "    'ই':['ই','ঈ','এ','ে','য়'],\n",
    "    'ঈ':['ই','ঈ','এ','ে','য়'],\n",
    "    'উ' : ['উ''উঁ','ঊ','ু'],\n",
    "    'ঊ' : ['উ''উঁ','ঊ','ু'],\n",
    "    'ঋ' : ['রি','হ্রী','ড়ি','ঢ়ি','ব্রই','ৃ','হ্র'],\n",
    "    'এ' : ['এ','অ্যা','আঃ'],\n",
    "    'ঐ': ['অই','ঈ','ওই' , 'ই', 'অ্যাই'],\n",
    "    'ও': ['ও','আ','অ্যা','া','ওঁ','ওঃ'],\n",
    "    'ঔ': [ 'ও','আ','অউ','অ্যা','া','ওঁ','ওঃ'],\n",
    "    'ক': ['ক','খ','গ', 'ও','আ','অ্যা','া','ওঁ','ওঃ','কোঁ',' কো','খ','খো','খও','ক্ষও','কহোঁ','কহও','গোঁ','গয়' ],\n",
    "    'খ': ['ক','খ','গ', 'ও','আ','অ্যা','া','ওঁ','ওঃ','কোঁ',' কো','খ','খো','খও','ক্ষও','কহোঁ','কহও','গোঁ','গয়' ],\n",
    "    'গ': ['ক','খ','গ', 'ও','আ','অ্যা','া','ওঁ','ওঃ','কোঁ',' কো','খ','খো','খও','ক্ষও','কহোঁ','কহও','গোঁ','গয়' ],\n",
    "    'ঘ ': ['খ','খো','খও','ক্ষও','কহোঁ','কহও','গোঁ','গয়' ,'ঘো ','ঘও'],\n",
    "    'ঙ': ['◌ং','ও','আ','অ্যা','া','ওঁ','ওঃ','অং'],\n",
    "    'চ': ['চ','ও','আ','অ্যা','া','ওঁ','ওঃ','চোঁ','চও','ছোঁ','ছো','ছও','ছ'],\n",
    "    'ছ': ['চ','ও','আ','অ্যা','া','ওঁ','ওঃ','চোঁ','চও','ছোঁ','ছো','ছও','ছ'],\n",
    "    'জ': ['জ','য','জো','যো','ঝ','ঝও'],\n",
    "    'ঝ': ['জ','য','জো','যো','ঝ','ঝও'],\n",
    "    'ঞ': ['ন','ঙ','ণ','ঞ','ই','ঈ','এ','ে','য়','নও' ],\n",
    "    'ট' : ['ত','তঁ','তোঁ','টয়','তো','ট'],\n",
    "    'ঠ' : ['থ','ত','তঁ','তোঁ','টয়','তো','ট'],\n",
    "    'ড' : ['দ','দো','দ্য','ডঃ' ,'দ্যো','ঢ','ধ','থ','ত','তঁ','তোঁ','টয়','তো','ট','ঢো','দঃ' ],\n",
    "    'ঢ': ['দ','দো','দ্য','ডঃ','দ্যো','ঢ','ধ','থ','ত','তঁ','তোঁ','টয়','তো','ট','ঢো','দঃ' ],\n",
    "    'ণ': ['ন','ঙ','ণ','ঞ','ই','ঈ','এ','ে','য়','নও' ],\n",
    "    'ত' : ['দ','দো','দ্য','ডঃ' ,'দ্যো','ঢ','ধ','থ','ত','তঁ','তোঁ','টয়','তো','ট','ঢো','দঃ' ],\n",
    "    'থ': ['দ','দো','দ্য','ডঃ' ,'দ্যো','ঢ','ধ','থ','ত','তঁ','তোঁ','টয়','তো','ট','ঢো','দঃ' ],\n",
    "    'দ' : ['দ','দো','দ্য','ডঃ' ,'দ্যো','ঢ','ধ','থ','ত','তঁ','তোঁ','টয়','তো','ট','ঢো','দঃ' ],\n",
    "    'ধ' : ['দ','দো','দ্য','ডঃ' ,'দ্যো','ঢ','ধ','থ','ত','তঁ','তোঁ','টয়','তো','ট','ঢো','দঃ' ],\n",
    "    'ন': ['ন','ঙ','ণ','ঞ','ই','ঈ','এ','ে','য়','নও' ],\n",
    "    'প' : ['প','ফ','ব','ভ','ম','ব্য', 'ভঁ', 'বও' ,'বো','বোঁ','ব্যয়','পঅ' ,'পো' ,'পয়' ,'পোঁ','ভঁ' ,'ভঅ' ,'ভয়','ভোঁ','ময়' ,'মোঃ'],\n",
    "    'ফ' : ['প','ফ','ব','ভ','ম','ব্য', 'ভঁ', 'বও' ,'বো','বোঁ','ব্যয়','পঅ' ,'পো' ,'পয়' ,'পোঁ','ভঁ' ,'ভঅ' ,'ভয়','ভোঁ','ময়' ,'মোঃ'],\n",
    "    'ব' : ['প','ফ','ব','ভ','ম','ব্য', 'ভঁ', 'বও' ,'বো','বোঁ','ব্যয়','পঅ' ,'পো' ,'পয়' ,'পোঁ','ভঁ' ,'ভঅ' ,'ভয়','ভোঁ','ময়' ,'মোঃ'],\n",
    "    'ভ' : ['প','ফ','ব','ভ','ম','ব্য', 'ভঁ', 'বও' ,'বো','বোঁ','ব্যয়','পঅ' ,'পো' ,'পয়' ,'পোঁ','ভঁ' ,'ভঅ' ,'ভয়','ভোঁ','ময়' ,'মোঃ'],\n",
    "    'ম' : ['প','ফ','ব','ভ','ম','ব্য', 'ভঁ', 'বও' ,'বো','বোঁ','ব্যয়','পঅ' ,'পো' ,'পয়' ,'পোঁ','ভঁ' ,'ভঅ' ,'ভয়','ভোঁ','ময়' ,'মোঃ'],\n",
    "    'য' : ['প','ফ','ব','ভ','ম','ব্য', 'ভঁ', 'বও' ,'বো','বোঁ','ব্যয়','পঅ' ,'পো' ,'পয়' ,'পোঁ','ভঁ' ,'ভঅ' ,'ভয়','ভোঁ','ময়' ,'মোঃ'],\n",
    "    'র' : ['র','ড়','ঢ়','রও','রোঁ','রো','রয়','ঋ', 'হর'  ],\n",
    "    'ল' : ['ল','লয়','লো'],\n",
    "    'শ' : ['শ','ষ','স','ও','আ','অ্যা','া','ওঁ','ওঃ','শো','সঅ','শয়'],\n",
    "    'ষ' : ['শ','ষ','স','ও','আ','অ্যা','া','ওঁ','ওঃ','শো','সঅ','শয়'],\n",
    "    'স' : ['শ','ষ','স','ও','আ','অ্যা','া','ওঁ','ওঃ','শো','সঅ','শয়'],\n",
    "    '‍হ': ['হ','ও','আ','অ্যা','া','ওঁ','ওঃ'],\n",
    "    'ড়' : ['র','ড়','ঢ়','রও','রোঁ','রো','রয়','ঋ', 'হর'  ],\n",
    "    '‍ঢ়': ['র','ড়','ঢ়','রও','রোঁ','রো','রয়','ঋ', 'হর'  ],\n",
    "    '‍য় ': ['ই','ঈ','এ','ে','য়'],\n",
    "\n",
    "    'ৎ' : ['দ','দো','দ্য','ডঃ' ,'দ্যো','ঢ','ধ','থ','ত','তঁ','তোঁ','টয়','তো','ট','ঢো','দঃ' ],\n",
    "    'ং' : ['◌ং','ও','আ','অ্যা','া','ওঁ','ওঃ','অং'],\n",
    "    'ঃ': ['হ','ও','আ','অ্যা','া','ওঁ','ওঃ'],\n",
    "    '‍ঁ' : [''],\n",
    "\n",
    "    '‍ি': ['ই','ঈ','এ','ে','য়'],\n",
    "    'ী' : ['ই','ঈ','এ','ে','য়'],\n",
    "    'ে':['এ','অ্যা','আঃ'],\n",
    "    'ৈ'  :['এ','অ্যা','আঃ'],\n",
    "    'ো' : ['ও','আ','অ্যা','া','ওঁ','ওঃ'],\n",
    "    'ৌ':['ও','আ','অ্যা','া','ওঁ','ওঃ'],\n",
    "    'ৃ' : ['রি','হ্রী','ড়ি','ঢ়ি','ব্রই','ৃ','হ্র'],\n",
    "     '◌ূ'  : ['উ''উঁ','ঊ','ু'],\n",
    "     ' ু'  : ['উ''উঁ','ঊ','ু']\n",
    "}"
   ]
  },
  {
   "cell_type": "code",
   "execution_count": null,
   "id": "ad393483-253a-4549-87b3-5381de1617b0",
   "metadata": {},
   "outputs": [],
   "source": [
    "def apply_error(string,error):\n",
    "    random.seed(time.time()+200)\n",
    "    errors = ['Cluster','Replace','Juktakkhor','Character','Deletion','Noerror']\n",
    "    if error == \"Cluster\":\n",
    "        if string in list(SameClusterDict.keys()):\n",
    "            string = random.choice(SameClusterDict[string])\n",
    "    if error == \"Replace\":\n",
    "        if string in list(ReplaceDict.keys()):\n",
    "            string = random.choice(ReplaceDict[string])\n",
    "    if error == \"Juktakkhor\":\n",
    "        string = random.choice(JuktakkhorList)\n",
    "    if error == \"Character\":\n",
    "        string = random.choice(character)\n",
    "    if error == \"Deletion\":\n",
    "        string = \"\"\n",
    "    if error == \"insertion\":\n",
    "        temp_error = random.choice(errors)\n",
    "        string = string + apply_error(string,temp_error)\n",
    "    if error == \"Noerror\":\n",
    "        pass\n",
    "    return string"
   ]
  },
  {
   "cell_type": "code",
   "execution_count": null,
   "id": "6f48d09a-c018-42d8-a604-83465c567edc",
   "metadata": {},
   "outputs": [],
   "source": [
    "def error_generator(word):\n",
    "    errors = ['Cluster','Replace','Juktakkhor','Character','Deletion','Insertion','Noerror']\n",
    "    string = []\n",
    "    string[:0] = word\n",
    "    random.seed(time.time())\n",
    "    noise_ratio = random.randint(0,int(len(word)*0.40))\n",
    "    print(noise_ratio)\n",
    "    for n in range(noise_ratio):\n",
    "        for i in range(len(string)):\n",
    "            random.seed(time.time()+2)\n",
    "            error_t = random.random()\n",
    "            if error_t >=0.5:\n",
    "                random.seed(time.time()+100)\n",
    "                error = random.choice(errors)\n",
    "                string[i] = apply_error(string[i],error)\n",
    "    word = \"\".join(string)\n",
    "    word = word.replace(\" \", \"\")\n",
    "    return word"
   ]
  },
  {
   "cell_type": "code",
   "execution_count": null,
   "id": "36417d43-108e-41d2-b115-15c5d20408c9",
   "metadata": {},
   "outputs": [],
   "source": [
    "word = 'অজপারাগায়ে'"
   ]
  },
  {
   "cell_type": "code",
   "execution_count": null,
   "id": "c6784cb7-b092-4d19-ae03-1d79716e7941",
   "metadata": {},
   "outputs": [],
   "source": [
    "error_generator(word)"
   ]
  },
  {
   "cell_type": "code",
   "execution_count": null,
   "id": "502a025c-0387-4e2a-af5d-ce11d317d92f",
   "metadata": {},
   "outputs": [],
   "source": [
    "sentence = \n",
    "df_prothom_alo.sentence.tolist()"
   ]
  },
  {
   "cell_type": "code",
   "execution_count": null,
   "id": "836914fb-98ed-4718-8caa-f0c4ebdd3c95",
   "metadata": {},
   "outputs": [],
   "source": [
    "df_custom_error_dataset = pd.DataFrame()\n",
    "for sen in tqdm(sentence):\n",
    "    sent = sen\n",
    "    sen = sen.split()\n",
    "    sent = sent.split()\n",
    "    random.seed(time.time()+356)\n",
    "    random_index = random.randint(0,len(sen)-1)\n",
    "    sen[random_index] = '[MASK]'\n",
    "    error_word = error_generator(sent[random_index])\n",
    "    temp_dict = {'sentence':\" \".join(sent),'masked_sen':\" \".join(sen),'error_word':error_word }\n",
    "    df_custom_error_dataset = df_custom_error_dataset.append(temp_dict,ignore_index=True)"
   ]
  },
  {
   "cell_type": "code",
   "execution_count": null,
   "id": "5cb4d800-fb88-49e9-9267-e4921683aecd",
   "metadata": {},
   "outputs": [],
   "source": [
    "df_custom_error_dataset.sample(5)"
   ]
  },
  {
   "cell_type": "code",
   "execution_count": null,
   "id": "6f2bed6c-fcc6-4961-99d7-640515e39f71",
   "metadata": {},
   "outputs": [],
   "source": [
    "df_custom_error_dataset.to_csv('custom_error_dataset.csv',index=False)"
   ]
  },
  {
   "cell_type": "code",
   "execution_count": null,
   "id": "82eaf2b2-f1b3-48ee-b60d-91bcae29076c",
   "metadata": {},
   "outputs": [],
   "source": []
  }
 ],
 "metadata": {
  "kernelspec": {
   "display_name": "Python 3 (ipykernel)",
   "language": "python",
   "name": "python3"
  },
  "language_info": {
   "codemirror_mode": {
    "name": "ipython",
    "version": 3
   },
   "file_extension": ".py",
   "mimetype": "text/x-python",
   "name": "python",
   "nbconvert_exporter": "python",
   "pygments_lexer": "ipython3",
   "version": "3.10.4"
  }
 },
 "nbformat": 4,
 "nbformat_minor": 5
}
