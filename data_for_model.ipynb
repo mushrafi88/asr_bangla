{
 "cells": [
  {
   "cell_type": "code",
   "execution_count": 1,
   "id": "edf3f026-2853-486e-a86e-236a88345d9b",
   "metadata": {},
   "outputs": [],
   "source": [
    "#!kaggle datasets download -d mushrafimunim/bn-corpus-prothom-alo"
   ]
  },
  {
   "cell_type": "code",
   "execution_count": 1,
   "id": "72bf491d-7825-46bd-ad1a-38951a1d2fff",
   "metadata": {},
   "outputs": [
    {
     "name": "stdout",
     "output_type": "stream",
     "text": [
      "INFO: Pandarallel will run on 4 workers.\n",
      "INFO: Pandarallel will use Memory file system to transfer data between the main process and workers.\n"
     ]
    }
   ],
   "source": [
    "import pandas as pd \n",
    "import numpy  as np\n",
    "from wordfreq import word_frequency ,top_n_list,get_frequency_dict\n",
    "\n",
    "from symspellpy import SymSpell, Verbosity\n",
    "from itertools import islice\n",
    "\n",
    "from pandarallel import pandarallel\n",
    "\n",
    "pandarallel.initialize(progress_bar=True,nb_workers=4)\n"
   ]
  },
  {
   "cell_type": "code",
   "execution_count": 2,
   "id": "f5a6fe4e-1efd-44a8-bdf6-6cc104e0fbcc",
   "metadata": {},
   "outputs": [
    {
     "data": {
      "text/plain": [
       "True"
      ]
     },
     "execution_count": 2,
     "metadata": {},
     "output_type": "execute_result"
    }
   ],
   "source": [
    "sym_spell = SymSpell(max_dictionary_edit_distance=5, prefix_length=7)\n",
    "dictionary_path = 'asr_bangla/prothom_alo_word_freq.txt'\n",
    "sym_spell.load_dictionary(dictionary_path, 0, 1,separator=\" \")"
   ]
  },
  {
   "cell_type": "code",
   "execution_count": 3,
   "id": "f98f18c9-1253-46b7-b2cb-2b81863a4adb",
   "metadata": {},
   "outputs": [],
   "source": [
    "df_wav2vec2 = pd.read_csv('symspell_nov.csv')\n",
    "\n",
    "#df_prothom_alo = pd.read_csv('bangla_text_data.csv')\n",
    "\n",
    "#df_prothom_alo= df_prothom_alo.dropna(how='any')\n",
    "df_wav2vec2 = df_wav2vec2.dropna(how='any')\n",
    "df_wav2vec2 = df_wav2vec2[df_wav2vec2.audio == 'noisy']"
   ]
  },
  {
   "cell_type": "code",
   "execution_count": 4,
   "id": "78ccfe38-48da-4207-acaa-e79e720767ce",
   "metadata": {},
   "outputs": [],
   "source": [
    "def wer(sen):\n",
    "    sen = eval(sen)\n",
    "    s = sen.count('S')\n",
    "    d = sen.count('D')\n",
    "    i = sen.count('I')\n",
    "    return int(((s+d+i)*100)/len(sen))"
   ]
  },
  {
   "cell_type": "code",
   "execution_count": 5,
   "id": "063cefb6-fa87-4beb-a9e7-a569ac2d4c85",
   "metadata": {},
   "outputs": [
    {
     "data": {
      "text/plain": [
       "['C', 'C', 'C', 'C', 'C', 'C', 'C', 'C', 'C', 'C', 'C', 'C', 'C']"
      ]
     },
     "execution_count": 5,
     "metadata": {},
     "output_type": "execute_result"
    }
   ],
   "source": [
    "eval(df_wav2vec2['2gram_label'][0])"
   ]
  },
  {
   "cell_type": "code",
   "execution_count": 6,
   "id": "3c821345-1a10-47fc-ba20-7a86bf5e79a5",
   "metadata": {},
   "outputs": [
    {
     "data": {
      "application/vnd.jupyter.widget-view+json": {
       "model_id": "85967464050b41f0a5d64b8359c8b388",
       "version_major": 2,
       "version_minor": 0
      },
      "text/plain": [
       "VBox(children=(HBox(children=(IntProgress(value=0, description='0.00%', max=5179), Label(value='0 / 5179'))), …"
      ]
     },
     "metadata": {},
     "output_type": "display_data"
    }
   ],
   "source": [
    "df_wav2vec2['wer'] = df_wav2vec2['2gram_label'].parallel_apply(lambda x: wer(x))"
   ]
  },
  {
   "cell_type": "code",
   "execution_count": 7,
   "id": "11bb056a-66a0-4e2a-aff0-3ca42e4b4fef",
   "metadata": {},
   "outputs": [],
   "source": [
    "df_wav2vec2 =  df_wav2vec2[df_wav2vec2.wer !=0]"
   ]
  },
  {
   "cell_type": "code",
   "execution_count": 8,
   "id": "3d338cce-9321-4ef0-a05b-b0c4969b0217",
   "metadata": {},
   "outputs": [],
   "source": [
    "df_wav2vec2 = df_wav2vec2[['sentence','wav2vec2','2gram',]]"
   ]
  },
  {
   "cell_type": "code",
   "execution_count": 9,
   "id": "d36b2ca3-4a64-4431-b4d6-2ef02a3ad182",
   "metadata": {},
   "outputs": [],
   "source": [
    "#df_wav2vec2.rename(columns={'sentence':'refere'},inplace=True)"
   ]
  },
  {
   "cell_type": "code",
   "execution_count": 10,
   "id": "9219c37e-648e-4dc1-b354-ae3ee1a229de",
   "metadata": {},
   "outputs": [
    {
     "data": {
      "text/plain": [
       "'তিনি মোট পাঁচবার সংশদ নির্বাচনে অংশগ্রহণ করে চারবার বিজয়ী হন'"
      ]
     },
     "execution_count": 10,
     "metadata": {},
     "output_type": "execute_result"
    }
   ],
   "source": [
    "df_wav2vec2.iloc[1500].wav2vec2"
   ]
  },
  {
   "cell_type": "code",
   "execution_count": 11,
   "id": "1cf4a463-1a3b-438c-9229-262580a9eb08",
   "metadata": {},
   "outputs": [
    {
     "data": {
      "text/html": [
       "<div>\n",
       "<style scoped>\n",
       "    .dataframe tbody tr th:only-of-type {\n",
       "        vertical-align: middle;\n",
       "    }\n",
       "\n",
       "    .dataframe tbody tr th {\n",
       "        vertical-align: top;\n",
       "    }\n",
       "\n",
       "    .dataframe thead th {\n",
       "        text-align: right;\n",
       "    }\n",
       "</style>\n",
       "<table border=\"1\" class=\"dataframe\">\n",
       "  <thead>\n",
       "    <tr style=\"text-align: right;\">\n",
       "      <th></th>\n",
       "      <th>sentence</th>\n",
       "      <th>wav2vec2</th>\n",
       "      <th>2gram</th>\n",
       "    </tr>\n",
       "  </thead>\n",
       "  <tbody>\n",
       "    <tr>\n",
       "      <th>2</th>\n",
       "      <td>গরীব মানুষকে সে মানুষ বলেই মনে করে না এবং তুচ্...</td>\n",
       "      <td>গড়ি মানুষ কেসে মানুষ বলি মনে করে না এবং তুচ্ছত...</td>\n",
       "      <td>গরিব মানুষ কি সে মানুষ বলে মনে করে না এবং তুচ্...</td>\n",
       "    </tr>\n",
       "    <tr>\n",
       "      <th>3</th>\n",
       "      <td>ব্যাটের বেশ দূর থেকে এ সুইং করতেন তিনি</td>\n",
       "      <td>ব্যাটের বেশ দূর থেকে এ সুইং করতেন তিনি</td>\n",
       "      <td>ব্যাটের বেশ দূর থেকে সুইং করতেন তিনি</td>\n",
       "    </tr>\n",
       "    <tr>\n",
       "      <th>4</th>\n",
       "      <td>অদ্যাবধি এ সংগ্রহটি প্রথমশ্রেণীর ক্রিকেটে বিশ্...</td>\n",
       "      <td>অধ্যাবধী এ সংগ্রহটি প্রথমশ্রেণীর ক্রিকেটে বিশ্...</td>\n",
       "      <td>অদ্যাবধি এ সংগ্রহটি প্রথম শ্রেণির ক্রিকেটে বিশ...</td>\n",
       "    </tr>\n",
       "    <tr>\n",
       "      <th>5</th>\n",
       "      <td>ফলশ্রুতিতে নাটাল দলকে পরাজিত করে কারি কাপের শি...</td>\n",
       "      <td>ফলশ্রুতিতে নাটাল দলকে পরাজিত করে গারিকাপের শির...</td>\n",
       "      <td>ফলশ্রুতিতে নাটাল দলকে পরাজিত করে গাড়ি কাপের শি...</td>\n",
       "    </tr>\n",
       "    <tr>\n",
       "      <th>6</th>\n",
       "      <td>যেটা পরিচালনা করেছেন রাখাল বন্ধুর ই পরিচালক ইব...</td>\n",
       "      <td>যেতা পরিচালনা করেছেন রাখাল বন্ধুরই পরিচালক ইবন...</td>\n",
       "      <td>যেতা পরিচালনা করেছেন রাখাল বন্ধুর পরিচালক ইবনে...</td>\n",
       "    </tr>\n",
       "    <tr>\n",
       "      <th>...</th>\n",
       "      <td>...</td>\n",
       "      <td>...</td>\n",
       "      <td>...</td>\n",
       "    </tr>\n",
       "    <tr>\n",
       "      <th>38375</th>\n",
       "      <td>পিছিয়ে থাকতে চাইনা</td>\n",
       "      <td>পিছিয়ে থাকতে চায় না</td>\n",
       "      <td>পিছিয়ে থাকতে চায় না</td>\n",
       "    </tr>\n",
       "    <tr>\n",
       "      <th>38376</th>\n",
       "      <td>তারপরেই রয়েছ</td>\n",
       "      <td>তারপরে রয়েছে</td>\n",
       "      <td>তারপরে রয়েছে</td>\n",
       "    </tr>\n",
       "    <tr>\n",
       "      <th>38381</th>\n",
       "      <td>একাধিকবার আহ্বান জানিয়েছেন</td>\n",
       "      <td>একাধিকবার আহবান জানিয়েছেন</td>\n",
       "      <td>একাধিকবার আহবান জানিয়েছেন</td>\n",
       "    </tr>\n",
       "    <tr>\n",
       "      <th>38385</th>\n",
       "      <td>তাদের ছেলেমেয়েদের</td>\n",
       "      <td>তাদের ছেলে মেয়েদের</td>\n",
       "      <td>তাদের ছেলে মেয়েদের</td>\n",
       "    </tr>\n",
       "    <tr>\n",
       "      <th>38386</th>\n",
       "      <td>জয়নাল আবেদীন এ তথ্যের</td>\n",
       "      <td>জনাল আবিদদিন এ ততথ্যের</td>\n",
       "      <td>জয়নাল আবেদিন এ তথ্যের</td>\n",
       "    </tr>\n",
       "  </tbody>\n",
       "</table>\n",
       "<p>12279 rows × 3 columns</p>\n",
       "</div>"
      ],
      "text/plain": [
       "                                                sentence  \\\n",
       "2      গরীব মানুষকে সে মানুষ বলেই মনে করে না এবং তুচ্...   \n",
       "3                 ব্যাটের বেশ দূর থেকে এ সুইং করতেন তিনি   \n",
       "4      অদ্যাবধি এ সংগ্রহটি প্রথমশ্রেণীর ক্রিকেটে বিশ্...   \n",
       "5      ফলশ্রুতিতে নাটাল দলকে পরাজিত করে কারি কাপের শি...   \n",
       "6      যেটা পরিচালনা করেছেন রাখাল বন্ধুর ই পরিচালক ইব...   \n",
       "...                                                  ...   \n",
       "38375                                 পিছিয়ে থাকতে চাইনা   \n",
       "38376                                       তারপরেই রয়েছ   \n",
       "38381                         একাধিকবার আহ্বান জানিয়েছেন   \n",
       "38385                                  তাদের ছেলেমেয়েদের   \n",
       "38386                              জয়নাল আবেদীন এ তথ্যের   \n",
       "\n",
       "                                                wav2vec2  \\\n",
       "2      গড়ি মানুষ কেসে মানুষ বলি মনে করে না এবং তুচ্ছত...   \n",
       "3                 ব্যাটের বেশ দূর থেকে এ সুইং করতেন তিনি   \n",
       "4      অধ্যাবধী এ সংগ্রহটি প্রথমশ্রেণীর ক্রিকেটে বিশ্...   \n",
       "5      ফলশ্রুতিতে নাটাল দলকে পরাজিত করে গারিকাপের শির...   \n",
       "6      যেতা পরিচালনা করেছেন রাখাল বন্ধুরই পরিচালক ইবন...   \n",
       "...                                                  ...   \n",
       "38375                                পিছিয়ে থাকতে চায় না   \n",
       "38376                                       তারপরে রয়েছে   \n",
       "38381                          একাধিকবার আহবান জানিয়েছেন   \n",
       "38385                                 তাদের ছেলে মেয়েদের   \n",
       "38386                             জনাল আবিদদিন এ ততথ্যের   \n",
       "\n",
       "                                                   2gram  \n",
       "2      গরিব মানুষ কি সে মানুষ বলে মনে করে না এবং তুচ্...  \n",
       "3                   ব্যাটের বেশ দূর থেকে সুইং করতেন তিনি  \n",
       "4      অদ্যাবধি এ সংগ্রহটি প্রথম শ্রেণির ক্রিকেটে বিশ...  \n",
       "5      ফলশ্রুতিতে নাটাল দলকে পরাজিত করে গাড়ি কাপের শি...  \n",
       "6      যেতা পরিচালনা করেছেন রাখাল বন্ধুর পরিচালক ইবনে...  \n",
       "...                                                  ...  \n",
       "38375                                পিছিয়ে থাকতে চায় না  \n",
       "38376                                       তারপরে রয়েছে  \n",
       "38381                          একাধিকবার আহবান জানিয়েছেন  \n",
       "38385                                 তাদের ছেলে মেয়েদের  \n",
       "38386                              জয়নাল আবেদিন এ তথ্যের  \n",
       "\n",
       "[12279 rows x 3 columns]"
      ]
     },
     "execution_count": 11,
     "metadata": {},
     "output_type": "execute_result"
    }
   ],
   "source": [
    "df_wav2vec2"
   ]
  },
  {
   "cell_type": "code",
   "execution_count": 12,
   "id": "8cc4f2d0-473d-4aca-a1d1-1a39fc561b7e",
   "metadata": {},
   "outputs": [],
   "source": [
    "n=list(df_wav2vec2.sample(1).index)[0]"
   ]
  },
  {
   "cell_type": "code",
   "execution_count": 13,
   "id": "dbcab1a1-d760-4d3a-bc0d-2537e4a18f58",
   "metadata": {},
   "outputs": [],
   "source": [
    "actual = df_wav2vec2['sentence'][n]\n",
    "raw = df_wav2vec2['wav2vec2'][n]\n",
    "arpa = df_wav2vec2['2gram'][n]"
   ]
  },
  {
   "cell_type": "code",
   "execution_count": 14,
   "id": "ca74670e-105f-4600-b567-cec47b1ff5eb",
   "metadata": {},
   "outputs": [
    {
     "data": {
      "text/plain": [
       "'কম্পিউটার ইঞ্জিনিয়ারিং ডিগ্রি নেন'"
      ]
     },
     "execution_count": 14,
     "metadata": {},
     "output_type": "execute_result"
    }
   ],
   "source": [
    "arpa"
   ]
  },
  {
   "cell_type": "code",
   "execution_count": 15,
   "id": "21f1a6c3-2a28-493d-a69f-12892cc9fe47",
   "metadata": {},
   "outputs": [],
   "source": [
    "def masking(arpa):\n",
    "    sen = arpa.split()\n",
    "    for words in sen:\n",
    "        suggestions = sym_spell.lookup(words, Verbosity.CLOSEST,max_edit_distance=0, include_unknown=True)\n",
    "        for suggestion in suggestions:\n",
    "            suggestion = str(suggestion)\n",
    "            suggestion = suggestion.split(',')\n",
    "            if int(suggestion[2]) == 0:\n",
    "                mask = '[MASK]'\n",
    "                sen = [mask if x == words else x for x in sen]\n",
    "                break\n",
    "    return \" \".join(sen)\n"
   ]
  },
  {
   "cell_type": "code",
   "execution_count": 16,
   "id": "8a91574b-f0fb-44e8-99ff-4c41d4283b94",
   "metadata": {},
   "outputs": [
    {
     "data": {
      "application/vnd.jupyter.widget-view+json": {
       "model_id": "d18fde700e2b4051ba2454f0d17df897",
       "version_major": 2,
       "version_minor": 0
      },
      "text/plain": [
       "VBox(children=(HBox(children=(IntProgress(value=0, description='0.00%', max=3070), Label(value='0 / 3070'))), …"
      ]
     },
     "metadata": {},
     "output_type": "display_data"
    },
    {
     "data": {
      "application/vnd.jupyter.widget-view+json": {
       "model_id": "714a84ccc4d1413ab3dfea978669b0cf",
       "version_major": 2,
       "version_minor": 0
      },
      "text/plain": [
       "VBox(children=(HBox(children=(IntProgress(value=0, description='0.00%', max=3070), Label(value='0 / 3070'))), …"
      ]
     },
     "metadata": {},
     "output_type": "display_data"
    }
   ],
   "source": [
    "df_wav2vec2['masked_arpa'] = df_wav2vec2['2gram'].parallel_apply(lambda x: masking(str(x)))\n",
    "df_wav2vec2['masked_wav2vec2'] = df_wav2vec2['wav2vec2'].parallel_apply(lambda x: masking(str(x)))"
   ]
  },
  {
   "cell_type": "code",
   "execution_count": 18,
   "id": "ec13249c-2fd0-4bcb-abbe-e74156d73ff2",
   "metadata": {},
   "outputs": [
    {
     "data": {
      "text/html": [
       "<div>\n",
       "<style scoped>\n",
       "    .dataframe tbody tr th:only-of-type {\n",
       "        vertical-align: middle;\n",
       "    }\n",
       "\n",
       "    .dataframe tbody tr th {\n",
       "        vertical-align: top;\n",
       "    }\n",
       "\n",
       "    .dataframe thead th {\n",
       "        text-align: right;\n",
       "    }\n",
       "</style>\n",
       "<table border=\"1\" class=\"dataframe\">\n",
       "  <thead>\n",
       "    <tr style=\"text-align: right;\">\n",
       "      <th></th>\n",
       "      <th>sentence</th>\n",
       "      <th>wav2vec2</th>\n",
       "      <th>2gram</th>\n",
       "      <th>masked_arpa</th>\n",
       "      <th>masked_wav2vec2</th>\n",
       "    </tr>\n",
       "  </thead>\n",
       "  <tbody>\n",
       "    <tr>\n",
       "      <th>2</th>\n",
       "      <td>গরীব মানুষকে সে মানুষ বলেই মনে করে না এবং তুচ্...</td>\n",
       "      <td>গড়ি মানুষ কেসে মানুষ বলি মনে করে না এবং তুচ্ছত...</td>\n",
       "      <td>গরিব মানুষ কি সে মানুষ বলে মনে করে না এবং তুচ্...</td>\n",
       "      <td>গরিব মানুষ কি সে মানুষ বলে মনে করে না এবং তুচ্...</td>\n",
       "      <td>গড়ি মানুষ কেসে মানুষ বলি মনে করে না এবং তুচ্ছত...</td>\n",
       "    </tr>\n",
       "    <tr>\n",
       "      <th>3</th>\n",
       "      <td>ব্যাটের বেশ দূর থেকে এ সুইং করতেন তিনি</td>\n",
       "      <td>ব্যাটের বেশ দূর থেকে এ সুইং করতেন তিনি</td>\n",
       "      <td>ব্যাটের বেশ দূর থেকে সুইং করতেন তিনি</td>\n",
       "      <td>ব্যাটের বেশ দূর থেকে সুইং করতেন তিনি</td>\n",
       "      <td>ব্যাটের বেশ দূর থেকে এ সুইং করতেন তিনি</td>\n",
       "    </tr>\n",
       "    <tr>\n",
       "      <th>4</th>\n",
       "      <td>অদ্যাবধি এ সংগ্রহটি প্রথমশ্রেণীর ক্রিকেটে বিশ্...</td>\n",
       "      <td>অধ্যাবধী এ সংগ্রহটি প্রথমশ্রেণীর ক্রিকেটে বিশ্...</td>\n",
       "      <td>অদ্যাবধি এ সংগ্রহটি প্রথম শ্রেণির ক্রিকেটে বিশ...</td>\n",
       "      <td>অদ্যাবধি এ সংগ্রহটি প্রথম শ্রেণির ক্রিকেটে বিশ...</td>\n",
       "      <td>[MASK] এ সংগ্রহটি [MASK] ক্রিকেটে বিশ্ব রেকর্ড...</td>\n",
       "    </tr>\n",
       "    <tr>\n",
       "      <th>5</th>\n",
       "      <td>ফলশ্রুতিতে নাটাল দলকে পরাজিত করে কারি কাপের শি...</td>\n",
       "      <td>ফলশ্রুতিতে নাটাল দলকে পরাজিত করে গারিকাপের শির...</td>\n",
       "      <td>ফলশ্রুতিতে নাটাল দলকে পরাজিত করে গাড়ি কাপের শি...</td>\n",
       "      <td>ফলশ্রুতিতে নাটাল দলকে পরাজিত করে গাড়ি কাপের শি...</td>\n",
       "      <td>ফলশ্রুতিতে নাটাল দলকে পরাজিত করে [MASK] শিরোপা...</td>\n",
       "    </tr>\n",
       "    <tr>\n",
       "      <th>6</th>\n",
       "      <td>যেটা পরিচালনা করেছেন রাখাল বন্ধুর ই পরিচালক ইব...</td>\n",
       "      <td>যেতা পরিচালনা করেছেন রাখাল বন্ধুরই পরিচালক ইবন...</td>\n",
       "      <td>যেতা পরিচালনা করেছেন রাখাল বন্ধুর পরিচালক ইবনে...</td>\n",
       "      <td>যেতা পরিচালনা করেছেন রাখাল বন্ধুর পরিচালক ইবনে...</td>\n",
       "      <td>যেতা পরিচালনা করেছেন রাখাল বন্ধুরই পরিচালক ইবন...</td>\n",
       "    </tr>\n",
       "    <tr>\n",
       "      <th>...</th>\n",
       "      <td>...</td>\n",
       "      <td>...</td>\n",
       "      <td>...</td>\n",
       "      <td>...</td>\n",
       "      <td>...</td>\n",
       "    </tr>\n",
       "    <tr>\n",
       "      <th>38375</th>\n",
       "      <td>পিছিয়ে থাকতে চাইনা</td>\n",
       "      <td>পিছিয়ে থাকতে চায় না</td>\n",
       "      <td>পিছিয়ে থাকতে চায় না</td>\n",
       "      <td>পিছিয়ে থাকতে চায় না</td>\n",
       "      <td>পিছিয়ে থাকতে চায় না</td>\n",
       "    </tr>\n",
       "    <tr>\n",
       "      <th>38376</th>\n",
       "      <td>তারপরেই রয়েছ</td>\n",
       "      <td>তারপরে রয়েছে</td>\n",
       "      <td>তারপরে রয়েছে</td>\n",
       "      <td>তারপরে রয়েছে</td>\n",
       "      <td>তারপরে রয়েছে</td>\n",
       "    </tr>\n",
       "    <tr>\n",
       "      <th>38381</th>\n",
       "      <td>একাধিকবার আহ্বান জানিয়েছেন</td>\n",
       "      <td>একাধিকবার আহবান জানিয়েছেন</td>\n",
       "      <td>একাধিকবার আহবান জানিয়েছেন</td>\n",
       "      <td>একাধিকবার আহবান জানিয়েছেন</td>\n",
       "      <td>একাধিকবার আহবান জানিয়েছেন</td>\n",
       "    </tr>\n",
       "    <tr>\n",
       "      <th>38385</th>\n",
       "      <td>তাদের ছেলেমেয়েদের</td>\n",
       "      <td>তাদের ছেলে মেয়েদের</td>\n",
       "      <td>তাদের ছেলে মেয়েদের</td>\n",
       "      <td>তাদের ছেলে মেয়েদের</td>\n",
       "      <td>তাদের ছেলে মেয়েদের</td>\n",
       "    </tr>\n",
       "    <tr>\n",
       "      <th>38386</th>\n",
       "      <td>জয়নাল আবেদীন এ তথ্যের</td>\n",
       "      <td>জনাল আবিদদিন এ ততথ্যের</td>\n",
       "      <td>জয়নাল আবেদিন এ তথ্যের</td>\n",
       "      <td>জয়নাল আবেদিন এ তথ্যের</td>\n",
       "      <td>[MASK] [MASK] এ [MASK]</td>\n",
       "    </tr>\n",
       "  </tbody>\n",
       "</table>\n",
       "<p>12279 rows × 5 columns</p>\n",
       "</div>"
      ],
      "text/plain": [
       "                                                sentence  \\\n",
       "2      গরীব মানুষকে সে মানুষ বলেই মনে করে না এবং তুচ্...   \n",
       "3                 ব্যাটের বেশ দূর থেকে এ সুইং করতেন তিনি   \n",
       "4      অদ্যাবধি এ সংগ্রহটি প্রথমশ্রেণীর ক্রিকেটে বিশ্...   \n",
       "5      ফলশ্রুতিতে নাটাল দলকে পরাজিত করে কারি কাপের শি...   \n",
       "6      যেটা পরিচালনা করেছেন রাখাল বন্ধুর ই পরিচালক ইব...   \n",
       "...                                                  ...   \n",
       "38375                                 পিছিয়ে থাকতে চাইনা   \n",
       "38376                                       তারপরেই রয়েছ   \n",
       "38381                         একাধিকবার আহ্বান জানিয়েছেন   \n",
       "38385                                  তাদের ছেলেমেয়েদের   \n",
       "38386                              জয়নাল আবেদীন এ তথ্যের   \n",
       "\n",
       "                                                wav2vec2  \\\n",
       "2      গড়ি মানুষ কেসে মানুষ বলি মনে করে না এবং তুচ্ছত...   \n",
       "3                 ব্যাটের বেশ দূর থেকে এ সুইং করতেন তিনি   \n",
       "4      অধ্যাবধী এ সংগ্রহটি প্রথমশ্রেণীর ক্রিকেটে বিশ্...   \n",
       "5      ফলশ্রুতিতে নাটাল দলকে পরাজিত করে গারিকাপের শির...   \n",
       "6      যেতা পরিচালনা করেছেন রাখাল বন্ধুরই পরিচালক ইবন...   \n",
       "...                                                  ...   \n",
       "38375                                পিছিয়ে থাকতে চায় না   \n",
       "38376                                       তারপরে রয়েছে   \n",
       "38381                          একাধিকবার আহবান জানিয়েছেন   \n",
       "38385                                 তাদের ছেলে মেয়েদের   \n",
       "38386                             জনাল আবিদদিন এ ততথ্যের   \n",
       "\n",
       "                                                   2gram  \\\n",
       "2      গরিব মানুষ কি সে মানুষ বলে মনে করে না এবং তুচ্...   \n",
       "3                   ব্যাটের বেশ দূর থেকে সুইং করতেন তিনি   \n",
       "4      অদ্যাবধি এ সংগ্রহটি প্রথম শ্রেণির ক্রিকেটে বিশ...   \n",
       "5      ফলশ্রুতিতে নাটাল দলকে পরাজিত করে গাড়ি কাপের শি...   \n",
       "6      যেতা পরিচালনা করেছেন রাখাল বন্ধুর পরিচালক ইবনে...   \n",
       "...                                                  ...   \n",
       "38375                                পিছিয়ে থাকতে চায় না   \n",
       "38376                                       তারপরে রয়েছে   \n",
       "38381                          একাধিকবার আহবান জানিয়েছেন   \n",
       "38385                                 তাদের ছেলে মেয়েদের   \n",
       "38386                              জয়নাল আবেদিন এ তথ্যের   \n",
       "\n",
       "                                             masked_arpa  \\\n",
       "2      গরিব মানুষ কি সে মানুষ বলে মনে করে না এবং তুচ্...   \n",
       "3                   ব্যাটের বেশ দূর থেকে সুইং করতেন তিনি   \n",
       "4      অদ্যাবধি এ সংগ্রহটি প্রথম শ্রেণির ক্রিকেটে বিশ...   \n",
       "5      ফলশ্রুতিতে নাটাল দলকে পরাজিত করে গাড়ি কাপের শি...   \n",
       "6      যেতা পরিচালনা করেছেন রাখাল বন্ধুর পরিচালক ইবনে...   \n",
       "...                                                  ...   \n",
       "38375                                পিছিয়ে থাকতে চায় না   \n",
       "38376                                       তারপরে রয়েছে   \n",
       "38381                          একাধিকবার আহবান জানিয়েছেন   \n",
       "38385                                 তাদের ছেলে মেয়েদের   \n",
       "38386                              জয়নাল আবেদিন এ তথ্যের   \n",
       "\n",
       "                                         masked_wav2vec2  \n",
       "2      গড়ি মানুষ কেসে মানুষ বলি মনে করে না এবং তুচ্ছত...  \n",
       "3                 ব্যাটের বেশ দূর থেকে এ সুইং করতেন তিনি  \n",
       "4      [MASK] এ সংগ্রহটি [MASK] ক্রিকেটে বিশ্ব রেকর্ড...  \n",
       "5      ফলশ্রুতিতে নাটাল দলকে পরাজিত করে [MASK] শিরোপা...  \n",
       "6      যেতা পরিচালনা করেছেন রাখাল বন্ধুরই পরিচালক ইবন...  \n",
       "...                                                  ...  \n",
       "38375                                পিছিয়ে থাকতে চায় না  \n",
       "38376                                       তারপরে রয়েছে  \n",
       "38381                          একাধিকবার আহবান জানিয়েছেন  \n",
       "38385                                 তাদের ছেলে মেয়েদের  \n",
       "38386                             [MASK] [MASK] এ [MASK]  \n",
       "\n",
       "[12279 rows x 5 columns]"
      ]
     },
     "execution_count": 18,
     "metadata": {},
     "output_type": "execute_result"
    }
   ],
   "source": [
    "df_wav2vec2"
   ]
  },
  {
   "cell_type": "code",
   "execution_count": 19,
   "id": "22ebd18e-a108-4bfd-ad32-8cfbc3d45a1a",
   "metadata": {},
   "outputs": [],
   "source": [
    "mask = '[MASK]'"
   ]
  },
  {
   "cell_type": "code",
   "execution_count": 20,
   "id": "0105106a-0518-4561-810c-50526fefa7f0",
   "metadata": {},
   "outputs": [
    {
     "data": {
      "application/vnd.jupyter.widget-view+json": {
       "model_id": "4925f6449d314011a4e8f0731994d087",
       "version_major": 2,
       "version_minor": 0
      },
      "text/plain": [
       "VBox(children=(HBox(children=(IntProgress(value=0, description='0.00%', max=3070), Label(value='0 / 3070'))), …"
      ]
     },
     "metadata": {},
     "output_type": "display_data"
    },
    {
     "data": {
      "application/vnd.jupyter.widget-view+json": {
       "model_id": "80d79722e0b041beb328b5e412c367e9",
       "version_major": 2,
       "version_minor": 0
      },
      "text/plain": [
       "VBox(children=(HBox(children=(IntProgress(value=0, description='0.00%', max=3070), Label(value='0 / 3070'))), …"
      ]
     },
     "metadata": {},
     "output_type": "display_data"
    }
   ],
   "source": [
    "df_wav2vec2['2gram_masked_n'] = df_wav2vec2['masked_arpa'].parallel_apply(lambda x: str(x).split().count(mask))\n",
    "df_wav2vec2['wav2vec2_masked_n'] = df_wav2vec2['masked_wav2vec2'].parallel_apply(lambda x: str(x).split().count(mask))"
   ]
  },
  {
   "cell_type": "code",
   "execution_count": 21,
   "id": "dbce35bb-c71c-46cb-b4e0-9cb795252c68",
   "metadata": {},
   "outputs": [
    {
     "data": {
      "text/html": [
       "<div>\n",
       "<style scoped>\n",
       "    .dataframe tbody tr th:only-of-type {\n",
       "        vertical-align: middle;\n",
       "    }\n",
       "\n",
       "    .dataframe tbody tr th {\n",
       "        vertical-align: top;\n",
       "    }\n",
       "\n",
       "    .dataframe thead th {\n",
       "        text-align: right;\n",
       "    }\n",
       "</style>\n",
       "<table border=\"1\" class=\"dataframe\">\n",
       "  <thead>\n",
       "    <tr style=\"text-align: right;\">\n",
       "      <th></th>\n",
       "      <th>sentence</th>\n",
       "      <th>wav2vec2</th>\n",
       "      <th>2gram</th>\n",
       "      <th>masked_arpa</th>\n",
       "      <th>masked_wav2vec2</th>\n",
       "      <th>2gram_masked_n</th>\n",
       "      <th>wav2vec2_masked_n</th>\n",
       "    </tr>\n",
       "  </thead>\n",
       "  <tbody>\n",
       "    <tr>\n",
       "      <th>2</th>\n",
       "      <td>গরীব মানুষকে সে মানুষ বলেই মনে করে না এবং তুচ্...</td>\n",
       "      <td>গড়ি মানুষ কেসে মানুষ বলি মনে করে না এবং তুচ্ছত...</td>\n",
       "      <td>গরিব মানুষ কি সে মানুষ বলে মনে করে না এবং তুচ্...</td>\n",
       "      <td>গরিব মানুষ কি সে মানুষ বলে মনে করে না এবং তুচ্...</td>\n",
       "      <td>গড়ি মানুষ কেসে মানুষ বলি মনে করে না এবং তুচ্ছত...</td>\n",
       "      <td>0</td>\n",
       "      <td>0</td>\n",
       "    </tr>\n",
       "    <tr>\n",
       "      <th>3</th>\n",
       "      <td>ব্যাটের বেশ দূর থেকে এ সুইং করতেন তিনি</td>\n",
       "      <td>ব্যাটের বেশ দূর থেকে এ সুইং করতেন তিনি</td>\n",
       "      <td>ব্যাটের বেশ দূর থেকে সুইং করতেন তিনি</td>\n",
       "      <td>ব্যাটের বেশ দূর থেকে সুইং করতেন তিনি</td>\n",
       "      <td>ব্যাটের বেশ দূর থেকে এ সুইং করতেন তিনি</td>\n",
       "      <td>0</td>\n",
       "      <td>0</td>\n",
       "    </tr>\n",
       "    <tr>\n",
       "      <th>4</th>\n",
       "      <td>অদ্যাবধি এ সংগ্রহটি প্রথমশ্রেণীর ক্রিকেটে বিশ্...</td>\n",
       "      <td>অধ্যাবধী এ সংগ্রহটি প্রথমশ্রেণীর ক্রিকেটে বিশ্...</td>\n",
       "      <td>অদ্যাবধি এ সংগ্রহটি প্রথম শ্রেণির ক্রিকেটে বিশ...</td>\n",
       "      <td>অদ্যাবধি এ সংগ্রহটি প্রথম শ্রেণির ক্রিকেটে বিশ...</td>\n",
       "      <td>[MASK] এ সংগ্রহটি [MASK] ক্রিকেটে বিশ্ব রেকর্ড...</td>\n",
       "      <td>0</td>\n",
       "      <td>2</td>\n",
       "    </tr>\n",
       "    <tr>\n",
       "      <th>5</th>\n",
       "      <td>ফলশ্রুতিতে নাটাল দলকে পরাজিত করে কারি কাপের শি...</td>\n",
       "      <td>ফলশ্রুতিতে নাটাল দলকে পরাজিত করে গারিকাপের শির...</td>\n",
       "      <td>ফলশ্রুতিতে নাটাল দলকে পরাজিত করে গাড়ি কাপের শি...</td>\n",
       "      <td>ফলশ্রুতিতে নাটাল দলকে পরাজিত করে গাড়ি কাপের শি...</td>\n",
       "      <td>ফলশ্রুতিতে নাটাল দলকে পরাজিত করে [MASK] শিরোপা...</td>\n",
       "      <td>0</td>\n",
       "      <td>1</td>\n",
       "    </tr>\n",
       "    <tr>\n",
       "      <th>6</th>\n",
       "      <td>যেটা পরিচালনা করেছেন রাখাল বন্ধুর ই পরিচালক ইব...</td>\n",
       "      <td>যেতা পরিচালনা করেছেন রাখাল বন্ধুরই পরিচালক ইবন...</td>\n",
       "      <td>যেতা পরিচালনা করেছেন রাখাল বন্ধুর পরিচালক ইবনে...</td>\n",
       "      <td>যেতা পরিচালনা করেছেন রাখাল বন্ধুর পরিচালক ইবনে...</td>\n",
       "      <td>যেতা পরিচালনা করেছেন রাখাল বন্ধুরই পরিচালক ইবন...</td>\n",
       "      <td>0</td>\n",
       "      <td>2</td>\n",
       "    </tr>\n",
       "    <tr>\n",
       "      <th>...</th>\n",
       "      <td>...</td>\n",
       "      <td>...</td>\n",
       "      <td>...</td>\n",
       "      <td>...</td>\n",
       "      <td>...</td>\n",
       "      <td>...</td>\n",
       "      <td>...</td>\n",
       "    </tr>\n",
       "    <tr>\n",
       "      <th>38375</th>\n",
       "      <td>পিছিয়ে থাকতে চাইনা</td>\n",
       "      <td>পিছিয়ে থাকতে চায় না</td>\n",
       "      <td>পিছিয়ে থাকতে চায় না</td>\n",
       "      <td>পিছিয়ে থাকতে চায় না</td>\n",
       "      <td>পিছিয়ে থাকতে চায় না</td>\n",
       "      <td>0</td>\n",
       "      <td>0</td>\n",
       "    </tr>\n",
       "    <tr>\n",
       "      <th>38376</th>\n",
       "      <td>তারপরেই রয়েছ</td>\n",
       "      <td>তারপরে রয়েছে</td>\n",
       "      <td>তারপরে রয়েছে</td>\n",
       "      <td>তারপরে রয়েছে</td>\n",
       "      <td>তারপরে রয়েছে</td>\n",
       "      <td>0</td>\n",
       "      <td>0</td>\n",
       "    </tr>\n",
       "    <tr>\n",
       "      <th>38381</th>\n",
       "      <td>একাধিকবার আহ্বান জানিয়েছেন</td>\n",
       "      <td>একাধিকবার আহবান জানিয়েছেন</td>\n",
       "      <td>একাধিকবার আহবান জানিয়েছেন</td>\n",
       "      <td>একাধিকবার আহবান জানিয়েছেন</td>\n",
       "      <td>একাধিকবার আহবান জানিয়েছেন</td>\n",
       "      <td>0</td>\n",
       "      <td>0</td>\n",
       "    </tr>\n",
       "    <tr>\n",
       "      <th>38385</th>\n",
       "      <td>তাদের ছেলেমেয়েদের</td>\n",
       "      <td>তাদের ছেলে মেয়েদের</td>\n",
       "      <td>তাদের ছেলে মেয়েদের</td>\n",
       "      <td>তাদের ছেলে মেয়েদের</td>\n",
       "      <td>তাদের ছেলে মেয়েদের</td>\n",
       "      <td>0</td>\n",
       "      <td>0</td>\n",
       "    </tr>\n",
       "    <tr>\n",
       "      <th>38386</th>\n",
       "      <td>জয়নাল আবেদীন এ তথ্যের</td>\n",
       "      <td>জনাল আবিদদিন এ ততথ্যের</td>\n",
       "      <td>জয়নাল আবেদিন এ তথ্যের</td>\n",
       "      <td>জয়নাল আবেদিন এ তথ্যের</td>\n",
       "      <td>[MASK] [MASK] এ [MASK]</td>\n",
       "      <td>0</td>\n",
       "      <td>3</td>\n",
       "    </tr>\n",
       "  </tbody>\n",
       "</table>\n",
       "<p>12279 rows × 7 columns</p>\n",
       "</div>"
      ],
      "text/plain": [
       "                                                sentence  \\\n",
       "2      গরীব মানুষকে সে মানুষ বলেই মনে করে না এবং তুচ্...   \n",
       "3                 ব্যাটের বেশ দূর থেকে এ সুইং করতেন তিনি   \n",
       "4      অদ্যাবধি এ সংগ্রহটি প্রথমশ্রেণীর ক্রিকেটে বিশ্...   \n",
       "5      ফলশ্রুতিতে নাটাল দলকে পরাজিত করে কারি কাপের শি...   \n",
       "6      যেটা পরিচালনা করেছেন রাখাল বন্ধুর ই পরিচালক ইব...   \n",
       "...                                                  ...   \n",
       "38375                                 পিছিয়ে থাকতে চাইনা   \n",
       "38376                                       তারপরেই রয়েছ   \n",
       "38381                         একাধিকবার আহ্বান জানিয়েছেন   \n",
       "38385                                  তাদের ছেলেমেয়েদের   \n",
       "38386                              জয়নাল আবেদীন এ তথ্যের   \n",
       "\n",
       "                                                wav2vec2  \\\n",
       "2      গড়ি মানুষ কেসে মানুষ বলি মনে করে না এবং তুচ্ছত...   \n",
       "3                 ব্যাটের বেশ দূর থেকে এ সুইং করতেন তিনি   \n",
       "4      অধ্যাবধী এ সংগ্রহটি প্রথমশ্রেণীর ক্রিকেটে বিশ্...   \n",
       "5      ফলশ্রুতিতে নাটাল দলকে পরাজিত করে গারিকাপের শির...   \n",
       "6      যেতা পরিচালনা করেছেন রাখাল বন্ধুরই পরিচালক ইবন...   \n",
       "...                                                  ...   \n",
       "38375                                পিছিয়ে থাকতে চায় না   \n",
       "38376                                       তারপরে রয়েছে   \n",
       "38381                          একাধিকবার আহবান জানিয়েছেন   \n",
       "38385                                 তাদের ছেলে মেয়েদের   \n",
       "38386                             জনাল আবিদদিন এ ততথ্যের   \n",
       "\n",
       "                                                   2gram  \\\n",
       "2      গরিব মানুষ কি সে মানুষ বলে মনে করে না এবং তুচ্...   \n",
       "3                   ব্যাটের বেশ দূর থেকে সুইং করতেন তিনি   \n",
       "4      অদ্যাবধি এ সংগ্রহটি প্রথম শ্রেণির ক্রিকেটে বিশ...   \n",
       "5      ফলশ্রুতিতে নাটাল দলকে পরাজিত করে গাড়ি কাপের শি...   \n",
       "6      যেতা পরিচালনা করেছেন রাখাল বন্ধুর পরিচালক ইবনে...   \n",
       "...                                                  ...   \n",
       "38375                                পিছিয়ে থাকতে চায় না   \n",
       "38376                                       তারপরে রয়েছে   \n",
       "38381                          একাধিকবার আহবান জানিয়েছেন   \n",
       "38385                                 তাদের ছেলে মেয়েদের   \n",
       "38386                              জয়নাল আবেদিন এ তথ্যের   \n",
       "\n",
       "                                             masked_arpa  \\\n",
       "2      গরিব মানুষ কি সে মানুষ বলে মনে করে না এবং তুচ্...   \n",
       "3                   ব্যাটের বেশ দূর থেকে সুইং করতেন তিনি   \n",
       "4      অদ্যাবধি এ সংগ্রহটি প্রথম শ্রেণির ক্রিকেটে বিশ...   \n",
       "5      ফলশ্রুতিতে নাটাল দলকে পরাজিত করে গাড়ি কাপের শি...   \n",
       "6      যেতা পরিচালনা করেছেন রাখাল বন্ধুর পরিচালক ইবনে...   \n",
       "...                                                  ...   \n",
       "38375                                পিছিয়ে থাকতে চায় না   \n",
       "38376                                       তারপরে রয়েছে   \n",
       "38381                          একাধিকবার আহবান জানিয়েছেন   \n",
       "38385                                 তাদের ছেলে মেয়েদের   \n",
       "38386                              জয়নাল আবেদিন এ তথ্যের   \n",
       "\n",
       "                                         masked_wav2vec2  2gram_masked_n  \\\n",
       "2      গড়ি মানুষ কেসে মানুষ বলি মনে করে না এবং তুচ্ছত...               0   \n",
       "3                 ব্যাটের বেশ দূর থেকে এ সুইং করতেন তিনি               0   \n",
       "4      [MASK] এ সংগ্রহটি [MASK] ক্রিকেটে বিশ্ব রেকর্ড...               0   \n",
       "5      ফলশ্রুতিতে নাটাল দলকে পরাজিত করে [MASK] শিরোপা...               0   \n",
       "6      যেতা পরিচালনা করেছেন রাখাল বন্ধুরই পরিচালক ইবন...               0   \n",
       "...                                                  ...             ...   \n",
       "38375                                পিছিয়ে থাকতে চায় না               0   \n",
       "38376                                       তারপরে রয়েছে               0   \n",
       "38381                          একাধিকবার আহবান জানিয়েছেন               0   \n",
       "38385                                 তাদের ছেলে মেয়েদের               0   \n",
       "38386                             [MASK] [MASK] এ [MASK]               0   \n",
       "\n",
       "       wav2vec2_masked_n  \n",
       "2                      0  \n",
       "3                      0  \n",
       "4                      2  \n",
       "5                      1  \n",
       "6                      2  \n",
       "...                  ...  \n",
       "38375                  0  \n",
       "38376                  0  \n",
       "38381                  0  \n",
       "38385                  0  \n",
       "38386                  3  \n",
       "\n",
       "[12279 rows x 7 columns]"
      ]
     },
     "execution_count": 21,
     "metadata": {},
     "output_type": "execute_result"
    }
   ],
   "source": [
    "df_wav2vec2"
   ]
  },
  {
   "cell_type": "code",
   "execution_count": 22,
   "id": "a5890905-d854-44c8-8d9b-c8547ceec0c6",
   "metadata": {},
   "outputs": [
    {
     "data": {
      "text/plain": [
       "17925"
      ]
     },
     "execution_count": 22,
     "metadata": {},
     "output_type": "execute_result"
    }
   ],
   "source": [
    "df_wav2vec2['wav2vec2_masked_n'].sum()"
   ]
  },
  {
   "cell_type": "code",
   "execution_count": 37,
   "id": "dcd29b1c-50b8-46ad-b365-e6ed8db44276",
   "metadata": {},
   "outputs": [],
   "source": [
    "df_wav2vec2 = df_wav2vec2[(df_wav2vec2.wav2vec2_masked_n != 0)].drop(['sentence','masked_arpa','2gram_masked_n'],axis=1)"
   ]
  },
  {
   "cell_type": "code",
   "execution_count": 46,
   "id": "f3737b67-245c-4c4a-ac06-1f9e3cd67d08",
   "metadata": {},
   "outputs": [
    {
     "data": {
      "application/vnd.jupyter.widget-view+json": {
       "model_id": "452b42c38f3e4bfa82112cf7cbc1d617",
       "version_major": 2,
       "version_minor": 0
      },
      "text/plain": [
       "VBox(children=(HBox(children=(IntProgress(value=0, description='0.00%', max=2255), Label(value='0 / 2255'))), …"
      ]
     },
     "metadata": {},
     "output_type": "display_data"
    },
    {
     "data": {
      "application/vnd.jupyter.widget-view+json": {
       "model_id": "659ec48c78dd4e808393cd3d3a3da9b3",
       "version_major": 2,
       "version_minor": 0
      },
      "text/plain": [
       "VBox(children=(HBox(children=(IntProgress(value=0, description='0.00%', max=2255), Label(value='0 / 2255'))), …"
      ]
     },
     "metadata": {},
     "output_type": "display_data"
    }
   ],
   "source": [
    "df_wav2vec2['wlen'] = df_wav2vec2.wav2vec2.parallel_apply(lambda x: len(str(x).split()))\n",
    "df_wav2vec2['2len'] = df_wav2vec2['2gram'].parallel_apply(lambda x: len(str(x).split()))\n",
    "\n",
    "df_wav2vec2['diff'] = abs(df_wav2vec2['wlen'] - df_wav2vec2['2len'])\n",
    "df_wav2vec2 = df_wav2vec2[df_wav2vec2['diff'] == 0 ]"
   ]
  },
  {
   "cell_type": "code",
   "execution_count": 49,
   "id": "3c47d563-8acd-4a95-9feb-116e3fe4211b",
   "metadata": {},
   "outputs": [],
   "source": [
    "df_wav2vec2 = df_wav2vec2.drop(['wlen','2len','diff'],axis=1)"
   ]
  },
  {
   "cell_type": "code",
   "execution_count": 64,
   "id": "dc497f31-da65-4458-9351-b10c60ad9691",
   "metadata": {},
   "outputs": [
    {
     "data": {
      "text/plain": [
       "0"
      ]
     },
     "execution_count": 64,
     "metadata": {},
     "output_type": "execute_result"
    }
   ],
   "source": [
    "df_wav2vec2[df_wav2vec2.masked_wav2vec2 == 1 ].wav2vec2_masked_n.sum()"
   ]
  },
  {
   "cell_type": "code",
   "execution_count": null,
   "id": "9ef29f80-d4cf-4332-8766-e3122afd5b72",
   "metadata": {},
   "outputs": [],
   "source": []
  },
  {
   "cell_type": "code",
   "execution_count": 150,
   "id": "43e93ec5-69d3-44e8-b20f-6d2483686834",
   "metadata": {},
   "outputs": [],
   "source": [
    "arpa_x =  (arpa.split()[sen.index(mask)] if mask in sen else \"\")\n",
    "\n",
    "id_mask = (sen.index(mask) if mask in sen else -100)\n",
    "\n",
    "if id_mask != -100:\n",
    "    if id_mask == 0:\n",
    "        wav2vec2_x = raw.split()[0]\n",
    "    if id_mask == (len(sen)-1):\n",
    "        wav2vec2_x = raw.split()[-1]\n",
    "    else:\n",
    "        start_seq = arpa.split()[sen.index(mask)-1]\n",
    "        end_seq = arpa.split()[sen.index(mask)+1]\n",
    "        #needs work\n",
    "        raw = raw.replace(start_seq,\"*\")\n",
    "        raw = raw.replace(end_seq,\"*\")\n",
    "        wav2vec2_x = raw.split(\"*\")\n",
    "        print(wav2vec2_x)\n",
    "        #wav2vec2_x = wav2vec2_x[1].split()[0]\n",
    "if id_mask == -100:\n",
    "    wav2vec2_x = \"\"\n",
    "    arpa_x = \"\""
   ]
  },
  {
   "cell_type": "code",
   "execution_count": 358,
   "id": "7c732106-b501-434c-98b7-e26a40a0a9c6",
   "metadata": {},
   "outputs": [
    {
     "data": {
      "text/plain": [
       "'জানুয়ারি তারিখ'"
      ]
     },
     "execution_count": 358,
     "metadata": {},
     "output_type": "execute_result"
    }
   ],
   "source": [
    "actual"
   ]
  },
  {
   "cell_type": "code",
   "execution_count": 359,
   "id": "590f56f9-e961-4fd4-a67c-002e183fc01a",
   "metadata": {},
   "outputs": [
    {
     "data": {
      "text/plain": [
       "'বাই জনয়ই দুহাজায় বারতারিক'"
      ]
     },
     "execution_count": 359,
     "metadata": {},
     "output_type": "execute_result"
    }
   ],
   "source": [
    "raw"
   ]
  },
  {
   "cell_type": "code",
   "execution_count": 360,
   "id": "f88925cb-d9d4-4846-b955-daa433d155e1",
   "metadata": {},
   "outputs": [
    {
     "data": {
      "text/plain": [
       "'বাই জন দুহাজার বার তারিক'"
      ]
     },
     "execution_count": 360,
     "metadata": {},
     "output_type": "execute_result"
    }
   ],
   "source": [
    "input_x"
   ]
  },
  {
   "cell_type": "code",
   "execution_count": 361,
   "id": "8ed800e3-5ecc-4de6-bb95-5dad7929e6ff",
   "metadata": {},
   "outputs": [
    {
     "data": {
      "text/plain": [
       "''"
      ]
     },
     "execution_count": 361,
     "metadata": {},
     "output_type": "execute_result"
    }
   ],
   "source": [
    "arpa_x"
   ]
  },
  {
   "cell_type": "code",
   "execution_count": 362,
   "id": "8bb0f884-0195-4899-a0f0-000d436c28d0",
   "metadata": {},
   "outputs": [
    {
     "data": {
      "text/plain": [
       "''"
      ]
     },
     "execution_count": 362,
     "metadata": {},
     "output_type": "execute_result"
    }
   ],
   "source": [
    "wav2vec2_x"
   ]
  },
  {
   "cell_type": "code",
   "execution_count": null,
   "id": "cd2b3a88-2fd5-4900-9e08-67f79183120a",
   "metadata": {},
   "outputs": [],
   "source": []
  }
 ],
 "metadata": {
  "kernelspec": {
   "display_name": "Python 3 (ipykernel)",
   "language": "python",
   "name": "python3"
  },
  "language_info": {
   "codemirror_mode": {
    "name": "ipython",
    "version": 3
   },
   "file_extension": ".py",
   "mimetype": "text/x-python",
   "name": "python",
   "nbconvert_exporter": "python",
   "pygments_lexer": "ipython3",
   "version": "3.10.4"
  }
 },
 "nbformat": 4,
 "nbformat_minor": 5
}
