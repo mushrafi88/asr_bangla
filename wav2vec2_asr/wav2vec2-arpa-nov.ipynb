{
 "cells": [
  {
   "cell_type": "code",
   "execution_count": 1,
   "id": "5eb05526",
   "metadata": {
    "execution": {
     "iopub.execute_input": "2022-12-14T16:32:32.941316Z",
     "iopub.status.busy": "2022-12-14T16:32:32.940320Z",
     "iopub.status.idle": "2022-12-14T16:33:25.346712Z",
     "shell.execute_reply": "2022-12-14T16:33:25.345556Z"
    },
    "papermill": {
     "duration": 52.421666,
     "end_time": "2022-12-14T16:33:25.349286",
     "exception": false,
     "start_time": "2022-12-14T16:32:32.927620",
     "status": "completed"
    },
    "tags": []
   },
   "outputs": [
    {
     "name": "stdout",
     "output_type": "stream",
     "text": [
      "\u001b[33mWARNING: Running pip as the 'root' user can result in broken permissions and conflicting behaviour with the system package manager. It is recommended to use a virtual environment instead: https://pip.pypa.io/warnings/venv\u001b[0m\u001b[33m\r\n",
      "\u001b[0m"
     ]
    }
   ],
   "source": [
    "!pip -q install https://github.com/kpu/kenlm/archive/master.zip pyctcdecode"
   ]
  },
  {
   "cell_type": "code",
   "execution_count": 2,
   "id": "d80c7fd2",
   "metadata": {
    "execution": {
     "iopub.execute_input": "2022-12-14T16:33:25.370924Z",
     "iopub.status.busy": "2022-12-14T16:33:25.370598Z",
     "iopub.status.idle": "2022-12-14T16:33:33.799087Z",
     "shell.execute_reply": "2022-12-14T16:33:33.797897Z"
    },
    "papermill": {
     "duration": 8.44198,
     "end_time": "2022-12-14T16:33:33.801552",
     "exception": false,
     "start_time": "2022-12-14T16:33:25.359572",
     "status": "completed"
    },
    "tags": []
   },
   "outputs": [
    {
     "name": "stdout",
     "output_type": "stream",
     "text": [
      "Cloning into 'asr_bangla'...\r\n",
      "remote: Enumerating objects: 320, done.\u001b[K\r\n",
      "remote: Counting objects: 100% (49/49), done.\u001b[K\r\n",
      "remote: Compressing objects: 100% (42/42), done.\u001b[K\r\n",
      "remote: Total 320 (delta 19), reused 33 (delta 6), pack-reused 271\u001b[K\r\n",
      "Receiving objects: 100% (320/320), 61.14 MiB | 19.77 MiB/s, done.\r\n",
      "Resolving deltas: 100% (152/152), done.\r\n"
     ]
    }
   ],
   "source": [
    "!git clone https://github.com/mushrafi88/asr_bangla.git"
   ]
  },
  {
   "cell_type": "code",
   "execution_count": 3,
   "id": "354c270e",
   "metadata": {
    "execution": {
     "iopub.execute_input": "2022-12-14T16:33:33.827426Z",
     "iopub.status.busy": "2022-12-14T16:33:33.826441Z",
     "iopub.status.idle": "2022-12-14T16:33:39.874343Z",
     "shell.execute_reply": "2022-12-14T16:33:39.873317Z"
    },
    "papermill": {
     "duration": 6.063106,
     "end_time": "2022-12-14T16:33:39.876706",
     "exception": false,
     "start_time": "2022-12-14T16:33:33.813600",
     "status": "completed"
    },
    "tags": []
   },
   "outputs": [
    {
     "name": "stdout",
     "output_type": "stream",
     "text": [
      "INFO: Pandarallel will run on 8 workers.\n",
      "INFO: Pandarallel will use Memory file system to transfer data between the main process and workers.\n"
     ]
    }
   ],
   "source": [
    "import numpy as np\n",
    "import pandas as pd\n",
    "import random\n",
    "import ast\n",
    "from tqdm import tqdm\n",
    "from IPython import display as ipd\n",
    "\n",
    "# visualization\n",
    "import matplotlib.pyplot as plt\n",
    "from tabulate import tabulate\n",
    "from joblib import Parallel, delayed\n",
    "\n",
    "#normalization\n",
    "from pandarallel import pandarallel\n",
    "pandarallel.initialize(progress_bar=True,nb_workers=8)\n",
    "tqdm.pandas()\n",
    "\n",
    "import torch\n",
    "import torchaudio\n",
    "import torchaudio.functional as F\n",
    "import torchaudio.transforms as T\n",
    "from torchmetrics.functional.audio import scale_invariant_signal_noise_ratio\n",
    "import librosa\n",
    "\n",
    "\n",
    "from datasets import Dataset,Audio\n",
    "\n",
    "\n",
    "# Set environment variables\n",
    "import warnings\n",
    "warnings.filterwarnings('ignore')"
   ]
  },
  {
   "cell_type": "code",
   "execution_count": 4,
   "id": "b262372d",
   "metadata": {
    "execution": {
     "iopub.execute_input": "2022-12-14T16:33:39.903715Z",
     "iopub.status.busy": "2022-12-14T16:33:39.901722Z",
     "iopub.status.idle": "2022-12-14T16:33:39.907241Z",
     "shell.execute_reply": "2022-12-14T16:33:39.906320Z"
    },
    "papermill": {
     "duration": 0.020486,
     "end_time": "2022-12-14T16:33:39.909380",
     "exception": false,
     "start_time": "2022-12-14T16:33:39.888894",
     "status": "completed"
    },
    "tags": []
   },
   "outputs": [],
   "source": [
    "import os\n",
    "os.environ[\"WANDB_DISABLED\"] = \"true\""
   ]
  },
  {
   "cell_type": "code",
   "execution_count": 5,
   "id": "eded39c9",
   "metadata": {
    "execution": {
     "iopub.execute_input": "2022-12-14T16:33:39.933906Z",
     "iopub.status.busy": "2022-12-14T16:33:39.933623Z",
     "iopub.status.idle": "2022-12-14T16:33:57.264287Z",
     "shell.execute_reply": "2022-12-14T16:33:57.263207Z"
    },
    "papermill": {
     "duration": 17.34518,
     "end_time": "2022-12-14T16:33:57.266589",
     "exception": false,
     "start_time": "2022-12-14T16:33:39.921409",
     "status": "completed"
    },
    "tags": []
   },
   "outputs": [
    {
     "data": {
      "text/html": [
       "<div>\n",
       "<style scoped>\n",
       "    .dataframe tbody tr th:only-of-type {\n",
       "        vertical-align: middle;\n",
       "    }\n",
       "\n",
       "    .dataframe tbody tr th {\n",
       "        vertical-align: top;\n",
       "    }\n",
       "\n",
       "    .dataframe thead th {\n",
       "        text-align: right;\n",
       "    }\n",
       "</style>\n",
       "<table border=\"1\" class=\"dataframe\">\n",
       "  <thead>\n",
       "    <tr style=\"text-align: right;\">\n",
       "      <th></th>\n",
       "      <th>sentence</th>\n",
       "    </tr>\n",
       "  </thead>\n",
       "  <tbody>\n",
       "    <tr>\n",
       "      <th>0</th>\n",
       "      <td>পশ্চিমবঙ্গের বরখাস্ত হওয়া মন্ত্রী পার্থ চট্টোপ...</td>\n",
       "    </tr>\n",
       "    <tr>\n",
       "      <th>1</th>\n",
       "      <td>আর জামিনের আবেদন করলেন না অর্পিতা</td>\n",
       "    </tr>\n",
       "    <tr>\n",
       "      <th>2</th>\n",
       "      <td>আজ শুক্রবার দিনের ইডি হেফাজত শেষে তাঁদের হাজির...</td>\n",
       "    </tr>\n",
       "    <tr>\n",
       "      <th>3</th>\n",
       "      <td>সেখানে পার্থর আইনজীবী জামিনের আবেদন জানালেও অর...</td>\n",
       "    </tr>\n",
       "    <tr>\n",
       "      <th>4</th>\n",
       "      <td>অর্পিতা মুখার্জি কারাগারেই</td>\n",
       "    </tr>\n",
       "    <tr>\n",
       "      <th>...</th>\n",
       "      <td>...</td>\n",
       "    </tr>\n",
       "    <tr>\n",
       "      <th>8418468</th>\n",
       "      <td>চারটি অভিযোগে তাঁকে মৃত্যুদণ্ড দেওয়া হয়</td>\n",
       "    </tr>\n",
       "    <tr>\n",
       "      <th>8418469</th>\n",
       "      <td>এর মধ্যে রাজনৈতিক গ্রুপকে গণহত্যার দায়ের বিষয়ট...</td>\n",
       "    </tr>\n",
       "    <tr>\n",
       "      <th>8418470</th>\n",
       "      <td>যা প্রথম</td>\n",
       "    </tr>\n",
       "    <tr>\n",
       "      <th>8418471</th>\n",
       "      <td>অপর একটি অভিযোগে তাঁকে বছরের কারাদণ্ড দিয়েছেন ...</td>\n",
       "    </tr>\n",
       "    <tr>\n",
       "      <th>8418472</th>\n",
       "      <td>NaN</td>\n",
       "    </tr>\n",
       "  </tbody>\n",
       "</table>\n",
       "<p>8418473 rows × 1 columns</p>\n",
       "</div>"
      ],
      "text/plain": [
       "                                                  sentence\n",
       "0        পশ্চিমবঙ্গের বরখাস্ত হওয়া মন্ত্রী পার্থ চট্টোপ...\n",
       "1                        আর জামিনের আবেদন করলেন না অর্পিতা\n",
       "2        আজ শুক্রবার দিনের ইডি হেফাজত শেষে তাঁদের হাজির...\n",
       "3        সেখানে পার্থর আইনজীবী জামিনের আবেদন জানালেও অর...\n",
       "4                               অর্পিতা মুখার্জি কারাগারেই\n",
       "...                                                    ...\n",
       "8418468            চারটি অভিযোগে তাঁকে মৃত্যুদণ্ড দেওয়া হয়\n",
       "8418469  এর মধ্যে রাজনৈতিক গ্রুপকে গণহত্যার দায়ের বিষয়ট...\n",
       "8418470                                           যা প্রথম\n",
       "8418471  অপর একটি অভিযোগে তাঁকে বছরের কারাদণ্ড দিয়েছেন ...\n",
       "8418472                                                NaN\n",
       "\n",
       "[8418473 rows x 1 columns]"
      ]
     },
     "execution_count": 5,
     "metadata": {},
     "output_type": "execute_result"
    }
   ],
   "source": [
    "df = pd.read_csv('/kaggle/input/bn-corpus-prothom-alo/bangla_text_data.csv')\n",
    "df"
   ]
  },
  {
   "cell_type": "code",
   "execution_count": 6,
   "id": "07afa908",
   "metadata": {
    "execution": {
     "iopub.execute_input": "2022-12-14T16:33:57.294067Z",
     "iopub.status.busy": "2022-12-14T16:33:57.293181Z",
     "iopub.status.idle": "2022-12-14T16:33:57.979494Z",
     "shell.execute_reply": "2022-12-14T16:33:57.978474Z"
    },
    "papermill": {
     "duration": 0.702333,
     "end_time": "2022-12-14T16:33:57.982005",
     "exception": false,
     "start_time": "2022-12-14T16:33:57.279672",
     "status": "completed"
    },
    "tags": []
   },
   "outputs": [],
   "source": [
    "df=df.dropna(how='any')"
   ]
  },
  {
   "cell_type": "code",
   "execution_count": 7,
   "id": "f66e9b27",
   "metadata": {
    "execution": {
     "iopub.execute_input": "2022-12-14T16:33:58.007673Z",
     "iopub.status.busy": "2022-12-14T16:33:58.007372Z",
     "iopub.status.idle": "2022-12-14T16:34:02.300809Z",
     "shell.execute_reply": "2022-12-14T16:34:02.299365Z"
    },
    "papermill": {
     "duration": 4.310232,
     "end_time": "2022-12-14T16:34:02.304586",
     "exception": false,
     "start_time": "2022-12-14T16:33:57.994354",
     "status": "completed"
    },
    "tags": []
   },
   "outputs": [],
   "source": [
    "with open(\"text.txt\", \"w\") as file:\n",
    "    file.write(\" \".join(df[\"sentence\"]))"
   ]
  },
  {
   "cell_type": "code",
   "execution_count": 8,
   "id": "7e8fee3c",
   "metadata": {
    "execution": {
     "iopub.execute_input": "2022-12-14T16:34:02.471747Z",
     "iopub.status.busy": "2022-12-14T16:34:02.471031Z",
     "iopub.status.idle": "2022-12-14T16:37:24.993101Z",
     "shell.execute_reply": "2022-12-14T16:37:24.991900Z"
    },
    "papermill": {
     "duration": 204.553912,
     "end_time": "2022-12-14T16:37:26.989521",
     "exception": false,
     "start_time": "2022-12-14T16:34:02.435609",
     "status": "completed"
    },
    "tags": []
   },
   "outputs": [
    {
     "name": "stdout",
     "output_type": "stream",
     "text": [
      "\r\n",
      "\r\n",
      "\r\n",
      "cmake is already the newest version (3.16.3-1ubuntu1).\r\n",
      "libboost-system-dev is already the newest version (1.71.0.0ubuntu2).\r\n",
      "build-essential is already the newest version (12.8ubuntu1.1).\r\n",
      "The following additional packages will be installed:\r\n",
      "  bzip2-doc libboost-atomic1.71-dev libboost-atomic1.71.0\r\n",
      "  libboost-chrono1.71-dev libboost-chrono1.71.0 libboost-date-time1.71-dev\r\n",
      "  libboost-date-time1.71.0 libboost-program-options1.71-dev\r\n",
      "  libboost-program-options1.71.0 libboost-serialization1.71-dev\r\n",
      "  libboost-serialization1.71.0 libboost-test1.71-dev libboost-test1.71.0\r\n",
      "  libboost-thread1.71-dev libboost-thread1.71.0 zlib1g\r\n",
      "Suggested packages:\r\n",
      "  libeigen3-doc libmpfrc++-dev liblzma-doc\r\n",
      "The following NEW packages will be installed:\r\n",
      "  bzip2-doc libboost-atomic1.71-dev libboost-atomic1.71.0\r\n",
      "  libboost-chrono1.71-dev libboost-chrono1.71.0 libboost-date-time1.71-dev\r\n",
      "  libboost-date-time1.71.0 libboost-program-options-dev\r\n",
      "  libboost-program-options1.71-dev libboost-program-options1.71.0\r\n",
      "  libboost-serialization1.71-dev libboost-serialization1.71.0\r\n",
      "  libboost-test-dev libboost-test1.71-dev libboost-test1.71.0\r\n",
      "  libboost-thread-dev libboost-thread1.71-dev libboost-thread1.71.0 libbz2-dev\r\n",
      "  libeigen3-dev liblzma-dev\r\n",
      "The following packages will be upgraded:\r\n",
      "  zlib1g zlib1g-dev\r\n",
      "2 upgraded, 21 newly installed, 0 to remove and 91 not upgraded.\r\n",
      "Need to get 5830 kB of archives.\r\n",
      "After this operation, 48.8 MB of additional disk space will be used.\r\n",
      "Get:1 http://archive.ubuntu.com/ubuntu focal-updates/main amd64 zlib1g-dev amd64 1:1.2.11.dfsg-2ubuntu1.5 [155 kB]\r\n",
      "Get:2 http://archive.ubuntu.com/ubuntu focal-updates/main amd64 zlib1g amd64 1:1.2.11.dfsg-2ubuntu1.5 [54.2 kB]\r\n",
      "Get:3 http://archive.ubuntu.com/ubuntu focal/main amd64 bzip2-doc all 1.0.8-2 [501 kB]\r\n",
      "Get:4 http://archive.ubuntu.com/ubuntu focal/main amd64 libboost-atomic1.71.0 amd64 1.71.0-6ubuntu6 [205 kB]\r\n",
      "Get:5 http://archive.ubuntu.com/ubuntu focal/main amd64 libboost-atomic1.71-dev amd64 1.71.0-6ubuntu6 [205 kB]\r\n",
      "Get:6 http://archive.ubuntu.com/ubuntu focal/main amd64 libboost-chrono1.71.0 amd64 1.71.0-6ubuntu6 [217 kB]\r\n",
      "Get:7 http://archive.ubuntu.com/ubuntu focal/main amd64 libboost-chrono1.71-dev amd64 1.71.0-6ubuntu6 [225 kB]\r\n",
      "Get:8 http://archive.ubuntu.com/ubuntu focal/main amd64 libboost-date-time1.71.0 amd64 1.71.0-6ubuntu6 [219 kB]\r\n",
      "Get:9 http://archive.ubuntu.com/ubuntu focal/main amd64 libboost-serialization1.71.0 amd64 1.71.0-6ubuntu6 [302 kB]\r\n",
      "Get:10 http://archive.ubuntu.com/ubuntu focal/main amd64 libboost-serialization1.71-dev amd64 1.71.0-6ubuntu6 [344 kB]\r\n",
      "Get:11 http://archive.ubuntu.com/ubuntu focal/main amd64 libboost-date-time1.71-dev amd64 1.71.0-6ubuntu6 [228 kB]\r\n",
      "Get:12 http://archive.ubuntu.com/ubuntu focal/main amd64 libboost-program-options1.71.0 amd64 1.71.0-6ubuntu6 [342 kB]\r\n",
      "Get:13 http://archive.ubuntu.com/ubuntu focal/main amd64 libboost-program-options1.71-dev amd64 1.71.0-6ubuntu6 [374 kB]\r\n",
      "Get:14 http://archive.ubuntu.com/ubuntu focal/main amd64 libboost-program-options-dev amd64 1.71.0.0ubuntu2 [3408 B]\r\n",
      "Get:15 http://archive.ubuntu.com/ubuntu focal/universe amd64 libboost-test1.71.0 amd64 1.71.0-6ubuntu6 [437 kB]\r\n",
      "Get:16 http://archive.ubuntu.com/ubuntu focal/universe amd64 libboost-test1.71-dev amd64 1.71.0-6ubuntu6 [513 kB]\r\n",
      "Get:17 http://archive.ubuntu.com/ubuntu focal/universe amd64 libboost-test-dev amd64 1.71.0.0ubuntu2 [3424 B]\r\n",
      "Get:18 http://archive.ubuntu.com/ubuntu focal/main amd64 libboost-thread1.71.0 amd64 1.71.0-6ubuntu6 [249 kB]\r\n",
      "Get:19 http://archive.ubuntu.com/ubuntu focal/main amd64 libboost-thread1.71-dev amd64 1.71.0-6ubuntu6 [258 kB]\r\n",
      "Get:20 http://archive.ubuntu.com/ubuntu focal/main amd64 libboost-thread-dev amd64 1.71.0.0ubuntu2 [3416 B]\r\n",
      "Get:21 http://archive.ubuntu.com/ubuntu focal/main amd64 libbz2-dev amd64 1.0.8-2 [30.2 kB]\r\n",
      "Get:22 http://archive.ubuntu.com/ubuntu focal/universe amd64 libeigen3-dev all 3.3.7-2 [815 kB]\r\n",
      "Get:23 http://archive.ubuntu.com/ubuntu focal-updates/main amd64 liblzma-dev amd64 5.2.4-1ubuntu1.1 [147 kB]\r\n",
      "Fetched 5830 kB in 0s (13.1 MB/s)\r\n",
      "\n",
      "(Reading database ... 108827 files and directories currently installed.)\r\n",
      "Preparing to unpack .../zlib1g-dev_1%3a1.2.11.dfsg-2ubuntu1.5_amd64.deb ...\r\n",
      "\u001b7\u001b[24;0f\u001b[42m\u001b[30mProgress: [  0%]\u001b[49m\u001b[39m [..........................................................] \u001b8\u001b7\u001b[24;0f\u001b[42m\u001b[30mProgress: [  1%]\u001b[49m\u001b[39m [..........................................................] \u001b8Unpacking zlib1g-dev:amd64 (1:1.2.11.dfsg-2ubuntu1.5) over (1:1.2.11.dfsg-2ubuntu1.3) ...\r\n",
      "\u001b7\u001b[24;0f\u001b[42m\u001b[30mProgress: [  2%]\u001b[49m\u001b[39m [#.........................................................] \u001b8Preparing to unpack .../zlib1g_1%3a1.2.11.dfsg-2ubuntu1.5_amd64.deb ...\r\n",
      "\u001b7\u001b[24;0f\u001b[42m\u001b[30mProgress: [  3%]\u001b[49m\u001b[39m [#.........................................................] \u001b8Unpacking zlib1g:amd64 (1:1.2.11.dfsg-2ubuntu1.5) over (1:1.2.11.dfsg-2ubuntu1.3) ...\r\n",
      "\u001b7\u001b[24;0f\u001b[42m\u001b[30mProgress: [  4%]\u001b[49m\u001b[39m [##........................................................] \u001b8Setting up zlib1g:amd64 (1:1.2.11.dfsg-2ubuntu1.5) ...\r\n",
      "\u001b7\u001b[24;0f\u001b[42m\u001b[30mProgress: [  5%]\u001b[49m\u001b[39m [###.......................................................] \u001b8\u001b7\u001b[24;0f\u001b[42m\u001b[30mProgress: [  6%]\u001b[49m\u001b[39m [###.......................................................] \u001b8Selecting previously unselected package bzip2-doc.\r\n",
      "(Reading database ... 108827 files and directories currently installed.)\r\n",
      "Preparing to unpack .../00-bzip2-doc_1.0.8-2_all.deb ...\r\n",
      "\u001b7\u001b[24;0f\u001b[42m\u001b[30mProgress: [  8%]\u001b[49m\u001b[39m [####......................................................] \u001b8Unpacking bzip2-doc (1.0.8-2) ...\r\n",
      "\u001b7\u001b[24;0f\u001b[42m\u001b[30mProgress: [  9%]\u001b[49m\u001b[39m [####......................................................] \u001b8Selecting previously unselected package libboost-atomic1.71.0:amd64.\r\n",
      "Preparing to unpack .../01-libboost-atomic1.71.0_1.71.0-6ubuntu6_amd64.deb ...\r\n",
      "\u001b7\u001b[24;0f\u001b[42m\u001b[30mProgress: [ 10%]\u001b[49m\u001b[39m [#####.....................................................] \u001b8Unpacking libboost-atomic1.71.0:amd64 (1.71.0-6ubuntu6) ...\r\n",
      "\u001b7\u001b[24;0f\u001b[42m\u001b[30mProgress: [ 11%]\u001b[49m\u001b[39m [######....................................................] \u001b8Selecting previously unselected package libboost-atomic1.71-dev:amd64.\r\n",
      "Preparing to unpack .../02-libboost-atomic1.71-dev_1.71.0-6ubuntu6_amd64.deb ...\r\n",
      "\u001b7\u001b[24;0f\u001b[42m\u001b[30mProgress: [ 12%]\u001b[49m\u001b[39m [######....................................................] \u001b8Unpacking libboost-atomic1.71-dev:amd64 (1.71.0-6ubuntu6) ...\r\n",
      "\u001b7\u001b[24;0f\u001b[42m\u001b[30mProgress: [ 13%]\u001b[49m\u001b[39m [#######...................................................] \u001b8Selecting previously unselected package libboost-chrono1.71.0:amd64.\r\n",
      "Preparing to unpack .../03-libboost-chrono1.71.0_1.71.0-6ubuntu6_amd64.deb ...\r\n",
      "\u001b7\u001b[24;0f\u001b[42m\u001b[30mProgress: [ 14%]\u001b[49m\u001b[39m [########..................................................] \u001b8Unpacking libboost-chrono1.71.0:amd64 (1.71.0-6ubuntu6) ...\r\n",
      "\u001b7\u001b[24;0f\u001b[42m\u001b[30mProgress: [ 15%]\u001b[49m\u001b[39m [########..................................................] \u001b8Selecting previously unselected package libboost-chrono1.71-dev:amd64.\r\n",
      "Preparing to unpack .../04-libboost-chrono1.71-dev_1.71.0-6ubuntu6_amd64.deb ...\r\n",
      "\u001b7\u001b[24;0f\u001b[42m\u001b[30mProgress: [ 16%]\u001b[49m\u001b[39m [#########.................................................] \u001b8Unpacking libboost-chrono1.71-dev:amd64 (1.71.0-6ubuntu6) ...\r\n",
      "\u001b7\u001b[24;0f\u001b[42m\u001b[30mProgress: [ 17%]\u001b[49m\u001b[39m [#########.................................................] \u001b8Selecting previously unselected package libboost-date-time1.71.0:amd64.\r\n",
      "Preparing to unpack .../05-libboost-date-time1.71.0_1.71.0-6ubuntu6_amd64.deb ...\r\n",
      "\u001b7\u001b[24;0f\u001b[42m\u001b[30mProgress: [ 18%]\u001b[49m\u001b[39m [##########................................................] \u001b8Unpacking libboost-date-time1.71.0:amd64 (1.71.0-6ubuntu6) ...\r\n",
      "\u001b7\u001b[24;0f\u001b[42m\u001b[30mProgress: [ 19%]\u001b[49m\u001b[39m [###########...............................................] \u001b8Selecting previously unselected package libboost-serialization1.71.0:amd64.\r\n",
      "Preparing to unpack .../06-libboost-serialization1.71.0_1.71.0-6ubuntu6_amd64.deb ...\r\n",
      "\u001b7\u001b[24;0f\u001b[42m\u001b[30mProgress: [ 20%]\u001b[49m\u001b[39m [###########...............................................] \u001b8Unpacking libboost-serialization1.71.0:amd64 (1.71.0-6ubuntu6) ...\r\n",
      "\u001b7\u001b[24;0f\u001b[42m\u001b[30mProgress: [ 22%]\u001b[49m\u001b[39m [############..............................................] \u001b8Selecting previously unselected package libboost-serialization1.71-dev:amd64.\r\n",
      "Preparing to unpack .../07-libboost-serialization1.71-dev_1.71.0-6ubuntu6_amd64.deb ...\r\n",
      "\u001b7\u001b[24;0f\u001b[42m\u001b[30mProgress: [ 23%]\u001b[49m\u001b[39m [#############.............................................] \u001b8Unpacking libboost-serialization1.71-dev:amd64 (1.71.0-6ubuntu6) ...\r\n",
      "\u001b7\u001b[24;0f\u001b[42m\u001b[30mProgress: [ 24%]\u001b[49m\u001b[39m [#############.............................................] \u001b8Selecting previously unselected package libboost-date-time1.71-dev:amd64.\r\n",
      "Preparing to unpack .../08-libboost-date-time1.71-dev_1.71.0-6ubuntu6_amd64.deb ...\r\n",
      "\u001b7\u001b[24;0f\u001b[42m\u001b[30mProgress: [ 25%]\u001b[49m\u001b[39m [##############............................................] \u001b8Unpacking libboost-date-time1.71-dev:amd64 (1.71.0-6ubuntu6) ...\r\n",
      "\u001b7\u001b[24;0f\u001b[42m\u001b[30mProgress: [ 26%]\u001b[49m\u001b[39m [##############............................................] \u001b8Selecting previously unselected package libboost-program-options1.71.0:amd64.\r\n",
      "Preparing to unpack .../09-libboost-program-options1.71.0_1.71.0-6ubuntu6_amd64.deb ...\r\n",
      "\u001b7\u001b[24;0f\u001b[42m\u001b[30mProgress: [ 27%]\u001b[49m\u001b[39m [###############...........................................] \u001b8Unpacking libboost-program-options1.71.0:amd64 (1.71.0-6ubuntu6) ...\r\n",
      "\u001b7\u001b[24;0f\u001b[42m\u001b[30mProgress: [ 28%]\u001b[49m\u001b[39m [################..........................................] \u001b8Selecting previously unselected package libboost-program-options1.71-dev:amd64.\r\n",
      "Preparing to unpack .../10-libboost-program-options1.71-dev_1.71.0-6ubuntu6_amd64.deb ...\r\n",
      "\u001b7\u001b[24;0f\u001b[42m\u001b[30mProgress: [ 29%]\u001b[49m\u001b[39m [################..........................................] \u001b8Unpacking libboost-program-options1.71-dev:amd64 (1.71.0-6ubuntu6) ...\r\n",
      "\u001b7\u001b[24;0f\u001b[42m\u001b[30mProgress: [ 30%]\u001b[49m\u001b[39m [#################.........................................] \u001b8Selecting previously unselected package libboost-program-options-dev:amd64.\r\n",
      "Preparing to unpack .../11-libboost-program-options-dev_1.71.0.0ubuntu2_amd64.deb ...\r\n",
      "\u001b7\u001b[24;0f\u001b[42m\u001b[30mProgress: [ 31%]\u001b[49m\u001b[39m [##################........................................] \u001b8Unpacking libboost-program-options-dev:amd64 (1.71.0.0ubuntu2) ...\r\n",
      "\u001b7\u001b[24;0f\u001b[42m\u001b[30mProgress: [ 32%]\u001b[49m\u001b[39m [##################........................................] \u001b8Selecting previously unselected package libboost-test1.71.0:amd64.\r\n",
      "Preparing to unpack .../12-libboost-test1.71.0_1.71.0-6ubuntu6_amd64.deb ...\r\n",
      "\u001b7\u001b[24;0f\u001b[42m\u001b[30mProgress: [ 33%]\u001b[49m\u001b[39m [###################.......................................] \u001b8Unpacking libboost-test1.71.0:amd64 (1.71.0-6ubuntu6) ...\r\n",
      "\u001b7\u001b[24;0f\u001b[42m\u001b[30mProgress: [ 34%]\u001b[49m\u001b[39m [###################.......................................] \u001b8Selecting previously unselected package libboost-test1.71-dev:amd64.\r\n",
      "Preparing to unpack .../13-libboost-test1.71-dev_1.71.0-6ubuntu6_amd64.deb ...\r\n",
      "\u001b7\u001b[24;0f\u001b[42m\u001b[30mProgress: [ 35%]\u001b[49m\u001b[39m [####################......................................] \u001b8Unpacking libboost-test1.71-dev:amd64 (1.71.0-6ubuntu6) ...\r\n",
      "\u001b7\u001b[24;0f\u001b[42m\u001b[30mProgress: [ 37%]\u001b[49m\u001b[39m [#####################.....................................] \u001b8Selecting previously unselected package libboost-test-dev:amd64.\r\n",
      "Preparing to unpack .../14-libboost-test-dev_1.71.0.0ubuntu2_amd64.deb ...\r\n",
      "\u001b7\u001b[24;0f\u001b[42m\u001b[30mProgress: [ 38%]\u001b[49m\u001b[39m [#####################.....................................] \u001b8Unpacking libboost-test-dev:amd64 (1.71.0.0ubuntu2) ...\r\n",
      "\u001b7\u001b[24;0f\u001b[42m\u001b[30mProgress: [ 39%]\u001b[49m\u001b[39m [######################....................................] \u001b8Selecting previously unselected package libboost-thread1.71.0:amd64.\r\n",
      "Preparing to unpack .../15-libboost-thread1.71.0_1.71.0-6ubuntu6_amd64.deb ...\r\n",
      "\u001b7\u001b[24;0f\u001b[42m\u001b[30mProgress: [ 40%]\u001b[49m\u001b[39m [#######################...................................] \u001b8Unpacking libboost-thread1.71.0:amd64 (1.71.0-6ubuntu6) ...\r\n",
      "\u001b7\u001b[24;0f\u001b[42m\u001b[30mProgress: [ 41%]\u001b[49m\u001b[39m [#######################...................................] \u001b8Selecting previously unselected package libboost-thread1.71-dev:amd64.\r\n",
      "Preparing to unpack .../16-libboost-thread1.71-dev_1.71.0-6ubuntu6_amd64.deb ...\r\n",
      "\u001b7\u001b[24;0f\u001b[42m\u001b[30mProgress: [ 42%]\u001b[49m\u001b[39m [########################..................................] \u001b8Unpacking libboost-thread1.71-dev:amd64 (1.71.0-6ubuntu6) ...\r\n",
      "\u001b7\u001b[24;0f\u001b[42m\u001b[30mProgress: [ 43%]\u001b[49m\u001b[39m [########################..................................] \u001b8Selecting previously unselected package libboost-thread-dev:amd64.\r\n",
      "Preparing to unpack .../17-libboost-thread-dev_1.71.0.0ubuntu2_amd64.deb ...\r\n",
      "\u001b7\u001b[24;0f\u001b[42m\u001b[30mProgress: [ 44%]\u001b[49m\u001b[39m [#########################.................................] \u001b8Unpacking libboost-thread-dev:amd64 (1.71.0.0ubuntu2) ...\r\n",
      "\u001b7\u001b[24;0f\u001b[42m\u001b[30mProgress: [ 45%]\u001b[49m\u001b[39m [##########################................................] \u001b8Selecting previously unselected package libbz2-dev:amd64.\r\n",
      "Preparing to unpack .../18-libbz2-dev_1.0.8-2_amd64.deb ...\r\n",
      "\u001b7\u001b[24;0f\u001b[42m\u001b[30mProgress: [ 46%]\u001b[49m\u001b[39m [##########################................................] \u001b8Unpacking libbz2-dev:amd64 (1.0.8-2) ...\r\n",
      "\u001b7\u001b[24;0f\u001b[42m\u001b[30mProgress: [ 47%]\u001b[49m\u001b[39m [###########################...............................] \u001b8Selecting previously unselected package libeigen3-dev.\r\n",
      "Preparing to unpack .../19-libeigen3-dev_3.3.7-2_all.deb ...\r\n",
      "\u001b7\u001b[24;0f\u001b[42m\u001b[30mProgress: [ 48%]\u001b[49m\u001b[39m [############################..............................] \u001b8Unpacking libeigen3-dev (3.3.7-2) ...\r\n",
      "\u001b7\u001b[24;0f\u001b[42m\u001b[30mProgress: [ 49%]\u001b[49m\u001b[39m [############################..............................] \u001b8Selecting previously unselected package liblzma-dev:amd64.\r\n",
      "Preparing to unpack .../20-liblzma-dev_5.2.4-1ubuntu1.1_amd64.deb ...\r\n",
      "\u001b7\u001b[24;0f\u001b[42m\u001b[30mProgress: [ 51%]\u001b[49m\u001b[39m [#############################.............................] \u001b8Unpacking liblzma-dev:amd64 (5.2.4-1ubuntu1.1) ...\r\n",
      "\u001b7\u001b[24;0f\u001b[42m\u001b[30mProgress: [ 52%]\u001b[49m\u001b[39m [#############################.............................] \u001b8Setting up bzip2-doc (1.0.8-2) ...\r\n",
      "\u001b7\u001b[24;0f\u001b[42m\u001b[30mProgress: [ 53%]\u001b[49m\u001b[39m [##############################............................] \u001b8\u001b7\u001b[24;0f\u001b[42m\u001b[30mProgress: [ 54%]\u001b[49m\u001b[39m [###############################...........................] \u001b8Setting up libboost-chrono1.71.0:amd64 (1.71.0-6ubuntu6) ...\r\n",
      "\u001b7\u001b[24;0f\u001b[42m\u001b[30mProgress: [ 55%]\u001b[49m\u001b[39m [###############################...........................] \u001b8\u001b7\u001b[24;0f\u001b[42m\u001b[30mProgress: [ 56%]\u001b[49m\u001b[39m [################################..........................] \u001b8Setting up libboost-date-time1.71.0:amd64 (1.71.0-6ubuntu6) ...\r\n",
      "\u001b7\u001b[24;0f\u001b[42m\u001b[30mProgress: [ 57%]\u001b[49m\u001b[39m [#################################.........................] \u001b8\u001b7\u001b[24;0f\u001b[42m\u001b[30mProgress: [ 58%]\u001b[49m\u001b[39m [#################################.........................] \u001b8Setting up libboost-atomic1.71.0:amd64 (1.71.0-6ubuntu6) ...\r\n",
      "\u001b7\u001b[24;0f\u001b[42m\u001b[30mProgress: [ 59%]\u001b[49m\u001b[39m [##################################........................] \u001b8\u001b7\u001b[24;0f\u001b[42m\u001b[30mProgress: [ 60%]\u001b[49m\u001b[39m [##################################........................] \u001b8Setting up libeigen3-dev (3.3.7-2) ...\r\n",
      "\u001b7\u001b[24;0f\u001b[42m\u001b[30mProgress: [ 61%]\u001b[49m\u001b[39m [###################################.......................] \u001b8\u001b7\u001b[24;0f\u001b[42m\u001b[30mProgress: [ 62%]\u001b[49m\u001b[39m [####################################......................] \u001b8Setting up liblzma-dev:amd64 (5.2.4-1ubuntu1.1) ...\r\n",
      "\u001b7\u001b[24;0f\u001b[42m\u001b[30mProgress: [ 63%]\u001b[49m\u001b[39m [####################################......................] \u001b8\u001b7\u001b[24;0f\u001b[42m\u001b[30mProgress: [ 65%]\u001b[49m\u001b[39m [#####################################.....................] \u001b8Setting up zlib1g-dev:amd64 (1:1.2.11.dfsg-2ubuntu1.5) ...\r\n",
      "\u001b7\u001b[24;0f\u001b[42m\u001b[30mProgress: [ 66%]\u001b[49m\u001b[39m [######################################....................] \u001b8\u001b7\u001b[24;0f\u001b[42m\u001b[30mProgress: [ 67%]\u001b[49m\u001b[39m [######################################....................] \u001b8Setting up libboost-test1.71.0:amd64 (1.71.0-6ubuntu6) ...\r\n",
      "\u001b7\u001b[24;0f\u001b[42m\u001b[30mProgress: [ 68%]\u001b[49m\u001b[39m [#######################################...................] \u001b8\u001b7\u001b[24;0f\u001b[42m\u001b[30mProgress: [ 69%]\u001b[49m\u001b[39m [#######################################...................] \u001b8Setting up libboost-thread1.71.0:amd64 (1.71.0-6ubuntu6) ...\r\n",
      "\u001b7\u001b[24;0f\u001b[42m\u001b[30mProgress: [ 70%]\u001b[49m\u001b[39m [########################################..................] \u001b8\u001b7\u001b[24;0f\u001b[42m\u001b[30mProgress: [ 71%]\u001b[49m\u001b[39m [#########################################.................] \u001b8Setting up libboost-serialization1.71.0:amd64 (1.71.0-6ubuntu6) ...\r\n",
      "\u001b7\u001b[24;0f\u001b[42m\u001b[30mProgress: [ 72%]\u001b[49m\u001b[39m [#########################################.................] \u001b8\u001b7\u001b[24;0f\u001b[42m\u001b[30mProgress: [ 73%]\u001b[49m\u001b[39m [##########################################................] \u001b8Setting up libboost-atomic1.71-dev:amd64 (1.71.0-6ubuntu6) ...\r\n",
      "\u001b7\u001b[24;0f\u001b[42m\u001b[30mProgress: [ 74%]\u001b[49m\u001b[39m [###########################################...............] \u001b8\u001b7\u001b[24;0f\u001b[42m\u001b[30mProgress: [ 75%]\u001b[49m\u001b[39m [###########################################...............] \u001b8Setting up libbz2-dev:amd64 (1.0.8-2) ...\r\n",
      "\u001b7\u001b[24;0f\u001b[42m\u001b[30mProgress: [ 76%]\u001b[49m\u001b[39m [############################################..............] \u001b8\u001b7\u001b[24;0f\u001b[42m\u001b[30mProgress: [ 77%]\u001b[49m\u001b[39m [############################################..............] \u001b8Setting up libboost-program-options1.71.0:amd64 (1.71.0-6ubuntu6) ...\r\n",
      "\u001b7\u001b[24;0f\u001b[42m\u001b[30mProgress: [ 78%]\u001b[49m\u001b[39m [#############################################.............] \u001b8\u001b7\u001b[24;0f\u001b[42m\u001b[30mProgress: [ 80%]\u001b[49m\u001b[39m [##############################################............] \u001b8Setting up libboost-program-options1.71-dev:amd64 (1.71.0-6ubuntu6) ...\r\n",
      "\u001b7\u001b[24;0f\u001b[42m\u001b[30mProgress: [ 81%]\u001b[49m\u001b[39m [##############################################............] \u001b8\u001b7\u001b[24;0f\u001b[42m\u001b[30mProgress: [ 82%]\u001b[49m\u001b[39m [###############################################...........] \u001b8Setting up libboost-chrono1.71-dev:amd64 (1.71.0-6ubuntu6) ...\r\n",
      "\u001b7\u001b[24;0f\u001b[42m\u001b[30mProgress: [ 83%]\u001b[49m\u001b[39m [################################################..........] \u001b8\u001b7\u001b[24;0f\u001b[42m\u001b[30mProgress: [ 84%]\u001b[49m\u001b[39m [################################################..........] \u001b8Setting up libboost-test1.71-dev:amd64 (1.71.0-6ubuntu6) ...\r\n",
      "\u001b7\u001b[24;0f\u001b[42m\u001b[30mProgress: [ 85%]\u001b[49m\u001b[39m [#################################################.........] \u001b8\u001b7\u001b[24;0f\u001b[42m\u001b[30mProgress: [ 86%]\u001b[49m\u001b[39m [#################################################.........] \u001b8Setting up libboost-program-options-dev:amd64 (1.71.0.0ubuntu2) ...\r\n",
      "\u001b7\u001b[24;0f\u001b[42m\u001b[30mProgress: [ 87%]\u001b[49m\u001b[39m [##################################################........] \u001b8\u001b7\u001b[24;0f\u001b[42m\u001b[30mProgress: [ 88%]\u001b[49m\u001b[39m [###################################################.......] \u001b8Setting up libboost-serialization1.71-dev:amd64 (1.71.0-6ubuntu6) ...\r\n",
      "\u001b7\u001b[24;0f\u001b[42m\u001b[30mProgress: [ 89%]\u001b[49m\u001b[39m [###################################################.......] \u001b8\u001b7\u001b[24;0f\u001b[42m\u001b[30mProgress: [ 90%]\u001b[49m\u001b[39m [####################################################......] \u001b8Setting up libboost-date-time1.71-dev:amd64 (1.71.0-6ubuntu6) ...\r\n",
      "\u001b7\u001b[24;0f\u001b[42m\u001b[30mProgress: [ 91%]\u001b[49m\u001b[39m [#####################################################.....] \u001b8\u001b7\u001b[24;0f\u001b[42m\u001b[30mProgress: [ 92%]\u001b[49m\u001b[39m [#####################################################.....] \u001b8Setting up libboost-thread1.71-dev:amd64 (1.71.0-6ubuntu6) ...\r\n",
      "\u001b7\u001b[24;0f\u001b[42m\u001b[30mProgress: [ 94%]\u001b[49m\u001b[39m [######################################################....] \u001b8\u001b7\u001b[24;0f\u001b[42m\u001b[30mProgress: [ 95%]\u001b[49m\u001b[39m [######################################################....] \u001b8Setting up libboost-test-dev:amd64 (1.71.0.0ubuntu2) ...\r\n",
      "\u001b7\u001b[24;0f\u001b[42m\u001b[30mProgress: [ 96%]\u001b[49m\u001b[39m [#######################################################...] \u001b8\u001b7\u001b[24;0f\u001b[42m\u001b[30mProgress: [ 97%]\u001b[49m\u001b[39m [########################################################..] \u001b8Setting up libboost-thread-dev:amd64 (1.71.0.0ubuntu2) ...\r\n",
      "\u001b7\u001b[24;0f\u001b[42m\u001b[30mProgress: [ 98%]\u001b[49m\u001b[39m [########################################################..] \u001b8\u001b7\u001b[24;0f\u001b[42m\u001b[30mProgress: [ 99%]\u001b[49m\u001b[39m [#########################################################.] \u001b8Processing triggers for man-db (2.9.1-1) ...\r\n",
      "Processing triggers for install-info (6.7.0.dfsg.2-5) ...\r\n",
      "Processing triggers for libc-bin (2.31-0ubuntu9.7) ...\r\n",
      "\r\n",
      "\u001b7\u001b[0;24r\u001b8\u001b[1A\u001b[J--2022-12-14 16:34:17--  https://kheafield.com/code/kenlm.tar.gz\r\n",
      "Resolving kheafield.com (kheafield.com)... 35.196.63.85\r\n",
      "Connecting to kheafield.com (kheafield.com)|35.196.63.85|:443... connected.\r\n",
      "HTTP request sent, awaiting response... 200 OK\r\n",
      "Length: 491888 (480K) [application/x-gzip]\r\n",
      "Saving to: ‘STDOUT’\r\n",
      "\r\n",
      "-                   100%[===================>] 480.36K  --.-KB/s    in 0.06s   \r\n",
      "\r\n",
      "2022-12-14 16:34:17 (8.42 MB/s) - written to stdout [491888/491888]\r\n",
      "\r\n",
      "-- The C compiler identification is GNU 9.4.0\r\n",
      "-- The CXX compiler identification is GNU 9.4.0\r\n",
      "-- Detecting C compiler ABI info\r\n",
      "-- Detecting C compiler ABI info - done\r\n",
      "-- Check for working C compiler: /usr/bin/cc - skipped\r\n",
      "-- Detecting C compile features\r\n",
      "-- Detecting C compile features - done\r\n",
      "-- Detecting CXX compiler ABI info\r\n",
      "-- Detecting CXX compiler ABI info - done\r\n",
      "-- Check for working CXX compiler: /usr/bin/c++ - skipped\r\n",
      "-- Detecting CXX compile features\r\n",
      "-- Detecting CXX compile features - done\r\n",
      "-- Found Boost: /usr/lib/x86_64-linux-gnu/cmake/Boost-1.71.0/BoostConfig.cmake (found suitable version \"1.71.0\", minimum required is \"1.41.0\") found components: program_options system thread unit_test_framework \r\n",
      "-- Check if compiler accepts -pthread\r\n",
      "-- Check if compiler accepts -pthread - yes\r\n",
      "-- Found Threads: TRUE  \r\n",
      "-- Found ZLIB: /usr/lib/x86_64-linux-gnu/libz.so (found version \"1.2.11\") \r\n",
      "-- Found BZip2: /usr/lib/x86_64-linux-gnu/libbz2.so (found version \"1.0.8\") \r\n",
      "-- Looking for BZ2_bzCompressInit\r\n",
      "-- Looking for BZ2_bzCompressInit - found\r\n",
      "-- Looking for lzma_auto_decoder in /usr/lib/x86_64-linux-gnu/liblzma.so\r\n",
      "-- Looking for lzma_auto_decoder in /usr/lib/x86_64-linux-gnu/liblzma.so - found\r\n",
      "-- Looking for lzma_easy_encoder in /usr/lib/x86_64-linux-gnu/liblzma.so\r\n",
      "-- Looking for lzma_easy_encoder in /usr/lib/x86_64-linux-gnu/liblzma.so - found\r\n",
      "-- Looking for lzma_lzma_preset in /usr/lib/x86_64-linux-gnu/liblzma.so\r\n",
      "-- Looking for lzma_lzma_preset in /usr/lib/x86_64-linux-gnu/liblzma.so - found\r\n",
      "-- Found LibLZMA: /usr/lib/x86_64-linux-gnu/liblzma.so (found version \"5.2.4\") \r\n",
      "-- Looking for clock_gettime in rt\r\n",
      "-- Looking for clock_gettime in rt - found\r\n",
      "-- Found OpenMP_C: -fopenmp (found version \"4.5\") \r\n",
      "-- Found OpenMP_CXX: -fopenmp (found version \"4.5\") \r\n",
      "-- Found OpenMP: TRUE (found version \"4.5\")  \r\n",
      "-- Configuring done\r\n",
      "-- Generating done\r\n",
      "-- Build files have been written to: /kaggle/working/kenlm/build\r\n",
      "[  1%] \u001b[32mBuilding CXX object util/CMakeFiles/kenlm_util.dir/double-conversion/bignum-dtoa.cc.o\u001b[0m\r\n",
      "[  2%] \u001b[32mBuilding CXX object util/CMakeFiles/kenlm_util.dir/double-conversion/bignum.cc.o\u001b[0m\r\n",
      "[  3%] \u001b[32mBuilding CXX object util/CMakeFiles/kenlm_util.dir/double-conversion/cached-powers.cc.o\u001b[0m\r\n",
      "[  4%] \u001b[32mBuilding CXX object util/CMakeFiles/kenlm_util.dir/double-conversion/diy-fp.cc.o\u001b[0m\r\n",
      "[  5%] \u001b[32mBuilding CXX object util/CMakeFiles/kenlm_util.dir/double-conversion/double-conversion.cc.o\u001b[0m\r\n",
      "[  6%] \u001b[32mBuilding CXX object util/CMakeFiles/kenlm_util.dir/double-conversion/fast-dtoa.cc.o\u001b[0m\r\n",
      "[  7%] \u001b[32mBuilding CXX object util/CMakeFiles/kenlm_util.dir/double-conversion/fixed-dtoa.cc.o\u001b[0m\r\n",
      "[  8%] \u001b[32mBuilding CXX object util/CMakeFiles/kenlm_util.dir/double-conversion/strtod.cc.o\u001b[0m\r\n",
      "[  9%] \u001b[32mBuilding CXX object util/CMakeFiles/kenlm_util.dir/stream/chain.cc.o\u001b[0m\r\n",
      "[ 10%] \u001b[32mBuilding CXX object util/CMakeFiles/kenlm_util.dir/stream/count_records.cc.o\u001b[0m\r\n",
      "[ 11%] \u001b[32mBuilding CXX object util/CMakeFiles/kenlm_util.dir/stream/io.cc.o\u001b[0m\r\n",
      "[ 12%] \u001b[32mBuilding CXX object util/CMakeFiles/kenlm_util.dir/stream/line_input.cc.o\u001b[0m\r\n",
      "[ 13%] \u001b[32mBuilding CXX object util/CMakeFiles/kenlm_util.dir/stream/multi_progress.cc.o\u001b[0m\r\n",
      "[ 14%] \u001b[32mBuilding CXX object util/CMakeFiles/kenlm_util.dir/stream/rewindable_stream.cc.o\u001b[0m\r\n",
      "[ 15%] \u001b[32mBuilding CXX object util/CMakeFiles/kenlm_util.dir/bit_packing.cc.o\u001b[0m\r\n",
      "[ 16%] \u001b[32mBuilding CXX object util/CMakeFiles/kenlm_util.dir/ersatz_progress.cc.o\u001b[0m\r\n",
      "[ 17%] \u001b[32mBuilding CXX object util/CMakeFiles/kenlm_util.dir/exception.cc.o\u001b[0m\r\n",
      "[ 18%] \u001b[32mBuilding CXX object util/CMakeFiles/kenlm_util.dir/file.cc.o\u001b[0m\r\n",
      "[ 19%] \u001b[32mBuilding CXX object util/CMakeFiles/kenlm_util.dir/file_piece.cc.o\u001b[0m\r\n",
      "[ 20%] \u001b[32mBuilding CXX object util/CMakeFiles/kenlm_util.dir/float_to_string.cc.o\u001b[0m\r\n",
      "[ 21%] \u001b[32mBuilding CXX object util/CMakeFiles/kenlm_util.dir/integer_to_string.cc.o\u001b[0m\r\n",
      "[ 22%] \u001b[32mBuilding CXX object util/CMakeFiles/kenlm_util.dir/mmap.cc.o\u001b[0m\r\n",
      "[ 23%] \u001b[32mBuilding CXX object util/CMakeFiles/kenlm_util.dir/murmur_hash.cc.o\u001b[0m\r\n",
      "[ 25%] \u001b[32mBuilding CXX object util/CMakeFiles/kenlm_util.dir/parallel_read.cc.o\u001b[0m\r\n",
      "[ 26%] \u001b[32mBuilding CXX object util/CMakeFiles/kenlm_util.dir/pool.cc.o\u001b[0m\r\n",
      "[ 27%] \u001b[32mBuilding CXX object util/CMakeFiles/kenlm_util.dir/read_compressed.cc.o\u001b[0m\r\n",
      "[ 28%] \u001b[32mBuilding CXX object util/CMakeFiles/kenlm_util.dir/scoped.cc.o\u001b[0m\r\n",
      "[ 29%] \u001b[32mBuilding CXX object util/CMakeFiles/kenlm_util.dir/spaces.cc.o\u001b[0m\r\n",
      "[ 30%] \u001b[32mBuilding CXX object util/CMakeFiles/kenlm_util.dir/string_piece.cc.o\u001b[0m\r\n",
      "[ 31%] \u001b[32mBuilding CXX object util/CMakeFiles/kenlm_util.dir/usage.cc.o\u001b[0m\r\n",
      "[ 32%] \u001b[32m\u001b[1mLinking CXX static library ../lib/libkenlm_util.a\u001b[0m\r\n",
      "[ 32%] Built target kenlm_util\r\n",
      "[ 33%] \u001b[32mBuilding CXX object util/CMakeFiles/probing_hash_table_benchmark.dir/probing_hash_table_benchmark_main.cc.o\u001b[0m\r\n",
      "[ 34%] \u001b[32mBuilding CXX object lm/CMakeFiles/kenlm.dir/bhiksha.cc.o\u001b[0m\r\n",
      "[ 35%] \u001b[32mBuilding CXX object lm/CMakeFiles/kenlm.dir/binary_format.cc.o\u001b[0m\r\n",
      "[ 36%] \u001b[32mBuilding CXX object lm/CMakeFiles/kenlm.dir/config.cc.o\u001b[0m\r\n",
      "[ 37%] \u001b[32mBuilding CXX object lm/CMakeFiles/kenlm.dir/lm_exception.cc.o\u001b[0m\r\n",
      "[ 38%] \u001b[32mBuilding CXX object lm/CMakeFiles/kenlm.dir/model.cc.o\u001b[0m\r\n",
      "[ 39%] \u001b[32mBuilding CXX object lm/CMakeFiles/kenlm.dir/quantize.cc.o\u001b[0m\r\n",
      "[ 40%] \u001b[32mBuilding CXX object lm/CMakeFiles/kenlm.dir/read_arpa.cc.o\u001b[0m\r\n",
      "[ 41%] \u001b[32mBuilding CXX object lm/CMakeFiles/kenlm.dir/search_hashed.cc.o\u001b[0m\r\n",
      "[ 42%] \u001b[32m\u001b[1mLinking CXX executable ../bin/probing_hash_table_benchmark\u001b[0m\r\n",
      "[ 42%] Built target probing_hash_table_benchmark\r\n",
      "[ 43%] \u001b[32mBuilding CXX object lm/filter/CMakeFiles/kenlm_filter.dir/arpa_io.cc.o\u001b[0m\r\n",
      "[ 44%] \u001b[32mBuilding CXX object lm/filter/CMakeFiles/kenlm_filter.dir/phrase.cc.o\u001b[0m\r\n",
      "[ 45%] \u001b[32mBuilding CXX object lm/CMakeFiles/kenlm.dir/search_trie.cc.o\u001b[0m\r\n",
      "[ 46%] \u001b[32mBuilding CXX object lm/filter/CMakeFiles/kenlm_filter.dir/vocab.cc.o\u001b[0m\r\n",
      "[ 47%] \u001b[32m\u001b[1mLinking CXX static library ../../lib/libkenlm_filter.a\u001b[0m\r\n",
      "[ 47%] Built target kenlm_filter\r\n",
      "[ 48%] \u001b[32mBuilding CXX object lm/CMakeFiles/kenlm.dir/sizes.cc.o\u001b[0m\r\n",
      "[ 50%] \u001b[32mBuilding CXX object lm/CMakeFiles/kenlm.dir/trie.cc.o\u001b[0m\r\n",
      "[ 51%] \u001b[32mBuilding CXX object lm/CMakeFiles/kenlm.dir/trie_sort.cc.o\u001b[0m\r\n",
      "[ 52%] \u001b[32mBuilding CXX object lm/CMakeFiles/kenlm.dir/value_build.cc.o\u001b[0m\r\n",
      "[ 53%] \u001b[32mBuilding CXX object lm/CMakeFiles/kenlm.dir/virtual_interface.cc.o\u001b[0m\r\n",
      "[ 54%] \u001b[32mBuilding CXX object lm/CMakeFiles/kenlm.dir/vocab.cc.o\u001b[0m\r\n",
      "[ 55%] \u001b[32mBuilding CXX object lm/CMakeFiles/kenlm.dir/common/model_buffer.cc.o\u001b[0m\r\n",
      "[ 56%] \u001b[32mBuilding CXX object lm/CMakeFiles/kenlm.dir/common/print.cc.o\u001b[0m\r\n",
      "[ 57%] \u001b[32mBuilding CXX object lm/CMakeFiles/kenlm.dir/common/renumber.cc.o\u001b[0m\r\n",
      "[ 58%] \u001b[32mBuilding CXX object lm/CMakeFiles/kenlm.dir/common/size_option.cc.o\u001b[0m\r\n",
      "[ 59%] \u001b[32m\u001b[1mLinking CXX static library ../lib/libkenlm.a\u001b[0m\r\n",
      "[ 59%] Built target kenlm\r\n",
      "[ 60%] \u001b[32mBuilding CXX object lm/CMakeFiles/query.dir/query_main.cc.o\u001b[0m\r\n",
      "[ 61%] \u001b[32mBuilding CXX object lm/CMakeFiles/fragment.dir/fragment_main.cc.o\u001b[0m\r\n",
      "[ 62%] \u001b[32m\u001b[1mLinking CXX executable ../bin/fragment\u001b[0m\r\n",
      "[ 62%] Built target fragment\r\n",
      "[ 63%] \u001b[32mBuilding CXX object lm/CMakeFiles/build_binary.dir/build_binary_main.cc.o\u001b[0m\r\n",
      "[ 64%] \u001b[32m\u001b[1mLinking CXX executable ../bin/query\u001b[0m\r\n",
      "[ 64%] Built target query\r\n",
      "[ 65%] \u001b[32mBuilding CXX object lm/CMakeFiles/kenlm_benchmark.dir/kenlm_benchmark_main.cc.o\u001b[0m\r\n",
      "[ 66%] \u001b[32m\u001b[1mLinking CXX executable ../bin/build_binary\u001b[0m\r\n",
      "[ 66%] Built target build_binary\r\n",
      "[ 67%] \u001b[32mBuilding CXX object lm/builder/CMakeFiles/kenlm_builder.dir/adjust_counts.cc.o\u001b[0m\r\n",
      "[ 68%] \u001b[32mBuilding CXX object lm/builder/CMakeFiles/kenlm_builder.dir/corpus_count.cc.o\u001b[0m\r\n",
      "[ 69%] \u001b[32mBuilding CXX object lm/builder/CMakeFiles/kenlm_builder.dir/initial_probabilities.cc.o\u001b[0m\r\n",
      "[ 70%] \u001b[32mBuilding CXX object lm/builder/CMakeFiles/kenlm_builder.dir/interpolate.cc.o\u001b[0m\r\n",
      "[ 71%] \u001b[32mBuilding CXX object lm/builder/CMakeFiles/kenlm_builder.dir/output.cc.o\u001b[0m\r\n",
      "[ 72%] \u001b[32m\u001b[1mLinking CXX executable ../bin/kenlm_benchmark\u001b[0m\r\n",
      "[ 72%] Built target kenlm_benchmark\r\n",
      "[ 73%] \u001b[32mBuilding CXX object lm/filter/CMakeFiles/filter.dir/filter_main.cc.o\u001b[0m\r\n",
      "[ 75%] \u001b[32mBuilding CXX object lm/builder/CMakeFiles/kenlm_builder.dir/pipeline.cc.o\u001b[0m\r\n",
      "[ 76%] \u001b[32m\u001b[1mLinking CXX static library ../../lib/libkenlm_builder.a\u001b[0m\r\n",
      "[ 76%] Built target kenlm_builder\r\n",
      "[ 77%] \u001b[32mBuilding CXX object lm/filter/CMakeFiles/phrase_table_vocab.dir/phrase_table_vocab_main.cc.o\u001b[0m\r\n",
      "[ 78%] \u001b[32m\u001b[1mLinking CXX executable ../../bin/phrase_table_vocab\u001b[0m\r\n",
      "[ 78%] Built target phrase_table_vocab\r\n",
      "[ 79%] \u001b[32mBuilding CXX object lm/interpolate/CMakeFiles/kenlm_interpolate.dir/backoff_reunification.cc.o\u001b[0m\r\n",
      "[ 80%] \u001b[32m\u001b[1mLinking CXX executable ../../bin/filter\u001b[0m\r\n",
      "[ 80%] Built target filter\r\n",
      "[ 81%] \u001b[32mBuilding CXX object lm/builder/CMakeFiles/lmplz.dir/lmplz_main.cc.o\u001b[0m\r\n",
      "[ 82%] \u001b[32mBuilding CXX object lm/interpolate/CMakeFiles/kenlm_interpolate.dir/bounded_sequence_encoding.cc.o\u001b[0m\r\n",
      "[ 83%] \u001b[32mBuilding CXX object lm/interpolate/CMakeFiles/kenlm_interpolate.dir/merge_probabilities.cc.o\u001b[0m\r\n",
      "[ 84%] \u001b[32m\u001b[1mLinking CXX executable ../../bin/lmplz\u001b[0m\r\n",
      "[ 84%] Built target lmplz\r\n",
      "[ 85%] \u001b[32mBuilding CXX object lm/builder/CMakeFiles/count_ngrams.dir/count_ngrams_main.cc.o\u001b[0m\r\n",
      "[ 86%] \u001b[32mBuilding CXX object lm/interpolate/CMakeFiles/kenlm_interpolate.dir/merge_vocab.cc.o\u001b[0m\r\n",
      "[ 87%] \u001b[32mBuilding CXX object lm/interpolate/CMakeFiles/kenlm_interpolate.dir/normalize.cc.o\u001b[0m\r\n",
      "[ 88%] \u001b[32mBuilding CXX object lm/interpolate/CMakeFiles/kenlm_interpolate.dir/pipeline.cc.o\u001b[0m\r\n",
      "[ 89%] \u001b[32m\u001b[1mLinking CXX executable ../../bin/count_ngrams\u001b[0m\r\n",
      "[ 89%] Built target count_ngrams\r\n",
      "[ 90%] \u001b[32mBuilding CXX object lm/interpolate/CMakeFiles/kenlm_interpolate.dir/split_worker.cc.o\u001b[0m\r\n",
      "[ 91%] \u001b[32mBuilding CXX object lm/interpolate/CMakeFiles/kenlm_interpolate.dir/tune_derivatives.cc.o\u001b[0m\r\n",
      "[ 92%] \u001b[32mBuilding CXX object lm/interpolate/CMakeFiles/kenlm_interpolate.dir/tune_instances.cc.o\u001b[0m\r\n",
      "[ 93%] \u001b[32mBuilding CXX object lm/interpolate/CMakeFiles/kenlm_interpolate.dir/tune_weights.cc.o\u001b[0m\r\n",
      "[ 94%] \u001b[32mBuilding CXX object lm/interpolate/CMakeFiles/kenlm_interpolate.dir/universal_vocab.cc.o\u001b[0m\r\n",
      "[ 95%] \u001b[32m\u001b[1mLinking CXX static library ../../lib/libkenlm_interpolate.a\u001b[0m\r\n",
      "[ 95%] Built target kenlm_interpolate\r\n",
      "[ 96%] \u001b[32mBuilding CXX object lm/interpolate/CMakeFiles/streaming_example.dir/streaming_example_main.cc.o\u001b[0m\r\n",
      "[ 97%] \u001b[32mBuilding CXX object lm/interpolate/CMakeFiles/interpolate.dir/interpolate_main.cc.o\u001b[0m\r\n",
      "[ 98%] \u001b[32m\u001b[1mLinking CXX executable ../../bin/interpolate\u001b[0m\r\n",
      "[ 98%] Built target interpolate\r\n",
      "[100%] \u001b[32m\u001b[1mLinking CXX executable ../../bin/streaming_example\u001b[0m\r\n",
      "[100%] Built target streaming_example\r\n",
      "build_binary  fragment\t       lmplz\t\t\t     query\r\n",
      "count_ngrams  interpolate      phrase_table_vocab\t     streaming_example\r\n",
      "filter\t      kenlm_benchmark  probing_hash_table_benchmark\r\n",
      "=== 1/5 Counting and sorting n-grams ===\r\n",
      "Reading /kaggle/working/text.txt\r\n",
      "----5---10---15---20---25---30---35---40---45---50---55---60---65---70---75---80---85---90---95--100\r\n",
      "****************************************************************************************************\r\n",
      "Unigram tokens 65462070 types 410855\r\n",
      "=== 2/5 Calculating and sorting adjusted counts ===\r\n",
      "Chain sizes: 1:4930260 2:2284675584 3:4283766528 4:6854026752\r\n",
      "Statistics:\r\n",
      "1 410854 D1=0.694709 D2=0.987362 D3+=1.26769\r\n",
      "2 6867377 D1=0.773993 D2=1.10307 D3+=1.34119\r\n",
      "3 15747075 D1=0.890092 D2=1.21979 D3+=1.33837\r\n",
      "4 19676089 D1=0.326772 D2=1.09404 D3+=2.15089\r\n",
      "Memory estimate for binary LM:\r\n",
      "type     MB\r\n",
      "probing 865 assuming -p 1.5\r\n",
      "probing 996 assuming -r models -p 1.5\r\n",
      "trie    414 without quantization\r\n",
      "trie    233 assuming -q 8 -b 8 quantization \r\n",
      "trie    368 assuming -a 22 array pointer compression\r\n",
      "trie    187 assuming -a 22 -q 8 -b 8 array pointer compression and quantization\r\n",
      "=== 3/5 Calculating and sorting initial probabilities ===\r\n",
      "Chain sizes: 1:4930248 2:109878032 3:314941500 4:472226136\r\n",
      "----5---10---15---20---25---30---35---40---45---50---55---60---65---70---75---80---85---90---95--100\r\n",
      "####################################################################################################\r\n",
      "=== 4/5 Calculating and writing order-interpolated probabilities ===\r\n",
      "Chain sizes: 1:4930248 2:109878032 3:314941500 4:472226136\r\n",
      "----5---10---15---20---25---30---35---40---45---50---55---60---65---70---75---80---85---90---95--100\r\n",
      "####################################################################################################\r\n",
      "=== 5/5 Writing ARPA model ===\r\n",
      "----5---10---15---20---25---30---35---40---45---50---55---60---65---70---75---80---85---90---95--100\r\n",
      "****************************************************************************************************\r\n",
      "Name:lmplz\tVmPeak:13268556 kB\tVmRSS:18640 kB\tRSSMax:3107852 kB\tuser:48.1546\tsys:12.2692\tCPU:60.4239\treal:51.8024\r\n"
     ]
    }
   ],
   "source": [
    "! sudo apt -y install build-essential cmake libboost-system-dev libboost-thread-dev libboost-program-options-dev libboost-test-dev libeigen3-dev zlib1g-dev libbz2-dev liblzma-dev\n",
    "! wget -O - https://kheafield.com/code/kenlm.tar.gz | tar xz\n",
    "! mkdir kenlm/build && cd kenlm/build && cmake .. && make -j2\n",
    "! ls kenlm/build/bin\n",
    "! kenlm/build/bin/lmplz -o 4 < \"text.txt\" > \"6gram.arpa\""
   ]
  },
  {
   "cell_type": "code",
   "execution_count": 9,
   "id": "888af553",
   "metadata": {
    "execution": {
     "iopub.execute_input": "2022-12-14T16:37:27.289779Z",
     "iopub.status.busy": "2022-12-14T16:37:27.289379Z",
     "iopub.status.idle": "2022-12-14T16:38:02.246176Z",
     "shell.execute_reply": "2022-12-14T16:38:02.245076Z"
    },
    "papermill": {
     "duration": 35.031677,
     "end_time": "2022-12-14T16:38:02.248639",
     "exception": false,
     "start_time": "2022-12-14T16:37:27.216962",
     "status": "completed"
    },
    "tags": []
   },
   "outputs": [],
   "source": [
    "with open(\"6gram.arpa\", \"r\") as read_file, open(\"6gram_correct.arpa\", \"w\") as write_file:\n",
    "    has_added_eos = False\n",
    "    for line in read_file:\n",
    "        if not has_added_eos and \"ngram 1=\" in line:\n",
    "            count=line.strip().split(\"=\")[-1]\n",
    "            write_file.write(line.replace(f\"{count}\", f\"{int(count)+1}\"))\n",
    "        elif not has_added_eos and \"<s>\" in line:\n",
    "            write_file.write(line)\n",
    "            write_file.write(line.replace(\"<s>\", \"</s>\"))\n",
    "            has_added_eos = True\n",
    "        else:\n",
    "            write_file.write(line)"
   ]
  },
  {
   "cell_type": "code",
   "execution_count": 10,
   "id": "20d735d2",
   "metadata": {
    "execution": {
     "iopub.execute_input": "2022-12-14T16:38:02.308926Z",
     "iopub.status.busy": "2022-12-14T16:38:02.308606Z",
     "iopub.status.idle": "2022-12-14T16:38:29.722610Z",
     "shell.execute_reply": "2022-12-14T16:38:29.721555Z"
    },
    "papermill": {
     "duration": 27.445659,
     "end_time": "2022-12-14T16:38:29.724837",
     "exception": false,
     "start_time": "2022-12-14T16:38:02.279178",
     "status": "completed"
    },
    "tags": []
   },
   "outputs": [
    {
     "name": "stderr",
     "output_type": "stream",
     "text": [
      "Loading the LM will be faster if you build a binary file.\n",
      "Reading /kaggle/working/6gram_correct.arpa\n",
      "----5---10---15---20---25---30---35---40---45---50---55---60---65---70---75---80---85---90---95--100\n",
      "****************************************************************************************************\n"
     ]
    }
   ],
   "source": [
    "import kenlm\n",
    "model = kenlm.LanguageModel('./6gram_correct.arpa')"
   ]
  },
  {
   "cell_type": "code",
   "execution_count": 11,
   "id": "ba91d9b6",
   "metadata": {
    "execution": {
     "iopub.execute_input": "2022-12-14T16:38:29.784053Z",
     "iopub.status.busy": "2022-12-14T16:38:29.783145Z",
     "iopub.status.idle": "2022-12-14T16:38:29.789128Z",
     "shell.execute_reply": "2022-12-14T16:38:29.788153Z"
    },
    "papermill": {
     "duration": 0.037781,
     "end_time": "2022-12-14T16:38:29.791473",
     "exception": false,
     "start_time": "2022-12-14T16:38:29.753692",
     "status": "completed"
    },
    "tags": []
   },
   "outputs": [
    {
     "name": "stdout",
     "output_type": "stream",
     "text": [
      "-10.845097541809082\n",
      "-13.650924682617188\n"
     ]
    }
   ],
   "source": [
    "print(model.score('প্রধান নায়ক', bos=True, eos=True))\n",
    "print(model.score('প্রাধান নয়ক', bos=True, eos=True))"
   ]
  },
  {
   "cell_type": "code",
   "execution_count": 12,
   "id": "48b745ec",
   "metadata": {
    "execution": {
     "iopub.execute_input": "2022-12-14T16:38:29.850534Z",
     "iopub.status.busy": "2022-12-14T16:38:29.849480Z",
     "iopub.status.idle": "2022-12-14T16:38:29.854446Z",
     "shell.execute_reply": "2022-12-14T16:38:29.853462Z"
    },
    "papermill": {
     "duration": 0.03649,
     "end_time": "2022-12-14T16:38:29.856482",
     "exception": false,
     "start_time": "2022-12-14T16:38:29.819992",
     "status": "completed"
    },
    "tags": []
   },
   "outputs": [],
   "source": [
    "#!cp -r /kaggle/input/wav2vec2-bn/wav2vec2_bn /kaggle/working/"
   ]
  },
  {
   "cell_type": "code",
   "execution_count": 13,
   "id": "523a8ef4",
   "metadata": {
    "execution": {
     "iopub.execute_input": "2022-12-14T16:38:29.914365Z",
     "iopub.status.busy": "2022-12-14T16:38:29.914062Z",
     "iopub.status.idle": "2022-12-14T16:38:31.488869Z",
     "shell.execute_reply": "2022-12-14T16:38:31.488035Z"
    },
    "papermill": {
     "duration": 1.606329,
     "end_time": "2022-12-14T16:38:31.491340",
     "exception": false,
     "start_time": "2022-12-14T16:38:29.885011",
     "status": "completed"
    },
    "tags": []
   },
   "outputs": [
    {
     "data": {
      "application/vnd.jupyter.widget-view+json": {
       "model_id": "1e190407700b49f5a0dd0de0140f98df",
       "version_major": 2,
       "version_minor": 0
      },
      "text/plain": [
       "Downloading:   0%|          | 0.00/262 [00:00<?, ?B/s]"
      ]
     },
     "metadata": {},
     "output_type": "display_data"
    },
    {
     "data": {
      "application/vnd.jupyter.widget-view+json": {
       "model_id": "74891e81b3e3493ab95297f5e02bed81",
       "version_major": 2,
       "version_minor": 0
      },
      "text/plain": [
       "Downloading:   0%|          | 0.00/404 [00:00<?, ?B/s]"
      ]
     },
     "metadata": {},
     "output_type": "display_data"
    },
    {
     "data": {
      "application/vnd.jupyter.widget-view+json": {
       "model_id": "e47d1cf7e9f64df78589d45660ad9ff1",
       "version_major": 2,
       "version_minor": 0
      },
      "text/plain": [
       "Downloading:   0%|          | 0.00/696 [00:00<?, ?B/s]"
      ]
     },
     "metadata": {},
     "output_type": "display_data"
    },
    {
     "data": {
      "application/vnd.jupyter.widget-view+json": {
       "model_id": "34539062d8da432f81e77414d62d459c",
       "version_major": 2,
       "version_minor": 0
      },
      "text/plain": [
       "Downloading:   0%|          | 0.00/3.00 [00:00<?, ?B/s]"
      ]
     },
     "metadata": {},
     "output_type": "display_data"
    },
    {
     "data": {
      "application/vnd.jupyter.widget-view+json": {
       "model_id": "7da28a44762e414781df3f418a5bd1d4",
       "version_major": 2,
       "version_minor": 0
      },
      "text/plain": [
       "Downloading:   0%|          | 0.00/84.0 [00:00<?, ?B/s]"
      ]
     },
     "metadata": {},
     "output_type": "display_data"
    }
   ],
   "source": [
    "from transformers import Wav2Vec2CTCTokenizer,Wav2Vec2ForCTC,Wav2Vec2Processor,Wav2Vec2FeatureExtractor\n",
    "processor = Wav2Vec2Processor.from_pretrained(\"mushrafi88/wav2vec2_xlsr_300m_bn_6gram_arpa\")\n",
    "vocab_dict = processor.tokenizer.get_vocab()\n",
    "sorted_vocab_dict = {k.lower(): v for k, v in sorted(vocab_dict.items(), key=lambda item: item[1])}"
   ]
  },
  {
   "cell_type": "code",
   "execution_count": 14,
   "id": "5d6304f8",
   "metadata": {
    "execution": {
     "iopub.execute_input": "2022-12-14T16:38:31.583969Z",
     "iopub.status.busy": "2022-12-14T16:38:31.583606Z",
     "iopub.status.idle": "2022-12-14T16:38:31.595518Z",
     "shell.execute_reply": "2022-12-14T16:38:31.594693Z"
    },
    "papermill": {
     "duration": 0.060035,
     "end_time": "2022-12-14T16:38:31.597920",
     "exception": false,
     "start_time": "2022-12-14T16:38:31.537885",
     "status": "completed"
    },
    "tags": []
   },
   "outputs": [
    {
     "data": {
      "text/plain": [
       "{'[PAD]': 63,\n",
       " '[UNK]': 62,\n",
       " '|': 56,\n",
       " 'ঁ': 50,\n",
       " 'ং': 23,\n",
       " 'ঃ': 20,\n",
       " 'অ': 55,\n",
       " 'আ': 6,\n",
       " 'ই': 30,\n",
       " 'ঈ': 35,\n",
       " 'উ': 16,\n",
       " 'ঊ': 9,\n",
       " 'ঋ': 24,\n",
       " 'এ': 29,\n",
       " 'ঐ': 2,\n",
       " 'ও': 36,\n",
       " 'ঔ': 5,\n",
       " 'ক': 26,\n",
       " 'খ': 60,\n",
       " 'গ': 46,\n",
       " 'ঘ': 8,\n",
       " 'ঙ': 0,\n",
       " 'চ': 57,\n",
       " 'ছ': 44,\n",
       " 'জ': 21,\n",
       " 'ঝ': 37,\n",
       " 'ঞ': 38,\n",
       " 'ট': 43,\n",
       " 'ঠ': 28,\n",
       " 'ড': 42,\n",
       " 'ঢ': 34,\n",
       " 'ণ': 17,\n",
       " 'ত': 53,\n",
       " 'থ': 54,\n",
       " 'দ': 1,\n",
       " 'ধ': 41,\n",
       " 'ন': 14,\n",
       " 'প': 7,\n",
       " 'ফ': 61,\n",
       " 'ব': 12,\n",
       " 'ভ': 10,\n",
       " 'ম': 13,\n",
       " 'য': 45,\n",
       " 'র': 59,\n",
       " 'ল': 31,\n",
       " 'শ': 32,\n",
       " 'ষ': 27,\n",
       " 'স': 15,\n",
       " 'হ': 3,\n",
       " 'া': 47,\n",
       " 'ি': 22,\n",
       " 'ী': 49,\n",
       " 'ু': 25,\n",
       " 'ূ': 58,\n",
       " 'ৃ': 19,\n",
       " 'ে': 18,\n",
       " 'ৈ': 48,\n",
       " 'ো': 52,\n",
       " 'ৌ': 4,\n",
       " '্': 39,\n",
       " 'ৎ': 33,\n",
       " 'ড়': 51,\n",
       " 'ঢ়': 11,\n",
       " 'য়': 40}"
      ]
     },
     "execution_count": 14,
     "metadata": {},
     "output_type": "execute_result"
    }
   ],
   "source": [
    "vocab_dict"
   ]
  },
  {
   "cell_type": "code",
   "execution_count": 15,
   "id": "9e1edb88",
   "metadata": {
    "execution": {
     "iopub.execute_input": "2022-12-14T16:38:31.665567Z",
     "iopub.status.busy": "2022-12-14T16:38:31.665201Z",
     "iopub.status.idle": "2022-12-14T16:38:31.672869Z",
     "shell.execute_reply": "2022-12-14T16:38:31.671835Z"
    },
    "papermill": {
     "duration": 0.041796,
     "end_time": "2022-12-14T16:38:31.675986",
     "exception": false,
     "start_time": "2022-12-14T16:38:31.634190",
     "status": "completed"
    },
    "tags": []
   },
   "outputs": [
    {
     "data": {
      "text/plain": [
       "{'ঙ': 0,\n",
       " 'দ': 1,\n",
       " 'ঐ': 2,\n",
       " 'হ': 3,\n",
       " 'ৌ': 4,\n",
       " 'ঔ': 5,\n",
       " 'আ': 6,\n",
       " 'প': 7,\n",
       " 'ঘ': 8,\n",
       " 'ঊ': 9,\n",
       " 'ভ': 10,\n",
       " 'ঢ়': 11,\n",
       " 'ব': 12,\n",
       " 'ম': 13,\n",
       " 'ন': 14,\n",
       " 'স': 15,\n",
       " 'উ': 16,\n",
       " 'ণ': 17,\n",
       " 'ে': 18,\n",
       " 'ৃ': 19,\n",
       " 'ঃ': 20,\n",
       " 'জ': 21,\n",
       " 'ি': 22,\n",
       " 'ং': 23,\n",
       " 'ঋ': 24,\n",
       " 'ু': 25,\n",
       " 'ক': 26,\n",
       " 'ষ': 27,\n",
       " 'ঠ': 28,\n",
       " 'এ': 29,\n",
       " 'ই': 30,\n",
       " 'ল': 31,\n",
       " 'শ': 32,\n",
       " 'ৎ': 33,\n",
       " 'ঢ': 34,\n",
       " 'ঈ': 35,\n",
       " 'ও': 36,\n",
       " 'ঝ': 37,\n",
       " 'ঞ': 38,\n",
       " '্': 39,\n",
       " 'য়': 40,\n",
       " 'ধ': 41,\n",
       " 'ড': 42,\n",
       " 'ট': 43,\n",
       " 'ছ': 44,\n",
       " 'য': 45,\n",
       " 'গ': 46,\n",
       " 'া': 47,\n",
       " 'ৈ': 48,\n",
       " 'ী': 49,\n",
       " 'ঁ': 50,\n",
       " 'ড়': 51,\n",
       " 'ো': 52,\n",
       " 'ত': 53,\n",
       " 'থ': 54,\n",
       " 'অ': 55,\n",
       " '|': 56,\n",
       " 'চ': 57,\n",
       " 'ূ': 58,\n",
       " 'র': 59,\n",
       " 'খ': 60,\n",
       " 'ফ': 61,\n",
       " '[unk]': 62,\n",
       " '[pad]': 63}"
      ]
     },
     "execution_count": 15,
     "metadata": {},
     "output_type": "execute_result"
    }
   ],
   "source": [
    "sorted_vocab_dict"
   ]
  },
  {
   "cell_type": "code",
   "execution_count": 16,
   "id": "b0f6f6d4",
   "metadata": {
    "execution": {
     "iopub.execute_input": "2022-12-14T16:38:31.735720Z",
     "iopub.status.busy": "2022-12-14T16:38:31.735425Z",
     "iopub.status.idle": "2022-12-14T16:38:31.742452Z",
     "shell.execute_reply": "2022-12-14T16:38:31.741438Z"
    },
    "papermill": {
     "duration": 0.040198,
     "end_time": "2022-12-14T16:38:31.745513",
     "exception": false,
     "start_time": "2022-12-14T16:38:31.705315",
     "status": "completed"
    },
    "tags": []
   },
   "outputs": [
    {
     "data": {
      "text/plain": [
       "['ঙ',\n",
       " 'দ',\n",
       " 'ঐ',\n",
       " 'হ',\n",
       " 'ৌ',\n",
       " 'ঔ',\n",
       " 'আ',\n",
       " 'প',\n",
       " 'ঘ',\n",
       " 'ঊ',\n",
       " 'ভ',\n",
       " 'ঢ়',\n",
       " 'ব',\n",
       " 'ম',\n",
       " 'ন',\n",
       " 'স',\n",
       " 'উ',\n",
       " 'ণ',\n",
       " 'ে',\n",
       " 'ৃ',\n",
       " 'ঃ',\n",
       " 'জ',\n",
       " 'ি',\n",
       " 'ং',\n",
       " 'ঋ',\n",
       " 'ু',\n",
       " 'ক',\n",
       " 'ষ',\n",
       " 'ঠ',\n",
       " 'এ',\n",
       " 'ই',\n",
       " 'ল',\n",
       " 'শ',\n",
       " 'ৎ',\n",
       " 'ঢ',\n",
       " 'ঈ',\n",
       " 'ও',\n",
       " 'ঝ',\n",
       " 'ঞ',\n",
       " '্',\n",
       " 'য়',\n",
       " 'ধ',\n",
       " 'ড',\n",
       " 'ট',\n",
       " 'ছ',\n",
       " 'য',\n",
       " 'গ',\n",
       " 'া',\n",
       " 'ৈ',\n",
       " 'ী',\n",
       " 'ঁ',\n",
       " 'ড়',\n",
       " 'ো',\n",
       " 'ত',\n",
       " 'থ',\n",
       " 'অ',\n",
       " '|',\n",
       " 'চ',\n",
       " 'ূ',\n",
       " 'র',\n",
       " 'খ',\n",
       " 'ফ',\n",
       " '[unk]',\n",
       " '[pad]']"
      ]
     },
     "execution_count": 16,
     "metadata": {},
     "output_type": "execute_result"
    }
   ],
   "source": [
    "list(sorted_vocab_dict.keys())"
   ]
  },
  {
   "cell_type": "code",
   "execution_count": 17,
   "id": "41b5369e",
   "metadata": {
    "execution": {
     "iopub.execute_input": "2022-12-14T16:38:31.807234Z",
     "iopub.status.busy": "2022-12-14T16:38:31.805751Z",
     "iopub.status.idle": "2022-12-14T16:39:07.481386Z",
     "shell.execute_reply": "2022-12-14T16:39:07.480412Z"
    },
    "papermill": {
     "duration": 35.708434,
     "end_time": "2022-12-14T16:39:07.483838",
     "exception": false,
     "start_time": "2022-12-14T16:38:31.775404",
     "status": "completed"
    },
    "tags": []
   },
   "outputs": [
    {
     "name": "stderr",
     "output_type": "stream",
     "text": [
      "Loading the LM will be faster if you build a binary file.\n",
      "Reading /kaggle/working/6gram_correct.arpa\n",
      "----5---10---15---20---25---30---35---40---45---50---55---60---65---70---75---80---85---90---95--100\n",
      "****************************************************************************************************\n"
     ]
    }
   ],
   "source": [
    "from pyctcdecode import build_ctcdecoder\n",
    "\n",
    "decoder = build_ctcdecoder(\n",
    "    labels=list(sorted_vocab_dict.keys()),\n",
    "    kenlm_model_path=\"6gram_correct.arpa\",\n",
    ")"
   ]
  },
  {
   "cell_type": "code",
   "execution_count": 18,
   "id": "319b5b9d",
   "metadata": {
    "execution": {
     "iopub.execute_input": "2022-12-14T16:39:07.546001Z",
     "iopub.status.busy": "2022-12-14T16:39:07.545111Z",
     "iopub.status.idle": "2022-12-14T16:39:07.553095Z",
     "shell.execute_reply": "2022-12-14T16:39:07.552282Z"
    },
    "papermill": {
     "duration": 0.040872,
     "end_time": "2022-12-14T16:39:07.555081",
     "exception": false,
     "start_time": "2022-12-14T16:39:07.514209",
     "status": "completed"
    },
    "tags": []
   },
   "outputs": [],
   "source": [
    "from transformers import Wav2Vec2ProcessorWithLM\n",
    "\n",
    "processor_with_lm = Wav2Vec2ProcessorWithLM(\n",
    "    feature_extractor=processor.feature_extractor,\n",
    "    tokenizer=processor.tokenizer,\n",
    "    decoder=decoder\n",
    ")"
   ]
  },
  {
   "cell_type": "code",
   "execution_count": 19,
   "id": "605880fe",
   "metadata": {
    "execution": {
     "iopub.execute_input": "2022-12-14T16:39:07.615543Z",
     "iopub.status.busy": "2022-12-14T16:39:07.615225Z",
     "iopub.status.idle": "2022-12-14T16:39:15.978527Z",
     "shell.execute_reply": "2022-12-14T16:39:15.977527Z"
    },
    "papermill": {
     "duration": 8.396471,
     "end_time": "2022-12-14T16:39:15.981159",
     "exception": false,
     "start_time": "2022-12-14T16:39:07.584688",
     "status": "completed"
    },
    "tags": []
   },
   "outputs": [],
   "source": [
    "#model.save_pretrained('wav2vec2')\n",
    "processor_with_lm.save_pretrained(\"wav2vec2_arpa\")"
   ]
  },
  {
   "cell_type": "code",
   "execution_count": 20,
   "id": "0d2b696a",
   "metadata": {
    "execution": {
     "iopub.execute_input": "2022-12-14T16:39:20.424710Z",
     "iopub.status.busy": "2022-12-14T16:39:20.423325Z",
     "iopub.status.idle": "2022-12-14T16:39:20.430279Z",
     "shell.execute_reply": "2022-12-14T16:39:20.429183Z"
    },
    "papermill": {
     "duration": 0.119809,
     "end_time": "2022-12-14T16:39:20.434218",
     "exception": false,
     "start_time": "2022-12-14T16:39:20.314409",
     "status": "completed"
    },
    "tags": []
   },
   "outputs": [],
   "source": [
    "#!tree -h"
   ]
  },
  {
   "cell_type": "code",
   "execution_count": 21,
   "id": "120bb161",
   "metadata": {
    "execution": {
     "iopub.execute_input": "2022-12-14T16:39:20.821784Z",
     "iopub.status.busy": "2022-12-14T16:39:20.821390Z",
     "iopub.status.idle": "2022-12-14T16:39:56.080985Z",
     "shell.execute_reply": "2022-12-14T16:39:56.079511Z"
    },
    "papermill": {
     "duration": 35.3835,
     "end_time": "2022-12-14T16:39:56.083940",
     "exception": false,
     "start_time": "2022-12-14T16:39:20.700440",
     "status": "completed"
    },
    "tags": []
   },
   "outputs": [
    {
     "name": "stdout",
     "output_type": "stream",
     "text": [
      "Reading wav2vec2_arpa/language_model/6gram_correct.arpa\r\n",
      "----5---10---15---20---25---30---35---40---45---50---55---60---65---70---75---80---85---90---95--100\r\n",
      "****************************************************************************************************\r\n",
      "SUCCESS\r\n"
     ]
    }
   ],
   "source": [
    "!kenlm/build/bin/build_binary wav2vec2_arpa/language_model/6gram_correct.arpa wav2vec2_arpa/language_model/6gram.bin"
   ]
  },
  {
   "cell_type": "code",
   "execution_count": 22,
   "id": "76887bb0",
   "metadata": {
    "execution": {
     "iopub.execute_input": "2022-12-14T16:39:56.154970Z",
     "iopub.status.busy": "2022-12-14T16:39:56.154615Z",
     "iopub.status.idle": "2022-12-14T16:39:57.556312Z",
     "shell.execute_reply": "2022-12-14T16:39:57.555190Z"
    },
    "papermill": {
     "duration": 1.439781,
     "end_time": "2022-12-14T16:39:57.558651",
     "exception": false,
     "start_time": "2022-12-14T16:39:56.118870",
     "status": "completed"
    },
    "tags": []
   },
   "outputs": [
    {
     "name": "stdout",
     "output_type": "stream",
     "text": [
      "\u001b[01;34mwav2vec2_arpa/\u001b[00m\r\n",
      "├── [ 658]  alphabet.json\r\n",
      "├── [4.0K]  \u001b[01;34mlanguage_model\u001b[00m\r\n",
      "│   ├── [876M]  6gram.bin\r\n",
      "│   ├── [  78]  attrs.json\r\n",
      "│   └── [ 11M]  unigrams.txt\r\n",
      "├── [ 262]  preprocessor_config.json\r\n",
      "├── [  51]  special_tokens_map.json\r\n",
      "├── [ 464]  tokenizer_config.json\r\n",
      "└── [ 827]  vocab.json\r\n",
      "\r\n",
      "1 directory, 8 files\r\n"
     ]
    }
   ],
   "source": [
    "!rm wav2vec2_arpa/language_model/6gram_correct.arpa && tree -h wav2vec2_arpa/"
   ]
  },
  {
   "cell_type": "code",
   "execution_count": 23,
   "id": "595545b3",
   "metadata": {
    "execution": {
     "iopub.execute_input": "2022-12-14T16:39:57.630313Z",
     "iopub.status.busy": "2022-12-14T16:39:57.629380Z",
     "iopub.status.idle": "2022-12-14T16:40:02.332632Z",
     "shell.execute_reply": "2022-12-14T16:40:02.331231Z"
    },
    "papermill": {
     "duration": 4.741509,
     "end_time": "2022-12-14T16:40:02.335358",
     "exception": false,
     "start_time": "2022-12-14T16:39:57.593849",
     "status": "completed"
    },
    "tags": []
   },
   "outputs": [],
   "source": [
    "!rm -rf kenlm\n",
    "!rm -rf 6gram.arpa\n",
    "!rm -rf text.txt\n",
    "!rm -rf 6gram_correct.arpa"
   ]
  },
  {
   "cell_type": "code",
   "execution_count": 24,
   "id": "609a2eae",
   "metadata": {
    "execution": {
     "iopub.execute_input": "2022-12-14T16:40:02.405889Z",
     "iopub.status.busy": "2022-12-14T16:40:02.405551Z",
     "iopub.status.idle": "2022-12-14T16:40:02.412923Z",
     "shell.execute_reply": "2022-12-14T16:40:02.411987Z"
    },
    "papermill": {
     "duration": 0.045126,
     "end_time": "2022-12-14T16:40:02.415018",
     "exception": false,
     "start_time": "2022-12-14T16:40:02.369892",
     "status": "completed"
    },
    "tags": []
   },
   "outputs": [
    {
     "name": "stdout",
     "output_type": "stream",
     "text": [
      "Overwriting ./wav2vec2_arpa/tokenizer_config.json\n"
     ]
    }
   ],
   "source": [
    "%%writefile ./wav2vec2_arpa/tokenizer_config.json\n",
    "{\"unk_token\": \"[UNK]\", \"bos_token\": null, \"eos_token\": null, \"pad_token\": \"[PAD]\", \"do_lower_case\": false, \"word_delimiter_token\": \"|\", \"replace_word_delimiter_char\": \" \", \"config\": null, \"tokenizer_type\": \"wav2vec2\", \"processor_class\": \"Wav2Vec2ProcessorWithLM\", \"special_tokens_map_file\": \"wav2vec2_bn/special_tokens_map.json\", \"name_or_path\": \"wav2vec2_bn\", \"tokenizer_class\": \"Wav2Vec2CTCTokenizer\"}"
   ]
  },
  {
   "cell_type": "code",
   "execution_count": 25,
   "id": "1540161f",
   "metadata": {
    "execution": {
     "iopub.execute_input": "2022-12-14T16:40:02.484510Z",
     "iopub.status.busy": "2022-12-14T16:40:02.484178Z",
     "iopub.status.idle": "2022-12-14T16:40:02.490142Z",
     "shell.execute_reply": "2022-12-14T16:40:02.489053Z"
    },
    "papermill": {
     "duration": 0.043074,
     "end_time": "2022-12-14T16:40:02.492116",
     "exception": false,
     "start_time": "2022-12-14T16:40:02.449042",
     "status": "completed"
    },
    "tags": []
   },
   "outputs": [
    {
     "name": "stdout",
     "output_type": "stream",
     "text": [
      "Overwriting ./wav2vec2_arpa/special_tokens_map.json\n"
     ]
    }
   ],
   "source": [
    "%%writefile ./wav2vec2_arpa/special_tokens_map.json\n",
    "\n",
    "{\"bos_token\": null, \"eos_token\": null, \"unk_token\": \"[UNK]\", \"pad_token\": \"[PAD]\"}"
   ]
  },
  {
   "cell_type": "code",
   "execution_count": 26,
   "id": "1b613043",
   "metadata": {
    "execution": {
     "iopub.execute_input": "2022-12-14T16:40:02.562396Z",
     "iopub.status.busy": "2022-12-14T16:40:02.561591Z",
     "iopub.status.idle": "2022-12-14T16:40:02.567600Z",
     "shell.execute_reply": "2022-12-14T16:40:02.566484Z"
    },
    "papermill": {
     "duration": 0.043262,
     "end_time": "2022-12-14T16:40:02.569569",
     "exception": false,
     "start_time": "2022-12-14T16:40:02.526307",
     "status": "completed"
    },
    "tags": []
   },
   "outputs": [
    {
     "name": "stdout",
     "output_type": "stream",
     "text": [
      "Writing ./wav2vec2_arpa/added_tokens.json\n"
     ]
    }
   ],
   "source": [
    "%%writefile ./wav2vec2_arpa/added_tokens.json\n",
    "{}"
   ]
  },
  {
   "cell_type": "code",
   "execution_count": 27,
   "id": "5b708a16",
   "metadata": {
    "execution": {
     "iopub.execute_input": "2022-12-14T16:40:02.649767Z",
     "iopub.status.busy": "2022-12-14T16:40:02.649477Z",
     "iopub.status.idle": "2022-12-14T16:40:02.655580Z",
     "shell.execute_reply": "2022-12-14T16:40:02.654610Z"
    },
    "papermill": {
     "duration": 0.051601,
     "end_time": "2022-12-14T16:40:02.657603",
     "exception": false,
     "start_time": "2022-12-14T16:40:02.606002",
     "status": "completed"
    },
    "tags": []
   },
   "outputs": [
    {
     "name": "stdout",
     "output_type": "stream",
     "text": [
      "Overwriting ./wav2vec2_arpa/alphabet.json\n"
     ]
    }
   ],
   "source": [
    "%%writefile ./wav2vec2_arpa/alphabet.json\n",
    "{\"labels\": [\"\\u0999\", \"\\u09a6\", \"\\u0990\", \"\\u09b9\", \"\\u09cc\", \"\\u0994\", \"\\u0986\", \"\\u09aa\", \"\\u0998\", \"\\u098a\", \"\\u09ad\", \"\\u09dd\", \"\\u09ac\", \"\\u09ae\", \"\\u09a8\", \"\\u09b8\", \"\\u0989\", \"\\u09a3\", \"\\u09c7\", \"\\u09c3\", \"\\u0983\", \"\\u099c\", \"\\u09bf\", \"\\u0982\", \"\\u098b\", \"\\u09c1\", \"\\u0995\", \"\\u09b7\", \"\\u09a0\", \"\\u098f\", \"\\u0987\", \"\\u09b2\", \"\\u09b6\", \"\\u09ce\", \"\\u09a2\", \"\\u0988\", \"\\u0993\", \"\\u099d\", \"\\u099e\", \"\\u09cd\", \"\\u09df\", \"\\u09a7\", \"\\u09a1\", \"\\u099f\", \"\\u099b\", \"\\u09af\", \"\\u0997\", \"\\u09be\", \"\\u09c8\", \"\\u09c0\", \"\\u0981\", \"\\u09dc\", \"\\u09cb\", \"\\u09a4\", \"\\u09a5\", \"\\u0985\", \" \", \"\\u099a\", \"\\u09c2\", \"\\u09b0\", \"\\u0996\", \"\\u09ab\", \"\\u2047\", \"\"], \"is_bpe\": false}"
   ]
  },
  {
   "cell_type": "markdown",
   "id": "8297b50b",
   "metadata": {
    "papermill": {
     "duration": 0.034698,
     "end_time": "2022-12-14T16:40:02.727161",
     "exception": false,
     "start_time": "2022-12-14T16:40:02.692463",
     "status": "completed"
    },
    "tags": []
   },
   "source": [
    "Inference part"
   ]
  },
  {
   "cell_type": "code",
   "execution_count": 28,
   "id": "435535d8",
   "metadata": {
    "execution": {
     "iopub.execute_input": "2022-12-14T16:40:02.797613Z",
     "iopub.status.busy": "2022-12-14T16:40:02.797332Z",
     "iopub.status.idle": "2022-12-14T16:40:02.801449Z",
     "shell.execute_reply": "2022-12-14T16:40:02.800501Z"
    },
    "papermill": {
     "duration": 0.042016,
     "end_time": "2022-12-14T16:40:02.803604",
     "exception": false,
     "start_time": "2022-12-14T16:40:02.761588",
     "status": "completed"
    },
    "tags": []
   },
   "outputs": [],
   "source": [
    "model_path = '/kaggle/working/wav2vec2_arpa'"
   ]
  },
  {
   "cell_type": "code",
   "execution_count": 29,
   "id": "783e601d",
   "metadata": {
    "execution": {
     "iopub.execute_input": "2022-12-14T16:40:02.872585Z",
     "iopub.status.busy": "2022-12-14T16:40:02.872315Z",
     "iopub.status.idle": "2022-12-14T16:40:47.540765Z",
     "shell.execute_reply": "2022-12-14T16:40:47.539818Z"
    },
    "papermill": {
     "duration": 44.705538,
     "end_time": "2022-12-14T16:40:47.543019",
     "exception": false,
     "start_time": "2022-12-14T16:40:02.837481",
     "status": "completed"
    },
    "tags": []
   },
   "outputs": [
    {
     "data": {
      "application/vnd.jupyter.widget-view+json": {
       "model_id": "28cfa866f1674149b468fa69b1ae931a",
       "version_major": 2,
       "version_minor": 0
      },
      "text/plain": [
       "Downloading:   0%|          | 0.00/2.01k [00:00<?, ?B/s]"
      ]
     },
     "metadata": {},
     "output_type": "display_data"
    },
    {
     "data": {
      "application/vnd.jupyter.widget-view+json": {
       "model_id": "dd86c00e50fb4899b9c3b0bf996cc897",
       "version_major": 2,
       "version_minor": 0
      },
      "text/plain": [
       "Downloading:   0%|          | 0.00/1.18G [00:00<?, ?B/s]"
      ]
     },
     "metadata": {},
     "output_type": "display_data"
    }
   ],
   "source": [
    "from transformers import Wav2Vec2CTCTokenizer,Wav2Vec2ForCTC,Wav2Vec2Processor,Wav2Vec2FeatureExtractor,Wav2Vec2ProcessorWithLM\n",
    "model = Wav2Vec2ForCTC.from_pretrained('mushrafi88/wav2vec2_xlsr_300m_bn_6gram_arpa').to(\"cuda\")\n",
    "processorlm = Wav2Vec2ProcessorWithLM.from_pretrained(model_path)\n",
    "processor = Wav2Vec2Processor.from_pretrained('mushrafi88/wav2vec2_xlsr_300m_bn_6gram_arpa')"
   ]
  },
  {
   "cell_type": "code",
   "execution_count": 30,
   "id": "41d5eaa3",
   "metadata": {
    "execution": {
     "iopub.execute_input": "2022-12-14T16:40:47.616281Z",
     "iopub.status.busy": "2022-12-14T16:40:47.615422Z",
     "iopub.status.idle": "2022-12-14T16:40:49.305330Z",
     "shell.execute_reply": "2022-12-14T16:40:49.304312Z"
    },
    "papermill": {
     "duration": 1.728637,
     "end_time": "2022-12-14T16:40:49.307691",
     "exception": false,
     "start_time": "2022-12-14T16:40:47.579054",
     "status": "completed"
    },
    "tags": []
   },
   "outputs": [],
   "source": [
    "df = pd.read_csv('/kaggle/input/dlsprint/train.csv')"
   ]
  },
  {
   "cell_type": "code",
   "execution_count": 31,
   "id": "b60434da",
   "metadata": {
    "execution": {
     "iopub.execute_input": "2022-12-14T16:40:49.379250Z",
     "iopub.status.busy": "2022-12-14T16:40:49.378939Z",
     "iopub.status.idle": "2022-12-14T16:40:49.406363Z",
     "shell.execute_reply": "2022-12-14T16:40:49.405479Z"
    },
    "papermill": {
     "duration": 0.065182,
     "end_time": "2022-12-14T16:40:49.408414",
     "exception": false,
     "start_time": "2022-12-14T16:40:49.343232",
     "status": "completed"
    },
    "tags": []
   },
   "outputs": [],
   "source": [
    "df = df[['path','sentence']]"
   ]
  },
  {
   "cell_type": "code",
   "execution_count": 32,
   "id": "70886023",
   "metadata": {
    "execution": {
     "iopub.execute_input": "2022-12-14T16:40:49.479612Z",
     "iopub.status.busy": "2022-12-14T16:40:49.479332Z",
     "iopub.status.idle": "2022-12-14T16:40:49.762914Z",
     "shell.execute_reply": "2022-12-14T16:40:49.761663Z"
    },
    "papermill": {
     "duration": 0.321924,
     "end_time": "2022-12-14T16:40:49.765552",
     "exception": false,
     "start_time": "2022-12-14T16:40:49.443628",
     "status": "completed"
    },
    "tags": []
   },
   "outputs": [],
   "source": [
    "df_duration = pd.read_csv('/kaggle/input/train-file/train_files_duration.csv')"
   ]
  },
  {
   "cell_type": "code",
   "execution_count": 33,
   "id": "edb2c6e8",
   "metadata": {
    "execution": {
     "iopub.execute_input": "2022-12-14T16:40:49.873095Z",
     "iopub.status.busy": "2022-12-14T16:40:49.872381Z",
     "iopub.status.idle": "2022-12-14T16:40:49.887597Z",
     "shell.execute_reply": "2022-12-14T16:40:49.885426Z"
    },
    "papermill": {
     "duration": 0.069672,
     "end_time": "2022-12-14T16:40:49.889589",
     "exception": false,
     "start_time": "2022-12-14T16:40:49.819917",
     "status": "completed"
    },
    "tags": []
   },
   "outputs": [
    {
     "data": {
      "text/html": [
       "<div>\n",
       "<style scoped>\n",
       "    .dataframe tbody tr th:only-of-type {\n",
       "        vertical-align: middle;\n",
       "    }\n",
       "\n",
       "    .dataframe tbody tr th {\n",
       "        vertical-align: top;\n",
       "    }\n",
       "\n",
       "    .dataframe thead th {\n",
       "        text-align: right;\n",
       "    }\n",
       "</style>\n",
       "<table border=\"1\" class=\"dataframe\">\n",
       "  <thead>\n",
       "    <tr style=\"text-align: right;\">\n",
       "      <th></th>\n",
       "      <th>path</th>\n",
       "      <th>duration</th>\n",
       "    </tr>\n",
       "  </thead>\n",
       "  <tbody>\n",
       "    <tr>\n",
       "      <th>0</th>\n",
       "      <td>common_voice_bn_30614352.mp3</td>\n",
       "      <td>00:00:04</td>\n",
       "    </tr>\n",
       "    <tr>\n",
       "      <th>1</th>\n",
       "      <td>common_voice_bn_30614357.mp3</td>\n",
       "      <td>00:00:07</td>\n",
       "    </tr>\n",
       "    <tr>\n",
       "      <th>2</th>\n",
       "      <td>common_voice_bn_30614365.mp3</td>\n",
       "      <td>00:00:05</td>\n",
       "    </tr>\n",
       "    <tr>\n",
       "      <th>3</th>\n",
       "      <td>common_voice_bn_30646492.mp3</td>\n",
       "      <td>00:00:09</td>\n",
       "    </tr>\n",
       "    <tr>\n",
       "      <th>4</th>\n",
       "      <td>common_voice_bn_30646493.mp3</td>\n",
       "      <td>00:00:07</td>\n",
       "    </tr>\n",
       "    <tr>\n",
       "      <th>...</th>\n",
       "      <td>...</td>\n",
       "      <td>...</td>\n",
       "    </tr>\n",
       "    <tr>\n",
       "      <th>206945</th>\n",
       "      <td>common_voice_bn_31832728.mp3</td>\n",
       "      <td>00:00:10</td>\n",
       "    </tr>\n",
       "    <tr>\n",
       "      <th>206946</th>\n",
       "      <td>common_voice_bn_31832729.mp3</td>\n",
       "      <td>00:00:05</td>\n",
       "    </tr>\n",
       "    <tr>\n",
       "      <th>206947</th>\n",
       "      <td>common_voice_bn_31832730.mp3</td>\n",
       "      <td>00:00:09</td>\n",
       "    </tr>\n",
       "    <tr>\n",
       "      <th>206948</th>\n",
       "      <td>common_voice_bn_31832731.mp3</td>\n",
       "      <td>00:00:04</td>\n",
       "    </tr>\n",
       "    <tr>\n",
       "      <th>206949</th>\n",
       "      <td>common_voice_bn_31832732.mp3</td>\n",
       "      <td>00:00:06</td>\n",
       "    </tr>\n",
       "  </tbody>\n",
       "</table>\n",
       "<p>206950 rows × 2 columns</p>\n",
       "</div>"
      ],
      "text/plain": [
       "                                path  duration\n",
       "0       common_voice_bn_30614352.mp3  00:00:04\n",
       "1       common_voice_bn_30614357.mp3  00:00:07\n",
       "2       common_voice_bn_30614365.mp3  00:00:05\n",
       "3       common_voice_bn_30646492.mp3  00:00:09\n",
       "4       common_voice_bn_30646493.mp3  00:00:07\n",
       "...                              ...       ...\n",
       "206945  common_voice_bn_31832728.mp3  00:00:10\n",
       "206946  common_voice_bn_31832729.mp3  00:00:05\n",
       "206947  common_voice_bn_31832730.mp3  00:00:09\n",
       "206948  common_voice_bn_31832731.mp3  00:00:04\n",
       "206949  common_voice_bn_31832732.mp3  00:00:06\n",
       "\n",
       "[206950 rows x 2 columns]"
      ]
     },
     "execution_count": 33,
     "metadata": {},
     "output_type": "execute_result"
    }
   ],
   "source": [
    "df_duration"
   ]
  },
  {
   "cell_type": "code",
   "execution_count": 34,
   "id": "afe2ddf7",
   "metadata": {
    "execution": {
     "iopub.execute_input": "2022-12-14T16:40:49.992927Z",
     "iopub.status.busy": "2022-12-14T16:40:49.992492Z",
     "iopub.status.idle": "2022-12-14T16:40:50.196876Z",
     "shell.execute_reply": "2022-12-14T16:40:50.195824Z"
    },
    "papermill": {
     "duration": 0.259886,
     "end_time": "2022-12-14T16:40:50.199637",
     "exception": false,
     "start_time": "2022-12-14T16:40:49.939751",
     "status": "completed"
    },
    "tags": []
   },
   "outputs": [],
   "source": [
    "df=df.merge(df_duration,on='path',how='inner')"
   ]
  },
  {
   "cell_type": "code",
   "execution_count": 35,
   "id": "004a18cc",
   "metadata": {
    "execution": {
     "iopub.execute_input": "2022-12-14T16:40:50.275739Z",
     "iopub.status.busy": "2022-12-14T16:40:50.274848Z",
     "iopub.status.idle": "2022-12-14T16:40:50.300164Z",
     "shell.execute_reply": "2022-12-14T16:40:50.299123Z"
    },
    "papermill": {
     "duration": 0.063885,
     "end_time": "2022-12-14T16:40:50.302459",
     "exception": false,
     "start_time": "2022-12-14T16:40:50.238574",
     "status": "completed"
    },
    "tags": []
   },
   "outputs": [
    {
     "data": {
      "text/plain": [
       "Index(['path'], dtype='object')"
      ]
     },
     "execution_count": 35,
     "metadata": {},
     "output_type": "execute_result"
    }
   ],
   "source": [
    "df_denoised = pd.read_csv('/kaggle/input/denoiser-for-benchmark/df_train_files_10k.csv')\n",
    "df_denoised = df_denoised.drop('Unnamed: 0',axis=1)\n",
    "df_denoised.columns"
   ]
  },
  {
   "cell_type": "code",
   "execution_count": 36,
   "id": "073fd2ec",
   "metadata": {
    "execution": {
     "iopub.execute_input": "2022-12-14T16:40:50.374110Z",
     "iopub.status.busy": "2022-12-14T16:40:50.373813Z",
     "iopub.status.idle": "2022-12-14T16:40:50.384169Z",
     "shell.execute_reply": "2022-12-14T16:40:50.383150Z"
    },
    "papermill": {
     "duration": 0.048124,
     "end_time": "2022-12-14T16:40:50.386352",
     "exception": false,
     "start_time": "2022-12-14T16:40:50.338228",
     "status": "completed"
    },
    "tags": []
   },
   "outputs": [
    {
     "data": {
      "text/html": [
       "<div>\n",
       "<style scoped>\n",
       "    .dataframe tbody tr th:only-of-type {\n",
       "        vertical-align: middle;\n",
       "    }\n",
       "\n",
       "    .dataframe tbody tr th {\n",
       "        vertical-align: top;\n",
       "    }\n",
       "\n",
       "    .dataframe thead th {\n",
       "        text-align: right;\n",
       "    }\n",
       "</style>\n",
       "<table border=\"1\" class=\"dataframe\">\n",
       "  <thead>\n",
       "    <tr style=\"text-align: right;\">\n",
       "      <th></th>\n",
       "      <th>path</th>\n",
       "    </tr>\n",
       "  </thead>\n",
       "  <tbody>\n",
       "    <tr>\n",
       "      <th>0</th>\n",
       "      <td>common_voice_bn_31786865.mp3</td>\n",
       "    </tr>\n",
       "    <tr>\n",
       "      <th>1</th>\n",
       "      <td>common_voice_bn_31546487.mp3</td>\n",
       "    </tr>\n",
       "    <tr>\n",
       "      <th>2</th>\n",
       "      <td>common_voice_bn_31693875.mp3</td>\n",
       "    </tr>\n",
       "    <tr>\n",
       "      <th>3</th>\n",
       "      <td>common_voice_bn_31630968.mp3</td>\n",
       "    </tr>\n",
       "    <tr>\n",
       "      <th>4</th>\n",
       "      <td>common_voice_bn_31786480.mp3</td>\n",
       "    </tr>\n",
       "    <tr>\n",
       "      <th>...</th>\n",
       "      <td>...</td>\n",
       "    </tr>\n",
       "    <tr>\n",
       "      <th>9995</th>\n",
       "      <td>common_voice_bn_31755897.mp3</td>\n",
       "    </tr>\n",
       "    <tr>\n",
       "      <th>9996</th>\n",
       "      <td>common_voice_bn_31697476.mp3</td>\n",
       "    </tr>\n",
       "    <tr>\n",
       "      <th>9997</th>\n",
       "      <td>common_voice_bn_31508854.mp3</td>\n",
       "    </tr>\n",
       "    <tr>\n",
       "      <th>9998</th>\n",
       "      <td>common_voice_bn_31623563.mp3</td>\n",
       "    </tr>\n",
       "    <tr>\n",
       "      <th>9999</th>\n",
       "      <td>common_voice_bn_30997496.mp3</td>\n",
       "    </tr>\n",
       "  </tbody>\n",
       "</table>\n",
       "<p>10000 rows × 1 columns</p>\n",
       "</div>"
      ],
      "text/plain": [
       "                              path\n",
       "0     common_voice_bn_31786865.mp3\n",
       "1     common_voice_bn_31546487.mp3\n",
       "2     common_voice_bn_31693875.mp3\n",
       "3     common_voice_bn_31630968.mp3\n",
       "4     common_voice_bn_31786480.mp3\n",
       "...                            ...\n",
       "9995  common_voice_bn_31755897.mp3\n",
       "9996  common_voice_bn_31697476.mp3\n",
       "9997  common_voice_bn_31508854.mp3\n",
       "9998  common_voice_bn_31623563.mp3\n",
       "9999  common_voice_bn_30997496.mp3\n",
       "\n",
       "[10000 rows x 1 columns]"
      ]
     },
     "execution_count": 36,
     "metadata": {},
     "output_type": "execute_result"
    }
   ],
   "source": [
    "df_denoised"
   ]
  },
  {
   "cell_type": "code",
   "execution_count": 37,
   "id": "6eed418e",
   "metadata": {
    "execution": {
     "iopub.execute_input": "2022-12-14T16:40:50.458231Z",
     "iopub.status.busy": "2022-12-14T16:40:50.457954Z",
     "iopub.status.idle": "2022-12-14T16:40:50.470193Z",
     "shell.execute_reply": "2022-12-14T16:40:50.469170Z"
    },
    "papermill": {
     "duration": 0.050873,
     "end_time": "2022-12-14T16:40:50.473179",
     "exception": false,
     "start_time": "2022-12-14T16:40:50.422306",
     "status": "completed"
    },
    "tags": []
   },
   "outputs": [
    {
     "data": {
      "text/html": [
       "<div>\n",
       "<style scoped>\n",
       "    .dataframe tbody tr th:only-of-type {\n",
       "        vertical-align: middle;\n",
       "    }\n",
       "\n",
       "    .dataframe tbody tr th {\n",
       "        vertical-align: top;\n",
       "    }\n",
       "\n",
       "    .dataframe thead th {\n",
       "        text-align: right;\n",
       "    }\n",
       "</style>\n",
       "<table border=\"1\" class=\"dataframe\">\n",
       "  <thead>\n",
       "    <tr style=\"text-align: right;\">\n",
       "      <th></th>\n",
       "      <th>path</th>\n",
       "      <th>sentence</th>\n",
       "      <th>duration</th>\n",
       "    </tr>\n",
       "  </thead>\n",
       "  <tbody>\n",
       "    <tr>\n",
       "      <th>0</th>\n",
       "      <td>common_voice_bn_30991326.mp3</td>\n",
       "      <td>বাবা সত্যেন ঘোষ।</td>\n",
       "      <td>00:00:03</td>\n",
       "    </tr>\n",
       "    <tr>\n",
       "      <th>1</th>\n",
       "      <td>common_voice_bn_30991371.mp3</td>\n",
       "      <td>দেওয়ান ফরিদ গাজী বাংলাদেশ আওয়ামী লীগের উপদেষ...</td>\n",
       "      <td>00:00:06</td>\n",
       "    </tr>\n",
       "    <tr>\n",
       "      <th>2</th>\n",
       "      <td>common_voice_bn_30991410.mp3</td>\n",
       "      <td>এর মাধ্যমে কারও গান গাওয়া দক্ষতা বা নিজস্ব ধর...</td>\n",
       "      <td>00:00:06</td>\n",
       "    </tr>\n",
       "    <tr>\n",
       "      <th>3</th>\n",
       "      <td>common_voice_bn_30991432.mp3</td>\n",
       "      <td>আপনি খুব একটা কথা বলার লোক নন, তাই না?</td>\n",
       "      <td>00:00:04</td>\n",
       "    </tr>\n",
       "    <tr>\n",
       "      <th>4</th>\n",
       "      <td>common_voice_bn_30991478.mp3</td>\n",
       "      <td>আপনি খুব একটা কথা বলার লোক নন, তাই না?</td>\n",
       "      <td>00:00:04</td>\n",
       "    </tr>\n",
       "    <tr>\n",
       "      <th>...</th>\n",
       "      <td>...</td>\n",
       "      <td>...</td>\n",
       "      <td>...</td>\n",
       "    </tr>\n",
       "    <tr>\n",
       "      <th>206945</th>\n",
       "      <td>common_voice_bn_31802418.mp3</td>\n",
       "      <td>রাণীগঞ্জ মূলত এখানকার কয়লা খনি এবং খনিজ সংক্র...</td>\n",
       "      <td>00:00:07</td>\n",
       "    </tr>\n",
       "    <tr>\n",
       "      <th>206946</th>\n",
       "      <td>common_voice_bn_31802540.mp3</td>\n",
       "      <td>ওহাইও নদীর মুখোমুখি অবস্থিত, কারখানাটি লম্বা এ...</td>\n",
       "      <td>00:00:07</td>\n",
       "    </tr>\n",
       "    <tr>\n",
       "      <th>206947</th>\n",
       "      <td>common_voice_bn_31802606.mp3</td>\n",
       "      <td>উল্লেখ্য যে, আইন অমান্য আন্দোলনে বাংলার মুসলমা...</td>\n",
       "      <td>00:00:07</td>\n",
       "    </tr>\n",
       "    <tr>\n",
       "      <th>206948</th>\n",
       "      <td>common_voice_bn_31815460.mp3</td>\n",
       "      <td>তিনি রাজস্থানের প্রতাপগড় জেলা থেকে রাজস্থান ব...</td>\n",
       "      <td>00:00:05</td>\n",
       "    </tr>\n",
       "    <tr>\n",
       "      <th>206949</th>\n",
       "      <td>common_voice_bn_31831275.mp3</td>\n",
       "      <td>ইয়েল ইউনিভার্সিটি, অন্য সংবাদপত্রের সাথে যোগা...</td>\n",
       "      <td>00:00:09</td>\n",
       "    </tr>\n",
       "  </tbody>\n",
       "</table>\n",
       "<p>206950 rows × 3 columns</p>\n",
       "</div>"
      ],
      "text/plain": [
       "                                path  \\\n",
       "0       common_voice_bn_30991326.mp3   \n",
       "1       common_voice_bn_30991371.mp3   \n",
       "2       common_voice_bn_30991410.mp3   \n",
       "3       common_voice_bn_30991432.mp3   \n",
       "4       common_voice_bn_30991478.mp3   \n",
       "...                              ...   \n",
       "206945  common_voice_bn_31802418.mp3   \n",
       "206946  common_voice_bn_31802540.mp3   \n",
       "206947  common_voice_bn_31802606.mp3   \n",
       "206948  common_voice_bn_31815460.mp3   \n",
       "206949  common_voice_bn_31831275.mp3   \n",
       "\n",
       "                                                 sentence  duration  \n",
       "0                                        বাবা সত্যেন ঘোষ।  00:00:03  \n",
       "1       দেওয়ান ফরিদ গাজী বাংলাদেশ আওয়ামী লীগের উপদেষ...  00:00:06  \n",
       "2       এর মাধ্যমে কারও গান গাওয়া দক্ষতা বা নিজস্ব ধর...  00:00:06  \n",
       "3                  আপনি খুব একটা কথা বলার লোক নন, তাই না?  00:00:04  \n",
       "4                  আপনি খুব একটা কথা বলার লোক নন, তাই না?  00:00:04  \n",
       "...                                                   ...       ...  \n",
       "206945  রাণীগঞ্জ মূলত এখানকার কয়লা খনি এবং খনিজ সংক্র...  00:00:07  \n",
       "206946  ওহাইও নদীর মুখোমুখি অবস্থিত, কারখানাটি লম্বা এ...  00:00:07  \n",
       "206947  উল্লেখ্য যে, আইন অমান্য আন্দোলনে বাংলার মুসলমা...  00:00:07  \n",
       "206948  তিনি রাজস্থানের প্রতাপগড় জেলা থেকে রাজস্থান ব...  00:00:05  \n",
       "206949  ইয়েল ইউনিভার্সিটি, অন্য সংবাদপত্রের সাথে যোগা...  00:00:09  \n",
       "\n",
       "[206950 rows x 3 columns]"
      ]
     },
     "execution_count": 37,
     "metadata": {},
     "output_type": "execute_result"
    }
   ],
   "source": [
    "df"
   ]
  },
  {
   "cell_type": "code",
   "execution_count": 38,
   "id": "0fee1efa",
   "metadata": {
    "execution": {
     "iopub.execute_input": "2022-12-14T16:40:50.546551Z",
     "iopub.status.busy": "2022-12-14T16:40:50.546237Z",
     "iopub.status.idle": "2022-12-14T16:40:50.730818Z",
     "shell.execute_reply": "2022-12-14T16:40:50.729828Z"
    },
    "papermill": {
     "duration": 0.223113,
     "end_time": "2022-12-14T16:40:50.733280",
     "exception": false,
     "start_time": "2022-12-14T16:40:50.510167",
     "status": "completed"
    },
    "tags": []
   },
   "outputs": [],
   "source": [
    "df = df.merge(df_denoised, how='outer', indicator=True).query('_merge == \"left_only\"').drop('_merge', 1)"
   ]
  },
  {
   "cell_type": "code",
   "execution_count": 39,
   "id": "72bd7d39",
   "metadata": {
    "execution": {
     "iopub.execute_input": "2022-12-14T16:40:50.807166Z",
     "iopub.status.busy": "2022-12-14T16:40:50.806843Z",
     "iopub.status.idle": "2022-12-14T16:40:50.839610Z",
     "shell.execute_reply": "2022-12-14T16:40:50.838631Z"
    },
    "papermill": {
     "duration": 0.071657,
     "end_time": "2022-12-14T16:40:50.841888",
     "exception": false,
     "start_time": "2022-12-14T16:40:50.770231",
     "status": "completed"
    },
    "tags": []
   },
   "outputs": [],
   "source": [
    "df['path'] = '/kaggle/input/dlsprint/train_files/' + df['path']"
   ]
  },
  {
   "cell_type": "code",
   "execution_count": 40,
   "id": "83085ba8",
   "metadata": {
    "execution": {
     "iopub.execute_input": "2022-12-14T16:40:50.914281Z",
     "iopub.status.busy": "2022-12-14T16:40:50.913947Z",
     "iopub.status.idle": "2022-12-14T16:40:50.923837Z",
     "shell.execute_reply": "2022-12-14T16:40:50.922787Z"
    },
    "papermill": {
     "duration": 0.048357,
     "end_time": "2022-12-14T16:40:50.925993",
     "exception": false,
     "start_time": "2022-12-14T16:40:50.877636",
     "status": "completed"
    },
    "tags": []
   },
   "outputs": [
    {
     "data": {
      "text/plain": [
       "'/kaggle/input/dlsprint/train_files/common_voice_bn_30991326.mp3'"
      ]
     },
     "execution_count": 40,
     "metadata": {},
     "output_type": "execute_result"
    }
   ],
   "source": [
    "df['path'][0]"
   ]
  },
  {
   "cell_type": "code",
   "execution_count": 41,
   "id": "923123a1",
   "metadata": {
    "execution": {
     "iopub.execute_input": "2022-12-14T16:40:50.997666Z",
     "iopub.status.busy": "2022-12-14T16:40:50.997392Z",
     "iopub.status.idle": "2022-12-14T16:40:51.106368Z",
     "shell.execute_reply": "2022-12-14T16:40:51.105413Z"
    },
    "papermill": {
     "duration": 0.147281,
     "end_time": "2022-12-14T16:40:51.108642",
     "exception": false,
     "start_time": "2022-12-14T16:40:50.961361",
     "status": "completed"
    },
    "tags": []
   },
   "outputs": [],
   "source": [
    "df['duration'] = df.duration.apply(lambda x: int(x[-1:]))"
   ]
  },
  {
   "cell_type": "code",
   "execution_count": 42,
   "id": "4653f61e",
   "metadata": {
    "execution": {
     "iopub.execute_input": "2022-12-14T16:40:51.181080Z",
     "iopub.status.busy": "2022-12-14T16:40:51.180770Z",
     "iopub.status.idle": "2022-12-14T16:40:51.190055Z",
     "shell.execute_reply": "2022-12-14T16:40:51.189037Z"
    },
    "papermill": {
     "duration": 0.048461,
     "end_time": "2022-12-14T16:40:51.193087",
     "exception": false,
     "start_time": "2022-12-14T16:40:51.144626",
     "status": "completed"
    },
    "tags": []
   },
   "outputs": [
    {
     "data": {
      "text/plain": [
       "5    39733\n",
       "4    36451\n",
       "6    32104\n",
       "7    26370\n",
       "8    18693\n",
       "3    18682\n",
       "9    14645\n",
       "0     5768\n",
       "2     4209\n",
       "1      295\n",
       "Name: duration, dtype: int64"
      ]
     },
     "execution_count": 42,
     "metadata": {},
     "output_type": "execute_result"
    }
   ],
   "source": [
    "df.duration.value_counts()"
   ]
  },
  {
   "cell_type": "code",
   "execution_count": 43,
   "id": "ef1358db",
   "metadata": {
    "execution": {
     "iopub.execute_input": "2022-12-14T16:40:51.265144Z",
     "iopub.status.busy": "2022-12-14T16:40:51.264860Z",
     "iopub.status.idle": "2022-12-14T16:40:51.283737Z",
     "shell.execute_reply": "2022-12-14T16:40:51.282834Z"
    },
    "papermill": {
     "duration": 0.057512,
     "end_time": "2022-12-14T16:40:51.285817",
     "exception": false,
     "start_time": "2022-12-14T16:40:51.228305",
     "status": "completed"
    },
    "tags": []
   },
   "outputs": [],
   "source": [
    "df = df[(df.duration != 4) & (df.duration >=2)]"
   ]
  },
  {
   "cell_type": "code",
   "execution_count": 44,
   "id": "94e4cbab",
   "metadata": {
    "execution": {
     "iopub.execute_input": "2022-12-14T16:40:51.357957Z",
     "iopub.status.busy": "2022-12-14T16:40:51.357665Z",
     "iopub.status.idle": "2022-12-14T16:40:51.373001Z",
     "shell.execute_reply": "2022-12-14T16:40:51.372125Z"
    },
    "papermill": {
     "duration": 0.053645,
     "end_time": "2022-12-14T16:40:51.375171",
     "exception": false,
     "start_time": "2022-12-14T16:40:51.321526",
     "status": "completed"
    },
    "tags": []
   },
   "outputs": [],
   "source": [
    "df = df[(df.duration > 5)]"
   ]
  },
  {
   "cell_type": "code",
   "execution_count": 45,
   "id": "8b598994",
   "metadata": {
    "execution": {
     "iopub.execute_input": "2022-12-14T16:40:51.452411Z",
     "iopub.status.busy": "2022-12-14T16:40:51.452106Z",
     "iopub.status.idle": "2022-12-14T16:40:51.464184Z",
     "shell.execute_reply": "2022-12-14T16:40:51.463171Z"
    },
    "papermill": {
     "duration": 0.051365,
     "end_time": "2022-12-14T16:40:51.467245",
     "exception": false,
     "start_time": "2022-12-14T16:40:51.415880",
     "status": "completed"
    },
    "tags": []
   },
   "outputs": [
    {
     "data": {
      "text/html": [
       "<div>\n",
       "<style scoped>\n",
       "    .dataframe tbody tr th:only-of-type {\n",
       "        vertical-align: middle;\n",
       "    }\n",
       "\n",
       "    .dataframe tbody tr th {\n",
       "        vertical-align: top;\n",
       "    }\n",
       "\n",
       "    .dataframe thead th {\n",
       "        text-align: right;\n",
       "    }\n",
       "</style>\n",
       "<table border=\"1\" class=\"dataframe\">\n",
       "  <thead>\n",
       "    <tr style=\"text-align: right;\">\n",
       "      <th></th>\n",
       "      <th>path</th>\n",
       "      <th>sentence</th>\n",
       "      <th>duration</th>\n",
       "    </tr>\n",
       "  </thead>\n",
       "  <tbody>\n",
       "    <tr>\n",
       "      <th>1</th>\n",
       "      <td>/kaggle/input/dlsprint/train_files/common_voic...</td>\n",
       "      <td>দেওয়ান ফরিদ গাজী বাংলাদেশ আওয়ামী লীগের উপদেষ...</td>\n",
       "      <td>6</td>\n",
       "    </tr>\n",
       "    <tr>\n",
       "      <th>2</th>\n",
       "      <td>/kaggle/input/dlsprint/train_files/common_voic...</td>\n",
       "      <td>এর মাধ্যমে কারও গান গাওয়া দক্ষতা বা নিজস্ব ধর...</td>\n",
       "      <td>6</td>\n",
       "    </tr>\n",
       "    <tr>\n",
       "      <th>7</th>\n",
       "      <td>/kaggle/input/dlsprint/train_files/common_voic...</td>\n",
       "      <td>ডিজিটাল বিশ্বে তথ্য অন্য যে কোনও ডিজিটাল ফাইলে...</td>\n",
       "      <td>6</td>\n",
       "    </tr>\n",
       "    <tr>\n",
       "      <th>10</th>\n",
       "      <td>/kaggle/input/dlsprint/train_files/common_voic...</td>\n",
       "      <td>হিসাব পাওয়ার পর তিনি স্বল্প সময়ের মধ্যেই সম্...</td>\n",
       "      <td>6</td>\n",
       "    </tr>\n",
       "    <tr>\n",
       "      <th>17</th>\n",
       "      <td>/kaggle/input/dlsprint/train_files/common_voic...</td>\n",
       "      <td>নদীর পানিতে বয়ে আসা পলি তলদেশে জমে মাঝেমধ্যে ...</td>\n",
       "      <td>7</td>\n",
       "    </tr>\n",
       "    <tr>\n",
       "      <th>...</th>\n",
       "      <td>...</td>\n",
       "      <td>...</td>\n",
       "      <td>...</td>\n",
       "    </tr>\n",
       "    <tr>\n",
       "      <th>206944</th>\n",
       "      <td>/kaggle/input/dlsprint/train_files/common_voic...</td>\n",
       "      <td>কিছু দিনের মধ্যেই দীউয়ান মুর্শিদকুলী খানের না...</td>\n",
       "      <td>9</td>\n",
       "    </tr>\n",
       "    <tr>\n",
       "      <th>206945</th>\n",
       "      <td>/kaggle/input/dlsprint/train_files/common_voic...</td>\n",
       "      <td>রাণীগঞ্জ মূলত এখানকার কয়লা খনি এবং খনিজ সংক্র...</td>\n",
       "      <td>7</td>\n",
       "    </tr>\n",
       "    <tr>\n",
       "      <th>206946</th>\n",
       "      <td>/kaggle/input/dlsprint/train_files/common_voic...</td>\n",
       "      <td>ওহাইও নদীর মুখোমুখি অবস্থিত, কারখানাটি লম্বা এ...</td>\n",
       "      <td>7</td>\n",
       "    </tr>\n",
       "    <tr>\n",
       "      <th>206947</th>\n",
       "      <td>/kaggle/input/dlsprint/train_files/common_voic...</td>\n",
       "      <td>উল্লেখ্য যে, আইন অমান্য আন্দোলনে বাংলার মুসলমা...</td>\n",
       "      <td>7</td>\n",
       "    </tr>\n",
       "    <tr>\n",
       "      <th>206949</th>\n",
       "      <td>/kaggle/input/dlsprint/train_files/common_voic...</td>\n",
       "      <td>ইয়েল ইউনিভার্সিটি, অন্য সংবাদপত্রের সাথে যোগা...</td>\n",
       "      <td>9</td>\n",
       "    </tr>\n",
       "  </tbody>\n",
       "</table>\n",
       "<p>91812 rows × 3 columns</p>\n",
       "</div>"
      ],
      "text/plain": [
       "                                                     path  \\\n",
       "1       /kaggle/input/dlsprint/train_files/common_voic...   \n",
       "2       /kaggle/input/dlsprint/train_files/common_voic...   \n",
       "7       /kaggle/input/dlsprint/train_files/common_voic...   \n",
       "10      /kaggle/input/dlsprint/train_files/common_voic...   \n",
       "17      /kaggle/input/dlsprint/train_files/common_voic...   \n",
       "...                                                   ...   \n",
       "206944  /kaggle/input/dlsprint/train_files/common_voic...   \n",
       "206945  /kaggle/input/dlsprint/train_files/common_voic...   \n",
       "206946  /kaggle/input/dlsprint/train_files/common_voic...   \n",
       "206947  /kaggle/input/dlsprint/train_files/common_voic...   \n",
       "206949  /kaggle/input/dlsprint/train_files/common_voic...   \n",
       "\n",
       "                                                 sentence  duration  \n",
       "1       দেওয়ান ফরিদ গাজী বাংলাদেশ আওয়ামী লীগের উপদেষ...         6  \n",
       "2       এর মাধ্যমে কারও গান গাওয়া দক্ষতা বা নিজস্ব ধর...         6  \n",
       "7       ডিজিটাল বিশ্বে তথ্য অন্য যে কোনও ডিজিটাল ফাইলে...         6  \n",
       "10      হিসাব পাওয়ার পর তিনি স্বল্প সময়ের মধ্যেই সম্...         6  \n",
       "17      নদীর পানিতে বয়ে আসা পলি তলদেশে জমে মাঝেমধ্যে ...         7  \n",
       "...                                                   ...       ...  \n",
       "206944  কিছু দিনের মধ্যেই দীউয়ান মুর্শিদকুলী খানের না...         9  \n",
       "206945  রাণীগঞ্জ মূলত এখানকার কয়লা খনি এবং খনিজ সংক্র...         7  \n",
       "206946  ওহাইও নদীর মুখোমুখি অবস্থিত, কারখানাটি লম্বা এ...         7  \n",
       "206947  উল্লেখ্য যে, আইন অমান্য আন্দোলনে বাংলার মুসলমা...         7  \n",
       "206949  ইয়েল ইউনিভার্সিটি, অন্য সংবাদপত্রের সাথে যোগা...         9  \n",
       "\n",
       "[91812 rows x 3 columns]"
      ]
     },
     "execution_count": 45,
     "metadata": {},
     "output_type": "execute_result"
    }
   ],
   "source": [
    "df"
   ]
  },
  {
   "cell_type": "code",
   "execution_count": 46,
   "id": "e009e5cd",
   "metadata": {
    "execution": {
     "iopub.execute_input": "2022-12-14T16:40:51.540286Z",
     "iopub.status.busy": "2022-12-14T16:40:51.539999Z",
     "iopub.status.idle": "2022-12-14T16:40:51.660066Z",
     "shell.execute_reply": "2022-12-14T16:40:51.659121Z"
    },
    "papermill": {
     "duration": 0.158773,
     "end_time": "2022-12-14T16:40:51.662297",
     "exception": false,
     "start_time": "2022-12-14T16:40:51.503524",
     "status": "completed"
    },
    "tags": []
   },
   "outputs": [],
   "source": [
    "submission = Dataset.from_pandas(df)"
   ]
  },
  {
   "cell_type": "code",
   "execution_count": 47,
   "id": "2565cded",
   "metadata": {
    "execution": {
     "iopub.execute_input": "2022-12-14T16:40:51.736335Z",
     "iopub.status.busy": "2022-12-14T16:40:51.736004Z",
     "iopub.status.idle": "2022-12-14T16:40:52.823425Z",
     "shell.execute_reply": "2022-12-14T16:40:52.822024Z"
    },
    "papermill": {
     "duration": 1.126935,
     "end_time": "2022-12-14T16:40:52.825907",
     "exception": false,
     "start_time": "2022-12-14T16:40:51.698972",
     "status": "completed"
    },
    "tags": []
   },
   "outputs": [],
   "source": [
    "!mkdir /kaggle/tmp"
   ]
  },
  {
   "cell_type": "code",
   "execution_count": 48,
   "id": "4b1b3c05",
   "metadata": {
    "execution": {
     "iopub.execute_input": "2022-12-14T16:40:52.902729Z",
     "iopub.status.busy": "2022-12-14T16:40:52.902374Z",
     "iopub.status.idle": "2022-12-14T16:40:52.948795Z",
     "shell.execute_reply": "2022-12-14T16:40:52.947880Z"
    },
    "papermill": {
     "duration": 0.087592,
     "end_time": "2022-12-14T16:40:52.951013",
     "exception": false,
     "start_time": "2022-12-14T16:40:52.863421",
     "status": "completed"
    },
    "tags": []
   },
   "outputs": [],
   "source": [
    "submission.save_to_disk('/kaggle/tmp')\n",
    "submission = submission.cast_column(\"path\", Audio(sampling_rate=16_000))\n",
    "submission.cleanup_cache_files()\n",
    "result=[]"
   ]
  },
  {
   "cell_type": "code",
   "execution_count": 49,
   "id": "3b7be7de",
   "metadata": {
    "execution": {
     "iopub.execute_input": "2022-12-14T16:40:53.023860Z",
     "iopub.status.busy": "2022-12-14T16:40:53.023050Z",
     "iopub.status.idle": "2022-12-14T16:40:53.029709Z",
     "shell.execute_reply": "2022-12-14T16:40:53.028734Z"
    },
    "papermill": {
     "duration": 0.045014,
     "end_time": "2022-12-14T16:40:53.031822",
     "exception": false,
     "start_time": "2022-12-14T16:40:52.986808",
     "status": "completed"
    },
    "tags": []
   },
   "outputs": [
    {
     "data": {
      "text/plain": [
       "Dataset({\n",
       "    features: ['path', 'sentence', 'duration', '__index_level_0__'],\n",
       "    num_rows: 91812\n",
       "})"
      ]
     },
     "execution_count": 49,
     "metadata": {},
     "output_type": "execute_result"
    }
   ],
   "source": [
    "submission"
   ]
  },
  {
   "cell_type": "code",
   "execution_count": 50,
   "id": "20bfb26e",
   "metadata": {
    "execution": {
     "iopub.execute_input": "2022-12-14T16:40:53.104635Z",
     "iopub.status.busy": "2022-12-14T16:40:53.103849Z",
     "iopub.status.idle": "2022-12-14T22:08:47.817652Z",
     "shell.execute_reply": "2022-12-14T22:08:47.815888Z"
    },
    "papermill": {
     "duration": 19674.754318,
     "end_time": "2022-12-14T22:08:47.821666",
     "exception": false,
     "start_time": "2022-12-14T16:40:53.067348",
     "status": "completed"
    },
    "tags": []
   },
   "outputs": [
    {
     "name": "stderr",
     "output_type": "stream",
     "text": [
      "100%|██████████| 41000/41000 [5:27:54<00:00,  2.08it/s]\n"
     ]
    }
   ],
   "source": [
    "# edit dic and save file name \n",
    "df_tmp = pd.DataFrame()\n",
    "\n",
    "for i in tqdm(range(50000,91000)):\n",
    "    inputs = processor(submission[i][\"path\"][\"array\"], sampling_rate=16_000, return_tensors=\"pt\").to(\"cuda\")\n",
    "    \n",
    "    with torch.no_grad():\n",
    "        logits = model(**inputs).logits\n",
    "        transcription = processorlm.batch_decode(logits.cpu().numpy()).text\n",
    "        \n",
    "        pred_ids = torch.argmax(logits, dim=-1)[0]\n",
    "\n",
    "        dic={ 'path':submission[i]['path']['path'],'wav2vec2': processor.decode(pred_ids) ,'4gram': transcription[0]}\n",
    "        df_tmp=df_tmp.append(dic,ignore_index=True)\n",
    "        torch.cuda.empty_cache()\n",
    "#df = df.merge(df_tmp,how='inner',on='path')"
   ]
  },
  {
   "cell_type": "code",
   "execution_count": 51,
   "id": "9abfaa23",
   "metadata": {
    "execution": {
     "iopub.execute_input": "2022-12-14T22:08:52.389639Z",
     "iopub.status.busy": "2022-12-14T22:08:52.388342Z",
     "iopub.status.idle": "2022-12-14T22:08:52.405827Z",
     "shell.execute_reply": "2022-12-14T22:08:52.404747Z"
    },
    "papermill": {
     "duration": 2.245173,
     "end_time": "2022-12-14T22:08:52.407788",
     "exception": false,
     "start_time": "2022-12-14T22:08:50.162615",
     "status": "completed"
    },
    "tags": []
   },
   "outputs": [
    {
     "data": {
      "text/html": [
       "<div>\n",
       "<style scoped>\n",
       "    .dataframe tbody tr th:only-of-type {\n",
       "        vertical-align: middle;\n",
       "    }\n",
       "\n",
       "    .dataframe tbody tr th {\n",
       "        vertical-align: top;\n",
       "    }\n",
       "\n",
       "    .dataframe thead th {\n",
       "        text-align: right;\n",
       "    }\n",
       "</style>\n",
       "<table border=\"1\" class=\"dataframe\">\n",
       "  <thead>\n",
       "    <tr style=\"text-align: right;\">\n",
       "      <th></th>\n",
       "      <th>path</th>\n",
       "      <th>wav2vec2</th>\n",
       "      <th>4gram</th>\n",
       "    </tr>\n",
       "  </thead>\n",
       "  <tbody>\n",
       "    <tr>\n",
       "      <th>0</th>\n",
       "      <td>/kaggle/input/dlsprint/train_files/common_voic...</td>\n",
       "      <td>নিউগলিার ফিশন এবং প্লাজনপত্তবিজ্ঞানের গবেষণে ক...</td>\n",
       "      <td>নিউক্লিয়ার ফিশন এবং ক্লাস নকততবিজ্ঞানের গবেষণা...</td>\n",
       "    </tr>\n",
       "    <tr>\n",
       "      <th>1</th>\n",
       "      <td>/kaggle/input/dlsprint/train_files/common_voic...</td>\n",
       "      <td>ভিক্টোরিয়া পশ্চিম অস্ট্রেলিয়া ও দক্ষিণ অস্ট্রে...</td>\n",
       "      <td>ভিক্টোরিয়া পশ্চিম অস্ট্রেলিয়া ও দক্ষিণ অস্ট্রে...</td>\n",
       "    </tr>\n",
       "    <tr>\n",
       "      <th>2</th>\n",
       "      <td>/kaggle/input/dlsprint/train_files/common_voic...</td>\n",
       "      <td>দুই দিন পর সারা দলের পক্ষে লিস্টেক ক্রিকেটের অ...</td>\n",
       "      <td>দুই দিন পর সারা দলের পক্ষে লিস্টে ক্রিকেটের অভ...</td>\n",
       "    </tr>\n",
       "    <tr>\n",
       "      <th>3</th>\n",
       "      <td>/kaggle/input/dlsprint/train_files/common_voic...</td>\n",
       "      <td>এটি পূর্ববর্তীর দূটার জেলা থেকে ঐই অঞ্চলের মাস...</td>\n",
       "      <td>এটি পূর্ববর্তী দুটা জেলা থেকে ওই অঞ্চলের মাসের...</td>\n",
       "    </tr>\n",
       "    <tr>\n",
       "      <th>4</th>\n",
       "      <td>/kaggle/input/dlsprint/train_files/common_voic...</td>\n",
       "      <td>এর মধ্যে রয়েছে তাদের পেশাদারদের সাথে যোগাযোগ ক...</td>\n",
       "      <td>এর মধ্যে রয়েছে তাদের পেশাদারদের সাথে যোগাযোগ ক...</td>\n",
       "    </tr>\n",
       "    <tr>\n",
       "      <th>...</th>\n",
       "      <td>...</td>\n",
       "      <td>...</td>\n",
       "      <td>...</td>\n",
       "    </tr>\n",
       "    <tr>\n",
       "      <th>40995</th>\n",
       "      <td>/kaggle/input/dlsprint/train_files/common_voic...</td>\n",
       "      <td>তিনি রাষ্ট্রবিজ্ঞান ও সমাজবিজ্ঞান বিষয়ে অসংখ্য...</td>\n",
       "      <td>তিনি রাষ্ট্রবিজ্ঞান ও সমাজবিজ্ঞান বিষয়ে অসংখ্য...</td>\n",
       "    </tr>\n",
       "    <tr>\n",
       "      <th>40996</th>\n",
       "      <td>/kaggle/input/dlsprint/train_files/common_voic...</td>\n",
       "      <td>গানটি লিখেছেন প্রিয় চট্টপাধ্যায় এবং সুর করেছেন...</td>\n",
       "      <td>গানটি লিখেছেন প্রিয় চট্টোপাধ্যায় এবং সুর করেছে...</td>\n",
       "    </tr>\n",
       "    <tr>\n",
       "      <th>40997</th>\n",
       "      <td>/kaggle/input/dlsprint/train_files/common_voic...</td>\n",
       "      <td>পাকিস্তানিদের কমান্ড স্টাইলের প্রচণ্ড আক্রমণে ...</td>\n",
       "      <td>পাকিস্তানিদের কমান্ড স্টাইলের প্রচণ্ড আক্রমণে ...</td>\n",
       "    </tr>\n",
       "    <tr>\n",
       "      <th>40998</th>\n",
       "      <td>/kaggle/input/dlsprint/train_files/common_voic...</td>\n",
       "      <td>এই ছায়াছবির জন্য তিনি মেরিল প্রথম ালো পুরস্কার...</td>\n",
       "      <td>এই ছায়াছবির জন্য তিনি মেরিল প্রথম আলো পুরস্কার...</td>\n",
       "    </tr>\n",
       "    <tr>\n",
       "      <th>40999</th>\n",
       "      <td>/kaggle/input/dlsprint/train_files/common_voic...</td>\n",
       "      <td>তার বিহিন অথবাদ তার যুক্ত দুই মাধ্যমেই ডিজিটাল...</td>\n",
       "      <td>তার বিহীন অথবা তার যুক্ত দুই মাধ্যমেই ডিজিটাল ...</td>\n",
       "    </tr>\n",
       "  </tbody>\n",
       "</table>\n",
       "<p>41000 rows × 3 columns</p>\n",
       "</div>"
      ],
      "text/plain": [
       "                                                    path  \\\n",
       "0      /kaggle/input/dlsprint/train_files/common_voic...   \n",
       "1      /kaggle/input/dlsprint/train_files/common_voic...   \n",
       "2      /kaggle/input/dlsprint/train_files/common_voic...   \n",
       "3      /kaggle/input/dlsprint/train_files/common_voic...   \n",
       "4      /kaggle/input/dlsprint/train_files/common_voic...   \n",
       "...                                                  ...   \n",
       "40995  /kaggle/input/dlsprint/train_files/common_voic...   \n",
       "40996  /kaggle/input/dlsprint/train_files/common_voic...   \n",
       "40997  /kaggle/input/dlsprint/train_files/common_voic...   \n",
       "40998  /kaggle/input/dlsprint/train_files/common_voic...   \n",
       "40999  /kaggle/input/dlsprint/train_files/common_voic...   \n",
       "\n",
       "                                                wav2vec2  \\\n",
       "0      নিউগলিার ফিশন এবং প্লাজনপত্তবিজ্ঞানের গবেষণে ক...   \n",
       "1      ভিক্টোরিয়া পশ্চিম অস্ট্রেলিয়া ও দক্ষিণ অস্ট্রে...   \n",
       "2      দুই দিন পর সারা দলের পক্ষে লিস্টেক ক্রিকেটের অ...   \n",
       "3      এটি পূর্ববর্তীর দূটার জেলা থেকে ঐই অঞ্চলের মাস...   \n",
       "4      এর মধ্যে রয়েছে তাদের পেশাদারদের সাথে যোগাযোগ ক...   \n",
       "...                                                  ...   \n",
       "40995  তিনি রাষ্ট্রবিজ্ঞান ও সমাজবিজ্ঞান বিষয়ে অসংখ্য...   \n",
       "40996  গানটি লিখেছেন প্রিয় চট্টপাধ্যায় এবং সুর করেছেন...   \n",
       "40997  পাকিস্তানিদের কমান্ড স্টাইলের প্রচণ্ড আক্রমণে ...   \n",
       "40998  এই ছায়াছবির জন্য তিনি মেরিল প্রথম ালো পুরস্কার...   \n",
       "40999  তার বিহিন অথবাদ তার যুক্ত দুই মাধ্যমেই ডিজিটাল...   \n",
       "\n",
       "                                                   4gram  \n",
       "0      নিউক্লিয়ার ফিশন এবং ক্লাস নকততবিজ্ঞানের গবেষণা...  \n",
       "1      ভিক্টোরিয়া পশ্চিম অস্ট্রেলিয়া ও দক্ষিণ অস্ট্রে...  \n",
       "2      দুই দিন পর সারা দলের পক্ষে লিস্টে ক্রিকেটের অভ...  \n",
       "3      এটি পূর্ববর্তী দুটা জেলা থেকে ওই অঞ্চলের মাসের...  \n",
       "4      এর মধ্যে রয়েছে তাদের পেশাদারদের সাথে যোগাযোগ ক...  \n",
       "...                                                  ...  \n",
       "40995  তিনি রাষ্ট্রবিজ্ঞান ও সমাজবিজ্ঞান বিষয়ে অসংখ্য...  \n",
       "40996  গানটি লিখেছেন প্রিয় চট্টোপাধ্যায় এবং সুর করেছে...  \n",
       "40997  পাকিস্তানিদের কমান্ড স্টাইলের প্রচণ্ড আক্রমণে ...  \n",
       "40998  এই ছায়াছবির জন্য তিনি মেরিল প্রথম আলো পুরস্কার...  \n",
       "40999  তার বিহীন অথবা তার যুক্ত দুই মাধ্যমেই ডিজিটাল ...  \n",
       "\n",
       "[41000 rows x 3 columns]"
      ]
     },
     "execution_count": 51,
     "metadata": {},
     "output_type": "execute_result"
    }
   ],
   "source": [
    "df_tmp"
   ]
  },
  {
   "cell_type": "code",
   "execution_count": 52,
   "id": "67720a58",
   "metadata": {
    "execution": {
     "iopub.execute_input": "2022-12-14T22:08:56.867269Z",
     "iopub.status.busy": "2022-12-14T22:08:56.866876Z",
     "iopub.status.idle": "2022-12-14T22:08:57.111145Z",
     "shell.execute_reply": "2022-12-14T22:08:57.110142Z"
    },
    "papermill": {
     "duration": 2.45611,
     "end_time": "2022-12-14T22:08:57.113497",
     "exception": false,
     "start_time": "2022-12-14T22:08:54.657387",
     "status": "completed"
    },
    "tags": []
   },
   "outputs": [],
   "source": [
    "df_tmp.to_csv('df_nov_wav2vec2_100k_p2.csv',index=False)"
   ]
  },
  {
   "cell_type": "code",
   "execution_count": null,
   "id": "b331c954",
   "metadata": {
    "papermill": {
     "duration": 2.194922,
     "end_time": "2022-12-14T22:09:01.722907",
     "exception": false,
     "start_time": "2022-12-14T22:08:59.527985",
     "status": "completed"
    },
    "tags": []
   },
   "outputs": [],
   "source": []
  }
 ],
 "metadata": {
  "kernelspec": {
   "display_name": "Python 3",
   "language": "python",
   "name": "python3"
  },
  "language_info": {
   "codemirror_mode": {
    "name": "ipython",
    "version": 3
   },
   "file_extension": ".py",
   "mimetype": "text/x-python",
   "name": "python",
   "nbconvert_exporter": "python",
   "pygments_lexer": "ipython3",
   "version": "3.7.12"
  },
  "papermill": {
   "default_parameters": {},
   "duration": 20201.822,
   "end_time": "2022-12-14T22:09:07.007065",
   "environment_variables": {},
   "exception": null,
   "input_path": "__notebook__.ipynb",
   "output_path": "__notebook__.ipynb",
   "parameters": {},
   "start_time": "2022-12-14T16:32:25.185065",
   "version": "2.3.4"
  },
  "widgets": {
   "application/vnd.jupyter.widget-state+json": {
    "state": {
     "02efe94bd9234b4b88a34a18cafb64d7": {
      "model_module": "@jupyter-widgets/controls",
      "model_module_version": "1.5.0",
      "model_name": "ProgressStyleModel",
      "state": {
       "_model_module": "@jupyter-widgets/controls",
       "_model_module_version": "1.5.0",
       "_model_name": "ProgressStyleModel",
       "_view_count": null,
       "_view_module": "@jupyter-widgets/base",
       "_view_module_version": "1.2.0",
       "_view_name": "StyleView",
       "bar_color": null,
       "description_width": ""
      }
     },
     "03985cc15ad445f98ac370ea2b2cd6e0": {
      "model_module": "@jupyter-widgets/controls",
      "model_module_version": "1.5.0",
      "model_name": "FloatProgressModel",
      "state": {
       "_dom_classes": [],
       "_model_module": "@jupyter-widgets/controls",
       "_model_module_version": "1.5.0",
       "_model_name": "FloatProgressModel",
       "_view_count": null,
       "_view_module": "@jupyter-widgets/controls",
       "_view_module_version": "1.5.0",
       "_view_name": "ProgressView",
       "bar_style": "success",
       "description": "",
       "description_tooltip": null,
       "layout": "IPY_MODEL_49da86b0bdd44f11a1d036ccb362718c",
       "max": 3.0,
       "min": 0.0,
       "orientation": "horizontal",
       "style": "IPY_MODEL_a5281d0af11d46d1b639e0e969593b8e",
       "value": 3.0
      }
     },
     "075efd950d6f437da46eea257564da9c": {
      "model_module": "@jupyter-widgets/base",
      "model_module_version": "1.2.0",
      "model_name": "LayoutModel",
      "state": {
       "_model_module": "@jupyter-widgets/base",
       "_model_module_version": "1.2.0",
       "_model_name": "LayoutModel",
       "_view_count": null,
       "_view_module": "@jupyter-widgets/base",
       "_view_module_version": "1.2.0",
       "_view_name": "LayoutView",
       "align_content": null,
       "align_items": null,
       "align_self": null,
       "border": null,
       "bottom": null,
       "display": null,
       "flex": null,
       "flex_flow": null,
       "grid_area": null,
       "grid_auto_columns": null,
       "grid_auto_flow": null,
       "grid_auto_rows": null,
       "grid_column": null,
       "grid_gap": null,
       "grid_row": null,
       "grid_template_areas": null,
       "grid_template_columns": null,
       "grid_template_rows": null,
       "height": null,
       "justify_content": null,
       "justify_items": null,
       "left": null,
       "margin": null,
       "max_height": null,
       "max_width": null,
       "min_height": null,
       "min_width": null,
       "object_fit": null,
       "object_position": null,
       "order": null,
       "overflow": null,
       "overflow_x": null,
       "overflow_y": null,
       "padding": null,
       "right": null,
       "top": null,
       "visibility": null,
       "width": null
      }
     },
     "0985e30a6fc1430d84ef6fdf8397c51f": {
      "model_module": "@jupyter-widgets/base",
      "model_module_version": "1.2.0",
      "model_name": "LayoutModel",
      "state": {
       "_model_module": "@jupyter-widgets/base",
       "_model_module_version": "1.2.0",
       "_model_name": "LayoutModel",
       "_view_count": null,
       "_view_module": "@jupyter-widgets/base",
       "_view_module_version": "1.2.0",
       "_view_name": "LayoutView",
       "align_content": null,
       "align_items": null,
       "align_self": null,
       "border": null,
       "bottom": null,
       "display": null,
       "flex": null,
       "flex_flow": null,
       "grid_area": null,
       "grid_auto_columns": null,
       "grid_auto_flow": null,
       "grid_auto_rows": null,
       "grid_column": null,
       "grid_gap": null,
       "grid_row": null,
       "grid_template_areas": null,
       "grid_template_columns": null,
       "grid_template_rows": null,
       "height": null,
       "justify_content": null,
       "justify_items": null,
       "left": null,
       "margin": null,
       "max_height": null,
       "max_width": null,
       "min_height": null,
       "min_width": null,
       "object_fit": null,
       "object_position": null,
       "order": null,
       "overflow": null,
       "overflow_x": null,
       "overflow_y": null,
       "padding": null,
       "right": null,
       "top": null,
       "visibility": null,
       "width": null
      }
     },
     "0de2053db0ea42159a3ce217a425ed26": {
      "model_module": "@jupyter-widgets/base",
      "model_module_version": "1.2.0",
      "model_name": "LayoutModel",
      "state": {
       "_model_module": "@jupyter-widgets/base",
       "_model_module_version": "1.2.0",
       "_model_name": "LayoutModel",
       "_view_count": null,
       "_view_module": "@jupyter-widgets/base",
       "_view_module_version": "1.2.0",
       "_view_name": "LayoutView",
       "align_content": null,
       "align_items": null,
       "align_self": null,
       "border": null,
       "bottom": null,
       "display": null,
       "flex": null,
       "flex_flow": null,
       "grid_area": null,
       "grid_auto_columns": null,
       "grid_auto_flow": null,
       "grid_auto_rows": null,
       "grid_column": null,
       "grid_gap": null,
       "grid_row": null,
       "grid_template_areas": null,
       "grid_template_columns": null,
       "grid_template_rows": null,
       "height": null,
       "justify_content": null,
       "justify_items": null,
       "left": null,
       "margin": null,
       "max_height": null,
       "max_width": null,
       "min_height": null,
       "min_width": null,
       "object_fit": null,
       "object_position": null,
       "order": null,
       "overflow": null,
       "overflow_x": null,
       "overflow_y": null,
       "padding": null,
       "right": null,
       "top": null,
       "visibility": null,
       "width": null
      }
     },
     "10e17489b21544dc9a4e641a32cbcb52": {
      "model_module": "@jupyter-widgets/base",
      "model_module_version": "1.2.0",
      "model_name": "LayoutModel",
      "state": {
       "_model_module": "@jupyter-widgets/base",
       "_model_module_version": "1.2.0",
       "_model_name": "LayoutModel",
       "_view_count": null,
       "_view_module": "@jupyter-widgets/base",
       "_view_module_version": "1.2.0",
       "_view_name": "LayoutView",
       "align_content": null,
       "align_items": null,
       "align_self": null,
       "border": null,
       "bottom": null,
       "display": null,
       "flex": null,
       "flex_flow": null,
       "grid_area": null,
       "grid_auto_columns": null,
       "grid_auto_flow": null,
       "grid_auto_rows": null,
       "grid_column": null,
       "grid_gap": null,
       "grid_row": null,
       "grid_template_areas": null,
       "grid_template_columns": null,
       "grid_template_rows": null,
       "height": null,
       "justify_content": null,
       "justify_items": null,
       "left": null,
       "margin": null,
       "max_height": null,
       "max_width": null,
       "min_height": null,
       "min_width": null,
       "object_fit": null,
       "object_position": null,
       "order": null,
       "overflow": null,
       "overflow_x": null,
       "overflow_y": null,
       "padding": null,
       "right": null,
       "top": null,
       "visibility": null,
       "width": null
      }
     },
     "11e497b9b26e4b519aa7e121549e8bd1": {
      "model_module": "@jupyter-widgets/controls",
      "model_module_version": "1.5.0",
      "model_name": "DescriptionStyleModel",
      "state": {
       "_model_module": "@jupyter-widgets/controls",
       "_model_module_version": "1.5.0",
       "_model_name": "DescriptionStyleModel",
       "_view_count": null,
       "_view_module": "@jupyter-widgets/base",
       "_view_module_version": "1.2.0",
       "_view_name": "StyleView",
       "description_width": ""
      }
     },
     "13c291cfdbcc487cb18b792f128f2248": {
      "model_module": "@jupyter-widgets/base",
      "model_module_version": "1.2.0",
      "model_name": "LayoutModel",
      "state": {
       "_model_module": "@jupyter-widgets/base",
       "_model_module_version": "1.2.0",
       "_model_name": "LayoutModel",
       "_view_count": null,
       "_view_module": "@jupyter-widgets/base",
       "_view_module_version": "1.2.0",
       "_view_name": "LayoutView",
       "align_content": null,
       "align_items": null,
       "align_self": null,
       "border": null,
       "bottom": null,
       "display": null,
       "flex": null,
       "flex_flow": null,
       "grid_area": null,
       "grid_auto_columns": null,
       "grid_auto_flow": null,
       "grid_auto_rows": null,
       "grid_column": null,
       "grid_gap": null,
       "grid_row": null,
       "grid_template_areas": null,
       "grid_template_columns": null,
       "grid_template_rows": null,
       "height": null,
       "justify_content": null,
       "justify_items": null,
       "left": null,
       "margin": null,
       "max_height": null,
       "max_width": null,
       "min_height": null,
       "min_width": null,
       "object_fit": null,
       "object_position": null,
       "order": null,
       "overflow": null,
       "overflow_x": null,
       "overflow_y": null,
       "padding": null,
       "right": null,
       "top": null,
       "visibility": null,
       "width": null
      }
     },
     "17cda698df224d6bae09452c045d91a4": {
      "model_module": "@jupyter-widgets/controls",
      "model_module_version": "1.5.0",
      "model_name": "DescriptionStyleModel",
      "state": {
       "_model_module": "@jupyter-widgets/controls",
       "_model_module_version": "1.5.0",
       "_model_name": "DescriptionStyleModel",
       "_view_count": null,
       "_view_module": "@jupyter-widgets/base",
       "_view_module_version": "1.2.0",
       "_view_name": "StyleView",
       "description_width": ""
      }
     },
     "18b6bc796f624453a5fd7f8f03cd0ff7": {
      "model_module": "@jupyter-widgets/base",
      "model_module_version": "1.2.0",
      "model_name": "LayoutModel",
      "state": {
       "_model_module": "@jupyter-widgets/base",
       "_model_module_version": "1.2.0",
       "_model_name": "LayoutModel",
       "_view_count": null,
       "_view_module": "@jupyter-widgets/base",
       "_view_module_version": "1.2.0",
       "_view_name": "LayoutView",
       "align_content": null,
       "align_items": null,
       "align_self": null,
       "border": null,
       "bottom": null,
       "display": null,
       "flex": null,
       "flex_flow": null,
       "grid_area": null,
       "grid_auto_columns": null,
       "grid_auto_flow": null,
       "grid_auto_rows": null,
       "grid_column": null,
       "grid_gap": null,
       "grid_row": null,
       "grid_template_areas": null,
       "grid_template_columns": null,
       "grid_template_rows": null,
       "height": null,
       "justify_content": null,
       "justify_items": null,
       "left": null,
       "margin": null,
       "max_height": null,
       "max_width": null,
       "min_height": null,
       "min_width": null,
       "object_fit": null,
       "object_position": null,
       "order": null,
       "overflow": null,
       "overflow_x": null,
       "overflow_y": null,
       "padding": null,
       "right": null,
       "top": null,
       "visibility": null,
       "width": null
      }
     },
     "1e190407700b49f5a0dd0de0140f98df": {
      "model_module": "@jupyter-widgets/controls",
      "model_module_version": "1.5.0",
      "model_name": "HBoxModel",
      "state": {
       "_dom_classes": [],
       "_model_module": "@jupyter-widgets/controls",
       "_model_module_version": "1.5.0",
       "_model_name": "HBoxModel",
       "_view_count": null,
       "_view_module": "@jupyter-widgets/controls",
       "_view_module_version": "1.5.0",
       "_view_name": "HBoxView",
       "box_style": "",
       "children": [
        "IPY_MODEL_c2ee45a2ae2948108f472a0ed2fb2ca5",
        "IPY_MODEL_4df954e2d4c5413d9ce762c7ef517e99",
        "IPY_MODEL_68e8dd56262b43bd9f748958c2014a27"
       ],
       "layout": "IPY_MODEL_10e17489b21544dc9a4e641a32cbcb52"
      }
     },
     "1fd7c001647e45728437104b127d2654": {
      "model_module": "@jupyter-widgets/base",
      "model_module_version": "1.2.0",
      "model_name": "LayoutModel",
      "state": {
       "_model_module": "@jupyter-widgets/base",
       "_model_module_version": "1.2.0",
       "_model_name": "LayoutModel",
       "_view_count": null,
       "_view_module": "@jupyter-widgets/base",
       "_view_module_version": "1.2.0",
       "_view_name": "LayoutView",
       "align_content": null,
       "align_items": null,
       "align_self": null,
       "border": null,
       "bottom": null,
       "display": null,
       "flex": null,
       "flex_flow": null,
       "grid_area": null,
       "grid_auto_columns": null,
       "grid_auto_flow": null,
       "grid_auto_rows": null,
       "grid_column": null,
       "grid_gap": null,
       "grid_row": null,
       "grid_template_areas": null,
       "grid_template_columns": null,
       "grid_template_rows": null,
       "height": null,
       "justify_content": null,
       "justify_items": null,
       "left": null,
       "margin": null,
       "max_height": null,
       "max_width": null,
       "min_height": null,
       "min_width": null,
       "object_fit": null,
       "object_position": null,
       "order": null,
       "overflow": null,
       "overflow_x": null,
       "overflow_y": null,
       "padding": null,
       "right": null,
       "top": null,
       "visibility": null,
       "width": null
      }
     },
     "206383bb840b4b228c3f83ab5d2fd624": {
      "model_module": "@jupyter-widgets/controls",
      "model_module_version": "1.5.0",
      "model_name": "DescriptionStyleModel",
      "state": {
       "_model_module": "@jupyter-widgets/controls",
       "_model_module_version": "1.5.0",
       "_model_name": "DescriptionStyleModel",
       "_view_count": null,
       "_view_module": "@jupyter-widgets/base",
       "_view_module_version": "1.2.0",
       "_view_name": "StyleView",
       "description_width": ""
      }
     },
     "219efd130a0949528bdbdd3ae9bd38b9": {
      "model_module": "@jupyter-widgets/controls",
      "model_module_version": "1.5.0",
      "model_name": "ProgressStyleModel",
      "state": {
       "_model_module": "@jupyter-widgets/controls",
       "_model_module_version": "1.5.0",
       "_model_name": "ProgressStyleModel",
       "_view_count": null,
       "_view_module": "@jupyter-widgets/base",
       "_view_module_version": "1.2.0",
       "_view_name": "StyleView",
       "bar_color": null,
       "description_width": ""
      }
     },
     "25ef143905f04ca8b9aabcea05dfa345": {
      "model_module": "@jupyter-widgets/base",
      "model_module_version": "1.2.0",
      "model_name": "LayoutModel",
      "state": {
       "_model_module": "@jupyter-widgets/base",
       "_model_module_version": "1.2.0",
       "_model_name": "LayoutModel",
       "_view_count": null,
       "_view_module": "@jupyter-widgets/base",
       "_view_module_version": "1.2.0",
       "_view_name": "LayoutView",
       "align_content": null,
       "align_items": null,
       "align_self": null,
       "border": null,
       "bottom": null,
       "display": null,
       "flex": null,
       "flex_flow": null,
       "grid_area": null,
       "grid_auto_columns": null,
       "grid_auto_flow": null,
       "grid_auto_rows": null,
       "grid_column": null,
       "grid_gap": null,
       "grid_row": null,
       "grid_template_areas": null,
       "grid_template_columns": null,
       "grid_template_rows": null,
       "height": null,
       "justify_content": null,
       "justify_items": null,
       "left": null,
       "margin": null,
       "max_height": null,
       "max_width": null,
       "min_height": null,
       "min_width": null,
       "object_fit": null,
       "object_position": null,
       "order": null,
       "overflow": null,
       "overflow_x": null,
       "overflow_y": null,
       "padding": null,
       "right": null,
       "top": null,
       "visibility": null,
       "width": null
      }
     },
     "284efb2441db428b8f80e4e3a35cae6d": {
      "model_module": "@jupyter-widgets/controls",
      "model_module_version": "1.5.0",
      "model_name": "DescriptionStyleModel",
      "state": {
       "_model_module": "@jupyter-widgets/controls",
       "_model_module_version": "1.5.0",
       "_model_name": "DescriptionStyleModel",
       "_view_count": null,
       "_view_module": "@jupyter-widgets/base",
       "_view_module_version": "1.2.0",
       "_view_name": "StyleView",
       "description_width": ""
      }
     },
     "28cfa866f1674149b468fa69b1ae931a": {
      "model_module": "@jupyter-widgets/controls",
      "model_module_version": "1.5.0",
      "model_name": "HBoxModel",
      "state": {
       "_dom_classes": [],
       "_model_module": "@jupyter-widgets/controls",
       "_model_module_version": "1.5.0",
       "_model_name": "HBoxModel",
       "_view_count": null,
       "_view_module": "@jupyter-widgets/controls",
       "_view_module_version": "1.5.0",
       "_view_name": "HBoxView",
       "box_style": "",
       "children": [
        "IPY_MODEL_fc48b8d1f3434dbab784d6b03daa3c59",
        "IPY_MODEL_7ee46b2f263f441c862e222c0a7a0c2d",
        "IPY_MODEL_dcca48f5a082464ea4c188a1cbab564a"
       ],
       "layout": "IPY_MODEL_0985e30a6fc1430d84ef6fdf8397c51f"
      }
     },
     "32f3f3354cad4ce6ab5d0e240e43dcd1": {
      "model_module": "@jupyter-widgets/base",
      "model_module_version": "1.2.0",
      "model_name": "LayoutModel",
      "state": {
       "_model_module": "@jupyter-widgets/base",
       "_model_module_version": "1.2.0",
       "_model_name": "LayoutModel",
       "_view_count": null,
       "_view_module": "@jupyter-widgets/base",
       "_view_module_version": "1.2.0",
       "_view_name": "LayoutView",
       "align_content": null,
       "align_items": null,
       "align_self": null,
       "border": null,
       "bottom": null,
       "display": null,
       "flex": null,
       "flex_flow": null,
       "grid_area": null,
       "grid_auto_columns": null,
       "grid_auto_flow": null,
       "grid_auto_rows": null,
       "grid_column": null,
       "grid_gap": null,
       "grid_row": null,
       "grid_template_areas": null,
       "grid_template_columns": null,
       "grid_template_rows": null,
       "height": null,
       "justify_content": null,
       "justify_items": null,
       "left": null,
       "margin": null,
       "max_height": null,
       "max_width": null,
       "min_height": null,
       "min_width": null,
       "object_fit": null,
       "object_position": null,
       "order": null,
       "overflow": null,
       "overflow_x": null,
       "overflow_y": null,
       "padding": null,
       "right": null,
       "top": null,
       "visibility": null,
       "width": null
      }
     },
     "34539062d8da432f81e77414d62d459c": {
      "model_module": "@jupyter-widgets/controls",
      "model_module_version": "1.5.0",
      "model_name": "HBoxModel",
      "state": {
       "_dom_classes": [],
       "_model_module": "@jupyter-widgets/controls",
       "_model_module_version": "1.5.0",
       "_model_name": "HBoxModel",
       "_view_count": null,
       "_view_module": "@jupyter-widgets/controls",
       "_view_module_version": "1.5.0",
       "_view_name": "HBoxView",
       "box_style": "",
       "children": [
        "IPY_MODEL_fd64c598bdba494496a27c83a3e2f2a1",
        "IPY_MODEL_03985cc15ad445f98ac370ea2b2cd6e0",
        "IPY_MODEL_47e244f237174f98b4a25ecc1b16a9fc"
       ],
       "layout": "IPY_MODEL_8a253f028d0d4f97937d5409a3831557"
      }
     },
     "3cfce22cb12d4593ba6ad255f94c4a03": {
      "model_module": "@jupyter-widgets/controls",
      "model_module_version": "1.5.0",
      "model_name": "ProgressStyleModel",
      "state": {
       "_model_module": "@jupyter-widgets/controls",
       "_model_module_version": "1.5.0",
       "_model_name": "ProgressStyleModel",
       "_view_count": null,
       "_view_module": "@jupyter-widgets/base",
       "_view_module_version": "1.2.0",
       "_view_name": "StyleView",
       "bar_color": null,
       "description_width": ""
      }
     },
     "450308b629474ccfadb33776ac83acf5": {
      "model_module": "@jupyter-widgets/base",
      "model_module_version": "1.2.0",
      "model_name": "LayoutModel",
      "state": {
       "_model_module": "@jupyter-widgets/base",
       "_model_module_version": "1.2.0",
       "_model_name": "LayoutModel",
       "_view_count": null,
       "_view_module": "@jupyter-widgets/base",
       "_view_module_version": "1.2.0",
       "_view_name": "LayoutView",
       "align_content": null,
       "align_items": null,
       "align_self": null,
       "border": null,
       "bottom": null,
       "display": null,
       "flex": null,
       "flex_flow": null,
       "grid_area": null,
       "grid_auto_columns": null,
       "grid_auto_flow": null,
       "grid_auto_rows": null,
       "grid_column": null,
       "grid_gap": null,
       "grid_row": null,
       "grid_template_areas": null,
       "grid_template_columns": null,
       "grid_template_rows": null,
       "height": null,
       "justify_content": null,
       "justify_items": null,
       "left": null,
       "margin": null,
       "max_height": null,
       "max_width": null,
       "min_height": null,
       "min_width": null,
       "object_fit": null,
       "object_position": null,
       "order": null,
       "overflow": null,
       "overflow_x": null,
       "overflow_y": null,
       "padding": null,
       "right": null,
       "top": null,
       "visibility": null,
       "width": null
      }
     },
     "47e244f237174f98b4a25ecc1b16a9fc": {
      "model_module": "@jupyter-widgets/controls",
      "model_module_version": "1.5.0",
      "model_name": "HTMLModel",
      "state": {
       "_dom_classes": [],
       "_model_module": "@jupyter-widgets/controls",
       "_model_module_version": "1.5.0",
       "_model_name": "HTMLModel",
       "_view_count": null,
       "_view_module": "@jupyter-widgets/controls",
       "_view_module_version": "1.5.0",
       "_view_name": "HTMLView",
       "description": "",
       "description_tooltip": null,
       "layout": "IPY_MODEL_b75e2f568b344bcea673f7367c66f726",
       "placeholder": "​",
       "style": "IPY_MODEL_206383bb840b4b228c3f83ab5d2fd624",
       "value": " 3.00/3.00 [00:00&lt;00:00, 74.2B/s]"
      }
     },
     "49da86b0bdd44f11a1d036ccb362718c": {
      "model_module": "@jupyter-widgets/base",
      "model_module_version": "1.2.0",
      "model_name": "LayoutModel",
      "state": {
       "_model_module": "@jupyter-widgets/base",
       "_model_module_version": "1.2.0",
       "_model_name": "LayoutModel",
       "_view_count": null,
       "_view_module": "@jupyter-widgets/base",
       "_view_module_version": "1.2.0",
       "_view_name": "LayoutView",
       "align_content": null,
       "align_items": null,
       "align_self": null,
       "border": null,
       "bottom": null,
       "display": null,
       "flex": null,
       "flex_flow": null,
       "grid_area": null,
       "grid_auto_columns": null,
       "grid_auto_flow": null,
       "grid_auto_rows": null,
       "grid_column": null,
       "grid_gap": null,
       "grid_row": null,
       "grid_template_areas": null,
       "grid_template_columns": null,
       "grid_template_rows": null,
       "height": null,
       "justify_content": null,
       "justify_items": null,
       "left": null,
       "margin": null,
       "max_height": null,
       "max_width": null,
       "min_height": null,
       "min_width": null,
       "object_fit": null,
       "object_position": null,
       "order": null,
       "overflow": null,
       "overflow_x": null,
       "overflow_y": null,
       "padding": null,
       "right": null,
       "top": null,
       "visibility": null,
       "width": null
      }
     },
     "4d6fbd5a2fe74446be8224e021d9494a": {
      "model_module": "@jupyter-widgets/controls",
      "model_module_version": "1.5.0",
      "model_name": "HTMLModel",
      "state": {
       "_dom_classes": [],
       "_model_module": "@jupyter-widgets/controls",
       "_model_module_version": "1.5.0",
       "_model_name": "HTMLModel",
       "_view_count": null,
       "_view_module": "@jupyter-widgets/controls",
       "_view_module_version": "1.5.0",
       "_view_name": "HTMLView",
       "description": "",
       "description_tooltip": null,
       "layout": "IPY_MODEL_a09b2db68cdd4e0693d127d11cb59784",
       "placeholder": "​",
       "style": "IPY_MODEL_11e497b9b26e4b519aa7e121549e8bd1",
       "value": "Downloading: 100%"
      }
     },
     "4df954e2d4c5413d9ce762c7ef517e99": {
      "model_module": "@jupyter-widgets/controls",
      "model_module_version": "1.5.0",
      "model_name": "FloatProgressModel",
      "state": {
       "_dom_classes": [],
       "_model_module": "@jupyter-widgets/controls",
       "_model_module_version": "1.5.0",
       "_model_name": "FloatProgressModel",
       "_view_count": null,
       "_view_module": "@jupyter-widgets/controls",
       "_view_module_version": "1.5.0",
       "_view_name": "ProgressView",
       "bar_style": "success",
       "description": "",
       "description_tooltip": null,
       "layout": "IPY_MODEL_32f3f3354cad4ce6ab5d0e240e43dcd1",
       "max": 262.0,
       "min": 0.0,
       "orientation": "horizontal",
       "style": "IPY_MODEL_02efe94bd9234b4b88a34a18cafb64d7",
       "value": 262.0
      }
     },
     "53e7a41dc18748c68360b4e5bc2e2ede": {
      "model_module": "@jupyter-widgets/controls",
      "model_module_version": "1.5.0",
      "model_name": "FloatProgressModel",
      "state": {
       "_dom_classes": [],
       "_model_module": "@jupyter-widgets/controls",
       "_model_module_version": "1.5.0",
       "_model_name": "FloatProgressModel",
       "_view_count": null,
       "_view_module": "@jupyter-widgets/controls",
       "_view_module_version": "1.5.0",
       "_view_name": "ProgressView",
       "bar_style": "success",
       "description": "",
       "description_tooltip": null,
       "layout": "IPY_MODEL_d0a1c12ac5d74b70a0ecbbe8ac897877",
       "max": 404.0,
       "min": 0.0,
       "orientation": "horizontal",
       "style": "IPY_MODEL_d47fc3e8c5324ba3a8aa8449259749f2",
       "value": 404.0
      }
     },
     "6185aa45d1ef4942a337a843512048ed": {
      "model_module": "@jupyter-widgets/controls",
      "model_module_version": "1.5.0",
      "model_name": "HTMLModel",
      "state": {
       "_dom_classes": [],
       "_model_module": "@jupyter-widgets/controls",
       "_model_module_version": "1.5.0",
       "_model_name": "HTMLModel",
       "_view_count": null,
       "_view_module": "@jupyter-widgets/controls",
       "_view_module_version": "1.5.0",
       "_view_name": "HTMLView",
       "description": "",
       "description_tooltip": null,
       "layout": "IPY_MODEL_72f793a6e11c432e9f11c79fe4e57a73",
       "placeholder": "​",
       "style": "IPY_MODEL_a0f1be881f4c49a1a5230e52ba090ad1",
       "value": " 404/404 [00:00&lt;00:00, 16.1kB/s]"
      }
     },
     "64abfd4c51664ce99b43cb9c0f149836": {
      "model_module": "@jupyter-widgets/controls",
      "model_module_version": "1.5.0",
      "model_name": "DescriptionStyleModel",
      "state": {
       "_model_module": "@jupyter-widgets/controls",
       "_model_module_version": "1.5.0",
       "_model_name": "DescriptionStyleModel",
       "_view_count": null,
       "_view_module": "@jupyter-widgets/base",
       "_view_module_version": "1.2.0",
       "_view_name": "StyleView",
       "description_width": ""
      }
     },
     "65166c303cee49db9ccd00326e2f9426": {
      "model_module": "@jupyter-widgets/base",
      "model_module_version": "1.2.0",
      "model_name": "LayoutModel",
      "state": {
       "_model_module": "@jupyter-widgets/base",
       "_model_module_version": "1.2.0",
       "_model_name": "LayoutModel",
       "_view_count": null,
       "_view_module": "@jupyter-widgets/base",
       "_view_module_version": "1.2.0",
       "_view_name": "LayoutView",
       "align_content": null,
       "align_items": null,
       "align_self": null,
       "border": null,
       "bottom": null,
       "display": null,
       "flex": null,
       "flex_flow": null,
       "grid_area": null,
       "grid_auto_columns": null,
       "grid_auto_flow": null,
       "grid_auto_rows": null,
       "grid_column": null,
       "grid_gap": null,
       "grid_row": null,
       "grid_template_areas": null,
       "grid_template_columns": null,
       "grid_template_rows": null,
       "height": null,
       "justify_content": null,
       "justify_items": null,
       "left": null,
       "margin": null,
       "max_height": null,
       "max_width": null,
       "min_height": null,
       "min_width": null,
       "object_fit": null,
       "object_position": null,
       "order": null,
       "overflow": null,
       "overflow_x": null,
       "overflow_y": null,
       "padding": null,
       "right": null,
       "top": null,
       "visibility": null,
       "width": null
      }
     },
     "68e8dd56262b43bd9f748958c2014a27": {
      "model_module": "@jupyter-widgets/controls",
      "model_module_version": "1.5.0",
      "model_name": "HTMLModel",
      "state": {
       "_dom_classes": [],
       "_model_module": "@jupyter-widgets/controls",
       "_model_module_version": "1.5.0",
       "_model_name": "HTMLModel",
       "_view_count": null,
       "_view_module": "@jupyter-widgets/controls",
       "_view_module_version": "1.5.0",
       "_view_name": "HTMLView",
       "description": "",
       "description_tooltip": null,
       "layout": "IPY_MODEL_9a1f152c897e4c89ba0c4581900077bd",
       "placeholder": "​",
       "style": "IPY_MODEL_284efb2441db428b8f80e4e3a35cae6d",
       "value": " 262/262 [00:00&lt;00:00, 9.80kB/s]"
      }
     },
     "6f47582494b54e55984b8b25218ee12e": {
      "model_module": "@jupyter-widgets/controls",
      "model_module_version": "1.5.0",
      "model_name": "HTMLModel",
      "state": {
       "_dom_classes": [],
       "_model_module": "@jupyter-widgets/controls",
       "_model_module_version": "1.5.0",
       "_model_name": "HTMLModel",
       "_view_count": null,
       "_view_module": "@jupyter-widgets/controls",
       "_view_module_version": "1.5.0",
       "_view_name": "HTMLView",
       "description": "",
       "description_tooltip": null,
       "layout": "IPY_MODEL_0de2053db0ea42159a3ce217a425ed26",
       "placeholder": "​",
       "style": "IPY_MODEL_e9670ecebe0243e5938de17ec5a0203a",
       "value": "Downloading: 100%"
      }
     },
     "72f793a6e11c432e9f11c79fe4e57a73": {
      "model_module": "@jupyter-widgets/base",
      "model_module_version": "1.2.0",
      "model_name": "LayoutModel",
      "state": {
       "_model_module": "@jupyter-widgets/base",
       "_model_module_version": "1.2.0",
       "_model_name": "LayoutModel",
       "_view_count": null,
       "_view_module": "@jupyter-widgets/base",
       "_view_module_version": "1.2.0",
       "_view_name": "LayoutView",
       "align_content": null,
       "align_items": null,
       "align_self": null,
       "border": null,
       "bottom": null,
       "display": null,
       "flex": null,
       "flex_flow": null,
       "grid_area": null,
       "grid_auto_columns": null,
       "grid_auto_flow": null,
       "grid_auto_rows": null,
       "grid_column": null,
       "grid_gap": null,
       "grid_row": null,
       "grid_template_areas": null,
       "grid_template_columns": null,
       "grid_template_rows": null,
       "height": null,
       "justify_content": null,
       "justify_items": null,
       "left": null,
       "margin": null,
       "max_height": null,
       "max_width": null,
       "min_height": null,
       "min_width": null,
       "object_fit": null,
       "object_position": null,
       "order": null,
       "overflow": null,
       "overflow_x": null,
       "overflow_y": null,
       "padding": null,
       "right": null,
       "top": null,
       "visibility": null,
       "width": null
      }
     },
     "7335e08654d54fb3a508ca7f345e40e6": {
      "model_module": "@jupyter-widgets/controls",
      "model_module_version": "1.5.0",
      "model_name": "DescriptionStyleModel",
      "state": {
       "_model_module": "@jupyter-widgets/controls",
       "_model_module_version": "1.5.0",
       "_model_name": "DescriptionStyleModel",
       "_view_count": null,
       "_view_module": "@jupyter-widgets/base",
       "_view_module_version": "1.2.0",
       "_view_name": "StyleView",
       "description_width": ""
      }
     },
     "74891e81b3e3493ab95297f5e02bed81": {
      "model_module": "@jupyter-widgets/controls",
      "model_module_version": "1.5.0",
      "model_name": "HBoxModel",
      "state": {
       "_dom_classes": [],
       "_model_module": "@jupyter-widgets/controls",
       "_model_module_version": "1.5.0",
       "_model_name": "HBoxModel",
       "_view_count": null,
       "_view_module": "@jupyter-widgets/controls",
       "_view_module_version": "1.5.0",
       "_view_name": "HBoxView",
       "box_style": "",
       "children": [
        "IPY_MODEL_ec1ce89d3e8042a7a956b27b56648e54",
        "IPY_MODEL_53e7a41dc18748c68360b4e5bc2e2ede",
        "IPY_MODEL_6185aa45d1ef4942a337a843512048ed"
       ],
       "layout": "IPY_MODEL_65166c303cee49db9ccd00326e2f9426"
      }
     },
     "753de40ba1df451e90fd522769bbba86": {
      "model_module": "@jupyter-widgets/base",
      "model_module_version": "1.2.0",
      "model_name": "LayoutModel",
      "state": {
       "_model_module": "@jupyter-widgets/base",
       "_model_module_version": "1.2.0",
       "_model_name": "LayoutModel",
       "_view_count": null,
       "_view_module": "@jupyter-widgets/base",
       "_view_module_version": "1.2.0",
       "_view_name": "LayoutView",
       "align_content": null,
       "align_items": null,
       "align_self": null,
       "border": null,
       "bottom": null,
       "display": null,
       "flex": null,
       "flex_flow": null,
       "grid_area": null,
       "grid_auto_columns": null,
       "grid_auto_flow": null,
       "grid_auto_rows": null,
       "grid_column": null,
       "grid_gap": null,
       "grid_row": null,
       "grid_template_areas": null,
       "grid_template_columns": null,
       "grid_template_rows": null,
       "height": null,
       "justify_content": null,
       "justify_items": null,
       "left": null,
       "margin": null,
       "max_height": null,
       "max_width": null,
       "min_height": null,
       "min_width": null,
       "object_fit": null,
       "object_position": null,
       "order": null,
       "overflow": null,
       "overflow_x": null,
       "overflow_y": null,
       "padding": null,
       "right": null,
       "top": null,
       "visibility": null,
       "width": null
      }
     },
     "78d27ace89b445858effe6747164c1e3": {
      "model_module": "@jupyter-widgets/base",
      "model_module_version": "1.2.0",
      "model_name": "LayoutModel",
      "state": {
       "_model_module": "@jupyter-widgets/base",
       "_model_module_version": "1.2.0",
       "_model_name": "LayoutModel",
       "_view_count": null,
       "_view_module": "@jupyter-widgets/base",
       "_view_module_version": "1.2.0",
       "_view_name": "LayoutView",
       "align_content": null,
       "align_items": null,
       "align_self": null,
       "border": null,
       "bottom": null,
       "display": null,
       "flex": null,
       "flex_flow": null,
       "grid_area": null,
       "grid_auto_columns": null,
       "grid_auto_flow": null,
       "grid_auto_rows": null,
       "grid_column": null,
       "grid_gap": null,
       "grid_row": null,
       "grid_template_areas": null,
       "grid_template_columns": null,
       "grid_template_rows": null,
       "height": null,
       "justify_content": null,
       "justify_items": null,
       "left": null,
       "margin": null,
       "max_height": null,
       "max_width": null,
       "min_height": null,
       "min_width": null,
       "object_fit": null,
       "object_position": null,
       "order": null,
       "overflow": null,
       "overflow_x": null,
       "overflow_y": null,
       "padding": null,
       "right": null,
       "top": null,
       "visibility": null,
       "width": null
      }
     },
     "7bb57febde2c43c49009f79b13cac68e": {
      "model_module": "@jupyter-widgets/base",
      "model_module_version": "1.2.0",
      "model_name": "LayoutModel",
      "state": {
       "_model_module": "@jupyter-widgets/base",
       "_model_module_version": "1.2.0",
       "_model_name": "LayoutModel",
       "_view_count": null,
       "_view_module": "@jupyter-widgets/base",
       "_view_module_version": "1.2.0",
       "_view_name": "LayoutView",
       "align_content": null,
       "align_items": null,
       "align_self": null,
       "border": null,
       "bottom": null,
       "display": null,
       "flex": null,
       "flex_flow": null,
       "grid_area": null,
       "grid_auto_columns": null,
       "grid_auto_flow": null,
       "grid_auto_rows": null,
       "grid_column": null,
       "grid_gap": null,
       "grid_row": null,
       "grid_template_areas": null,
       "grid_template_columns": null,
       "grid_template_rows": null,
       "height": null,
       "justify_content": null,
       "justify_items": null,
       "left": null,
       "margin": null,
       "max_height": null,
       "max_width": null,
       "min_height": null,
       "min_width": null,
       "object_fit": null,
       "object_position": null,
       "order": null,
       "overflow": null,
       "overflow_x": null,
       "overflow_y": null,
       "padding": null,
       "right": null,
       "top": null,
       "visibility": null,
       "width": null
      }
     },
     "7da28a44762e414781df3f418a5bd1d4": {
      "model_module": "@jupyter-widgets/controls",
      "model_module_version": "1.5.0",
      "model_name": "HBoxModel",
      "state": {
       "_dom_classes": [],
       "_model_module": "@jupyter-widgets/controls",
       "_model_module_version": "1.5.0",
       "_model_name": "HBoxModel",
       "_view_count": null,
       "_view_module": "@jupyter-widgets/controls",
       "_view_module_version": "1.5.0",
       "_view_name": "HBoxView",
       "box_style": "",
       "children": [
        "IPY_MODEL_f356472494fc436ea59559f69535a57f",
        "IPY_MODEL_c53dd5f5d3d24a9891300fb1fc08a636",
        "IPY_MODEL_f69b454945c54020acd5c224515ab77d"
       ],
       "layout": "IPY_MODEL_075efd950d6f437da46eea257564da9c"
      }
     },
     "7ee46b2f263f441c862e222c0a7a0c2d": {
      "model_module": "@jupyter-widgets/controls",
      "model_module_version": "1.5.0",
      "model_name": "FloatProgressModel",
      "state": {
       "_dom_classes": [],
       "_model_module": "@jupyter-widgets/controls",
       "_model_module_version": "1.5.0",
       "_model_name": "FloatProgressModel",
       "_view_count": null,
       "_view_module": "@jupyter-widgets/controls",
       "_view_module_version": "1.5.0",
       "_view_name": "ProgressView",
       "bar_style": "success",
       "description": "",
       "description_tooltip": null,
       "layout": "IPY_MODEL_bc4dca7cd14e4bbbb2a50c2c57c042ed",
       "max": 2063.0,
       "min": 0.0,
       "orientation": "horizontal",
       "style": "IPY_MODEL_ca8cd4b1b45b47a9b9080e0eea29b6f1",
       "value": 2063.0
      }
     },
     "86cb3f07b2234de5b1274eff7837cdba": {
      "model_module": "@jupyter-widgets/controls",
      "model_module_version": "1.5.0",
      "model_name": "FloatProgressModel",
      "state": {
       "_dom_classes": [],
       "_model_module": "@jupyter-widgets/controls",
       "_model_module_version": "1.5.0",
       "_model_name": "FloatProgressModel",
       "_view_count": null,
       "_view_module": "@jupyter-widgets/controls",
       "_view_module_version": "1.5.0",
       "_view_name": "ProgressView",
       "bar_style": "success",
       "description": "",
       "description_tooltip": null,
       "layout": "IPY_MODEL_753de40ba1df451e90fd522769bbba86",
       "max": 696.0,
       "min": 0.0,
       "orientation": "horizontal",
       "style": "IPY_MODEL_219efd130a0949528bdbdd3ae9bd38b9",
       "value": 696.0
      }
     },
     "8a253f028d0d4f97937d5409a3831557": {
      "model_module": "@jupyter-widgets/base",
      "model_module_version": "1.2.0",
      "model_name": "LayoutModel",
      "state": {
       "_model_module": "@jupyter-widgets/base",
       "_model_module_version": "1.2.0",
       "_model_name": "LayoutModel",
       "_view_count": null,
       "_view_module": "@jupyter-widgets/base",
       "_view_module_version": "1.2.0",
       "_view_name": "LayoutView",
       "align_content": null,
       "align_items": null,
       "align_self": null,
       "border": null,
       "bottom": null,
       "display": null,
       "flex": null,
       "flex_flow": null,
       "grid_area": null,
       "grid_auto_columns": null,
       "grid_auto_flow": null,
       "grid_auto_rows": null,
       "grid_column": null,
       "grid_gap": null,
       "grid_row": null,
       "grid_template_areas": null,
       "grid_template_columns": null,
       "grid_template_rows": null,
       "height": null,
       "justify_content": null,
       "justify_items": null,
       "left": null,
       "margin": null,
       "max_height": null,
       "max_width": null,
       "min_height": null,
       "min_width": null,
       "object_fit": null,
       "object_position": null,
       "order": null,
       "overflow": null,
       "overflow_x": null,
       "overflow_y": null,
       "padding": null,
       "right": null,
       "top": null,
       "visibility": null,
       "width": null
      }
     },
     "8af90a830b86440a8b56dbf12ae1129b": {
      "model_module": "@jupyter-widgets/controls",
      "model_module_version": "1.5.0",
      "model_name": "DescriptionStyleModel",
      "state": {
       "_model_module": "@jupyter-widgets/controls",
       "_model_module_version": "1.5.0",
       "_model_name": "DescriptionStyleModel",
       "_view_count": null,
       "_view_module": "@jupyter-widgets/base",
       "_view_module_version": "1.2.0",
       "_view_name": "StyleView",
       "description_width": ""
      }
     },
     "9a1f152c897e4c89ba0c4581900077bd": {
      "model_module": "@jupyter-widgets/base",
      "model_module_version": "1.2.0",
      "model_name": "LayoutModel",
      "state": {
       "_model_module": "@jupyter-widgets/base",
       "_model_module_version": "1.2.0",
       "_model_name": "LayoutModel",
       "_view_count": null,
       "_view_module": "@jupyter-widgets/base",
       "_view_module_version": "1.2.0",
       "_view_name": "LayoutView",
       "align_content": null,
       "align_items": null,
       "align_self": null,
       "border": null,
       "bottom": null,
       "display": null,
       "flex": null,
       "flex_flow": null,
       "grid_area": null,
       "grid_auto_columns": null,
       "grid_auto_flow": null,
       "grid_auto_rows": null,
       "grid_column": null,
       "grid_gap": null,
       "grid_row": null,
       "grid_template_areas": null,
       "grid_template_columns": null,
       "grid_template_rows": null,
       "height": null,
       "justify_content": null,
       "justify_items": null,
       "left": null,
       "margin": null,
       "max_height": null,
       "max_width": null,
       "min_height": null,
       "min_width": null,
       "object_fit": null,
       "object_position": null,
       "order": null,
       "overflow": null,
       "overflow_x": null,
       "overflow_y": null,
       "padding": null,
       "right": null,
       "top": null,
       "visibility": null,
       "width": null
      }
     },
     "a09b2db68cdd4e0693d127d11cb59784": {
      "model_module": "@jupyter-widgets/base",
      "model_module_version": "1.2.0",
      "model_name": "LayoutModel",
      "state": {
       "_model_module": "@jupyter-widgets/base",
       "_model_module_version": "1.2.0",
       "_model_name": "LayoutModel",
       "_view_count": null,
       "_view_module": "@jupyter-widgets/base",
       "_view_module_version": "1.2.0",
       "_view_name": "LayoutView",
       "align_content": null,
       "align_items": null,
       "align_self": null,
       "border": null,
       "bottom": null,
       "display": null,
       "flex": null,
       "flex_flow": null,
       "grid_area": null,
       "grid_auto_columns": null,
       "grid_auto_flow": null,
       "grid_auto_rows": null,
       "grid_column": null,
       "grid_gap": null,
       "grid_row": null,
       "grid_template_areas": null,
       "grid_template_columns": null,
       "grid_template_rows": null,
       "height": null,
       "justify_content": null,
       "justify_items": null,
       "left": null,
       "margin": null,
       "max_height": null,
       "max_width": null,
       "min_height": null,
       "min_width": null,
       "object_fit": null,
       "object_position": null,
       "order": null,
       "overflow": null,
       "overflow_x": null,
       "overflow_y": null,
       "padding": null,
       "right": null,
       "top": null,
       "visibility": null,
       "width": null
      }
     },
     "a0f1be881f4c49a1a5230e52ba090ad1": {
      "model_module": "@jupyter-widgets/controls",
      "model_module_version": "1.5.0",
      "model_name": "DescriptionStyleModel",
      "state": {
       "_model_module": "@jupyter-widgets/controls",
       "_model_module_version": "1.5.0",
       "_model_name": "DescriptionStyleModel",
       "_view_count": null,
       "_view_module": "@jupyter-widgets/base",
       "_view_module_version": "1.2.0",
       "_view_name": "StyleView",
       "description_width": ""
      }
     },
     "a0fa2e0c171d44a6ba566aa29edf0337": {
      "model_module": "@jupyter-widgets/controls",
      "model_module_version": "1.5.0",
      "model_name": "DescriptionStyleModel",
      "state": {
       "_model_module": "@jupyter-widgets/controls",
       "_model_module_version": "1.5.0",
       "_model_name": "DescriptionStyleModel",
       "_view_count": null,
       "_view_module": "@jupyter-widgets/base",
       "_view_module_version": "1.2.0",
       "_view_name": "StyleView",
       "description_width": ""
      }
     },
     "a4986d0a7bf948dbbd290d76848a7744": {
      "model_module": "@jupyter-widgets/base",
      "model_module_version": "1.2.0",
      "model_name": "LayoutModel",
      "state": {
       "_model_module": "@jupyter-widgets/base",
       "_model_module_version": "1.2.0",
       "_model_name": "LayoutModel",
       "_view_count": null,
       "_view_module": "@jupyter-widgets/base",
       "_view_module_version": "1.2.0",
       "_view_name": "LayoutView",
       "align_content": null,
       "align_items": null,
       "align_self": null,
       "border": null,
       "bottom": null,
       "display": null,
       "flex": null,
       "flex_flow": null,
       "grid_area": null,
       "grid_auto_columns": null,
       "grid_auto_flow": null,
       "grid_auto_rows": null,
       "grid_column": null,
       "grid_gap": null,
       "grid_row": null,
       "grid_template_areas": null,
       "grid_template_columns": null,
       "grid_template_rows": null,
       "height": null,
       "justify_content": null,
       "justify_items": null,
       "left": null,
       "margin": null,
       "max_height": null,
       "max_width": null,
       "min_height": null,
       "min_width": null,
       "object_fit": null,
       "object_position": null,
       "order": null,
       "overflow": null,
       "overflow_x": null,
       "overflow_y": null,
       "padding": null,
       "right": null,
       "top": null,
       "visibility": null,
       "width": null
      }
     },
     "a5281d0af11d46d1b639e0e969593b8e": {
      "model_module": "@jupyter-widgets/controls",
      "model_module_version": "1.5.0",
      "model_name": "ProgressStyleModel",
      "state": {
       "_model_module": "@jupyter-widgets/controls",
       "_model_module_version": "1.5.0",
       "_model_name": "ProgressStyleModel",
       "_view_count": null,
       "_view_module": "@jupyter-widgets/base",
       "_view_module_version": "1.2.0",
       "_view_name": "StyleView",
       "bar_color": null,
       "description_width": ""
      }
     },
     "af5085eedaa64061b1c928d35cc563f9": {
      "model_module": "@jupyter-widgets/controls",
      "model_module_version": "1.5.0",
      "model_name": "FloatProgressModel",
      "state": {
       "_dom_classes": [],
       "_model_module": "@jupyter-widgets/controls",
       "_model_module_version": "1.5.0",
       "_model_name": "FloatProgressModel",
       "_view_count": null,
       "_view_module": "@jupyter-widgets/controls",
       "_view_module_version": "1.5.0",
       "_view_name": "ProgressView",
       "bar_style": "success",
       "description": "",
       "description_tooltip": null,
       "layout": "IPY_MODEL_d1680848d25f401a808219ea04b12d94",
       "max": 1262161137.0,
       "min": 0.0,
       "orientation": "horizontal",
       "style": "IPY_MODEL_f08dfc49a062415eb69551a88ae4bd00",
       "value": 1262161137.0
      }
     },
     "b75e2f568b344bcea673f7367c66f726": {
      "model_module": "@jupyter-widgets/base",
      "model_module_version": "1.2.0",
      "model_name": "LayoutModel",
      "state": {
       "_model_module": "@jupyter-widgets/base",
       "_model_module_version": "1.2.0",
       "_model_name": "LayoutModel",
       "_view_count": null,
       "_view_module": "@jupyter-widgets/base",
       "_view_module_version": "1.2.0",
       "_view_name": "LayoutView",
       "align_content": null,
       "align_items": null,
       "align_self": null,
       "border": null,
       "bottom": null,
       "display": null,
       "flex": null,
       "flex_flow": null,
       "grid_area": null,
       "grid_auto_columns": null,
       "grid_auto_flow": null,
       "grid_auto_rows": null,
       "grid_column": null,
       "grid_gap": null,
       "grid_row": null,
       "grid_template_areas": null,
       "grid_template_columns": null,
       "grid_template_rows": null,
       "height": null,
       "justify_content": null,
       "justify_items": null,
       "left": null,
       "margin": null,
       "max_height": null,
       "max_width": null,
       "min_height": null,
       "min_width": null,
       "object_fit": null,
       "object_position": null,
       "order": null,
       "overflow": null,
       "overflow_x": null,
       "overflow_y": null,
       "padding": null,
       "right": null,
       "top": null,
       "visibility": null,
       "width": null
      }
     },
     "bc4dca7cd14e4bbbb2a50c2c57c042ed": {
      "model_module": "@jupyter-widgets/base",
      "model_module_version": "1.2.0",
      "model_name": "LayoutModel",
      "state": {
       "_model_module": "@jupyter-widgets/base",
       "_model_module_version": "1.2.0",
       "_model_name": "LayoutModel",
       "_view_count": null,
       "_view_module": "@jupyter-widgets/base",
       "_view_module_version": "1.2.0",
       "_view_name": "LayoutView",
       "align_content": null,
       "align_items": null,
       "align_self": null,
       "border": null,
       "bottom": null,
       "display": null,
       "flex": null,
       "flex_flow": null,
       "grid_area": null,
       "grid_auto_columns": null,
       "grid_auto_flow": null,
       "grid_auto_rows": null,
       "grid_column": null,
       "grid_gap": null,
       "grid_row": null,
       "grid_template_areas": null,
       "grid_template_columns": null,
       "grid_template_rows": null,
       "height": null,
       "justify_content": null,
       "justify_items": null,
       "left": null,
       "margin": null,
       "max_height": null,
       "max_width": null,
       "min_height": null,
       "min_width": null,
       "object_fit": null,
       "object_position": null,
       "order": null,
       "overflow": null,
       "overflow_x": null,
       "overflow_y": null,
       "padding": null,
       "right": null,
       "top": null,
       "visibility": null,
       "width": null
      }
     },
     "bcc1801e52a041c698f94e3bb7608f04": {
      "model_module": "@jupyter-widgets/base",
      "model_module_version": "1.2.0",
      "model_name": "LayoutModel",
      "state": {
       "_model_module": "@jupyter-widgets/base",
       "_model_module_version": "1.2.0",
       "_model_name": "LayoutModel",
       "_view_count": null,
       "_view_module": "@jupyter-widgets/base",
       "_view_module_version": "1.2.0",
       "_view_name": "LayoutView",
       "align_content": null,
       "align_items": null,
       "align_self": null,
       "border": null,
       "bottom": null,
       "display": null,
       "flex": null,
       "flex_flow": null,
       "grid_area": null,
       "grid_auto_columns": null,
       "grid_auto_flow": null,
       "grid_auto_rows": null,
       "grid_column": null,
       "grid_gap": null,
       "grid_row": null,
       "grid_template_areas": null,
       "grid_template_columns": null,
       "grid_template_rows": null,
       "height": null,
       "justify_content": null,
       "justify_items": null,
       "left": null,
       "margin": null,
       "max_height": null,
       "max_width": null,
       "min_height": null,
       "min_width": null,
       "object_fit": null,
       "object_position": null,
       "order": null,
       "overflow": null,
       "overflow_x": null,
       "overflow_y": null,
       "padding": null,
       "right": null,
       "top": null,
       "visibility": null,
       "width": null
      }
     },
     "c2ee45a2ae2948108f472a0ed2fb2ca5": {
      "model_module": "@jupyter-widgets/controls",
      "model_module_version": "1.5.0",
      "model_name": "HTMLModel",
      "state": {
       "_dom_classes": [],
       "_model_module": "@jupyter-widgets/controls",
       "_model_module_version": "1.5.0",
       "_model_name": "HTMLModel",
       "_view_count": null,
       "_view_module": "@jupyter-widgets/controls",
       "_view_module_version": "1.5.0",
       "_view_name": "HTMLView",
       "description": "",
       "description_tooltip": null,
       "layout": "IPY_MODEL_13c291cfdbcc487cb18b792f128f2248",
       "placeholder": "​",
       "style": "IPY_MODEL_c868d4fc4999424082b94d72f0bcd587",
       "value": "Downloading: 100%"
      }
     },
     "c53dd5f5d3d24a9891300fb1fc08a636": {
      "model_module": "@jupyter-widgets/controls",
      "model_module_version": "1.5.0",
      "model_name": "FloatProgressModel",
      "state": {
       "_dom_classes": [],
       "_model_module": "@jupyter-widgets/controls",
       "_model_module_version": "1.5.0",
       "_model_name": "FloatProgressModel",
       "_view_count": null,
       "_view_module": "@jupyter-widgets/controls",
       "_view_module_version": "1.5.0",
       "_view_name": "ProgressView",
       "bar_style": "success",
       "description": "",
       "description_tooltip": null,
       "layout": "IPY_MODEL_7bb57febde2c43c49009f79b13cac68e",
       "max": 84.0,
       "min": 0.0,
       "orientation": "horizontal",
       "style": "IPY_MODEL_3cfce22cb12d4593ba6ad255f94c4a03",
       "value": 84.0
      }
     },
     "c868d4fc4999424082b94d72f0bcd587": {
      "model_module": "@jupyter-widgets/controls",
      "model_module_version": "1.5.0",
      "model_name": "DescriptionStyleModel",
      "state": {
       "_model_module": "@jupyter-widgets/controls",
       "_model_module_version": "1.5.0",
       "_model_name": "DescriptionStyleModel",
       "_view_count": null,
       "_view_module": "@jupyter-widgets/base",
       "_view_module_version": "1.2.0",
       "_view_name": "StyleView",
       "description_width": ""
      }
     },
     "c8c7369635934a6482a6e6af415f1c1a": {
      "model_module": "@jupyter-widgets/base",
      "model_module_version": "1.2.0",
      "model_name": "LayoutModel",
      "state": {
       "_model_module": "@jupyter-widgets/base",
       "_model_module_version": "1.2.0",
       "_model_name": "LayoutModel",
       "_view_count": null,
       "_view_module": "@jupyter-widgets/base",
       "_view_module_version": "1.2.0",
       "_view_name": "LayoutView",
       "align_content": null,
       "align_items": null,
       "align_self": null,
       "border": null,
       "bottom": null,
       "display": null,
       "flex": null,
       "flex_flow": null,
       "grid_area": null,
       "grid_auto_columns": null,
       "grid_auto_flow": null,
       "grid_auto_rows": null,
       "grid_column": null,
       "grid_gap": null,
       "grid_row": null,
       "grid_template_areas": null,
       "grid_template_columns": null,
       "grid_template_rows": null,
       "height": null,
       "justify_content": null,
       "justify_items": null,
       "left": null,
       "margin": null,
       "max_height": null,
       "max_width": null,
       "min_height": null,
       "min_width": null,
       "object_fit": null,
       "object_position": null,
       "order": null,
       "overflow": null,
       "overflow_x": null,
       "overflow_y": null,
       "padding": null,
       "right": null,
       "top": null,
       "visibility": null,
       "width": null
      }
     },
     "ca8cd4b1b45b47a9b9080e0eea29b6f1": {
      "model_module": "@jupyter-widgets/controls",
      "model_module_version": "1.5.0",
      "model_name": "ProgressStyleModel",
      "state": {
       "_model_module": "@jupyter-widgets/controls",
       "_model_module_version": "1.5.0",
       "_model_name": "ProgressStyleModel",
       "_view_count": null,
       "_view_module": "@jupyter-widgets/base",
       "_view_module_version": "1.2.0",
       "_view_name": "StyleView",
       "bar_color": null,
       "description_width": ""
      }
     },
     "cc09ab3c21404cb1886fb0cc65ace885": {
      "model_module": "@jupyter-widgets/controls",
      "model_module_version": "1.5.0",
      "model_name": "DescriptionStyleModel",
      "state": {
       "_model_module": "@jupyter-widgets/controls",
       "_model_module_version": "1.5.0",
       "_model_name": "DescriptionStyleModel",
       "_view_count": null,
       "_view_module": "@jupyter-widgets/base",
       "_view_module_version": "1.2.0",
       "_view_name": "StyleView",
       "description_width": ""
      }
     },
     "ce00ab37cda7495d98f598d53d797b1d": {
      "model_module": "@jupyter-widgets/controls",
      "model_module_version": "1.5.0",
      "model_name": "HTMLModel",
      "state": {
       "_dom_classes": [],
       "_model_module": "@jupyter-widgets/controls",
       "_model_module_version": "1.5.0",
       "_model_name": "HTMLModel",
       "_view_count": null,
       "_view_module": "@jupyter-widgets/controls",
       "_view_module_version": "1.5.0",
       "_view_name": "HTMLView",
       "description": "",
       "description_tooltip": null,
       "layout": "IPY_MODEL_c8c7369635934a6482a6e6af415f1c1a",
       "placeholder": "​",
       "style": "IPY_MODEL_e1b3f5f918634834bbe4eaad10b60f93",
       "value": " 1.18G/1.18G [00:23&lt;00:00, 61.1MB/s]"
      }
     },
     "d0a1c12ac5d74b70a0ecbbe8ac897877": {
      "model_module": "@jupyter-widgets/base",
      "model_module_version": "1.2.0",
      "model_name": "LayoutModel",
      "state": {
       "_model_module": "@jupyter-widgets/base",
       "_model_module_version": "1.2.0",
       "_model_name": "LayoutModel",
       "_view_count": null,
       "_view_module": "@jupyter-widgets/base",
       "_view_module_version": "1.2.0",
       "_view_name": "LayoutView",
       "align_content": null,
       "align_items": null,
       "align_self": null,
       "border": null,
       "bottom": null,
       "display": null,
       "flex": null,
       "flex_flow": null,
       "grid_area": null,
       "grid_auto_columns": null,
       "grid_auto_flow": null,
       "grid_auto_rows": null,
       "grid_column": null,
       "grid_gap": null,
       "grid_row": null,
       "grid_template_areas": null,
       "grid_template_columns": null,
       "grid_template_rows": null,
       "height": null,
       "justify_content": null,
       "justify_items": null,
       "left": null,
       "margin": null,
       "max_height": null,
       "max_width": null,
       "min_height": null,
       "min_width": null,
       "object_fit": null,
       "object_position": null,
       "order": null,
       "overflow": null,
       "overflow_x": null,
       "overflow_y": null,
       "padding": null,
       "right": null,
       "top": null,
       "visibility": null,
       "width": null
      }
     },
     "d1680848d25f401a808219ea04b12d94": {
      "model_module": "@jupyter-widgets/base",
      "model_module_version": "1.2.0",
      "model_name": "LayoutModel",
      "state": {
       "_model_module": "@jupyter-widgets/base",
       "_model_module_version": "1.2.0",
       "_model_name": "LayoutModel",
       "_view_count": null,
       "_view_module": "@jupyter-widgets/base",
       "_view_module_version": "1.2.0",
       "_view_name": "LayoutView",
       "align_content": null,
       "align_items": null,
       "align_self": null,
       "border": null,
       "bottom": null,
       "display": null,
       "flex": null,
       "flex_flow": null,
       "grid_area": null,
       "grid_auto_columns": null,
       "grid_auto_flow": null,
       "grid_auto_rows": null,
       "grid_column": null,
       "grid_gap": null,
       "grid_row": null,
       "grid_template_areas": null,
       "grid_template_columns": null,
       "grid_template_rows": null,
       "height": null,
       "justify_content": null,
       "justify_items": null,
       "left": null,
       "margin": null,
       "max_height": null,
       "max_width": null,
       "min_height": null,
       "min_width": null,
       "object_fit": null,
       "object_position": null,
       "order": null,
       "overflow": null,
       "overflow_x": null,
       "overflow_y": null,
       "padding": null,
       "right": null,
       "top": null,
       "visibility": null,
       "width": null
      }
     },
     "d47fc3e8c5324ba3a8aa8449259749f2": {
      "model_module": "@jupyter-widgets/controls",
      "model_module_version": "1.5.0",
      "model_name": "ProgressStyleModel",
      "state": {
       "_model_module": "@jupyter-widgets/controls",
       "_model_module_version": "1.5.0",
       "_model_name": "ProgressStyleModel",
       "_view_count": null,
       "_view_module": "@jupyter-widgets/base",
       "_view_module_version": "1.2.0",
       "_view_name": "StyleView",
       "bar_color": null,
       "description_width": ""
      }
     },
     "db35446049f84107acfc7a580c73b3bf": {
      "model_module": "@jupyter-widgets/base",
      "model_module_version": "1.2.0",
      "model_name": "LayoutModel",
      "state": {
       "_model_module": "@jupyter-widgets/base",
       "_model_module_version": "1.2.0",
       "_model_name": "LayoutModel",
       "_view_count": null,
       "_view_module": "@jupyter-widgets/base",
       "_view_module_version": "1.2.0",
       "_view_name": "LayoutView",
       "align_content": null,
       "align_items": null,
       "align_self": null,
       "border": null,
       "bottom": null,
       "display": null,
       "flex": null,
       "flex_flow": null,
       "grid_area": null,
       "grid_auto_columns": null,
       "grid_auto_flow": null,
       "grid_auto_rows": null,
       "grid_column": null,
       "grid_gap": null,
       "grid_row": null,
       "grid_template_areas": null,
       "grid_template_columns": null,
       "grid_template_rows": null,
       "height": null,
       "justify_content": null,
       "justify_items": null,
       "left": null,
       "margin": null,
       "max_height": null,
       "max_width": null,
       "min_height": null,
       "min_width": null,
       "object_fit": null,
       "object_position": null,
       "order": null,
       "overflow": null,
       "overflow_x": null,
       "overflow_y": null,
       "padding": null,
       "right": null,
       "top": null,
       "visibility": null,
       "width": null
      }
     },
     "dcca48f5a082464ea4c188a1cbab564a": {
      "model_module": "@jupyter-widgets/controls",
      "model_module_version": "1.5.0",
      "model_name": "HTMLModel",
      "state": {
       "_dom_classes": [],
       "_model_module": "@jupyter-widgets/controls",
       "_model_module_version": "1.5.0",
       "_model_name": "HTMLModel",
       "_view_count": null,
       "_view_module": "@jupyter-widgets/controls",
       "_view_module_version": "1.5.0",
       "_view_name": "HTMLView",
       "description": "",
       "description_tooltip": null,
       "layout": "IPY_MODEL_78d27ace89b445858effe6747164c1e3",
       "placeholder": "​",
       "style": "IPY_MODEL_7335e08654d54fb3a508ca7f345e40e6",
       "value": " 2.01k/2.01k [00:00&lt;00:00, 74.3kB/s]"
      }
     },
     "dd86c00e50fb4899b9c3b0bf996cc897": {
      "model_module": "@jupyter-widgets/controls",
      "model_module_version": "1.5.0",
      "model_name": "HBoxModel",
      "state": {
       "_dom_classes": [],
       "_model_module": "@jupyter-widgets/controls",
       "_model_module_version": "1.5.0",
       "_model_name": "HBoxModel",
       "_view_count": null,
       "_view_module": "@jupyter-widgets/controls",
       "_view_module_version": "1.5.0",
       "_view_name": "HBoxView",
       "box_style": "",
       "children": [
        "IPY_MODEL_4d6fbd5a2fe74446be8224e021d9494a",
        "IPY_MODEL_af5085eedaa64061b1c928d35cc563f9",
        "IPY_MODEL_ce00ab37cda7495d98f598d53d797b1d"
       ],
       "layout": "IPY_MODEL_25ef143905f04ca8b9aabcea05dfa345"
      }
     },
     "de8f6c9956a34a5dbc2932d6b2755b83": {
      "model_module": "@jupyter-widgets/base",
      "model_module_version": "1.2.0",
      "model_name": "LayoutModel",
      "state": {
       "_model_module": "@jupyter-widgets/base",
       "_model_module_version": "1.2.0",
       "_model_name": "LayoutModel",
       "_view_count": null,
       "_view_module": "@jupyter-widgets/base",
       "_view_module_version": "1.2.0",
       "_view_name": "LayoutView",
       "align_content": null,
       "align_items": null,
       "align_self": null,
       "border": null,
       "bottom": null,
       "display": null,
       "flex": null,
       "flex_flow": null,
       "grid_area": null,
       "grid_auto_columns": null,
       "grid_auto_flow": null,
       "grid_auto_rows": null,
       "grid_column": null,
       "grid_gap": null,
       "grid_row": null,
       "grid_template_areas": null,
       "grid_template_columns": null,
       "grid_template_rows": null,
       "height": null,
       "justify_content": null,
       "justify_items": null,
       "left": null,
       "margin": null,
       "max_height": null,
       "max_width": null,
       "min_height": null,
       "min_width": null,
       "object_fit": null,
       "object_position": null,
       "order": null,
       "overflow": null,
       "overflow_x": null,
       "overflow_y": null,
       "padding": null,
       "right": null,
       "top": null,
       "visibility": null,
       "width": null
      }
     },
     "e1b3f5f918634834bbe4eaad10b60f93": {
      "model_module": "@jupyter-widgets/controls",
      "model_module_version": "1.5.0",
      "model_name": "DescriptionStyleModel",
      "state": {
       "_model_module": "@jupyter-widgets/controls",
       "_model_module_version": "1.5.0",
       "_model_name": "DescriptionStyleModel",
       "_view_count": null,
       "_view_module": "@jupyter-widgets/base",
       "_view_module_version": "1.2.0",
       "_view_name": "StyleView",
       "description_width": ""
      }
     },
     "e47d1cf7e9f64df78589d45660ad9ff1": {
      "model_module": "@jupyter-widgets/controls",
      "model_module_version": "1.5.0",
      "model_name": "HBoxModel",
      "state": {
       "_dom_classes": [],
       "_model_module": "@jupyter-widgets/controls",
       "_model_module_version": "1.5.0",
       "_model_name": "HBoxModel",
       "_view_count": null,
       "_view_module": "@jupyter-widgets/controls",
       "_view_module_version": "1.5.0",
       "_view_name": "HBoxView",
       "box_style": "",
       "children": [
        "IPY_MODEL_6f47582494b54e55984b8b25218ee12e",
        "IPY_MODEL_86cb3f07b2234de5b1274eff7837cdba",
        "IPY_MODEL_efc10e3f03814fb29b953f102bda9ce9"
       ],
       "layout": "IPY_MODEL_db35446049f84107acfc7a580c73b3bf"
      }
     },
     "e9670ecebe0243e5938de17ec5a0203a": {
      "model_module": "@jupyter-widgets/controls",
      "model_module_version": "1.5.0",
      "model_name": "DescriptionStyleModel",
      "state": {
       "_model_module": "@jupyter-widgets/controls",
       "_model_module_version": "1.5.0",
       "_model_name": "DescriptionStyleModel",
       "_view_count": null,
       "_view_module": "@jupyter-widgets/base",
       "_view_module_version": "1.2.0",
       "_view_name": "StyleView",
       "description_width": ""
      }
     },
     "eaa8d39927a54bebab1e086025f97a00": {
      "model_module": "@jupyter-widgets/controls",
      "model_module_version": "1.5.0",
      "model_name": "DescriptionStyleModel",
      "state": {
       "_model_module": "@jupyter-widgets/controls",
       "_model_module_version": "1.5.0",
       "_model_name": "DescriptionStyleModel",
       "_view_count": null,
       "_view_module": "@jupyter-widgets/base",
       "_view_module_version": "1.2.0",
       "_view_name": "StyleView",
       "description_width": ""
      }
     },
     "ec1ce89d3e8042a7a956b27b56648e54": {
      "model_module": "@jupyter-widgets/controls",
      "model_module_version": "1.5.0",
      "model_name": "HTMLModel",
      "state": {
       "_dom_classes": [],
       "_model_module": "@jupyter-widgets/controls",
       "_model_module_version": "1.5.0",
       "_model_name": "HTMLModel",
       "_view_count": null,
       "_view_module": "@jupyter-widgets/controls",
       "_view_module_version": "1.5.0",
       "_view_name": "HTMLView",
       "description": "",
       "description_tooltip": null,
       "layout": "IPY_MODEL_de8f6c9956a34a5dbc2932d6b2755b83",
       "placeholder": "​",
       "style": "IPY_MODEL_64abfd4c51664ce99b43cb9c0f149836",
       "value": "Downloading: 100%"
      }
     },
     "efc10e3f03814fb29b953f102bda9ce9": {
      "model_module": "@jupyter-widgets/controls",
      "model_module_version": "1.5.0",
      "model_name": "HTMLModel",
      "state": {
       "_dom_classes": [],
       "_model_module": "@jupyter-widgets/controls",
       "_model_module_version": "1.5.0",
       "_model_name": "HTMLModel",
       "_view_count": null,
       "_view_module": "@jupyter-widgets/controls",
       "_view_module_version": "1.5.0",
       "_view_name": "HTMLView",
       "description": "",
       "description_tooltip": null,
       "layout": "IPY_MODEL_1fd7c001647e45728437104b127d2654",
       "placeholder": "​",
       "style": "IPY_MODEL_cc09ab3c21404cb1886fb0cc65ace885",
       "value": " 696/696 [00:00&lt;00:00, 25.0kB/s]"
      }
     },
     "f08dfc49a062415eb69551a88ae4bd00": {
      "model_module": "@jupyter-widgets/controls",
      "model_module_version": "1.5.0",
      "model_name": "ProgressStyleModel",
      "state": {
       "_model_module": "@jupyter-widgets/controls",
       "_model_module_version": "1.5.0",
       "_model_name": "ProgressStyleModel",
       "_view_count": null,
       "_view_module": "@jupyter-widgets/base",
       "_view_module_version": "1.2.0",
       "_view_name": "StyleView",
       "bar_color": null,
       "description_width": ""
      }
     },
     "f356472494fc436ea59559f69535a57f": {
      "model_module": "@jupyter-widgets/controls",
      "model_module_version": "1.5.0",
      "model_name": "HTMLModel",
      "state": {
       "_dom_classes": [],
       "_model_module": "@jupyter-widgets/controls",
       "_model_module_version": "1.5.0",
       "_model_name": "HTMLModel",
       "_view_count": null,
       "_view_module": "@jupyter-widgets/controls",
       "_view_module_version": "1.5.0",
       "_view_name": "HTMLView",
       "description": "",
       "description_tooltip": null,
       "layout": "IPY_MODEL_bcc1801e52a041c698f94e3bb7608f04",
       "placeholder": "​",
       "style": "IPY_MODEL_8af90a830b86440a8b56dbf12ae1129b",
       "value": "Downloading: 100%"
      }
     },
     "f69b454945c54020acd5c224515ab77d": {
      "model_module": "@jupyter-widgets/controls",
      "model_module_version": "1.5.0",
      "model_name": "HTMLModel",
      "state": {
       "_dom_classes": [],
       "_model_module": "@jupyter-widgets/controls",
       "_model_module_version": "1.5.0",
       "_model_name": "HTMLModel",
       "_view_count": null,
       "_view_module": "@jupyter-widgets/controls",
       "_view_module_version": "1.5.0",
       "_view_name": "HTMLView",
       "description": "",
       "description_tooltip": null,
       "layout": "IPY_MODEL_18b6bc796f624453a5fd7f8f03cd0ff7",
       "placeholder": "​",
       "style": "IPY_MODEL_eaa8d39927a54bebab1e086025f97a00",
       "value": " 84.0/84.0 [00:00&lt;00:00, 1.71kB/s]"
      }
     },
     "fc48b8d1f3434dbab784d6b03daa3c59": {
      "model_module": "@jupyter-widgets/controls",
      "model_module_version": "1.5.0",
      "model_name": "HTMLModel",
      "state": {
       "_dom_classes": [],
       "_model_module": "@jupyter-widgets/controls",
       "_model_module_version": "1.5.0",
       "_model_name": "HTMLModel",
       "_view_count": null,
       "_view_module": "@jupyter-widgets/controls",
       "_view_module_version": "1.5.0",
       "_view_name": "HTMLView",
       "description": "",
       "description_tooltip": null,
       "layout": "IPY_MODEL_a4986d0a7bf948dbbd290d76848a7744",
       "placeholder": "​",
       "style": "IPY_MODEL_17cda698df224d6bae09452c045d91a4",
       "value": "Downloading: 100%"
      }
     },
     "fd64c598bdba494496a27c83a3e2f2a1": {
      "model_module": "@jupyter-widgets/controls",
      "model_module_version": "1.5.0",
      "model_name": "HTMLModel",
      "state": {
       "_dom_classes": [],
       "_model_module": "@jupyter-widgets/controls",
       "_model_module_version": "1.5.0",
       "_model_name": "HTMLModel",
       "_view_count": null,
       "_view_module": "@jupyter-widgets/controls",
       "_view_module_version": "1.5.0",
       "_view_name": "HTMLView",
       "description": "",
       "description_tooltip": null,
       "layout": "IPY_MODEL_450308b629474ccfadb33776ac83acf5",
       "placeholder": "​",
       "style": "IPY_MODEL_a0fa2e0c171d44a6ba566aa29edf0337",
       "value": "Downloading: 100%"
      }
     }
    },
    "version_major": 2,
    "version_minor": 0
   }
  }
 },
 "nbformat": 4,
 "nbformat_minor": 5
}
