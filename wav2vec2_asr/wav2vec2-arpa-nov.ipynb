{
 "cells": [
  {
   "cell_type": "code",
   "execution_count": 1,
   "id": "ebef8e4f",
   "metadata": {
    "execution": {
     "iopub.execute_input": "2022-12-14T09:16:12.572409Z",
     "iopub.status.busy": "2022-12-14T09:16:12.571689Z",
     "iopub.status.idle": "2022-12-14T09:17:07.405324Z",
     "shell.execute_reply": "2022-12-14T09:17:07.404166Z"
    },
    "papermill": {
     "duration": 54.849262,
     "end_time": "2022-12-14T09:17:07.408158",
     "exception": false,
     "start_time": "2022-12-14T09:16:12.558896",
     "status": "completed"
    },
    "tags": []
   },
   "outputs": [
    {
     "name": "stdout",
     "output_type": "stream",
     "text": [
      "\u001b[33mWARNING: Running pip as the 'root' user can result in broken permissions and conflicting behaviour with the system package manager. It is recommended to use a virtual environment instead: https://pip.pypa.io/warnings/venv\u001b[0m\u001b[33m\r\n",
      "\u001b[0m"
     ]
    }
   ],
   "source": [
    "!pip -q install https://github.com/kpu/kenlm/archive/master.zip pyctcdecode"
   ]
  },
  {
   "cell_type": "code",
   "execution_count": 2,
   "id": "58e3d5dc",
   "metadata": {
    "execution": {
     "iopub.execute_input": "2022-12-14T09:17:07.430178Z",
     "iopub.status.busy": "2022-12-14T09:17:07.429844Z",
     "iopub.status.idle": "2022-12-14T09:17:16.910068Z",
     "shell.execute_reply": "2022-12-14T09:17:16.908919Z"
    },
    "papermill": {
     "duration": 9.493964,
     "end_time": "2022-12-14T09:17:16.912608",
     "exception": false,
     "start_time": "2022-12-14T09:17:07.418644",
     "status": "completed"
    },
    "tags": []
   },
   "outputs": [
    {
     "name": "stdout",
     "output_type": "stream",
     "text": [
      "Cloning into 'asr_bangla'...\r\n",
      "remote: Enumerating objects: 316, done.\u001b[K\r\n",
      "remote: Counting objects: 100% (45/45), done.\u001b[K\r\n",
      "remote: Compressing objects: 100% (38/38), done.\u001b[K\r\n",
      "remote: Total 316 (delta 16), reused 34 (delta 6), pack-reused 271\u001b[K\r\n",
      "Receiving objects: 100% (316/316), 61.13 MiB | 17.81 MiB/s, done.\r\n",
      "Resolving deltas: 100% (149/149), done.\r\n"
     ]
    }
   ],
   "source": [
    "!git clone https://github.com/mushrafi88/asr_bangla.git"
   ]
  },
  {
   "cell_type": "code",
   "execution_count": 3,
   "id": "0fed4807",
   "metadata": {
    "execution": {
     "iopub.execute_input": "2022-12-14T09:17:16.938759Z",
     "iopub.status.busy": "2022-12-14T09:17:16.937789Z",
     "iopub.status.idle": "2022-12-14T09:17:23.052029Z",
     "shell.execute_reply": "2022-12-14T09:17:23.050984Z"
    },
    "papermill": {
     "duration": 6.129826,
     "end_time": "2022-12-14T09:17:23.054527",
     "exception": false,
     "start_time": "2022-12-14T09:17:16.924701",
     "status": "completed"
    },
    "tags": []
   },
   "outputs": [
    {
     "name": "stdout",
     "output_type": "stream",
     "text": [
      "INFO: Pandarallel will run on 8 workers.\n",
      "INFO: Pandarallel will use Memory file system to transfer data between the main process and workers.\n"
     ]
    }
   ],
   "source": [
    "import numpy as np\n",
    "import pandas as pd\n",
    "import random\n",
    "import ast\n",
    "from tqdm import tqdm\n",
    "from IPython import display as ipd\n",
    "\n",
    "# visualization\n",
    "import matplotlib.pyplot as plt\n",
    "from tabulate import tabulate\n",
    "from joblib import Parallel, delayed\n",
    "\n",
    "#normalization\n",
    "from pandarallel import pandarallel\n",
    "pandarallel.initialize(progress_bar=True,nb_workers=8)\n",
    "tqdm.pandas()\n",
    "\n",
    "import torch\n",
    "import torchaudio\n",
    "import torchaudio.functional as F\n",
    "import torchaudio.transforms as T\n",
    "from torchmetrics.functional.audio import scale_invariant_signal_noise_ratio\n",
    "import librosa\n",
    "\n",
    "\n",
    "from datasets import Dataset,Audio\n",
    "\n",
    "\n",
    "# Set environment variables\n",
    "import warnings\n",
    "warnings.filterwarnings('ignore')"
   ]
  },
  {
   "cell_type": "code",
   "execution_count": 4,
   "id": "1bb2783a",
   "metadata": {
    "execution": {
     "iopub.execute_input": "2022-12-14T09:17:23.088759Z",
     "iopub.status.busy": "2022-12-14T09:17:23.088137Z",
     "iopub.status.idle": "2022-12-14T09:17:23.094743Z",
     "shell.execute_reply": "2022-12-14T09:17:23.093342Z"
    },
    "papermill": {
     "duration": 0.023984,
     "end_time": "2022-12-14T09:17:23.097122",
     "exception": false,
     "start_time": "2022-12-14T09:17:23.073138",
     "status": "completed"
    },
    "tags": []
   },
   "outputs": [],
   "source": [
    "import os\n",
    "os.environ[\"WANDB_DISABLED\"] = \"true\""
   ]
  },
  {
   "cell_type": "code",
   "execution_count": 5,
   "id": "04fb58aa",
   "metadata": {
    "execution": {
     "iopub.execute_input": "2022-12-14T09:17:23.122138Z",
     "iopub.status.busy": "2022-12-14T09:17:23.121861Z",
     "iopub.status.idle": "2022-12-14T09:17:39.741131Z",
     "shell.execute_reply": "2022-12-14T09:17:39.740184Z"
    },
    "papermill": {
     "duration": 16.634169,
     "end_time": "2022-12-14T09:17:39.743236",
     "exception": false,
     "start_time": "2022-12-14T09:17:23.109067",
     "status": "completed"
    },
    "tags": []
   },
   "outputs": [
    {
     "data": {
      "text/html": [
       "<div>\n",
       "<style scoped>\n",
       "    .dataframe tbody tr th:only-of-type {\n",
       "        vertical-align: middle;\n",
       "    }\n",
       "\n",
       "    .dataframe tbody tr th {\n",
       "        vertical-align: top;\n",
       "    }\n",
       "\n",
       "    .dataframe thead th {\n",
       "        text-align: right;\n",
       "    }\n",
       "</style>\n",
       "<table border=\"1\" class=\"dataframe\">\n",
       "  <thead>\n",
       "    <tr style=\"text-align: right;\">\n",
       "      <th></th>\n",
       "      <th>sentence</th>\n",
       "    </tr>\n",
       "  </thead>\n",
       "  <tbody>\n",
       "    <tr>\n",
       "      <th>0</th>\n",
       "      <td>পশ্চিমবঙ্গের বরখাস্ত হওয়া মন্ত্রী পার্থ চট্টোপ...</td>\n",
       "    </tr>\n",
       "    <tr>\n",
       "      <th>1</th>\n",
       "      <td>আর জামিনের আবেদন করলেন না অর্পিতা</td>\n",
       "    </tr>\n",
       "    <tr>\n",
       "      <th>2</th>\n",
       "      <td>আজ শুক্রবার দিনের ইডি হেফাজত শেষে তাঁদের হাজির...</td>\n",
       "    </tr>\n",
       "    <tr>\n",
       "      <th>3</th>\n",
       "      <td>সেখানে পার্থর আইনজীবী জামিনের আবেদন জানালেও অর...</td>\n",
       "    </tr>\n",
       "    <tr>\n",
       "      <th>4</th>\n",
       "      <td>অর্পিতা মুখার্জি কারাগারেই</td>\n",
       "    </tr>\n",
       "    <tr>\n",
       "      <th>...</th>\n",
       "      <td>...</td>\n",
       "    </tr>\n",
       "    <tr>\n",
       "      <th>8418468</th>\n",
       "      <td>চারটি অভিযোগে তাঁকে মৃত্যুদণ্ড দেওয়া হয়</td>\n",
       "    </tr>\n",
       "    <tr>\n",
       "      <th>8418469</th>\n",
       "      <td>এর মধ্যে রাজনৈতিক গ্রুপকে গণহত্যার দায়ের বিষয়ট...</td>\n",
       "    </tr>\n",
       "    <tr>\n",
       "      <th>8418470</th>\n",
       "      <td>যা প্রথম</td>\n",
       "    </tr>\n",
       "    <tr>\n",
       "      <th>8418471</th>\n",
       "      <td>অপর একটি অভিযোগে তাঁকে বছরের কারাদণ্ড দিয়েছেন ...</td>\n",
       "    </tr>\n",
       "    <tr>\n",
       "      <th>8418472</th>\n",
       "      <td>NaN</td>\n",
       "    </tr>\n",
       "  </tbody>\n",
       "</table>\n",
       "<p>8418473 rows × 1 columns</p>\n",
       "</div>"
      ],
      "text/plain": [
       "                                                  sentence\n",
       "0        পশ্চিমবঙ্গের বরখাস্ত হওয়া মন্ত্রী পার্থ চট্টোপ...\n",
       "1                        আর জামিনের আবেদন করলেন না অর্পিতা\n",
       "2        আজ শুক্রবার দিনের ইডি হেফাজত শেষে তাঁদের হাজির...\n",
       "3        সেখানে পার্থর আইনজীবী জামিনের আবেদন জানালেও অর...\n",
       "4                               অর্পিতা মুখার্জি কারাগারেই\n",
       "...                                                    ...\n",
       "8418468            চারটি অভিযোগে তাঁকে মৃত্যুদণ্ড দেওয়া হয়\n",
       "8418469  এর মধ্যে রাজনৈতিক গ্রুপকে গণহত্যার দায়ের বিষয়ট...\n",
       "8418470                                           যা প্রথম\n",
       "8418471  অপর একটি অভিযোগে তাঁকে বছরের কারাদণ্ড দিয়েছেন ...\n",
       "8418472                                                NaN\n",
       "\n",
       "[8418473 rows x 1 columns]"
      ]
     },
     "execution_count": 5,
     "metadata": {},
     "output_type": "execute_result"
    }
   ],
   "source": [
    "df = pd.read_csv('/kaggle/input/bn-corpus-prothom-alo/bangla_text_data.csv')\n",
    "df"
   ]
  },
  {
   "cell_type": "code",
   "execution_count": 6,
   "id": "3e5c3dce",
   "metadata": {
    "execution": {
     "iopub.execute_input": "2022-12-14T09:17:39.769268Z",
     "iopub.status.busy": "2022-12-14T09:17:39.768473Z",
     "iopub.status.idle": "2022-12-14T09:17:40.444263Z",
     "shell.execute_reply": "2022-12-14T09:17:40.443207Z"
    },
    "papermill": {
     "duration": 0.690982,
     "end_time": "2022-12-14T09:17:40.446694",
     "exception": false,
     "start_time": "2022-12-14T09:17:39.755712",
     "status": "completed"
    },
    "tags": []
   },
   "outputs": [],
   "source": [
    "df=df.dropna(how='any')"
   ]
  },
  {
   "cell_type": "code",
   "execution_count": 7,
   "id": "23fd47cd",
   "metadata": {
    "execution": {
     "iopub.execute_input": "2022-12-14T09:17:40.473633Z",
     "iopub.status.busy": "2022-12-14T09:17:40.471996Z",
     "iopub.status.idle": "2022-12-14T09:17:45.041609Z",
     "shell.execute_reply": "2022-12-14T09:17:45.040264Z"
    },
    "papermill": {
     "duration": 4.586435,
     "end_time": "2022-12-14T09:17:45.045435",
     "exception": false,
     "start_time": "2022-12-14T09:17:40.459000",
     "status": "completed"
    },
    "tags": []
   },
   "outputs": [],
   "source": [
    "with open(\"text.txt\", \"w\") as file:\n",
    "    file.write(\" \".join(df[\"sentence\"]))"
   ]
  },
  {
   "cell_type": "code",
   "execution_count": 8,
   "id": "f07c7926",
   "metadata": {
    "execution": {
     "iopub.execute_input": "2022-12-14T09:17:45.102076Z",
     "iopub.status.busy": "2022-12-14T09:17:45.101727Z",
     "iopub.status.idle": "2022-12-14T09:21:10.863096Z",
     "shell.execute_reply": "2022-12-14T09:21:10.861321Z"
    },
    "papermill": {
     "duration": 205.789496,
     "end_time": "2022-12-14T09:21:10.868105",
     "exception": false,
     "start_time": "2022-12-14T09:17:45.078609",
     "status": "completed"
    },
    "tags": []
   },
   "outputs": [
    {
     "name": "stdout",
     "output_type": "stream",
     "text": [
      "\r\n",
      "\r\n",
      "\r\n",
      "cmake is already the newest version (3.16.3-1ubuntu1).\r\n",
      "libboost-system-dev is already the newest version (1.71.0.0ubuntu2).\r\n",
      "build-essential is already the newest version (12.8ubuntu1.1).\r\n",
      "The following additional packages will be installed:\r\n",
      "  bzip2-doc libboost-atomic1.71-dev libboost-atomic1.71.0\r\n",
      "  libboost-chrono1.71-dev libboost-chrono1.71.0 libboost-date-time1.71-dev\r\n",
      "  libboost-date-time1.71.0 libboost-program-options1.71-dev\r\n",
      "  libboost-program-options1.71.0 libboost-serialization1.71-dev\r\n",
      "  libboost-serialization1.71.0 libboost-test1.71-dev libboost-test1.71.0\r\n",
      "  libboost-thread1.71-dev libboost-thread1.71.0 zlib1g\r\n",
      "Suggested packages:\r\n",
      "  libeigen3-doc libmpfrc++-dev liblzma-doc\r\n",
      "The following NEW packages will be installed:\r\n",
      "  bzip2-doc libboost-atomic1.71-dev libboost-atomic1.71.0\r\n",
      "  libboost-chrono1.71-dev libboost-chrono1.71.0 libboost-date-time1.71-dev\r\n",
      "  libboost-date-time1.71.0 libboost-program-options-dev\r\n",
      "  libboost-program-options1.71-dev libboost-program-options1.71.0\r\n",
      "  libboost-serialization1.71-dev libboost-serialization1.71.0\r\n",
      "  libboost-test-dev libboost-test1.71-dev libboost-test1.71.0\r\n",
      "  libboost-thread-dev libboost-thread1.71-dev libboost-thread1.71.0 libbz2-dev\r\n",
      "  libeigen3-dev liblzma-dev\r\n",
      "The following packages will be upgraded:\r\n",
      "  zlib1g zlib1g-dev\r\n",
      "2 upgraded, 21 newly installed, 0 to remove and 91 not upgraded.\r\n",
      "Need to get 5830 kB of archives.\r\n",
      "After this operation, 48.8 MB of additional disk space will be used.\r\n",
      "Get:1 http://archive.ubuntu.com/ubuntu focal-updates/main amd64 zlib1g-dev amd64 1:1.2.11.dfsg-2ubuntu1.5 [155 kB]\r\n",
      "Get:2 http://archive.ubuntu.com/ubuntu focal-updates/main amd64 zlib1g amd64 1:1.2.11.dfsg-2ubuntu1.5 [54.2 kB]\r\n",
      "Get:3 http://archive.ubuntu.com/ubuntu focal/main amd64 bzip2-doc all 1.0.8-2 [501 kB]\r\n",
      "Get:4 http://archive.ubuntu.com/ubuntu focal/main amd64 libboost-atomic1.71.0 amd64 1.71.0-6ubuntu6 [205 kB]\r\n",
      "Get:5 http://archive.ubuntu.com/ubuntu focal/main amd64 libboost-atomic1.71-dev amd64 1.71.0-6ubuntu6 [205 kB]\r\n",
      "Get:6 http://archive.ubuntu.com/ubuntu focal/main amd64 libboost-chrono1.71.0 amd64 1.71.0-6ubuntu6 [217 kB]\r\n",
      "Get:7 http://archive.ubuntu.com/ubuntu focal/main amd64 libboost-chrono1.71-dev amd64 1.71.0-6ubuntu6 [225 kB]\r\n",
      "Get:8 http://archive.ubuntu.com/ubuntu focal/main amd64 libboost-date-time1.71.0 amd64 1.71.0-6ubuntu6 [219 kB]\r\n",
      "Get:9 http://archive.ubuntu.com/ubuntu focal/main amd64 libboost-serialization1.71.0 amd64 1.71.0-6ubuntu6 [302 kB]\r\n",
      "Get:10 http://archive.ubuntu.com/ubuntu focal/main amd64 libboost-serialization1.71-dev amd64 1.71.0-6ubuntu6 [344 kB]\r\n",
      "Get:11 http://archive.ubuntu.com/ubuntu focal/main amd64 libboost-date-time1.71-dev amd64 1.71.0-6ubuntu6 [228 kB]\r\n",
      "Get:12 http://archive.ubuntu.com/ubuntu focal/main amd64 libboost-program-options1.71.0 amd64 1.71.0-6ubuntu6 [342 kB]\r\n",
      "Get:13 http://archive.ubuntu.com/ubuntu focal/main amd64 libboost-program-options1.71-dev amd64 1.71.0-6ubuntu6 [374 kB]\r\n",
      "Get:14 http://archive.ubuntu.com/ubuntu focal/main amd64 libboost-program-options-dev amd64 1.71.0.0ubuntu2 [3408 B]\r\n",
      "Get:15 http://archive.ubuntu.com/ubuntu focal/universe amd64 libboost-test1.71.0 amd64 1.71.0-6ubuntu6 [437 kB]\r\n",
      "Get:16 http://archive.ubuntu.com/ubuntu focal/universe amd64 libboost-test1.71-dev amd64 1.71.0-6ubuntu6 [513 kB]\r\n",
      "Get:17 http://archive.ubuntu.com/ubuntu focal/universe amd64 libboost-test-dev amd64 1.71.0.0ubuntu2 [3424 B]\r\n",
      "Get:18 http://archive.ubuntu.com/ubuntu focal/main amd64 libboost-thread1.71.0 amd64 1.71.0-6ubuntu6 [249 kB]\r\n",
      "Get:19 http://archive.ubuntu.com/ubuntu focal/main amd64 libboost-thread1.71-dev amd64 1.71.0-6ubuntu6 [258 kB]\r\n",
      "Get:20 http://archive.ubuntu.com/ubuntu focal/main amd64 libboost-thread-dev amd64 1.71.0.0ubuntu2 [3416 B]\r\n",
      "Get:21 http://archive.ubuntu.com/ubuntu focal/main amd64 libbz2-dev amd64 1.0.8-2 [30.2 kB]\r\n",
      "Get:22 http://archive.ubuntu.com/ubuntu focal/universe amd64 libeigen3-dev all 3.3.7-2 [815 kB]\r\n",
      "Get:23 http://archive.ubuntu.com/ubuntu focal-updates/main amd64 liblzma-dev amd64 5.2.4-1ubuntu1.1 [147 kB]\r\n",
      "Fetched 5830 kB in 1s (4724 kB/s)\r\n",
      "\n",
      "(Reading database ... 108827 files and directories currently installed.)\r\n",
      "Preparing to unpack .../zlib1g-dev_1%3a1.2.11.dfsg-2ubuntu1.5_amd64.deb ...\r\n",
      "\u001b7\u001b[24;0f\u001b[42m\u001b[30mProgress: [  0%]\u001b[49m\u001b[39m [..........................................................] \u001b8\u001b7\u001b[24;0f\u001b[42m\u001b[30mProgress: [  1%]\u001b[49m\u001b[39m [..........................................................] \u001b8Unpacking zlib1g-dev:amd64 (1:1.2.11.dfsg-2ubuntu1.5) over (1:1.2.11.dfsg-2ubuntu1.3) ...\r\n",
      "\u001b7\u001b[24;0f\u001b[42m\u001b[30mProgress: [  2%]\u001b[49m\u001b[39m [#.........................................................] \u001b8Preparing to unpack .../zlib1g_1%3a1.2.11.dfsg-2ubuntu1.5_amd64.deb ...\r\n",
      "\u001b7\u001b[24;0f\u001b[42m\u001b[30mProgress: [  3%]\u001b[49m\u001b[39m [#.........................................................] \u001b8Unpacking zlib1g:amd64 (1:1.2.11.dfsg-2ubuntu1.5) over (1:1.2.11.dfsg-2ubuntu1.3) ...\r\n",
      "\u001b7\u001b[24;0f\u001b[42m\u001b[30mProgress: [  4%]\u001b[49m\u001b[39m [##........................................................] \u001b8Setting up zlib1g:amd64 (1:1.2.11.dfsg-2ubuntu1.5) ...\r\n",
      "\u001b7\u001b[24;0f\u001b[42m\u001b[30mProgress: [  5%]\u001b[49m\u001b[39m [###.......................................................] \u001b8\u001b7\u001b[24;0f\u001b[42m\u001b[30mProgress: [  6%]\u001b[49m\u001b[39m [###.......................................................] \u001b8Selecting previously unselected package bzip2-doc.\r\n",
      "(Reading database ... 108827 files and directories currently installed.)\r\n",
      "Preparing to unpack .../00-bzip2-doc_1.0.8-2_all.deb ...\r\n",
      "\u001b7\u001b[24;0f\u001b[42m\u001b[30mProgress: [  8%]\u001b[49m\u001b[39m [####......................................................] \u001b8Unpacking bzip2-doc (1.0.8-2) ...\r\n",
      "\u001b7\u001b[24;0f\u001b[42m\u001b[30mProgress: [  9%]\u001b[49m\u001b[39m [####......................................................] \u001b8Selecting previously unselected package libboost-atomic1.71.0:amd64.\r\n",
      "Preparing to unpack .../01-libboost-atomic1.71.0_1.71.0-6ubuntu6_amd64.deb ...\r\n",
      "\u001b7\u001b[24;0f\u001b[42m\u001b[30mProgress: [ 10%]\u001b[49m\u001b[39m [#####.....................................................] \u001b8Unpacking libboost-atomic1.71.0:amd64 (1.71.0-6ubuntu6) ...\r\n",
      "\u001b7\u001b[24;0f\u001b[42m\u001b[30mProgress: [ 11%]\u001b[49m\u001b[39m [######....................................................] \u001b8Selecting previously unselected package libboost-atomic1.71-dev:amd64.\r\n",
      "Preparing to unpack .../02-libboost-atomic1.71-dev_1.71.0-6ubuntu6_amd64.deb ...\r\n",
      "\u001b7\u001b[24;0f\u001b[42m\u001b[30mProgress: [ 12%]\u001b[49m\u001b[39m [######....................................................] \u001b8Unpacking libboost-atomic1.71-dev:amd64 (1.71.0-6ubuntu6) ...\r\n",
      "\u001b7\u001b[24;0f\u001b[42m\u001b[30mProgress: [ 13%]\u001b[49m\u001b[39m [#######...................................................] \u001b8Selecting previously unselected package libboost-chrono1.71.0:amd64.\r\n",
      "Preparing to unpack .../03-libboost-chrono1.71.0_1.71.0-6ubuntu6_amd64.deb ...\r\n",
      "\u001b7\u001b[24;0f\u001b[42m\u001b[30mProgress: [ 14%]\u001b[49m\u001b[39m [########..................................................] \u001b8Unpacking libboost-chrono1.71.0:amd64 (1.71.0-6ubuntu6) ...\r\n",
      "\u001b7\u001b[24;0f\u001b[42m\u001b[30mProgress: [ 15%]\u001b[49m\u001b[39m [########..................................................] \u001b8Selecting previously unselected package libboost-chrono1.71-dev:amd64.\r\n",
      "Preparing to unpack .../04-libboost-chrono1.71-dev_1.71.0-6ubuntu6_amd64.deb ...\r\n",
      "\u001b7\u001b[24;0f\u001b[42m\u001b[30mProgress: [ 16%]\u001b[49m\u001b[39m [#########.................................................] \u001b8Unpacking libboost-chrono1.71-dev:amd64 (1.71.0-6ubuntu6) ...\r\n",
      "\u001b7\u001b[24;0f\u001b[42m\u001b[30mProgress: [ 17%]\u001b[49m\u001b[39m [#########.................................................] \u001b8Selecting previously unselected package libboost-date-time1.71.0:amd64.\r\n",
      "Preparing to unpack .../05-libboost-date-time1.71.0_1.71.0-6ubuntu6_amd64.deb ...\r\n",
      "\u001b7\u001b[24;0f\u001b[42m\u001b[30mProgress: [ 18%]\u001b[49m\u001b[39m [##########................................................] \u001b8Unpacking libboost-date-time1.71.0:amd64 (1.71.0-6ubuntu6) ...\r\n",
      "\u001b7\u001b[24;0f\u001b[42m\u001b[30mProgress: [ 19%]\u001b[49m\u001b[39m [###########...............................................] \u001b8Selecting previously unselected package libboost-serialization1.71.0:amd64.\r\n",
      "Preparing to unpack .../06-libboost-serialization1.71.0_1.71.0-6ubuntu6_amd64.deb ...\r\n",
      "\u001b7\u001b[24;0f\u001b[42m\u001b[30mProgress: [ 20%]\u001b[49m\u001b[39m [###########...............................................] \u001b8Unpacking libboost-serialization1.71.0:amd64 (1.71.0-6ubuntu6) ...\r\n",
      "\u001b7\u001b[24;0f\u001b[42m\u001b[30mProgress: [ 22%]\u001b[49m\u001b[39m [############..............................................] \u001b8Selecting previously unselected package libboost-serialization1.71-dev:amd64.\r\n",
      "Preparing to unpack .../07-libboost-serialization1.71-dev_1.71.0-6ubuntu6_amd64.deb ...\r\n",
      "\u001b7\u001b[24;0f\u001b[42m\u001b[30mProgress: [ 23%]\u001b[49m\u001b[39m [#############.............................................] \u001b8Unpacking libboost-serialization1.71-dev:amd64 (1.71.0-6ubuntu6) ...\r\n",
      "\u001b7\u001b[24;0f\u001b[42m\u001b[30mProgress: [ 24%]\u001b[49m\u001b[39m [#############.............................................] \u001b8Selecting previously unselected package libboost-date-time1.71-dev:amd64.\r\n",
      "Preparing to unpack .../08-libboost-date-time1.71-dev_1.71.0-6ubuntu6_amd64.deb ...\r\n",
      "\u001b7\u001b[24;0f\u001b[42m\u001b[30mProgress: [ 25%]\u001b[49m\u001b[39m [##############............................................] \u001b8Unpacking libboost-date-time1.71-dev:amd64 (1.71.0-6ubuntu6) ...\r\n",
      "\u001b7\u001b[24;0f\u001b[42m\u001b[30mProgress: [ 26%]\u001b[49m\u001b[39m [##############............................................] \u001b8Selecting previously unselected package libboost-program-options1.71.0:amd64.\r\n",
      "Preparing to unpack .../09-libboost-program-options1.71.0_1.71.0-6ubuntu6_amd64.deb ...\r\n",
      "\u001b7\u001b[24;0f\u001b[42m\u001b[30mProgress: [ 27%]\u001b[49m\u001b[39m [###############...........................................] \u001b8Unpacking libboost-program-options1.71.0:amd64 (1.71.0-6ubuntu6) ...\r\n",
      "\u001b7\u001b[24;0f\u001b[42m\u001b[30mProgress: [ 28%]\u001b[49m\u001b[39m [################..........................................] \u001b8Selecting previously unselected package libboost-program-options1.71-dev:amd64.\r\n",
      "Preparing to unpack .../10-libboost-program-options1.71-dev_1.71.0-6ubuntu6_amd64.deb ...\r\n",
      "\u001b7\u001b[24;0f\u001b[42m\u001b[30mProgress: [ 29%]\u001b[49m\u001b[39m [################..........................................] \u001b8Unpacking libboost-program-options1.71-dev:amd64 (1.71.0-6ubuntu6) ...\r\n",
      "\u001b7\u001b[24;0f\u001b[42m\u001b[30mProgress: [ 30%]\u001b[49m\u001b[39m [#################.........................................] \u001b8Selecting previously unselected package libboost-program-options-dev:amd64.\r\n",
      "Preparing to unpack .../11-libboost-program-options-dev_1.71.0.0ubuntu2_amd64.deb ...\r\n",
      "\u001b7\u001b[24;0f\u001b[42m\u001b[30mProgress: [ 31%]\u001b[49m\u001b[39m [##################........................................] \u001b8Unpacking libboost-program-options-dev:amd64 (1.71.0.0ubuntu2) ...\r\n",
      "\u001b7\u001b[24;0f\u001b[42m\u001b[30mProgress: [ 32%]\u001b[49m\u001b[39m [##################........................................] \u001b8Selecting previously unselected package libboost-test1.71.0:amd64.\r\n",
      "Preparing to unpack .../12-libboost-test1.71.0_1.71.0-6ubuntu6_amd64.deb ...\r\n",
      "\u001b7\u001b[24;0f\u001b[42m\u001b[30mProgress: [ 33%]\u001b[49m\u001b[39m [###################.......................................] \u001b8Unpacking libboost-test1.71.0:amd64 (1.71.0-6ubuntu6) ...\r\n",
      "\u001b7\u001b[24;0f\u001b[42m\u001b[30mProgress: [ 34%]\u001b[49m\u001b[39m [###################.......................................] \u001b8Selecting previously unselected package libboost-test1.71-dev:amd64.\r\n",
      "Preparing to unpack .../13-libboost-test1.71-dev_1.71.0-6ubuntu6_amd64.deb ...\r\n",
      "\u001b7\u001b[24;0f\u001b[42m\u001b[30mProgress: [ 35%]\u001b[49m\u001b[39m [####################......................................] \u001b8Unpacking libboost-test1.71-dev:amd64 (1.71.0-6ubuntu6) ...\r\n",
      "\u001b7\u001b[24;0f\u001b[42m\u001b[30mProgress: [ 37%]\u001b[49m\u001b[39m [#####################.....................................] \u001b8Selecting previously unselected package libboost-test-dev:amd64.\r\n",
      "Preparing to unpack .../14-libboost-test-dev_1.71.0.0ubuntu2_amd64.deb ...\r\n",
      "\u001b7\u001b[24;0f\u001b[42m\u001b[30mProgress: [ 38%]\u001b[49m\u001b[39m [#####################.....................................] \u001b8Unpacking libboost-test-dev:amd64 (1.71.0.0ubuntu2) ...\r\n",
      "\u001b7\u001b[24;0f\u001b[42m\u001b[30mProgress: [ 39%]\u001b[49m\u001b[39m [######################....................................] \u001b8Selecting previously unselected package libboost-thread1.71.0:amd64.\r\n",
      "Preparing to unpack .../15-libboost-thread1.71.0_1.71.0-6ubuntu6_amd64.deb ...\r\n",
      "\u001b7\u001b[24;0f\u001b[42m\u001b[30mProgress: [ 40%]\u001b[49m\u001b[39m [#######################...................................] \u001b8Unpacking libboost-thread1.71.0:amd64 (1.71.0-6ubuntu6) ...\r\n",
      "\u001b7\u001b[24;0f\u001b[42m\u001b[30mProgress: [ 41%]\u001b[49m\u001b[39m [#######################...................................] \u001b8Selecting previously unselected package libboost-thread1.71-dev:amd64.\r\n",
      "Preparing to unpack .../16-libboost-thread1.71-dev_1.71.0-6ubuntu6_amd64.deb ...\r\n",
      "\u001b7\u001b[24;0f\u001b[42m\u001b[30mProgress: [ 42%]\u001b[49m\u001b[39m [########################..................................] \u001b8Unpacking libboost-thread1.71-dev:amd64 (1.71.0-6ubuntu6) ...\r\n",
      "\u001b7\u001b[24;0f\u001b[42m\u001b[30mProgress: [ 43%]\u001b[49m\u001b[39m [########################..................................] \u001b8Selecting previously unselected package libboost-thread-dev:amd64.\r\n",
      "Preparing to unpack .../17-libboost-thread-dev_1.71.0.0ubuntu2_amd64.deb ...\r\n",
      "\u001b7\u001b[24;0f\u001b[42m\u001b[30mProgress: [ 44%]\u001b[49m\u001b[39m [#########################.................................] \u001b8Unpacking libboost-thread-dev:amd64 (1.71.0.0ubuntu2) ...\r\n",
      "\u001b7\u001b[24;0f\u001b[42m\u001b[30mProgress: [ 45%]\u001b[49m\u001b[39m [##########################................................] \u001b8Selecting previously unselected package libbz2-dev:amd64.\r\n",
      "Preparing to unpack .../18-libbz2-dev_1.0.8-2_amd64.deb ...\r\n",
      "\u001b7\u001b[24;0f\u001b[42m\u001b[30mProgress: [ 46%]\u001b[49m\u001b[39m [##########################................................] \u001b8Unpacking libbz2-dev:amd64 (1.0.8-2) ...\r\n",
      "\u001b7\u001b[24;0f\u001b[42m\u001b[30mProgress: [ 47%]\u001b[49m\u001b[39m [###########################...............................] \u001b8Selecting previously unselected package libeigen3-dev.\r\n",
      "Preparing to unpack .../19-libeigen3-dev_3.3.7-2_all.deb ...\r\n",
      "\u001b7\u001b[24;0f\u001b[42m\u001b[30mProgress: [ 48%]\u001b[49m\u001b[39m [############################..............................] \u001b8Unpacking libeigen3-dev (3.3.7-2) ...\r\n",
      "\u001b7\u001b[24;0f\u001b[42m\u001b[30mProgress: [ 49%]\u001b[49m\u001b[39m [############################..............................] \u001b8Selecting previously unselected package liblzma-dev:amd64.\r\n",
      "Preparing to unpack .../20-liblzma-dev_5.2.4-1ubuntu1.1_amd64.deb ...\r\n",
      "\u001b7\u001b[24;0f\u001b[42m\u001b[30mProgress: [ 51%]\u001b[49m\u001b[39m [#############################.............................] \u001b8Unpacking liblzma-dev:amd64 (5.2.4-1ubuntu1.1) ...\r\n",
      "\u001b7\u001b[24;0f\u001b[42m\u001b[30mProgress: [ 52%]\u001b[49m\u001b[39m [#############################.............................] \u001b8Setting up bzip2-doc (1.0.8-2) ...\r\n",
      "\u001b7\u001b[24;0f\u001b[42m\u001b[30mProgress: [ 53%]\u001b[49m\u001b[39m [##############################............................] \u001b8\u001b7\u001b[24;0f\u001b[42m\u001b[30mProgress: [ 54%]\u001b[49m\u001b[39m [###############################...........................] \u001b8Setting up libboost-chrono1.71.0:amd64 (1.71.0-6ubuntu6) ...\r\n",
      "\u001b7\u001b[24;0f\u001b[42m\u001b[30mProgress: [ 55%]\u001b[49m\u001b[39m [###############################...........................] \u001b8\u001b7\u001b[24;0f\u001b[42m\u001b[30mProgress: [ 56%]\u001b[49m\u001b[39m [################################..........................] \u001b8Setting up libboost-date-time1.71.0:amd64 (1.71.0-6ubuntu6) ...\r\n",
      "\u001b7\u001b[24;0f\u001b[42m\u001b[30mProgress: [ 57%]\u001b[49m\u001b[39m [#################################.........................] \u001b8\u001b7\u001b[24;0f\u001b[42m\u001b[30mProgress: [ 58%]\u001b[49m\u001b[39m [#################################.........................] \u001b8Setting up libboost-atomic1.71.0:amd64 (1.71.0-6ubuntu6) ...\r\n",
      "\u001b7\u001b[24;0f\u001b[42m\u001b[30mProgress: [ 59%]\u001b[49m\u001b[39m [##################################........................] \u001b8\u001b7\u001b[24;0f\u001b[42m\u001b[30mProgress: [ 60%]\u001b[49m\u001b[39m [##################################........................] \u001b8Setting up libeigen3-dev (3.3.7-2) ...\r\n",
      "\u001b7\u001b[24;0f\u001b[42m\u001b[30mProgress: [ 61%]\u001b[49m\u001b[39m [###################################.......................] \u001b8\u001b7\u001b[24;0f\u001b[42m\u001b[30mProgress: [ 62%]\u001b[49m\u001b[39m [####################################......................] \u001b8Setting up liblzma-dev:amd64 (5.2.4-1ubuntu1.1) ...\r\n",
      "\u001b7\u001b[24;0f\u001b[42m\u001b[30mProgress: [ 63%]\u001b[49m\u001b[39m [####################################......................] \u001b8\u001b7\u001b[24;0f\u001b[42m\u001b[30mProgress: [ 65%]\u001b[49m\u001b[39m [#####################################.....................] \u001b8Setting up zlib1g-dev:amd64 (1:1.2.11.dfsg-2ubuntu1.5) ...\r\n",
      "\u001b7\u001b[24;0f\u001b[42m\u001b[30mProgress: [ 66%]\u001b[49m\u001b[39m [######################################....................] \u001b8\u001b7\u001b[24;0f\u001b[42m\u001b[30mProgress: [ 67%]\u001b[49m\u001b[39m [######################################....................] \u001b8Setting up libboost-test1.71.0:amd64 (1.71.0-6ubuntu6) ...\r\n",
      "\u001b7\u001b[24;0f\u001b[42m\u001b[30mProgress: [ 68%]\u001b[49m\u001b[39m [#######################################...................] \u001b8\u001b7\u001b[24;0f\u001b[42m\u001b[30mProgress: [ 69%]\u001b[49m\u001b[39m [#######################################...................] \u001b8Setting up libboost-thread1.71.0:amd64 (1.71.0-6ubuntu6) ...\r\n",
      "\u001b7\u001b[24;0f\u001b[42m\u001b[30mProgress: [ 70%]\u001b[49m\u001b[39m [########################################..................] \u001b8\u001b7\u001b[24;0f\u001b[42m\u001b[30mProgress: [ 71%]\u001b[49m\u001b[39m [#########################################.................] \u001b8Setting up libboost-serialization1.71.0:amd64 (1.71.0-6ubuntu6) ...\r\n",
      "\u001b7\u001b[24;0f\u001b[42m\u001b[30mProgress: [ 72%]\u001b[49m\u001b[39m [#########################################.................] \u001b8\u001b7\u001b[24;0f\u001b[42m\u001b[30mProgress: [ 73%]\u001b[49m\u001b[39m [##########################################................] \u001b8Setting up libboost-atomic1.71-dev:amd64 (1.71.0-6ubuntu6) ...\r\n",
      "\u001b7\u001b[24;0f\u001b[42m\u001b[30mProgress: [ 74%]\u001b[49m\u001b[39m [###########################################...............] \u001b8\u001b7\u001b[24;0f\u001b[42m\u001b[30mProgress: [ 75%]\u001b[49m\u001b[39m [###########################################...............] \u001b8Setting up libbz2-dev:amd64 (1.0.8-2) ...\r\n",
      "\u001b7\u001b[24;0f\u001b[42m\u001b[30mProgress: [ 76%]\u001b[49m\u001b[39m [############################################..............] \u001b8\u001b7\u001b[24;0f\u001b[42m\u001b[30mProgress: [ 77%]\u001b[49m\u001b[39m [############################################..............] \u001b8Setting up libboost-program-options1.71.0:amd64 (1.71.0-6ubuntu6) ...\r\n",
      "\u001b7\u001b[24;0f\u001b[42m\u001b[30mProgress: [ 78%]\u001b[49m\u001b[39m [#############################################.............] \u001b8\u001b7\u001b[24;0f\u001b[42m\u001b[30mProgress: [ 80%]\u001b[49m\u001b[39m [##############################################............] \u001b8Setting up libboost-program-options1.71-dev:amd64 (1.71.0-6ubuntu6) ...\r\n",
      "\u001b7\u001b[24;0f\u001b[42m\u001b[30mProgress: [ 81%]\u001b[49m\u001b[39m [##############################################............] \u001b8\u001b7\u001b[24;0f\u001b[42m\u001b[30mProgress: [ 82%]\u001b[49m\u001b[39m [###############################################...........] \u001b8Setting up libboost-chrono1.71-dev:amd64 (1.71.0-6ubuntu6) ...\r\n",
      "\u001b7\u001b[24;0f\u001b[42m\u001b[30mProgress: [ 83%]\u001b[49m\u001b[39m [################################################..........] \u001b8\u001b7\u001b[24;0f\u001b[42m\u001b[30mProgress: [ 84%]\u001b[49m\u001b[39m [################################################..........] \u001b8Setting up libboost-test1.71-dev:amd64 (1.71.0-6ubuntu6) ...\r\n",
      "\u001b7\u001b[24;0f\u001b[42m\u001b[30mProgress: [ 85%]\u001b[49m\u001b[39m [#################################################.........] \u001b8\u001b7\u001b[24;0f\u001b[42m\u001b[30mProgress: [ 86%]\u001b[49m\u001b[39m [#################################################.........] \u001b8Setting up libboost-program-options-dev:amd64 (1.71.0.0ubuntu2) ...\r\n",
      "\u001b7\u001b[24;0f\u001b[42m\u001b[30mProgress: [ 87%]\u001b[49m\u001b[39m [##################################################........] \u001b8\u001b7\u001b[24;0f\u001b[42m\u001b[30mProgress: [ 88%]\u001b[49m\u001b[39m [###################################################.......] \u001b8Setting up libboost-serialization1.71-dev:amd64 (1.71.0-6ubuntu6) ...\r\n",
      "\u001b7\u001b[24;0f\u001b[42m\u001b[30mProgress: [ 89%]\u001b[49m\u001b[39m [###################################################.......] \u001b8\u001b7\u001b[24;0f\u001b[42m\u001b[30mProgress: [ 90%]\u001b[49m\u001b[39m [####################################################......] \u001b8Setting up libboost-date-time1.71-dev:amd64 (1.71.0-6ubuntu6) ...\r\n",
      "\u001b7\u001b[24;0f\u001b[42m\u001b[30mProgress: [ 91%]\u001b[49m\u001b[39m [#####################################################.....] \u001b8\u001b7\u001b[24;0f\u001b[42m\u001b[30mProgress: [ 92%]\u001b[49m\u001b[39m [#####################################################.....] \u001b8Setting up libboost-thread1.71-dev:amd64 (1.71.0-6ubuntu6) ...\r\n",
      "\u001b7\u001b[24;0f\u001b[42m\u001b[30mProgress: [ 94%]\u001b[49m\u001b[39m [######################################################....] \u001b8\u001b7\u001b[24;0f\u001b[42m\u001b[30mProgress: [ 95%]\u001b[49m\u001b[39m [######################################################....] \u001b8Setting up libboost-test-dev:amd64 (1.71.0.0ubuntu2) ...\r\n",
      "\u001b7\u001b[24;0f\u001b[42m\u001b[30mProgress: [ 96%]\u001b[49m\u001b[39m [#######################################################...] \u001b8\u001b7\u001b[24;0f\u001b[42m\u001b[30mProgress: [ 97%]\u001b[49m\u001b[39m [########################################################..] \u001b8Setting up libboost-thread-dev:amd64 (1.71.0.0ubuntu2) ...\r\n",
      "\u001b7\u001b[24;0f\u001b[42m\u001b[30mProgress: [ 98%]\u001b[49m\u001b[39m [########################################################..] \u001b8\u001b7\u001b[24;0f\u001b[42m\u001b[30mProgress: [ 99%]\u001b[49m\u001b[39m [#########################################################.] \u001b8Processing triggers for man-db (2.9.1-1) ...\r\n",
      "Processing triggers for install-info (6.7.0.dfsg.2-5) ...\r\n",
      "Processing triggers for libc-bin (2.31-0ubuntu9.7) ...\r\n",
      "\r\n",
      "\u001b7\u001b[0;24r\u001b8\u001b[1A\u001b[J--2022-12-14 09:18:00--  https://kheafield.com/code/kenlm.tar.gz\r\n",
      "Resolving kheafield.com (kheafield.com)... 35.196.63.85\r\n",
      "Connecting to kheafield.com (kheafield.com)|35.196.63.85|:443... connected.\r\n",
      "HTTP request sent, awaiting response... 200 OK\r\n",
      "Length: 491888 (480K) [application/x-gzip]\r\n",
      "Saving to: ‘STDOUT’\r\n",
      "\r\n",
      "-                   100%[===================>] 480.36K  1.09MB/s    in 0.4s    \r\n",
      "\r\n",
      "2022-12-14 09:18:01 (1.09 MB/s) - written to stdout [491888/491888]\r\n",
      "\r\n",
      "-- The C compiler identification is GNU 9.4.0\r\n",
      "-- The CXX compiler identification is GNU 9.4.0\r\n",
      "-- Detecting C compiler ABI info\r\n",
      "-- Detecting C compiler ABI info - done\r\n",
      "-- Check for working C compiler: /usr/bin/cc - skipped\r\n",
      "-- Detecting C compile features\r\n",
      "-- Detecting C compile features - done\r\n",
      "-- Detecting CXX compiler ABI info\r\n",
      "-- Detecting CXX compiler ABI info - done\r\n",
      "-- Check for working CXX compiler: /usr/bin/c++ - skipped\r\n",
      "-- Detecting CXX compile features\r\n",
      "-- Detecting CXX compile features - done\r\n",
      "-- Found Boost: /usr/lib/x86_64-linux-gnu/cmake/Boost-1.71.0/BoostConfig.cmake (found suitable version \"1.71.0\", minimum required is \"1.41.0\") found components: program_options system thread unit_test_framework \r\n",
      "-- Check if compiler accepts -pthread\r\n",
      "-- Check if compiler accepts -pthread - yes\r\n",
      "-- Found Threads: TRUE  \r\n",
      "-- Found ZLIB: /usr/lib/x86_64-linux-gnu/libz.so (found version \"1.2.11\") \r\n",
      "-- Found BZip2: /usr/lib/x86_64-linux-gnu/libbz2.so (found version \"1.0.8\") \r\n",
      "-- Looking for BZ2_bzCompressInit\r\n",
      "-- Looking for BZ2_bzCompressInit - found\r\n",
      "-- Looking for lzma_auto_decoder in /usr/lib/x86_64-linux-gnu/liblzma.so\r\n",
      "-- Looking for lzma_auto_decoder in /usr/lib/x86_64-linux-gnu/liblzma.so - found\r\n",
      "-- Looking for lzma_easy_encoder in /usr/lib/x86_64-linux-gnu/liblzma.so\r\n",
      "-- Looking for lzma_easy_encoder in /usr/lib/x86_64-linux-gnu/liblzma.so - found\r\n",
      "-- Looking for lzma_lzma_preset in /usr/lib/x86_64-linux-gnu/liblzma.so\r\n",
      "-- Looking for lzma_lzma_preset in /usr/lib/x86_64-linux-gnu/liblzma.so - found\r\n",
      "-- Found LibLZMA: /usr/lib/x86_64-linux-gnu/liblzma.so (found version \"5.2.4\") \r\n",
      "-- Looking for clock_gettime in rt\r\n",
      "-- Looking for clock_gettime in rt - found\r\n",
      "-- Found OpenMP_C: -fopenmp (found version \"4.5\") \r\n",
      "-- Found OpenMP_CXX: -fopenmp (found version \"4.5\") \r\n",
      "-- Found OpenMP: TRUE (found version \"4.5\")  \r\n",
      "-- Configuring done\r\n",
      "-- Generating done\r\n",
      "-- Build files have been written to: /kaggle/working/kenlm/build\r\n",
      "[  1%] \u001b[32mBuilding CXX object util/CMakeFiles/kenlm_util.dir/double-conversion/bignum-dtoa.cc.o\u001b[0m\r\n",
      "[  2%] \u001b[32mBuilding CXX object util/CMakeFiles/kenlm_util.dir/double-conversion/bignum.cc.o\u001b[0m\r\n",
      "[  3%] \u001b[32mBuilding CXX object util/CMakeFiles/kenlm_util.dir/double-conversion/cached-powers.cc.o\u001b[0m\r\n",
      "[  4%] \u001b[32mBuilding CXX object util/CMakeFiles/kenlm_util.dir/double-conversion/diy-fp.cc.o\u001b[0m\r\n",
      "[  5%] \u001b[32mBuilding CXX object util/CMakeFiles/kenlm_util.dir/double-conversion/double-conversion.cc.o\u001b[0m\r\n",
      "[  6%] \u001b[32mBuilding CXX object util/CMakeFiles/kenlm_util.dir/double-conversion/fast-dtoa.cc.o\u001b[0m\r\n",
      "[  7%] \u001b[32mBuilding CXX object util/CMakeFiles/kenlm_util.dir/double-conversion/fixed-dtoa.cc.o\u001b[0m\r\n",
      "[  8%] \u001b[32mBuilding CXX object util/CMakeFiles/kenlm_util.dir/double-conversion/strtod.cc.o\u001b[0m\r\n",
      "[  9%] \u001b[32mBuilding CXX object util/CMakeFiles/kenlm_util.dir/stream/chain.cc.o\u001b[0m\r\n",
      "[ 10%] \u001b[32mBuilding CXX object util/CMakeFiles/kenlm_util.dir/stream/count_records.cc.o\u001b[0m\r\n",
      "[ 11%] \u001b[32mBuilding CXX object util/CMakeFiles/kenlm_util.dir/stream/io.cc.o\u001b[0m\r\n",
      "[ 12%] \u001b[32mBuilding CXX object util/CMakeFiles/kenlm_util.dir/stream/line_input.cc.o\u001b[0m\r\n",
      "[ 13%] \u001b[32mBuilding CXX object util/CMakeFiles/kenlm_util.dir/stream/multi_progress.cc.o\u001b[0m\r\n",
      "[ 14%] \u001b[32mBuilding CXX object util/CMakeFiles/kenlm_util.dir/stream/rewindable_stream.cc.o\u001b[0m\r\n",
      "[ 15%] \u001b[32mBuilding CXX object util/CMakeFiles/kenlm_util.dir/bit_packing.cc.o\u001b[0m\r\n",
      "[ 16%] \u001b[32mBuilding CXX object util/CMakeFiles/kenlm_util.dir/ersatz_progress.cc.o\u001b[0m\r\n",
      "[ 17%] \u001b[32mBuilding CXX object util/CMakeFiles/kenlm_util.dir/exception.cc.o\u001b[0m\r\n",
      "[ 18%] \u001b[32mBuilding CXX object util/CMakeFiles/kenlm_util.dir/file.cc.o\u001b[0m\r\n",
      "[ 19%] \u001b[32mBuilding CXX object util/CMakeFiles/kenlm_util.dir/file_piece.cc.o\u001b[0m\r\n",
      "[ 20%] \u001b[32mBuilding CXX object util/CMakeFiles/kenlm_util.dir/float_to_string.cc.o\u001b[0m\r\n",
      "[ 21%] \u001b[32mBuilding CXX object util/CMakeFiles/kenlm_util.dir/integer_to_string.cc.o\u001b[0m\r\n",
      "[ 22%] \u001b[32mBuilding CXX object util/CMakeFiles/kenlm_util.dir/mmap.cc.o\u001b[0m\r\n",
      "[ 23%] \u001b[32mBuilding CXX object util/CMakeFiles/kenlm_util.dir/murmur_hash.cc.o\u001b[0m\r\n",
      "[ 25%] \u001b[32mBuilding CXX object util/CMakeFiles/kenlm_util.dir/parallel_read.cc.o\u001b[0m\r\n",
      "[ 26%] \u001b[32mBuilding CXX object util/CMakeFiles/kenlm_util.dir/pool.cc.o\u001b[0m\r\n",
      "[ 27%] \u001b[32mBuilding CXX object util/CMakeFiles/kenlm_util.dir/read_compressed.cc.o\u001b[0m\r\n",
      "[ 28%] \u001b[32mBuilding CXX object util/CMakeFiles/kenlm_util.dir/scoped.cc.o\u001b[0m\r\n",
      "[ 29%] \u001b[32mBuilding CXX object util/CMakeFiles/kenlm_util.dir/spaces.cc.o\u001b[0m\r\n",
      "[ 30%] \u001b[32mBuilding CXX object util/CMakeFiles/kenlm_util.dir/string_piece.cc.o\u001b[0m\r\n",
      "[ 31%] \u001b[32mBuilding CXX object util/CMakeFiles/kenlm_util.dir/usage.cc.o\u001b[0m\r\n",
      "[ 32%] \u001b[32m\u001b[1mLinking CXX static library ../lib/libkenlm_util.a\u001b[0m\r\n",
      "[ 32%] Built target kenlm_util\r\n",
      "[ 33%] \u001b[32mBuilding CXX object lm/CMakeFiles/kenlm.dir/bhiksha.cc.o\u001b[0m\r\n",
      "[ 34%] \u001b[32mBuilding CXX object util/CMakeFiles/probing_hash_table_benchmark.dir/probing_hash_table_benchmark_main.cc.o\u001b[0m\r\n",
      "[ 35%] \u001b[32mBuilding CXX object lm/CMakeFiles/kenlm.dir/binary_format.cc.o\u001b[0m\r\n",
      "[ 36%] \u001b[32mBuilding CXX object lm/CMakeFiles/kenlm.dir/config.cc.o\u001b[0m\r\n",
      "[ 37%] \u001b[32mBuilding CXX object lm/CMakeFiles/kenlm.dir/lm_exception.cc.o\u001b[0m\r\n",
      "[ 38%] \u001b[32mBuilding CXX object lm/CMakeFiles/kenlm.dir/model.cc.o\u001b[0m\r\n",
      "[ 39%] \u001b[32mBuilding CXX object lm/CMakeFiles/kenlm.dir/quantize.cc.o\u001b[0m\r\n",
      "[ 40%] \u001b[32mBuilding CXX object lm/CMakeFiles/kenlm.dir/read_arpa.cc.o\u001b[0m\r\n",
      "[ 41%] \u001b[32mBuilding CXX object lm/CMakeFiles/kenlm.dir/search_hashed.cc.o\u001b[0m\r\n",
      "[ 42%] \u001b[32m\u001b[1mLinking CXX executable ../bin/probing_hash_table_benchmark\u001b[0m\r\n",
      "[ 42%] Built target probing_hash_table_benchmark\r\n",
      "[ 43%] \u001b[32mBuilding CXX object lm/filter/CMakeFiles/kenlm_filter.dir/arpa_io.cc.o\u001b[0m\r\n",
      "[ 44%] \u001b[32mBuilding CXX object lm/filter/CMakeFiles/kenlm_filter.dir/phrase.cc.o\u001b[0m\r\n",
      "[ 45%] \u001b[32mBuilding CXX object lm/CMakeFiles/kenlm.dir/search_trie.cc.o\u001b[0m\r\n",
      "[ 46%] \u001b[32mBuilding CXX object lm/filter/CMakeFiles/kenlm_filter.dir/vocab.cc.o\u001b[0m\r\n",
      "[ 47%] \u001b[32m\u001b[1mLinking CXX static library ../../lib/libkenlm_filter.a\u001b[0m\r\n",
      "[ 47%] Built target kenlm_filter\r\n",
      "[ 48%] \u001b[32mBuilding CXX object lm/CMakeFiles/kenlm.dir/sizes.cc.o\u001b[0m\r\n",
      "[ 50%] \u001b[32mBuilding CXX object lm/CMakeFiles/kenlm.dir/trie.cc.o\u001b[0m\r\n",
      "[ 51%] \u001b[32mBuilding CXX object lm/CMakeFiles/kenlm.dir/trie_sort.cc.o\u001b[0m\r\n",
      "[ 52%] \u001b[32mBuilding CXX object lm/CMakeFiles/kenlm.dir/value_build.cc.o\u001b[0m\r\n",
      "[ 53%] \u001b[32mBuilding CXX object lm/CMakeFiles/kenlm.dir/virtual_interface.cc.o\u001b[0m\r\n",
      "[ 54%] \u001b[32mBuilding CXX object lm/CMakeFiles/kenlm.dir/vocab.cc.o\u001b[0m\r\n",
      "[ 55%] \u001b[32mBuilding CXX object lm/CMakeFiles/kenlm.dir/common/model_buffer.cc.o\u001b[0m\r\n",
      "[ 56%] \u001b[32mBuilding CXX object lm/CMakeFiles/kenlm.dir/common/print.cc.o\u001b[0m\r\n",
      "[ 57%] \u001b[32mBuilding CXX object lm/CMakeFiles/kenlm.dir/common/renumber.cc.o\u001b[0m\r\n",
      "[ 58%] \u001b[32mBuilding CXX object lm/CMakeFiles/kenlm.dir/common/size_option.cc.o\u001b[0m\r\n",
      "[ 59%] \u001b[32m\u001b[1mLinking CXX static library ../lib/libkenlm.a\u001b[0m\r\n",
      "[ 59%] Built target kenlm\r\n",
      "[ 61%] \u001b[32mBuilding CXX object lm/CMakeFiles/query.dir/query_main.cc.o\u001b[0m\r\n",
      "[ 61%] \u001b[32mBuilding CXX object lm/CMakeFiles/fragment.dir/fragment_main.cc.o\u001b[0m\r\n",
      "[ 62%] \u001b[32m\u001b[1mLinking CXX executable ../bin/fragment\u001b[0m\r\n",
      "[ 62%] Built target fragment\r\n",
      "[ 63%] \u001b[32mBuilding CXX object lm/CMakeFiles/build_binary.dir/build_binary_main.cc.o\u001b[0m\r\n",
      "[ 64%] \u001b[32m\u001b[1mLinking CXX executable ../bin/query\u001b[0m\r\n",
      "[ 64%] Built target query\r\n",
      "[ 65%] \u001b[32mBuilding CXX object lm/CMakeFiles/kenlm_benchmark.dir/kenlm_benchmark_main.cc.o\u001b[0m\r\n",
      "[ 66%] \u001b[32m\u001b[1mLinking CXX executable ../bin/build_binary\u001b[0m\r\n",
      "[ 66%] Built target build_binary\r\n",
      "[ 67%] \u001b[32mBuilding CXX object lm/builder/CMakeFiles/kenlm_builder.dir/adjust_counts.cc.o\u001b[0m\r\n",
      "[ 68%] \u001b[32mBuilding CXX object lm/builder/CMakeFiles/kenlm_builder.dir/corpus_count.cc.o\u001b[0m\r\n",
      "[ 69%] \u001b[32mBuilding CXX object lm/builder/CMakeFiles/kenlm_builder.dir/initial_probabilities.cc.o\u001b[0m\r\n",
      "[ 70%] \u001b[32mBuilding CXX object lm/builder/CMakeFiles/kenlm_builder.dir/interpolate.cc.o\u001b[0m\r\n",
      "[ 71%] \u001b[32mBuilding CXX object lm/builder/CMakeFiles/kenlm_builder.dir/output.cc.o\u001b[0m\r\n",
      "[ 72%] \u001b[32m\u001b[1mLinking CXX executable ../bin/kenlm_benchmark\u001b[0m\r\n",
      "[ 72%] Built target kenlm_benchmark\r\n",
      "[ 73%] \u001b[32mBuilding CXX object lm/filter/CMakeFiles/filter.dir/filter_main.cc.o\u001b[0m\r\n",
      "[ 75%] \u001b[32mBuilding CXX object lm/builder/CMakeFiles/kenlm_builder.dir/pipeline.cc.o\u001b[0m\r\n",
      "[ 76%] \u001b[32m\u001b[1mLinking CXX static library ../../lib/libkenlm_builder.a\u001b[0m\r\n",
      "[ 76%] Built target kenlm_builder\r\n",
      "[ 77%] \u001b[32mBuilding CXX object lm/filter/CMakeFiles/phrase_table_vocab.dir/phrase_table_vocab_main.cc.o\u001b[0m\r\n",
      "[ 78%] \u001b[32m\u001b[1mLinking CXX executable ../../bin/phrase_table_vocab\u001b[0m\r\n",
      "[ 78%] Built target phrase_table_vocab\r\n",
      "[ 79%] \u001b[32mBuilding CXX object lm/interpolate/CMakeFiles/kenlm_interpolate.dir/backoff_reunification.cc.o\u001b[0m\r\n",
      "[ 80%] \u001b[32m\u001b[1mLinking CXX executable ../../bin/filter\u001b[0m\r\n",
      "[ 80%] Built target filter\r\n",
      "[ 81%] \u001b[32mBuilding CXX object lm/builder/CMakeFiles/lmplz.dir/lmplz_main.cc.o\u001b[0m\r\n",
      "[ 82%] \u001b[32mBuilding CXX object lm/interpolate/CMakeFiles/kenlm_interpolate.dir/bounded_sequence_encoding.cc.o\u001b[0m\r\n",
      "[ 83%] \u001b[32mBuilding CXX object lm/interpolate/CMakeFiles/kenlm_interpolate.dir/merge_probabilities.cc.o\u001b[0m\r\n",
      "[ 84%] \u001b[32mBuilding CXX object lm/interpolate/CMakeFiles/kenlm_interpolate.dir/merge_vocab.cc.o\u001b[0m\r\n",
      "[ 85%] \u001b[32m\u001b[1mLinking CXX executable ../../bin/lmplz\u001b[0m\r\n",
      "[ 85%] Built target lmplz\r\n",
      "[ 86%] \u001b[32mBuilding CXX object lm/builder/CMakeFiles/count_ngrams.dir/count_ngrams_main.cc.o\u001b[0m\r\n",
      "[ 87%] \u001b[32mBuilding CXX object lm/interpolate/CMakeFiles/kenlm_interpolate.dir/normalize.cc.o\u001b[0m\r\n",
      "[ 88%] \u001b[32mBuilding CXX object lm/interpolate/CMakeFiles/kenlm_interpolate.dir/pipeline.cc.o\u001b[0m\r\n",
      "[ 89%] \u001b[32m\u001b[1mLinking CXX executable ../../bin/count_ngrams\u001b[0m\r\n",
      "[ 89%] Built target count_ngrams\r\n",
      "[ 90%] \u001b[32mBuilding CXX object lm/interpolate/CMakeFiles/kenlm_interpolate.dir/split_worker.cc.o\u001b[0m\r\n",
      "[ 91%] \u001b[32mBuilding CXX object lm/interpolate/CMakeFiles/kenlm_interpolate.dir/tune_derivatives.cc.o\u001b[0m\r\n",
      "[ 92%] \u001b[32mBuilding CXX object lm/interpolate/CMakeFiles/kenlm_interpolate.dir/tune_instances.cc.o\u001b[0m\r\n",
      "[ 93%] \u001b[32mBuilding CXX object lm/interpolate/CMakeFiles/kenlm_interpolate.dir/tune_weights.cc.o\u001b[0m\r\n",
      "[ 94%] \u001b[32mBuilding CXX object lm/interpolate/CMakeFiles/kenlm_interpolate.dir/universal_vocab.cc.o\u001b[0m\r\n",
      "[ 95%] \u001b[32m\u001b[1mLinking CXX static library ../../lib/libkenlm_interpolate.a\u001b[0m\r\n",
      "[ 95%] Built target kenlm_interpolate\r\n",
      "[ 97%] \u001b[32mBuilding CXX object lm/interpolate/CMakeFiles/interpolate.dir/interpolate_main.cc.o\u001b[0m\r\n",
      "[ 97%] \u001b[32mBuilding CXX object lm/interpolate/CMakeFiles/streaming_example.dir/streaming_example_main.cc.o\u001b[0m\r\n",
      "[ 98%] \u001b[32m\u001b[1mLinking CXX executable ../../bin/interpolate\u001b[0m\r\n",
      "[ 98%] Built target interpolate\r\n",
      "[100%] \u001b[32m\u001b[1mLinking CXX executable ../../bin/streaming_example\u001b[0m\r\n",
      "[100%] Built target streaming_example\r\n",
      "build_binary  fragment\t       lmplz\t\t\t     query\r\n",
      "count_ngrams  interpolate      phrase_table_vocab\t     streaming_example\r\n",
      "filter\t      kenlm_benchmark  probing_hash_table_benchmark\r\n",
      "=== 1/5 Counting and sorting n-grams ===\r\n",
      "Reading /kaggle/working/text.txt\r\n",
      "----5---10---15---20---25---30---35---40---45---50---55---60---65---70---75---80---85---90---95--100\r\n",
      "****************************************************************************************************\r\n",
      "Unigram tokens 65462070 types 410855\r\n",
      "=== 2/5 Calculating and sorting adjusted counts ===\r\n",
      "Chain sizes: 1:4930260 2:2284675584 3:4283766528 4:6854026752\r\n",
      "Statistics:\r\n",
      "1 410854 D1=0.694709 D2=0.987362 D3+=1.26769\r\n",
      "2 6867377 D1=0.773993 D2=1.10307 D3+=1.34119\r\n",
      "3 15747075 D1=0.890092 D2=1.21979 D3+=1.33837\r\n",
      "4 19676089 D1=0.326772 D2=1.09404 D3+=2.15089\r\n",
      "Memory estimate for binary LM:\r\n",
      "type     MB\r\n",
      "probing 865 assuming -p 1.5\r\n",
      "probing 996 assuming -r models -p 1.5\r\n",
      "trie    414 without quantization\r\n",
      "trie    233 assuming -q 8 -b 8 quantization \r\n",
      "trie    368 assuming -a 22 array pointer compression\r\n",
      "trie    187 assuming -a 22 -q 8 -b 8 array pointer compression and quantization\r\n",
      "=== 3/5 Calculating and sorting initial probabilities ===\r\n",
      "Chain sizes: 1:4930248 2:109878032 3:314941500 4:472226136\r\n",
      "----5---10---15---20---25---30---35---40---45---50---55---60---65---70---75---80---85---90---95--100\r\n",
      "####################################################################################################\r\n",
      "=== 4/5 Calculating and writing order-interpolated probabilities ===\r\n",
      "Chain sizes: 1:4930248 2:109878032 3:314941500 4:472226136\r\n",
      "----5---10---15---20---25---30---35---40---45---50---55---60---65---70---75---80---85---90---95--100\r\n",
      "####################################################################################################\r\n",
      "=== 5/5 Writing ARPA model ===\r\n",
      "----5---10---15---20---25---30---35---40---45---50---55---60---65---70---75---80---85---90---95--100\r\n",
      "****************************************************************************************************\r\n",
      "Name:lmplz\tVmPeak:13268556 kB\tVmRSS:18492 kB\tRSSMax:3107744 kB\tuser:49.4251\tsys:12.3064\tCPU:61.7316\treal:54.5615\r\n"
     ]
    }
   ],
   "source": [
    "! sudo apt -y install build-essential cmake libboost-system-dev libboost-thread-dev libboost-program-options-dev libboost-test-dev libeigen3-dev zlib1g-dev libbz2-dev liblzma-dev\n",
    "! wget -O - https://kheafield.com/code/kenlm.tar.gz | tar xz\n",
    "! mkdir kenlm/build && cd kenlm/build && cmake .. && make -j2\n",
    "! ls kenlm/build/bin\n",
    "! kenlm/build/bin/lmplz -o 4 < \"text.txt\" > \"6gram.arpa\""
   ]
  },
  {
   "cell_type": "code",
   "execution_count": 9,
   "id": "66f50cf2",
   "metadata": {
    "execution": {
     "iopub.execute_input": "2022-12-14T09:21:11.062852Z",
     "iopub.status.busy": "2022-12-14T09:21:11.061838Z",
     "iopub.status.idle": "2022-12-14T09:21:45.530586Z",
     "shell.execute_reply": "2022-12-14T09:21:45.529034Z"
    },
    "papermill": {
     "duration": 34.58302,
     "end_time": "2022-12-14T09:21:45.533158",
     "exception": false,
     "start_time": "2022-12-14T09:21:10.950138",
     "status": "completed"
    },
    "tags": []
   },
   "outputs": [],
   "source": [
    "with open(\"6gram.arpa\", \"r\") as read_file, open(\"6gram_correct.arpa\", \"w\") as write_file:\n",
    "    has_added_eos = False\n",
    "    for line in read_file:\n",
    "        if not has_added_eos and \"ngram 1=\" in line:\n",
    "            count=line.strip().split(\"=\")[-1]\n",
    "            write_file.write(line.replace(f\"{count}\", f\"{int(count)+1}\"))\n",
    "        elif not has_added_eos and \"<s>\" in line:\n",
    "            write_file.write(line)\n",
    "            write_file.write(line.replace(\"<s>\", \"</s>\"))\n",
    "            has_added_eos = True\n",
    "        else:\n",
    "            write_file.write(line)"
   ]
  },
  {
   "cell_type": "code",
   "execution_count": 10,
   "id": "dcab9e65",
   "metadata": {
    "execution": {
     "iopub.execute_input": "2022-12-14T09:21:45.599911Z",
     "iopub.status.busy": "2022-12-14T09:21:45.599559Z",
     "iopub.status.idle": "2022-12-14T09:22:13.187131Z",
     "shell.execute_reply": "2022-12-14T09:22:13.185156Z"
    },
    "papermill": {
     "duration": 27.623183,
     "end_time": "2022-12-14T09:22:13.189433",
     "exception": false,
     "start_time": "2022-12-14T09:21:45.566250",
     "status": "completed"
    },
    "tags": []
   },
   "outputs": [
    {
     "name": "stderr",
     "output_type": "stream",
     "text": [
      "Loading the LM will be faster if you build a binary file.\n",
      "Reading /kaggle/working/6gram_correct.arpa\n",
      "----5---10---15---20---25---30---35---40---45---50---55---60---65---70---75---80---85---90---95--100\n",
      "****************************************************************************************************\n"
     ]
    }
   ],
   "source": [
    "import kenlm\n",
    "model = kenlm.LanguageModel('./6gram_correct.arpa')"
   ]
  },
  {
   "cell_type": "code",
   "execution_count": 11,
   "id": "6c538ca0",
   "metadata": {
    "execution": {
     "iopub.execute_input": "2022-12-14T09:22:13.249028Z",
     "iopub.status.busy": "2022-12-14T09:22:13.248395Z",
     "iopub.status.idle": "2022-12-14T09:22:13.254185Z",
     "shell.execute_reply": "2022-12-14T09:22:13.253272Z"
    },
    "papermill": {
     "duration": 0.037475,
     "end_time": "2022-12-14T09:22:13.256236",
     "exception": false,
     "start_time": "2022-12-14T09:22:13.218761",
     "status": "completed"
    },
    "tags": []
   },
   "outputs": [
    {
     "name": "stdout",
     "output_type": "stream",
     "text": [
      "-10.845097541809082\n",
      "-13.650924682617188\n"
     ]
    }
   ],
   "source": [
    "print(model.score('প্রধান নায়ক', bos=True, eos=True))\n",
    "print(model.score('প্রাধান নয়ক', bos=True, eos=True))"
   ]
  },
  {
   "cell_type": "code",
   "execution_count": 12,
   "id": "50e6e349",
   "metadata": {
    "execution": {
     "iopub.execute_input": "2022-12-14T09:22:13.315163Z",
     "iopub.status.busy": "2022-12-14T09:22:13.314269Z",
     "iopub.status.idle": "2022-12-14T09:22:13.319467Z",
     "shell.execute_reply": "2022-12-14T09:22:13.318613Z"
    },
    "papermill": {
     "duration": 0.036573,
     "end_time": "2022-12-14T09:22:13.321451",
     "exception": false,
     "start_time": "2022-12-14T09:22:13.284878",
     "status": "completed"
    },
    "tags": []
   },
   "outputs": [],
   "source": [
    "#!cp -r /kaggle/input/wav2vec2-bn/wav2vec2_bn /kaggle/working/"
   ]
  },
  {
   "cell_type": "code",
   "execution_count": 13,
   "id": "ced6371d",
   "metadata": {
    "execution": {
     "iopub.execute_input": "2022-12-14T09:22:13.380143Z",
     "iopub.status.busy": "2022-12-14T09:22:13.379221Z",
     "iopub.status.idle": "2022-12-14T09:22:18.720765Z",
     "shell.execute_reply": "2022-12-14T09:22:18.719388Z"
    },
    "papermill": {
     "duration": 5.374473,
     "end_time": "2022-12-14T09:22:18.724411",
     "exception": false,
     "start_time": "2022-12-14T09:22:13.349938",
     "status": "completed"
    },
    "tags": []
   },
   "outputs": [
    {
     "data": {
      "application/vnd.jupyter.widget-view+json": {
       "model_id": "2a24bc3a47cd49548a5dadbe0489d2f4",
       "version_major": 2,
       "version_minor": 0
      },
      "text/plain": [
       "Downloading:   0%|          | 0.00/262 [00:00<?, ?B/s]"
      ]
     },
     "metadata": {},
     "output_type": "display_data"
    },
    {
     "data": {
      "application/vnd.jupyter.widget-view+json": {
       "model_id": "13968ba1027842309fda97d8da098db4",
       "version_major": 2,
       "version_minor": 0
      },
      "text/plain": [
       "Downloading:   0%|          | 0.00/404 [00:00<?, ?B/s]"
      ]
     },
     "metadata": {},
     "output_type": "display_data"
    },
    {
     "data": {
      "application/vnd.jupyter.widget-view+json": {
       "model_id": "f7de9cb8a5de47c38ce13fcdb614cb06",
       "version_major": 2,
       "version_minor": 0
      },
      "text/plain": [
       "Downloading:   0%|          | 0.00/696 [00:00<?, ?B/s]"
      ]
     },
     "metadata": {},
     "output_type": "display_data"
    },
    {
     "data": {
      "application/vnd.jupyter.widget-view+json": {
       "model_id": "19983e71c3f1412ca35d8d75b82f4be7",
       "version_major": 2,
       "version_minor": 0
      },
      "text/plain": [
       "Downloading:   0%|          | 0.00/3.00 [00:00<?, ?B/s]"
      ]
     },
     "metadata": {},
     "output_type": "display_data"
    },
    {
     "data": {
      "application/vnd.jupyter.widget-view+json": {
       "model_id": "811e3b79da3e4d51bcb024939ccb36d7",
       "version_major": 2,
       "version_minor": 0
      },
      "text/plain": [
       "Downloading:   0%|          | 0.00/84.0 [00:00<?, ?B/s]"
      ]
     },
     "metadata": {},
     "output_type": "display_data"
    }
   ],
   "source": [
    "from transformers import Wav2Vec2CTCTokenizer,Wav2Vec2ForCTC,Wav2Vec2Processor,Wav2Vec2FeatureExtractor\n",
    "processor = Wav2Vec2Processor.from_pretrained(\"mushrafi88/wav2vec2_xlsr_300m_bn_6gram_arpa\")\n",
    "vocab_dict = processor.tokenizer.get_vocab()\n",
    "sorted_vocab_dict = {k.lower(): v for k, v in sorted(vocab_dict.items(), key=lambda item: item[1])}"
   ]
  },
  {
   "cell_type": "code",
   "execution_count": 14,
   "id": "b636c487",
   "metadata": {
    "execution": {
     "iopub.execute_input": "2022-12-14T09:22:18.833841Z",
     "iopub.status.busy": "2022-12-14T09:22:18.833437Z",
     "iopub.status.idle": "2022-12-14T09:22:18.842843Z",
     "shell.execute_reply": "2022-12-14T09:22:18.841919Z"
    },
    "papermill": {
     "duration": 0.062655,
     "end_time": "2022-12-14T09:22:18.845793",
     "exception": false,
     "start_time": "2022-12-14T09:22:18.783138",
     "status": "completed"
    },
    "tags": []
   },
   "outputs": [
    {
     "data": {
      "text/plain": [
       "{'[PAD]': 63,\n",
       " '[UNK]': 62,\n",
       " '|': 56,\n",
       " 'ঁ': 50,\n",
       " 'ং': 23,\n",
       " 'ঃ': 20,\n",
       " 'অ': 55,\n",
       " 'আ': 6,\n",
       " 'ই': 30,\n",
       " 'ঈ': 35,\n",
       " 'উ': 16,\n",
       " 'ঊ': 9,\n",
       " 'ঋ': 24,\n",
       " 'এ': 29,\n",
       " 'ঐ': 2,\n",
       " 'ও': 36,\n",
       " 'ঔ': 5,\n",
       " 'ক': 26,\n",
       " 'খ': 60,\n",
       " 'গ': 46,\n",
       " 'ঘ': 8,\n",
       " 'ঙ': 0,\n",
       " 'চ': 57,\n",
       " 'ছ': 44,\n",
       " 'জ': 21,\n",
       " 'ঝ': 37,\n",
       " 'ঞ': 38,\n",
       " 'ট': 43,\n",
       " 'ঠ': 28,\n",
       " 'ড': 42,\n",
       " 'ঢ': 34,\n",
       " 'ণ': 17,\n",
       " 'ত': 53,\n",
       " 'থ': 54,\n",
       " 'দ': 1,\n",
       " 'ধ': 41,\n",
       " 'ন': 14,\n",
       " 'প': 7,\n",
       " 'ফ': 61,\n",
       " 'ব': 12,\n",
       " 'ভ': 10,\n",
       " 'ম': 13,\n",
       " 'য': 45,\n",
       " 'র': 59,\n",
       " 'ল': 31,\n",
       " 'শ': 32,\n",
       " 'ষ': 27,\n",
       " 'স': 15,\n",
       " 'হ': 3,\n",
       " 'া': 47,\n",
       " 'ি': 22,\n",
       " 'ী': 49,\n",
       " 'ু': 25,\n",
       " 'ূ': 58,\n",
       " 'ৃ': 19,\n",
       " 'ে': 18,\n",
       " 'ৈ': 48,\n",
       " 'ো': 52,\n",
       " 'ৌ': 4,\n",
       " '্': 39,\n",
       " 'ৎ': 33,\n",
       " 'ড়': 51,\n",
       " 'ঢ়': 11,\n",
       " 'য়': 40}"
      ]
     },
     "execution_count": 14,
     "metadata": {},
     "output_type": "execute_result"
    }
   ],
   "source": [
    "vocab_dict"
   ]
  },
  {
   "cell_type": "code",
   "execution_count": 15,
   "id": "e420760e",
   "metadata": {
    "execution": {
     "iopub.execute_input": "2022-12-14T09:22:18.939272Z",
     "iopub.status.busy": "2022-12-14T09:22:18.938753Z",
     "iopub.status.idle": "2022-12-14T09:22:18.949066Z",
     "shell.execute_reply": "2022-12-14T09:22:18.948158Z"
    },
    "papermill": {
     "duration": 0.060167,
     "end_time": "2022-12-14T09:22:18.951927",
     "exception": false,
     "start_time": "2022-12-14T09:22:18.891760",
     "status": "completed"
    },
    "tags": []
   },
   "outputs": [
    {
     "data": {
      "text/plain": [
       "{'ঙ': 0,\n",
       " 'দ': 1,\n",
       " 'ঐ': 2,\n",
       " 'হ': 3,\n",
       " 'ৌ': 4,\n",
       " 'ঔ': 5,\n",
       " 'আ': 6,\n",
       " 'প': 7,\n",
       " 'ঘ': 8,\n",
       " 'ঊ': 9,\n",
       " 'ভ': 10,\n",
       " 'ঢ়': 11,\n",
       " 'ব': 12,\n",
       " 'ম': 13,\n",
       " 'ন': 14,\n",
       " 'স': 15,\n",
       " 'উ': 16,\n",
       " 'ণ': 17,\n",
       " 'ে': 18,\n",
       " 'ৃ': 19,\n",
       " 'ঃ': 20,\n",
       " 'জ': 21,\n",
       " 'ি': 22,\n",
       " 'ং': 23,\n",
       " 'ঋ': 24,\n",
       " 'ু': 25,\n",
       " 'ক': 26,\n",
       " 'ষ': 27,\n",
       " 'ঠ': 28,\n",
       " 'এ': 29,\n",
       " 'ই': 30,\n",
       " 'ল': 31,\n",
       " 'শ': 32,\n",
       " 'ৎ': 33,\n",
       " 'ঢ': 34,\n",
       " 'ঈ': 35,\n",
       " 'ও': 36,\n",
       " 'ঝ': 37,\n",
       " 'ঞ': 38,\n",
       " '্': 39,\n",
       " 'য়': 40,\n",
       " 'ধ': 41,\n",
       " 'ড': 42,\n",
       " 'ট': 43,\n",
       " 'ছ': 44,\n",
       " 'য': 45,\n",
       " 'গ': 46,\n",
       " 'া': 47,\n",
       " 'ৈ': 48,\n",
       " 'ী': 49,\n",
       " 'ঁ': 50,\n",
       " 'ড়': 51,\n",
       " 'ো': 52,\n",
       " 'ত': 53,\n",
       " 'থ': 54,\n",
       " 'অ': 55,\n",
       " '|': 56,\n",
       " 'চ': 57,\n",
       " 'ূ': 58,\n",
       " 'র': 59,\n",
       " 'খ': 60,\n",
       " 'ফ': 61,\n",
       " '[unk]': 62,\n",
       " '[pad]': 63}"
      ]
     },
     "execution_count": 15,
     "metadata": {},
     "output_type": "execute_result"
    }
   ],
   "source": [
    "sorted_vocab_dict"
   ]
  },
  {
   "cell_type": "code",
   "execution_count": 16,
   "id": "61c57e55",
   "metadata": {
    "execution": {
     "iopub.execute_input": "2022-12-14T09:22:19.047302Z",
     "iopub.status.busy": "2022-12-14T09:22:19.046805Z",
     "iopub.status.idle": "2022-12-14T09:22:19.057322Z",
     "shell.execute_reply": "2022-12-14T09:22:19.056519Z"
    },
    "papermill": {
     "duration": 0.05968,
     "end_time": "2022-12-14T09:22:19.059842",
     "exception": false,
     "start_time": "2022-12-14T09:22:19.000162",
     "status": "completed"
    },
    "tags": []
   },
   "outputs": [
    {
     "data": {
      "text/plain": [
       "['ঙ',\n",
       " 'দ',\n",
       " 'ঐ',\n",
       " 'হ',\n",
       " 'ৌ',\n",
       " 'ঔ',\n",
       " 'আ',\n",
       " 'প',\n",
       " 'ঘ',\n",
       " 'ঊ',\n",
       " 'ভ',\n",
       " 'ঢ়',\n",
       " 'ব',\n",
       " 'ম',\n",
       " 'ন',\n",
       " 'স',\n",
       " 'উ',\n",
       " 'ণ',\n",
       " 'ে',\n",
       " 'ৃ',\n",
       " 'ঃ',\n",
       " 'জ',\n",
       " 'ি',\n",
       " 'ং',\n",
       " 'ঋ',\n",
       " 'ু',\n",
       " 'ক',\n",
       " 'ষ',\n",
       " 'ঠ',\n",
       " 'এ',\n",
       " 'ই',\n",
       " 'ল',\n",
       " 'শ',\n",
       " 'ৎ',\n",
       " 'ঢ',\n",
       " 'ঈ',\n",
       " 'ও',\n",
       " 'ঝ',\n",
       " 'ঞ',\n",
       " '্',\n",
       " 'য়',\n",
       " 'ধ',\n",
       " 'ড',\n",
       " 'ট',\n",
       " 'ছ',\n",
       " 'য',\n",
       " 'গ',\n",
       " 'া',\n",
       " 'ৈ',\n",
       " 'ী',\n",
       " 'ঁ',\n",
       " 'ড়',\n",
       " 'ো',\n",
       " 'ত',\n",
       " 'থ',\n",
       " 'অ',\n",
       " '|',\n",
       " 'চ',\n",
       " 'ূ',\n",
       " 'র',\n",
       " 'খ',\n",
       " 'ফ',\n",
       " '[unk]',\n",
       " '[pad]']"
      ]
     },
     "execution_count": 16,
     "metadata": {},
     "output_type": "execute_result"
    }
   ],
   "source": [
    "list(sorted_vocab_dict.keys())"
   ]
  },
  {
   "cell_type": "code",
   "execution_count": 17,
   "id": "fe223757",
   "metadata": {
    "execution": {
     "iopub.execute_input": "2022-12-14T09:22:19.159217Z",
     "iopub.status.busy": "2022-12-14T09:22:19.158748Z",
     "iopub.status.idle": "2022-12-14T09:22:55.079044Z",
     "shell.execute_reply": "2022-12-14T09:22:55.077932Z"
    },
    "papermill": {
     "duration": 35.968884,
     "end_time": "2022-12-14T09:22:55.081531",
     "exception": false,
     "start_time": "2022-12-14T09:22:19.112647",
     "status": "completed"
    },
    "tags": []
   },
   "outputs": [
    {
     "name": "stderr",
     "output_type": "stream",
     "text": [
      "Loading the LM will be faster if you build a binary file.\n",
      "Reading /kaggle/working/6gram_correct.arpa\n",
      "----5---10---15---20---25---30---35---40---45---50---55---60---65---70---75---80---85---90---95--100\n",
      "****************************************************************************************************\n"
     ]
    }
   ],
   "source": [
    "from pyctcdecode import build_ctcdecoder\n",
    "\n",
    "decoder = build_ctcdecoder(\n",
    "    labels=list(sorted_vocab_dict.keys()),\n",
    "    kenlm_model_path=\"6gram_correct.arpa\",\n",
    ")"
   ]
  },
  {
   "cell_type": "code",
   "execution_count": 18,
   "id": "dab2b363",
   "metadata": {
    "execution": {
     "iopub.execute_input": "2022-12-14T09:22:55.144768Z",
     "iopub.status.busy": "2022-12-14T09:22:55.144398Z",
     "iopub.status.idle": "2022-12-14T09:22:55.152086Z",
     "shell.execute_reply": "2022-12-14T09:22:55.151195Z"
    },
    "papermill": {
     "duration": 0.042278,
     "end_time": "2022-12-14T09:22:55.154186",
     "exception": false,
     "start_time": "2022-12-14T09:22:55.111908",
     "status": "completed"
    },
    "tags": []
   },
   "outputs": [],
   "source": [
    "from transformers import Wav2Vec2ProcessorWithLM\n",
    "\n",
    "processor_with_lm = Wav2Vec2ProcessorWithLM(\n",
    "    feature_extractor=processor.feature_extractor,\n",
    "    tokenizer=processor.tokenizer,\n",
    "    decoder=decoder\n",
    ")"
   ]
  },
  {
   "cell_type": "code",
   "execution_count": 19,
   "id": "784286c3",
   "metadata": {
    "execution": {
     "iopub.execute_input": "2022-12-14T09:22:55.215697Z",
     "iopub.status.busy": "2022-12-14T09:22:55.215340Z",
     "iopub.status.idle": "2022-12-14T09:23:01.723004Z",
     "shell.execute_reply": "2022-12-14T09:23:01.721906Z"
    },
    "papermill": {
     "duration": 6.541647,
     "end_time": "2022-12-14T09:23:01.725661",
     "exception": false,
     "start_time": "2022-12-14T09:22:55.184014",
     "status": "completed"
    },
    "tags": []
   },
   "outputs": [],
   "source": [
    "#model.save_pretrained('wav2vec2')\n",
    "processor_with_lm.save_pretrained(\"wav2vec2_arpa\")"
   ]
  },
  {
   "cell_type": "code",
   "execution_count": 20,
   "id": "e57ac59f",
   "metadata": {
    "execution": {
     "iopub.execute_input": "2022-12-14T09:23:06.872497Z",
     "iopub.status.busy": "2022-12-14T09:23:06.869104Z",
     "iopub.status.idle": "2022-12-14T09:23:06.883567Z",
     "shell.execute_reply": "2022-12-14T09:23:06.881924Z"
    },
    "papermill": {
     "duration": 0.176969,
     "end_time": "2022-12-14T09:23:06.890647",
     "exception": false,
     "start_time": "2022-12-14T09:23:06.713678",
     "status": "completed"
    },
    "tags": []
   },
   "outputs": [],
   "source": [
    "#!tree -h"
   ]
  },
  {
   "cell_type": "code",
   "execution_count": 21,
   "id": "1f0c3909",
   "metadata": {
    "execution": {
     "iopub.execute_input": "2022-12-14T09:23:07.387570Z",
     "iopub.status.busy": "2022-12-14T09:23:07.386307Z",
     "iopub.status.idle": "2022-12-14T09:23:43.834855Z",
     "shell.execute_reply": "2022-12-14T09:23:43.833695Z"
    },
    "papermill": {
     "duration": 36.571071,
     "end_time": "2022-12-14T09:23:43.837296",
     "exception": false,
     "start_time": "2022-12-14T09:23:07.266225",
     "status": "completed"
    },
    "tags": []
   },
   "outputs": [
    {
     "name": "stdout",
     "output_type": "stream",
     "text": [
      "Reading wav2vec2_arpa/language_model/6gram_correct.arpa\r\n",
      "----5---10---15---20---25---30---35---40---45---50---55---60---65---70---75---80---85---90---95--100\r\n",
      "****************************************************************************************************\r\n",
      "SUCCESS\r\n"
     ]
    }
   ],
   "source": [
    "!kenlm/build/bin/build_binary wav2vec2_arpa/language_model/6gram_correct.arpa wav2vec2_arpa/language_model/6gram.bin"
   ]
  },
  {
   "cell_type": "code",
   "execution_count": 22,
   "id": "f773e73b",
   "metadata": {
    "execution": {
     "iopub.execute_input": "2022-12-14T09:23:43.909522Z",
     "iopub.status.busy": "2022-12-14T09:23:43.908681Z",
     "iopub.status.idle": "2022-12-14T09:23:45.347757Z",
     "shell.execute_reply": "2022-12-14T09:23:45.346622Z"
    },
    "papermill": {
     "duration": 1.478065,
     "end_time": "2022-12-14T09:23:45.350298",
     "exception": false,
     "start_time": "2022-12-14T09:23:43.872233",
     "status": "completed"
    },
    "tags": []
   },
   "outputs": [
    {
     "name": "stdout",
     "output_type": "stream",
     "text": [
      "\u001b[01;34mwav2vec2_arpa/\u001b[00m\r\n",
      "├── [ 658]  alphabet.json\r\n",
      "├── [4.0K]  \u001b[01;34mlanguage_model\u001b[00m\r\n",
      "│   ├── [876M]  6gram.bin\r\n",
      "│   ├── [  78]  attrs.json\r\n",
      "│   └── [ 11M]  unigrams.txt\r\n",
      "├── [ 262]  preprocessor_config.json\r\n",
      "├── [  51]  special_tokens_map.json\r\n",
      "├── [ 464]  tokenizer_config.json\r\n",
      "└── [ 827]  vocab.json\r\n",
      "\r\n",
      "1 directory, 8 files\r\n"
     ]
    }
   ],
   "source": [
    "!rm wav2vec2_arpa/language_model/6gram_correct.arpa && tree -h wav2vec2_arpa/"
   ]
  },
  {
   "cell_type": "code",
   "execution_count": 23,
   "id": "ca987765",
   "metadata": {
    "execution": {
     "iopub.execute_input": "2022-12-14T09:23:45.421692Z",
     "iopub.status.busy": "2022-12-14T09:23:45.421352Z",
     "iopub.status.idle": "2022-12-14T09:23:50.816711Z",
     "shell.execute_reply": "2022-12-14T09:23:50.815339Z"
    },
    "papermill": {
     "duration": 5.433986,
     "end_time": "2022-12-14T09:23:50.819569",
     "exception": false,
     "start_time": "2022-12-14T09:23:45.385583",
     "status": "completed"
    },
    "tags": []
   },
   "outputs": [],
   "source": [
    "!rm -rf kenlm\n",
    "!rm -rf 6gram.arpa\n",
    "!rm -rf text.txt\n",
    "!rm -rf 6gram_correct.arpa"
   ]
  },
  {
   "cell_type": "code",
   "execution_count": 24,
   "id": "fb20828b",
   "metadata": {
    "execution": {
     "iopub.execute_input": "2022-12-14T09:23:50.891193Z",
     "iopub.status.busy": "2022-12-14T09:23:50.890849Z",
     "iopub.status.idle": "2022-12-14T09:23:50.898260Z",
     "shell.execute_reply": "2022-12-14T09:23:50.897043Z"
    },
    "papermill": {
     "duration": 0.045517,
     "end_time": "2022-12-14T09:23:50.900345",
     "exception": false,
     "start_time": "2022-12-14T09:23:50.854828",
     "status": "completed"
    },
    "tags": []
   },
   "outputs": [
    {
     "name": "stdout",
     "output_type": "stream",
     "text": [
      "Overwriting ./wav2vec2_arpa/tokenizer_config.json\n"
     ]
    }
   ],
   "source": [
    "%%writefile ./wav2vec2_arpa/tokenizer_config.json\n",
    "{\"unk_token\": \"[UNK]\", \"bos_token\": null, \"eos_token\": null, \"pad_token\": \"[PAD]\", \"do_lower_case\": false, \"word_delimiter_token\": \"|\", \"replace_word_delimiter_char\": \" \", \"config\": null, \"tokenizer_type\": \"wav2vec2\", \"processor_class\": \"Wav2Vec2ProcessorWithLM\", \"special_tokens_map_file\": \"wav2vec2_bn/special_tokens_map.json\", \"name_or_path\": \"wav2vec2_bn\", \"tokenizer_class\": \"Wav2Vec2CTCTokenizer\"}"
   ]
  },
  {
   "cell_type": "code",
   "execution_count": 25,
   "id": "0e19bf73",
   "metadata": {
    "execution": {
     "iopub.execute_input": "2022-12-14T09:23:50.971617Z",
     "iopub.status.busy": "2022-12-14T09:23:50.970128Z",
     "iopub.status.idle": "2022-12-14T09:23:50.976896Z",
     "shell.execute_reply": "2022-12-14T09:23:50.975883Z"
    },
    "papermill": {
     "duration": 0.044053,
     "end_time": "2022-12-14T09:23:50.978860",
     "exception": false,
     "start_time": "2022-12-14T09:23:50.934807",
     "status": "completed"
    },
    "tags": []
   },
   "outputs": [
    {
     "name": "stdout",
     "output_type": "stream",
     "text": [
      "Overwriting ./wav2vec2_arpa/special_tokens_map.json\n"
     ]
    }
   ],
   "source": [
    "%%writefile ./wav2vec2_arpa/special_tokens_map.json\n",
    "\n",
    "{\"bos_token\": null, \"eos_token\": null, \"unk_token\": \"[UNK]\", \"pad_token\": \"[PAD]\"}"
   ]
  },
  {
   "cell_type": "code",
   "execution_count": 26,
   "id": "2299518c",
   "metadata": {
    "execution": {
     "iopub.execute_input": "2022-12-14T09:23:51.049101Z",
     "iopub.status.busy": "2022-12-14T09:23:51.048317Z",
     "iopub.status.idle": "2022-12-14T09:23:51.054290Z",
     "shell.execute_reply": "2022-12-14T09:23:51.053223Z"
    },
    "papermill": {
     "duration": 0.043298,
     "end_time": "2022-12-14T09:23:51.056224",
     "exception": false,
     "start_time": "2022-12-14T09:23:51.012926",
     "status": "completed"
    },
    "tags": []
   },
   "outputs": [
    {
     "name": "stdout",
     "output_type": "stream",
     "text": [
      "Writing ./wav2vec2_arpa/added_tokens.json\n"
     ]
    }
   ],
   "source": [
    "%%writefile ./wav2vec2_arpa/added_tokens.json\n",
    "{}"
   ]
  },
  {
   "cell_type": "code",
   "execution_count": 27,
   "id": "19cdab3f",
   "metadata": {
    "execution": {
     "iopub.execute_input": "2022-12-14T09:23:51.127261Z",
     "iopub.status.busy": "2022-12-14T09:23:51.126476Z",
     "iopub.status.idle": "2022-12-14T09:23:51.133064Z",
     "shell.execute_reply": "2022-12-14T09:23:51.131957Z"
    },
    "papermill": {
     "duration": 0.044329,
     "end_time": "2022-12-14T09:23:51.135084",
     "exception": false,
     "start_time": "2022-12-14T09:23:51.090755",
     "status": "completed"
    },
    "tags": []
   },
   "outputs": [
    {
     "name": "stdout",
     "output_type": "stream",
     "text": [
      "Overwriting ./wav2vec2_arpa/alphabet.json\n"
     ]
    }
   ],
   "source": [
    "%%writefile ./wav2vec2_arpa/alphabet.json\n",
    "{\"labels\": [\"\\u0999\", \"\\u09a6\", \"\\u0990\", \"\\u09b9\", \"\\u09cc\", \"\\u0994\", \"\\u0986\", \"\\u09aa\", \"\\u0998\", \"\\u098a\", \"\\u09ad\", \"\\u09dd\", \"\\u09ac\", \"\\u09ae\", \"\\u09a8\", \"\\u09b8\", \"\\u0989\", \"\\u09a3\", \"\\u09c7\", \"\\u09c3\", \"\\u0983\", \"\\u099c\", \"\\u09bf\", \"\\u0982\", \"\\u098b\", \"\\u09c1\", \"\\u0995\", \"\\u09b7\", \"\\u09a0\", \"\\u098f\", \"\\u0987\", \"\\u09b2\", \"\\u09b6\", \"\\u09ce\", \"\\u09a2\", \"\\u0988\", \"\\u0993\", \"\\u099d\", \"\\u099e\", \"\\u09cd\", \"\\u09df\", \"\\u09a7\", \"\\u09a1\", \"\\u099f\", \"\\u099b\", \"\\u09af\", \"\\u0997\", \"\\u09be\", \"\\u09c8\", \"\\u09c0\", \"\\u0981\", \"\\u09dc\", \"\\u09cb\", \"\\u09a4\", \"\\u09a5\", \"\\u0985\", \" \", \"\\u099a\", \"\\u09c2\", \"\\u09b0\", \"\\u0996\", \"\\u09ab\", \"\\u2047\", \"\"], \"is_bpe\": false}"
   ]
  },
  {
   "cell_type": "markdown",
   "id": "8449c2c8",
   "metadata": {
    "papermill": {
     "duration": 0.034462,
     "end_time": "2022-12-14T09:23:51.203986",
     "exception": false,
     "start_time": "2022-12-14T09:23:51.169524",
     "status": "completed"
    },
    "tags": []
   },
   "source": [
    "Inference part"
   ]
  },
  {
   "cell_type": "code",
   "execution_count": 28,
   "id": "62e2eeb5",
   "metadata": {
    "execution": {
     "iopub.execute_input": "2022-12-14T09:23:51.275379Z",
     "iopub.status.busy": "2022-12-14T09:23:51.274406Z",
     "iopub.status.idle": "2022-12-14T09:23:51.279167Z",
     "shell.execute_reply": "2022-12-14T09:23:51.278320Z"
    },
    "papermill": {
     "duration": 0.04227,
     "end_time": "2022-12-14T09:23:51.281033",
     "exception": false,
     "start_time": "2022-12-14T09:23:51.238763",
     "status": "completed"
    },
    "tags": []
   },
   "outputs": [],
   "source": [
    "model_path = '/kaggle/working/wav2vec2_arpa'"
   ]
  },
  {
   "cell_type": "code",
   "execution_count": 29,
   "id": "8a12b6b0",
   "metadata": {
    "execution": {
     "iopub.execute_input": "2022-12-14T09:23:51.352167Z",
     "iopub.status.busy": "2022-12-14T09:23:51.351495Z",
     "iopub.status.idle": "2022-12-14T09:24:57.432022Z",
     "shell.execute_reply": "2022-12-14T09:24:57.430954Z"
    },
    "papermill": {
     "duration": 66.11866,
     "end_time": "2022-12-14T09:24:57.434417",
     "exception": false,
     "start_time": "2022-12-14T09:23:51.315757",
     "status": "completed"
    },
    "tags": []
   },
   "outputs": [
    {
     "data": {
      "application/vnd.jupyter.widget-view+json": {
       "model_id": "962ddabd9dd5413087761fe959d7cdcd",
       "version_major": 2,
       "version_minor": 0
      },
      "text/plain": [
       "Downloading:   0%|          | 0.00/2.01k [00:00<?, ?B/s]"
      ]
     },
     "metadata": {},
     "output_type": "display_data"
    },
    {
     "data": {
      "application/vnd.jupyter.widget-view+json": {
       "model_id": "d7804c3073884948808e32356fe745f3",
       "version_major": 2,
       "version_minor": 0
      },
      "text/plain": [
       "Downloading:   0%|          | 0.00/1.18G [00:00<?, ?B/s]"
      ]
     },
     "metadata": {},
     "output_type": "display_data"
    }
   ],
   "source": [
    "from transformers import Wav2Vec2CTCTokenizer,Wav2Vec2ForCTC,Wav2Vec2Processor,Wav2Vec2FeatureExtractor,Wav2Vec2ProcessorWithLM\n",
    "model = Wav2Vec2ForCTC.from_pretrained('mushrafi88/wav2vec2_xlsr_300m_bn_6gram_arpa').to(\"cuda\")\n",
    "processorlm = Wav2Vec2ProcessorWithLM.from_pretrained(model_path)\n",
    "processor = Wav2Vec2Processor.from_pretrained('mushrafi88/wav2vec2_xlsr_300m_bn_6gram_arpa')"
   ]
  },
  {
   "cell_type": "code",
   "execution_count": 30,
   "id": "d8bcea1a",
   "metadata": {
    "execution": {
     "iopub.execute_input": "2022-12-14T09:24:57.507666Z",
     "iopub.status.busy": "2022-12-14T09:24:57.506803Z",
     "iopub.status.idle": "2022-12-14T09:24:59.102343Z",
     "shell.execute_reply": "2022-12-14T09:24:59.101335Z"
    },
    "papermill": {
     "duration": 1.634741,
     "end_time": "2022-12-14T09:24:59.105161",
     "exception": false,
     "start_time": "2022-12-14T09:24:57.470420",
     "status": "completed"
    },
    "tags": []
   },
   "outputs": [],
   "source": [
    "df = pd.read_csv('/kaggle/input/dlsprint/train.csv')"
   ]
  },
  {
   "cell_type": "code",
   "execution_count": 31,
   "id": "6e0036aa",
   "metadata": {
    "execution": {
     "iopub.execute_input": "2022-12-14T09:24:59.177197Z",
     "iopub.status.busy": "2022-12-14T09:24:59.176895Z",
     "iopub.status.idle": "2022-12-14T09:24:59.204439Z",
     "shell.execute_reply": "2022-12-14T09:24:59.203574Z"
    },
    "papermill": {
     "duration": 0.065408,
     "end_time": "2022-12-14T09:24:59.206380",
     "exception": false,
     "start_time": "2022-12-14T09:24:59.140972",
     "status": "completed"
    },
    "tags": []
   },
   "outputs": [],
   "source": [
    "df = df[['path','sentence']]"
   ]
  },
  {
   "cell_type": "code",
   "execution_count": 32,
   "id": "fb7c94be",
   "metadata": {
    "execution": {
     "iopub.execute_input": "2022-12-14T09:24:59.277259Z",
     "iopub.status.busy": "2022-12-14T09:24:59.276969Z",
     "iopub.status.idle": "2022-12-14T09:24:59.526134Z",
     "shell.execute_reply": "2022-12-14T09:24:59.524750Z"
    },
    "papermill": {
     "duration": 0.288147,
     "end_time": "2022-12-14T09:24:59.529404",
     "exception": false,
     "start_time": "2022-12-14T09:24:59.241257",
     "status": "completed"
    },
    "tags": []
   },
   "outputs": [],
   "source": [
    "df_duration = pd.read_csv('/kaggle/input/train-file/train_files_duration.csv')"
   ]
  },
  {
   "cell_type": "code",
   "execution_count": 33,
   "id": "c8e2ff9b",
   "metadata": {
    "execution": {
     "iopub.execute_input": "2022-12-14T09:24:59.725469Z",
     "iopub.status.busy": "2022-12-14T09:24:59.724799Z",
     "iopub.status.idle": "2022-12-14T09:24:59.748141Z",
     "shell.execute_reply": "2022-12-14T09:24:59.747070Z"
    },
    "papermill": {
     "duration": 0.122397,
     "end_time": "2022-12-14T09:24:59.750168",
     "exception": false,
     "start_time": "2022-12-14T09:24:59.627771",
     "status": "completed"
    },
    "tags": []
   },
   "outputs": [
    {
     "data": {
      "text/html": [
       "<div>\n",
       "<style scoped>\n",
       "    .dataframe tbody tr th:only-of-type {\n",
       "        vertical-align: middle;\n",
       "    }\n",
       "\n",
       "    .dataframe tbody tr th {\n",
       "        vertical-align: top;\n",
       "    }\n",
       "\n",
       "    .dataframe thead th {\n",
       "        text-align: right;\n",
       "    }\n",
       "</style>\n",
       "<table border=\"1\" class=\"dataframe\">\n",
       "  <thead>\n",
       "    <tr style=\"text-align: right;\">\n",
       "      <th></th>\n",
       "      <th>path</th>\n",
       "      <th>duration</th>\n",
       "    </tr>\n",
       "  </thead>\n",
       "  <tbody>\n",
       "    <tr>\n",
       "      <th>0</th>\n",
       "      <td>common_voice_bn_30614352.mp3</td>\n",
       "      <td>00:00:04</td>\n",
       "    </tr>\n",
       "    <tr>\n",
       "      <th>1</th>\n",
       "      <td>common_voice_bn_30614357.mp3</td>\n",
       "      <td>00:00:07</td>\n",
       "    </tr>\n",
       "    <tr>\n",
       "      <th>2</th>\n",
       "      <td>common_voice_bn_30614365.mp3</td>\n",
       "      <td>00:00:05</td>\n",
       "    </tr>\n",
       "    <tr>\n",
       "      <th>3</th>\n",
       "      <td>common_voice_bn_30646492.mp3</td>\n",
       "      <td>00:00:09</td>\n",
       "    </tr>\n",
       "    <tr>\n",
       "      <th>4</th>\n",
       "      <td>common_voice_bn_30646493.mp3</td>\n",
       "      <td>00:00:07</td>\n",
       "    </tr>\n",
       "    <tr>\n",
       "      <th>...</th>\n",
       "      <td>...</td>\n",
       "      <td>...</td>\n",
       "    </tr>\n",
       "    <tr>\n",
       "      <th>206945</th>\n",
       "      <td>common_voice_bn_31832728.mp3</td>\n",
       "      <td>00:00:10</td>\n",
       "    </tr>\n",
       "    <tr>\n",
       "      <th>206946</th>\n",
       "      <td>common_voice_bn_31832729.mp3</td>\n",
       "      <td>00:00:05</td>\n",
       "    </tr>\n",
       "    <tr>\n",
       "      <th>206947</th>\n",
       "      <td>common_voice_bn_31832730.mp3</td>\n",
       "      <td>00:00:09</td>\n",
       "    </tr>\n",
       "    <tr>\n",
       "      <th>206948</th>\n",
       "      <td>common_voice_bn_31832731.mp3</td>\n",
       "      <td>00:00:04</td>\n",
       "    </tr>\n",
       "    <tr>\n",
       "      <th>206949</th>\n",
       "      <td>common_voice_bn_31832732.mp3</td>\n",
       "      <td>00:00:06</td>\n",
       "    </tr>\n",
       "  </tbody>\n",
       "</table>\n",
       "<p>206950 rows × 2 columns</p>\n",
       "</div>"
      ],
      "text/plain": [
       "                                path  duration\n",
       "0       common_voice_bn_30614352.mp3  00:00:04\n",
       "1       common_voice_bn_30614357.mp3  00:00:07\n",
       "2       common_voice_bn_30614365.mp3  00:00:05\n",
       "3       common_voice_bn_30646492.mp3  00:00:09\n",
       "4       common_voice_bn_30646493.mp3  00:00:07\n",
       "...                              ...       ...\n",
       "206945  common_voice_bn_31832728.mp3  00:00:10\n",
       "206946  common_voice_bn_31832729.mp3  00:00:05\n",
       "206947  common_voice_bn_31832730.mp3  00:00:09\n",
       "206948  common_voice_bn_31832731.mp3  00:00:04\n",
       "206949  common_voice_bn_31832732.mp3  00:00:06\n",
       "\n",
       "[206950 rows x 2 columns]"
      ]
     },
     "execution_count": 33,
     "metadata": {},
     "output_type": "execute_result"
    }
   ],
   "source": [
    "df_duration"
   ]
  },
  {
   "cell_type": "code",
   "execution_count": 34,
   "id": "8a873603",
   "metadata": {
    "execution": {
     "iopub.execute_input": "2022-12-14T09:24:59.822479Z",
     "iopub.status.busy": "2022-12-14T09:24:59.821059Z",
     "iopub.status.idle": "2022-12-14T09:24:59.955479Z",
     "shell.execute_reply": "2022-12-14T09:24:59.954506Z"
    },
    "papermill": {
     "duration": 0.172587,
     "end_time": "2022-12-14T09:24:59.957983",
     "exception": false,
     "start_time": "2022-12-14T09:24:59.785396",
     "status": "completed"
    },
    "tags": []
   },
   "outputs": [],
   "source": [
    "df=df.merge(df_duration,on='path',how='inner')"
   ]
  },
  {
   "cell_type": "code",
   "execution_count": 35,
   "id": "0d366062",
   "metadata": {
    "execution": {
     "iopub.execute_input": "2022-12-14T09:25:00.030500Z",
     "iopub.status.busy": "2022-12-14T09:25:00.029565Z",
     "iopub.status.idle": "2022-12-14T09:25:00.053051Z",
     "shell.execute_reply": "2022-12-14T09:25:00.052046Z"
    },
    "papermill": {
     "duration": 0.061559,
     "end_time": "2022-12-14T09:25:00.054996",
     "exception": false,
     "start_time": "2022-12-14T09:24:59.993437",
     "status": "completed"
    },
    "tags": []
   },
   "outputs": [
    {
     "data": {
      "text/plain": [
       "Index(['path'], dtype='object')"
      ]
     },
     "execution_count": 35,
     "metadata": {},
     "output_type": "execute_result"
    }
   ],
   "source": [
    "df_denoised = pd.read_csv('/kaggle/input/denoiser-for-benchmark/df_train_files_10k.csv')\n",
    "df_denoised = df_denoised.drop('Unnamed: 0',axis=1)\n",
    "df_denoised.columns"
   ]
  },
  {
   "cell_type": "code",
   "execution_count": 36,
   "id": "d6973812",
   "metadata": {
    "execution": {
     "iopub.execute_input": "2022-12-14T09:25:00.126465Z",
     "iopub.status.busy": "2022-12-14T09:25:00.125621Z",
     "iopub.status.idle": "2022-12-14T09:25:00.136821Z",
     "shell.execute_reply": "2022-12-14T09:25:00.135960Z"
    },
    "papermill": {
     "duration": 0.049059,
     "end_time": "2022-12-14T09:25:00.138814",
     "exception": false,
     "start_time": "2022-12-14T09:25:00.089755",
     "status": "completed"
    },
    "tags": []
   },
   "outputs": [
    {
     "data": {
      "text/html": [
       "<div>\n",
       "<style scoped>\n",
       "    .dataframe tbody tr th:only-of-type {\n",
       "        vertical-align: middle;\n",
       "    }\n",
       "\n",
       "    .dataframe tbody tr th {\n",
       "        vertical-align: top;\n",
       "    }\n",
       "\n",
       "    .dataframe thead th {\n",
       "        text-align: right;\n",
       "    }\n",
       "</style>\n",
       "<table border=\"1\" class=\"dataframe\">\n",
       "  <thead>\n",
       "    <tr style=\"text-align: right;\">\n",
       "      <th></th>\n",
       "      <th>path</th>\n",
       "    </tr>\n",
       "  </thead>\n",
       "  <tbody>\n",
       "    <tr>\n",
       "      <th>0</th>\n",
       "      <td>common_voice_bn_31786865.mp3</td>\n",
       "    </tr>\n",
       "    <tr>\n",
       "      <th>1</th>\n",
       "      <td>common_voice_bn_31546487.mp3</td>\n",
       "    </tr>\n",
       "    <tr>\n",
       "      <th>2</th>\n",
       "      <td>common_voice_bn_31693875.mp3</td>\n",
       "    </tr>\n",
       "    <tr>\n",
       "      <th>3</th>\n",
       "      <td>common_voice_bn_31630968.mp3</td>\n",
       "    </tr>\n",
       "    <tr>\n",
       "      <th>4</th>\n",
       "      <td>common_voice_bn_31786480.mp3</td>\n",
       "    </tr>\n",
       "    <tr>\n",
       "      <th>...</th>\n",
       "      <td>...</td>\n",
       "    </tr>\n",
       "    <tr>\n",
       "      <th>9995</th>\n",
       "      <td>common_voice_bn_31755897.mp3</td>\n",
       "    </tr>\n",
       "    <tr>\n",
       "      <th>9996</th>\n",
       "      <td>common_voice_bn_31697476.mp3</td>\n",
       "    </tr>\n",
       "    <tr>\n",
       "      <th>9997</th>\n",
       "      <td>common_voice_bn_31508854.mp3</td>\n",
       "    </tr>\n",
       "    <tr>\n",
       "      <th>9998</th>\n",
       "      <td>common_voice_bn_31623563.mp3</td>\n",
       "    </tr>\n",
       "    <tr>\n",
       "      <th>9999</th>\n",
       "      <td>common_voice_bn_30997496.mp3</td>\n",
       "    </tr>\n",
       "  </tbody>\n",
       "</table>\n",
       "<p>10000 rows × 1 columns</p>\n",
       "</div>"
      ],
      "text/plain": [
       "                              path\n",
       "0     common_voice_bn_31786865.mp3\n",
       "1     common_voice_bn_31546487.mp3\n",
       "2     common_voice_bn_31693875.mp3\n",
       "3     common_voice_bn_31630968.mp3\n",
       "4     common_voice_bn_31786480.mp3\n",
       "...                            ...\n",
       "9995  common_voice_bn_31755897.mp3\n",
       "9996  common_voice_bn_31697476.mp3\n",
       "9997  common_voice_bn_31508854.mp3\n",
       "9998  common_voice_bn_31623563.mp3\n",
       "9999  common_voice_bn_30997496.mp3\n",
       "\n",
       "[10000 rows x 1 columns]"
      ]
     },
     "execution_count": 36,
     "metadata": {},
     "output_type": "execute_result"
    }
   ],
   "source": [
    "df_denoised"
   ]
  },
  {
   "cell_type": "code",
   "execution_count": 37,
   "id": "1d2576b6",
   "metadata": {
    "execution": {
     "iopub.execute_input": "2022-12-14T09:25:00.210158Z",
     "iopub.status.busy": "2022-12-14T09:25:00.209898Z",
     "iopub.status.idle": "2022-12-14T09:25:00.221601Z",
     "shell.execute_reply": "2022-12-14T09:25:00.220706Z"
    },
    "papermill": {
     "duration": 0.049707,
     "end_time": "2022-12-14T09:25:00.223698",
     "exception": false,
     "start_time": "2022-12-14T09:25:00.173991",
     "status": "completed"
    },
    "tags": []
   },
   "outputs": [
    {
     "data": {
      "text/html": [
       "<div>\n",
       "<style scoped>\n",
       "    .dataframe tbody tr th:only-of-type {\n",
       "        vertical-align: middle;\n",
       "    }\n",
       "\n",
       "    .dataframe tbody tr th {\n",
       "        vertical-align: top;\n",
       "    }\n",
       "\n",
       "    .dataframe thead th {\n",
       "        text-align: right;\n",
       "    }\n",
       "</style>\n",
       "<table border=\"1\" class=\"dataframe\">\n",
       "  <thead>\n",
       "    <tr style=\"text-align: right;\">\n",
       "      <th></th>\n",
       "      <th>path</th>\n",
       "      <th>sentence</th>\n",
       "      <th>duration</th>\n",
       "    </tr>\n",
       "  </thead>\n",
       "  <tbody>\n",
       "    <tr>\n",
       "      <th>0</th>\n",
       "      <td>common_voice_bn_30991326.mp3</td>\n",
       "      <td>বাবা সত্যেন ঘোষ।</td>\n",
       "      <td>00:00:03</td>\n",
       "    </tr>\n",
       "    <tr>\n",
       "      <th>1</th>\n",
       "      <td>common_voice_bn_30991371.mp3</td>\n",
       "      <td>দেওয়ান ফরিদ গাজী বাংলাদেশ আওয়ামী লীগের উপদেষ...</td>\n",
       "      <td>00:00:06</td>\n",
       "    </tr>\n",
       "    <tr>\n",
       "      <th>2</th>\n",
       "      <td>common_voice_bn_30991410.mp3</td>\n",
       "      <td>এর মাধ্যমে কারও গান গাওয়া দক্ষতা বা নিজস্ব ধর...</td>\n",
       "      <td>00:00:06</td>\n",
       "    </tr>\n",
       "    <tr>\n",
       "      <th>3</th>\n",
       "      <td>common_voice_bn_30991432.mp3</td>\n",
       "      <td>আপনি খুব একটা কথা বলার লোক নন, তাই না?</td>\n",
       "      <td>00:00:04</td>\n",
       "    </tr>\n",
       "    <tr>\n",
       "      <th>4</th>\n",
       "      <td>common_voice_bn_30991478.mp3</td>\n",
       "      <td>আপনি খুব একটা কথা বলার লোক নন, তাই না?</td>\n",
       "      <td>00:00:04</td>\n",
       "    </tr>\n",
       "    <tr>\n",
       "      <th>...</th>\n",
       "      <td>...</td>\n",
       "      <td>...</td>\n",
       "      <td>...</td>\n",
       "    </tr>\n",
       "    <tr>\n",
       "      <th>206945</th>\n",
       "      <td>common_voice_bn_31802418.mp3</td>\n",
       "      <td>রাণীগঞ্জ মূলত এখানকার কয়লা খনি এবং খনিজ সংক্র...</td>\n",
       "      <td>00:00:07</td>\n",
       "    </tr>\n",
       "    <tr>\n",
       "      <th>206946</th>\n",
       "      <td>common_voice_bn_31802540.mp3</td>\n",
       "      <td>ওহাইও নদীর মুখোমুখি অবস্থিত, কারখানাটি লম্বা এ...</td>\n",
       "      <td>00:00:07</td>\n",
       "    </tr>\n",
       "    <tr>\n",
       "      <th>206947</th>\n",
       "      <td>common_voice_bn_31802606.mp3</td>\n",
       "      <td>উল্লেখ্য যে, আইন অমান্য আন্দোলনে বাংলার মুসলমা...</td>\n",
       "      <td>00:00:07</td>\n",
       "    </tr>\n",
       "    <tr>\n",
       "      <th>206948</th>\n",
       "      <td>common_voice_bn_31815460.mp3</td>\n",
       "      <td>তিনি রাজস্থানের প্রতাপগড় জেলা থেকে রাজস্থান ব...</td>\n",
       "      <td>00:00:05</td>\n",
       "    </tr>\n",
       "    <tr>\n",
       "      <th>206949</th>\n",
       "      <td>common_voice_bn_31831275.mp3</td>\n",
       "      <td>ইয়েল ইউনিভার্সিটি, অন্য সংবাদপত্রের সাথে যোগা...</td>\n",
       "      <td>00:00:09</td>\n",
       "    </tr>\n",
       "  </tbody>\n",
       "</table>\n",
       "<p>206950 rows × 3 columns</p>\n",
       "</div>"
      ],
      "text/plain": [
       "                                path  \\\n",
       "0       common_voice_bn_30991326.mp3   \n",
       "1       common_voice_bn_30991371.mp3   \n",
       "2       common_voice_bn_30991410.mp3   \n",
       "3       common_voice_bn_30991432.mp3   \n",
       "4       common_voice_bn_30991478.mp3   \n",
       "...                              ...   \n",
       "206945  common_voice_bn_31802418.mp3   \n",
       "206946  common_voice_bn_31802540.mp3   \n",
       "206947  common_voice_bn_31802606.mp3   \n",
       "206948  common_voice_bn_31815460.mp3   \n",
       "206949  common_voice_bn_31831275.mp3   \n",
       "\n",
       "                                                 sentence  duration  \n",
       "0                                        বাবা সত্যেন ঘোষ।  00:00:03  \n",
       "1       দেওয়ান ফরিদ গাজী বাংলাদেশ আওয়ামী লীগের উপদেষ...  00:00:06  \n",
       "2       এর মাধ্যমে কারও গান গাওয়া দক্ষতা বা নিজস্ব ধর...  00:00:06  \n",
       "3                  আপনি খুব একটা কথা বলার লোক নন, তাই না?  00:00:04  \n",
       "4                  আপনি খুব একটা কথা বলার লোক নন, তাই না?  00:00:04  \n",
       "...                                                   ...       ...  \n",
       "206945  রাণীগঞ্জ মূলত এখানকার কয়লা খনি এবং খনিজ সংক্র...  00:00:07  \n",
       "206946  ওহাইও নদীর মুখোমুখি অবস্থিত, কারখানাটি লম্বা এ...  00:00:07  \n",
       "206947  উল্লেখ্য যে, আইন অমান্য আন্দোলনে বাংলার মুসলমা...  00:00:07  \n",
       "206948  তিনি রাজস্থানের প্রতাপগড় জেলা থেকে রাজস্থান ব...  00:00:05  \n",
       "206949  ইয়েল ইউনিভার্সিটি, অন্য সংবাদপত্রের সাথে যোগা...  00:00:09  \n",
       "\n",
       "[206950 rows x 3 columns]"
      ]
     },
     "execution_count": 37,
     "metadata": {},
     "output_type": "execute_result"
    }
   ],
   "source": [
    "df"
   ]
  },
  {
   "cell_type": "code",
   "execution_count": 38,
   "id": "d6450702",
   "metadata": {
    "execution": {
     "iopub.execute_input": "2022-12-14T09:25:00.295419Z",
     "iopub.status.busy": "2022-12-14T09:25:00.295108Z",
     "iopub.status.idle": "2022-12-14T09:25:00.476881Z",
     "shell.execute_reply": "2022-12-14T09:25:00.475904Z"
    },
    "papermill": {
     "duration": 0.220246,
     "end_time": "2022-12-14T09:25:00.479432",
     "exception": false,
     "start_time": "2022-12-14T09:25:00.259186",
     "status": "completed"
    },
    "tags": []
   },
   "outputs": [],
   "source": [
    "df = df.merge(df_denoised, how='outer', indicator=True).query('_merge == \"left_only\"').drop('_merge', 1)"
   ]
  },
  {
   "cell_type": "code",
   "execution_count": 39,
   "id": "ae2ee992",
   "metadata": {
    "execution": {
     "iopub.execute_input": "2022-12-14T09:25:00.552580Z",
     "iopub.status.busy": "2022-12-14T09:25:00.552244Z",
     "iopub.status.idle": "2022-12-14T09:25:00.583568Z",
     "shell.execute_reply": "2022-12-14T09:25:00.582574Z"
    },
    "papermill": {
     "duration": 0.06976,
     "end_time": "2022-12-14T09:25:00.585704",
     "exception": false,
     "start_time": "2022-12-14T09:25:00.515944",
     "status": "completed"
    },
    "tags": []
   },
   "outputs": [],
   "source": [
    "df['path'] = '/kaggle/input/dlsprint/train_files/' + df['path']"
   ]
  },
  {
   "cell_type": "code",
   "execution_count": 40,
   "id": "2e96986c",
   "metadata": {
    "execution": {
     "iopub.execute_input": "2022-12-14T09:25:00.658701Z",
     "iopub.status.busy": "2022-12-14T09:25:00.658397Z",
     "iopub.status.idle": "2022-12-14T09:25:00.667372Z",
     "shell.execute_reply": "2022-12-14T09:25:00.666338Z"
    },
    "papermill": {
     "duration": 0.047606,
     "end_time": "2022-12-14T09:25:00.669575",
     "exception": false,
     "start_time": "2022-12-14T09:25:00.621969",
     "status": "completed"
    },
    "tags": []
   },
   "outputs": [
    {
     "data": {
      "text/plain": [
       "'/kaggle/input/dlsprint/train_files/common_voice_bn_30991326.mp3'"
      ]
     },
     "execution_count": 40,
     "metadata": {},
     "output_type": "execute_result"
    }
   ],
   "source": [
    "df['path'][0]"
   ]
  },
  {
   "cell_type": "code",
   "execution_count": 41,
   "id": "f6630384",
   "metadata": {
    "execution": {
     "iopub.execute_input": "2022-12-14T09:25:00.741165Z",
     "iopub.status.busy": "2022-12-14T09:25:00.740886Z",
     "iopub.status.idle": "2022-12-14T09:25:00.848138Z",
     "shell.execute_reply": "2022-12-14T09:25:00.847270Z"
    },
    "papermill": {
     "duration": 0.145337,
     "end_time": "2022-12-14T09:25:00.850149",
     "exception": false,
     "start_time": "2022-12-14T09:25:00.704812",
     "status": "completed"
    },
    "tags": []
   },
   "outputs": [],
   "source": [
    "df['duration'] = df.duration.apply(lambda x: int(x[-1:]))"
   ]
  },
  {
   "cell_type": "code",
   "execution_count": 42,
   "id": "578be0b0",
   "metadata": {
    "execution": {
     "iopub.execute_input": "2022-12-14T09:25:00.922827Z",
     "iopub.status.busy": "2022-12-14T09:25:00.922067Z",
     "iopub.status.idle": "2022-12-14T09:25:00.930886Z",
     "shell.execute_reply": "2022-12-14T09:25:00.930007Z"
    },
    "papermill": {
     "duration": 0.047284,
     "end_time": "2022-12-14T09:25:00.932821",
     "exception": false,
     "start_time": "2022-12-14T09:25:00.885537",
     "status": "completed"
    },
    "tags": []
   },
   "outputs": [
    {
     "data": {
      "text/plain": [
       "5    39733\n",
       "4    36451\n",
       "6    32104\n",
       "7    26370\n",
       "8    18693\n",
       "3    18682\n",
       "9    14645\n",
       "0     5768\n",
       "2     4209\n",
       "1      295\n",
       "Name: duration, dtype: int64"
      ]
     },
     "execution_count": 42,
     "metadata": {},
     "output_type": "execute_result"
    }
   ],
   "source": [
    "df.duration.value_counts()"
   ]
  },
  {
   "cell_type": "code",
   "execution_count": 43,
   "id": "90bcc68b",
   "metadata": {
    "execution": {
     "iopub.execute_input": "2022-12-14T09:25:01.009397Z",
     "iopub.status.busy": "2022-12-14T09:25:01.008677Z",
     "iopub.status.idle": "2022-12-14T09:25:01.028070Z",
     "shell.execute_reply": "2022-12-14T09:25:01.027225Z"
    },
    "papermill": {
     "duration": 0.060817,
     "end_time": "2022-12-14T09:25:01.030251",
     "exception": false,
     "start_time": "2022-12-14T09:25:00.969434",
     "status": "completed"
    },
    "tags": []
   },
   "outputs": [],
   "source": [
    "df = df[(df.duration != 4) & (df.duration >=2)]"
   ]
  },
  {
   "cell_type": "code",
   "execution_count": 44,
   "id": "65e903aa",
   "metadata": {
    "execution": {
     "iopub.execute_input": "2022-12-14T09:25:01.108983Z",
     "iopub.status.busy": "2022-12-14T09:25:01.108690Z",
     "iopub.status.idle": "2022-12-14T09:25:01.124181Z",
     "shell.execute_reply": "2022-12-14T09:25:01.123376Z"
    },
    "papermill": {
     "duration": 0.056798,
     "end_time": "2022-12-14T09:25:01.126156",
     "exception": false,
     "start_time": "2022-12-14T09:25:01.069358",
     "status": "completed"
    },
    "tags": []
   },
   "outputs": [],
   "source": [
    "df = df[(df.duration > 5)]"
   ]
  },
  {
   "cell_type": "code",
   "execution_count": 45,
   "id": "eb6abf38",
   "metadata": {
    "execution": {
     "iopub.execute_input": "2022-12-14T09:25:01.202587Z",
     "iopub.status.busy": "2022-12-14T09:25:01.201847Z",
     "iopub.status.idle": "2022-12-14T09:25:01.214312Z",
     "shell.execute_reply": "2022-12-14T09:25:01.213342Z"
    },
    "papermill": {
     "duration": 0.052683,
     "end_time": "2022-12-14T09:25:01.216350",
     "exception": false,
     "start_time": "2022-12-14T09:25:01.163667",
     "status": "completed"
    },
    "tags": []
   },
   "outputs": [
    {
     "data": {
      "text/html": [
       "<div>\n",
       "<style scoped>\n",
       "    .dataframe tbody tr th:only-of-type {\n",
       "        vertical-align: middle;\n",
       "    }\n",
       "\n",
       "    .dataframe tbody tr th {\n",
       "        vertical-align: top;\n",
       "    }\n",
       "\n",
       "    .dataframe thead th {\n",
       "        text-align: right;\n",
       "    }\n",
       "</style>\n",
       "<table border=\"1\" class=\"dataframe\">\n",
       "  <thead>\n",
       "    <tr style=\"text-align: right;\">\n",
       "      <th></th>\n",
       "      <th>path</th>\n",
       "      <th>sentence</th>\n",
       "      <th>duration</th>\n",
       "    </tr>\n",
       "  </thead>\n",
       "  <tbody>\n",
       "    <tr>\n",
       "      <th>1</th>\n",
       "      <td>/kaggle/input/dlsprint/train_files/common_voic...</td>\n",
       "      <td>দেওয়ান ফরিদ গাজী বাংলাদেশ আওয়ামী লীগের উপদেষ...</td>\n",
       "      <td>6</td>\n",
       "    </tr>\n",
       "    <tr>\n",
       "      <th>2</th>\n",
       "      <td>/kaggle/input/dlsprint/train_files/common_voic...</td>\n",
       "      <td>এর মাধ্যমে কারও গান গাওয়া দক্ষতা বা নিজস্ব ধর...</td>\n",
       "      <td>6</td>\n",
       "    </tr>\n",
       "    <tr>\n",
       "      <th>7</th>\n",
       "      <td>/kaggle/input/dlsprint/train_files/common_voic...</td>\n",
       "      <td>ডিজিটাল বিশ্বে তথ্য অন্য যে কোনও ডিজিটাল ফাইলে...</td>\n",
       "      <td>6</td>\n",
       "    </tr>\n",
       "    <tr>\n",
       "      <th>10</th>\n",
       "      <td>/kaggle/input/dlsprint/train_files/common_voic...</td>\n",
       "      <td>হিসাব পাওয়ার পর তিনি স্বল্প সময়ের মধ্যেই সম্...</td>\n",
       "      <td>6</td>\n",
       "    </tr>\n",
       "    <tr>\n",
       "      <th>17</th>\n",
       "      <td>/kaggle/input/dlsprint/train_files/common_voic...</td>\n",
       "      <td>নদীর পানিতে বয়ে আসা পলি তলদেশে জমে মাঝেমধ্যে ...</td>\n",
       "      <td>7</td>\n",
       "    </tr>\n",
       "    <tr>\n",
       "      <th>...</th>\n",
       "      <td>...</td>\n",
       "      <td>...</td>\n",
       "      <td>...</td>\n",
       "    </tr>\n",
       "    <tr>\n",
       "      <th>206944</th>\n",
       "      <td>/kaggle/input/dlsprint/train_files/common_voic...</td>\n",
       "      <td>কিছু দিনের মধ্যেই দীউয়ান মুর্শিদকুলী খানের না...</td>\n",
       "      <td>9</td>\n",
       "    </tr>\n",
       "    <tr>\n",
       "      <th>206945</th>\n",
       "      <td>/kaggle/input/dlsprint/train_files/common_voic...</td>\n",
       "      <td>রাণীগঞ্জ মূলত এখানকার কয়লা খনি এবং খনিজ সংক্র...</td>\n",
       "      <td>7</td>\n",
       "    </tr>\n",
       "    <tr>\n",
       "      <th>206946</th>\n",
       "      <td>/kaggle/input/dlsprint/train_files/common_voic...</td>\n",
       "      <td>ওহাইও নদীর মুখোমুখি অবস্থিত, কারখানাটি লম্বা এ...</td>\n",
       "      <td>7</td>\n",
       "    </tr>\n",
       "    <tr>\n",
       "      <th>206947</th>\n",
       "      <td>/kaggle/input/dlsprint/train_files/common_voic...</td>\n",
       "      <td>উল্লেখ্য যে, আইন অমান্য আন্দোলনে বাংলার মুসলমা...</td>\n",
       "      <td>7</td>\n",
       "    </tr>\n",
       "    <tr>\n",
       "      <th>206949</th>\n",
       "      <td>/kaggle/input/dlsprint/train_files/common_voic...</td>\n",
       "      <td>ইয়েল ইউনিভার্সিটি, অন্য সংবাদপত্রের সাথে যোগা...</td>\n",
       "      <td>9</td>\n",
       "    </tr>\n",
       "  </tbody>\n",
       "</table>\n",
       "<p>91812 rows × 3 columns</p>\n",
       "</div>"
      ],
      "text/plain": [
       "                                                     path  \\\n",
       "1       /kaggle/input/dlsprint/train_files/common_voic...   \n",
       "2       /kaggle/input/dlsprint/train_files/common_voic...   \n",
       "7       /kaggle/input/dlsprint/train_files/common_voic...   \n",
       "10      /kaggle/input/dlsprint/train_files/common_voic...   \n",
       "17      /kaggle/input/dlsprint/train_files/common_voic...   \n",
       "...                                                   ...   \n",
       "206944  /kaggle/input/dlsprint/train_files/common_voic...   \n",
       "206945  /kaggle/input/dlsprint/train_files/common_voic...   \n",
       "206946  /kaggle/input/dlsprint/train_files/common_voic...   \n",
       "206947  /kaggle/input/dlsprint/train_files/common_voic...   \n",
       "206949  /kaggle/input/dlsprint/train_files/common_voic...   \n",
       "\n",
       "                                                 sentence  duration  \n",
       "1       দেওয়ান ফরিদ গাজী বাংলাদেশ আওয়ামী লীগের উপদেষ...         6  \n",
       "2       এর মাধ্যমে কারও গান গাওয়া দক্ষতা বা নিজস্ব ধর...         6  \n",
       "7       ডিজিটাল বিশ্বে তথ্য অন্য যে কোনও ডিজিটাল ফাইলে...         6  \n",
       "10      হিসাব পাওয়ার পর তিনি স্বল্প সময়ের মধ্যেই সম্...         6  \n",
       "17      নদীর পানিতে বয়ে আসা পলি তলদেশে জমে মাঝেমধ্যে ...         7  \n",
       "...                                                   ...       ...  \n",
       "206944  কিছু দিনের মধ্যেই দীউয়ান মুর্শিদকুলী খানের না...         9  \n",
       "206945  রাণীগঞ্জ মূলত এখানকার কয়লা খনি এবং খনিজ সংক্র...         7  \n",
       "206946  ওহাইও নদীর মুখোমুখি অবস্থিত, কারখানাটি লম্বা এ...         7  \n",
       "206947  উল্লেখ্য যে, আইন অমান্য আন্দোলনে বাংলার মুসলমা...         7  \n",
       "206949  ইয়েল ইউনিভার্সিটি, অন্য সংবাদপত্রের সাথে যোগা...         9  \n",
       "\n",
       "[91812 rows x 3 columns]"
      ]
     },
     "execution_count": 45,
     "metadata": {},
     "output_type": "execute_result"
    }
   ],
   "source": [
    "df"
   ]
  },
  {
   "cell_type": "code",
   "execution_count": 46,
   "id": "eab541ac",
   "metadata": {
    "execution": {
     "iopub.execute_input": "2022-12-14T09:25:01.292260Z",
     "iopub.status.busy": "2022-12-14T09:25:01.291996Z",
     "iopub.status.idle": "2022-12-14T09:25:01.410983Z",
     "shell.execute_reply": "2022-12-14T09:25:01.409956Z"
    },
    "papermill": {
     "duration": 0.158685,
     "end_time": "2022-12-14T09:25:01.413490",
     "exception": false,
     "start_time": "2022-12-14T09:25:01.254805",
     "status": "completed"
    },
    "tags": []
   },
   "outputs": [],
   "source": [
    "submission = Dataset.from_pandas(df)"
   ]
  },
  {
   "cell_type": "code",
   "execution_count": 47,
   "id": "087073cc",
   "metadata": {
    "execution": {
     "iopub.execute_input": "2022-12-14T09:25:01.491863Z",
     "iopub.status.busy": "2022-12-14T09:25:01.491175Z",
     "iopub.status.idle": "2022-12-14T09:25:02.581391Z",
     "shell.execute_reply": "2022-12-14T09:25:02.579878Z"
    },
    "papermill": {
     "duration": 1.133656,
     "end_time": "2022-12-14T09:25:02.583896",
     "exception": false,
     "start_time": "2022-12-14T09:25:01.450240",
     "status": "completed"
    },
    "tags": []
   },
   "outputs": [],
   "source": [
    "!mkdir /kaggle/tmp"
   ]
  },
  {
   "cell_type": "code",
   "execution_count": 48,
   "id": "182aba75",
   "metadata": {
    "execution": {
     "iopub.execute_input": "2022-12-14T09:25:02.662203Z",
     "iopub.status.busy": "2022-12-14T09:25:02.661856Z",
     "iopub.status.idle": "2022-12-14T09:25:02.708646Z",
     "shell.execute_reply": "2022-12-14T09:25:02.707747Z"
    },
    "papermill": {
     "duration": 0.090355,
     "end_time": "2022-12-14T09:25:02.710706",
     "exception": false,
     "start_time": "2022-12-14T09:25:02.620351",
     "status": "completed"
    },
    "tags": []
   },
   "outputs": [],
   "source": [
    "submission.save_to_disk('/kaggle/tmp')\n",
    "submission = submission.cast_column(\"path\", Audio(sampling_rate=16_000))\n",
    "submission.cleanup_cache_files()\n",
    "result=[]"
   ]
  },
  {
   "cell_type": "code",
   "execution_count": 49,
   "id": "9c9c577b",
   "metadata": {
    "execution": {
     "iopub.execute_input": "2022-12-14T09:25:02.785548Z",
     "iopub.status.busy": "2022-12-14T09:25:02.784048Z",
     "iopub.status.idle": "2022-12-14T09:25:02.790896Z",
     "shell.execute_reply": "2022-12-14T09:25:02.789938Z"
    },
    "papermill": {
     "duration": 0.045908,
     "end_time": "2022-12-14T09:25:02.793034",
     "exception": false,
     "start_time": "2022-12-14T09:25:02.747126",
     "status": "completed"
    },
    "tags": []
   },
   "outputs": [
    {
     "data": {
      "text/plain": [
       "Dataset({\n",
       "    features: ['path', 'sentence', 'duration', '__index_level_0__'],\n",
       "    num_rows: 91812\n",
       "})"
      ]
     },
     "execution_count": 49,
     "metadata": {},
     "output_type": "execute_result"
    }
   ],
   "source": [
    "submission"
   ]
  },
  {
   "cell_type": "code",
   "execution_count": 50,
   "id": "19c615d8",
   "metadata": {
    "execution": {
     "iopub.execute_input": "2022-12-14T09:25:02.866505Z",
     "iopub.status.busy": "2022-12-14T09:25:02.865584Z",
     "iopub.status.idle": "2022-12-14T16:07:06.526389Z",
     "shell.execute_reply": "2022-12-14T16:07:06.524039Z"
    },
    "papermill": {
     "duration": 24123.70054,
     "end_time": "2022-12-14T16:07:06.529524",
     "exception": false,
     "start_time": "2022-12-14T09:25:02.828984",
     "status": "completed"
    },
    "tags": []
   },
   "outputs": [
    {
     "name": "stderr",
     "output_type": "stream",
     "text": [
      "100%|██████████| 50000/50000 [6:42:03<00:00,  2.07it/s]\n"
     ]
    }
   ],
   "source": [
    "# edit dic and save file name \n",
    "df_tmp = pd.DataFrame()\n",
    "\n",
    "for i in tqdm(range(50000)):\n",
    "    inputs = processor(submission[i][\"path\"][\"array\"], sampling_rate=16_000, return_tensors=\"pt\").to(\"cuda\")\n",
    "    \n",
    "    with torch.no_grad():\n",
    "        logits = model(**inputs).logits\n",
    "        transcription = processorlm.batch_decode(logits.cpu().numpy()).text\n",
    "        \n",
    "        pred_ids = torch.argmax(logits, dim=-1)[0]\n",
    "\n",
    "        dic={ 'path':submission[i]['path']['path'],'wav2vec2': processor.decode(pred_ids) ,'4gram': transcription[0]}\n",
    "        df_tmp=df_tmp.append(dic,ignore_index=True)\n",
    "        torch.cuda.empty_cache()\n",
    "#df = df.merge(df_tmp,how='inner',on='path')"
   ]
  },
  {
   "cell_type": "code",
   "execution_count": 51,
   "id": "38bbc82d",
   "metadata": {
    "execution": {
     "iopub.execute_input": "2022-12-14T16:07:12.158749Z",
     "iopub.status.busy": "2022-12-14T16:07:12.157243Z",
     "iopub.status.idle": "2022-12-14T16:07:12.174256Z",
     "shell.execute_reply": "2022-12-14T16:07:12.173183Z"
    },
    "papermill": {
     "duration": 2.878548,
     "end_time": "2022-12-14T16:07:12.176979",
     "exception": false,
     "start_time": "2022-12-14T16:07:09.298431",
     "status": "completed"
    },
    "tags": []
   },
   "outputs": [
    {
     "data": {
      "text/html": [
       "<div>\n",
       "<style scoped>\n",
       "    .dataframe tbody tr th:only-of-type {\n",
       "        vertical-align: middle;\n",
       "    }\n",
       "\n",
       "    .dataframe tbody tr th {\n",
       "        vertical-align: top;\n",
       "    }\n",
       "\n",
       "    .dataframe thead th {\n",
       "        text-align: right;\n",
       "    }\n",
       "</style>\n",
       "<table border=\"1\" class=\"dataframe\">\n",
       "  <thead>\n",
       "    <tr style=\"text-align: right;\">\n",
       "      <th></th>\n",
       "      <th>path</th>\n",
       "      <th>wav2vec2</th>\n",
       "      <th>4gram</th>\n",
       "    </tr>\n",
       "  </thead>\n",
       "  <tbody>\n",
       "    <tr>\n",
       "      <th>0</th>\n",
       "      <td>/kaggle/input/dlsprint/train_files/common_voic...</td>\n",
       "      <td>দেওয়ান ফরিদ গায়জী বাংলাদেশ আওয়ামী লীগের উপদেষ্...</td>\n",
       "      <td>দেওয়ান ফরিদ গাজী বাংলাদেশ আওয়ামী লীগের উপদেষ্ট...</td>\n",
       "    </tr>\n",
       "    <tr>\n",
       "      <th>1</th>\n",
       "      <td>/kaggle/input/dlsprint/train_files/common_voic...</td>\n",
       "      <td>এর মাধ্যমে কারো গান গাওয়া দক্ষতাবা নিজস্ব ধর্ম...</td>\n",
       "      <td>এর মাধ্যমে কারও গান গাওয়া দক্ষতা বা নিজস্ব ধর্...</td>\n",
       "    </tr>\n",
       "    <tr>\n",
       "      <th>2</th>\n",
       "      <td>/kaggle/input/dlsprint/train_files/common_voic...</td>\n",
       "      <td>ডিজিটাল বিশ্বে তথ্য অন্য যে কোনো ডিজিটাল ফাইলে...</td>\n",
       "      <td>ডিজিটাল বিশ্বে তথ্য অন্য যে কোনো ডিজিটাল ফাইলে...</td>\n",
       "    </tr>\n",
       "    <tr>\n",
       "      <th>3</th>\n",
       "      <td>/kaggle/input/dlsprint/train_files/common_voic...</td>\n",
       "      <td>হিসাব পাওয়ার পর তিনি স্বল্প সময়ের মধ্যেই সম্পূ...</td>\n",
       "      <td>হিসাব পাওয়ার পর তিনি স্বল্প সময়ের মধ্যেই সম্পূ...</td>\n",
       "    </tr>\n",
       "    <tr>\n",
       "      <th>4</th>\n",
       "      <td>/kaggle/input/dlsprint/train_files/common_voic...</td>\n",
       "      <td>নদীর পানিতে বয়ে আসা পলি দলদেশে জমে মাঝে মধ্যে ...</td>\n",
       "      <td>নদীর পানিতে বয়ে আসা পলি তলদেশে জমে মাঝে মধ্যে ...</td>\n",
       "    </tr>\n",
       "    <tr>\n",
       "      <th>...</th>\n",
       "      <td>...</td>\n",
       "      <td>...</td>\n",
       "      <td>...</td>\n",
       "    </tr>\n",
       "    <tr>\n",
       "      <th>49995</th>\n",
       "      <td>/kaggle/input/dlsprint/train_files/common_voic...</td>\n",
       "      <td>যোগাযোগ উপন্যাসটি অক্সফোরট ঠাকুর অনুবাদের অংশ ...</td>\n",
       "      <td>যোগাযোগ উপন্যাসটি অক্সফোর্ড ঠাকুর অনুবাদের অংশ...</td>\n",
       "    </tr>\n",
       "    <tr>\n",
       "      <th>49996</th>\n",
       "      <td>/kaggle/input/dlsprint/train_files/common_voic...</td>\n",
       "      <td>এরপরে তিনি বোম্বে উচ্চ আদালতে শিল্প আদাল ও শ্র...</td>\n",
       "      <td>এর পরে তিনি বোম্বে উচ্চ আদালতে শিল্প আদাল ও শ্...</td>\n",
       "    </tr>\n",
       "    <tr>\n",
       "      <th>49997</th>\n",
       "      <td>/kaggle/input/dlsprint/train_files/common_voic...</td>\n",
       "      <td>শীৎকাল অপাক্রাকৃত শুষ্ক ও গ্রীষ্মকাল জঞ্জাস স্কুল</td>\n",
       "      <td>শীতকাল অপেক্ষাকৃত শুষ্ক ও গ্রীষ্মকাল জন্দা স্কুল</td>\n",
       "    </tr>\n",
       "    <tr>\n",
       "      <th>49998</th>\n",
       "      <td>/kaggle/input/dlsprint/train_files/common_voic...</td>\n",
       "      <td>হ্মের রুথ জান্তা সরকারও রাজনৈতিক ওঝুহাতে ভাষাট...</td>\n",
       "      <td>কমের রুথ জান্তা সরকার রাজনৈতিক অজুহাতে ভাষা থে...</td>\n",
       "    </tr>\n",
       "    <tr>\n",
       "      <th>49999</th>\n",
       "      <td>/kaggle/input/dlsprint/train_files/common_voic...</td>\n",
       "      <td>যা তিনি তরু নাইজেরিয়ান ও আফ্রিকানদের অনুপেরণা ...</td>\n",
       "      <td>যা তিনি তরুণ নাইজেরিয়ান ও আফ্রিকানদের অনুপেরণা...</td>\n",
       "    </tr>\n",
       "  </tbody>\n",
       "</table>\n",
       "<p>50000 rows × 3 columns</p>\n",
       "</div>"
      ],
      "text/plain": [
       "                                                    path  \\\n",
       "0      /kaggle/input/dlsprint/train_files/common_voic...   \n",
       "1      /kaggle/input/dlsprint/train_files/common_voic...   \n",
       "2      /kaggle/input/dlsprint/train_files/common_voic...   \n",
       "3      /kaggle/input/dlsprint/train_files/common_voic...   \n",
       "4      /kaggle/input/dlsprint/train_files/common_voic...   \n",
       "...                                                  ...   \n",
       "49995  /kaggle/input/dlsprint/train_files/common_voic...   \n",
       "49996  /kaggle/input/dlsprint/train_files/common_voic...   \n",
       "49997  /kaggle/input/dlsprint/train_files/common_voic...   \n",
       "49998  /kaggle/input/dlsprint/train_files/common_voic...   \n",
       "49999  /kaggle/input/dlsprint/train_files/common_voic...   \n",
       "\n",
       "                                                wav2vec2  \\\n",
       "0      দেওয়ান ফরিদ গায়জী বাংলাদেশ আওয়ামী লীগের উপদেষ্...   \n",
       "1      এর মাধ্যমে কারো গান গাওয়া দক্ষতাবা নিজস্ব ধর্ম...   \n",
       "2      ডিজিটাল বিশ্বে তথ্য অন্য যে কোনো ডিজিটাল ফাইলে...   \n",
       "3      হিসাব পাওয়ার পর তিনি স্বল্প সময়ের মধ্যেই সম্পূ...   \n",
       "4      নদীর পানিতে বয়ে আসা পলি দলদেশে জমে মাঝে মধ্যে ...   \n",
       "...                                                  ...   \n",
       "49995  যোগাযোগ উপন্যাসটি অক্সফোরট ঠাকুর অনুবাদের অংশ ...   \n",
       "49996  এরপরে তিনি বোম্বে উচ্চ আদালতে শিল্প আদাল ও শ্র...   \n",
       "49997  শীৎকাল অপাক্রাকৃত শুষ্ক ও গ্রীষ্মকাল জঞ্জাস স্কুল   \n",
       "49998  হ্মের রুথ জান্তা সরকারও রাজনৈতিক ওঝুহাতে ভাষাট...   \n",
       "49999  যা তিনি তরু নাইজেরিয়ান ও আফ্রিকানদের অনুপেরণা ...   \n",
       "\n",
       "                                                   4gram  \n",
       "0      দেওয়ান ফরিদ গাজী বাংলাদেশ আওয়ামী লীগের উপদেষ্ট...  \n",
       "1      এর মাধ্যমে কারও গান গাওয়া দক্ষতা বা নিজস্ব ধর্...  \n",
       "2      ডিজিটাল বিশ্বে তথ্য অন্য যে কোনো ডিজিটাল ফাইলে...  \n",
       "3      হিসাব পাওয়ার পর তিনি স্বল্প সময়ের মধ্যেই সম্পূ...  \n",
       "4      নদীর পানিতে বয়ে আসা পলি তলদেশে জমে মাঝে মধ্যে ...  \n",
       "...                                                  ...  \n",
       "49995  যোগাযোগ উপন্যাসটি অক্সফোর্ড ঠাকুর অনুবাদের অংশ...  \n",
       "49996  এর পরে তিনি বোম্বে উচ্চ আদালতে শিল্প আদাল ও শ্...  \n",
       "49997   শীতকাল অপেক্ষাকৃত শুষ্ক ও গ্রীষ্মকাল জন্দা স্কুল  \n",
       "49998  কমের রুথ জান্তা সরকার রাজনৈতিক অজুহাতে ভাষা থে...  \n",
       "49999  যা তিনি তরুণ নাইজেরিয়ান ও আফ্রিকানদের অনুপেরণা...  \n",
       "\n",
       "[50000 rows x 3 columns]"
      ]
     },
     "execution_count": 51,
     "metadata": {},
     "output_type": "execute_result"
    }
   ],
   "source": [
    "df_tmp"
   ]
  },
  {
   "cell_type": "code",
   "execution_count": 52,
   "id": "4772916c",
   "metadata": {
    "execution": {
     "iopub.execute_input": "2022-12-14T16:07:17.635739Z",
     "iopub.status.busy": "2022-12-14T16:07:17.635347Z",
     "iopub.status.idle": "2022-12-14T16:07:17.920352Z",
     "shell.execute_reply": "2022-12-14T16:07:17.919320Z"
    },
    "papermill": {
     "duration": 2.965444,
     "end_time": "2022-12-14T16:07:17.922863",
     "exception": false,
     "start_time": "2022-12-14T16:07:14.957419",
     "status": "completed"
    },
    "tags": []
   },
   "outputs": [],
   "source": [
    "df_tmp.to_csv('df_nov_wav2vec2_100k_p1.csv',index=False)"
   ]
  },
  {
   "cell_type": "code",
   "execution_count": null,
   "id": "069c804a",
   "metadata": {
    "papermill": {
     "duration": 2.800615,
     "end_time": "2022-12-14T16:07:23.389842",
     "exception": false,
     "start_time": "2022-12-14T16:07:20.589227",
     "status": "completed"
    },
    "tags": []
   },
   "outputs": [],
   "source": []
  }
 ],
 "metadata": {
  "kernelspec": {
   "display_name": "Python 3",
   "language": "python",
   "name": "python3"
  },
  "language_info": {
   "codemirror_mode": {
    "name": "ipython",
    "version": 3
   },
   "file_extension": ".py",
   "mimetype": "text/x-python",
   "name": "python",
   "nbconvert_exporter": "python",
   "pygments_lexer": "ipython3",
   "version": "3.7.12"
  },
  "papermill": {
   "default_parameters": {},
   "duration": 24684.253216,
   "end_time": "2022-12-14T16:07:29.329767",
   "environment_variables": {},
   "exception": null,
   "input_path": "__notebook__.ipynb",
   "output_path": "__notebook__.ipynb",
   "parameters": {},
   "start_time": "2022-12-14T09:16:05.076551",
   "version": "2.3.4"
  },
  "widgets": {
   "application/vnd.jupyter.widget-state+json": {
    "state": {
     "0048cd73971946ef8da09b0e97c9679a": {
      "model_module": "@jupyter-widgets/base",
      "model_module_version": "1.2.0",
      "model_name": "LayoutModel",
      "state": {
       "_model_module": "@jupyter-widgets/base",
       "_model_module_version": "1.2.0",
       "_model_name": "LayoutModel",
       "_view_count": null,
       "_view_module": "@jupyter-widgets/base",
       "_view_module_version": "1.2.0",
       "_view_name": "LayoutView",
       "align_content": null,
       "align_items": null,
       "align_self": null,
       "border": null,
       "bottom": null,
       "display": null,
       "flex": null,
       "flex_flow": null,
       "grid_area": null,
       "grid_auto_columns": null,
       "grid_auto_flow": null,
       "grid_auto_rows": null,
       "grid_column": null,
       "grid_gap": null,
       "grid_row": null,
       "grid_template_areas": null,
       "grid_template_columns": null,
       "grid_template_rows": null,
       "height": null,
       "justify_content": null,
       "justify_items": null,
       "left": null,
       "margin": null,
       "max_height": null,
       "max_width": null,
       "min_height": null,
       "min_width": null,
       "object_fit": null,
       "object_position": null,
       "order": null,
       "overflow": null,
       "overflow_x": null,
       "overflow_y": null,
       "padding": null,
       "right": null,
       "top": null,
       "visibility": null,
       "width": null
      }
     },
     "01c484c465c74accad14a3e6cc927a34": {
      "model_module": "@jupyter-widgets/controls",
      "model_module_version": "1.5.0",
      "model_name": "ProgressStyleModel",
      "state": {
       "_model_module": "@jupyter-widgets/controls",
       "_model_module_version": "1.5.0",
       "_model_name": "ProgressStyleModel",
       "_view_count": null,
       "_view_module": "@jupyter-widgets/base",
       "_view_module_version": "1.2.0",
       "_view_name": "StyleView",
       "bar_color": null,
       "description_width": ""
      }
     },
     "04cd53fc823a4ca8b543656eb60561be": {
      "model_module": "@jupyter-widgets/base",
      "model_module_version": "1.2.0",
      "model_name": "LayoutModel",
      "state": {
       "_model_module": "@jupyter-widgets/base",
       "_model_module_version": "1.2.0",
       "_model_name": "LayoutModel",
       "_view_count": null,
       "_view_module": "@jupyter-widgets/base",
       "_view_module_version": "1.2.0",
       "_view_name": "LayoutView",
       "align_content": null,
       "align_items": null,
       "align_self": null,
       "border": null,
       "bottom": null,
       "display": null,
       "flex": null,
       "flex_flow": null,
       "grid_area": null,
       "grid_auto_columns": null,
       "grid_auto_flow": null,
       "grid_auto_rows": null,
       "grid_column": null,
       "grid_gap": null,
       "grid_row": null,
       "grid_template_areas": null,
       "grid_template_columns": null,
       "grid_template_rows": null,
       "height": null,
       "justify_content": null,
       "justify_items": null,
       "left": null,
       "margin": null,
       "max_height": null,
       "max_width": null,
       "min_height": null,
       "min_width": null,
       "object_fit": null,
       "object_position": null,
       "order": null,
       "overflow": null,
       "overflow_x": null,
       "overflow_y": null,
       "padding": null,
       "right": null,
       "top": null,
       "visibility": null,
       "width": null
      }
     },
     "12df4534f558425bbc4a913f6678f17b": {
      "model_module": "@jupyter-widgets/controls",
      "model_module_version": "1.5.0",
      "model_name": "DescriptionStyleModel",
      "state": {
       "_model_module": "@jupyter-widgets/controls",
       "_model_module_version": "1.5.0",
       "_model_name": "DescriptionStyleModel",
       "_view_count": null,
       "_view_module": "@jupyter-widgets/base",
       "_view_module_version": "1.2.0",
       "_view_name": "StyleView",
       "description_width": ""
      }
     },
     "13968ba1027842309fda97d8da098db4": {
      "model_module": "@jupyter-widgets/controls",
      "model_module_version": "1.5.0",
      "model_name": "HBoxModel",
      "state": {
       "_dom_classes": [],
       "_model_module": "@jupyter-widgets/controls",
       "_model_module_version": "1.5.0",
       "_model_name": "HBoxModel",
       "_view_count": null,
       "_view_module": "@jupyter-widgets/controls",
       "_view_module_version": "1.5.0",
       "_view_name": "HBoxView",
       "box_style": "",
       "children": [
        "IPY_MODEL_6e857c9008d44d3ba6ff49730a939fae",
        "IPY_MODEL_819531075e944bc3b4410c970554367d",
        "IPY_MODEL_d85f3dc3b6454afe8a82a68be4df6fd9"
       ],
       "layout": "IPY_MODEL_de21ab62a64a4ab3bd90e96649dc0004"
      }
     },
     "14f0a30767944e47bfbf9aec56148fe9": {
      "model_module": "@jupyter-widgets/controls",
      "model_module_version": "1.5.0",
      "model_name": "FloatProgressModel",
      "state": {
       "_dom_classes": [],
       "_model_module": "@jupyter-widgets/controls",
       "_model_module_version": "1.5.0",
       "_model_name": "FloatProgressModel",
       "_view_count": null,
       "_view_module": "@jupyter-widgets/controls",
       "_view_module_version": "1.5.0",
       "_view_name": "ProgressView",
       "bar_style": "success",
       "description": "",
       "description_tooltip": null,
       "layout": "IPY_MODEL_1ce7615aef934a80a478659b61003263",
       "max": 696.0,
       "min": 0.0,
       "orientation": "horizontal",
       "style": "IPY_MODEL_af25ef2a3f8a4d10b267097297a2c399",
       "value": 696.0
      }
     },
     "19983e71c3f1412ca35d8d75b82f4be7": {
      "model_module": "@jupyter-widgets/controls",
      "model_module_version": "1.5.0",
      "model_name": "HBoxModel",
      "state": {
       "_dom_classes": [],
       "_model_module": "@jupyter-widgets/controls",
       "_model_module_version": "1.5.0",
       "_model_name": "HBoxModel",
       "_view_count": null,
       "_view_module": "@jupyter-widgets/controls",
       "_view_module_version": "1.5.0",
       "_view_name": "HBoxView",
       "box_style": "",
       "children": [
        "IPY_MODEL_507ccf70f3a6417eba6559de0a146ed8",
        "IPY_MODEL_75dea9e212244c9287121718a61de69c",
        "IPY_MODEL_837c60a3cd124a9ba1509d4e82f9181f"
       ],
       "layout": "IPY_MODEL_507ecbb474b748ca99953c479be889ab"
      }
     },
     "1b6e0699d3084265951634842cc24dcd": {
      "model_module": "@jupyter-widgets/base",
      "model_module_version": "1.2.0",
      "model_name": "LayoutModel",
      "state": {
       "_model_module": "@jupyter-widgets/base",
       "_model_module_version": "1.2.0",
       "_model_name": "LayoutModel",
       "_view_count": null,
       "_view_module": "@jupyter-widgets/base",
       "_view_module_version": "1.2.0",
       "_view_name": "LayoutView",
       "align_content": null,
       "align_items": null,
       "align_self": null,
       "border": null,
       "bottom": null,
       "display": null,
       "flex": null,
       "flex_flow": null,
       "grid_area": null,
       "grid_auto_columns": null,
       "grid_auto_flow": null,
       "grid_auto_rows": null,
       "grid_column": null,
       "grid_gap": null,
       "grid_row": null,
       "grid_template_areas": null,
       "grid_template_columns": null,
       "grid_template_rows": null,
       "height": null,
       "justify_content": null,
       "justify_items": null,
       "left": null,
       "margin": null,
       "max_height": null,
       "max_width": null,
       "min_height": null,
       "min_width": null,
       "object_fit": null,
       "object_position": null,
       "order": null,
       "overflow": null,
       "overflow_x": null,
       "overflow_y": null,
       "padding": null,
       "right": null,
       "top": null,
       "visibility": null,
       "width": null
      }
     },
     "1ce7615aef934a80a478659b61003263": {
      "model_module": "@jupyter-widgets/base",
      "model_module_version": "1.2.0",
      "model_name": "LayoutModel",
      "state": {
       "_model_module": "@jupyter-widgets/base",
       "_model_module_version": "1.2.0",
       "_model_name": "LayoutModel",
       "_view_count": null,
       "_view_module": "@jupyter-widgets/base",
       "_view_module_version": "1.2.0",
       "_view_name": "LayoutView",
       "align_content": null,
       "align_items": null,
       "align_self": null,
       "border": null,
       "bottom": null,
       "display": null,
       "flex": null,
       "flex_flow": null,
       "grid_area": null,
       "grid_auto_columns": null,
       "grid_auto_flow": null,
       "grid_auto_rows": null,
       "grid_column": null,
       "grid_gap": null,
       "grid_row": null,
       "grid_template_areas": null,
       "grid_template_columns": null,
       "grid_template_rows": null,
       "height": null,
       "justify_content": null,
       "justify_items": null,
       "left": null,
       "margin": null,
       "max_height": null,
       "max_width": null,
       "min_height": null,
       "min_width": null,
       "object_fit": null,
       "object_position": null,
       "order": null,
       "overflow": null,
       "overflow_x": null,
       "overflow_y": null,
       "padding": null,
       "right": null,
       "top": null,
       "visibility": null,
       "width": null
      }
     },
     "1eddb51271f04538a3da321a2af6e08a": {
      "model_module": "@jupyter-widgets/controls",
      "model_module_version": "1.5.0",
      "model_name": "DescriptionStyleModel",
      "state": {
       "_model_module": "@jupyter-widgets/controls",
       "_model_module_version": "1.5.0",
       "_model_name": "DescriptionStyleModel",
       "_view_count": null,
       "_view_module": "@jupyter-widgets/base",
       "_view_module_version": "1.2.0",
       "_view_name": "StyleView",
       "description_width": ""
      }
     },
     "2009cdb8a655493ab35c1f6dad1737bb": {
      "model_module": "@jupyter-widgets/controls",
      "model_module_version": "1.5.0",
      "model_name": "DescriptionStyleModel",
      "state": {
       "_model_module": "@jupyter-widgets/controls",
       "_model_module_version": "1.5.0",
       "_model_name": "DescriptionStyleModel",
       "_view_count": null,
       "_view_module": "@jupyter-widgets/base",
       "_view_module_version": "1.2.0",
       "_view_name": "StyleView",
       "description_width": ""
      }
     },
     "236b3bf0327b4645b6be0f91ddc704ff": {
      "model_module": "@jupyter-widgets/base",
      "model_module_version": "1.2.0",
      "model_name": "LayoutModel",
      "state": {
       "_model_module": "@jupyter-widgets/base",
       "_model_module_version": "1.2.0",
       "_model_name": "LayoutModel",
       "_view_count": null,
       "_view_module": "@jupyter-widgets/base",
       "_view_module_version": "1.2.0",
       "_view_name": "LayoutView",
       "align_content": null,
       "align_items": null,
       "align_self": null,
       "border": null,
       "bottom": null,
       "display": null,
       "flex": null,
       "flex_flow": null,
       "grid_area": null,
       "grid_auto_columns": null,
       "grid_auto_flow": null,
       "grid_auto_rows": null,
       "grid_column": null,
       "grid_gap": null,
       "grid_row": null,
       "grid_template_areas": null,
       "grid_template_columns": null,
       "grid_template_rows": null,
       "height": null,
       "justify_content": null,
       "justify_items": null,
       "left": null,
       "margin": null,
       "max_height": null,
       "max_width": null,
       "min_height": null,
       "min_width": null,
       "object_fit": null,
       "object_position": null,
       "order": null,
       "overflow": null,
       "overflow_x": null,
       "overflow_y": null,
       "padding": null,
       "right": null,
       "top": null,
       "visibility": null,
       "width": null
      }
     },
     "2a24bc3a47cd49548a5dadbe0489d2f4": {
      "model_module": "@jupyter-widgets/controls",
      "model_module_version": "1.5.0",
      "model_name": "HBoxModel",
      "state": {
       "_dom_classes": [],
       "_model_module": "@jupyter-widgets/controls",
       "_model_module_version": "1.5.0",
       "_model_name": "HBoxModel",
       "_view_count": null,
       "_view_module": "@jupyter-widgets/controls",
       "_view_module_version": "1.5.0",
       "_view_name": "HBoxView",
       "box_style": "",
       "children": [
        "IPY_MODEL_d390f99876824024a9bd0486e346fc82",
        "IPY_MODEL_de8728e18121424fa4bb2424676c25e8",
        "IPY_MODEL_69c654d3120b4aeab00074de6b59515a"
       ],
       "layout": "IPY_MODEL_ff672e8f85dc4c9c829ec353eda4fafa"
      }
     },
     "2b4ba685ffb643acbc4c18634be89b5d": {
      "model_module": "@jupyter-widgets/controls",
      "model_module_version": "1.5.0",
      "model_name": "DescriptionStyleModel",
      "state": {
       "_model_module": "@jupyter-widgets/controls",
       "_model_module_version": "1.5.0",
       "_model_name": "DescriptionStyleModel",
       "_view_count": null,
       "_view_module": "@jupyter-widgets/base",
       "_view_module_version": "1.2.0",
       "_view_name": "StyleView",
       "description_width": ""
      }
     },
     "2cedb8feaf1b4535a6902241c069f18b": {
      "model_module": "@jupyter-widgets/controls",
      "model_module_version": "1.5.0",
      "model_name": "DescriptionStyleModel",
      "state": {
       "_model_module": "@jupyter-widgets/controls",
       "_model_module_version": "1.5.0",
       "_model_name": "DescriptionStyleModel",
       "_view_count": null,
       "_view_module": "@jupyter-widgets/base",
       "_view_module_version": "1.2.0",
       "_view_name": "StyleView",
       "description_width": ""
      }
     },
     "2ef7a553ebc741fd8254172af5497035": {
      "model_module": "@jupyter-widgets/base",
      "model_module_version": "1.2.0",
      "model_name": "LayoutModel",
      "state": {
       "_model_module": "@jupyter-widgets/base",
       "_model_module_version": "1.2.0",
       "_model_name": "LayoutModel",
       "_view_count": null,
       "_view_module": "@jupyter-widgets/base",
       "_view_module_version": "1.2.0",
       "_view_name": "LayoutView",
       "align_content": null,
       "align_items": null,
       "align_self": null,
       "border": null,
       "bottom": null,
       "display": null,
       "flex": null,
       "flex_flow": null,
       "grid_area": null,
       "grid_auto_columns": null,
       "grid_auto_flow": null,
       "grid_auto_rows": null,
       "grid_column": null,
       "grid_gap": null,
       "grid_row": null,
       "grid_template_areas": null,
       "grid_template_columns": null,
       "grid_template_rows": null,
       "height": null,
       "justify_content": null,
       "justify_items": null,
       "left": null,
       "margin": null,
       "max_height": null,
       "max_width": null,
       "min_height": null,
       "min_width": null,
       "object_fit": null,
       "object_position": null,
       "order": null,
       "overflow": null,
       "overflow_x": null,
       "overflow_y": null,
       "padding": null,
       "right": null,
       "top": null,
       "visibility": null,
       "width": null
      }
     },
     "3bd5a6078d074b37b1e5ab8347865bb2": {
      "model_module": "@jupyter-widgets/controls",
      "model_module_version": "1.5.0",
      "model_name": "ProgressStyleModel",
      "state": {
       "_model_module": "@jupyter-widgets/controls",
       "_model_module_version": "1.5.0",
       "_model_name": "ProgressStyleModel",
       "_view_count": null,
       "_view_module": "@jupyter-widgets/base",
       "_view_module_version": "1.2.0",
       "_view_name": "StyleView",
       "bar_color": null,
       "description_width": ""
      }
     },
     "3c3d96dabf7240f482342cfa49731e29": {
      "model_module": "@jupyter-widgets/controls",
      "model_module_version": "1.5.0",
      "model_name": "DescriptionStyleModel",
      "state": {
       "_model_module": "@jupyter-widgets/controls",
       "_model_module_version": "1.5.0",
       "_model_name": "DescriptionStyleModel",
       "_view_count": null,
       "_view_module": "@jupyter-widgets/base",
       "_view_module_version": "1.2.0",
       "_view_name": "StyleView",
       "description_width": ""
      }
     },
     "3d94db5c57dc41f2844330fb1d84ae9e": {
      "model_module": "@jupyter-widgets/controls",
      "model_module_version": "1.5.0",
      "model_name": "FloatProgressModel",
      "state": {
       "_dom_classes": [],
       "_model_module": "@jupyter-widgets/controls",
       "_model_module_version": "1.5.0",
       "_model_name": "FloatProgressModel",
       "_view_count": null,
       "_view_module": "@jupyter-widgets/controls",
       "_view_module_version": "1.5.0",
       "_view_name": "ProgressView",
       "bar_style": "success",
       "description": "",
       "description_tooltip": null,
       "layout": "IPY_MODEL_1b6e0699d3084265951634842cc24dcd",
       "max": 1262161137.0,
       "min": 0.0,
       "orientation": "horizontal",
       "style": "IPY_MODEL_72f6897e52c54a2094c0a973630a04ec",
       "value": 1262161137.0
      }
     },
     "46639c996119412d86580b891488f5ca": {
      "model_module": "@jupyter-widgets/controls",
      "model_module_version": "1.5.0",
      "model_name": "ProgressStyleModel",
      "state": {
       "_model_module": "@jupyter-widgets/controls",
       "_model_module_version": "1.5.0",
       "_model_name": "ProgressStyleModel",
       "_view_count": null,
       "_view_module": "@jupyter-widgets/base",
       "_view_module_version": "1.2.0",
       "_view_name": "StyleView",
       "bar_color": null,
       "description_width": ""
      }
     },
     "507ccf70f3a6417eba6559de0a146ed8": {
      "model_module": "@jupyter-widgets/controls",
      "model_module_version": "1.5.0",
      "model_name": "HTMLModel",
      "state": {
       "_dom_classes": [],
       "_model_module": "@jupyter-widgets/controls",
       "_model_module_version": "1.5.0",
       "_model_name": "HTMLModel",
       "_view_count": null,
       "_view_module": "@jupyter-widgets/controls",
       "_view_module_version": "1.5.0",
       "_view_name": "HTMLView",
       "description": "",
       "description_tooltip": null,
       "layout": "IPY_MODEL_0048cd73971946ef8da09b0e97c9679a",
       "placeholder": "​",
       "style": "IPY_MODEL_8027414488614868bfabeadcb85967be",
       "value": "Downloading: 100%"
      }
     },
     "507ecbb474b748ca99953c479be889ab": {
      "model_module": "@jupyter-widgets/base",
      "model_module_version": "1.2.0",
      "model_name": "LayoutModel",
      "state": {
       "_model_module": "@jupyter-widgets/base",
       "_model_module_version": "1.2.0",
       "_model_name": "LayoutModel",
       "_view_count": null,
       "_view_module": "@jupyter-widgets/base",
       "_view_module_version": "1.2.0",
       "_view_name": "LayoutView",
       "align_content": null,
       "align_items": null,
       "align_self": null,
       "border": null,
       "bottom": null,
       "display": null,
       "flex": null,
       "flex_flow": null,
       "grid_area": null,
       "grid_auto_columns": null,
       "grid_auto_flow": null,
       "grid_auto_rows": null,
       "grid_column": null,
       "grid_gap": null,
       "grid_row": null,
       "grid_template_areas": null,
       "grid_template_columns": null,
       "grid_template_rows": null,
       "height": null,
       "justify_content": null,
       "justify_items": null,
       "left": null,
       "margin": null,
       "max_height": null,
       "max_width": null,
       "min_height": null,
       "min_width": null,
       "object_fit": null,
       "object_position": null,
       "order": null,
       "overflow": null,
       "overflow_x": null,
       "overflow_y": null,
       "padding": null,
       "right": null,
       "top": null,
       "visibility": null,
       "width": null
      }
     },
     "54f11a305c1845da8db90e05f1f3766d": {
      "model_module": "@jupyter-widgets/base",
      "model_module_version": "1.2.0",
      "model_name": "LayoutModel",
      "state": {
       "_model_module": "@jupyter-widgets/base",
       "_model_module_version": "1.2.0",
       "_model_name": "LayoutModel",
       "_view_count": null,
       "_view_module": "@jupyter-widgets/base",
       "_view_module_version": "1.2.0",
       "_view_name": "LayoutView",
       "align_content": null,
       "align_items": null,
       "align_self": null,
       "border": null,
       "bottom": null,
       "display": null,
       "flex": null,
       "flex_flow": null,
       "grid_area": null,
       "grid_auto_columns": null,
       "grid_auto_flow": null,
       "grid_auto_rows": null,
       "grid_column": null,
       "grid_gap": null,
       "grid_row": null,
       "grid_template_areas": null,
       "grid_template_columns": null,
       "grid_template_rows": null,
       "height": null,
       "justify_content": null,
       "justify_items": null,
       "left": null,
       "margin": null,
       "max_height": null,
       "max_width": null,
       "min_height": null,
       "min_width": null,
       "object_fit": null,
       "object_position": null,
       "order": null,
       "overflow": null,
       "overflow_x": null,
       "overflow_y": null,
       "padding": null,
       "right": null,
       "top": null,
       "visibility": null,
       "width": null
      }
     },
     "5b018f5c07e14aaea9bad557e2796fe7": {
      "model_module": "@jupyter-widgets/base",
      "model_module_version": "1.2.0",
      "model_name": "LayoutModel",
      "state": {
       "_model_module": "@jupyter-widgets/base",
       "_model_module_version": "1.2.0",
       "_model_name": "LayoutModel",
       "_view_count": null,
       "_view_module": "@jupyter-widgets/base",
       "_view_module_version": "1.2.0",
       "_view_name": "LayoutView",
       "align_content": null,
       "align_items": null,
       "align_self": null,
       "border": null,
       "bottom": null,
       "display": null,
       "flex": null,
       "flex_flow": null,
       "grid_area": null,
       "grid_auto_columns": null,
       "grid_auto_flow": null,
       "grid_auto_rows": null,
       "grid_column": null,
       "grid_gap": null,
       "grid_row": null,
       "grid_template_areas": null,
       "grid_template_columns": null,
       "grid_template_rows": null,
       "height": null,
       "justify_content": null,
       "justify_items": null,
       "left": null,
       "margin": null,
       "max_height": null,
       "max_width": null,
       "min_height": null,
       "min_width": null,
       "object_fit": null,
       "object_position": null,
       "order": null,
       "overflow": null,
       "overflow_x": null,
       "overflow_y": null,
       "padding": null,
       "right": null,
       "top": null,
       "visibility": null,
       "width": null
      }
     },
     "5b76a59c45124d1a8cfe32c7fa63beba": {
      "model_module": "@jupyter-widgets/controls",
      "model_module_version": "1.5.0",
      "model_name": "HTMLModel",
      "state": {
       "_dom_classes": [],
       "_model_module": "@jupyter-widgets/controls",
       "_model_module_version": "1.5.0",
       "_model_name": "HTMLModel",
       "_view_count": null,
       "_view_module": "@jupyter-widgets/controls",
       "_view_module_version": "1.5.0",
       "_view_name": "HTMLView",
       "description": "",
       "description_tooltip": null,
       "layout": "IPY_MODEL_835529e3cdcb41c0bab467c0bc1f50d9",
       "placeholder": "​",
       "style": "IPY_MODEL_12df4534f558425bbc4a913f6678f17b",
       "value": "Downloading: 100%"
      }
     },
     "5c9123bc16754c7db4c00a0bc4898604": {
      "model_module": "@jupyter-widgets/controls",
      "model_module_version": "1.5.0",
      "model_name": "HTMLModel",
      "state": {
       "_dom_classes": [],
       "_model_module": "@jupyter-widgets/controls",
       "_model_module_version": "1.5.0",
       "_model_name": "HTMLModel",
       "_view_count": null,
       "_view_module": "@jupyter-widgets/controls",
       "_view_module_version": "1.5.0",
       "_view_name": "HTMLView",
       "description": "",
       "description_tooltip": null,
       "layout": "IPY_MODEL_5b018f5c07e14aaea9bad557e2796fe7",
       "placeholder": "​",
       "style": "IPY_MODEL_2009cdb8a655493ab35c1f6dad1737bb",
       "value": "Downloading: 100%"
      }
     },
     "5e737435b51e439d94bf169b18c42dba": {
      "model_module": "@jupyter-widgets/controls",
      "model_module_version": "1.5.0",
      "model_name": "DescriptionStyleModel",
      "state": {
       "_model_module": "@jupyter-widgets/controls",
       "_model_module_version": "1.5.0",
       "_model_name": "DescriptionStyleModel",
       "_view_count": null,
       "_view_module": "@jupyter-widgets/base",
       "_view_module_version": "1.2.0",
       "_view_name": "StyleView",
       "description_width": ""
      }
     },
     "60b2261aeda948579bba46827a29e7a1": {
      "model_module": "@jupyter-widgets/controls",
      "model_module_version": "1.5.0",
      "model_name": "DescriptionStyleModel",
      "state": {
       "_model_module": "@jupyter-widgets/controls",
       "_model_module_version": "1.5.0",
       "_model_name": "DescriptionStyleModel",
       "_view_count": null,
       "_view_module": "@jupyter-widgets/base",
       "_view_module_version": "1.2.0",
       "_view_name": "StyleView",
       "description_width": ""
      }
     },
     "61bae42017e0493fa5eb2e43fe85abf7": {
      "model_module": "@jupyter-widgets/controls",
      "model_module_version": "1.5.0",
      "model_name": "HTMLModel",
      "state": {
       "_dom_classes": [],
       "_model_module": "@jupyter-widgets/controls",
       "_model_module_version": "1.5.0",
       "_model_name": "HTMLModel",
       "_view_count": null,
       "_view_module": "@jupyter-widgets/controls",
       "_view_module_version": "1.5.0",
       "_view_name": "HTMLView",
       "description": "",
       "description_tooltip": null,
       "layout": "IPY_MODEL_e5d3e08282eb419fa7fd9ccba9dcb81c",
       "placeholder": "​",
       "style": "IPY_MODEL_d6906ec097f7480fa0be0da3a6e44238",
       "value": " 2.01k/2.01k [00:00&lt;00:00, 72.9kB/s]"
      }
     },
     "6254b40f281b4eacba3b2384af77de3c": {
      "model_module": "@jupyter-widgets/controls",
      "model_module_version": "1.5.0",
      "model_name": "DescriptionStyleModel",
      "state": {
       "_model_module": "@jupyter-widgets/controls",
       "_model_module_version": "1.5.0",
       "_model_name": "DescriptionStyleModel",
       "_view_count": null,
       "_view_module": "@jupyter-widgets/base",
       "_view_module_version": "1.2.0",
       "_view_name": "StyleView",
       "description_width": ""
      }
     },
     "65f06a7e0eed483f98e08dc9dd55e1dd": {
      "model_module": "@jupyter-widgets/controls",
      "model_module_version": "1.5.0",
      "model_name": "HTMLModel",
      "state": {
       "_dom_classes": [],
       "_model_module": "@jupyter-widgets/controls",
       "_model_module_version": "1.5.0",
       "_model_name": "HTMLModel",
       "_view_count": null,
       "_view_module": "@jupyter-widgets/controls",
       "_view_module_version": "1.5.0",
       "_view_name": "HTMLView",
       "description": "",
       "description_tooltip": null,
       "layout": "IPY_MODEL_6a820f042f09495fb2d9133e4c15c9f0",
       "placeholder": "​",
       "style": "IPY_MODEL_6254b40f281b4eacba3b2384af77de3c",
       "value": "Downloading: 100%"
      }
     },
     "69c654d3120b4aeab00074de6b59515a": {
      "model_module": "@jupyter-widgets/controls",
      "model_module_version": "1.5.0",
      "model_name": "HTMLModel",
      "state": {
       "_dom_classes": [],
       "_model_module": "@jupyter-widgets/controls",
       "_model_module_version": "1.5.0",
       "_model_name": "HTMLModel",
       "_view_count": null,
       "_view_module": "@jupyter-widgets/controls",
       "_view_module_version": "1.5.0",
       "_view_name": "HTMLView",
       "description": "",
       "description_tooltip": null,
       "layout": "IPY_MODEL_d58883e1ff23421ab4e31e1bbf531c3f",
       "placeholder": "​",
       "style": "IPY_MODEL_5e737435b51e439d94bf169b18c42dba",
       "value": " 262/262 [00:00&lt;00:00, 9.60kB/s]"
      }
     },
     "6a820f042f09495fb2d9133e4c15c9f0": {
      "model_module": "@jupyter-widgets/base",
      "model_module_version": "1.2.0",
      "model_name": "LayoutModel",
      "state": {
       "_model_module": "@jupyter-widgets/base",
       "_model_module_version": "1.2.0",
       "_model_name": "LayoutModel",
       "_view_count": null,
       "_view_module": "@jupyter-widgets/base",
       "_view_module_version": "1.2.0",
       "_view_name": "LayoutView",
       "align_content": null,
       "align_items": null,
       "align_self": null,
       "border": null,
       "bottom": null,
       "display": null,
       "flex": null,
       "flex_flow": null,
       "grid_area": null,
       "grid_auto_columns": null,
       "grid_auto_flow": null,
       "grid_auto_rows": null,
       "grid_column": null,
       "grid_gap": null,
       "grid_row": null,
       "grid_template_areas": null,
       "grid_template_columns": null,
       "grid_template_rows": null,
       "height": null,
       "justify_content": null,
       "justify_items": null,
       "left": null,
       "margin": null,
       "max_height": null,
       "max_width": null,
       "min_height": null,
       "min_width": null,
       "object_fit": null,
       "object_position": null,
       "order": null,
       "overflow": null,
       "overflow_x": null,
       "overflow_y": null,
       "padding": null,
       "right": null,
       "top": null,
       "visibility": null,
       "width": null
      }
     },
     "6e857c9008d44d3ba6ff49730a939fae": {
      "model_module": "@jupyter-widgets/controls",
      "model_module_version": "1.5.0",
      "model_name": "HTMLModel",
      "state": {
       "_dom_classes": [],
       "_model_module": "@jupyter-widgets/controls",
       "_model_module_version": "1.5.0",
       "_model_name": "HTMLModel",
       "_view_count": null,
       "_view_module": "@jupyter-widgets/controls",
       "_view_module_version": "1.5.0",
       "_view_name": "HTMLView",
       "description": "",
       "description_tooltip": null,
       "layout": "IPY_MODEL_87753e5f20624832b4dfda25f00f10b9",
       "placeholder": "​",
       "style": "IPY_MODEL_3c3d96dabf7240f482342cfa49731e29",
       "value": "Downloading: 100%"
      }
     },
     "72f6897e52c54a2094c0a973630a04ec": {
      "model_module": "@jupyter-widgets/controls",
      "model_module_version": "1.5.0",
      "model_name": "ProgressStyleModel",
      "state": {
       "_model_module": "@jupyter-widgets/controls",
       "_model_module_version": "1.5.0",
       "_model_name": "ProgressStyleModel",
       "_view_count": null,
       "_view_module": "@jupyter-widgets/base",
       "_view_module_version": "1.2.0",
       "_view_name": "StyleView",
       "bar_color": null,
       "description_width": ""
      }
     },
     "7464eb5e55ad4ffa9eeac932ed745a08": {
      "model_module": "@jupyter-widgets/base",
      "model_module_version": "1.2.0",
      "model_name": "LayoutModel",
      "state": {
       "_model_module": "@jupyter-widgets/base",
       "_model_module_version": "1.2.0",
       "_model_name": "LayoutModel",
       "_view_count": null,
       "_view_module": "@jupyter-widgets/base",
       "_view_module_version": "1.2.0",
       "_view_name": "LayoutView",
       "align_content": null,
       "align_items": null,
       "align_self": null,
       "border": null,
       "bottom": null,
       "display": null,
       "flex": null,
       "flex_flow": null,
       "grid_area": null,
       "grid_auto_columns": null,
       "grid_auto_flow": null,
       "grid_auto_rows": null,
       "grid_column": null,
       "grid_gap": null,
       "grid_row": null,
       "grid_template_areas": null,
       "grid_template_columns": null,
       "grid_template_rows": null,
       "height": null,
       "justify_content": null,
       "justify_items": null,
       "left": null,
       "margin": null,
       "max_height": null,
       "max_width": null,
       "min_height": null,
       "min_width": null,
       "object_fit": null,
       "object_position": null,
       "order": null,
       "overflow": null,
       "overflow_x": null,
       "overflow_y": null,
       "padding": null,
       "right": null,
       "top": null,
       "visibility": null,
       "width": null
      }
     },
     "75dea9e212244c9287121718a61de69c": {
      "model_module": "@jupyter-widgets/controls",
      "model_module_version": "1.5.0",
      "model_name": "FloatProgressModel",
      "state": {
       "_dom_classes": [],
       "_model_module": "@jupyter-widgets/controls",
       "_model_module_version": "1.5.0",
       "_model_name": "FloatProgressModel",
       "_view_count": null,
       "_view_module": "@jupyter-widgets/controls",
       "_view_module_version": "1.5.0",
       "_view_name": "ProgressView",
       "bar_style": "success",
       "description": "",
       "description_tooltip": null,
       "layout": "IPY_MODEL_7464eb5e55ad4ffa9eeac932ed745a08",
       "max": 3.0,
       "min": 0.0,
       "orientation": "horizontal",
       "style": "IPY_MODEL_46639c996119412d86580b891488f5ca",
       "value": 3.0
      }
     },
     "76751e5e971447ecbb72deb831d1c228": {
      "model_module": "@jupyter-widgets/controls",
      "model_module_version": "1.5.0",
      "model_name": "FloatProgressModel",
      "state": {
       "_dom_classes": [],
       "_model_module": "@jupyter-widgets/controls",
       "_model_module_version": "1.5.0",
       "_model_name": "FloatProgressModel",
       "_view_count": null,
       "_view_module": "@jupyter-widgets/controls",
       "_view_module_version": "1.5.0",
       "_view_name": "ProgressView",
       "bar_style": "success",
       "description": "",
       "description_tooltip": null,
       "layout": "IPY_MODEL_af2c48c565af478f9cdad073b04d647f",
       "max": 84.0,
       "min": 0.0,
       "orientation": "horizontal",
       "style": "IPY_MODEL_87f8cc8f4c7f4e6485cb10ac951c0a4a",
       "value": 84.0
      }
     },
     "7c98d5a815874c59b081053b86bc5682": {
      "model_module": "@jupyter-widgets/base",
      "model_module_version": "1.2.0",
      "model_name": "LayoutModel",
      "state": {
       "_model_module": "@jupyter-widgets/base",
       "_model_module_version": "1.2.0",
       "_model_name": "LayoutModel",
       "_view_count": null,
       "_view_module": "@jupyter-widgets/base",
       "_view_module_version": "1.2.0",
       "_view_name": "LayoutView",
       "align_content": null,
       "align_items": null,
       "align_self": null,
       "border": null,
       "bottom": null,
       "display": null,
       "flex": null,
       "flex_flow": null,
       "grid_area": null,
       "grid_auto_columns": null,
       "grid_auto_flow": null,
       "grid_auto_rows": null,
       "grid_column": null,
       "grid_gap": null,
       "grid_row": null,
       "grid_template_areas": null,
       "grid_template_columns": null,
       "grid_template_rows": null,
       "height": null,
       "justify_content": null,
       "justify_items": null,
       "left": null,
       "margin": null,
       "max_height": null,
       "max_width": null,
       "min_height": null,
       "min_width": null,
       "object_fit": null,
       "object_position": null,
       "order": null,
       "overflow": null,
       "overflow_x": null,
       "overflow_y": null,
       "padding": null,
       "right": null,
       "top": null,
       "visibility": null,
       "width": null
      }
     },
     "8027414488614868bfabeadcb85967be": {
      "model_module": "@jupyter-widgets/controls",
      "model_module_version": "1.5.0",
      "model_name": "DescriptionStyleModel",
      "state": {
       "_model_module": "@jupyter-widgets/controls",
       "_model_module_version": "1.5.0",
       "_model_name": "DescriptionStyleModel",
       "_view_count": null,
       "_view_module": "@jupyter-widgets/base",
       "_view_module_version": "1.2.0",
       "_view_name": "StyleView",
       "description_width": ""
      }
     },
     "811e3b79da3e4d51bcb024939ccb36d7": {
      "model_module": "@jupyter-widgets/controls",
      "model_module_version": "1.5.0",
      "model_name": "HBoxModel",
      "state": {
       "_dom_classes": [],
       "_model_module": "@jupyter-widgets/controls",
       "_model_module_version": "1.5.0",
       "_model_name": "HBoxModel",
       "_view_count": null,
       "_view_module": "@jupyter-widgets/controls",
       "_view_module_version": "1.5.0",
       "_view_name": "HBoxView",
       "box_style": "",
       "children": [
        "IPY_MODEL_5b76a59c45124d1a8cfe32c7fa63beba",
        "IPY_MODEL_76751e5e971447ecbb72deb831d1c228",
        "IPY_MODEL_8c831b6d12944ca1bc3ed6999d6b96dd"
       ],
       "layout": "IPY_MODEL_ab3bae3542114a5bad13d0d5998c6280"
      }
     },
     "819531075e944bc3b4410c970554367d": {
      "model_module": "@jupyter-widgets/controls",
      "model_module_version": "1.5.0",
      "model_name": "FloatProgressModel",
      "state": {
       "_dom_classes": [],
       "_model_module": "@jupyter-widgets/controls",
       "_model_module_version": "1.5.0",
       "_model_name": "FloatProgressModel",
       "_view_count": null,
       "_view_module": "@jupyter-widgets/controls",
       "_view_module_version": "1.5.0",
       "_view_name": "ProgressView",
       "bar_style": "success",
       "description": "",
       "description_tooltip": null,
       "layout": "IPY_MODEL_d7454633ddc241c6a2b95ccef2559dee",
       "max": 404.0,
       "min": 0.0,
       "orientation": "horizontal",
       "style": "IPY_MODEL_3bd5a6078d074b37b1e5ab8347865bb2",
       "value": 404.0
      }
     },
     "835529e3cdcb41c0bab467c0bc1f50d9": {
      "model_module": "@jupyter-widgets/base",
      "model_module_version": "1.2.0",
      "model_name": "LayoutModel",
      "state": {
       "_model_module": "@jupyter-widgets/base",
       "_model_module_version": "1.2.0",
       "_model_name": "LayoutModel",
       "_view_count": null,
       "_view_module": "@jupyter-widgets/base",
       "_view_module_version": "1.2.0",
       "_view_name": "LayoutView",
       "align_content": null,
       "align_items": null,
       "align_self": null,
       "border": null,
       "bottom": null,
       "display": null,
       "flex": null,
       "flex_flow": null,
       "grid_area": null,
       "grid_auto_columns": null,
       "grid_auto_flow": null,
       "grid_auto_rows": null,
       "grid_column": null,
       "grid_gap": null,
       "grid_row": null,
       "grid_template_areas": null,
       "grid_template_columns": null,
       "grid_template_rows": null,
       "height": null,
       "justify_content": null,
       "justify_items": null,
       "left": null,
       "margin": null,
       "max_height": null,
       "max_width": null,
       "min_height": null,
       "min_width": null,
       "object_fit": null,
       "object_position": null,
       "order": null,
       "overflow": null,
       "overflow_x": null,
       "overflow_y": null,
       "padding": null,
       "right": null,
       "top": null,
       "visibility": null,
       "width": null
      }
     },
     "837c60a3cd124a9ba1509d4e82f9181f": {
      "model_module": "@jupyter-widgets/controls",
      "model_module_version": "1.5.0",
      "model_name": "HTMLModel",
      "state": {
       "_dom_classes": [],
       "_model_module": "@jupyter-widgets/controls",
       "_model_module_version": "1.5.0",
       "_model_name": "HTMLModel",
       "_view_count": null,
       "_view_module": "@jupyter-widgets/controls",
       "_view_module_version": "1.5.0",
       "_view_name": "HTMLView",
       "description": "",
       "description_tooltip": null,
       "layout": "IPY_MODEL_2ef7a553ebc741fd8254172af5497035",
       "placeholder": "​",
       "style": "IPY_MODEL_60b2261aeda948579bba46827a29e7a1",
       "value": " 3.00/3.00 [00:00&lt;00:00, 107B/s]"
      }
     },
     "87753e5f20624832b4dfda25f00f10b9": {
      "model_module": "@jupyter-widgets/base",
      "model_module_version": "1.2.0",
      "model_name": "LayoutModel",
      "state": {
       "_model_module": "@jupyter-widgets/base",
       "_model_module_version": "1.2.0",
       "_model_name": "LayoutModel",
       "_view_count": null,
       "_view_module": "@jupyter-widgets/base",
       "_view_module_version": "1.2.0",
       "_view_name": "LayoutView",
       "align_content": null,
       "align_items": null,
       "align_self": null,
       "border": null,
       "bottom": null,
       "display": null,
       "flex": null,
       "flex_flow": null,
       "grid_area": null,
       "grid_auto_columns": null,
       "grid_auto_flow": null,
       "grid_auto_rows": null,
       "grid_column": null,
       "grid_gap": null,
       "grid_row": null,
       "grid_template_areas": null,
       "grid_template_columns": null,
       "grid_template_rows": null,
       "height": null,
       "justify_content": null,
       "justify_items": null,
       "left": null,
       "margin": null,
       "max_height": null,
       "max_width": null,
       "min_height": null,
       "min_width": null,
       "object_fit": null,
       "object_position": null,
       "order": null,
       "overflow": null,
       "overflow_x": null,
       "overflow_y": null,
       "padding": null,
       "right": null,
       "top": null,
       "visibility": null,
       "width": null
      }
     },
     "87f8cc8f4c7f4e6485cb10ac951c0a4a": {
      "model_module": "@jupyter-widgets/controls",
      "model_module_version": "1.5.0",
      "model_name": "ProgressStyleModel",
      "state": {
       "_model_module": "@jupyter-widgets/controls",
       "_model_module_version": "1.5.0",
       "_model_name": "ProgressStyleModel",
       "_view_count": null,
       "_view_module": "@jupyter-widgets/base",
       "_view_module_version": "1.2.0",
       "_view_name": "StyleView",
       "bar_color": null,
       "description_width": ""
      }
     },
     "8c831b6d12944ca1bc3ed6999d6b96dd": {
      "model_module": "@jupyter-widgets/controls",
      "model_module_version": "1.5.0",
      "model_name": "HTMLModel",
      "state": {
       "_dom_classes": [],
       "_model_module": "@jupyter-widgets/controls",
       "_model_module_version": "1.5.0",
       "_model_name": "HTMLModel",
       "_view_count": null,
       "_view_module": "@jupyter-widgets/controls",
       "_view_module_version": "1.5.0",
       "_view_name": "HTMLView",
       "description": "",
       "description_tooltip": null,
       "layout": "IPY_MODEL_7c98d5a815874c59b081053b86bc5682",
       "placeholder": "​",
       "style": "IPY_MODEL_2b4ba685ffb643acbc4c18634be89b5d",
       "value": " 84.0/84.0 [00:00&lt;00:00, 1.31kB/s]"
      }
     },
     "8e2516001c6b4ae4bc49a1b3779014dd": {
      "model_module": "@jupyter-widgets/base",
      "model_module_version": "1.2.0",
      "model_name": "LayoutModel",
      "state": {
       "_model_module": "@jupyter-widgets/base",
       "_model_module_version": "1.2.0",
       "_model_name": "LayoutModel",
       "_view_count": null,
       "_view_module": "@jupyter-widgets/base",
       "_view_module_version": "1.2.0",
       "_view_name": "LayoutView",
       "align_content": null,
       "align_items": null,
       "align_self": null,
       "border": null,
       "bottom": null,
       "display": null,
       "flex": null,
       "flex_flow": null,
       "grid_area": null,
       "grid_auto_columns": null,
       "grid_auto_flow": null,
       "grid_auto_rows": null,
       "grid_column": null,
       "grid_gap": null,
       "grid_row": null,
       "grid_template_areas": null,
       "grid_template_columns": null,
       "grid_template_rows": null,
       "height": null,
       "justify_content": null,
       "justify_items": null,
       "left": null,
       "margin": null,
       "max_height": null,
       "max_width": null,
       "min_height": null,
       "min_width": null,
       "object_fit": null,
       "object_position": null,
       "order": null,
       "overflow": null,
       "overflow_x": null,
       "overflow_y": null,
       "padding": null,
       "right": null,
       "top": null,
       "visibility": null,
       "width": null
      }
     },
     "8fd56a973e904d1196b5d65d39ddc5e3": {
      "model_module": "@jupyter-widgets/controls",
      "model_module_version": "1.5.0",
      "model_name": "DescriptionStyleModel",
      "state": {
       "_model_module": "@jupyter-widgets/controls",
       "_model_module_version": "1.5.0",
       "_model_name": "DescriptionStyleModel",
       "_view_count": null,
       "_view_module": "@jupyter-widgets/base",
       "_view_module_version": "1.2.0",
       "_view_name": "StyleView",
       "description_width": ""
      }
     },
     "930c6bdab9a84dc4b8fdb90100766efd": {
      "model_module": "@jupyter-widgets/controls",
      "model_module_version": "1.5.0",
      "model_name": "HTMLModel",
      "state": {
       "_dom_classes": [],
       "_model_module": "@jupyter-widgets/controls",
       "_model_module_version": "1.5.0",
       "_model_name": "HTMLModel",
       "_view_count": null,
       "_view_module": "@jupyter-widgets/controls",
       "_view_module_version": "1.5.0",
       "_view_name": "HTMLView",
       "description": "",
       "description_tooltip": null,
       "layout": "IPY_MODEL_8e2516001c6b4ae4bc49a1b3779014dd",
       "placeholder": "​",
       "style": "IPY_MODEL_fa5b99f67b18447696ad96b2aec8da85",
       "value": "Downloading: 100%"
      }
     },
     "94e414183e03471eaef736de08cf412f": {
      "model_module": "@jupyter-widgets/controls",
      "model_module_version": "1.5.0",
      "model_name": "FloatProgressModel",
      "state": {
       "_dom_classes": [],
       "_model_module": "@jupyter-widgets/controls",
       "_model_module_version": "1.5.0",
       "_model_name": "FloatProgressModel",
       "_view_count": null,
       "_view_module": "@jupyter-widgets/controls",
       "_view_module_version": "1.5.0",
       "_view_name": "ProgressView",
       "bar_style": "success",
       "description": "",
       "description_tooltip": null,
       "layout": "IPY_MODEL_04cd53fc823a4ca8b543656eb60561be",
       "max": 2063.0,
       "min": 0.0,
       "orientation": "horizontal",
       "style": "IPY_MODEL_01c484c465c74accad14a3e6cc927a34",
       "value": 2063.0
      }
     },
     "962ddabd9dd5413087761fe959d7cdcd": {
      "model_module": "@jupyter-widgets/controls",
      "model_module_version": "1.5.0",
      "model_name": "HBoxModel",
      "state": {
       "_dom_classes": [],
       "_model_module": "@jupyter-widgets/controls",
       "_model_module_version": "1.5.0",
       "_model_name": "HBoxModel",
       "_view_count": null,
       "_view_module": "@jupyter-widgets/controls",
       "_view_module_version": "1.5.0",
       "_view_name": "HBoxView",
       "box_style": "",
       "children": [
        "IPY_MODEL_5c9123bc16754c7db4c00a0bc4898604",
        "IPY_MODEL_94e414183e03471eaef736de08cf412f",
        "IPY_MODEL_61bae42017e0493fa5eb2e43fe85abf7"
       ],
       "layout": "IPY_MODEL_b4dd48d8d313453dbfede4fd845edab4"
      }
     },
     "9aa174598f854434b1fdf6e970f839b0": {
      "model_module": "@jupyter-widgets/controls",
      "model_module_version": "1.5.0",
      "model_name": "HTMLModel",
      "state": {
       "_dom_classes": [],
       "_model_module": "@jupyter-widgets/controls",
       "_model_module_version": "1.5.0",
       "_model_name": "HTMLModel",
       "_view_count": null,
       "_view_module": "@jupyter-widgets/controls",
       "_view_module_version": "1.5.0",
       "_view_name": "HTMLView",
       "description": "",
       "description_tooltip": null,
       "layout": "IPY_MODEL_236b3bf0327b4645b6be0f91ddc704ff",
       "placeholder": "​",
       "style": "IPY_MODEL_2cedb8feaf1b4535a6902241c069f18b",
       "value": " 696/696 [00:00&lt;00:00, 27.2kB/s]"
      }
     },
     "a3073f626d174d1d8a99c3eb3a16e7c5": {
      "model_module": "@jupyter-widgets/base",
      "model_module_version": "1.2.0",
      "model_name": "LayoutModel",
      "state": {
       "_model_module": "@jupyter-widgets/base",
       "_model_module_version": "1.2.0",
       "_model_name": "LayoutModel",
       "_view_count": null,
       "_view_module": "@jupyter-widgets/base",
       "_view_module_version": "1.2.0",
       "_view_name": "LayoutView",
       "align_content": null,
       "align_items": null,
       "align_self": null,
       "border": null,
       "bottom": null,
       "display": null,
       "flex": null,
       "flex_flow": null,
       "grid_area": null,
       "grid_auto_columns": null,
       "grid_auto_flow": null,
       "grid_auto_rows": null,
       "grid_column": null,
       "grid_gap": null,
       "grid_row": null,
       "grid_template_areas": null,
       "grid_template_columns": null,
       "grid_template_rows": null,
       "height": null,
       "justify_content": null,
       "justify_items": null,
       "left": null,
       "margin": null,
       "max_height": null,
       "max_width": null,
       "min_height": null,
       "min_width": null,
       "object_fit": null,
       "object_position": null,
       "order": null,
       "overflow": null,
       "overflow_x": null,
       "overflow_y": null,
       "padding": null,
       "right": null,
       "top": null,
       "visibility": null,
       "width": null
      }
     },
     "a708f4017ea94391bb3f375f8a22f66e": {
      "model_module": "@jupyter-widgets/base",
      "model_module_version": "1.2.0",
      "model_name": "LayoutModel",
      "state": {
       "_model_module": "@jupyter-widgets/base",
       "_model_module_version": "1.2.0",
       "_model_name": "LayoutModel",
       "_view_count": null,
       "_view_module": "@jupyter-widgets/base",
       "_view_module_version": "1.2.0",
       "_view_name": "LayoutView",
       "align_content": null,
       "align_items": null,
       "align_self": null,
       "border": null,
       "bottom": null,
       "display": null,
       "flex": null,
       "flex_flow": null,
       "grid_area": null,
       "grid_auto_columns": null,
       "grid_auto_flow": null,
       "grid_auto_rows": null,
       "grid_column": null,
       "grid_gap": null,
       "grid_row": null,
       "grid_template_areas": null,
       "grid_template_columns": null,
       "grid_template_rows": null,
       "height": null,
       "justify_content": null,
       "justify_items": null,
       "left": null,
       "margin": null,
       "max_height": null,
       "max_width": null,
       "min_height": null,
       "min_width": null,
       "object_fit": null,
       "object_position": null,
       "order": null,
       "overflow": null,
       "overflow_x": null,
       "overflow_y": null,
       "padding": null,
       "right": null,
       "top": null,
       "visibility": null,
       "width": null
      }
     },
     "ab3bae3542114a5bad13d0d5998c6280": {
      "model_module": "@jupyter-widgets/base",
      "model_module_version": "1.2.0",
      "model_name": "LayoutModel",
      "state": {
       "_model_module": "@jupyter-widgets/base",
       "_model_module_version": "1.2.0",
       "_model_name": "LayoutModel",
       "_view_count": null,
       "_view_module": "@jupyter-widgets/base",
       "_view_module_version": "1.2.0",
       "_view_name": "LayoutView",
       "align_content": null,
       "align_items": null,
       "align_self": null,
       "border": null,
       "bottom": null,
       "display": null,
       "flex": null,
       "flex_flow": null,
       "grid_area": null,
       "grid_auto_columns": null,
       "grid_auto_flow": null,
       "grid_auto_rows": null,
       "grid_column": null,
       "grid_gap": null,
       "grid_row": null,
       "grid_template_areas": null,
       "grid_template_columns": null,
       "grid_template_rows": null,
       "height": null,
       "justify_content": null,
       "justify_items": null,
       "left": null,
       "margin": null,
       "max_height": null,
       "max_width": null,
       "min_height": null,
       "min_width": null,
       "object_fit": null,
       "object_position": null,
       "order": null,
       "overflow": null,
       "overflow_x": null,
       "overflow_y": null,
       "padding": null,
       "right": null,
       "top": null,
       "visibility": null,
       "width": null
      }
     },
     "af25ef2a3f8a4d10b267097297a2c399": {
      "model_module": "@jupyter-widgets/controls",
      "model_module_version": "1.5.0",
      "model_name": "ProgressStyleModel",
      "state": {
       "_model_module": "@jupyter-widgets/controls",
       "_model_module_version": "1.5.0",
       "_model_name": "ProgressStyleModel",
       "_view_count": null,
       "_view_module": "@jupyter-widgets/base",
       "_view_module_version": "1.2.0",
       "_view_name": "StyleView",
       "bar_color": null,
       "description_width": ""
      }
     },
     "af2c48c565af478f9cdad073b04d647f": {
      "model_module": "@jupyter-widgets/base",
      "model_module_version": "1.2.0",
      "model_name": "LayoutModel",
      "state": {
       "_model_module": "@jupyter-widgets/base",
       "_model_module_version": "1.2.0",
       "_model_name": "LayoutModel",
       "_view_count": null,
       "_view_module": "@jupyter-widgets/base",
       "_view_module_version": "1.2.0",
       "_view_name": "LayoutView",
       "align_content": null,
       "align_items": null,
       "align_self": null,
       "border": null,
       "bottom": null,
       "display": null,
       "flex": null,
       "flex_flow": null,
       "grid_area": null,
       "grid_auto_columns": null,
       "grid_auto_flow": null,
       "grid_auto_rows": null,
       "grid_column": null,
       "grid_gap": null,
       "grid_row": null,
       "grid_template_areas": null,
       "grid_template_columns": null,
       "grid_template_rows": null,
       "height": null,
       "justify_content": null,
       "justify_items": null,
       "left": null,
       "margin": null,
       "max_height": null,
       "max_width": null,
       "min_height": null,
       "min_width": null,
       "object_fit": null,
       "object_position": null,
       "order": null,
       "overflow": null,
       "overflow_x": null,
       "overflow_y": null,
       "padding": null,
       "right": null,
       "top": null,
       "visibility": null,
       "width": null
      }
     },
     "b4dd48d8d313453dbfede4fd845edab4": {
      "model_module": "@jupyter-widgets/base",
      "model_module_version": "1.2.0",
      "model_name": "LayoutModel",
      "state": {
       "_model_module": "@jupyter-widgets/base",
       "_model_module_version": "1.2.0",
       "_model_name": "LayoutModel",
       "_view_count": null,
       "_view_module": "@jupyter-widgets/base",
       "_view_module_version": "1.2.0",
       "_view_name": "LayoutView",
       "align_content": null,
       "align_items": null,
       "align_self": null,
       "border": null,
       "bottom": null,
       "display": null,
       "flex": null,
       "flex_flow": null,
       "grid_area": null,
       "grid_auto_columns": null,
       "grid_auto_flow": null,
       "grid_auto_rows": null,
       "grid_column": null,
       "grid_gap": null,
       "grid_row": null,
       "grid_template_areas": null,
       "grid_template_columns": null,
       "grid_template_rows": null,
       "height": null,
       "justify_content": null,
       "justify_items": null,
       "left": null,
       "margin": null,
       "max_height": null,
       "max_width": null,
       "min_height": null,
       "min_width": null,
       "object_fit": null,
       "object_position": null,
       "order": null,
       "overflow": null,
       "overflow_x": null,
       "overflow_y": null,
       "padding": null,
       "right": null,
       "top": null,
       "visibility": null,
       "width": null
      }
     },
     "b8e3e0aafa2c44e7a06dce9bf092fb71": {
      "model_module": "@jupyter-widgets/base",
      "model_module_version": "1.2.0",
      "model_name": "LayoutModel",
      "state": {
       "_model_module": "@jupyter-widgets/base",
       "_model_module_version": "1.2.0",
       "_model_name": "LayoutModel",
       "_view_count": null,
       "_view_module": "@jupyter-widgets/base",
       "_view_module_version": "1.2.0",
       "_view_name": "LayoutView",
       "align_content": null,
       "align_items": null,
       "align_self": null,
       "border": null,
       "bottom": null,
       "display": null,
       "flex": null,
       "flex_flow": null,
       "grid_area": null,
       "grid_auto_columns": null,
       "grid_auto_flow": null,
       "grid_auto_rows": null,
       "grid_column": null,
       "grid_gap": null,
       "grid_row": null,
       "grid_template_areas": null,
       "grid_template_columns": null,
       "grid_template_rows": null,
       "height": null,
       "justify_content": null,
       "justify_items": null,
       "left": null,
       "margin": null,
       "max_height": null,
       "max_width": null,
       "min_height": null,
       "min_width": null,
       "object_fit": null,
       "object_position": null,
       "order": null,
       "overflow": null,
       "overflow_x": null,
       "overflow_y": null,
       "padding": null,
       "right": null,
       "top": null,
       "visibility": null,
       "width": null
      }
     },
     "baf7c41d6a0f4a9b8a067ee1d537f7a2": {
      "model_module": "@jupyter-widgets/controls",
      "model_module_version": "1.5.0",
      "model_name": "HTMLModel",
      "state": {
       "_dom_classes": [],
       "_model_module": "@jupyter-widgets/controls",
       "_model_module_version": "1.5.0",
       "_model_name": "HTMLModel",
       "_view_count": null,
       "_view_module": "@jupyter-widgets/controls",
       "_view_module_version": "1.5.0",
       "_view_name": "HTMLView",
       "description": "",
       "description_tooltip": null,
       "layout": "IPY_MODEL_de643fdab1f94db288112f11a82369ef",
       "placeholder": "​",
       "style": "IPY_MODEL_8fd56a973e904d1196b5d65d39ddc5e3",
       "value": " 1.18G/1.18G [00:42&lt;00:00, 30.5MB/s]"
      }
     },
     "c34bb671d7844e09b328f9731eb7efd5": {
      "model_module": "@jupyter-widgets/controls",
      "model_module_version": "1.5.0",
      "model_name": "ProgressStyleModel",
      "state": {
       "_model_module": "@jupyter-widgets/controls",
       "_model_module_version": "1.5.0",
       "_model_name": "ProgressStyleModel",
       "_view_count": null,
       "_view_module": "@jupyter-widgets/base",
       "_view_module_version": "1.2.0",
       "_view_name": "StyleView",
       "bar_color": null,
       "description_width": ""
      }
     },
     "d390f99876824024a9bd0486e346fc82": {
      "model_module": "@jupyter-widgets/controls",
      "model_module_version": "1.5.0",
      "model_name": "HTMLModel",
      "state": {
       "_dom_classes": [],
       "_model_module": "@jupyter-widgets/controls",
       "_model_module_version": "1.5.0",
       "_model_name": "HTMLModel",
       "_view_count": null,
       "_view_module": "@jupyter-widgets/controls",
       "_view_module_version": "1.5.0",
       "_view_name": "HTMLView",
       "description": "",
       "description_tooltip": null,
       "layout": "IPY_MODEL_a708f4017ea94391bb3f375f8a22f66e",
       "placeholder": "​",
       "style": "IPY_MODEL_1eddb51271f04538a3da321a2af6e08a",
       "value": "Downloading: 100%"
      }
     },
     "d58883e1ff23421ab4e31e1bbf531c3f": {
      "model_module": "@jupyter-widgets/base",
      "model_module_version": "1.2.0",
      "model_name": "LayoutModel",
      "state": {
       "_model_module": "@jupyter-widgets/base",
       "_model_module_version": "1.2.0",
       "_model_name": "LayoutModel",
       "_view_count": null,
       "_view_module": "@jupyter-widgets/base",
       "_view_module_version": "1.2.0",
       "_view_name": "LayoutView",
       "align_content": null,
       "align_items": null,
       "align_self": null,
       "border": null,
       "bottom": null,
       "display": null,
       "flex": null,
       "flex_flow": null,
       "grid_area": null,
       "grid_auto_columns": null,
       "grid_auto_flow": null,
       "grid_auto_rows": null,
       "grid_column": null,
       "grid_gap": null,
       "grid_row": null,
       "grid_template_areas": null,
       "grid_template_columns": null,
       "grid_template_rows": null,
       "height": null,
       "justify_content": null,
       "justify_items": null,
       "left": null,
       "margin": null,
       "max_height": null,
       "max_width": null,
       "min_height": null,
       "min_width": null,
       "object_fit": null,
       "object_position": null,
       "order": null,
       "overflow": null,
       "overflow_x": null,
       "overflow_y": null,
       "padding": null,
       "right": null,
       "top": null,
       "visibility": null,
       "width": null
      }
     },
     "d617b9eade0944ada766a46229f159f6": {
      "model_module": "@jupyter-widgets/base",
      "model_module_version": "1.2.0",
      "model_name": "LayoutModel",
      "state": {
       "_model_module": "@jupyter-widgets/base",
       "_model_module_version": "1.2.0",
       "_model_name": "LayoutModel",
       "_view_count": null,
       "_view_module": "@jupyter-widgets/base",
       "_view_module_version": "1.2.0",
       "_view_name": "LayoutView",
       "align_content": null,
       "align_items": null,
       "align_self": null,
       "border": null,
       "bottom": null,
       "display": null,
       "flex": null,
       "flex_flow": null,
       "grid_area": null,
       "grid_auto_columns": null,
       "grid_auto_flow": null,
       "grid_auto_rows": null,
       "grid_column": null,
       "grid_gap": null,
       "grid_row": null,
       "grid_template_areas": null,
       "grid_template_columns": null,
       "grid_template_rows": null,
       "height": null,
       "justify_content": null,
       "justify_items": null,
       "left": null,
       "margin": null,
       "max_height": null,
       "max_width": null,
       "min_height": null,
       "min_width": null,
       "object_fit": null,
       "object_position": null,
       "order": null,
       "overflow": null,
       "overflow_x": null,
       "overflow_y": null,
       "padding": null,
       "right": null,
       "top": null,
       "visibility": null,
       "width": null
      }
     },
     "d6906ec097f7480fa0be0da3a6e44238": {
      "model_module": "@jupyter-widgets/controls",
      "model_module_version": "1.5.0",
      "model_name": "DescriptionStyleModel",
      "state": {
       "_model_module": "@jupyter-widgets/controls",
       "_model_module_version": "1.5.0",
       "_model_name": "DescriptionStyleModel",
       "_view_count": null,
       "_view_module": "@jupyter-widgets/base",
       "_view_module_version": "1.2.0",
       "_view_name": "StyleView",
       "description_width": ""
      }
     },
     "d7454633ddc241c6a2b95ccef2559dee": {
      "model_module": "@jupyter-widgets/base",
      "model_module_version": "1.2.0",
      "model_name": "LayoutModel",
      "state": {
       "_model_module": "@jupyter-widgets/base",
       "_model_module_version": "1.2.0",
       "_model_name": "LayoutModel",
       "_view_count": null,
       "_view_module": "@jupyter-widgets/base",
       "_view_module_version": "1.2.0",
       "_view_name": "LayoutView",
       "align_content": null,
       "align_items": null,
       "align_self": null,
       "border": null,
       "bottom": null,
       "display": null,
       "flex": null,
       "flex_flow": null,
       "grid_area": null,
       "grid_auto_columns": null,
       "grid_auto_flow": null,
       "grid_auto_rows": null,
       "grid_column": null,
       "grid_gap": null,
       "grid_row": null,
       "grid_template_areas": null,
       "grid_template_columns": null,
       "grid_template_rows": null,
       "height": null,
       "justify_content": null,
       "justify_items": null,
       "left": null,
       "margin": null,
       "max_height": null,
       "max_width": null,
       "min_height": null,
       "min_width": null,
       "object_fit": null,
       "object_position": null,
       "order": null,
       "overflow": null,
       "overflow_x": null,
       "overflow_y": null,
       "padding": null,
       "right": null,
       "top": null,
       "visibility": null,
       "width": null
      }
     },
     "d7804c3073884948808e32356fe745f3": {
      "model_module": "@jupyter-widgets/controls",
      "model_module_version": "1.5.0",
      "model_name": "HBoxModel",
      "state": {
       "_dom_classes": [],
       "_model_module": "@jupyter-widgets/controls",
       "_model_module_version": "1.5.0",
       "_model_name": "HBoxModel",
       "_view_count": null,
       "_view_module": "@jupyter-widgets/controls",
       "_view_module_version": "1.5.0",
       "_view_name": "HBoxView",
       "box_style": "",
       "children": [
        "IPY_MODEL_930c6bdab9a84dc4b8fdb90100766efd",
        "IPY_MODEL_3d94db5c57dc41f2844330fb1d84ae9e",
        "IPY_MODEL_baf7c41d6a0f4a9b8a067ee1d537f7a2"
       ],
       "layout": "IPY_MODEL_d617b9eade0944ada766a46229f159f6"
      }
     },
     "d85f3dc3b6454afe8a82a68be4df6fd9": {
      "model_module": "@jupyter-widgets/controls",
      "model_module_version": "1.5.0",
      "model_name": "HTMLModel",
      "state": {
       "_dom_classes": [],
       "_model_module": "@jupyter-widgets/controls",
       "_model_module_version": "1.5.0",
       "_model_name": "HTMLModel",
       "_view_count": null,
       "_view_module": "@jupyter-widgets/controls",
       "_view_module_version": "1.5.0",
       "_view_name": "HTMLView",
       "description": "",
       "description_tooltip": null,
       "layout": "IPY_MODEL_a3073f626d174d1d8a99c3eb3a16e7c5",
       "placeholder": "​",
       "style": "IPY_MODEL_fdbe14f814c549599ede11498836e2c0",
       "value": " 404/404 [00:00&lt;00:00, 15.2kB/s]"
      }
     },
     "de21ab62a64a4ab3bd90e96649dc0004": {
      "model_module": "@jupyter-widgets/base",
      "model_module_version": "1.2.0",
      "model_name": "LayoutModel",
      "state": {
       "_model_module": "@jupyter-widgets/base",
       "_model_module_version": "1.2.0",
       "_model_name": "LayoutModel",
       "_view_count": null,
       "_view_module": "@jupyter-widgets/base",
       "_view_module_version": "1.2.0",
       "_view_name": "LayoutView",
       "align_content": null,
       "align_items": null,
       "align_self": null,
       "border": null,
       "bottom": null,
       "display": null,
       "flex": null,
       "flex_flow": null,
       "grid_area": null,
       "grid_auto_columns": null,
       "grid_auto_flow": null,
       "grid_auto_rows": null,
       "grid_column": null,
       "grid_gap": null,
       "grid_row": null,
       "grid_template_areas": null,
       "grid_template_columns": null,
       "grid_template_rows": null,
       "height": null,
       "justify_content": null,
       "justify_items": null,
       "left": null,
       "margin": null,
       "max_height": null,
       "max_width": null,
       "min_height": null,
       "min_width": null,
       "object_fit": null,
       "object_position": null,
       "order": null,
       "overflow": null,
       "overflow_x": null,
       "overflow_y": null,
       "padding": null,
       "right": null,
       "top": null,
       "visibility": null,
       "width": null
      }
     },
     "de643fdab1f94db288112f11a82369ef": {
      "model_module": "@jupyter-widgets/base",
      "model_module_version": "1.2.0",
      "model_name": "LayoutModel",
      "state": {
       "_model_module": "@jupyter-widgets/base",
       "_model_module_version": "1.2.0",
       "_model_name": "LayoutModel",
       "_view_count": null,
       "_view_module": "@jupyter-widgets/base",
       "_view_module_version": "1.2.0",
       "_view_name": "LayoutView",
       "align_content": null,
       "align_items": null,
       "align_self": null,
       "border": null,
       "bottom": null,
       "display": null,
       "flex": null,
       "flex_flow": null,
       "grid_area": null,
       "grid_auto_columns": null,
       "grid_auto_flow": null,
       "grid_auto_rows": null,
       "grid_column": null,
       "grid_gap": null,
       "grid_row": null,
       "grid_template_areas": null,
       "grid_template_columns": null,
       "grid_template_rows": null,
       "height": null,
       "justify_content": null,
       "justify_items": null,
       "left": null,
       "margin": null,
       "max_height": null,
       "max_width": null,
       "min_height": null,
       "min_width": null,
       "object_fit": null,
       "object_position": null,
       "order": null,
       "overflow": null,
       "overflow_x": null,
       "overflow_y": null,
       "padding": null,
       "right": null,
       "top": null,
       "visibility": null,
       "width": null
      }
     },
     "de8728e18121424fa4bb2424676c25e8": {
      "model_module": "@jupyter-widgets/controls",
      "model_module_version": "1.5.0",
      "model_name": "FloatProgressModel",
      "state": {
       "_dom_classes": [],
       "_model_module": "@jupyter-widgets/controls",
       "_model_module_version": "1.5.0",
       "_model_name": "FloatProgressModel",
       "_view_count": null,
       "_view_module": "@jupyter-widgets/controls",
       "_view_module_version": "1.5.0",
       "_view_name": "ProgressView",
       "bar_style": "success",
       "description": "",
       "description_tooltip": null,
       "layout": "IPY_MODEL_b8e3e0aafa2c44e7a06dce9bf092fb71",
       "max": 262.0,
       "min": 0.0,
       "orientation": "horizontal",
       "style": "IPY_MODEL_c34bb671d7844e09b328f9731eb7efd5",
       "value": 262.0
      }
     },
     "e5d3e08282eb419fa7fd9ccba9dcb81c": {
      "model_module": "@jupyter-widgets/base",
      "model_module_version": "1.2.0",
      "model_name": "LayoutModel",
      "state": {
       "_model_module": "@jupyter-widgets/base",
       "_model_module_version": "1.2.0",
       "_model_name": "LayoutModel",
       "_view_count": null,
       "_view_module": "@jupyter-widgets/base",
       "_view_module_version": "1.2.0",
       "_view_name": "LayoutView",
       "align_content": null,
       "align_items": null,
       "align_self": null,
       "border": null,
       "bottom": null,
       "display": null,
       "flex": null,
       "flex_flow": null,
       "grid_area": null,
       "grid_auto_columns": null,
       "grid_auto_flow": null,
       "grid_auto_rows": null,
       "grid_column": null,
       "grid_gap": null,
       "grid_row": null,
       "grid_template_areas": null,
       "grid_template_columns": null,
       "grid_template_rows": null,
       "height": null,
       "justify_content": null,
       "justify_items": null,
       "left": null,
       "margin": null,
       "max_height": null,
       "max_width": null,
       "min_height": null,
       "min_width": null,
       "object_fit": null,
       "object_position": null,
       "order": null,
       "overflow": null,
       "overflow_x": null,
       "overflow_y": null,
       "padding": null,
       "right": null,
       "top": null,
       "visibility": null,
       "width": null
      }
     },
     "f7de9cb8a5de47c38ce13fcdb614cb06": {
      "model_module": "@jupyter-widgets/controls",
      "model_module_version": "1.5.0",
      "model_name": "HBoxModel",
      "state": {
       "_dom_classes": [],
       "_model_module": "@jupyter-widgets/controls",
       "_model_module_version": "1.5.0",
       "_model_name": "HBoxModel",
       "_view_count": null,
       "_view_module": "@jupyter-widgets/controls",
       "_view_module_version": "1.5.0",
       "_view_name": "HBoxView",
       "box_style": "",
       "children": [
        "IPY_MODEL_65f06a7e0eed483f98e08dc9dd55e1dd",
        "IPY_MODEL_14f0a30767944e47bfbf9aec56148fe9",
        "IPY_MODEL_9aa174598f854434b1fdf6e970f839b0"
       ],
       "layout": "IPY_MODEL_54f11a305c1845da8db90e05f1f3766d"
      }
     },
     "fa5b99f67b18447696ad96b2aec8da85": {
      "model_module": "@jupyter-widgets/controls",
      "model_module_version": "1.5.0",
      "model_name": "DescriptionStyleModel",
      "state": {
       "_model_module": "@jupyter-widgets/controls",
       "_model_module_version": "1.5.0",
       "_model_name": "DescriptionStyleModel",
       "_view_count": null,
       "_view_module": "@jupyter-widgets/base",
       "_view_module_version": "1.2.0",
       "_view_name": "StyleView",
       "description_width": ""
      }
     },
     "fdbe14f814c549599ede11498836e2c0": {
      "model_module": "@jupyter-widgets/controls",
      "model_module_version": "1.5.0",
      "model_name": "DescriptionStyleModel",
      "state": {
       "_model_module": "@jupyter-widgets/controls",
       "_model_module_version": "1.5.0",
       "_model_name": "DescriptionStyleModel",
       "_view_count": null,
       "_view_module": "@jupyter-widgets/base",
       "_view_module_version": "1.2.0",
       "_view_name": "StyleView",
       "description_width": ""
      }
     },
     "ff672e8f85dc4c9c829ec353eda4fafa": {
      "model_module": "@jupyter-widgets/base",
      "model_module_version": "1.2.0",
      "model_name": "LayoutModel",
      "state": {
       "_model_module": "@jupyter-widgets/base",
       "_model_module_version": "1.2.0",
       "_model_name": "LayoutModel",
       "_view_count": null,
       "_view_module": "@jupyter-widgets/base",
       "_view_module_version": "1.2.0",
       "_view_name": "LayoutView",
       "align_content": null,
       "align_items": null,
       "align_self": null,
       "border": null,
       "bottom": null,
       "display": null,
       "flex": null,
       "flex_flow": null,
       "grid_area": null,
       "grid_auto_columns": null,
       "grid_auto_flow": null,
       "grid_auto_rows": null,
       "grid_column": null,
       "grid_gap": null,
       "grid_row": null,
       "grid_template_areas": null,
       "grid_template_columns": null,
       "grid_template_rows": null,
       "height": null,
       "justify_content": null,
       "justify_items": null,
       "left": null,
       "margin": null,
       "max_height": null,
       "max_width": null,
       "min_height": null,
       "min_width": null,
       "object_fit": null,
       "object_position": null,
       "order": null,
       "overflow": null,
       "overflow_x": null,
       "overflow_y": null,
       "padding": null,
       "right": null,
       "top": null,
       "visibility": null,
       "width": null
      }
     }
    },
    "version_major": 2,
    "version_minor": 0
   }
  }
 },
 "nbformat": 4,
 "nbformat_minor": 5
}
